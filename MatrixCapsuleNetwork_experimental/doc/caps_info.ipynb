{
 "cells": [
  {
   "cell_type": "markdown",
   "metadata": {},
   "source": [
    "# CAPSNET Monitor"
   ]
  },
  {
   "cell_type": "code",
   "execution_count": 1,
   "metadata": {},
   "outputs": [
    {
     "data": {
      "text/html": [
       "<script>\n",
       "code_show=true; \n",
       "function code_toggle() {\n",
       " if (code_show){\n",
       " $('div.input').hide();\n",
       " } else {\n",
       " $('div.input').show();\n",
       " }\n",
       " code_show = !code_show\n",
       "} \n",
       "$( document ).ready(code_toggle);\n",
       "</script>\n",
       "<form action=\"javascript:code_toggle()\"><input type=\"submit\" value=\"Click here to toggle on/off the raw code.\"></form>"
      ],
      "text/plain": [
       "<IPython.core.display.HTML object>"
      ]
     },
     "execution_count": 1,
     "metadata": {},
     "output_type": "execute_result"
    }
   ],
   "source": [
    "from IPython.display import HTML\n",
    "\n",
    "HTML('''<script>\n",
    "code_show=true; \n",
    "function code_toggle() {\n",
    " if (code_show){\n",
    " $('div.input').hide();\n",
    " } else {\n",
    " $('div.input').show();\n",
    " }\n",
    " code_show = !code_show\n",
    "} \n",
    "$( document ).ready(code_toggle);\n",
    "</script>\n",
    "<form action=\"javascript:code_toggle()\"><input type=\"submit\" value=\"Click here to toggle on/off the raw code.\"></form>''')\n"
   ]
  },
  {
   "cell_type": "code",
   "execution_count": 2,
   "metadata": {
    "scrolled": true
   },
   "outputs": [
    {
     "data": {
      "text/html": [
       "<style>\n",
       ".output_wrapper button.btn.btn-default,\n",
       ".output_wrapper .ui-dialog-titlebar {\n",
       "  display: none;\n",
       "}\n",
       "</style>"
      ],
      "text/plain": [
       "<IPython.core.display.HTML object>"
      ]
     },
     "execution_count": 2,
     "metadata": {},
     "output_type": "execute_result"
    }
   ],
   "source": [
    "HTML(\n",
    "'''<style>\n",
    ".output_wrapper button.btn.btn-default,\n",
    ".output_wrapper .ui-dialog-titlebar {\n",
    "  display: none;\n",
    "}\n",
    "</style>''')\n"
   ]
  },
  {
   "cell_type": "code",
   "execution_count": 3,
   "metadata": {
    "scrolled": false
   },
   "outputs": [],
   "source": [
    "%matplotlib notebook\n",
    "\n",
    "import os\n",
    "#os.chdir('/home/jens/eclipse-workspace/MatrixCaps/Matrix-Capsule-Network/')\n",
    "\n",
    "import sys\n",
    "import pyrr\n",
    "#sys.path.append('../model')\n",
    "sys.path.append('..')\n",
    "import torch\n",
    "from torch.autograd import Variable\n",
    "from torchvision import datasets\n",
    "from torchvision import transforms\n",
    "from torchvision import utils\n",
    "import torch.nn.functional as F\n",
    "import model.capsules as mcaps\n",
    "import model.util as util\n",
    "import matplotlib\n",
    "import matplotlib.pyplot as plt\n",
    "import numpy as np\n",
    "import time\n",
    "import pyrr\n",
    "\n",
    "import ipywidgets as widgets\n",
    "from ipywidgets import FloatSlider, HBox, VBox, Layout\n",
    "matplotlib.pyplot.ioff()\n",
    "\n",
    "import glob\n",
    "from IPython.display import display, Markdown, Image\n",
    "\n",
    "import PIL.Image\n",
    "from io import BytesIO\n"
   ]
  },
  {
   "cell_type": "markdown",
   "metadata": {},
   "source": [
    "## Matrix Capsules LOSS plot"
   ]
  },
  {
   "cell_type": "code",
   "execution_count": 4,
   "metadata": {},
   "outputs": [
    {
     "data": {
      "application/javascript": [
       "/* Put everything inside the global mpl namespace */\n",
       "window.mpl = {};\n",
       "\n",
       "\n",
       "mpl.get_websocket_type = function() {\n",
       "    if (typeof(WebSocket) !== 'undefined') {\n",
       "        return WebSocket;\n",
       "    } else if (typeof(MozWebSocket) !== 'undefined') {\n",
       "        return MozWebSocket;\n",
       "    } else {\n",
       "        alert('Your browser does not have WebSocket support.' +\n",
       "              'Please try Chrome, Safari or Firefox ≥ 6. ' +\n",
       "              'Firefox 4 and 5 are also supported but you ' +\n",
       "              'have to enable WebSockets in about:config.');\n",
       "    };\n",
       "}\n",
       "\n",
       "mpl.figure = function(figure_id, websocket, ondownload, parent_element) {\n",
       "    this.id = figure_id;\n",
       "\n",
       "    this.ws = websocket;\n",
       "\n",
       "    this.supports_binary = (this.ws.binaryType != undefined);\n",
       "\n",
       "    if (!this.supports_binary) {\n",
       "        var warnings = document.getElementById(\"mpl-warnings\");\n",
       "        if (warnings) {\n",
       "            warnings.style.display = 'block';\n",
       "            warnings.textContent = (\n",
       "                \"This browser does not support binary websocket messages. \" +\n",
       "                    \"Performance may be slow.\");\n",
       "        }\n",
       "    }\n",
       "\n",
       "    this.imageObj = new Image();\n",
       "\n",
       "    this.context = undefined;\n",
       "    this.message = undefined;\n",
       "    this.canvas = undefined;\n",
       "    this.rubberband_canvas = undefined;\n",
       "    this.rubberband_context = undefined;\n",
       "    this.format_dropdown = undefined;\n",
       "\n",
       "    this.image_mode = 'full';\n",
       "\n",
       "    this.root = $('<div/>');\n",
       "    this._root_extra_style(this.root)\n",
       "    this.root.attr('style', 'display: inline-block');\n",
       "\n",
       "    $(parent_element).append(this.root);\n",
       "\n",
       "    this._init_header(this);\n",
       "    this._init_canvas(this);\n",
       "    this._init_toolbar(this);\n",
       "\n",
       "    var fig = this;\n",
       "\n",
       "    this.waiting = false;\n",
       "\n",
       "    this.ws.onopen =  function () {\n",
       "            fig.send_message(\"supports_binary\", {value: fig.supports_binary});\n",
       "            fig.send_message(\"send_image_mode\", {});\n",
       "            if (mpl.ratio != 1) {\n",
       "                fig.send_message(\"set_dpi_ratio\", {'dpi_ratio': mpl.ratio});\n",
       "            }\n",
       "            fig.send_message(\"refresh\", {});\n",
       "        }\n",
       "\n",
       "    this.imageObj.onload = function() {\n",
       "            if (fig.image_mode == 'full') {\n",
       "                // Full images could contain transparency (where diff images\n",
       "                // almost always do), so we need to clear the canvas so that\n",
       "                // there is no ghosting.\n",
       "                fig.context.clearRect(0, 0, fig.canvas.width, fig.canvas.height);\n",
       "            }\n",
       "            fig.context.drawImage(fig.imageObj, 0, 0);\n",
       "        };\n",
       "\n",
       "    this.imageObj.onunload = function() {\n",
       "        fig.ws.close();\n",
       "    }\n",
       "\n",
       "    this.ws.onmessage = this._make_on_message_function(this);\n",
       "\n",
       "    this.ondownload = ondownload;\n",
       "}\n",
       "\n",
       "mpl.figure.prototype._init_header = function() {\n",
       "    var titlebar = $(\n",
       "        '<div class=\"ui-dialog-titlebar ui-widget-header ui-corner-all ' +\n",
       "        'ui-helper-clearfix\"/>');\n",
       "    var titletext = $(\n",
       "        '<div class=\"ui-dialog-title\" style=\"width: 100%; ' +\n",
       "        'text-align: center; padding: 3px;\"/>');\n",
       "    titlebar.append(titletext)\n",
       "    this.root.append(titlebar);\n",
       "    this.header = titletext[0];\n",
       "}\n",
       "\n",
       "\n",
       "\n",
       "mpl.figure.prototype._canvas_extra_style = function(canvas_div) {\n",
       "\n",
       "}\n",
       "\n",
       "\n",
       "mpl.figure.prototype._root_extra_style = function(canvas_div) {\n",
       "\n",
       "}\n",
       "\n",
       "mpl.figure.prototype._init_canvas = function() {\n",
       "    var fig = this;\n",
       "\n",
       "    var canvas_div = $('<div/>');\n",
       "\n",
       "    canvas_div.attr('style', 'position: relative; clear: both; outline: 0');\n",
       "\n",
       "    function canvas_keyboard_event(event) {\n",
       "        return fig.key_event(event, event['data']);\n",
       "    }\n",
       "\n",
       "    canvas_div.keydown('key_press', canvas_keyboard_event);\n",
       "    canvas_div.keyup('key_release', canvas_keyboard_event);\n",
       "    this.canvas_div = canvas_div\n",
       "    this._canvas_extra_style(canvas_div)\n",
       "    this.root.append(canvas_div);\n",
       "\n",
       "    var canvas = $('<canvas/>');\n",
       "    canvas.addClass('mpl-canvas');\n",
       "    canvas.attr('style', \"left: 0; top: 0; z-index: 0; outline: 0\")\n",
       "\n",
       "    this.canvas = canvas[0];\n",
       "    this.context = canvas[0].getContext(\"2d\");\n",
       "\n",
       "    var backingStore = this.context.backingStorePixelRatio ||\n",
       "\tthis.context.webkitBackingStorePixelRatio ||\n",
       "\tthis.context.mozBackingStorePixelRatio ||\n",
       "\tthis.context.msBackingStorePixelRatio ||\n",
       "\tthis.context.oBackingStorePixelRatio ||\n",
       "\tthis.context.backingStorePixelRatio || 1;\n",
       "\n",
       "    mpl.ratio = (window.devicePixelRatio || 1) / backingStore;\n",
       "\n",
       "    var rubberband = $('<canvas/>');\n",
       "    rubberband.attr('style', \"position: absolute; left: 0; top: 0; z-index: 1;\")\n",
       "\n",
       "    var pass_mouse_events = true;\n",
       "\n",
       "    canvas_div.resizable({\n",
       "        start: function(event, ui) {\n",
       "            pass_mouse_events = false;\n",
       "        },\n",
       "        resize: function(event, ui) {\n",
       "            fig.request_resize(ui.size.width, ui.size.height);\n",
       "        },\n",
       "        stop: function(event, ui) {\n",
       "            pass_mouse_events = true;\n",
       "            fig.request_resize(ui.size.width, ui.size.height);\n",
       "        },\n",
       "    });\n",
       "\n",
       "    function mouse_event_fn(event) {\n",
       "        if (pass_mouse_events)\n",
       "            return fig.mouse_event(event, event['data']);\n",
       "    }\n",
       "\n",
       "    rubberband.mousedown('button_press', mouse_event_fn);\n",
       "    rubberband.mouseup('button_release', mouse_event_fn);\n",
       "    // Throttle sequential mouse events to 1 every 20ms.\n",
       "    rubberband.mousemove('motion_notify', mouse_event_fn);\n",
       "\n",
       "    rubberband.mouseenter('figure_enter', mouse_event_fn);\n",
       "    rubberband.mouseleave('figure_leave', mouse_event_fn);\n",
       "\n",
       "    canvas_div.on(\"wheel\", function (event) {\n",
       "        event = event.originalEvent;\n",
       "        event['data'] = 'scroll'\n",
       "        if (event.deltaY < 0) {\n",
       "            event.step = 1;\n",
       "        } else {\n",
       "            event.step = -1;\n",
       "        }\n",
       "        mouse_event_fn(event);\n",
       "    });\n",
       "\n",
       "    canvas_div.append(canvas);\n",
       "    canvas_div.append(rubberband);\n",
       "\n",
       "    this.rubberband = rubberband;\n",
       "    this.rubberband_canvas = rubberband[0];\n",
       "    this.rubberband_context = rubberband[0].getContext(\"2d\");\n",
       "    this.rubberband_context.strokeStyle = \"#000000\";\n",
       "\n",
       "    this._resize_canvas = function(width, height) {\n",
       "        // Keep the size of the canvas, canvas container, and rubber band\n",
       "        // canvas in synch.\n",
       "        canvas_div.css('width', width)\n",
       "        canvas_div.css('height', height)\n",
       "\n",
       "        canvas.attr('width', width * mpl.ratio);\n",
       "        canvas.attr('height', height * mpl.ratio);\n",
       "        canvas.attr('style', 'width: ' + width + 'px; height: ' + height + 'px;');\n",
       "\n",
       "        rubberband.attr('width', width);\n",
       "        rubberband.attr('height', height);\n",
       "    }\n",
       "\n",
       "    // Set the figure to an initial 600x600px, this will subsequently be updated\n",
       "    // upon first draw.\n",
       "    this._resize_canvas(600, 600);\n",
       "\n",
       "    // Disable right mouse context menu.\n",
       "    $(this.rubberband_canvas).bind(\"contextmenu\",function(e){\n",
       "        return false;\n",
       "    });\n",
       "\n",
       "    function set_focus () {\n",
       "        canvas.focus();\n",
       "        canvas_div.focus();\n",
       "    }\n",
       "\n",
       "    window.setTimeout(set_focus, 100);\n",
       "}\n",
       "\n",
       "mpl.figure.prototype._init_toolbar = function() {\n",
       "    var fig = this;\n",
       "\n",
       "    var nav_element = $('<div/>')\n",
       "    nav_element.attr('style', 'width: 100%');\n",
       "    this.root.append(nav_element);\n",
       "\n",
       "    // Define a callback function for later on.\n",
       "    function toolbar_event(event) {\n",
       "        return fig.toolbar_button_onclick(event['data']);\n",
       "    }\n",
       "    function toolbar_mouse_event(event) {\n",
       "        return fig.toolbar_button_onmouseover(event['data']);\n",
       "    }\n",
       "\n",
       "    for(var toolbar_ind in mpl.toolbar_items) {\n",
       "        var name = mpl.toolbar_items[toolbar_ind][0];\n",
       "        var tooltip = mpl.toolbar_items[toolbar_ind][1];\n",
       "        var image = mpl.toolbar_items[toolbar_ind][2];\n",
       "        var method_name = mpl.toolbar_items[toolbar_ind][3];\n",
       "\n",
       "        if (!name) {\n",
       "            // put a spacer in here.\n",
       "            continue;\n",
       "        }\n",
       "        var button = $('<button/>');\n",
       "        button.addClass('ui-button ui-widget ui-state-default ui-corner-all ' +\n",
       "                        'ui-button-icon-only');\n",
       "        button.attr('role', 'button');\n",
       "        button.attr('aria-disabled', 'false');\n",
       "        button.click(method_name, toolbar_event);\n",
       "        button.mouseover(tooltip, toolbar_mouse_event);\n",
       "\n",
       "        var icon_img = $('<span/>');\n",
       "        icon_img.addClass('ui-button-icon-primary ui-icon');\n",
       "        icon_img.addClass(image);\n",
       "        icon_img.addClass('ui-corner-all');\n",
       "\n",
       "        var tooltip_span = $('<span/>');\n",
       "        tooltip_span.addClass('ui-button-text');\n",
       "        tooltip_span.html(tooltip);\n",
       "\n",
       "        button.append(icon_img);\n",
       "        button.append(tooltip_span);\n",
       "\n",
       "        nav_element.append(button);\n",
       "    }\n",
       "\n",
       "    var fmt_picker_span = $('<span/>');\n",
       "\n",
       "    var fmt_picker = $('<select/>');\n",
       "    fmt_picker.addClass('mpl-toolbar-option ui-widget ui-widget-content');\n",
       "    fmt_picker_span.append(fmt_picker);\n",
       "    nav_element.append(fmt_picker_span);\n",
       "    this.format_dropdown = fmt_picker[0];\n",
       "\n",
       "    for (var ind in mpl.extensions) {\n",
       "        var fmt = mpl.extensions[ind];\n",
       "        var option = $(\n",
       "            '<option/>', {selected: fmt === mpl.default_extension}).html(fmt);\n",
       "        fmt_picker.append(option)\n",
       "    }\n",
       "\n",
       "    // Add hover states to the ui-buttons\n",
       "    $( \".ui-button\" ).hover(\n",
       "        function() { $(this).addClass(\"ui-state-hover\");},\n",
       "        function() { $(this).removeClass(\"ui-state-hover\");}\n",
       "    );\n",
       "\n",
       "    var status_bar = $('<span class=\"mpl-message\"/>');\n",
       "    nav_element.append(status_bar);\n",
       "    this.message = status_bar[0];\n",
       "}\n",
       "\n",
       "mpl.figure.prototype.request_resize = function(x_pixels, y_pixels) {\n",
       "    // Request matplotlib to resize the figure. Matplotlib will then trigger a resize in the client,\n",
       "    // which will in turn request a refresh of the image.\n",
       "    this.send_message('resize', {'width': x_pixels, 'height': y_pixels});\n",
       "}\n",
       "\n",
       "mpl.figure.prototype.send_message = function(type, properties) {\n",
       "    properties['type'] = type;\n",
       "    properties['figure_id'] = this.id;\n",
       "    this.ws.send(JSON.stringify(properties));\n",
       "}\n",
       "\n",
       "mpl.figure.prototype.send_draw_message = function() {\n",
       "    if (!this.waiting) {\n",
       "        this.waiting = true;\n",
       "        this.ws.send(JSON.stringify({type: \"draw\", figure_id: this.id}));\n",
       "    }\n",
       "}\n",
       "\n",
       "\n",
       "mpl.figure.prototype.handle_save = function(fig, msg) {\n",
       "    var format_dropdown = fig.format_dropdown;\n",
       "    var format = format_dropdown.options[format_dropdown.selectedIndex].value;\n",
       "    fig.ondownload(fig, format);\n",
       "}\n",
       "\n",
       "\n",
       "mpl.figure.prototype.handle_resize = function(fig, msg) {\n",
       "    var size = msg['size'];\n",
       "    if (size[0] != fig.canvas.width || size[1] != fig.canvas.height) {\n",
       "        fig._resize_canvas(size[0], size[1]);\n",
       "        fig.send_message(\"refresh\", {});\n",
       "    };\n",
       "}\n",
       "\n",
       "mpl.figure.prototype.handle_rubberband = function(fig, msg) {\n",
       "    var x0 = msg['x0'] / mpl.ratio;\n",
       "    var y0 = (fig.canvas.height - msg['y0']) / mpl.ratio;\n",
       "    var x1 = msg['x1'] / mpl.ratio;\n",
       "    var y1 = (fig.canvas.height - msg['y1']) / mpl.ratio;\n",
       "    x0 = Math.floor(x0) + 0.5;\n",
       "    y0 = Math.floor(y0) + 0.5;\n",
       "    x1 = Math.floor(x1) + 0.5;\n",
       "    y1 = Math.floor(y1) + 0.5;\n",
       "    var min_x = Math.min(x0, x1);\n",
       "    var min_y = Math.min(y0, y1);\n",
       "    var width = Math.abs(x1 - x0);\n",
       "    var height = Math.abs(y1 - y0);\n",
       "\n",
       "    fig.rubberband_context.clearRect(\n",
       "        0, 0, fig.canvas.width, fig.canvas.height);\n",
       "\n",
       "    fig.rubberband_context.strokeRect(min_x, min_y, width, height);\n",
       "}\n",
       "\n",
       "mpl.figure.prototype.handle_figure_label = function(fig, msg) {\n",
       "    // Updates the figure title.\n",
       "    fig.header.textContent = msg['label'];\n",
       "}\n",
       "\n",
       "mpl.figure.prototype.handle_cursor = function(fig, msg) {\n",
       "    var cursor = msg['cursor'];\n",
       "    switch(cursor)\n",
       "    {\n",
       "    case 0:\n",
       "        cursor = 'pointer';\n",
       "        break;\n",
       "    case 1:\n",
       "        cursor = 'default';\n",
       "        break;\n",
       "    case 2:\n",
       "        cursor = 'crosshair';\n",
       "        break;\n",
       "    case 3:\n",
       "        cursor = 'move';\n",
       "        break;\n",
       "    }\n",
       "    fig.rubberband_canvas.style.cursor = cursor;\n",
       "}\n",
       "\n",
       "mpl.figure.prototype.handle_message = function(fig, msg) {\n",
       "    fig.message.textContent = msg['message'];\n",
       "}\n",
       "\n",
       "mpl.figure.prototype.handle_draw = function(fig, msg) {\n",
       "    // Request the server to send over a new figure.\n",
       "    fig.send_draw_message();\n",
       "}\n",
       "\n",
       "mpl.figure.prototype.handle_image_mode = function(fig, msg) {\n",
       "    fig.image_mode = msg['mode'];\n",
       "}\n",
       "\n",
       "mpl.figure.prototype.updated_canvas_event = function() {\n",
       "    // Called whenever the canvas gets updated.\n",
       "    this.send_message(\"ack\", {});\n",
       "}\n",
       "\n",
       "// A function to construct a web socket function for onmessage handling.\n",
       "// Called in the figure constructor.\n",
       "mpl.figure.prototype._make_on_message_function = function(fig) {\n",
       "    return function socket_on_message(evt) {\n",
       "        if (evt.data instanceof Blob) {\n",
       "            /* FIXME: We get \"Resource interpreted as Image but\n",
       "             * transferred with MIME type text/plain:\" errors on\n",
       "             * Chrome.  But how to set the MIME type?  It doesn't seem\n",
       "             * to be part of the websocket stream */\n",
       "            evt.data.type = \"image/png\";\n",
       "\n",
       "            /* Free the memory for the previous frames */\n",
       "            if (fig.imageObj.src) {\n",
       "                (window.URL || window.webkitURL).revokeObjectURL(\n",
       "                    fig.imageObj.src);\n",
       "            }\n",
       "\n",
       "            fig.imageObj.src = (window.URL || window.webkitURL).createObjectURL(\n",
       "                evt.data);\n",
       "            fig.updated_canvas_event();\n",
       "            fig.waiting = false;\n",
       "            return;\n",
       "        }\n",
       "        else if (typeof evt.data === 'string' && evt.data.slice(0, 21) == \"data:image/png;base64\") {\n",
       "            fig.imageObj.src = evt.data;\n",
       "            fig.updated_canvas_event();\n",
       "            fig.waiting = false;\n",
       "            return;\n",
       "        }\n",
       "\n",
       "        var msg = JSON.parse(evt.data);\n",
       "        var msg_type = msg['type'];\n",
       "\n",
       "        // Call the  \"handle_{type}\" callback, which takes\n",
       "        // the figure and JSON message as its only arguments.\n",
       "        try {\n",
       "            var callback = fig[\"handle_\" + msg_type];\n",
       "        } catch (e) {\n",
       "            console.log(\"No handler for the '\" + msg_type + \"' message type: \", msg);\n",
       "            return;\n",
       "        }\n",
       "\n",
       "        if (callback) {\n",
       "            try {\n",
       "                // console.log(\"Handling '\" + msg_type + \"' message: \", msg);\n",
       "                callback(fig, msg);\n",
       "            } catch (e) {\n",
       "                console.log(\"Exception inside the 'handler_\" + msg_type + \"' callback:\", e, e.stack, msg);\n",
       "            }\n",
       "        }\n",
       "    };\n",
       "}\n",
       "\n",
       "// from http://stackoverflow.com/questions/1114465/getting-mouse-location-in-canvas\n",
       "mpl.findpos = function(e) {\n",
       "    //this section is from http://www.quirksmode.org/js/events_properties.html\n",
       "    var targ;\n",
       "    if (!e)\n",
       "        e = window.event;\n",
       "    if (e.target)\n",
       "        targ = e.target;\n",
       "    else if (e.srcElement)\n",
       "        targ = e.srcElement;\n",
       "    if (targ.nodeType == 3) // defeat Safari bug\n",
       "        targ = targ.parentNode;\n",
       "\n",
       "    // jQuery normalizes the pageX and pageY\n",
       "    // pageX,Y are the mouse positions relative to the document\n",
       "    // offset() returns the position of the element relative to the document\n",
       "    var x = e.pageX - $(targ).offset().left;\n",
       "    var y = e.pageY - $(targ).offset().top;\n",
       "\n",
       "    return {\"x\": x, \"y\": y};\n",
       "};\n",
       "\n",
       "/*\n",
       " * return a copy of an object with only non-object keys\n",
       " * we need this to avoid circular references\n",
       " * http://stackoverflow.com/a/24161582/3208463\n",
       " */\n",
       "function simpleKeys (original) {\n",
       "  return Object.keys(original).reduce(function (obj, key) {\n",
       "    if (typeof original[key] !== 'object')\n",
       "        obj[key] = original[key]\n",
       "    return obj;\n",
       "  }, {});\n",
       "}\n",
       "\n",
       "mpl.figure.prototype.mouse_event = function(event, name) {\n",
       "    var canvas_pos = mpl.findpos(event)\n",
       "\n",
       "    if (name === 'button_press')\n",
       "    {\n",
       "        this.canvas.focus();\n",
       "        this.canvas_div.focus();\n",
       "    }\n",
       "\n",
       "    var x = canvas_pos.x * mpl.ratio;\n",
       "    var y = canvas_pos.y * mpl.ratio;\n",
       "\n",
       "    this.send_message(name, {x: x, y: y, button: event.button,\n",
       "                             step: event.step,\n",
       "                             guiEvent: simpleKeys(event)});\n",
       "\n",
       "    /* This prevents the web browser from automatically changing to\n",
       "     * the text insertion cursor when the button is pressed.  We want\n",
       "     * to control all of the cursor setting manually through the\n",
       "     * 'cursor' event from matplotlib */\n",
       "    event.preventDefault();\n",
       "    return false;\n",
       "}\n",
       "\n",
       "mpl.figure.prototype._key_event_extra = function(event, name) {\n",
       "    // Handle any extra behaviour associated with a key event\n",
       "}\n",
       "\n",
       "mpl.figure.prototype.key_event = function(event, name) {\n",
       "\n",
       "    // Prevent repeat events\n",
       "    if (name == 'key_press')\n",
       "    {\n",
       "        if (event.which === this._key)\n",
       "            return;\n",
       "        else\n",
       "            this._key = event.which;\n",
       "    }\n",
       "    if (name == 'key_release')\n",
       "        this._key = null;\n",
       "\n",
       "    var value = '';\n",
       "    if (event.ctrlKey && event.which != 17)\n",
       "        value += \"ctrl+\";\n",
       "    if (event.altKey && event.which != 18)\n",
       "        value += \"alt+\";\n",
       "    if (event.shiftKey && event.which != 16)\n",
       "        value += \"shift+\";\n",
       "\n",
       "    value += 'k';\n",
       "    value += event.which.toString();\n",
       "\n",
       "    this._key_event_extra(event, name);\n",
       "\n",
       "    this.send_message(name, {key: value,\n",
       "                             guiEvent: simpleKeys(event)});\n",
       "    return false;\n",
       "}\n",
       "\n",
       "mpl.figure.prototype.toolbar_button_onclick = function(name) {\n",
       "    if (name == 'download') {\n",
       "        this.handle_save(this, null);\n",
       "    } else {\n",
       "        this.send_message(\"toolbar_button\", {name: name});\n",
       "    }\n",
       "};\n",
       "\n",
       "mpl.figure.prototype.toolbar_button_onmouseover = function(tooltip) {\n",
       "    this.message.textContent = tooltip;\n",
       "};\n",
       "mpl.toolbar_items = [[\"Home\", \"Reset original view\", \"fa fa-home icon-home\", \"home\"], [\"Back\", \"Back to  previous view\", \"fa fa-arrow-left icon-arrow-left\", \"back\"], [\"Forward\", \"Forward to next view\", \"fa fa-arrow-right icon-arrow-right\", \"forward\"], [\"\", \"\", \"\", \"\"], [\"Pan\", \"Pan axes with left mouse, zoom with right\", \"fa fa-arrows icon-move\", \"pan\"], [\"Zoom\", \"Zoom to rectangle\", \"fa fa-square-o icon-check-empty\", \"zoom\"], [\"\", \"\", \"\", \"\"], [\"Download\", \"Download plot\", \"fa fa-floppy-o icon-save\", \"download\"]];\n",
       "\n",
       "mpl.extensions = [\"eps\", \"jpeg\", \"pdf\", \"png\", \"ps\", \"raw\", \"svg\", \"tif\"];\n",
       "\n",
       "mpl.default_extension = \"png\";var comm_websocket_adapter = function(comm) {\n",
       "    // Create a \"websocket\"-like object which calls the given IPython comm\n",
       "    // object with the appropriate methods. Currently this is a non binary\n",
       "    // socket, so there is still some room for performance tuning.\n",
       "    var ws = {};\n",
       "\n",
       "    ws.close = function() {\n",
       "        comm.close()\n",
       "    };\n",
       "    ws.send = function(m) {\n",
       "        //console.log('sending', m);\n",
       "        comm.send(m);\n",
       "    };\n",
       "    // Register the callback with on_msg.\n",
       "    comm.on_msg(function(msg) {\n",
       "        //console.log('receiving', msg['content']['data'], msg);\n",
       "        // Pass the mpl event to the overridden (by mpl) onmessage function.\n",
       "        ws.onmessage(msg['content']['data'])\n",
       "    });\n",
       "    return ws;\n",
       "}\n",
       "\n",
       "mpl.mpl_figure_comm = function(comm, msg) {\n",
       "    // This is the function which gets called when the mpl process\n",
       "    // starts-up an IPython Comm through the \"matplotlib\" channel.\n",
       "\n",
       "    var id = msg.content.data.id;\n",
       "    // Get hold of the div created by the display call when the Comm\n",
       "    // socket was opened in Python.\n",
       "    var element = $(\"#\" + id);\n",
       "    var ws_proxy = comm_websocket_adapter(comm)\n",
       "\n",
       "    function ondownload(figure, format) {\n",
       "        window.open(figure.imageObj.src);\n",
       "    }\n",
       "\n",
       "    var fig = new mpl.figure(id, ws_proxy,\n",
       "                           ondownload,\n",
       "                           element.get(0));\n",
       "\n",
       "    // Call onopen now - mpl needs it, as it is assuming we've passed it a real\n",
       "    // web socket which is closed, not our websocket->open comm proxy.\n",
       "    ws_proxy.onopen();\n",
       "\n",
       "    fig.parent_element = element.get(0);\n",
       "    fig.cell_info = mpl.find_output_cell(\"<div id='\" + id + \"'></div>\");\n",
       "    if (!fig.cell_info) {\n",
       "        console.error(\"Failed to find cell for figure\", id, fig);\n",
       "        return;\n",
       "    }\n",
       "\n",
       "    var output_index = fig.cell_info[2]\n",
       "    var cell = fig.cell_info[0];\n",
       "\n",
       "};\n",
       "\n",
       "mpl.figure.prototype.handle_close = function(fig, msg) {\n",
       "    var width = fig.canvas.width/mpl.ratio\n",
       "    fig.root.unbind('remove')\n",
       "\n",
       "    // Update the output cell to use the data from the current canvas.\n",
       "    fig.push_to_output();\n",
       "    var dataURL = fig.canvas.toDataURL();\n",
       "    // Re-enable the keyboard manager in IPython - without this line, in FF,\n",
       "    // the notebook keyboard shortcuts fail.\n",
       "    IPython.keyboard_manager.enable()\n",
       "    $(fig.parent_element).html('<img src=\"' + dataURL + '\" width=\"' + width + '\">');\n",
       "    fig.close_ws(fig, msg);\n",
       "}\n",
       "\n",
       "mpl.figure.prototype.close_ws = function(fig, msg){\n",
       "    fig.send_message('closing', msg);\n",
       "    // fig.ws.close()\n",
       "}\n",
       "\n",
       "mpl.figure.prototype.push_to_output = function(remove_interactive) {\n",
       "    // Turn the data on the canvas into data in the output cell.\n",
       "    var width = this.canvas.width/mpl.ratio\n",
       "    var dataURL = this.canvas.toDataURL();\n",
       "    this.cell_info[1]['text/html'] = '<img src=\"' + dataURL + '\" width=\"' + width + '\">';\n",
       "}\n",
       "\n",
       "mpl.figure.prototype.updated_canvas_event = function() {\n",
       "    // Tell IPython that the notebook contents must change.\n",
       "    IPython.notebook.set_dirty(true);\n",
       "    this.send_message(\"ack\", {});\n",
       "    var fig = this;\n",
       "    // Wait a second, then push the new image to the DOM so\n",
       "    // that it is saved nicely (might be nice to debounce this).\n",
       "    setTimeout(function () { fig.push_to_output() }, 1000);\n",
       "}\n",
       "\n",
       "mpl.figure.prototype._init_toolbar = function() {\n",
       "    var fig = this;\n",
       "\n",
       "    var nav_element = $('<div/>')\n",
       "    nav_element.attr('style', 'width: 100%');\n",
       "    this.root.append(nav_element);\n",
       "\n",
       "    // Define a callback function for later on.\n",
       "    function toolbar_event(event) {\n",
       "        return fig.toolbar_button_onclick(event['data']);\n",
       "    }\n",
       "    function toolbar_mouse_event(event) {\n",
       "        return fig.toolbar_button_onmouseover(event['data']);\n",
       "    }\n",
       "\n",
       "    for(var toolbar_ind in mpl.toolbar_items){\n",
       "        var name = mpl.toolbar_items[toolbar_ind][0];\n",
       "        var tooltip = mpl.toolbar_items[toolbar_ind][1];\n",
       "        var image = mpl.toolbar_items[toolbar_ind][2];\n",
       "        var method_name = mpl.toolbar_items[toolbar_ind][3];\n",
       "\n",
       "        if (!name) { continue; };\n",
       "\n",
       "        var button = $('<button class=\"btn btn-default\" href=\"#\" title=\"' + name + '\"><i class=\"fa ' + image + ' fa-lg\"></i></button>');\n",
       "        button.click(method_name, toolbar_event);\n",
       "        button.mouseover(tooltip, toolbar_mouse_event);\n",
       "        nav_element.append(button);\n",
       "    }\n",
       "\n",
       "    // Add the status bar.\n",
       "    var status_bar = $('<span class=\"mpl-message\" style=\"text-align:right; float: right;\"/>');\n",
       "    nav_element.append(status_bar);\n",
       "    this.message = status_bar[0];\n",
       "\n",
       "    // Add the close button to the window.\n",
       "    var buttongrp = $('<div class=\"btn-group inline pull-right\"></div>');\n",
       "    var button = $('<button class=\"btn btn-mini btn-primary\" href=\"#\" title=\"Stop Interaction\"><i class=\"fa fa-power-off icon-remove icon-large\"></i></button>');\n",
       "    button.click(function (evt) { fig.handle_close(fig, {}); } );\n",
       "    button.mouseover('Stop Interaction', toolbar_mouse_event);\n",
       "    buttongrp.append(button);\n",
       "    var titlebar = this.root.find($('.ui-dialog-titlebar'));\n",
       "    titlebar.prepend(buttongrp);\n",
       "}\n",
       "\n",
       "mpl.figure.prototype._root_extra_style = function(el){\n",
       "    var fig = this\n",
       "    el.on(\"remove\", function(){\n",
       "\tfig.close_ws(fig, {});\n",
       "    });\n",
       "}\n",
       "\n",
       "mpl.figure.prototype._canvas_extra_style = function(el){\n",
       "    // this is important to make the div 'focusable\n",
       "    el.attr('tabindex', 0)\n",
       "    // reach out to IPython and tell the keyboard manager to turn it's self\n",
       "    // off when our div gets focus\n",
       "\n",
       "    // location in version 3\n",
       "    if (IPython.notebook.keyboard_manager) {\n",
       "        IPython.notebook.keyboard_manager.register_events(el);\n",
       "    }\n",
       "    else {\n",
       "        // location in version 2\n",
       "        IPython.keyboard_manager.register_events(el);\n",
       "    }\n",
       "\n",
       "}\n",
       "\n",
       "mpl.figure.prototype._key_event_extra = function(event, name) {\n",
       "    var manager = IPython.notebook.keyboard_manager;\n",
       "    if (!manager)\n",
       "        manager = IPython.keyboard_manager;\n",
       "\n",
       "    // Check for shift+enter\n",
       "    if (event.shiftKey && event.which == 13) {\n",
       "        this.canvas_div.blur();\n",
       "        event.shiftKey = false;\n",
       "        // Send a \"J\" for go to next cell\n",
       "        event.which = 74;\n",
       "        event.keyCode = 74;\n",
       "        manager.command_mode();\n",
       "        manager.handle_keydown(event);\n",
       "    }\n",
       "}\n",
       "\n",
       "mpl.figure.prototype.handle_save = function(fig, msg) {\n",
       "    fig.ondownload(fig, null);\n",
       "}\n",
       "\n",
       "\n",
       "mpl.find_output_cell = function(html_output) {\n",
       "    // Return the cell and output element which can be found *uniquely* in the notebook.\n",
       "    // Note - this is a bit hacky, but it is done because the \"notebook_saving.Notebook\"\n",
       "    // IPython event is triggered only after the cells have been serialised, which for\n",
       "    // our purposes (turning an active figure into a static one), is too late.\n",
       "    var cells = IPython.notebook.get_cells();\n",
       "    var ncells = cells.length;\n",
       "    for (var i=0; i<ncells; i++) {\n",
       "        var cell = cells[i];\n",
       "        if (cell.cell_type === 'code'){\n",
       "            for (var j=0; j<cell.output_area.outputs.length; j++) {\n",
       "                var data = cell.output_area.outputs[j];\n",
       "                if (data.data) {\n",
       "                    // IPython >= 3 moved mimebundle to data attribute of output\n",
       "                    data = data.data;\n",
       "                }\n",
       "                if (data['text/html'] == html_output) {\n",
       "                    return [cell, data, j];\n",
       "                }\n",
       "            }\n",
       "        }\n",
       "    }\n",
       "}\n",
       "\n",
       "// Register the function which deals with the matplotlib target/channel.\n",
       "// The kernel may be null if the page has been refreshed.\n",
       "if (IPython.notebook.kernel != null) {\n",
       "    IPython.notebook.kernel.comm_manager.register_target('matplotlib', mpl.mpl_figure_comm);\n",
       "}\n"
      ],
      "text/plain": [
       "<IPython.core.display.Javascript object>"
      ]
     },
     "metadata": {},
     "output_type": "display_data"
    },
    {
     "data": {
      "text/html": [
       "<img src=\"data:image/png;base64,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\" width=\"899.9999865889552\">"
      ],
      "text/plain": [
       "<IPython.core.display.HTML object>"
      ]
     },
     "metadata": {},
     "output_type": "display_data"
    },
    {
     "data": {
      "application/vnd.jupyter.widget-view+json": {
       "model_id": "cd26f2d46cf74d4795c5353697dd03e8",
       "version_major": 2,
       "version_minor": 0
      },
      "text/plain": [
       "Button(description='Update', style=ButtonStyle())"
      ]
     },
     "metadata": {},
     "output_type": "display_data"
    },
    {
     "data": {
      "application/vnd.jupyter.widget-view+json": {
       "model_id": "410432eece144c45b0c48c9145cf41a5",
       "version_major": 2,
       "version_minor": 0
      },
      "text/plain": [
       "IntText(value=30, description='Epoch history')"
      ]
     },
     "metadata": {},
     "output_type": "display_data"
    }
   ],
   "source": [
    "matplotlib.rcParams.update({'font.size': 22})\n",
    "fig3 = plt.figure(figsize = (9,6))\n",
    "ax3 = fig3.subplots()\n",
    "#matplotlib.pyplot.ion()\n",
    "\n",
    "\n",
    "button = widgets.Button(description=\"Update\")\n",
    "show_epochs = widgets.IntText(description='Epoch history',disabled=False)\n",
    "show_epochs.value = 30\n",
    "\n",
    "def on_button_clicked(b):\n",
    "    with open('../loss.log') as f:\n",
    "        content = f.readlines()\n",
    "    content = [float(x.strip()) for x in content]\n",
    "    xmin = 0\n",
    "    xmax = len(content)\n",
    "    if xmax > show_epochs.value:\n",
    "        xmin = xmax-show_epochs.value\n",
    "        content = content[xmin:xmax]\n",
    "    ymin = np.min(content)\n",
    "    ymax = np.max(content)\n",
    "    x_axis = np.linspace(xmin, xmax-1, num=xmax-xmin)\n",
    "\n",
    "    #matplotlib.pyplot.gcf().clear()\n",
    "    ax3.clear()\n",
    "    ax3.set_xlim(xmin, xmax)\n",
    "    yaxismin = ymin - (ymax-ymin)/3\n",
    "    if yaxismin < 0:\n",
    "        yaxismin = 0\n",
    "    ax3.set_ylim(ymin - (ymax-ymin)/3, ymax)\n",
    "    ax3.plot(x_axis, content, linewidth=5.0)\n",
    "    ax3.xaxis.set_major_locator(matplotlib.ticker.MaxNLocator(integer=True))\n",
    "    ax3.grid(linestyle='-', linewidth='0.5', color='red')\n",
    "    fig3.canvas.draw()\n",
    "\n",
    "    \n",
    "on_button_clicked(None)\n",
    "fig3.show()\n",
    "\n",
    "display(button)\n",
    "display(show_epochs)\n",
    "\n",
    "button.on_click(on_button_clicked)\n",
    "show_epochs.observe(on_button_clicked)"
   ]
  },
  {
   "cell_type": "code",
   "execution_count": 5,
   "metadata": {},
   "outputs": [
    {
     "data": {
      "text/markdown": [
       "## Latest model is: ../weights/model_1.pth"
      ],
      "text/plain": [
       "<IPython.core.display.Markdown object>"
      ]
     },
     "metadata": {},
     "output_type": "display_data"
    }
   ],
   "source": [
    "class args():\n",
    "    num_classes = 1\n",
    "    batch_size = 1\n",
    "    routing = 'EM_routing'\n",
    "    loss = 'spread_loss̈́'\n",
    "    use_recon = 0.001\n",
    "    r = 9\n",
    "    num_workers = 1\n",
    "    disable_encoder = False\n",
    "    disable_recon = False\n",
    "    disable_dae = False\n",
    "\n",
    "A, AA, B, C, D, E, r = 128, 128, 40, 40, 40, args.num_classes, args.r # a small CapsNet\n",
    "\n",
    "model = mcaps.CapsNet(args, A, AA, B, C, D, E, r, h=4)\n",
    "\n",
    "LatestFile = max(glob.iglob(\"../weights/model*.pth\"),key=os.path.getctime)\n",
    "\n",
    "display(Markdown('## Latest model is: '+LatestFile))\n",
    "\n",
    "model.load_state_dict(torch.load(LatestFile))\n",
    "model.cpu()\n",
    "\n",
    "self = model"
   ]
  },
  {
   "cell_type": "markdown",
   "metadata": {},
   "source": [
    "## Ground Truth"
   ]
  },
  {
   "cell_type": "code",
   "execution_count": 6,
   "metadata": {
    "scrolled": false
   },
   "outputs": [
    {
     "data": {
      "application/vnd.jupyter.widget-view+json": {
       "model_id": "f8622d7025404d938d7a6f9fada61e32",
       "version_major": 2,
       "version_minor": 0
      },
      "text/plain": [
       "HBox(children=(Output(layout=Layout(border='1px solid black', width='100%')), Output(layout=Layout(border='1px…"
      ]
     },
     "metadata": {},
     "output_type": "display_data"
    },
    {
     "data": {
      "application/vnd.jupyter.widget-view+json": {
       "model_id": "f6a74e36bbe442528c2f444836c1d352",
       "version_major": 2,
       "version_minor": 0
      },
      "text/plain": [
       "VBox(children=(HBox(children=(FloatText(value=1.0, description='Contrast', layout=Layout(width='100%'), step=0…"
      ]
     },
     "metadata": {},
     "output_type": "display_data"
    }
   ],
   "source": [
    "def updateOutputWidget(widget, array, color=\"L\"):\n",
    "    f = BytesIO()\n",
    "    PIL.Image.fromarray(np.uint8(array*255), mode=color).convert(color).save(f, 'png')\n",
    "    widget.clear_output()\n",
    "    with widget:\n",
    "        display(Image(data=f.getvalue(), width='100%'))\n",
    "\n",
    "ground_truth_widget_left = widgets.Output(layout=Layout(border='1px solid black', width='100%'))\n",
    "ground_truth_widget_right = widgets.Output(layout=Layout(border='1px solid black', width='100%'))\n",
    "ground_truth_widget = HBox([ground_truth_widget_left, ground_truth_widget_right], layout=Layout(width='100%'))\n",
    "\n",
    "contrast_left = widgets.FloatText(layout={'width': '100%'},description='Contrast',disabled=False, value=1, step=0.01)\n",
    "contrast_right = widgets.FloatText(layout={'width': '100%'},description='Contrast',disabled=False, value=1, step=0.01)\n",
    "brightness_left = widgets.FloatText(layout={'width': '100%'},description='Brightness',disabled=False, value=0, step=0.01)\n",
    "brightness_right = widgets.FloatText(layout={'width': '100%'},description='Brightness',disabled=False, value=0, step=0.01)\n",
    "brightness_contrast_widget = VBox([  HBox([contrast_left, contrast_right],layout=Layout(width='100%')) ,  HBox([brightness_left, brightness_right],layout=Layout(width='100%')) ] )\n",
    "\n",
    "display(ground_truth_widget)\n",
    "display(brightness_contrast_widget)"
   ]
  },
  {
   "cell_type": "markdown",
   "metadata": {},
   "source": [
    "## Activations of convolutional layers and primary capsules layer"
   ]
  },
  {
   "cell_type": "code",
   "execution_count": 7,
   "metadata": {
    "scrolled": false
   },
   "outputs": [
    {
     "data": {
      "application/vnd.jupyter.widget-view+json": {
       "model_id": "71b0078fd8a34fab9931c9452c13d10a",
       "version_major": 2,
       "version_minor": 0
      },
      "text/plain": [
       "VBox(children=(Output(layout=Layout(width='100%')), Output(layout=Layout(width='100%')), HBox(children=(Output…"
      ]
     },
     "metadata": {},
     "output_type": "display_data"
    }
   ],
   "source": [
    "layer1_widget = widgets.Output(layout=Layout(width='100%'))\n",
    "layer2_widget = widgets.Output(layout=Layout(width='100%'))\n",
    "layer3_widget = widgets.Output(layout=Layout(width='100%'))\n",
    "layer4_widget = widgets.Output(layout=Layout(width='100%'))\n",
    "layer5_widget = widgets.Output(layout=Layout(width='100%'))\n",
    "layer6_widget = widgets.Output(layout=Layout(width='100%'))\n",
    "#layer12_widget = HBox([layer1_widget, layer2_widget], layout=Layout(width='100%'))\n",
    "l345_widget = HBox([layer3_widget, layer4_widget, layer5_widget, layer6_widget])\n",
    "layer_widget = VBox([layer1_widget, layer2_widget, l345_widget], layout=Layout(width='100%'))\n",
    "display(layer_widget)\n",
    "\n",
    "\n",
    "\n",
    "def makeCombinedImage(img, scale=1):\n",
    "    if scale != 1:\n",
    "        img = torch.nn.functional.interpolate(img, scale_factor=scale, mode='nearest')\n",
    "    img = img.squeeze().unsqueeze(1)\n",
    "    return utils.make_grid(img.data, nrow=int(img.shape[0] ** 0.5), normalize=True,range=(0, 1)).cpu().numpy()\n",
    "    \n",
    "def forward(self, x, lambda_, labels=None, draw=True):\n",
    "    if x is not None:\n",
    "        x = F.relu(self.bn1(self.conv1(x)))\n",
    "\n",
    "        if draw is True:\n",
    "            grid_picture = makeCombinedImage(x, scale=4)\n",
    "            updateOutputWidget(layer1_widget, grid_picture.transpose(1,2,0), \"RGB\")\n",
    "\n",
    "        x = F.max_pool2d(x, 2, 2)\n",
    "        x = F.relu(self.bn2(self.conv2(x)))\n",
    "        \n",
    "        if draw is True:\n",
    "            grid_picture = makeCombinedImage(x, scale=8)\n",
    "            updateOutputWidget(layer2_widget, grid_picture.transpose(1,2,0), \"RGB\")\n",
    "        \n",
    "        \n",
    "        # Combine left and right\n",
    "        left = x[:,:,:,:int(x.shape[-1]/2)]\n",
    "        right = x[:,:,:,int(x.shape[-1]/2):]\n",
    "        x = torch.stack([left,right], dim=1).view(x.shape[0],-1,x.shape[2],x.shape[2])\n",
    "        \n",
    "        \n",
    "        #x = F.relu(self.bn3(self.conv3(x)))\n",
    "        #if draw is True:\n",
    "        #    grid_picture = makeCombinedImage(x)\n",
    "        #    updateOutputWidget(layer3_widget, grid_picture.transpose(1,2,0), \"RGB\")\n",
    "        \n",
    "        p, a = self.primary_caps(x)  # b,32*(4*4+1),12,12\n",
    "\n",
    "        if draw is True:\n",
    "            grid_picture = makeCombinedImage(a, scale=16)\n",
    "            updateOutputWidget(layer3_widget, grid_picture.transpose(1,2,0), \"RGB\")\n",
    "            \n",
    "        p, a = self.convcaps1(lambda_, p, a)  # b,32*(4*4+1),5,5\n",
    "\n",
    "        if draw is True:\n",
    "            grid_picture = makeCombinedImage(a, scale=16)\n",
    "            updateOutputWidget(layer4_widget, grid_picture.transpose(1,2,0), \"RGB\")\n",
    "\n",
    "        p, a = self.convcaps2(lambda_, p, a)  # b,32*(4*4+1),3,3\n",
    "\n",
    "        if draw is True:\n",
    "            grid_picture = makeCombinedImage(a, scale=16)\n",
    "            updateOutputWidget(layer5_widget, grid_picture.transpose(1,2,0), \"RGB\")\n",
    "\n",
    "        p, a = self.convcaps3(lambda_, p, a)  # b,32*(4*4+1),3,3\n",
    "\n",
    "        if draw is True:\n",
    "            grid_picture = makeCombinedImage(a, scale=16)\n",
    "            updateOutputWidget(layer6_widget, grid_picture.transpose(1,2,0), \"RGB\")\n",
    "            \n",
    "        p, a = self.classcaps(lambda_, p, a)  # b,10*16+10\n",
    "\n",
    "        \n",
    "        \"\"\" Find pose with largest activation \"\"\"\n",
    "        \"\"\"\n",
    "        dist = torch.arange(float(3)) / 3\n",
    "        a_tmp = a.view(a.shape[0],-1)\n",
    "        p_tmp = p.view(p.shape[0],-1,p.shape[-1])\n",
    "        _, i = torch.max(a_tmp, 1)\n",
    "        new_a = []\n",
    "        new_p = []\n",
    "        coords = []\n",
    "        for counter, j in enumerate(i):\n",
    "            new_a.append(a_tmp[counter, j])\n",
    "            new_p.append(p_tmp[counter, j, :])\n",
    "\n",
    "            w_x=j%3\n",
    "            w_y=j/3\n",
    "            xyz = p_tmp[counter, j, :][(3,7,11),]\n",
    "            xyz[0] += dist[w_x]\n",
    "            xyz[1] += dist[w_y]\n",
    "            xyz = torch.cat([xyz, torch.FloatTensor([w_x, w_y])], dim=0)\n",
    "            coords.append(xyz)\n",
    "            #p[:, (3,7,11)] = xyz * 1.0\n",
    "\n",
    "        a = torch.stack(new_a, dim=0)\n",
    "        p = torch.stack(new_p, dim=0)\n",
    "\n",
    "        coords = torch.stack(coords, dim=0)\n",
    "        coords = self.coord_add_encoder(coords)\n",
    "        \"\"\"\n",
    "        \n",
    "        p = p.squeeze()\n",
    "        \n",
    "        # Temporary when batch size = 1\n",
    "        if len(p.shape) == 1:\n",
    "            p = p.unsqueeze(0)\n",
    "       \n",
    "        xyz = p[:, (3,7,11)]\n",
    "        xyz = self.coord_add_encoder(xyz)\n",
    "        p[:, (3,7,11)] = xyz * 1.0\n",
    "    else:\n",
    "        p = labels\n",
    "\n",
    "    if not self.args.disable_recon:\n",
    "        reconstructions = self.decoder(p)\n",
    "    else:\n",
    "        reconstructions = 0\n",
    "\n",
    "    return p, reconstructions"
   ]
  },
  {
   "cell_type": "markdown",
   "metadata": {},
   "source": [
    "## 4x4 pose output"
   ]
  },
  {
   "cell_type": "code",
   "execution_count": 8,
   "metadata": {
    "scrolled": false
   },
   "outputs": [
    {
     "data": {
      "application/vnd.jupyter.widget-view+json": {
       "model_id": "342fdbbf4ab345a2af14b8c490c31ab8",
       "version_major": 2,
       "version_minor": 0
      },
      "text/plain": [
       "HBox(children=(VBox(children=(HBox(children=(Output(layout=Layout(width='100%')), Output(layout=Layout(width='…"
      ]
     },
     "metadata": {},
     "output_type": "display_data"
    },
    {
     "data": {
      "application/vnd.jupyter.widget-view+json": {
       "model_id": "9bcb4dcd762344208c9049e2ee362348",
       "version_major": 2,
       "version_minor": 0
      },
      "text/plain": [
       "HBox(children=(Label(value='Output', layout=Layout(width='100%')), Label(value='Label', layout=Layout(width='1…"
      ]
     },
     "metadata": {},
     "output_type": "display_data"
    },
    {
     "data": {
      "application/vnd.jupyter.widget-view+json": {
       "model_id": "3cbe4501fcd4487fa17abc1db53f3c65",
       "version_major": 2,
       "version_minor": 0
      },
      "text/plain": [
       "HBox(children=(Textarea(value='', layout=Layout(height='90px', width='100%')), Textarea(value='', layout=Layou…"
      ]
     },
     "metadata": {},
     "output_type": "display_data"
    }
   ],
   "source": [
    "truth_widget_left = widgets.Output(layout=Layout(width='100%'))\n",
    "truth_widget_right = widgets.Output(layout=Layout(width='100%'))\n",
    "recon_widget_left = widgets.Output(layout=Layout(width='100%'))\n",
    "recon_widget_right = widgets.Output(layout=Layout(width='100%'))\n",
    "truth_widget = HBox([truth_widget_left, truth_widget_right], layout=Layout(width='100%'))\n",
    "recon_widget = HBox([recon_widget_left, recon_widget_right], layout=Layout(width='100%'))\n",
    "step_widget = VBox([truth_widget, recon_widget], layout=Layout(width='100%'))\n",
    "names = ['p0', 'p1', 'p2', 'p3', 'p4', 'p5', 'p6', 'p7', 'p8', 'p9', 'p10', 'p11', 'p12', 'p13', 'p14', 'p15']\n",
    "pose_sliders = [FloatSlider(min=-100, max=100, layout={'height': '50%'}, step=0.00001, description=i, orientation='horizontal') for i in names]\n",
    "button_next = widgets.Button(description=\"Next\", layout={'height': '50%'})\n",
    "pose_sliders.append(button_next)\n",
    "sliders_widget = VBox(pose_sliders, layout=Layout(width='60%'))\n",
    "step_slider_widget = HBox([step_widget, sliders_widget],layout=Layout(width='100%'))\n",
    "pose_output = widgets.Textarea(layout={'width': '100%','height': '90px'},disabled=False)\n",
    "pose_label = widgets.Textarea(layout={'width': '100%','height': '90px'},disabled=False)\n",
    "pose_error = widgets.Textarea(layout={'width': '100%','height': '90px'},disabled=False)\n",
    "\n",
    "\n",
    "label_widget = HBox([widgets.Label(layout={'width': '100%'},value=\"Output\"), widgets.Label(layout={'width': '100%'},value=\"Label\"), widgets.Label(layout={'width': '100%'},value=\"Error\")])\n",
    "pose_widget = HBox([pose_output, pose_label, pose_error])\n",
    "\n",
    "the_time = time.time()\n",
    "do_update = True\n",
    "\n",
    "display(step_slider_widget)\n",
    "display(label_widget)\n",
    "display(pose_widget)\n",
    "#display(pose_output)\n",
    "#display(pose_label)\n",
    "#display(pose_error)\n",
    "\n",
    "# Initialize Transform Network (from Pose to Quaternion)\n",
    "\"\"\"\n",
    "import sys\n",
    "import pyrr\n",
    "sys.path.append('../PoseToQuaternionNetwork/model')\n",
    "from transform import PoseToQuatNet\n",
    "transform = PoseToQuatNet()\n",
    "transform.load_state_dict(torch.load('../PoseToQuaternionNetwork/weights/model.pth'))\n",
    "transform.cpu()\n",
    "\"\"\"\n",
    "\n",
    "# Initialize view and projection for coord system rendering\n",
    "w_width, w_height = 800, 800\n",
    "focus_distance = 1.9\n",
    "view = pyrr.matrix44.create_from_translation(pyrr.Vector3([0.0, 0.0, -focus_distance])).transpose()\n",
    "projection = pyrr.matrix44.create_perspective_projection_matrix(65.0, w_width / w_height, 0.1, 100.0).transpose()\n",
    "\"\"\"\n",
    "def plotPoint(pnt, color_idx, img_left, img_right):\n",
    "    model_view = pyrr.matrix44.multiply(view, pnt)\n",
    "    model_projection = pyrr.matrix44.multiply(projection, model_view)\n",
    "    scaling = model_projection[3]\n",
    "    pix_x = img_left.shape[0]/2 + (model_projection[0]/scaling) * img_left.shape[0]/2\n",
    "    if pix_x >= img_left.shape[0]: pix_x = img_left.shape[0]-1\n",
    "    if pix_x < 0: pix_x = 0\n",
    "    pix_y = img_left.shape[1]/2 - (model_projection[1]/scaling) * img_left.shape[1]/2\n",
    "    if pix_y >= img_left.shape[1]: pix_y = img_left.shape[1]-1\n",
    "    if pix_y < 0: pix_y = 0\n",
    "    img_left[int(pix_y),int(pix_x),color_idx] = 1.0\n",
    "    img_right[int(pix_y),int(pix_x),color_idx] = 1.0\n",
    "\"\"\"\n",
    "def plotPoint(pnt, color_idx, img):\n",
    "    model_view = pyrr.matrix44.multiply(view, pnt)\n",
    "    model_projection = pyrr.matrix44.multiply(projection, model_view)\n",
    "    scaling = model_projection[3]\n",
    "    pix_x = img.shape[1]/2 + (model_projection[0]/scaling) * img.shape[1]/2\n",
    "    if pix_x >= img.shape[1]: pix_x = img.shape[1]-1\n",
    "    if pix_x < 0: pix_x = 0\n",
    "    pix_y = img.shape[0]/2 - (model_projection[1]/scaling) * img.shape[0]/2\n",
    "    if pix_y >= img.shape[0]: pix_y = img.shape[0]-1\n",
    "    if pix_y < 0: pix_y = 0\n",
    "    img[int(pix_y),int(pix_x),color_idx] = 1.0\n",
    "    \n",
    "eye_distance = 0.5\n",
    "focus_distance = 1.9\n",
    "eye_angle = eye_distance/focus_distance\n",
    "right_eye_transform = pyrr.Matrix44.from_y_rotation(-eye_angle/2)\n",
    "left_eye_transform = pyrr.Matrix44.from_y_rotation(eye_angle/2)\n",
    "    \n",
    "def plotCoordSystemAxis(pose44, axis_idx, img):\n",
    "    pnt = pyrr.vector4.create(0.0, 0.0, 0.0, 1.0)\n",
    "    for i in range(50):\n",
    "        pnt[axis_idx] = i*0.01\n",
    "        point = pyrr.matrix44.multiply(pyrr.Matrix44(pose44), pnt) #.transpose()\n",
    "        plotPoint(point, axis_idx, img)\n",
    "\n",
    "pose = 0\n",
    "lambda_ = torch.tensor([1.0])\n",
    "\n",
    "def on_value_change(change):\n",
    "    global the_time\n",
    "    global do_update\n",
    "    global pose\n",
    "    global ground_truth_labels\n",
    "    global imgs\n",
    "    global imgs_ref\n",
    "    global right_eye_transform\n",
    "    global left_eye_transform\n",
    "\n",
    "    if not do_update and change is not None:\n",
    "        return\n",
    "\n",
    "    if (time.time()-the_time) < 0.2:\n",
    "        return\n",
    "    the_time = time.time()\n",
    "    \n",
    "    for i in range(len(pose_sliders)-1):\n",
    "        pose[:,i] = pose_sliders[i].value\n",
    "    \n",
    "    p, reconstruction = forward(self, None, None, labels=pose)\n",
    "\n",
    "    #imgs_sliced = imgs[:,[0,3],...]\n",
    "    reconstruction = reconstruction.view_as(imgs_ref)\n",
    "\n",
    "    recon_left = reconstruction.data[:,0,:,:].squeeze().cpu().numpy()\n",
    "    recon_right = reconstruction.data[:,1,:,:].squeeze().cpu().numpy()\n",
    "\n",
    "    #vec7 = transform.forward(pose)\n",
    "    #quat = reff[0,3:]\n",
    "    #mat44 = pyrr.Matrix44.from_quaternion(quat)\n",
    "    #mat44[3,:][0:3] = reff[0,:3]\n",
    "    #print(mat44)\n",
    "    #kaj = mat44.reshape(-1)\n",
    "    #print(kaj)\n",
    "    #print(kaj.shape)\n",
    "    \n",
    "    mat44 = util.matAffine_from_matMinRep(pose.data)\n",
    "\n",
    "    recon_left = np.concatenate((recon_left[:,:,None],recon_left[:,:,None],recon_left[:,:,None]), axis=2)\n",
    "    recon_right = np.concatenate((recon_right[:,:,None],recon_right[:,:,None],recon_right[:,:,None]), axis=2)\n",
    "\n",
    "    pose_left = pyrr.Matrix44(mat44)*left_eye_transform\n",
    "    plotCoordSystemAxis(pose_left, 0, recon_left)\n",
    "    plotCoordSystemAxis(pose_left, 1, recon_left)\n",
    "    plotCoordSystemAxis(pose_left, 2, recon_left)\n",
    "\n",
    "    pose_right = pyrr.Matrix44(mat44)*right_eye_transform\n",
    "    plotCoordSystemAxis(pose_right, 0, recon_right)\n",
    "    plotCoordSystemAxis(pose_right, 1, recon_right)\n",
    "    plotCoordSystemAxis(pose_right, 2, recon_right)\n",
    "    \n",
    "    updateOutputWidget(recon_widget_left, recon_left, \"RGB\")\n",
    "    updateOutputWidget(recon_widget_right, recon_right, \"RGB\")\n",
    "\n",
    "def showDataImage(next_data, steps=0):\n",
    "    global ground_truth_labels\n",
    "    global imgs\n",
    "    global imgs_ref\n",
    "    global do_update\n",
    "    global ground_truth_widget\n",
    "    global pose\n",
    "    do_update = False\n",
    "    \n",
    "    \"\"\"\n",
    "    Prepare input\n",
    "    \"\"\"\n",
    "    imgs = next_data[0]\n",
    "    left = imgs[:,[0,2],:,:int(imgs.shape[-1]/2)]\n",
    "    right = imgs[:,[0,2],:,int(imgs.shape[-1]/2):]\n",
    "    imgs = torch.stack([left[:,:,:,2:97],right[:,:,:,2:97]], dim=3).view(imgs.shape[0],2,100, 190)\n",
    "    imgs_ref = torch.stack([left[:,0,:,2:97],right[:,1,:,2:97]], dim=1)\n",
    "\n",
    "    #image = util.split_in_channels(next_data[0])\n",
    "    \n",
    "    ground_truth_labels = next_data[1]\n",
    "    imgs = Variable(imgs).cpu()\n",
    "    pose, reco = forward(self, imgs, lambda_, draw=True)\n",
    "\n",
    "    # Print matrices in textareas\n",
    "    m_l = util.matMinRep_from_qvec(ground_truth_labels.float())\n",
    "    m_l = util.matAffine_from_matMinRep(m_l)\n",
    "    m_o = util.matAffine_from_matMinRep(pose.data.cpu())\n",
    "    pose_label.value = util.matrixString_from_matAffine(m_l)\n",
    "    pose_output.value = util.matrixString_from_matAffine(m_o)\n",
    "    pose_error.value = util.matrixString_from_matAffine(m_o - m_l)\n",
    "\n",
    "    #pose_transformed = transform.forward(pose)\n",
    "    #pose_label.value = str(ground_truth_labels.float().numpy()[0,:])\n",
    "    #pose_output.value = str(transform.forward(p).data.cpu().numpy()[0,:])\n",
    "\n",
    "    img_conv_left = util.applyBrightnessAndContrast(imgs_ref[0,0,:,:].squeeze().numpy(), brightness_left.value, contrast_left.value)\n",
    "    img_conv_right = util.applyBrightnessAndContrast(imgs_ref[0,1,:,:].squeeze().numpy(), brightness_right.value, contrast_right.value)\n",
    "        \n",
    "    updateOutputWidget(ground_truth_widget_left, img_conv_left)\n",
    "    updateOutputWidget(ground_truth_widget_right, img_conv_right)\n",
    "\n",
    "    #torch.Size([1, 3, 100, 200])\n",
    "    \n",
    "    # Plot coordinate systems on \"truth\" images\n",
    "    mat44 = util.matAffine_from_matMinRep(pose.data)\n",
    "    #truth_left = imgs_ref[0,0,:,:].squeeze().numpy()\n",
    "    #truth_left = np.concatenate((truth_left[:,:,None],truth_left[:,:,None],truth_left[:,:,None]), axis=2)\n",
    "    truth_left = np.concatenate((next_data[0][0,0,:,2:97,None],next_data[0][0,1,:,2:97,None],next_data[0][0,2,:,2:97,None]), axis=2)\n",
    "    pose_left = pyrr.Matrix44(mat44)*left_eye_transform\n",
    "    plotCoordSystemAxis(pose_left, 0, truth_left)\n",
    "    plotCoordSystemAxis(pose_left, 1, truth_left)\n",
    "    plotCoordSystemAxis(pose_left, 2, truth_left)\n",
    "    #truth_right = imgs_ref[0,1,:,:].squeeze().numpy()\n",
    "    #truth_right = np.concatenate((truth_right[:,:,None],truth_right[:,:,None],truth_right[:,:,None]), axis=2)\n",
    "    truth_right = np.concatenate((next_data[0][0,0,:,102:197,None],next_data[0][0,1,:,102:197,None],next_data[0][0,2,:,102:197,None]), axis=2)\n",
    "    pose_right = pyrr.Matrix44(mat44)*right_eye_transform\n",
    "    plotCoordSystemAxis(pose_right, 0, truth_right)\n",
    "    plotCoordSystemAxis(pose_right, 1, truth_right)\n",
    "    plotCoordSystemAxis(pose_right, 2, truth_right)\n",
    "    \n",
    "    updateOutputWidget(truth_widget_left, truth_left, \"RGB\")\n",
    "    updateOutputWidget(truth_widget_right, truth_right, \"RGB\")\n",
    "\n",
    "    if steps == 0:\n",
    "        for i in range(len(pose_sliders)-1):\n",
    "            pose_sliders[i].max = pose[:,i]\n",
    "            pose_sliders[i].min = pose[:,i]\n",
    "    else:\n",
    "        old = []\n",
    "        for i in range(len(pose_sliders)-1):\n",
    "            old.append(pose_sliders[i].value)\n",
    "            if pose[:,i] > pose_sliders[i].max:\n",
    "                pose_sliders[i].max = pose[:,i]\n",
    "            elif pose[:,i] < pose_sliders[i].min:\n",
    "                pose_sliders[i].min = pose[:,i]\n",
    "\n",
    "        delta = pose[0,:].data.cpu().numpy() - old\n",
    "        delta /= steps\n",
    "\n",
    "        for steps in range(steps):\n",
    "            for i in range(len(pose_sliders)-1):\n",
    "                pose_sliders[i].value += delta[i]\n",
    "            on_value_change(None)\n",
    "            time.sleep(0.5)\n",
    "            \n",
    "    for i in range(len(pose_sliders)-1):\n",
    "        pose_sliders[i].value = pose[:,i]\n",
    "    on_value_change(None)\n",
    "    do_update = True\n",
    "\n",
    "train_dataset = util.MyImageFolder(root='../../../data/dumps/', transform=transforms.ToTensor(), target_transform=transforms.ToTensor())\n",
    "train_loader = torch.utils.data.DataLoader(dataset=train_dataset,batch_size=args.batch_size,num_workers=args.num_workers,shuffle=True)\n",
    "data_iter = iter(train_loader)\n",
    "\n",
    "def on_next_button_clicked(b):\n",
    "    next_data = next(data_iter)\n",
    "    showDataImage(next_data, steps=0)\n",
    "\n",
    "button_next.on_click(on_next_button_clicked)\n",
    "\n",
    "next_data = next(data_iter)\n",
    "showDataImage(next_data, steps=0)\n",
    "\n",
    "for i in range(len(pose_sliders)):\n",
    "    pose_sliders[i].observe(on_value_change)"
   ]
  },
  {
   "cell_type": "code",
   "execution_count": null,
   "metadata": {},
   "outputs": [],
   "source": []
  }
 ],
 "metadata": {
  "kernelspec": {
   "display_name": "Python 3",
   "language": "python",
   "name": "python3"
  },
  "language_info": {
   "codemirror_mode": {
    "name": "ipython",
    "version": 3
   },
   "file_extension": ".py",
   "mimetype": "text/x-python",
   "name": "python",
   "nbconvert_exporter": "python",
   "pygments_lexer": "ipython3",
   "version": "3.6.7"
  },
  "widgets": {
   "application/vnd.jupyter.widget-state+json": {
    "state": {
     "02a95245f28f48e69eda3fb3bd438d67": {
      "model_module_version": "^2.1.4",
      "state": {
       "value": "<table style=\"width:100%\">\n                <thead>\n                    <tr>\n                        <th colspan=\"2\">\n                        Could not create model:\n                        </th>\n                    </tr>\n                </thead>\n                <tbody>\n                    <tr>\n                        <td>Model name</td>\n                        <td> undefined </td>\n                    </tr>\n                    <tr>\n                        <td>Model module</td>\n                        <td> undefined </td>\n                    </tr>\n                    <tr>\n                        <td>Model module version</td>\n                        <td> undefined </td>\n                    </tr>\n                <tbody>\n                <tfoot>\n                    <tr>\n                        <th colspan=\"2\">\n                        Class undefined not found in registry \n                        </th>\n                    </tr>\n                </tfoot>\n                </table>"
      }
     },
     "086adac005c04b4190a432ca55b65c08": {
      "model_module_version": "^2.1.4",
      "state": {
       "children": [
        "IPY_MODEL_5ddce768a0cd44fcb6a02f55d97511c0",
        "IPY_MODEL_7b2a75f21e23408ba72e5f04d40c4ae0"
       ],
       "value": "<table style=\"width:100%\">\n                <thead>\n                    <tr>\n                        <th colspan=\"2\">\n                        Could not create model:\n                        </th>\n                    </tr>\n                </thead>\n                <tbody>\n                    <tr>\n                        <td>Model name</td>\n                        <td> undefined </td>\n                    </tr>\n                    <tr>\n                        <td>Model module</td>\n                        <td> undefined </td>\n                    </tr>\n                    <tr>\n                        <td>Model module version</td>\n                        <td> undefined </td>\n                    </tr>\n                <tbody>\n                <tfoot>\n                    <tr>\n                        <th colspan=\"2\">\n                        Class undefined not found in registry \n                        </th>\n                    </tr>\n                </tfoot>\n                </table>"
      }
     },
     "09a94446cf9d4aaea5de8fee2478bfe3": {
      "model_module_version": "^2.1.4",
      "state": {
       "value": "<table style=\"width:100%\">\n                <thead>\n                    <tr>\n                        <th colspan=\"2\">\n                        Could not create model:\n                        </th>\n                    </tr>\n                </thead>\n                <tbody>\n                    <tr>\n                        <td>Model name</td>\n                        <td> undefined </td>\n                    </tr>\n                    <tr>\n                        <td>Model module</td>\n                        <td> undefined </td>\n                    </tr>\n                    <tr>\n                        <td>Model module version</td>\n                        <td> undefined </td>\n                    </tr>\n                <tbody>\n                <tfoot>\n                    <tr>\n                        <th colspan=\"2\">\n                        Class undefined not found in registry \n                        </th>\n                    </tr>\n                </tfoot>\n                </table>"
      }
     },
     "0a266fd5169140bab25a3a38a8f50fb1": {
      "model_module_version": "^2.1.4",
      "state": {
       "children": [
        "IPY_MODEL_bc40a99774e645d6a95f8c5424ed326e",
        "IPY_MODEL_43698cd83e434735970d098c0c18c682"
       ],
       "value": "<table style=\"width:100%\">\n                <thead>\n                    <tr>\n                        <th colspan=\"2\">\n                        Could not create model:\n                        </th>\n                    </tr>\n                </thead>\n                <tbody>\n                    <tr>\n                        <td>Model name</td>\n                        <td> undefined </td>\n                    </tr>\n                    <tr>\n                        <td>Model module</td>\n                        <td> undefined </td>\n                    </tr>\n                    <tr>\n                        <td>Model module version</td>\n                        <td> undefined </td>\n                    </tr>\n                <tbody>\n                <tfoot>\n                    <tr>\n                        <th colspan=\"2\">\n                        Class undefined not found in registry \n                        </th>\n                    </tr>\n                </tfoot>\n                </table>"
      }
     },
     "0bb041ed3f25401da46f4d3b1b84bedd": {
      "model_module_version": "^2.1.4",
      "state": {
       "msg_id": "",
       "value": "<table style=\"width:100%\">\n                <thead>\n                    <tr>\n                        <th colspan=\"2\">\n                        Could not create model:\n                        </th>\n                    </tr>\n                </thead>\n                <tbody>\n                    <tr>\n                        <td>Model name</td>\n                        <td> undefined </td>\n                    </tr>\n                    <tr>\n                        <td>Model module</td>\n                        <td> undefined </td>\n                    </tr>\n                    <tr>\n                        <td>Model module version</td>\n                        <td> undefined </td>\n                    </tr>\n                <tbody>\n                <tfoot>\n                    <tr>\n                        <th colspan=\"2\">\n                        Class undefined not found in registry \n                        </th>\n                    </tr>\n                </tfoot>\n                </table>"
      }
     },
     "0c491954f101426f8a6d2c2c8f117c65": {
      "model_module_version": "^2.1.4",
      "state": {
       "children": [
        "IPY_MODEL_e8c41950a9d349d2a093b110f66cbb72",
        "IPY_MODEL_b74b2bb279ff49c9a7b8384e115dda91"
       ],
       "value": "<table style=\"width:100%\">\n                <thead>\n                    <tr>\n                        <th colspan=\"2\">\n                        Could not create model:\n                        </th>\n                    </tr>\n                </thead>\n                <tbody>\n                    <tr>\n                        <td>Model name</td>\n                        <td> undefined </td>\n                    </tr>\n                    <tr>\n                        <td>Model module</td>\n                        <td> undefined </td>\n                    </tr>\n                    <tr>\n                        <td>Model module version</td>\n                        <td> undefined </td>\n                    </tr>\n                <tbody>\n                <tfoot>\n                    <tr>\n                        <th colspan=\"2\">\n                        Class undefined not found in registry \n                        </th>\n                    </tr>\n                </tfoot>\n                </table>"
      }
     },
     "0d0f207a9beb4bbc8342dfdfde8abfd1": {
      "model_module_version": "^2.1.4",
      "state": {
       "msg_id": "",
       "value": "<table style=\"width:100%\">\n                <thead>\n                    <tr>\n                        <th colspan=\"2\">\n                        Could not create model:\n                        </th>\n                    </tr>\n                </thead>\n                <tbody>\n                    <tr>\n                        <td>Model name</td>\n                        <td> undefined </td>\n                    </tr>\n                    <tr>\n                        <td>Model module</td>\n                        <td> undefined </td>\n                    </tr>\n                    <tr>\n                        <td>Model module version</td>\n                        <td> undefined </td>\n                    </tr>\n                <tbody>\n                <tfoot>\n                    <tr>\n                        <th colspan=\"2\">\n                        Class undefined not found in registry \n                        </th>\n                    </tr>\n                </tfoot>\n                </table>"
      }
     },
     "17ce0b15ae7f4e07bb389acdb95723a9": {
      "model_module_version": "^2.1.4",
      "state": {
       "children": [
        "IPY_MODEL_98eb087ff1554f3983db53fa15fe205e",
        "IPY_MODEL_2cb31d41b01c41cab49231e6bbcef9a5"
       ],
       "value": "<table style=\"width:100%\">\n                <thead>\n                    <tr>\n                        <th colspan=\"2\">\n                        Could not create model:\n                        </th>\n                    </tr>\n                </thead>\n                <tbody>\n                    <tr>\n                        <td>Model name</td>\n                        <td> undefined </td>\n                    </tr>\n                    <tr>\n                        <td>Model module</td>\n                        <td> undefined </td>\n                    </tr>\n                    <tr>\n                        <td>Model module version</td>\n                        <td> undefined </td>\n                    </tr>\n                <tbody>\n                <tfoot>\n                    <tr>\n                        <th colspan=\"2\">\n                        Class undefined not found in registry \n                        </th>\n                    </tr>\n                </tfoot>\n                </table>"
      }
     },
     "18fbf107d608491b8631570d892bc11c": {
      "model_module_version": "^2.1.4",
      "state": {
       "value": "<table style=\"width:100%\">\n                <thead>\n                    <tr>\n                        <th colspan=\"2\">\n                        Could not create model:\n                        </th>\n                    </tr>\n                </thead>\n                <tbody>\n                    <tr>\n                        <td>Model name</td>\n                        <td> undefined </td>\n                    </tr>\n                    <tr>\n                        <td>Model module</td>\n                        <td> undefined </td>\n                    </tr>\n                    <tr>\n                        <td>Model module version</td>\n                        <td> undefined </td>\n                    </tr>\n                <tbody>\n                <tfoot>\n                    <tr>\n                        <th colspan=\"2\">\n                        Class undefined not found in registry \n                        </th>\n                    </tr>\n                </tfoot>\n                </table>"
      }
     },
     "1a1f8a848b0344be8b0ccf93d1d2026c": {
      "model_module_version": "^2.1.4",
      "state": {
       "value": "<table style=\"width:100%\">\n                <thead>\n                    <tr>\n                        <th colspan=\"2\">\n                        Could not create model:\n                        </th>\n                    </tr>\n                </thead>\n                <tbody>\n                    <tr>\n                        <td>Model name</td>\n                        <td> undefined </td>\n                    </tr>\n                    <tr>\n                        <td>Model module</td>\n                        <td> undefined </td>\n                    </tr>\n                    <tr>\n                        <td>Model module version</td>\n                        <td> undefined </td>\n                    </tr>\n                <tbody>\n                <tfoot>\n                    <tr>\n                        <th colspan=\"2\">\n                        Class undefined not found in registry \n                        </th>\n                    </tr>\n                </tfoot>\n                </table>"
      }
     },
     "1a3f3f985d584928bc8d0c7ab6f70f2e": {
      "model_module_version": "^2.1.4",
      "state": {
       "value": "<table style=\"width:100%\">\n                <thead>\n                    <tr>\n                        <th colspan=\"2\">\n                        Could not create model:\n                        </th>\n                    </tr>\n                </thead>\n                <tbody>\n                    <tr>\n                        <td>Model name</td>\n                        <td> undefined </td>\n                    </tr>\n                    <tr>\n                        <td>Model module</td>\n                        <td> undefined </td>\n                    </tr>\n                    <tr>\n                        <td>Model module version</td>\n                        <td> undefined </td>\n                    </tr>\n                <tbody>\n                <tfoot>\n                    <tr>\n                        <th colspan=\"2\">\n                        Class undefined not found in registry \n                        </th>\n                    </tr>\n                </tfoot>\n                </table>"
      }
     },
     "1cd36f848c6a4887b49476cedbf3d552": {
      "model_module_version": "^2.1.4",
      "state": {
       "value": "<table style=\"width:100%\">\n                <thead>\n                    <tr>\n                        <th colspan=\"2\">\n                        Could not create model:\n                        </th>\n                    </tr>\n                </thead>\n                <tbody>\n                    <tr>\n                        <td>Model name</td>\n                        <td> undefined </td>\n                    </tr>\n                    <tr>\n                        <td>Model module</td>\n                        <td> undefined </td>\n                    </tr>\n                    <tr>\n                        <td>Model module version</td>\n                        <td> undefined </td>\n                    </tr>\n                <tbody>\n                <tfoot>\n                    <tr>\n                        <th colspan=\"2\">\n                        Class undefined not found in registry \n                        </th>\n                    </tr>\n                </tfoot>\n                </table>"
      }
     },
     "1e92dc6d2e6a4746ae2cd05ab57165ec": {
      "model_module_version": "^2.1.4",
      "state": {
       "description": "x",
       "value": "<table style=\"width:100%\">\n                <thead>\n                    <tr>\n                        <th colspan=\"2\">\n                        Could not create model:\n                        </th>\n                    </tr>\n                </thead>\n                <tbody>\n                    <tr>\n                        <td>Model name</td>\n                        <td> undefined </td>\n                    </tr>\n                    <tr>\n                        <td>Model module</td>\n                        <td> undefined </td>\n                    </tr>\n                    <tr>\n                        <td>Model module version</td>\n                        <td> undefined </td>\n                    </tr>\n                <tbody>\n                <tfoot>\n                    <tr>\n                        <th colspan=\"2\">\n                        Class undefined not found in registry \n                        </th>\n                    </tr>\n                </tfoot>\n                </table>"
      }
     },
     "28fc64f255dc4af98ea2e4f433a7e659": {
      "model_module_version": "^2.1.4",
      "state": {
       "children": [
        "IPY_MODEL_d00724d28f834c4991169f92b8e447cb",
        "IPY_MODEL_b5c4b56ba9cd45e1bdca6530cc78c9e1"
       ],
       "value": "<table style=\"width:100%\">\n                <thead>\n                    <tr>\n                        <th colspan=\"2\">\n                        Could not create model:\n                        </th>\n                    </tr>\n                </thead>\n                <tbody>\n                    <tr>\n                        <td>Model name</td>\n                        <td> undefined </td>\n                    </tr>\n                    <tr>\n                        <td>Model module</td>\n                        <td> undefined </td>\n                    </tr>\n                    <tr>\n                        <td>Model module version</td>\n                        <td> undefined </td>\n                    </tr>\n                <tbody>\n                <tfoot>\n                    <tr>\n                        <th colspan=\"2\">\n                        Class undefined not found in registry \n                        </th>\n                    </tr>\n                </tfoot>\n                </table>"
      }
     },
     "2a48c6cde59541fe8760420e54905bb8": {
      "model_module_version": "^2.1.4",
      "state": {
       "value": "<table style=\"width:100%\">\n                <thead>\n                    <tr>\n                        <th colspan=\"2\">\n                        Could not create model:\n                        </th>\n                    </tr>\n                </thead>\n                <tbody>\n                    <tr>\n                        <td>Model name</td>\n                        <td> undefined </td>\n                    </tr>\n                    <tr>\n                        <td>Model module</td>\n                        <td> undefined </td>\n                    </tr>\n                    <tr>\n                        <td>Model module version</td>\n                        <td> undefined </td>\n                    </tr>\n                <tbody>\n                <tfoot>\n                    <tr>\n                        <th colspan=\"2\">\n                        Class undefined not found in registry \n                        </th>\n                    </tr>\n                </tfoot>\n                </table>"
      }
     },
     "2a9914efad9b4709b512186b35fca807": {
      "model_module_version": "^2.1.4",
      "state": {
       "value": "<table style=\"width:100%\">\n                <thead>\n                    <tr>\n                        <th colspan=\"2\">\n                        Could not create model:\n                        </th>\n                    </tr>\n                </thead>\n                <tbody>\n                    <tr>\n                        <td>Model name</td>\n                        <td> undefined </td>\n                    </tr>\n                    <tr>\n                        <td>Model module</td>\n                        <td> undefined </td>\n                    </tr>\n                    <tr>\n                        <td>Model module version</td>\n                        <td> undefined </td>\n                    </tr>\n                <tbody>\n                <tfoot>\n                    <tr>\n                        <th colspan=\"2\">\n                        Class undefined not found in registry \n                        </th>\n                    </tr>\n                </tfoot>\n                </table>"
      }
     },
     "2b61a2efed51453ba7d9b61640e3257b": {
      "model_module_version": "^2.1.4",
      "state": {
       "children": [
        "IPY_MODEL_ca7fc7414df744c1a12a80afcd929124",
        "IPY_MODEL_892d3ae0c7194bf880319e259ecc2978"
       ],
       "value": "<table style=\"width:100%\">\n                <thead>\n                    <tr>\n                        <th colspan=\"2\">\n                        Could not create model:\n                        </th>\n                    </tr>\n                </thead>\n                <tbody>\n                    <tr>\n                        <td>Model name</td>\n                        <td> undefined </td>\n                    </tr>\n                    <tr>\n                        <td>Model module</td>\n                        <td> undefined </td>\n                    </tr>\n                    <tr>\n                        <td>Model module version</td>\n                        <td> undefined </td>\n                    </tr>\n                <tbody>\n                <tfoot>\n                    <tr>\n                        <th colspan=\"2\">\n                        Class undefined not found in registry \n                        </th>\n                    </tr>\n                </tfoot>\n                </table>"
      }
     },
     "2cb31d41b01c41cab49231e6bbcef9a5": {
      "model_module_version": "^2.1.4",
      "state": {
       "msg_id": "",
       "value": "<table style=\"width:100%\">\n                <thead>\n                    <tr>\n                        <th colspan=\"2\">\n                        Could not create model:\n                        </th>\n                    </tr>\n                </thead>\n                <tbody>\n                    <tr>\n                        <td>Model name</td>\n                        <td> undefined </td>\n                    </tr>\n                    <tr>\n                        <td>Model module</td>\n                        <td> undefined </td>\n                    </tr>\n                    <tr>\n                        <td>Model module version</td>\n                        <td> undefined </td>\n                    </tr>\n                <tbody>\n                <tfoot>\n                    <tr>\n                        <th colspan=\"2\">\n                        Class undefined not found in registry \n                        </th>\n                    </tr>\n                </tfoot>\n                </table>"
      }
     },
     "2f4edba5b47e4d5590df1386c754fd88": {
      "model_module_version": "^2.1.4",
      "state": {
       "value": "<table style=\"width:100%\">\n                <thead>\n                    <tr>\n                        <th colspan=\"2\">\n                        Could not create model:\n                        </th>\n                    </tr>\n                </thead>\n                <tbody>\n                    <tr>\n                        <td>Model name</td>\n                        <td> undefined </td>\n                    </tr>\n                    <tr>\n                        <td>Model module</td>\n                        <td> undefined </td>\n                    </tr>\n                    <tr>\n                        <td>Model module version</td>\n                        <td> undefined </td>\n                    </tr>\n                <tbody>\n                <tfoot>\n                    <tr>\n                        <th colspan=\"2\">\n                        Class undefined not found in registry \n                        </th>\n                    </tr>\n                </tfoot>\n                </table>"
      }
     },
     "32e0e6999b084991bcd84438c81ff67f": {
      "model_module_version": "^2.1.4",
      "state": {
       "value": "<table style=\"width:100%\">\n                <thead>\n                    <tr>\n                        <th colspan=\"2\">\n                        Could not create model:\n                        </th>\n                    </tr>\n                </thead>\n                <tbody>\n                    <tr>\n                        <td>Model name</td>\n                        <td> undefined </td>\n                    </tr>\n                    <tr>\n                        <td>Model module</td>\n                        <td> undefined </td>\n                    </tr>\n                    <tr>\n                        <td>Model module version</td>\n                        <td> undefined </td>\n                    </tr>\n                <tbody>\n                <tfoot>\n                    <tr>\n                        <th colspan=\"2\">\n                        Class undefined not found in registry \n                        </th>\n                    </tr>\n                </tfoot>\n                </table>"
      }
     },
     "3ac7a342207a410888cc1bde2c42f286": {
      "model_module_version": "^2.1.4",
      "state": {
       "value": "<table style=\"width:100%\">\n                <thead>\n                    <tr>\n                        <th colspan=\"2\">\n                        Could not create model:\n                        </th>\n                    </tr>\n                </thead>\n                <tbody>\n                    <tr>\n                        <td>Model name</td>\n                        <td> undefined </td>\n                    </tr>\n                    <tr>\n                        <td>Model module</td>\n                        <td> undefined </td>\n                    </tr>\n                    <tr>\n                        <td>Model module version</td>\n                        <td> undefined </td>\n                    </tr>\n                <tbody>\n                <tfoot>\n                    <tr>\n                        <th colspan=\"2\">\n                        Class undefined not found in registry \n                        </th>\n                    </tr>\n                </tfoot>\n                </table>"
      }
     },
     "3c2f6371fb9d4ef8963013d7ec752f1a": {
      "model_module": "jupyter-js-widgets",
      "model_module_version": "~2.1.4",
      "model_name": "LayoutModel",
      "state": {
       "_model_module_version": "~2.1.4",
       "_view_module_version": "~2.1.4"
      }
     },
     "4085225553f745b5a56321cf316c733e": {
      "model_module": "jupyter-js-widgets",
      "model_module_version": "~2.1.4",
      "model_name": "SliderStyleModel",
      "state": {
       "_model_module_version": "~2.1.4",
       "_view_module_version": "~2.1.4"
      }
     },
     "40dd2c2fbf0d41babb963d45187381e3": {
      "model_module_version": "^2.1.4",
      "state": {
       "value": "<table style=\"width:100%\">\n                <thead>\n                    <tr>\n                        <th colspan=\"2\">\n                        Could not create model:\n                        </th>\n                    </tr>\n                </thead>\n                <tbody>\n                    <tr>\n                        <td>Model name</td>\n                        <td> undefined </td>\n                    </tr>\n                    <tr>\n                        <td>Model module</td>\n                        <td> undefined </td>\n                    </tr>\n                    <tr>\n                        <td>Model module version</td>\n                        <td> undefined </td>\n                    </tr>\n                <tbody>\n                <tfoot>\n                    <tr>\n                        <th colspan=\"2\">\n                        Class undefined not found in registry \n                        </th>\n                    </tr>\n                </tfoot>\n                </table>"
      }
     },
     "43698cd83e434735970d098c0c18c682": {
      "model_module_version": "^2.1.4",
      "state": {
       "msg_id": "",
       "value": "<table style=\"width:100%\">\n                <thead>\n                    <tr>\n                        <th colspan=\"2\">\n                        Could not create model:\n                        </th>\n                    </tr>\n                </thead>\n                <tbody>\n                    <tr>\n                        <td>Model name</td>\n                        <td> undefined </td>\n                    </tr>\n                    <tr>\n                        <td>Model module</td>\n                        <td> undefined </td>\n                    </tr>\n                    <tr>\n                        <td>Model module version</td>\n                        <td> undefined </td>\n                    </tr>\n                <tbody>\n                <tfoot>\n                    <tr>\n                        <th colspan=\"2\">\n                        Class undefined not found in registry \n                        </th>\n                    </tr>\n                </tfoot>\n                </table>"
      }
     },
     "4516a929146f4c6aba450499be5a6bae": {
      "model_module_version": "^2.1.4",
      "state": {
       "children": [
        "IPY_MODEL_1e92dc6d2e6a4746ae2cd05ab57165ec",
        "IPY_MODEL_0d0f207a9beb4bbc8342dfdfde8abfd1"
       ],
       "value": "<table style=\"width:100%\">\n                <thead>\n                    <tr>\n                        <th colspan=\"2\">\n                        Could not create model:\n                        </th>\n                    </tr>\n                </thead>\n                <tbody>\n                    <tr>\n                        <td>Model name</td>\n                        <td> undefined </td>\n                    </tr>\n                    <tr>\n                        <td>Model module</td>\n                        <td> undefined </td>\n                    </tr>\n                    <tr>\n                        <td>Model module version</td>\n                        <td> undefined </td>\n                    </tr>\n                <tbody>\n                <tfoot>\n                    <tr>\n                        <th colspan=\"2\">\n                        Class undefined not found in registry \n                        </th>\n                    </tr>\n                </tfoot>\n                </table>"
      }
     },
     "46c3f00a4866401bb7d7dd886668baeb": {
      "model_module_version": "^2.1.4",
      "state": {
       "msg_id": "",
       "value": "<table style=\"width:100%\">\n                <thead>\n                    <tr>\n                        <th colspan=\"2\">\n                        Could not create model:\n                        </th>\n                    </tr>\n                </thead>\n                <tbody>\n                    <tr>\n                        <td>Model name</td>\n                        <td> undefined </td>\n                    </tr>\n                    <tr>\n                        <td>Model module</td>\n                        <td> undefined </td>\n                    </tr>\n                    <tr>\n                        <td>Model module version</td>\n                        <td> undefined </td>\n                    </tr>\n                <tbody>\n                <tfoot>\n                    <tr>\n                        <th colspan=\"2\">\n                        Class undefined not found in registry \n                        </th>\n                    </tr>\n                </tfoot>\n                </table>"
      }
     },
     "49aa40dd11114ddabb68be1d01d1e41d": {
      "model_module_version": "^2.1.4",
      "state": {
       "value": "<table style=\"width:100%\">\n                <thead>\n                    <tr>\n                        <th colspan=\"2\">\n                        Could not create model:\n                        </th>\n                    </tr>\n                </thead>\n                <tbody>\n                    <tr>\n                        <td>Model name</td>\n                        <td> undefined </td>\n                    </tr>\n                    <tr>\n                        <td>Model module</td>\n                        <td> undefined </td>\n                    </tr>\n                    <tr>\n                        <td>Model module version</td>\n                        <td> undefined </td>\n                    </tr>\n                <tbody>\n                <tfoot>\n                    <tr>\n                        <th colspan=\"2\">\n                        Class undefined not found in registry \n                        </th>\n                    </tr>\n                </tfoot>\n                </table>"
      }
     },
     "4a96e2d67ee54a41a257d81719387929": {
      "model_module_version": "^2.1.4",
      "state": {
       "msg_id": "",
       "value": "<table style=\"width:100%\">\n                <thead>\n                    <tr>\n                        <th colspan=\"2\">\n                        Could not create model:\n                        </th>\n                    </tr>\n                </thead>\n                <tbody>\n                    <tr>\n                        <td>Model name</td>\n                        <td> undefined </td>\n                    </tr>\n                    <tr>\n                        <td>Model module</td>\n                        <td> undefined </td>\n                    </tr>\n                    <tr>\n                        <td>Model module version</td>\n                        <td> undefined </td>\n                    </tr>\n                <tbody>\n                <tfoot>\n                    <tr>\n                        <th colspan=\"2\">\n                        Class undefined not found in registry \n                        </th>\n                    </tr>\n                </tfoot>\n                </table>"
      }
     },
     "501729002a44409ba89f0ce4598c4615": {
      "model_module_version": "^2.1.4",
      "state": {
       "value": "<table style=\"width:100%\">\n                <thead>\n                    <tr>\n                        <th colspan=\"2\">\n                        Could not create model:\n                        </th>\n                    </tr>\n                </thead>\n                <tbody>\n                    <tr>\n                        <td>Model name</td>\n                        <td> undefined </td>\n                    </tr>\n                    <tr>\n                        <td>Model module</td>\n                        <td> undefined </td>\n                    </tr>\n                    <tr>\n                        <td>Model module version</td>\n                        <td> undefined </td>\n                    </tr>\n                <tbody>\n                <tfoot>\n                    <tr>\n                        <th colspan=\"2\">\n                        Class undefined not found in registry \n                        </th>\n                    </tr>\n                </tfoot>\n                </table>"
      }
     },
     "55c4545c3cf9416ca5f9b6468f70a6ea": {
      "model_module_version": "^2.1.4",
      "state": {
       "value": "<table style=\"width:100%\">\n                <thead>\n                    <tr>\n                        <th colspan=\"2\">\n                        Could not create model:\n                        </th>\n                    </tr>\n                </thead>\n                <tbody>\n                    <tr>\n                        <td>Model name</td>\n                        <td> undefined </td>\n                    </tr>\n                    <tr>\n                        <td>Model module</td>\n                        <td> undefined </td>\n                    </tr>\n                    <tr>\n                        <td>Model module version</td>\n                        <td> undefined </td>\n                    </tr>\n                <tbody>\n                <tfoot>\n                    <tr>\n                        <th colspan=\"2\">\n                        Class undefined not found in registry \n                        </th>\n                    </tr>\n                </tfoot>\n                </table>"
      }
     },
     "5754386e4c0348748bd72a39c98e3513": {
      "model_module_version": "^2.1.4",
      "state": {
       "value": "<table style=\"width:100%\">\n                <thead>\n                    <tr>\n                        <th colspan=\"2\">\n                        Could not create model:\n                        </th>\n                    </tr>\n                </thead>\n                <tbody>\n                    <tr>\n                        <td>Model name</td>\n                        <td> undefined </td>\n                    </tr>\n                    <tr>\n                        <td>Model module</td>\n                        <td> undefined </td>\n                    </tr>\n                    <tr>\n                        <td>Model module version</td>\n                        <td> undefined </td>\n                    </tr>\n                <tbody>\n                <tfoot>\n                    <tr>\n                        <th colspan=\"2\">\n                        Class undefined not found in registry \n                        </th>\n                    </tr>\n                </tfoot>\n                </table>"
      }
     },
     "5d5b28b089e242db97c0fb1fbdd63320": {
      "model_module_version": "^2.1.4",
      "state": {
       "value": "<table style=\"width:100%\">\n                <thead>\n                    <tr>\n                        <th colspan=\"2\">\n                        Could not create model:\n                        </th>\n                    </tr>\n                </thead>\n                <tbody>\n                    <tr>\n                        <td>Model name</td>\n                        <td> undefined </td>\n                    </tr>\n                    <tr>\n                        <td>Model module</td>\n                        <td> undefined </td>\n                    </tr>\n                    <tr>\n                        <td>Model module version</td>\n                        <td> undefined </td>\n                    </tr>\n                <tbody>\n                <tfoot>\n                    <tr>\n                        <th colspan=\"2\">\n                        Class undefined not found in registry \n                        </th>\n                    </tr>\n                </tfoot>\n                </table>"
      }
     },
     "5ddce768a0cd44fcb6a02f55d97511c0": {
      "model_module_version": "^2.1.4",
      "state": {
       "description": "x",
       "value": "<table style=\"width:100%\">\n                <thead>\n                    <tr>\n                        <th colspan=\"2\">\n                        Could not create model:\n                        </th>\n                    </tr>\n                </thead>\n                <tbody>\n                    <tr>\n                        <td>Model name</td>\n                        <td> undefined </td>\n                    </tr>\n                    <tr>\n                        <td>Model module</td>\n                        <td> undefined </td>\n                    </tr>\n                    <tr>\n                        <td>Model module version</td>\n                        <td> undefined </td>\n                    </tr>\n                <tbody>\n                <tfoot>\n                    <tr>\n                        <th colspan=\"2\">\n                        Class undefined not found in registry \n                        </th>\n                    </tr>\n                </tfoot>\n                </table>"
      }
     },
     "5ef172040b89471c852363eeffcd40ad": {
      "model_module": "jupyter-js-widgets",
      "model_module_version": "~2.1.4",
      "model_name": "OutputModel",
      "state": {
       "_dom_classes": [],
       "_model_module": "jupyter-js-widgets",
       "_model_module_version": "~2.1.4",
       "_view_module": "jupyter-js-widgets",
       "_view_module_version": "~2.1.4",
       "layout": "IPY_MODEL_61d17c7ab05d49ad917fe0ad9a2f5082",
       "msg_throttle": 1
      }
     },
     "61d17c7ab05d49ad917fe0ad9a2f5082": {
      "model_module": "jupyter-js-widgets",
      "model_module_version": "~2.1.4",
      "model_name": "LayoutModel",
      "state": {
       "_model_module_version": "~2.1.4",
       "_view_module_version": "~2.1.4"
      }
     },
     "621171c6d3824e1aa20b00a470355ba1": {
      "model_module_version": "^2.1.4",
      "state": {
       "value": "<table style=\"width:100%\">\n                <thead>\n                    <tr>\n                        <th colspan=\"2\">\n                        Could not create model:\n                        </th>\n                    </tr>\n                </thead>\n                <tbody>\n                    <tr>\n                        <td>Model name</td>\n                        <td> undefined </td>\n                    </tr>\n                    <tr>\n                        <td>Model module</td>\n                        <td> undefined </td>\n                    </tr>\n                    <tr>\n                        <td>Model module version</td>\n                        <td> undefined </td>\n                    </tr>\n                <tbody>\n                <tfoot>\n                    <tr>\n                        <th colspan=\"2\">\n                        Class undefined not found in registry \n                        </th>\n                    </tr>\n                </tfoot>\n                </table>"
      }
     },
     "68b9424e93a54f97b286548081d65a10": {
      "model_module_version": "^2.1.4",
      "state": {
       "value": "<table style=\"width:100%\">\n                <thead>\n                    <tr>\n                        <th colspan=\"2\">\n                        Could not create model:\n                        </th>\n                    </tr>\n                </thead>\n                <tbody>\n                    <tr>\n                        <td>Model name</td>\n                        <td> undefined </td>\n                    </tr>\n                    <tr>\n                        <td>Model module</td>\n                        <td> undefined </td>\n                    </tr>\n                    <tr>\n                        <td>Model module version</td>\n                        <td> undefined </td>\n                    </tr>\n                <tbody>\n                <tfoot>\n                    <tr>\n                        <th colspan=\"2\">\n                        Class undefined not found in registry \n                        </th>\n                    </tr>\n                </tfoot>\n                </table>"
      }
     },
     "6a248cb18c8c40658ea8cf7615f7a622": {
      "model_module_version": "^2.1.4",
      "state": {
       "value": "<table style=\"width:100%\">\n                <thead>\n                    <tr>\n                        <th colspan=\"2\">\n                        Could not create model:\n                        </th>\n                    </tr>\n                </thead>\n                <tbody>\n                    <tr>\n                        <td>Model name</td>\n                        <td> undefined </td>\n                    </tr>\n                    <tr>\n                        <td>Model module</td>\n                        <td> undefined </td>\n                    </tr>\n                    <tr>\n                        <td>Model module version</td>\n                        <td> undefined </td>\n                    </tr>\n                <tbody>\n                <tfoot>\n                    <tr>\n                        <th colspan=\"2\">\n                        Class undefined not found in registry \n                        </th>\n                    </tr>\n                </tfoot>\n                </table>"
      }
     },
     "6aaa433ab117461b889545d142a27175": {
      "model_module_version": "^2.1.4",
      "state": {
       "description": "x",
       "value": "<table style=\"width:100%\">\n                <thead>\n                    <tr>\n                        <th colspan=\"2\">\n                        Could not create model:\n                        </th>\n                    </tr>\n                </thead>\n                <tbody>\n                    <tr>\n                        <td>Model name</td>\n                        <td> undefined </td>\n                    </tr>\n                    <tr>\n                        <td>Model module</td>\n                        <td> undefined </td>\n                    </tr>\n                    <tr>\n                        <td>Model module version</td>\n                        <td> undefined </td>\n                    </tr>\n                <tbody>\n                <tfoot>\n                    <tr>\n                        <th colspan=\"2\">\n                        Class undefined not found in registry \n                        </th>\n                    </tr>\n                </tfoot>\n                </table>"
      }
     },
     "73132f70043c4a6cb2a8ceb471a8f252": {
      "model_module_version": "^2.1.4",
      "state": {
       "value": "<table style=\"width:100%\">\n                <thead>\n                    <tr>\n                        <th colspan=\"2\">\n                        Could not create model:\n                        </th>\n                    </tr>\n                </thead>\n                <tbody>\n                    <tr>\n                        <td>Model name</td>\n                        <td> undefined </td>\n                    </tr>\n                    <tr>\n                        <td>Model module</td>\n                        <td> undefined </td>\n                    </tr>\n                    <tr>\n                        <td>Model module version</td>\n                        <td> undefined </td>\n                    </tr>\n                <tbody>\n                <tfoot>\n                    <tr>\n                        <th colspan=\"2\">\n                        Class undefined not found in registry \n                        </th>\n                    </tr>\n                </tfoot>\n                </table>"
      }
     },
     "76b009679d104667af00faea672b290a": {
      "model_module_version": "^2.1.4",
      "state": {
       "value": "<table style=\"width:100%\">\n                <thead>\n                    <tr>\n                        <th colspan=\"2\">\n                        Could not create model:\n                        </th>\n                    </tr>\n                </thead>\n                <tbody>\n                    <tr>\n                        <td>Model name</td>\n                        <td> undefined </td>\n                    </tr>\n                    <tr>\n                        <td>Model module</td>\n                        <td> undefined </td>\n                    </tr>\n                    <tr>\n                        <td>Model module version</td>\n                        <td> undefined </td>\n                    </tr>\n                <tbody>\n                <tfoot>\n                    <tr>\n                        <th colspan=\"2\">\n                        Class undefined not found in registry \n                        </th>\n                    </tr>\n                </tfoot>\n                </table>"
      }
     },
     "79c73807325f49d393b6cf08bad0b9ef": {
      "model_module_version": "^2.1.4",
      "state": {
       "value": "<table style=\"width:100%\">\n                <thead>\n                    <tr>\n                        <th colspan=\"2\">\n                        Could not create model:\n                        </th>\n                    </tr>\n                </thead>\n                <tbody>\n                    <tr>\n                        <td>Model name</td>\n                        <td> undefined </td>\n                    </tr>\n                    <tr>\n                        <td>Model module</td>\n                        <td> undefined </td>\n                    </tr>\n                    <tr>\n                        <td>Model module version</td>\n                        <td> undefined </td>\n                    </tr>\n                <tbody>\n                <tfoot>\n                    <tr>\n                        <th colspan=\"2\">\n                        Class undefined not found in registry \n                        </th>\n                    </tr>\n                </tfoot>\n                </table>"
      }
     },
     "7b2a75f21e23408ba72e5f04d40c4ae0": {
      "model_module_version": "^2.1.4",
      "state": {
       "msg_id": "",
       "value": "<table style=\"width:100%\">\n                <thead>\n                    <tr>\n                        <th colspan=\"2\">\n                        Could not create model:\n                        </th>\n                    </tr>\n                </thead>\n                <tbody>\n                    <tr>\n                        <td>Model name</td>\n                        <td> undefined </td>\n                    </tr>\n                    <tr>\n                        <td>Model module</td>\n                        <td> undefined </td>\n                    </tr>\n                    <tr>\n                        <td>Model module version</td>\n                        <td> undefined </td>\n                    </tr>\n                <tbody>\n                <tfoot>\n                    <tr>\n                        <th colspan=\"2\">\n                        Class undefined not found in registry \n                        </th>\n                    </tr>\n                </tfoot>\n                </table>"
      }
     },
     "7fdb52036a2c425b968f1cb3f18880cc": {
      "model_module": "jupyter-js-widgets",
      "model_module_version": "~2.1.4",
      "model_name": "VBoxModel",
      "state": {
       "_dom_classes": [
        "widget-interact"
       ],
       "_model_module_version": "~2.1.4",
       "_view_module_version": "~2.1.4",
       "children": [
        "IPY_MODEL_acf1144a079947a3b72f448ff497b5aa",
        "IPY_MODEL_5ef172040b89471c852363eeffcd40ad"
       ],
       "layout": "IPY_MODEL_a3da27f324824245ab4548048acf08ce"
      }
     },
     "804d2f26720d4c7a80aca19ce362f6e3": {
      "model_module_version": "^2.1.4",
      "state": {
       "value": "<table style=\"width:100%\">\n                <thead>\n                    <tr>\n                        <th colspan=\"2\">\n                        Could not create model:\n                        </th>\n                    </tr>\n                </thead>\n                <tbody>\n                    <tr>\n                        <td>Model name</td>\n                        <td> undefined </td>\n                    </tr>\n                    <tr>\n                        <td>Model module</td>\n                        <td> undefined </td>\n                    </tr>\n                    <tr>\n                        <td>Model module version</td>\n                        <td> undefined </td>\n                    </tr>\n                <tbody>\n                <tfoot>\n                    <tr>\n                        <th colspan=\"2\">\n                        Class undefined not found in registry \n                        </th>\n                    </tr>\n                </tfoot>\n                </table>"
      }
     },
     "83640725b367458d874b51c6da3c0298": {
      "model_module_version": "^2.1.4",
      "state": {
       "description": "x",
       "value": "<table style=\"width:100%\">\n                <thead>\n                    <tr>\n                        <th colspan=\"2\">\n                        Could not create model:\n                        </th>\n                    </tr>\n                </thead>\n                <tbody>\n                    <tr>\n                        <td>Model name</td>\n                        <td> undefined </td>\n                    </tr>\n                    <tr>\n                        <td>Model module</td>\n                        <td> undefined </td>\n                    </tr>\n                    <tr>\n                        <td>Model module version</td>\n                        <td> undefined </td>\n                    </tr>\n                <tbody>\n                <tfoot>\n                    <tr>\n                        <th colspan=\"2\">\n                        Class undefined not found in registry \n                        </th>\n                    </tr>\n                </tfoot>\n                </table>"
      }
     },
     "842d398e0f0b49bb82816bf12e32d8ae": {
      "model_module_version": "^2.1.4",
      "state": {
       "children": [
        "IPY_MODEL_b3aaafaed364432d9f29a2334748fb51",
        "IPY_MODEL_0bb041ed3f25401da46f4d3b1b84bedd"
       ],
       "value": "<table style=\"width:100%\">\n                <thead>\n                    <tr>\n                        <th colspan=\"2\">\n                        Could not create model:\n                        </th>\n                    </tr>\n                </thead>\n                <tbody>\n                    <tr>\n                        <td>Model name</td>\n                        <td> undefined </td>\n                    </tr>\n                    <tr>\n                        <td>Model module</td>\n                        <td> undefined </td>\n                    </tr>\n                    <tr>\n                        <td>Model module version</td>\n                        <td> undefined </td>\n                    </tr>\n                <tbody>\n                <tfoot>\n                    <tr>\n                        <th colspan=\"2\">\n                        Class undefined not found in registry \n                        </th>\n                    </tr>\n                </tfoot>\n                </table>"
      }
     },
     "892d3ae0c7194bf880319e259ecc2978": {
      "model_module_version": "^2.1.4",
      "state": {
       "msg_id": "",
       "value": "<table style=\"width:100%\">\n                <thead>\n                    <tr>\n                        <th colspan=\"2\">\n                        Could not create model:\n                        </th>\n                    </tr>\n                </thead>\n                <tbody>\n                    <tr>\n                        <td>Model name</td>\n                        <td> undefined </td>\n                    </tr>\n                    <tr>\n                        <td>Model module</td>\n                        <td> undefined </td>\n                    </tr>\n                    <tr>\n                        <td>Model module version</td>\n                        <td> undefined </td>\n                    </tr>\n                <tbody>\n                <tfoot>\n                    <tr>\n                        <th colspan=\"2\">\n                        Class undefined not found in registry \n                        </th>\n                    </tr>\n                </tfoot>\n                </table>"
      }
     },
     "8c53fafbc3f84f67a956e57f3add21e6": {
      "model_module_version": "^2.1.4",
      "state": {
       "value": "<table style=\"width:100%\">\n                <thead>\n                    <tr>\n                        <th colspan=\"2\">\n                        Could not create model:\n                        </th>\n                    </tr>\n                </thead>\n                <tbody>\n                    <tr>\n                        <td>Model name</td>\n                        <td> undefined </td>\n                    </tr>\n                    <tr>\n                        <td>Model module</td>\n                        <td> undefined </td>\n                    </tr>\n                    <tr>\n                        <td>Model module version</td>\n                        <td> undefined </td>\n                    </tr>\n                <tbody>\n                <tfoot>\n                    <tr>\n                        <th colspan=\"2\">\n                        Class undefined not found in registry \n                        </th>\n                    </tr>\n                </tfoot>\n                </table>"
      }
     },
     "96847b2fae384f758634f48976d6387d": {
      "model_module_version": "^2.1.4",
      "state": {
       "value": "<table style=\"width:100%\">\n                <thead>\n                    <tr>\n                        <th colspan=\"2\">\n                        Could not create model:\n                        </th>\n                    </tr>\n                </thead>\n                <tbody>\n                    <tr>\n                        <td>Model name</td>\n                        <td> undefined </td>\n                    </tr>\n                    <tr>\n                        <td>Model module</td>\n                        <td> undefined </td>\n                    </tr>\n                    <tr>\n                        <td>Model module version</td>\n                        <td> undefined </td>\n                    </tr>\n                <tbody>\n                <tfoot>\n                    <tr>\n                        <th colspan=\"2\">\n                        Class undefined not found in registry \n                        </th>\n                    </tr>\n                </tfoot>\n                </table>"
      }
     },
     "98eb087ff1554f3983db53fa15fe205e": {
      "model_module_version": "^2.1.4",
      "state": {
       "description": "x",
       "value": "<table style=\"width:100%\">\n                <thead>\n                    <tr>\n                        <th colspan=\"2\">\n                        Could not create model:\n                        </th>\n                    </tr>\n                </thead>\n                <tbody>\n                    <tr>\n                        <td>Model name</td>\n                        <td> undefined </td>\n                    </tr>\n                    <tr>\n                        <td>Model module</td>\n                        <td> undefined </td>\n                    </tr>\n                    <tr>\n                        <td>Model module version</td>\n                        <td> undefined </td>\n                    </tr>\n                <tbody>\n                <tfoot>\n                    <tr>\n                        <th colspan=\"2\">\n                        Class undefined not found in registry \n                        </th>\n                    </tr>\n                </tfoot>\n                </table>"
      }
     },
     "a2dd2b1e1f9b4734b2e3aa1dbffdcd04": {
      "model_module_version": "^2.1.4",
      "state": {
       "value": "<table style=\"width:100%\">\n                <thead>\n                    <tr>\n                        <th colspan=\"2\">\n                        Could not create model:\n                        </th>\n                    </tr>\n                </thead>\n                <tbody>\n                    <tr>\n                        <td>Model name</td>\n                        <td> undefined </td>\n                    </tr>\n                    <tr>\n                        <td>Model module</td>\n                        <td> undefined </td>\n                    </tr>\n                    <tr>\n                        <td>Model module version</td>\n                        <td> undefined </td>\n                    </tr>\n                <tbody>\n                <tfoot>\n                    <tr>\n                        <th colspan=\"2\">\n                        Class undefined not found in registry \n                        </th>\n                    </tr>\n                </tfoot>\n                </table>"
      }
     },
     "a2f0d26a526e4befb8a931dedb6363eb": {
      "model_module_version": "^2.1.4",
      "state": {
       "value": "<table style=\"width:100%\">\n                <thead>\n                    <tr>\n                        <th colspan=\"2\">\n                        Could not create model:\n                        </th>\n                    </tr>\n                </thead>\n                <tbody>\n                    <tr>\n                        <td>Model name</td>\n                        <td> undefined </td>\n                    </tr>\n                    <tr>\n                        <td>Model module</td>\n                        <td> undefined </td>\n                    </tr>\n                    <tr>\n                        <td>Model module version</td>\n                        <td> undefined </td>\n                    </tr>\n                <tbody>\n                <tfoot>\n                    <tr>\n                        <th colspan=\"2\">\n                        Class undefined not found in registry \n                        </th>\n                    </tr>\n                </tfoot>\n                </table>"
      }
     },
     "a3da27f324824245ab4548048acf08ce": {
      "model_module": "jupyter-js-widgets",
      "model_module_version": "~2.1.4",
      "model_name": "LayoutModel",
      "state": {
       "_model_module_version": "~2.1.4",
       "_view_module_version": "~2.1.4"
      }
     },
     "a5e1aa2fc5f641d098f2cfa6420a592b": {
      "model_module_version": "^2.1.4",
      "state": {
       "value": "<table style=\"width:100%\">\n                <thead>\n                    <tr>\n                        <th colspan=\"2\">\n                        Could not create model:\n                        </th>\n                    </tr>\n                </thead>\n                <tbody>\n                    <tr>\n                        <td>Model name</td>\n                        <td> undefined </td>\n                    </tr>\n                    <tr>\n                        <td>Model module</td>\n                        <td> undefined </td>\n                    </tr>\n                    <tr>\n                        <td>Model module version</td>\n                        <td> undefined </td>\n                    </tr>\n                <tbody>\n                <tfoot>\n                    <tr>\n                        <th colspan=\"2\">\n                        Class undefined not found in registry \n                        </th>\n                    </tr>\n                </tfoot>\n                </table>"
      }
     },
     "acf1144a079947a3b72f448ff497b5aa": {
      "model_module": "jupyter-js-widgets",
      "model_module_version": "~2.1.4",
      "model_name": "IntSliderModel",
      "state": {
       "_model_module_version": "~2.1.4",
       "_view_module_version": "~2.1.4",
       "description": "x",
       "layout": "IPY_MODEL_3c2f6371fb9d4ef8963013d7ec752f1a",
       "max": 30,
       "min": -10,
       "style": "IPY_MODEL_4085225553f745b5a56321cf316c733e",
       "value": 10
      }
     },
     "ae4e57c864524cccb1f82071a8cd1230": {
      "model_module_version": "^2.1.4",
      "state": {
       "children": [
        "IPY_MODEL_83640725b367458d874b51c6da3c0298",
        "IPY_MODEL_46c3f00a4866401bb7d7dd886668baeb"
       ],
       "value": "<table style=\"width:100%\">\n                <thead>\n                    <tr>\n                        <th colspan=\"2\">\n                        Could not create model:\n                        </th>\n                    </tr>\n                </thead>\n                <tbody>\n                    <tr>\n                        <td>Model name</td>\n                        <td> undefined </td>\n                    </tr>\n                    <tr>\n                        <td>Model module</td>\n                        <td> undefined </td>\n                    </tr>\n                    <tr>\n                        <td>Model module version</td>\n                        <td> undefined </td>\n                    </tr>\n                <tbody>\n                <tfoot>\n                    <tr>\n                        <th colspan=\"2\">\n                        Class undefined not found in registry \n                        </th>\n                    </tr>\n                </tfoot>\n                </table>"
      }
     },
     "b3aaafaed364432d9f29a2334748fb51": {
      "model_module_version": "^2.1.4",
      "state": {
       "description": "x",
       "value": "<table style=\"width:100%\">\n                <thead>\n                    <tr>\n                        <th colspan=\"2\">\n                        Could not create model:\n                        </th>\n                    </tr>\n                </thead>\n                <tbody>\n                    <tr>\n                        <td>Model name</td>\n                        <td> undefined </td>\n                    </tr>\n                    <tr>\n                        <td>Model module</td>\n                        <td> undefined </td>\n                    </tr>\n                    <tr>\n                        <td>Model module version</td>\n                        <td> undefined </td>\n                    </tr>\n                <tbody>\n                <tfoot>\n                    <tr>\n                        <th colspan=\"2\">\n                        Class undefined not found in registry \n                        </th>\n                    </tr>\n                </tfoot>\n                </table>"
      }
     },
     "b5c4b56ba9cd45e1bdca6530cc78c9e1": {
      "model_module_version": "^2.1.4",
      "state": {
       "msg_id": "",
       "value": "<table style=\"width:100%\">\n                <thead>\n                    <tr>\n                        <th colspan=\"2\">\n                        Could not create model:\n                        </th>\n                    </tr>\n                </thead>\n                <tbody>\n                    <tr>\n                        <td>Model name</td>\n                        <td> undefined </td>\n                    </tr>\n                    <tr>\n                        <td>Model module</td>\n                        <td> undefined </td>\n                    </tr>\n                    <tr>\n                        <td>Model module version</td>\n                        <td> undefined </td>\n                    </tr>\n                <tbody>\n                <tfoot>\n                    <tr>\n                        <th colspan=\"2\">\n                        Class undefined not found in registry \n                        </th>\n                    </tr>\n                </tfoot>\n                </table>"
      }
     },
     "b74b2bb279ff49c9a7b8384e115dda91": {
      "model_module_version": "^2.1.4",
      "state": {
       "msg_id": "",
       "value": "<table style=\"width:100%\">\n                <thead>\n                    <tr>\n                        <th colspan=\"2\">\n                        Could not create model:\n                        </th>\n                    </tr>\n                </thead>\n                <tbody>\n                    <tr>\n                        <td>Model name</td>\n                        <td> undefined </td>\n                    </tr>\n                    <tr>\n                        <td>Model module</td>\n                        <td> undefined </td>\n                    </tr>\n                    <tr>\n                        <td>Model module version</td>\n                        <td> undefined </td>\n                    </tr>\n                <tbody>\n                <tfoot>\n                    <tr>\n                        <th colspan=\"2\">\n                        Class undefined not found in registry \n                        </th>\n                    </tr>\n                </tfoot>\n                </table>"
      }
     },
     "bc40a99774e645d6a95f8c5424ed326e": {
      "model_module_version": "^2.1.4",
      "state": {
       "description": "x",
       "value": "<table style=\"width:100%\">\n                <thead>\n                    <tr>\n                        <th colspan=\"2\">\n                        Could not create model:\n                        </th>\n                    </tr>\n                </thead>\n                <tbody>\n                    <tr>\n                        <td>Model name</td>\n                        <td> undefined </td>\n                    </tr>\n                    <tr>\n                        <td>Model module</td>\n                        <td> undefined </td>\n                    </tr>\n                    <tr>\n                        <td>Model module version</td>\n                        <td> undefined </td>\n                    </tr>\n                <tbody>\n                <tfoot>\n                    <tr>\n                        <th colspan=\"2\">\n                        Class undefined not found in registry \n                        </th>\n                    </tr>\n                </tfoot>\n                </table>"
      }
     },
     "c40e39ab08b34613bb2767f4b2e60411": {
      "model_module_version": "^2.1.4",
      "state": {
       "value": "<table style=\"width:100%\">\n                <thead>\n                    <tr>\n                        <th colspan=\"2\">\n                        Could not create model:\n                        </th>\n                    </tr>\n                </thead>\n                <tbody>\n                    <tr>\n                        <td>Model name</td>\n                        <td> undefined </td>\n                    </tr>\n                    <tr>\n                        <td>Model module</td>\n                        <td> undefined </td>\n                    </tr>\n                    <tr>\n                        <td>Model module version</td>\n                        <td> undefined </td>\n                    </tr>\n                <tbody>\n                <tfoot>\n                    <tr>\n                        <th colspan=\"2\">\n                        Class undefined not found in registry \n                        </th>\n                    </tr>\n                </tfoot>\n                </table>"
      }
     },
     "ca7fc7414df744c1a12a80afcd929124": {
      "model_module_version": "^2.1.4",
      "state": {
       "description": "x",
       "value": "<table style=\"width:100%\">\n                <thead>\n                    <tr>\n                        <th colspan=\"2\">\n                        Could not create model:\n                        </th>\n                    </tr>\n                </thead>\n                <tbody>\n                    <tr>\n                        <td>Model name</td>\n                        <td> undefined </td>\n                    </tr>\n                    <tr>\n                        <td>Model module</td>\n                        <td> undefined </td>\n                    </tr>\n                    <tr>\n                        <td>Model module version</td>\n                        <td> undefined </td>\n                    </tr>\n                <tbody>\n                <tfoot>\n                    <tr>\n                        <th colspan=\"2\">\n                        Class undefined not found in registry \n                        </th>\n                    </tr>\n                </tfoot>\n                </table>"
      }
     },
     "d00724d28f834c4991169f92b8e447cb": {
      "model_module_version": "^2.1.4",
      "state": {
       "description": "x",
       "value": "<table style=\"width:100%\">\n                <thead>\n                    <tr>\n                        <th colspan=\"2\">\n                        Could not create model:\n                        </th>\n                    </tr>\n                </thead>\n                <tbody>\n                    <tr>\n                        <td>Model name</td>\n                        <td> undefined </td>\n                    </tr>\n                    <tr>\n                        <td>Model module</td>\n                        <td> undefined </td>\n                    </tr>\n                    <tr>\n                        <td>Model module version</td>\n                        <td> undefined </td>\n                    </tr>\n                <tbody>\n                <tfoot>\n                    <tr>\n                        <th colspan=\"2\">\n                        Class undefined not found in registry \n                        </th>\n                    </tr>\n                </tfoot>\n                </table>"
      }
     },
     "d11595e8990749f7a5f58f9502758e2d": {
      "model_module_version": "^2.1.4",
      "state": {
       "value": "<table style=\"width:100%\">\n                <thead>\n                    <tr>\n                        <th colspan=\"2\">\n                        Could not create model:\n                        </th>\n                    </tr>\n                </thead>\n                <tbody>\n                    <tr>\n                        <td>Model name</td>\n                        <td> undefined </td>\n                    </tr>\n                    <tr>\n                        <td>Model module</td>\n                        <td> undefined </td>\n                    </tr>\n                    <tr>\n                        <td>Model module version</td>\n                        <td> undefined </td>\n                    </tr>\n                <tbody>\n                <tfoot>\n                    <tr>\n                        <th colspan=\"2\">\n                        Class undefined not found in registry \n                        </th>\n                    </tr>\n                </tfoot>\n                </table>"
      }
     },
     "d37973aee6ad4ad3afc2983cc4640538": {
      "model_module_version": "^2.1.4",
      "state": {
       "value": "<table style=\"width:100%\">\n                <thead>\n                    <tr>\n                        <th colspan=\"2\">\n                        Could not create model:\n                        </th>\n                    </tr>\n                </thead>\n                <tbody>\n                    <tr>\n                        <td>Model name</td>\n                        <td> undefined </td>\n                    </tr>\n                    <tr>\n                        <td>Model module</td>\n                        <td> undefined </td>\n                    </tr>\n                    <tr>\n                        <td>Model module version</td>\n                        <td> undefined </td>\n                    </tr>\n                <tbody>\n                <tfoot>\n                    <tr>\n                        <th colspan=\"2\">\n                        Class undefined not found in registry \n                        </th>\n                    </tr>\n                </tfoot>\n                </table>"
      }
     },
     "d8e4be7cd0c144abb637254495935400": {
      "model_module_version": "^2.1.4",
      "state": {
       "value": "<table style=\"width:100%\">\n                <thead>\n                    <tr>\n                        <th colspan=\"2\">\n                        Could not create model:\n                        </th>\n                    </tr>\n                </thead>\n                <tbody>\n                    <tr>\n                        <td>Model name</td>\n                        <td> undefined </td>\n                    </tr>\n                    <tr>\n                        <td>Model module</td>\n                        <td> undefined </td>\n                    </tr>\n                    <tr>\n                        <td>Model module version</td>\n                        <td> undefined </td>\n                    </tr>\n                <tbody>\n                <tfoot>\n                    <tr>\n                        <th colspan=\"2\">\n                        Class undefined not found in registry \n                        </th>\n                    </tr>\n                </tfoot>\n                </table>"
      }
     },
     "d929f758e3d743e4bad5ee4b0e0e2971": {
      "model_module_version": "^2.1.4",
      "state": {
       "value": "<table style=\"width:100%\">\n                <thead>\n                    <tr>\n                        <th colspan=\"2\">\n                        Could not create model:\n                        </th>\n                    </tr>\n                </thead>\n                <tbody>\n                    <tr>\n                        <td>Model name</td>\n                        <td> undefined </td>\n                    </tr>\n                    <tr>\n                        <td>Model module</td>\n                        <td> undefined </td>\n                    </tr>\n                    <tr>\n                        <td>Model module version</td>\n                        <td> undefined </td>\n                    </tr>\n                <tbody>\n                <tfoot>\n                    <tr>\n                        <th colspan=\"2\">\n                        Class undefined not found in registry \n                        </th>\n                    </tr>\n                </tfoot>\n                </table>"
      }
     },
     "db0ea3166b744eb3914ca4a329e1f134": {
      "model_module_version": "^2.1.4",
      "state": {
       "value": "<table style=\"width:100%\">\n                <thead>\n                    <tr>\n                        <th colspan=\"2\">\n                        Could not create model:\n                        </th>\n                    </tr>\n                </thead>\n                <tbody>\n                    <tr>\n                        <td>Model name</td>\n                        <td> undefined </td>\n                    </tr>\n                    <tr>\n                        <td>Model module</td>\n                        <td> undefined </td>\n                    </tr>\n                    <tr>\n                        <td>Model module version</td>\n                        <td> undefined </td>\n                    </tr>\n                <tbody>\n                <tfoot>\n                    <tr>\n                        <th colspan=\"2\">\n                        Class undefined not found in registry \n                        </th>\n                    </tr>\n                </tfoot>\n                </table>"
      }
     },
     "de03135fc545466a891c5c7f1191cb4b": {
      "model_module_version": "^2.1.4",
      "state": {
       "children": [
        "IPY_MODEL_6aaa433ab117461b889545d142a27175",
        "IPY_MODEL_4a96e2d67ee54a41a257d81719387929"
       ],
       "value": "<table style=\"width:100%\">\n                <thead>\n                    <tr>\n                        <th colspan=\"2\">\n                        Could not create model:\n                        </th>\n                    </tr>\n                </thead>\n                <tbody>\n                    <tr>\n                        <td>Model name</td>\n                        <td> undefined </td>\n                    </tr>\n                    <tr>\n                        <td>Model module</td>\n                        <td> undefined </td>\n                    </tr>\n                    <tr>\n                        <td>Model module version</td>\n                        <td> undefined </td>\n                    </tr>\n                <tbody>\n                <tfoot>\n                    <tr>\n                        <th colspan=\"2\">\n                        Class undefined not found in registry \n                        </th>\n                    </tr>\n                </tfoot>\n                </table>"
      }
     },
     "e2d7a38ef7dc48099cc27bfcc2a6a4c9": {
      "model_module_version": "^2.1.4",
      "state": {
       "value": "<table style=\"width:100%\">\n                <thead>\n                    <tr>\n                        <th colspan=\"2\">\n                        Could not create model:\n                        </th>\n                    </tr>\n                </thead>\n                <tbody>\n                    <tr>\n                        <td>Model name</td>\n                        <td> undefined </td>\n                    </tr>\n                    <tr>\n                        <td>Model module</td>\n                        <td> undefined </td>\n                    </tr>\n                    <tr>\n                        <td>Model module version</td>\n                        <td> undefined </td>\n                    </tr>\n                <tbody>\n                <tfoot>\n                    <tr>\n                        <th colspan=\"2\">\n                        Class undefined not found in registry \n                        </th>\n                    </tr>\n                </tfoot>\n                </table>"
      }
     },
     "e2eabeb5e95644c6994f2f3be516a507": {
      "model_module_version": "^2.1.4",
      "state": {
       "value": "<table style=\"width:100%\">\n                <thead>\n                    <tr>\n                        <th colspan=\"2\">\n                        Could not create model:\n                        </th>\n                    </tr>\n                </thead>\n                <tbody>\n                    <tr>\n                        <td>Model name</td>\n                        <td> undefined </td>\n                    </tr>\n                    <tr>\n                        <td>Model module</td>\n                        <td> undefined </td>\n                    </tr>\n                    <tr>\n                        <td>Model module version</td>\n                        <td> undefined </td>\n                    </tr>\n                <tbody>\n                <tfoot>\n                    <tr>\n                        <th colspan=\"2\">\n                        Class undefined not found in registry \n                        </th>\n                    </tr>\n                </tfoot>\n                </table>"
      }
     },
     "e8c41950a9d349d2a093b110f66cbb72": {
      "model_module_version": "^2.1.4",
      "state": {
       "description": "x",
       "value": "<table style=\"width:100%\">\n                <thead>\n                    <tr>\n                        <th colspan=\"2\">\n                        Could not create model:\n                        </th>\n                    </tr>\n                </thead>\n                <tbody>\n                    <tr>\n                        <td>Model name</td>\n                        <td> undefined </td>\n                    </tr>\n                    <tr>\n                        <td>Model module</td>\n                        <td> undefined </td>\n                    </tr>\n                    <tr>\n                        <td>Model module version</td>\n                        <td> undefined </td>\n                    </tr>\n                <tbody>\n                <tfoot>\n                    <tr>\n                        <th colspan=\"2\">\n                        Class undefined not found in registry \n                        </th>\n                    </tr>\n                </tfoot>\n                </table>"
      }
     },
     "eef3d499980c484890b8c35cc146b9ed": {
      "model_module_version": "^2.1.4",
      "state": {
       "value": "<table style=\"width:100%\">\n                <thead>\n                    <tr>\n                        <th colspan=\"2\">\n                        Could not create model:\n                        </th>\n                    </tr>\n                </thead>\n                <tbody>\n                    <tr>\n                        <td>Model name</td>\n                        <td> undefined </td>\n                    </tr>\n                    <tr>\n                        <td>Model module</td>\n                        <td> undefined </td>\n                    </tr>\n                    <tr>\n                        <td>Model module version</td>\n                        <td> undefined </td>\n                    </tr>\n                <tbody>\n                <tfoot>\n                    <tr>\n                        <th colspan=\"2\">\n                        Class undefined not found in registry \n                        </th>\n                    </tr>\n                </tfoot>\n                </table>"
      }
     },
     "f43621a7182443dbaba6a026a3ea8c76": {
      "model_module_version": "^2.1.4",
      "state": {
       "value": "<table style=\"width:100%\">\n                <thead>\n                    <tr>\n                        <th colspan=\"2\">\n                        Could not create model:\n                        </th>\n                    </tr>\n                </thead>\n                <tbody>\n                    <tr>\n                        <td>Model name</td>\n                        <td> undefined </td>\n                    </tr>\n                    <tr>\n                        <td>Model module</td>\n                        <td> undefined </td>\n                    </tr>\n                    <tr>\n                        <td>Model module version</td>\n                        <td> undefined </td>\n                    </tr>\n                <tbody>\n                <tfoot>\n                    <tr>\n                        <th colspan=\"2\">\n                        Class undefined not found in registry \n                        </th>\n                    </tr>\n                </tfoot>\n                </table>"
      }
     },
     "f5d70fc558214794b4dd91314f8746c8": {
      "model_module_version": "^2.1.4",
      "state": {
       "value": "<table style=\"width:100%\">\n                <thead>\n                    <tr>\n                        <th colspan=\"2\">\n                        Could not create model:\n                        </th>\n                    </tr>\n                </thead>\n                <tbody>\n                    <tr>\n                        <td>Model name</td>\n                        <td> undefined </td>\n                    </tr>\n                    <tr>\n                        <td>Model module</td>\n                        <td> undefined </td>\n                    </tr>\n                    <tr>\n                        <td>Model module version</td>\n                        <td> undefined </td>\n                    </tr>\n                <tbody>\n                <tfoot>\n                    <tr>\n                        <th colspan=\"2\">\n                        Class undefined not found in registry \n                        </th>\n                    </tr>\n                </tfoot>\n                </table>"
      }
     }
    },
    "version_major": 1,
    "version_minor": 0
   }
  }
 },
 "nbformat": 4,
 "nbformat_minor": 2
}
