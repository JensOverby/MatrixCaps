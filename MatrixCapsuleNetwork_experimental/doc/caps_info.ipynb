{
 "cells": [
  {
   "cell_type": "markdown",
   "metadata": {},
   "source": [
    "# CAPSNET Monitor"
   ]
  },
  {
   "cell_type": "code",
   "execution_count": 1,
   "metadata": {},
   "outputs": [],
   "source": [
    "from IPython.display import HTML\n",
    "\n",
    "HTML('''<script>\n",
    "code_show=true; \n",
    "function code_toggle() {\n",
    " if (code_show){\n",
    " $('div.input').hide();\n",
    " } else {\n",
    " $('div.input').show();\n",
    " }\n",
    " code_show = !code_show\n",
    "} \n",
    "$( document ).ready(code_toggle);\n",
    "</script>\n",
    "<form action=\"javascript:code_toggle()\"><input type=\"submit\" value=\"Click here to toggle on/off the raw code.\"></form>''')\n"
   ]
  },
  {
   "cell_type": "code",
   "execution_count": 2,
   "metadata": {
    "scrolled": true
   },
   "outputs": [],
   "source": [
    "HTML(\n",
    "'''<style>\n",
    ".output_wrapper button.btn.btn-default,\n",
    ".output_wrapper .ui-dialog-titlebar {\n",
    "  display: none;\n",
    "}\n",
    "</style>''')\n"
   ]
  },
  {
   "cell_type": "code",
   "execution_count": 3,
   "metadata": {
    "scrolled": false
   },
   "outputs": [],
   "source": [
    "%matplotlib notebook\n",
    "\n",
    "import os\n",
    "#os.chdir('/home/jens/eclipse-workspace/MatrixCaps/Matrix-Capsule-Network/')\n",
    "\n",
    "import sys\n",
    "import pyrr\n",
    "#sys.path.append('../model')\n",
    "sys.path.append('..')\n",
    "import torch\n",
    "from torch.autograd import Variable\n",
    "from torchvision import datasets\n",
    "from torchvision import transforms\n",
    "from torchvision import utils\n",
    "import torch.nn.functional as F\n",
    "import model.capsules as mcaps\n",
    "import model.util as util\n",
    "import matplotlib\n",
    "import matplotlib.pyplot as plt\n",
    "import numpy as np\n",
    "import time\n",
    "import pyrr\n",
    "\n",
    "import ipywidgets as widgets\n",
    "from ipywidgets import FloatSlider, HBox, VBox, Layout\n",
    "matplotlib.pyplot.ioff()\n",
    "\n",
    "import glob\n",
    "from IPython.display import display, Markdown, Image\n",
    "\n",
    "import PIL.Image\n",
    "from io import BytesIO\n"
   ]
  },
  {
   "cell_type": "markdown",
   "metadata": {},
   "source": [
    "## Matrix Capsules LOSS plot"
   ]
  },
  {
   "cell_type": "code",
   "execution_count": 4,
   "metadata": {},
   "outputs": [
    {
     "data": {
      "application/javascript": [
       "/* Put everything inside the global mpl namespace */\n",
       "window.mpl = {};\n",
       "\n",
       "\n",
       "mpl.get_websocket_type = function() {\n",
       "    if (typeof(WebSocket) !== 'undefined') {\n",
       "        return WebSocket;\n",
       "    } else if (typeof(MozWebSocket) !== 'undefined') {\n",
       "        return MozWebSocket;\n",
       "    } else {\n",
       "        alert('Your browser does not have WebSocket support.' +\n",
       "              'Please try Chrome, Safari or Firefox ≥ 6. ' +\n",
       "              'Firefox 4 and 5 are also supported but you ' +\n",
       "              'have to enable WebSockets in about:config.');\n",
       "    };\n",
       "}\n",
       "\n",
       "mpl.figure = function(figure_id, websocket, ondownload, parent_element) {\n",
       "    this.id = figure_id;\n",
       "\n",
       "    this.ws = websocket;\n",
       "\n",
       "    this.supports_binary = (this.ws.binaryType != undefined);\n",
       "\n",
       "    if (!this.supports_binary) {\n",
       "        var warnings = document.getElementById(\"mpl-warnings\");\n",
       "        if (warnings) {\n",
       "            warnings.style.display = 'block';\n",
       "            warnings.textContent = (\n",
       "                \"This browser does not support binary websocket messages. \" +\n",
       "                    \"Performance may be slow.\");\n",
       "        }\n",
       "    }\n",
       "\n",
       "    this.imageObj = new Image();\n",
       "\n",
       "    this.context = undefined;\n",
       "    this.message = undefined;\n",
       "    this.canvas = undefined;\n",
       "    this.rubberband_canvas = undefined;\n",
       "    this.rubberband_context = undefined;\n",
       "    this.format_dropdown = undefined;\n",
       "\n",
       "    this.image_mode = 'full';\n",
       "\n",
       "    this.root = $('<div/>');\n",
       "    this._root_extra_style(this.root)\n",
       "    this.root.attr('style', 'display: inline-block');\n",
       "\n",
       "    $(parent_element).append(this.root);\n",
       "\n",
       "    this._init_header(this);\n",
       "    this._init_canvas(this);\n",
       "    this._init_toolbar(this);\n",
       "\n",
       "    var fig = this;\n",
       "\n",
       "    this.waiting = false;\n",
       "\n",
       "    this.ws.onopen =  function () {\n",
       "            fig.send_message(\"supports_binary\", {value: fig.supports_binary});\n",
       "            fig.send_message(\"send_image_mode\", {});\n",
       "            if (mpl.ratio != 1) {\n",
       "                fig.send_message(\"set_dpi_ratio\", {'dpi_ratio': mpl.ratio});\n",
       "            }\n",
       "            fig.send_message(\"refresh\", {});\n",
       "        }\n",
       "\n",
       "    this.imageObj.onload = function() {\n",
       "            if (fig.image_mode == 'full') {\n",
       "                // Full images could contain transparency (where diff images\n",
       "                // almost always do), so we need to clear the canvas so that\n",
       "                // there is no ghosting.\n",
       "                fig.context.clearRect(0, 0, fig.canvas.width, fig.canvas.height);\n",
       "            }\n",
       "            fig.context.drawImage(fig.imageObj, 0, 0);\n",
       "        };\n",
       "\n",
       "    this.imageObj.onunload = function() {\n",
       "        fig.ws.close();\n",
       "    }\n",
       "\n",
       "    this.ws.onmessage = this._make_on_message_function(this);\n",
       "\n",
       "    this.ondownload = ondownload;\n",
       "}\n",
       "\n",
       "mpl.figure.prototype._init_header = function() {\n",
       "    var titlebar = $(\n",
       "        '<div class=\"ui-dialog-titlebar ui-widget-header ui-corner-all ' +\n",
       "        'ui-helper-clearfix\"/>');\n",
       "    var titletext = $(\n",
       "        '<div class=\"ui-dialog-title\" style=\"width: 100%; ' +\n",
       "        'text-align: center; padding: 3px;\"/>');\n",
       "    titlebar.append(titletext)\n",
       "    this.root.append(titlebar);\n",
       "    this.header = titletext[0];\n",
       "}\n",
       "\n",
       "\n",
       "\n",
       "mpl.figure.prototype._canvas_extra_style = function(canvas_div) {\n",
       "\n",
       "}\n",
       "\n",
       "\n",
       "mpl.figure.prototype._root_extra_style = function(canvas_div) {\n",
       "\n",
       "}\n",
       "\n",
       "mpl.figure.prototype._init_canvas = function() {\n",
       "    var fig = this;\n",
       "\n",
       "    var canvas_div = $('<div/>');\n",
       "\n",
       "    canvas_div.attr('style', 'position: relative; clear: both; outline: 0');\n",
       "\n",
       "    function canvas_keyboard_event(event) {\n",
       "        return fig.key_event(event, event['data']);\n",
       "    }\n",
       "\n",
       "    canvas_div.keydown('key_press', canvas_keyboard_event);\n",
       "    canvas_div.keyup('key_release', canvas_keyboard_event);\n",
       "    this.canvas_div = canvas_div\n",
       "    this._canvas_extra_style(canvas_div)\n",
       "    this.root.append(canvas_div);\n",
       "\n",
       "    var canvas = $('<canvas/>');\n",
       "    canvas.addClass('mpl-canvas');\n",
       "    canvas.attr('style', \"left: 0; top: 0; z-index: 0; outline: 0\")\n",
       "\n",
       "    this.canvas = canvas[0];\n",
       "    this.context = canvas[0].getContext(\"2d\");\n",
       "\n",
       "    var backingStore = this.context.backingStorePixelRatio ||\n",
       "\tthis.context.webkitBackingStorePixelRatio ||\n",
       "\tthis.context.mozBackingStorePixelRatio ||\n",
       "\tthis.context.msBackingStorePixelRatio ||\n",
       "\tthis.context.oBackingStorePixelRatio ||\n",
       "\tthis.context.backingStorePixelRatio || 1;\n",
       "\n",
       "    mpl.ratio = (window.devicePixelRatio || 1) / backingStore;\n",
       "\n",
       "    var rubberband = $('<canvas/>');\n",
       "    rubberband.attr('style', \"position: absolute; left: 0; top: 0; z-index: 1;\")\n",
       "\n",
       "    var pass_mouse_events = true;\n",
       "\n",
       "    canvas_div.resizable({\n",
       "        start: function(event, ui) {\n",
       "            pass_mouse_events = false;\n",
       "        },\n",
       "        resize: function(event, ui) {\n",
       "            fig.request_resize(ui.size.width, ui.size.height);\n",
       "        },\n",
       "        stop: function(event, ui) {\n",
       "            pass_mouse_events = true;\n",
       "            fig.request_resize(ui.size.width, ui.size.height);\n",
       "        },\n",
       "    });\n",
       "\n",
       "    function mouse_event_fn(event) {\n",
       "        if (pass_mouse_events)\n",
       "            return fig.mouse_event(event, event['data']);\n",
       "    }\n",
       "\n",
       "    rubberband.mousedown('button_press', mouse_event_fn);\n",
       "    rubberband.mouseup('button_release', mouse_event_fn);\n",
       "    // Throttle sequential mouse events to 1 every 20ms.\n",
       "    rubberband.mousemove('motion_notify', mouse_event_fn);\n",
       "\n",
       "    rubberband.mouseenter('figure_enter', mouse_event_fn);\n",
       "    rubberband.mouseleave('figure_leave', mouse_event_fn);\n",
       "\n",
       "    canvas_div.on(\"wheel\", function (event) {\n",
       "        event = event.originalEvent;\n",
       "        event['data'] = 'scroll'\n",
       "        if (event.deltaY < 0) {\n",
       "            event.step = 1;\n",
       "        } else {\n",
       "            event.step = -1;\n",
       "        }\n",
       "        mouse_event_fn(event);\n",
       "    });\n",
       "\n",
       "    canvas_div.append(canvas);\n",
       "    canvas_div.append(rubberband);\n",
       "\n",
       "    this.rubberband = rubberband;\n",
       "    this.rubberband_canvas = rubberband[0];\n",
       "    this.rubberband_context = rubberband[0].getContext(\"2d\");\n",
       "    this.rubberband_context.strokeStyle = \"#000000\";\n",
       "\n",
       "    this._resize_canvas = function(width, height) {\n",
       "        // Keep the size of the canvas, canvas container, and rubber band\n",
       "        // canvas in synch.\n",
       "        canvas_div.css('width', width)\n",
       "        canvas_div.css('height', height)\n",
       "\n",
       "        canvas.attr('width', width * mpl.ratio);\n",
       "        canvas.attr('height', height * mpl.ratio);\n",
       "        canvas.attr('style', 'width: ' + width + 'px; height: ' + height + 'px;');\n",
       "\n",
       "        rubberband.attr('width', width);\n",
       "        rubberband.attr('height', height);\n",
       "    }\n",
       "\n",
       "    // Set the figure to an initial 600x600px, this will subsequently be updated\n",
       "    // upon first draw.\n",
       "    this._resize_canvas(600, 600);\n",
       "\n",
       "    // Disable right mouse context menu.\n",
       "    $(this.rubberband_canvas).bind(\"contextmenu\",function(e){\n",
       "        return false;\n",
       "    });\n",
       "\n",
       "    function set_focus () {\n",
       "        canvas.focus();\n",
       "        canvas_div.focus();\n",
       "    }\n",
       "\n",
       "    window.setTimeout(set_focus, 100);\n",
       "}\n",
       "\n",
       "mpl.figure.prototype._init_toolbar = function() {\n",
       "    var fig = this;\n",
       "\n",
       "    var nav_element = $('<div/>')\n",
       "    nav_element.attr('style', 'width: 100%');\n",
       "    this.root.append(nav_element);\n",
       "\n",
       "    // Define a callback function for later on.\n",
       "    function toolbar_event(event) {\n",
       "        return fig.toolbar_button_onclick(event['data']);\n",
       "    }\n",
       "    function toolbar_mouse_event(event) {\n",
       "        return fig.toolbar_button_onmouseover(event['data']);\n",
       "    }\n",
       "\n",
       "    for(var toolbar_ind in mpl.toolbar_items) {\n",
       "        var name = mpl.toolbar_items[toolbar_ind][0];\n",
       "        var tooltip = mpl.toolbar_items[toolbar_ind][1];\n",
       "        var image = mpl.toolbar_items[toolbar_ind][2];\n",
       "        var method_name = mpl.toolbar_items[toolbar_ind][3];\n",
       "\n",
       "        if (!name) {\n",
       "            // put a spacer in here.\n",
       "            continue;\n",
       "        }\n",
       "        var button = $('<button/>');\n",
       "        button.addClass('ui-button ui-widget ui-state-default ui-corner-all ' +\n",
       "                        'ui-button-icon-only');\n",
       "        button.attr('role', 'button');\n",
       "        button.attr('aria-disabled', 'false');\n",
       "        button.click(method_name, toolbar_event);\n",
       "        button.mouseover(tooltip, toolbar_mouse_event);\n",
       "\n",
       "        var icon_img = $('<span/>');\n",
       "        icon_img.addClass('ui-button-icon-primary ui-icon');\n",
       "        icon_img.addClass(image);\n",
       "        icon_img.addClass('ui-corner-all');\n",
       "\n",
       "        var tooltip_span = $('<span/>');\n",
       "        tooltip_span.addClass('ui-button-text');\n",
       "        tooltip_span.html(tooltip);\n",
       "\n",
       "        button.append(icon_img);\n",
       "        button.append(tooltip_span);\n",
       "\n",
       "        nav_element.append(button);\n",
       "    }\n",
       "\n",
       "    var fmt_picker_span = $('<span/>');\n",
       "\n",
       "    var fmt_picker = $('<select/>');\n",
       "    fmt_picker.addClass('mpl-toolbar-option ui-widget ui-widget-content');\n",
       "    fmt_picker_span.append(fmt_picker);\n",
       "    nav_element.append(fmt_picker_span);\n",
       "    this.format_dropdown = fmt_picker[0];\n",
       "\n",
       "    for (var ind in mpl.extensions) {\n",
       "        var fmt = mpl.extensions[ind];\n",
       "        var option = $(\n",
       "            '<option/>', {selected: fmt === mpl.default_extension}).html(fmt);\n",
       "        fmt_picker.append(option)\n",
       "    }\n",
       "\n",
       "    // Add hover states to the ui-buttons\n",
       "    $( \".ui-button\" ).hover(\n",
       "        function() { $(this).addClass(\"ui-state-hover\");},\n",
       "        function() { $(this).removeClass(\"ui-state-hover\");}\n",
       "    );\n",
       "\n",
       "    var status_bar = $('<span class=\"mpl-message\"/>');\n",
       "    nav_element.append(status_bar);\n",
       "    this.message = status_bar[0];\n",
       "}\n",
       "\n",
       "mpl.figure.prototype.request_resize = function(x_pixels, y_pixels) {\n",
       "    // Request matplotlib to resize the figure. Matplotlib will then trigger a resize in the client,\n",
       "    // which will in turn request a refresh of the image.\n",
       "    this.send_message('resize', {'width': x_pixels, 'height': y_pixels});\n",
       "}\n",
       "\n",
       "mpl.figure.prototype.send_message = function(type, properties) {\n",
       "    properties['type'] = type;\n",
       "    properties['figure_id'] = this.id;\n",
       "    this.ws.send(JSON.stringify(properties));\n",
       "}\n",
       "\n",
       "mpl.figure.prototype.send_draw_message = function() {\n",
       "    if (!this.waiting) {\n",
       "        this.waiting = true;\n",
       "        this.ws.send(JSON.stringify({type: \"draw\", figure_id: this.id}));\n",
       "    }\n",
       "}\n",
       "\n",
       "\n",
       "mpl.figure.prototype.handle_save = function(fig, msg) {\n",
       "    var format_dropdown = fig.format_dropdown;\n",
       "    var format = format_dropdown.options[format_dropdown.selectedIndex].value;\n",
       "    fig.ondownload(fig, format);\n",
       "}\n",
       "\n",
       "\n",
       "mpl.figure.prototype.handle_resize = function(fig, msg) {\n",
       "    var size = msg['size'];\n",
       "    if (size[0] != fig.canvas.width || size[1] != fig.canvas.height) {\n",
       "        fig._resize_canvas(size[0], size[1]);\n",
       "        fig.send_message(\"refresh\", {});\n",
       "    };\n",
       "}\n",
       "\n",
       "mpl.figure.prototype.handle_rubberband = function(fig, msg) {\n",
       "    var x0 = msg['x0'] / mpl.ratio;\n",
       "    var y0 = (fig.canvas.height - msg['y0']) / mpl.ratio;\n",
       "    var x1 = msg['x1'] / mpl.ratio;\n",
       "    var y1 = (fig.canvas.height - msg['y1']) / mpl.ratio;\n",
       "    x0 = Math.floor(x0) + 0.5;\n",
       "    y0 = Math.floor(y0) + 0.5;\n",
       "    x1 = Math.floor(x1) + 0.5;\n",
       "    y1 = Math.floor(y1) + 0.5;\n",
       "    var min_x = Math.min(x0, x1);\n",
       "    var min_y = Math.min(y0, y1);\n",
       "    var width = Math.abs(x1 - x0);\n",
       "    var height = Math.abs(y1 - y0);\n",
       "\n",
       "    fig.rubberband_context.clearRect(\n",
       "        0, 0, fig.canvas.width, fig.canvas.height);\n",
       "\n",
       "    fig.rubberband_context.strokeRect(min_x, min_y, width, height);\n",
       "}\n",
       "\n",
       "mpl.figure.prototype.handle_figure_label = function(fig, msg) {\n",
       "    // Updates the figure title.\n",
       "    fig.header.textContent = msg['label'];\n",
       "}\n",
       "\n",
       "mpl.figure.prototype.handle_cursor = function(fig, msg) {\n",
       "    var cursor = msg['cursor'];\n",
       "    switch(cursor)\n",
       "    {\n",
       "    case 0:\n",
       "        cursor = 'pointer';\n",
       "        break;\n",
       "    case 1:\n",
       "        cursor = 'default';\n",
       "        break;\n",
       "    case 2:\n",
       "        cursor = 'crosshair';\n",
       "        break;\n",
       "    case 3:\n",
       "        cursor = 'move';\n",
       "        break;\n",
       "    }\n",
       "    fig.rubberband_canvas.style.cursor = cursor;\n",
       "}\n",
       "\n",
       "mpl.figure.prototype.handle_message = function(fig, msg) {\n",
       "    fig.message.textContent = msg['message'];\n",
       "}\n",
       "\n",
       "mpl.figure.prototype.handle_draw = function(fig, msg) {\n",
       "    // Request the server to send over a new figure.\n",
       "    fig.send_draw_message();\n",
       "}\n",
       "\n",
       "mpl.figure.prototype.handle_image_mode = function(fig, msg) {\n",
       "    fig.image_mode = msg['mode'];\n",
       "}\n",
       "\n",
       "mpl.figure.prototype.updated_canvas_event = function() {\n",
       "    // Called whenever the canvas gets updated.\n",
       "    this.send_message(\"ack\", {});\n",
       "}\n",
       "\n",
       "// A function to construct a web socket function for onmessage handling.\n",
       "// Called in the figure constructor.\n",
       "mpl.figure.prototype._make_on_message_function = function(fig) {\n",
       "    return function socket_on_message(evt) {\n",
       "        if (evt.data instanceof Blob) {\n",
       "            /* FIXME: We get \"Resource interpreted as Image but\n",
       "             * transferred with MIME type text/plain:\" errors on\n",
       "             * Chrome.  But how to set the MIME type?  It doesn't seem\n",
       "             * to be part of the websocket stream */\n",
       "            evt.data.type = \"image/png\";\n",
       "\n",
       "            /* Free the memory for the previous frames */\n",
       "            if (fig.imageObj.src) {\n",
       "                (window.URL || window.webkitURL).revokeObjectURL(\n",
       "                    fig.imageObj.src);\n",
       "            }\n",
       "\n",
       "            fig.imageObj.src = (window.URL || window.webkitURL).createObjectURL(\n",
       "                evt.data);\n",
       "            fig.updated_canvas_event();\n",
       "            fig.waiting = false;\n",
       "            return;\n",
       "        }\n",
       "        else if (typeof evt.data === 'string' && evt.data.slice(0, 21) == \"data:image/png;base64\") {\n",
       "            fig.imageObj.src = evt.data;\n",
       "            fig.updated_canvas_event();\n",
       "            fig.waiting = false;\n",
       "            return;\n",
       "        }\n",
       "\n",
       "        var msg = JSON.parse(evt.data);\n",
       "        var msg_type = msg['type'];\n",
       "\n",
       "        // Call the  \"handle_{type}\" callback, which takes\n",
       "        // the figure and JSON message as its only arguments.\n",
       "        try {\n",
       "            var callback = fig[\"handle_\" + msg_type];\n",
       "        } catch (e) {\n",
       "            console.log(\"No handler for the '\" + msg_type + \"' message type: \", msg);\n",
       "            return;\n",
       "        }\n",
       "\n",
       "        if (callback) {\n",
       "            try {\n",
       "                // console.log(\"Handling '\" + msg_type + \"' message: \", msg);\n",
       "                callback(fig, msg);\n",
       "            } catch (e) {\n",
       "                console.log(\"Exception inside the 'handler_\" + msg_type + \"' callback:\", e, e.stack, msg);\n",
       "            }\n",
       "        }\n",
       "    };\n",
       "}\n",
       "\n",
       "// from http://stackoverflow.com/questions/1114465/getting-mouse-location-in-canvas\n",
       "mpl.findpos = function(e) {\n",
       "    //this section is from http://www.quirksmode.org/js/events_properties.html\n",
       "    var targ;\n",
       "    if (!e)\n",
       "        e = window.event;\n",
       "    if (e.target)\n",
       "        targ = e.target;\n",
       "    else if (e.srcElement)\n",
       "        targ = e.srcElement;\n",
       "    if (targ.nodeType == 3) // defeat Safari bug\n",
       "        targ = targ.parentNode;\n",
       "\n",
       "    // jQuery normalizes the pageX and pageY\n",
       "    // pageX,Y are the mouse positions relative to the document\n",
       "    // offset() returns the position of the element relative to the document\n",
       "    var x = e.pageX - $(targ).offset().left;\n",
       "    var y = e.pageY - $(targ).offset().top;\n",
       "\n",
       "    return {\"x\": x, \"y\": y};\n",
       "};\n",
       "\n",
       "/*\n",
       " * return a copy of an object with only non-object keys\n",
       " * we need this to avoid circular references\n",
       " * http://stackoverflow.com/a/24161582/3208463\n",
       " */\n",
       "function simpleKeys (original) {\n",
       "  return Object.keys(original).reduce(function (obj, key) {\n",
       "    if (typeof original[key] !== 'object')\n",
       "        obj[key] = original[key]\n",
       "    return obj;\n",
       "  }, {});\n",
       "}\n",
       "\n",
       "mpl.figure.prototype.mouse_event = function(event, name) {\n",
       "    var canvas_pos = mpl.findpos(event)\n",
       "\n",
       "    if (name === 'button_press')\n",
       "    {\n",
       "        this.canvas.focus();\n",
       "        this.canvas_div.focus();\n",
       "    }\n",
       "\n",
       "    var x = canvas_pos.x * mpl.ratio;\n",
       "    var y = canvas_pos.y * mpl.ratio;\n",
       "\n",
       "    this.send_message(name, {x: x, y: y, button: event.button,\n",
       "                             step: event.step,\n",
       "                             guiEvent: simpleKeys(event)});\n",
       "\n",
       "    /* This prevents the web browser from automatically changing to\n",
       "     * the text insertion cursor when the button is pressed.  We want\n",
       "     * to control all of the cursor setting manually through the\n",
       "     * 'cursor' event from matplotlib */\n",
       "    event.preventDefault();\n",
       "    return false;\n",
       "}\n",
       "\n",
       "mpl.figure.prototype._key_event_extra = function(event, name) {\n",
       "    // Handle any extra behaviour associated with a key event\n",
       "}\n",
       "\n",
       "mpl.figure.prototype.key_event = function(event, name) {\n",
       "\n",
       "    // Prevent repeat events\n",
       "    if (name == 'key_press')\n",
       "    {\n",
       "        if (event.which === this._key)\n",
       "            return;\n",
       "        else\n",
       "            this._key = event.which;\n",
       "    }\n",
       "    if (name == 'key_release')\n",
       "        this._key = null;\n",
       "\n",
       "    var value = '';\n",
       "    if (event.ctrlKey && event.which != 17)\n",
       "        value += \"ctrl+\";\n",
       "    if (event.altKey && event.which != 18)\n",
       "        value += \"alt+\";\n",
       "    if (event.shiftKey && event.which != 16)\n",
       "        value += \"shift+\";\n",
       "\n",
       "    value += 'k';\n",
       "    value += event.which.toString();\n",
       "\n",
       "    this._key_event_extra(event, name);\n",
       "\n",
       "    this.send_message(name, {key: value,\n",
       "                             guiEvent: simpleKeys(event)});\n",
       "    return false;\n",
       "}\n",
       "\n",
       "mpl.figure.prototype.toolbar_button_onclick = function(name) {\n",
       "    if (name == 'download') {\n",
       "        this.handle_save(this, null);\n",
       "    } else {\n",
       "        this.send_message(\"toolbar_button\", {name: name});\n",
       "    }\n",
       "};\n",
       "\n",
       "mpl.figure.prototype.toolbar_button_onmouseover = function(tooltip) {\n",
       "    this.message.textContent = tooltip;\n",
       "};\n",
       "mpl.toolbar_items = [[\"Home\", \"Reset original view\", \"fa fa-home icon-home\", \"home\"], [\"Back\", \"Back to  previous view\", \"fa fa-arrow-left icon-arrow-left\", \"back\"], [\"Forward\", \"Forward to next view\", \"fa fa-arrow-right icon-arrow-right\", \"forward\"], [\"\", \"\", \"\", \"\"], [\"Pan\", \"Pan axes with left mouse, zoom with right\", \"fa fa-arrows icon-move\", \"pan\"], [\"Zoom\", \"Zoom to rectangle\", \"fa fa-square-o icon-check-empty\", \"zoom\"], [\"\", \"\", \"\", \"\"], [\"Download\", \"Download plot\", \"fa fa-floppy-o icon-save\", \"download\"]];\n",
       "\n",
       "mpl.extensions = [\"eps\", \"jpeg\", \"pdf\", \"png\", \"ps\", \"raw\", \"svg\", \"tif\"];\n",
       "\n",
       "mpl.default_extension = \"png\";var comm_websocket_adapter = function(comm) {\n",
       "    // Create a \"websocket\"-like object which calls the given IPython comm\n",
       "    // object with the appropriate methods. Currently this is a non binary\n",
       "    // socket, so there is still some room for performance tuning.\n",
       "    var ws = {};\n",
       "\n",
       "    ws.close = function() {\n",
       "        comm.close()\n",
       "    };\n",
       "    ws.send = function(m) {\n",
       "        //console.log('sending', m);\n",
       "        comm.send(m);\n",
       "    };\n",
       "    // Register the callback with on_msg.\n",
       "    comm.on_msg(function(msg) {\n",
       "        //console.log('receiving', msg['content']['data'], msg);\n",
       "        // Pass the mpl event to the overridden (by mpl) onmessage function.\n",
       "        ws.onmessage(msg['content']['data'])\n",
       "    });\n",
       "    return ws;\n",
       "}\n",
       "\n",
       "mpl.mpl_figure_comm = function(comm, msg) {\n",
       "    // This is the function which gets called when the mpl process\n",
       "    // starts-up an IPython Comm through the \"matplotlib\" channel.\n",
       "\n",
       "    var id = msg.content.data.id;\n",
       "    // Get hold of the div created by the display call when the Comm\n",
       "    // socket was opened in Python.\n",
       "    var element = $(\"#\" + id);\n",
       "    var ws_proxy = comm_websocket_adapter(comm)\n",
       "\n",
       "    function ondownload(figure, format) {\n",
       "        window.open(figure.imageObj.src);\n",
       "    }\n",
       "\n",
       "    var fig = new mpl.figure(id, ws_proxy,\n",
       "                           ondownload,\n",
       "                           element.get(0));\n",
       "\n",
       "    // Call onopen now - mpl needs it, as it is assuming we've passed it a real\n",
       "    // web socket which is closed, not our websocket->open comm proxy.\n",
       "    ws_proxy.onopen();\n",
       "\n",
       "    fig.parent_element = element.get(0);\n",
       "    fig.cell_info = mpl.find_output_cell(\"<div id='\" + id + \"'></div>\");\n",
       "    if (!fig.cell_info) {\n",
       "        console.error(\"Failed to find cell for figure\", id, fig);\n",
       "        return;\n",
       "    }\n",
       "\n",
       "    var output_index = fig.cell_info[2]\n",
       "    var cell = fig.cell_info[0];\n",
       "\n",
       "};\n",
       "\n",
       "mpl.figure.prototype.handle_close = function(fig, msg) {\n",
       "    var width = fig.canvas.width/mpl.ratio\n",
       "    fig.root.unbind('remove')\n",
       "\n",
       "    // Update the output cell to use the data from the current canvas.\n",
       "    fig.push_to_output();\n",
       "    var dataURL = fig.canvas.toDataURL();\n",
       "    // Re-enable the keyboard manager in IPython - without this line, in FF,\n",
       "    // the notebook keyboard shortcuts fail.\n",
       "    IPython.keyboard_manager.enable()\n",
       "    $(fig.parent_element).html('<img src=\"' + dataURL + '\" width=\"' + width + '\">');\n",
       "    fig.close_ws(fig, msg);\n",
       "}\n",
       "\n",
       "mpl.figure.prototype.close_ws = function(fig, msg){\n",
       "    fig.send_message('closing', msg);\n",
       "    // fig.ws.close()\n",
       "}\n",
       "\n",
       "mpl.figure.prototype.push_to_output = function(remove_interactive) {\n",
       "    // Turn the data on the canvas into data in the output cell.\n",
       "    var width = this.canvas.width/mpl.ratio\n",
       "    var dataURL = this.canvas.toDataURL();\n",
       "    this.cell_info[1]['text/html'] = '<img src=\"' + dataURL + '\" width=\"' + width + '\">';\n",
       "}\n",
       "\n",
       "mpl.figure.prototype.updated_canvas_event = function() {\n",
       "    // Tell IPython that the notebook contents must change.\n",
       "    IPython.notebook.set_dirty(true);\n",
       "    this.send_message(\"ack\", {});\n",
       "    var fig = this;\n",
       "    // Wait a second, then push the new image to the DOM so\n",
       "    // that it is saved nicely (might be nice to debounce this).\n",
       "    setTimeout(function () { fig.push_to_output() }, 1000);\n",
       "}\n",
       "\n",
       "mpl.figure.prototype._init_toolbar = function() {\n",
       "    var fig = this;\n",
       "\n",
       "    var nav_element = $('<div/>')\n",
       "    nav_element.attr('style', 'width: 100%');\n",
       "    this.root.append(nav_element);\n",
       "\n",
       "    // Define a callback function for later on.\n",
       "    function toolbar_event(event) {\n",
       "        return fig.toolbar_button_onclick(event['data']);\n",
       "    }\n",
       "    function toolbar_mouse_event(event) {\n",
       "        return fig.toolbar_button_onmouseover(event['data']);\n",
       "    }\n",
       "\n",
       "    for(var toolbar_ind in mpl.toolbar_items){\n",
       "        var name = mpl.toolbar_items[toolbar_ind][0];\n",
       "        var tooltip = mpl.toolbar_items[toolbar_ind][1];\n",
       "        var image = mpl.toolbar_items[toolbar_ind][2];\n",
       "        var method_name = mpl.toolbar_items[toolbar_ind][3];\n",
       "\n",
       "        if (!name) { continue; };\n",
       "\n",
       "        var button = $('<button class=\"btn btn-default\" href=\"#\" title=\"' + name + '\"><i class=\"fa ' + image + ' fa-lg\"></i></button>');\n",
       "        button.click(method_name, toolbar_event);\n",
       "        button.mouseover(tooltip, toolbar_mouse_event);\n",
       "        nav_element.append(button);\n",
       "    }\n",
       "\n",
       "    // Add the status bar.\n",
       "    var status_bar = $('<span class=\"mpl-message\" style=\"text-align:right; float: right;\"/>');\n",
       "    nav_element.append(status_bar);\n",
       "    this.message = status_bar[0];\n",
       "\n",
       "    // Add the close button to the window.\n",
       "    var buttongrp = $('<div class=\"btn-group inline pull-right\"></div>');\n",
       "    var button = $('<button class=\"btn btn-mini btn-primary\" href=\"#\" title=\"Stop Interaction\"><i class=\"fa fa-power-off icon-remove icon-large\"></i></button>');\n",
       "    button.click(function (evt) { fig.handle_close(fig, {}); } );\n",
       "    button.mouseover('Stop Interaction', toolbar_mouse_event);\n",
       "    buttongrp.append(button);\n",
       "    var titlebar = this.root.find($('.ui-dialog-titlebar'));\n",
       "    titlebar.prepend(buttongrp);\n",
       "}\n",
       "\n",
       "mpl.figure.prototype._root_extra_style = function(el){\n",
       "    var fig = this\n",
       "    el.on(\"remove\", function(){\n",
       "\tfig.close_ws(fig, {});\n",
       "    });\n",
       "}\n",
       "\n",
       "mpl.figure.prototype._canvas_extra_style = function(el){\n",
       "    // this is important to make the div 'focusable\n",
       "    el.attr('tabindex', 0)\n",
       "    // reach out to IPython and tell the keyboard manager to turn it's self\n",
       "    // off when our div gets focus\n",
       "\n",
       "    // location in version 3\n",
       "    if (IPython.notebook.keyboard_manager) {\n",
       "        IPython.notebook.keyboard_manager.register_events(el);\n",
       "    }\n",
       "    else {\n",
       "        // location in version 2\n",
       "        IPython.keyboard_manager.register_events(el);\n",
       "    }\n",
       "\n",
       "}\n",
       "\n",
       "mpl.figure.prototype._key_event_extra = function(event, name) {\n",
       "    var manager = IPython.notebook.keyboard_manager;\n",
       "    if (!manager)\n",
       "        manager = IPython.keyboard_manager;\n",
       "\n",
       "    // Check for shift+enter\n",
       "    if (event.shiftKey && event.which == 13) {\n",
       "        this.canvas_div.blur();\n",
       "        event.shiftKey = false;\n",
       "        // Send a \"J\" for go to next cell\n",
       "        event.which = 74;\n",
       "        event.keyCode = 74;\n",
       "        manager.command_mode();\n",
       "        manager.handle_keydown(event);\n",
       "    }\n",
       "}\n",
       "\n",
       "mpl.figure.prototype.handle_save = function(fig, msg) {\n",
       "    fig.ondownload(fig, null);\n",
       "}\n",
       "\n",
       "\n",
       "mpl.find_output_cell = function(html_output) {\n",
       "    // Return the cell and output element which can be found *uniquely* in the notebook.\n",
       "    // Note - this is a bit hacky, but it is done because the \"notebook_saving.Notebook\"\n",
       "    // IPython event is triggered only after the cells have been serialised, which for\n",
       "    // our purposes (turning an active figure into a static one), is too late.\n",
       "    var cells = IPython.notebook.get_cells();\n",
       "    var ncells = cells.length;\n",
       "    for (var i=0; i<ncells; i++) {\n",
       "        var cell = cells[i];\n",
       "        if (cell.cell_type === 'code'){\n",
       "            for (var j=0; j<cell.output_area.outputs.length; j++) {\n",
       "                var data = cell.output_area.outputs[j];\n",
       "                if (data.data) {\n",
       "                    // IPython >= 3 moved mimebundle to data attribute of output\n",
       "                    data = data.data;\n",
       "                }\n",
       "                if (data['text/html'] == html_output) {\n",
       "                    return [cell, data, j];\n",
       "                }\n",
       "            }\n",
       "        }\n",
       "    }\n",
       "}\n",
       "\n",
       "// Register the function which deals with the matplotlib target/channel.\n",
       "// The kernel may be null if the page has been refreshed.\n",
       "if (IPython.notebook.kernel != null) {\n",
       "    IPython.notebook.kernel.comm_manager.register_target('matplotlib', mpl.mpl_figure_comm);\n",
       "}\n"
      ],
      "text/plain": [
       "<IPython.core.display.Javascript object>"
      ]
     },
     "metadata": {},
     "output_type": "display_data"
    },
    {
     "data": {
      "text/html": [
       "<img src=\"data:image/png;base64,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\" width=\"900\">"
      ],
      "text/plain": [
       "<IPython.core.display.HTML object>"
      ]
     },
     "metadata": {},
     "output_type": "display_data"
    },
    {
     "data": {
      "application/vnd.jupyter.widget-view+json": {
       "model_id": "a42dc3a5db004a9c95c63d24e9e97f3f",
       "version_major": 2,
       "version_minor": 0
      },
      "text/plain": [
       "Button(description='Update', style=ButtonStyle())"
      ]
     },
     "metadata": {},
     "output_type": "display_data"
    },
    {
     "data": {
      "application/vnd.jupyter.widget-view+json": {
       "model_id": "551c831439ee4eff92f2524e2f771ff5",
       "version_major": 2,
       "version_minor": 0
      },
      "text/plain": [
       "IntText(value=30, description='Epoch history')"
      ]
     },
     "metadata": {},
     "output_type": "display_data"
    }
   ],
   "source": [
    "matplotlib.rcParams.update({'font.size': 22})\n",
    "fig3 = plt.figure(figsize = (9,6))\n",
    "ax3 = fig3.subplots()\n",
    "#matplotlib.pyplot.ion()\n",
    "\n",
    "\n",
    "button = widgets.Button(description=\"Update\")\n",
    "show_epochs = widgets.IntText(description='Epoch history',disabled=False)\n",
    "show_epochs.value = 30\n",
    "\n",
    "def on_button_clicked(b):\n",
    "    with open('../loss.log') as f:\n",
    "        content = f.readlines()\n",
    "    content = [float(x.strip()) for x in content]\n",
    "    xmin = 0\n",
    "    xmax = len(content)\n",
    "    if xmax > show_epochs.value:\n",
    "        xmin = xmax-show_epochs.value\n",
    "        content = content[xmin:xmax]\n",
    "    ymin = np.min(content)\n",
    "    ymax = np.max(content)\n",
    "    x_axis = np.linspace(xmin, xmax-1, num=xmax-xmin)\n",
    "\n",
    "    #matplotlib.pyplot.gcf().clear()\n",
    "    ax3.clear()\n",
    "    ax3.set_xlim(xmin, xmax)\n",
    "    yaxismin = ymin - (ymax-ymin)/3\n",
    "    if yaxismin < 0:\n",
    "        yaxismin = 0\n",
    "    ax3.set_ylim(ymin - (ymax-ymin)/3, ymax)\n",
    "    ax3.plot(x_axis, content, linewidth=5.0)\n",
    "    ax3.xaxis.set_major_locator(matplotlib.ticker.MaxNLocator(integer=True))\n",
    "    ax3.grid(linestyle='-', linewidth='0.5', color='red')\n",
    "    fig3.canvas.draw()\n",
    "\n",
    "    \n",
    "on_button_clicked(None)\n",
    "fig3.show()\n",
    "\n",
    "display(button)\n",
    "display(show_epochs)\n",
    "\n",
    "button.on_click(on_button_clicked)\n",
    "show_epochs.observe(on_button_clicked)"
   ]
  },
  {
   "cell_type": "code",
   "execution_count": 5,
   "metadata": {},
   "outputs": [
    {
     "data": {
      "text/markdown": [
       "## Latest model is: ../weights/model_4.pth"
      ],
      "text/plain": [
       "<IPython.core.display.Markdown object>"
      ]
     },
     "metadata": {},
     "output_type": "display_data"
    }
   ],
   "source": [
    "class args():\n",
    "    num_classes = 1\n",
    "    batch_size = 1\n",
    "    routing = 'EM_routing'\n",
    "    loss = 'spread_loss̈́'\n",
    "    use_recon = 0.001\n",
    "    r = 3\n",
    "    num_workers = 1\n",
    "    disable_encoder = False\n",
    "    disable_recon = False\n",
    "    disable_dae = False\n",
    "\n",
    "A, AA, B, C, D, E, r = 32, 32, 16, 16, 16, args.num_classes, args.r # a small CapsNet\n",
    "\n",
    "model = mcaps.CapsNet(args, A, AA, B, C, D, E, r, h=4)\n",
    "\n",
    "LatestFile = max(glob.iglob(\"../weights/model*.pth\"),key=os.path.getctime)\n",
    "\n",
    "display(Markdown('## Latest model is: '+LatestFile))\n",
    "\n",
    "model.load_state_dict(torch.load(LatestFile))\n",
    "model.cpu()\n",
    "\n",
    "self = model"
   ]
  },
  {
   "cell_type": "markdown",
   "metadata": {},
   "source": [
    "## Ground Truth"
   ]
  },
  {
   "cell_type": "code",
   "execution_count": 6,
   "metadata": {
    "scrolled": false
   },
   "outputs": [
    {
     "data": {
      "application/vnd.jupyter.widget-view+json": {
       "model_id": "1c5511a0edac4e80907c6bb564a39620",
       "version_major": 2,
       "version_minor": 0
      },
      "text/plain": [
       "HBox(children=(Output(layout=Layout(border='1px solid black', width='100%')), Output(layout=Layout(border='1px…"
      ]
     },
     "metadata": {},
     "output_type": "display_data"
    },
    {
     "data": {
      "application/vnd.jupyter.widget-view+json": {
       "model_id": "59011ad4e37b4a7c84f816457f32d90a",
       "version_major": 2,
       "version_minor": 0
      },
      "text/plain": [
       "VBox(children=(HBox(children=(FloatText(value=1.0, description='Contrast', layout=Layout(width='100%'), step=0…"
      ]
     },
     "metadata": {},
     "output_type": "display_data"
    }
   ],
   "source": [
    "def updateOutputWidget(widget, array, color=\"L\"):\n",
    "    f = BytesIO()\n",
    "    PIL.Image.fromarray(np.uint8(array*255), mode=color).convert(color).save(f, 'png')\n",
    "    widget.clear_output()\n",
    "    with widget:\n",
    "        display(Image(data=f.getvalue(), width='100%'))\n",
    "\n",
    "ground_truth_widget_left = widgets.Output(layout=Layout(border='1px solid black', width='100%'))\n",
    "ground_truth_widget_right = widgets.Output(layout=Layout(border='1px solid black', width='100%'))\n",
    "ground_truth_widget = HBox([ground_truth_widget_left, ground_truth_widget_right], layout=Layout(width='100%'))\n",
    "\n",
    "contrast_left = widgets.FloatText(layout={'width': '100%'},description='Contrast',disabled=False, value=1, step=0.01)\n",
    "contrast_right = widgets.FloatText(layout={'width': '100%'},description='Contrast',disabled=False, value=1, step=0.01)\n",
    "brightness_left = widgets.FloatText(layout={'width': '100%'},description='Brightness',disabled=False, value=0, step=0.01)\n",
    "brightness_right = widgets.FloatText(layout={'width': '100%'},description='Brightness',disabled=False, value=0, step=0.01)\n",
    "brightness_contrast_widget = VBox([  HBox([contrast_left, contrast_right],layout=Layout(width='100%')) ,  HBox([brightness_left, brightness_right],layout=Layout(width='100%')) ] )\n",
    "\n",
    "display(ground_truth_widget)\n",
    "display(brightness_contrast_widget)"
   ]
  },
  {
   "cell_type": "markdown",
   "metadata": {},
   "source": [
    "## Activations of convolutional layers and primary capsules layer"
   ]
  },
  {
   "cell_type": "code",
   "execution_count": 7,
   "metadata": {
    "scrolled": false
   },
   "outputs": [
    {
     "data": {
      "application/vnd.jupyter.widget-view+json": {
       "model_id": "f4113f36ed5f49efaefb6ed9cfe566c2",
       "version_major": 2,
       "version_minor": 0
      },
      "text/plain": [
       "VBox(children=(Output(layout=Layout(width='100%')), Output(layout=Layout(width='100%')), HBox(children=(Output…"
      ]
     },
     "metadata": {},
     "output_type": "display_data"
    }
   ],
   "source": [
    "layer1_widget = widgets.Output(layout=Layout(width='100%'))\n",
    "layer2_widget = widgets.Output(layout=Layout(width='100%'))\n",
    "layer3_widget = widgets.Output(layout=Layout(width='100%'))\n",
    "layer4_widget = widgets.Output(layout=Layout(width='100%'))\n",
    "layer5_widget = widgets.Output(layout=Layout(width='100%'))\n",
    "#layer12_widget = HBox([layer1_widget, layer2_widget], layout=Layout(width='100%'))\n",
    "l345_widget = HBox([layer3_widget, layer4_widget, layer5_widget])\n",
    "layer_widget = VBox([layer1_widget, layer2_widget, l345_widget], layout=Layout(width='100%'))\n",
    "display(layer_widget)\n",
    "\n",
    "\n",
    "\n",
    "def makeCombinedImage(img, scale=1):\n",
    "    if scale != 1:\n",
    "        img = torch.nn.functional.interpolate(img, scale_factor=scale, mode='nearest')\n",
    "    img = img.squeeze().unsqueeze(1)\n",
    "    return utils.make_grid(img.data, nrow=int(img.shape[0] ** 0.5), normalize=True,range=(0, 1)).cpu().numpy()\n",
    "    \n",
    "def forward(self, x, lambda_, labels=None, draw=True):\n",
    "    if x is not None:\n",
    "        x = F.relu(self.bn1(self.conv1(x)))\n",
    "\n",
    "        if draw is True:\n",
    "            grid_picture = makeCombinedImage(x, scale=4)\n",
    "            updateOutputWidget(layer1_widget, grid_picture.transpose(1,2,0), \"RGB\")\n",
    "\n",
    "        x = F.max_pool2d(x, 2, 2)\n",
    "        x = F.relu(self.bn2(self.conv2(x)))\n",
    "        \n",
    "        if draw is True:\n",
    "            grid_picture = makeCombinedImage(x, scale=8)\n",
    "            updateOutputWidget(layer2_widget, grid_picture.transpose(1,2,0), \"RGB\")\n",
    "        \n",
    "        \n",
    "        # Combine left and right\n",
    "        left = x[:,:,:,:int(x.shape[-1]/2)]\n",
    "        right = x[:,:,:,int(x.shape[-1]/2):]\n",
    "        x = torch.stack([left,right], dim=1).view(x.shape[0],-1,x.shape[2],x.shape[2])\n",
    "        \n",
    "        \n",
    "        #x = F.relu(self.bn3(self.conv3(x)))\n",
    "        #if draw is True:\n",
    "        #    grid_picture = makeCombinedImage(x)\n",
    "        #    updateOutputWidget(layer3_widget, grid_picture.transpose(1,2,0), \"RGB\")\n",
    "        \n",
    "        p, a = self.primary_caps(x)  # b,32*(4*4+1),12,12\n",
    "\n",
    "        if draw is True:\n",
    "            grid_picture = makeCombinedImage(a, scale=16)\n",
    "            updateOutputWidget(layer3_widget, grid_picture.transpose(1,2,0), \"RGB\")\n",
    "            \n",
    "        p, a = self.convcaps1(lambda_, p, a)  # b,32*(4*4+1),5,5\n",
    "\n",
    "        if draw is True:\n",
    "            grid_picture = makeCombinedImage(a, scale=16)\n",
    "            updateOutputWidget(layer4_widget, grid_picture.transpose(1,2,0), \"RGB\")\n",
    "\n",
    "        p, a = self.convcaps2(lambda_, p, a)  # b,32*(4*4+1),3,3\n",
    "\n",
    "        if draw is True:\n",
    "            grid_picture = makeCombinedImage(a, scale=16)\n",
    "            updateOutputWidget(layer5_widget, grid_picture.transpose(1,2,0), \"RGB\")\n",
    "        \n",
    "        p, a = self.classcaps(lambda_, p, a)  # b,10*16+10\n",
    "\n",
    "        \n",
    "        \"\"\" Find pose with largest activation \"\"\"            \n",
    "        a_tmp = a.view(a.shape[0],-1)\n",
    "        p_tmp = p.view(p.shape[0],-1,p.shape[-1])\n",
    "        _, i = torch.max(a_tmp, 1)\n",
    "        new_a = []\n",
    "        new_p = []\n",
    "        coords = []\n",
    "        for counter, j in enumerate(i):\n",
    "            new_a.append(a_tmp[counter, j])\n",
    "            new_p.append(p_tmp[counter, j, :])\n",
    "\n",
    "            w_x=j%3\n",
    "            w_y=j/3\n",
    "            xyz = p_tmp[counter, j, :][(3,7,11),]\n",
    "            xyz = torch.cat([xyz, torch.FloatTensor([w_x, w_y])], dim=0)\n",
    "            coords.append(xyz)\n",
    "            #p[:, (3,7,11)] = xyz * 1.0\n",
    "\n",
    "        a = torch.stack(new_a, dim=0)\n",
    "        p = torch.stack(new_p, dim=0)\n",
    "\n",
    "        coords = torch.stack(coords, dim=0)\n",
    "        coords = self.coord_add_encoder(coords)\n",
    "        \n",
    "        # Temporary when batch size = 1\n",
    "        if len(p.shape) == 1:\n",
    "            p = p.unsqueeze(0)\n",
    "\n",
    "        p[:, (3,7,11)] = coords * 1.0\n",
    "    else:\n",
    "        p = labels\n",
    "\n",
    "    if not self.args.disable_recon:\n",
    "        reconstructions = self.decoder(p)\n",
    "    else:\n",
    "        reconstructions = 0\n",
    "\n",
    "    return p, reconstructions"
   ]
  },
  {
   "cell_type": "markdown",
   "metadata": {},
   "source": [
    "## 4x4 pose output"
   ]
  },
  {
   "cell_type": "code",
   "execution_count": 8,
   "metadata": {
    "scrolled": false
   },
   "outputs": [
    {
     "data": {
      "application/vnd.jupyter.widget-view+json": {
       "model_id": "a46f7d1c10c9447fa618c8a986227434",
       "version_major": 2,
       "version_minor": 0
      },
      "text/plain": [
       "HBox(children=(VBox(children=(HBox(children=(Output(layout=Layout(width='100%')), Output(layout=Layout(width='…"
      ]
     },
     "metadata": {},
     "output_type": "display_data"
    },
    {
     "data": {
      "application/vnd.jupyter.widget-view+json": {
       "model_id": "edda46709e74407f89400c6195987d54",
       "version_major": 2,
       "version_minor": 0
      },
      "text/plain": [
       "HBox(children=(Label(value='Output', layout=Layout(width='100%')), Label(value='Label', layout=Layout(width='1…"
      ]
     },
     "metadata": {},
     "output_type": "display_data"
    },
    {
     "data": {
      "application/vnd.jupyter.widget-view+json": {
       "model_id": "a8c0ab499f9942e1ab95b73690a5fcfd",
       "version_major": 2,
       "version_minor": 0
      },
      "text/plain": [
       "HBox(children=(Textarea(value='', layout=Layout(height='90px', width='100%')), Textarea(value='', layout=Layou…"
      ]
     },
     "metadata": {},
     "output_type": "display_data"
    }
   ],
   "source": [
    "truth_widget_left = widgets.Output(layout=Layout(width='100%'))\n",
    "truth_widget_right = widgets.Output(layout=Layout(width='100%'))\n",
    "recon_widget_left = widgets.Output(layout=Layout(width='100%'))\n",
    "recon_widget_right = widgets.Output(layout=Layout(width='100%'))\n",
    "truth_widget = HBox([truth_widget_left, truth_widget_right], layout=Layout(width='100%'))\n",
    "recon_widget = HBox([recon_widget_left, recon_widget_right], layout=Layout(width='100%'))\n",
    "step_widget = VBox([truth_widget, recon_widget], layout=Layout(width='100%'))\n",
    "names = ['p0', 'p1', 'p2', 'p3', 'p4', 'p5', 'p6', 'p7', 'p8', 'p9', 'p10', 'p11', 'p12', 'p13', 'p14', 'p15']\n",
    "pose_sliders = [FloatSlider(min=-100, max=100, layout={'height': '50%'}, step=0.00001, description=i, orientation='horizontal') for i in names]\n",
    "button_next = widgets.Button(description=\"Next\", layout={'height': '50%'})\n",
    "pose_sliders.append(button_next)\n",
    "sliders_widget = VBox(pose_sliders, layout=Layout(width='60%'))\n",
    "step_slider_widget = HBox([step_widget, sliders_widget],layout=Layout(width='100%'))\n",
    "pose_output = widgets.Textarea(layout={'width': '100%','height': '90px'},disabled=False)\n",
    "pose_label = widgets.Textarea(layout={'width': '100%','height': '90px'},disabled=False)\n",
    "pose_error = widgets.Textarea(layout={'width': '100%','height': '90px'},disabled=False)\n",
    "\n",
    "\n",
    "label_widget = HBox([widgets.Label(layout={'width': '100%'},value=\"Output\"), widgets.Label(layout={'width': '100%'},value=\"Label\"), widgets.Label(layout={'width': '100%'},value=\"Error\")])\n",
    "pose_widget = HBox([pose_output, pose_label, pose_error])\n",
    "\n",
    "the_time = time.time()\n",
    "do_update = True\n",
    "\n",
    "display(step_slider_widget)\n",
    "display(label_widget)\n",
    "display(pose_widget)\n",
    "#display(pose_output)\n",
    "#display(pose_label)\n",
    "#display(pose_error)\n",
    "\n",
    "# Initialize Transform Network (from Pose to Quaternion)\n",
    "\"\"\"\n",
    "import sys\n",
    "import pyrr\n",
    "sys.path.append('../PoseToQuaternionNetwork/model')\n",
    "from transform import PoseToQuatNet\n",
    "transform = PoseToQuatNet()\n",
    "transform.load_state_dict(torch.load('../PoseToQuaternionNetwork/weights/model.pth'))\n",
    "transform.cpu()\n",
    "\"\"\"\n",
    "\n",
    "# Initialize view and projection for coord system rendering\n",
    "w_width, w_height = 800, 800\n",
    "focus_distance = 1.9\n",
    "view = pyrr.matrix44.create_from_translation(pyrr.Vector3([0.0, 0.0, -focus_distance])).transpose()\n",
    "projection = pyrr.matrix44.create_perspective_projection_matrix(65.0, w_width / w_height, 0.1, 100.0).transpose()\n",
    "\"\"\"\n",
    "def plotPoint(pnt, color_idx, img_left, img_right):\n",
    "    model_view = pyrr.matrix44.multiply(view, pnt)\n",
    "    model_projection = pyrr.matrix44.multiply(projection, model_view)\n",
    "    scaling = model_projection[3]\n",
    "    pix_x = img_left.shape[0]/2 + (model_projection[0]/scaling) * img_left.shape[0]/2\n",
    "    if pix_x >= img_left.shape[0]: pix_x = img_left.shape[0]-1\n",
    "    if pix_x < 0: pix_x = 0\n",
    "    pix_y = img_left.shape[1]/2 - (model_projection[1]/scaling) * img_left.shape[1]/2\n",
    "    if pix_y >= img_left.shape[1]: pix_y = img_left.shape[1]-1\n",
    "    if pix_y < 0: pix_y = 0\n",
    "    img_left[int(pix_y),int(pix_x),color_idx] = 1.0\n",
    "    img_right[int(pix_y),int(pix_x),color_idx] = 1.0\n",
    "\"\"\"\n",
    "def plotPoint(pnt, color_idx, img):\n",
    "    model_view = pyrr.matrix44.multiply(view, pnt)\n",
    "    model_projection = pyrr.matrix44.multiply(projection, model_view)\n",
    "    scaling = model_projection[3]\n",
    "    pix_x = img.shape[0]/2 + (model_projection[0]/scaling) * img.shape[0]/2\n",
    "    if pix_x >= img.shape[0]: pix_x = img.shape[0]-1\n",
    "    if pix_x < 0: pix_x = 0\n",
    "    pix_y = img.shape[1]/2 - (model_projection[1]/scaling) * img.shape[1]/2\n",
    "    if pix_y >= img.shape[1]: pix_y = img.shape[1]-1\n",
    "    if pix_y < 0: pix_y = 0\n",
    "    img[int(pix_y),int(pix_x),color_idx] = 1.0\n",
    "    \n",
    "eye_distance = 0.5\n",
    "focus_distance = 1.9\n",
    "eye_angle = eye_distance/focus_distance\n",
    "right_eye_transform = pyrr.Matrix44.from_y_rotation(-eye_angle/2)\n",
    "left_eye_transform = pyrr.Matrix44.from_y_rotation(eye_angle/2)\n",
    "    \n",
    "def plotCoordSystemAxis(pose44, axis_idx, img):\n",
    "    pnt = pyrr.vector4.create(0.0, 0.0, 0.0, 1.0)\n",
    "    for i in range(50):\n",
    "        pnt[axis_idx] = i*0.01\n",
    "        point = pyrr.matrix44.multiply(pyrr.Matrix44(pose44), pnt) #.transpose()\n",
    "        plotPoint(point, axis_idx, img)\n",
    "\n",
    "pose = 0\n",
    "lambda_ = torch.tensor([1.0])\n",
    "\n",
    "def on_value_change(change):\n",
    "    global the_time\n",
    "    global do_update\n",
    "    global pose\n",
    "    global ground_truth_labels\n",
    "    global imgs\n",
    "    global imgs_ref\n",
    "    global right_eye_transform\n",
    "    global left_eye_transform\n",
    "\n",
    "    if not do_update and change is not None:\n",
    "        return\n",
    "\n",
    "    if (time.time()-the_time) < 0.2:\n",
    "        return\n",
    "    the_time = time.time()\n",
    "    \n",
    "    for i in range(len(pose_sliders)-1):\n",
    "        pose[:,i] = pose_sliders[i].value\n",
    "    \n",
    "    p, reconstruction = forward(self, None, None, labels=pose)\n",
    "\n",
    "    #imgs_sliced = imgs[:,[0,3],...]\n",
    "    reconstruction = reconstruction.view_as(imgs_ref)\n",
    "\n",
    "    recon_left = reconstruction.data[:,0,:,:].squeeze().cpu().numpy()\n",
    "    recon_right = reconstruction.data[:,1,:,:].squeeze().cpu().numpy()\n",
    "\n",
    "    #vec7 = transform.forward(pose)\n",
    "    #quat = reff[0,3:]\n",
    "    #mat44 = pyrr.Matrix44.from_quaternion(quat)\n",
    "    #mat44[3,:][0:3] = reff[0,:3]\n",
    "    #print(mat44)\n",
    "    #kaj = mat44.reshape(-1)\n",
    "    #print(kaj)\n",
    "    #print(kaj.shape)\n",
    "    \n",
    "    mat44 = util.matAffine_from_matMinRep(pose.data)\n",
    "\n",
    "    recon_left = np.concatenate((recon_left[:,:,None],recon_left[:,:,None],recon_left[:,:,None]), axis=2)\n",
    "    recon_right = np.concatenate((recon_right[:,:,None],recon_right[:,:,None],recon_right[:,:,None]), axis=2)\n",
    "\n",
    "    pose_left = pyrr.Matrix44(mat44)*left_eye_transform\n",
    "    plotCoordSystemAxis(pose_left, 0, recon_left)\n",
    "    plotCoordSystemAxis(pose_left, 1, recon_left)\n",
    "    plotCoordSystemAxis(pose_left, 2, recon_left)\n",
    "\n",
    "    pose_right = pyrr.Matrix44(mat44)*right_eye_transform\n",
    "    plotCoordSystemAxis(pose_right, 0, recon_right)\n",
    "    plotCoordSystemAxis(pose_right, 1, recon_right)\n",
    "    plotCoordSystemAxis(pose_right, 2, recon_right)\n",
    "    \n",
    "    updateOutputWidget(recon_widget_left, recon_left, \"RGB\")\n",
    "    updateOutputWidget(recon_widget_right, recon_right, \"RGB\")\n",
    "\n",
    "def showDataImage(next_data, steps=0):\n",
    "    global ground_truth_labels\n",
    "    global imgs\n",
    "    global imgs_ref\n",
    "    global do_update\n",
    "    global ground_truth_widget\n",
    "    global pose\n",
    "    do_update = False\n",
    "    \n",
    "    \"\"\"\n",
    "    Prepare input\n",
    "    \"\"\"\n",
    "    imgs = next_data[0]\n",
    "    left = imgs[:,[0,2],:,:int(imgs.shape[-1]/2)]\n",
    "    right = imgs[:,[0,2],:,int(imgs.shape[-1]/2):]\n",
    "    imgs = torch.stack([left[:,:,:,2:97],right[:,:,:,2:97]], dim=3).view(imgs.shape[0],2,100, 190)\n",
    "    imgs_ref = torch.stack([left[:,0,:,2:97],right[:,1,:,2:97]], dim=1)\n",
    "\n",
    "    #image = util.split_in_channels(next_data[0])\n",
    "    \n",
    "    ground_truth_labels = next_data[1]\n",
    "    imgs = Variable(imgs).cpu()\n",
    "    pose, reco = forward(self, imgs, lambda_, draw=True)\n",
    "\n",
    "    # Print matrices in textareas\n",
    "    m_l = util.matMinRep_from_qvec(ground_truth_labels.float())\n",
    "    m_l = util.matAffine_from_matMinRep(m_l)\n",
    "    m_o = util.matAffine_from_matMinRep(pose.data.cpu())\n",
    "    pose_label.value = util.matrixString_from_matAffine(m_l)\n",
    "    pose_output.value = util.matrixString_from_matAffine(m_o)\n",
    "    pose_error.value = util.matrixString_from_matAffine(m_o - m_l)\n",
    "\n",
    "    #pose_transformed = transform.forward(pose)\n",
    "    #pose_label.value = str(ground_truth_labels.float().numpy()[0,:])\n",
    "    #pose_output.value = str(transform.forward(p).data.cpu().numpy()[0,:])\n",
    "\n",
    "    img_conv_left = util.applyBrightnessAndContrast(imgs_ref[0,0,:,:].squeeze().numpy(), brightness_left.value, contrast_left.value)\n",
    "    img_conv_right = util.applyBrightnessAndContrast(imgs_ref[0,1,:,:].squeeze().numpy(), brightness_right.value, contrast_right.value)\n",
    "        \n",
    "    updateOutputWidget(ground_truth_widget_left, img_conv_left)\n",
    "    updateOutputWidget(ground_truth_widget_right, img_conv_right)\n",
    "\n",
    "    \n",
    "    # Plot coordinate systems on \"truth\" images\n",
    "    mat44 = util.matAffine_from_matMinRep(pose.data)\n",
    "    truth_left = imgs_ref[0,0,:,:].squeeze().numpy()\n",
    "    truth_left = np.concatenate((truth_left[:,:,None],truth_left[:,:,None],truth_left[:,:,None]), axis=2)\n",
    "    pose_left = pyrr.Matrix44(mat44)*left_eye_transform\n",
    "    plotCoordSystemAxis(pose_left, 0, truth_left)\n",
    "    plotCoordSystemAxis(pose_left, 1, truth_left)\n",
    "    plotCoordSystemAxis(pose_left, 2, truth_left)\n",
    "    truth_right = imgs_ref[0,1,:,:].squeeze().numpy()\n",
    "    truth_right = np.concatenate((truth_right[:,:,None],truth_right[:,:,None],truth_right[:,:,None]), axis=2)\n",
    "    pose_right = pyrr.Matrix44(mat44)*right_eye_transform\n",
    "    plotCoordSystemAxis(pose_right, 0, truth_right)\n",
    "    plotCoordSystemAxis(pose_right, 1, truth_right)\n",
    "    plotCoordSystemAxis(pose_right, 2, truth_right)\n",
    "    \n",
    "    updateOutputWidget(truth_widget_left, truth_left, \"RGB\")\n",
    "    updateOutputWidget(truth_widget_right, truth_right, \"RGB\")\n",
    "\n",
    "    if steps == 0:\n",
    "        for i in range(len(pose_sliders)-1):\n",
    "            pose_sliders[i].max = pose[:,i]\n",
    "            pose_sliders[i].min = pose[:,i]\n",
    "    else:\n",
    "        old = []\n",
    "        for i in range(len(pose_sliders)-1):\n",
    "            old.append(pose_sliders[i].value)\n",
    "            if pose[:,i] > pose_sliders[i].max:\n",
    "                pose_sliders[i].max = pose[:,i]\n",
    "            elif pose[:,i] < pose_sliders[i].min:\n",
    "                pose_sliders[i].min = pose[:,i]\n",
    "\n",
    "        delta = pose[0,:].data.cpu().numpy() - old\n",
    "        delta /= steps\n",
    "\n",
    "        for steps in range(steps):\n",
    "            for i in range(len(pose_sliders)-1):\n",
    "                pose_sliders[i].value += delta[i]\n",
    "            on_value_change(None)\n",
    "            time.sleep(0.5)\n",
    "            \n",
    "    for i in range(len(pose_sliders)-1):\n",
    "        pose_sliders[i].value = pose[:,i]\n",
    "    on_value_change(None)\n",
    "    do_update = True\n",
    "\n",
    "train_dataset = util.MyImageFolder(root='../../../data/dumps/', transform=transforms.ToTensor(), target_transform=transforms.ToTensor())\n",
    "train_loader = torch.utils.data.DataLoader(dataset=train_dataset,batch_size=args.batch_size,num_workers=args.num_workers,shuffle=True)\n",
    "data_iter = iter(train_loader)\n",
    "\n",
    "def on_next_button_clicked(b):\n",
    "    next_data = next(data_iter)\n",
    "    showDataImage(next_data, steps=5)\n",
    "\n",
    "button_next.on_click(on_next_button_clicked)\n",
    "\n",
    "next_data = next(data_iter)\n",
    "showDataImage(next_data, steps=0)\n",
    "\n",
    "for i in range(len(pose_sliders)):\n",
    "    pose_sliders[i].observe(on_value_change)"
   ]
  },
  {
   "cell_type": "code",
   "execution_count": null,
   "metadata": {},
   "outputs": [],
   "source": []
  }
 ],
 "metadata": {
  "kernelspec": {
   "display_name": "Python 3",
   "language": "python",
   "name": "python3"
  },
  "language_info": {
   "codemirror_mode": {
    "name": "ipython",
    "version": 3
   },
   "file_extension": ".py",
   "mimetype": "text/x-python",
   "name": "python",
   "nbconvert_exporter": "python",
   "pygments_lexer": "ipython3",
   "version": "3.6.6"
  },
  "widgets": {
   "application/vnd.jupyter.widget-state+json": {
    "state": {
     "02a95245f28f48e69eda3fb3bd438d67": {
      "model_module_version": "^2.1.4",
      "state": {
       "value": "<table style=\"width:100%\">\n                <thead>\n                    <tr>\n                        <th colspan=\"2\">\n                        Could not create model:\n                        </th>\n                    </tr>\n                </thead>\n                <tbody>\n                    <tr>\n                        <td>Model name</td>\n                        <td> undefined </td>\n                    </tr>\n                    <tr>\n                        <td>Model module</td>\n                        <td> undefined </td>\n                    </tr>\n                    <tr>\n                        <td>Model module version</td>\n                        <td> undefined </td>\n                    </tr>\n                <tbody>\n                <tfoot>\n                    <tr>\n                        <th colspan=\"2\">\n                        Class undefined not found in registry \n                        </th>\n                    </tr>\n                </tfoot>\n                </table>"
      }
     },
     "086adac005c04b4190a432ca55b65c08": {
      "model_module_version": "^2.1.4",
      "state": {
       "children": [
        "IPY_MODEL_5ddce768a0cd44fcb6a02f55d97511c0",
        "IPY_MODEL_7b2a75f21e23408ba72e5f04d40c4ae0"
       ],
       "value": "<table style=\"width:100%\">\n                <thead>\n                    <tr>\n                        <th colspan=\"2\">\n                        Could not create model:\n                        </th>\n                    </tr>\n                </thead>\n                <tbody>\n                    <tr>\n                        <td>Model name</td>\n                        <td> undefined </td>\n                    </tr>\n                    <tr>\n                        <td>Model module</td>\n                        <td> undefined </td>\n                    </tr>\n                    <tr>\n                        <td>Model module version</td>\n                        <td> undefined </td>\n                    </tr>\n                <tbody>\n                <tfoot>\n                    <tr>\n                        <th colspan=\"2\">\n                        Class undefined not found in registry \n                        </th>\n                    </tr>\n                </tfoot>\n                </table>"
      }
     },
     "09a94446cf9d4aaea5de8fee2478bfe3": {
      "model_module_version": "^2.1.4",
      "state": {
       "value": "<table style=\"width:100%\">\n                <thead>\n                    <tr>\n                        <th colspan=\"2\">\n                        Could not create model:\n                        </th>\n                    </tr>\n                </thead>\n                <tbody>\n                    <tr>\n                        <td>Model name</td>\n                        <td> undefined </td>\n                    </tr>\n                    <tr>\n                        <td>Model module</td>\n                        <td> undefined </td>\n                    </tr>\n                    <tr>\n                        <td>Model module version</td>\n                        <td> undefined </td>\n                    </tr>\n                <tbody>\n                <tfoot>\n                    <tr>\n                        <th colspan=\"2\">\n                        Class undefined not found in registry \n                        </th>\n                    </tr>\n                </tfoot>\n                </table>"
      }
     },
     "0a266fd5169140bab25a3a38a8f50fb1": {
      "model_module_version": "^2.1.4",
      "state": {
       "children": [
        "IPY_MODEL_bc40a99774e645d6a95f8c5424ed326e",
        "IPY_MODEL_43698cd83e434735970d098c0c18c682"
       ],
       "value": "<table style=\"width:100%\">\n                <thead>\n                    <tr>\n                        <th colspan=\"2\">\n                        Could not create model:\n                        </th>\n                    </tr>\n                </thead>\n                <tbody>\n                    <tr>\n                        <td>Model name</td>\n                        <td> undefined </td>\n                    </tr>\n                    <tr>\n                        <td>Model module</td>\n                        <td> undefined </td>\n                    </tr>\n                    <tr>\n                        <td>Model module version</td>\n                        <td> undefined </td>\n                    </tr>\n                <tbody>\n                <tfoot>\n                    <tr>\n                        <th colspan=\"2\">\n                        Class undefined not found in registry \n                        </th>\n                    </tr>\n                </tfoot>\n                </table>"
      }
     },
     "0bb041ed3f25401da46f4d3b1b84bedd": {
      "model_module_version": "^2.1.4",
      "state": {
       "msg_id": "",
       "value": "<table style=\"width:100%\">\n                <thead>\n                    <tr>\n                        <th colspan=\"2\">\n                        Could not create model:\n                        </th>\n                    </tr>\n                </thead>\n                <tbody>\n                    <tr>\n                        <td>Model name</td>\n                        <td> undefined </td>\n                    </tr>\n                    <tr>\n                        <td>Model module</td>\n                        <td> undefined </td>\n                    </tr>\n                    <tr>\n                        <td>Model module version</td>\n                        <td> undefined </td>\n                    </tr>\n                <tbody>\n                <tfoot>\n                    <tr>\n                        <th colspan=\"2\">\n                        Class undefined not found in registry \n                        </th>\n                    </tr>\n                </tfoot>\n                </table>"
      }
     },
     "0c491954f101426f8a6d2c2c8f117c65": {
      "model_module_version": "^2.1.4",
      "state": {
       "children": [
        "IPY_MODEL_e8c41950a9d349d2a093b110f66cbb72",
        "IPY_MODEL_b74b2bb279ff49c9a7b8384e115dda91"
       ],
       "value": "<table style=\"width:100%\">\n                <thead>\n                    <tr>\n                        <th colspan=\"2\">\n                        Could not create model:\n                        </th>\n                    </tr>\n                </thead>\n                <tbody>\n                    <tr>\n                        <td>Model name</td>\n                        <td> undefined </td>\n                    </tr>\n                    <tr>\n                        <td>Model module</td>\n                        <td> undefined </td>\n                    </tr>\n                    <tr>\n                        <td>Model module version</td>\n                        <td> undefined </td>\n                    </tr>\n                <tbody>\n                <tfoot>\n                    <tr>\n                        <th colspan=\"2\">\n                        Class undefined not found in registry \n                        </th>\n                    </tr>\n                </tfoot>\n                </table>"
      }
     },
     "0d0f207a9beb4bbc8342dfdfde8abfd1": {
      "model_module_version": "^2.1.4",
      "state": {
       "msg_id": "",
       "value": "<table style=\"width:100%\">\n                <thead>\n                    <tr>\n                        <th colspan=\"2\">\n                        Could not create model:\n                        </th>\n                    </tr>\n                </thead>\n                <tbody>\n                    <tr>\n                        <td>Model name</td>\n                        <td> undefined </td>\n                    </tr>\n                    <tr>\n                        <td>Model module</td>\n                        <td> undefined </td>\n                    </tr>\n                    <tr>\n                        <td>Model module version</td>\n                        <td> undefined </td>\n                    </tr>\n                <tbody>\n                <tfoot>\n                    <tr>\n                        <th colspan=\"2\">\n                        Class undefined not found in registry \n                        </th>\n                    </tr>\n                </tfoot>\n                </table>"
      }
     },
     "17ce0b15ae7f4e07bb389acdb95723a9": {
      "model_module_version": "^2.1.4",
      "state": {
       "children": [
        "IPY_MODEL_98eb087ff1554f3983db53fa15fe205e",
        "IPY_MODEL_2cb31d41b01c41cab49231e6bbcef9a5"
       ],
       "value": "<table style=\"width:100%\">\n                <thead>\n                    <tr>\n                        <th colspan=\"2\">\n                        Could not create model:\n                        </th>\n                    </tr>\n                </thead>\n                <tbody>\n                    <tr>\n                        <td>Model name</td>\n                        <td> undefined </td>\n                    </tr>\n                    <tr>\n                        <td>Model module</td>\n                        <td> undefined </td>\n                    </tr>\n                    <tr>\n                        <td>Model module version</td>\n                        <td> undefined </td>\n                    </tr>\n                <tbody>\n                <tfoot>\n                    <tr>\n                        <th colspan=\"2\">\n                        Class undefined not found in registry \n                        </th>\n                    </tr>\n                </tfoot>\n                </table>"
      }
     },
     "18fbf107d608491b8631570d892bc11c": {
      "model_module_version": "^2.1.4",
      "state": {
       "value": "<table style=\"width:100%\">\n                <thead>\n                    <tr>\n                        <th colspan=\"2\">\n                        Could not create model:\n                        </th>\n                    </tr>\n                </thead>\n                <tbody>\n                    <tr>\n                        <td>Model name</td>\n                        <td> undefined </td>\n                    </tr>\n                    <tr>\n                        <td>Model module</td>\n                        <td> undefined </td>\n                    </tr>\n                    <tr>\n                        <td>Model module version</td>\n                        <td> undefined </td>\n                    </tr>\n                <tbody>\n                <tfoot>\n                    <tr>\n                        <th colspan=\"2\">\n                        Class undefined not found in registry \n                        </th>\n                    </tr>\n                </tfoot>\n                </table>"
      }
     },
     "1a1f8a848b0344be8b0ccf93d1d2026c": {
      "model_module_version": "^2.1.4",
      "state": {
       "value": "<table style=\"width:100%\">\n                <thead>\n                    <tr>\n                        <th colspan=\"2\">\n                        Could not create model:\n                        </th>\n                    </tr>\n                </thead>\n                <tbody>\n                    <tr>\n                        <td>Model name</td>\n                        <td> undefined </td>\n                    </tr>\n                    <tr>\n                        <td>Model module</td>\n                        <td> undefined </td>\n                    </tr>\n                    <tr>\n                        <td>Model module version</td>\n                        <td> undefined </td>\n                    </tr>\n                <tbody>\n                <tfoot>\n                    <tr>\n                        <th colspan=\"2\">\n                        Class undefined not found in registry \n                        </th>\n                    </tr>\n                </tfoot>\n                </table>"
      }
     },
     "1a3f3f985d584928bc8d0c7ab6f70f2e": {
      "model_module_version": "^2.1.4",
      "state": {
       "value": "<table style=\"width:100%\">\n                <thead>\n                    <tr>\n                        <th colspan=\"2\">\n                        Could not create model:\n                        </th>\n                    </tr>\n                </thead>\n                <tbody>\n                    <tr>\n                        <td>Model name</td>\n                        <td> undefined </td>\n                    </tr>\n                    <tr>\n                        <td>Model module</td>\n                        <td> undefined </td>\n                    </tr>\n                    <tr>\n                        <td>Model module version</td>\n                        <td> undefined </td>\n                    </tr>\n                <tbody>\n                <tfoot>\n                    <tr>\n                        <th colspan=\"2\">\n                        Class undefined not found in registry \n                        </th>\n                    </tr>\n                </tfoot>\n                </table>"
      }
     },
     "1cd36f848c6a4887b49476cedbf3d552": {
      "model_module_version": "^2.1.4",
      "state": {
       "value": "<table style=\"width:100%\">\n                <thead>\n                    <tr>\n                        <th colspan=\"2\">\n                        Could not create model:\n                        </th>\n                    </tr>\n                </thead>\n                <tbody>\n                    <tr>\n                        <td>Model name</td>\n                        <td> undefined </td>\n                    </tr>\n                    <tr>\n                        <td>Model module</td>\n                        <td> undefined </td>\n                    </tr>\n                    <tr>\n                        <td>Model module version</td>\n                        <td> undefined </td>\n                    </tr>\n                <tbody>\n                <tfoot>\n                    <tr>\n                        <th colspan=\"2\">\n                        Class undefined not found in registry \n                        </th>\n                    </tr>\n                </tfoot>\n                </table>"
      }
     },
     "1e92dc6d2e6a4746ae2cd05ab57165ec": {
      "model_module_version": "^2.1.4",
      "state": {
       "description": "x",
       "value": "<table style=\"width:100%\">\n                <thead>\n                    <tr>\n                        <th colspan=\"2\">\n                        Could not create model:\n                        </th>\n                    </tr>\n                </thead>\n                <tbody>\n                    <tr>\n                        <td>Model name</td>\n                        <td> undefined </td>\n                    </tr>\n                    <tr>\n                        <td>Model module</td>\n                        <td> undefined </td>\n                    </tr>\n                    <tr>\n                        <td>Model module version</td>\n                        <td> undefined </td>\n                    </tr>\n                <tbody>\n                <tfoot>\n                    <tr>\n                        <th colspan=\"2\">\n                        Class undefined not found in registry \n                        </th>\n                    </tr>\n                </tfoot>\n                </table>"
      }
     },
     "28fc64f255dc4af98ea2e4f433a7e659": {
      "model_module_version": "^2.1.4",
      "state": {
       "children": [
        "IPY_MODEL_d00724d28f834c4991169f92b8e447cb",
        "IPY_MODEL_b5c4b56ba9cd45e1bdca6530cc78c9e1"
       ],
       "value": "<table style=\"width:100%\">\n                <thead>\n                    <tr>\n                        <th colspan=\"2\">\n                        Could not create model:\n                        </th>\n                    </tr>\n                </thead>\n                <tbody>\n                    <tr>\n                        <td>Model name</td>\n                        <td> undefined </td>\n                    </tr>\n                    <tr>\n                        <td>Model module</td>\n                        <td> undefined </td>\n                    </tr>\n                    <tr>\n                        <td>Model module version</td>\n                        <td> undefined </td>\n                    </tr>\n                <tbody>\n                <tfoot>\n                    <tr>\n                        <th colspan=\"2\">\n                        Class undefined not found in registry \n                        </th>\n                    </tr>\n                </tfoot>\n                </table>"
      }
     },
     "2a48c6cde59541fe8760420e54905bb8": {
      "model_module_version": "^2.1.4",
      "state": {
       "value": "<table style=\"width:100%\">\n                <thead>\n                    <tr>\n                        <th colspan=\"2\">\n                        Could not create model:\n                        </th>\n                    </tr>\n                </thead>\n                <tbody>\n                    <tr>\n                        <td>Model name</td>\n                        <td> undefined </td>\n                    </tr>\n                    <tr>\n                        <td>Model module</td>\n                        <td> undefined </td>\n                    </tr>\n                    <tr>\n                        <td>Model module version</td>\n                        <td> undefined </td>\n                    </tr>\n                <tbody>\n                <tfoot>\n                    <tr>\n                        <th colspan=\"2\">\n                        Class undefined not found in registry \n                        </th>\n                    </tr>\n                </tfoot>\n                </table>"
      }
     },
     "2a9914efad9b4709b512186b35fca807": {
      "model_module_version": "^2.1.4",
      "state": {
       "value": "<table style=\"width:100%\">\n                <thead>\n                    <tr>\n                        <th colspan=\"2\">\n                        Could not create model:\n                        </th>\n                    </tr>\n                </thead>\n                <tbody>\n                    <tr>\n                        <td>Model name</td>\n                        <td> undefined </td>\n                    </tr>\n                    <tr>\n                        <td>Model module</td>\n                        <td> undefined </td>\n                    </tr>\n                    <tr>\n                        <td>Model module version</td>\n                        <td> undefined </td>\n                    </tr>\n                <tbody>\n                <tfoot>\n                    <tr>\n                        <th colspan=\"2\">\n                        Class undefined not found in registry \n                        </th>\n                    </tr>\n                </tfoot>\n                </table>"
      }
     },
     "2b61a2efed51453ba7d9b61640e3257b": {
      "model_module_version": "^2.1.4",
      "state": {
       "children": [
        "IPY_MODEL_ca7fc7414df744c1a12a80afcd929124",
        "IPY_MODEL_892d3ae0c7194bf880319e259ecc2978"
       ],
       "value": "<table style=\"width:100%\">\n                <thead>\n                    <tr>\n                        <th colspan=\"2\">\n                        Could not create model:\n                        </th>\n                    </tr>\n                </thead>\n                <tbody>\n                    <tr>\n                        <td>Model name</td>\n                        <td> undefined </td>\n                    </tr>\n                    <tr>\n                        <td>Model module</td>\n                        <td> undefined </td>\n                    </tr>\n                    <tr>\n                        <td>Model module version</td>\n                        <td> undefined </td>\n                    </tr>\n                <tbody>\n                <tfoot>\n                    <tr>\n                        <th colspan=\"2\">\n                        Class undefined not found in registry \n                        </th>\n                    </tr>\n                </tfoot>\n                </table>"
      }
     },
     "2cb31d41b01c41cab49231e6bbcef9a5": {
      "model_module_version": "^2.1.4",
      "state": {
       "msg_id": "",
       "value": "<table style=\"width:100%\">\n                <thead>\n                    <tr>\n                        <th colspan=\"2\">\n                        Could not create model:\n                        </th>\n                    </tr>\n                </thead>\n                <tbody>\n                    <tr>\n                        <td>Model name</td>\n                        <td> undefined </td>\n                    </tr>\n                    <tr>\n                        <td>Model module</td>\n                        <td> undefined </td>\n                    </tr>\n                    <tr>\n                        <td>Model module version</td>\n                        <td> undefined </td>\n                    </tr>\n                <tbody>\n                <tfoot>\n                    <tr>\n                        <th colspan=\"2\">\n                        Class undefined not found in registry \n                        </th>\n                    </tr>\n                </tfoot>\n                </table>"
      }
     },
     "2f4edba5b47e4d5590df1386c754fd88": {
      "model_module_version": "^2.1.4",
      "state": {
       "value": "<table style=\"width:100%\">\n                <thead>\n                    <tr>\n                        <th colspan=\"2\">\n                        Could not create model:\n                        </th>\n                    </tr>\n                </thead>\n                <tbody>\n                    <tr>\n                        <td>Model name</td>\n                        <td> undefined </td>\n                    </tr>\n                    <tr>\n                        <td>Model module</td>\n                        <td> undefined </td>\n                    </tr>\n                    <tr>\n                        <td>Model module version</td>\n                        <td> undefined </td>\n                    </tr>\n                <tbody>\n                <tfoot>\n                    <tr>\n                        <th colspan=\"2\">\n                        Class undefined not found in registry \n                        </th>\n                    </tr>\n                </tfoot>\n                </table>"
      }
     },
     "32e0e6999b084991bcd84438c81ff67f": {
      "model_module_version": "^2.1.4",
      "state": {
       "value": "<table style=\"width:100%\">\n                <thead>\n                    <tr>\n                        <th colspan=\"2\">\n                        Could not create model:\n                        </th>\n                    </tr>\n                </thead>\n                <tbody>\n                    <tr>\n                        <td>Model name</td>\n                        <td> undefined </td>\n                    </tr>\n                    <tr>\n                        <td>Model module</td>\n                        <td> undefined </td>\n                    </tr>\n                    <tr>\n                        <td>Model module version</td>\n                        <td> undefined </td>\n                    </tr>\n                <tbody>\n                <tfoot>\n                    <tr>\n                        <th colspan=\"2\">\n                        Class undefined not found in registry \n                        </th>\n                    </tr>\n                </tfoot>\n                </table>"
      }
     },
     "3ac7a342207a410888cc1bde2c42f286": {
      "model_module_version": "^2.1.4",
      "state": {
       "value": "<table style=\"width:100%\">\n                <thead>\n                    <tr>\n                        <th colspan=\"2\">\n                        Could not create model:\n                        </th>\n                    </tr>\n                </thead>\n                <tbody>\n                    <tr>\n                        <td>Model name</td>\n                        <td> undefined </td>\n                    </tr>\n                    <tr>\n                        <td>Model module</td>\n                        <td> undefined </td>\n                    </tr>\n                    <tr>\n                        <td>Model module version</td>\n                        <td> undefined </td>\n                    </tr>\n                <tbody>\n                <tfoot>\n                    <tr>\n                        <th colspan=\"2\">\n                        Class undefined not found in registry \n                        </th>\n                    </tr>\n                </tfoot>\n                </table>"
      }
     },
     "3c2f6371fb9d4ef8963013d7ec752f1a": {
      "model_module": "jupyter-js-widgets",
      "model_module_version": "~2.1.4",
      "model_name": "LayoutModel",
      "state": {
       "_model_module_version": "~2.1.4",
       "_view_module_version": "~2.1.4"
      }
     },
     "4085225553f745b5a56321cf316c733e": {
      "model_module": "jupyter-js-widgets",
      "model_module_version": "~2.1.4",
      "model_name": "SliderStyleModel",
      "state": {
       "_model_module_version": "~2.1.4",
       "_view_module_version": "~2.1.4"
      }
     },
     "40dd2c2fbf0d41babb963d45187381e3": {
      "model_module_version": "^2.1.4",
      "state": {
       "value": "<table style=\"width:100%\">\n                <thead>\n                    <tr>\n                        <th colspan=\"2\">\n                        Could not create model:\n                        </th>\n                    </tr>\n                </thead>\n                <tbody>\n                    <tr>\n                        <td>Model name</td>\n                        <td> undefined </td>\n                    </tr>\n                    <tr>\n                        <td>Model module</td>\n                        <td> undefined </td>\n                    </tr>\n                    <tr>\n                        <td>Model module version</td>\n                        <td> undefined </td>\n                    </tr>\n                <tbody>\n                <tfoot>\n                    <tr>\n                        <th colspan=\"2\">\n                        Class undefined not found in registry \n                        </th>\n                    </tr>\n                </tfoot>\n                </table>"
      }
     },
     "43698cd83e434735970d098c0c18c682": {
      "model_module_version": "^2.1.4",
      "state": {
       "msg_id": "",
       "value": "<table style=\"width:100%\">\n                <thead>\n                    <tr>\n                        <th colspan=\"2\">\n                        Could not create model:\n                        </th>\n                    </tr>\n                </thead>\n                <tbody>\n                    <tr>\n                        <td>Model name</td>\n                        <td> undefined </td>\n                    </tr>\n                    <tr>\n                        <td>Model module</td>\n                        <td> undefined </td>\n                    </tr>\n                    <tr>\n                        <td>Model module version</td>\n                        <td> undefined </td>\n                    </tr>\n                <tbody>\n                <tfoot>\n                    <tr>\n                        <th colspan=\"2\">\n                        Class undefined not found in registry \n                        </th>\n                    </tr>\n                </tfoot>\n                </table>"
      }
     },
     "4516a929146f4c6aba450499be5a6bae": {
      "model_module_version": "^2.1.4",
      "state": {
       "children": [
        "IPY_MODEL_1e92dc6d2e6a4746ae2cd05ab57165ec",
        "IPY_MODEL_0d0f207a9beb4bbc8342dfdfde8abfd1"
       ],
       "value": "<table style=\"width:100%\">\n                <thead>\n                    <tr>\n                        <th colspan=\"2\">\n                        Could not create model:\n                        </th>\n                    </tr>\n                </thead>\n                <tbody>\n                    <tr>\n                        <td>Model name</td>\n                        <td> undefined </td>\n                    </tr>\n                    <tr>\n                        <td>Model module</td>\n                        <td> undefined </td>\n                    </tr>\n                    <tr>\n                        <td>Model module version</td>\n                        <td> undefined </td>\n                    </tr>\n                <tbody>\n                <tfoot>\n                    <tr>\n                        <th colspan=\"2\">\n                        Class undefined not found in registry \n                        </th>\n                    </tr>\n                </tfoot>\n                </table>"
      }
     },
     "46c3f00a4866401bb7d7dd886668baeb": {
      "model_module_version": "^2.1.4",
      "state": {
       "msg_id": "",
       "value": "<table style=\"width:100%\">\n                <thead>\n                    <tr>\n                        <th colspan=\"2\">\n                        Could not create model:\n                        </th>\n                    </tr>\n                </thead>\n                <tbody>\n                    <tr>\n                        <td>Model name</td>\n                        <td> undefined </td>\n                    </tr>\n                    <tr>\n                        <td>Model module</td>\n                        <td> undefined </td>\n                    </tr>\n                    <tr>\n                        <td>Model module version</td>\n                        <td> undefined </td>\n                    </tr>\n                <tbody>\n                <tfoot>\n                    <tr>\n                        <th colspan=\"2\">\n                        Class undefined not found in registry \n                        </th>\n                    </tr>\n                </tfoot>\n                </table>"
      }
     },
     "49aa40dd11114ddabb68be1d01d1e41d": {
      "model_module_version": "^2.1.4",
      "state": {
       "value": "<table style=\"width:100%\">\n                <thead>\n                    <tr>\n                        <th colspan=\"2\">\n                        Could not create model:\n                        </th>\n                    </tr>\n                </thead>\n                <tbody>\n                    <tr>\n                        <td>Model name</td>\n                        <td> undefined </td>\n                    </tr>\n                    <tr>\n                        <td>Model module</td>\n                        <td> undefined </td>\n                    </tr>\n                    <tr>\n                        <td>Model module version</td>\n                        <td> undefined </td>\n                    </tr>\n                <tbody>\n                <tfoot>\n                    <tr>\n                        <th colspan=\"2\">\n                        Class undefined not found in registry \n                        </th>\n                    </tr>\n                </tfoot>\n                </table>"
      }
     },
     "4a96e2d67ee54a41a257d81719387929": {
      "model_module_version": "^2.1.4",
      "state": {
       "msg_id": "",
       "value": "<table style=\"width:100%\">\n                <thead>\n                    <tr>\n                        <th colspan=\"2\">\n                        Could not create model:\n                        </th>\n                    </tr>\n                </thead>\n                <tbody>\n                    <tr>\n                        <td>Model name</td>\n                        <td> undefined </td>\n                    </tr>\n                    <tr>\n                        <td>Model module</td>\n                        <td> undefined </td>\n                    </tr>\n                    <tr>\n                        <td>Model module version</td>\n                        <td> undefined </td>\n                    </tr>\n                <tbody>\n                <tfoot>\n                    <tr>\n                        <th colspan=\"2\">\n                        Class undefined not found in registry \n                        </th>\n                    </tr>\n                </tfoot>\n                </table>"
      }
     },
     "501729002a44409ba89f0ce4598c4615": {
      "model_module_version": "^2.1.4",
      "state": {
       "value": "<table style=\"width:100%\">\n                <thead>\n                    <tr>\n                        <th colspan=\"2\">\n                        Could not create model:\n                        </th>\n                    </tr>\n                </thead>\n                <tbody>\n                    <tr>\n                        <td>Model name</td>\n                        <td> undefined </td>\n                    </tr>\n                    <tr>\n                        <td>Model module</td>\n                        <td> undefined </td>\n                    </tr>\n                    <tr>\n                        <td>Model module version</td>\n                        <td> undefined </td>\n                    </tr>\n                <tbody>\n                <tfoot>\n                    <tr>\n                        <th colspan=\"2\">\n                        Class undefined not found in registry \n                        </th>\n                    </tr>\n                </tfoot>\n                </table>"
      }
     },
     "55c4545c3cf9416ca5f9b6468f70a6ea": {
      "model_module_version": "^2.1.4",
      "state": {
       "value": "<table style=\"width:100%\">\n                <thead>\n                    <tr>\n                        <th colspan=\"2\">\n                        Could not create model:\n                        </th>\n                    </tr>\n                </thead>\n                <tbody>\n                    <tr>\n                        <td>Model name</td>\n                        <td> undefined </td>\n                    </tr>\n                    <tr>\n                        <td>Model module</td>\n                        <td> undefined </td>\n                    </tr>\n                    <tr>\n                        <td>Model module version</td>\n                        <td> undefined </td>\n                    </tr>\n                <tbody>\n                <tfoot>\n                    <tr>\n                        <th colspan=\"2\">\n                        Class undefined not found in registry \n                        </th>\n                    </tr>\n                </tfoot>\n                </table>"
      }
     },
     "5754386e4c0348748bd72a39c98e3513": {
      "model_module_version": "^2.1.4",
      "state": {
       "value": "<table style=\"width:100%\">\n                <thead>\n                    <tr>\n                        <th colspan=\"2\">\n                        Could not create model:\n                        </th>\n                    </tr>\n                </thead>\n                <tbody>\n                    <tr>\n                        <td>Model name</td>\n                        <td> undefined </td>\n                    </tr>\n                    <tr>\n                        <td>Model module</td>\n                        <td> undefined </td>\n                    </tr>\n                    <tr>\n                        <td>Model module version</td>\n                        <td> undefined </td>\n                    </tr>\n                <tbody>\n                <tfoot>\n                    <tr>\n                        <th colspan=\"2\">\n                        Class undefined not found in registry \n                        </th>\n                    </tr>\n                </tfoot>\n                </table>"
      }
     },
     "5d5b28b089e242db97c0fb1fbdd63320": {
      "model_module_version": "^2.1.4",
      "state": {
       "value": "<table style=\"width:100%\">\n                <thead>\n                    <tr>\n                        <th colspan=\"2\">\n                        Could not create model:\n                        </th>\n                    </tr>\n                </thead>\n                <tbody>\n                    <tr>\n                        <td>Model name</td>\n                        <td> undefined </td>\n                    </tr>\n                    <tr>\n                        <td>Model module</td>\n                        <td> undefined </td>\n                    </tr>\n                    <tr>\n                        <td>Model module version</td>\n                        <td> undefined </td>\n                    </tr>\n                <tbody>\n                <tfoot>\n                    <tr>\n                        <th colspan=\"2\">\n                        Class undefined not found in registry \n                        </th>\n                    </tr>\n                </tfoot>\n                </table>"
      }
     },
     "5ddce768a0cd44fcb6a02f55d97511c0": {
      "model_module_version": "^2.1.4",
      "state": {
       "description": "x",
       "value": "<table style=\"width:100%\">\n                <thead>\n                    <tr>\n                        <th colspan=\"2\">\n                        Could not create model:\n                        </th>\n                    </tr>\n                </thead>\n                <tbody>\n                    <tr>\n                        <td>Model name</td>\n                        <td> undefined </td>\n                    </tr>\n                    <tr>\n                        <td>Model module</td>\n                        <td> undefined </td>\n                    </tr>\n                    <tr>\n                        <td>Model module version</td>\n                        <td> undefined </td>\n                    </tr>\n                <tbody>\n                <tfoot>\n                    <tr>\n                        <th colspan=\"2\">\n                        Class undefined not found in registry \n                        </th>\n                    </tr>\n                </tfoot>\n                </table>"
      }
     },
     "5ef172040b89471c852363eeffcd40ad": {
      "model_module": "jupyter-js-widgets",
      "model_module_version": "~2.1.4",
      "model_name": "OutputModel",
      "state": {
       "_dom_classes": [],
       "_model_module": "jupyter-js-widgets",
       "_model_module_version": "~2.1.4",
       "_view_module": "jupyter-js-widgets",
       "_view_module_version": "~2.1.4",
       "layout": "IPY_MODEL_61d17c7ab05d49ad917fe0ad9a2f5082",
       "msg_throttle": 1
      }
     },
     "61d17c7ab05d49ad917fe0ad9a2f5082": {
      "model_module": "jupyter-js-widgets",
      "model_module_version": "~2.1.4",
      "model_name": "LayoutModel",
      "state": {
       "_model_module_version": "~2.1.4",
       "_view_module_version": "~2.1.4"
      }
     },
     "621171c6d3824e1aa20b00a470355ba1": {
      "model_module_version": "^2.1.4",
      "state": {
       "value": "<table style=\"width:100%\">\n                <thead>\n                    <tr>\n                        <th colspan=\"2\">\n                        Could not create model:\n                        </th>\n                    </tr>\n                </thead>\n                <tbody>\n                    <tr>\n                        <td>Model name</td>\n                        <td> undefined </td>\n                    </tr>\n                    <tr>\n                        <td>Model module</td>\n                        <td> undefined </td>\n                    </tr>\n                    <tr>\n                        <td>Model module version</td>\n                        <td> undefined </td>\n                    </tr>\n                <tbody>\n                <tfoot>\n                    <tr>\n                        <th colspan=\"2\">\n                        Class undefined not found in registry \n                        </th>\n                    </tr>\n                </tfoot>\n                </table>"
      }
     },
     "68b9424e93a54f97b286548081d65a10": {
      "model_module_version": "^2.1.4",
      "state": {
       "value": "<table style=\"width:100%\">\n                <thead>\n                    <tr>\n                        <th colspan=\"2\">\n                        Could not create model:\n                        </th>\n                    </tr>\n                </thead>\n                <tbody>\n                    <tr>\n                        <td>Model name</td>\n                        <td> undefined </td>\n                    </tr>\n                    <tr>\n                        <td>Model module</td>\n                        <td> undefined </td>\n                    </tr>\n                    <tr>\n                        <td>Model module version</td>\n                        <td> undefined </td>\n                    </tr>\n                <tbody>\n                <tfoot>\n                    <tr>\n                        <th colspan=\"2\">\n                        Class undefined not found in registry \n                        </th>\n                    </tr>\n                </tfoot>\n                </table>"
      }
     },
     "6a248cb18c8c40658ea8cf7615f7a622": {
      "model_module_version": "^2.1.4",
      "state": {
       "value": "<table style=\"width:100%\">\n                <thead>\n                    <tr>\n                        <th colspan=\"2\">\n                        Could not create model:\n                        </th>\n                    </tr>\n                </thead>\n                <tbody>\n                    <tr>\n                        <td>Model name</td>\n                        <td> undefined </td>\n                    </tr>\n                    <tr>\n                        <td>Model module</td>\n                        <td> undefined </td>\n                    </tr>\n                    <tr>\n                        <td>Model module version</td>\n                        <td> undefined </td>\n                    </tr>\n                <tbody>\n                <tfoot>\n                    <tr>\n                        <th colspan=\"2\">\n                        Class undefined not found in registry \n                        </th>\n                    </tr>\n                </tfoot>\n                </table>"
      }
     },
     "6aaa433ab117461b889545d142a27175": {
      "model_module_version": "^2.1.4",
      "state": {
       "description": "x",
       "value": "<table style=\"width:100%\">\n                <thead>\n                    <tr>\n                        <th colspan=\"2\">\n                        Could not create model:\n                        </th>\n                    </tr>\n                </thead>\n                <tbody>\n                    <tr>\n                        <td>Model name</td>\n                        <td> undefined </td>\n                    </tr>\n                    <tr>\n                        <td>Model module</td>\n                        <td> undefined </td>\n                    </tr>\n                    <tr>\n                        <td>Model module version</td>\n                        <td> undefined </td>\n                    </tr>\n                <tbody>\n                <tfoot>\n                    <tr>\n                        <th colspan=\"2\">\n                        Class undefined not found in registry \n                        </th>\n                    </tr>\n                </tfoot>\n                </table>"
      }
     },
     "73132f70043c4a6cb2a8ceb471a8f252": {
      "model_module_version": "^2.1.4",
      "state": {
       "value": "<table style=\"width:100%\">\n                <thead>\n                    <tr>\n                        <th colspan=\"2\">\n                        Could not create model:\n                        </th>\n                    </tr>\n                </thead>\n                <tbody>\n                    <tr>\n                        <td>Model name</td>\n                        <td> undefined </td>\n                    </tr>\n                    <tr>\n                        <td>Model module</td>\n                        <td> undefined </td>\n                    </tr>\n                    <tr>\n                        <td>Model module version</td>\n                        <td> undefined </td>\n                    </tr>\n                <tbody>\n                <tfoot>\n                    <tr>\n                        <th colspan=\"2\">\n                        Class undefined not found in registry \n                        </th>\n                    </tr>\n                </tfoot>\n                </table>"
      }
     },
     "76b009679d104667af00faea672b290a": {
      "model_module_version": "^2.1.4",
      "state": {
       "value": "<table style=\"width:100%\">\n                <thead>\n                    <tr>\n                        <th colspan=\"2\">\n                        Could not create model:\n                        </th>\n                    </tr>\n                </thead>\n                <tbody>\n                    <tr>\n                        <td>Model name</td>\n                        <td> undefined </td>\n                    </tr>\n                    <tr>\n                        <td>Model module</td>\n                        <td> undefined </td>\n                    </tr>\n                    <tr>\n                        <td>Model module version</td>\n                        <td> undefined </td>\n                    </tr>\n                <tbody>\n                <tfoot>\n                    <tr>\n                        <th colspan=\"2\">\n                        Class undefined not found in registry \n                        </th>\n                    </tr>\n                </tfoot>\n                </table>"
      }
     },
     "79c73807325f49d393b6cf08bad0b9ef": {
      "model_module_version": "^2.1.4",
      "state": {
       "value": "<table style=\"width:100%\">\n                <thead>\n                    <tr>\n                        <th colspan=\"2\">\n                        Could not create model:\n                        </th>\n                    </tr>\n                </thead>\n                <tbody>\n                    <tr>\n                        <td>Model name</td>\n                        <td> undefined </td>\n                    </tr>\n                    <tr>\n                        <td>Model module</td>\n                        <td> undefined </td>\n                    </tr>\n                    <tr>\n                        <td>Model module version</td>\n                        <td> undefined </td>\n                    </tr>\n                <tbody>\n                <tfoot>\n                    <tr>\n                        <th colspan=\"2\">\n                        Class undefined not found in registry \n                        </th>\n                    </tr>\n                </tfoot>\n                </table>"
      }
     },
     "7b2a75f21e23408ba72e5f04d40c4ae0": {
      "model_module_version": "^2.1.4",
      "state": {
       "msg_id": "",
       "value": "<table style=\"width:100%\">\n                <thead>\n                    <tr>\n                        <th colspan=\"2\">\n                        Could not create model:\n                        </th>\n                    </tr>\n                </thead>\n                <tbody>\n                    <tr>\n                        <td>Model name</td>\n                        <td> undefined </td>\n                    </tr>\n                    <tr>\n                        <td>Model module</td>\n                        <td> undefined </td>\n                    </tr>\n                    <tr>\n                        <td>Model module version</td>\n                        <td> undefined </td>\n                    </tr>\n                <tbody>\n                <tfoot>\n                    <tr>\n                        <th colspan=\"2\">\n                        Class undefined not found in registry \n                        </th>\n                    </tr>\n                </tfoot>\n                </table>"
      }
     },
     "7fdb52036a2c425b968f1cb3f18880cc": {
      "model_module": "jupyter-js-widgets",
      "model_module_version": "~2.1.4",
      "model_name": "VBoxModel",
      "state": {
       "_dom_classes": [
        "widget-interact"
       ],
       "_model_module_version": "~2.1.4",
       "_view_module_version": "~2.1.4",
       "children": [
        "IPY_MODEL_acf1144a079947a3b72f448ff497b5aa",
        "IPY_MODEL_5ef172040b89471c852363eeffcd40ad"
       ],
       "layout": "IPY_MODEL_a3da27f324824245ab4548048acf08ce"
      }
     },
     "804d2f26720d4c7a80aca19ce362f6e3": {
      "model_module_version": "^2.1.4",
      "state": {
       "value": "<table style=\"width:100%\">\n                <thead>\n                    <tr>\n                        <th colspan=\"2\">\n                        Could not create model:\n                        </th>\n                    </tr>\n                </thead>\n                <tbody>\n                    <tr>\n                        <td>Model name</td>\n                        <td> undefined </td>\n                    </tr>\n                    <tr>\n                        <td>Model module</td>\n                        <td> undefined </td>\n                    </tr>\n                    <tr>\n                        <td>Model module version</td>\n                        <td> undefined </td>\n                    </tr>\n                <tbody>\n                <tfoot>\n                    <tr>\n                        <th colspan=\"2\">\n                        Class undefined not found in registry \n                        </th>\n                    </tr>\n                </tfoot>\n                </table>"
      }
     },
     "83640725b367458d874b51c6da3c0298": {
      "model_module_version": "^2.1.4",
      "state": {
       "description": "x",
       "value": "<table style=\"width:100%\">\n                <thead>\n                    <tr>\n                        <th colspan=\"2\">\n                        Could not create model:\n                        </th>\n                    </tr>\n                </thead>\n                <tbody>\n                    <tr>\n                        <td>Model name</td>\n                        <td> undefined </td>\n                    </tr>\n                    <tr>\n                        <td>Model module</td>\n                        <td> undefined </td>\n                    </tr>\n                    <tr>\n                        <td>Model module version</td>\n                        <td> undefined </td>\n                    </tr>\n                <tbody>\n                <tfoot>\n                    <tr>\n                        <th colspan=\"2\">\n                        Class undefined not found in registry \n                        </th>\n                    </tr>\n                </tfoot>\n                </table>"
      }
     },
     "842d398e0f0b49bb82816bf12e32d8ae": {
      "model_module_version": "^2.1.4",
      "state": {
       "children": [
        "IPY_MODEL_b3aaafaed364432d9f29a2334748fb51",
        "IPY_MODEL_0bb041ed3f25401da46f4d3b1b84bedd"
       ],
       "value": "<table style=\"width:100%\">\n                <thead>\n                    <tr>\n                        <th colspan=\"2\">\n                        Could not create model:\n                        </th>\n                    </tr>\n                </thead>\n                <tbody>\n                    <tr>\n                        <td>Model name</td>\n                        <td> undefined </td>\n                    </tr>\n                    <tr>\n                        <td>Model module</td>\n                        <td> undefined </td>\n                    </tr>\n                    <tr>\n                        <td>Model module version</td>\n                        <td> undefined </td>\n                    </tr>\n                <tbody>\n                <tfoot>\n                    <tr>\n                        <th colspan=\"2\">\n                        Class undefined not found in registry \n                        </th>\n                    </tr>\n                </tfoot>\n                </table>"
      }
     },
     "892d3ae0c7194bf880319e259ecc2978": {
      "model_module_version": "^2.1.4",
      "state": {
       "msg_id": "",
       "value": "<table style=\"width:100%\">\n                <thead>\n                    <tr>\n                        <th colspan=\"2\">\n                        Could not create model:\n                        </th>\n                    </tr>\n                </thead>\n                <tbody>\n                    <tr>\n                        <td>Model name</td>\n                        <td> undefined </td>\n                    </tr>\n                    <tr>\n                        <td>Model module</td>\n                        <td> undefined </td>\n                    </tr>\n                    <tr>\n                        <td>Model module version</td>\n                        <td> undefined </td>\n                    </tr>\n                <tbody>\n                <tfoot>\n                    <tr>\n                        <th colspan=\"2\">\n                        Class undefined not found in registry \n                        </th>\n                    </tr>\n                </tfoot>\n                </table>"
      }
     },
     "8c53fafbc3f84f67a956e57f3add21e6": {
      "model_module_version": "^2.1.4",
      "state": {
       "value": "<table style=\"width:100%\">\n                <thead>\n                    <tr>\n                        <th colspan=\"2\">\n                        Could not create model:\n                        </th>\n                    </tr>\n                </thead>\n                <tbody>\n                    <tr>\n                        <td>Model name</td>\n                        <td> undefined </td>\n                    </tr>\n                    <tr>\n                        <td>Model module</td>\n                        <td> undefined </td>\n                    </tr>\n                    <tr>\n                        <td>Model module version</td>\n                        <td> undefined </td>\n                    </tr>\n                <tbody>\n                <tfoot>\n                    <tr>\n                        <th colspan=\"2\">\n                        Class undefined not found in registry \n                        </th>\n                    </tr>\n                </tfoot>\n                </table>"
      }
     },
     "96847b2fae384f758634f48976d6387d": {
      "model_module_version": "^2.1.4",
      "state": {
       "value": "<table style=\"width:100%\">\n                <thead>\n                    <tr>\n                        <th colspan=\"2\">\n                        Could not create model:\n                        </th>\n                    </tr>\n                </thead>\n                <tbody>\n                    <tr>\n                        <td>Model name</td>\n                        <td> undefined </td>\n                    </tr>\n                    <tr>\n                        <td>Model module</td>\n                        <td> undefined </td>\n                    </tr>\n                    <tr>\n                        <td>Model module version</td>\n                        <td> undefined </td>\n                    </tr>\n                <tbody>\n                <tfoot>\n                    <tr>\n                        <th colspan=\"2\">\n                        Class undefined not found in registry \n                        </th>\n                    </tr>\n                </tfoot>\n                </table>"
      }
     },
     "98eb087ff1554f3983db53fa15fe205e": {
      "model_module_version": "^2.1.4",
      "state": {
       "description": "x",
       "value": "<table style=\"width:100%\">\n                <thead>\n                    <tr>\n                        <th colspan=\"2\">\n                        Could not create model:\n                        </th>\n                    </tr>\n                </thead>\n                <tbody>\n                    <tr>\n                        <td>Model name</td>\n                        <td> undefined </td>\n                    </tr>\n                    <tr>\n                        <td>Model module</td>\n                        <td> undefined </td>\n                    </tr>\n                    <tr>\n                        <td>Model module version</td>\n                        <td> undefined </td>\n                    </tr>\n                <tbody>\n                <tfoot>\n                    <tr>\n                        <th colspan=\"2\">\n                        Class undefined not found in registry \n                        </th>\n                    </tr>\n                </tfoot>\n                </table>"
      }
     },
     "a2dd2b1e1f9b4734b2e3aa1dbffdcd04": {
      "model_module_version": "^2.1.4",
      "state": {
       "value": "<table style=\"width:100%\">\n                <thead>\n                    <tr>\n                        <th colspan=\"2\">\n                        Could not create model:\n                        </th>\n                    </tr>\n                </thead>\n                <tbody>\n                    <tr>\n                        <td>Model name</td>\n                        <td> undefined </td>\n                    </tr>\n                    <tr>\n                        <td>Model module</td>\n                        <td> undefined </td>\n                    </tr>\n                    <tr>\n                        <td>Model module version</td>\n                        <td> undefined </td>\n                    </tr>\n                <tbody>\n                <tfoot>\n                    <tr>\n                        <th colspan=\"2\">\n                        Class undefined not found in registry \n                        </th>\n                    </tr>\n                </tfoot>\n                </table>"
      }
     },
     "a2f0d26a526e4befb8a931dedb6363eb": {
      "model_module_version": "^2.1.4",
      "state": {
       "value": "<table style=\"width:100%\">\n                <thead>\n                    <tr>\n                        <th colspan=\"2\">\n                        Could not create model:\n                        </th>\n                    </tr>\n                </thead>\n                <tbody>\n                    <tr>\n                        <td>Model name</td>\n                        <td> undefined </td>\n                    </tr>\n                    <tr>\n                        <td>Model module</td>\n                        <td> undefined </td>\n                    </tr>\n                    <tr>\n                        <td>Model module version</td>\n                        <td> undefined </td>\n                    </tr>\n                <tbody>\n                <tfoot>\n                    <tr>\n                        <th colspan=\"2\">\n                        Class undefined not found in registry \n                        </th>\n                    </tr>\n                </tfoot>\n                </table>"
      }
     },
     "a3da27f324824245ab4548048acf08ce": {
      "model_module": "jupyter-js-widgets",
      "model_module_version": "~2.1.4",
      "model_name": "LayoutModel",
      "state": {
       "_model_module_version": "~2.1.4",
       "_view_module_version": "~2.1.4"
      }
     },
     "a5e1aa2fc5f641d098f2cfa6420a592b": {
      "model_module_version": "^2.1.4",
      "state": {
       "value": "<table style=\"width:100%\">\n                <thead>\n                    <tr>\n                        <th colspan=\"2\">\n                        Could not create model:\n                        </th>\n                    </tr>\n                </thead>\n                <tbody>\n                    <tr>\n                        <td>Model name</td>\n                        <td> undefined </td>\n                    </tr>\n                    <tr>\n                        <td>Model module</td>\n                        <td> undefined </td>\n                    </tr>\n                    <tr>\n                        <td>Model module version</td>\n                        <td> undefined </td>\n                    </tr>\n                <tbody>\n                <tfoot>\n                    <tr>\n                        <th colspan=\"2\">\n                        Class undefined not found in registry \n                        </th>\n                    </tr>\n                </tfoot>\n                </table>"
      }
     },
     "acf1144a079947a3b72f448ff497b5aa": {
      "model_module": "jupyter-js-widgets",
      "model_module_version": "~2.1.4",
      "model_name": "IntSliderModel",
      "state": {
       "_model_module_version": "~2.1.4",
       "_view_module_version": "~2.1.4",
       "description": "x",
       "layout": "IPY_MODEL_3c2f6371fb9d4ef8963013d7ec752f1a",
       "max": 30,
       "min": -10,
       "style": "IPY_MODEL_4085225553f745b5a56321cf316c733e",
       "value": 10
      }
     },
     "ae4e57c864524cccb1f82071a8cd1230": {
      "model_module_version": "^2.1.4",
      "state": {
       "children": [
        "IPY_MODEL_83640725b367458d874b51c6da3c0298",
        "IPY_MODEL_46c3f00a4866401bb7d7dd886668baeb"
       ],
       "value": "<table style=\"width:100%\">\n                <thead>\n                    <tr>\n                        <th colspan=\"2\">\n                        Could not create model:\n                        </th>\n                    </tr>\n                </thead>\n                <tbody>\n                    <tr>\n                        <td>Model name</td>\n                        <td> undefined </td>\n                    </tr>\n                    <tr>\n                        <td>Model module</td>\n                        <td> undefined </td>\n                    </tr>\n                    <tr>\n                        <td>Model module version</td>\n                        <td> undefined </td>\n                    </tr>\n                <tbody>\n                <tfoot>\n                    <tr>\n                        <th colspan=\"2\">\n                        Class undefined not found in registry \n                        </th>\n                    </tr>\n                </tfoot>\n                </table>"
      }
     },
     "b3aaafaed364432d9f29a2334748fb51": {
      "model_module_version": "^2.1.4",
      "state": {
       "description": "x",
       "value": "<table style=\"width:100%\">\n                <thead>\n                    <tr>\n                        <th colspan=\"2\">\n                        Could not create model:\n                        </th>\n                    </tr>\n                </thead>\n                <tbody>\n                    <tr>\n                        <td>Model name</td>\n                        <td> undefined </td>\n                    </tr>\n                    <tr>\n                        <td>Model module</td>\n                        <td> undefined </td>\n                    </tr>\n                    <tr>\n                        <td>Model module version</td>\n                        <td> undefined </td>\n                    </tr>\n                <tbody>\n                <tfoot>\n                    <tr>\n                        <th colspan=\"2\">\n                        Class undefined not found in registry \n                        </th>\n                    </tr>\n                </tfoot>\n                </table>"
      }
     },
     "b5c4b56ba9cd45e1bdca6530cc78c9e1": {
      "model_module_version": "^2.1.4",
      "state": {
       "msg_id": "",
       "value": "<table style=\"width:100%\">\n                <thead>\n                    <tr>\n                        <th colspan=\"2\">\n                        Could not create model:\n                        </th>\n                    </tr>\n                </thead>\n                <tbody>\n                    <tr>\n                        <td>Model name</td>\n                        <td> undefined </td>\n                    </tr>\n                    <tr>\n                        <td>Model module</td>\n                        <td> undefined </td>\n                    </tr>\n                    <tr>\n                        <td>Model module version</td>\n                        <td> undefined </td>\n                    </tr>\n                <tbody>\n                <tfoot>\n                    <tr>\n                        <th colspan=\"2\">\n                        Class undefined not found in registry \n                        </th>\n                    </tr>\n                </tfoot>\n                </table>"
      }
     },
     "b74b2bb279ff49c9a7b8384e115dda91": {
      "model_module_version": "^2.1.4",
      "state": {
       "msg_id": "",
       "value": "<table style=\"width:100%\">\n                <thead>\n                    <tr>\n                        <th colspan=\"2\">\n                        Could not create model:\n                        </th>\n                    </tr>\n                </thead>\n                <tbody>\n                    <tr>\n                        <td>Model name</td>\n                        <td> undefined </td>\n                    </tr>\n                    <tr>\n                        <td>Model module</td>\n                        <td> undefined </td>\n                    </tr>\n                    <tr>\n                        <td>Model module version</td>\n                        <td> undefined </td>\n                    </tr>\n                <tbody>\n                <tfoot>\n                    <tr>\n                        <th colspan=\"2\">\n                        Class undefined not found in registry \n                        </th>\n                    </tr>\n                </tfoot>\n                </table>"
      }
     },
     "bc40a99774e645d6a95f8c5424ed326e": {
      "model_module_version": "^2.1.4",
      "state": {
       "description": "x",
       "value": "<table style=\"width:100%\">\n                <thead>\n                    <tr>\n                        <th colspan=\"2\">\n                        Could not create model:\n                        </th>\n                    </tr>\n                </thead>\n                <tbody>\n                    <tr>\n                        <td>Model name</td>\n                        <td> undefined </td>\n                    </tr>\n                    <tr>\n                        <td>Model module</td>\n                        <td> undefined </td>\n                    </tr>\n                    <tr>\n                        <td>Model module version</td>\n                        <td> undefined </td>\n                    </tr>\n                <tbody>\n                <tfoot>\n                    <tr>\n                        <th colspan=\"2\">\n                        Class undefined not found in registry \n                        </th>\n                    </tr>\n                </tfoot>\n                </table>"
      }
     },
     "c40e39ab08b34613bb2767f4b2e60411": {
      "model_module_version": "^2.1.4",
      "state": {
       "value": "<table style=\"width:100%\">\n                <thead>\n                    <tr>\n                        <th colspan=\"2\">\n                        Could not create model:\n                        </th>\n                    </tr>\n                </thead>\n                <tbody>\n                    <tr>\n                        <td>Model name</td>\n                        <td> undefined </td>\n                    </tr>\n                    <tr>\n                        <td>Model module</td>\n                        <td> undefined </td>\n                    </tr>\n                    <tr>\n                        <td>Model module version</td>\n                        <td> undefined </td>\n                    </tr>\n                <tbody>\n                <tfoot>\n                    <tr>\n                        <th colspan=\"2\">\n                        Class undefined not found in registry \n                        </th>\n                    </tr>\n                </tfoot>\n                </table>"
      }
     },
     "ca7fc7414df744c1a12a80afcd929124": {
      "model_module_version": "^2.1.4",
      "state": {
       "description": "x",
       "value": "<table style=\"width:100%\">\n                <thead>\n                    <tr>\n                        <th colspan=\"2\">\n                        Could not create model:\n                        </th>\n                    </tr>\n                </thead>\n                <tbody>\n                    <tr>\n                        <td>Model name</td>\n                        <td> undefined </td>\n                    </tr>\n                    <tr>\n                        <td>Model module</td>\n                        <td> undefined </td>\n                    </tr>\n                    <tr>\n                        <td>Model module version</td>\n                        <td> undefined </td>\n                    </tr>\n                <tbody>\n                <tfoot>\n                    <tr>\n                        <th colspan=\"2\">\n                        Class undefined not found in registry \n                        </th>\n                    </tr>\n                </tfoot>\n                </table>"
      }
     },
     "d00724d28f834c4991169f92b8e447cb": {
      "model_module_version": "^2.1.4",
      "state": {
       "description": "x",
       "value": "<table style=\"width:100%\">\n                <thead>\n                    <tr>\n                        <th colspan=\"2\">\n                        Could not create model:\n                        </th>\n                    </tr>\n                </thead>\n                <tbody>\n                    <tr>\n                        <td>Model name</td>\n                        <td> undefined </td>\n                    </tr>\n                    <tr>\n                        <td>Model module</td>\n                        <td> undefined </td>\n                    </tr>\n                    <tr>\n                        <td>Model module version</td>\n                        <td> undefined </td>\n                    </tr>\n                <tbody>\n                <tfoot>\n                    <tr>\n                        <th colspan=\"2\">\n                        Class undefined not found in registry \n                        </th>\n                    </tr>\n                </tfoot>\n                </table>"
      }
     },
     "d11595e8990749f7a5f58f9502758e2d": {
      "model_module_version": "^2.1.4",
      "state": {
       "value": "<table style=\"width:100%\">\n                <thead>\n                    <tr>\n                        <th colspan=\"2\">\n                        Could not create model:\n                        </th>\n                    </tr>\n                </thead>\n                <tbody>\n                    <tr>\n                        <td>Model name</td>\n                        <td> undefined </td>\n                    </tr>\n                    <tr>\n                        <td>Model module</td>\n                        <td> undefined </td>\n                    </tr>\n                    <tr>\n                        <td>Model module version</td>\n                        <td> undefined </td>\n                    </tr>\n                <tbody>\n                <tfoot>\n                    <tr>\n                        <th colspan=\"2\">\n                        Class undefined not found in registry \n                        </th>\n                    </tr>\n                </tfoot>\n                </table>"
      }
     },
     "d37973aee6ad4ad3afc2983cc4640538": {
      "model_module_version": "^2.1.4",
      "state": {
       "value": "<table style=\"width:100%\">\n                <thead>\n                    <tr>\n                        <th colspan=\"2\">\n                        Could not create model:\n                        </th>\n                    </tr>\n                </thead>\n                <tbody>\n                    <tr>\n                        <td>Model name</td>\n                        <td> undefined </td>\n                    </tr>\n                    <tr>\n                        <td>Model module</td>\n                        <td> undefined </td>\n                    </tr>\n                    <tr>\n                        <td>Model module version</td>\n                        <td> undefined </td>\n                    </tr>\n                <tbody>\n                <tfoot>\n                    <tr>\n                        <th colspan=\"2\">\n                        Class undefined not found in registry \n                        </th>\n                    </tr>\n                </tfoot>\n                </table>"
      }
     },
     "d8e4be7cd0c144abb637254495935400": {
      "model_module_version": "^2.1.4",
      "state": {
       "value": "<table style=\"width:100%\">\n                <thead>\n                    <tr>\n                        <th colspan=\"2\">\n                        Could not create model:\n                        </th>\n                    </tr>\n                </thead>\n                <tbody>\n                    <tr>\n                        <td>Model name</td>\n                        <td> undefined </td>\n                    </tr>\n                    <tr>\n                        <td>Model module</td>\n                        <td> undefined </td>\n                    </tr>\n                    <tr>\n                        <td>Model module version</td>\n                        <td> undefined </td>\n                    </tr>\n                <tbody>\n                <tfoot>\n                    <tr>\n                        <th colspan=\"2\">\n                        Class undefined not found in registry \n                        </th>\n                    </tr>\n                </tfoot>\n                </table>"
      }
     },
     "d929f758e3d743e4bad5ee4b0e0e2971": {
      "model_module_version": "^2.1.4",
      "state": {
       "value": "<table style=\"width:100%\">\n                <thead>\n                    <tr>\n                        <th colspan=\"2\">\n                        Could not create model:\n                        </th>\n                    </tr>\n                </thead>\n                <tbody>\n                    <tr>\n                        <td>Model name</td>\n                        <td> undefined </td>\n                    </tr>\n                    <tr>\n                        <td>Model module</td>\n                        <td> undefined </td>\n                    </tr>\n                    <tr>\n                        <td>Model module version</td>\n                        <td> undefined </td>\n                    </tr>\n                <tbody>\n                <tfoot>\n                    <tr>\n                        <th colspan=\"2\">\n                        Class undefined not found in registry \n                        </th>\n                    </tr>\n                </tfoot>\n                </table>"
      }
     },
     "db0ea3166b744eb3914ca4a329e1f134": {
      "model_module_version": "^2.1.4",
      "state": {
       "value": "<table style=\"width:100%\">\n                <thead>\n                    <tr>\n                        <th colspan=\"2\">\n                        Could not create model:\n                        </th>\n                    </tr>\n                </thead>\n                <tbody>\n                    <tr>\n                        <td>Model name</td>\n                        <td> undefined </td>\n                    </tr>\n                    <tr>\n                        <td>Model module</td>\n                        <td> undefined </td>\n                    </tr>\n                    <tr>\n                        <td>Model module version</td>\n                        <td> undefined </td>\n                    </tr>\n                <tbody>\n                <tfoot>\n                    <tr>\n                        <th colspan=\"2\">\n                        Class undefined not found in registry \n                        </th>\n                    </tr>\n                </tfoot>\n                </table>"
      }
     },
     "de03135fc545466a891c5c7f1191cb4b": {
      "model_module_version": "^2.1.4",
      "state": {
       "children": [
        "IPY_MODEL_6aaa433ab117461b889545d142a27175",
        "IPY_MODEL_4a96e2d67ee54a41a257d81719387929"
       ],
       "value": "<table style=\"width:100%\">\n                <thead>\n                    <tr>\n                        <th colspan=\"2\">\n                        Could not create model:\n                        </th>\n                    </tr>\n                </thead>\n                <tbody>\n                    <tr>\n                        <td>Model name</td>\n                        <td> undefined </td>\n                    </tr>\n                    <tr>\n                        <td>Model module</td>\n                        <td> undefined </td>\n                    </tr>\n                    <tr>\n                        <td>Model module version</td>\n                        <td> undefined </td>\n                    </tr>\n                <tbody>\n                <tfoot>\n                    <tr>\n                        <th colspan=\"2\">\n                        Class undefined not found in registry \n                        </th>\n                    </tr>\n                </tfoot>\n                </table>"
      }
     },
     "e2d7a38ef7dc48099cc27bfcc2a6a4c9": {
      "model_module_version": "^2.1.4",
      "state": {
       "value": "<table style=\"width:100%\">\n                <thead>\n                    <tr>\n                        <th colspan=\"2\">\n                        Could not create model:\n                        </th>\n                    </tr>\n                </thead>\n                <tbody>\n                    <tr>\n                        <td>Model name</td>\n                        <td> undefined </td>\n                    </tr>\n                    <tr>\n                        <td>Model module</td>\n                        <td> undefined </td>\n                    </tr>\n                    <tr>\n                        <td>Model module version</td>\n                        <td> undefined </td>\n                    </tr>\n                <tbody>\n                <tfoot>\n                    <tr>\n                        <th colspan=\"2\">\n                        Class undefined not found in registry \n                        </th>\n                    </tr>\n                </tfoot>\n                </table>"
      }
     },
     "e2eabeb5e95644c6994f2f3be516a507": {
      "model_module_version": "^2.1.4",
      "state": {
       "value": "<table style=\"width:100%\">\n                <thead>\n                    <tr>\n                        <th colspan=\"2\">\n                        Could not create model:\n                        </th>\n                    </tr>\n                </thead>\n                <tbody>\n                    <tr>\n                        <td>Model name</td>\n                        <td> undefined </td>\n                    </tr>\n                    <tr>\n                        <td>Model module</td>\n                        <td> undefined </td>\n                    </tr>\n                    <tr>\n                        <td>Model module version</td>\n                        <td> undefined </td>\n                    </tr>\n                <tbody>\n                <tfoot>\n                    <tr>\n                        <th colspan=\"2\">\n                        Class undefined not found in registry \n                        </th>\n                    </tr>\n                </tfoot>\n                </table>"
      }
     },
     "e8c41950a9d349d2a093b110f66cbb72": {
      "model_module_version": "^2.1.4",
      "state": {
       "description": "x",
       "value": "<table style=\"width:100%\">\n                <thead>\n                    <tr>\n                        <th colspan=\"2\">\n                        Could not create model:\n                        </th>\n                    </tr>\n                </thead>\n                <tbody>\n                    <tr>\n                        <td>Model name</td>\n                        <td> undefined </td>\n                    </tr>\n                    <tr>\n                        <td>Model module</td>\n                        <td> undefined </td>\n                    </tr>\n                    <tr>\n                        <td>Model module version</td>\n                        <td> undefined </td>\n                    </tr>\n                <tbody>\n                <tfoot>\n                    <tr>\n                        <th colspan=\"2\">\n                        Class undefined not found in registry \n                        </th>\n                    </tr>\n                </tfoot>\n                </table>"
      }
     },
     "eef3d499980c484890b8c35cc146b9ed": {
      "model_module_version": "^2.1.4",
      "state": {
       "value": "<table style=\"width:100%\">\n                <thead>\n                    <tr>\n                        <th colspan=\"2\">\n                        Could not create model:\n                        </th>\n                    </tr>\n                </thead>\n                <tbody>\n                    <tr>\n                        <td>Model name</td>\n                        <td> undefined </td>\n                    </tr>\n                    <tr>\n                        <td>Model module</td>\n                        <td> undefined </td>\n                    </tr>\n                    <tr>\n                        <td>Model module version</td>\n                        <td> undefined </td>\n                    </tr>\n                <tbody>\n                <tfoot>\n                    <tr>\n                        <th colspan=\"2\">\n                        Class undefined not found in registry \n                        </th>\n                    </tr>\n                </tfoot>\n                </table>"
      }
     },
     "f43621a7182443dbaba6a026a3ea8c76": {
      "model_module_version": "^2.1.4",
      "state": {
       "value": "<table style=\"width:100%\">\n                <thead>\n                    <tr>\n                        <th colspan=\"2\">\n                        Could not create model:\n                        </th>\n                    </tr>\n                </thead>\n                <tbody>\n                    <tr>\n                        <td>Model name</td>\n                        <td> undefined </td>\n                    </tr>\n                    <tr>\n                        <td>Model module</td>\n                        <td> undefined </td>\n                    </tr>\n                    <tr>\n                        <td>Model module version</td>\n                        <td> undefined </td>\n                    </tr>\n                <tbody>\n                <tfoot>\n                    <tr>\n                        <th colspan=\"2\">\n                        Class undefined not found in registry \n                        </th>\n                    </tr>\n                </tfoot>\n                </table>"
      }
     },
     "f5d70fc558214794b4dd91314f8746c8": {
      "model_module_version": "^2.1.4",
      "state": {
       "value": "<table style=\"width:100%\">\n                <thead>\n                    <tr>\n                        <th colspan=\"2\">\n                        Could not create model:\n                        </th>\n                    </tr>\n                </thead>\n                <tbody>\n                    <tr>\n                        <td>Model name</td>\n                        <td> undefined </td>\n                    </tr>\n                    <tr>\n                        <td>Model module</td>\n                        <td> undefined </td>\n                    </tr>\n                    <tr>\n                        <td>Model module version</td>\n                        <td> undefined </td>\n                    </tr>\n                <tbody>\n                <tfoot>\n                    <tr>\n                        <th colspan=\"2\">\n                        Class undefined not found in registry \n                        </th>\n                    </tr>\n                </tfoot>\n                </table>"
      }
     }
    },
    "version_major": 1,
    "version_minor": 0
   }
  }
 },
 "nbformat": 4,
 "nbformat_minor": 2
}
