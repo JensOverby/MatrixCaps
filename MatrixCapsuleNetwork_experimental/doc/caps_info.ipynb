{
 "cells": [
  {
   "cell_type": "markdown",
   "metadata": {},
   "source": [
    "# CAPSNET Monitor"
   ]
  },
  {
   "cell_type": "code",
   "execution_count": 1,
   "metadata": {},
   "outputs": [
    {
     "data": {
      "text/html": [
       "<script>\n",
       "code_show=true; \n",
       "function code_toggle() {\n",
       " if (code_show){\n",
       " $('div.input').hide();\n",
       " } else {\n",
       " $('div.input').show();\n",
       " }\n",
       " code_show = !code_show\n",
       "} \n",
       "$( document ).ready(code_toggle);\n",
       "</script>\n",
       "<form action=\"javascript:code_toggle()\"><input type=\"submit\" value=\"Click here to toggle on/off the raw code.\"></form>"
      ],
      "text/plain": [
       "<IPython.core.display.HTML object>"
      ]
     },
     "execution_count": 1,
     "metadata": {},
     "output_type": "execute_result"
    }
   ],
   "source": [
    "from IPython.display import HTML\n",
    "\n",
    "HTML('''<script>\n",
    "code_show=true; \n",
    "function code_toggle() {\n",
    " if (code_show){\n",
    " $('div.input').hide();\n",
    " } else {\n",
    " $('div.input').show();\n",
    " }\n",
    " code_show = !code_show\n",
    "} \n",
    "$( document ).ready(code_toggle);\n",
    "</script>\n",
    "<form action=\"javascript:code_toggle()\"><input type=\"submit\" value=\"Click here to toggle on/off the raw code.\"></form>''')\n"
   ]
  },
  {
   "cell_type": "code",
   "execution_count": 2,
   "metadata": {
    "scrolled": true
   },
   "outputs": [
    {
     "data": {
      "text/html": [
       "<style>\n",
       ".output_wrapper button.btn.btn-default,\n",
       ".output_wrapper .ui-dialog-titlebar {\n",
       "  display: none;\n",
       "}\n",
       "</style>"
      ],
      "text/plain": [
       "<IPython.core.display.HTML object>"
      ]
     },
     "execution_count": 2,
     "metadata": {},
     "output_type": "execute_result"
    }
   ],
   "source": [
    "HTML(\n",
    "'''<style>\n",
    ".output_wrapper button.btn.btn-default,\n",
    ".output_wrapper .ui-dialog-titlebar {\n",
    "  display: none;\n",
    "}\n",
    "</style>''')\n"
   ]
  },
  {
   "cell_type": "code",
   "execution_count": 3,
   "metadata": {
    "scrolled": false
   },
   "outputs": [],
   "source": [
    "%matplotlib notebook\n",
    "\n",
    "import os\n",
    "#os.chdir('/home/jens/eclipse-workspace/MatrixCaps/Matrix-Capsule-Network/')\n",
    "\n",
    "import sys\n",
    "import pyrr\n",
    "#sys.path.append('../model')\n",
    "sys.path.append('..')\n",
    "import torch\n",
    "from torch.autograd import Variable\n",
    "from torchvision import datasets\n",
    "from torchvision import transforms\n",
    "from torchvision import utils\n",
    "import torch.nn.functional as F\n",
    "import model.capsules as mcaps\n",
    "import model.util as util\n",
    "import matplotlib\n",
    "import matplotlib.pyplot as plt\n",
    "import numpy as np\n",
    "import time\n",
    "import pyrr\n",
    "\n",
    "import ipywidgets as widgets\n",
    "from ipywidgets import FloatSlider, HBox, VBox, Layout\n",
    "matplotlib.pyplot.ioff()\n",
    "\n",
    "import glob\n",
    "from IPython.display import display, Markdown, Image\n",
    "\n",
    "import PIL.Image\n",
    "from io import BytesIO\n"
   ]
  },
  {
   "cell_type": "markdown",
   "metadata": {},
   "source": [
    "## Matrix Capsules LOSS plot"
   ]
  },
  {
   "cell_type": "code",
   "execution_count": 4,
   "metadata": {},
   "outputs": [
    {
     "data": {
      "application/javascript": [
       "/* Put everything inside the global mpl namespace */\n",
       "window.mpl = {};\n",
       "\n",
       "\n",
       "mpl.get_websocket_type = function() {\n",
       "    if (typeof(WebSocket) !== 'undefined') {\n",
       "        return WebSocket;\n",
       "    } else if (typeof(MozWebSocket) !== 'undefined') {\n",
       "        return MozWebSocket;\n",
       "    } else {\n",
       "        alert('Your browser does not have WebSocket support.' +\n",
       "              'Please try Chrome, Safari or Firefox ≥ 6. ' +\n",
       "              'Firefox 4 and 5 are also supported but you ' +\n",
       "              'have to enable WebSockets in about:config.');\n",
       "    };\n",
       "}\n",
       "\n",
       "mpl.figure = function(figure_id, websocket, ondownload, parent_element) {\n",
       "    this.id = figure_id;\n",
       "\n",
       "    this.ws = websocket;\n",
       "\n",
       "    this.supports_binary = (this.ws.binaryType != undefined);\n",
       "\n",
       "    if (!this.supports_binary) {\n",
       "        var warnings = document.getElementById(\"mpl-warnings\");\n",
       "        if (warnings) {\n",
       "            warnings.style.display = 'block';\n",
       "            warnings.textContent = (\n",
       "                \"This browser does not support binary websocket messages. \" +\n",
       "                    \"Performance may be slow.\");\n",
       "        }\n",
       "    }\n",
       "\n",
       "    this.imageObj = new Image();\n",
       "\n",
       "    this.context = undefined;\n",
       "    this.message = undefined;\n",
       "    this.canvas = undefined;\n",
       "    this.rubberband_canvas = undefined;\n",
       "    this.rubberband_context = undefined;\n",
       "    this.format_dropdown = undefined;\n",
       "\n",
       "    this.image_mode = 'full';\n",
       "\n",
       "    this.root = $('<div/>');\n",
       "    this._root_extra_style(this.root)\n",
       "    this.root.attr('style', 'display: inline-block');\n",
       "\n",
       "    $(parent_element).append(this.root);\n",
       "\n",
       "    this._init_header(this);\n",
       "    this._init_canvas(this);\n",
       "    this._init_toolbar(this);\n",
       "\n",
       "    var fig = this;\n",
       "\n",
       "    this.waiting = false;\n",
       "\n",
       "    this.ws.onopen =  function () {\n",
       "            fig.send_message(\"supports_binary\", {value: fig.supports_binary});\n",
       "            fig.send_message(\"send_image_mode\", {});\n",
       "            if (mpl.ratio != 1) {\n",
       "                fig.send_message(\"set_dpi_ratio\", {'dpi_ratio': mpl.ratio});\n",
       "            }\n",
       "            fig.send_message(\"refresh\", {});\n",
       "        }\n",
       "\n",
       "    this.imageObj.onload = function() {\n",
       "            if (fig.image_mode == 'full') {\n",
       "                // Full images could contain transparency (where diff images\n",
       "                // almost always do), so we need to clear the canvas so that\n",
       "                // there is no ghosting.\n",
       "                fig.context.clearRect(0, 0, fig.canvas.width, fig.canvas.height);\n",
       "            }\n",
       "            fig.context.drawImage(fig.imageObj, 0, 0);\n",
       "        };\n",
       "\n",
       "    this.imageObj.onunload = function() {\n",
       "        fig.ws.close();\n",
       "    }\n",
       "\n",
       "    this.ws.onmessage = this._make_on_message_function(this);\n",
       "\n",
       "    this.ondownload = ondownload;\n",
       "}\n",
       "\n",
       "mpl.figure.prototype._init_header = function() {\n",
       "    var titlebar = $(\n",
       "        '<div class=\"ui-dialog-titlebar ui-widget-header ui-corner-all ' +\n",
       "        'ui-helper-clearfix\"/>');\n",
       "    var titletext = $(\n",
       "        '<div class=\"ui-dialog-title\" style=\"width: 100%; ' +\n",
       "        'text-align: center; padding: 3px;\"/>');\n",
       "    titlebar.append(titletext)\n",
       "    this.root.append(titlebar);\n",
       "    this.header = titletext[0];\n",
       "}\n",
       "\n",
       "\n",
       "\n",
       "mpl.figure.prototype._canvas_extra_style = function(canvas_div) {\n",
       "\n",
       "}\n",
       "\n",
       "\n",
       "mpl.figure.prototype._root_extra_style = function(canvas_div) {\n",
       "\n",
       "}\n",
       "\n",
       "mpl.figure.prototype._init_canvas = function() {\n",
       "    var fig = this;\n",
       "\n",
       "    var canvas_div = $('<div/>');\n",
       "\n",
       "    canvas_div.attr('style', 'position: relative; clear: both; outline: 0');\n",
       "\n",
       "    function canvas_keyboard_event(event) {\n",
       "        return fig.key_event(event, event['data']);\n",
       "    }\n",
       "\n",
       "    canvas_div.keydown('key_press', canvas_keyboard_event);\n",
       "    canvas_div.keyup('key_release', canvas_keyboard_event);\n",
       "    this.canvas_div = canvas_div\n",
       "    this._canvas_extra_style(canvas_div)\n",
       "    this.root.append(canvas_div);\n",
       "\n",
       "    var canvas = $('<canvas/>');\n",
       "    canvas.addClass('mpl-canvas');\n",
       "    canvas.attr('style', \"left: 0; top: 0; z-index: 0; outline: 0\")\n",
       "\n",
       "    this.canvas = canvas[0];\n",
       "    this.context = canvas[0].getContext(\"2d\");\n",
       "\n",
       "    var backingStore = this.context.backingStorePixelRatio ||\n",
       "\tthis.context.webkitBackingStorePixelRatio ||\n",
       "\tthis.context.mozBackingStorePixelRatio ||\n",
       "\tthis.context.msBackingStorePixelRatio ||\n",
       "\tthis.context.oBackingStorePixelRatio ||\n",
       "\tthis.context.backingStorePixelRatio || 1;\n",
       "\n",
       "    mpl.ratio = (window.devicePixelRatio || 1) / backingStore;\n",
       "\n",
       "    var rubberband = $('<canvas/>');\n",
       "    rubberband.attr('style', \"position: absolute; left: 0; top: 0; z-index: 1;\")\n",
       "\n",
       "    var pass_mouse_events = true;\n",
       "\n",
       "    canvas_div.resizable({\n",
       "        start: function(event, ui) {\n",
       "            pass_mouse_events = false;\n",
       "        },\n",
       "        resize: function(event, ui) {\n",
       "            fig.request_resize(ui.size.width, ui.size.height);\n",
       "        },\n",
       "        stop: function(event, ui) {\n",
       "            pass_mouse_events = true;\n",
       "            fig.request_resize(ui.size.width, ui.size.height);\n",
       "        },\n",
       "    });\n",
       "\n",
       "    function mouse_event_fn(event) {\n",
       "        if (pass_mouse_events)\n",
       "            return fig.mouse_event(event, event['data']);\n",
       "    }\n",
       "\n",
       "    rubberband.mousedown('button_press', mouse_event_fn);\n",
       "    rubberband.mouseup('button_release', mouse_event_fn);\n",
       "    // Throttle sequential mouse events to 1 every 20ms.\n",
       "    rubberband.mousemove('motion_notify', mouse_event_fn);\n",
       "\n",
       "    rubberband.mouseenter('figure_enter', mouse_event_fn);\n",
       "    rubberband.mouseleave('figure_leave', mouse_event_fn);\n",
       "\n",
       "    canvas_div.on(\"wheel\", function (event) {\n",
       "        event = event.originalEvent;\n",
       "        event['data'] = 'scroll'\n",
       "        if (event.deltaY < 0) {\n",
       "            event.step = 1;\n",
       "        } else {\n",
       "            event.step = -1;\n",
       "        }\n",
       "        mouse_event_fn(event);\n",
       "    });\n",
       "\n",
       "    canvas_div.append(canvas);\n",
       "    canvas_div.append(rubberband);\n",
       "\n",
       "    this.rubberband = rubberband;\n",
       "    this.rubberband_canvas = rubberband[0];\n",
       "    this.rubberband_context = rubberband[0].getContext(\"2d\");\n",
       "    this.rubberband_context.strokeStyle = \"#000000\";\n",
       "\n",
       "    this._resize_canvas = function(width, height) {\n",
       "        // Keep the size of the canvas, canvas container, and rubber band\n",
       "        // canvas in synch.\n",
       "        canvas_div.css('width', width)\n",
       "        canvas_div.css('height', height)\n",
       "\n",
       "        canvas.attr('width', width * mpl.ratio);\n",
       "        canvas.attr('height', height * mpl.ratio);\n",
       "        canvas.attr('style', 'width: ' + width + 'px; height: ' + height + 'px;');\n",
       "\n",
       "        rubberband.attr('width', width);\n",
       "        rubberband.attr('height', height);\n",
       "    }\n",
       "\n",
       "    // Set the figure to an initial 600x600px, this will subsequently be updated\n",
       "    // upon first draw.\n",
       "    this._resize_canvas(600, 600);\n",
       "\n",
       "    // Disable right mouse context menu.\n",
       "    $(this.rubberband_canvas).bind(\"contextmenu\",function(e){\n",
       "        return false;\n",
       "    });\n",
       "\n",
       "    function set_focus () {\n",
       "        canvas.focus();\n",
       "        canvas_div.focus();\n",
       "    }\n",
       "\n",
       "    window.setTimeout(set_focus, 100);\n",
       "}\n",
       "\n",
       "mpl.figure.prototype._init_toolbar = function() {\n",
       "    var fig = this;\n",
       "\n",
       "    var nav_element = $('<div/>')\n",
       "    nav_element.attr('style', 'width: 100%');\n",
       "    this.root.append(nav_element);\n",
       "\n",
       "    // Define a callback function for later on.\n",
       "    function toolbar_event(event) {\n",
       "        return fig.toolbar_button_onclick(event['data']);\n",
       "    }\n",
       "    function toolbar_mouse_event(event) {\n",
       "        return fig.toolbar_button_onmouseover(event['data']);\n",
       "    }\n",
       "\n",
       "    for(var toolbar_ind in mpl.toolbar_items) {\n",
       "        var name = mpl.toolbar_items[toolbar_ind][0];\n",
       "        var tooltip = mpl.toolbar_items[toolbar_ind][1];\n",
       "        var image = mpl.toolbar_items[toolbar_ind][2];\n",
       "        var method_name = mpl.toolbar_items[toolbar_ind][3];\n",
       "\n",
       "        if (!name) {\n",
       "            // put a spacer in here.\n",
       "            continue;\n",
       "        }\n",
       "        var button = $('<button/>');\n",
       "        button.addClass('ui-button ui-widget ui-state-default ui-corner-all ' +\n",
       "                        'ui-button-icon-only');\n",
       "        button.attr('role', 'button');\n",
       "        button.attr('aria-disabled', 'false');\n",
       "        button.click(method_name, toolbar_event);\n",
       "        button.mouseover(tooltip, toolbar_mouse_event);\n",
       "\n",
       "        var icon_img = $('<span/>');\n",
       "        icon_img.addClass('ui-button-icon-primary ui-icon');\n",
       "        icon_img.addClass(image);\n",
       "        icon_img.addClass('ui-corner-all');\n",
       "\n",
       "        var tooltip_span = $('<span/>');\n",
       "        tooltip_span.addClass('ui-button-text');\n",
       "        tooltip_span.html(tooltip);\n",
       "\n",
       "        button.append(icon_img);\n",
       "        button.append(tooltip_span);\n",
       "\n",
       "        nav_element.append(button);\n",
       "    }\n",
       "\n",
       "    var fmt_picker_span = $('<span/>');\n",
       "\n",
       "    var fmt_picker = $('<select/>');\n",
       "    fmt_picker.addClass('mpl-toolbar-option ui-widget ui-widget-content');\n",
       "    fmt_picker_span.append(fmt_picker);\n",
       "    nav_element.append(fmt_picker_span);\n",
       "    this.format_dropdown = fmt_picker[0];\n",
       "\n",
       "    for (var ind in mpl.extensions) {\n",
       "        var fmt = mpl.extensions[ind];\n",
       "        var option = $(\n",
       "            '<option/>', {selected: fmt === mpl.default_extension}).html(fmt);\n",
       "        fmt_picker.append(option)\n",
       "    }\n",
       "\n",
       "    // Add hover states to the ui-buttons\n",
       "    $( \".ui-button\" ).hover(\n",
       "        function() { $(this).addClass(\"ui-state-hover\");},\n",
       "        function() { $(this).removeClass(\"ui-state-hover\");}\n",
       "    );\n",
       "\n",
       "    var status_bar = $('<span class=\"mpl-message\"/>');\n",
       "    nav_element.append(status_bar);\n",
       "    this.message = status_bar[0];\n",
       "}\n",
       "\n",
       "mpl.figure.prototype.request_resize = function(x_pixels, y_pixels) {\n",
       "    // Request matplotlib to resize the figure. Matplotlib will then trigger a resize in the client,\n",
       "    // which will in turn request a refresh of the image.\n",
       "    this.send_message('resize', {'width': x_pixels, 'height': y_pixels});\n",
       "}\n",
       "\n",
       "mpl.figure.prototype.send_message = function(type, properties) {\n",
       "    properties['type'] = type;\n",
       "    properties['figure_id'] = this.id;\n",
       "    this.ws.send(JSON.stringify(properties));\n",
       "}\n",
       "\n",
       "mpl.figure.prototype.send_draw_message = function() {\n",
       "    if (!this.waiting) {\n",
       "        this.waiting = true;\n",
       "        this.ws.send(JSON.stringify({type: \"draw\", figure_id: this.id}));\n",
       "    }\n",
       "}\n",
       "\n",
       "\n",
       "mpl.figure.prototype.handle_save = function(fig, msg) {\n",
       "    var format_dropdown = fig.format_dropdown;\n",
       "    var format = format_dropdown.options[format_dropdown.selectedIndex].value;\n",
       "    fig.ondownload(fig, format);\n",
       "}\n",
       "\n",
       "\n",
       "mpl.figure.prototype.handle_resize = function(fig, msg) {\n",
       "    var size = msg['size'];\n",
       "    if (size[0] != fig.canvas.width || size[1] != fig.canvas.height) {\n",
       "        fig._resize_canvas(size[0], size[1]);\n",
       "        fig.send_message(\"refresh\", {});\n",
       "    };\n",
       "}\n",
       "\n",
       "mpl.figure.prototype.handle_rubberband = function(fig, msg) {\n",
       "    var x0 = msg['x0'] / mpl.ratio;\n",
       "    var y0 = (fig.canvas.height - msg['y0']) / mpl.ratio;\n",
       "    var x1 = msg['x1'] / mpl.ratio;\n",
       "    var y1 = (fig.canvas.height - msg['y1']) / mpl.ratio;\n",
       "    x0 = Math.floor(x0) + 0.5;\n",
       "    y0 = Math.floor(y0) + 0.5;\n",
       "    x1 = Math.floor(x1) + 0.5;\n",
       "    y1 = Math.floor(y1) + 0.5;\n",
       "    var min_x = Math.min(x0, x1);\n",
       "    var min_y = Math.min(y0, y1);\n",
       "    var width = Math.abs(x1 - x0);\n",
       "    var height = Math.abs(y1 - y0);\n",
       "\n",
       "    fig.rubberband_context.clearRect(\n",
       "        0, 0, fig.canvas.width, fig.canvas.height);\n",
       "\n",
       "    fig.rubberband_context.strokeRect(min_x, min_y, width, height);\n",
       "}\n",
       "\n",
       "mpl.figure.prototype.handle_figure_label = function(fig, msg) {\n",
       "    // Updates the figure title.\n",
       "    fig.header.textContent = msg['label'];\n",
       "}\n",
       "\n",
       "mpl.figure.prototype.handle_cursor = function(fig, msg) {\n",
       "    var cursor = msg['cursor'];\n",
       "    switch(cursor)\n",
       "    {\n",
       "    case 0:\n",
       "        cursor = 'pointer';\n",
       "        break;\n",
       "    case 1:\n",
       "        cursor = 'default';\n",
       "        break;\n",
       "    case 2:\n",
       "        cursor = 'crosshair';\n",
       "        break;\n",
       "    case 3:\n",
       "        cursor = 'move';\n",
       "        break;\n",
       "    }\n",
       "    fig.rubberband_canvas.style.cursor = cursor;\n",
       "}\n",
       "\n",
       "mpl.figure.prototype.handle_message = function(fig, msg) {\n",
       "    fig.message.textContent = msg['message'];\n",
       "}\n",
       "\n",
       "mpl.figure.prototype.handle_draw = function(fig, msg) {\n",
       "    // Request the server to send over a new figure.\n",
       "    fig.send_draw_message();\n",
       "}\n",
       "\n",
       "mpl.figure.prototype.handle_image_mode = function(fig, msg) {\n",
       "    fig.image_mode = msg['mode'];\n",
       "}\n",
       "\n",
       "mpl.figure.prototype.updated_canvas_event = function() {\n",
       "    // Called whenever the canvas gets updated.\n",
       "    this.send_message(\"ack\", {});\n",
       "}\n",
       "\n",
       "// A function to construct a web socket function for onmessage handling.\n",
       "// Called in the figure constructor.\n",
       "mpl.figure.prototype._make_on_message_function = function(fig) {\n",
       "    return function socket_on_message(evt) {\n",
       "        if (evt.data instanceof Blob) {\n",
       "            /* FIXME: We get \"Resource interpreted as Image but\n",
       "             * transferred with MIME type text/plain:\" errors on\n",
       "             * Chrome.  But how to set the MIME type?  It doesn't seem\n",
       "             * to be part of the websocket stream */\n",
       "            evt.data.type = \"image/png\";\n",
       "\n",
       "            /* Free the memory for the previous frames */\n",
       "            if (fig.imageObj.src) {\n",
       "                (window.URL || window.webkitURL).revokeObjectURL(\n",
       "                    fig.imageObj.src);\n",
       "            }\n",
       "\n",
       "            fig.imageObj.src = (window.URL || window.webkitURL).createObjectURL(\n",
       "                evt.data);\n",
       "            fig.updated_canvas_event();\n",
       "            fig.waiting = false;\n",
       "            return;\n",
       "        }\n",
       "        else if (typeof evt.data === 'string' && evt.data.slice(0, 21) == \"data:image/png;base64\") {\n",
       "            fig.imageObj.src = evt.data;\n",
       "            fig.updated_canvas_event();\n",
       "            fig.waiting = false;\n",
       "            return;\n",
       "        }\n",
       "\n",
       "        var msg = JSON.parse(evt.data);\n",
       "        var msg_type = msg['type'];\n",
       "\n",
       "        // Call the  \"handle_{type}\" callback, which takes\n",
       "        // the figure and JSON message as its only arguments.\n",
       "        try {\n",
       "            var callback = fig[\"handle_\" + msg_type];\n",
       "        } catch (e) {\n",
       "            console.log(\"No handler for the '\" + msg_type + \"' message type: \", msg);\n",
       "            return;\n",
       "        }\n",
       "\n",
       "        if (callback) {\n",
       "            try {\n",
       "                // console.log(\"Handling '\" + msg_type + \"' message: \", msg);\n",
       "                callback(fig, msg);\n",
       "            } catch (e) {\n",
       "                console.log(\"Exception inside the 'handler_\" + msg_type + \"' callback:\", e, e.stack, msg);\n",
       "            }\n",
       "        }\n",
       "    };\n",
       "}\n",
       "\n",
       "// from http://stackoverflow.com/questions/1114465/getting-mouse-location-in-canvas\n",
       "mpl.findpos = function(e) {\n",
       "    //this section is from http://www.quirksmode.org/js/events_properties.html\n",
       "    var targ;\n",
       "    if (!e)\n",
       "        e = window.event;\n",
       "    if (e.target)\n",
       "        targ = e.target;\n",
       "    else if (e.srcElement)\n",
       "        targ = e.srcElement;\n",
       "    if (targ.nodeType == 3) // defeat Safari bug\n",
       "        targ = targ.parentNode;\n",
       "\n",
       "    // jQuery normalizes the pageX and pageY\n",
       "    // pageX,Y are the mouse positions relative to the document\n",
       "    // offset() returns the position of the element relative to the document\n",
       "    var x = e.pageX - $(targ).offset().left;\n",
       "    var y = e.pageY - $(targ).offset().top;\n",
       "\n",
       "    return {\"x\": x, \"y\": y};\n",
       "};\n",
       "\n",
       "/*\n",
       " * return a copy of an object with only non-object keys\n",
       " * we need this to avoid circular references\n",
       " * http://stackoverflow.com/a/24161582/3208463\n",
       " */\n",
       "function simpleKeys (original) {\n",
       "  return Object.keys(original).reduce(function (obj, key) {\n",
       "    if (typeof original[key] !== 'object')\n",
       "        obj[key] = original[key]\n",
       "    return obj;\n",
       "  }, {});\n",
       "}\n",
       "\n",
       "mpl.figure.prototype.mouse_event = function(event, name) {\n",
       "    var canvas_pos = mpl.findpos(event)\n",
       "\n",
       "    if (name === 'button_press')\n",
       "    {\n",
       "        this.canvas.focus();\n",
       "        this.canvas_div.focus();\n",
       "    }\n",
       "\n",
       "    var x = canvas_pos.x * mpl.ratio;\n",
       "    var y = canvas_pos.y * mpl.ratio;\n",
       "\n",
       "    this.send_message(name, {x: x, y: y, button: event.button,\n",
       "                             step: event.step,\n",
       "                             guiEvent: simpleKeys(event)});\n",
       "\n",
       "    /* This prevents the web browser from automatically changing to\n",
       "     * the text insertion cursor when the button is pressed.  We want\n",
       "     * to control all of the cursor setting manually through the\n",
       "     * 'cursor' event from matplotlib */\n",
       "    event.preventDefault();\n",
       "    return false;\n",
       "}\n",
       "\n",
       "mpl.figure.prototype._key_event_extra = function(event, name) {\n",
       "    // Handle any extra behaviour associated with a key event\n",
       "}\n",
       "\n",
       "mpl.figure.prototype.key_event = function(event, name) {\n",
       "\n",
       "    // Prevent repeat events\n",
       "    if (name == 'key_press')\n",
       "    {\n",
       "        if (event.which === this._key)\n",
       "            return;\n",
       "        else\n",
       "            this._key = event.which;\n",
       "    }\n",
       "    if (name == 'key_release')\n",
       "        this._key = null;\n",
       "\n",
       "    var value = '';\n",
       "    if (event.ctrlKey && event.which != 17)\n",
       "        value += \"ctrl+\";\n",
       "    if (event.altKey && event.which != 18)\n",
       "        value += \"alt+\";\n",
       "    if (event.shiftKey && event.which != 16)\n",
       "        value += \"shift+\";\n",
       "\n",
       "    value += 'k';\n",
       "    value += event.which.toString();\n",
       "\n",
       "    this._key_event_extra(event, name);\n",
       "\n",
       "    this.send_message(name, {key: value,\n",
       "                             guiEvent: simpleKeys(event)});\n",
       "    return false;\n",
       "}\n",
       "\n",
       "mpl.figure.prototype.toolbar_button_onclick = function(name) {\n",
       "    if (name == 'download') {\n",
       "        this.handle_save(this, null);\n",
       "    } else {\n",
       "        this.send_message(\"toolbar_button\", {name: name});\n",
       "    }\n",
       "};\n",
       "\n",
       "mpl.figure.prototype.toolbar_button_onmouseover = function(tooltip) {\n",
       "    this.message.textContent = tooltip;\n",
       "};\n",
       "mpl.toolbar_items = [[\"Home\", \"Reset original view\", \"fa fa-home icon-home\", \"home\"], [\"Back\", \"Back to  previous view\", \"fa fa-arrow-left icon-arrow-left\", \"back\"], [\"Forward\", \"Forward to next view\", \"fa fa-arrow-right icon-arrow-right\", \"forward\"], [\"\", \"\", \"\", \"\"], [\"Pan\", \"Pan axes with left mouse, zoom with right\", \"fa fa-arrows icon-move\", \"pan\"], [\"Zoom\", \"Zoom to rectangle\", \"fa fa-square-o icon-check-empty\", \"zoom\"], [\"\", \"\", \"\", \"\"], [\"Download\", \"Download plot\", \"fa fa-floppy-o icon-save\", \"download\"]];\n",
       "\n",
       "mpl.extensions = [\"eps\", \"jpeg\", \"pdf\", \"png\", \"ps\", \"raw\", \"svg\", \"tif\"];\n",
       "\n",
       "mpl.default_extension = \"png\";var comm_websocket_adapter = function(comm) {\n",
       "    // Create a \"websocket\"-like object which calls the given IPython comm\n",
       "    // object with the appropriate methods. Currently this is a non binary\n",
       "    // socket, so there is still some room for performance tuning.\n",
       "    var ws = {};\n",
       "\n",
       "    ws.close = function() {\n",
       "        comm.close()\n",
       "    };\n",
       "    ws.send = function(m) {\n",
       "        //console.log('sending', m);\n",
       "        comm.send(m);\n",
       "    };\n",
       "    // Register the callback with on_msg.\n",
       "    comm.on_msg(function(msg) {\n",
       "        //console.log('receiving', msg['content']['data'], msg);\n",
       "        // Pass the mpl event to the overridden (by mpl) onmessage function.\n",
       "        ws.onmessage(msg['content']['data'])\n",
       "    });\n",
       "    return ws;\n",
       "}\n",
       "\n",
       "mpl.mpl_figure_comm = function(comm, msg) {\n",
       "    // This is the function which gets called when the mpl process\n",
       "    // starts-up an IPython Comm through the \"matplotlib\" channel.\n",
       "\n",
       "    var id = msg.content.data.id;\n",
       "    // Get hold of the div created by the display call when the Comm\n",
       "    // socket was opened in Python.\n",
       "    var element = $(\"#\" + id);\n",
       "    var ws_proxy = comm_websocket_adapter(comm)\n",
       "\n",
       "    function ondownload(figure, format) {\n",
       "        window.open(figure.imageObj.src);\n",
       "    }\n",
       "\n",
       "    var fig = new mpl.figure(id, ws_proxy,\n",
       "                           ondownload,\n",
       "                           element.get(0));\n",
       "\n",
       "    // Call onopen now - mpl needs it, as it is assuming we've passed it a real\n",
       "    // web socket which is closed, not our websocket->open comm proxy.\n",
       "    ws_proxy.onopen();\n",
       "\n",
       "    fig.parent_element = element.get(0);\n",
       "    fig.cell_info = mpl.find_output_cell(\"<div id='\" + id + \"'></div>\");\n",
       "    if (!fig.cell_info) {\n",
       "        console.error(\"Failed to find cell for figure\", id, fig);\n",
       "        return;\n",
       "    }\n",
       "\n",
       "    var output_index = fig.cell_info[2]\n",
       "    var cell = fig.cell_info[0];\n",
       "\n",
       "};\n",
       "\n",
       "mpl.figure.prototype.handle_close = function(fig, msg) {\n",
       "    var width = fig.canvas.width/mpl.ratio\n",
       "    fig.root.unbind('remove')\n",
       "\n",
       "    // Update the output cell to use the data from the current canvas.\n",
       "    fig.push_to_output();\n",
       "    var dataURL = fig.canvas.toDataURL();\n",
       "    // Re-enable the keyboard manager in IPython - without this line, in FF,\n",
       "    // the notebook keyboard shortcuts fail.\n",
       "    IPython.keyboard_manager.enable()\n",
       "    $(fig.parent_element).html('<img src=\"' + dataURL + '\" width=\"' + width + '\">');\n",
       "    fig.close_ws(fig, msg);\n",
       "}\n",
       "\n",
       "mpl.figure.prototype.close_ws = function(fig, msg){\n",
       "    fig.send_message('closing', msg);\n",
       "    // fig.ws.close()\n",
       "}\n",
       "\n",
       "mpl.figure.prototype.push_to_output = function(remove_interactive) {\n",
       "    // Turn the data on the canvas into data in the output cell.\n",
       "    var width = this.canvas.width/mpl.ratio\n",
       "    var dataURL = this.canvas.toDataURL();\n",
       "    this.cell_info[1]['text/html'] = '<img src=\"' + dataURL + '\" width=\"' + width + '\">';\n",
       "}\n",
       "\n",
       "mpl.figure.prototype.updated_canvas_event = function() {\n",
       "    // Tell IPython that the notebook contents must change.\n",
       "    IPython.notebook.set_dirty(true);\n",
       "    this.send_message(\"ack\", {});\n",
       "    var fig = this;\n",
       "    // Wait a second, then push the new image to the DOM so\n",
       "    // that it is saved nicely (might be nice to debounce this).\n",
       "    setTimeout(function () { fig.push_to_output() }, 1000);\n",
       "}\n",
       "\n",
       "mpl.figure.prototype._init_toolbar = function() {\n",
       "    var fig = this;\n",
       "\n",
       "    var nav_element = $('<div/>')\n",
       "    nav_element.attr('style', 'width: 100%');\n",
       "    this.root.append(nav_element);\n",
       "\n",
       "    // Define a callback function for later on.\n",
       "    function toolbar_event(event) {\n",
       "        return fig.toolbar_button_onclick(event['data']);\n",
       "    }\n",
       "    function toolbar_mouse_event(event) {\n",
       "        return fig.toolbar_button_onmouseover(event['data']);\n",
       "    }\n",
       "\n",
       "    for(var toolbar_ind in mpl.toolbar_items){\n",
       "        var name = mpl.toolbar_items[toolbar_ind][0];\n",
       "        var tooltip = mpl.toolbar_items[toolbar_ind][1];\n",
       "        var image = mpl.toolbar_items[toolbar_ind][2];\n",
       "        var method_name = mpl.toolbar_items[toolbar_ind][3];\n",
       "\n",
       "        if (!name) { continue; };\n",
       "\n",
       "        var button = $('<button class=\"btn btn-default\" href=\"#\" title=\"' + name + '\"><i class=\"fa ' + image + ' fa-lg\"></i></button>');\n",
       "        button.click(method_name, toolbar_event);\n",
       "        button.mouseover(tooltip, toolbar_mouse_event);\n",
       "        nav_element.append(button);\n",
       "    }\n",
       "\n",
       "    // Add the status bar.\n",
       "    var status_bar = $('<span class=\"mpl-message\" style=\"text-align:right; float: right;\"/>');\n",
       "    nav_element.append(status_bar);\n",
       "    this.message = status_bar[0];\n",
       "\n",
       "    // Add the close button to the window.\n",
       "    var buttongrp = $('<div class=\"btn-group inline pull-right\"></div>');\n",
       "    var button = $('<button class=\"btn btn-mini btn-primary\" href=\"#\" title=\"Stop Interaction\"><i class=\"fa fa-power-off icon-remove icon-large\"></i></button>');\n",
       "    button.click(function (evt) { fig.handle_close(fig, {}); } );\n",
       "    button.mouseover('Stop Interaction', toolbar_mouse_event);\n",
       "    buttongrp.append(button);\n",
       "    var titlebar = this.root.find($('.ui-dialog-titlebar'));\n",
       "    titlebar.prepend(buttongrp);\n",
       "}\n",
       "\n",
       "mpl.figure.prototype._root_extra_style = function(el){\n",
       "    var fig = this\n",
       "    el.on(\"remove\", function(){\n",
       "\tfig.close_ws(fig, {});\n",
       "    });\n",
       "}\n",
       "\n",
       "mpl.figure.prototype._canvas_extra_style = function(el){\n",
       "    // this is important to make the div 'focusable\n",
       "    el.attr('tabindex', 0)\n",
       "    // reach out to IPython and tell the keyboard manager to turn it's self\n",
       "    // off when our div gets focus\n",
       "\n",
       "    // location in version 3\n",
       "    if (IPython.notebook.keyboard_manager) {\n",
       "        IPython.notebook.keyboard_manager.register_events(el);\n",
       "    }\n",
       "    else {\n",
       "        // location in version 2\n",
       "        IPython.keyboard_manager.register_events(el);\n",
       "    }\n",
       "\n",
       "}\n",
       "\n",
       "mpl.figure.prototype._key_event_extra = function(event, name) {\n",
       "    var manager = IPython.notebook.keyboard_manager;\n",
       "    if (!manager)\n",
       "        manager = IPython.keyboard_manager;\n",
       "\n",
       "    // Check for shift+enter\n",
       "    if (event.shiftKey && event.which == 13) {\n",
       "        this.canvas_div.blur();\n",
       "        event.shiftKey = false;\n",
       "        // Send a \"J\" for go to next cell\n",
       "        event.which = 74;\n",
       "        event.keyCode = 74;\n",
       "        manager.command_mode();\n",
       "        manager.handle_keydown(event);\n",
       "    }\n",
       "}\n",
       "\n",
       "mpl.figure.prototype.handle_save = function(fig, msg) {\n",
       "    fig.ondownload(fig, null);\n",
       "}\n",
       "\n",
       "\n",
       "mpl.find_output_cell = function(html_output) {\n",
       "    // Return the cell and output element which can be found *uniquely* in the notebook.\n",
       "    // Note - this is a bit hacky, but it is done because the \"notebook_saving.Notebook\"\n",
       "    // IPython event is triggered only after the cells have been serialised, which for\n",
       "    // our purposes (turning an active figure into a static one), is too late.\n",
       "    var cells = IPython.notebook.get_cells();\n",
       "    var ncells = cells.length;\n",
       "    for (var i=0; i<ncells; i++) {\n",
       "        var cell = cells[i];\n",
       "        if (cell.cell_type === 'code'){\n",
       "            for (var j=0; j<cell.output_area.outputs.length; j++) {\n",
       "                var data = cell.output_area.outputs[j];\n",
       "                if (data.data) {\n",
       "                    // IPython >= 3 moved mimebundle to data attribute of output\n",
       "                    data = data.data;\n",
       "                }\n",
       "                if (data['text/html'] == html_output) {\n",
       "                    return [cell, data, j];\n",
       "                }\n",
       "            }\n",
       "        }\n",
       "    }\n",
       "}\n",
       "\n",
       "// Register the function which deals with the matplotlib target/channel.\n",
       "// The kernel may be null if the page has been refreshed.\n",
       "if (IPython.notebook.kernel != null) {\n",
       "    IPython.notebook.kernel.comm_manager.register_target('matplotlib', mpl.mpl_figure_comm);\n",
       "}\n"
      ],
      "text/plain": [
       "<IPython.core.display.Javascript object>"
      ]
     },
     "metadata": {},
     "output_type": "display_data"
    },
    {
     "data": {
      "text/html": [
       "<img src=\"data:image/png;base64,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\" width=\"900\">"
      ],
      "text/plain": [
       "<IPython.core.display.HTML object>"
      ]
     },
     "metadata": {},
     "output_type": "display_data"
    },
    {
     "data": {
      "application/vnd.jupyter.widget-view+json": {
       "model_id": "1e567778abfa46fc971e6eedb09047a0",
       "version_major": 2,
       "version_minor": 0
      },
      "text/plain": [
       "Button(description='Update', style=ButtonStyle())"
      ]
     },
     "metadata": {},
     "output_type": "display_data"
    },
    {
     "data": {
      "application/vnd.jupyter.widget-view+json": {
       "model_id": "040ea5c6ae7f41169f51a06e7b3f1870",
       "version_major": 2,
       "version_minor": 0
      },
      "text/plain": [
       "IntText(value=30, description='Epoch history')"
      ]
     },
     "metadata": {},
     "output_type": "display_data"
    }
   ],
   "source": [
    "matplotlib.rcParams.update({'font.size': 22})\n",
    "fig3 = plt.figure(figsize = (9,6))\n",
    "ax3 = fig3.subplots()\n",
    "#matplotlib.pyplot.ion()\n",
    "\n",
    "\n",
    "button = widgets.Button(description=\"Update\")\n",
    "show_epochs = widgets.IntText(description='Epoch history',disabled=False)\n",
    "show_epochs.value = 30\n",
    "\n",
    "def on_button_clicked(b):\n",
    "    with open('../loss.log') as f:\n",
    "        content = f.readlines()\n",
    "    content = [float(x.strip()) for x in content]\n",
    "    xmin = 0\n",
    "    xmax = len(content)\n",
    "    if xmax > show_epochs.value:\n",
    "        xmin = xmax-show_epochs.value\n",
    "        content = content[xmin:xmax]\n",
    "    ymin = np.min(content)\n",
    "    ymax = np.max(content)\n",
    "    x_axis = np.linspace(xmin, xmax-1, num=xmax-xmin)\n",
    "\n",
    "    #matplotlib.pyplot.gcf().clear()\n",
    "    ax3.clear()\n",
    "    ax3.set_xlim(xmin, xmax)\n",
    "    yaxismin = ymin - (ymax-ymin)/3\n",
    "    if yaxismin < 0:\n",
    "        yaxismin = 0\n",
    "    ax3.set_ylim(ymin - (ymax-ymin)/3, ymax)\n",
    "    ax3.plot(x_axis, content, linewidth=5.0)\n",
    "    ax3.xaxis.set_major_locator(matplotlib.ticker.MaxNLocator(integer=True))\n",
    "    ax3.grid(linestyle='-', linewidth='0.5', color='red')\n",
    "    fig3.canvas.draw()\n",
    "\n",
    "    \n",
    "on_button_clicked(None)\n",
    "fig3.show()\n",
    "\n",
    "display(button)\n",
    "display(show_epochs)\n",
    "\n",
    "button.on_click(on_button_clicked)\n",
    "show_epochs.observe(on_button_clicked)"
   ]
  },
  {
   "cell_type": "code",
   "execution_count": 5,
   "metadata": {},
   "outputs": [
    {
     "data": {
      "text/markdown": [
       "## Latest model is: ../weights/model_1.pth"
      ],
      "text/plain": [
       "<IPython.core.display.Markdown object>"
      ]
     },
     "metadata": {},
     "output_type": "display_data"
    }
   ],
   "source": [
    "class args():\n",
    "    num_classes = 1\n",
    "    batch_size = 1\n",
    "    routing = 'EM_routing'\n",
    "    loss = 'spread_loss̈́'\n",
    "    use_recon = 0.001\n",
    "    r = 6\n",
    "    num_workers = 1\n",
    "    disable_encoder = False\n",
    "    disable_recon = False\n",
    "    disable_dae = False\n",
    "\n",
    "A, AA, B, C, D, E, r = 32, 32, 16, 16, 16, args.num_classes, args.r # a small CapsNet\n",
    "\n",
    "model = mcaps.CapsNet(args, A, AA, B, C, D, E, r, h=4)\n",
    "\n",
    "LatestFile = max(glob.iglob(\"../weights/model*.pth\"),key=os.path.getctime)\n",
    "\n",
    "display(Markdown('## Latest model is: '+LatestFile))\n",
    "\n",
    "model.load_state_dict(torch.load(LatestFile))\n",
    "model.cpu()\n",
    "\n",
    "self = model"
   ]
  },
  {
   "cell_type": "markdown",
   "metadata": {},
   "source": [
    "## Ground Truth"
   ]
  },
  {
   "cell_type": "code",
   "execution_count": 6,
   "metadata": {
    "scrolled": false
   },
   "outputs": [
    {
     "data": {
      "application/vnd.jupyter.widget-view+json": {
       "model_id": "ebe9476b5a3b4c43b302233ed8b1ee67",
       "version_major": 2,
       "version_minor": 0
      },
      "text/plain": [
       "HBox(children=(Output(layout=Layout(border='1px solid black', width='100%')), Output(layout=Layout(border='1px…"
      ]
     },
     "metadata": {},
     "output_type": "display_data"
    },
    {
     "data": {
      "application/vnd.jupyter.widget-view+json": {
       "model_id": "c39db640602b412d8044a158828e65f8",
       "version_major": 2,
       "version_minor": 0
      },
      "text/plain": [
       "VBox(children=(HBox(children=(FloatText(value=1.0, description='Contrast', layout=Layout(width='100%'), step=0…"
      ]
     },
     "metadata": {},
     "output_type": "display_data"
    }
   ],
   "source": [
    "def updateOutputWidget(widget, array, color=\"L\"):\n",
    "    f = BytesIO()\n",
    "    PIL.Image.fromarray(np.uint8(array*255), mode=color).convert(color).save(f, 'png')\n",
    "    widget.clear_output()\n",
    "    with widget:\n",
    "        display(Image(data=f.getvalue(), width='100%'))\n",
    "\n",
    "ground_truth_widget_left = widgets.Output(layout=Layout(border='1px solid black', width='100%'))\n",
    "ground_truth_widget_right = widgets.Output(layout=Layout(border='1px solid black', width='100%'))\n",
    "ground_truth_widget = HBox([ground_truth_widget_left, ground_truth_widget_right], layout=Layout(width='100%'))\n",
    "\n",
    "contrast_left = widgets.FloatText(layout={'width': '100%'},description='Contrast',disabled=False, value=1, step=0.01)\n",
    "contrast_right = widgets.FloatText(layout={'width': '100%'},description='Contrast',disabled=False, value=1, step=0.01)\n",
    "brightness_left = widgets.FloatText(layout={'width': '100%'},description='Brightness',disabled=False, value=0, step=0.01)\n",
    "brightness_right = widgets.FloatText(layout={'width': '100%'},description='Brightness',disabled=False, value=0, step=0.01)\n",
    "brightness_contrast_widget = VBox([  HBox([contrast_left, contrast_right],layout=Layout(width='100%')) ,  HBox([brightness_left, brightness_right],layout=Layout(width='100%')) ] )\n",
    "\n",
    "display(ground_truth_widget)\n",
    "display(brightness_contrast_widget)"
   ]
  },
  {
   "cell_type": "markdown",
   "metadata": {},
   "source": [
    "## Activations of convolutional layers and primary capsules layer"
   ]
  },
  {
   "cell_type": "code",
   "execution_count": 7,
   "metadata": {
    "scrolled": false
   },
   "outputs": [
    {
     "data": {
      "application/vnd.jupyter.widget-view+json": {
       "model_id": "512c8a71cd6c446ca9770cb7fe248df5",
       "version_major": 2,
       "version_minor": 0
      },
      "text/plain": [
       "VBox(children=(Output(layout=Layout(width='100%')), Output(layout=Layout(width='100%')), HBox(children=(Output…"
      ]
     },
     "metadata": {},
     "output_type": "display_data"
    }
   ],
   "source": [
    "layer1_widget = widgets.Output(layout=Layout(width='100%'))\n",
    "layer2_widget = widgets.Output(layout=Layout(width='100%'))\n",
    "layer3_widget = widgets.Output(layout=Layout(width='100%'))\n",
    "layer4_widget = widgets.Output(layout=Layout(width='100%'))\n",
    "layer5_widget = widgets.Output(layout=Layout(width='100%'))\n",
    "layer6_widget = widgets.Output(layout=Layout(width='100%'))\n",
    "#layer12_widget = HBox([layer1_widget, layer2_widget], layout=Layout(width='100%'))\n",
    "l345_widget = HBox([layer3_widget, layer4_widget, layer5_widget, layer6_widget])\n",
    "layer_widget = VBox([layer1_widget, layer2_widget, l345_widget], layout=Layout(width='100%'))\n",
    "display(layer_widget)\n",
    "\n",
    "\n",
    "\n",
    "def makeCombinedImage(img, scale=1):\n",
    "    if scale != 1:\n",
    "        img = torch.nn.functional.interpolate(img, scale_factor=scale, mode='nearest')\n",
    "    img = img.squeeze().unsqueeze(1)\n",
    "    return utils.make_grid(img.data, nrow=int(img.shape[0] ** 0.5), normalize=True,range=(0, 1)).cpu().numpy()\n",
    "    \n",
    "def forward(self, x, lambda_, labels=None, draw=True):\n",
    "    if x is not None:\n",
    "        x = F.relu(self.bn1(self.conv1(x)))\n",
    "\n",
    "        if draw is True:\n",
    "            grid_picture = makeCombinedImage(x, scale=4)\n",
    "            updateOutputWidget(layer1_widget, grid_picture.transpose(1,2,0), \"RGB\")\n",
    "\n",
    "        x = F.max_pool2d(x, 2, 2)\n",
    "        x = F.relu(self.bn2(self.conv2(x)))\n",
    "        \n",
    "        if draw is True:\n",
    "            grid_picture = makeCombinedImage(x, scale=8)\n",
    "            updateOutputWidget(layer2_widget, grid_picture.transpose(1,2,0), \"RGB\")\n",
    "        \n",
    "        \n",
    "        # Combine left and right\n",
    "        left = x[:,:,:,:int(x.shape[-1]/2)]\n",
    "        right = x[:,:,:,int(x.shape[-1]/2):]\n",
    "        x = torch.stack([left,right], dim=1).view(x.shape[0],-1,x.shape[2],x.shape[2])\n",
    "        \n",
    "        \n",
    "        #x = F.relu(self.bn3(self.conv3(x)))\n",
    "        #if draw is True:\n",
    "        #    grid_picture = makeCombinedImage(x)\n",
    "        #    updateOutputWidget(layer3_widget, grid_picture.transpose(1,2,0), \"RGB\")\n",
    "        \n",
    "        p, a = self.primary_caps(x)  # b,32*(4*4+1),12,12\n",
    "\n",
    "        if draw is True:\n",
    "            grid_picture = makeCombinedImage(a, scale=16)\n",
    "            updateOutputWidget(layer3_widget, grid_picture.transpose(1,2,0), \"RGB\")\n",
    "            \n",
    "        p, a = self.convcaps1(lambda_, p, a)  # b,32*(4*4+1),5,5\n",
    "\n",
    "        if draw is True:\n",
    "            grid_picture = makeCombinedImage(a, scale=16)\n",
    "            updateOutputWidget(layer4_widget, grid_picture.transpose(1,2,0), \"RGB\")\n",
    "\n",
    "        p, a = self.convcaps2(lambda_, p, a)  # b,32*(4*4+1),3,3\n",
    "\n",
    "        if draw is True:\n",
    "            grid_picture = makeCombinedImage(a, scale=16)\n",
    "            updateOutputWidget(layer5_widget, grid_picture.transpose(1,2,0), \"RGB\")\n",
    "\n",
    "        p, a = self.convcaps3(lambda_, p, a)  # b,32*(4*4+1),3,3\n",
    "\n",
    "        if draw is True:\n",
    "            grid_picture = makeCombinedImage(a, scale=16)\n",
    "            updateOutputWidget(layer6_widget, grid_picture.transpose(1,2,0), \"RGB\")\n",
    "            \n",
    "        p, a = self.classcaps(lambda_, p, a)  # b,10*16+10\n",
    "\n",
    "        \n",
    "        \"\"\" Find pose with largest activation \"\"\"            \n",
    "        dist = torch.arange(float(3)) / 3\n",
    "        a_tmp = a.view(a.shape[0],-1)\n",
    "        p_tmp = p.view(p.shape[0],-1,p.shape[-1])\n",
    "        _, i = torch.max(a_tmp, 1)\n",
    "        new_a = []\n",
    "        new_p = []\n",
    "        coords = []\n",
    "        for counter, j in enumerate(i):\n",
    "            new_a.append(a_tmp[counter, j])\n",
    "            new_p.append(p_tmp[counter, j, :])\n",
    "\n",
    "            w_x=j%3\n",
    "            w_y=j/3\n",
    "            xyz = p_tmp[counter, j, :][(3,7,11),]\n",
    "            xyz[0] += dist[w_x]\n",
    "            xyz[1] += dist[w_y]\n",
    "            xyz = torch.cat([xyz, torch.FloatTensor([w_x, w_y])], dim=0)\n",
    "            coords.append(xyz)\n",
    "            #p[:, (3,7,11)] = xyz * 1.0\n",
    "\n",
    "        a = torch.stack(new_a, dim=0)\n",
    "        p = torch.stack(new_p, dim=0)\n",
    "\n",
    "        coords = torch.stack(coords, dim=0)\n",
    "        coords = self.coord_add_encoder(coords)\n",
    "        \n",
    "        # Temporary when batch size = 1\n",
    "        if len(p.shape) == 1:\n",
    "            p = p.unsqueeze(0)\n",
    "\n",
    "        p[:, (3,7,11)] = coords * 1.0\n",
    "    else:\n",
    "        p = labels\n",
    "\n",
    "    if not self.args.disable_recon:\n",
    "        reconstructions = self.decoder(p)\n",
    "    else:\n",
    "        reconstructions = 0\n",
    "\n",
    "    return p, reconstructions"
   ]
  },
  {
   "cell_type": "markdown",
   "metadata": {},
   "source": [
    "## 4x4 pose output"
   ]
  },
  {
   "cell_type": "code",
   "execution_count": 8,
   "metadata": {
    "scrolled": false
   },
   "outputs": [
    {
     "data": {
      "application/vnd.jupyter.widget-view+json": {
       "model_id": "e4796b9e552347f4a67b17b87e152868",
       "version_major": 2,
       "version_minor": 0
      },
      "text/plain": [
       "HBox(children=(VBox(children=(HBox(children=(Output(layout=Layout(width='100%')), Output(layout=Layout(width='…"
      ]
     },
     "metadata": {},
     "output_type": "display_data"
    },
    {
     "data": {
      "application/vnd.jupyter.widget-view+json": {
       "model_id": "4295975061634e2ea9f8e500fde5c720",
       "version_major": 2,
       "version_minor": 0
      },
      "text/plain": [
       "HBox(children=(Label(value='Output', layout=Layout(width='100%')), Label(value='Label', layout=Layout(width='1…"
      ]
     },
     "metadata": {},
     "output_type": "display_data"
    },
    {
     "data": {
      "application/vnd.jupyter.widget-view+json": {
       "model_id": "868eba1374ee4d23b115b60f82191117",
       "version_major": 2,
       "version_minor": 0
      },
      "text/plain": [
       "HBox(children=(Textarea(value='', layout=Layout(height='90px', width='100%')), Textarea(value='', layout=Layou…"
      ]
     },
     "metadata": {},
     "output_type": "display_data"
    }
   ],
   "source": [
    "truth_widget_left = widgets.Output(layout=Layout(width='100%'))\n",
    "truth_widget_right = widgets.Output(layout=Layout(width='100%'))\n",
    "recon_widget_left = widgets.Output(layout=Layout(width='100%'))\n",
    "recon_widget_right = widgets.Output(layout=Layout(width='100%'))\n",
    "truth_widget = HBox([truth_widget_left, truth_widget_right], layout=Layout(width='100%'))\n",
    "recon_widget = HBox([recon_widget_left, recon_widget_right], layout=Layout(width='100%'))\n",
    "step_widget = VBox([truth_widget, recon_widget], layout=Layout(width='100%'))\n",
    "names = ['p0', 'p1', 'p2', 'p3', 'p4', 'p5', 'p6', 'p7', 'p8', 'p9', 'p10', 'p11', 'p12', 'p13', 'p14', 'p15']\n",
    "pose_sliders = [FloatSlider(min=-100, max=100, layout={'height': '50%'}, step=0.00001, description=i, orientation='horizontal') for i in names]\n",
    "button_next = widgets.Button(description=\"Next\", layout={'height': '50%'})\n",
    "pose_sliders.append(button_next)\n",
    "sliders_widget = VBox(pose_sliders, layout=Layout(width='60%'))\n",
    "step_slider_widget = HBox([step_widget, sliders_widget],layout=Layout(width='100%'))\n",
    "pose_output = widgets.Textarea(layout={'width': '100%','height': '90px'},disabled=False)\n",
    "pose_label = widgets.Textarea(layout={'width': '100%','height': '90px'},disabled=False)\n",
    "pose_error = widgets.Textarea(layout={'width': '100%','height': '90px'},disabled=False)\n",
    "\n",
    "\n",
    "label_widget = HBox([widgets.Label(layout={'width': '100%'},value=\"Output\"), widgets.Label(layout={'width': '100%'},value=\"Label\"), widgets.Label(layout={'width': '100%'},value=\"Error\")])\n",
    "pose_widget = HBox([pose_output, pose_label, pose_error])\n",
    "\n",
    "the_time = time.time()\n",
    "do_update = True\n",
    "\n",
    "display(step_slider_widget)\n",
    "display(label_widget)\n",
    "display(pose_widget)\n",
    "#display(pose_output)\n",
    "#display(pose_label)\n",
    "#display(pose_error)\n",
    "\n",
    "# Initialize Transform Network (from Pose to Quaternion)\n",
    "\"\"\"\n",
    "import sys\n",
    "import pyrr\n",
    "sys.path.append('../PoseToQuaternionNetwork/model')\n",
    "from transform import PoseToQuatNet\n",
    "transform = PoseToQuatNet()\n",
    "transform.load_state_dict(torch.load('../PoseToQuaternionNetwork/weights/model.pth'))\n",
    "transform.cpu()\n",
    "\"\"\"\n",
    "\n",
    "# Initialize view and projection for coord system rendering\n",
    "w_width, w_height = 800, 800\n",
    "focus_distance = 1.9\n",
    "view = pyrr.matrix44.create_from_translation(pyrr.Vector3([0.0, 0.0, -focus_distance])).transpose()\n",
    "projection = pyrr.matrix44.create_perspective_projection_matrix(65.0, w_width / w_height, 0.1, 100.0).transpose()\n",
    "\"\"\"\n",
    "def plotPoint(pnt, color_idx, img_left, img_right):\n",
    "    model_view = pyrr.matrix44.multiply(view, pnt)\n",
    "    model_projection = pyrr.matrix44.multiply(projection, model_view)\n",
    "    scaling = model_projection[3]\n",
    "    pix_x = img_left.shape[0]/2 + (model_projection[0]/scaling) * img_left.shape[0]/2\n",
    "    if pix_x >= img_left.shape[0]: pix_x = img_left.shape[0]-1\n",
    "    if pix_x < 0: pix_x = 0\n",
    "    pix_y = img_left.shape[1]/2 - (model_projection[1]/scaling) * img_left.shape[1]/2\n",
    "    if pix_y >= img_left.shape[1]: pix_y = img_left.shape[1]-1\n",
    "    if pix_y < 0: pix_y = 0\n",
    "    img_left[int(pix_y),int(pix_x),color_idx] = 1.0\n",
    "    img_right[int(pix_y),int(pix_x),color_idx] = 1.0\n",
    "\"\"\"\n",
    "def plotPoint(pnt, color_idx, img):\n",
    "    model_view = pyrr.matrix44.multiply(view, pnt)\n",
    "    model_projection = pyrr.matrix44.multiply(projection, model_view)\n",
    "    scaling = model_projection[3]\n",
    "    pix_x = img.shape[1]/2 + (model_projection[0]/scaling) * img.shape[1]/2\n",
    "    if pix_x >= img.shape[1]: pix_x = img.shape[1]-1\n",
    "    if pix_x < 0: pix_x = 0\n",
    "    pix_y = img.shape[0]/2 - (model_projection[1]/scaling) * img.shape[0]/2\n",
    "    if pix_y >= img.shape[0]: pix_y = img.shape[0]-1\n",
    "    if pix_y < 0: pix_y = 0\n",
    "    img[int(pix_y),int(pix_x),color_idx] = 1.0\n",
    "    \n",
    "eye_distance = 0.5\n",
    "focus_distance = 1.9\n",
    "eye_angle = eye_distance/focus_distance\n",
    "right_eye_transform = pyrr.Matrix44.from_y_rotation(-eye_angle/2)\n",
    "left_eye_transform = pyrr.Matrix44.from_y_rotation(eye_angle/2)\n",
    "    \n",
    "def plotCoordSystemAxis(pose44, axis_idx, img):\n",
    "    pnt = pyrr.vector4.create(0.0, 0.0, 0.0, 1.0)\n",
    "    for i in range(50):\n",
    "        pnt[axis_idx] = i*0.01\n",
    "        point = pyrr.matrix44.multiply(pyrr.Matrix44(pose44), pnt) #.transpose()\n",
    "        plotPoint(point, axis_idx, img)\n",
    "\n",
    "pose = 0\n",
    "lambda_ = torch.tensor([1.0])\n",
    "\n",
    "def on_value_change(change):\n",
    "    global the_time\n",
    "    global do_update\n",
    "    global pose\n",
    "    global ground_truth_labels\n",
    "    global imgs\n",
    "    global imgs_ref\n",
    "    global right_eye_transform\n",
    "    global left_eye_transform\n",
    "\n",
    "    if not do_update and change is not None:\n",
    "        return\n",
    "\n",
    "    if (time.time()-the_time) < 0.2:\n",
    "        return\n",
    "    the_time = time.time()\n",
    "    \n",
    "    for i in range(len(pose_sliders)-1):\n",
    "        pose[:,i] = pose_sliders[i].value\n",
    "    \n",
    "    p, reconstruction = forward(self, None, None, labels=pose)\n",
    "\n",
    "    #imgs_sliced = imgs[:,[0,3],...]\n",
    "    reconstruction = reconstruction.view_as(imgs_ref)\n",
    "\n",
    "    recon_left = reconstruction.data[:,0,:,:].squeeze().cpu().numpy()\n",
    "    recon_right = reconstruction.data[:,1,:,:].squeeze().cpu().numpy()\n",
    "\n",
    "    #vec7 = transform.forward(pose)\n",
    "    #quat = reff[0,3:]\n",
    "    #mat44 = pyrr.Matrix44.from_quaternion(quat)\n",
    "    #mat44[3,:][0:3] = reff[0,:3]\n",
    "    #print(mat44)\n",
    "    #kaj = mat44.reshape(-1)\n",
    "    #print(kaj)\n",
    "    #print(kaj.shape)\n",
    "    \n",
    "    mat44 = util.matAffine_from_matMinRep(pose.data)\n",
    "\n",
    "    recon_left = np.concatenate((recon_left[:,:,None],recon_left[:,:,None],recon_left[:,:,None]), axis=2)\n",
    "    recon_right = np.concatenate((recon_right[:,:,None],recon_right[:,:,None],recon_right[:,:,None]), axis=2)\n",
    "\n",
    "    pose_left = pyrr.Matrix44(mat44)*left_eye_transform\n",
    "    plotCoordSystemAxis(pose_left, 0, recon_left)\n",
    "    plotCoordSystemAxis(pose_left, 1, recon_left)\n",
    "    plotCoordSystemAxis(pose_left, 2, recon_left)\n",
    "\n",
    "    pose_right = pyrr.Matrix44(mat44)*right_eye_transform\n",
    "    plotCoordSystemAxis(pose_right, 0, recon_right)\n",
    "    plotCoordSystemAxis(pose_right, 1, recon_right)\n",
    "    plotCoordSystemAxis(pose_right, 2, recon_right)\n",
    "    \n",
    "    updateOutputWidget(recon_widget_left, recon_left, \"RGB\")\n",
    "    updateOutputWidget(recon_widget_right, recon_right, \"RGB\")\n",
    "\n",
    "def showDataImage(next_data, steps=0):\n",
    "    global ground_truth_labels\n",
    "    global imgs\n",
    "    global imgs_ref\n",
    "    global do_update\n",
    "    global ground_truth_widget\n",
    "    global pose\n",
    "    do_update = False\n",
    "    \n",
    "    \"\"\"\n",
    "    Prepare input\n",
    "    \"\"\"\n",
    "    imgs = next_data[0]\n",
    "    left = imgs[:,[0,2],:,:int(imgs.shape[-1]/2)]\n",
    "    right = imgs[:,[0,2],:,int(imgs.shape[-1]/2):]\n",
    "    imgs = torch.stack([left[:,:,:,2:97],right[:,:,:,2:97]], dim=3).view(imgs.shape[0],2,100, 190)\n",
    "    imgs_ref = torch.stack([left[:,0,:,2:97],right[:,1,:,2:97]], dim=1)\n",
    "\n",
    "    #image = util.split_in_channels(next_data[0])\n",
    "    \n",
    "    ground_truth_labels = next_data[1]\n",
    "    imgs = Variable(imgs).cpu()\n",
    "    pose, reco = forward(self, imgs, lambda_, draw=True)\n",
    "\n",
    "    # Print matrices in textareas\n",
    "    m_l = util.matMinRep_from_qvec(ground_truth_labels.float())\n",
    "    m_l = util.matAffine_from_matMinRep(m_l)\n",
    "    m_o = util.matAffine_from_matMinRep(pose.data.cpu())\n",
    "    pose_label.value = util.matrixString_from_matAffine(m_l)\n",
    "    pose_output.value = util.matrixString_from_matAffine(m_o)\n",
    "    pose_error.value = util.matrixString_from_matAffine(m_o - m_l)\n",
    "\n",
    "    #pose_transformed = transform.forward(pose)\n",
    "    #pose_label.value = str(ground_truth_labels.float().numpy()[0,:])\n",
    "    #pose_output.value = str(transform.forward(p).data.cpu().numpy()[0,:])\n",
    "\n",
    "    img_conv_left = util.applyBrightnessAndContrast(imgs_ref[0,0,:,:].squeeze().numpy(), brightness_left.value, contrast_left.value)\n",
    "    img_conv_right = util.applyBrightnessAndContrast(imgs_ref[0,1,:,:].squeeze().numpy(), brightness_right.value, contrast_right.value)\n",
    "        \n",
    "    updateOutputWidget(ground_truth_widget_left, img_conv_left)\n",
    "    updateOutputWidget(ground_truth_widget_right, img_conv_right)\n",
    "\n",
    "    \n",
    "    # Plot coordinate systems on \"truth\" images\n",
    "    mat44 = util.matAffine_from_matMinRep(pose.data)\n",
    "    truth_left = imgs_ref[0,0,:,:].squeeze().numpy()\n",
    "    truth_left = np.concatenate((truth_left[:,:,None],truth_left[:,:,None],truth_left[:,:,None]), axis=2)\n",
    "    pose_left = pyrr.Matrix44(mat44)*left_eye_transform\n",
    "    plotCoordSystemAxis(pose_left, 0, truth_left)\n",
    "    plotCoordSystemAxis(pose_left, 1, truth_left)\n",
    "    plotCoordSystemAxis(pose_left, 2, truth_left)\n",
    "    truth_right = imgs_ref[0,1,:,:].squeeze().numpy()\n",
    "    truth_right = np.concatenate((truth_right[:,:,None],truth_right[:,:,None],truth_right[:,:,None]), axis=2)\n",
    "    pose_right = pyrr.Matrix44(mat44)*right_eye_transform\n",
    "    plotCoordSystemAxis(pose_right, 0, truth_right)\n",
    "    plotCoordSystemAxis(pose_right, 1, truth_right)\n",
    "    plotCoordSystemAxis(pose_right, 2, truth_right)\n",
    "    \n",
    "    updateOutputWidget(truth_widget_left, truth_left, \"RGB\")\n",
    "    updateOutputWidget(truth_widget_right, truth_right, \"RGB\")\n",
    "\n",
    "    if steps == 0:\n",
    "        for i in range(len(pose_sliders)-1):\n",
    "            pose_sliders[i].max = pose[:,i]\n",
    "            pose_sliders[i].min = pose[:,i]\n",
    "    else:\n",
    "        old = []\n",
    "        for i in range(len(pose_sliders)-1):\n",
    "            old.append(pose_sliders[i].value)\n",
    "            if pose[:,i] > pose_sliders[i].max:\n",
    "                pose_sliders[i].max = pose[:,i]\n",
    "            elif pose[:,i] < pose_sliders[i].min:\n",
    "                pose_sliders[i].min = pose[:,i]\n",
    "\n",
    "        delta = pose[0,:].data.cpu().numpy() - old\n",
    "        delta /= steps\n",
    "\n",
    "        for steps in range(steps):\n",
    "            for i in range(len(pose_sliders)-1):\n",
    "                pose_sliders[i].value += delta[i]\n",
    "            on_value_change(None)\n",
    "            time.sleep(0.5)\n",
    "            \n",
    "    for i in range(len(pose_sliders)-1):\n",
    "        pose_sliders[i].value = pose[:,i]\n",
    "    on_value_change(None)\n",
    "    do_update = True\n",
    "\n",
    "train_dataset = util.MyImageFolder(root='../../../data/test/', transform=transforms.ToTensor(), target_transform=transforms.ToTensor())\n",
    "train_loader = torch.utils.data.DataLoader(dataset=train_dataset,batch_size=args.batch_size,num_workers=args.num_workers,shuffle=True)\n",
    "data_iter = iter(train_loader)\n",
    "\n",
    "def on_next_button_clicked(b):\n",
    "    next_data = next(data_iter)\n",
    "    showDataImage(next_data, steps=5)\n",
    "\n",
    "button_next.on_click(on_next_button_clicked)\n",
    "\n",
    "next_data = next(data_iter)\n",
    "showDataImage(next_data, steps=0)\n",
    "\n",
    "for i in range(len(pose_sliders)):\n",
    "    pose_sliders[i].observe(on_value_change)"
   ]
  },
  {
   "cell_type": "code",
   "execution_count": null,
   "metadata": {},
   "outputs": [],
   "source": []
  }
 ],
 "metadata": {
  "kernelspec": {
   "display_name": "Python 3",
   "language": "python",
   "name": "python3"
  },
  "language_info": {
   "codemirror_mode": {
    "name": "ipython",
    "version": 3
   },
   "file_extension": ".py",
   "mimetype": "text/x-python",
   "name": "python",
   "nbconvert_exporter": "python",
   "pygments_lexer": "ipython3",
   "version": "3.6.6"
  },
  "widgets": {
   "application/vnd.jupyter.widget-state+json": {
    "state": {
     "02a95245f28f48e69eda3fb3bd438d67": {
      "model_module_version": "^2.1.4",
      "state": {
       "value": "<table style=\"width:100%\">\n                <thead>\n                    <tr>\n                        <th colspan=\"2\">\n                        Could not create model:\n                        </th>\n                    </tr>\n                </thead>\n                <tbody>\n                    <tr>\n                        <td>Model name</td>\n                        <td> undefined </td>\n                    </tr>\n                    <tr>\n                        <td>Model module</td>\n                        <td> undefined </td>\n                    </tr>\n                    <tr>\n                        <td>Model module version</td>\n                        <td> undefined </td>\n                    </tr>\n                <tbody>\n                <tfoot>\n                    <tr>\n                        <th colspan=\"2\">\n                        Class undefined not found in registry \n                        </th>\n                    </tr>\n                </tfoot>\n                </table>"
      }
     },
     "086adac005c04b4190a432ca55b65c08": {
      "model_module_version": "^2.1.4",
      "state": {
       "children": [
        "IPY_MODEL_5ddce768a0cd44fcb6a02f55d97511c0",
        "IPY_MODEL_7b2a75f21e23408ba72e5f04d40c4ae0"
       ],
       "value": "<table style=\"width:100%\">\n                <thead>\n                    <tr>\n                        <th colspan=\"2\">\n                        Could not create model:\n                        </th>\n                    </tr>\n                </thead>\n                <tbody>\n                    <tr>\n                        <td>Model name</td>\n                        <td> undefined </td>\n                    </tr>\n                    <tr>\n                        <td>Model module</td>\n                        <td> undefined </td>\n                    </tr>\n                    <tr>\n                        <td>Model module version</td>\n                        <td> undefined </td>\n                    </tr>\n                <tbody>\n                <tfoot>\n                    <tr>\n                        <th colspan=\"2\">\n                        Class undefined not found in registry \n                        </th>\n                    </tr>\n                </tfoot>\n                </table>"
      }
     },
     "09a94446cf9d4aaea5de8fee2478bfe3": {
      "model_module_version": "^2.1.4",
      "state": {
       "value": "<table style=\"width:100%\">\n                <thead>\n                    <tr>\n                        <th colspan=\"2\">\n                        Could not create model:\n                        </th>\n                    </tr>\n                </thead>\n                <tbody>\n                    <tr>\n                        <td>Model name</td>\n                        <td> undefined </td>\n                    </tr>\n                    <tr>\n                        <td>Model module</td>\n                        <td> undefined </td>\n                    </tr>\n                    <tr>\n                        <td>Model module version</td>\n                        <td> undefined </td>\n                    </tr>\n                <tbody>\n                <tfoot>\n                    <tr>\n                        <th colspan=\"2\">\n                        Class undefined not found in registry \n                        </th>\n                    </tr>\n                </tfoot>\n                </table>"
      }
     },
     "0a266fd5169140bab25a3a38a8f50fb1": {
      "model_module_version": "^2.1.4",
      "state": {
       "children": [
        "IPY_MODEL_bc40a99774e645d6a95f8c5424ed326e",
        "IPY_MODEL_43698cd83e434735970d098c0c18c682"
       ],
       "value": "<table style=\"width:100%\">\n                <thead>\n                    <tr>\n                        <th colspan=\"2\">\n                        Could not create model:\n                        </th>\n                    </tr>\n                </thead>\n                <tbody>\n                    <tr>\n                        <td>Model name</td>\n                        <td> undefined </td>\n                    </tr>\n                    <tr>\n                        <td>Model module</td>\n                        <td> undefined </td>\n                    </tr>\n                    <tr>\n                        <td>Model module version</td>\n                        <td> undefined </td>\n                    </tr>\n                <tbody>\n                <tfoot>\n                    <tr>\n                        <th colspan=\"2\">\n                        Class undefined not found in registry \n                        </th>\n                    </tr>\n                </tfoot>\n                </table>"
      }
     },
     "0bb041ed3f25401da46f4d3b1b84bedd": {
      "model_module_version": "^2.1.4",
      "state": {
       "msg_id": "",
       "value": "<table style=\"width:100%\">\n                <thead>\n                    <tr>\n                        <th colspan=\"2\">\n                        Could not create model:\n                        </th>\n                    </tr>\n                </thead>\n                <tbody>\n                    <tr>\n                        <td>Model name</td>\n                        <td> undefined </td>\n                    </tr>\n                    <tr>\n                        <td>Model module</td>\n                        <td> undefined </td>\n                    </tr>\n                    <tr>\n                        <td>Model module version</td>\n                        <td> undefined </td>\n                    </tr>\n                <tbody>\n                <tfoot>\n                    <tr>\n                        <th colspan=\"2\">\n                        Class undefined not found in registry \n                        </th>\n                    </tr>\n                </tfoot>\n                </table>"
      }
     },
     "0c491954f101426f8a6d2c2c8f117c65": {
      "model_module_version": "^2.1.4",
      "state": {
       "children": [
        "IPY_MODEL_e8c41950a9d349d2a093b110f66cbb72",
        "IPY_MODEL_b74b2bb279ff49c9a7b8384e115dda91"
       ],
       "value": "<table style=\"width:100%\">\n                <thead>\n                    <tr>\n                        <th colspan=\"2\">\n                        Could not create model:\n                        </th>\n                    </tr>\n                </thead>\n                <tbody>\n                    <tr>\n                        <td>Model name</td>\n                        <td> undefined </td>\n                    </tr>\n                    <tr>\n                        <td>Model module</td>\n                        <td> undefined </td>\n                    </tr>\n                    <tr>\n                        <td>Model module version</td>\n                        <td> undefined </td>\n                    </tr>\n                <tbody>\n                <tfoot>\n                    <tr>\n                        <th colspan=\"2\">\n                        Class undefined not found in registry \n                        </th>\n                    </tr>\n                </tfoot>\n                </table>"
      }
     },
     "0d0f207a9beb4bbc8342dfdfde8abfd1": {
      "model_module_version": "^2.1.4",
      "state": {
       "msg_id": "",
       "value": "<table style=\"width:100%\">\n                <thead>\n                    <tr>\n                        <th colspan=\"2\">\n                        Could not create model:\n                        </th>\n                    </tr>\n                </thead>\n                <tbody>\n                    <tr>\n                        <td>Model name</td>\n                        <td> undefined </td>\n                    </tr>\n                    <tr>\n                        <td>Model module</td>\n                        <td> undefined </td>\n                    </tr>\n                    <tr>\n                        <td>Model module version</td>\n                        <td> undefined </td>\n                    </tr>\n                <tbody>\n                <tfoot>\n                    <tr>\n                        <th colspan=\"2\">\n                        Class undefined not found in registry \n                        </th>\n                    </tr>\n                </tfoot>\n                </table>"
      }
     },
     "17ce0b15ae7f4e07bb389acdb95723a9": {
      "model_module_version": "^2.1.4",
      "state": {
       "children": [
        "IPY_MODEL_98eb087ff1554f3983db53fa15fe205e",
        "IPY_MODEL_2cb31d41b01c41cab49231e6bbcef9a5"
       ],
       "value": "<table style=\"width:100%\">\n                <thead>\n                    <tr>\n                        <th colspan=\"2\">\n                        Could not create model:\n                        </th>\n                    </tr>\n                </thead>\n                <tbody>\n                    <tr>\n                        <td>Model name</td>\n                        <td> undefined </td>\n                    </tr>\n                    <tr>\n                        <td>Model module</td>\n                        <td> undefined </td>\n                    </tr>\n                    <tr>\n                        <td>Model module version</td>\n                        <td> undefined </td>\n                    </tr>\n                <tbody>\n                <tfoot>\n                    <tr>\n                        <th colspan=\"2\">\n                        Class undefined not found in registry \n                        </th>\n                    </tr>\n                </tfoot>\n                </table>"
      }
     },
     "18fbf107d608491b8631570d892bc11c": {
      "model_module_version": "^2.1.4",
      "state": {
       "value": "<table style=\"width:100%\">\n                <thead>\n                    <tr>\n                        <th colspan=\"2\">\n                        Could not create model:\n                        </th>\n                    </tr>\n                </thead>\n                <tbody>\n                    <tr>\n                        <td>Model name</td>\n                        <td> undefined </td>\n                    </tr>\n                    <tr>\n                        <td>Model module</td>\n                        <td> undefined </td>\n                    </tr>\n                    <tr>\n                        <td>Model module version</td>\n                        <td> undefined </td>\n                    </tr>\n                <tbody>\n                <tfoot>\n                    <tr>\n                        <th colspan=\"2\">\n                        Class undefined not found in registry \n                        </th>\n                    </tr>\n                </tfoot>\n                </table>"
      }
     },
     "1a1f8a848b0344be8b0ccf93d1d2026c": {
      "model_module_version": "^2.1.4",
      "state": {
       "value": "<table style=\"width:100%\">\n                <thead>\n                    <tr>\n                        <th colspan=\"2\">\n                        Could not create model:\n                        </th>\n                    </tr>\n                </thead>\n                <tbody>\n                    <tr>\n                        <td>Model name</td>\n                        <td> undefined </td>\n                    </tr>\n                    <tr>\n                        <td>Model module</td>\n                        <td> undefined </td>\n                    </tr>\n                    <tr>\n                        <td>Model module version</td>\n                        <td> undefined </td>\n                    </tr>\n                <tbody>\n                <tfoot>\n                    <tr>\n                        <th colspan=\"2\">\n                        Class undefined not found in registry \n                        </th>\n                    </tr>\n                </tfoot>\n                </table>"
      }
     },
     "1a3f3f985d584928bc8d0c7ab6f70f2e": {
      "model_module_version": "^2.1.4",
      "state": {
       "value": "<table style=\"width:100%\">\n                <thead>\n                    <tr>\n                        <th colspan=\"2\">\n                        Could not create model:\n                        </th>\n                    </tr>\n                </thead>\n                <tbody>\n                    <tr>\n                        <td>Model name</td>\n                        <td> undefined </td>\n                    </tr>\n                    <tr>\n                        <td>Model module</td>\n                        <td> undefined </td>\n                    </tr>\n                    <tr>\n                        <td>Model module version</td>\n                        <td> undefined </td>\n                    </tr>\n                <tbody>\n                <tfoot>\n                    <tr>\n                        <th colspan=\"2\">\n                        Class undefined not found in registry \n                        </th>\n                    </tr>\n                </tfoot>\n                </table>"
      }
     },
     "1cd36f848c6a4887b49476cedbf3d552": {
      "model_module_version": "^2.1.4",
      "state": {
       "value": "<table style=\"width:100%\">\n                <thead>\n                    <tr>\n                        <th colspan=\"2\">\n                        Could not create model:\n                        </th>\n                    </tr>\n                </thead>\n                <tbody>\n                    <tr>\n                        <td>Model name</td>\n                        <td> undefined </td>\n                    </tr>\n                    <tr>\n                        <td>Model module</td>\n                        <td> undefined </td>\n                    </tr>\n                    <tr>\n                        <td>Model module version</td>\n                        <td> undefined </td>\n                    </tr>\n                <tbody>\n                <tfoot>\n                    <tr>\n                        <th colspan=\"2\">\n                        Class undefined not found in registry \n                        </th>\n                    </tr>\n                </tfoot>\n                </table>"
      }
     },
     "1e92dc6d2e6a4746ae2cd05ab57165ec": {
      "model_module_version": "^2.1.4",
      "state": {
       "description": "x",
       "value": "<table style=\"width:100%\">\n                <thead>\n                    <tr>\n                        <th colspan=\"2\">\n                        Could not create model:\n                        </th>\n                    </tr>\n                </thead>\n                <tbody>\n                    <tr>\n                        <td>Model name</td>\n                        <td> undefined </td>\n                    </tr>\n                    <tr>\n                        <td>Model module</td>\n                        <td> undefined </td>\n                    </tr>\n                    <tr>\n                        <td>Model module version</td>\n                        <td> undefined </td>\n                    </tr>\n                <tbody>\n                <tfoot>\n                    <tr>\n                        <th colspan=\"2\">\n                        Class undefined not found in registry \n                        </th>\n                    </tr>\n                </tfoot>\n                </table>"
      }
     },
     "28fc64f255dc4af98ea2e4f433a7e659": {
      "model_module_version": "^2.1.4",
      "state": {
       "children": [
        "IPY_MODEL_d00724d28f834c4991169f92b8e447cb",
        "IPY_MODEL_b5c4b56ba9cd45e1bdca6530cc78c9e1"
       ],
       "value": "<table style=\"width:100%\">\n                <thead>\n                    <tr>\n                        <th colspan=\"2\">\n                        Could not create model:\n                        </th>\n                    </tr>\n                </thead>\n                <tbody>\n                    <tr>\n                        <td>Model name</td>\n                        <td> undefined </td>\n                    </tr>\n                    <tr>\n                        <td>Model module</td>\n                        <td> undefined </td>\n                    </tr>\n                    <tr>\n                        <td>Model module version</td>\n                        <td> undefined </td>\n                    </tr>\n                <tbody>\n                <tfoot>\n                    <tr>\n                        <th colspan=\"2\">\n                        Class undefined not found in registry \n                        </th>\n                    </tr>\n                </tfoot>\n                </table>"
      }
     },
     "2a48c6cde59541fe8760420e54905bb8": {
      "model_module_version": "^2.1.4",
      "state": {
       "value": "<table style=\"width:100%\">\n                <thead>\n                    <tr>\n                        <th colspan=\"2\">\n                        Could not create model:\n                        </th>\n                    </tr>\n                </thead>\n                <tbody>\n                    <tr>\n                        <td>Model name</td>\n                        <td> undefined </td>\n                    </tr>\n                    <tr>\n                        <td>Model module</td>\n                        <td> undefined </td>\n                    </tr>\n                    <tr>\n                        <td>Model module version</td>\n                        <td> undefined </td>\n                    </tr>\n                <tbody>\n                <tfoot>\n                    <tr>\n                        <th colspan=\"2\">\n                        Class undefined not found in registry \n                        </th>\n                    </tr>\n                </tfoot>\n                </table>"
      }
     },
     "2a9914efad9b4709b512186b35fca807": {
      "model_module_version": "^2.1.4",
      "state": {
       "value": "<table style=\"width:100%\">\n                <thead>\n                    <tr>\n                        <th colspan=\"2\">\n                        Could not create model:\n                        </th>\n                    </tr>\n                </thead>\n                <tbody>\n                    <tr>\n                        <td>Model name</td>\n                        <td> undefined </td>\n                    </tr>\n                    <tr>\n                        <td>Model module</td>\n                        <td> undefined </td>\n                    </tr>\n                    <tr>\n                        <td>Model module version</td>\n                        <td> undefined </td>\n                    </tr>\n                <tbody>\n                <tfoot>\n                    <tr>\n                        <th colspan=\"2\">\n                        Class undefined not found in registry \n                        </th>\n                    </tr>\n                </tfoot>\n                </table>"
      }
     },
     "2b61a2efed51453ba7d9b61640e3257b": {
      "model_module_version": "^2.1.4",
      "state": {
       "children": [
        "IPY_MODEL_ca7fc7414df744c1a12a80afcd929124",
        "IPY_MODEL_892d3ae0c7194bf880319e259ecc2978"
       ],
       "value": "<table style=\"width:100%\">\n                <thead>\n                    <tr>\n                        <th colspan=\"2\">\n                        Could not create model:\n                        </th>\n                    </tr>\n                </thead>\n                <tbody>\n                    <tr>\n                        <td>Model name</td>\n                        <td> undefined </td>\n                    </tr>\n                    <tr>\n                        <td>Model module</td>\n                        <td> undefined </td>\n                    </tr>\n                    <tr>\n                        <td>Model module version</td>\n                        <td> undefined </td>\n                    </tr>\n                <tbody>\n                <tfoot>\n                    <tr>\n                        <th colspan=\"2\">\n                        Class undefined not found in registry \n                        </th>\n                    </tr>\n                </tfoot>\n                </table>"
      }
     },
     "2cb31d41b01c41cab49231e6bbcef9a5": {
      "model_module_version": "^2.1.4",
      "state": {
       "msg_id": "",
       "value": "<table style=\"width:100%\">\n                <thead>\n                    <tr>\n                        <th colspan=\"2\">\n                        Could not create model:\n                        </th>\n                    </tr>\n                </thead>\n                <tbody>\n                    <tr>\n                        <td>Model name</td>\n                        <td> undefined </td>\n                    </tr>\n                    <tr>\n                        <td>Model module</td>\n                        <td> undefined </td>\n                    </tr>\n                    <tr>\n                        <td>Model module version</td>\n                        <td> undefined </td>\n                    </tr>\n                <tbody>\n                <tfoot>\n                    <tr>\n                        <th colspan=\"2\">\n                        Class undefined not found in registry \n                        </th>\n                    </tr>\n                </tfoot>\n                </table>"
      }
     },
     "2f4edba5b47e4d5590df1386c754fd88": {
      "model_module_version": "^2.1.4",
      "state": {
       "value": "<table style=\"width:100%\">\n                <thead>\n                    <tr>\n                        <th colspan=\"2\">\n                        Could not create model:\n                        </th>\n                    </tr>\n                </thead>\n                <tbody>\n                    <tr>\n                        <td>Model name</td>\n                        <td> undefined </td>\n                    </tr>\n                    <tr>\n                        <td>Model module</td>\n                        <td> undefined </td>\n                    </tr>\n                    <tr>\n                        <td>Model module version</td>\n                        <td> undefined </td>\n                    </tr>\n                <tbody>\n                <tfoot>\n                    <tr>\n                        <th colspan=\"2\">\n                        Class undefined not found in registry \n                        </th>\n                    </tr>\n                </tfoot>\n                </table>"
      }
     },
     "32e0e6999b084991bcd84438c81ff67f": {
      "model_module_version": "^2.1.4",
      "state": {
       "value": "<table style=\"width:100%\">\n                <thead>\n                    <tr>\n                        <th colspan=\"2\">\n                        Could not create model:\n                        </th>\n                    </tr>\n                </thead>\n                <tbody>\n                    <tr>\n                        <td>Model name</td>\n                        <td> undefined </td>\n                    </tr>\n                    <tr>\n                        <td>Model module</td>\n                        <td> undefined </td>\n                    </tr>\n                    <tr>\n                        <td>Model module version</td>\n                        <td> undefined </td>\n                    </tr>\n                <tbody>\n                <tfoot>\n                    <tr>\n                        <th colspan=\"2\">\n                        Class undefined not found in registry \n                        </th>\n                    </tr>\n                </tfoot>\n                </table>"
      }
     },
     "3ac7a342207a410888cc1bde2c42f286": {
      "model_module_version": "^2.1.4",
      "state": {
       "value": "<table style=\"width:100%\">\n                <thead>\n                    <tr>\n                        <th colspan=\"2\">\n                        Could not create model:\n                        </th>\n                    </tr>\n                </thead>\n                <tbody>\n                    <tr>\n                        <td>Model name</td>\n                        <td> undefined </td>\n                    </tr>\n                    <tr>\n                        <td>Model module</td>\n                        <td> undefined </td>\n                    </tr>\n                    <tr>\n                        <td>Model module version</td>\n                        <td> undefined </td>\n                    </tr>\n                <tbody>\n                <tfoot>\n                    <tr>\n                        <th colspan=\"2\">\n                        Class undefined not found in registry \n                        </th>\n                    </tr>\n                </tfoot>\n                </table>"
      }
     },
     "3c2f6371fb9d4ef8963013d7ec752f1a": {
      "model_module": "jupyter-js-widgets",
      "model_module_version": "~2.1.4",
      "model_name": "LayoutModel",
      "state": {
       "_model_module_version": "~2.1.4",
       "_view_module_version": "~2.1.4"
      }
     },
     "4085225553f745b5a56321cf316c733e": {
      "model_module": "jupyter-js-widgets",
      "model_module_version": "~2.1.4",
      "model_name": "SliderStyleModel",
      "state": {
       "_model_module_version": "~2.1.4",
       "_view_module_version": "~2.1.4"
      }
     },
     "40dd2c2fbf0d41babb963d45187381e3": {
      "model_module_version": "^2.1.4",
      "state": {
       "value": "<table style=\"width:100%\">\n                <thead>\n                    <tr>\n                        <th colspan=\"2\">\n                        Could not create model:\n                        </th>\n                    </tr>\n                </thead>\n                <tbody>\n                    <tr>\n                        <td>Model name</td>\n                        <td> undefined </td>\n                    </tr>\n                    <tr>\n                        <td>Model module</td>\n                        <td> undefined </td>\n                    </tr>\n                    <tr>\n                        <td>Model module version</td>\n                        <td> undefined </td>\n                    </tr>\n                <tbody>\n                <tfoot>\n                    <tr>\n                        <th colspan=\"2\">\n                        Class undefined not found in registry \n                        </th>\n                    </tr>\n                </tfoot>\n                </table>"
      }
     },
     "43698cd83e434735970d098c0c18c682": {
      "model_module_version": "^2.1.4",
      "state": {
       "msg_id": "",
       "value": "<table style=\"width:100%\">\n                <thead>\n                    <tr>\n                        <th colspan=\"2\">\n                        Could not create model:\n                        </th>\n                    </tr>\n                </thead>\n                <tbody>\n                    <tr>\n                        <td>Model name</td>\n                        <td> undefined </td>\n                    </tr>\n                    <tr>\n                        <td>Model module</td>\n                        <td> undefined </td>\n                    </tr>\n                    <tr>\n                        <td>Model module version</td>\n                        <td> undefined </td>\n                    </tr>\n                <tbody>\n                <tfoot>\n                    <tr>\n                        <th colspan=\"2\">\n                        Class undefined not found in registry \n                        </th>\n                    </tr>\n                </tfoot>\n                </table>"
      }
     },
     "4516a929146f4c6aba450499be5a6bae": {
      "model_module_version": "^2.1.4",
      "state": {
       "children": [
        "IPY_MODEL_1e92dc6d2e6a4746ae2cd05ab57165ec",
        "IPY_MODEL_0d0f207a9beb4bbc8342dfdfde8abfd1"
       ],
       "value": "<table style=\"width:100%\">\n                <thead>\n                    <tr>\n                        <th colspan=\"2\">\n                        Could not create model:\n                        </th>\n                    </tr>\n                </thead>\n                <tbody>\n                    <tr>\n                        <td>Model name</td>\n                        <td> undefined </td>\n                    </tr>\n                    <tr>\n                        <td>Model module</td>\n                        <td> undefined </td>\n                    </tr>\n                    <tr>\n                        <td>Model module version</td>\n                        <td> undefined </td>\n                    </tr>\n                <tbody>\n                <tfoot>\n                    <tr>\n                        <th colspan=\"2\">\n                        Class undefined not found in registry \n                        </th>\n                    </tr>\n                </tfoot>\n                </table>"
      }
     },
     "46c3f00a4866401bb7d7dd886668baeb": {
      "model_module_version": "^2.1.4",
      "state": {
       "msg_id": "",
       "value": "<table style=\"width:100%\">\n                <thead>\n                    <tr>\n                        <th colspan=\"2\">\n                        Could not create model:\n                        </th>\n                    </tr>\n                </thead>\n                <tbody>\n                    <tr>\n                        <td>Model name</td>\n                        <td> undefined </td>\n                    </tr>\n                    <tr>\n                        <td>Model module</td>\n                        <td> undefined </td>\n                    </tr>\n                    <tr>\n                        <td>Model module version</td>\n                        <td> undefined </td>\n                    </tr>\n                <tbody>\n                <tfoot>\n                    <tr>\n                        <th colspan=\"2\">\n                        Class undefined not found in registry \n                        </th>\n                    </tr>\n                </tfoot>\n                </table>"
      }
     },
     "49aa40dd11114ddabb68be1d01d1e41d": {
      "model_module_version": "^2.1.4",
      "state": {
       "value": "<table style=\"width:100%\">\n                <thead>\n                    <tr>\n                        <th colspan=\"2\">\n                        Could not create model:\n                        </th>\n                    </tr>\n                </thead>\n                <tbody>\n                    <tr>\n                        <td>Model name</td>\n                        <td> undefined </td>\n                    </tr>\n                    <tr>\n                        <td>Model module</td>\n                        <td> undefined </td>\n                    </tr>\n                    <tr>\n                        <td>Model module version</td>\n                        <td> undefined </td>\n                    </tr>\n                <tbody>\n                <tfoot>\n                    <tr>\n                        <th colspan=\"2\">\n                        Class undefined not found in registry \n                        </th>\n                    </tr>\n                </tfoot>\n                </table>"
      }
     },
     "4a96e2d67ee54a41a257d81719387929": {
      "model_module_version": "^2.1.4",
      "state": {
       "msg_id": "",
       "value": "<table style=\"width:100%\">\n                <thead>\n                    <tr>\n                        <th colspan=\"2\">\n                        Could not create model:\n                        </th>\n                    </tr>\n                </thead>\n                <tbody>\n                    <tr>\n                        <td>Model name</td>\n                        <td> undefined </td>\n                    </tr>\n                    <tr>\n                        <td>Model module</td>\n                        <td> undefined </td>\n                    </tr>\n                    <tr>\n                        <td>Model module version</td>\n                        <td> undefined </td>\n                    </tr>\n                <tbody>\n                <tfoot>\n                    <tr>\n                        <th colspan=\"2\">\n                        Class undefined not found in registry \n                        </th>\n                    </tr>\n                </tfoot>\n                </table>"
      }
     },
     "501729002a44409ba89f0ce4598c4615": {
      "model_module_version": "^2.1.4",
      "state": {
       "value": "<table style=\"width:100%\">\n                <thead>\n                    <tr>\n                        <th colspan=\"2\">\n                        Could not create model:\n                        </th>\n                    </tr>\n                </thead>\n                <tbody>\n                    <tr>\n                        <td>Model name</td>\n                        <td> undefined </td>\n                    </tr>\n                    <tr>\n                        <td>Model module</td>\n                        <td> undefined </td>\n                    </tr>\n                    <tr>\n                        <td>Model module version</td>\n                        <td> undefined </td>\n                    </tr>\n                <tbody>\n                <tfoot>\n                    <tr>\n                        <th colspan=\"2\">\n                        Class undefined not found in registry \n                        </th>\n                    </tr>\n                </tfoot>\n                </table>"
      }
     },
     "55c4545c3cf9416ca5f9b6468f70a6ea": {
      "model_module_version": "^2.1.4",
      "state": {
       "value": "<table style=\"width:100%\">\n                <thead>\n                    <tr>\n                        <th colspan=\"2\">\n                        Could not create model:\n                        </th>\n                    </tr>\n                </thead>\n                <tbody>\n                    <tr>\n                        <td>Model name</td>\n                        <td> undefined </td>\n                    </tr>\n                    <tr>\n                        <td>Model module</td>\n                        <td> undefined </td>\n                    </tr>\n                    <tr>\n                        <td>Model module version</td>\n                        <td> undefined </td>\n                    </tr>\n                <tbody>\n                <tfoot>\n                    <tr>\n                        <th colspan=\"2\">\n                        Class undefined not found in registry \n                        </th>\n                    </tr>\n                </tfoot>\n                </table>"
      }
     },
     "5754386e4c0348748bd72a39c98e3513": {
      "model_module_version": "^2.1.4",
      "state": {
       "value": "<table style=\"width:100%\">\n                <thead>\n                    <tr>\n                        <th colspan=\"2\">\n                        Could not create model:\n                        </th>\n                    </tr>\n                </thead>\n                <tbody>\n                    <tr>\n                        <td>Model name</td>\n                        <td> undefined </td>\n                    </tr>\n                    <tr>\n                        <td>Model module</td>\n                        <td> undefined </td>\n                    </tr>\n                    <tr>\n                        <td>Model module version</td>\n                        <td> undefined </td>\n                    </tr>\n                <tbody>\n                <tfoot>\n                    <tr>\n                        <th colspan=\"2\">\n                        Class undefined not found in registry \n                        </th>\n                    </tr>\n                </tfoot>\n                </table>"
      }
     },
     "5d5b28b089e242db97c0fb1fbdd63320": {
      "model_module_version": "^2.1.4",
      "state": {
       "value": "<table style=\"width:100%\">\n                <thead>\n                    <tr>\n                        <th colspan=\"2\">\n                        Could not create model:\n                        </th>\n                    </tr>\n                </thead>\n                <tbody>\n                    <tr>\n                        <td>Model name</td>\n                        <td> undefined </td>\n                    </tr>\n                    <tr>\n                        <td>Model module</td>\n                        <td> undefined </td>\n                    </tr>\n                    <tr>\n                        <td>Model module version</td>\n                        <td> undefined </td>\n                    </tr>\n                <tbody>\n                <tfoot>\n                    <tr>\n                        <th colspan=\"2\">\n                        Class undefined not found in registry \n                        </th>\n                    </tr>\n                </tfoot>\n                </table>"
      }
     },
     "5ddce768a0cd44fcb6a02f55d97511c0": {
      "model_module_version": "^2.1.4",
      "state": {
       "description": "x",
       "value": "<table style=\"width:100%\">\n                <thead>\n                    <tr>\n                        <th colspan=\"2\">\n                        Could not create model:\n                        </th>\n                    </tr>\n                </thead>\n                <tbody>\n                    <tr>\n                        <td>Model name</td>\n                        <td> undefined </td>\n                    </tr>\n                    <tr>\n                        <td>Model module</td>\n                        <td> undefined </td>\n                    </tr>\n                    <tr>\n                        <td>Model module version</td>\n                        <td> undefined </td>\n                    </tr>\n                <tbody>\n                <tfoot>\n                    <tr>\n                        <th colspan=\"2\">\n                        Class undefined not found in registry \n                        </th>\n                    </tr>\n                </tfoot>\n                </table>"
      }
     },
     "5ef172040b89471c852363eeffcd40ad": {
      "model_module": "jupyter-js-widgets",
      "model_module_version": "~2.1.4",
      "model_name": "OutputModel",
      "state": {
       "_dom_classes": [],
       "_model_module": "jupyter-js-widgets",
       "_model_module_version": "~2.1.4",
       "_view_module": "jupyter-js-widgets",
       "_view_module_version": "~2.1.4",
       "layout": "IPY_MODEL_61d17c7ab05d49ad917fe0ad9a2f5082",
       "msg_throttle": 1
      }
     },
     "61d17c7ab05d49ad917fe0ad9a2f5082": {
      "model_module": "jupyter-js-widgets",
      "model_module_version": "~2.1.4",
      "model_name": "LayoutModel",
      "state": {
       "_model_module_version": "~2.1.4",
       "_view_module_version": "~2.1.4"
      }
     },
     "621171c6d3824e1aa20b00a470355ba1": {
      "model_module_version": "^2.1.4",
      "state": {
       "value": "<table style=\"width:100%\">\n                <thead>\n                    <tr>\n                        <th colspan=\"2\">\n                        Could not create model:\n                        </th>\n                    </tr>\n                </thead>\n                <tbody>\n                    <tr>\n                        <td>Model name</td>\n                        <td> undefined </td>\n                    </tr>\n                    <tr>\n                        <td>Model module</td>\n                        <td> undefined </td>\n                    </tr>\n                    <tr>\n                        <td>Model module version</td>\n                        <td> undefined </td>\n                    </tr>\n                <tbody>\n                <tfoot>\n                    <tr>\n                        <th colspan=\"2\">\n                        Class undefined not found in registry \n                        </th>\n                    </tr>\n                </tfoot>\n                </table>"
      }
     },
     "68b9424e93a54f97b286548081d65a10": {
      "model_module_version": "^2.1.4",
      "state": {
       "value": "<table style=\"width:100%\">\n                <thead>\n                    <tr>\n                        <th colspan=\"2\">\n                        Could not create model:\n                        </th>\n                    </tr>\n                </thead>\n                <tbody>\n                    <tr>\n                        <td>Model name</td>\n                        <td> undefined </td>\n                    </tr>\n                    <tr>\n                        <td>Model module</td>\n                        <td> undefined </td>\n                    </tr>\n                    <tr>\n                        <td>Model module version</td>\n                        <td> undefined </td>\n                    </tr>\n                <tbody>\n                <tfoot>\n                    <tr>\n                        <th colspan=\"2\">\n                        Class undefined not found in registry \n                        </th>\n                    </tr>\n                </tfoot>\n                </table>"
      }
     },
     "6a248cb18c8c40658ea8cf7615f7a622": {
      "model_module_version": "^2.1.4",
      "state": {
       "value": "<table style=\"width:100%\">\n                <thead>\n                    <tr>\n                        <th colspan=\"2\">\n                        Could not create model:\n                        </th>\n                    </tr>\n                </thead>\n                <tbody>\n                    <tr>\n                        <td>Model name</td>\n                        <td> undefined </td>\n                    </tr>\n                    <tr>\n                        <td>Model module</td>\n                        <td> undefined </td>\n                    </tr>\n                    <tr>\n                        <td>Model module version</td>\n                        <td> undefined </td>\n                    </tr>\n                <tbody>\n                <tfoot>\n                    <tr>\n                        <th colspan=\"2\">\n                        Class undefined not found in registry \n                        </th>\n                    </tr>\n                </tfoot>\n                </table>"
      }
     },
     "6aaa433ab117461b889545d142a27175": {
      "model_module_version": "^2.1.4",
      "state": {
       "description": "x",
       "value": "<table style=\"width:100%\">\n                <thead>\n                    <tr>\n                        <th colspan=\"2\">\n                        Could not create model:\n                        </th>\n                    </tr>\n                </thead>\n                <tbody>\n                    <tr>\n                        <td>Model name</td>\n                        <td> undefined </td>\n                    </tr>\n                    <tr>\n                        <td>Model module</td>\n                        <td> undefined </td>\n                    </tr>\n                    <tr>\n                        <td>Model module version</td>\n                        <td> undefined </td>\n                    </tr>\n                <tbody>\n                <tfoot>\n                    <tr>\n                        <th colspan=\"2\">\n                        Class undefined not found in registry \n                        </th>\n                    </tr>\n                </tfoot>\n                </table>"
      }
     },
     "73132f70043c4a6cb2a8ceb471a8f252": {
      "model_module_version": "^2.1.4",
      "state": {
       "value": "<table style=\"width:100%\">\n                <thead>\n                    <tr>\n                        <th colspan=\"2\">\n                        Could not create model:\n                        </th>\n                    </tr>\n                </thead>\n                <tbody>\n                    <tr>\n                        <td>Model name</td>\n                        <td> undefined </td>\n                    </tr>\n                    <tr>\n                        <td>Model module</td>\n                        <td> undefined </td>\n                    </tr>\n                    <tr>\n                        <td>Model module version</td>\n                        <td> undefined </td>\n                    </tr>\n                <tbody>\n                <tfoot>\n                    <tr>\n                        <th colspan=\"2\">\n                        Class undefined not found in registry \n                        </th>\n                    </tr>\n                </tfoot>\n                </table>"
      }
     },
     "76b009679d104667af00faea672b290a": {
      "model_module_version": "^2.1.4",
      "state": {
       "value": "<table style=\"width:100%\">\n                <thead>\n                    <tr>\n                        <th colspan=\"2\">\n                        Could not create model:\n                        </th>\n                    </tr>\n                </thead>\n                <tbody>\n                    <tr>\n                        <td>Model name</td>\n                        <td> undefined </td>\n                    </tr>\n                    <tr>\n                        <td>Model module</td>\n                        <td> undefined </td>\n                    </tr>\n                    <tr>\n                        <td>Model module version</td>\n                        <td> undefined </td>\n                    </tr>\n                <tbody>\n                <tfoot>\n                    <tr>\n                        <th colspan=\"2\">\n                        Class undefined not found in registry \n                        </th>\n                    </tr>\n                </tfoot>\n                </table>"
      }
     },
     "79c73807325f49d393b6cf08bad0b9ef": {
      "model_module_version": "^2.1.4",
      "state": {
       "value": "<table style=\"width:100%\">\n                <thead>\n                    <tr>\n                        <th colspan=\"2\">\n                        Could not create model:\n                        </th>\n                    </tr>\n                </thead>\n                <tbody>\n                    <tr>\n                        <td>Model name</td>\n                        <td> undefined </td>\n                    </tr>\n                    <tr>\n                        <td>Model module</td>\n                        <td> undefined </td>\n                    </tr>\n                    <tr>\n                        <td>Model module version</td>\n                        <td> undefined </td>\n                    </tr>\n                <tbody>\n                <tfoot>\n                    <tr>\n                        <th colspan=\"2\">\n                        Class undefined not found in registry \n                        </th>\n                    </tr>\n                </tfoot>\n                </table>"
      }
     },
     "7b2a75f21e23408ba72e5f04d40c4ae0": {
      "model_module_version": "^2.1.4",
      "state": {
       "msg_id": "",
       "value": "<table style=\"width:100%\">\n                <thead>\n                    <tr>\n                        <th colspan=\"2\">\n                        Could not create model:\n                        </th>\n                    </tr>\n                </thead>\n                <tbody>\n                    <tr>\n                        <td>Model name</td>\n                        <td> undefined </td>\n                    </tr>\n                    <tr>\n                        <td>Model module</td>\n                        <td> undefined </td>\n                    </tr>\n                    <tr>\n                        <td>Model module version</td>\n                        <td> undefined </td>\n                    </tr>\n                <tbody>\n                <tfoot>\n                    <tr>\n                        <th colspan=\"2\">\n                        Class undefined not found in registry \n                        </th>\n                    </tr>\n                </tfoot>\n                </table>"
      }
     },
     "7fdb52036a2c425b968f1cb3f18880cc": {
      "model_module": "jupyter-js-widgets",
      "model_module_version": "~2.1.4",
      "model_name": "VBoxModel",
      "state": {
       "_dom_classes": [
        "widget-interact"
       ],
       "_model_module_version": "~2.1.4",
       "_view_module_version": "~2.1.4",
       "children": [
        "IPY_MODEL_acf1144a079947a3b72f448ff497b5aa",
        "IPY_MODEL_5ef172040b89471c852363eeffcd40ad"
       ],
       "layout": "IPY_MODEL_a3da27f324824245ab4548048acf08ce"
      }
     },
     "804d2f26720d4c7a80aca19ce362f6e3": {
      "model_module_version": "^2.1.4",
      "state": {
       "value": "<table style=\"width:100%\">\n                <thead>\n                    <tr>\n                        <th colspan=\"2\">\n                        Could not create model:\n                        </th>\n                    </tr>\n                </thead>\n                <tbody>\n                    <tr>\n                        <td>Model name</td>\n                        <td> undefined </td>\n                    </tr>\n                    <tr>\n                        <td>Model module</td>\n                        <td> undefined </td>\n                    </tr>\n                    <tr>\n                        <td>Model module version</td>\n                        <td> undefined </td>\n                    </tr>\n                <tbody>\n                <tfoot>\n                    <tr>\n                        <th colspan=\"2\">\n                        Class undefined not found in registry \n                        </th>\n                    </tr>\n                </tfoot>\n                </table>"
      }
     },
     "83640725b367458d874b51c6da3c0298": {
      "model_module_version": "^2.1.4",
      "state": {
       "description": "x",
       "value": "<table style=\"width:100%\">\n                <thead>\n                    <tr>\n                        <th colspan=\"2\">\n                        Could not create model:\n                        </th>\n                    </tr>\n                </thead>\n                <tbody>\n                    <tr>\n                        <td>Model name</td>\n                        <td> undefined </td>\n                    </tr>\n                    <tr>\n                        <td>Model module</td>\n                        <td> undefined </td>\n                    </tr>\n                    <tr>\n                        <td>Model module version</td>\n                        <td> undefined </td>\n                    </tr>\n                <tbody>\n                <tfoot>\n                    <tr>\n                        <th colspan=\"2\">\n                        Class undefined not found in registry \n                        </th>\n                    </tr>\n                </tfoot>\n                </table>"
      }
     },
     "842d398e0f0b49bb82816bf12e32d8ae": {
      "model_module_version": "^2.1.4",
      "state": {
       "children": [
        "IPY_MODEL_b3aaafaed364432d9f29a2334748fb51",
        "IPY_MODEL_0bb041ed3f25401da46f4d3b1b84bedd"
       ],
       "value": "<table style=\"width:100%\">\n                <thead>\n                    <tr>\n                        <th colspan=\"2\">\n                        Could not create model:\n                        </th>\n                    </tr>\n                </thead>\n                <tbody>\n                    <tr>\n                        <td>Model name</td>\n                        <td> undefined </td>\n                    </tr>\n                    <tr>\n                        <td>Model module</td>\n                        <td> undefined </td>\n                    </tr>\n                    <tr>\n                        <td>Model module version</td>\n                        <td> undefined </td>\n                    </tr>\n                <tbody>\n                <tfoot>\n                    <tr>\n                        <th colspan=\"2\">\n                        Class undefined not found in registry \n                        </th>\n                    </tr>\n                </tfoot>\n                </table>"
      }
     },
     "892d3ae0c7194bf880319e259ecc2978": {
      "model_module_version": "^2.1.4",
      "state": {
       "msg_id": "",
       "value": "<table style=\"width:100%\">\n                <thead>\n                    <tr>\n                        <th colspan=\"2\">\n                        Could not create model:\n                        </th>\n                    </tr>\n                </thead>\n                <tbody>\n                    <tr>\n                        <td>Model name</td>\n                        <td> undefined </td>\n                    </tr>\n                    <tr>\n                        <td>Model module</td>\n                        <td> undefined </td>\n                    </tr>\n                    <tr>\n                        <td>Model module version</td>\n                        <td> undefined </td>\n                    </tr>\n                <tbody>\n                <tfoot>\n                    <tr>\n                        <th colspan=\"2\">\n                        Class undefined not found in registry \n                        </th>\n                    </tr>\n                </tfoot>\n                </table>"
      }
     },
     "8c53fafbc3f84f67a956e57f3add21e6": {
      "model_module_version": "^2.1.4",
      "state": {
       "value": "<table style=\"width:100%\">\n                <thead>\n                    <tr>\n                        <th colspan=\"2\">\n                        Could not create model:\n                        </th>\n                    </tr>\n                </thead>\n                <tbody>\n                    <tr>\n                        <td>Model name</td>\n                        <td> undefined </td>\n                    </tr>\n                    <tr>\n                        <td>Model module</td>\n                        <td> undefined </td>\n                    </tr>\n                    <tr>\n                        <td>Model module version</td>\n                        <td> undefined </td>\n                    </tr>\n                <tbody>\n                <tfoot>\n                    <tr>\n                        <th colspan=\"2\">\n                        Class undefined not found in registry \n                        </th>\n                    </tr>\n                </tfoot>\n                </table>"
      }
     },
     "96847b2fae384f758634f48976d6387d": {
      "model_module_version": "^2.1.4",
      "state": {
       "value": "<table style=\"width:100%\">\n                <thead>\n                    <tr>\n                        <th colspan=\"2\">\n                        Could not create model:\n                        </th>\n                    </tr>\n                </thead>\n                <tbody>\n                    <tr>\n                        <td>Model name</td>\n                        <td> undefined </td>\n                    </tr>\n                    <tr>\n                        <td>Model module</td>\n                        <td> undefined </td>\n                    </tr>\n                    <tr>\n                        <td>Model module version</td>\n                        <td> undefined </td>\n                    </tr>\n                <tbody>\n                <tfoot>\n                    <tr>\n                        <th colspan=\"2\">\n                        Class undefined not found in registry \n                        </th>\n                    </tr>\n                </tfoot>\n                </table>"
      }
     },
     "98eb087ff1554f3983db53fa15fe205e": {
      "model_module_version": "^2.1.4",
      "state": {
       "description": "x",
       "value": "<table style=\"width:100%\">\n                <thead>\n                    <tr>\n                        <th colspan=\"2\">\n                        Could not create model:\n                        </th>\n                    </tr>\n                </thead>\n                <tbody>\n                    <tr>\n                        <td>Model name</td>\n                        <td> undefined </td>\n                    </tr>\n                    <tr>\n                        <td>Model module</td>\n                        <td> undefined </td>\n                    </tr>\n                    <tr>\n                        <td>Model module version</td>\n                        <td> undefined </td>\n                    </tr>\n                <tbody>\n                <tfoot>\n                    <tr>\n                        <th colspan=\"2\">\n                        Class undefined not found in registry \n                        </th>\n                    </tr>\n                </tfoot>\n                </table>"
      }
     },
     "a2dd2b1e1f9b4734b2e3aa1dbffdcd04": {
      "model_module_version": "^2.1.4",
      "state": {
       "value": "<table style=\"width:100%\">\n                <thead>\n                    <tr>\n                        <th colspan=\"2\">\n                        Could not create model:\n                        </th>\n                    </tr>\n                </thead>\n                <tbody>\n                    <tr>\n                        <td>Model name</td>\n                        <td> undefined </td>\n                    </tr>\n                    <tr>\n                        <td>Model module</td>\n                        <td> undefined </td>\n                    </tr>\n                    <tr>\n                        <td>Model module version</td>\n                        <td> undefined </td>\n                    </tr>\n                <tbody>\n                <tfoot>\n                    <tr>\n                        <th colspan=\"2\">\n                        Class undefined not found in registry \n                        </th>\n                    </tr>\n                </tfoot>\n                </table>"
      }
     },
     "a2f0d26a526e4befb8a931dedb6363eb": {
      "model_module_version": "^2.1.4",
      "state": {
       "value": "<table style=\"width:100%\">\n                <thead>\n                    <tr>\n                        <th colspan=\"2\">\n                        Could not create model:\n                        </th>\n                    </tr>\n                </thead>\n                <tbody>\n                    <tr>\n                        <td>Model name</td>\n                        <td> undefined </td>\n                    </tr>\n                    <tr>\n                        <td>Model module</td>\n                        <td> undefined </td>\n                    </tr>\n                    <tr>\n                        <td>Model module version</td>\n                        <td> undefined </td>\n                    </tr>\n                <tbody>\n                <tfoot>\n                    <tr>\n                        <th colspan=\"2\">\n                        Class undefined not found in registry \n                        </th>\n                    </tr>\n                </tfoot>\n                </table>"
      }
     },
     "a3da27f324824245ab4548048acf08ce": {
      "model_module": "jupyter-js-widgets",
      "model_module_version": "~2.1.4",
      "model_name": "LayoutModel",
      "state": {
       "_model_module_version": "~2.1.4",
       "_view_module_version": "~2.1.4"
      }
     },
     "a5e1aa2fc5f641d098f2cfa6420a592b": {
      "model_module_version": "^2.1.4",
      "state": {
       "value": "<table style=\"width:100%\">\n                <thead>\n                    <tr>\n                        <th colspan=\"2\">\n                        Could not create model:\n                        </th>\n                    </tr>\n                </thead>\n                <tbody>\n                    <tr>\n                        <td>Model name</td>\n                        <td> undefined </td>\n                    </tr>\n                    <tr>\n                        <td>Model module</td>\n                        <td> undefined </td>\n                    </tr>\n                    <tr>\n                        <td>Model module version</td>\n                        <td> undefined </td>\n                    </tr>\n                <tbody>\n                <tfoot>\n                    <tr>\n                        <th colspan=\"2\">\n                        Class undefined not found in registry \n                        </th>\n                    </tr>\n                </tfoot>\n                </table>"
      }
     },
     "acf1144a079947a3b72f448ff497b5aa": {
      "model_module": "jupyter-js-widgets",
      "model_module_version": "~2.1.4",
      "model_name": "IntSliderModel",
      "state": {
       "_model_module_version": "~2.1.4",
       "_view_module_version": "~2.1.4",
       "description": "x",
       "layout": "IPY_MODEL_3c2f6371fb9d4ef8963013d7ec752f1a",
       "max": 30,
       "min": -10,
       "style": "IPY_MODEL_4085225553f745b5a56321cf316c733e",
       "value": 10
      }
     },
     "ae4e57c864524cccb1f82071a8cd1230": {
      "model_module_version": "^2.1.4",
      "state": {
       "children": [
        "IPY_MODEL_83640725b367458d874b51c6da3c0298",
        "IPY_MODEL_46c3f00a4866401bb7d7dd886668baeb"
       ],
       "value": "<table style=\"width:100%\">\n                <thead>\n                    <tr>\n                        <th colspan=\"2\">\n                        Could not create model:\n                        </th>\n                    </tr>\n                </thead>\n                <tbody>\n                    <tr>\n                        <td>Model name</td>\n                        <td> undefined </td>\n                    </tr>\n                    <tr>\n                        <td>Model module</td>\n                        <td> undefined </td>\n                    </tr>\n                    <tr>\n                        <td>Model module version</td>\n                        <td> undefined </td>\n                    </tr>\n                <tbody>\n                <tfoot>\n                    <tr>\n                        <th colspan=\"2\">\n                        Class undefined not found in registry \n                        </th>\n                    </tr>\n                </tfoot>\n                </table>"
      }
     },
     "b3aaafaed364432d9f29a2334748fb51": {
      "model_module_version": "^2.1.4",
      "state": {
       "description": "x",
       "value": "<table style=\"width:100%\">\n                <thead>\n                    <tr>\n                        <th colspan=\"2\">\n                        Could not create model:\n                        </th>\n                    </tr>\n                </thead>\n                <tbody>\n                    <tr>\n                        <td>Model name</td>\n                        <td> undefined </td>\n                    </tr>\n                    <tr>\n                        <td>Model module</td>\n                        <td> undefined </td>\n                    </tr>\n                    <tr>\n                        <td>Model module version</td>\n                        <td> undefined </td>\n                    </tr>\n                <tbody>\n                <tfoot>\n                    <tr>\n                        <th colspan=\"2\">\n                        Class undefined not found in registry \n                        </th>\n                    </tr>\n                </tfoot>\n                </table>"
      }
     },
     "b5c4b56ba9cd45e1bdca6530cc78c9e1": {
      "model_module_version": "^2.1.4",
      "state": {
       "msg_id": "",
       "value": "<table style=\"width:100%\">\n                <thead>\n                    <tr>\n                        <th colspan=\"2\">\n                        Could not create model:\n                        </th>\n                    </tr>\n                </thead>\n                <tbody>\n                    <tr>\n                        <td>Model name</td>\n                        <td> undefined </td>\n                    </tr>\n                    <tr>\n                        <td>Model module</td>\n                        <td> undefined </td>\n                    </tr>\n                    <tr>\n                        <td>Model module version</td>\n                        <td> undefined </td>\n                    </tr>\n                <tbody>\n                <tfoot>\n                    <tr>\n                        <th colspan=\"2\">\n                        Class undefined not found in registry \n                        </th>\n                    </tr>\n                </tfoot>\n                </table>"
      }
     },
     "b74b2bb279ff49c9a7b8384e115dda91": {
      "model_module_version": "^2.1.4",
      "state": {
       "msg_id": "",
       "value": "<table style=\"width:100%\">\n                <thead>\n                    <tr>\n                        <th colspan=\"2\">\n                        Could not create model:\n                        </th>\n                    </tr>\n                </thead>\n                <tbody>\n                    <tr>\n                        <td>Model name</td>\n                        <td> undefined </td>\n                    </tr>\n                    <tr>\n                        <td>Model module</td>\n                        <td> undefined </td>\n                    </tr>\n                    <tr>\n                        <td>Model module version</td>\n                        <td> undefined </td>\n                    </tr>\n                <tbody>\n                <tfoot>\n                    <tr>\n                        <th colspan=\"2\">\n                        Class undefined not found in registry \n                        </th>\n                    </tr>\n                </tfoot>\n                </table>"
      }
     },
     "bc40a99774e645d6a95f8c5424ed326e": {
      "model_module_version": "^2.1.4",
      "state": {
       "description": "x",
       "value": "<table style=\"width:100%\">\n                <thead>\n                    <tr>\n                        <th colspan=\"2\">\n                        Could not create model:\n                        </th>\n                    </tr>\n                </thead>\n                <tbody>\n                    <tr>\n                        <td>Model name</td>\n                        <td> undefined </td>\n                    </tr>\n                    <tr>\n                        <td>Model module</td>\n                        <td> undefined </td>\n                    </tr>\n                    <tr>\n                        <td>Model module version</td>\n                        <td> undefined </td>\n                    </tr>\n                <tbody>\n                <tfoot>\n                    <tr>\n                        <th colspan=\"2\">\n                        Class undefined not found in registry \n                        </th>\n                    </tr>\n                </tfoot>\n                </table>"
      }
     },
     "c40e39ab08b34613bb2767f4b2e60411": {
      "model_module_version": "^2.1.4",
      "state": {
       "value": "<table style=\"width:100%\">\n                <thead>\n                    <tr>\n                        <th colspan=\"2\">\n                        Could not create model:\n                        </th>\n                    </tr>\n                </thead>\n                <tbody>\n                    <tr>\n                        <td>Model name</td>\n                        <td> undefined </td>\n                    </tr>\n                    <tr>\n                        <td>Model module</td>\n                        <td> undefined </td>\n                    </tr>\n                    <tr>\n                        <td>Model module version</td>\n                        <td> undefined </td>\n                    </tr>\n                <tbody>\n                <tfoot>\n                    <tr>\n                        <th colspan=\"2\">\n                        Class undefined not found in registry \n                        </th>\n                    </tr>\n                </tfoot>\n                </table>"
      }
     },
     "ca7fc7414df744c1a12a80afcd929124": {
      "model_module_version": "^2.1.4",
      "state": {
       "description": "x",
       "value": "<table style=\"width:100%\">\n                <thead>\n                    <tr>\n                        <th colspan=\"2\">\n                        Could not create model:\n                        </th>\n                    </tr>\n                </thead>\n                <tbody>\n                    <tr>\n                        <td>Model name</td>\n                        <td> undefined </td>\n                    </tr>\n                    <tr>\n                        <td>Model module</td>\n                        <td> undefined </td>\n                    </tr>\n                    <tr>\n                        <td>Model module version</td>\n                        <td> undefined </td>\n                    </tr>\n                <tbody>\n                <tfoot>\n                    <tr>\n                        <th colspan=\"2\">\n                        Class undefined not found in registry \n                        </th>\n                    </tr>\n                </tfoot>\n                </table>"
      }
     },
     "d00724d28f834c4991169f92b8e447cb": {
      "model_module_version": "^2.1.4",
      "state": {
       "description": "x",
       "value": "<table style=\"width:100%\">\n                <thead>\n                    <tr>\n                        <th colspan=\"2\">\n                        Could not create model:\n                        </th>\n                    </tr>\n                </thead>\n                <tbody>\n                    <tr>\n                        <td>Model name</td>\n                        <td> undefined </td>\n                    </tr>\n                    <tr>\n                        <td>Model module</td>\n                        <td> undefined </td>\n                    </tr>\n                    <tr>\n                        <td>Model module version</td>\n                        <td> undefined </td>\n                    </tr>\n                <tbody>\n                <tfoot>\n                    <tr>\n                        <th colspan=\"2\">\n                        Class undefined not found in registry \n                        </th>\n                    </tr>\n                </tfoot>\n                </table>"
      }
     },
     "d11595e8990749f7a5f58f9502758e2d": {
      "model_module_version": "^2.1.4",
      "state": {
       "value": "<table style=\"width:100%\">\n                <thead>\n                    <tr>\n                        <th colspan=\"2\">\n                        Could not create model:\n                        </th>\n                    </tr>\n                </thead>\n                <tbody>\n                    <tr>\n                        <td>Model name</td>\n                        <td> undefined </td>\n                    </tr>\n                    <tr>\n                        <td>Model module</td>\n                        <td> undefined </td>\n                    </tr>\n                    <tr>\n                        <td>Model module version</td>\n                        <td> undefined </td>\n                    </tr>\n                <tbody>\n                <tfoot>\n                    <tr>\n                        <th colspan=\"2\">\n                        Class undefined not found in registry \n                        </th>\n                    </tr>\n                </tfoot>\n                </table>"
      }
     },
     "d37973aee6ad4ad3afc2983cc4640538": {
      "model_module_version": "^2.1.4",
      "state": {
       "value": "<table style=\"width:100%\">\n                <thead>\n                    <tr>\n                        <th colspan=\"2\">\n                        Could not create model:\n                        </th>\n                    </tr>\n                </thead>\n                <tbody>\n                    <tr>\n                        <td>Model name</td>\n                        <td> undefined </td>\n                    </tr>\n                    <tr>\n                        <td>Model module</td>\n                        <td> undefined </td>\n                    </tr>\n                    <tr>\n                        <td>Model module version</td>\n                        <td> undefined </td>\n                    </tr>\n                <tbody>\n                <tfoot>\n                    <tr>\n                        <th colspan=\"2\">\n                        Class undefined not found in registry \n                        </th>\n                    </tr>\n                </tfoot>\n                </table>"
      }
     },
     "d8e4be7cd0c144abb637254495935400": {
      "model_module_version": "^2.1.4",
      "state": {
       "value": "<table style=\"width:100%\">\n                <thead>\n                    <tr>\n                        <th colspan=\"2\">\n                        Could not create model:\n                        </th>\n                    </tr>\n                </thead>\n                <tbody>\n                    <tr>\n                        <td>Model name</td>\n                        <td> undefined </td>\n                    </tr>\n                    <tr>\n                        <td>Model module</td>\n                        <td> undefined </td>\n                    </tr>\n                    <tr>\n                        <td>Model module version</td>\n                        <td> undefined </td>\n                    </tr>\n                <tbody>\n                <tfoot>\n                    <tr>\n                        <th colspan=\"2\">\n                        Class undefined not found in registry \n                        </th>\n                    </tr>\n                </tfoot>\n                </table>"
      }
     },
     "d929f758e3d743e4bad5ee4b0e0e2971": {
      "model_module_version": "^2.1.4",
      "state": {
       "value": "<table style=\"width:100%\">\n                <thead>\n                    <tr>\n                        <th colspan=\"2\">\n                        Could not create model:\n                        </th>\n                    </tr>\n                </thead>\n                <tbody>\n                    <tr>\n                        <td>Model name</td>\n                        <td> undefined </td>\n                    </tr>\n                    <tr>\n                        <td>Model module</td>\n                        <td> undefined </td>\n                    </tr>\n                    <tr>\n                        <td>Model module version</td>\n                        <td> undefined </td>\n                    </tr>\n                <tbody>\n                <tfoot>\n                    <tr>\n                        <th colspan=\"2\">\n                        Class undefined not found in registry \n                        </th>\n                    </tr>\n                </tfoot>\n                </table>"
      }
     },
     "db0ea3166b744eb3914ca4a329e1f134": {
      "model_module_version": "^2.1.4",
      "state": {
       "value": "<table style=\"width:100%\">\n                <thead>\n                    <tr>\n                        <th colspan=\"2\">\n                        Could not create model:\n                        </th>\n                    </tr>\n                </thead>\n                <tbody>\n                    <tr>\n                        <td>Model name</td>\n                        <td> undefined </td>\n                    </tr>\n                    <tr>\n                        <td>Model module</td>\n                        <td> undefined </td>\n                    </tr>\n                    <tr>\n                        <td>Model module version</td>\n                        <td> undefined </td>\n                    </tr>\n                <tbody>\n                <tfoot>\n                    <tr>\n                        <th colspan=\"2\">\n                        Class undefined not found in registry \n                        </th>\n                    </tr>\n                </tfoot>\n                </table>"
      }
     },
     "de03135fc545466a891c5c7f1191cb4b": {
      "model_module_version": "^2.1.4",
      "state": {
       "children": [
        "IPY_MODEL_6aaa433ab117461b889545d142a27175",
        "IPY_MODEL_4a96e2d67ee54a41a257d81719387929"
       ],
       "value": "<table style=\"width:100%\">\n                <thead>\n                    <tr>\n                        <th colspan=\"2\">\n                        Could not create model:\n                        </th>\n                    </tr>\n                </thead>\n                <tbody>\n                    <tr>\n                        <td>Model name</td>\n                        <td> undefined </td>\n                    </tr>\n                    <tr>\n                        <td>Model module</td>\n                        <td> undefined </td>\n                    </tr>\n                    <tr>\n                        <td>Model module version</td>\n                        <td> undefined </td>\n                    </tr>\n                <tbody>\n                <tfoot>\n                    <tr>\n                        <th colspan=\"2\">\n                        Class undefined not found in registry \n                        </th>\n                    </tr>\n                </tfoot>\n                </table>"
      }
     },
     "e2d7a38ef7dc48099cc27bfcc2a6a4c9": {
      "model_module_version": "^2.1.4",
      "state": {
       "value": "<table style=\"width:100%\">\n                <thead>\n                    <tr>\n                        <th colspan=\"2\">\n                        Could not create model:\n                        </th>\n                    </tr>\n                </thead>\n                <tbody>\n                    <tr>\n                        <td>Model name</td>\n                        <td> undefined </td>\n                    </tr>\n                    <tr>\n                        <td>Model module</td>\n                        <td> undefined </td>\n                    </tr>\n                    <tr>\n                        <td>Model module version</td>\n                        <td> undefined </td>\n                    </tr>\n                <tbody>\n                <tfoot>\n                    <tr>\n                        <th colspan=\"2\">\n                        Class undefined not found in registry \n                        </th>\n                    </tr>\n                </tfoot>\n                </table>"
      }
     },
     "e2eabeb5e95644c6994f2f3be516a507": {
      "model_module_version": "^2.1.4",
      "state": {
       "value": "<table style=\"width:100%\">\n                <thead>\n                    <tr>\n                        <th colspan=\"2\">\n                        Could not create model:\n                        </th>\n                    </tr>\n                </thead>\n                <tbody>\n                    <tr>\n                        <td>Model name</td>\n                        <td> undefined </td>\n                    </tr>\n                    <tr>\n                        <td>Model module</td>\n                        <td> undefined </td>\n                    </tr>\n                    <tr>\n                        <td>Model module version</td>\n                        <td> undefined </td>\n                    </tr>\n                <tbody>\n                <tfoot>\n                    <tr>\n                        <th colspan=\"2\">\n                        Class undefined not found in registry \n                        </th>\n                    </tr>\n                </tfoot>\n                </table>"
      }
     },
     "e8c41950a9d349d2a093b110f66cbb72": {
      "model_module_version": "^2.1.4",
      "state": {
       "description": "x",
       "value": "<table style=\"width:100%\">\n                <thead>\n                    <tr>\n                        <th colspan=\"2\">\n                        Could not create model:\n                        </th>\n                    </tr>\n                </thead>\n                <tbody>\n                    <tr>\n                        <td>Model name</td>\n                        <td> undefined </td>\n                    </tr>\n                    <tr>\n                        <td>Model module</td>\n                        <td> undefined </td>\n                    </tr>\n                    <tr>\n                        <td>Model module version</td>\n                        <td> undefined </td>\n                    </tr>\n                <tbody>\n                <tfoot>\n                    <tr>\n                        <th colspan=\"2\">\n                        Class undefined not found in registry \n                        </th>\n                    </tr>\n                </tfoot>\n                </table>"
      }
     },
     "eef3d499980c484890b8c35cc146b9ed": {
      "model_module_version": "^2.1.4",
      "state": {
       "value": "<table style=\"width:100%\">\n                <thead>\n                    <tr>\n                        <th colspan=\"2\">\n                        Could not create model:\n                        </th>\n                    </tr>\n                </thead>\n                <tbody>\n                    <tr>\n                        <td>Model name</td>\n                        <td> undefined </td>\n                    </tr>\n                    <tr>\n                        <td>Model module</td>\n                        <td> undefined </td>\n                    </tr>\n                    <tr>\n                        <td>Model module version</td>\n                        <td> undefined </td>\n                    </tr>\n                <tbody>\n                <tfoot>\n                    <tr>\n                        <th colspan=\"2\">\n                        Class undefined not found in registry \n                        </th>\n                    </tr>\n                </tfoot>\n                </table>"
      }
     },
     "f43621a7182443dbaba6a026a3ea8c76": {
      "model_module_version": "^2.1.4",
      "state": {
       "value": "<table style=\"width:100%\">\n                <thead>\n                    <tr>\n                        <th colspan=\"2\">\n                        Could not create model:\n                        </th>\n                    </tr>\n                </thead>\n                <tbody>\n                    <tr>\n                        <td>Model name</td>\n                        <td> undefined </td>\n                    </tr>\n                    <tr>\n                        <td>Model module</td>\n                        <td> undefined </td>\n                    </tr>\n                    <tr>\n                        <td>Model module version</td>\n                        <td> undefined </td>\n                    </tr>\n                <tbody>\n                <tfoot>\n                    <tr>\n                        <th colspan=\"2\">\n                        Class undefined not found in registry \n                        </th>\n                    </tr>\n                </tfoot>\n                </table>"
      }
     },
     "f5d70fc558214794b4dd91314f8746c8": {
      "model_module_version": "^2.1.4",
      "state": {
       "value": "<table style=\"width:100%\">\n                <thead>\n                    <tr>\n                        <th colspan=\"2\">\n                        Could not create model:\n                        </th>\n                    </tr>\n                </thead>\n                <tbody>\n                    <tr>\n                        <td>Model name</td>\n                        <td> undefined </td>\n                    </tr>\n                    <tr>\n                        <td>Model module</td>\n                        <td> undefined </td>\n                    </tr>\n                    <tr>\n                        <td>Model module version</td>\n                        <td> undefined </td>\n                    </tr>\n                <tbody>\n                <tfoot>\n                    <tr>\n                        <th colspan=\"2\">\n                        Class undefined not found in registry \n                        </th>\n                    </tr>\n                </tfoot>\n                </table>"
      }
     }
    },
    "version_major": 1,
    "version_minor": 0
   }
  }
 },
 "nbformat": 4,
 "nbformat_minor": 2
}
