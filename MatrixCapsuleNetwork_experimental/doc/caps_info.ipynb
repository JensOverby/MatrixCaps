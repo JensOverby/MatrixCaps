{
 "cells": [
  {
   "cell_type": "markdown",
   "metadata": {},
   "source": [
    "# CAPSNET Monitor"
   ]
  },
  {
   "cell_type": "code",
   "execution_count": 1,
   "metadata": {},
   "outputs": [
    {
     "data": {
      "text/html": [
       "<script>\n",
       "code_show=true; \n",
       "function code_toggle() {\n",
       " if (code_show){\n",
       " $('div.input').hide();\n",
       " } else {\n",
       " $('div.input').show();\n",
       " }\n",
       " code_show = !code_show\n",
       "} \n",
       "$( document ).ready(code_toggle);\n",
       "</script>\n",
       "<form action=\"javascript:code_toggle()\"><input type=\"submit\" value=\"Click here to toggle on/off the raw code.\"></form>"
      ],
      "text/plain": [
       "<IPython.core.display.HTML object>"
      ]
     },
     "execution_count": 1,
     "metadata": {},
     "output_type": "execute_result"
    }
   ],
   "source": [
    "from IPython.display import HTML\n",
    "\n",
    "HTML('''<script>\n",
    "code_show=true; \n",
    "function code_toggle() {\n",
    " if (code_show){\n",
    " $('div.input').hide();\n",
    " } else {\n",
    " $('div.input').show();\n",
    " }\n",
    " code_show = !code_show\n",
    "} \n",
    "$( document ).ready(code_toggle);\n",
    "</script>\n",
    "<form action=\"javascript:code_toggle()\"><input type=\"submit\" value=\"Click here to toggle on/off the raw code.\"></form>''')\n"
   ]
  },
  {
   "cell_type": "code",
   "execution_count": 2,
   "metadata": {
    "scrolled": true
   },
   "outputs": [
    {
     "data": {
      "text/html": [
       "<style>\n",
       ".output_wrapper button.btn.btn-default,\n",
       ".output_wrapper .ui-dialog-titlebar {\n",
       "  display: none;\n",
       "}\n",
       "</style>"
      ],
      "text/plain": [
       "<IPython.core.display.HTML object>"
      ]
     },
     "execution_count": 2,
     "metadata": {},
     "output_type": "execute_result"
    }
   ],
   "source": [
    "HTML(\n",
    "'''<style>\n",
    ".output_wrapper button.btn.btn-default,\n",
    ".output_wrapper .ui-dialog-titlebar {\n",
    "  display: none;\n",
    "}\n",
    "</style>''')\n"
   ]
  },
  {
   "cell_type": "code",
   "execution_count": 3,
   "metadata": {
    "scrolled": false
   },
   "outputs": [],
   "source": [
    "%matplotlib notebook\n",
    "\n",
    "import os\n",
    "#os.chdir('/home/jens/eclipse-workspace/MatrixCaps/Matrix-Capsule-Network/')\n",
    "\n",
    "import sys\n",
    "import pyrr\n",
    "#sys.path.append('../model')\n",
    "sys.path.append('..')\n",
    "import torch\n",
    "from torch.autograd import Variable\n",
    "from torchvision import datasets\n",
    "from torchvision import transforms\n",
    "from torchvision import utils\n",
    "import torch.nn.functional as F\n",
    "import model.capsules as mcaps\n",
    "import model.util as util\n",
    "import matplotlib\n",
    "import matplotlib.pyplot as plt\n",
    "import numpy as np\n",
    "import time\n",
    "import pyrr\n",
    "\n",
    "import ipywidgets as widgets\n",
    "from ipywidgets import FloatSlider, HBox, VBox, Layout\n",
    "matplotlib.pyplot.ioff()\n",
    "\n",
    "import glob\n",
    "from IPython.display import display, Markdown, Image\n",
    "\n",
    "import PIL.Image\n",
    "from io import BytesIO\n"
   ]
  },
  {
   "cell_type": "markdown",
   "metadata": {},
   "source": [
    "## Matrix Capsules LOSS plot"
   ]
  },
  {
   "cell_type": "code",
   "execution_count": 4,
   "metadata": {},
   "outputs": [
    {
     "data": {
      "application/javascript": [
       "/* Put everything inside the global mpl namespace */\n",
       "window.mpl = {};\n",
       "\n",
       "\n",
       "mpl.get_websocket_type = function() {\n",
       "    if (typeof(WebSocket) !== 'undefined') {\n",
       "        return WebSocket;\n",
       "    } else if (typeof(MozWebSocket) !== 'undefined') {\n",
       "        return MozWebSocket;\n",
       "    } else {\n",
       "        alert('Your browser does not have WebSocket support.' +\n",
       "              'Please try Chrome, Safari or Firefox ≥ 6. ' +\n",
       "              'Firefox 4 and 5 are also supported but you ' +\n",
       "              'have to enable WebSockets in about:config.');\n",
       "    };\n",
       "}\n",
       "\n",
       "mpl.figure = function(figure_id, websocket, ondownload, parent_element) {\n",
       "    this.id = figure_id;\n",
       "\n",
       "    this.ws = websocket;\n",
       "\n",
       "    this.supports_binary = (this.ws.binaryType != undefined);\n",
       "\n",
       "    if (!this.supports_binary) {\n",
       "        var warnings = document.getElementById(\"mpl-warnings\");\n",
       "        if (warnings) {\n",
       "            warnings.style.display = 'block';\n",
       "            warnings.textContent = (\n",
       "                \"This browser does not support binary websocket messages. \" +\n",
       "                    \"Performance may be slow.\");\n",
       "        }\n",
       "    }\n",
       "\n",
       "    this.imageObj = new Image();\n",
       "\n",
       "    this.context = undefined;\n",
       "    this.message = undefined;\n",
       "    this.canvas = undefined;\n",
       "    this.rubberband_canvas = undefined;\n",
       "    this.rubberband_context = undefined;\n",
       "    this.format_dropdown = undefined;\n",
       "\n",
       "    this.image_mode = 'full';\n",
       "\n",
       "    this.root = $('<div/>');\n",
       "    this._root_extra_style(this.root)\n",
       "    this.root.attr('style', 'display: inline-block');\n",
       "\n",
       "    $(parent_element).append(this.root);\n",
       "\n",
       "    this._init_header(this);\n",
       "    this._init_canvas(this);\n",
       "    this._init_toolbar(this);\n",
       "\n",
       "    var fig = this;\n",
       "\n",
       "    this.waiting = false;\n",
       "\n",
       "    this.ws.onopen =  function () {\n",
       "            fig.send_message(\"supports_binary\", {value: fig.supports_binary});\n",
       "            fig.send_message(\"send_image_mode\", {});\n",
       "            if (mpl.ratio != 1) {\n",
       "                fig.send_message(\"set_dpi_ratio\", {'dpi_ratio': mpl.ratio});\n",
       "            }\n",
       "            fig.send_message(\"refresh\", {});\n",
       "        }\n",
       "\n",
       "    this.imageObj.onload = function() {\n",
       "            if (fig.image_mode == 'full') {\n",
       "                // Full images could contain transparency (where diff images\n",
       "                // almost always do), so we need to clear the canvas so that\n",
       "                // there is no ghosting.\n",
       "                fig.context.clearRect(0, 0, fig.canvas.width, fig.canvas.height);\n",
       "            }\n",
       "            fig.context.drawImage(fig.imageObj, 0, 0);\n",
       "        };\n",
       "\n",
       "    this.imageObj.onunload = function() {\n",
       "        fig.ws.close();\n",
       "    }\n",
       "\n",
       "    this.ws.onmessage = this._make_on_message_function(this);\n",
       "\n",
       "    this.ondownload = ondownload;\n",
       "}\n",
       "\n",
       "mpl.figure.prototype._init_header = function() {\n",
       "    var titlebar = $(\n",
       "        '<div class=\"ui-dialog-titlebar ui-widget-header ui-corner-all ' +\n",
       "        'ui-helper-clearfix\"/>');\n",
       "    var titletext = $(\n",
       "        '<div class=\"ui-dialog-title\" style=\"width: 100%; ' +\n",
       "        'text-align: center; padding: 3px;\"/>');\n",
       "    titlebar.append(titletext)\n",
       "    this.root.append(titlebar);\n",
       "    this.header = titletext[0];\n",
       "}\n",
       "\n",
       "\n",
       "\n",
       "mpl.figure.prototype._canvas_extra_style = function(canvas_div) {\n",
       "\n",
       "}\n",
       "\n",
       "\n",
       "mpl.figure.prototype._root_extra_style = function(canvas_div) {\n",
       "\n",
       "}\n",
       "\n",
       "mpl.figure.prototype._init_canvas = function() {\n",
       "    var fig = this;\n",
       "\n",
       "    var canvas_div = $('<div/>');\n",
       "\n",
       "    canvas_div.attr('style', 'position: relative; clear: both; outline: 0');\n",
       "\n",
       "    function canvas_keyboard_event(event) {\n",
       "        return fig.key_event(event, event['data']);\n",
       "    }\n",
       "\n",
       "    canvas_div.keydown('key_press', canvas_keyboard_event);\n",
       "    canvas_div.keyup('key_release', canvas_keyboard_event);\n",
       "    this.canvas_div = canvas_div\n",
       "    this._canvas_extra_style(canvas_div)\n",
       "    this.root.append(canvas_div);\n",
       "\n",
       "    var canvas = $('<canvas/>');\n",
       "    canvas.addClass('mpl-canvas');\n",
       "    canvas.attr('style', \"left: 0; top: 0; z-index: 0; outline: 0\")\n",
       "\n",
       "    this.canvas = canvas[0];\n",
       "    this.context = canvas[0].getContext(\"2d\");\n",
       "\n",
       "    var backingStore = this.context.backingStorePixelRatio ||\n",
       "\tthis.context.webkitBackingStorePixelRatio ||\n",
       "\tthis.context.mozBackingStorePixelRatio ||\n",
       "\tthis.context.msBackingStorePixelRatio ||\n",
       "\tthis.context.oBackingStorePixelRatio ||\n",
       "\tthis.context.backingStorePixelRatio || 1;\n",
       "\n",
       "    mpl.ratio = (window.devicePixelRatio || 1) / backingStore;\n",
       "\n",
       "    var rubberband = $('<canvas/>');\n",
       "    rubberband.attr('style', \"position: absolute; left: 0; top: 0; z-index: 1;\")\n",
       "\n",
       "    var pass_mouse_events = true;\n",
       "\n",
       "    canvas_div.resizable({\n",
       "        start: function(event, ui) {\n",
       "            pass_mouse_events = false;\n",
       "        },\n",
       "        resize: function(event, ui) {\n",
       "            fig.request_resize(ui.size.width, ui.size.height);\n",
       "        },\n",
       "        stop: function(event, ui) {\n",
       "            pass_mouse_events = true;\n",
       "            fig.request_resize(ui.size.width, ui.size.height);\n",
       "        },\n",
       "    });\n",
       "\n",
       "    function mouse_event_fn(event) {\n",
       "        if (pass_mouse_events)\n",
       "            return fig.mouse_event(event, event['data']);\n",
       "    }\n",
       "\n",
       "    rubberband.mousedown('button_press', mouse_event_fn);\n",
       "    rubberband.mouseup('button_release', mouse_event_fn);\n",
       "    // Throttle sequential mouse events to 1 every 20ms.\n",
       "    rubberband.mousemove('motion_notify', mouse_event_fn);\n",
       "\n",
       "    rubberband.mouseenter('figure_enter', mouse_event_fn);\n",
       "    rubberband.mouseleave('figure_leave', mouse_event_fn);\n",
       "\n",
       "    canvas_div.on(\"wheel\", function (event) {\n",
       "        event = event.originalEvent;\n",
       "        event['data'] = 'scroll'\n",
       "        if (event.deltaY < 0) {\n",
       "            event.step = 1;\n",
       "        } else {\n",
       "            event.step = -1;\n",
       "        }\n",
       "        mouse_event_fn(event);\n",
       "    });\n",
       "\n",
       "    canvas_div.append(canvas);\n",
       "    canvas_div.append(rubberband);\n",
       "\n",
       "    this.rubberband = rubberband;\n",
       "    this.rubberband_canvas = rubberband[0];\n",
       "    this.rubberband_context = rubberband[0].getContext(\"2d\");\n",
       "    this.rubberband_context.strokeStyle = \"#000000\";\n",
       "\n",
       "    this._resize_canvas = function(width, height) {\n",
       "        // Keep the size of the canvas, canvas container, and rubber band\n",
       "        // canvas in synch.\n",
       "        canvas_div.css('width', width)\n",
       "        canvas_div.css('height', height)\n",
       "\n",
       "        canvas.attr('width', width * mpl.ratio);\n",
       "        canvas.attr('height', height * mpl.ratio);\n",
       "        canvas.attr('style', 'width: ' + width + 'px; height: ' + height + 'px;');\n",
       "\n",
       "        rubberband.attr('width', width);\n",
       "        rubberband.attr('height', height);\n",
       "    }\n",
       "\n",
       "    // Set the figure to an initial 600x600px, this will subsequently be updated\n",
       "    // upon first draw.\n",
       "    this._resize_canvas(600, 600);\n",
       "\n",
       "    // Disable right mouse context menu.\n",
       "    $(this.rubberband_canvas).bind(\"contextmenu\",function(e){\n",
       "        return false;\n",
       "    });\n",
       "\n",
       "    function set_focus () {\n",
       "        canvas.focus();\n",
       "        canvas_div.focus();\n",
       "    }\n",
       "\n",
       "    window.setTimeout(set_focus, 100);\n",
       "}\n",
       "\n",
       "mpl.figure.prototype._init_toolbar = function() {\n",
       "    var fig = this;\n",
       "\n",
       "    var nav_element = $('<div/>')\n",
       "    nav_element.attr('style', 'width: 100%');\n",
       "    this.root.append(nav_element);\n",
       "\n",
       "    // Define a callback function for later on.\n",
       "    function toolbar_event(event) {\n",
       "        return fig.toolbar_button_onclick(event['data']);\n",
       "    }\n",
       "    function toolbar_mouse_event(event) {\n",
       "        return fig.toolbar_button_onmouseover(event['data']);\n",
       "    }\n",
       "\n",
       "    for(var toolbar_ind in mpl.toolbar_items) {\n",
       "        var name = mpl.toolbar_items[toolbar_ind][0];\n",
       "        var tooltip = mpl.toolbar_items[toolbar_ind][1];\n",
       "        var image = mpl.toolbar_items[toolbar_ind][2];\n",
       "        var method_name = mpl.toolbar_items[toolbar_ind][3];\n",
       "\n",
       "        if (!name) {\n",
       "            // put a spacer in here.\n",
       "            continue;\n",
       "        }\n",
       "        var button = $('<button/>');\n",
       "        button.addClass('ui-button ui-widget ui-state-default ui-corner-all ' +\n",
       "                        'ui-button-icon-only');\n",
       "        button.attr('role', 'button');\n",
       "        button.attr('aria-disabled', 'false');\n",
       "        button.click(method_name, toolbar_event);\n",
       "        button.mouseover(tooltip, toolbar_mouse_event);\n",
       "\n",
       "        var icon_img = $('<span/>');\n",
       "        icon_img.addClass('ui-button-icon-primary ui-icon');\n",
       "        icon_img.addClass(image);\n",
       "        icon_img.addClass('ui-corner-all');\n",
       "\n",
       "        var tooltip_span = $('<span/>');\n",
       "        tooltip_span.addClass('ui-button-text');\n",
       "        tooltip_span.html(tooltip);\n",
       "\n",
       "        button.append(icon_img);\n",
       "        button.append(tooltip_span);\n",
       "\n",
       "        nav_element.append(button);\n",
       "    }\n",
       "\n",
       "    var fmt_picker_span = $('<span/>');\n",
       "\n",
       "    var fmt_picker = $('<select/>');\n",
       "    fmt_picker.addClass('mpl-toolbar-option ui-widget ui-widget-content');\n",
       "    fmt_picker_span.append(fmt_picker);\n",
       "    nav_element.append(fmt_picker_span);\n",
       "    this.format_dropdown = fmt_picker[0];\n",
       "\n",
       "    for (var ind in mpl.extensions) {\n",
       "        var fmt = mpl.extensions[ind];\n",
       "        var option = $(\n",
       "            '<option/>', {selected: fmt === mpl.default_extension}).html(fmt);\n",
       "        fmt_picker.append(option)\n",
       "    }\n",
       "\n",
       "    // Add hover states to the ui-buttons\n",
       "    $( \".ui-button\" ).hover(\n",
       "        function() { $(this).addClass(\"ui-state-hover\");},\n",
       "        function() { $(this).removeClass(\"ui-state-hover\");}\n",
       "    );\n",
       "\n",
       "    var status_bar = $('<span class=\"mpl-message\"/>');\n",
       "    nav_element.append(status_bar);\n",
       "    this.message = status_bar[0];\n",
       "}\n",
       "\n",
       "mpl.figure.prototype.request_resize = function(x_pixels, y_pixels) {\n",
       "    // Request matplotlib to resize the figure. Matplotlib will then trigger a resize in the client,\n",
       "    // which will in turn request a refresh of the image.\n",
       "    this.send_message('resize', {'width': x_pixels, 'height': y_pixels});\n",
       "}\n",
       "\n",
       "mpl.figure.prototype.send_message = function(type, properties) {\n",
       "    properties['type'] = type;\n",
       "    properties['figure_id'] = this.id;\n",
       "    this.ws.send(JSON.stringify(properties));\n",
       "}\n",
       "\n",
       "mpl.figure.prototype.send_draw_message = function() {\n",
       "    if (!this.waiting) {\n",
       "        this.waiting = true;\n",
       "        this.ws.send(JSON.stringify({type: \"draw\", figure_id: this.id}));\n",
       "    }\n",
       "}\n",
       "\n",
       "\n",
       "mpl.figure.prototype.handle_save = function(fig, msg) {\n",
       "    var format_dropdown = fig.format_dropdown;\n",
       "    var format = format_dropdown.options[format_dropdown.selectedIndex].value;\n",
       "    fig.ondownload(fig, format);\n",
       "}\n",
       "\n",
       "\n",
       "mpl.figure.prototype.handle_resize = function(fig, msg) {\n",
       "    var size = msg['size'];\n",
       "    if (size[0] != fig.canvas.width || size[1] != fig.canvas.height) {\n",
       "        fig._resize_canvas(size[0], size[1]);\n",
       "        fig.send_message(\"refresh\", {});\n",
       "    };\n",
       "}\n",
       "\n",
       "mpl.figure.prototype.handle_rubberband = function(fig, msg) {\n",
       "    var x0 = msg['x0'] / mpl.ratio;\n",
       "    var y0 = (fig.canvas.height - msg['y0']) / mpl.ratio;\n",
       "    var x1 = msg['x1'] / mpl.ratio;\n",
       "    var y1 = (fig.canvas.height - msg['y1']) / mpl.ratio;\n",
       "    x0 = Math.floor(x0) + 0.5;\n",
       "    y0 = Math.floor(y0) + 0.5;\n",
       "    x1 = Math.floor(x1) + 0.5;\n",
       "    y1 = Math.floor(y1) + 0.5;\n",
       "    var min_x = Math.min(x0, x1);\n",
       "    var min_y = Math.min(y0, y1);\n",
       "    var width = Math.abs(x1 - x0);\n",
       "    var height = Math.abs(y1 - y0);\n",
       "\n",
       "    fig.rubberband_context.clearRect(\n",
       "        0, 0, fig.canvas.width, fig.canvas.height);\n",
       "\n",
       "    fig.rubberband_context.strokeRect(min_x, min_y, width, height);\n",
       "}\n",
       "\n",
       "mpl.figure.prototype.handle_figure_label = function(fig, msg) {\n",
       "    // Updates the figure title.\n",
       "    fig.header.textContent = msg['label'];\n",
       "}\n",
       "\n",
       "mpl.figure.prototype.handle_cursor = function(fig, msg) {\n",
       "    var cursor = msg['cursor'];\n",
       "    switch(cursor)\n",
       "    {\n",
       "    case 0:\n",
       "        cursor = 'pointer';\n",
       "        break;\n",
       "    case 1:\n",
       "        cursor = 'default';\n",
       "        break;\n",
       "    case 2:\n",
       "        cursor = 'crosshair';\n",
       "        break;\n",
       "    case 3:\n",
       "        cursor = 'move';\n",
       "        break;\n",
       "    }\n",
       "    fig.rubberband_canvas.style.cursor = cursor;\n",
       "}\n",
       "\n",
       "mpl.figure.prototype.handle_message = function(fig, msg) {\n",
       "    fig.message.textContent = msg['message'];\n",
       "}\n",
       "\n",
       "mpl.figure.prototype.handle_draw = function(fig, msg) {\n",
       "    // Request the server to send over a new figure.\n",
       "    fig.send_draw_message();\n",
       "}\n",
       "\n",
       "mpl.figure.prototype.handle_image_mode = function(fig, msg) {\n",
       "    fig.image_mode = msg['mode'];\n",
       "}\n",
       "\n",
       "mpl.figure.prototype.updated_canvas_event = function() {\n",
       "    // Called whenever the canvas gets updated.\n",
       "    this.send_message(\"ack\", {});\n",
       "}\n",
       "\n",
       "// A function to construct a web socket function for onmessage handling.\n",
       "// Called in the figure constructor.\n",
       "mpl.figure.prototype._make_on_message_function = function(fig) {\n",
       "    return function socket_on_message(evt) {\n",
       "        if (evt.data instanceof Blob) {\n",
       "            /* FIXME: We get \"Resource interpreted as Image but\n",
       "             * transferred with MIME type text/plain:\" errors on\n",
       "             * Chrome.  But how to set the MIME type?  It doesn't seem\n",
       "             * to be part of the websocket stream */\n",
       "            evt.data.type = \"image/png\";\n",
       "\n",
       "            /* Free the memory for the previous frames */\n",
       "            if (fig.imageObj.src) {\n",
       "                (window.URL || window.webkitURL).revokeObjectURL(\n",
       "                    fig.imageObj.src);\n",
       "            }\n",
       "\n",
       "            fig.imageObj.src = (window.URL || window.webkitURL).createObjectURL(\n",
       "                evt.data);\n",
       "            fig.updated_canvas_event();\n",
       "            fig.waiting = false;\n",
       "            return;\n",
       "        }\n",
       "        else if (typeof evt.data === 'string' && evt.data.slice(0, 21) == \"data:image/png;base64\") {\n",
       "            fig.imageObj.src = evt.data;\n",
       "            fig.updated_canvas_event();\n",
       "            fig.waiting = false;\n",
       "            return;\n",
       "        }\n",
       "\n",
       "        var msg = JSON.parse(evt.data);\n",
       "        var msg_type = msg['type'];\n",
       "\n",
       "        // Call the  \"handle_{type}\" callback, which takes\n",
       "        // the figure and JSON message as its only arguments.\n",
       "        try {\n",
       "            var callback = fig[\"handle_\" + msg_type];\n",
       "        } catch (e) {\n",
       "            console.log(\"No handler for the '\" + msg_type + \"' message type: \", msg);\n",
       "            return;\n",
       "        }\n",
       "\n",
       "        if (callback) {\n",
       "            try {\n",
       "                // console.log(\"Handling '\" + msg_type + \"' message: \", msg);\n",
       "                callback(fig, msg);\n",
       "            } catch (e) {\n",
       "                console.log(\"Exception inside the 'handler_\" + msg_type + \"' callback:\", e, e.stack, msg);\n",
       "            }\n",
       "        }\n",
       "    };\n",
       "}\n",
       "\n",
       "// from http://stackoverflow.com/questions/1114465/getting-mouse-location-in-canvas\n",
       "mpl.findpos = function(e) {\n",
       "    //this section is from http://www.quirksmode.org/js/events_properties.html\n",
       "    var targ;\n",
       "    if (!e)\n",
       "        e = window.event;\n",
       "    if (e.target)\n",
       "        targ = e.target;\n",
       "    else if (e.srcElement)\n",
       "        targ = e.srcElement;\n",
       "    if (targ.nodeType == 3) // defeat Safari bug\n",
       "        targ = targ.parentNode;\n",
       "\n",
       "    // jQuery normalizes the pageX and pageY\n",
       "    // pageX,Y are the mouse positions relative to the document\n",
       "    // offset() returns the position of the element relative to the document\n",
       "    var x = e.pageX - $(targ).offset().left;\n",
       "    var y = e.pageY - $(targ).offset().top;\n",
       "\n",
       "    return {\"x\": x, \"y\": y};\n",
       "};\n",
       "\n",
       "/*\n",
       " * return a copy of an object with only non-object keys\n",
       " * we need this to avoid circular references\n",
       " * http://stackoverflow.com/a/24161582/3208463\n",
       " */\n",
       "function simpleKeys (original) {\n",
       "  return Object.keys(original).reduce(function (obj, key) {\n",
       "    if (typeof original[key] !== 'object')\n",
       "        obj[key] = original[key]\n",
       "    return obj;\n",
       "  }, {});\n",
       "}\n",
       "\n",
       "mpl.figure.prototype.mouse_event = function(event, name) {\n",
       "    var canvas_pos = mpl.findpos(event)\n",
       "\n",
       "    if (name === 'button_press')\n",
       "    {\n",
       "        this.canvas.focus();\n",
       "        this.canvas_div.focus();\n",
       "    }\n",
       "\n",
       "    var x = canvas_pos.x * mpl.ratio;\n",
       "    var y = canvas_pos.y * mpl.ratio;\n",
       "\n",
       "    this.send_message(name, {x: x, y: y, button: event.button,\n",
       "                             step: event.step,\n",
       "                             guiEvent: simpleKeys(event)});\n",
       "\n",
       "    /* This prevents the web browser from automatically changing to\n",
       "     * the text insertion cursor when the button is pressed.  We want\n",
       "     * to control all of the cursor setting manually through the\n",
       "     * 'cursor' event from matplotlib */\n",
       "    event.preventDefault();\n",
       "    return false;\n",
       "}\n",
       "\n",
       "mpl.figure.prototype._key_event_extra = function(event, name) {\n",
       "    // Handle any extra behaviour associated with a key event\n",
       "}\n",
       "\n",
       "mpl.figure.prototype.key_event = function(event, name) {\n",
       "\n",
       "    // Prevent repeat events\n",
       "    if (name == 'key_press')\n",
       "    {\n",
       "        if (event.which === this._key)\n",
       "            return;\n",
       "        else\n",
       "            this._key = event.which;\n",
       "    }\n",
       "    if (name == 'key_release')\n",
       "        this._key = null;\n",
       "\n",
       "    var value = '';\n",
       "    if (event.ctrlKey && event.which != 17)\n",
       "        value += \"ctrl+\";\n",
       "    if (event.altKey && event.which != 18)\n",
       "        value += \"alt+\";\n",
       "    if (event.shiftKey && event.which != 16)\n",
       "        value += \"shift+\";\n",
       "\n",
       "    value += 'k';\n",
       "    value += event.which.toString();\n",
       "\n",
       "    this._key_event_extra(event, name);\n",
       "\n",
       "    this.send_message(name, {key: value,\n",
       "                             guiEvent: simpleKeys(event)});\n",
       "    return false;\n",
       "}\n",
       "\n",
       "mpl.figure.prototype.toolbar_button_onclick = function(name) {\n",
       "    if (name == 'download') {\n",
       "        this.handle_save(this, null);\n",
       "    } else {\n",
       "        this.send_message(\"toolbar_button\", {name: name});\n",
       "    }\n",
       "};\n",
       "\n",
       "mpl.figure.prototype.toolbar_button_onmouseover = function(tooltip) {\n",
       "    this.message.textContent = tooltip;\n",
       "};\n",
       "mpl.toolbar_items = [[\"Home\", \"Reset original view\", \"fa fa-home icon-home\", \"home\"], [\"Back\", \"Back to  previous view\", \"fa fa-arrow-left icon-arrow-left\", \"back\"], [\"Forward\", \"Forward to next view\", \"fa fa-arrow-right icon-arrow-right\", \"forward\"], [\"\", \"\", \"\", \"\"], [\"Pan\", \"Pan axes with left mouse, zoom with right\", \"fa fa-arrows icon-move\", \"pan\"], [\"Zoom\", \"Zoom to rectangle\", \"fa fa-square-o icon-check-empty\", \"zoom\"], [\"\", \"\", \"\", \"\"], [\"Download\", \"Download plot\", \"fa fa-floppy-o icon-save\", \"download\"]];\n",
       "\n",
       "mpl.extensions = [\"eps\", \"jpeg\", \"pdf\", \"png\", \"ps\", \"raw\", \"svg\", \"tif\"];\n",
       "\n",
       "mpl.default_extension = \"png\";var comm_websocket_adapter = function(comm) {\n",
       "    // Create a \"websocket\"-like object which calls the given IPython comm\n",
       "    // object with the appropriate methods. Currently this is a non binary\n",
       "    // socket, so there is still some room for performance tuning.\n",
       "    var ws = {};\n",
       "\n",
       "    ws.close = function() {\n",
       "        comm.close()\n",
       "    };\n",
       "    ws.send = function(m) {\n",
       "        //console.log('sending', m);\n",
       "        comm.send(m);\n",
       "    };\n",
       "    // Register the callback with on_msg.\n",
       "    comm.on_msg(function(msg) {\n",
       "        //console.log('receiving', msg['content']['data'], msg);\n",
       "        // Pass the mpl event to the overridden (by mpl) onmessage function.\n",
       "        ws.onmessage(msg['content']['data'])\n",
       "    });\n",
       "    return ws;\n",
       "}\n",
       "\n",
       "mpl.mpl_figure_comm = function(comm, msg) {\n",
       "    // This is the function which gets called when the mpl process\n",
       "    // starts-up an IPython Comm through the \"matplotlib\" channel.\n",
       "\n",
       "    var id = msg.content.data.id;\n",
       "    // Get hold of the div created by the display call when the Comm\n",
       "    // socket was opened in Python.\n",
       "    var element = $(\"#\" + id);\n",
       "    var ws_proxy = comm_websocket_adapter(comm)\n",
       "\n",
       "    function ondownload(figure, format) {\n",
       "        window.open(figure.imageObj.src);\n",
       "    }\n",
       "\n",
       "    var fig = new mpl.figure(id, ws_proxy,\n",
       "                           ondownload,\n",
       "                           element.get(0));\n",
       "\n",
       "    // Call onopen now - mpl needs it, as it is assuming we've passed it a real\n",
       "    // web socket which is closed, not our websocket->open comm proxy.\n",
       "    ws_proxy.onopen();\n",
       "\n",
       "    fig.parent_element = element.get(0);\n",
       "    fig.cell_info = mpl.find_output_cell(\"<div id='\" + id + \"'></div>\");\n",
       "    if (!fig.cell_info) {\n",
       "        console.error(\"Failed to find cell for figure\", id, fig);\n",
       "        return;\n",
       "    }\n",
       "\n",
       "    var output_index = fig.cell_info[2]\n",
       "    var cell = fig.cell_info[0];\n",
       "\n",
       "};\n",
       "\n",
       "mpl.figure.prototype.handle_close = function(fig, msg) {\n",
       "    var width = fig.canvas.width/mpl.ratio\n",
       "    fig.root.unbind('remove')\n",
       "\n",
       "    // Update the output cell to use the data from the current canvas.\n",
       "    fig.push_to_output();\n",
       "    var dataURL = fig.canvas.toDataURL();\n",
       "    // Re-enable the keyboard manager in IPython - without this line, in FF,\n",
       "    // the notebook keyboard shortcuts fail.\n",
       "    IPython.keyboard_manager.enable()\n",
       "    $(fig.parent_element).html('<img src=\"' + dataURL + '\" width=\"' + width + '\">');\n",
       "    fig.close_ws(fig, msg);\n",
       "}\n",
       "\n",
       "mpl.figure.prototype.close_ws = function(fig, msg){\n",
       "    fig.send_message('closing', msg);\n",
       "    // fig.ws.close()\n",
       "}\n",
       "\n",
       "mpl.figure.prototype.push_to_output = function(remove_interactive) {\n",
       "    // Turn the data on the canvas into data in the output cell.\n",
       "    var width = this.canvas.width/mpl.ratio\n",
       "    var dataURL = this.canvas.toDataURL();\n",
       "    this.cell_info[1]['text/html'] = '<img src=\"' + dataURL + '\" width=\"' + width + '\">';\n",
       "}\n",
       "\n",
       "mpl.figure.prototype.updated_canvas_event = function() {\n",
       "    // Tell IPython that the notebook contents must change.\n",
       "    IPython.notebook.set_dirty(true);\n",
       "    this.send_message(\"ack\", {});\n",
       "    var fig = this;\n",
       "    // Wait a second, then push the new image to the DOM so\n",
       "    // that it is saved nicely (might be nice to debounce this).\n",
       "    setTimeout(function () { fig.push_to_output() }, 1000);\n",
       "}\n",
       "\n",
       "mpl.figure.prototype._init_toolbar = function() {\n",
       "    var fig = this;\n",
       "\n",
       "    var nav_element = $('<div/>')\n",
       "    nav_element.attr('style', 'width: 100%');\n",
       "    this.root.append(nav_element);\n",
       "\n",
       "    // Define a callback function for later on.\n",
       "    function toolbar_event(event) {\n",
       "        return fig.toolbar_button_onclick(event['data']);\n",
       "    }\n",
       "    function toolbar_mouse_event(event) {\n",
       "        return fig.toolbar_button_onmouseover(event['data']);\n",
       "    }\n",
       "\n",
       "    for(var toolbar_ind in mpl.toolbar_items){\n",
       "        var name = mpl.toolbar_items[toolbar_ind][0];\n",
       "        var tooltip = mpl.toolbar_items[toolbar_ind][1];\n",
       "        var image = mpl.toolbar_items[toolbar_ind][2];\n",
       "        var method_name = mpl.toolbar_items[toolbar_ind][3];\n",
       "\n",
       "        if (!name) { continue; };\n",
       "\n",
       "        var button = $('<button class=\"btn btn-default\" href=\"#\" title=\"' + name + '\"><i class=\"fa ' + image + ' fa-lg\"></i></button>');\n",
       "        button.click(method_name, toolbar_event);\n",
       "        button.mouseover(tooltip, toolbar_mouse_event);\n",
       "        nav_element.append(button);\n",
       "    }\n",
       "\n",
       "    // Add the status bar.\n",
       "    var status_bar = $('<span class=\"mpl-message\" style=\"text-align:right; float: right;\"/>');\n",
       "    nav_element.append(status_bar);\n",
       "    this.message = status_bar[0];\n",
       "\n",
       "    // Add the close button to the window.\n",
       "    var buttongrp = $('<div class=\"btn-group inline pull-right\"></div>');\n",
       "    var button = $('<button class=\"btn btn-mini btn-primary\" href=\"#\" title=\"Stop Interaction\"><i class=\"fa fa-power-off icon-remove icon-large\"></i></button>');\n",
       "    button.click(function (evt) { fig.handle_close(fig, {}); } );\n",
       "    button.mouseover('Stop Interaction', toolbar_mouse_event);\n",
       "    buttongrp.append(button);\n",
       "    var titlebar = this.root.find($('.ui-dialog-titlebar'));\n",
       "    titlebar.prepend(buttongrp);\n",
       "}\n",
       "\n",
       "mpl.figure.prototype._root_extra_style = function(el){\n",
       "    var fig = this\n",
       "    el.on(\"remove\", function(){\n",
       "\tfig.close_ws(fig, {});\n",
       "    });\n",
       "}\n",
       "\n",
       "mpl.figure.prototype._canvas_extra_style = function(el){\n",
       "    // this is important to make the div 'focusable\n",
       "    el.attr('tabindex', 0)\n",
       "    // reach out to IPython and tell the keyboard manager to turn it's self\n",
       "    // off when our div gets focus\n",
       "\n",
       "    // location in version 3\n",
       "    if (IPython.notebook.keyboard_manager) {\n",
       "        IPython.notebook.keyboard_manager.register_events(el);\n",
       "    }\n",
       "    else {\n",
       "        // location in version 2\n",
       "        IPython.keyboard_manager.register_events(el);\n",
       "    }\n",
       "\n",
       "}\n",
       "\n",
       "mpl.figure.prototype._key_event_extra = function(event, name) {\n",
       "    var manager = IPython.notebook.keyboard_manager;\n",
       "    if (!manager)\n",
       "        manager = IPython.keyboard_manager;\n",
       "\n",
       "    // Check for shift+enter\n",
       "    if (event.shiftKey && event.which == 13) {\n",
       "        this.canvas_div.blur();\n",
       "        event.shiftKey = false;\n",
       "        // Send a \"J\" for go to next cell\n",
       "        event.which = 74;\n",
       "        event.keyCode = 74;\n",
       "        manager.command_mode();\n",
       "        manager.handle_keydown(event);\n",
       "    }\n",
       "}\n",
       "\n",
       "mpl.figure.prototype.handle_save = function(fig, msg) {\n",
       "    fig.ondownload(fig, null);\n",
       "}\n",
       "\n",
       "\n",
       "mpl.find_output_cell = function(html_output) {\n",
       "    // Return the cell and output element which can be found *uniquely* in the notebook.\n",
       "    // Note - this is a bit hacky, but it is done because the \"notebook_saving.Notebook\"\n",
       "    // IPython event is triggered only after the cells have been serialised, which for\n",
       "    // our purposes (turning an active figure into a static one), is too late.\n",
       "    var cells = IPython.notebook.get_cells();\n",
       "    var ncells = cells.length;\n",
       "    for (var i=0; i<ncells; i++) {\n",
       "        var cell = cells[i];\n",
       "        if (cell.cell_type === 'code'){\n",
       "            for (var j=0; j<cell.output_area.outputs.length; j++) {\n",
       "                var data = cell.output_area.outputs[j];\n",
       "                if (data.data) {\n",
       "                    // IPython >= 3 moved mimebundle to data attribute of output\n",
       "                    data = data.data;\n",
       "                }\n",
       "                if (data['text/html'] == html_output) {\n",
       "                    return [cell, data, j];\n",
       "                }\n",
       "            }\n",
       "        }\n",
       "    }\n",
       "}\n",
       "\n",
       "// Register the function which deals with the matplotlib target/channel.\n",
       "// The kernel may be null if the page has been refreshed.\n",
       "if (IPython.notebook.kernel != null) {\n",
       "    IPython.notebook.kernel.comm_manager.register_target('matplotlib', mpl.mpl_figure_comm);\n",
       "}\n"
      ],
      "text/plain": [
       "<IPython.core.display.Javascript object>"
      ]
     },
     "metadata": {},
     "output_type": "display_data"
    },
    {
     "data": {
      "text/html": [
       "<img src=\"data:image/png;base64,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\" width=\"900\">"
      ],
      "text/plain": [
       "<IPython.core.display.HTML object>"
      ]
     },
     "metadata": {},
     "output_type": "display_data"
    },
    {
     "data": {
      "application/vnd.jupyter.widget-view+json": {
       "model_id": "b1255a070a8240e599b675a9e8d353e5",
       "version_major": 2,
       "version_minor": 0
      },
      "text/plain": [
       "Button(description='Update', style=ButtonStyle())"
      ]
     },
     "metadata": {},
     "output_type": "display_data"
    },
    {
     "data": {
      "application/vnd.jupyter.widget-view+json": {
       "model_id": "5bb7fdd41d6941bc918df4714f937512",
       "version_major": 2,
       "version_minor": 0
      },
      "text/plain": [
       "IntText(value=30, description='Epoch history')"
      ]
     },
     "metadata": {},
     "output_type": "display_data"
    }
   ],
   "source": [
    "matplotlib.rcParams.update({'font.size': 22})\n",
    "fig3 = plt.figure(figsize = (9,6))\n",
    "ax3 = fig3.subplots()\n",
    "#matplotlib.pyplot.ion()\n",
    "\n",
    "\n",
    "button = widgets.Button(description=\"Update\")\n",
    "show_epochs = widgets.IntText(description='Epoch history',disabled=False)\n",
    "show_epochs.value = 30\n",
    "\n",
    "def on_button_clicked(b):\n",
    "    with open('../loss.log') as f:\n",
    "        content = f.readlines()\n",
    "    content = [float(x.strip()) for x in content]\n",
    "    xmin = 0\n",
    "    xmax = len(content)\n",
    "    if xmax > show_epochs.value:\n",
    "        xmin = xmax-show_epochs.value\n",
    "        content = content[xmin:xmax]\n",
    "    ymin = np.min(content)\n",
    "    ymax = np.max(content)\n",
    "    x_axis = np.linspace(xmin, xmax-1, num=xmax-xmin)\n",
    "\n",
    "    #matplotlib.pyplot.gcf().clear()\n",
    "    ax3.clear()\n",
    "    ax3.set_xlim(xmin, xmax)\n",
    "    yaxismin = ymin - (ymax-ymin)/3\n",
    "    if yaxismin < 0:\n",
    "        yaxismin = 0\n",
    "    ax3.set_ylim(ymin - (ymax-ymin)/3, ymax)\n",
    "    ax3.plot(x_axis, content, linewidth=5.0)\n",
    "    ax3.xaxis.set_major_locator(matplotlib.ticker.MaxNLocator(integer=True))\n",
    "    ax3.grid(linestyle='-', linewidth='0.5', color='red')\n",
    "    fig3.canvas.draw()\n",
    "\n",
    "    \n",
    "on_button_clicked(None)\n",
    "fig3.show()\n",
    "\n",
    "display(button)\n",
    "display(show_epochs)\n",
    "\n",
    "button.on_click(on_button_clicked)\n",
    "show_epochs.observe(on_button_clicked)"
   ]
  },
  {
   "cell_type": "code",
   "execution_count": 5,
   "metadata": {},
   "outputs": [
    {
     "data": {
      "text/markdown": [
       "## Latest model is: ../weights/model_0.pth"
      ],
      "text/plain": [
       "<IPython.core.display.Markdown object>"
      ]
     },
     "metadata": {},
     "output_type": "display_data"
    }
   ],
   "source": [
    "class args():\n",
    "    num_classes = 1\n",
    "    batch_size = 1\n",
    "    routing = 'EM_routing'\n",
    "    loss = 'spread_loss̈́'\n",
    "    use_recon = 0.001\n",
    "    r = 9\n",
    "    num_workers = 1\n",
    "    disable_encoder = False\n",
    "    disable_recon = False\n",
    "    disable_dae = False\n",
    "\n",
    "A, AA, B, C, D, E, r = 128, 128, 40, 40, 40, args.num_classes, args.r # a small CapsNet\n",
    "\n",
    "model = mcaps.CapsNet(args, A, AA, B, C, D, E, r, h=4)\n",
    "\n",
    "LatestFile = max(glob.iglob(\"../weights/model*.pth\"),key=os.path.getctime)\n",
    "\n",
    "display(Markdown('## Latest model is: '+LatestFile))\n",
    "\n",
    "model.load_state_dict(torch.load(LatestFile))\n",
    "model.cpu()\n",
    "\n",
    "self = model"
   ]
  },
  {
   "cell_type": "markdown",
   "metadata": {},
   "source": [
    "## Ground Truth"
   ]
  },
  {
   "cell_type": "code",
   "execution_count": 6,
   "metadata": {
    "scrolled": false
   },
   "outputs": [
    {
     "data": {
      "application/vnd.jupyter.widget-view+json": {
       "model_id": "4840d40884c24ff5903e6eafd4930794",
       "version_major": 2,
       "version_minor": 0
      },
      "text/plain": [
       "HBox(children=(Output(layout=Layout(border='1px solid black', width='100%')), Output(layout=Layout(border='1px…"
      ]
     },
     "metadata": {},
     "output_type": "display_data"
    },
    {
     "data": {
      "application/vnd.jupyter.widget-view+json": {
       "model_id": "670121c822574682acad8aaf8b0315b3",
       "version_major": 2,
       "version_minor": 0
      },
      "text/plain": [
       "VBox(children=(HBox(children=(FloatText(value=1.0, description='Contrast', layout=Layout(width='100%'), step=0…"
      ]
     },
     "metadata": {},
     "output_type": "display_data"
    }
   ],
   "source": [
    "def updateOutputWidget(widget, array, color=\"L\"):\n",
    "    f = BytesIO()\n",
    "    PIL.Image.fromarray(np.uint8(array*255), mode=color).convert(color).save(f, 'png')\n",
    "    widget.clear_output()\n",
    "    with widget:\n",
    "        display(Image(data=f.getvalue(), width='100%'))\n",
    "\n",
    "ground_truth_widget_left = widgets.Output(layout=Layout(border='1px solid black', width='100%'))\n",
    "ground_truth_widget_right = widgets.Output(layout=Layout(border='1px solid black', width='100%'))\n",
    "ground_truth_widget = HBox([ground_truth_widget_left, ground_truth_widget_right], layout=Layout(width='100%'))\n",
    "\n",
    "contrast_left = widgets.FloatText(layout={'width': '100%'},description='Contrast',disabled=False, value=1, step=0.01)\n",
    "contrast_right = widgets.FloatText(layout={'width': '100%'},description='Contrast',disabled=False, value=1, step=0.01)\n",
    "brightness_left = widgets.FloatText(layout={'width': '100%'},description='Brightness',disabled=False, value=0, step=0.01)\n",
    "brightness_right = widgets.FloatText(layout={'width': '100%'},description='Brightness',disabled=False, value=0, step=0.01)\n",
    "brightness_contrast_widget = VBox([  HBox([contrast_left, contrast_right],layout=Layout(width='100%')) ,  HBox([brightness_left, brightness_right],layout=Layout(width='100%')) ] )\n",
    "\n",
    "display(ground_truth_widget)\n",
    "display(brightness_contrast_widget)"
   ]
  },
  {
   "cell_type": "markdown",
   "metadata": {},
   "source": [
    "## Activations of convolutional layers and primary capsules layer"
   ]
  },
  {
   "cell_type": "code",
   "execution_count": 7,
   "metadata": {
    "scrolled": false
   },
   "outputs": [
    {
     "data": {
      "application/vnd.jupyter.widget-view+json": {
       "model_id": "00d13915f6454cbab3df7f443cd89095",
       "version_major": 2,
       "version_minor": 0
      },
      "text/plain": [
       "VBox(children=(Output(layout=Layout(width='100%')), Output(layout=Layout(width='100%')), HBox(children=(Output…"
      ]
     },
     "metadata": {},
     "output_type": "display_data"
    }
   ],
   "source": [
    "layer1_widget = widgets.Output(layout=Layout(width='100%'))\n",
    "layer2_widget = widgets.Output(layout=Layout(width='100%'))\n",
    "layer3_widget = widgets.Output(layout=Layout(width='100%'))\n",
    "layer4_widget = widgets.Output(layout=Layout(width='100%'))\n",
    "layer5_widget = widgets.Output(layout=Layout(width='100%'))\n",
    "layer6_widget = widgets.Output(layout=Layout(width='100%'))\n",
    "#layer12_widget = HBox([layer1_widget, layer2_widget], layout=Layout(width='100%'))\n",
    "l345_widget = HBox([layer3_widget, layer4_widget, layer5_widget, layer6_widget])\n",
    "layer_widget = VBox([layer1_widget, layer2_widget, l345_widget], layout=Layout(width='100%'))\n",
    "display(layer_widget)\n",
    "\n",
    "\n",
    "\n",
    "def makeCombinedImage(img, scale=1):\n",
    "    if scale != 1:\n",
    "        img = torch.nn.functional.interpolate(img, scale_factor=scale, mode='nearest')\n",
    "    img = img.squeeze().unsqueeze(1)\n",
    "    return utils.make_grid(img.data, nrow=int(img.shape[0] ** 0.5), normalize=True,range=(0, 1)).cpu().numpy()\n",
    "    \n",
    "def forward(self, x, lambda_, labels=None, draw=True):\n",
    "    if x is not None:\n",
    "        x = F.relu(self.bn1(self.conv1(x)))\n",
    "\n",
    "        if draw is True:\n",
    "            grid_picture = makeCombinedImage(x, scale=4)\n",
    "            updateOutputWidget(layer1_widget, grid_picture.transpose(1,2,0), \"RGB\")\n",
    "\n",
    "        x = F.max_pool2d(x, 2, 2)\n",
    "        x = F.relu(self.bn2(self.conv2(x)))\n",
    "        \n",
    "        if draw is True:\n",
    "            grid_picture = makeCombinedImage(x, scale=8)\n",
    "            updateOutputWidget(layer2_widget, grid_picture.transpose(1,2,0), \"RGB\")\n",
    "        \n",
    "        \n",
    "        # Combine left and right\n",
    "        left = x[:,:,:,:int(x.shape[-1]/2)]\n",
    "        right = x[:,:,:,int(x.shape[-1]/2):]\n",
    "        x = torch.stack([left,right], dim=1).view(x.shape[0],-1,x.shape[2],x.shape[2])\n",
    "        \n",
    "        \n",
    "        #x = F.relu(self.bn3(self.conv3(x)))\n",
    "        #if draw is True:\n",
    "        #    grid_picture = makeCombinedImage(x)\n",
    "        #    updateOutputWidget(layer3_widget, grid_picture.transpose(1,2,0), \"RGB\")\n",
    "        \n",
    "        p, a = self.primary_caps(x)  # b,32*(4*4+1),12,12\n",
    "\n",
    "        if draw is True:\n",
    "            grid_picture = makeCombinedImage(a, scale=16)\n",
    "            updateOutputWidget(layer3_widget, grid_picture.transpose(1,2,0), \"RGB\")\n",
    "            \n",
    "        p, a = self.convcaps1(lambda_, p, a)  # b,32*(4*4+1),5,5\n",
    "\n",
    "        if draw is True:\n",
    "            grid_picture = makeCombinedImage(a, scale=16)\n",
    "            updateOutputWidget(layer4_widget, grid_picture.transpose(1,2,0), \"RGB\")\n",
    "\n",
    "        p, a = self.convcaps2(lambda_, p, a)  # b,32*(4*4+1),3,3\n",
    "\n",
    "        if draw is True:\n",
    "            grid_picture = makeCombinedImage(a, scale=16)\n",
    "            updateOutputWidget(layer5_widget, grid_picture.transpose(1,2,0), \"RGB\")\n",
    "\n",
    "        p, a = self.convcaps3(lambda_, p, a)  # b,32*(4*4+1),3,3\n",
    "\n",
    "        if draw is True:\n",
    "            grid_picture = makeCombinedImage(a, scale=16)\n",
    "            updateOutputWidget(layer6_widget, grid_picture.transpose(1,2,0), \"RGB\")\n",
    "            \n",
    "        p, a = self.classcaps(lambda_, p, a)  # b,10*16+10\n",
    "\n",
    "        \n",
    "        \"\"\" Find pose with largest activation \"\"\"\n",
    "        \"\"\"\n",
    "        dist = torch.arange(float(3)) / 3\n",
    "        a_tmp = a.view(a.shape[0],-1)\n",
    "        p_tmp = p.view(p.shape[0],-1,p.shape[-1])\n",
    "        _, i = torch.max(a_tmp, 1)\n",
    "        new_a = []\n",
    "        new_p = []\n",
    "        coords = []\n",
    "        for counter, j in enumerate(i):\n",
    "            new_a.append(a_tmp[counter, j])\n",
    "            new_p.append(p_tmp[counter, j, :])\n",
    "\n",
    "            w_x=j%3\n",
    "            w_y=j/3\n",
    "            xyz = p_tmp[counter, j, :][(3,7,11),]\n",
    "            xyz[0] += dist[w_x]\n",
    "            xyz[1] += dist[w_y]\n",
    "            xyz = torch.cat([xyz, torch.FloatTensor([w_x, w_y])], dim=0)\n",
    "            coords.append(xyz)\n",
    "            #p[:, (3,7,11)] = xyz * 1.0\n",
    "\n",
    "        a = torch.stack(new_a, dim=0)\n",
    "        p = torch.stack(new_p, dim=0)\n",
    "\n",
    "        coords = torch.stack(coords, dim=0)\n",
    "        coords = self.coord_add_encoder(coords)\n",
    "        \"\"\"\n",
    "        \n",
    "        p = p.squeeze()\n",
    "        \n",
    "        # Temporary when batch size = 1\n",
    "        if len(p.shape) == 1:\n",
    "            p = p.unsqueeze(0)\n",
    "       \n",
    "        xyz = p[:, (3,7,11)]\n",
    "        xyz = self.coord_add_encoder(xyz)\n",
    "        p[:, (3,7,11)] = xyz * 1.0\n",
    "    else:\n",
    "        p = labels\n",
    "\n",
    "    if not self.args.disable_recon:\n",
    "        reconstructions = self.decoder(p)\n",
    "    else:\n",
    "        reconstructions = 0\n",
    "\n",
    "    return p, reconstructions"
   ]
  },
  {
   "cell_type": "markdown",
   "metadata": {},
   "source": [
    "## 4x4 pose output"
   ]
  },
  {
   "cell_type": "code",
   "execution_count": 8,
   "metadata": {
    "scrolled": false
   },
   "outputs": [
    {
     "data": {
      "application/vnd.jupyter.widget-view+json": {
       "model_id": "cb230202f0b34de999a8a733cbd37b6d",
       "version_major": 2,
       "version_minor": 0
      },
      "text/plain": [
       "HBox(children=(VBox(children=(HBox(children=(Output(layout=Layout(width='100%')), Output(layout=Layout(width='…"
      ]
     },
     "metadata": {},
     "output_type": "display_data"
    },
    {
     "data": {
      "application/vnd.jupyter.widget-view+json": {
       "model_id": "51bdcdab0aa740239bee76bb29db1402",
       "version_major": 2,
       "version_minor": 0
      },
      "text/plain": [
       "HBox(children=(Label(value='Output', layout=Layout(width='100%')), Label(value='Label', layout=Layout(width='1…"
      ]
     },
     "metadata": {},
     "output_type": "display_data"
    },
    {
     "data": {
      "application/vnd.jupyter.widget-view+json": {
       "model_id": "9f80f8b0c12c45218b9ea49529f7de15",
       "version_major": 2,
       "version_minor": 0
      },
      "text/plain": [
       "HBox(children=(Textarea(value='', layout=Layout(height='90px', width='100%')), Textarea(value='', layout=Layou…"
      ]
     },
     "metadata": {},
     "output_type": "display_data"
    }
   ],
   "source": [
    "truth_widget_left = widgets.Output(layout=Layout(width='100%'))\n",
    "truth_widget_right = widgets.Output(layout=Layout(width='100%'))\n",
    "recon_widget_left = widgets.Output(layout=Layout(width='100%'))\n",
    "recon_widget_right = widgets.Output(layout=Layout(width='100%'))\n",
    "truth_widget = HBox([truth_widget_left, truth_widget_right], layout=Layout(width='100%'))\n",
    "recon_widget = HBox([recon_widget_left, recon_widget_right], layout=Layout(width='100%'))\n",
    "step_widget = VBox([truth_widget, recon_widget], layout=Layout(width='100%'))\n",
    "names = ['p0', 'p1', 'p2', 'p3', 'p4', 'p5', 'p6', 'p7', 'p8', 'p9', 'p10', 'p11', 'p12', 'p13', 'p14', 'p15']\n",
    "pose_sliders = [FloatSlider(min=-100, max=100, layout={'height': '50%'}, step=0.00001, description=i, orientation='horizontal') for i in names]\n",
    "button_next = widgets.Button(description=\"Next\", layout={'height': '50%'})\n",
    "pose_sliders.append(button_next)\n",
    "sliders_widget = VBox(pose_sliders, layout=Layout(width='60%'))\n",
    "step_slider_widget = HBox([step_widget, sliders_widget],layout=Layout(width='100%'))\n",
    "pose_output = widgets.Textarea(layout={'width': '100%','height': '90px'},disabled=False)\n",
    "pose_label = widgets.Textarea(layout={'width': '100%','height': '90px'},disabled=False)\n",
    "pose_error = widgets.Textarea(layout={'width': '100%','height': '90px'},disabled=False)\n",
    "\n",
    "\n",
    "label_widget = HBox([widgets.Label(layout={'width': '100%'},value=\"Output\"), widgets.Label(layout={'width': '100%'},value=\"Label\"), widgets.Label(layout={'width': '100%'},value=\"Error\")])\n",
    "pose_widget = HBox([pose_output, pose_label, pose_error])\n",
    "\n",
    "the_time = time.time()\n",
    "do_update = True\n",
    "\n",
    "display(step_slider_widget)\n",
    "display(label_widget)\n",
    "display(pose_widget)\n",
    "#display(pose_output)\n",
    "#display(pose_label)\n",
    "#display(pose_error)\n",
    "\n",
    "# Initialize Transform Network (from Pose to Quaternion)\n",
    "\"\"\"\n",
    "import sys\n",
    "import pyrr\n",
    "sys.path.append('../PoseToQuaternionNetwork/model')\n",
    "from transform import PoseToQuatNet\n",
    "transform = PoseToQuatNet()\n",
    "transform.load_state_dict(torch.load('../PoseToQuaternionNetwork/weights/model.pth'))\n",
    "transform.cpu()\n",
    "\"\"\"\n",
    "\n",
    "# Initialize view and projection for coord system rendering\n",
    "w_width, w_height = 800, 800\n",
    "focus_distance = 1.9\n",
    "view = pyrr.matrix44.create_from_translation(pyrr.Vector3([0.0, 0.0, -focus_distance])).transpose()\n",
    "projection = pyrr.matrix44.create_perspective_projection_matrix(65.0, w_width / w_height, 0.1, 100.0).transpose()\n",
    "\"\"\"\n",
    "def plotPoint(pnt, color_idx, img_left, img_right):\n",
    "    model_view = pyrr.matrix44.multiply(view, pnt)\n",
    "    model_projection = pyrr.matrix44.multiply(projection, model_view)\n",
    "    scaling = model_projection[3]\n",
    "    pix_x = img_left.shape[0]/2 + (model_projection[0]/scaling) * img_left.shape[0]/2\n",
    "    if pix_x >= img_left.shape[0]: pix_x = img_left.shape[0]-1\n",
    "    if pix_x < 0: pix_x = 0\n",
    "    pix_y = img_left.shape[1]/2 - (model_projection[1]/scaling) * img_left.shape[1]/2\n",
    "    if pix_y >= img_left.shape[1]: pix_y = img_left.shape[1]-1\n",
    "    if pix_y < 0: pix_y = 0\n",
    "    img_left[int(pix_y),int(pix_x),color_idx] = 1.0\n",
    "    img_right[int(pix_y),int(pix_x),color_idx] = 1.0\n",
    "\"\"\"\n",
    "def plotPoint(pnt, color_idx, img):\n",
    "    model_view = pyrr.matrix44.multiply(view, pnt)\n",
    "    model_projection = pyrr.matrix44.multiply(projection, model_view)\n",
    "    scaling = model_projection[3]\n",
    "    pix_x = img.shape[1]/2 + (model_projection[0]/scaling) * img.shape[1]/2\n",
    "    if pix_x >= img.shape[1]: pix_x = img.shape[1]-1\n",
    "    if pix_x < 0: pix_x = 0\n",
    "    pix_y = img.shape[0]/2 - (model_projection[1]/scaling) * img.shape[0]/2\n",
    "    if pix_y >= img.shape[0]: pix_y = img.shape[0]-1\n",
    "    if pix_y < 0: pix_y = 0\n",
    "    img[int(pix_y),int(pix_x),color_idx] = 1.0\n",
    "    \n",
    "eye_distance = 0.5\n",
    "focus_distance = 1.9\n",
    "eye_angle = eye_distance/focus_distance\n",
    "right_eye_transform = pyrr.Matrix44.from_y_rotation(-eye_angle/2)\n",
    "left_eye_transform = pyrr.Matrix44.from_y_rotation(eye_angle/2)\n",
    "    \n",
    "def plotCoordSystemAxis(pose44, axis_idx, img):\n",
    "    pnt = pyrr.vector4.create(0.0, 0.0, 0.0, 1.0)\n",
    "    for i in range(50):\n",
    "        pnt[axis_idx] = i*0.01\n",
    "        point = pyrr.matrix44.multiply(pyrr.Matrix44(pose44), pnt) #.transpose()\n",
    "        plotPoint(point, axis_idx, img)\n",
    "\n",
    "pose = 0\n",
    "lambda_ = torch.tensor([1.0])\n",
    "\n",
    "def on_value_change(change):\n",
    "    global the_time\n",
    "    global do_update\n",
    "    global pose\n",
    "    global ground_truth_labels\n",
    "    global imgs\n",
    "    global imgs_ref\n",
    "    global right_eye_transform\n",
    "    global left_eye_transform\n",
    "\n",
    "    if not do_update and change is not None:\n",
    "        return\n",
    "\n",
    "    if (time.time()-the_time) < 0.2:\n",
    "        return\n",
    "    the_time = time.time()\n",
    "    \n",
    "    for i in range(len(pose_sliders)-1):\n",
    "        pose[:,i] = pose_sliders[i].value\n",
    "    \n",
    "    p, reconstruction = forward(self, None, None, labels=pose)\n",
    "\n",
    "    #imgs_sliced = imgs[:,[0,3],...]\n",
    "    reconstruction = reconstruction.view_as(imgs_ref)\n",
    "\n",
    "    recon_left = reconstruction.data[:,0,:,:].squeeze().cpu().numpy()\n",
    "    recon_right = reconstruction.data[:,1,:,:].squeeze().cpu().numpy()\n",
    "\n",
    "    #vec7 = transform.forward(pose)\n",
    "    #quat = reff[0,3:]\n",
    "    #mat44 = pyrr.Matrix44.from_quaternion(quat)\n",
    "    #mat44[3,:][0:3] = reff[0,:3]\n",
    "    #print(mat44)\n",
    "    #kaj = mat44.reshape(-1)\n",
    "    #print(kaj)\n",
    "    #print(kaj.shape)\n",
    "    \n",
    "    mat44 = util.matAffine_from_matMinRep(pose.data)\n",
    "\n",
    "    recon_left = np.concatenate((recon_left[:,:,None],recon_left[:,:,None],recon_left[:,:,None]), axis=2)\n",
    "    recon_right = np.concatenate((recon_right[:,:,None],recon_right[:,:,None],recon_right[:,:,None]), axis=2)\n",
    "\n",
    "    pose_left = pyrr.Matrix44(mat44)*left_eye_transform\n",
    "    plotCoordSystemAxis(pose_left, 0, recon_left)\n",
    "    plotCoordSystemAxis(pose_left, 1, recon_left)\n",
    "    plotCoordSystemAxis(pose_left, 2, recon_left)\n",
    "\n",
    "    pose_right = pyrr.Matrix44(mat44)*right_eye_transform\n",
    "    plotCoordSystemAxis(pose_right, 0, recon_right)\n",
    "    plotCoordSystemAxis(pose_right, 1, recon_right)\n",
    "    plotCoordSystemAxis(pose_right, 2, recon_right)\n",
    "    \n",
    "    updateOutputWidget(recon_widget_left, recon_left, \"RGB\")\n",
    "    updateOutputWidget(recon_widget_right, recon_right, \"RGB\")\n",
    "\n",
    "def showDataImage(next_data, steps=0):\n",
    "    global ground_truth_labels\n",
    "    global imgs\n",
    "    global imgs_ref\n",
    "    global do_update\n",
    "    global ground_truth_widget\n",
    "    global pose\n",
    "    do_update = False\n",
    "    \n",
    "    \"\"\"\n",
    "    Prepare input\n",
    "    \"\"\"\n",
    "    imgs = next_data[0]\n",
    "    left = imgs[:,[0,2],:,:int(imgs.shape[-1]/2)]\n",
    "    right = imgs[:,[0,2],:,int(imgs.shape[-1]/2):]\n",
    "    imgs = torch.stack([left[:,:,:,2:97],right[:,:,:,2:97]], dim=3).view(imgs.shape[0],2,100, 190)\n",
    "    imgs_ref = torch.stack([left[:,0,:,2:97],right[:,1,:,2:97]], dim=1)\n",
    "\n",
    "    #image = util.split_in_channels(next_data[0])\n",
    "    \n",
    "    ground_truth_labels = next_data[1]\n",
    "    imgs = Variable(imgs).cpu()\n",
    "    pose, reco = forward(self, imgs, lambda_, draw=True)\n",
    "\n",
    "    # Print matrices in textareas\n",
    "    m_l = util.matMinRep_from_qvec(ground_truth_labels.float())\n",
    "    m_l = util.matAffine_from_matMinRep(m_l)\n",
    "    m_o = util.matAffine_from_matMinRep(pose.data.cpu())\n",
    "    pose_label.value = util.matrixString_from_matAffine(m_l)\n",
    "    pose_output.value = util.matrixString_from_matAffine(m_o)\n",
    "    pose_error.value = util.matrixString_from_matAffine(m_o - m_l)\n",
    "\n",
    "    #pose_transformed = transform.forward(pose)\n",
    "    #pose_label.value = str(ground_truth_labels.float().numpy()[0,:])\n",
    "    #pose_output.value = str(transform.forward(p).data.cpu().numpy()[0,:])\n",
    "\n",
    "    img_conv_left = util.applyBrightnessAndContrast(imgs_ref[0,0,:,:].squeeze().numpy(), brightness_left.value, contrast_left.value)\n",
    "    img_conv_right = util.applyBrightnessAndContrast(imgs_ref[0,1,:,:].squeeze().numpy(), brightness_right.value, contrast_right.value)\n",
    "        \n",
    "    updateOutputWidget(ground_truth_widget_left, img_conv_left)\n",
    "    updateOutputWidget(ground_truth_widget_right, img_conv_right)\n",
    "\n",
    "    #torch.Size([1, 3, 100, 200])\n",
    "    \n",
    "    # Plot coordinate systems on \"truth\" images\n",
    "    mat44 = util.matAffine_from_matMinRep(pose.data)\n",
    "    #truth_left = imgs_ref[0,0,:,:].squeeze().numpy()\n",
    "    #truth_left = np.concatenate((truth_left[:,:,None],truth_left[:,:,None],truth_left[:,:,None]), axis=2)\n",
    "    truth_left = np.concatenate((next_data[0][0,0,:,2:97,None],next_data[0][0,1,:,2:97,None],next_data[0][0,2,:,2:97,None]), axis=2)\n",
    "    pose_left = pyrr.Matrix44(mat44)*left_eye_transform\n",
    "    plotCoordSystemAxis(pose_left, 0, truth_left)\n",
    "    plotCoordSystemAxis(pose_left, 1, truth_left)\n",
    "    plotCoordSystemAxis(pose_left, 2, truth_left)\n",
    "    #truth_right = imgs_ref[0,1,:,:].squeeze().numpy()\n",
    "    #truth_right = np.concatenate((truth_right[:,:,None],truth_right[:,:,None],truth_right[:,:,None]), axis=2)\n",
    "    truth_right = np.concatenate((next_data[0][0,0,:,102:197,None],next_data[0][0,1,:,102:197,None],next_data[0][0,2,:,102:197,None]), axis=2)\n",
    "    pose_right = pyrr.Matrix44(mat44)*right_eye_transform\n",
    "    plotCoordSystemAxis(pose_right, 0, truth_right)\n",
    "    plotCoordSystemAxis(pose_right, 1, truth_right)\n",
    "    plotCoordSystemAxis(pose_right, 2, truth_right)\n",
    "    \n",
    "    updateOutputWidget(truth_widget_left, truth_left, \"RGB\")\n",
    "    updateOutputWidget(truth_widget_right, truth_right, \"RGB\")\n",
    "\n",
    "    if steps == 0:\n",
    "        for i in range(len(pose_sliders)-1):\n",
    "            pose_sliders[i].max = pose[:,i]\n",
    "            pose_sliders[i].min = pose[:,i]\n",
    "    else:\n",
    "        old = []\n",
    "        for i in range(len(pose_sliders)-1):\n",
    "            old.append(pose_sliders[i].value)\n",
    "            if pose[:,i] > pose_sliders[i].max:\n",
    "                pose_sliders[i].max = pose[:,i]\n",
    "            elif pose[:,i] < pose_sliders[i].min:\n",
    "                pose_sliders[i].min = pose[:,i]\n",
    "\n",
    "        delta = pose[0,:].data.cpu().numpy() - old\n",
    "        delta /= steps\n",
    "\n",
    "        for steps in range(steps):\n",
    "            for i in range(len(pose_sliders)-1):\n",
    "                pose_sliders[i].value += delta[i]\n",
    "            on_value_change(None)\n",
    "            time.sleep(0.5)\n",
    "            \n",
    "    for i in range(len(pose_sliders)-1):\n",
    "        pose_sliders[i].value = pose[:,i]\n",
    "    on_value_change(None)\n",
    "    do_update = True\n",
    "\n",
    "train_dataset = util.MyImageFolder(root='../../../data/unsup/', transform=transforms.ToTensor(), target_transform=transforms.ToTensor())\n",
    "train_loader = torch.utils.data.DataLoader(dataset=train_dataset,batch_size=args.batch_size,num_workers=args.num_workers,shuffle=True)\n",
    "data_iter = iter(train_loader)\n",
    "\n",
    "def on_next_button_clicked(b):\n",
    "    next_data = next(data_iter)\n",
    "    showDataImage(next_data, steps=5)\n",
    "\n",
    "button_next.on_click(on_next_button_clicked)\n",
    "\n",
    "next_data = next(data_iter)\n",
    "showDataImage(next_data, steps=0)\n",
    "\n",
    "for i in range(len(pose_sliders)):\n",
    "    pose_sliders[i].observe(on_value_change)"
   ]
  },
  {
   "cell_type": "code",
   "execution_count": null,
   "metadata": {},
   "outputs": [],
   "source": []
  }
 ],
 "metadata": {
  "kernelspec": {
   "display_name": "Python 3",
   "language": "python",
   "name": "python3"
  },
  "language_info": {
   "codemirror_mode": {
    "name": "ipython",
    "version": 3
   },
   "file_extension": ".py",
   "mimetype": "text/x-python",
   "name": "python",
   "nbconvert_exporter": "python",
   "pygments_lexer": "ipython3",
   "version": "3.6.6"
  },
  "widgets": {
   "application/vnd.jupyter.widget-state+json": {
    "state": {
     "02a95245f28f48e69eda3fb3bd438d67": {
      "model_module_version": "^2.1.4",
      "state": {
       "value": "<table style=\"width:100%\">\n                <thead>\n                    <tr>\n                        <th colspan=\"2\">\n                        Could not create model:\n                        </th>\n                    </tr>\n                </thead>\n                <tbody>\n                    <tr>\n                        <td>Model name</td>\n                        <td> undefined </td>\n                    </tr>\n                    <tr>\n                        <td>Model module</td>\n                        <td> undefined </td>\n                    </tr>\n                    <tr>\n                        <td>Model module version</td>\n                        <td> undefined </td>\n                    </tr>\n                <tbody>\n                <tfoot>\n                    <tr>\n                        <th colspan=\"2\">\n                        Class undefined not found in registry \n                        </th>\n                    </tr>\n                </tfoot>\n                </table>"
      }
     },
     "086adac005c04b4190a432ca55b65c08": {
      "model_module_version": "^2.1.4",
      "state": {
       "children": [
        "IPY_MODEL_5ddce768a0cd44fcb6a02f55d97511c0",
        "IPY_MODEL_7b2a75f21e23408ba72e5f04d40c4ae0"
       ],
       "value": "<table style=\"width:100%\">\n                <thead>\n                    <tr>\n                        <th colspan=\"2\">\n                        Could not create model:\n                        </th>\n                    </tr>\n                </thead>\n                <tbody>\n                    <tr>\n                        <td>Model name</td>\n                        <td> undefined </td>\n                    </tr>\n                    <tr>\n                        <td>Model module</td>\n                        <td> undefined </td>\n                    </tr>\n                    <tr>\n                        <td>Model module version</td>\n                        <td> undefined </td>\n                    </tr>\n                <tbody>\n                <tfoot>\n                    <tr>\n                        <th colspan=\"2\">\n                        Class undefined not found in registry \n                        </th>\n                    </tr>\n                </tfoot>\n                </table>"
      }
     },
     "09a94446cf9d4aaea5de8fee2478bfe3": {
      "model_module_version": "^2.1.4",
      "state": {
       "value": "<table style=\"width:100%\">\n                <thead>\n                    <tr>\n                        <th colspan=\"2\">\n                        Could not create model:\n                        </th>\n                    </tr>\n                </thead>\n                <tbody>\n                    <tr>\n                        <td>Model name</td>\n                        <td> undefined </td>\n                    </tr>\n                    <tr>\n                        <td>Model module</td>\n                        <td> undefined </td>\n                    </tr>\n                    <tr>\n                        <td>Model module version</td>\n                        <td> undefined </td>\n                    </tr>\n                <tbody>\n                <tfoot>\n                    <tr>\n                        <th colspan=\"2\">\n                        Class undefined not found in registry \n                        </th>\n                    </tr>\n                </tfoot>\n                </table>"
      }
     },
     "0a266fd5169140bab25a3a38a8f50fb1": {
      "model_module_version": "^2.1.4",
      "state": {
       "children": [
        "IPY_MODEL_bc40a99774e645d6a95f8c5424ed326e",
        "IPY_MODEL_43698cd83e434735970d098c0c18c682"
       ],
       "value": "<table style=\"width:100%\">\n                <thead>\n                    <tr>\n                        <th colspan=\"2\">\n                        Could not create model:\n                        </th>\n                    </tr>\n                </thead>\n                <tbody>\n                    <tr>\n                        <td>Model name</td>\n                        <td> undefined </td>\n                    </tr>\n                    <tr>\n                        <td>Model module</td>\n                        <td> undefined </td>\n                    </tr>\n                    <tr>\n                        <td>Model module version</td>\n                        <td> undefined </td>\n                    </tr>\n                <tbody>\n                <tfoot>\n                    <tr>\n                        <th colspan=\"2\">\n                        Class undefined not found in registry \n                        </th>\n                    </tr>\n                </tfoot>\n                </table>"
      }
     },
     "0bb041ed3f25401da46f4d3b1b84bedd": {
      "model_module_version": "^2.1.4",
      "state": {
       "msg_id": "",
       "value": "<table style=\"width:100%\">\n                <thead>\n                    <tr>\n                        <th colspan=\"2\">\n                        Could not create model:\n                        </th>\n                    </tr>\n                </thead>\n                <tbody>\n                    <tr>\n                        <td>Model name</td>\n                        <td> undefined </td>\n                    </tr>\n                    <tr>\n                        <td>Model module</td>\n                        <td> undefined </td>\n                    </tr>\n                    <tr>\n                        <td>Model module version</td>\n                        <td> undefined </td>\n                    </tr>\n                <tbody>\n                <tfoot>\n                    <tr>\n                        <th colspan=\"2\">\n                        Class undefined not found in registry \n                        </th>\n                    </tr>\n                </tfoot>\n                </table>"
      }
     },
     "0c491954f101426f8a6d2c2c8f117c65": {
      "model_module_version": "^2.1.4",
      "state": {
       "children": [
        "IPY_MODEL_e8c41950a9d349d2a093b110f66cbb72",
        "IPY_MODEL_b74b2bb279ff49c9a7b8384e115dda91"
       ],
       "value": "<table style=\"width:100%\">\n                <thead>\n                    <tr>\n                        <th colspan=\"2\">\n                        Could not create model:\n                        </th>\n                    </tr>\n                </thead>\n                <tbody>\n                    <tr>\n                        <td>Model name</td>\n                        <td> undefined </td>\n                    </tr>\n                    <tr>\n                        <td>Model module</td>\n                        <td> undefined </td>\n                    </tr>\n                    <tr>\n                        <td>Model module version</td>\n                        <td> undefined </td>\n                    </tr>\n                <tbody>\n                <tfoot>\n                    <tr>\n                        <th colspan=\"2\">\n                        Class undefined not found in registry \n                        </th>\n                    </tr>\n                </tfoot>\n                </table>"
      }
     },
     "0d0f207a9beb4bbc8342dfdfde8abfd1": {
      "model_module_version": "^2.1.4",
      "state": {
       "msg_id": "",
       "value": "<table style=\"width:100%\">\n                <thead>\n                    <tr>\n                        <th colspan=\"2\">\n                        Could not create model:\n                        </th>\n                    </tr>\n                </thead>\n                <tbody>\n                    <tr>\n                        <td>Model name</td>\n                        <td> undefined </td>\n                    </tr>\n                    <tr>\n                        <td>Model module</td>\n                        <td> undefined </td>\n                    </tr>\n                    <tr>\n                        <td>Model module version</td>\n                        <td> undefined </td>\n                    </tr>\n                <tbody>\n                <tfoot>\n                    <tr>\n                        <th colspan=\"2\">\n                        Class undefined not found in registry \n                        </th>\n                    </tr>\n                </tfoot>\n                </table>"
      }
     },
     "17ce0b15ae7f4e07bb389acdb95723a9": {
      "model_module_version": "^2.1.4",
      "state": {
       "children": [
        "IPY_MODEL_98eb087ff1554f3983db53fa15fe205e",
        "IPY_MODEL_2cb31d41b01c41cab49231e6bbcef9a5"
       ],
       "value": "<table style=\"width:100%\">\n                <thead>\n                    <tr>\n                        <th colspan=\"2\">\n                        Could not create model:\n                        </th>\n                    </tr>\n                </thead>\n                <tbody>\n                    <tr>\n                        <td>Model name</td>\n                        <td> undefined </td>\n                    </tr>\n                    <tr>\n                        <td>Model module</td>\n                        <td> undefined </td>\n                    </tr>\n                    <tr>\n                        <td>Model module version</td>\n                        <td> undefined </td>\n                    </tr>\n                <tbody>\n                <tfoot>\n                    <tr>\n                        <th colspan=\"2\">\n                        Class undefined not found in registry \n                        </th>\n                    </tr>\n                </tfoot>\n                </table>"
      }
     },
     "18fbf107d608491b8631570d892bc11c": {
      "model_module_version": "^2.1.4",
      "state": {
       "value": "<table style=\"width:100%\">\n                <thead>\n                    <tr>\n                        <th colspan=\"2\">\n                        Could not create model:\n                        </th>\n                    </tr>\n                </thead>\n                <tbody>\n                    <tr>\n                        <td>Model name</td>\n                        <td> undefined </td>\n                    </tr>\n                    <tr>\n                        <td>Model module</td>\n                        <td> undefined </td>\n                    </tr>\n                    <tr>\n                        <td>Model module version</td>\n                        <td> undefined </td>\n                    </tr>\n                <tbody>\n                <tfoot>\n                    <tr>\n                        <th colspan=\"2\">\n                        Class undefined not found in registry \n                        </th>\n                    </tr>\n                </tfoot>\n                </table>"
      }
     },
     "1a1f8a848b0344be8b0ccf93d1d2026c": {
      "model_module_version": "^2.1.4",
      "state": {
       "value": "<table style=\"width:100%\">\n                <thead>\n                    <tr>\n                        <th colspan=\"2\">\n                        Could not create model:\n                        </th>\n                    </tr>\n                </thead>\n                <tbody>\n                    <tr>\n                        <td>Model name</td>\n                        <td> undefined </td>\n                    </tr>\n                    <tr>\n                        <td>Model module</td>\n                        <td> undefined </td>\n                    </tr>\n                    <tr>\n                        <td>Model module version</td>\n                        <td> undefined </td>\n                    </tr>\n                <tbody>\n                <tfoot>\n                    <tr>\n                        <th colspan=\"2\">\n                        Class undefined not found in registry \n                        </th>\n                    </tr>\n                </tfoot>\n                </table>"
      }
     },
     "1a3f3f985d584928bc8d0c7ab6f70f2e": {
      "model_module_version": "^2.1.4",
      "state": {
       "value": "<table style=\"width:100%\">\n                <thead>\n                    <tr>\n                        <th colspan=\"2\">\n                        Could not create model:\n                        </th>\n                    </tr>\n                </thead>\n                <tbody>\n                    <tr>\n                        <td>Model name</td>\n                        <td> undefined </td>\n                    </tr>\n                    <tr>\n                        <td>Model module</td>\n                        <td> undefined </td>\n                    </tr>\n                    <tr>\n                        <td>Model module version</td>\n                        <td> undefined </td>\n                    </tr>\n                <tbody>\n                <tfoot>\n                    <tr>\n                        <th colspan=\"2\">\n                        Class undefined not found in registry \n                        </th>\n                    </tr>\n                </tfoot>\n                </table>"
      }
     },
     "1cd36f848c6a4887b49476cedbf3d552": {
      "model_module_version": "^2.1.4",
      "state": {
       "value": "<table style=\"width:100%\">\n                <thead>\n                    <tr>\n                        <th colspan=\"2\">\n                        Could not create model:\n                        </th>\n                    </tr>\n                </thead>\n                <tbody>\n                    <tr>\n                        <td>Model name</td>\n                        <td> undefined </td>\n                    </tr>\n                    <tr>\n                        <td>Model module</td>\n                        <td> undefined </td>\n                    </tr>\n                    <tr>\n                        <td>Model module version</td>\n                        <td> undefined </td>\n                    </tr>\n                <tbody>\n                <tfoot>\n                    <tr>\n                        <th colspan=\"2\">\n                        Class undefined not found in registry \n                        </th>\n                    </tr>\n                </tfoot>\n                </table>"
      }
     },
     "1e92dc6d2e6a4746ae2cd05ab57165ec": {
      "model_module_version": "^2.1.4",
      "state": {
       "description": "x",
       "value": "<table style=\"width:100%\">\n                <thead>\n                    <tr>\n                        <th colspan=\"2\">\n                        Could not create model:\n                        </th>\n                    </tr>\n                </thead>\n                <tbody>\n                    <tr>\n                        <td>Model name</td>\n                        <td> undefined </td>\n                    </tr>\n                    <tr>\n                        <td>Model module</td>\n                        <td> undefined </td>\n                    </tr>\n                    <tr>\n                        <td>Model module version</td>\n                        <td> undefined </td>\n                    </tr>\n                <tbody>\n                <tfoot>\n                    <tr>\n                        <th colspan=\"2\">\n                        Class undefined not found in registry \n                        </th>\n                    </tr>\n                </tfoot>\n                </table>"
      }
     },
     "28fc64f255dc4af98ea2e4f433a7e659": {
      "model_module_version": "^2.1.4",
      "state": {
       "children": [
        "IPY_MODEL_d00724d28f834c4991169f92b8e447cb",
        "IPY_MODEL_b5c4b56ba9cd45e1bdca6530cc78c9e1"
       ],
       "value": "<table style=\"width:100%\">\n                <thead>\n                    <tr>\n                        <th colspan=\"2\">\n                        Could not create model:\n                        </th>\n                    </tr>\n                </thead>\n                <tbody>\n                    <tr>\n                        <td>Model name</td>\n                        <td> undefined </td>\n                    </tr>\n                    <tr>\n                        <td>Model module</td>\n                        <td> undefined </td>\n                    </tr>\n                    <tr>\n                        <td>Model module version</td>\n                        <td> undefined </td>\n                    </tr>\n                <tbody>\n                <tfoot>\n                    <tr>\n                        <th colspan=\"2\">\n                        Class undefined not found in registry \n                        </th>\n                    </tr>\n                </tfoot>\n                </table>"
      }
     },
     "2a48c6cde59541fe8760420e54905bb8": {
      "model_module_version": "^2.1.4",
      "state": {
       "value": "<table style=\"width:100%\">\n                <thead>\n                    <tr>\n                        <th colspan=\"2\">\n                        Could not create model:\n                        </th>\n                    </tr>\n                </thead>\n                <tbody>\n                    <tr>\n                        <td>Model name</td>\n                        <td> undefined </td>\n                    </tr>\n                    <tr>\n                        <td>Model module</td>\n                        <td> undefined </td>\n                    </tr>\n                    <tr>\n                        <td>Model module version</td>\n                        <td> undefined </td>\n                    </tr>\n                <tbody>\n                <tfoot>\n                    <tr>\n                        <th colspan=\"2\">\n                        Class undefined not found in registry \n                        </th>\n                    </tr>\n                </tfoot>\n                </table>"
      }
     },
     "2a9914efad9b4709b512186b35fca807": {
      "model_module_version": "^2.1.4",
      "state": {
       "value": "<table style=\"width:100%\">\n                <thead>\n                    <tr>\n                        <th colspan=\"2\">\n                        Could not create model:\n                        </th>\n                    </tr>\n                </thead>\n                <tbody>\n                    <tr>\n                        <td>Model name</td>\n                        <td> undefined </td>\n                    </tr>\n                    <tr>\n                        <td>Model module</td>\n                        <td> undefined </td>\n                    </tr>\n                    <tr>\n                        <td>Model module version</td>\n                        <td> undefined </td>\n                    </tr>\n                <tbody>\n                <tfoot>\n                    <tr>\n                        <th colspan=\"2\">\n                        Class undefined not found in registry \n                        </th>\n                    </tr>\n                </tfoot>\n                </table>"
      }
     },
     "2b61a2efed51453ba7d9b61640e3257b": {
      "model_module_version": "^2.1.4",
      "state": {
       "children": [
        "IPY_MODEL_ca7fc7414df744c1a12a80afcd929124",
        "IPY_MODEL_892d3ae0c7194bf880319e259ecc2978"
       ],
       "value": "<table style=\"width:100%\">\n                <thead>\n                    <tr>\n                        <th colspan=\"2\">\n                        Could not create model:\n                        </th>\n                    </tr>\n                </thead>\n                <tbody>\n                    <tr>\n                        <td>Model name</td>\n                        <td> undefined </td>\n                    </tr>\n                    <tr>\n                        <td>Model module</td>\n                        <td> undefined </td>\n                    </tr>\n                    <tr>\n                        <td>Model module version</td>\n                        <td> undefined </td>\n                    </tr>\n                <tbody>\n                <tfoot>\n                    <tr>\n                        <th colspan=\"2\">\n                        Class undefined not found in registry \n                        </th>\n                    </tr>\n                </tfoot>\n                </table>"
      }
     },
     "2cb31d41b01c41cab49231e6bbcef9a5": {
      "model_module_version": "^2.1.4",
      "state": {
       "msg_id": "",
       "value": "<table style=\"width:100%\">\n                <thead>\n                    <tr>\n                        <th colspan=\"2\">\n                        Could not create model:\n                        </th>\n                    </tr>\n                </thead>\n                <tbody>\n                    <tr>\n                        <td>Model name</td>\n                        <td> undefined </td>\n                    </tr>\n                    <tr>\n                        <td>Model module</td>\n                        <td> undefined </td>\n                    </tr>\n                    <tr>\n                        <td>Model module version</td>\n                        <td> undefined </td>\n                    </tr>\n                <tbody>\n                <tfoot>\n                    <tr>\n                        <th colspan=\"2\">\n                        Class undefined not found in registry \n                        </th>\n                    </tr>\n                </tfoot>\n                </table>"
      }
     },
     "2f4edba5b47e4d5590df1386c754fd88": {
      "model_module_version": "^2.1.4",
      "state": {
       "value": "<table style=\"width:100%\">\n                <thead>\n                    <tr>\n                        <th colspan=\"2\">\n                        Could not create model:\n                        </th>\n                    </tr>\n                </thead>\n                <tbody>\n                    <tr>\n                        <td>Model name</td>\n                        <td> undefined </td>\n                    </tr>\n                    <tr>\n                        <td>Model module</td>\n                        <td> undefined </td>\n                    </tr>\n                    <tr>\n                        <td>Model module version</td>\n                        <td> undefined </td>\n                    </tr>\n                <tbody>\n                <tfoot>\n                    <tr>\n                        <th colspan=\"2\">\n                        Class undefined not found in registry \n                        </th>\n                    </tr>\n                </tfoot>\n                </table>"
      }
     },
     "32e0e6999b084991bcd84438c81ff67f": {
      "model_module_version": "^2.1.4",
      "state": {
       "value": "<table style=\"width:100%\">\n                <thead>\n                    <tr>\n                        <th colspan=\"2\">\n                        Could not create model:\n                        </th>\n                    </tr>\n                </thead>\n                <tbody>\n                    <tr>\n                        <td>Model name</td>\n                        <td> undefined </td>\n                    </tr>\n                    <tr>\n                        <td>Model module</td>\n                        <td> undefined </td>\n                    </tr>\n                    <tr>\n                        <td>Model module version</td>\n                        <td> undefined </td>\n                    </tr>\n                <tbody>\n                <tfoot>\n                    <tr>\n                        <th colspan=\"2\">\n                        Class undefined not found in registry \n                        </th>\n                    </tr>\n                </tfoot>\n                </table>"
      }
     },
     "3ac7a342207a410888cc1bde2c42f286": {
      "model_module_version": "^2.1.4",
      "state": {
       "value": "<table style=\"width:100%\">\n                <thead>\n                    <tr>\n                        <th colspan=\"2\">\n                        Could not create model:\n                        </th>\n                    </tr>\n                </thead>\n                <tbody>\n                    <tr>\n                        <td>Model name</td>\n                        <td> undefined </td>\n                    </tr>\n                    <tr>\n                        <td>Model module</td>\n                        <td> undefined </td>\n                    </tr>\n                    <tr>\n                        <td>Model module version</td>\n                        <td> undefined </td>\n                    </tr>\n                <tbody>\n                <tfoot>\n                    <tr>\n                        <th colspan=\"2\">\n                        Class undefined not found in registry \n                        </th>\n                    </tr>\n                </tfoot>\n                </table>"
      }
     },
     "3c2f6371fb9d4ef8963013d7ec752f1a": {
      "model_module": "jupyter-js-widgets",
      "model_module_version": "~2.1.4",
      "model_name": "LayoutModel",
      "state": {
       "_model_module_version": "~2.1.4",
       "_view_module_version": "~2.1.4"
      }
     },
     "4085225553f745b5a56321cf316c733e": {
      "model_module": "jupyter-js-widgets",
      "model_module_version": "~2.1.4",
      "model_name": "SliderStyleModel",
      "state": {
       "_model_module_version": "~2.1.4",
       "_view_module_version": "~2.1.4"
      }
     },
     "40dd2c2fbf0d41babb963d45187381e3": {
      "model_module_version": "^2.1.4",
      "state": {
       "value": "<table style=\"width:100%\">\n                <thead>\n                    <tr>\n                        <th colspan=\"2\">\n                        Could not create model:\n                        </th>\n                    </tr>\n                </thead>\n                <tbody>\n                    <tr>\n                        <td>Model name</td>\n                        <td> undefined </td>\n                    </tr>\n                    <tr>\n                        <td>Model module</td>\n                        <td> undefined </td>\n                    </tr>\n                    <tr>\n                        <td>Model module version</td>\n                        <td> undefined </td>\n                    </tr>\n                <tbody>\n                <tfoot>\n                    <tr>\n                        <th colspan=\"2\">\n                        Class undefined not found in registry \n                        </th>\n                    </tr>\n                </tfoot>\n                </table>"
      }
     },
     "43698cd83e434735970d098c0c18c682": {
      "model_module_version": "^2.1.4",
      "state": {
       "msg_id": "",
       "value": "<table style=\"width:100%\">\n                <thead>\n                    <tr>\n                        <th colspan=\"2\">\n                        Could not create model:\n                        </th>\n                    </tr>\n                </thead>\n                <tbody>\n                    <tr>\n                        <td>Model name</td>\n                        <td> undefined </td>\n                    </tr>\n                    <tr>\n                        <td>Model module</td>\n                        <td> undefined </td>\n                    </tr>\n                    <tr>\n                        <td>Model module version</td>\n                        <td> undefined </td>\n                    </tr>\n                <tbody>\n                <tfoot>\n                    <tr>\n                        <th colspan=\"2\">\n                        Class undefined not found in registry \n                        </th>\n                    </tr>\n                </tfoot>\n                </table>"
      }
     },
     "4516a929146f4c6aba450499be5a6bae": {
      "model_module_version": "^2.1.4",
      "state": {
       "children": [
        "IPY_MODEL_1e92dc6d2e6a4746ae2cd05ab57165ec",
        "IPY_MODEL_0d0f207a9beb4bbc8342dfdfde8abfd1"
       ],
       "value": "<table style=\"width:100%\">\n                <thead>\n                    <tr>\n                        <th colspan=\"2\">\n                        Could not create model:\n                        </th>\n                    </tr>\n                </thead>\n                <tbody>\n                    <tr>\n                        <td>Model name</td>\n                        <td> undefined </td>\n                    </tr>\n                    <tr>\n                        <td>Model module</td>\n                        <td> undefined </td>\n                    </tr>\n                    <tr>\n                        <td>Model module version</td>\n                        <td> undefined </td>\n                    </tr>\n                <tbody>\n                <tfoot>\n                    <tr>\n                        <th colspan=\"2\">\n                        Class undefined not found in registry \n                        </th>\n                    </tr>\n                </tfoot>\n                </table>"
      }
     },
     "46c3f00a4866401bb7d7dd886668baeb": {
      "model_module_version": "^2.1.4",
      "state": {
       "msg_id": "",
       "value": "<table style=\"width:100%\">\n                <thead>\n                    <tr>\n                        <th colspan=\"2\">\n                        Could not create model:\n                        </th>\n                    </tr>\n                </thead>\n                <tbody>\n                    <tr>\n                        <td>Model name</td>\n                        <td> undefined </td>\n                    </tr>\n                    <tr>\n                        <td>Model module</td>\n                        <td> undefined </td>\n                    </tr>\n                    <tr>\n                        <td>Model module version</td>\n                        <td> undefined </td>\n                    </tr>\n                <tbody>\n                <tfoot>\n                    <tr>\n                        <th colspan=\"2\">\n                        Class undefined not found in registry \n                        </th>\n                    </tr>\n                </tfoot>\n                </table>"
      }
     },
     "49aa40dd11114ddabb68be1d01d1e41d": {
      "model_module_version": "^2.1.4",
      "state": {
       "value": "<table style=\"width:100%\">\n                <thead>\n                    <tr>\n                        <th colspan=\"2\">\n                        Could not create model:\n                        </th>\n                    </tr>\n                </thead>\n                <tbody>\n                    <tr>\n                        <td>Model name</td>\n                        <td> undefined </td>\n                    </tr>\n                    <tr>\n                        <td>Model module</td>\n                        <td> undefined </td>\n                    </tr>\n                    <tr>\n                        <td>Model module version</td>\n                        <td> undefined </td>\n                    </tr>\n                <tbody>\n                <tfoot>\n                    <tr>\n                        <th colspan=\"2\">\n                        Class undefined not found in registry \n                        </th>\n                    </tr>\n                </tfoot>\n                </table>"
      }
     },
     "4a96e2d67ee54a41a257d81719387929": {
      "model_module_version": "^2.1.4",
      "state": {
       "msg_id": "",
       "value": "<table style=\"width:100%\">\n                <thead>\n                    <tr>\n                        <th colspan=\"2\">\n                        Could not create model:\n                        </th>\n                    </tr>\n                </thead>\n                <tbody>\n                    <tr>\n                        <td>Model name</td>\n                        <td> undefined </td>\n                    </tr>\n                    <tr>\n                        <td>Model module</td>\n                        <td> undefined </td>\n                    </tr>\n                    <tr>\n                        <td>Model module version</td>\n                        <td> undefined </td>\n                    </tr>\n                <tbody>\n                <tfoot>\n                    <tr>\n                        <th colspan=\"2\">\n                        Class undefined not found in registry \n                        </th>\n                    </tr>\n                </tfoot>\n                </table>"
      }
     },
     "501729002a44409ba89f0ce4598c4615": {
      "model_module_version": "^2.1.4",
      "state": {
       "value": "<table style=\"width:100%\">\n                <thead>\n                    <tr>\n                        <th colspan=\"2\">\n                        Could not create model:\n                        </th>\n                    </tr>\n                </thead>\n                <tbody>\n                    <tr>\n                        <td>Model name</td>\n                        <td> undefined </td>\n                    </tr>\n                    <tr>\n                        <td>Model module</td>\n                        <td> undefined </td>\n                    </tr>\n                    <tr>\n                        <td>Model module version</td>\n                        <td> undefined </td>\n                    </tr>\n                <tbody>\n                <tfoot>\n                    <tr>\n                        <th colspan=\"2\">\n                        Class undefined not found in registry \n                        </th>\n                    </tr>\n                </tfoot>\n                </table>"
      }
     },
     "55c4545c3cf9416ca5f9b6468f70a6ea": {
      "model_module_version": "^2.1.4",
      "state": {
       "value": "<table style=\"width:100%\">\n                <thead>\n                    <tr>\n                        <th colspan=\"2\">\n                        Could not create model:\n                        </th>\n                    </tr>\n                </thead>\n                <tbody>\n                    <tr>\n                        <td>Model name</td>\n                        <td> undefined </td>\n                    </tr>\n                    <tr>\n                        <td>Model module</td>\n                        <td> undefined </td>\n                    </tr>\n                    <tr>\n                        <td>Model module version</td>\n                        <td> undefined </td>\n                    </tr>\n                <tbody>\n                <tfoot>\n                    <tr>\n                        <th colspan=\"2\">\n                        Class undefined not found in registry \n                        </th>\n                    </tr>\n                </tfoot>\n                </table>"
      }
     },
     "5754386e4c0348748bd72a39c98e3513": {
      "model_module_version": "^2.1.4",
      "state": {
       "value": "<table style=\"width:100%\">\n                <thead>\n                    <tr>\n                        <th colspan=\"2\">\n                        Could not create model:\n                        </th>\n                    </tr>\n                </thead>\n                <tbody>\n                    <tr>\n                        <td>Model name</td>\n                        <td> undefined </td>\n                    </tr>\n                    <tr>\n                        <td>Model module</td>\n                        <td> undefined </td>\n                    </tr>\n                    <tr>\n                        <td>Model module version</td>\n                        <td> undefined </td>\n                    </tr>\n                <tbody>\n                <tfoot>\n                    <tr>\n                        <th colspan=\"2\">\n                        Class undefined not found in registry \n                        </th>\n                    </tr>\n                </tfoot>\n                </table>"
      }
     },
     "5d5b28b089e242db97c0fb1fbdd63320": {
      "model_module_version": "^2.1.4",
      "state": {
       "value": "<table style=\"width:100%\">\n                <thead>\n                    <tr>\n                        <th colspan=\"2\">\n                        Could not create model:\n                        </th>\n                    </tr>\n                </thead>\n                <tbody>\n                    <tr>\n                        <td>Model name</td>\n                        <td> undefined </td>\n                    </tr>\n                    <tr>\n                        <td>Model module</td>\n                        <td> undefined </td>\n                    </tr>\n                    <tr>\n                        <td>Model module version</td>\n                        <td> undefined </td>\n                    </tr>\n                <tbody>\n                <tfoot>\n                    <tr>\n                        <th colspan=\"2\">\n                        Class undefined not found in registry \n                        </th>\n                    </tr>\n                </tfoot>\n                </table>"
      }
     },
     "5ddce768a0cd44fcb6a02f55d97511c0": {
      "model_module_version": "^2.1.4",
      "state": {
       "description": "x",
       "value": "<table style=\"width:100%\">\n                <thead>\n                    <tr>\n                        <th colspan=\"2\">\n                        Could not create model:\n                        </th>\n                    </tr>\n                </thead>\n                <tbody>\n                    <tr>\n                        <td>Model name</td>\n                        <td> undefined </td>\n                    </tr>\n                    <tr>\n                        <td>Model module</td>\n                        <td> undefined </td>\n                    </tr>\n                    <tr>\n                        <td>Model module version</td>\n                        <td> undefined </td>\n                    </tr>\n                <tbody>\n                <tfoot>\n                    <tr>\n                        <th colspan=\"2\">\n                        Class undefined not found in registry \n                        </th>\n                    </tr>\n                </tfoot>\n                </table>"
      }
     },
     "5ef172040b89471c852363eeffcd40ad": {
      "model_module": "jupyter-js-widgets",
      "model_module_version": "~2.1.4",
      "model_name": "OutputModel",
      "state": {
       "_dom_classes": [],
       "_model_module": "jupyter-js-widgets",
       "_model_module_version": "~2.1.4",
       "_view_module": "jupyter-js-widgets",
       "_view_module_version": "~2.1.4",
       "layout": "IPY_MODEL_61d17c7ab05d49ad917fe0ad9a2f5082",
       "msg_throttle": 1
      }
     },
     "61d17c7ab05d49ad917fe0ad9a2f5082": {
      "model_module": "jupyter-js-widgets",
      "model_module_version": "~2.1.4",
      "model_name": "LayoutModel",
      "state": {
       "_model_module_version": "~2.1.4",
       "_view_module_version": "~2.1.4"
      }
     },
     "621171c6d3824e1aa20b00a470355ba1": {
      "model_module_version": "^2.1.4",
      "state": {
       "value": "<table style=\"width:100%\">\n                <thead>\n                    <tr>\n                        <th colspan=\"2\">\n                        Could not create model:\n                        </th>\n                    </tr>\n                </thead>\n                <tbody>\n                    <tr>\n                        <td>Model name</td>\n                        <td> undefined </td>\n                    </tr>\n                    <tr>\n                        <td>Model module</td>\n                        <td> undefined </td>\n                    </tr>\n                    <tr>\n                        <td>Model module version</td>\n                        <td> undefined </td>\n                    </tr>\n                <tbody>\n                <tfoot>\n                    <tr>\n                        <th colspan=\"2\">\n                        Class undefined not found in registry \n                        </th>\n                    </tr>\n                </tfoot>\n                </table>"
      }
     },
     "68b9424e93a54f97b286548081d65a10": {
      "model_module_version": "^2.1.4",
      "state": {
       "value": "<table style=\"width:100%\">\n                <thead>\n                    <tr>\n                        <th colspan=\"2\">\n                        Could not create model:\n                        </th>\n                    </tr>\n                </thead>\n                <tbody>\n                    <tr>\n                        <td>Model name</td>\n                        <td> undefined </td>\n                    </tr>\n                    <tr>\n                        <td>Model module</td>\n                        <td> undefined </td>\n                    </tr>\n                    <tr>\n                        <td>Model module version</td>\n                        <td> undefined </td>\n                    </tr>\n                <tbody>\n                <tfoot>\n                    <tr>\n                        <th colspan=\"2\">\n                        Class undefined not found in registry \n                        </th>\n                    </tr>\n                </tfoot>\n                </table>"
      }
     },
     "6a248cb18c8c40658ea8cf7615f7a622": {
      "model_module_version": "^2.1.4",
      "state": {
       "value": "<table style=\"width:100%\">\n                <thead>\n                    <tr>\n                        <th colspan=\"2\">\n                        Could not create model:\n                        </th>\n                    </tr>\n                </thead>\n                <tbody>\n                    <tr>\n                        <td>Model name</td>\n                        <td> undefined </td>\n                    </tr>\n                    <tr>\n                        <td>Model module</td>\n                        <td> undefined </td>\n                    </tr>\n                    <tr>\n                        <td>Model module version</td>\n                        <td> undefined </td>\n                    </tr>\n                <tbody>\n                <tfoot>\n                    <tr>\n                        <th colspan=\"2\">\n                        Class undefined not found in registry \n                        </th>\n                    </tr>\n                </tfoot>\n                </table>"
      }
     },
     "6aaa433ab117461b889545d142a27175": {
      "model_module_version": "^2.1.4",
      "state": {
       "description": "x",
       "value": "<table style=\"width:100%\">\n                <thead>\n                    <tr>\n                        <th colspan=\"2\">\n                        Could not create model:\n                        </th>\n                    </tr>\n                </thead>\n                <tbody>\n                    <tr>\n                        <td>Model name</td>\n                        <td> undefined </td>\n                    </tr>\n                    <tr>\n                        <td>Model module</td>\n                        <td> undefined </td>\n                    </tr>\n                    <tr>\n                        <td>Model module version</td>\n                        <td> undefined </td>\n                    </tr>\n                <tbody>\n                <tfoot>\n                    <tr>\n                        <th colspan=\"2\">\n                        Class undefined not found in registry \n                        </th>\n                    </tr>\n                </tfoot>\n                </table>"
      }
     },
     "73132f70043c4a6cb2a8ceb471a8f252": {
      "model_module_version": "^2.1.4",
      "state": {
       "value": "<table style=\"width:100%\">\n                <thead>\n                    <tr>\n                        <th colspan=\"2\">\n                        Could not create model:\n                        </th>\n                    </tr>\n                </thead>\n                <tbody>\n                    <tr>\n                        <td>Model name</td>\n                        <td> undefined </td>\n                    </tr>\n                    <tr>\n                        <td>Model module</td>\n                        <td> undefined </td>\n                    </tr>\n                    <tr>\n                        <td>Model module version</td>\n                        <td> undefined </td>\n                    </tr>\n                <tbody>\n                <tfoot>\n                    <tr>\n                        <th colspan=\"2\">\n                        Class undefined not found in registry \n                        </th>\n                    </tr>\n                </tfoot>\n                </table>"
      }
     },
     "76b009679d104667af00faea672b290a": {
      "model_module_version": "^2.1.4",
      "state": {
       "value": "<table style=\"width:100%\">\n                <thead>\n                    <tr>\n                        <th colspan=\"2\">\n                        Could not create model:\n                        </th>\n                    </tr>\n                </thead>\n                <tbody>\n                    <tr>\n                        <td>Model name</td>\n                        <td> undefined </td>\n                    </tr>\n                    <tr>\n                        <td>Model module</td>\n                        <td> undefined </td>\n                    </tr>\n                    <tr>\n                        <td>Model module version</td>\n                        <td> undefined </td>\n                    </tr>\n                <tbody>\n                <tfoot>\n                    <tr>\n                        <th colspan=\"2\">\n                        Class undefined not found in registry \n                        </th>\n                    </tr>\n                </tfoot>\n                </table>"
      }
     },
     "79c73807325f49d393b6cf08bad0b9ef": {
      "model_module_version": "^2.1.4",
      "state": {
       "value": "<table style=\"width:100%\">\n                <thead>\n                    <tr>\n                        <th colspan=\"2\">\n                        Could not create model:\n                        </th>\n                    </tr>\n                </thead>\n                <tbody>\n                    <tr>\n                        <td>Model name</td>\n                        <td> undefined </td>\n                    </tr>\n                    <tr>\n                        <td>Model module</td>\n                        <td> undefined </td>\n                    </tr>\n                    <tr>\n                        <td>Model module version</td>\n                        <td> undefined </td>\n                    </tr>\n                <tbody>\n                <tfoot>\n                    <tr>\n                        <th colspan=\"2\">\n                        Class undefined not found in registry \n                        </th>\n                    </tr>\n                </tfoot>\n                </table>"
      }
     },
     "7b2a75f21e23408ba72e5f04d40c4ae0": {
      "model_module_version": "^2.1.4",
      "state": {
       "msg_id": "",
       "value": "<table style=\"width:100%\">\n                <thead>\n                    <tr>\n                        <th colspan=\"2\">\n                        Could not create model:\n                        </th>\n                    </tr>\n                </thead>\n                <tbody>\n                    <tr>\n                        <td>Model name</td>\n                        <td> undefined </td>\n                    </tr>\n                    <tr>\n                        <td>Model module</td>\n                        <td> undefined </td>\n                    </tr>\n                    <tr>\n                        <td>Model module version</td>\n                        <td> undefined </td>\n                    </tr>\n                <tbody>\n                <tfoot>\n                    <tr>\n                        <th colspan=\"2\">\n                        Class undefined not found in registry \n                        </th>\n                    </tr>\n                </tfoot>\n                </table>"
      }
     },
     "7fdb52036a2c425b968f1cb3f18880cc": {
      "model_module": "jupyter-js-widgets",
      "model_module_version": "~2.1.4",
      "model_name": "VBoxModel",
      "state": {
       "_dom_classes": [
        "widget-interact"
       ],
       "_model_module_version": "~2.1.4",
       "_view_module_version": "~2.1.4",
       "children": [
        "IPY_MODEL_acf1144a079947a3b72f448ff497b5aa",
        "IPY_MODEL_5ef172040b89471c852363eeffcd40ad"
       ],
       "layout": "IPY_MODEL_a3da27f324824245ab4548048acf08ce"
      }
     },
     "804d2f26720d4c7a80aca19ce362f6e3": {
      "model_module_version": "^2.1.4",
      "state": {
       "value": "<table style=\"width:100%\">\n                <thead>\n                    <tr>\n                        <th colspan=\"2\">\n                        Could not create model:\n                        </th>\n                    </tr>\n                </thead>\n                <tbody>\n                    <tr>\n                        <td>Model name</td>\n                        <td> undefined </td>\n                    </tr>\n                    <tr>\n                        <td>Model module</td>\n                        <td> undefined </td>\n                    </tr>\n                    <tr>\n                        <td>Model module version</td>\n                        <td> undefined </td>\n                    </tr>\n                <tbody>\n                <tfoot>\n                    <tr>\n                        <th colspan=\"2\">\n                        Class undefined not found in registry \n                        </th>\n                    </tr>\n                </tfoot>\n                </table>"
      }
     },
     "83640725b367458d874b51c6da3c0298": {
      "model_module_version": "^2.1.4",
      "state": {
       "description": "x",
       "value": "<table style=\"width:100%\">\n                <thead>\n                    <tr>\n                        <th colspan=\"2\">\n                        Could not create model:\n                        </th>\n                    </tr>\n                </thead>\n                <tbody>\n                    <tr>\n                        <td>Model name</td>\n                        <td> undefined </td>\n                    </tr>\n                    <tr>\n                        <td>Model module</td>\n                        <td> undefined </td>\n                    </tr>\n                    <tr>\n                        <td>Model module version</td>\n                        <td> undefined </td>\n                    </tr>\n                <tbody>\n                <tfoot>\n                    <tr>\n                        <th colspan=\"2\">\n                        Class undefined not found in registry \n                        </th>\n                    </tr>\n                </tfoot>\n                </table>"
      }
     },
     "842d398e0f0b49bb82816bf12e32d8ae": {
      "model_module_version": "^2.1.4",
      "state": {
       "children": [
        "IPY_MODEL_b3aaafaed364432d9f29a2334748fb51",
        "IPY_MODEL_0bb041ed3f25401da46f4d3b1b84bedd"
       ],
       "value": "<table style=\"width:100%\">\n                <thead>\n                    <tr>\n                        <th colspan=\"2\">\n                        Could not create model:\n                        </th>\n                    </tr>\n                </thead>\n                <tbody>\n                    <tr>\n                        <td>Model name</td>\n                        <td> undefined </td>\n                    </tr>\n                    <tr>\n                        <td>Model module</td>\n                        <td> undefined </td>\n                    </tr>\n                    <tr>\n                        <td>Model module version</td>\n                        <td> undefined </td>\n                    </tr>\n                <tbody>\n                <tfoot>\n                    <tr>\n                        <th colspan=\"2\">\n                        Class undefined not found in registry \n                        </th>\n                    </tr>\n                </tfoot>\n                </table>"
      }
     },
     "892d3ae0c7194bf880319e259ecc2978": {
      "model_module_version": "^2.1.4",
      "state": {
       "msg_id": "",
       "value": "<table style=\"width:100%\">\n                <thead>\n                    <tr>\n                        <th colspan=\"2\">\n                        Could not create model:\n                        </th>\n                    </tr>\n                </thead>\n                <tbody>\n                    <tr>\n                        <td>Model name</td>\n                        <td> undefined </td>\n                    </tr>\n                    <tr>\n                        <td>Model module</td>\n                        <td> undefined </td>\n                    </tr>\n                    <tr>\n                        <td>Model module version</td>\n                        <td> undefined </td>\n                    </tr>\n                <tbody>\n                <tfoot>\n                    <tr>\n                        <th colspan=\"2\">\n                        Class undefined not found in registry \n                        </th>\n                    </tr>\n                </tfoot>\n                </table>"
      }
     },
     "8c53fafbc3f84f67a956e57f3add21e6": {
      "model_module_version": "^2.1.4",
      "state": {
       "value": "<table style=\"width:100%\">\n                <thead>\n                    <tr>\n                        <th colspan=\"2\">\n                        Could not create model:\n                        </th>\n                    </tr>\n                </thead>\n                <tbody>\n                    <tr>\n                        <td>Model name</td>\n                        <td> undefined </td>\n                    </tr>\n                    <tr>\n                        <td>Model module</td>\n                        <td> undefined </td>\n                    </tr>\n                    <tr>\n                        <td>Model module version</td>\n                        <td> undefined </td>\n                    </tr>\n                <tbody>\n                <tfoot>\n                    <tr>\n                        <th colspan=\"2\">\n                        Class undefined not found in registry \n                        </th>\n                    </tr>\n                </tfoot>\n                </table>"
      }
     },
     "96847b2fae384f758634f48976d6387d": {
      "model_module_version": "^2.1.4",
      "state": {
       "value": "<table style=\"width:100%\">\n                <thead>\n                    <tr>\n                        <th colspan=\"2\">\n                        Could not create model:\n                        </th>\n                    </tr>\n                </thead>\n                <tbody>\n                    <tr>\n                        <td>Model name</td>\n                        <td> undefined </td>\n                    </tr>\n                    <tr>\n                        <td>Model module</td>\n                        <td> undefined </td>\n                    </tr>\n                    <tr>\n                        <td>Model module version</td>\n                        <td> undefined </td>\n                    </tr>\n                <tbody>\n                <tfoot>\n                    <tr>\n                        <th colspan=\"2\">\n                        Class undefined not found in registry \n                        </th>\n                    </tr>\n                </tfoot>\n                </table>"
      }
     },
     "98eb087ff1554f3983db53fa15fe205e": {
      "model_module_version": "^2.1.4",
      "state": {
       "description": "x",
       "value": "<table style=\"width:100%\">\n                <thead>\n                    <tr>\n                        <th colspan=\"2\">\n                        Could not create model:\n                        </th>\n                    </tr>\n                </thead>\n                <tbody>\n                    <tr>\n                        <td>Model name</td>\n                        <td> undefined </td>\n                    </tr>\n                    <tr>\n                        <td>Model module</td>\n                        <td> undefined </td>\n                    </tr>\n                    <tr>\n                        <td>Model module version</td>\n                        <td> undefined </td>\n                    </tr>\n                <tbody>\n                <tfoot>\n                    <tr>\n                        <th colspan=\"2\">\n                        Class undefined not found in registry \n                        </th>\n                    </tr>\n                </tfoot>\n                </table>"
      }
     },
     "a2dd2b1e1f9b4734b2e3aa1dbffdcd04": {
      "model_module_version": "^2.1.4",
      "state": {
       "value": "<table style=\"width:100%\">\n                <thead>\n                    <tr>\n                        <th colspan=\"2\">\n                        Could not create model:\n                        </th>\n                    </tr>\n                </thead>\n                <tbody>\n                    <tr>\n                        <td>Model name</td>\n                        <td> undefined </td>\n                    </tr>\n                    <tr>\n                        <td>Model module</td>\n                        <td> undefined </td>\n                    </tr>\n                    <tr>\n                        <td>Model module version</td>\n                        <td> undefined </td>\n                    </tr>\n                <tbody>\n                <tfoot>\n                    <tr>\n                        <th colspan=\"2\">\n                        Class undefined not found in registry \n                        </th>\n                    </tr>\n                </tfoot>\n                </table>"
      }
     },
     "a2f0d26a526e4befb8a931dedb6363eb": {
      "model_module_version": "^2.1.4",
      "state": {
       "value": "<table style=\"width:100%\">\n                <thead>\n                    <tr>\n                        <th colspan=\"2\">\n                        Could not create model:\n                        </th>\n                    </tr>\n                </thead>\n                <tbody>\n                    <tr>\n                        <td>Model name</td>\n                        <td> undefined </td>\n                    </tr>\n                    <tr>\n                        <td>Model module</td>\n                        <td> undefined </td>\n                    </tr>\n                    <tr>\n                        <td>Model module version</td>\n                        <td> undefined </td>\n                    </tr>\n                <tbody>\n                <tfoot>\n                    <tr>\n                        <th colspan=\"2\">\n                        Class undefined not found in registry \n                        </th>\n                    </tr>\n                </tfoot>\n                </table>"
      }
     },
     "a3da27f324824245ab4548048acf08ce": {
      "model_module": "jupyter-js-widgets",
      "model_module_version": "~2.1.4",
      "model_name": "LayoutModel",
      "state": {
       "_model_module_version": "~2.1.4",
       "_view_module_version": "~2.1.4"
      }
     },
     "a5e1aa2fc5f641d098f2cfa6420a592b": {
      "model_module_version": "^2.1.4",
      "state": {
       "value": "<table style=\"width:100%\">\n                <thead>\n                    <tr>\n                        <th colspan=\"2\">\n                        Could not create model:\n                        </th>\n                    </tr>\n                </thead>\n                <tbody>\n                    <tr>\n                        <td>Model name</td>\n                        <td> undefined </td>\n                    </tr>\n                    <tr>\n                        <td>Model module</td>\n                        <td> undefined </td>\n                    </tr>\n                    <tr>\n                        <td>Model module version</td>\n                        <td> undefined </td>\n                    </tr>\n                <tbody>\n                <tfoot>\n                    <tr>\n                        <th colspan=\"2\">\n                        Class undefined not found in registry \n                        </th>\n                    </tr>\n                </tfoot>\n                </table>"
      }
     },
     "acf1144a079947a3b72f448ff497b5aa": {
      "model_module": "jupyter-js-widgets",
      "model_module_version": "~2.1.4",
      "model_name": "IntSliderModel",
      "state": {
       "_model_module_version": "~2.1.4",
       "_view_module_version": "~2.1.4",
       "description": "x",
       "layout": "IPY_MODEL_3c2f6371fb9d4ef8963013d7ec752f1a",
       "max": 30,
       "min": -10,
       "style": "IPY_MODEL_4085225553f745b5a56321cf316c733e",
       "value": 10
      }
     },
     "ae4e57c864524cccb1f82071a8cd1230": {
      "model_module_version": "^2.1.4",
      "state": {
       "children": [
        "IPY_MODEL_83640725b367458d874b51c6da3c0298",
        "IPY_MODEL_46c3f00a4866401bb7d7dd886668baeb"
       ],
       "value": "<table style=\"width:100%\">\n                <thead>\n                    <tr>\n                        <th colspan=\"2\">\n                        Could not create model:\n                        </th>\n                    </tr>\n                </thead>\n                <tbody>\n                    <tr>\n                        <td>Model name</td>\n                        <td> undefined </td>\n                    </tr>\n                    <tr>\n                        <td>Model module</td>\n                        <td> undefined </td>\n                    </tr>\n                    <tr>\n                        <td>Model module version</td>\n                        <td> undefined </td>\n                    </tr>\n                <tbody>\n                <tfoot>\n                    <tr>\n                        <th colspan=\"2\">\n                        Class undefined not found in registry \n                        </th>\n                    </tr>\n                </tfoot>\n                </table>"
      }
     },
     "b3aaafaed364432d9f29a2334748fb51": {
      "model_module_version": "^2.1.4",
      "state": {
       "description": "x",
       "value": "<table style=\"width:100%\">\n                <thead>\n                    <tr>\n                        <th colspan=\"2\">\n                        Could not create model:\n                        </th>\n                    </tr>\n                </thead>\n                <tbody>\n                    <tr>\n                        <td>Model name</td>\n                        <td> undefined </td>\n                    </tr>\n                    <tr>\n                        <td>Model module</td>\n                        <td> undefined </td>\n                    </tr>\n                    <tr>\n                        <td>Model module version</td>\n                        <td> undefined </td>\n                    </tr>\n                <tbody>\n                <tfoot>\n                    <tr>\n                        <th colspan=\"2\">\n                        Class undefined not found in registry \n                        </th>\n                    </tr>\n                </tfoot>\n                </table>"
      }
     },
     "b5c4b56ba9cd45e1bdca6530cc78c9e1": {
      "model_module_version": "^2.1.4",
      "state": {
       "msg_id": "",
       "value": "<table style=\"width:100%\">\n                <thead>\n                    <tr>\n                        <th colspan=\"2\">\n                        Could not create model:\n                        </th>\n                    </tr>\n                </thead>\n                <tbody>\n                    <tr>\n                        <td>Model name</td>\n                        <td> undefined </td>\n                    </tr>\n                    <tr>\n                        <td>Model module</td>\n                        <td> undefined </td>\n                    </tr>\n                    <tr>\n                        <td>Model module version</td>\n                        <td> undefined </td>\n                    </tr>\n                <tbody>\n                <tfoot>\n                    <tr>\n                        <th colspan=\"2\">\n                        Class undefined not found in registry \n                        </th>\n                    </tr>\n                </tfoot>\n                </table>"
      }
     },
     "b74b2bb279ff49c9a7b8384e115dda91": {
      "model_module_version": "^2.1.4",
      "state": {
       "msg_id": "",
       "value": "<table style=\"width:100%\">\n                <thead>\n                    <tr>\n                        <th colspan=\"2\">\n                        Could not create model:\n                        </th>\n                    </tr>\n                </thead>\n                <tbody>\n                    <tr>\n                        <td>Model name</td>\n                        <td> undefined </td>\n                    </tr>\n                    <tr>\n                        <td>Model module</td>\n                        <td> undefined </td>\n                    </tr>\n                    <tr>\n                        <td>Model module version</td>\n                        <td> undefined </td>\n                    </tr>\n                <tbody>\n                <tfoot>\n                    <tr>\n                        <th colspan=\"2\">\n                        Class undefined not found in registry \n                        </th>\n                    </tr>\n                </tfoot>\n                </table>"
      }
     },
     "bc40a99774e645d6a95f8c5424ed326e": {
      "model_module_version": "^2.1.4",
      "state": {
       "description": "x",
       "value": "<table style=\"width:100%\">\n                <thead>\n                    <tr>\n                        <th colspan=\"2\">\n                        Could not create model:\n                        </th>\n                    </tr>\n                </thead>\n                <tbody>\n                    <tr>\n                        <td>Model name</td>\n                        <td> undefined </td>\n                    </tr>\n                    <tr>\n                        <td>Model module</td>\n                        <td> undefined </td>\n                    </tr>\n                    <tr>\n                        <td>Model module version</td>\n                        <td> undefined </td>\n                    </tr>\n                <tbody>\n                <tfoot>\n                    <tr>\n                        <th colspan=\"2\">\n                        Class undefined not found in registry \n                        </th>\n                    </tr>\n                </tfoot>\n                </table>"
      }
     },
     "c40e39ab08b34613bb2767f4b2e60411": {
      "model_module_version": "^2.1.4",
      "state": {
       "value": "<table style=\"width:100%\">\n                <thead>\n                    <tr>\n                        <th colspan=\"2\">\n                        Could not create model:\n                        </th>\n                    </tr>\n                </thead>\n                <tbody>\n                    <tr>\n                        <td>Model name</td>\n                        <td> undefined </td>\n                    </tr>\n                    <tr>\n                        <td>Model module</td>\n                        <td> undefined </td>\n                    </tr>\n                    <tr>\n                        <td>Model module version</td>\n                        <td> undefined </td>\n                    </tr>\n                <tbody>\n                <tfoot>\n                    <tr>\n                        <th colspan=\"2\">\n                        Class undefined not found in registry \n                        </th>\n                    </tr>\n                </tfoot>\n                </table>"
      }
     },
     "ca7fc7414df744c1a12a80afcd929124": {
      "model_module_version": "^2.1.4",
      "state": {
       "description": "x",
       "value": "<table style=\"width:100%\">\n                <thead>\n                    <tr>\n                        <th colspan=\"2\">\n                        Could not create model:\n                        </th>\n                    </tr>\n                </thead>\n                <tbody>\n                    <tr>\n                        <td>Model name</td>\n                        <td> undefined </td>\n                    </tr>\n                    <tr>\n                        <td>Model module</td>\n                        <td> undefined </td>\n                    </tr>\n                    <tr>\n                        <td>Model module version</td>\n                        <td> undefined </td>\n                    </tr>\n                <tbody>\n                <tfoot>\n                    <tr>\n                        <th colspan=\"2\">\n                        Class undefined not found in registry \n                        </th>\n                    </tr>\n                </tfoot>\n                </table>"
      }
     },
     "d00724d28f834c4991169f92b8e447cb": {
      "model_module_version": "^2.1.4",
      "state": {
       "description": "x",
       "value": "<table style=\"width:100%\">\n                <thead>\n                    <tr>\n                        <th colspan=\"2\">\n                        Could not create model:\n                        </th>\n                    </tr>\n                </thead>\n                <tbody>\n                    <tr>\n                        <td>Model name</td>\n                        <td> undefined </td>\n                    </tr>\n                    <tr>\n                        <td>Model module</td>\n                        <td> undefined </td>\n                    </tr>\n                    <tr>\n                        <td>Model module version</td>\n                        <td> undefined </td>\n                    </tr>\n                <tbody>\n                <tfoot>\n                    <tr>\n                        <th colspan=\"2\">\n                        Class undefined not found in registry \n                        </th>\n                    </tr>\n                </tfoot>\n                </table>"
      }
     },
     "d11595e8990749f7a5f58f9502758e2d": {
      "model_module_version": "^2.1.4",
      "state": {
       "value": "<table style=\"width:100%\">\n                <thead>\n                    <tr>\n                        <th colspan=\"2\">\n                        Could not create model:\n                        </th>\n                    </tr>\n                </thead>\n                <tbody>\n                    <tr>\n                        <td>Model name</td>\n                        <td> undefined </td>\n                    </tr>\n                    <tr>\n                        <td>Model module</td>\n                        <td> undefined </td>\n                    </tr>\n                    <tr>\n                        <td>Model module version</td>\n                        <td> undefined </td>\n                    </tr>\n                <tbody>\n                <tfoot>\n                    <tr>\n                        <th colspan=\"2\">\n                        Class undefined not found in registry \n                        </th>\n                    </tr>\n                </tfoot>\n                </table>"
      }
     },
     "d37973aee6ad4ad3afc2983cc4640538": {
      "model_module_version": "^2.1.4",
      "state": {
       "value": "<table style=\"width:100%\">\n                <thead>\n                    <tr>\n                        <th colspan=\"2\">\n                        Could not create model:\n                        </th>\n                    </tr>\n                </thead>\n                <tbody>\n                    <tr>\n                        <td>Model name</td>\n                        <td> undefined </td>\n                    </tr>\n                    <tr>\n                        <td>Model module</td>\n                        <td> undefined </td>\n                    </tr>\n                    <tr>\n                        <td>Model module version</td>\n                        <td> undefined </td>\n                    </tr>\n                <tbody>\n                <tfoot>\n                    <tr>\n                        <th colspan=\"2\">\n                        Class undefined not found in registry \n                        </th>\n                    </tr>\n                </tfoot>\n                </table>"
      }
     },
     "d8e4be7cd0c144abb637254495935400": {
      "model_module_version": "^2.1.4",
      "state": {
       "value": "<table style=\"width:100%\">\n                <thead>\n                    <tr>\n                        <th colspan=\"2\">\n                        Could not create model:\n                        </th>\n                    </tr>\n                </thead>\n                <tbody>\n                    <tr>\n                        <td>Model name</td>\n                        <td> undefined </td>\n                    </tr>\n                    <tr>\n                        <td>Model module</td>\n                        <td> undefined </td>\n                    </tr>\n                    <tr>\n                        <td>Model module version</td>\n                        <td> undefined </td>\n                    </tr>\n                <tbody>\n                <tfoot>\n                    <tr>\n                        <th colspan=\"2\">\n                        Class undefined not found in registry \n                        </th>\n                    </tr>\n                </tfoot>\n                </table>"
      }
     },
     "d929f758e3d743e4bad5ee4b0e0e2971": {
      "model_module_version": "^2.1.4",
      "state": {
       "value": "<table style=\"width:100%\">\n                <thead>\n                    <tr>\n                        <th colspan=\"2\">\n                        Could not create model:\n                        </th>\n                    </tr>\n                </thead>\n                <tbody>\n                    <tr>\n                        <td>Model name</td>\n                        <td> undefined </td>\n                    </tr>\n                    <tr>\n                        <td>Model module</td>\n                        <td> undefined </td>\n                    </tr>\n                    <tr>\n                        <td>Model module version</td>\n                        <td> undefined </td>\n                    </tr>\n                <tbody>\n                <tfoot>\n                    <tr>\n                        <th colspan=\"2\">\n                        Class undefined not found in registry \n                        </th>\n                    </tr>\n                </tfoot>\n                </table>"
      }
     },
     "db0ea3166b744eb3914ca4a329e1f134": {
      "model_module_version": "^2.1.4",
      "state": {
       "value": "<table style=\"width:100%\">\n                <thead>\n                    <tr>\n                        <th colspan=\"2\">\n                        Could not create model:\n                        </th>\n                    </tr>\n                </thead>\n                <tbody>\n                    <tr>\n                        <td>Model name</td>\n                        <td> undefined </td>\n                    </tr>\n                    <tr>\n                        <td>Model module</td>\n                        <td> undefined </td>\n                    </tr>\n                    <tr>\n                        <td>Model module version</td>\n                        <td> undefined </td>\n                    </tr>\n                <tbody>\n                <tfoot>\n                    <tr>\n                        <th colspan=\"2\">\n                        Class undefined not found in registry \n                        </th>\n                    </tr>\n                </tfoot>\n                </table>"
      }
     },
     "de03135fc545466a891c5c7f1191cb4b": {
      "model_module_version": "^2.1.4",
      "state": {
       "children": [
        "IPY_MODEL_6aaa433ab117461b889545d142a27175",
        "IPY_MODEL_4a96e2d67ee54a41a257d81719387929"
       ],
       "value": "<table style=\"width:100%\">\n                <thead>\n                    <tr>\n                        <th colspan=\"2\">\n                        Could not create model:\n                        </th>\n                    </tr>\n                </thead>\n                <tbody>\n                    <tr>\n                        <td>Model name</td>\n                        <td> undefined </td>\n                    </tr>\n                    <tr>\n                        <td>Model module</td>\n                        <td> undefined </td>\n                    </tr>\n                    <tr>\n                        <td>Model module version</td>\n                        <td> undefined </td>\n                    </tr>\n                <tbody>\n                <tfoot>\n                    <tr>\n                        <th colspan=\"2\">\n                        Class undefined not found in registry \n                        </th>\n                    </tr>\n                </tfoot>\n                </table>"
      }
     },
     "e2d7a38ef7dc48099cc27bfcc2a6a4c9": {
      "model_module_version": "^2.1.4",
      "state": {
       "value": "<table style=\"width:100%\">\n                <thead>\n                    <tr>\n                        <th colspan=\"2\">\n                        Could not create model:\n                        </th>\n                    </tr>\n                </thead>\n                <tbody>\n                    <tr>\n                        <td>Model name</td>\n                        <td> undefined </td>\n                    </tr>\n                    <tr>\n                        <td>Model module</td>\n                        <td> undefined </td>\n                    </tr>\n                    <tr>\n                        <td>Model module version</td>\n                        <td> undefined </td>\n                    </tr>\n                <tbody>\n                <tfoot>\n                    <tr>\n                        <th colspan=\"2\">\n                        Class undefined not found in registry \n                        </th>\n                    </tr>\n                </tfoot>\n                </table>"
      }
     },
     "e2eabeb5e95644c6994f2f3be516a507": {
      "model_module_version": "^2.1.4",
      "state": {
       "value": "<table style=\"width:100%\">\n                <thead>\n                    <tr>\n                        <th colspan=\"2\">\n                        Could not create model:\n                        </th>\n                    </tr>\n                </thead>\n                <tbody>\n                    <tr>\n                        <td>Model name</td>\n                        <td> undefined </td>\n                    </tr>\n                    <tr>\n                        <td>Model module</td>\n                        <td> undefined </td>\n                    </tr>\n                    <tr>\n                        <td>Model module version</td>\n                        <td> undefined </td>\n                    </tr>\n                <tbody>\n                <tfoot>\n                    <tr>\n                        <th colspan=\"2\">\n                        Class undefined not found in registry \n                        </th>\n                    </tr>\n                </tfoot>\n                </table>"
      }
     },
     "e8c41950a9d349d2a093b110f66cbb72": {
      "model_module_version": "^2.1.4",
      "state": {
       "description": "x",
       "value": "<table style=\"width:100%\">\n                <thead>\n                    <tr>\n                        <th colspan=\"2\">\n                        Could not create model:\n                        </th>\n                    </tr>\n                </thead>\n                <tbody>\n                    <tr>\n                        <td>Model name</td>\n                        <td> undefined </td>\n                    </tr>\n                    <tr>\n                        <td>Model module</td>\n                        <td> undefined </td>\n                    </tr>\n                    <tr>\n                        <td>Model module version</td>\n                        <td> undefined </td>\n                    </tr>\n                <tbody>\n                <tfoot>\n                    <tr>\n                        <th colspan=\"2\">\n                        Class undefined not found in registry \n                        </th>\n                    </tr>\n                </tfoot>\n                </table>"
      }
     },
     "eef3d499980c484890b8c35cc146b9ed": {
      "model_module_version": "^2.1.4",
      "state": {
       "value": "<table style=\"width:100%\">\n                <thead>\n                    <tr>\n                        <th colspan=\"2\">\n                        Could not create model:\n                        </th>\n                    </tr>\n                </thead>\n                <tbody>\n                    <tr>\n                        <td>Model name</td>\n                        <td> undefined </td>\n                    </tr>\n                    <tr>\n                        <td>Model module</td>\n                        <td> undefined </td>\n                    </tr>\n                    <tr>\n                        <td>Model module version</td>\n                        <td> undefined </td>\n                    </tr>\n                <tbody>\n                <tfoot>\n                    <tr>\n                        <th colspan=\"2\">\n                        Class undefined not found in registry \n                        </th>\n                    </tr>\n                </tfoot>\n                </table>"
      }
     },
     "f43621a7182443dbaba6a026a3ea8c76": {
      "model_module_version": "^2.1.4",
      "state": {
       "value": "<table style=\"width:100%\">\n                <thead>\n                    <tr>\n                        <th colspan=\"2\">\n                        Could not create model:\n                        </th>\n                    </tr>\n                </thead>\n                <tbody>\n                    <tr>\n                        <td>Model name</td>\n                        <td> undefined </td>\n                    </tr>\n                    <tr>\n                        <td>Model module</td>\n                        <td> undefined </td>\n                    </tr>\n                    <tr>\n                        <td>Model module version</td>\n                        <td> undefined </td>\n                    </tr>\n                <tbody>\n                <tfoot>\n                    <tr>\n                        <th colspan=\"2\">\n                        Class undefined not found in registry \n                        </th>\n                    </tr>\n                </tfoot>\n                </table>"
      }
     },
     "f5d70fc558214794b4dd91314f8746c8": {
      "model_module_version": "^2.1.4",
      "state": {
       "value": "<table style=\"width:100%\">\n                <thead>\n                    <tr>\n                        <th colspan=\"2\">\n                        Could not create model:\n                        </th>\n                    </tr>\n                </thead>\n                <tbody>\n                    <tr>\n                        <td>Model name</td>\n                        <td> undefined </td>\n                    </tr>\n                    <tr>\n                        <td>Model module</td>\n                        <td> undefined </td>\n                    </tr>\n                    <tr>\n                        <td>Model module version</td>\n                        <td> undefined </td>\n                    </tr>\n                <tbody>\n                <tfoot>\n                    <tr>\n                        <th colspan=\"2\">\n                        Class undefined not found in registry \n                        </th>\n                    </tr>\n                </tfoot>\n                </table>"
      }
     }
    },
    "version_major": 1,
    "version_minor": 0
   }
  }
 },
 "nbformat": 4,
 "nbformat_minor": 2
}
