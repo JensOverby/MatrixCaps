{
 "cells": [
  {
   "cell_type": "markdown",
   "metadata": {},
   "source": [
    "# CAPSNET Monitor"
   ]
  },
  {
   "cell_type": "code",
   "execution_count": 1,
   "metadata": {},
   "outputs": [
    {
     "data": {
      "text/html": [
       "<script>\n",
       "code_show=true; \n",
       "function code_toggle() {\n",
       " if (code_show){\n",
       " $('div.input').hide();\n",
       " } else {\n",
       " $('div.input').show();\n",
       " }\n",
       " code_show = !code_show\n",
       "} \n",
       "$( document ).ready(code_toggle);\n",
       "</script>\n",
       "<form action=\"javascript:code_toggle()\"><input type=\"submit\" value=\"Click here to toggle on/off the raw code.\"></form>"
      ],
      "text/plain": [
       "<IPython.core.display.HTML object>"
      ]
     },
     "execution_count": 1,
     "metadata": {},
     "output_type": "execute_result"
    }
   ],
   "source": [
    "from IPython.display import HTML\n",
    "\n",
    "HTML('''<script>\n",
    "code_show=true; \n",
    "function code_toggle() {\n",
    " if (code_show){\n",
    " $('div.input').hide();\n",
    " } else {\n",
    " $('div.input').show();\n",
    " }\n",
    " code_show = !code_show\n",
    "} \n",
    "$( document ).ready(code_toggle);\n",
    "</script>\n",
    "<form action=\"javascript:code_toggle()\"><input type=\"submit\" value=\"Click here to toggle on/off the raw code.\"></form>''')\n"
   ]
  },
  {
   "cell_type": "code",
   "execution_count": 2,
   "metadata": {
    "scrolled": true
   },
   "outputs": [
    {
     "data": {
      "text/html": [
       "<style>\n",
       ".output_wrapper button.btn.btn-default,\n",
       ".output_wrapper .ui-dialog-titlebar {\n",
       "  display: none;\n",
       "}\n",
       "</style>"
      ],
      "text/plain": [
       "<IPython.core.display.HTML object>"
      ]
     },
     "execution_count": 2,
     "metadata": {},
     "output_type": "execute_result"
    }
   ],
   "source": [
    "HTML(\n",
    "'''<style>\n",
    ".output_wrapper button.btn.btn-default,\n",
    ".output_wrapper .ui-dialog-titlebar {\n",
    "  display: none;\n",
    "}\n",
    "</style>''')\n"
   ]
  },
  {
   "cell_type": "code",
   "execution_count": 3,
   "metadata": {
    "scrolled": false
   },
   "outputs": [],
   "source": [
    "%matplotlib notebook\n",
    "\n",
    "import os\n",
    "#os.chdir('/home/jens/eclipse-workspace/MatrixCaps/Matrix-Capsule-Network/')\n",
    "\n",
    "import sys\n",
    "import pyrr\n",
    "#sys.path.append('../model')\n",
    "sys.path.append('..')\n",
    "import torch\n",
    "from torch.autograd import Variable\n",
    "from torchvision import datasets\n",
    "from torchvision import transforms\n",
    "from torchvision import utils\n",
    "import torch.nn.functional as F\n",
    "import model.capsules as mcaps\n",
    "import model.util as util\n",
    "import matplotlib\n",
    "import matplotlib.pyplot as plt\n",
    "import numpy as np\n",
    "import time\n",
    "import pyrr\n",
    "\n",
    "import ipywidgets as widgets\n",
    "from ipywidgets import FloatSlider, HBox, VBox, Layout\n",
    "matplotlib.pyplot.ioff()\n",
    "\n",
    "import glob\n",
    "from IPython.display import display, Markdown, Image\n",
    "\n",
    "import PIL.Image\n",
    "from io import BytesIO\n"
   ]
  },
  {
   "cell_type": "markdown",
   "metadata": {},
   "source": [
    "## Matrix Capsules LOSS plot"
   ]
  },
  {
   "cell_type": "code",
   "execution_count": 4,
   "metadata": {},
   "outputs": [
    {
     "data": {
      "application/javascript": [
       "/* Put everything inside the global mpl namespace */\n",
       "window.mpl = {};\n",
       "\n",
       "\n",
       "mpl.get_websocket_type = function() {\n",
       "    if (typeof(WebSocket) !== 'undefined') {\n",
       "        return WebSocket;\n",
       "    } else if (typeof(MozWebSocket) !== 'undefined') {\n",
       "        return MozWebSocket;\n",
       "    } else {\n",
       "        alert('Your browser does not have WebSocket support.' +\n",
       "              'Please try Chrome, Safari or Firefox ≥ 6. ' +\n",
       "              'Firefox 4 and 5 are also supported but you ' +\n",
       "              'have to enable WebSockets in about:config.');\n",
       "    };\n",
       "}\n",
       "\n",
       "mpl.figure = function(figure_id, websocket, ondownload, parent_element) {\n",
       "    this.id = figure_id;\n",
       "\n",
       "    this.ws = websocket;\n",
       "\n",
       "    this.supports_binary = (this.ws.binaryType != undefined);\n",
       "\n",
       "    if (!this.supports_binary) {\n",
       "        var warnings = document.getElementById(\"mpl-warnings\");\n",
       "        if (warnings) {\n",
       "            warnings.style.display = 'block';\n",
       "            warnings.textContent = (\n",
       "                \"This browser does not support binary websocket messages. \" +\n",
       "                    \"Performance may be slow.\");\n",
       "        }\n",
       "    }\n",
       "\n",
       "    this.imageObj = new Image();\n",
       "\n",
       "    this.context = undefined;\n",
       "    this.message = undefined;\n",
       "    this.canvas = undefined;\n",
       "    this.rubberband_canvas = undefined;\n",
       "    this.rubberband_context = undefined;\n",
       "    this.format_dropdown = undefined;\n",
       "\n",
       "    this.image_mode = 'full';\n",
       "\n",
       "    this.root = $('<div/>');\n",
       "    this._root_extra_style(this.root)\n",
       "    this.root.attr('style', 'display: inline-block');\n",
       "\n",
       "    $(parent_element).append(this.root);\n",
       "\n",
       "    this._init_header(this);\n",
       "    this._init_canvas(this);\n",
       "    this._init_toolbar(this);\n",
       "\n",
       "    var fig = this;\n",
       "\n",
       "    this.waiting = false;\n",
       "\n",
       "    this.ws.onopen =  function () {\n",
       "            fig.send_message(\"supports_binary\", {value: fig.supports_binary});\n",
       "            fig.send_message(\"send_image_mode\", {});\n",
       "            if (mpl.ratio != 1) {\n",
       "                fig.send_message(\"set_dpi_ratio\", {'dpi_ratio': mpl.ratio});\n",
       "            }\n",
       "            fig.send_message(\"refresh\", {});\n",
       "        }\n",
       "\n",
       "    this.imageObj.onload = function() {\n",
       "            if (fig.image_mode == 'full') {\n",
       "                // Full images could contain transparency (where diff images\n",
       "                // almost always do), so we need to clear the canvas so that\n",
       "                // there is no ghosting.\n",
       "                fig.context.clearRect(0, 0, fig.canvas.width, fig.canvas.height);\n",
       "            }\n",
       "            fig.context.drawImage(fig.imageObj, 0, 0);\n",
       "        };\n",
       "\n",
       "    this.imageObj.onunload = function() {\n",
       "        fig.ws.close();\n",
       "    }\n",
       "\n",
       "    this.ws.onmessage = this._make_on_message_function(this);\n",
       "\n",
       "    this.ondownload = ondownload;\n",
       "}\n",
       "\n",
       "mpl.figure.prototype._init_header = function() {\n",
       "    var titlebar = $(\n",
       "        '<div class=\"ui-dialog-titlebar ui-widget-header ui-corner-all ' +\n",
       "        'ui-helper-clearfix\"/>');\n",
       "    var titletext = $(\n",
       "        '<div class=\"ui-dialog-title\" style=\"width: 100%; ' +\n",
       "        'text-align: center; padding: 3px;\"/>');\n",
       "    titlebar.append(titletext)\n",
       "    this.root.append(titlebar);\n",
       "    this.header = titletext[0];\n",
       "}\n",
       "\n",
       "\n",
       "\n",
       "mpl.figure.prototype._canvas_extra_style = function(canvas_div) {\n",
       "\n",
       "}\n",
       "\n",
       "\n",
       "mpl.figure.prototype._root_extra_style = function(canvas_div) {\n",
       "\n",
       "}\n",
       "\n",
       "mpl.figure.prototype._init_canvas = function() {\n",
       "    var fig = this;\n",
       "\n",
       "    var canvas_div = $('<div/>');\n",
       "\n",
       "    canvas_div.attr('style', 'position: relative; clear: both; outline: 0');\n",
       "\n",
       "    function canvas_keyboard_event(event) {\n",
       "        return fig.key_event(event, event['data']);\n",
       "    }\n",
       "\n",
       "    canvas_div.keydown('key_press', canvas_keyboard_event);\n",
       "    canvas_div.keyup('key_release', canvas_keyboard_event);\n",
       "    this.canvas_div = canvas_div\n",
       "    this._canvas_extra_style(canvas_div)\n",
       "    this.root.append(canvas_div);\n",
       "\n",
       "    var canvas = $('<canvas/>');\n",
       "    canvas.addClass('mpl-canvas');\n",
       "    canvas.attr('style', \"left: 0; top: 0; z-index: 0; outline: 0\")\n",
       "\n",
       "    this.canvas = canvas[0];\n",
       "    this.context = canvas[0].getContext(\"2d\");\n",
       "\n",
       "    var backingStore = this.context.backingStorePixelRatio ||\n",
       "\tthis.context.webkitBackingStorePixelRatio ||\n",
       "\tthis.context.mozBackingStorePixelRatio ||\n",
       "\tthis.context.msBackingStorePixelRatio ||\n",
       "\tthis.context.oBackingStorePixelRatio ||\n",
       "\tthis.context.backingStorePixelRatio || 1;\n",
       "\n",
       "    mpl.ratio = (window.devicePixelRatio || 1) / backingStore;\n",
       "\n",
       "    var rubberband = $('<canvas/>');\n",
       "    rubberband.attr('style', \"position: absolute; left: 0; top: 0; z-index: 1;\")\n",
       "\n",
       "    var pass_mouse_events = true;\n",
       "\n",
       "    canvas_div.resizable({\n",
       "        start: function(event, ui) {\n",
       "            pass_mouse_events = false;\n",
       "        },\n",
       "        resize: function(event, ui) {\n",
       "            fig.request_resize(ui.size.width, ui.size.height);\n",
       "        },\n",
       "        stop: function(event, ui) {\n",
       "            pass_mouse_events = true;\n",
       "            fig.request_resize(ui.size.width, ui.size.height);\n",
       "        },\n",
       "    });\n",
       "\n",
       "    function mouse_event_fn(event) {\n",
       "        if (pass_mouse_events)\n",
       "            return fig.mouse_event(event, event['data']);\n",
       "    }\n",
       "\n",
       "    rubberband.mousedown('button_press', mouse_event_fn);\n",
       "    rubberband.mouseup('button_release', mouse_event_fn);\n",
       "    // Throttle sequential mouse events to 1 every 20ms.\n",
       "    rubberband.mousemove('motion_notify', mouse_event_fn);\n",
       "\n",
       "    rubberband.mouseenter('figure_enter', mouse_event_fn);\n",
       "    rubberband.mouseleave('figure_leave', mouse_event_fn);\n",
       "\n",
       "    canvas_div.on(\"wheel\", function (event) {\n",
       "        event = event.originalEvent;\n",
       "        event['data'] = 'scroll'\n",
       "        if (event.deltaY < 0) {\n",
       "            event.step = 1;\n",
       "        } else {\n",
       "            event.step = -1;\n",
       "        }\n",
       "        mouse_event_fn(event);\n",
       "    });\n",
       "\n",
       "    canvas_div.append(canvas);\n",
       "    canvas_div.append(rubberband);\n",
       "\n",
       "    this.rubberband = rubberband;\n",
       "    this.rubberband_canvas = rubberband[0];\n",
       "    this.rubberband_context = rubberband[0].getContext(\"2d\");\n",
       "    this.rubberband_context.strokeStyle = \"#000000\";\n",
       "\n",
       "    this._resize_canvas = function(width, height) {\n",
       "        // Keep the size of the canvas, canvas container, and rubber band\n",
       "        // canvas in synch.\n",
       "        canvas_div.css('width', width)\n",
       "        canvas_div.css('height', height)\n",
       "\n",
       "        canvas.attr('width', width * mpl.ratio);\n",
       "        canvas.attr('height', height * mpl.ratio);\n",
       "        canvas.attr('style', 'width: ' + width + 'px; height: ' + height + 'px;');\n",
       "\n",
       "        rubberband.attr('width', width);\n",
       "        rubberband.attr('height', height);\n",
       "    }\n",
       "\n",
       "    // Set the figure to an initial 600x600px, this will subsequently be updated\n",
       "    // upon first draw.\n",
       "    this._resize_canvas(600, 600);\n",
       "\n",
       "    // Disable right mouse context menu.\n",
       "    $(this.rubberband_canvas).bind(\"contextmenu\",function(e){\n",
       "        return false;\n",
       "    });\n",
       "\n",
       "    function set_focus () {\n",
       "        canvas.focus();\n",
       "        canvas_div.focus();\n",
       "    }\n",
       "\n",
       "    window.setTimeout(set_focus, 100);\n",
       "}\n",
       "\n",
       "mpl.figure.prototype._init_toolbar = function() {\n",
       "    var fig = this;\n",
       "\n",
       "    var nav_element = $('<div/>')\n",
       "    nav_element.attr('style', 'width: 100%');\n",
       "    this.root.append(nav_element);\n",
       "\n",
       "    // Define a callback function for later on.\n",
       "    function toolbar_event(event) {\n",
       "        return fig.toolbar_button_onclick(event['data']);\n",
       "    }\n",
       "    function toolbar_mouse_event(event) {\n",
       "        return fig.toolbar_button_onmouseover(event['data']);\n",
       "    }\n",
       "\n",
       "    for(var toolbar_ind in mpl.toolbar_items) {\n",
       "        var name = mpl.toolbar_items[toolbar_ind][0];\n",
       "        var tooltip = mpl.toolbar_items[toolbar_ind][1];\n",
       "        var image = mpl.toolbar_items[toolbar_ind][2];\n",
       "        var method_name = mpl.toolbar_items[toolbar_ind][3];\n",
       "\n",
       "        if (!name) {\n",
       "            // put a spacer in here.\n",
       "            continue;\n",
       "        }\n",
       "        var button = $('<button/>');\n",
       "        button.addClass('ui-button ui-widget ui-state-default ui-corner-all ' +\n",
       "                        'ui-button-icon-only');\n",
       "        button.attr('role', 'button');\n",
       "        button.attr('aria-disabled', 'false');\n",
       "        button.click(method_name, toolbar_event);\n",
       "        button.mouseover(tooltip, toolbar_mouse_event);\n",
       "\n",
       "        var icon_img = $('<span/>');\n",
       "        icon_img.addClass('ui-button-icon-primary ui-icon');\n",
       "        icon_img.addClass(image);\n",
       "        icon_img.addClass('ui-corner-all');\n",
       "\n",
       "        var tooltip_span = $('<span/>');\n",
       "        tooltip_span.addClass('ui-button-text');\n",
       "        tooltip_span.html(tooltip);\n",
       "\n",
       "        button.append(icon_img);\n",
       "        button.append(tooltip_span);\n",
       "\n",
       "        nav_element.append(button);\n",
       "    }\n",
       "\n",
       "    var fmt_picker_span = $('<span/>');\n",
       "\n",
       "    var fmt_picker = $('<select/>');\n",
       "    fmt_picker.addClass('mpl-toolbar-option ui-widget ui-widget-content');\n",
       "    fmt_picker_span.append(fmt_picker);\n",
       "    nav_element.append(fmt_picker_span);\n",
       "    this.format_dropdown = fmt_picker[0];\n",
       "\n",
       "    for (var ind in mpl.extensions) {\n",
       "        var fmt = mpl.extensions[ind];\n",
       "        var option = $(\n",
       "            '<option/>', {selected: fmt === mpl.default_extension}).html(fmt);\n",
       "        fmt_picker.append(option)\n",
       "    }\n",
       "\n",
       "    // Add hover states to the ui-buttons\n",
       "    $( \".ui-button\" ).hover(\n",
       "        function() { $(this).addClass(\"ui-state-hover\");},\n",
       "        function() { $(this).removeClass(\"ui-state-hover\");}\n",
       "    );\n",
       "\n",
       "    var status_bar = $('<span class=\"mpl-message\"/>');\n",
       "    nav_element.append(status_bar);\n",
       "    this.message = status_bar[0];\n",
       "}\n",
       "\n",
       "mpl.figure.prototype.request_resize = function(x_pixels, y_pixels) {\n",
       "    // Request matplotlib to resize the figure. Matplotlib will then trigger a resize in the client,\n",
       "    // which will in turn request a refresh of the image.\n",
       "    this.send_message('resize', {'width': x_pixels, 'height': y_pixels});\n",
       "}\n",
       "\n",
       "mpl.figure.prototype.send_message = function(type, properties) {\n",
       "    properties['type'] = type;\n",
       "    properties['figure_id'] = this.id;\n",
       "    this.ws.send(JSON.stringify(properties));\n",
       "}\n",
       "\n",
       "mpl.figure.prototype.send_draw_message = function() {\n",
       "    if (!this.waiting) {\n",
       "        this.waiting = true;\n",
       "        this.ws.send(JSON.stringify({type: \"draw\", figure_id: this.id}));\n",
       "    }\n",
       "}\n",
       "\n",
       "\n",
       "mpl.figure.prototype.handle_save = function(fig, msg) {\n",
       "    var format_dropdown = fig.format_dropdown;\n",
       "    var format = format_dropdown.options[format_dropdown.selectedIndex].value;\n",
       "    fig.ondownload(fig, format);\n",
       "}\n",
       "\n",
       "\n",
       "mpl.figure.prototype.handle_resize = function(fig, msg) {\n",
       "    var size = msg['size'];\n",
       "    if (size[0] != fig.canvas.width || size[1] != fig.canvas.height) {\n",
       "        fig._resize_canvas(size[0], size[1]);\n",
       "        fig.send_message(\"refresh\", {});\n",
       "    };\n",
       "}\n",
       "\n",
       "mpl.figure.prototype.handle_rubberband = function(fig, msg) {\n",
       "    var x0 = msg['x0'] / mpl.ratio;\n",
       "    var y0 = (fig.canvas.height - msg['y0']) / mpl.ratio;\n",
       "    var x1 = msg['x1'] / mpl.ratio;\n",
       "    var y1 = (fig.canvas.height - msg['y1']) / mpl.ratio;\n",
       "    x0 = Math.floor(x0) + 0.5;\n",
       "    y0 = Math.floor(y0) + 0.5;\n",
       "    x1 = Math.floor(x1) + 0.5;\n",
       "    y1 = Math.floor(y1) + 0.5;\n",
       "    var min_x = Math.min(x0, x1);\n",
       "    var min_y = Math.min(y0, y1);\n",
       "    var width = Math.abs(x1 - x0);\n",
       "    var height = Math.abs(y1 - y0);\n",
       "\n",
       "    fig.rubberband_context.clearRect(\n",
       "        0, 0, fig.canvas.width, fig.canvas.height);\n",
       "\n",
       "    fig.rubberband_context.strokeRect(min_x, min_y, width, height);\n",
       "}\n",
       "\n",
       "mpl.figure.prototype.handle_figure_label = function(fig, msg) {\n",
       "    // Updates the figure title.\n",
       "    fig.header.textContent = msg['label'];\n",
       "}\n",
       "\n",
       "mpl.figure.prototype.handle_cursor = function(fig, msg) {\n",
       "    var cursor = msg['cursor'];\n",
       "    switch(cursor)\n",
       "    {\n",
       "    case 0:\n",
       "        cursor = 'pointer';\n",
       "        break;\n",
       "    case 1:\n",
       "        cursor = 'default';\n",
       "        break;\n",
       "    case 2:\n",
       "        cursor = 'crosshair';\n",
       "        break;\n",
       "    case 3:\n",
       "        cursor = 'move';\n",
       "        break;\n",
       "    }\n",
       "    fig.rubberband_canvas.style.cursor = cursor;\n",
       "}\n",
       "\n",
       "mpl.figure.prototype.handle_message = function(fig, msg) {\n",
       "    fig.message.textContent = msg['message'];\n",
       "}\n",
       "\n",
       "mpl.figure.prototype.handle_draw = function(fig, msg) {\n",
       "    // Request the server to send over a new figure.\n",
       "    fig.send_draw_message();\n",
       "}\n",
       "\n",
       "mpl.figure.prototype.handle_image_mode = function(fig, msg) {\n",
       "    fig.image_mode = msg['mode'];\n",
       "}\n",
       "\n",
       "mpl.figure.prototype.updated_canvas_event = function() {\n",
       "    // Called whenever the canvas gets updated.\n",
       "    this.send_message(\"ack\", {});\n",
       "}\n",
       "\n",
       "// A function to construct a web socket function for onmessage handling.\n",
       "// Called in the figure constructor.\n",
       "mpl.figure.prototype._make_on_message_function = function(fig) {\n",
       "    return function socket_on_message(evt) {\n",
       "        if (evt.data instanceof Blob) {\n",
       "            /* FIXME: We get \"Resource interpreted as Image but\n",
       "             * transferred with MIME type text/plain:\" errors on\n",
       "             * Chrome.  But how to set the MIME type?  It doesn't seem\n",
       "             * to be part of the websocket stream */\n",
       "            evt.data.type = \"image/png\";\n",
       "\n",
       "            /* Free the memory for the previous frames */\n",
       "            if (fig.imageObj.src) {\n",
       "                (window.URL || window.webkitURL).revokeObjectURL(\n",
       "                    fig.imageObj.src);\n",
       "            }\n",
       "\n",
       "            fig.imageObj.src = (window.URL || window.webkitURL).createObjectURL(\n",
       "                evt.data);\n",
       "            fig.updated_canvas_event();\n",
       "            fig.waiting = false;\n",
       "            return;\n",
       "        }\n",
       "        else if (typeof evt.data === 'string' && evt.data.slice(0, 21) == \"data:image/png;base64\") {\n",
       "            fig.imageObj.src = evt.data;\n",
       "            fig.updated_canvas_event();\n",
       "            fig.waiting = false;\n",
       "            return;\n",
       "        }\n",
       "\n",
       "        var msg = JSON.parse(evt.data);\n",
       "        var msg_type = msg['type'];\n",
       "\n",
       "        // Call the  \"handle_{type}\" callback, which takes\n",
       "        // the figure and JSON message as its only arguments.\n",
       "        try {\n",
       "            var callback = fig[\"handle_\" + msg_type];\n",
       "        } catch (e) {\n",
       "            console.log(\"No handler for the '\" + msg_type + \"' message type: \", msg);\n",
       "            return;\n",
       "        }\n",
       "\n",
       "        if (callback) {\n",
       "            try {\n",
       "                // console.log(\"Handling '\" + msg_type + \"' message: \", msg);\n",
       "                callback(fig, msg);\n",
       "            } catch (e) {\n",
       "                console.log(\"Exception inside the 'handler_\" + msg_type + \"' callback:\", e, e.stack, msg);\n",
       "            }\n",
       "        }\n",
       "    };\n",
       "}\n",
       "\n",
       "// from http://stackoverflow.com/questions/1114465/getting-mouse-location-in-canvas\n",
       "mpl.findpos = function(e) {\n",
       "    //this section is from http://www.quirksmode.org/js/events_properties.html\n",
       "    var targ;\n",
       "    if (!e)\n",
       "        e = window.event;\n",
       "    if (e.target)\n",
       "        targ = e.target;\n",
       "    else if (e.srcElement)\n",
       "        targ = e.srcElement;\n",
       "    if (targ.nodeType == 3) // defeat Safari bug\n",
       "        targ = targ.parentNode;\n",
       "\n",
       "    // jQuery normalizes the pageX and pageY\n",
       "    // pageX,Y are the mouse positions relative to the document\n",
       "    // offset() returns the position of the element relative to the document\n",
       "    var x = e.pageX - $(targ).offset().left;\n",
       "    var y = e.pageY - $(targ).offset().top;\n",
       "\n",
       "    return {\"x\": x, \"y\": y};\n",
       "};\n",
       "\n",
       "/*\n",
       " * return a copy of an object with only non-object keys\n",
       " * we need this to avoid circular references\n",
       " * http://stackoverflow.com/a/24161582/3208463\n",
       " */\n",
       "function simpleKeys (original) {\n",
       "  return Object.keys(original).reduce(function (obj, key) {\n",
       "    if (typeof original[key] !== 'object')\n",
       "        obj[key] = original[key]\n",
       "    return obj;\n",
       "  }, {});\n",
       "}\n",
       "\n",
       "mpl.figure.prototype.mouse_event = function(event, name) {\n",
       "    var canvas_pos = mpl.findpos(event)\n",
       "\n",
       "    if (name === 'button_press')\n",
       "    {\n",
       "        this.canvas.focus();\n",
       "        this.canvas_div.focus();\n",
       "    }\n",
       "\n",
       "    var x = canvas_pos.x * mpl.ratio;\n",
       "    var y = canvas_pos.y * mpl.ratio;\n",
       "\n",
       "    this.send_message(name, {x: x, y: y, button: event.button,\n",
       "                             step: event.step,\n",
       "                             guiEvent: simpleKeys(event)});\n",
       "\n",
       "    /* This prevents the web browser from automatically changing to\n",
       "     * the text insertion cursor when the button is pressed.  We want\n",
       "     * to control all of the cursor setting manually through the\n",
       "     * 'cursor' event from matplotlib */\n",
       "    event.preventDefault();\n",
       "    return false;\n",
       "}\n",
       "\n",
       "mpl.figure.prototype._key_event_extra = function(event, name) {\n",
       "    // Handle any extra behaviour associated with a key event\n",
       "}\n",
       "\n",
       "mpl.figure.prototype.key_event = function(event, name) {\n",
       "\n",
       "    // Prevent repeat events\n",
       "    if (name == 'key_press')\n",
       "    {\n",
       "        if (event.which === this._key)\n",
       "            return;\n",
       "        else\n",
       "            this._key = event.which;\n",
       "    }\n",
       "    if (name == 'key_release')\n",
       "        this._key = null;\n",
       "\n",
       "    var value = '';\n",
       "    if (event.ctrlKey && event.which != 17)\n",
       "        value += \"ctrl+\";\n",
       "    if (event.altKey && event.which != 18)\n",
       "        value += \"alt+\";\n",
       "    if (event.shiftKey && event.which != 16)\n",
       "        value += \"shift+\";\n",
       "\n",
       "    value += 'k';\n",
       "    value += event.which.toString();\n",
       "\n",
       "    this._key_event_extra(event, name);\n",
       "\n",
       "    this.send_message(name, {key: value,\n",
       "                             guiEvent: simpleKeys(event)});\n",
       "    return false;\n",
       "}\n",
       "\n",
       "mpl.figure.prototype.toolbar_button_onclick = function(name) {\n",
       "    if (name == 'download') {\n",
       "        this.handle_save(this, null);\n",
       "    } else {\n",
       "        this.send_message(\"toolbar_button\", {name: name});\n",
       "    }\n",
       "};\n",
       "\n",
       "mpl.figure.prototype.toolbar_button_onmouseover = function(tooltip) {\n",
       "    this.message.textContent = tooltip;\n",
       "};\n",
       "mpl.toolbar_items = [[\"Home\", \"Reset original view\", \"fa fa-home icon-home\", \"home\"], [\"Back\", \"Back to  previous view\", \"fa fa-arrow-left icon-arrow-left\", \"back\"], [\"Forward\", \"Forward to next view\", \"fa fa-arrow-right icon-arrow-right\", \"forward\"], [\"\", \"\", \"\", \"\"], [\"Pan\", \"Pan axes with left mouse, zoom with right\", \"fa fa-arrows icon-move\", \"pan\"], [\"Zoom\", \"Zoom to rectangle\", \"fa fa-square-o icon-check-empty\", \"zoom\"], [\"\", \"\", \"\", \"\"], [\"Download\", \"Download plot\", \"fa fa-floppy-o icon-save\", \"download\"]];\n",
       "\n",
       "mpl.extensions = [\"eps\", \"jpeg\", \"pdf\", \"png\", \"ps\", \"raw\", \"svg\", \"tif\"];\n",
       "\n",
       "mpl.default_extension = \"png\";var comm_websocket_adapter = function(comm) {\n",
       "    // Create a \"websocket\"-like object which calls the given IPython comm\n",
       "    // object with the appropriate methods. Currently this is a non binary\n",
       "    // socket, so there is still some room for performance tuning.\n",
       "    var ws = {};\n",
       "\n",
       "    ws.close = function() {\n",
       "        comm.close()\n",
       "    };\n",
       "    ws.send = function(m) {\n",
       "        //console.log('sending', m);\n",
       "        comm.send(m);\n",
       "    };\n",
       "    // Register the callback with on_msg.\n",
       "    comm.on_msg(function(msg) {\n",
       "        //console.log('receiving', msg['content']['data'], msg);\n",
       "        // Pass the mpl event to the overridden (by mpl) onmessage function.\n",
       "        ws.onmessage(msg['content']['data'])\n",
       "    });\n",
       "    return ws;\n",
       "}\n",
       "\n",
       "mpl.mpl_figure_comm = function(comm, msg) {\n",
       "    // This is the function which gets called when the mpl process\n",
       "    // starts-up an IPython Comm through the \"matplotlib\" channel.\n",
       "\n",
       "    var id = msg.content.data.id;\n",
       "    // Get hold of the div created by the display call when the Comm\n",
       "    // socket was opened in Python.\n",
       "    var element = $(\"#\" + id);\n",
       "    var ws_proxy = comm_websocket_adapter(comm)\n",
       "\n",
       "    function ondownload(figure, format) {\n",
       "        window.open(figure.imageObj.src);\n",
       "    }\n",
       "\n",
       "    var fig = new mpl.figure(id, ws_proxy,\n",
       "                           ondownload,\n",
       "                           element.get(0));\n",
       "\n",
       "    // Call onopen now - mpl needs it, as it is assuming we've passed it a real\n",
       "    // web socket which is closed, not our websocket->open comm proxy.\n",
       "    ws_proxy.onopen();\n",
       "\n",
       "    fig.parent_element = element.get(0);\n",
       "    fig.cell_info = mpl.find_output_cell(\"<div id='\" + id + \"'></div>\");\n",
       "    if (!fig.cell_info) {\n",
       "        console.error(\"Failed to find cell for figure\", id, fig);\n",
       "        return;\n",
       "    }\n",
       "\n",
       "    var output_index = fig.cell_info[2]\n",
       "    var cell = fig.cell_info[0];\n",
       "\n",
       "};\n",
       "\n",
       "mpl.figure.prototype.handle_close = function(fig, msg) {\n",
       "    var width = fig.canvas.width/mpl.ratio\n",
       "    fig.root.unbind('remove')\n",
       "\n",
       "    // Update the output cell to use the data from the current canvas.\n",
       "    fig.push_to_output();\n",
       "    var dataURL = fig.canvas.toDataURL();\n",
       "    // Re-enable the keyboard manager in IPython - without this line, in FF,\n",
       "    // the notebook keyboard shortcuts fail.\n",
       "    IPython.keyboard_manager.enable()\n",
       "    $(fig.parent_element).html('<img src=\"' + dataURL + '\" width=\"' + width + '\">');\n",
       "    fig.close_ws(fig, msg);\n",
       "}\n",
       "\n",
       "mpl.figure.prototype.close_ws = function(fig, msg){\n",
       "    fig.send_message('closing', msg);\n",
       "    // fig.ws.close()\n",
       "}\n",
       "\n",
       "mpl.figure.prototype.push_to_output = function(remove_interactive) {\n",
       "    // Turn the data on the canvas into data in the output cell.\n",
       "    var width = this.canvas.width/mpl.ratio\n",
       "    var dataURL = this.canvas.toDataURL();\n",
       "    this.cell_info[1]['text/html'] = '<img src=\"' + dataURL + '\" width=\"' + width + '\">';\n",
       "}\n",
       "\n",
       "mpl.figure.prototype.updated_canvas_event = function() {\n",
       "    // Tell IPython that the notebook contents must change.\n",
       "    IPython.notebook.set_dirty(true);\n",
       "    this.send_message(\"ack\", {});\n",
       "    var fig = this;\n",
       "    // Wait a second, then push the new image to the DOM so\n",
       "    // that it is saved nicely (might be nice to debounce this).\n",
       "    setTimeout(function () { fig.push_to_output() }, 1000);\n",
       "}\n",
       "\n",
       "mpl.figure.prototype._init_toolbar = function() {\n",
       "    var fig = this;\n",
       "\n",
       "    var nav_element = $('<div/>')\n",
       "    nav_element.attr('style', 'width: 100%');\n",
       "    this.root.append(nav_element);\n",
       "\n",
       "    // Define a callback function for later on.\n",
       "    function toolbar_event(event) {\n",
       "        return fig.toolbar_button_onclick(event['data']);\n",
       "    }\n",
       "    function toolbar_mouse_event(event) {\n",
       "        return fig.toolbar_button_onmouseover(event['data']);\n",
       "    }\n",
       "\n",
       "    for(var toolbar_ind in mpl.toolbar_items){\n",
       "        var name = mpl.toolbar_items[toolbar_ind][0];\n",
       "        var tooltip = mpl.toolbar_items[toolbar_ind][1];\n",
       "        var image = mpl.toolbar_items[toolbar_ind][2];\n",
       "        var method_name = mpl.toolbar_items[toolbar_ind][3];\n",
       "\n",
       "        if (!name) { continue; };\n",
       "\n",
       "        var button = $('<button class=\"btn btn-default\" href=\"#\" title=\"' + name + '\"><i class=\"fa ' + image + ' fa-lg\"></i></button>');\n",
       "        button.click(method_name, toolbar_event);\n",
       "        button.mouseover(tooltip, toolbar_mouse_event);\n",
       "        nav_element.append(button);\n",
       "    }\n",
       "\n",
       "    // Add the status bar.\n",
       "    var status_bar = $('<span class=\"mpl-message\" style=\"text-align:right; float: right;\"/>');\n",
       "    nav_element.append(status_bar);\n",
       "    this.message = status_bar[0];\n",
       "\n",
       "    // Add the close button to the window.\n",
       "    var buttongrp = $('<div class=\"btn-group inline pull-right\"></div>');\n",
       "    var button = $('<button class=\"btn btn-mini btn-primary\" href=\"#\" title=\"Stop Interaction\"><i class=\"fa fa-power-off icon-remove icon-large\"></i></button>');\n",
       "    button.click(function (evt) { fig.handle_close(fig, {}); } );\n",
       "    button.mouseover('Stop Interaction', toolbar_mouse_event);\n",
       "    buttongrp.append(button);\n",
       "    var titlebar = this.root.find($('.ui-dialog-titlebar'));\n",
       "    titlebar.prepend(buttongrp);\n",
       "}\n",
       "\n",
       "mpl.figure.prototype._root_extra_style = function(el){\n",
       "    var fig = this\n",
       "    el.on(\"remove\", function(){\n",
       "\tfig.close_ws(fig, {});\n",
       "    });\n",
       "}\n",
       "\n",
       "mpl.figure.prototype._canvas_extra_style = function(el){\n",
       "    // this is important to make the div 'focusable\n",
       "    el.attr('tabindex', 0)\n",
       "    // reach out to IPython and tell the keyboard manager to turn it's self\n",
       "    // off when our div gets focus\n",
       "\n",
       "    // location in version 3\n",
       "    if (IPython.notebook.keyboard_manager) {\n",
       "        IPython.notebook.keyboard_manager.register_events(el);\n",
       "    }\n",
       "    else {\n",
       "        // location in version 2\n",
       "        IPython.keyboard_manager.register_events(el);\n",
       "    }\n",
       "\n",
       "}\n",
       "\n",
       "mpl.figure.prototype._key_event_extra = function(event, name) {\n",
       "    var manager = IPython.notebook.keyboard_manager;\n",
       "    if (!manager)\n",
       "        manager = IPython.keyboard_manager;\n",
       "\n",
       "    // Check for shift+enter\n",
       "    if (event.shiftKey && event.which == 13) {\n",
       "        this.canvas_div.blur();\n",
       "        event.shiftKey = false;\n",
       "        // Send a \"J\" for go to next cell\n",
       "        event.which = 74;\n",
       "        event.keyCode = 74;\n",
       "        manager.command_mode();\n",
       "        manager.handle_keydown(event);\n",
       "    }\n",
       "}\n",
       "\n",
       "mpl.figure.prototype.handle_save = function(fig, msg) {\n",
       "    fig.ondownload(fig, null);\n",
       "}\n",
       "\n",
       "\n",
       "mpl.find_output_cell = function(html_output) {\n",
       "    // Return the cell and output element which can be found *uniquely* in the notebook.\n",
       "    // Note - this is a bit hacky, but it is done because the \"notebook_saving.Notebook\"\n",
       "    // IPython event is triggered only after the cells have been serialised, which for\n",
       "    // our purposes (turning an active figure into a static one), is too late.\n",
       "    var cells = IPython.notebook.get_cells();\n",
       "    var ncells = cells.length;\n",
       "    for (var i=0; i<ncells; i++) {\n",
       "        var cell = cells[i];\n",
       "        if (cell.cell_type === 'code'){\n",
       "            for (var j=0; j<cell.output_area.outputs.length; j++) {\n",
       "                var data = cell.output_area.outputs[j];\n",
       "                if (data.data) {\n",
       "                    // IPython >= 3 moved mimebundle to data attribute of output\n",
       "                    data = data.data;\n",
       "                }\n",
       "                if (data['text/html'] == html_output) {\n",
       "                    return [cell, data, j];\n",
       "                }\n",
       "            }\n",
       "        }\n",
       "    }\n",
       "}\n",
       "\n",
       "// Register the function which deals with the matplotlib target/channel.\n",
       "// The kernel may be null if the page has been refreshed.\n",
       "if (IPython.notebook.kernel != null) {\n",
       "    IPython.notebook.kernel.comm_manager.register_target('matplotlib', mpl.mpl_figure_comm);\n",
       "}\n"
      ],
      "text/plain": [
       "<IPython.core.display.Javascript object>"
      ]
     },
     "metadata": {},
     "output_type": "display_data"
    },
    {
     "data": {
      "text/html": [
       "<img src=\"data:image/png;base64,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\" width=\"900\">"
      ],
      "text/plain": [
       "<IPython.core.display.HTML object>"
      ]
     },
     "metadata": {},
     "output_type": "display_data"
    },
    {
     "data": {
      "application/vnd.jupyter.widget-view+json": {
       "model_id": "d53eb6f4541e4f7e9872b1ae8ce2d41f",
       "version_major": 2,
       "version_minor": 0
      },
      "text/plain": [
       "Button(description='Update', style=ButtonStyle())"
      ]
     },
     "metadata": {},
     "output_type": "display_data"
    },
    {
     "data": {
      "application/vnd.jupyter.widget-view+json": {
       "model_id": "90f53d2811ef41868302e67065fd58d3",
       "version_major": 2,
       "version_minor": 0
      },
      "text/plain": [
       "IntText(value=30, description='Epoch history')"
      ]
     },
     "metadata": {},
     "output_type": "display_data"
    }
   ],
   "source": [
    "matplotlib.rcParams.update({'font.size': 22})\n",
    "fig3 = plt.figure(figsize = (9,6))\n",
    "ax3 = fig3.subplots()\n",
    "#matplotlib.pyplot.ion()\n",
    "\n",
    "\n",
    "button = widgets.Button(description=\"Update\")\n",
    "show_epochs = widgets.IntText(description='Epoch history',disabled=False)\n",
    "show_epochs.value = 30\n",
    "\n",
    "def on_button_clicked(b):\n",
    "    with open('../loss.log') as f:\n",
    "        content = f.readlines()\n",
    "    content = [float(x.strip()) for x in content]\n",
    "    xmin = 0\n",
    "    xmax = len(content)\n",
    "    if xmax > show_epochs.value:\n",
    "        xmin = xmax-show_epochs.value\n",
    "        content = content[xmin:xmax]\n",
    "    ymin = np.min(content)\n",
    "    ymax = np.max(content)\n",
    "    x_axis = np.linspace(xmin, xmax-1, num=xmax-xmin)\n",
    "\n",
    "    #matplotlib.pyplot.gcf().clear()\n",
    "    ax3.clear()\n",
    "    ax3.set_xlim(xmin, xmax)\n",
    "    yaxismin = ymin - (ymax-ymin)/3\n",
    "    if yaxismin < 0:\n",
    "        yaxismin = 0\n",
    "    ax3.set_ylim(ymin - (ymax-ymin)/3, ymax)\n",
    "    ax3.plot(x_axis, content, linewidth=5.0)\n",
    "    ax3.xaxis.set_major_locator(matplotlib.ticker.MaxNLocator(integer=True))\n",
    "    ax3.grid(linestyle='-', linewidth='0.5', color='red')\n",
    "    fig3.canvas.draw()\n",
    "\n",
    "    \n",
    "on_button_clicked(None)\n",
    "fig3.show()\n",
    "\n",
    "display(button)\n",
    "display(show_epochs)\n",
    "\n",
    "button.on_click(on_button_clicked)\n",
    "show_epochs.observe(on_button_clicked)"
   ]
  },
  {
   "cell_type": "code",
   "execution_count": 5,
   "metadata": {},
   "outputs": [
    {
     "data": {
      "text/markdown": [
       "## Latest model is: ../weights/model_2.pth"
      ],
      "text/plain": [
       "<IPython.core.display.Markdown object>"
      ]
     },
     "metadata": {},
     "output_type": "display_data"
    }
   ],
   "source": [
    "class args():\n",
    "    num_classes = 1\n",
    "    batch_size = 1\n",
    "    routing = 'EM_routing'\n",
    "    loss = 'spread_loss̈́'\n",
    "    use_recon = 0.001\n",
    "    r = 9\n",
    "    num_workers = 1\n",
    "    disable_encoder = False\n",
    "    disable_recon = False\n",
    "    disable_dae = False\n",
    "\n",
    "A, AA, B, C, D, E, r = 128, 128, 40, 40, 40, args.num_classes, args.r # a small CapsNet\n",
    "\n",
    "model = mcaps.CapsNet(args, A, AA, B, C, D, E, r, h=4)\n",
    "\n",
    "LatestFile = max(glob.iglob(\"../weights/model*.pth\"),key=os.path.getctime)\n",
    "\n",
    "display(Markdown('## Latest model is: '+LatestFile))\n",
    "\n",
    "model.load_state_dict(torch.load(LatestFile))\n",
    "model.cpu()\n",
    "\n",
    "self = model"
   ]
  },
  {
   "cell_type": "markdown",
   "metadata": {},
   "source": [
    "## Ground Truth"
   ]
  },
  {
   "cell_type": "code",
   "execution_count": 6,
   "metadata": {
    "scrolled": false
   },
   "outputs": [
    {
     "data": {
      "application/vnd.jupyter.widget-view+json": {
       "model_id": "ca8622b0a5c94dfaa6f677e2ba40b4b6",
       "version_major": 2,
       "version_minor": 0
      },
      "text/plain": [
       "HBox(children=(Output(layout=Layout(border='1px solid black', width='100%')), Output(layout=Layout(border='1px…"
      ]
     },
     "metadata": {},
     "output_type": "display_data"
    },
    {
     "data": {
      "application/vnd.jupyter.widget-view+json": {
       "model_id": "122accb8f31841198990b21da025b7ce",
       "version_major": 2,
       "version_minor": 0
      },
      "text/plain": [
       "VBox(children=(HBox(children=(FloatText(value=1.0, description='Contrast', layout=Layout(width='100%'), step=0…"
      ]
     },
     "metadata": {},
     "output_type": "display_data"
    }
   ],
   "source": [
    "def updateOutputWidget(widget, array, color=\"L\"):\n",
    "    f = BytesIO()\n",
    "    PIL.Image.fromarray(np.uint8(array*255), mode=color).convert(color).save(f, 'png')\n",
    "    widget.clear_output()\n",
    "    with widget:\n",
    "        display(Image(data=f.getvalue(), width='100%'))\n",
    "\n",
    "ground_truth_widget_left = widgets.Output(layout=Layout(border='1px solid black', width='100%'))\n",
    "ground_truth_widget_right = widgets.Output(layout=Layout(border='1px solid black', width='100%'))\n",
    "ground_truth_widget = HBox([ground_truth_widget_left, ground_truth_widget_right], layout=Layout(width='100%'))\n",
    "\n",
    "contrast_left = widgets.FloatText(layout={'width': '100%'},description='Contrast',disabled=False, value=1, step=0.01)\n",
    "contrast_right = widgets.FloatText(layout={'width': '100%'},description='Contrast',disabled=False, value=1, step=0.01)\n",
    "brightness_left = widgets.FloatText(layout={'width': '100%'},description='Brightness',disabled=False, value=0, step=0.01)\n",
    "brightness_right = widgets.FloatText(layout={'width': '100%'},description='Brightness',disabled=False, value=0, step=0.01)\n",
    "brightness_contrast_widget = VBox([  HBox([contrast_left, contrast_right],layout=Layout(width='100%')) ,  HBox([brightness_left, brightness_right],layout=Layout(width='100%')) ] )\n",
    "\n",
    "display(ground_truth_widget)\n",
    "display(brightness_contrast_widget)"
   ]
  },
  {
   "cell_type": "markdown",
   "metadata": {},
   "source": [
    "## Activations of convolutional layers and primary capsules layer"
   ]
  },
  {
   "cell_type": "code",
   "execution_count": 7,
   "metadata": {
    "scrolled": false
   },
   "outputs": [
    {
     "data": {
      "application/vnd.jupyter.widget-view+json": {
       "model_id": "b22961339c7b4b35baae9f0226e278ad",
       "version_major": 2,
       "version_minor": 0
      },
      "text/plain": [
       "VBox(children=(Output(layout=Layout(width='100%')), Output(layout=Layout(width='100%')), HBox(children=(Output…"
      ]
     },
     "metadata": {},
     "output_type": "display_data"
    }
   ],
   "source": [
    "layer1_widget = widgets.Output(layout=Layout(width='100%'))\n",
    "layer2_widget = widgets.Output(layout=Layout(width='100%'))\n",
    "layer3_widget = widgets.Output(layout=Layout(width='100%'))\n",
    "layer4_widget = widgets.Output(layout=Layout(width='100%'))\n",
    "layer5_widget = widgets.Output(layout=Layout(width='100%'))\n",
    "layer6_widget = widgets.Output(layout=Layout(width='100%'))\n",
    "#layer12_widget = HBox([layer1_widget, layer2_widget], layout=Layout(width='100%'))\n",
    "l345_widget = HBox([layer3_widget, layer4_widget, layer5_widget, layer6_widget])\n",
    "layer_widget = VBox([layer1_widget, layer2_widget, l345_widget], layout=Layout(width='100%'))\n",
    "display(layer_widget)\n",
    "\n",
    "\n",
    "\n",
    "def makeCombinedImage(img, scale=1):\n",
    "    if scale != 1:\n",
    "        img = torch.nn.functional.interpolate(img, scale_factor=scale, mode='nearest')\n",
    "    img = img.squeeze().unsqueeze(1)\n",
    "    return utils.make_grid(img.data, nrow=int(img.shape[0] ** 0.5), normalize=True,range=(0, 1)).cpu().numpy()\n",
    "    \n",
    "def forward(self, x, lambda_, labels=None, draw=True):\n",
    "    if x is not None:\n",
    "        x = F.relu(self.bn1(self.conv1(x)))\n",
    "\n",
    "        if draw is True:\n",
    "            grid_picture = makeCombinedImage(x, scale=4)\n",
    "            updateOutputWidget(layer1_widget, grid_picture.transpose(1,2,0), \"RGB\")\n",
    "\n",
    "        x = F.max_pool2d(x, 2, 2)\n",
    "        x = F.relu(self.bn2(self.conv2(x)))\n",
    "        \n",
    "        if draw is True:\n",
    "            grid_picture = makeCombinedImage(x, scale=8)\n",
    "            updateOutputWidget(layer2_widget, grid_picture.transpose(1,2,0), \"RGB\")\n",
    "        \n",
    "        \n",
    "        # Combine left and right\n",
    "        left = x[:,:,:,:int(x.shape[-1]/2)]\n",
    "        right = x[:,:,:,int(x.shape[-1]/2):]\n",
    "        x = torch.stack([left,right], dim=1).view(x.shape[0],-1,x.shape[2],x.shape[2])\n",
    "        \n",
    "        \n",
    "        #x = F.relu(self.bn3(self.conv3(x)))\n",
    "        #if draw is True:\n",
    "        #    grid_picture = makeCombinedImage(x)\n",
    "        #    updateOutputWidget(layer3_widget, grid_picture.transpose(1,2,0), \"RGB\")\n",
    "        \n",
    "        p, a = self.primary_caps(x)  # b,32*(4*4+1),12,12\n",
    "\n",
    "        if draw is True:\n",
    "            grid_picture = makeCombinedImage(a, scale=16)\n",
    "            updateOutputWidget(layer3_widget, grid_picture.transpose(1,2,0), \"RGB\")\n",
    "            \n",
    "        p, a = self.convcaps1(lambda_, p, a)  # b,32*(4*4+1),5,5\n",
    "\n",
    "        if draw is True:\n",
    "            grid_picture = makeCombinedImage(a, scale=16)\n",
    "            updateOutputWidget(layer4_widget, grid_picture.transpose(1,2,0), \"RGB\")\n",
    "\n",
    "        p, a = self.convcaps2(lambda_, p, a)  # b,32*(4*4+1),3,3\n",
    "\n",
    "        if draw is True:\n",
    "            grid_picture = makeCombinedImage(a, scale=16)\n",
    "            updateOutputWidget(layer5_widget, grid_picture.transpose(1,2,0), \"RGB\")\n",
    "\n",
    "        p, a = self.convcaps3(lambda_, p, a)  # b,32*(4*4+1),3,3\n",
    "\n",
    "        if draw is True:\n",
    "            grid_picture = makeCombinedImage(a, scale=16)\n",
    "            updateOutputWidget(layer6_widget, grid_picture.transpose(1,2,0), \"RGB\")\n",
    "            \n",
    "        p, a = self.classcaps(lambda_, p, a)  # b,10*16+10\n",
    "\n",
    "        \n",
    "        \"\"\" Find pose with largest activation \"\"\"\n",
    "        \"\"\"\n",
    "        dist = torch.arange(float(3)) / 3\n",
    "        a_tmp = a.view(a.shape[0],-1)\n",
    "        p_tmp = p.view(p.shape[0],-1,p.shape[-1])\n",
    "        _, i = torch.max(a_tmp, 1)\n",
    "        new_a = []\n",
    "        new_p = []\n",
    "        coords = []\n",
    "        for counter, j in enumerate(i):\n",
    "            new_a.append(a_tmp[counter, j])\n",
    "            new_p.append(p_tmp[counter, j, :])\n",
    "\n",
    "            w_x=j%3\n",
    "            w_y=j/3\n",
    "            xyz = p_tmp[counter, j, :][(3,7,11),]\n",
    "            xyz[0] += dist[w_x]\n",
    "            xyz[1] += dist[w_y]\n",
    "            xyz = torch.cat([xyz, torch.FloatTensor([w_x, w_y])], dim=0)\n",
    "            coords.append(xyz)\n",
    "            #p[:, (3,7,11)] = xyz * 1.0\n",
    "\n",
    "        a = torch.stack(new_a, dim=0)\n",
    "        p = torch.stack(new_p, dim=0)\n",
    "\n",
    "        coords = torch.stack(coords, dim=0)\n",
    "        coords = self.coord_add_encoder(coords)\n",
    "        \"\"\"\n",
    "        \n",
    "        p = p.squeeze()\n",
    "        \n",
    "        # Temporary when batch size = 1\n",
    "        if len(p.shape) == 1:\n",
    "            p = p.unsqueeze(0)\n",
    "       \n",
    "        xyz = p[:, (3,7,11)]\n",
    "        xyz = self.coord_add_encoder(xyz)\n",
    "        p[:, (3,7,11)] = xyz * 1.0\n",
    "    else:\n",
    "        p = labels\n",
    "\n",
    "    if not self.args.disable_recon:\n",
    "        reconstructions = self.decoder(p)\n",
    "    else:\n",
    "        reconstructions = 0\n",
    "\n",
    "    return p, reconstructions"
   ]
  },
  {
   "cell_type": "markdown",
   "metadata": {},
   "source": [
    "## 4x4 pose output"
   ]
  },
  {
   "cell_type": "code",
   "execution_count": 8,
   "metadata": {
    "scrolled": false
   },
   "outputs": [
    {
     "data": {
      "application/vnd.jupyter.widget-view+json": {
       "model_id": "d47e8b326ead4095952e890766f853d6",
       "version_major": 2,
       "version_minor": 0
      },
      "text/plain": [
       "HBox(children=(VBox(children=(HBox(children=(Output(layout=Layout(width='100%')), Output(layout=Layout(width='…"
      ]
     },
     "metadata": {},
     "output_type": "display_data"
    },
    {
     "data": {
      "application/vnd.jupyter.widget-view+json": {
       "model_id": "877faa0d6fc74368824b0c7086661360",
       "version_major": 2,
       "version_minor": 0
      },
      "text/plain": [
       "HBox(children=(Label(value='Output', layout=Layout(width='100%')), Label(value='Label', layout=Layout(width='1…"
      ]
     },
     "metadata": {},
     "output_type": "display_data"
    },
    {
     "data": {
      "application/vnd.jupyter.widget-view+json": {
       "model_id": "3fa69a7504ee4b20ad3fb7b6c871350b",
       "version_major": 2,
       "version_minor": 0
      },
      "text/plain": [
       "HBox(children=(Textarea(value='', layout=Layout(height='90px', width='100%')), Textarea(value='', layout=Layou…"
      ]
     },
     "metadata": {},
     "output_type": "display_data"
    }
   ],
   "source": [
    "truth_widget_left = widgets.Output(layout=Layout(width='100%'))\n",
    "truth_widget_right = widgets.Output(layout=Layout(width='100%'))\n",
    "recon_widget_left = widgets.Output(layout=Layout(width='100%'))\n",
    "recon_widget_right = widgets.Output(layout=Layout(width='100%'))\n",
    "truth_widget = HBox([truth_widget_left, truth_widget_right], layout=Layout(width='100%'))\n",
    "recon_widget = HBox([recon_widget_left, recon_widget_right], layout=Layout(width='100%'))\n",
    "step_widget = VBox([truth_widget, recon_widget], layout=Layout(width='100%'))\n",
    "names = ['p0', 'p1', 'p2', 'p3', 'p4', 'p5', 'p6', 'p7', 'p8', 'p9', 'p10', 'p11', 'p12', 'p13', 'p14', 'p15']\n",
    "pose_sliders = [FloatSlider(min=-100, max=100, layout={'height': '50%'}, step=0.00001, description=i, orientation='horizontal') for i in names]\n",
    "button_next = widgets.Button(description=\"Next\", layout={'height': '50%'})\n",
    "pose_sliders.append(button_next)\n",
    "sliders_widget = VBox(pose_sliders, layout=Layout(width='60%'))\n",
    "step_slider_widget = HBox([step_widget, sliders_widget],layout=Layout(width='100%'))\n",
    "pose_output = widgets.Textarea(layout={'width': '100%','height': '90px'},disabled=False)\n",
    "pose_label = widgets.Textarea(layout={'width': '100%','height': '90px'},disabled=False)\n",
    "pose_error = widgets.Textarea(layout={'width': '100%','height': '90px'},disabled=False)\n",
    "\n",
    "\n",
    "label_widget = HBox([widgets.Label(layout={'width': '100%'},value=\"Output\"), widgets.Label(layout={'width': '100%'},value=\"Label\"), widgets.Label(layout={'width': '100%'},value=\"Error\")])\n",
    "pose_widget = HBox([pose_output, pose_label, pose_error])\n",
    "\n",
    "the_time = time.time()\n",
    "do_update = True\n",
    "\n",
    "display(step_slider_widget)\n",
    "display(label_widget)\n",
    "display(pose_widget)\n",
    "#display(pose_output)\n",
    "#display(pose_label)\n",
    "#display(pose_error)\n",
    "\n",
    "# Initialize Transform Network (from Pose to Quaternion)\n",
    "\"\"\"\n",
    "import sys\n",
    "import pyrr\n",
    "sys.path.append('../PoseToQuaternionNetwork/model')\n",
    "from transform import PoseToQuatNet\n",
    "transform = PoseToQuatNet()\n",
    "transform.load_state_dict(torch.load('../PoseToQuaternionNetwork/weights/model.pth'))\n",
    "transform.cpu()\n",
    "\"\"\"\n",
    "\n",
    "# Initialize view and projection for coord system rendering\n",
    "w_width, w_height = 800, 800\n",
    "focus_distance = 1.9\n",
    "view = pyrr.matrix44.create_from_translation(pyrr.Vector3([0.0, 0.0, -focus_distance])).transpose()\n",
    "projection = pyrr.matrix44.create_perspective_projection_matrix(65.0, w_width / w_height, 0.1, 100.0).transpose()\n",
    "\"\"\"\n",
    "def plotPoint(pnt, color_idx, img_left, img_right):\n",
    "    model_view = pyrr.matrix44.multiply(view, pnt)\n",
    "    model_projection = pyrr.matrix44.multiply(projection, model_view)\n",
    "    scaling = model_projection[3]\n",
    "    pix_x = img_left.shape[0]/2 + (model_projection[0]/scaling) * img_left.shape[0]/2\n",
    "    if pix_x >= img_left.shape[0]: pix_x = img_left.shape[0]-1\n",
    "    if pix_x < 0: pix_x = 0\n",
    "    pix_y = img_left.shape[1]/2 - (model_projection[1]/scaling) * img_left.shape[1]/2\n",
    "    if pix_y >= img_left.shape[1]: pix_y = img_left.shape[1]-1\n",
    "    if pix_y < 0: pix_y = 0\n",
    "    img_left[int(pix_y),int(pix_x),color_idx] = 1.0\n",
    "    img_right[int(pix_y),int(pix_x),color_idx] = 1.0\n",
    "\"\"\"\n",
    "def plotPoint(pnt, color_idx, img):\n",
    "    model_view = pyrr.matrix44.multiply(view, pnt)\n",
    "    model_projection = pyrr.matrix44.multiply(projection, model_view)\n",
    "    scaling = model_projection[3]\n",
    "    pix_x = img.shape[1]/2 + (model_projection[0]/scaling) * img.shape[1]/2\n",
    "    if pix_x >= img.shape[1]: pix_x = img.shape[1]-1\n",
    "    if pix_x < 0: pix_x = 0\n",
    "    pix_y = img.shape[0]/2 - (model_projection[1]/scaling) * img.shape[0]/2\n",
    "    if pix_y >= img.shape[0]: pix_y = img.shape[0]-1\n",
    "    if pix_y < 0: pix_y = 0\n",
    "    img[int(pix_y),int(pix_x),color_idx] = 1.0\n",
    "    \n",
    "eye_distance = 0.5\n",
    "focus_distance = 1.9\n",
    "eye_angle = eye_distance/focus_distance\n",
    "right_eye_transform = pyrr.Matrix44.from_y_rotation(-eye_angle/2)\n",
    "left_eye_transform = pyrr.Matrix44.from_y_rotation(eye_angle/2)\n",
    "    \n",
    "def plotCoordSystemAxis(pose44, axis_idx, img):\n",
    "    pnt = pyrr.vector4.create(0.0, 0.0, 0.0, 1.0)\n",
    "    for i in range(50):\n",
    "        pnt[axis_idx] = i*0.01\n",
    "        point = pyrr.matrix44.multiply(pyrr.Matrix44(pose44), pnt) #.transpose()\n",
    "        plotPoint(point, axis_idx, img)\n",
    "\n",
    "pose = 0\n",
    "lambda_ = torch.tensor([1.0])\n",
    "\n",
    "def on_value_change(change):\n",
    "    global the_time\n",
    "    global do_update\n",
    "    global pose\n",
    "    global ground_truth_labels\n",
    "    global imgs\n",
    "    global imgs_ref\n",
    "    global right_eye_transform\n",
    "    global left_eye_transform\n",
    "\n",
    "    if not do_update and change is not None:\n",
    "        return\n",
    "\n",
    "    if (time.time()-the_time) < 0.2:\n",
    "        return\n",
    "    the_time = time.time()\n",
    "    \n",
    "    for i in range(len(pose_sliders)-1):\n",
    "        pose[:,i] = pose_sliders[i].value\n",
    "    \n",
    "    p, reconstruction = forward(self, None, None, labels=pose)\n",
    "\n",
    "    #imgs_sliced = imgs[:,[0,3],...]\n",
    "    reconstruction = reconstruction.view_as(imgs_ref)\n",
    "\n",
    "    recon_left = reconstruction.data[:,0,:,:].squeeze().cpu().numpy()\n",
    "    recon_right = reconstruction.data[:,1,:,:].squeeze().cpu().numpy()\n",
    "\n",
    "    #vec7 = transform.forward(pose)\n",
    "    #quat = reff[0,3:]\n",
    "    #mat44 = pyrr.Matrix44.from_quaternion(quat)\n",
    "    #mat44[3,:][0:3] = reff[0,:3]\n",
    "    #print(mat44)\n",
    "    #kaj = mat44.reshape(-1)\n",
    "    #print(kaj)\n",
    "    #print(kaj.shape)\n",
    "    \n",
    "    mat44 = util.matAffine_from_matMinRep(pose.data)\n",
    "\n",
    "    recon_left = np.concatenate((recon_left[:,:,None],recon_left[:,:,None],recon_left[:,:,None]), axis=2)\n",
    "    recon_right = np.concatenate((recon_right[:,:,None],recon_right[:,:,None],recon_right[:,:,None]), axis=2)\n",
    "\n",
    "    pose_left = pyrr.Matrix44(mat44)*left_eye_transform\n",
    "    plotCoordSystemAxis(pose_left, 0, recon_left)\n",
    "    plotCoordSystemAxis(pose_left, 1, recon_left)\n",
    "    plotCoordSystemAxis(pose_left, 2, recon_left)\n",
    "\n",
    "    pose_right = pyrr.Matrix44(mat44)*right_eye_transform\n",
    "    plotCoordSystemAxis(pose_right, 0, recon_right)\n",
    "    plotCoordSystemAxis(pose_right, 1, recon_right)\n",
    "    plotCoordSystemAxis(pose_right, 2, recon_right)\n",
    "    \n",
    "    updateOutputWidget(recon_widget_left, recon_left, \"RGB\")\n",
    "    updateOutputWidget(recon_widget_right, recon_right, \"RGB\")\n",
    "\n",
    "def showDataImage(next_data, steps=0):\n",
    "    global ground_truth_labels\n",
    "    global imgs\n",
    "    global imgs_ref\n",
    "    global do_update\n",
    "    global ground_truth_widget\n",
    "    global pose\n",
    "    do_update = False\n",
    "    \n",
    "    \"\"\"\n",
    "    Prepare input\n",
    "    \"\"\"\n",
    "    imgs = next_data[0]\n",
    "    left = imgs[:,[0,2],:,:int(imgs.shape[-1]/2)]\n",
    "    right = imgs[:,[0,2],:,int(imgs.shape[-1]/2):]\n",
    "    imgs = torch.stack([left[:,:,:,2:97],right[:,:,:,2:97]], dim=3).view(imgs.shape[0],2,100, 190)\n",
    "    imgs_ref = torch.stack([left[:,0,:,2:97],right[:,1,:,2:97]], dim=1)\n",
    "\n",
    "    #image = util.split_in_channels(next_data[0])\n",
    "    \n",
    "    ground_truth_labels = next_data[1]\n",
    "    imgs = Variable(imgs).cpu()\n",
    "    pose, reco = forward(self, imgs, lambda_, draw=True)\n",
    "\n",
    "    # Print matrices in textareas\n",
    "    m_l = util.matMinRep_from_qvec(ground_truth_labels.float())\n",
    "    m_l = util.matAffine_from_matMinRep(m_l)\n",
    "    m_o = util.matAffine_from_matMinRep(pose.data.cpu())\n",
    "    pose_label.value = util.matrixString_from_matAffine(m_l)\n",
    "    pose_output.value = util.matrixString_from_matAffine(m_o)\n",
    "    pose_error.value = util.matrixString_from_matAffine(m_o - m_l)\n",
    "\n",
    "    #pose_transformed = transform.forward(pose)\n",
    "    #pose_label.value = str(ground_truth_labels.float().numpy()[0,:])\n",
    "    #pose_output.value = str(transform.forward(p).data.cpu().numpy()[0,:])\n",
    "\n",
    "    img_conv_left = util.applyBrightnessAndContrast(imgs_ref[0,0,:,:].squeeze().numpy(), brightness_left.value, contrast_left.value)\n",
    "    img_conv_right = util.applyBrightnessAndContrast(imgs_ref[0,1,:,:].squeeze().numpy(), brightness_right.value, contrast_right.value)\n",
    "        \n",
    "    updateOutputWidget(ground_truth_widget_left, img_conv_left)\n",
    "    updateOutputWidget(ground_truth_widget_right, img_conv_right)\n",
    "\n",
    "    \n",
    "    # Plot coordinate systems on \"truth\" images\n",
    "    mat44 = util.matAffine_from_matMinRep(pose.data)\n",
    "    truth_left = imgs_ref[0,0,:,:].squeeze().numpy()\n",
    "    truth_left = np.concatenate((truth_left[:,:,None],truth_left[:,:,None],truth_left[:,:,None]), axis=2)\n",
    "    pose_left = pyrr.Matrix44(mat44)*left_eye_transform\n",
    "    plotCoordSystemAxis(pose_left, 0, truth_left)\n",
    "    plotCoordSystemAxis(pose_left, 1, truth_left)\n",
    "    plotCoordSystemAxis(pose_left, 2, truth_left)\n",
    "    truth_right = imgs_ref[0,1,:,:].squeeze().numpy()\n",
    "    truth_right = np.concatenate((truth_right[:,:,None],truth_right[:,:,None],truth_right[:,:,None]), axis=2)\n",
    "    pose_right = pyrr.Matrix44(mat44)*right_eye_transform\n",
    "    plotCoordSystemAxis(pose_right, 0, truth_right)\n",
    "    plotCoordSystemAxis(pose_right, 1, truth_right)\n",
    "    plotCoordSystemAxis(pose_right, 2, truth_right)\n",
    "    \n",
    "    updateOutputWidget(truth_widget_left, truth_left, \"RGB\")\n",
    "    updateOutputWidget(truth_widget_right, truth_right, \"RGB\")\n",
    "\n",
    "    if steps == 0:\n",
    "        for i in range(len(pose_sliders)-1):\n",
    "            pose_sliders[i].max = pose[:,i]\n",
    "            pose_sliders[i].min = pose[:,i]\n",
    "    else:\n",
    "        old = []\n",
    "        for i in range(len(pose_sliders)-1):\n",
    "            old.append(pose_sliders[i].value)\n",
    "            if pose[:,i] > pose_sliders[i].max:\n",
    "                pose_sliders[i].max = pose[:,i]\n",
    "            elif pose[:,i] < pose_sliders[i].min:\n",
    "                pose_sliders[i].min = pose[:,i]\n",
    "\n",
    "        delta = pose[0,:].data.cpu().numpy() - old\n",
    "        delta /= steps\n",
    "\n",
    "        for steps in range(steps):\n",
    "            for i in range(len(pose_sliders)-1):\n",
    "                pose_sliders[i].value += delta[i]\n",
    "            on_value_change(None)\n",
    "            time.sleep(0.5)\n",
    "            \n",
    "    for i in range(len(pose_sliders)-1):\n",
    "        pose_sliders[i].value = pose[:,i]\n",
    "    on_value_change(None)\n",
    "    do_update = True\n",
    "\n",
    "train_dataset = util.MyImageFolder(root='../../../data/test/', transform=transforms.ToTensor(), target_transform=transforms.ToTensor())\n",
    "train_loader = torch.utils.data.DataLoader(dataset=train_dataset,batch_size=args.batch_size,num_workers=args.num_workers,shuffle=True)\n",
    "data_iter = iter(train_loader)\n",
    "\n",
    "def on_next_button_clicked(b):\n",
    "    next_data = next(data_iter)\n",
    "    showDataImage(next_data, steps=5)\n",
    "\n",
    "button_next.on_click(on_next_button_clicked)\n",
    "\n",
    "next_data = next(data_iter)\n",
    "showDataImage(next_data, steps=0)\n",
    "\n",
    "for i in range(len(pose_sliders)):\n",
    "    pose_sliders[i].observe(on_value_change)"
   ]
  },
  {
   "cell_type": "code",
   "execution_count": null,
   "metadata": {},
   "outputs": [],
   "source": []
  }
 ],
 "metadata": {
  "kernelspec": {
   "display_name": "Python 3",
   "language": "python",
   "name": "python3"
  },
  "language_info": {
   "codemirror_mode": {
    "name": "ipython",
    "version": 3
   },
   "file_extension": ".py",
   "mimetype": "text/x-python",
   "name": "python",
   "nbconvert_exporter": "python",
   "pygments_lexer": "ipython3",
   "version": "3.6.6"
  },
  "widgets": {
   "application/vnd.jupyter.widget-state+json": {
    "state": {
     "02a95245f28f48e69eda3fb3bd438d67": {
      "model_module_version": "^2.1.4",
      "state": {
       "value": "<table style=\"width:100%\">\n                <thead>\n                    <tr>\n                        <th colspan=\"2\">\n                        Could not create model:\n                        </th>\n                    </tr>\n                </thead>\n                <tbody>\n                    <tr>\n                        <td>Model name</td>\n                        <td> undefined </td>\n                    </tr>\n                    <tr>\n                        <td>Model module</td>\n                        <td> undefined </td>\n                    </tr>\n                    <tr>\n                        <td>Model module version</td>\n                        <td> undefined </td>\n                    </tr>\n                <tbody>\n                <tfoot>\n                    <tr>\n                        <th colspan=\"2\">\n                        Class undefined not found in registry \n                        </th>\n                    </tr>\n                </tfoot>\n                </table>"
      }
     },
     "086adac005c04b4190a432ca55b65c08": {
      "model_module_version": "^2.1.4",
      "state": {
       "children": [
        "IPY_MODEL_5ddce768a0cd44fcb6a02f55d97511c0",
        "IPY_MODEL_7b2a75f21e23408ba72e5f04d40c4ae0"
       ],
       "value": "<table style=\"width:100%\">\n                <thead>\n                    <tr>\n                        <th colspan=\"2\">\n                        Could not create model:\n                        </th>\n                    </tr>\n                </thead>\n                <tbody>\n                    <tr>\n                        <td>Model name</td>\n                        <td> undefined </td>\n                    </tr>\n                    <tr>\n                        <td>Model module</td>\n                        <td> undefined </td>\n                    </tr>\n                    <tr>\n                        <td>Model module version</td>\n                        <td> undefined </td>\n                    </tr>\n                <tbody>\n                <tfoot>\n                    <tr>\n                        <th colspan=\"2\">\n                        Class undefined not found in registry \n                        </th>\n                    </tr>\n                </tfoot>\n                </table>"
      }
     },
     "09a94446cf9d4aaea5de8fee2478bfe3": {
      "model_module_version": "^2.1.4",
      "state": {
       "value": "<table style=\"width:100%\">\n                <thead>\n                    <tr>\n                        <th colspan=\"2\">\n                        Could not create model:\n                        </th>\n                    </tr>\n                </thead>\n                <tbody>\n                    <tr>\n                        <td>Model name</td>\n                        <td> undefined </td>\n                    </tr>\n                    <tr>\n                        <td>Model module</td>\n                        <td> undefined </td>\n                    </tr>\n                    <tr>\n                        <td>Model module version</td>\n                        <td> undefined </td>\n                    </tr>\n                <tbody>\n                <tfoot>\n                    <tr>\n                        <th colspan=\"2\">\n                        Class undefined not found in registry \n                        </th>\n                    </tr>\n                </tfoot>\n                </table>"
      }
     },
     "0a266fd5169140bab25a3a38a8f50fb1": {
      "model_module_version": "^2.1.4",
      "state": {
       "children": [
        "IPY_MODEL_bc40a99774e645d6a95f8c5424ed326e",
        "IPY_MODEL_43698cd83e434735970d098c0c18c682"
       ],
       "value": "<table style=\"width:100%\">\n                <thead>\n                    <tr>\n                        <th colspan=\"2\">\n                        Could not create model:\n                        </th>\n                    </tr>\n                </thead>\n                <tbody>\n                    <tr>\n                        <td>Model name</td>\n                        <td> undefined </td>\n                    </tr>\n                    <tr>\n                        <td>Model module</td>\n                        <td> undefined </td>\n                    </tr>\n                    <tr>\n                        <td>Model module version</td>\n                        <td> undefined </td>\n                    </tr>\n                <tbody>\n                <tfoot>\n                    <tr>\n                        <th colspan=\"2\">\n                        Class undefined not found in registry \n                        </th>\n                    </tr>\n                </tfoot>\n                </table>"
      }
     },
     "0bb041ed3f25401da46f4d3b1b84bedd": {
      "model_module_version": "^2.1.4",
      "state": {
       "msg_id": "",
       "value": "<table style=\"width:100%\">\n                <thead>\n                    <tr>\n                        <th colspan=\"2\">\n                        Could not create model:\n                        </th>\n                    </tr>\n                </thead>\n                <tbody>\n                    <tr>\n                        <td>Model name</td>\n                        <td> undefined </td>\n                    </tr>\n                    <tr>\n                        <td>Model module</td>\n                        <td> undefined </td>\n                    </tr>\n                    <tr>\n                        <td>Model module version</td>\n                        <td> undefined </td>\n                    </tr>\n                <tbody>\n                <tfoot>\n                    <tr>\n                        <th colspan=\"2\">\n                        Class undefined not found in registry \n                        </th>\n                    </tr>\n                </tfoot>\n                </table>"
      }
     },
     "0c491954f101426f8a6d2c2c8f117c65": {
      "model_module_version": "^2.1.4",
      "state": {
       "children": [
        "IPY_MODEL_e8c41950a9d349d2a093b110f66cbb72",
        "IPY_MODEL_b74b2bb279ff49c9a7b8384e115dda91"
       ],
       "value": "<table style=\"width:100%\">\n                <thead>\n                    <tr>\n                        <th colspan=\"2\">\n                        Could not create model:\n                        </th>\n                    </tr>\n                </thead>\n                <tbody>\n                    <tr>\n                        <td>Model name</td>\n                        <td> undefined </td>\n                    </tr>\n                    <tr>\n                        <td>Model module</td>\n                        <td> undefined </td>\n                    </tr>\n                    <tr>\n                        <td>Model module version</td>\n                        <td> undefined </td>\n                    </tr>\n                <tbody>\n                <tfoot>\n                    <tr>\n                        <th colspan=\"2\">\n                        Class undefined not found in registry \n                        </th>\n                    </tr>\n                </tfoot>\n                </table>"
      }
     },
     "0d0f207a9beb4bbc8342dfdfde8abfd1": {
      "model_module_version": "^2.1.4",
      "state": {
       "msg_id": "",
       "value": "<table style=\"width:100%\">\n                <thead>\n                    <tr>\n                        <th colspan=\"2\">\n                        Could not create model:\n                        </th>\n                    </tr>\n                </thead>\n                <tbody>\n                    <tr>\n                        <td>Model name</td>\n                        <td> undefined </td>\n                    </tr>\n                    <tr>\n                        <td>Model module</td>\n                        <td> undefined </td>\n                    </tr>\n                    <tr>\n                        <td>Model module version</td>\n                        <td> undefined </td>\n                    </tr>\n                <tbody>\n                <tfoot>\n                    <tr>\n                        <th colspan=\"2\">\n                        Class undefined not found in registry \n                        </th>\n                    </tr>\n                </tfoot>\n                </table>"
      }
     },
     "17ce0b15ae7f4e07bb389acdb95723a9": {
      "model_module_version": "^2.1.4",
      "state": {
       "children": [
        "IPY_MODEL_98eb087ff1554f3983db53fa15fe205e",
        "IPY_MODEL_2cb31d41b01c41cab49231e6bbcef9a5"
       ],
       "value": "<table style=\"width:100%\">\n                <thead>\n                    <tr>\n                        <th colspan=\"2\">\n                        Could not create model:\n                        </th>\n                    </tr>\n                </thead>\n                <tbody>\n                    <tr>\n                        <td>Model name</td>\n                        <td> undefined </td>\n                    </tr>\n                    <tr>\n                        <td>Model module</td>\n                        <td> undefined </td>\n                    </tr>\n                    <tr>\n                        <td>Model module version</td>\n                        <td> undefined </td>\n                    </tr>\n                <tbody>\n                <tfoot>\n                    <tr>\n                        <th colspan=\"2\">\n                        Class undefined not found in registry \n                        </th>\n                    </tr>\n                </tfoot>\n                </table>"
      }
     },
     "18fbf107d608491b8631570d892bc11c": {
      "model_module_version": "^2.1.4",
      "state": {
       "value": "<table style=\"width:100%\">\n                <thead>\n                    <tr>\n                        <th colspan=\"2\">\n                        Could not create model:\n                        </th>\n                    </tr>\n                </thead>\n                <tbody>\n                    <tr>\n                        <td>Model name</td>\n                        <td> undefined </td>\n                    </tr>\n                    <tr>\n                        <td>Model module</td>\n                        <td> undefined </td>\n                    </tr>\n                    <tr>\n                        <td>Model module version</td>\n                        <td> undefined </td>\n                    </tr>\n                <tbody>\n                <tfoot>\n                    <tr>\n                        <th colspan=\"2\">\n                        Class undefined not found in registry \n                        </th>\n                    </tr>\n                </tfoot>\n                </table>"
      }
     },
     "1a1f8a848b0344be8b0ccf93d1d2026c": {
      "model_module_version": "^2.1.4",
      "state": {
       "value": "<table style=\"width:100%\">\n                <thead>\n                    <tr>\n                        <th colspan=\"2\">\n                        Could not create model:\n                        </th>\n                    </tr>\n                </thead>\n                <tbody>\n                    <tr>\n                        <td>Model name</td>\n                        <td> undefined </td>\n                    </tr>\n                    <tr>\n                        <td>Model module</td>\n                        <td> undefined </td>\n                    </tr>\n                    <tr>\n                        <td>Model module version</td>\n                        <td> undefined </td>\n                    </tr>\n                <tbody>\n                <tfoot>\n                    <tr>\n                        <th colspan=\"2\">\n                        Class undefined not found in registry \n                        </th>\n                    </tr>\n                </tfoot>\n                </table>"
      }
     },
     "1a3f3f985d584928bc8d0c7ab6f70f2e": {
      "model_module_version": "^2.1.4",
      "state": {
       "value": "<table style=\"width:100%\">\n                <thead>\n                    <tr>\n                        <th colspan=\"2\">\n                        Could not create model:\n                        </th>\n                    </tr>\n                </thead>\n                <tbody>\n                    <tr>\n                        <td>Model name</td>\n                        <td> undefined </td>\n                    </tr>\n                    <tr>\n                        <td>Model module</td>\n                        <td> undefined </td>\n                    </tr>\n                    <tr>\n                        <td>Model module version</td>\n                        <td> undefined </td>\n                    </tr>\n                <tbody>\n                <tfoot>\n                    <tr>\n                        <th colspan=\"2\">\n                        Class undefined not found in registry \n                        </th>\n                    </tr>\n                </tfoot>\n                </table>"
      }
     },
     "1cd36f848c6a4887b49476cedbf3d552": {
      "model_module_version": "^2.1.4",
      "state": {
       "value": "<table style=\"width:100%\">\n                <thead>\n                    <tr>\n                        <th colspan=\"2\">\n                        Could not create model:\n                        </th>\n                    </tr>\n                </thead>\n                <tbody>\n                    <tr>\n                        <td>Model name</td>\n                        <td> undefined </td>\n                    </tr>\n                    <tr>\n                        <td>Model module</td>\n                        <td> undefined </td>\n                    </tr>\n                    <tr>\n                        <td>Model module version</td>\n                        <td> undefined </td>\n                    </tr>\n                <tbody>\n                <tfoot>\n                    <tr>\n                        <th colspan=\"2\">\n                        Class undefined not found in registry \n                        </th>\n                    </tr>\n                </tfoot>\n                </table>"
      }
     },
     "1e92dc6d2e6a4746ae2cd05ab57165ec": {
      "model_module_version": "^2.1.4",
      "state": {
       "description": "x",
       "value": "<table style=\"width:100%\">\n                <thead>\n                    <tr>\n                        <th colspan=\"2\">\n                        Could not create model:\n                        </th>\n                    </tr>\n                </thead>\n                <tbody>\n                    <tr>\n                        <td>Model name</td>\n                        <td> undefined </td>\n                    </tr>\n                    <tr>\n                        <td>Model module</td>\n                        <td> undefined </td>\n                    </tr>\n                    <tr>\n                        <td>Model module version</td>\n                        <td> undefined </td>\n                    </tr>\n                <tbody>\n                <tfoot>\n                    <tr>\n                        <th colspan=\"2\">\n                        Class undefined not found in registry \n                        </th>\n                    </tr>\n                </tfoot>\n                </table>"
      }
     },
     "28fc64f255dc4af98ea2e4f433a7e659": {
      "model_module_version": "^2.1.4",
      "state": {
       "children": [
        "IPY_MODEL_d00724d28f834c4991169f92b8e447cb",
        "IPY_MODEL_b5c4b56ba9cd45e1bdca6530cc78c9e1"
       ],
       "value": "<table style=\"width:100%\">\n                <thead>\n                    <tr>\n                        <th colspan=\"2\">\n                        Could not create model:\n                        </th>\n                    </tr>\n                </thead>\n                <tbody>\n                    <tr>\n                        <td>Model name</td>\n                        <td> undefined </td>\n                    </tr>\n                    <tr>\n                        <td>Model module</td>\n                        <td> undefined </td>\n                    </tr>\n                    <tr>\n                        <td>Model module version</td>\n                        <td> undefined </td>\n                    </tr>\n                <tbody>\n                <tfoot>\n                    <tr>\n                        <th colspan=\"2\">\n                        Class undefined not found in registry \n                        </th>\n                    </tr>\n                </tfoot>\n                </table>"
      }
     },
     "2a48c6cde59541fe8760420e54905bb8": {
      "model_module_version": "^2.1.4",
      "state": {
       "value": "<table style=\"width:100%\">\n                <thead>\n                    <tr>\n                        <th colspan=\"2\">\n                        Could not create model:\n                        </th>\n                    </tr>\n                </thead>\n                <tbody>\n                    <tr>\n                        <td>Model name</td>\n                        <td> undefined </td>\n                    </tr>\n                    <tr>\n                        <td>Model module</td>\n                        <td> undefined </td>\n                    </tr>\n                    <tr>\n                        <td>Model module version</td>\n                        <td> undefined </td>\n                    </tr>\n                <tbody>\n                <tfoot>\n                    <tr>\n                        <th colspan=\"2\">\n                        Class undefined not found in registry \n                        </th>\n                    </tr>\n                </tfoot>\n                </table>"
      }
     },
     "2a9914efad9b4709b512186b35fca807": {
      "model_module_version": "^2.1.4",
      "state": {
       "value": "<table style=\"width:100%\">\n                <thead>\n                    <tr>\n                        <th colspan=\"2\">\n                        Could not create model:\n                        </th>\n                    </tr>\n                </thead>\n                <tbody>\n                    <tr>\n                        <td>Model name</td>\n                        <td> undefined </td>\n                    </tr>\n                    <tr>\n                        <td>Model module</td>\n                        <td> undefined </td>\n                    </tr>\n                    <tr>\n                        <td>Model module version</td>\n                        <td> undefined </td>\n                    </tr>\n                <tbody>\n                <tfoot>\n                    <tr>\n                        <th colspan=\"2\">\n                        Class undefined not found in registry \n                        </th>\n                    </tr>\n                </tfoot>\n                </table>"
      }
     },
     "2b61a2efed51453ba7d9b61640e3257b": {
      "model_module_version": "^2.1.4",
      "state": {
       "children": [
        "IPY_MODEL_ca7fc7414df744c1a12a80afcd929124",
        "IPY_MODEL_892d3ae0c7194bf880319e259ecc2978"
       ],
       "value": "<table style=\"width:100%\">\n                <thead>\n                    <tr>\n                        <th colspan=\"2\">\n                        Could not create model:\n                        </th>\n                    </tr>\n                </thead>\n                <tbody>\n                    <tr>\n                        <td>Model name</td>\n                        <td> undefined </td>\n                    </tr>\n                    <tr>\n                        <td>Model module</td>\n                        <td> undefined </td>\n                    </tr>\n                    <tr>\n                        <td>Model module version</td>\n                        <td> undefined </td>\n                    </tr>\n                <tbody>\n                <tfoot>\n                    <tr>\n                        <th colspan=\"2\">\n                        Class undefined not found in registry \n                        </th>\n                    </tr>\n                </tfoot>\n                </table>"
      }
     },
     "2cb31d41b01c41cab49231e6bbcef9a5": {
      "model_module_version": "^2.1.4",
      "state": {
       "msg_id": "",
       "value": "<table style=\"width:100%\">\n                <thead>\n                    <tr>\n                        <th colspan=\"2\">\n                        Could not create model:\n                        </th>\n                    </tr>\n                </thead>\n                <tbody>\n                    <tr>\n                        <td>Model name</td>\n                        <td> undefined </td>\n                    </tr>\n                    <tr>\n                        <td>Model module</td>\n                        <td> undefined </td>\n                    </tr>\n                    <tr>\n                        <td>Model module version</td>\n                        <td> undefined </td>\n                    </tr>\n                <tbody>\n                <tfoot>\n                    <tr>\n                        <th colspan=\"2\">\n                        Class undefined not found in registry \n                        </th>\n                    </tr>\n                </tfoot>\n                </table>"
      }
     },
     "2f4edba5b47e4d5590df1386c754fd88": {
      "model_module_version": "^2.1.4",
      "state": {
       "value": "<table style=\"width:100%\">\n                <thead>\n                    <tr>\n                        <th colspan=\"2\">\n                        Could not create model:\n                        </th>\n                    </tr>\n                </thead>\n                <tbody>\n                    <tr>\n                        <td>Model name</td>\n                        <td> undefined </td>\n                    </tr>\n                    <tr>\n                        <td>Model module</td>\n                        <td> undefined </td>\n                    </tr>\n                    <tr>\n                        <td>Model module version</td>\n                        <td> undefined </td>\n                    </tr>\n                <tbody>\n                <tfoot>\n                    <tr>\n                        <th colspan=\"2\">\n                        Class undefined not found in registry \n                        </th>\n                    </tr>\n                </tfoot>\n                </table>"
      }
     },
     "32e0e6999b084991bcd84438c81ff67f": {
      "model_module_version": "^2.1.4",
      "state": {
       "value": "<table style=\"width:100%\">\n                <thead>\n                    <tr>\n                        <th colspan=\"2\">\n                        Could not create model:\n                        </th>\n                    </tr>\n                </thead>\n                <tbody>\n                    <tr>\n                        <td>Model name</td>\n                        <td> undefined </td>\n                    </tr>\n                    <tr>\n                        <td>Model module</td>\n                        <td> undefined </td>\n                    </tr>\n                    <tr>\n                        <td>Model module version</td>\n                        <td> undefined </td>\n                    </tr>\n                <tbody>\n                <tfoot>\n                    <tr>\n                        <th colspan=\"2\">\n                        Class undefined not found in registry \n                        </th>\n                    </tr>\n                </tfoot>\n                </table>"
      }
     },
     "3ac7a342207a410888cc1bde2c42f286": {
      "model_module_version": "^2.1.4",
      "state": {
       "value": "<table style=\"width:100%\">\n                <thead>\n                    <tr>\n                        <th colspan=\"2\">\n                        Could not create model:\n                        </th>\n                    </tr>\n                </thead>\n                <tbody>\n                    <tr>\n                        <td>Model name</td>\n                        <td> undefined </td>\n                    </tr>\n                    <tr>\n                        <td>Model module</td>\n                        <td> undefined </td>\n                    </tr>\n                    <tr>\n                        <td>Model module version</td>\n                        <td> undefined </td>\n                    </tr>\n                <tbody>\n                <tfoot>\n                    <tr>\n                        <th colspan=\"2\">\n                        Class undefined not found in registry \n                        </th>\n                    </tr>\n                </tfoot>\n                </table>"
      }
     },
     "3c2f6371fb9d4ef8963013d7ec752f1a": {
      "model_module": "jupyter-js-widgets",
      "model_module_version": "~2.1.4",
      "model_name": "LayoutModel",
      "state": {
       "_model_module_version": "~2.1.4",
       "_view_module_version": "~2.1.4"
      }
     },
     "4085225553f745b5a56321cf316c733e": {
      "model_module": "jupyter-js-widgets",
      "model_module_version": "~2.1.4",
      "model_name": "SliderStyleModel",
      "state": {
       "_model_module_version": "~2.1.4",
       "_view_module_version": "~2.1.4"
      }
     },
     "40dd2c2fbf0d41babb963d45187381e3": {
      "model_module_version": "^2.1.4",
      "state": {
       "value": "<table style=\"width:100%\">\n                <thead>\n                    <tr>\n                        <th colspan=\"2\">\n                        Could not create model:\n                        </th>\n                    </tr>\n                </thead>\n                <tbody>\n                    <tr>\n                        <td>Model name</td>\n                        <td> undefined </td>\n                    </tr>\n                    <tr>\n                        <td>Model module</td>\n                        <td> undefined </td>\n                    </tr>\n                    <tr>\n                        <td>Model module version</td>\n                        <td> undefined </td>\n                    </tr>\n                <tbody>\n                <tfoot>\n                    <tr>\n                        <th colspan=\"2\">\n                        Class undefined not found in registry \n                        </th>\n                    </tr>\n                </tfoot>\n                </table>"
      }
     },
     "43698cd83e434735970d098c0c18c682": {
      "model_module_version": "^2.1.4",
      "state": {
       "msg_id": "",
       "value": "<table style=\"width:100%\">\n                <thead>\n                    <tr>\n                        <th colspan=\"2\">\n                        Could not create model:\n                        </th>\n                    </tr>\n                </thead>\n                <tbody>\n                    <tr>\n                        <td>Model name</td>\n                        <td> undefined </td>\n                    </tr>\n                    <tr>\n                        <td>Model module</td>\n                        <td> undefined </td>\n                    </tr>\n                    <tr>\n                        <td>Model module version</td>\n                        <td> undefined </td>\n                    </tr>\n                <tbody>\n                <tfoot>\n                    <tr>\n                        <th colspan=\"2\">\n                        Class undefined not found in registry \n                        </th>\n                    </tr>\n                </tfoot>\n                </table>"
      }
     },
     "4516a929146f4c6aba450499be5a6bae": {
      "model_module_version": "^2.1.4",
      "state": {
       "children": [
        "IPY_MODEL_1e92dc6d2e6a4746ae2cd05ab57165ec",
        "IPY_MODEL_0d0f207a9beb4bbc8342dfdfde8abfd1"
       ],
       "value": "<table style=\"width:100%\">\n                <thead>\n                    <tr>\n                        <th colspan=\"2\">\n                        Could not create model:\n                        </th>\n                    </tr>\n                </thead>\n                <tbody>\n                    <tr>\n                        <td>Model name</td>\n                        <td> undefined </td>\n                    </tr>\n                    <tr>\n                        <td>Model module</td>\n                        <td> undefined </td>\n                    </tr>\n                    <tr>\n                        <td>Model module version</td>\n                        <td> undefined </td>\n                    </tr>\n                <tbody>\n                <tfoot>\n                    <tr>\n                        <th colspan=\"2\">\n                        Class undefined not found in registry \n                        </th>\n                    </tr>\n                </tfoot>\n                </table>"
      }
     },
     "46c3f00a4866401bb7d7dd886668baeb": {
      "model_module_version": "^2.1.4",
      "state": {
       "msg_id": "",
       "value": "<table style=\"width:100%\">\n                <thead>\n                    <tr>\n                        <th colspan=\"2\">\n                        Could not create model:\n                        </th>\n                    </tr>\n                </thead>\n                <tbody>\n                    <tr>\n                        <td>Model name</td>\n                        <td> undefined </td>\n                    </tr>\n                    <tr>\n                        <td>Model module</td>\n                        <td> undefined </td>\n                    </tr>\n                    <tr>\n                        <td>Model module version</td>\n                        <td> undefined </td>\n                    </tr>\n                <tbody>\n                <tfoot>\n                    <tr>\n                        <th colspan=\"2\">\n                        Class undefined not found in registry \n                        </th>\n                    </tr>\n                </tfoot>\n                </table>"
      }
     },
     "49aa40dd11114ddabb68be1d01d1e41d": {
      "model_module_version": "^2.1.4",
      "state": {
       "value": "<table style=\"width:100%\">\n                <thead>\n                    <tr>\n                        <th colspan=\"2\">\n                        Could not create model:\n                        </th>\n                    </tr>\n                </thead>\n                <tbody>\n                    <tr>\n                        <td>Model name</td>\n                        <td> undefined </td>\n                    </tr>\n                    <tr>\n                        <td>Model module</td>\n                        <td> undefined </td>\n                    </tr>\n                    <tr>\n                        <td>Model module version</td>\n                        <td> undefined </td>\n                    </tr>\n                <tbody>\n                <tfoot>\n                    <tr>\n                        <th colspan=\"2\">\n                        Class undefined not found in registry \n                        </th>\n                    </tr>\n                </tfoot>\n                </table>"
      }
     },
     "4a96e2d67ee54a41a257d81719387929": {
      "model_module_version": "^2.1.4",
      "state": {
       "msg_id": "",
       "value": "<table style=\"width:100%\">\n                <thead>\n                    <tr>\n                        <th colspan=\"2\">\n                        Could not create model:\n                        </th>\n                    </tr>\n                </thead>\n                <tbody>\n                    <tr>\n                        <td>Model name</td>\n                        <td> undefined </td>\n                    </tr>\n                    <tr>\n                        <td>Model module</td>\n                        <td> undefined </td>\n                    </tr>\n                    <tr>\n                        <td>Model module version</td>\n                        <td> undefined </td>\n                    </tr>\n                <tbody>\n                <tfoot>\n                    <tr>\n                        <th colspan=\"2\">\n                        Class undefined not found in registry \n                        </th>\n                    </tr>\n                </tfoot>\n                </table>"
      }
     },
     "501729002a44409ba89f0ce4598c4615": {
      "model_module_version": "^2.1.4",
      "state": {
       "value": "<table style=\"width:100%\">\n                <thead>\n                    <tr>\n                        <th colspan=\"2\">\n                        Could not create model:\n                        </th>\n                    </tr>\n                </thead>\n                <tbody>\n                    <tr>\n                        <td>Model name</td>\n                        <td> undefined </td>\n                    </tr>\n                    <tr>\n                        <td>Model module</td>\n                        <td> undefined </td>\n                    </tr>\n                    <tr>\n                        <td>Model module version</td>\n                        <td> undefined </td>\n                    </tr>\n                <tbody>\n                <tfoot>\n                    <tr>\n                        <th colspan=\"2\">\n                        Class undefined not found in registry \n                        </th>\n                    </tr>\n                </tfoot>\n                </table>"
      }
     },
     "55c4545c3cf9416ca5f9b6468f70a6ea": {
      "model_module_version": "^2.1.4",
      "state": {
       "value": "<table style=\"width:100%\">\n                <thead>\n                    <tr>\n                        <th colspan=\"2\">\n                        Could not create model:\n                        </th>\n                    </tr>\n                </thead>\n                <tbody>\n                    <tr>\n                        <td>Model name</td>\n                        <td> undefined </td>\n                    </tr>\n                    <tr>\n                        <td>Model module</td>\n                        <td> undefined </td>\n                    </tr>\n                    <tr>\n                        <td>Model module version</td>\n                        <td> undefined </td>\n                    </tr>\n                <tbody>\n                <tfoot>\n                    <tr>\n                        <th colspan=\"2\">\n                        Class undefined not found in registry \n                        </th>\n                    </tr>\n                </tfoot>\n                </table>"
      }
     },
     "5754386e4c0348748bd72a39c98e3513": {
      "model_module_version": "^2.1.4",
      "state": {
       "value": "<table style=\"width:100%\">\n                <thead>\n                    <tr>\n                        <th colspan=\"2\">\n                        Could not create model:\n                        </th>\n                    </tr>\n                </thead>\n                <tbody>\n                    <tr>\n                        <td>Model name</td>\n                        <td> undefined </td>\n                    </tr>\n                    <tr>\n                        <td>Model module</td>\n                        <td> undefined </td>\n                    </tr>\n                    <tr>\n                        <td>Model module version</td>\n                        <td> undefined </td>\n                    </tr>\n                <tbody>\n                <tfoot>\n                    <tr>\n                        <th colspan=\"2\">\n                        Class undefined not found in registry \n                        </th>\n                    </tr>\n                </tfoot>\n                </table>"
      }
     },
     "5d5b28b089e242db97c0fb1fbdd63320": {
      "model_module_version": "^2.1.4",
      "state": {
       "value": "<table style=\"width:100%\">\n                <thead>\n                    <tr>\n                        <th colspan=\"2\">\n                        Could not create model:\n                        </th>\n                    </tr>\n                </thead>\n                <tbody>\n                    <tr>\n                        <td>Model name</td>\n                        <td> undefined </td>\n                    </tr>\n                    <tr>\n                        <td>Model module</td>\n                        <td> undefined </td>\n                    </tr>\n                    <tr>\n                        <td>Model module version</td>\n                        <td> undefined </td>\n                    </tr>\n                <tbody>\n                <tfoot>\n                    <tr>\n                        <th colspan=\"2\">\n                        Class undefined not found in registry \n                        </th>\n                    </tr>\n                </tfoot>\n                </table>"
      }
     },
     "5ddce768a0cd44fcb6a02f55d97511c0": {
      "model_module_version": "^2.1.4",
      "state": {
       "description": "x",
       "value": "<table style=\"width:100%\">\n                <thead>\n                    <tr>\n                        <th colspan=\"2\">\n                        Could not create model:\n                        </th>\n                    </tr>\n                </thead>\n                <tbody>\n                    <tr>\n                        <td>Model name</td>\n                        <td> undefined </td>\n                    </tr>\n                    <tr>\n                        <td>Model module</td>\n                        <td> undefined </td>\n                    </tr>\n                    <tr>\n                        <td>Model module version</td>\n                        <td> undefined </td>\n                    </tr>\n                <tbody>\n                <tfoot>\n                    <tr>\n                        <th colspan=\"2\">\n                        Class undefined not found in registry \n                        </th>\n                    </tr>\n                </tfoot>\n                </table>"
      }
     },
     "5ef172040b89471c852363eeffcd40ad": {
      "model_module": "jupyter-js-widgets",
      "model_module_version": "~2.1.4",
      "model_name": "OutputModel",
      "state": {
       "_dom_classes": [],
       "_model_module": "jupyter-js-widgets",
       "_model_module_version": "~2.1.4",
       "_view_module": "jupyter-js-widgets",
       "_view_module_version": "~2.1.4",
       "layout": "IPY_MODEL_61d17c7ab05d49ad917fe0ad9a2f5082",
       "msg_throttle": 1
      }
     },
     "61d17c7ab05d49ad917fe0ad9a2f5082": {
      "model_module": "jupyter-js-widgets",
      "model_module_version": "~2.1.4",
      "model_name": "LayoutModel",
      "state": {
       "_model_module_version": "~2.1.4",
       "_view_module_version": "~2.1.4"
      }
     },
     "621171c6d3824e1aa20b00a470355ba1": {
      "model_module_version": "^2.1.4",
      "state": {
       "value": "<table style=\"width:100%\">\n                <thead>\n                    <tr>\n                        <th colspan=\"2\">\n                        Could not create model:\n                        </th>\n                    </tr>\n                </thead>\n                <tbody>\n                    <tr>\n                        <td>Model name</td>\n                        <td> undefined </td>\n                    </tr>\n                    <tr>\n                        <td>Model module</td>\n                        <td> undefined </td>\n                    </tr>\n                    <tr>\n                        <td>Model module version</td>\n                        <td> undefined </td>\n                    </tr>\n                <tbody>\n                <tfoot>\n                    <tr>\n                        <th colspan=\"2\">\n                        Class undefined not found in registry \n                        </th>\n                    </tr>\n                </tfoot>\n                </table>"
      }
     },
     "68b9424e93a54f97b286548081d65a10": {
      "model_module_version": "^2.1.4",
      "state": {
       "value": "<table style=\"width:100%\">\n                <thead>\n                    <tr>\n                        <th colspan=\"2\">\n                        Could not create model:\n                        </th>\n                    </tr>\n                </thead>\n                <tbody>\n                    <tr>\n                        <td>Model name</td>\n                        <td> undefined </td>\n                    </tr>\n                    <tr>\n                        <td>Model module</td>\n                        <td> undefined </td>\n                    </tr>\n                    <tr>\n                        <td>Model module version</td>\n                        <td> undefined </td>\n                    </tr>\n                <tbody>\n                <tfoot>\n                    <tr>\n                        <th colspan=\"2\">\n                        Class undefined not found in registry \n                        </th>\n                    </tr>\n                </tfoot>\n                </table>"
      }
     },
     "6a248cb18c8c40658ea8cf7615f7a622": {
      "model_module_version": "^2.1.4",
      "state": {
       "value": "<table style=\"width:100%\">\n                <thead>\n                    <tr>\n                        <th colspan=\"2\">\n                        Could not create model:\n                        </th>\n                    </tr>\n                </thead>\n                <tbody>\n                    <tr>\n                        <td>Model name</td>\n                        <td> undefined </td>\n                    </tr>\n                    <tr>\n                        <td>Model module</td>\n                        <td> undefined </td>\n                    </tr>\n                    <tr>\n                        <td>Model module version</td>\n                        <td> undefined </td>\n                    </tr>\n                <tbody>\n                <tfoot>\n                    <tr>\n                        <th colspan=\"2\">\n                        Class undefined not found in registry \n                        </th>\n                    </tr>\n                </tfoot>\n                </table>"
      }
     },
     "6aaa433ab117461b889545d142a27175": {
      "model_module_version": "^2.1.4",
      "state": {
       "description": "x",
       "value": "<table style=\"width:100%\">\n                <thead>\n                    <tr>\n                        <th colspan=\"2\">\n                        Could not create model:\n                        </th>\n                    </tr>\n                </thead>\n                <tbody>\n                    <tr>\n                        <td>Model name</td>\n                        <td> undefined </td>\n                    </tr>\n                    <tr>\n                        <td>Model module</td>\n                        <td> undefined </td>\n                    </tr>\n                    <tr>\n                        <td>Model module version</td>\n                        <td> undefined </td>\n                    </tr>\n                <tbody>\n                <tfoot>\n                    <tr>\n                        <th colspan=\"2\">\n                        Class undefined not found in registry \n                        </th>\n                    </tr>\n                </tfoot>\n                </table>"
      }
     },
     "73132f70043c4a6cb2a8ceb471a8f252": {
      "model_module_version": "^2.1.4",
      "state": {
       "value": "<table style=\"width:100%\">\n                <thead>\n                    <tr>\n                        <th colspan=\"2\">\n                        Could not create model:\n                        </th>\n                    </tr>\n                </thead>\n                <tbody>\n                    <tr>\n                        <td>Model name</td>\n                        <td> undefined </td>\n                    </tr>\n                    <tr>\n                        <td>Model module</td>\n                        <td> undefined </td>\n                    </tr>\n                    <tr>\n                        <td>Model module version</td>\n                        <td> undefined </td>\n                    </tr>\n                <tbody>\n                <tfoot>\n                    <tr>\n                        <th colspan=\"2\">\n                        Class undefined not found in registry \n                        </th>\n                    </tr>\n                </tfoot>\n                </table>"
      }
     },
     "76b009679d104667af00faea672b290a": {
      "model_module_version": "^2.1.4",
      "state": {
       "value": "<table style=\"width:100%\">\n                <thead>\n                    <tr>\n                        <th colspan=\"2\">\n                        Could not create model:\n                        </th>\n                    </tr>\n                </thead>\n                <tbody>\n                    <tr>\n                        <td>Model name</td>\n                        <td> undefined </td>\n                    </tr>\n                    <tr>\n                        <td>Model module</td>\n                        <td> undefined </td>\n                    </tr>\n                    <tr>\n                        <td>Model module version</td>\n                        <td> undefined </td>\n                    </tr>\n                <tbody>\n                <tfoot>\n                    <tr>\n                        <th colspan=\"2\">\n                        Class undefined not found in registry \n                        </th>\n                    </tr>\n                </tfoot>\n                </table>"
      }
     },
     "79c73807325f49d393b6cf08bad0b9ef": {
      "model_module_version": "^2.1.4",
      "state": {
       "value": "<table style=\"width:100%\">\n                <thead>\n                    <tr>\n                        <th colspan=\"2\">\n                        Could not create model:\n                        </th>\n                    </tr>\n                </thead>\n                <tbody>\n                    <tr>\n                        <td>Model name</td>\n                        <td> undefined </td>\n                    </tr>\n                    <tr>\n                        <td>Model module</td>\n                        <td> undefined </td>\n                    </tr>\n                    <tr>\n                        <td>Model module version</td>\n                        <td> undefined </td>\n                    </tr>\n                <tbody>\n                <tfoot>\n                    <tr>\n                        <th colspan=\"2\">\n                        Class undefined not found in registry \n                        </th>\n                    </tr>\n                </tfoot>\n                </table>"
      }
     },
     "7b2a75f21e23408ba72e5f04d40c4ae0": {
      "model_module_version": "^2.1.4",
      "state": {
       "msg_id": "",
       "value": "<table style=\"width:100%\">\n                <thead>\n                    <tr>\n                        <th colspan=\"2\">\n                        Could not create model:\n                        </th>\n                    </tr>\n                </thead>\n                <tbody>\n                    <tr>\n                        <td>Model name</td>\n                        <td> undefined </td>\n                    </tr>\n                    <tr>\n                        <td>Model module</td>\n                        <td> undefined </td>\n                    </tr>\n                    <tr>\n                        <td>Model module version</td>\n                        <td> undefined </td>\n                    </tr>\n                <tbody>\n                <tfoot>\n                    <tr>\n                        <th colspan=\"2\">\n                        Class undefined not found in registry \n                        </th>\n                    </tr>\n                </tfoot>\n                </table>"
      }
     },
     "7fdb52036a2c425b968f1cb3f18880cc": {
      "model_module": "jupyter-js-widgets",
      "model_module_version": "~2.1.4",
      "model_name": "VBoxModel",
      "state": {
       "_dom_classes": [
        "widget-interact"
       ],
       "_model_module_version": "~2.1.4",
       "_view_module_version": "~2.1.4",
       "children": [
        "IPY_MODEL_acf1144a079947a3b72f448ff497b5aa",
        "IPY_MODEL_5ef172040b89471c852363eeffcd40ad"
       ],
       "layout": "IPY_MODEL_a3da27f324824245ab4548048acf08ce"
      }
     },
     "804d2f26720d4c7a80aca19ce362f6e3": {
      "model_module_version": "^2.1.4",
      "state": {
       "value": "<table style=\"width:100%\">\n                <thead>\n                    <tr>\n                        <th colspan=\"2\">\n                        Could not create model:\n                        </th>\n                    </tr>\n                </thead>\n                <tbody>\n                    <tr>\n                        <td>Model name</td>\n                        <td> undefined </td>\n                    </tr>\n                    <tr>\n                        <td>Model module</td>\n                        <td> undefined </td>\n                    </tr>\n                    <tr>\n                        <td>Model module version</td>\n                        <td> undefined </td>\n                    </tr>\n                <tbody>\n                <tfoot>\n                    <tr>\n                        <th colspan=\"2\">\n                        Class undefined not found in registry \n                        </th>\n                    </tr>\n                </tfoot>\n                </table>"
      }
     },
     "83640725b367458d874b51c6da3c0298": {
      "model_module_version": "^2.1.4",
      "state": {
       "description": "x",
       "value": "<table style=\"width:100%\">\n                <thead>\n                    <tr>\n                        <th colspan=\"2\">\n                        Could not create model:\n                        </th>\n                    </tr>\n                </thead>\n                <tbody>\n                    <tr>\n                        <td>Model name</td>\n                        <td> undefined </td>\n                    </tr>\n                    <tr>\n                        <td>Model module</td>\n                        <td> undefined </td>\n                    </tr>\n                    <tr>\n                        <td>Model module version</td>\n                        <td> undefined </td>\n                    </tr>\n                <tbody>\n                <tfoot>\n                    <tr>\n                        <th colspan=\"2\">\n                        Class undefined not found in registry \n                        </th>\n                    </tr>\n                </tfoot>\n                </table>"
      }
     },
     "842d398e0f0b49bb82816bf12e32d8ae": {
      "model_module_version": "^2.1.4",
      "state": {
       "children": [
        "IPY_MODEL_b3aaafaed364432d9f29a2334748fb51",
        "IPY_MODEL_0bb041ed3f25401da46f4d3b1b84bedd"
       ],
       "value": "<table style=\"width:100%\">\n                <thead>\n                    <tr>\n                        <th colspan=\"2\">\n                        Could not create model:\n                        </th>\n                    </tr>\n                </thead>\n                <tbody>\n                    <tr>\n                        <td>Model name</td>\n                        <td> undefined </td>\n                    </tr>\n                    <tr>\n                        <td>Model module</td>\n                        <td> undefined </td>\n                    </tr>\n                    <tr>\n                        <td>Model module version</td>\n                        <td> undefined </td>\n                    </tr>\n                <tbody>\n                <tfoot>\n                    <tr>\n                        <th colspan=\"2\">\n                        Class undefined not found in registry \n                        </th>\n                    </tr>\n                </tfoot>\n                </table>"
      }
     },
     "892d3ae0c7194bf880319e259ecc2978": {
      "model_module_version": "^2.1.4",
      "state": {
       "msg_id": "",
       "value": "<table style=\"width:100%\">\n                <thead>\n                    <tr>\n                        <th colspan=\"2\">\n                        Could not create model:\n                        </th>\n                    </tr>\n                </thead>\n                <tbody>\n                    <tr>\n                        <td>Model name</td>\n                        <td> undefined </td>\n                    </tr>\n                    <tr>\n                        <td>Model module</td>\n                        <td> undefined </td>\n                    </tr>\n                    <tr>\n                        <td>Model module version</td>\n                        <td> undefined </td>\n                    </tr>\n                <tbody>\n                <tfoot>\n                    <tr>\n                        <th colspan=\"2\">\n                        Class undefined not found in registry \n                        </th>\n                    </tr>\n                </tfoot>\n                </table>"
      }
     },
     "8c53fafbc3f84f67a956e57f3add21e6": {
      "model_module_version": "^2.1.4",
      "state": {
       "value": "<table style=\"width:100%\">\n                <thead>\n                    <tr>\n                        <th colspan=\"2\">\n                        Could not create model:\n                        </th>\n                    </tr>\n                </thead>\n                <tbody>\n                    <tr>\n                        <td>Model name</td>\n                        <td> undefined </td>\n                    </tr>\n                    <tr>\n                        <td>Model module</td>\n                        <td> undefined </td>\n                    </tr>\n                    <tr>\n                        <td>Model module version</td>\n                        <td> undefined </td>\n                    </tr>\n                <tbody>\n                <tfoot>\n                    <tr>\n                        <th colspan=\"2\">\n                        Class undefined not found in registry \n                        </th>\n                    </tr>\n                </tfoot>\n                </table>"
      }
     },
     "96847b2fae384f758634f48976d6387d": {
      "model_module_version": "^2.1.4",
      "state": {
       "value": "<table style=\"width:100%\">\n                <thead>\n                    <tr>\n                        <th colspan=\"2\">\n                        Could not create model:\n                        </th>\n                    </tr>\n                </thead>\n                <tbody>\n                    <tr>\n                        <td>Model name</td>\n                        <td> undefined </td>\n                    </tr>\n                    <tr>\n                        <td>Model module</td>\n                        <td> undefined </td>\n                    </tr>\n                    <tr>\n                        <td>Model module version</td>\n                        <td> undefined </td>\n                    </tr>\n                <tbody>\n                <tfoot>\n                    <tr>\n                        <th colspan=\"2\">\n                        Class undefined not found in registry \n                        </th>\n                    </tr>\n                </tfoot>\n                </table>"
      }
     },
     "98eb087ff1554f3983db53fa15fe205e": {
      "model_module_version": "^2.1.4",
      "state": {
       "description": "x",
       "value": "<table style=\"width:100%\">\n                <thead>\n                    <tr>\n                        <th colspan=\"2\">\n                        Could not create model:\n                        </th>\n                    </tr>\n                </thead>\n                <tbody>\n                    <tr>\n                        <td>Model name</td>\n                        <td> undefined </td>\n                    </tr>\n                    <tr>\n                        <td>Model module</td>\n                        <td> undefined </td>\n                    </tr>\n                    <tr>\n                        <td>Model module version</td>\n                        <td> undefined </td>\n                    </tr>\n                <tbody>\n                <tfoot>\n                    <tr>\n                        <th colspan=\"2\">\n                        Class undefined not found in registry \n                        </th>\n                    </tr>\n                </tfoot>\n                </table>"
      }
     },
     "a2dd2b1e1f9b4734b2e3aa1dbffdcd04": {
      "model_module_version": "^2.1.4",
      "state": {
       "value": "<table style=\"width:100%\">\n                <thead>\n                    <tr>\n                        <th colspan=\"2\">\n                        Could not create model:\n                        </th>\n                    </tr>\n                </thead>\n                <tbody>\n                    <tr>\n                        <td>Model name</td>\n                        <td> undefined </td>\n                    </tr>\n                    <tr>\n                        <td>Model module</td>\n                        <td> undefined </td>\n                    </tr>\n                    <tr>\n                        <td>Model module version</td>\n                        <td> undefined </td>\n                    </tr>\n                <tbody>\n                <tfoot>\n                    <tr>\n                        <th colspan=\"2\">\n                        Class undefined not found in registry \n                        </th>\n                    </tr>\n                </tfoot>\n                </table>"
      }
     },
     "a2f0d26a526e4befb8a931dedb6363eb": {
      "model_module_version": "^2.1.4",
      "state": {
       "value": "<table style=\"width:100%\">\n                <thead>\n                    <tr>\n                        <th colspan=\"2\">\n                        Could not create model:\n                        </th>\n                    </tr>\n                </thead>\n                <tbody>\n                    <tr>\n                        <td>Model name</td>\n                        <td> undefined </td>\n                    </tr>\n                    <tr>\n                        <td>Model module</td>\n                        <td> undefined </td>\n                    </tr>\n                    <tr>\n                        <td>Model module version</td>\n                        <td> undefined </td>\n                    </tr>\n                <tbody>\n                <tfoot>\n                    <tr>\n                        <th colspan=\"2\">\n                        Class undefined not found in registry \n                        </th>\n                    </tr>\n                </tfoot>\n                </table>"
      }
     },
     "a3da27f324824245ab4548048acf08ce": {
      "model_module": "jupyter-js-widgets",
      "model_module_version": "~2.1.4",
      "model_name": "LayoutModel",
      "state": {
       "_model_module_version": "~2.1.4",
       "_view_module_version": "~2.1.4"
      }
     },
     "a5e1aa2fc5f641d098f2cfa6420a592b": {
      "model_module_version": "^2.1.4",
      "state": {
       "value": "<table style=\"width:100%\">\n                <thead>\n                    <tr>\n                        <th colspan=\"2\">\n                        Could not create model:\n                        </th>\n                    </tr>\n                </thead>\n                <tbody>\n                    <tr>\n                        <td>Model name</td>\n                        <td> undefined </td>\n                    </tr>\n                    <tr>\n                        <td>Model module</td>\n                        <td> undefined </td>\n                    </tr>\n                    <tr>\n                        <td>Model module version</td>\n                        <td> undefined </td>\n                    </tr>\n                <tbody>\n                <tfoot>\n                    <tr>\n                        <th colspan=\"2\">\n                        Class undefined not found in registry \n                        </th>\n                    </tr>\n                </tfoot>\n                </table>"
      }
     },
     "acf1144a079947a3b72f448ff497b5aa": {
      "model_module": "jupyter-js-widgets",
      "model_module_version": "~2.1.4",
      "model_name": "IntSliderModel",
      "state": {
       "_model_module_version": "~2.1.4",
       "_view_module_version": "~2.1.4",
       "description": "x",
       "layout": "IPY_MODEL_3c2f6371fb9d4ef8963013d7ec752f1a",
       "max": 30,
       "min": -10,
       "style": "IPY_MODEL_4085225553f745b5a56321cf316c733e",
       "value": 10
      }
     },
     "ae4e57c864524cccb1f82071a8cd1230": {
      "model_module_version": "^2.1.4",
      "state": {
       "children": [
        "IPY_MODEL_83640725b367458d874b51c6da3c0298",
        "IPY_MODEL_46c3f00a4866401bb7d7dd886668baeb"
       ],
       "value": "<table style=\"width:100%\">\n                <thead>\n                    <tr>\n                        <th colspan=\"2\">\n                        Could not create model:\n                        </th>\n                    </tr>\n                </thead>\n                <tbody>\n                    <tr>\n                        <td>Model name</td>\n                        <td> undefined </td>\n                    </tr>\n                    <tr>\n                        <td>Model module</td>\n                        <td> undefined </td>\n                    </tr>\n                    <tr>\n                        <td>Model module version</td>\n                        <td> undefined </td>\n                    </tr>\n                <tbody>\n                <tfoot>\n                    <tr>\n                        <th colspan=\"2\">\n                        Class undefined not found in registry \n                        </th>\n                    </tr>\n                </tfoot>\n                </table>"
      }
     },
     "b3aaafaed364432d9f29a2334748fb51": {
      "model_module_version": "^2.1.4",
      "state": {
       "description": "x",
       "value": "<table style=\"width:100%\">\n                <thead>\n                    <tr>\n                        <th colspan=\"2\">\n                        Could not create model:\n                        </th>\n                    </tr>\n                </thead>\n                <tbody>\n                    <tr>\n                        <td>Model name</td>\n                        <td> undefined </td>\n                    </tr>\n                    <tr>\n                        <td>Model module</td>\n                        <td> undefined </td>\n                    </tr>\n                    <tr>\n                        <td>Model module version</td>\n                        <td> undefined </td>\n                    </tr>\n                <tbody>\n                <tfoot>\n                    <tr>\n                        <th colspan=\"2\">\n                        Class undefined not found in registry \n                        </th>\n                    </tr>\n                </tfoot>\n                </table>"
      }
     },
     "b5c4b56ba9cd45e1bdca6530cc78c9e1": {
      "model_module_version": "^2.1.4",
      "state": {
       "msg_id": "",
       "value": "<table style=\"width:100%\">\n                <thead>\n                    <tr>\n                        <th colspan=\"2\">\n                        Could not create model:\n                        </th>\n                    </tr>\n                </thead>\n                <tbody>\n                    <tr>\n                        <td>Model name</td>\n                        <td> undefined </td>\n                    </tr>\n                    <tr>\n                        <td>Model module</td>\n                        <td> undefined </td>\n                    </tr>\n                    <tr>\n                        <td>Model module version</td>\n                        <td> undefined </td>\n                    </tr>\n                <tbody>\n                <tfoot>\n                    <tr>\n                        <th colspan=\"2\">\n                        Class undefined not found in registry \n                        </th>\n                    </tr>\n                </tfoot>\n                </table>"
      }
     },
     "b74b2bb279ff49c9a7b8384e115dda91": {
      "model_module_version": "^2.1.4",
      "state": {
       "msg_id": "",
       "value": "<table style=\"width:100%\">\n                <thead>\n                    <tr>\n                        <th colspan=\"2\">\n                        Could not create model:\n                        </th>\n                    </tr>\n                </thead>\n                <tbody>\n                    <tr>\n                        <td>Model name</td>\n                        <td> undefined </td>\n                    </tr>\n                    <tr>\n                        <td>Model module</td>\n                        <td> undefined </td>\n                    </tr>\n                    <tr>\n                        <td>Model module version</td>\n                        <td> undefined </td>\n                    </tr>\n                <tbody>\n                <tfoot>\n                    <tr>\n                        <th colspan=\"2\">\n                        Class undefined not found in registry \n                        </th>\n                    </tr>\n                </tfoot>\n                </table>"
      }
     },
     "bc40a99774e645d6a95f8c5424ed326e": {
      "model_module_version": "^2.1.4",
      "state": {
       "description": "x",
       "value": "<table style=\"width:100%\">\n                <thead>\n                    <tr>\n                        <th colspan=\"2\">\n                        Could not create model:\n                        </th>\n                    </tr>\n                </thead>\n                <tbody>\n                    <tr>\n                        <td>Model name</td>\n                        <td> undefined </td>\n                    </tr>\n                    <tr>\n                        <td>Model module</td>\n                        <td> undefined </td>\n                    </tr>\n                    <tr>\n                        <td>Model module version</td>\n                        <td> undefined </td>\n                    </tr>\n                <tbody>\n                <tfoot>\n                    <tr>\n                        <th colspan=\"2\">\n                        Class undefined not found in registry \n                        </th>\n                    </tr>\n                </tfoot>\n                </table>"
      }
     },
     "c40e39ab08b34613bb2767f4b2e60411": {
      "model_module_version": "^2.1.4",
      "state": {
       "value": "<table style=\"width:100%\">\n                <thead>\n                    <tr>\n                        <th colspan=\"2\">\n                        Could not create model:\n                        </th>\n                    </tr>\n                </thead>\n                <tbody>\n                    <tr>\n                        <td>Model name</td>\n                        <td> undefined </td>\n                    </tr>\n                    <tr>\n                        <td>Model module</td>\n                        <td> undefined </td>\n                    </tr>\n                    <tr>\n                        <td>Model module version</td>\n                        <td> undefined </td>\n                    </tr>\n                <tbody>\n                <tfoot>\n                    <tr>\n                        <th colspan=\"2\">\n                        Class undefined not found in registry \n                        </th>\n                    </tr>\n                </tfoot>\n                </table>"
      }
     },
     "ca7fc7414df744c1a12a80afcd929124": {
      "model_module_version": "^2.1.4",
      "state": {
       "description": "x",
       "value": "<table style=\"width:100%\">\n                <thead>\n                    <tr>\n                        <th colspan=\"2\">\n                        Could not create model:\n                        </th>\n                    </tr>\n                </thead>\n                <tbody>\n                    <tr>\n                        <td>Model name</td>\n                        <td> undefined </td>\n                    </tr>\n                    <tr>\n                        <td>Model module</td>\n                        <td> undefined </td>\n                    </tr>\n                    <tr>\n                        <td>Model module version</td>\n                        <td> undefined </td>\n                    </tr>\n                <tbody>\n                <tfoot>\n                    <tr>\n                        <th colspan=\"2\">\n                        Class undefined not found in registry \n                        </th>\n                    </tr>\n                </tfoot>\n                </table>"
      }
     },
     "d00724d28f834c4991169f92b8e447cb": {
      "model_module_version": "^2.1.4",
      "state": {
       "description": "x",
       "value": "<table style=\"width:100%\">\n                <thead>\n                    <tr>\n                        <th colspan=\"2\">\n                        Could not create model:\n                        </th>\n                    </tr>\n                </thead>\n                <tbody>\n                    <tr>\n                        <td>Model name</td>\n                        <td> undefined </td>\n                    </tr>\n                    <tr>\n                        <td>Model module</td>\n                        <td> undefined </td>\n                    </tr>\n                    <tr>\n                        <td>Model module version</td>\n                        <td> undefined </td>\n                    </tr>\n                <tbody>\n                <tfoot>\n                    <tr>\n                        <th colspan=\"2\">\n                        Class undefined not found in registry \n                        </th>\n                    </tr>\n                </tfoot>\n                </table>"
      }
     },
     "d11595e8990749f7a5f58f9502758e2d": {
      "model_module_version": "^2.1.4",
      "state": {
       "value": "<table style=\"width:100%\">\n                <thead>\n                    <tr>\n                        <th colspan=\"2\">\n                        Could not create model:\n                        </th>\n                    </tr>\n                </thead>\n                <tbody>\n                    <tr>\n                        <td>Model name</td>\n                        <td> undefined </td>\n                    </tr>\n                    <tr>\n                        <td>Model module</td>\n                        <td> undefined </td>\n                    </tr>\n                    <tr>\n                        <td>Model module version</td>\n                        <td> undefined </td>\n                    </tr>\n                <tbody>\n                <tfoot>\n                    <tr>\n                        <th colspan=\"2\">\n                        Class undefined not found in registry \n                        </th>\n                    </tr>\n                </tfoot>\n                </table>"
      }
     },
     "d37973aee6ad4ad3afc2983cc4640538": {
      "model_module_version": "^2.1.4",
      "state": {
       "value": "<table style=\"width:100%\">\n                <thead>\n                    <tr>\n                        <th colspan=\"2\">\n                        Could not create model:\n                        </th>\n                    </tr>\n                </thead>\n                <tbody>\n                    <tr>\n                        <td>Model name</td>\n                        <td> undefined </td>\n                    </tr>\n                    <tr>\n                        <td>Model module</td>\n                        <td> undefined </td>\n                    </tr>\n                    <tr>\n                        <td>Model module version</td>\n                        <td> undefined </td>\n                    </tr>\n                <tbody>\n                <tfoot>\n                    <tr>\n                        <th colspan=\"2\">\n                        Class undefined not found in registry \n                        </th>\n                    </tr>\n                </tfoot>\n                </table>"
      }
     },
     "d8e4be7cd0c144abb637254495935400": {
      "model_module_version": "^2.1.4",
      "state": {
       "value": "<table style=\"width:100%\">\n                <thead>\n                    <tr>\n                        <th colspan=\"2\">\n                        Could not create model:\n                        </th>\n                    </tr>\n                </thead>\n                <tbody>\n                    <tr>\n                        <td>Model name</td>\n                        <td> undefined </td>\n                    </tr>\n                    <tr>\n                        <td>Model module</td>\n                        <td> undefined </td>\n                    </tr>\n                    <tr>\n                        <td>Model module version</td>\n                        <td> undefined </td>\n                    </tr>\n                <tbody>\n                <tfoot>\n                    <tr>\n                        <th colspan=\"2\">\n                        Class undefined not found in registry \n                        </th>\n                    </tr>\n                </tfoot>\n                </table>"
      }
     },
     "d929f758e3d743e4bad5ee4b0e0e2971": {
      "model_module_version": "^2.1.4",
      "state": {
       "value": "<table style=\"width:100%\">\n                <thead>\n                    <tr>\n                        <th colspan=\"2\">\n                        Could not create model:\n                        </th>\n                    </tr>\n                </thead>\n                <tbody>\n                    <tr>\n                        <td>Model name</td>\n                        <td> undefined </td>\n                    </tr>\n                    <tr>\n                        <td>Model module</td>\n                        <td> undefined </td>\n                    </tr>\n                    <tr>\n                        <td>Model module version</td>\n                        <td> undefined </td>\n                    </tr>\n                <tbody>\n                <tfoot>\n                    <tr>\n                        <th colspan=\"2\">\n                        Class undefined not found in registry \n                        </th>\n                    </tr>\n                </tfoot>\n                </table>"
      }
     },
     "db0ea3166b744eb3914ca4a329e1f134": {
      "model_module_version": "^2.1.4",
      "state": {
       "value": "<table style=\"width:100%\">\n                <thead>\n                    <tr>\n                        <th colspan=\"2\">\n                        Could not create model:\n                        </th>\n                    </tr>\n                </thead>\n                <tbody>\n                    <tr>\n                        <td>Model name</td>\n                        <td> undefined </td>\n                    </tr>\n                    <tr>\n                        <td>Model module</td>\n                        <td> undefined </td>\n                    </tr>\n                    <tr>\n                        <td>Model module version</td>\n                        <td> undefined </td>\n                    </tr>\n                <tbody>\n                <tfoot>\n                    <tr>\n                        <th colspan=\"2\">\n                        Class undefined not found in registry \n                        </th>\n                    </tr>\n                </tfoot>\n                </table>"
      }
     },
     "de03135fc545466a891c5c7f1191cb4b": {
      "model_module_version": "^2.1.4",
      "state": {
       "children": [
        "IPY_MODEL_6aaa433ab117461b889545d142a27175",
        "IPY_MODEL_4a96e2d67ee54a41a257d81719387929"
       ],
       "value": "<table style=\"width:100%\">\n                <thead>\n                    <tr>\n                        <th colspan=\"2\">\n                        Could not create model:\n                        </th>\n                    </tr>\n                </thead>\n                <tbody>\n                    <tr>\n                        <td>Model name</td>\n                        <td> undefined </td>\n                    </tr>\n                    <tr>\n                        <td>Model module</td>\n                        <td> undefined </td>\n                    </tr>\n                    <tr>\n                        <td>Model module version</td>\n                        <td> undefined </td>\n                    </tr>\n                <tbody>\n                <tfoot>\n                    <tr>\n                        <th colspan=\"2\">\n                        Class undefined not found in registry \n                        </th>\n                    </tr>\n                </tfoot>\n                </table>"
      }
     },
     "e2d7a38ef7dc48099cc27bfcc2a6a4c9": {
      "model_module_version": "^2.1.4",
      "state": {
       "value": "<table style=\"width:100%\">\n                <thead>\n                    <tr>\n                        <th colspan=\"2\">\n                        Could not create model:\n                        </th>\n                    </tr>\n                </thead>\n                <tbody>\n                    <tr>\n                        <td>Model name</td>\n                        <td> undefined </td>\n                    </tr>\n                    <tr>\n                        <td>Model module</td>\n                        <td> undefined </td>\n                    </tr>\n                    <tr>\n                        <td>Model module version</td>\n                        <td> undefined </td>\n                    </tr>\n                <tbody>\n                <tfoot>\n                    <tr>\n                        <th colspan=\"2\">\n                        Class undefined not found in registry \n                        </th>\n                    </tr>\n                </tfoot>\n                </table>"
      }
     },
     "e2eabeb5e95644c6994f2f3be516a507": {
      "model_module_version": "^2.1.4",
      "state": {
       "value": "<table style=\"width:100%\">\n                <thead>\n                    <tr>\n                        <th colspan=\"2\">\n                        Could not create model:\n                        </th>\n                    </tr>\n                </thead>\n                <tbody>\n                    <tr>\n                        <td>Model name</td>\n                        <td> undefined </td>\n                    </tr>\n                    <tr>\n                        <td>Model module</td>\n                        <td> undefined </td>\n                    </tr>\n                    <tr>\n                        <td>Model module version</td>\n                        <td> undefined </td>\n                    </tr>\n                <tbody>\n                <tfoot>\n                    <tr>\n                        <th colspan=\"2\">\n                        Class undefined not found in registry \n                        </th>\n                    </tr>\n                </tfoot>\n                </table>"
      }
     },
     "e8c41950a9d349d2a093b110f66cbb72": {
      "model_module_version": "^2.1.4",
      "state": {
       "description": "x",
       "value": "<table style=\"width:100%\">\n                <thead>\n                    <tr>\n                        <th colspan=\"2\">\n                        Could not create model:\n                        </th>\n                    </tr>\n                </thead>\n                <tbody>\n                    <tr>\n                        <td>Model name</td>\n                        <td> undefined </td>\n                    </tr>\n                    <tr>\n                        <td>Model module</td>\n                        <td> undefined </td>\n                    </tr>\n                    <tr>\n                        <td>Model module version</td>\n                        <td> undefined </td>\n                    </tr>\n                <tbody>\n                <tfoot>\n                    <tr>\n                        <th colspan=\"2\">\n                        Class undefined not found in registry \n                        </th>\n                    </tr>\n                </tfoot>\n                </table>"
      }
     },
     "eef3d499980c484890b8c35cc146b9ed": {
      "model_module_version": "^2.1.4",
      "state": {
       "value": "<table style=\"width:100%\">\n                <thead>\n                    <tr>\n                        <th colspan=\"2\">\n                        Could not create model:\n                        </th>\n                    </tr>\n                </thead>\n                <tbody>\n                    <tr>\n                        <td>Model name</td>\n                        <td> undefined </td>\n                    </tr>\n                    <tr>\n                        <td>Model module</td>\n                        <td> undefined </td>\n                    </tr>\n                    <tr>\n                        <td>Model module version</td>\n                        <td> undefined </td>\n                    </tr>\n                <tbody>\n                <tfoot>\n                    <tr>\n                        <th colspan=\"2\">\n                        Class undefined not found in registry \n                        </th>\n                    </tr>\n                </tfoot>\n                </table>"
      }
     },
     "f43621a7182443dbaba6a026a3ea8c76": {
      "model_module_version": "^2.1.4",
      "state": {
       "value": "<table style=\"width:100%\">\n                <thead>\n                    <tr>\n                        <th colspan=\"2\">\n                        Could not create model:\n                        </th>\n                    </tr>\n                </thead>\n                <tbody>\n                    <tr>\n                        <td>Model name</td>\n                        <td> undefined </td>\n                    </tr>\n                    <tr>\n                        <td>Model module</td>\n                        <td> undefined </td>\n                    </tr>\n                    <tr>\n                        <td>Model module version</td>\n                        <td> undefined </td>\n                    </tr>\n                <tbody>\n                <tfoot>\n                    <tr>\n                        <th colspan=\"2\">\n                        Class undefined not found in registry \n                        </th>\n                    </tr>\n                </tfoot>\n                </table>"
      }
     },
     "f5d70fc558214794b4dd91314f8746c8": {
      "model_module_version": "^2.1.4",
      "state": {
       "value": "<table style=\"width:100%\">\n                <thead>\n                    <tr>\n                        <th colspan=\"2\">\n                        Could not create model:\n                        </th>\n                    </tr>\n                </thead>\n                <tbody>\n                    <tr>\n                        <td>Model name</td>\n                        <td> undefined </td>\n                    </tr>\n                    <tr>\n                        <td>Model module</td>\n                        <td> undefined </td>\n                    </tr>\n                    <tr>\n                        <td>Model module version</td>\n                        <td> undefined </td>\n                    </tr>\n                <tbody>\n                <tfoot>\n                    <tr>\n                        <th colspan=\"2\">\n                        Class undefined not found in registry \n                        </th>\n                    </tr>\n                </tfoot>\n                </table>"
      }
     }
    },
    "version_major": 1,
    "version_minor": 0
   }
  }
 },
 "nbformat": 4,
 "nbformat_minor": 2
}
