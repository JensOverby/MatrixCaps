{
 "cells": [
  {
   "cell_type": "markdown",
   "metadata": {},
   "source": [
    "# CAPSNET Monitor"
   ]
  },
  {
   "cell_type": "code",
   "execution_count": 1,
   "metadata": {},
   "outputs": [
    {
     "data": {
      "text/html": [
       "<script>\n",
       "code_show=true; \n",
       "function code_toggle() {\n",
       " if (code_show){\n",
       " $('div.input').hide();\n",
       " } else {\n",
       " $('div.input').show();\n",
       " }\n",
       " code_show = !code_show\n",
       "} \n",
       "$( document ).ready(code_toggle);\n",
       "</script>\n",
       "<form action=\"javascript:code_toggle()\"><input type=\"submit\" value=\"Click here to toggle on/off the raw code.\"></form>"
      ],
      "text/plain": [
       "<IPython.core.display.HTML object>"
      ]
     },
     "execution_count": 1,
     "metadata": {},
     "output_type": "execute_result"
    }
   ],
   "source": [
    "from IPython.display import HTML\n",
    "\n",
    "HTML('''<script>\n",
    "code_show=true; \n",
    "function code_toggle() {\n",
    " if (code_show){\n",
    " $('div.input').hide();\n",
    " } else {\n",
    " $('div.input').show();\n",
    " }\n",
    " code_show = !code_show\n",
    "} \n",
    "$( document ).ready(code_toggle);\n",
    "</script>\n",
    "<form action=\"javascript:code_toggle()\"><input type=\"submit\" value=\"Click here to toggle on/off the raw code.\"></form>''')\n"
   ]
  },
  {
   "cell_type": "code",
   "execution_count": 2,
   "metadata": {
    "scrolled": true
   },
   "outputs": [
    {
     "data": {
      "text/html": [
       "<style>\n",
       ".output_wrapper button.btn.btn-default,\n",
       ".output_wrapper .ui-dialog-titlebar {\n",
       "  display: none;\n",
       "}\n",
       "</style>"
      ],
      "text/plain": [
       "<IPython.core.display.HTML object>"
      ]
     },
     "execution_count": 2,
     "metadata": {},
     "output_type": "execute_result"
    }
   ],
   "source": [
    "HTML(\n",
    "'''<style>\n",
    ".output_wrapper button.btn.btn-default,\n",
    ".output_wrapper .ui-dialog-titlebar {\n",
    "  display: none;\n",
    "}\n",
    "</style>''')\n"
   ]
  },
  {
   "cell_type": "code",
   "execution_count": 3,
   "metadata": {
    "scrolled": false
   },
   "outputs": [],
   "source": [
    "%matplotlib notebook\n",
    "\n",
    "import os\n",
    "#os.chdir('/home/jens/eclipse-workspace/MatrixCaps/Matrix-Capsule-Network/')\n",
    "\n",
    "import sys\n",
    "import pyrr\n",
    "#sys.path.append('../model')\n",
    "sys.path.append('..')\n",
    "import torch\n",
    "from torch.autograd import Variable\n",
    "from torchvision import datasets\n",
    "from torchvision import transforms\n",
    "from torchvision import utils\n",
    "import torch.nn.functional as F\n",
    "import model.capsules as mcaps\n",
    "import model.util as util\n",
    "import matplotlib\n",
    "import matplotlib.pyplot as plt\n",
    "import numpy as np\n",
    "import time\n",
    "import pyrr\n",
    "\n",
    "import ipywidgets as widgets\n",
    "from ipywidgets import FloatSlider, HBox, VBox, Layout\n",
    "matplotlib.pyplot.ioff()\n",
    "\n",
    "import glob\n",
    "from IPython.display import display, Markdown, Image\n",
    "\n",
    "import PIL.Image\n",
    "from io import BytesIO\n"
   ]
  },
  {
   "cell_type": "markdown",
   "metadata": {},
   "source": [
    "## Matrix Capsules LOSS plot"
   ]
  },
  {
   "cell_type": "code",
   "execution_count": 4,
   "metadata": {},
   "outputs": [
    {
     "data": {
      "application/javascript": [
       "/* Put everything inside the global mpl namespace */\n",
       "window.mpl = {};\n",
       "\n",
       "\n",
       "mpl.get_websocket_type = function() {\n",
       "    if (typeof(WebSocket) !== 'undefined') {\n",
       "        return WebSocket;\n",
       "    } else if (typeof(MozWebSocket) !== 'undefined') {\n",
       "        return MozWebSocket;\n",
       "    } else {\n",
       "        alert('Your browser does not have WebSocket support.' +\n",
       "              'Please try Chrome, Safari or Firefox ≥ 6. ' +\n",
       "              'Firefox 4 and 5 are also supported but you ' +\n",
       "              'have to enable WebSockets in about:config.');\n",
       "    };\n",
       "}\n",
       "\n",
       "mpl.figure = function(figure_id, websocket, ondownload, parent_element) {\n",
       "    this.id = figure_id;\n",
       "\n",
       "    this.ws = websocket;\n",
       "\n",
       "    this.supports_binary = (this.ws.binaryType != undefined);\n",
       "\n",
       "    if (!this.supports_binary) {\n",
       "        var warnings = document.getElementById(\"mpl-warnings\");\n",
       "        if (warnings) {\n",
       "            warnings.style.display = 'block';\n",
       "            warnings.textContent = (\n",
       "                \"This browser does not support binary websocket messages. \" +\n",
       "                    \"Performance may be slow.\");\n",
       "        }\n",
       "    }\n",
       "\n",
       "    this.imageObj = new Image();\n",
       "\n",
       "    this.context = undefined;\n",
       "    this.message = undefined;\n",
       "    this.canvas = undefined;\n",
       "    this.rubberband_canvas = undefined;\n",
       "    this.rubberband_context = undefined;\n",
       "    this.format_dropdown = undefined;\n",
       "\n",
       "    this.image_mode = 'full';\n",
       "\n",
       "    this.root = $('<div/>');\n",
       "    this._root_extra_style(this.root)\n",
       "    this.root.attr('style', 'display: inline-block');\n",
       "\n",
       "    $(parent_element).append(this.root);\n",
       "\n",
       "    this._init_header(this);\n",
       "    this._init_canvas(this);\n",
       "    this._init_toolbar(this);\n",
       "\n",
       "    var fig = this;\n",
       "\n",
       "    this.waiting = false;\n",
       "\n",
       "    this.ws.onopen =  function () {\n",
       "            fig.send_message(\"supports_binary\", {value: fig.supports_binary});\n",
       "            fig.send_message(\"send_image_mode\", {});\n",
       "            if (mpl.ratio != 1) {\n",
       "                fig.send_message(\"set_dpi_ratio\", {'dpi_ratio': mpl.ratio});\n",
       "            }\n",
       "            fig.send_message(\"refresh\", {});\n",
       "        }\n",
       "\n",
       "    this.imageObj.onload = function() {\n",
       "            if (fig.image_mode == 'full') {\n",
       "                // Full images could contain transparency (where diff images\n",
       "                // almost always do), so we need to clear the canvas so that\n",
       "                // there is no ghosting.\n",
       "                fig.context.clearRect(0, 0, fig.canvas.width, fig.canvas.height);\n",
       "            }\n",
       "            fig.context.drawImage(fig.imageObj, 0, 0);\n",
       "        };\n",
       "\n",
       "    this.imageObj.onunload = function() {\n",
       "        fig.ws.close();\n",
       "    }\n",
       "\n",
       "    this.ws.onmessage = this._make_on_message_function(this);\n",
       "\n",
       "    this.ondownload = ondownload;\n",
       "}\n",
       "\n",
       "mpl.figure.prototype._init_header = function() {\n",
       "    var titlebar = $(\n",
       "        '<div class=\"ui-dialog-titlebar ui-widget-header ui-corner-all ' +\n",
       "        'ui-helper-clearfix\"/>');\n",
       "    var titletext = $(\n",
       "        '<div class=\"ui-dialog-title\" style=\"width: 100%; ' +\n",
       "        'text-align: center; padding: 3px;\"/>');\n",
       "    titlebar.append(titletext)\n",
       "    this.root.append(titlebar);\n",
       "    this.header = titletext[0];\n",
       "}\n",
       "\n",
       "\n",
       "\n",
       "mpl.figure.prototype._canvas_extra_style = function(canvas_div) {\n",
       "\n",
       "}\n",
       "\n",
       "\n",
       "mpl.figure.prototype._root_extra_style = function(canvas_div) {\n",
       "\n",
       "}\n",
       "\n",
       "mpl.figure.prototype._init_canvas = function() {\n",
       "    var fig = this;\n",
       "\n",
       "    var canvas_div = $('<div/>');\n",
       "\n",
       "    canvas_div.attr('style', 'position: relative; clear: both; outline: 0');\n",
       "\n",
       "    function canvas_keyboard_event(event) {\n",
       "        return fig.key_event(event, event['data']);\n",
       "    }\n",
       "\n",
       "    canvas_div.keydown('key_press', canvas_keyboard_event);\n",
       "    canvas_div.keyup('key_release', canvas_keyboard_event);\n",
       "    this.canvas_div = canvas_div\n",
       "    this._canvas_extra_style(canvas_div)\n",
       "    this.root.append(canvas_div);\n",
       "\n",
       "    var canvas = $('<canvas/>');\n",
       "    canvas.addClass('mpl-canvas');\n",
       "    canvas.attr('style', \"left: 0; top: 0; z-index: 0; outline: 0\")\n",
       "\n",
       "    this.canvas = canvas[0];\n",
       "    this.context = canvas[0].getContext(\"2d\");\n",
       "\n",
       "    var backingStore = this.context.backingStorePixelRatio ||\n",
       "\tthis.context.webkitBackingStorePixelRatio ||\n",
       "\tthis.context.mozBackingStorePixelRatio ||\n",
       "\tthis.context.msBackingStorePixelRatio ||\n",
       "\tthis.context.oBackingStorePixelRatio ||\n",
       "\tthis.context.backingStorePixelRatio || 1;\n",
       "\n",
       "    mpl.ratio = (window.devicePixelRatio || 1) / backingStore;\n",
       "\n",
       "    var rubberband = $('<canvas/>');\n",
       "    rubberband.attr('style', \"position: absolute; left: 0; top: 0; z-index: 1;\")\n",
       "\n",
       "    var pass_mouse_events = true;\n",
       "\n",
       "    canvas_div.resizable({\n",
       "        start: function(event, ui) {\n",
       "            pass_mouse_events = false;\n",
       "        },\n",
       "        resize: function(event, ui) {\n",
       "            fig.request_resize(ui.size.width, ui.size.height);\n",
       "        },\n",
       "        stop: function(event, ui) {\n",
       "            pass_mouse_events = true;\n",
       "            fig.request_resize(ui.size.width, ui.size.height);\n",
       "        },\n",
       "    });\n",
       "\n",
       "    function mouse_event_fn(event) {\n",
       "        if (pass_mouse_events)\n",
       "            return fig.mouse_event(event, event['data']);\n",
       "    }\n",
       "\n",
       "    rubberband.mousedown('button_press', mouse_event_fn);\n",
       "    rubberband.mouseup('button_release', mouse_event_fn);\n",
       "    // Throttle sequential mouse events to 1 every 20ms.\n",
       "    rubberband.mousemove('motion_notify', mouse_event_fn);\n",
       "\n",
       "    rubberband.mouseenter('figure_enter', mouse_event_fn);\n",
       "    rubberband.mouseleave('figure_leave', mouse_event_fn);\n",
       "\n",
       "    canvas_div.on(\"wheel\", function (event) {\n",
       "        event = event.originalEvent;\n",
       "        event['data'] = 'scroll'\n",
       "        if (event.deltaY < 0) {\n",
       "            event.step = 1;\n",
       "        } else {\n",
       "            event.step = -1;\n",
       "        }\n",
       "        mouse_event_fn(event);\n",
       "    });\n",
       "\n",
       "    canvas_div.append(canvas);\n",
       "    canvas_div.append(rubberband);\n",
       "\n",
       "    this.rubberband = rubberband;\n",
       "    this.rubberband_canvas = rubberband[0];\n",
       "    this.rubberband_context = rubberband[0].getContext(\"2d\");\n",
       "    this.rubberband_context.strokeStyle = \"#000000\";\n",
       "\n",
       "    this._resize_canvas = function(width, height) {\n",
       "        // Keep the size of the canvas, canvas container, and rubber band\n",
       "        // canvas in synch.\n",
       "        canvas_div.css('width', width)\n",
       "        canvas_div.css('height', height)\n",
       "\n",
       "        canvas.attr('width', width * mpl.ratio);\n",
       "        canvas.attr('height', height * mpl.ratio);\n",
       "        canvas.attr('style', 'width: ' + width + 'px; height: ' + height + 'px;');\n",
       "\n",
       "        rubberband.attr('width', width);\n",
       "        rubberband.attr('height', height);\n",
       "    }\n",
       "\n",
       "    // Set the figure to an initial 600x600px, this will subsequently be updated\n",
       "    // upon first draw.\n",
       "    this._resize_canvas(600, 600);\n",
       "\n",
       "    // Disable right mouse context menu.\n",
       "    $(this.rubberband_canvas).bind(\"contextmenu\",function(e){\n",
       "        return false;\n",
       "    });\n",
       "\n",
       "    function set_focus () {\n",
       "        canvas.focus();\n",
       "        canvas_div.focus();\n",
       "    }\n",
       "\n",
       "    window.setTimeout(set_focus, 100);\n",
       "}\n",
       "\n",
       "mpl.figure.prototype._init_toolbar = function() {\n",
       "    var fig = this;\n",
       "\n",
       "    var nav_element = $('<div/>')\n",
       "    nav_element.attr('style', 'width: 100%');\n",
       "    this.root.append(nav_element);\n",
       "\n",
       "    // Define a callback function for later on.\n",
       "    function toolbar_event(event) {\n",
       "        return fig.toolbar_button_onclick(event['data']);\n",
       "    }\n",
       "    function toolbar_mouse_event(event) {\n",
       "        return fig.toolbar_button_onmouseover(event['data']);\n",
       "    }\n",
       "\n",
       "    for(var toolbar_ind in mpl.toolbar_items) {\n",
       "        var name = mpl.toolbar_items[toolbar_ind][0];\n",
       "        var tooltip = mpl.toolbar_items[toolbar_ind][1];\n",
       "        var image = mpl.toolbar_items[toolbar_ind][2];\n",
       "        var method_name = mpl.toolbar_items[toolbar_ind][3];\n",
       "\n",
       "        if (!name) {\n",
       "            // put a spacer in here.\n",
       "            continue;\n",
       "        }\n",
       "        var button = $('<button/>');\n",
       "        button.addClass('ui-button ui-widget ui-state-default ui-corner-all ' +\n",
       "                        'ui-button-icon-only');\n",
       "        button.attr('role', 'button');\n",
       "        button.attr('aria-disabled', 'false');\n",
       "        button.click(method_name, toolbar_event);\n",
       "        button.mouseover(tooltip, toolbar_mouse_event);\n",
       "\n",
       "        var icon_img = $('<span/>');\n",
       "        icon_img.addClass('ui-button-icon-primary ui-icon');\n",
       "        icon_img.addClass(image);\n",
       "        icon_img.addClass('ui-corner-all');\n",
       "\n",
       "        var tooltip_span = $('<span/>');\n",
       "        tooltip_span.addClass('ui-button-text');\n",
       "        tooltip_span.html(tooltip);\n",
       "\n",
       "        button.append(icon_img);\n",
       "        button.append(tooltip_span);\n",
       "\n",
       "        nav_element.append(button);\n",
       "    }\n",
       "\n",
       "    var fmt_picker_span = $('<span/>');\n",
       "\n",
       "    var fmt_picker = $('<select/>');\n",
       "    fmt_picker.addClass('mpl-toolbar-option ui-widget ui-widget-content');\n",
       "    fmt_picker_span.append(fmt_picker);\n",
       "    nav_element.append(fmt_picker_span);\n",
       "    this.format_dropdown = fmt_picker[0];\n",
       "\n",
       "    for (var ind in mpl.extensions) {\n",
       "        var fmt = mpl.extensions[ind];\n",
       "        var option = $(\n",
       "            '<option/>', {selected: fmt === mpl.default_extension}).html(fmt);\n",
       "        fmt_picker.append(option)\n",
       "    }\n",
       "\n",
       "    // Add hover states to the ui-buttons\n",
       "    $( \".ui-button\" ).hover(\n",
       "        function() { $(this).addClass(\"ui-state-hover\");},\n",
       "        function() { $(this).removeClass(\"ui-state-hover\");}\n",
       "    );\n",
       "\n",
       "    var status_bar = $('<span class=\"mpl-message\"/>');\n",
       "    nav_element.append(status_bar);\n",
       "    this.message = status_bar[0];\n",
       "}\n",
       "\n",
       "mpl.figure.prototype.request_resize = function(x_pixels, y_pixels) {\n",
       "    // Request matplotlib to resize the figure. Matplotlib will then trigger a resize in the client,\n",
       "    // which will in turn request a refresh of the image.\n",
       "    this.send_message('resize', {'width': x_pixels, 'height': y_pixels});\n",
       "}\n",
       "\n",
       "mpl.figure.prototype.send_message = function(type, properties) {\n",
       "    properties['type'] = type;\n",
       "    properties['figure_id'] = this.id;\n",
       "    this.ws.send(JSON.stringify(properties));\n",
       "}\n",
       "\n",
       "mpl.figure.prototype.send_draw_message = function() {\n",
       "    if (!this.waiting) {\n",
       "        this.waiting = true;\n",
       "        this.ws.send(JSON.stringify({type: \"draw\", figure_id: this.id}));\n",
       "    }\n",
       "}\n",
       "\n",
       "\n",
       "mpl.figure.prototype.handle_save = function(fig, msg) {\n",
       "    var format_dropdown = fig.format_dropdown;\n",
       "    var format = format_dropdown.options[format_dropdown.selectedIndex].value;\n",
       "    fig.ondownload(fig, format);\n",
       "}\n",
       "\n",
       "\n",
       "mpl.figure.prototype.handle_resize = function(fig, msg) {\n",
       "    var size = msg['size'];\n",
       "    if (size[0] != fig.canvas.width || size[1] != fig.canvas.height) {\n",
       "        fig._resize_canvas(size[0], size[1]);\n",
       "        fig.send_message(\"refresh\", {});\n",
       "    };\n",
       "}\n",
       "\n",
       "mpl.figure.prototype.handle_rubberband = function(fig, msg) {\n",
       "    var x0 = msg['x0'] / mpl.ratio;\n",
       "    var y0 = (fig.canvas.height - msg['y0']) / mpl.ratio;\n",
       "    var x1 = msg['x1'] / mpl.ratio;\n",
       "    var y1 = (fig.canvas.height - msg['y1']) / mpl.ratio;\n",
       "    x0 = Math.floor(x0) + 0.5;\n",
       "    y0 = Math.floor(y0) + 0.5;\n",
       "    x1 = Math.floor(x1) + 0.5;\n",
       "    y1 = Math.floor(y1) + 0.5;\n",
       "    var min_x = Math.min(x0, x1);\n",
       "    var min_y = Math.min(y0, y1);\n",
       "    var width = Math.abs(x1 - x0);\n",
       "    var height = Math.abs(y1 - y0);\n",
       "\n",
       "    fig.rubberband_context.clearRect(\n",
       "        0, 0, fig.canvas.width, fig.canvas.height);\n",
       "\n",
       "    fig.rubberband_context.strokeRect(min_x, min_y, width, height);\n",
       "}\n",
       "\n",
       "mpl.figure.prototype.handle_figure_label = function(fig, msg) {\n",
       "    // Updates the figure title.\n",
       "    fig.header.textContent = msg['label'];\n",
       "}\n",
       "\n",
       "mpl.figure.prototype.handle_cursor = function(fig, msg) {\n",
       "    var cursor = msg['cursor'];\n",
       "    switch(cursor)\n",
       "    {\n",
       "    case 0:\n",
       "        cursor = 'pointer';\n",
       "        break;\n",
       "    case 1:\n",
       "        cursor = 'default';\n",
       "        break;\n",
       "    case 2:\n",
       "        cursor = 'crosshair';\n",
       "        break;\n",
       "    case 3:\n",
       "        cursor = 'move';\n",
       "        break;\n",
       "    }\n",
       "    fig.rubberband_canvas.style.cursor = cursor;\n",
       "}\n",
       "\n",
       "mpl.figure.prototype.handle_message = function(fig, msg) {\n",
       "    fig.message.textContent = msg['message'];\n",
       "}\n",
       "\n",
       "mpl.figure.prototype.handle_draw = function(fig, msg) {\n",
       "    // Request the server to send over a new figure.\n",
       "    fig.send_draw_message();\n",
       "}\n",
       "\n",
       "mpl.figure.prototype.handle_image_mode = function(fig, msg) {\n",
       "    fig.image_mode = msg['mode'];\n",
       "}\n",
       "\n",
       "mpl.figure.prototype.updated_canvas_event = function() {\n",
       "    // Called whenever the canvas gets updated.\n",
       "    this.send_message(\"ack\", {});\n",
       "}\n",
       "\n",
       "// A function to construct a web socket function for onmessage handling.\n",
       "// Called in the figure constructor.\n",
       "mpl.figure.prototype._make_on_message_function = function(fig) {\n",
       "    return function socket_on_message(evt) {\n",
       "        if (evt.data instanceof Blob) {\n",
       "            /* FIXME: We get \"Resource interpreted as Image but\n",
       "             * transferred with MIME type text/plain:\" errors on\n",
       "             * Chrome.  But how to set the MIME type?  It doesn't seem\n",
       "             * to be part of the websocket stream */\n",
       "            evt.data.type = \"image/png\";\n",
       "\n",
       "            /* Free the memory for the previous frames */\n",
       "            if (fig.imageObj.src) {\n",
       "                (window.URL || window.webkitURL).revokeObjectURL(\n",
       "                    fig.imageObj.src);\n",
       "            }\n",
       "\n",
       "            fig.imageObj.src = (window.URL || window.webkitURL).createObjectURL(\n",
       "                evt.data);\n",
       "            fig.updated_canvas_event();\n",
       "            fig.waiting = false;\n",
       "            return;\n",
       "        }\n",
       "        else if (typeof evt.data === 'string' && evt.data.slice(0, 21) == \"data:image/png;base64\") {\n",
       "            fig.imageObj.src = evt.data;\n",
       "            fig.updated_canvas_event();\n",
       "            fig.waiting = false;\n",
       "            return;\n",
       "        }\n",
       "\n",
       "        var msg = JSON.parse(evt.data);\n",
       "        var msg_type = msg['type'];\n",
       "\n",
       "        // Call the  \"handle_{type}\" callback, which takes\n",
       "        // the figure and JSON message as its only arguments.\n",
       "        try {\n",
       "            var callback = fig[\"handle_\" + msg_type];\n",
       "        } catch (e) {\n",
       "            console.log(\"No handler for the '\" + msg_type + \"' message type: \", msg);\n",
       "            return;\n",
       "        }\n",
       "\n",
       "        if (callback) {\n",
       "            try {\n",
       "                // console.log(\"Handling '\" + msg_type + \"' message: \", msg);\n",
       "                callback(fig, msg);\n",
       "            } catch (e) {\n",
       "                console.log(\"Exception inside the 'handler_\" + msg_type + \"' callback:\", e, e.stack, msg);\n",
       "            }\n",
       "        }\n",
       "    };\n",
       "}\n",
       "\n",
       "// from http://stackoverflow.com/questions/1114465/getting-mouse-location-in-canvas\n",
       "mpl.findpos = function(e) {\n",
       "    //this section is from http://www.quirksmode.org/js/events_properties.html\n",
       "    var targ;\n",
       "    if (!e)\n",
       "        e = window.event;\n",
       "    if (e.target)\n",
       "        targ = e.target;\n",
       "    else if (e.srcElement)\n",
       "        targ = e.srcElement;\n",
       "    if (targ.nodeType == 3) // defeat Safari bug\n",
       "        targ = targ.parentNode;\n",
       "\n",
       "    // jQuery normalizes the pageX and pageY\n",
       "    // pageX,Y are the mouse positions relative to the document\n",
       "    // offset() returns the position of the element relative to the document\n",
       "    var x = e.pageX - $(targ).offset().left;\n",
       "    var y = e.pageY - $(targ).offset().top;\n",
       "\n",
       "    return {\"x\": x, \"y\": y};\n",
       "};\n",
       "\n",
       "/*\n",
       " * return a copy of an object with only non-object keys\n",
       " * we need this to avoid circular references\n",
       " * http://stackoverflow.com/a/24161582/3208463\n",
       " */\n",
       "function simpleKeys (original) {\n",
       "  return Object.keys(original).reduce(function (obj, key) {\n",
       "    if (typeof original[key] !== 'object')\n",
       "        obj[key] = original[key]\n",
       "    return obj;\n",
       "  }, {});\n",
       "}\n",
       "\n",
       "mpl.figure.prototype.mouse_event = function(event, name) {\n",
       "    var canvas_pos = mpl.findpos(event)\n",
       "\n",
       "    if (name === 'button_press')\n",
       "    {\n",
       "        this.canvas.focus();\n",
       "        this.canvas_div.focus();\n",
       "    }\n",
       "\n",
       "    var x = canvas_pos.x * mpl.ratio;\n",
       "    var y = canvas_pos.y * mpl.ratio;\n",
       "\n",
       "    this.send_message(name, {x: x, y: y, button: event.button,\n",
       "                             step: event.step,\n",
       "                             guiEvent: simpleKeys(event)});\n",
       "\n",
       "    /* This prevents the web browser from automatically changing to\n",
       "     * the text insertion cursor when the button is pressed.  We want\n",
       "     * to control all of the cursor setting manually through the\n",
       "     * 'cursor' event from matplotlib */\n",
       "    event.preventDefault();\n",
       "    return false;\n",
       "}\n",
       "\n",
       "mpl.figure.prototype._key_event_extra = function(event, name) {\n",
       "    // Handle any extra behaviour associated with a key event\n",
       "}\n",
       "\n",
       "mpl.figure.prototype.key_event = function(event, name) {\n",
       "\n",
       "    // Prevent repeat events\n",
       "    if (name == 'key_press')\n",
       "    {\n",
       "        if (event.which === this._key)\n",
       "            return;\n",
       "        else\n",
       "            this._key = event.which;\n",
       "    }\n",
       "    if (name == 'key_release')\n",
       "        this._key = null;\n",
       "\n",
       "    var value = '';\n",
       "    if (event.ctrlKey && event.which != 17)\n",
       "        value += \"ctrl+\";\n",
       "    if (event.altKey && event.which != 18)\n",
       "        value += \"alt+\";\n",
       "    if (event.shiftKey && event.which != 16)\n",
       "        value += \"shift+\";\n",
       "\n",
       "    value += 'k';\n",
       "    value += event.which.toString();\n",
       "\n",
       "    this._key_event_extra(event, name);\n",
       "\n",
       "    this.send_message(name, {key: value,\n",
       "                             guiEvent: simpleKeys(event)});\n",
       "    return false;\n",
       "}\n",
       "\n",
       "mpl.figure.prototype.toolbar_button_onclick = function(name) {\n",
       "    if (name == 'download') {\n",
       "        this.handle_save(this, null);\n",
       "    } else {\n",
       "        this.send_message(\"toolbar_button\", {name: name});\n",
       "    }\n",
       "};\n",
       "\n",
       "mpl.figure.prototype.toolbar_button_onmouseover = function(tooltip) {\n",
       "    this.message.textContent = tooltip;\n",
       "};\n",
       "mpl.toolbar_items = [[\"Home\", \"Reset original view\", \"fa fa-home icon-home\", \"home\"], [\"Back\", \"Back to  previous view\", \"fa fa-arrow-left icon-arrow-left\", \"back\"], [\"Forward\", \"Forward to next view\", \"fa fa-arrow-right icon-arrow-right\", \"forward\"], [\"\", \"\", \"\", \"\"], [\"Pan\", \"Pan axes with left mouse, zoom with right\", \"fa fa-arrows icon-move\", \"pan\"], [\"Zoom\", \"Zoom to rectangle\", \"fa fa-square-o icon-check-empty\", \"zoom\"], [\"\", \"\", \"\", \"\"], [\"Download\", \"Download plot\", \"fa fa-floppy-o icon-save\", \"download\"]];\n",
       "\n",
       "mpl.extensions = [\"eps\", \"jpeg\", \"pdf\", \"png\", \"ps\", \"raw\", \"svg\", \"tif\"];\n",
       "\n",
       "mpl.default_extension = \"png\";var comm_websocket_adapter = function(comm) {\n",
       "    // Create a \"websocket\"-like object which calls the given IPython comm\n",
       "    // object with the appropriate methods. Currently this is a non binary\n",
       "    // socket, so there is still some room for performance tuning.\n",
       "    var ws = {};\n",
       "\n",
       "    ws.close = function() {\n",
       "        comm.close()\n",
       "    };\n",
       "    ws.send = function(m) {\n",
       "        //console.log('sending', m);\n",
       "        comm.send(m);\n",
       "    };\n",
       "    // Register the callback with on_msg.\n",
       "    comm.on_msg(function(msg) {\n",
       "        //console.log('receiving', msg['content']['data'], msg);\n",
       "        // Pass the mpl event to the overridden (by mpl) onmessage function.\n",
       "        ws.onmessage(msg['content']['data'])\n",
       "    });\n",
       "    return ws;\n",
       "}\n",
       "\n",
       "mpl.mpl_figure_comm = function(comm, msg) {\n",
       "    // This is the function which gets called when the mpl process\n",
       "    // starts-up an IPython Comm through the \"matplotlib\" channel.\n",
       "\n",
       "    var id = msg.content.data.id;\n",
       "    // Get hold of the div created by the display call when the Comm\n",
       "    // socket was opened in Python.\n",
       "    var element = $(\"#\" + id);\n",
       "    var ws_proxy = comm_websocket_adapter(comm)\n",
       "\n",
       "    function ondownload(figure, format) {\n",
       "        window.open(figure.imageObj.src);\n",
       "    }\n",
       "\n",
       "    var fig = new mpl.figure(id, ws_proxy,\n",
       "                           ondownload,\n",
       "                           element.get(0));\n",
       "\n",
       "    // Call onopen now - mpl needs it, as it is assuming we've passed it a real\n",
       "    // web socket which is closed, not our websocket->open comm proxy.\n",
       "    ws_proxy.onopen();\n",
       "\n",
       "    fig.parent_element = element.get(0);\n",
       "    fig.cell_info = mpl.find_output_cell(\"<div id='\" + id + \"'></div>\");\n",
       "    if (!fig.cell_info) {\n",
       "        console.error(\"Failed to find cell for figure\", id, fig);\n",
       "        return;\n",
       "    }\n",
       "\n",
       "    var output_index = fig.cell_info[2]\n",
       "    var cell = fig.cell_info[0];\n",
       "\n",
       "};\n",
       "\n",
       "mpl.figure.prototype.handle_close = function(fig, msg) {\n",
       "    var width = fig.canvas.width/mpl.ratio\n",
       "    fig.root.unbind('remove')\n",
       "\n",
       "    // Update the output cell to use the data from the current canvas.\n",
       "    fig.push_to_output();\n",
       "    var dataURL = fig.canvas.toDataURL();\n",
       "    // Re-enable the keyboard manager in IPython - without this line, in FF,\n",
       "    // the notebook keyboard shortcuts fail.\n",
       "    IPython.keyboard_manager.enable()\n",
       "    $(fig.parent_element).html('<img src=\"' + dataURL + '\" width=\"' + width + '\">');\n",
       "    fig.close_ws(fig, msg);\n",
       "}\n",
       "\n",
       "mpl.figure.prototype.close_ws = function(fig, msg){\n",
       "    fig.send_message('closing', msg);\n",
       "    // fig.ws.close()\n",
       "}\n",
       "\n",
       "mpl.figure.prototype.push_to_output = function(remove_interactive) {\n",
       "    // Turn the data on the canvas into data in the output cell.\n",
       "    var width = this.canvas.width/mpl.ratio\n",
       "    var dataURL = this.canvas.toDataURL();\n",
       "    this.cell_info[1]['text/html'] = '<img src=\"' + dataURL + '\" width=\"' + width + '\">';\n",
       "}\n",
       "\n",
       "mpl.figure.prototype.updated_canvas_event = function() {\n",
       "    // Tell IPython that the notebook contents must change.\n",
       "    IPython.notebook.set_dirty(true);\n",
       "    this.send_message(\"ack\", {});\n",
       "    var fig = this;\n",
       "    // Wait a second, then push the new image to the DOM so\n",
       "    // that it is saved nicely (might be nice to debounce this).\n",
       "    setTimeout(function () { fig.push_to_output() }, 1000);\n",
       "}\n",
       "\n",
       "mpl.figure.prototype._init_toolbar = function() {\n",
       "    var fig = this;\n",
       "\n",
       "    var nav_element = $('<div/>')\n",
       "    nav_element.attr('style', 'width: 100%');\n",
       "    this.root.append(nav_element);\n",
       "\n",
       "    // Define a callback function for later on.\n",
       "    function toolbar_event(event) {\n",
       "        return fig.toolbar_button_onclick(event['data']);\n",
       "    }\n",
       "    function toolbar_mouse_event(event) {\n",
       "        return fig.toolbar_button_onmouseover(event['data']);\n",
       "    }\n",
       "\n",
       "    for(var toolbar_ind in mpl.toolbar_items){\n",
       "        var name = mpl.toolbar_items[toolbar_ind][0];\n",
       "        var tooltip = mpl.toolbar_items[toolbar_ind][1];\n",
       "        var image = mpl.toolbar_items[toolbar_ind][2];\n",
       "        var method_name = mpl.toolbar_items[toolbar_ind][3];\n",
       "\n",
       "        if (!name) { continue; };\n",
       "\n",
       "        var button = $('<button class=\"btn btn-default\" href=\"#\" title=\"' + name + '\"><i class=\"fa ' + image + ' fa-lg\"></i></button>');\n",
       "        button.click(method_name, toolbar_event);\n",
       "        button.mouseover(tooltip, toolbar_mouse_event);\n",
       "        nav_element.append(button);\n",
       "    }\n",
       "\n",
       "    // Add the status bar.\n",
       "    var status_bar = $('<span class=\"mpl-message\" style=\"text-align:right; float: right;\"/>');\n",
       "    nav_element.append(status_bar);\n",
       "    this.message = status_bar[0];\n",
       "\n",
       "    // Add the close button to the window.\n",
       "    var buttongrp = $('<div class=\"btn-group inline pull-right\"></div>');\n",
       "    var button = $('<button class=\"btn btn-mini btn-primary\" href=\"#\" title=\"Stop Interaction\"><i class=\"fa fa-power-off icon-remove icon-large\"></i></button>');\n",
       "    button.click(function (evt) { fig.handle_close(fig, {}); } );\n",
       "    button.mouseover('Stop Interaction', toolbar_mouse_event);\n",
       "    buttongrp.append(button);\n",
       "    var titlebar = this.root.find($('.ui-dialog-titlebar'));\n",
       "    titlebar.prepend(buttongrp);\n",
       "}\n",
       "\n",
       "mpl.figure.prototype._root_extra_style = function(el){\n",
       "    var fig = this\n",
       "    el.on(\"remove\", function(){\n",
       "\tfig.close_ws(fig, {});\n",
       "    });\n",
       "}\n",
       "\n",
       "mpl.figure.prototype._canvas_extra_style = function(el){\n",
       "    // this is important to make the div 'focusable\n",
       "    el.attr('tabindex', 0)\n",
       "    // reach out to IPython and tell the keyboard manager to turn it's self\n",
       "    // off when our div gets focus\n",
       "\n",
       "    // location in version 3\n",
       "    if (IPython.notebook.keyboard_manager) {\n",
       "        IPython.notebook.keyboard_manager.register_events(el);\n",
       "    }\n",
       "    else {\n",
       "        // location in version 2\n",
       "        IPython.keyboard_manager.register_events(el);\n",
       "    }\n",
       "\n",
       "}\n",
       "\n",
       "mpl.figure.prototype._key_event_extra = function(event, name) {\n",
       "    var manager = IPython.notebook.keyboard_manager;\n",
       "    if (!manager)\n",
       "        manager = IPython.keyboard_manager;\n",
       "\n",
       "    // Check for shift+enter\n",
       "    if (event.shiftKey && event.which == 13) {\n",
       "        this.canvas_div.blur();\n",
       "        event.shiftKey = false;\n",
       "        // Send a \"J\" for go to next cell\n",
       "        event.which = 74;\n",
       "        event.keyCode = 74;\n",
       "        manager.command_mode();\n",
       "        manager.handle_keydown(event);\n",
       "    }\n",
       "}\n",
       "\n",
       "mpl.figure.prototype.handle_save = function(fig, msg) {\n",
       "    fig.ondownload(fig, null);\n",
       "}\n",
       "\n",
       "\n",
       "mpl.find_output_cell = function(html_output) {\n",
       "    // Return the cell and output element which can be found *uniquely* in the notebook.\n",
       "    // Note - this is a bit hacky, but it is done because the \"notebook_saving.Notebook\"\n",
       "    // IPython event is triggered only after the cells have been serialised, which for\n",
       "    // our purposes (turning an active figure into a static one), is too late.\n",
       "    var cells = IPython.notebook.get_cells();\n",
       "    var ncells = cells.length;\n",
       "    for (var i=0; i<ncells; i++) {\n",
       "        var cell = cells[i];\n",
       "        if (cell.cell_type === 'code'){\n",
       "            for (var j=0; j<cell.output_area.outputs.length; j++) {\n",
       "                var data = cell.output_area.outputs[j];\n",
       "                if (data.data) {\n",
       "                    // IPython >= 3 moved mimebundle to data attribute of output\n",
       "                    data = data.data;\n",
       "                }\n",
       "                if (data['text/html'] == html_output) {\n",
       "                    return [cell, data, j];\n",
       "                }\n",
       "            }\n",
       "        }\n",
       "    }\n",
       "}\n",
       "\n",
       "// Register the function which deals with the matplotlib target/channel.\n",
       "// The kernel may be null if the page has been refreshed.\n",
       "if (IPython.notebook.kernel != null) {\n",
       "    IPython.notebook.kernel.comm_manager.register_target('matplotlib', mpl.mpl_figure_comm);\n",
       "}\n"
      ],
      "text/plain": [
       "<IPython.core.display.Javascript object>"
      ]
     },
     "metadata": {},
     "output_type": "display_data"
    },
    {
     "data": {
      "text/html": [
       "<img src=\"data:image/png;base64,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\" width=\"900\">"
      ],
      "text/plain": [
       "<IPython.core.display.HTML object>"
      ]
     },
     "metadata": {},
     "output_type": "display_data"
    },
    {
     "data": {
      "application/vnd.jupyter.widget-view+json": {
       "model_id": "0465de6b79cb418ba6b3ccdf7a01c473",
       "version_major": 2,
       "version_minor": 0
      },
      "text/plain": [
       "Button(description='Update', style=ButtonStyle())"
      ]
     },
     "metadata": {},
     "output_type": "display_data"
    },
    {
     "data": {
      "application/vnd.jupyter.widget-view+json": {
       "model_id": "cf1d3210f1b242b88230e3a0d041afcf",
       "version_major": 2,
       "version_minor": 0
      },
      "text/plain": [
       "IntText(value=30, description='Epoch history')"
      ]
     },
     "metadata": {},
     "output_type": "display_data"
    }
   ],
   "source": [
    "matplotlib.rcParams.update({'font.size': 22})\n",
    "fig3 = plt.figure(figsize = (9,6))\n",
    "ax3 = fig3.subplots()\n",
    "#matplotlib.pyplot.ion()\n",
    "\n",
    "\n",
    "button = widgets.Button(description=\"Update\")\n",
    "show_epochs = widgets.IntText(description='Epoch history',disabled=False)\n",
    "show_epochs.value = 30\n",
    "\n",
    "def on_button_clicked(b):\n",
    "    with open('../loss.log') as f:\n",
    "        content = f.readlines()\n",
    "    content = [float(x.strip()) for x in content]\n",
    "    xmin = 0\n",
    "    xmax = len(content)\n",
    "    if xmax > show_epochs.value:\n",
    "        xmin = xmax-show_epochs.value\n",
    "        content = content[xmin:xmax]\n",
    "    ymin = np.min(content)\n",
    "    ymax = np.max(content)\n",
    "    x_axis = np.linspace(xmin, xmax-1, num=xmax-xmin)\n",
    "\n",
    "    #matplotlib.pyplot.gcf().clear()\n",
    "    ax3.clear()\n",
    "    ax3.set_xlim(xmin, xmax)\n",
    "    yaxismin = ymin - (ymax-ymin)/3\n",
    "    if yaxismin < 0:\n",
    "        yaxismin = 0\n",
    "    ax3.set_ylim(ymin - (ymax-ymin)/3, ymax)\n",
    "    ax3.plot(x_axis, content, linewidth=5.0)\n",
    "    ax3.xaxis.set_major_locator(matplotlib.ticker.MaxNLocator(integer=True))\n",
    "    ax3.grid(linestyle='-', linewidth='0.5', color='red')\n",
    "    fig3.canvas.draw()\n",
    "\n",
    "    \n",
    "on_button_clicked(None)\n",
    "fig3.show()\n",
    "\n",
    "display(button)\n",
    "display(show_epochs)\n",
    "\n",
    "button.on_click(on_button_clicked)\n",
    "show_epochs.observe(on_button_clicked)"
   ]
  },
  {
   "cell_type": "code",
   "execution_count": 5,
   "metadata": {},
   "outputs": [
    {
     "data": {
      "text/markdown": [
       "## Latest model is: ../weights/model_13.pth"
      ],
      "text/plain": [
       "<IPython.core.display.Markdown object>"
      ]
     },
     "metadata": {},
     "output_type": "display_data"
    }
   ],
   "source": [
    "class args():\n",
    "    num_classes = 1\n",
    "    batch_size = 1\n",
    "    routing = 'EM_routing'\n",
    "    loss = 'spread_loss̈́'\n",
    "    use_recon = 0.001\n",
    "    r = 9\n",
    "    num_workers = 1\n",
    "    disable_encoder = False\n",
    "    disable_recon = False\n",
    "    disable_dae = False\n",
    "\n",
    "A, AA, B, C, D, E, r = 128, 128, 40, 40, 40, args.num_classes, args.r # a small CapsNet\n",
    "\n",
    "model = mcaps.CapsNet(args, A, AA, B, C, D, E, r, h=4)\n",
    "\n",
    "LatestFile = max(glob.iglob(\"../weights/model*.pth\"),key=os.path.getctime)\n",
    "\n",
    "display(Markdown('## Latest model is: '+LatestFile))\n",
    "\n",
    "model.load_state_dict(torch.load(LatestFile))\n",
    "model.cpu()\n",
    "\n",
    "self = model"
   ]
  },
  {
   "cell_type": "markdown",
   "metadata": {},
   "source": [
    "## Ground Truth"
   ]
  },
  {
   "cell_type": "code",
   "execution_count": 6,
   "metadata": {
    "scrolled": false
   },
   "outputs": [
    {
     "data": {
      "application/vnd.jupyter.widget-view+json": {
       "model_id": "7f44cf036bbd44fdb50ca5fc167c687d",
       "version_major": 2,
       "version_minor": 0
      },
      "text/plain": [
       "HBox(children=(Output(layout=Layout(border='1px solid black', width='100%')), Output(layout=Layout(border='1px…"
      ]
     },
     "metadata": {},
     "output_type": "display_data"
    },
    {
     "data": {
      "application/vnd.jupyter.widget-view+json": {
       "model_id": "e5d2a8e942814d288262bdec27503937",
       "version_major": 2,
       "version_minor": 0
      },
      "text/plain": [
       "VBox(children=(HBox(children=(FloatText(value=1.0, description='Contrast', layout=Layout(width='100%'), step=0…"
      ]
     },
     "metadata": {},
     "output_type": "display_data"
    }
   ],
   "source": [
    "def updateOutputWidget(widget, array, color=\"L\"):\n",
    "    f = BytesIO()\n",
    "    PIL.Image.fromarray(np.uint8(array*255), mode=color).convert(color).save(f, 'png')\n",
    "    widget.clear_output()\n",
    "    with widget:\n",
    "        display(Image(data=f.getvalue(), width='100%'))\n",
    "\n",
    "ground_truth_widget_left = widgets.Output(layout=Layout(border='1px solid black', width='100%'))\n",
    "ground_truth_widget_right = widgets.Output(layout=Layout(border='1px solid black', width='100%'))\n",
    "ground_truth_widget = HBox([ground_truth_widget_left, ground_truth_widget_right], layout=Layout(width='100%'))\n",
    "\n",
    "contrast_left = widgets.FloatText(layout={'width': '100%'},description='Contrast',disabled=False, value=1, step=0.01)\n",
    "contrast_right = widgets.FloatText(layout={'width': '100%'},description='Contrast',disabled=False, value=1, step=0.01)\n",
    "brightness_left = widgets.FloatText(layout={'width': '100%'},description='Brightness',disabled=False, value=0, step=0.01)\n",
    "brightness_right = widgets.FloatText(layout={'width': '100%'},description='Brightness',disabled=False, value=0, step=0.01)\n",
    "brightness_contrast_widget = VBox([  HBox([contrast_left, contrast_right],layout=Layout(width='100%')) ,  HBox([brightness_left, brightness_right],layout=Layout(width='100%')) ] )\n",
    "\n",
    "display(ground_truth_widget)\n",
    "display(brightness_contrast_widget)"
   ]
  },
  {
   "cell_type": "markdown",
   "metadata": {},
   "source": [
    "## Activations of convolutional layers and primary capsules layer"
   ]
  },
  {
   "cell_type": "code",
   "execution_count": 7,
   "metadata": {
    "scrolled": false
   },
   "outputs": [
    {
     "data": {
      "application/vnd.jupyter.widget-view+json": {
       "model_id": "cd080ceafb6c445fa302102dfec81c2d",
       "version_major": 2,
       "version_minor": 0
      },
      "text/plain": [
       "VBox(children=(Output(layout=Layout(width='100%')), Output(layout=Layout(width='100%')), HBox(children=(Output…"
      ]
     },
     "metadata": {},
     "output_type": "display_data"
    }
   ],
   "source": [
    "layer1_widget = widgets.Output(layout=Layout(width='100%'))\n",
    "layer2_widget = widgets.Output(layout=Layout(width='100%'))\n",
    "layer3_widget = widgets.Output(layout=Layout(width='100%'))\n",
    "layer4_widget = widgets.Output(layout=Layout(width='100%'))\n",
    "layer5_widget = widgets.Output(layout=Layout(width='100%'))\n",
    "layer6_widget = widgets.Output(layout=Layout(width='100%'))\n",
    "#layer12_widget = HBox([layer1_widget, layer2_widget], layout=Layout(width='100%'))\n",
    "l345_widget = HBox([layer3_widget, layer4_widget, layer5_widget, layer6_widget])\n",
    "layer_widget = VBox([layer1_widget, layer2_widget, l345_widget], layout=Layout(width='100%'))\n",
    "display(layer_widget)\n",
    "\n",
    "\n",
    "\n",
    "def makeCombinedImage(img, scale=1):\n",
    "    if scale != 1:\n",
    "        img = torch.nn.functional.interpolate(img, scale_factor=scale, mode='nearest')\n",
    "    img = img.squeeze().unsqueeze(1)\n",
    "    return utils.make_grid(img.data, nrow=int(img.shape[0] ** 0.5), normalize=True,range=(0, 1)).cpu().numpy()\n",
    "    \n",
    "def forward(self, x, lambda_, labels=None, draw=True):\n",
    "    if x is not None:\n",
    "        x = F.relu(self.bn1(self.conv1(x)))\n",
    "\n",
    "        if draw is True:\n",
    "            grid_picture = makeCombinedImage(x, scale=4)\n",
    "            updateOutputWidget(layer1_widget, grid_picture.transpose(1,2,0), \"RGB\")\n",
    "\n",
    "        x = F.max_pool2d(x, 2, 2)\n",
    "        x = F.relu(self.bn2(self.conv2(x)))\n",
    "        \n",
    "        if draw is True:\n",
    "            grid_picture = makeCombinedImage(x, scale=8)\n",
    "            updateOutputWidget(layer2_widget, grid_picture.transpose(1,2,0), \"RGB\")\n",
    "        \n",
    "        \n",
    "        # Combine left and right\n",
    "        left = x[:,:,:,:int(x.shape[-1]/2)]\n",
    "        right = x[:,:,:,int(x.shape[-1]/2):]\n",
    "        x = torch.stack([left,right], dim=1).view(x.shape[0],-1,x.shape[2],x.shape[2])\n",
    "        \n",
    "        \n",
    "        #x = F.relu(self.bn3(self.conv3(x)))\n",
    "        #if draw is True:\n",
    "        #    grid_picture = makeCombinedImage(x)\n",
    "        #    updateOutputWidget(layer3_widget, grid_picture.transpose(1,2,0), \"RGB\")\n",
    "        \n",
    "        p, a = self.primary_caps(x)  # b,32*(4*4+1),12,12\n",
    "\n",
    "        if draw is True:\n",
    "            grid_picture = makeCombinedImage(a, scale=16)\n",
    "            updateOutputWidget(layer3_widget, grid_picture.transpose(1,2,0), \"RGB\")\n",
    "            \n",
    "        p, a = self.convcaps1(lambda_, p, a)  # b,32*(4*4+1),5,5\n",
    "\n",
    "        if draw is True:\n",
    "            grid_picture = makeCombinedImage(a, scale=16)\n",
    "            updateOutputWidget(layer4_widget, grid_picture.transpose(1,2,0), \"RGB\")\n",
    "\n",
    "        p, a = self.convcaps2(lambda_, p, a)  # b,32*(4*4+1),3,3\n",
    "\n",
    "        if draw is True:\n",
    "            grid_picture = makeCombinedImage(a, scale=16)\n",
    "            updateOutputWidget(layer5_widget, grid_picture.transpose(1,2,0), \"RGB\")\n",
    "\n",
    "        p, a = self.convcaps3(lambda_, p, a)  # b,32*(4*4+1),3,3\n",
    "\n",
    "        if draw is True:\n",
    "            grid_picture = makeCombinedImage(a, scale=16)\n",
    "            updateOutputWidget(layer6_widget, grid_picture.transpose(1,2,0), \"RGB\")\n",
    "            \n",
    "        p, a = self.classcaps(lambda_, p, a)  # b,10*16+10\n",
    "\n",
    "        \n",
    "        \"\"\" Find pose with largest activation \"\"\"\n",
    "        \"\"\"\n",
    "        dist = torch.arange(float(3)) / 3\n",
    "        a_tmp = a.view(a.shape[0],-1)\n",
    "        p_tmp = p.view(p.shape[0],-1,p.shape[-1])\n",
    "        _, i = torch.max(a_tmp, 1)\n",
    "        new_a = []\n",
    "        new_p = []\n",
    "        coords = []\n",
    "        for counter, j in enumerate(i):\n",
    "            new_a.append(a_tmp[counter, j])\n",
    "            new_p.append(p_tmp[counter, j, :])\n",
    "\n",
    "            w_x=j%3\n",
    "            w_y=j/3\n",
    "            xyz = p_tmp[counter, j, :][(3,7,11),]\n",
    "            xyz[0] += dist[w_x]\n",
    "            xyz[1] += dist[w_y]\n",
    "            xyz = torch.cat([xyz, torch.FloatTensor([w_x, w_y])], dim=0)\n",
    "            coords.append(xyz)\n",
    "            #p[:, (3,7,11)] = xyz * 1.0\n",
    "\n",
    "        a = torch.stack(new_a, dim=0)\n",
    "        p = torch.stack(new_p, dim=0)\n",
    "\n",
    "        coords = torch.stack(coords, dim=0)\n",
    "        coords = self.coord_add_encoder(coords)\n",
    "        \"\"\"\n",
    "        \n",
    "        p = p.squeeze()\n",
    "        \n",
    "        # Temporary when batch size = 1\n",
    "        if len(p.shape) == 1:\n",
    "            p = p.unsqueeze(0)\n",
    "       \n",
    "        xyz = p[:, (3,7,11)]\n",
    "        xyz = self.coord_add_encoder(xyz)\n",
    "        p[:, (3,7,11)] = xyz * 1.0\n",
    "    else:\n",
    "        p = labels\n",
    "\n",
    "    if not self.args.disable_recon:\n",
    "        reconstructions = self.decoder(p)\n",
    "    else:\n",
    "        reconstructions = 0\n",
    "\n",
    "    return p, reconstructions"
   ]
  },
  {
   "cell_type": "markdown",
   "metadata": {},
   "source": [
    "## 4x4 pose output"
   ]
  },
  {
   "cell_type": "code",
   "execution_count": 8,
   "metadata": {
    "scrolled": false
   },
   "outputs": [
    {
     "data": {
      "application/vnd.jupyter.widget-view+json": {
       "model_id": "a76fb8709dad40829947d6df60b5ac21",
       "version_major": 2,
       "version_minor": 0
      },
      "text/plain": [
       "HBox(children=(VBox(children=(HBox(children=(Output(layout=Layout(width='100%')), Output(layout=Layout(width='…"
      ]
     },
     "metadata": {},
     "output_type": "display_data"
    },
    {
     "data": {
      "application/vnd.jupyter.widget-view+json": {
       "model_id": "2a96613cd06f4826b470522eaadd9812",
       "version_major": 2,
       "version_minor": 0
      },
      "text/plain": [
       "HBox(children=(Label(value='Output', layout=Layout(width='100%')), Label(value='Label', layout=Layout(width='1…"
      ]
     },
     "metadata": {},
     "output_type": "display_data"
    },
    {
     "data": {
      "application/vnd.jupyter.widget-view+json": {
       "model_id": "6679ac608c62483c99b857d2a2ea531a",
       "version_major": 2,
       "version_minor": 0
      },
      "text/plain": [
       "HBox(children=(Textarea(value='', layout=Layout(height='90px', width='100%')), Textarea(value='', layout=Layou…"
      ]
     },
     "metadata": {},
     "output_type": "display_data"
    }
   ],
   "source": [
    "truth_widget_left = widgets.Output(layout=Layout(width='100%'))\n",
    "truth_widget_right = widgets.Output(layout=Layout(width='100%'))\n",
    "recon_widget_left = widgets.Output(layout=Layout(width='100%'))\n",
    "recon_widget_right = widgets.Output(layout=Layout(width='100%'))\n",
    "truth_widget = HBox([truth_widget_left, truth_widget_right], layout=Layout(width='100%'))\n",
    "recon_widget = HBox([recon_widget_left, recon_widget_right], layout=Layout(width='100%'))\n",
    "step_widget = VBox([truth_widget, recon_widget], layout=Layout(width='100%'))\n",
    "names = ['p0', 'p1', 'p2', 'p3', 'p4', 'p5', 'p6', 'p7', 'p8', 'p9', 'p10', 'p11', 'p12', 'p13', 'p14', 'p15']\n",
    "pose_sliders = [FloatSlider(min=-100, max=100, layout={'height': '50%'}, step=0.00001, description=i, orientation='horizontal') for i in names]\n",
    "button_next = widgets.Button(description=\"Next\", layout={'height': '50%'})\n",
    "pose_sliders.append(button_next)\n",
    "sliders_widget = VBox(pose_sliders, layout=Layout(width='60%'))\n",
    "step_slider_widget = HBox([step_widget, sliders_widget],layout=Layout(width='100%'))\n",
    "pose_output = widgets.Textarea(layout={'width': '100%','height': '90px'},disabled=False)\n",
    "pose_label = widgets.Textarea(layout={'width': '100%','height': '90px'},disabled=False)\n",
    "pose_error = widgets.Textarea(layout={'width': '100%','height': '90px'},disabled=False)\n",
    "\n",
    "\n",
    "label_widget = HBox([widgets.Label(layout={'width': '100%'},value=\"Output\"), widgets.Label(layout={'width': '100%'},value=\"Label\"), widgets.Label(layout={'width': '100%'},value=\"Error\")])\n",
    "pose_widget = HBox([pose_output, pose_label, pose_error])\n",
    "\n",
    "the_time = time.time()\n",
    "do_update = True\n",
    "\n",
    "display(step_slider_widget)\n",
    "display(label_widget)\n",
    "display(pose_widget)\n",
    "#display(pose_output)\n",
    "#display(pose_label)\n",
    "#display(pose_error)\n",
    "\n",
    "# Initialize Transform Network (from Pose to Quaternion)\n",
    "\"\"\"\n",
    "import sys\n",
    "import pyrr\n",
    "sys.path.append('../PoseToQuaternionNetwork/model')\n",
    "from transform import PoseToQuatNet\n",
    "transform = PoseToQuatNet()\n",
    "transform.load_state_dict(torch.load('../PoseToQuaternionNetwork/weights/model.pth'))\n",
    "transform.cpu()\n",
    "\"\"\"\n",
    "\n",
    "# Initialize view and projection for coord system rendering\n",
    "w_width, w_height = 800, 800\n",
    "focus_distance = 1.9\n",
    "view = pyrr.matrix44.create_from_translation(pyrr.Vector3([0.0, 0.0, -focus_distance])).transpose()\n",
    "projection = pyrr.matrix44.create_perspective_projection_matrix(65.0, w_width / w_height, 0.1, 100.0).transpose()\n",
    "\"\"\"\n",
    "def plotPoint(pnt, color_idx, img_left, img_right):\n",
    "    model_view = pyrr.matrix44.multiply(view, pnt)\n",
    "    model_projection = pyrr.matrix44.multiply(projection, model_view)\n",
    "    scaling = model_projection[3]\n",
    "    pix_x = img_left.shape[0]/2 + (model_projection[0]/scaling) * img_left.shape[0]/2\n",
    "    if pix_x >= img_left.shape[0]: pix_x = img_left.shape[0]-1\n",
    "    if pix_x < 0: pix_x = 0\n",
    "    pix_y = img_left.shape[1]/2 - (model_projection[1]/scaling) * img_left.shape[1]/2\n",
    "    if pix_y >= img_left.shape[1]: pix_y = img_left.shape[1]-1\n",
    "    if pix_y < 0: pix_y = 0\n",
    "    img_left[int(pix_y),int(pix_x),color_idx] = 1.0\n",
    "    img_right[int(pix_y),int(pix_x),color_idx] = 1.0\n",
    "\"\"\"\n",
    "def plotPoint(pnt, color_idx, img):\n",
    "    model_view = pyrr.matrix44.multiply(view, pnt)\n",
    "    model_projection = pyrr.matrix44.multiply(projection, model_view)\n",
    "    scaling = model_projection[3]\n",
    "    pix_x = img.shape[1]/2 + (model_projection[0]/scaling) * img.shape[1]/2\n",
    "    if pix_x >= img.shape[1]: pix_x = img.shape[1]-1\n",
    "    if pix_x < 0: pix_x = 0\n",
    "    pix_y = img.shape[0]/2 - (model_projection[1]/scaling) * img.shape[0]/2\n",
    "    if pix_y >= img.shape[0]: pix_y = img.shape[0]-1\n",
    "    if pix_y < 0: pix_y = 0\n",
    "    img[int(pix_y),int(pix_x),color_idx] = 1.0\n",
    "    \n",
    "eye_distance = 0.5\n",
    "focus_distance = 1.9\n",
    "eye_angle = eye_distance/focus_distance\n",
    "right_eye_transform = pyrr.Matrix44.from_y_rotation(-eye_angle/2)\n",
    "left_eye_transform = pyrr.Matrix44.from_y_rotation(eye_angle/2)\n",
    "    \n",
    "def plotCoordSystemAxis(pose44, axis_idx, img):\n",
    "    pnt = pyrr.vector4.create(0.0, 0.0, 0.0, 1.0)\n",
    "    for i in range(50):\n",
    "        pnt[axis_idx] = i*0.01\n",
    "        point = pyrr.matrix44.multiply(pyrr.Matrix44(pose44), pnt) #.transpose()\n",
    "        plotPoint(point, axis_idx, img)\n",
    "\n",
    "pose = 0\n",
    "lambda_ = torch.tensor([1.0])\n",
    "\n",
    "def on_value_change(change):\n",
    "    global the_time\n",
    "    global do_update\n",
    "    global pose\n",
    "    global ground_truth_labels\n",
    "    global imgs\n",
    "    global imgs_ref\n",
    "    global right_eye_transform\n",
    "    global left_eye_transform\n",
    "\n",
    "    if not do_update and change is not None:\n",
    "        return\n",
    "\n",
    "    if (time.time()-the_time) < 0.2:\n",
    "        return\n",
    "    the_time = time.time()\n",
    "    \n",
    "    for i in range(len(pose_sliders)-1):\n",
    "        pose[:,i] = pose_sliders[i].value\n",
    "    \n",
    "    p, reconstruction = forward(self, None, None, labels=pose)\n",
    "\n",
    "    #imgs_sliced = imgs[:,[0,3],...]\n",
    "    reconstruction = reconstruction.view_as(imgs_ref)\n",
    "\n",
    "    recon_left = reconstruction.data[:,0,:,:].squeeze().cpu().numpy()\n",
    "    recon_right = reconstruction.data[:,1,:,:].squeeze().cpu().numpy()\n",
    "\n",
    "    #vec7 = transform.forward(pose)\n",
    "    #quat = reff[0,3:]\n",
    "    #mat44 = pyrr.Matrix44.from_quaternion(quat)\n",
    "    #mat44[3,:][0:3] = reff[0,:3]\n",
    "    #print(mat44)\n",
    "    #kaj = mat44.reshape(-1)\n",
    "    #print(kaj)\n",
    "    #print(kaj.shape)\n",
    "    \n",
    "    mat44 = util.matAffine_from_matMinRep(pose.data)\n",
    "\n",
    "    recon_left = np.concatenate((recon_left[:,:,None],recon_left[:,:,None],recon_left[:,:,None]), axis=2)\n",
    "    recon_right = np.concatenate((recon_right[:,:,None],recon_right[:,:,None],recon_right[:,:,None]), axis=2)\n",
    "\n",
    "    pose_left = pyrr.Matrix44(mat44)*left_eye_transform\n",
    "    plotCoordSystemAxis(pose_left, 0, recon_left)\n",
    "    plotCoordSystemAxis(pose_left, 1, recon_left)\n",
    "    plotCoordSystemAxis(pose_left, 2, recon_left)\n",
    "\n",
    "    pose_right = pyrr.Matrix44(mat44)*right_eye_transform\n",
    "    plotCoordSystemAxis(pose_right, 0, recon_right)\n",
    "    plotCoordSystemAxis(pose_right, 1, recon_right)\n",
    "    plotCoordSystemAxis(pose_right, 2, recon_right)\n",
    "    \n",
    "    updateOutputWidget(recon_widget_left, recon_left, \"RGB\")\n",
    "    updateOutputWidget(recon_widget_right, recon_right, \"RGB\")\n",
    "\n",
    "def showDataImage(next_data, steps=0):\n",
    "    global ground_truth_labels\n",
    "    global imgs\n",
    "    global imgs_ref\n",
    "    global do_update\n",
    "    global ground_truth_widget\n",
    "    global pose\n",
    "    do_update = False\n",
    "    \n",
    "    \"\"\"\n",
    "    Prepare input\n",
    "    \"\"\"\n",
    "    imgs = next_data[0]\n",
    "    left = imgs[:,[0,2],:,:int(imgs.shape[-1]/2)]\n",
    "    right = imgs[:,[0,2],:,int(imgs.shape[-1]/2):]\n",
    "    imgs = torch.stack([left[:,:,:,2:97],right[:,:,:,2:97]], dim=3).view(imgs.shape[0],2,100, 190)\n",
    "    imgs_ref = torch.stack([left[:,0,:,2:97],right[:,1,:,2:97]], dim=1)\n",
    "\n",
    "    #image = util.split_in_channels(next_data[0])\n",
    "    \n",
    "    ground_truth_labels = next_data[1]\n",
    "    imgs = Variable(imgs).cpu()\n",
    "    pose, reco = forward(self, imgs, lambda_, draw=True)\n",
    "\n",
    "    # Print matrices in textareas\n",
    "    m_l = util.matMinRep_from_qvec(ground_truth_labels.float())\n",
    "    m_l = util.matAffine_from_matMinRep(m_l)\n",
    "    m_o = util.matAffine_from_matMinRep(pose.data.cpu())\n",
    "    pose_label.value = util.matrixString_from_matAffine(m_l)\n",
    "    pose_output.value = util.matrixString_from_matAffine(m_o)\n",
    "    pose_error.value = util.matrixString_from_matAffine(m_o - m_l)\n",
    "\n",
    "    #pose_transformed = transform.forward(pose)\n",
    "    #pose_label.value = str(ground_truth_labels.float().numpy()[0,:])\n",
    "    #pose_output.value = str(transform.forward(p).data.cpu().numpy()[0,:])\n",
    "\n",
    "    img_conv_left = util.applyBrightnessAndContrast(imgs_ref[0,0,:,:].squeeze().numpy(), brightness_left.value, contrast_left.value)\n",
    "    img_conv_right = util.applyBrightnessAndContrast(imgs_ref[0,1,:,:].squeeze().numpy(), brightness_right.value, contrast_right.value)\n",
    "        \n",
    "    updateOutputWidget(ground_truth_widget_left, img_conv_left)\n",
    "    updateOutputWidget(ground_truth_widget_right, img_conv_right)\n",
    "\n",
    "    \n",
    "    # Plot coordinate systems on \"truth\" images\n",
    "    mat44 = util.matAffine_from_matMinRep(pose.data)\n",
    "    truth_left = imgs_ref[0,0,:,:].squeeze().numpy()\n",
    "    truth_left = np.concatenate((truth_left[:,:,None],truth_left[:,:,None],truth_left[:,:,None]), axis=2)\n",
    "    pose_left = pyrr.Matrix44(mat44)*left_eye_transform\n",
    "    plotCoordSystemAxis(pose_left, 0, truth_left)\n",
    "    plotCoordSystemAxis(pose_left, 1, truth_left)\n",
    "    plotCoordSystemAxis(pose_left, 2, truth_left)\n",
    "    truth_right = imgs_ref[0,1,:,:].squeeze().numpy()\n",
    "    truth_right = np.concatenate((truth_right[:,:,None],truth_right[:,:,None],truth_right[:,:,None]), axis=2)\n",
    "    pose_right = pyrr.Matrix44(mat44)*right_eye_transform\n",
    "    plotCoordSystemAxis(pose_right, 0, truth_right)\n",
    "    plotCoordSystemAxis(pose_right, 1, truth_right)\n",
    "    plotCoordSystemAxis(pose_right, 2, truth_right)\n",
    "    \n",
    "    updateOutputWidget(truth_widget_left, truth_left, \"RGB\")\n",
    "    updateOutputWidget(truth_widget_right, truth_right, \"RGB\")\n",
    "\n",
    "    if steps == 0:\n",
    "        for i in range(len(pose_sliders)-1):\n",
    "            pose_sliders[i].max = pose[:,i]\n",
    "            pose_sliders[i].min = pose[:,i]\n",
    "    else:\n",
    "        old = []\n",
    "        for i in range(len(pose_sliders)-1):\n",
    "            old.append(pose_sliders[i].value)\n",
    "            if pose[:,i] > pose_sliders[i].max:\n",
    "                pose_sliders[i].max = pose[:,i]\n",
    "            elif pose[:,i] < pose_sliders[i].min:\n",
    "                pose_sliders[i].min = pose[:,i]\n",
    "\n",
    "        delta = pose[0,:].data.cpu().numpy() - old\n",
    "        delta /= steps\n",
    "\n",
    "        for steps in range(steps):\n",
    "            for i in range(len(pose_sliders)-1):\n",
    "                pose_sliders[i].value += delta[i]\n",
    "            on_value_change(None)\n",
    "            time.sleep(0.5)\n",
    "            \n",
    "    for i in range(len(pose_sliders)-1):\n",
    "        pose_sliders[i].value = pose[:,i]\n",
    "    on_value_change(None)\n",
    "    do_update = True\n",
    "\n",
    "train_dataset = util.MyImageFolder(root='../../../data/dumps/', transform=transforms.ToTensor(), target_transform=transforms.ToTensor())\n",
    "train_loader = torch.utils.data.DataLoader(dataset=train_dataset,batch_size=args.batch_size,num_workers=args.num_workers,shuffle=True)\n",
    "data_iter = iter(train_loader)\n",
    "\n",
    "def on_next_button_clicked(b):\n",
    "    next_data = next(data_iter)\n",
    "    showDataImage(next_data, steps=5)\n",
    "\n",
    "button_next.on_click(on_next_button_clicked)\n",
    "\n",
    "next_data = next(data_iter)\n",
    "showDataImage(next_data, steps=0)\n",
    "\n",
    "for i in range(len(pose_sliders)):\n",
    "    pose_sliders[i].observe(on_value_change)"
   ]
  },
  {
   "cell_type": "code",
   "execution_count": null,
   "metadata": {},
   "outputs": [],
   "source": []
  }
 ],
 "metadata": {
  "kernelspec": {
   "display_name": "Python 3",
   "language": "python",
   "name": "python3"
  },
  "language_info": {
   "codemirror_mode": {
    "name": "ipython",
    "version": 3
   },
   "file_extension": ".py",
   "mimetype": "text/x-python",
   "name": "python",
   "nbconvert_exporter": "python",
   "pygments_lexer": "ipython3",
   "version": "3.6.6"
  },
  "widgets": {
   "application/vnd.jupyter.widget-state+json": {
    "state": {
     "02a95245f28f48e69eda3fb3bd438d67": {
      "model_module_version": "^2.1.4",
      "state": {
       "value": "<table style=\"width:100%\">\n                <thead>\n                    <tr>\n                        <th colspan=\"2\">\n                        Could not create model:\n                        </th>\n                    </tr>\n                </thead>\n                <tbody>\n                    <tr>\n                        <td>Model name</td>\n                        <td> undefined </td>\n                    </tr>\n                    <tr>\n                        <td>Model module</td>\n                        <td> undefined </td>\n                    </tr>\n                    <tr>\n                        <td>Model module version</td>\n                        <td> undefined </td>\n                    </tr>\n                <tbody>\n                <tfoot>\n                    <tr>\n                        <th colspan=\"2\">\n                        Class undefined not found in registry \n                        </th>\n                    </tr>\n                </tfoot>\n                </table>"
      }
     },
     "086adac005c04b4190a432ca55b65c08": {
      "model_module_version": "^2.1.4",
      "state": {
       "children": [
        "IPY_MODEL_5ddce768a0cd44fcb6a02f55d97511c0",
        "IPY_MODEL_7b2a75f21e23408ba72e5f04d40c4ae0"
       ],
       "value": "<table style=\"width:100%\">\n                <thead>\n                    <tr>\n                        <th colspan=\"2\">\n                        Could not create model:\n                        </th>\n                    </tr>\n                </thead>\n                <tbody>\n                    <tr>\n                        <td>Model name</td>\n                        <td> undefined </td>\n                    </tr>\n                    <tr>\n                        <td>Model module</td>\n                        <td> undefined </td>\n                    </tr>\n                    <tr>\n                        <td>Model module version</td>\n                        <td> undefined </td>\n                    </tr>\n                <tbody>\n                <tfoot>\n                    <tr>\n                        <th colspan=\"2\">\n                        Class undefined not found in registry \n                        </th>\n                    </tr>\n                </tfoot>\n                </table>"
      }
     },
     "09a94446cf9d4aaea5de8fee2478bfe3": {
      "model_module_version": "^2.1.4",
      "state": {
       "value": "<table style=\"width:100%\">\n                <thead>\n                    <tr>\n                        <th colspan=\"2\">\n                        Could not create model:\n                        </th>\n                    </tr>\n                </thead>\n                <tbody>\n                    <tr>\n                        <td>Model name</td>\n                        <td> undefined </td>\n                    </tr>\n                    <tr>\n                        <td>Model module</td>\n                        <td> undefined </td>\n                    </tr>\n                    <tr>\n                        <td>Model module version</td>\n                        <td> undefined </td>\n                    </tr>\n                <tbody>\n                <tfoot>\n                    <tr>\n                        <th colspan=\"2\">\n                        Class undefined not found in registry \n                        </th>\n                    </tr>\n                </tfoot>\n                </table>"
      }
     },
     "0a266fd5169140bab25a3a38a8f50fb1": {
      "model_module_version": "^2.1.4",
      "state": {
       "children": [
        "IPY_MODEL_bc40a99774e645d6a95f8c5424ed326e",
        "IPY_MODEL_43698cd83e434735970d098c0c18c682"
       ],
       "value": "<table style=\"width:100%\">\n                <thead>\n                    <tr>\n                        <th colspan=\"2\">\n                        Could not create model:\n                        </th>\n                    </tr>\n                </thead>\n                <tbody>\n                    <tr>\n                        <td>Model name</td>\n                        <td> undefined </td>\n                    </tr>\n                    <tr>\n                        <td>Model module</td>\n                        <td> undefined </td>\n                    </tr>\n                    <tr>\n                        <td>Model module version</td>\n                        <td> undefined </td>\n                    </tr>\n                <tbody>\n                <tfoot>\n                    <tr>\n                        <th colspan=\"2\">\n                        Class undefined not found in registry \n                        </th>\n                    </tr>\n                </tfoot>\n                </table>"
      }
     },
     "0bb041ed3f25401da46f4d3b1b84bedd": {
      "model_module_version": "^2.1.4",
      "state": {
       "msg_id": "",
       "value": "<table style=\"width:100%\">\n                <thead>\n                    <tr>\n                        <th colspan=\"2\">\n                        Could not create model:\n                        </th>\n                    </tr>\n                </thead>\n                <tbody>\n                    <tr>\n                        <td>Model name</td>\n                        <td> undefined </td>\n                    </tr>\n                    <tr>\n                        <td>Model module</td>\n                        <td> undefined </td>\n                    </tr>\n                    <tr>\n                        <td>Model module version</td>\n                        <td> undefined </td>\n                    </tr>\n                <tbody>\n                <tfoot>\n                    <tr>\n                        <th colspan=\"2\">\n                        Class undefined not found in registry \n                        </th>\n                    </tr>\n                </tfoot>\n                </table>"
      }
     },
     "0c491954f101426f8a6d2c2c8f117c65": {
      "model_module_version": "^2.1.4",
      "state": {
       "children": [
        "IPY_MODEL_e8c41950a9d349d2a093b110f66cbb72",
        "IPY_MODEL_b74b2bb279ff49c9a7b8384e115dda91"
       ],
       "value": "<table style=\"width:100%\">\n                <thead>\n                    <tr>\n                        <th colspan=\"2\">\n                        Could not create model:\n                        </th>\n                    </tr>\n                </thead>\n                <tbody>\n                    <tr>\n                        <td>Model name</td>\n                        <td> undefined </td>\n                    </tr>\n                    <tr>\n                        <td>Model module</td>\n                        <td> undefined </td>\n                    </tr>\n                    <tr>\n                        <td>Model module version</td>\n                        <td> undefined </td>\n                    </tr>\n                <tbody>\n                <tfoot>\n                    <tr>\n                        <th colspan=\"2\">\n                        Class undefined not found in registry \n                        </th>\n                    </tr>\n                </tfoot>\n                </table>"
      }
     },
     "0d0f207a9beb4bbc8342dfdfde8abfd1": {
      "model_module_version": "^2.1.4",
      "state": {
       "msg_id": "",
       "value": "<table style=\"width:100%\">\n                <thead>\n                    <tr>\n                        <th colspan=\"2\">\n                        Could not create model:\n                        </th>\n                    </tr>\n                </thead>\n                <tbody>\n                    <tr>\n                        <td>Model name</td>\n                        <td> undefined </td>\n                    </tr>\n                    <tr>\n                        <td>Model module</td>\n                        <td> undefined </td>\n                    </tr>\n                    <tr>\n                        <td>Model module version</td>\n                        <td> undefined </td>\n                    </tr>\n                <tbody>\n                <tfoot>\n                    <tr>\n                        <th colspan=\"2\">\n                        Class undefined not found in registry \n                        </th>\n                    </tr>\n                </tfoot>\n                </table>"
      }
     },
     "17ce0b15ae7f4e07bb389acdb95723a9": {
      "model_module_version": "^2.1.4",
      "state": {
       "children": [
        "IPY_MODEL_98eb087ff1554f3983db53fa15fe205e",
        "IPY_MODEL_2cb31d41b01c41cab49231e6bbcef9a5"
       ],
       "value": "<table style=\"width:100%\">\n                <thead>\n                    <tr>\n                        <th colspan=\"2\">\n                        Could not create model:\n                        </th>\n                    </tr>\n                </thead>\n                <tbody>\n                    <tr>\n                        <td>Model name</td>\n                        <td> undefined </td>\n                    </tr>\n                    <tr>\n                        <td>Model module</td>\n                        <td> undefined </td>\n                    </tr>\n                    <tr>\n                        <td>Model module version</td>\n                        <td> undefined </td>\n                    </tr>\n                <tbody>\n                <tfoot>\n                    <tr>\n                        <th colspan=\"2\">\n                        Class undefined not found in registry \n                        </th>\n                    </tr>\n                </tfoot>\n                </table>"
      }
     },
     "18fbf107d608491b8631570d892bc11c": {
      "model_module_version": "^2.1.4",
      "state": {
       "value": "<table style=\"width:100%\">\n                <thead>\n                    <tr>\n                        <th colspan=\"2\">\n                        Could not create model:\n                        </th>\n                    </tr>\n                </thead>\n                <tbody>\n                    <tr>\n                        <td>Model name</td>\n                        <td> undefined </td>\n                    </tr>\n                    <tr>\n                        <td>Model module</td>\n                        <td> undefined </td>\n                    </tr>\n                    <tr>\n                        <td>Model module version</td>\n                        <td> undefined </td>\n                    </tr>\n                <tbody>\n                <tfoot>\n                    <tr>\n                        <th colspan=\"2\">\n                        Class undefined not found in registry \n                        </th>\n                    </tr>\n                </tfoot>\n                </table>"
      }
     },
     "1a1f8a848b0344be8b0ccf93d1d2026c": {
      "model_module_version": "^2.1.4",
      "state": {
       "value": "<table style=\"width:100%\">\n                <thead>\n                    <tr>\n                        <th colspan=\"2\">\n                        Could not create model:\n                        </th>\n                    </tr>\n                </thead>\n                <tbody>\n                    <tr>\n                        <td>Model name</td>\n                        <td> undefined </td>\n                    </tr>\n                    <tr>\n                        <td>Model module</td>\n                        <td> undefined </td>\n                    </tr>\n                    <tr>\n                        <td>Model module version</td>\n                        <td> undefined </td>\n                    </tr>\n                <tbody>\n                <tfoot>\n                    <tr>\n                        <th colspan=\"2\">\n                        Class undefined not found in registry \n                        </th>\n                    </tr>\n                </tfoot>\n                </table>"
      }
     },
     "1a3f3f985d584928bc8d0c7ab6f70f2e": {
      "model_module_version": "^2.1.4",
      "state": {
       "value": "<table style=\"width:100%\">\n                <thead>\n                    <tr>\n                        <th colspan=\"2\">\n                        Could not create model:\n                        </th>\n                    </tr>\n                </thead>\n                <tbody>\n                    <tr>\n                        <td>Model name</td>\n                        <td> undefined </td>\n                    </tr>\n                    <tr>\n                        <td>Model module</td>\n                        <td> undefined </td>\n                    </tr>\n                    <tr>\n                        <td>Model module version</td>\n                        <td> undefined </td>\n                    </tr>\n                <tbody>\n                <tfoot>\n                    <tr>\n                        <th colspan=\"2\">\n                        Class undefined not found in registry \n                        </th>\n                    </tr>\n                </tfoot>\n                </table>"
      }
     },
     "1cd36f848c6a4887b49476cedbf3d552": {
      "model_module_version": "^2.1.4",
      "state": {
       "value": "<table style=\"width:100%\">\n                <thead>\n                    <tr>\n                        <th colspan=\"2\">\n                        Could not create model:\n                        </th>\n                    </tr>\n                </thead>\n                <tbody>\n                    <tr>\n                        <td>Model name</td>\n                        <td> undefined </td>\n                    </tr>\n                    <tr>\n                        <td>Model module</td>\n                        <td> undefined </td>\n                    </tr>\n                    <tr>\n                        <td>Model module version</td>\n                        <td> undefined </td>\n                    </tr>\n                <tbody>\n                <tfoot>\n                    <tr>\n                        <th colspan=\"2\">\n                        Class undefined not found in registry \n                        </th>\n                    </tr>\n                </tfoot>\n                </table>"
      }
     },
     "1e92dc6d2e6a4746ae2cd05ab57165ec": {
      "model_module_version": "^2.1.4",
      "state": {
       "description": "x",
       "value": "<table style=\"width:100%\">\n                <thead>\n                    <tr>\n                        <th colspan=\"2\">\n                        Could not create model:\n                        </th>\n                    </tr>\n                </thead>\n                <tbody>\n                    <tr>\n                        <td>Model name</td>\n                        <td> undefined </td>\n                    </tr>\n                    <tr>\n                        <td>Model module</td>\n                        <td> undefined </td>\n                    </tr>\n                    <tr>\n                        <td>Model module version</td>\n                        <td> undefined </td>\n                    </tr>\n                <tbody>\n                <tfoot>\n                    <tr>\n                        <th colspan=\"2\">\n                        Class undefined not found in registry \n                        </th>\n                    </tr>\n                </tfoot>\n                </table>"
      }
     },
     "28fc64f255dc4af98ea2e4f433a7e659": {
      "model_module_version": "^2.1.4",
      "state": {
       "children": [
        "IPY_MODEL_d00724d28f834c4991169f92b8e447cb",
        "IPY_MODEL_b5c4b56ba9cd45e1bdca6530cc78c9e1"
       ],
       "value": "<table style=\"width:100%\">\n                <thead>\n                    <tr>\n                        <th colspan=\"2\">\n                        Could not create model:\n                        </th>\n                    </tr>\n                </thead>\n                <tbody>\n                    <tr>\n                        <td>Model name</td>\n                        <td> undefined </td>\n                    </tr>\n                    <tr>\n                        <td>Model module</td>\n                        <td> undefined </td>\n                    </tr>\n                    <tr>\n                        <td>Model module version</td>\n                        <td> undefined </td>\n                    </tr>\n                <tbody>\n                <tfoot>\n                    <tr>\n                        <th colspan=\"2\">\n                        Class undefined not found in registry \n                        </th>\n                    </tr>\n                </tfoot>\n                </table>"
      }
     },
     "2a48c6cde59541fe8760420e54905bb8": {
      "model_module_version": "^2.1.4",
      "state": {
       "value": "<table style=\"width:100%\">\n                <thead>\n                    <tr>\n                        <th colspan=\"2\">\n                        Could not create model:\n                        </th>\n                    </tr>\n                </thead>\n                <tbody>\n                    <tr>\n                        <td>Model name</td>\n                        <td> undefined </td>\n                    </tr>\n                    <tr>\n                        <td>Model module</td>\n                        <td> undefined </td>\n                    </tr>\n                    <tr>\n                        <td>Model module version</td>\n                        <td> undefined </td>\n                    </tr>\n                <tbody>\n                <tfoot>\n                    <tr>\n                        <th colspan=\"2\">\n                        Class undefined not found in registry \n                        </th>\n                    </tr>\n                </tfoot>\n                </table>"
      }
     },
     "2a9914efad9b4709b512186b35fca807": {
      "model_module_version": "^2.1.4",
      "state": {
       "value": "<table style=\"width:100%\">\n                <thead>\n                    <tr>\n                        <th colspan=\"2\">\n                        Could not create model:\n                        </th>\n                    </tr>\n                </thead>\n                <tbody>\n                    <tr>\n                        <td>Model name</td>\n                        <td> undefined </td>\n                    </tr>\n                    <tr>\n                        <td>Model module</td>\n                        <td> undefined </td>\n                    </tr>\n                    <tr>\n                        <td>Model module version</td>\n                        <td> undefined </td>\n                    </tr>\n                <tbody>\n                <tfoot>\n                    <tr>\n                        <th colspan=\"2\">\n                        Class undefined not found in registry \n                        </th>\n                    </tr>\n                </tfoot>\n                </table>"
      }
     },
     "2b61a2efed51453ba7d9b61640e3257b": {
      "model_module_version": "^2.1.4",
      "state": {
       "children": [
        "IPY_MODEL_ca7fc7414df744c1a12a80afcd929124",
        "IPY_MODEL_892d3ae0c7194bf880319e259ecc2978"
       ],
       "value": "<table style=\"width:100%\">\n                <thead>\n                    <tr>\n                        <th colspan=\"2\">\n                        Could not create model:\n                        </th>\n                    </tr>\n                </thead>\n                <tbody>\n                    <tr>\n                        <td>Model name</td>\n                        <td> undefined </td>\n                    </tr>\n                    <tr>\n                        <td>Model module</td>\n                        <td> undefined </td>\n                    </tr>\n                    <tr>\n                        <td>Model module version</td>\n                        <td> undefined </td>\n                    </tr>\n                <tbody>\n                <tfoot>\n                    <tr>\n                        <th colspan=\"2\">\n                        Class undefined not found in registry \n                        </th>\n                    </tr>\n                </tfoot>\n                </table>"
      }
     },
     "2cb31d41b01c41cab49231e6bbcef9a5": {
      "model_module_version": "^2.1.4",
      "state": {
       "msg_id": "",
       "value": "<table style=\"width:100%\">\n                <thead>\n                    <tr>\n                        <th colspan=\"2\">\n                        Could not create model:\n                        </th>\n                    </tr>\n                </thead>\n                <tbody>\n                    <tr>\n                        <td>Model name</td>\n                        <td> undefined </td>\n                    </tr>\n                    <tr>\n                        <td>Model module</td>\n                        <td> undefined </td>\n                    </tr>\n                    <tr>\n                        <td>Model module version</td>\n                        <td> undefined </td>\n                    </tr>\n                <tbody>\n                <tfoot>\n                    <tr>\n                        <th colspan=\"2\">\n                        Class undefined not found in registry \n                        </th>\n                    </tr>\n                </tfoot>\n                </table>"
      }
     },
     "2f4edba5b47e4d5590df1386c754fd88": {
      "model_module_version": "^2.1.4",
      "state": {
       "value": "<table style=\"width:100%\">\n                <thead>\n                    <tr>\n                        <th colspan=\"2\">\n                        Could not create model:\n                        </th>\n                    </tr>\n                </thead>\n                <tbody>\n                    <tr>\n                        <td>Model name</td>\n                        <td> undefined </td>\n                    </tr>\n                    <tr>\n                        <td>Model module</td>\n                        <td> undefined </td>\n                    </tr>\n                    <tr>\n                        <td>Model module version</td>\n                        <td> undefined </td>\n                    </tr>\n                <tbody>\n                <tfoot>\n                    <tr>\n                        <th colspan=\"2\">\n                        Class undefined not found in registry \n                        </th>\n                    </tr>\n                </tfoot>\n                </table>"
      }
     },
     "32e0e6999b084991bcd84438c81ff67f": {
      "model_module_version": "^2.1.4",
      "state": {
       "value": "<table style=\"width:100%\">\n                <thead>\n                    <tr>\n                        <th colspan=\"2\">\n                        Could not create model:\n                        </th>\n                    </tr>\n                </thead>\n                <tbody>\n                    <tr>\n                        <td>Model name</td>\n                        <td> undefined </td>\n                    </tr>\n                    <tr>\n                        <td>Model module</td>\n                        <td> undefined </td>\n                    </tr>\n                    <tr>\n                        <td>Model module version</td>\n                        <td> undefined </td>\n                    </tr>\n                <tbody>\n                <tfoot>\n                    <tr>\n                        <th colspan=\"2\">\n                        Class undefined not found in registry \n                        </th>\n                    </tr>\n                </tfoot>\n                </table>"
      }
     },
     "3ac7a342207a410888cc1bde2c42f286": {
      "model_module_version": "^2.1.4",
      "state": {
       "value": "<table style=\"width:100%\">\n                <thead>\n                    <tr>\n                        <th colspan=\"2\">\n                        Could not create model:\n                        </th>\n                    </tr>\n                </thead>\n                <tbody>\n                    <tr>\n                        <td>Model name</td>\n                        <td> undefined </td>\n                    </tr>\n                    <tr>\n                        <td>Model module</td>\n                        <td> undefined </td>\n                    </tr>\n                    <tr>\n                        <td>Model module version</td>\n                        <td> undefined </td>\n                    </tr>\n                <tbody>\n                <tfoot>\n                    <tr>\n                        <th colspan=\"2\">\n                        Class undefined not found in registry \n                        </th>\n                    </tr>\n                </tfoot>\n                </table>"
      }
     },
     "3c2f6371fb9d4ef8963013d7ec752f1a": {
      "model_module": "jupyter-js-widgets",
      "model_module_version": "~2.1.4",
      "model_name": "LayoutModel",
      "state": {
       "_model_module_version": "~2.1.4",
       "_view_module_version": "~2.1.4"
      }
     },
     "4085225553f745b5a56321cf316c733e": {
      "model_module": "jupyter-js-widgets",
      "model_module_version": "~2.1.4",
      "model_name": "SliderStyleModel",
      "state": {
       "_model_module_version": "~2.1.4",
       "_view_module_version": "~2.1.4"
      }
     },
     "40dd2c2fbf0d41babb963d45187381e3": {
      "model_module_version": "^2.1.4",
      "state": {
       "value": "<table style=\"width:100%\">\n                <thead>\n                    <tr>\n                        <th colspan=\"2\">\n                        Could not create model:\n                        </th>\n                    </tr>\n                </thead>\n                <tbody>\n                    <tr>\n                        <td>Model name</td>\n                        <td> undefined </td>\n                    </tr>\n                    <tr>\n                        <td>Model module</td>\n                        <td> undefined </td>\n                    </tr>\n                    <tr>\n                        <td>Model module version</td>\n                        <td> undefined </td>\n                    </tr>\n                <tbody>\n                <tfoot>\n                    <tr>\n                        <th colspan=\"2\">\n                        Class undefined not found in registry \n                        </th>\n                    </tr>\n                </tfoot>\n                </table>"
      }
     },
     "43698cd83e434735970d098c0c18c682": {
      "model_module_version": "^2.1.4",
      "state": {
       "msg_id": "",
       "value": "<table style=\"width:100%\">\n                <thead>\n                    <tr>\n                        <th colspan=\"2\">\n                        Could not create model:\n                        </th>\n                    </tr>\n                </thead>\n                <tbody>\n                    <tr>\n                        <td>Model name</td>\n                        <td> undefined </td>\n                    </tr>\n                    <tr>\n                        <td>Model module</td>\n                        <td> undefined </td>\n                    </tr>\n                    <tr>\n                        <td>Model module version</td>\n                        <td> undefined </td>\n                    </tr>\n                <tbody>\n                <tfoot>\n                    <tr>\n                        <th colspan=\"2\">\n                        Class undefined not found in registry \n                        </th>\n                    </tr>\n                </tfoot>\n                </table>"
      }
     },
     "4516a929146f4c6aba450499be5a6bae": {
      "model_module_version": "^2.1.4",
      "state": {
       "children": [
        "IPY_MODEL_1e92dc6d2e6a4746ae2cd05ab57165ec",
        "IPY_MODEL_0d0f207a9beb4bbc8342dfdfde8abfd1"
       ],
       "value": "<table style=\"width:100%\">\n                <thead>\n                    <tr>\n                        <th colspan=\"2\">\n                        Could not create model:\n                        </th>\n                    </tr>\n                </thead>\n                <tbody>\n                    <tr>\n                        <td>Model name</td>\n                        <td> undefined </td>\n                    </tr>\n                    <tr>\n                        <td>Model module</td>\n                        <td> undefined </td>\n                    </tr>\n                    <tr>\n                        <td>Model module version</td>\n                        <td> undefined </td>\n                    </tr>\n                <tbody>\n                <tfoot>\n                    <tr>\n                        <th colspan=\"2\">\n                        Class undefined not found in registry \n                        </th>\n                    </tr>\n                </tfoot>\n                </table>"
      }
     },
     "46c3f00a4866401bb7d7dd886668baeb": {
      "model_module_version": "^2.1.4",
      "state": {
       "msg_id": "",
       "value": "<table style=\"width:100%\">\n                <thead>\n                    <tr>\n                        <th colspan=\"2\">\n                        Could not create model:\n                        </th>\n                    </tr>\n                </thead>\n                <tbody>\n                    <tr>\n                        <td>Model name</td>\n                        <td> undefined </td>\n                    </tr>\n                    <tr>\n                        <td>Model module</td>\n                        <td> undefined </td>\n                    </tr>\n                    <tr>\n                        <td>Model module version</td>\n                        <td> undefined </td>\n                    </tr>\n                <tbody>\n                <tfoot>\n                    <tr>\n                        <th colspan=\"2\">\n                        Class undefined not found in registry \n                        </th>\n                    </tr>\n                </tfoot>\n                </table>"
      }
     },
     "49aa40dd11114ddabb68be1d01d1e41d": {
      "model_module_version": "^2.1.4",
      "state": {
       "value": "<table style=\"width:100%\">\n                <thead>\n                    <tr>\n                        <th colspan=\"2\">\n                        Could not create model:\n                        </th>\n                    </tr>\n                </thead>\n                <tbody>\n                    <tr>\n                        <td>Model name</td>\n                        <td> undefined </td>\n                    </tr>\n                    <tr>\n                        <td>Model module</td>\n                        <td> undefined </td>\n                    </tr>\n                    <tr>\n                        <td>Model module version</td>\n                        <td> undefined </td>\n                    </tr>\n                <tbody>\n                <tfoot>\n                    <tr>\n                        <th colspan=\"2\">\n                        Class undefined not found in registry \n                        </th>\n                    </tr>\n                </tfoot>\n                </table>"
      }
     },
     "4a96e2d67ee54a41a257d81719387929": {
      "model_module_version": "^2.1.4",
      "state": {
       "msg_id": "",
       "value": "<table style=\"width:100%\">\n                <thead>\n                    <tr>\n                        <th colspan=\"2\">\n                        Could not create model:\n                        </th>\n                    </tr>\n                </thead>\n                <tbody>\n                    <tr>\n                        <td>Model name</td>\n                        <td> undefined </td>\n                    </tr>\n                    <tr>\n                        <td>Model module</td>\n                        <td> undefined </td>\n                    </tr>\n                    <tr>\n                        <td>Model module version</td>\n                        <td> undefined </td>\n                    </tr>\n                <tbody>\n                <tfoot>\n                    <tr>\n                        <th colspan=\"2\">\n                        Class undefined not found in registry \n                        </th>\n                    </tr>\n                </tfoot>\n                </table>"
      }
     },
     "501729002a44409ba89f0ce4598c4615": {
      "model_module_version": "^2.1.4",
      "state": {
       "value": "<table style=\"width:100%\">\n                <thead>\n                    <tr>\n                        <th colspan=\"2\">\n                        Could not create model:\n                        </th>\n                    </tr>\n                </thead>\n                <tbody>\n                    <tr>\n                        <td>Model name</td>\n                        <td> undefined </td>\n                    </tr>\n                    <tr>\n                        <td>Model module</td>\n                        <td> undefined </td>\n                    </tr>\n                    <tr>\n                        <td>Model module version</td>\n                        <td> undefined </td>\n                    </tr>\n                <tbody>\n                <tfoot>\n                    <tr>\n                        <th colspan=\"2\">\n                        Class undefined not found in registry \n                        </th>\n                    </tr>\n                </tfoot>\n                </table>"
      }
     },
     "55c4545c3cf9416ca5f9b6468f70a6ea": {
      "model_module_version": "^2.1.4",
      "state": {
       "value": "<table style=\"width:100%\">\n                <thead>\n                    <tr>\n                        <th colspan=\"2\">\n                        Could not create model:\n                        </th>\n                    </tr>\n                </thead>\n                <tbody>\n                    <tr>\n                        <td>Model name</td>\n                        <td> undefined </td>\n                    </tr>\n                    <tr>\n                        <td>Model module</td>\n                        <td> undefined </td>\n                    </tr>\n                    <tr>\n                        <td>Model module version</td>\n                        <td> undefined </td>\n                    </tr>\n                <tbody>\n                <tfoot>\n                    <tr>\n                        <th colspan=\"2\">\n                        Class undefined not found in registry \n                        </th>\n                    </tr>\n                </tfoot>\n                </table>"
      }
     },
     "5754386e4c0348748bd72a39c98e3513": {
      "model_module_version": "^2.1.4",
      "state": {
       "value": "<table style=\"width:100%\">\n                <thead>\n                    <tr>\n                        <th colspan=\"2\">\n                        Could not create model:\n                        </th>\n                    </tr>\n                </thead>\n                <tbody>\n                    <tr>\n                        <td>Model name</td>\n                        <td> undefined </td>\n                    </tr>\n                    <tr>\n                        <td>Model module</td>\n                        <td> undefined </td>\n                    </tr>\n                    <tr>\n                        <td>Model module version</td>\n                        <td> undefined </td>\n                    </tr>\n                <tbody>\n                <tfoot>\n                    <tr>\n                        <th colspan=\"2\">\n                        Class undefined not found in registry \n                        </th>\n                    </tr>\n                </tfoot>\n                </table>"
      }
     },
     "5d5b28b089e242db97c0fb1fbdd63320": {
      "model_module_version": "^2.1.4",
      "state": {
       "value": "<table style=\"width:100%\">\n                <thead>\n                    <tr>\n                        <th colspan=\"2\">\n                        Could not create model:\n                        </th>\n                    </tr>\n                </thead>\n                <tbody>\n                    <tr>\n                        <td>Model name</td>\n                        <td> undefined </td>\n                    </tr>\n                    <tr>\n                        <td>Model module</td>\n                        <td> undefined </td>\n                    </tr>\n                    <tr>\n                        <td>Model module version</td>\n                        <td> undefined </td>\n                    </tr>\n                <tbody>\n                <tfoot>\n                    <tr>\n                        <th colspan=\"2\">\n                        Class undefined not found in registry \n                        </th>\n                    </tr>\n                </tfoot>\n                </table>"
      }
     },
     "5ddce768a0cd44fcb6a02f55d97511c0": {
      "model_module_version": "^2.1.4",
      "state": {
       "description": "x",
       "value": "<table style=\"width:100%\">\n                <thead>\n                    <tr>\n                        <th colspan=\"2\">\n                        Could not create model:\n                        </th>\n                    </tr>\n                </thead>\n                <tbody>\n                    <tr>\n                        <td>Model name</td>\n                        <td> undefined </td>\n                    </tr>\n                    <tr>\n                        <td>Model module</td>\n                        <td> undefined </td>\n                    </tr>\n                    <tr>\n                        <td>Model module version</td>\n                        <td> undefined </td>\n                    </tr>\n                <tbody>\n                <tfoot>\n                    <tr>\n                        <th colspan=\"2\">\n                        Class undefined not found in registry \n                        </th>\n                    </tr>\n                </tfoot>\n                </table>"
      }
     },
     "5ef172040b89471c852363eeffcd40ad": {
      "model_module": "jupyter-js-widgets",
      "model_module_version": "~2.1.4",
      "model_name": "OutputModel",
      "state": {
       "_dom_classes": [],
       "_model_module": "jupyter-js-widgets",
       "_model_module_version": "~2.1.4",
       "_view_module": "jupyter-js-widgets",
       "_view_module_version": "~2.1.4",
       "layout": "IPY_MODEL_61d17c7ab05d49ad917fe0ad9a2f5082",
       "msg_throttle": 1
      }
     },
     "61d17c7ab05d49ad917fe0ad9a2f5082": {
      "model_module": "jupyter-js-widgets",
      "model_module_version": "~2.1.4",
      "model_name": "LayoutModel",
      "state": {
       "_model_module_version": "~2.1.4",
       "_view_module_version": "~2.1.4"
      }
     },
     "621171c6d3824e1aa20b00a470355ba1": {
      "model_module_version": "^2.1.4",
      "state": {
       "value": "<table style=\"width:100%\">\n                <thead>\n                    <tr>\n                        <th colspan=\"2\">\n                        Could not create model:\n                        </th>\n                    </tr>\n                </thead>\n                <tbody>\n                    <tr>\n                        <td>Model name</td>\n                        <td> undefined </td>\n                    </tr>\n                    <tr>\n                        <td>Model module</td>\n                        <td> undefined </td>\n                    </tr>\n                    <tr>\n                        <td>Model module version</td>\n                        <td> undefined </td>\n                    </tr>\n                <tbody>\n                <tfoot>\n                    <tr>\n                        <th colspan=\"2\">\n                        Class undefined not found in registry \n                        </th>\n                    </tr>\n                </tfoot>\n                </table>"
      }
     },
     "68b9424e93a54f97b286548081d65a10": {
      "model_module_version": "^2.1.4",
      "state": {
       "value": "<table style=\"width:100%\">\n                <thead>\n                    <tr>\n                        <th colspan=\"2\">\n                        Could not create model:\n                        </th>\n                    </tr>\n                </thead>\n                <tbody>\n                    <tr>\n                        <td>Model name</td>\n                        <td> undefined </td>\n                    </tr>\n                    <tr>\n                        <td>Model module</td>\n                        <td> undefined </td>\n                    </tr>\n                    <tr>\n                        <td>Model module version</td>\n                        <td> undefined </td>\n                    </tr>\n                <tbody>\n                <tfoot>\n                    <tr>\n                        <th colspan=\"2\">\n                        Class undefined not found in registry \n                        </th>\n                    </tr>\n                </tfoot>\n                </table>"
      }
     },
     "6a248cb18c8c40658ea8cf7615f7a622": {
      "model_module_version": "^2.1.4",
      "state": {
       "value": "<table style=\"width:100%\">\n                <thead>\n                    <tr>\n                        <th colspan=\"2\">\n                        Could not create model:\n                        </th>\n                    </tr>\n                </thead>\n                <tbody>\n                    <tr>\n                        <td>Model name</td>\n                        <td> undefined </td>\n                    </tr>\n                    <tr>\n                        <td>Model module</td>\n                        <td> undefined </td>\n                    </tr>\n                    <tr>\n                        <td>Model module version</td>\n                        <td> undefined </td>\n                    </tr>\n                <tbody>\n                <tfoot>\n                    <tr>\n                        <th colspan=\"2\">\n                        Class undefined not found in registry \n                        </th>\n                    </tr>\n                </tfoot>\n                </table>"
      }
     },
     "6aaa433ab117461b889545d142a27175": {
      "model_module_version": "^2.1.4",
      "state": {
       "description": "x",
       "value": "<table style=\"width:100%\">\n                <thead>\n                    <tr>\n                        <th colspan=\"2\">\n                        Could not create model:\n                        </th>\n                    </tr>\n                </thead>\n                <tbody>\n                    <tr>\n                        <td>Model name</td>\n                        <td> undefined </td>\n                    </tr>\n                    <tr>\n                        <td>Model module</td>\n                        <td> undefined </td>\n                    </tr>\n                    <tr>\n                        <td>Model module version</td>\n                        <td> undefined </td>\n                    </tr>\n                <tbody>\n                <tfoot>\n                    <tr>\n                        <th colspan=\"2\">\n                        Class undefined not found in registry \n                        </th>\n                    </tr>\n                </tfoot>\n                </table>"
      }
     },
     "73132f70043c4a6cb2a8ceb471a8f252": {
      "model_module_version": "^2.1.4",
      "state": {
       "value": "<table style=\"width:100%\">\n                <thead>\n                    <tr>\n                        <th colspan=\"2\">\n                        Could not create model:\n                        </th>\n                    </tr>\n                </thead>\n                <tbody>\n                    <tr>\n                        <td>Model name</td>\n                        <td> undefined </td>\n                    </tr>\n                    <tr>\n                        <td>Model module</td>\n                        <td> undefined </td>\n                    </tr>\n                    <tr>\n                        <td>Model module version</td>\n                        <td> undefined </td>\n                    </tr>\n                <tbody>\n                <tfoot>\n                    <tr>\n                        <th colspan=\"2\">\n                        Class undefined not found in registry \n                        </th>\n                    </tr>\n                </tfoot>\n                </table>"
      }
     },
     "76b009679d104667af00faea672b290a": {
      "model_module_version": "^2.1.4",
      "state": {
       "value": "<table style=\"width:100%\">\n                <thead>\n                    <tr>\n                        <th colspan=\"2\">\n                        Could not create model:\n                        </th>\n                    </tr>\n                </thead>\n                <tbody>\n                    <tr>\n                        <td>Model name</td>\n                        <td> undefined </td>\n                    </tr>\n                    <tr>\n                        <td>Model module</td>\n                        <td> undefined </td>\n                    </tr>\n                    <tr>\n                        <td>Model module version</td>\n                        <td> undefined </td>\n                    </tr>\n                <tbody>\n                <tfoot>\n                    <tr>\n                        <th colspan=\"2\">\n                        Class undefined not found in registry \n                        </th>\n                    </tr>\n                </tfoot>\n                </table>"
      }
     },
     "79c73807325f49d393b6cf08bad0b9ef": {
      "model_module_version": "^2.1.4",
      "state": {
       "value": "<table style=\"width:100%\">\n                <thead>\n                    <tr>\n                        <th colspan=\"2\">\n                        Could not create model:\n                        </th>\n                    </tr>\n                </thead>\n                <tbody>\n                    <tr>\n                        <td>Model name</td>\n                        <td> undefined </td>\n                    </tr>\n                    <tr>\n                        <td>Model module</td>\n                        <td> undefined </td>\n                    </tr>\n                    <tr>\n                        <td>Model module version</td>\n                        <td> undefined </td>\n                    </tr>\n                <tbody>\n                <tfoot>\n                    <tr>\n                        <th colspan=\"2\">\n                        Class undefined not found in registry \n                        </th>\n                    </tr>\n                </tfoot>\n                </table>"
      }
     },
     "7b2a75f21e23408ba72e5f04d40c4ae0": {
      "model_module_version": "^2.1.4",
      "state": {
       "msg_id": "",
       "value": "<table style=\"width:100%\">\n                <thead>\n                    <tr>\n                        <th colspan=\"2\">\n                        Could not create model:\n                        </th>\n                    </tr>\n                </thead>\n                <tbody>\n                    <tr>\n                        <td>Model name</td>\n                        <td> undefined </td>\n                    </tr>\n                    <tr>\n                        <td>Model module</td>\n                        <td> undefined </td>\n                    </tr>\n                    <tr>\n                        <td>Model module version</td>\n                        <td> undefined </td>\n                    </tr>\n                <tbody>\n                <tfoot>\n                    <tr>\n                        <th colspan=\"2\">\n                        Class undefined not found in registry \n                        </th>\n                    </tr>\n                </tfoot>\n                </table>"
      }
     },
     "7fdb52036a2c425b968f1cb3f18880cc": {
      "model_module": "jupyter-js-widgets",
      "model_module_version": "~2.1.4",
      "model_name": "VBoxModel",
      "state": {
       "_dom_classes": [
        "widget-interact"
       ],
       "_model_module_version": "~2.1.4",
       "_view_module_version": "~2.1.4",
       "children": [
        "IPY_MODEL_acf1144a079947a3b72f448ff497b5aa",
        "IPY_MODEL_5ef172040b89471c852363eeffcd40ad"
       ],
       "layout": "IPY_MODEL_a3da27f324824245ab4548048acf08ce"
      }
     },
     "804d2f26720d4c7a80aca19ce362f6e3": {
      "model_module_version": "^2.1.4",
      "state": {
       "value": "<table style=\"width:100%\">\n                <thead>\n                    <tr>\n                        <th colspan=\"2\">\n                        Could not create model:\n                        </th>\n                    </tr>\n                </thead>\n                <tbody>\n                    <tr>\n                        <td>Model name</td>\n                        <td> undefined </td>\n                    </tr>\n                    <tr>\n                        <td>Model module</td>\n                        <td> undefined </td>\n                    </tr>\n                    <tr>\n                        <td>Model module version</td>\n                        <td> undefined </td>\n                    </tr>\n                <tbody>\n                <tfoot>\n                    <tr>\n                        <th colspan=\"2\">\n                        Class undefined not found in registry \n                        </th>\n                    </tr>\n                </tfoot>\n                </table>"
      }
     },
     "83640725b367458d874b51c6da3c0298": {
      "model_module_version": "^2.1.4",
      "state": {
       "description": "x",
       "value": "<table style=\"width:100%\">\n                <thead>\n                    <tr>\n                        <th colspan=\"2\">\n                        Could not create model:\n                        </th>\n                    </tr>\n                </thead>\n                <tbody>\n                    <tr>\n                        <td>Model name</td>\n                        <td> undefined </td>\n                    </tr>\n                    <tr>\n                        <td>Model module</td>\n                        <td> undefined </td>\n                    </tr>\n                    <tr>\n                        <td>Model module version</td>\n                        <td> undefined </td>\n                    </tr>\n                <tbody>\n                <tfoot>\n                    <tr>\n                        <th colspan=\"2\">\n                        Class undefined not found in registry \n                        </th>\n                    </tr>\n                </tfoot>\n                </table>"
      }
     },
     "842d398e0f0b49bb82816bf12e32d8ae": {
      "model_module_version": "^2.1.4",
      "state": {
       "children": [
        "IPY_MODEL_b3aaafaed364432d9f29a2334748fb51",
        "IPY_MODEL_0bb041ed3f25401da46f4d3b1b84bedd"
       ],
       "value": "<table style=\"width:100%\">\n                <thead>\n                    <tr>\n                        <th colspan=\"2\">\n                        Could not create model:\n                        </th>\n                    </tr>\n                </thead>\n                <tbody>\n                    <tr>\n                        <td>Model name</td>\n                        <td> undefined </td>\n                    </tr>\n                    <tr>\n                        <td>Model module</td>\n                        <td> undefined </td>\n                    </tr>\n                    <tr>\n                        <td>Model module version</td>\n                        <td> undefined </td>\n                    </tr>\n                <tbody>\n                <tfoot>\n                    <tr>\n                        <th colspan=\"2\">\n                        Class undefined not found in registry \n                        </th>\n                    </tr>\n                </tfoot>\n                </table>"
      }
     },
     "892d3ae0c7194bf880319e259ecc2978": {
      "model_module_version": "^2.1.4",
      "state": {
       "msg_id": "",
       "value": "<table style=\"width:100%\">\n                <thead>\n                    <tr>\n                        <th colspan=\"2\">\n                        Could not create model:\n                        </th>\n                    </tr>\n                </thead>\n                <tbody>\n                    <tr>\n                        <td>Model name</td>\n                        <td> undefined </td>\n                    </tr>\n                    <tr>\n                        <td>Model module</td>\n                        <td> undefined </td>\n                    </tr>\n                    <tr>\n                        <td>Model module version</td>\n                        <td> undefined </td>\n                    </tr>\n                <tbody>\n                <tfoot>\n                    <tr>\n                        <th colspan=\"2\">\n                        Class undefined not found in registry \n                        </th>\n                    </tr>\n                </tfoot>\n                </table>"
      }
     },
     "8c53fafbc3f84f67a956e57f3add21e6": {
      "model_module_version": "^2.1.4",
      "state": {
       "value": "<table style=\"width:100%\">\n                <thead>\n                    <tr>\n                        <th colspan=\"2\">\n                        Could not create model:\n                        </th>\n                    </tr>\n                </thead>\n                <tbody>\n                    <tr>\n                        <td>Model name</td>\n                        <td> undefined </td>\n                    </tr>\n                    <tr>\n                        <td>Model module</td>\n                        <td> undefined </td>\n                    </tr>\n                    <tr>\n                        <td>Model module version</td>\n                        <td> undefined </td>\n                    </tr>\n                <tbody>\n                <tfoot>\n                    <tr>\n                        <th colspan=\"2\">\n                        Class undefined not found in registry \n                        </th>\n                    </tr>\n                </tfoot>\n                </table>"
      }
     },
     "96847b2fae384f758634f48976d6387d": {
      "model_module_version": "^2.1.4",
      "state": {
       "value": "<table style=\"width:100%\">\n                <thead>\n                    <tr>\n                        <th colspan=\"2\">\n                        Could not create model:\n                        </th>\n                    </tr>\n                </thead>\n                <tbody>\n                    <tr>\n                        <td>Model name</td>\n                        <td> undefined </td>\n                    </tr>\n                    <tr>\n                        <td>Model module</td>\n                        <td> undefined </td>\n                    </tr>\n                    <tr>\n                        <td>Model module version</td>\n                        <td> undefined </td>\n                    </tr>\n                <tbody>\n                <tfoot>\n                    <tr>\n                        <th colspan=\"2\">\n                        Class undefined not found in registry \n                        </th>\n                    </tr>\n                </tfoot>\n                </table>"
      }
     },
     "98eb087ff1554f3983db53fa15fe205e": {
      "model_module_version": "^2.1.4",
      "state": {
       "description": "x",
       "value": "<table style=\"width:100%\">\n                <thead>\n                    <tr>\n                        <th colspan=\"2\">\n                        Could not create model:\n                        </th>\n                    </tr>\n                </thead>\n                <tbody>\n                    <tr>\n                        <td>Model name</td>\n                        <td> undefined </td>\n                    </tr>\n                    <tr>\n                        <td>Model module</td>\n                        <td> undefined </td>\n                    </tr>\n                    <tr>\n                        <td>Model module version</td>\n                        <td> undefined </td>\n                    </tr>\n                <tbody>\n                <tfoot>\n                    <tr>\n                        <th colspan=\"2\">\n                        Class undefined not found in registry \n                        </th>\n                    </tr>\n                </tfoot>\n                </table>"
      }
     },
     "a2dd2b1e1f9b4734b2e3aa1dbffdcd04": {
      "model_module_version": "^2.1.4",
      "state": {
       "value": "<table style=\"width:100%\">\n                <thead>\n                    <tr>\n                        <th colspan=\"2\">\n                        Could not create model:\n                        </th>\n                    </tr>\n                </thead>\n                <tbody>\n                    <tr>\n                        <td>Model name</td>\n                        <td> undefined </td>\n                    </tr>\n                    <tr>\n                        <td>Model module</td>\n                        <td> undefined </td>\n                    </tr>\n                    <tr>\n                        <td>Model module version</td>\n                        <td> undefined </td>\n                    </tr>\n                <tbody>\n                <tfoot>\n                    <tr>\n                        <th colspan=\"2\">\n                        Class undefined not found in registry \n                        </th>\n                    </tr>\n                </tfoot>\n                </table>"
      }
     },
     "a2f0d26a526e4befb8a931dedb6363eb": {
      "model_module_version": "^2.1.4",
      "state": {
       "value": "<table style=\"width:100%\">\n                <thead>\n                    <tr>\n                        <th colspan=\"2\">\n                        Could not create model:\n                        </th>\n                    </tr>\n                </thead>\n                <tbody>\n                    <tr>\n                        <td>Model name</td>\n                        <td> undefined </td>\n                    </tr>\n                    <tr>\n                        <td>Model module</td>\n                        <td> undefined </td>\n                    </tr>\n                    <tr>\n                        <td>Model module version</td>\n                        <td> undefined </td>\n                    </tr>\n                <tbody>\n                <tfoot>\n                    <tr>\n                        <th colspan=\"2\">\n                        Class undefined not found in registry \n                        </th>\n                    </tr>\n                </tfoot>\n                </table>"
      }
     },
     "a3da27f324824245ab4548048acf08ce": {
      "model_module": "jupyter-js-widgets",
      "model_module_version": "~2.1.4",
      "model_name": "LayoutModel",
      "state": {
       "_model_module_version": "~2.1.4",
       "_view_module_version": "~2.1.4"
      }
     },
     "a5e1aa2fc5f641d098f2cfa6420a592b": {
      "model_module_version": "^2.1.4",
      "state": {
       "value": "<table style=\"width:100%\">\n                <thead>\n                    <tr>\n                        <th colspan=\"2\">\n                        Could not create model:\n                        </th>\n                    </tr>\n                </thead>\n                <tbody>\n                    <tr>\n                        <td>Model name</td>\n                        <td> undefined </td>\n                    </tr>\n                    <tr>\n                        <td>Model module</td>\n                        <td> undefined </td>\n                    </tr>\n                    <tr>\n                        <td>Model module version</td>\n                        <td> undefined </td>\n                    </tr>\n                <tbody>\n                <tfoot>\n                    <tr>\n                        <th colspan=\"2\">\n                        Class undefined not found in registry \n                        </th>\n                    </tr>\n                </tfoot>\n                </table>"
      }
     },
     "acf1144a079947a3b72f448ff497b5aa": {
      "model_module": "jupyter-js-widgets",
      "model_module_version": "~2.1.4",
      "model_name": "IntSliderModel",
      "state": {
       "_model_module_version": "~2.1.4",
       "_view_module_version": "~2.1.4",
       "description": "x",
       "layout": "IPY_MODEL_3c2f6371fb9d4ef8963013d7ec752f1a",
       "max": 30,
       "min": -10,
       "style": "IPY_MODEL_4085225553f745b5a56321cf316c733e",
       "value": 10
      }
     },
     "ae4e57c864524cccb1f82071a8cd1230": {
      "model_module_version": "^2.1.4",
      "state": {
       "children": [
        "IPY_MODEL_83640725b367458d874b51c6da3c0298",
        "IPY_MODEL_46c3f00a4866401bb7d7dd886668baeb"
       ],
       "value": "<table style=\"width:100%\">\n                <thead>\n                    <tr>\n                        <th colspan=\"2\">\n                        Could not create model:\n                        </th>\n                    </tr>\n                </thead>\n                <tbody>\n                    <tr>\n                        <td>Model name</td>\n                        <td> undefined </td>\n                    </tr>\n                    <tr>\n                        <td>Model module</td>\n                        <td> undefined </td>\n                    </tr>\n                    <tr>\n                        <td>Model module version</td>\n                        <td> undefined </td>\n                    </tr>\n                <tbody>\n                <tfoot>\n                    <tr>\n                        <th colspan=\"2\">\n                        Class undefined not found in registry \n                        </th>\n                    </tr>\n                </tfoot>\n                </table>"
      }
     },
     "b3aaafaed364432d9f29a2334748fb51": {
      "model_module_version": "^2.1.4",
      "state": {
       "description": "x",
       "value": "<table style=\"width:100%\">\n                <thead>\n                    <tr>\n                        <th colspan=\"2\">\n                        Could not create model:\n                        </th>\n                    </tr>\n                </thead>\n                <tbody>\n                    <tr>\n                        <td>Model name</td>\n                        <td> undefined </td>\n                    </tr>\n                    <tr>\n                        <td>Model module</td>\n                        <td> undefined </td>\n                    </tr>\n                    <tr>\n                        <td>Model module version</td>\n                        <td> undefined </td>\n                    </tr>\n                <tbody>\n                <tfoot>\n                    <tr>\n                        <th colspan=\"2\">\n                        Class undefined not found in registry \n                        </th>\n                    </tr>\n                </tfoot>\n                </table>"
      }
     },
     "b5c4b56ba9cd45e1bdca6530cc78c9e1": {
      "model_module_version": "^2.1.4",
      "state": {
       "msg_id": "",
       "value": "<table style=\"width:100%\">\n                <thead>\n                    <tr>\n                        <th colspan=\"2\">\n                        Could not create model:\n                        </th>\n                    </tr>\n                </thead>\n                <tbody>\n                    <tr>\n                        <td>Model name</td>\n                        <td> undefined </td>\n                    </tr>\n                    <tr>\n                        <td>Model module</td>\n                        <td> undefined </td>\n                    </tr>\n                    <tr>\n                        <td>Model module version</td>\n                        <td> undefined </td>\n                    </tr>\n                <tbody>\n                <tfoot>\n                    <tr>\n                        <th colspan=\"2\">\n                        Class undefined not found in registry \n                        </th>\n                    </tr>\n                </tfoot>\n                </table>"
      }
     },
     "b74b2bb279ff49c9a7b8384e115dda91": {
      "model_module_version": "^2.1.4",
      "state": {
       "msg_id": "",
       "value": "<table style=\"width:100%\">\n                <thead>\n                    <tr>\n                        <th colspan=\"2\">\n                        Could not create model:\n                        </th>\n                    </tr>\n                </thead>\n                <tbody>\n                    <tr>\n                        <td>Model name</td>\n                        <td> undefined </td>\n                    </tr>\n                    <tr>\n                        <td>Model module</td>\n                        <td> undefined </td>\n                    </tr>\n                    <tr>\n                        <td>Model module version</td>\n                        <td> undefined </td>\n                    </tr>\n                <tbody>\n                <tfoot>\n                    <tr>\n                        <th colspan=\"2\">\n                        Class undefined not found in registry \n                        </th>\n                    </tr>\n                </tfoot>\n                </table>"
      }
     },
     "bc40a99774e645d6a95f8c5424ed326e": {
      "model_module_version": "^2.1.4",
      "state": {
       "description": "x",
       "value": "<table style=\"width:100%\">\n                <thead>\n                    <tr>\n                        <th colspan=\"2\">\n                        Could not create model:\n                        </th>\n                    </tr>\n                </thead>\n                <tbody>\n                    <tr>\n                        <td>Model name</td>\n                        <td> undefined </td>\n                    </tr>\n                    <tr>\n                        <td>Model module</td>\n                        <td> undefined </td>\n                    </tr>\n                    <tr>\n                        <td>Model module version</td>\n                        <td> undefined </td>\n                    </tr>\n                <tbody>\n                <tfoot>\n                    <tr>\n                        <th colspan=\"2\">\n                        Class undefined not found in registry \n                        </th>\n                    </tr>\n                </tfoot>\n                </table>"
      }
     },
     "c40e39ab08b34613bb2767f4b2e60411": {
      "model_module_version": "^2.1.4",
      "state": {
       "value": "<table style=\"width:100%\">\n                <thead>\n                    <tr>\n                        <th colspan=\"2\">\n                        Could not create model:\n                        </th>\n                    </tr>\n                </thead>\n                <tbody>\n                    <tr>\n                        <td>Model name</td>\n                        <td> undefined </td>\n                    </tr>\n                    <tr>\n                        <td>Model module</td>\n                        <td> undefined </td>\n                    </tr>\n                    <tr>\n                        <td>Model module version</td>\n                        <td> undefined </td>\n                    </tr>\n                <tbody>\n                <tfoot>\n                    <tr>\n                        <th colspan=\"2\">\n                        Class undefined not found in registry \n                        </th>\n                    </tr>\n                </tfoot>\n                </table>"
      }
     },
     "ca7fc7414df744c1a12a80afcd929124": {
      "model_module_version": "^2.1.4",
      "state": {
       "description": "x",
       "value": "<table style=\"width:100%\">\n                <thead>\n                    <tr>\n                        <th colspan=\"2\">\n                        Could not create model:\n                        </th>\n                    </tr>\n                </thead>\n                <tbody>\n                    <tr>\n                        <td>Model name</td>\n                        <td> undefined </td>\n                    </tr>\n                    <tr>\n                        <td>Model module</td>\n                        <td> undefined </td>\n                    </tr>\n                    <tr>\n                        <td>Model module version</td>\n                        <td> undefined </td>\n                    </tr>\n                <tbody>\n                <tfoot>\n                    <tr>\n                        <th colspan=\"2\">\n                        Class undefined not found in registry \n                        </th>\n                    </tr>\n                </tfoot>\n                </table>"
      }
     },
     "d00724d28f834c4991169f92b8e447cb": {
      "model_module_version": "^2.1.4",
      "state": {
       "description": "x",
       "value": "<table style=\"width:100%\">\n                <thead>\n                    <tr>\n                        <th colspan=\"2\">\n                        Could not create model:\n                        </th>\n                    </tr>\n                </thead>\n                <tbody>\n                    <tr>\n                        <td>Model name</td>\n                        <td> undefined </td>\n                    </tr>\n                    <tr>\n                        <td>Model module</td>\n                        <td> undefined </td>\n                    </tr>\n                    <tr>\n                        <td>Model module version</td>\n                        <td> undefined </td>\n                    </tr>\n                <tbody>\n                <tfoot>\n                    <tr>\n                        <th colspan=\"2\">\n                        Class undefined not found in registry \n                        </th>\n                    </tr>\n                </tfoot>\n                </table>"
      }
     },
     "d11595e8990749f7a5f58f9502758e2d": {
      "model_module_version": "^2.1.4",
      "state": {
       "value": "<table style=\"width:100%\">\n                <thead>\n                    <tr>\n                        <th colspan=\"2\">\n                        Could not create model:\n                        </th>\n                    </tr>\n                </thead>\n                <tbody>\n                    <tr>\n                        <td>Model name</td>\n                        <td> undefined </td>\n                    </tr>\n                    <tr>\n                        <td>Model module</td>\n                        <td> undefined </td>\n                    </tr>\n                    <tr>\n                        <td>Model module version</td>\n                        <td> undefined </td>\n                    </tr>\n                <tbody>\n                <tfoot>\n                    <tr>\n                        <th colspan=\"2\">\n                        Class undefined not found in registry \n                        </th>\n                    </tr>\n                </tfoot>\n                </table>"
      }
     },
     "d37973aee6ad4ad3afc2983cc4640538": {
      "model_module_version": "^2.1.4",
      "state": {
       "value": "<table style=\"width:100%\">\n                <thead>\n                    <tr>\n                        <th colspan=\"2\">\n                        Could not create model:\n                        </th>\n                    </tr>\n                </thead>\n                <tbody>\n                    <tr>\n                        <td>Model name</td>\n                        <td> undefined </td>\n                    </tr>\n                    <tr>\n                        <td>Model module</td>\n                        <td> undefined </td>\n                    </tr>\n                    <tr>\n                        <td>Model module version</td>\n                        <td> undefined </td>\n                    </tr>\n                <tbody>\n                <tfoot>\n                    <tr>\n                        <th colspan=\"2\">\n                        Class undefined not found in registry \n                        </th>\n                    </tr>\n                </tfoot>\n                </table>"
      }
     },
     "d8e4be7cd0c144abb637254495935400": {
      "model_module_version": "^2.1.4",
      "state": {
       "value": "<table style=\"width:100%\">\n                <thead>\n                    <tr>\n                        <th colspan=\"2\">\n                        Could not create model:\n                        </th>\n                    </tr>\n                </thead>\n                <tbody>\n                    <tr>\n                        <td>Model name</td>\n                        <td> undefined </td>\n                    </tr>\n                    <tr>\n                        <td>Model module</td>\n                        <td> undefined </td>\n                    </tr>\n                    <tr>\n                        <td>Model module version</td>\n                        <td> undefined </td>\n                    </tr>\n                <tbody>\n                <tfoot>\n                    <tr>\n                        <th colspan=\"2\">\n                        Class undefined not found in registry \n                        </th>\n                    </tr>\n                </tfoot>\n                </table>"
      }
     },
     "d929f758e3d743e4bad5ee4b0e0e2971": {
      "model_module_version": "^2.1.4",
      "state": {
       "value": "<table style=\"width:100%\">\n                <thead>\n                    <tr>\n                        <th colspan=\"2\">\n                        Could not create model:\n                        </th>\n                    </tr>\n                </thead>\n                <tbody>\n                    <tr>\n                        <td>Model name</td>\n                        <td> undefined </td>\n                    </tr>\n                    <tr>\n                        <td>Model module</td>\n                        <td> undefined </td>\n                    </tr>\n                    <tr>\n                        <td>Model module version</td>\n                        <td> undefined </td>\n                    </tr>\n                <tbody>\n                <tfoot>\n                    <tr>\n                        <th colspan=\"2\">\n                        Class undefined not found in registry \n                        </th>\n                    </tr>\n                </tfoot>\n                </table>"
      }
     },
     "db0ea3166b744eb3914ca4a329e1f134": {
      "model_module_version": "^2.1.4",
      "state": {
       "value": "<table style=\"width:100%\">\n                <thead>\n                    <tr>\n                        <th colspan=\"2\">\n                        Could not create model:\n                        </th>\n                    </tr>\n                </thead>\n                <tbody>\n                    <tr>\n                        <td>Model name</td>\n                        <td> undefined </td>\n                    </tr>\n                    <tr>\n                        <td>Model module</td>\n                        <td> undefined </td>\n                    </tr>\n                    <tr>\n                        <td>Model module version</td>\n                        <td> undefined </td>\n                    </tr>\n                <tbody>\n                <tfoot>\n                    <tr>\n                        <th colspan=\"2\">\n                        Class undefined not found in registry \n                        </th>\n                    </tr>\n                </tfoot>\n                </table>"
      }
     },
     "de03135fc545466a891c5c7f1191cb4b": {
      "model_module_version": "^2.1.4",
      "state": {
       "children": [
        "IPY_MODEL_6aaa433ab117461b889545d142a27175",
        "IPY_MODEL_4a96e2d67ee54a41a257d81719387929"
       ],
       "value": "<table style=\"width:100%\">\n                <thead>\n                    <tr>\n                        <th colspan=\"2\">\n                        Could not create model:\n                        </th>\n                    </tr>\n                </thead>\n                <tbody>\n                    <tr>\n                        <td>Model name</td>\n                        <td> undefined </td>\n                    </tr>\n                    <tr>\n                        <td>Model module</td>\n                        <td> undefined </td>\n                    </tr>\n                    <tr>\n                        <td>Model module version</td>\n                        <td> undefined </td>\n                    </tr>\n                <tbody>\n                <tfoot>\n                    <tr>\n                        <th colspan=\"2\">\n                        Class undefined not found in registry \n                        </th>\n                    </tr>\n                </tfoot>\n                </table>"
      }
     },
     "e2d7a38ef7dc48099cc27bfcc2a6a4c9": {
      "model_module_version": "^2.1.4",
      "state": {
       "value": "<table style=\"width:100%\">\n                <thead>\n                    <tr>\n                        <th colspan=\"2\">\n                        Could not create model:\n                        </th>\n                    </tr>\n                </thead>\n                <tbody>\n                    <tr>\n                        <td>Model name</td>\n                        <td> undefined </td>\n                    </tr>\n                    <tr>\n                        <td>Model module</td>\n                        <td> undefined </td>\n                    </tr>\n                    <tr>\n                        <td>Model module version</td>\n                        <td> undefined </td>\n                    </tr>\n                <tbody>\n                <tfoot>\n                    <tr>\n                        <th colspan=\"2\">\n                        Class undefined not found in registry \n                        </th>\n                    </tr>\n                </tfoot>\n                </table>"
      }
     },
     "e2eabeb5e95644c6994f2f3be516a507": {
      "model_module_version": "^2.1.4",
      "state": {
       "value": "<table style=\"width:100%\">\n                <thead>\n                    <tr>\n                        <th colspan=\"2\">\n                        Could not create model:\n                        </th>\n                    </tr>\n                </thead>\n                <tbody>\n                    <tr>\n                        <td>Model name</td>\n                        <td> undefined </td>\n                    </tr>\n                    <tr>\n                        <td>Model module</td>\n                        <td> undefined </td>\n                    </tr>\n                    <tr>\n                        <td>Model module version</td>\n                        <td> undefined </td>\n                    </tr>\n                <tbody>\n                <tfoot>\n                    <tr>\n                        <th colspan=\"2\">\n                        Class undefined not found in registry \n                        </th>\n                    </tr>\n                </tfoot>\n                </table>"
      }
     },
     "e8c41950a9d349d2a093b110f66cbb72": {
      "model_module_version": "^2.1.4",
      "state": {
       "description": "x",
       "value": "<table style=\"width:100%\">\n                <thead>\n                    <tr>\n                        <th colspan=\"2\">\n                        Could not create model:\n                        </th>\n                    </tr>\n                </thead>\n                <tbody>\n                    <tr>\n                        <td>Model name</td>\n                        <td> undefined </td>\n                    </tr>\n                    <tr>\n                        <td>Model module</td>\n                        <td> undefined </td>\n                    </tr>\n                    <tr>\n                        <td>Model module version</td>\n                        <td> undefined </td>\n                    </tr>\n                <tbody>\n                <tfoot>\n                    <tr>\n                        <th colspan=\"2\">\n                        Class undefined not found in registry \n                        </th>\n                    </tr>\n                </tfoot>\n                </table>"
      }
     },
     "eef3d499980c484890b8c35cc146b9ed": {
      "model_module_version": "^2.1.4",
      "state": {
       "value": "<table style=\"width:100%\">\n                <thead>\n                    <tr>\n                        <th colspan=\"2\">\n                        Could not create model:\n                        </th>\n                    </tr>\n                </thead>\n                <tbody>\n                    <tr>\n                        <td>Model name</td>\n                        <td> undefined </td>\n                    </tr>\n                    <tr>\n                        <td>Model module</td>\n                        <td> undefined </td>\n                    </tr>\n                    <tr>\n                        <td>Model module version</td>\n                        <td> undefined </td>\n                    </tr>\n                <tbody>\n                <tfoot>\n                    <tr>\n                        <th colspan=\"2\">\n                        Class undefined not found in registry \n                        </th>\n                    </tr>\n                </tfoot>\n                </table>"
      }
     },
     "f43621a7182443dbaba6a026a3ea8c76": {
      "model_module_version": "^2.1.4",
      "state": {
       "value": "<table style=\"width:100%\">\n                <thead>\n                    <tr>\n                        <th colspan=\"2\">\n                        Could not create model:\n                        </th>\n                    </tr>\n                </thead>\n                <tbody>\n                    <tr>\n                        <td>Model name</td>\n                        <td> undefined </td>\n                    </tr>\n                    <tr>\n                        <td>Model module</td>\n                        <td> undefined </td>\n                    </tr>\n                    <tr>\n                        <td>Model module version</td>\n                        <td> undefined </td>\n                    </tr>\n                <tbody>\n                <tfoot>\n                    <tr>\n                        <th colspan=\"2\">\n                        Class undefined not found in registry \n                        </th>\n                    </tr>\n                </tfoot>\n                </table>"
      }
     },
     "f5d70fc558214794b4dd91314f8746c8": {
      "model_module_version": "^2.1.4",
      "state": {
       "value": "<table style=\"width:100%\">\n                <thead>\n                    <tr>\n                        <th colspan=\"2\">\n                        Could not create model:\n                        </th>\n                    </tr>\n                </thead>\n                <tbody>\n                    <tr>\n                        <td>Model name</td>\n                        <td> undefined </td>\n                    </tr>\n                    <tr>\n                        <td>Model module</td>\n                        <td> undefined </td>\n                    </tr>\n                    <tr>\n                        <td>Model module version</td>\n                        <td> undefined </td>\n                    </tr>\n                <tbody>\n                <tfoot>\n                    <tr>\n                        <th colspan=\"2\">\n                        Class undefined not found in registry \n                        </th>\n                    </tr>\n                </tfoot>\n                </table>"
      }
     }
    },
    "version_major": 1,
    "version_minor": 0
   }
  }
 },
 "nbformat": 4,
 "nbformat_minor": 2
}
