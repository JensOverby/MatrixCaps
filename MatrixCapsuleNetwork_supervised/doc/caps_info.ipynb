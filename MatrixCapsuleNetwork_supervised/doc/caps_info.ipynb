{
 "cells": [
  {
   "cell_type": "markdown",
   "metadata": {},
   "source": [
    "# CAPSNET Monitor"
   ]
  },
  {
   "cell_type": "code",
   "execution_count": 1,
   "metadata": {},
   "outputs": [
    {
     "data": {
      "text/html": [
       "<script>\n",
       "code_show=true; \n",
       "function code_toggle() {\n",
       " if (code_show){\n",
       " $('div.input').hide();\n",
       " } else {\n",
       " $('div.input').show();\n",
       " }\n",
       " code_show = !code_show\n",
       "} \n",
       "$( document ).ready(code_toggle);\n",
       "</script>\n",
       "<form action=\"javascript:code_toggle()\"><input type=\"submit\" value=\"Click here to toggle on/off the raw code.\"></form>"
      ],
      "text/plain": [
       "<IPython.core.display.HTML object>"
      ]
     },
     "execution_count": 1,
     "metadata": {},
     "output_type": "execute_result"
    }
   ],
   "source": [
    "from IPython.display import HTML\n",
    "\n",
    "HTML('''<script>\n",
    "code_show=true; \n",
    "function code_toggle() {\n",
    " if (code_show){\n",
    " $('div.input').hide();\n",
    " } else {\n",
    " $('div.input').show();\n",
    " }\n",
    " code_show = !code_show\n",
    "} \n",
    "$( document ).ready(code_toggle);\n",
    "</script>\n",
    "<form action=\"javascript:code_toggle()\"><input type=\"submit\" value=\"Click here to toggle on/off the raw code.\"></form>''')\n"
   ]
  },
  {
   "cell_type": "code",
   "execution_count": 2,
   "metadata": {
    "scrolled": true
   },
   "outputs": [
    {
     "data": {
      "text/html": [
       "<style>\n",
       ".output_wrapper button.btn.btn-default,\n",
       ".output_wrapper .ui-dialog-titlebar {\n",
       "  display: none;\n",
       "}\n",
       "</style>"
      ],
      "text/plain": [
       "<IPython.core.display.HTML object>"
      ]
     },
     "execution_count": 2,
     "metadata": {},
     "output_type": "execute_result"
    }
   ],
   "source": [
    "HTML(\n",
    "'''<style>\n",
    ".output_wrapper button.btn.btn-default,\n",
    ".output_wrapper .ui-dialog-titlebar {\n",
    "  display: none;\n",
    "}\n",
    "</style>''')\n"
   ]
  },
  {
   "cell_type": "code",
   "execution_count": 3,
   "metadata": {
    "scrolled": false
   },
   "outputs": [],
   "source": [
    "%matplotlib notebook\n",
    "\n",
    "import os\n",
    "#os.chdir('/home/jens/eclipse-workspace/MatrixCaps/Matrix-Capsule-Network/')\n",
    "\n",
    "import sys\n",
    "import pyrr\n",
    "#sys.path.append('../model')\n",
    "sys.path.append('..')\n",
    "import torch\n",
    "from torch.autograd import Variable\n",
    "from torchvision import datasets\n",
    "from torchvision import transforms\n",
    "from torchvision import utils\n",
    "import torch.nn.functional as F\n",
    "import model.capsules as mcaps\n",
    "import model.util as util\n",
    "import matplotlib\n",
    "import matplotlib.pyplot as plt\n",
    "import numpy as np\n",
    "import time\n",
    "import pyrr\n",
    "\n",
    "import ipywidgets as widgets\n",
    "from ipywidgets import FloatSlider, HBox, VBox, Layout\n",
    "matplotlib.pyplot.ioff()\n",
    "\n",
    "import glob\n",
    "from IPython.display import display, Markdown, Image\n",
    "\n",
    "import PIL.Image\n",
    "from io import BytesIO\n"
   ]
  },
  {
   "cell_type": "markdown",
   "metadata": {},
   "source": [
    "## Matrix Capsules LOSS plot"
   ]
  },
  {
   "cell_type": "code",
   "execution_count": 4,
   "metadata": {},
   "outputs": [
    {
     "data": {
      "application/javascript": [
       "/* Put everything inside the global mpl namespace */\n",
       "window.mpl = {};\n",
       "\n",
       "\n",
       "mpl.get_websocket_type = function() {\n",
       "    if (typeof(WebSocket) !== 'undefined') {\n",
       "        return WebSocket;\n",
       "    } else if (typeof(MozWebSocket) !== 'undefined') {\n",
       "        return MozWebSocket;\n",
       "    } else {\n",
       "        alert('Your browser does not have WebSocket support.' +\n",
       "              'Please try Chrome, Safari or Firefox ≥ 6. ' +\n",
       "              'Firefox 4 and 5 are also supported but you ' +\n",
       "              'have to enable WebSockets in about:config.');\n",
       "    };\n",
       "}\n",
       "\n",
       "mpl.figure = function(figure_id, websocket, ondownload, parent_element) {\n",
       "    this.id = figure_id;\n",
       "\n",
       "    this.ws = websocket;\n",
       "\n",
       "    this.supports_binary = (this.ws.binaryType != undefined);\n",
       "\n",
       "    if (!this.supports_binary) {\n",
       "        var warnings = document.getElementById(\"mpl-warnings\");\n",
       "        if (warnings) {\n",
       "            warnings.style.display = 'block';\n",
       "            warnings.textContent = (\n",
       "                \"This browser does not support binary websocket messages. \" +\n",
       "                    \"Performance may be slow.\");\n",
       "        }\n",
       "    }\n",
       "\n",
       "    this.imageObj = new Image();\n",
       "\n",
       "    this.context = undefined;\n",
       "    this.message = undefined;\n",
       "    this.canvas = undefined;\n",
       "    this.rubberband_canvas = undefined;\n",
       "    this.rubberband_context = undefined;\n",
       "    this.format_dropdown = undefined;\n",
       "\n",
       "    this.image_mode = 'full';\n",
       "\n",
       "    this.root = $('<div/>');\n",
       "    this._root_extra_style(this.root)\n",
       "    this.root.attr('style', 'display: inline-block');\n",
       "\n",
       "    $(parent_element).append(this.root);\n",
       "\n",
       "    this._init_header(this);\n",
       "    this._init_canvas(this);\n",
       "    this._init_toolbar(this);\n",
       "\n",
       "    var fig = this;\n",
       "\n",
       "    this.waiting = false;\n",
       "\n",
       "    this.ws.onopen =  function () {\n",
       "            fig.send_message(\"supports_binary\", {value: fig.supports_binary});\n",
       "            fig.send_message(\"send_image_mode\", {});\n",
       "            if (mpl.ratio != 1) {\n",
       "                fig.send_message(\"set_dpi_ratio\", {'dpi_ratio': mpl.ratio});\n",
       "            }\n",
       "            fig.send_message(\"refresh\", {});\n",
       "        }\n",
       "\n",
       "    this.imageObj.onload = function() {\n",
       "            if (fig.image_mode == 'full') {\n",
       "                // Full images could contain transparency (where diff images\n",
       "                // almost always do), so we need to clear the canvas so that\n",
       "                // there is no ghosting.\n",
       "                fig.context.clearRect(0, 0, fig.canvas.width, fig.canvas.height);\n",
       "            }\n",
       "            fig.context.drawImage(fig.imageObj, 0, 0);\n",
       "        };\n",
       "\n",
       "    this.imageObj.onunload = function() {\n",
       "        fig.ws.close();\n",
       "    }\n",
       "\n",
       "    this.ws.onmessage = this._make_on_message_function(this);\n",
       "\n",
       "    this.ondownload = ondownload;\n",
       "}\n",
       "\n",
       "mpl.figure.prototype._init_header = function() {\n",
       "    var titlebar = $(\n",
       "        '<div class=\"ui-dialog-titlebar ui-widget-header ui-corner-all ' +\n",
       "        'ui-helper-clearfix\"/>');\n",
       "    var titletext = $(\n",
       "        '<div class=\"ui-dialog-title\" style=\"width: 100%; ' +\n",
       "        'text-align: center; padding: 3px;\"/>');\n",
       "    titlebar.append(titletext)\n",
       "    this.root.append(titlebar);\n",
       "    this.header = titletext[0];\n",
       "}\n",
       "\n",
       "\n",
       "\n",
       "mpl.figure.prototype._canvas_extra_style = function(canvas_div) {\n",
       "\n",
       "}\n",
       "\n",
       "\n",
       "mpl.figure.prototype._root_extra_style = function(canvas_div) {\n",
       "\n",
       "}\n",
       "\n",
       "mpl.figure.prototype._init_canvas = function() {\n",
       "    var fig = this;\n",
       "\n",
       "    var canvas_div = $('<div/>');\n",
       "\n",
       "    canvas_div.attr('style', 'position: relative; clear: both; outline: 0');\n",
       "\n",
       "    function canvas_keyboard_event(event) {\n",
       "        return fig.key_event(event, event['data']);\n",
       "    }\n",
       "\n",
       "    canvas_div.keydown('key_press', canvas_keyboard_event);\n",
       "    canvas_div.keyup('key_release', canvas_keyboard_event);\n",
       "    this.canvas_div = canvas_div\n",
       "    this._canvas_extra_style(canvas_div)\n",
       "    this.root.append(canvas_div);\n",
       "\n",
       "    var canvas = $('<canvas/>');\n",
       "    canvas.addClass('mpl-canvas');\n",
       "    canvas.attr('style', \"left: 0; top: 0; z-index: 0; outline: 0\")\n",
       "\n",
       "    this.canvas = canvas[0];\n",
       "    this.context = canvas[0].getContext(\"2d\");\n",
       "\n",
       "    var backingStore = this.context.backingStorePixelRatio ||\n",
       "\tthis.context.webkitBackingStorePixelRatio ||\n",
       "\tthis.context.mozBackingStorePixelRatio ||\n",
       "\tthis.context.msBackingStorePixelRatio ||\n",
       "\tthis.context.oBackingStorePixelRatio ||\n",
       "\tthis.context.backingStorePixelRatio || 1;\n",
       "\n",
       "    mpl.ratio = (window.devicePixelRatio || 1) / backingStore;\n",
       "\n",
       "    var rubberband = $('<canvas/>');\n",
       "    rubberband.attr('style', \"position: absolute; left: 0; top: 0; z-index: 1;\")\n",
       "\n",
       "    var pass_mouse_events = true;\n",
       "\n",
       "    canvas_div.resizable({\n",
       "        start: function(event, ui) {\n",
       "            pass_mouse_events = false;\n",
       "        },\n",
       "        resize: function(event, ui) {\n",
       "            fig.request_resize(ui.size.width, ui.size.height);\n",
       "        },\n",
       "        stop: function(event, ui) {\n",
       "            pass_mouse_events = true;\n",
       "            fig.request_resize(ui.size.width, ui.size.height);\n",
       "        },\n",
       "    });\n",
       "\n",
       "    function mouse_event_fn(event) {\n",
       "        if (pass_mouse_events)\n",
       "            return fig.mouse_event(event, event['data']);\n",
       "    }\n",
       "\n",
       "    rubberband.mousedown('button_press', mouse_event_fn);\n",
       "    rubberband.mouseup('button_release', mouse_event_fn);\n",
       "    // Throttle sequential mouse events to 1 every 20ms.\n",
       "    rubberband.mousemove('motion_notify', mouse_event_fn);\n",
       "\n",
       "    rubberband.mouseenter('figure_enter', mouse_event_fn);\n",
       "    rubberband.mouseleave('figure_leave', mouse_event_fn);\n",
       "\n",
       "    canvas_div.on(\"wheel\", function (event) {\n",
       "        event = event.originalEvent;\n",
       "        event['data'] = 'scroll'\n",
       "        if (event.deltaY < 0) {\n",
       "            event.step = 1;\n",
       "        } else {\n",
       "            event.step = -1;\n",
       "        }\n",
       "        mouse_event_fn(event);\n",
       "    });\n",
       "\n",
       "    canvas_div.append(canvas);\n",
       "    canvas_div.append(rubberband);\n",
       "\n",
       "    this.rubberband = rubberband;\n",
       "    this.rubberband_canvas = rubberband[0];\n",
       "    this.rubberband_context = rubberband[0].getContext(\"2d\");\n",
       "    this.rubberband_context.strokeStyle = \"#000000\";\n",
       "\n",
       "    this._resize_canvas = function(width, height) {\n",
       "        // Keep the size of the canvas, canvas container, and rubber band\n",
       "        // canvas in synch.\n",
       "        canvas_div.css('width', width)\n",
       "        canvas_div.css('height', height)\n",
       "\n",
       "        canvas.attr('width', width * mpl.ratio);\n",
       "        canvas.attr('height', height * mpl.ratio);\n",
       "        canvas.attr('style', 'width: ' + width + 'px; height: ' + height + 'px;');\n",
       "\n",
       "        rubberband.attr('width', width);\n",
       "        rubberband.attr('height', height);\n",
       "    }\n",
       "\n",
       "    // Set the figure to an initial 600x600px, this will subsequently be updated\n",
       "    // upon first draw.\n",
       "    this._resize_canvas(600, 600);\n",
       "\n",
       "    // Disable right mouse context menu.\n",
       "    $(this.rubberband_canvas).bind(\"contextmenu\",function(e){\n",
       "        return false;\n",
       "    });\n",
       "\n",
       "    function set_focus () {\n",
       "        canvas.focus();\n",
       "        canvas_div.focus();\n",
       "    }\n",
       "\n",
       "    window.setTimeout(set_focus, 100);\n",
       "}\n",
       "\n",
       "mpl.figure.prototype._init_toolbar = function() {\n",
       "    var fig = this;\n",
       "\n",
       "    var nav_element = $('<div/>')\n",
       "    nav_element.attr('style', 'width: 100%');\n",
       "    this.root.append(nav_element);\n",
       "\n",
       "    // Define a callback function for later on.\n",
       "    function toolbar_event(event) {\n",
       "        return fig.toolbar_button_onclick(event['data']);\n",
       "    }\n",
       "    function toolbar_mouse_event(event) {\n",
       "        return fig.toolbar_button_onmouseover(event['data']);\n",
       "    }\n",
       "\n",
       "    for(var toolbar_ind in mpl.toolbar_items) {\n",
       "        var name = mpl.toolbar_items[toolbar_ind][0];\n",
       "        var tooltip = mpl.toolbar_items[toolbar_ind][1];\n",
       "        var image = mpl.toolbar_items[toolbar_ind][2];\n",
       "        var method_name = mpl.toolbar_items[toolbar_ind][3];\n",
       "\n",
       "        if (!name) {\n",
       "            // put a spacer in here.\n",
       "            continue;\n",
       "        }\n",
       "        var button = $('<button/>');\n",
       "        button.addClass('ui-button ui-widget ui-state-default ui-corner-all ' +\n",
       "                        'ui-button-icon-only');\n",
       "        button.attr('role', 'button');\n",
       "        button.attr('aria-disabled', 'false');\n",
       "        button.click(method_name, toolbar_event);\n",
       "        button.mouseover(tooltip, toolbar_mouse_event);\n",
       "\n",
       "        var icon_img = $('<span/>');\n",
       "        icon_img.addClass('ui-button-icon-primary ui-icon');\n",
       "        icon_img.addClass(image);\n",
       "        icon_img.addClass('ui-corner-all');\n",
       "\n",
       "        var tooltip_span = $('<span/>');\n",
       "        tooltip_span.addClass('ui-button-text');\n",
       "        tooltip_span.html(tooltip);\n",
       "\n",
       "        button.append(icon_img);\n",
       "        button.append(tooltip_span);\n",
       "\n",
       "        nav_element.append(button);\n",
       "    }\n",
       "\n",
       "    var fmt_picker_span = $('<span/>');\n",
       "\n",
       "    var fmt_picker = $('<select/>');\n",
       "    fmt_picker.addClass('mpl-toolbar-option ui-widget ui-widget-content');\n",
       "    fmt_picker_span.append(fmt_picker);\n",
       "    nav_element.append(fmt_picker_span);\n",
       "    this.format_dropdown = fmt_picker[0];\n",
       "\n",
       "    for (var ind in mpl.extensions) {\n",
       "        var fmt = mpl.extensions[ind];\n",
       "        var option = $(\n",
       "            '<option/>', {selected: fmt === mpl.default_extension}).html(fmt);\n",
       "        fmt_picker.append(option)\n",
       "    }\n",
       "\n",
       "    // Add hover states to the ui-buttons\n",
       "    $( \".ui-button\" ).hover(\n",
       "        function() { $(this).addClass(\"ui-state-hover\");},\n",
       "        function() { $(this).removeClass(\"ui-state-hover\");}\n",
       "    );\n",
       "\n",
       "    var status_bar = $('<span class=\"mpl-message\"/>');\n",
       "    nav_element.append(status_bar);\n",
       "    this.message = status_bar[0];\n",
       "}\n",
       "\n",
       "mpl.figure.prototype.request_resize = function(x_pixels, y_pixels) {\n",
       "    // Request matplotlib to resize the figure. Matplotlib will then trigger a resize in the client,\n",
       "    // which will in turn request a refresh of the image.\n",
       "    this.send_message('resize', {'width': x_pixels, 'height': y_pixels});\n",
       "}\n",
       "\n",
       "mpl.figure.prototype.send_message = function(type, properties) {\n",
       "    properties['type'] = type;\n",
       "    properties['figure_id'] = this.id;\n",
       "    this.ws.send(JSON.stringify(properties));\n",
       "}\n",
       "\n",
       "mpl.figure.prototype.send_draw_message = function() {\n",
       "    if (!this.waiting) {\n",
       "        this.waiting = true;\n",
       "        this.ws.send(JSON.stringify({type: \"draw\", figure_id: this.id}));\n",
       "    }\n",
       "}\n",
       "\n",
       "\n",
       "mpl.figure.prototype.handle_save = function(fig, msg) {\n",
       "    var format_dropdown = fig.format_dropdown;\n",
       "    var format = format_dropdown.options[format_dropdown.selectedIndex].value;\n",
       "    fig.ondownload(fig, format);\n",
       "}\n",
       "\n",
       "\n",
       "mpl.figure.prototype.handle_resize = function(fig, msg) {\n",
       "    var size = msg['size'];\n",
       "    if (size[0] != fig.canvas.width || size[1] != fig.canvas.height) {\n",
       "        fig._resize_canvas(size[0], size[1]);\n",
       "        fig.send_message(\"refresh\", {});\n",
       "    };\n",
       "}\n",
       "\n",
       "mpl.figure.prototype.handle_rubberband = function(fig, msg) {\n",
       "    var x0 = msg['x0'] / mpl.ratio;\n",
       "    var y0 = (fig.canvas.height - msg['y0']) / mpl.ratio;\n",
       "    var x1 = msg['x1'] / mpl.ratio;\n",
       "    var y1 = (fig.canvas.height - msg['y1']) / mpl.ratio;\n",
       "    x0 = Math.floor(x0) + 0.5;\n",
       "    y0 = Math.floor(y0) + 0.5;\n",
       "    x1 = Math.floor(x1) + 0.5;\n",
       "    y1 = Math.floor(y1) + 0.5;\n",
       "    var min_x = Math.min(x0, x1);\n",
       "    var min_y = Math.min(y0, y1);\n",
       "    var width = Math.abs(x1 - x0);\n",
       "    var height = Math.abs(y1 - y0);\n",
       "\n",
       "    fig.rubberband_context.clearRect(\n",
       "        0, 0, fig.canvas.width, fig.canvas.height);\n",
       "\n",
       "    fig.rubberband_context.strokeRect(min_x, min_y, width, height);\n",
       "}\n",
       "\n",
       "mpl.figure.prototype.handle_figure_label = function(fig, msg) {\n",
       "    // Updates the figure title.\n",
       "    fig.header.textContent = msg['label'];\n",
       "}\n",
       "\n",
       "mpl.figure.prototype.handle_cursor = function(fig, msg) {\n",
       "    var cursor = msg['cursor'];\n",
       "    switch(cursor)\n",
       "    {\n",
       "    case 0:\n",
       "        cursor = 'pointer';\n",
       "        break;\n",
       "    case 1:\n",
       "        cursor = 'default';\n",
       "        break;\n",
       "    case 2:\n",
       "        cursor = 'crosshair';\n",
       "        break;\n",
       "    case 3:\n",
       "        cursor = 'move';\n",
       "        break;\n",
       "    }\n",
       "    fig.rubberband_canvas.style.cursor = cursor;\n",
       "}\n",
       "\n",
       "mpl.figure.prototype.handle_message = function(fig, msg) {\n",
       "    fig.message.textContent = msg['message'];\n",
       "}\n",
       "\n",
       "mpl.figure.prototype.handle_draw = function(fig, msg) {\n",
       "    // Request the server to send over a new figure.\n",
       "    fig.send_draw_message();\n",
       "}\n",
       "\n",
       "mpl.figure.prototype.handle_image_mode = function(fig, msg) {\n",
       "    fig.image_mode = msg['mode'];\n",
       "}\n",
       "\n",
       "mpl.figure.prototype.updated_canvas_event = function() {\n",
       "    // Called whenever the canvas gets updated.\n",
       "    this.send_message(\"ack\", {});\n",
       "}\n",
       "\n",
       "// A function to construct a web socket function for onmessage handling.\n",
       "// Called in the figure constructor.\n",
       "mpl.figure.prototype._make_on_message_function = function(fig) {\n",
       "    return function socket_on_message(evt) {\n",
       "        if (evt.data instanceof Blob) {\n",
       "            /* FIXME: We get \"Resource interpreted as Image but\n",
       "             * transferred with MIME type text/plain:\" errors on\n",
       "             * Chrome.  But how to set the MIME type?  It doesn't seem\n",
       "             * to be part of the websocket stream */\n",
       "            evt.data.type = \"image/png\";\n",
       "\n",
       "            /* Free the memory for the previous frames */\n",
       "            if (fig.imageObj.src) {\n",
       "                (window.URL || window.webkitURL).revokeObjectURL(\n",
       "                    fig.imageObj.src);\n",
       "            }\n",
       "\n",
       "            fig.imageObj.src = (window.URL || window.webkitURL).createObjectURL(\n",
       "                evt.data);\n",
       "            fig.updated_canvas_event();\n",
       "            fig.waiting = false;\n",
       "            return;\n",
       "        }\n",
       "        else if (typeof evt.data === 'string' && evt.data.slice(0, 21) == \"data:image/png;base64\") {\n",
       "            fig.imageObj.src = evt.data;\n",
       "            fig.updated_canvas_event();\n",
       "            fig.waiting = false;\n",
       "            return;\n",
       "        }\n",
       "\n",
       "        var msg = JSON.parse(evt.data);\n",
       "        var msg_type = msg['type'];\n",
       "\n",
       "        // Call the  \"handle_{type}\" callback, which takes\n",
       "        // the figure and JSON message as its only arguments.\n",
       "        try {\n",
       "            var callback = fig[\"handle_\" + msg_type];\n",
       "        } catch (e) {\n",
       "            console.log(\"No handler for the '\" + msg_type + \"' message type: \", msg);\n",
       "            return;\n",
       "        }\n",
       "\n",
       "        if (callback) {\n",
       "            try {\n",
       "                // console.log(\"Handling '\" + msg_type + \"' message: \", msg);\n",
       "                callback(fig, msg);\n",
       "            } catch (e) {\n",
       "                console.log(\"Exception inside the 'handler_\" + msg_type + \"' callback:\", e, e.stack, msg);\n",
       "            }\n",
       "        }\n",
       "    };\n",
       "}\n",
       "\n",
       "// from http://stackoverflow.com/questions/1114465/getting-mouse-location-in-canvas\n",
       "mpl.findpos = function(e) {\n",
       "    //this section is from http://www.quirksmode.org/js/events_properties.html\n",
       "    var targ;\n",
       "    if (!e)\n",
       "        e = window.event;\n",
       "    if (e.target)\n",
       "        targ = e.target;\n",
       "    else if (e.srcElement)\n",
       "        targ = e.srcElement;\n",
       "    if (targ.nodeType == 3) // defeat Safari bug\n",
       "        targ = targ.parentNode;\n",
       "\n",
       "    // jQuery normalizes the pageX and pageY\n",
       "    // pageX,Y are the mouse positions relative to the document\n",
       "    // offset() returns the position of the element relative to the document\n",
       "    var x = e.pageX - $(targ).offset().left;\n",
       "    var y = e.pageY - $(targ).offset().top;\n",
       "\n",
       "    return {\"x\": x, \"y\": y};\n",
       "};\n",
       "\n",
       "/*\n",
       " * return a copy of an object with only non-object keys\n",
       " * we need this to avoid circular references\n",
       " * http://stackoverflow.com/a/24161582/3208463\n",
       " */\n",
       "function simpleKeys (original) {\n",
       "  return Object.keys(original).reduce(function (obj, key) {\n",
       "    if (typeof original[key] !== 'object')\n",
       "        obj[key] = original[key]\n",
       "    return obj;\n",
       "  }, {});\n",
       "}\n",
       "\n",
       "mpl.figure.prototype.mouse_event = function(event, name) {\n",
       "    var canvas_pos = mpl.findpos(event)\n",
       "\n",
       "    if (name === 'button_press')\n",
       "    {\n",
       "        this.canvas.focus();\n",
       "        this.canvas_div.focus();\n",
       "    }\n",
       "\n",
       "    var x = canvas_pos.x * mpl.ratio;\n",
       "    var y = canvas_pos.y * mpl.ratio;\n",
       "\n",
       "    this.send_message(name, {x: x, y: y, button: event.button,\n",
       "                             step: event.step,\n",
       "                             guiEvent: simpleKeys(event)});\n",
       "\n",
       "    /* This prevents the web browser from automatically changing to\n",
       "     * the text insertion cursor when the button is pressed.  We want\n",
       "     * to control all of the cursor setting manually through the\n",
       "     * 'cursor' event from matplotlib */\n",
       "    event.preventDefault();\n",
       "    return false;\n",
       "}\n",
       "\n",
       "mpl.figure.prototype._key_event_extra = function(event, name) {\n",
       "    // Handle any extra behaviour associated with a key event\n",
       "}\n",
       "\n",
       "mpl.figure.prototype.key_event = function(event, name) {\n",
       "\n",
       "    // Prevent repeat events\n",
       "    if (name == 'key_press')\n",
       "    {\n",
       "        if (event.which === this._key)\n",
       "            return;\n",
       "        else\n",
       "            this._key = event.which;\n",
       "    }\n",
       "    if (name == 'key_release')\n",
       "        this._key = null;\n",
       "\n",
       "    var value = '';\n",
       "    if (event.ctrlKey && event.which != 17)\n",
       "        value += \"ctrl+\";\n",
       "    if (event.altKey && event.which != 18)\n",
       "        value += \"alt+\";\n",
       "    if (event.shiftKey && event.which != 16)\n",
       "        value += \"shift+\";\n",
       "\n",
       "    value += 'k';\n",
       "    value += event.which.toString();\n",
       "\n",
       "    this._key_event_extra(event, name);\n",
       "\n",
       "    this.send_message(name, {key: value,\n",
       "                             guiEvent: simpleKeys(event)});\n",
       "    return false;\n",
       "}\n",
       "\n",
       "mpl.figure.prototype.toolbar_button_onclick = function(name) {\n",
       "    if (name == 'download') {\n",
       "        this.handle_save(this, null);\n",
       "    } else {\n",
       "        this.send_message(\"toolbar_button\", {name: name});\n",
       "    }\n",
       "};\n",
       "\n",
       "mpl.figure.prototype.toolbar_button_onmouseover = function(tooltip) {\n",
       "    this.message.textContent = tooltip;\n",
       "};\n",
       "mpl.toolbar_items = [[\"Home\", \"Reset original view\", \"fa fa-home icon-home\", \"home\"], [\"Back\", \"Back to  previous view\", \"fa fa-arrow-left icon-arrow-left\", \"back\"], [\"Forward\", \"Forward to next view\", \"fa fa-arrow-right icon-arrow-right\", \"forward\"], [\"\", \"\", \"\", \"\"], [\"Pan\", \"Pan axes with left mouse, zoom with right\", \"fa fa-arrows icon-move\", \"pan\"], [\"Zoom\", \"Zoom to rectangle\", \"fa fa-square-o icon-check-empty\", \"zoom\"], [\"\", \"\", \"\", \"\"], [\"Download\", \"Download plot\", \"fa fa-floppy-o icon-save\", \"download\"]];\n",
       "\n",
       "mpl.extensions = [\"eps\", \"jpeg\", \"pdf\", \"png\", \"ps\", \"raw\", \"svg\", \"tif\"];\n",
       "\n",
       "mpl.default_extension = \"png\";var comm_websocket_adapter = function(comm) {\n",
       "    // Create a \"websocket\"-like object which calls the given IPython comm\n",
       "    // object with the appropriate methods. Currently this is a non binary\n",
       "    // socket, so there is still some room for performance tuning.\n",
       "    var ws = {};\n",
       "\n",
       "    ws.close = function() {\n",
       "        comm.close()\n",
       "    };\n",
       "    ws.send = function(m) {\n",
       "        //console.log('sending', m);\n",
       "        comm.send(m);\n",
       "    };\n",
       "    // Register the callback with on_msg.\n",
       "    comm.on_msg(function(msg) {\n",
       "        //console.log('receiving', msg['content']['data'], msg);\n",
       "        // Pass the mpl event to the overridden (by mpl) onmessage function.\n",
       "        ws.onmessage(msg['content']['data'])\n",
       "    });\n",
       "    return ws;\n",
       "}\n",
       "\n",
       "mpl.mpl_figure_comm = function(comm, msg) {\n",
       "    // This is the function which gets called when the mpl process\n",
       "    // starts-up an IPython Comm through the \"matplotlib\" channel.\n",
       "\n",
       "    var id = msg.content.data.id;\n",
       "    // Get hold of the div created by the display call when the Comm\n",
       "    // socket was opened in Python.\n",
       "    var element = $(\"#\" + id);\n",
       "    var ws_proxy = comm_websocket_adapter(comm)\n",
       "\n",
       "    function ondownload(figure, format) {\n",
       "        window.open(figure.imageObj.src);\n",
       "    }\n",
       "\n",
       "    var fig = new mpl.figure(id, ws_proxy,\n",
       "                           ondownload,\n",
       "                           element.get(0));\n",
       "\n",
       "    // Call onopen now - mpl needs it, as it is assuming we've passed it a real\n",
       "    // web socket which is closed, not our websocket->open comm proxy.\n",
       "    ws_proxy.onopen();\n",
       "\n",
       "    fig.parent_element = element.get(0);\n",
       "    fig.cell_info = mpl.find_output_cell(\"<div id='\" + id + \"'></div>\");\n",
       "    if (!fig.cell_info) {\n",
       "        console.error(\"Failed to find cell for figure\", id, fig);\n",
       "        return;\n",
       "    }\n",
       "\n",
       "    var output_index = fig.cell_info[2]\n",
       "    var cell = fig.cell_info[0];\n",
       "\n",
       "};\n",
       "\n",
       "mpl.figure.prototype.handle_close = function(fig, msg) {\n",
       "    var width = fig.canvas.width/mpl.ratio\n",
       "    fig.root.unbind('remove')\n",
       "\n",
       "    // Update the output cell to use the data from the current canvas.\n",
       "    fig.push_to_output();\n",
       "    var dataURL = fig.canvas.toDataURL();\n",
       "    // Re-enable the keyboard manager in IPython - without this line, in FF,\n",
       "    // the notebook keyboard shortcuts fail.\n",
       "    IPython.keyboard_manager.enable()\n",
       "    $(fig.parent_element).html('<img src=\"' + dataURL + '\" width=\"' + width + '\">');\n",
       "    fig.close_ws(fig, msg);\n",
       "}\n",
       "\n",
       "mpl.figure.prototype.close_ws = function(fig, msg){\n",
       "    fig.send_message('closing', msg);\n",
       "    // fig.ws.close()\n",
       "}\n",
       "\n",
       "mpl.figure.prototype.push_to_output = function(remove_interactive) {\n",
       "    // Turn the data on the canvas into data in the output cell.\n",
       "    var width = this.canvas.width/mpl.ratio\n",
       "    var dataURL = this.canvas.toDataURL();\n",
       "    this.cell_info[1]['text/html'] = '<img src=\"' + dataURL + '\" width=\"' + width + '\">';\n",
       "}\n",
       "\n",
       "mpl.figure.prototype.updated_canvas_event = function() {\n",
       "    // Tell IPython that the notebook contents must change.\n",
       "    IPython.notebook.set_dirty(true);\n",
       "    this.send_message(\"ack\", {});\n",
       "    var fig = this;\n",
       "    // Wait a second, then push the new image to the DOM so\n",
       "    // that it is saved nicely (might be nice to debounce this).\n",
       "    setTimeout(function () { fig.push_to_output() }, 1000);\n",
       "}\n",
       "\n",
       "mpl.figure.prototype._init_toolbar = function() {\n",
       "    var fig = this;\n",
       "\n",
       "    var nav_element = $('<div/>')\n",
       "    nav_element.attr('style', 'width: 100%');\n",
       "    this.root.append(nav_element);\n",
       "\n",
       "    // Define a callback function for later on.\n",
       "    function toolbar_event(event) {\n",
       "        return fig.toolbar_button_onclick(event['data']);\n",
       "    }\n",
       "    function toolbar_mouse_event(event) {\n",
       "        return fig.toolbar_button_onmouseover(event['data']);\n",
       "    }\n",
       "\n",
       "    for(var toolbar_ind in mpl.toolbar_items){\n",
       "        var name = mpl.toolbar_items[toolbar_ind][0];\n",
       "        var tooltip = mpl.toolbar_items[toolbar_ind][1];\n",
       "        var image = mpl.toolbar_items[toolbar_ind][2];\n",
       "        var method_name = mpl.toolbar_items[toolbar_ind][3];\n",
       "\n",
       "        if (!name) { continue; };\n",
       "\n",
       "        var button = $('<button class=\"btn btn-default\" href=\"#\" title=\"' + name + '\"><i class=\"fa ' + image + ' fa-lg\"></i></button>');\n",
       "        button.click(method_name, toolbar_event);\n",
       "        button.mouseover(tooltip, toolbar_mouse_event);\n",
       "        nav_element.append(button);\n",
       "    }\n",
       "\n",
       "    // Add the status bar.\n",
       "    var status_bar = $('<span class=\"mpl-message\" style=\"text-align:right; float: right;\"/>');\n",
       "    nav_element.append(status_bar);\n",
       "    this.message = status_bar[0];\n",
       "\n",
       "    // Add the close button to the window.\n",
       "    var buttongrp = $('<div class=\"btn-group inline pull-right\"></div>');\n",
       "    var button = $('<button class=\"btn btn-mini btn-primary\" href=\"#\" title=\"Stop Interaction\"><i class=\"fa fa-power-off icon-remove icon-large\"></i></button>');\n",
       "    button.click(function (evt) { fig.handle_close(fig, {}); } );\n",
       "    button.mouseover('Stop Interaction', toolbar_mouse_event);\n",
       "    buttongrp.append(button);\n",
       "    var titlebar = this.root.find($('.ui-dialog-titlebar'));\n",
       "    titlebar.prepend(buttongrp);\n",
       "}\n",
       "\n",
       "mpl.figure.prototype._root_extra_style = function(el){\n",
       "    var fig = this\n",
       "    el.on(\"remove\", function(){\n",
       "\tfig.close_ws(fig, {});\n",
       "    });\n",
       "}\n",
       "\n",
       "mpl.figure.prototype._canvas_extra_style = function(el){\n",
       "    // this is important to make the div 'focusable\n",
       "    el.attr('tabindex', 0)\n",
       "    // reach out to IPython and tell the keyboard manager to turn it's self\n",
       "    // off when our div gets focus\n",
       "\n",
       "    // location in version 3\n",
       "    if (IPython.notebook.keyboard_manager) {\n",
       "        IPython.notebook.keyboard_manager.register_events(el);\n",
       "    }\n",
       "    else {\n",
       "        // location in version 2\n",
       "        IPython.keyboard_manager.register_events(el);\n",
       "    }\n",
       "\n",
       "}\n",
       "\n",
       "mpl.figure.prototype._key_event_extra = function(event, name) {\n",
       "    var manager = IPython.notebook.keyboard_manager;\n",
       "    if (!manager)\n",
       "        manager = IPython.keyboard_manager;\n",
       "\n",
       "    // Check for shift+enter\n",
       "    if (event.shiftKey && event.which == 13) {\n",
       "        this.canvas_div.blur();\n",
       "        event.shiftKey = false;\n",
       "        // Send a \"J\" for go to next cell\n",
       "        event.which = 74;\n",
       "        event.keyCode = 74;\n",
       "        manager.command_mode();\n",
       "        manager.handle_keydown(event);\n",
       "    }\n",
       "}\n",
       "\n",
       "mpl.figure.prototype.handle_save = function(fig, msg) {\n",
       "    fig.ondownload(fig, null);\n",
       "}\n",
       "\n",
       "\n",
       "mpl.find_output_cell = function(html_output) {\n",
       "    // Return the cell and output element which can be found *uniquely* in the notebook.\n",
       "    // Note - this is a bit hacky, but it is done because the \"notebook_saving.Notebook\"\n",
       "    // IPython event is triggered only after the cells have been serialised, which for\n",
       "    // our purposes (turning an active figure into a static one), is too late.\n",
       "    var cells = IPython.notebook.get_cells();\n",
       "    var ncells = cells.length;\n",
       "    for (var i=0; i<ncells; i++) {\n",
       "        var cell = cells[i];\n",
       "        if (cell.cell_type === 'code'){\n",
       "            for (var j=0; j<cell.output_area.outputs.length; j++) {\n",
       "                var data = cell.output_area.outputs[j];\n",
       "                if (data.data) {\n",
       "                    // IPython >= 3 moved mimebundle to data attribute of output\n",
       "                    data = data.data;\n",
       "                }\n",
       "                if (data['text/html'] == html_output) {\n",
       "                    return [cell, data, j];\n",
       "                }\n",
       "            }\n",
       "        }\n",
       "    }\n",
       "}\n",
       "\n",
       "// Register the function which deals with the matplotlib target/channel.\n",
       "// The kernel may be null if the page has been refreshed.\n",
       "if (IPython.notebook.kernel != null) {\n",
       "    IPython.notebook.kernel.comm_manager.register_target('matplotlib', mpl.mpl_figure_comm);\n",
       "}\n"
      ],
      "text/plain": [
       "<IPython.core.display.Javascript object>"
      ]
     },
     "metadata": {},
     "output_type": "display_data"
    },
    {
     "data": {
      "text/html": [
       "<img src=\"data:image/png;base64,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\" width=\"899.9999865889552\">"
      ],
      "text/plain": [
       "<IPython.core.display.HTML object>"
      ]
     },
     "metadata": {},
     "output_type": "display_data"
    },
    {
     "data": {
      "application/vnd.jupyter.widget-view+json": {
       "model_id": "a5467f75378c43b1a6a6b7a312a87537",
       "version_major": 2,
       "version_minor": 0
      },
      "text/plain": [
       "Button(description='Update', style=ButtonStyle())"
      ]
     },
     "metadata": {},
     "output_type": "display_data"
    },
    {
     "data": {
      "application/vnd.jupyter.widget-view+json": {
       "model_id": "745f2d78f3324a31965eaefafb8bf4bb",
       "version_major": 2,
       "version_minor": 0
      },
      "text/plain": [
       "IntText(value=30, description='Epoch history')"
      ]
     },
     "metadata": {},
     "output_type": "display_data"
    }
   ],
   "source": [
    "matplotlib.rcParams.update({'font.size': 22})\n",
    "fig3 = plt.figure(figsize = (9,6))\n",
    "ax3 = fig3.subplots()\n",
    "#matplotlib.pyplot.ion()\n",
    "\n",
    "\n",
    "button = widgets.Button(description=\"Update\")\n",
    "show_epochs = widgets.IntText(description='Epoch history',disabled=False)\n",
    "show_epochs.value = 30\n",
    "\n",
    "def on_button_clicked(b):\n",
    "    with open('../loss.log') as f:\n",
    "        content = f.readlines()\n",
    "    content = [float(x.strip()) for x in content]\n",
    "    xmin = 0\n",
    "    xmax = len(content)\n",
    "    if xmax > show_epochs.value:\n",
    "        xmin = xmax-show_epochs.value\n",
    "        content = content[xmin:xmax]\n",
    "    ymin = np.min(content)\n",
    "    ymax = np.max(content)\n",
    "    x_axis = np.linspace(xmin, xmax-1, num=xmax-xmin)\n",
    "\n",
    "    #matplotlib.pyplot.gcf().clear()\n",
    "    ax3.clear()\n",
    "    ax3.set_xlim(xmin, xmax)\n",
    "    yaxismin = ymin - (ymax-ymin)/3\n",
    "    if yaxismin < 0:\n",
    "        yaxismin = 0\n",
    "    ax3.set_ylim(ymin - (ymax-ymin)/3, ymax)\n",
    "    ax3.plot(x_axis, content, linewidth=5.0)\n",
    "    ax3.xaxis.set_major_locator(matplotlib.ticker.MaxNLocator(integer=True))\n",
    "    ax3.grid(linestyle='-', linewidth='0.5', color='red')\n",
    "    fig3.canvas.draw()\n",
    "\n",
    "    \n",
    "on_button_clicked(None)\n",
    "fig3.show()\n",
    "\n",
    "display(button)\n",
    "display(show_epochs)\n",
    "\n",
    "button.on_click(on_button_clicked)\n",
    "show_epochs.observe(on_button_clicked)"
   ]
  },
  {
   "cell_type": "code",
   "execution_count": 5,
   "metadata": {},
   "outputs": [
    {
     "data": {
      "text/markdown": [
       "## Latest model is: ../weights/model_7.pth"
      ],
      "text/plain": [
       "<IPython.core.display.Markdown object>"
      ]
     },
     "metadata": {},
     "output_type": "display_data"
    }
   ],
   "source": [
    "class args():\n",
    "    num_classes = 1\n",
    "    batch_size = 1\n",
    "    routing = 'EM_routing'\n",
    "    loss = 'spread_loss̈́'\n",
    "    use_recon = 0.001\n",
    "    r = 3\n",
    "    num_workers = 1\n",
    "    disable_encoder = False\n",
    "    disable_recon = False\n",
    "    disable_dae = False\n",
    "\n",
    "A, AA, B, C, D, E, r = 32, 64, 16, 16, 16, args.num_classes, args.r # a small CapsNet\n",
    "\n",
    "model = mcaps.CapsNet(args, A, AA, B, C, D, E, r, h=4)\n",
    "\n",
    "LatestFile = max(glob.iglob(\"../weights/model*.pth\"),key=os.path.getctime)\n",
    "\n",
    "display(Markdown('## Latest model is: '+LatestFile))\n",
    "\n",
    "model.load_state_dict(torch.load(LatestFile))\n",
    "model.cpu()\n",
    "\n",
    "self = model"
   ]
  },
  {
   "cell_type": "markdown",
   "metadata": {},
   "source": [
    "## Ground Truth"
   ]
  },
  {
   "cell_type": "code",
   "execution_count": 6,
   "metadata": {
    "scrolled": false
   },
   "outputs": [
    {
     "data": {
      "application/vnd.jupyter.widget-view+json": {
       "model_id": "5577d79bf5594dbd9c3348da7eb0353b",
       "version_major": 2,
       "version_minor": 0
      },
      "text/plain": [
       "HBox(children=(Output(layout=Layout(border='1px solid black', width='100%')), Output(layout=Layout(border='1px…"
      ]
     },
     "metadata": {},
     "output_type": "display_data"
    },
    {
     "data": {
      "application/vnd.jupyter.widget-view+json": {
       "model_id": "89e78ee04f5a4ba5b47da1e98ac86ee7",
       "version_major": 2,
       "version_minor": 0
      },
      "text/plain": [
       "VBox(children=(HBox(children=(FloatText(value=1.0, description='Contrast', layout=Layout(width='100%'), step=0…"
      ]
     },
     "metadata": {},
     "output_type": "display_data"
    }
   ],
   "source": [
    "def updateOutputWidget(widget, array, color=\"L\"):\n",
    "    f = BytesIO()\n",
    "    PIL.Image.fromarray(np.uint8(array*255), mode=color).convert(color).save(f, 'png')\n",
    "    widget.clear_output()\n",
    "    with widget:\n",
    "        display(Image(data=f.getvalue(), width='100%'))\n",
    "\n",
    "ground_truth_widget_left = widgets.Output(layout=Layout(border='1px solid black', width='100%'))\n",
    "ground_truth_widget_right = widgets.Output(layout=Layout(border='1px solid black', width='100%'))\n",
    "ground_truth_widget = HBox([ground_truth_widget_left, ground_truth_widget_right], layout=Layout(width='100%'))\n",
    "\n",
    "contrast_left = widgets.FloatText(layout={'width': '100%'},description='Contrast',disabled=False, value=1, step=0.01)\n",
    "contrast_right = widgets.FloatText(layout={'width': '100%'},description='Contrast',disabled=False, value=1, step=0.01)\n",
    "brightness_left = widgets.FloatText(layout={'width': '100%'},description='Brightness',disabled=False, value=0, step=0.01)\n",
    "brightness_right = widgets.FloatText(layout={'width': '100%'},description='Brightness',disabled=False, value=0, step=0.01)\n",
    "brightness_contrast_widget = VBox([  HBox([contrast_left, contrast_right],layout=Layout(width='100%')) ,  HBox([brightness_left, brightness_right],layout=Layout(width='100%')) ] )\n",
    "\n",
    "display(ground_truth_widget)\n",
    "display(brightness_contrast_widget)"
   ]
  },
  {
   "cell_type": "markdown",
   "metadata": {},
   "source": [
    "## Activations of convolutional layers and primary capsules layer"
   ]
  },
  {
   "cell_type": "code",
   "execution_count": 7,
   "metadata": {
    "scrolled": false
   },
   "outputs": [
    {
     "data": {
      "application/vnd.jupyter.widget-view+json": {
       "model_id": "82801dff57344b5787ac94eb632af95c",
       "version_major": 2,
       "version_minor": 0
      },
      "text/plain": [
       "VBox(children=(Output(layout=Layout(width='100%')), Output(layout=Layout(width='100%')), HBox(children=(Output…"
      ]
     },
     "metadata": {},
     "output_type": "display_data"
    }
   ],
   "source": [
    "layer1_widget = widgets.Output(layout=Layout(width='100%'))\n",
    "layer2_widget = widgets.Output(layout=Layout(width='100%'))\n",
    "layer3_widget = widgets.Output(layout=Layout(width='100%'))\n",
    "layer4_widget = widgets.Output(layout=Layout(width='100%'))\n",
    "layer5_widget = widgets.Output(layout=Layout(width='100%'))\n",
    "#layer12_widget = HBox([layer1_widget, layer2_widget], layout=Layout(width='100%'))\n",
    "l345_widget = HBox([layer3_widget, layer4_widget, layer5_widget])\n",
    "layer_widget = VBox([layer1_widget, layer2_widget, l345_widget], layout=Layout(width='100%'))\n",
    "display(layer_widget)\n",
    "\n",
    "\n",
    "\n",
    "def makeCombinedImage(img, scale=1):\n",
    "    if scale != 1:\n",
    "        img = torch.nn.functional.interpolate(img, scale_factor=scale, mode='nearest')\n",
    "    img = img.squeeze().unsqueeze(1)\n",
    "    return utils.make_grid(img.data, nrow=int(img.shape[0] ** 0.5), normalize=True,range=(0, 1)).cpu().numpy()\n",
    "    \n",
    "def forward(self, x, lambda_, labels=None, draw=True):\n",
    "    if x is not None:\n",
    "        x = F.relu(self.bn1(self.conv1(x)))\n",
    "\n",
    "        if draw is True:\n",
    "            grid_picture = makeCombinedImage(x, scale=4)\n",
    "            updateOutputWidget(layer1_widget, grid_picture.transpose(1,2,0), \"RGB\")\n",
    "\n",
    "        x = F.max_pool2d(x, 2, 2, 1)\n",
    "        x = F.relu(self.bn2(self.conv2(x)))\n",
    "        \n",
    "        if draw is True:\n",
    "            grid_picture = makeCombinedImage(x, scale=8)\n",
    "            updateOutputWidget(layer2_widget, grid_picture.transpose(1,2,0), \"RGB\")\n",
    "        \n",
    "        #x = F.relu(self.bn3(self.conv3(x)))\n",
    "        #if draw is True:\n",
    "        #    grid_picture = makeCombinedImage(x)\n",
    "        #    updateOutputWidget(layer3_widget, grid_picture.transpose(1,2,0), \"RGB\")\n",
    "        \n",
    "        p, a = self.primary_caps(x)  # b,32*(4*4+1),12,12\n",
    "\n",
    "        if draw is True:\n",
    "            grid_picture = makeCombinedImage(a, scale=16)\n",
    "            updateOutputWidget(layer3_widget, grid_picture.transpose(1,2,0), \"RGB\")\n",
    "            \n",
    "        p, a = self.convcaps1(lambda_, p, a)  # b,32*(4*4+1),5,5\n",
    "\n",
    "        if draw is True:\n",
    "            grid_picture = makeCombinedImage(a, scale=16)\n",
    "            updateOutputWidget(layer4_widget, grid_picture.transpose(1,2,0), \"RGB\")\n",
    "\n",
    "        p, a = self.convcaps2(lambda_, p, a)  # b,32*(4*4+1),3,3\n",
    "\n",
    "        if draw is True:\n",
    "            grid_picture = makeCombinedImage(a, scale=16)\n",
    "            updateOutputWidget(layer5_widget, grid_picture.transpose(1,2,0), \"RGB\")\n",
    "        \n",
    "        p, a = self.classcaps(lambda_, p, a)  # b,10*16+10\n",
    "\n",
    "        p = p.squeeze()\n",
    "\n",
    "        # Temporary when batch size = 1\n",
    "        if len(p.shape) == 1:\n",
    "            p = p.unsqueeze(0)\n",
    "\n",
    "        xyz = p[:, (3,7,11)]\n",
    "        xyz = self.coord_add_encoder(xyz)\n",
    "        p[:, (3,7,11)] = xyz * 1.0\n",
    "        \n",
    "    else:\n",
    "        p = labels\n",
    "\n",
    "    if not self.args.disable_recon:\n",
    "        reconstructions = self.decoder(p)\n",
    "    else:\n",
    "        reconstructions = 0\n",
    "\n",
    "    return p, reconstructions"
   ]
  },
  {
   "cell_type": "markdown",
   "metadata": {},
   "source": [
    "## 4x4 pose output"
   ]
  },
  {
   "cell_type": "code",
   "execution_count": 8,
   "metadata": {
    "scrolled": false
   },
   "outputs": [
    {
     "data": {
      "application/vnd.jupyter.widget-view+json": {
       "model_id": "85c5fff94dd4456f8a15911c7202fdb1",
       "version_major": 2,
       "version_minor": 0
      },
      "text/plain": [
       "HBox(children=(VBox(children=(HBox(children=(Output(layout=Layout(width='100%')), Output(layout=Layout(width='…"
      ]
     },
     "metadata": {},
     "output_type": "display_data"
    },
    {
     "data": {
      "application/vnd.jupyter.widget-view+json": {
       "model_id": "0120f4f8deda4f97b26ce1c8c73eee42",
       "version_major": 2,
       "version_minor": 0
      },
      "text/plain": [
       "HBox(children=(Label(value='Output', layout=Layout(width='100%')), Label(value='Label', layout=Layout(width='1…"
      ]
     },
     "metadata": {},
     "output_type": "display_data"
    },
    {
     "data": {
      "application/vnd.jupyter.widget-view+json": {
       "model_id": "94c38772fc324c9b95c6bfd6abac613e",
       "version_major": 2,
       "version_minor": 0
      },
      "text/plain": [
       "HBox(children=(Textarea(value='', layout=Layout(height='90px', width='100%')), Textarea(value='', layout=Layou…"
      ]
     },
     "metadata": {},
     "output_type": "display_data"
    }
   ],
   "source": [
    "truth_widget_left = widgets.Output(layout=Layout(width='100%'))\n",
    "truth_widget_right = widgets.Output(layout=Layout(width='100%'))\n",
    "recon_widget_left = widgets.Output(layout=Layout(width='100%'))\n",
    "recon_widget_right = widgets.Output(layout=Layout(width='100%'))\n",
    "truth_widget = HBox([truth_widget_left, truth_widget_right], layout=Layout(width='100%'))\n",
    "recon_widget = HBox([recon_widget_left, recon_widget_right], layout=Layout(width='100%'))\n",
    "step_widget = VBox([truth_widget, recon_widget], layout=Layout(width='100%'))\n",
    "names = ['p0', 'p1', 'p2', 'p3', 'p4', 'p5', 'p6', 'p7', 'p8', 'p9', 'p10', 'p11', 'p12', 'p13', 'p14', 'p15']\n",
    "pose_sliders = [FloatSlider(min=-100, max=100, layout={'height': '50%'}, step=0.00001, description=i, orientation='horizontal') for i in names]\n",
    "button_next = widgets.Button(description=\"Next\", layout={'height': '50%'})\n",
    "pose_sliders.append(button_next)\n",
    "sliders_widget = VBox(pose_sliders, layout=Layout(width='60%'))\n",
    "step_slider_widget = HBox([step_widget, sliders_widget],layout=Layout(width='100%'))\n",
    "pose_output = widgets.Textarea(layout={'width': '100%','height': '90px'},disabled=False)\n",
    "pose_label = widgets.Textarea(layout={'width': '100%','height': '90px'},disabled=False)\n",
    "pose_error = widgets.Textarea(layout={'width': '100%','height': '90px'},disabled=False)\n",
    "\n",
    "\n",
    "label_widget = HBox([widgets.Label(layout={'width': '100%'},value=\"Output\"), widgets.Label(layout={'width': '100%'},value=\"Label\"), widgets.Label(layout={'width': '100%'},value=\"Error\")])\n",
    "pose_widget = HBox([pose_output, pose_label, pose_error])\n",
    "\n",
    "the_time = time.time()\n",
    "do_update = True\n",
    "\n",
    "display(step_slider_widget)\n",
    "display(label_widget)\n",
    "display(pose_widget)\n",
    "#display(pose_output)\n",
    "#display(pose_label)\n",
    "#display(pose_error)\n",
    "\n",
    "# Initialize Transform Network (from Pose to Quaternion)\n",
    "\"\"\"\n",
    "import sys\n",
    "import pyrr\n",
    "sys.path.append('../PoseToQuaternionNetwork/model')\n",
    "from transform import PoseToQuatNet\n",
    "transform = PoseToQuatNet()\n",
    "transform.load_state_dict(torch.load('../PoseToQuaternionNetwork/weights/model.pth'))\n",
    "transform.cpu()\n",
    "\"\"\"\n",
    "\n",
    "# Initialize view and projection for coord system rendering\n",
    "w_width, w_height = 800, 800\n",
    "focus_distance = 1.9\n",
    "view = pyrr.matrix44.create_from_translation(pyrr.Vector3([0.0, 0.0, -focus_distance])).transpose()\n",
    "projection = pyrr.matrix44.create_perspective_projection_matrix(65.0, w_width / w_height, 0.1, 100.0).transpose()\n",
    "\"\"\"\n",
    "def plotPoint(pnt, color_idx, img_left, img_right):\n",
    "    model_view = pyrr.matrix44.multiply(view, pnt)\n",
    "    model_projection = pyrr.matrix44.multiply(projection, model_view)\n",
    "    scaling = model_projection[3]\n",
    "    pix_x = img_left.shape[0]/2 + (model_projection[0]/scaling) * img_left.shape[0]/2\n",
    "    if pix_x >= img_left.shape[0]: pix_x = img_left.shape[0]-1\n",
    "    if pix_x < 0: pix_x = 0\n",
    "    pix_y = img_left.shape[1]/2 - (model_projection[1]/scaling) * img_left.shape[1]/2\n",
    "    if pix_y >= img_left.shape[1]: pix_y = img_left.shape[1]-1\n",
    "    if pix_y < 0: pix_y = 0\n",
    "    img_left[int(pix_y),int(pix_x),color_idx] = 1.0\n",
    "    img_right[int(pix_y),int(pix_x),color_idx] = 1.0\n",
    "\"\"\"\n",
    "def plotPoint(pnt, color_idx, img):\n",
    "    model_view = pyrr.matrix44.multiply(view, pnt)\n",
    "    model_projection = pyrr.matrix44.multiply(projection, model_view)\n",
    "    scaling = model_projection[3]\n",
    "    pix_x = img.shape[0]/2 + (model_projection[0]/scaling) * img.shape[0]/2\n",
    "    if pix_x >= img.shape[0]: pix_x = img.shape[0]-1\n",
    "    if pix_x < 0: pix_x = 0\n",
    "    pix_y = img.shape[1]/2 - (model_projection[1]/scaling) * img.shape[1]/2\n",
    "    if pix_y >= img.shape[1]: pix_y = img.shape[1]-1\n",
    "    if pix_y < 0: pix_y = 0\n",
    "    img[int(pix_y),int(pix_x),color_idx] = 1.0\n",
    "    \n",
    "eye_distance = 0.5\n",
    "focus_distance = 1.9\n",
    "eye_angle = eye_distance/focus_distance\n",
    "right_eye_transform = pyrr.Matrix44.from_y_rotation(-eye_angle/2)\n",
    "left_eye_transform = pyrr.Matrix44.from_y_rotation(eye_angle/2)\n",
    "    \n",
    "def plotCoordSystemAxis(pose44, axis_idx, img):\n",
    "    pnt = pyrr.vector4.create(0.0, 0.0, 0.0, 1.0)\n",
    "    for i in range(50):\n",
    "        pnt[axis_idx] = i*0.01\n",
    "        point = pyrr.matrix44.multiply(pyrr.Matrix44(pose44), pnt) #.transpose()\n",
    "        plotPoint(point, axis_idx, img)\n",
    "\n",
    "pose = 0\n",
    "lambda_ = torch.tensor([1.0])\n",
    "\n",
    "def on_value_change(change):\n",
    "    global the_time\n",
    "    global do_update\n",
    "    global pose\n",
    "    global ground_truth_labels\n",
    "    global imgs\n",
    "    global right_eye_transform\n",
    "    global left_eye_transform\n",
    "\n",
    "    if not do_update and change is not None:\n",
    "        return\n",
    "\n",
    "    if (time.time()-the_time) < 0.2:\n",
    "        return\n",
    "    the_time = time.time()\n",
    "    \n",
    "    for i in range(len(pose_sliders)-1):\n",
    "        pose[:,i] = pose_sliders[i].value\n",
    "    \n",
    "    p, reconstruction = forward(self, None, None, labels=pose)\n",
    "\n",
    "    imgs_sliced = imgs[:,[0,3],...]\n",
    "    reconstruction = reconstruction.view_as(imgs_sliced)\n",
    "\n",
    "    recon_left = reconstruction.data[:,0,:,:].squeeze().cpu().numpy()\n",
    "    recon_right = reconstruction.data[:,1,:,:].squeeze().cpu().numpy()\n",
    "\n",
    "    #vec7 = transform.forward(pose)\n",
    "    #quat = reff[0,3:]\n",
    "    #mat44 = pyrr.Matrix44.from_quaternion(quat)\n",
    "    #mat44[3,:][0:3] = reff[0,:3]\n",
    "    #print(mat44)\n",
    "    #kaj = mat44.reshape(-1)\n",
    "    #print(kaj)\n",
    "    #print(kaj.shape)\n",
    "    \n",
    "    mat44 = util.matAffine_from_matMinRep(pose.data)\n",
    "\n",
    "    recon_left = np.concatenate((recon_left[:,:,None],recon_left[:,:,None],recon_left[:,:,None]), axis=2)\n",
    "    recon_right = np.concatenate((recon_right[:,:,None],recon_right[:,:,None],recon_right[:,:,None]), axis=2)\n",
    "\n",
    "    pose_left = pyrr.Matrix44(mat44)*left_eye_transform\n",
    "    plotCoordSystemAxis(pose_left, 0, recon_left)\n",
    "    plotCoordSystemAxis(pose_left, 1, recon_left)\n",
    "    plotCoordSystemAxis(pose_left, 2, recon_left)\n",
    "\n",
    "    pose_right = pyrr.Matrix44(mat44)*right_eye_transform\n",
    "    plotCoordSystemAxis(pose_right, 0, recon_right)\n",
    "    plotCoordSystemAxis(pose_right, 1, recon_right)\n",
    "    plotCoordSystemAxis(pose_right, 2, recon_right)\n",
    "    \n",
    "    updateOutputWidget(recon_widget_left, recon_left, \"RGB\")\n",
    "    updateOutputWidget(recon_widget_right, recon_right, \"RGB\")\n",
    "\n",
    "def showDataImage(next_data, steps=0):\n",
    "    global ground_truth_labels\n",
    "    global imgs\n",
    "    global do_update\n",
    "    global ground_truth_widget\n",
    "    global pose\n",
    "    do_update = False\n",
    "    \n",
    "    image = util.split_in_channels(next_data[0])\n",
    "    \n",
    "    ground_truth_labels = next_data[1]\n",
    "    imgs = Variable(torch.from_numpy(image)).cpu()\n",
    "    pose, reco = forward(self, imgs, lambda_, draw=True)\n",
    "\n",
    "    # Print matrices in textareas\n",
    "    m_l = util.matMinRep_from_qvec(ground_truth_labels.float())\n",
    "    m_l = util.matAffine_from_matMinRep(m_l)\n",
    "    m_o = util.matAffine_from_matMinRep(pose.data.cpu())\n",
    "    pose_label.value = util.matrixString_from_matAffine(m_l)\n",
    "    pose_output.value = util.matrixString_from_matAffine(m_o)\n",
    "    pose_error.value = util.matrixString_from_matAffine(m_o - m_l)\n",
    "\n",
    "    #pose_transformed = transform.forward(pose)\n",
    "    #pose_label.value = str(ground_truth_labels.float().numpy()[0,:])\n",
    "    #pose_output.value = str(transform.forward(p).data.cpu().numpy()[0,:])\n",
    "\n",
    "    img_conv_left = util.applyBrightnessAndContrast(imgs[0,0,:,:].squeeze().numpy(), brightness_left.value, contrast_left.value)\n",
    "    img_conv_right = util.applyBrightnessAndContrast(imgs[0,2,:,:].squeeze().numpy(), brightness_right.value, contrast_right.value)\n",
    "        \n",
    "    updateOutputWidget(ground_truth_widget_left, img_conv_left)\n",
    "    updateOutputWidget(ground_truth_widget_right, img_conv_right)\n",
    "\n",
    "    \n",
    "    # Plot coordinate systems on \"truth\" images\n",
    "    mat44 = util.matAffine_from_matMinRep(pose.data)\n",
    "    truth_left = imgs[0,0,:,:].squeeze().numpy()\n",
    "    truth_left = np.concatenate((truth_left[:,:,None],truth_left[:,:,None],truth_left[:,:,None]), axis=2)\n",
    "    pose_left = pyrr.Matrix44(mat44)*left_eye_transform\n",
    "    plotCoordSystemAxis(pose_left, 0, truth_left)\n",
    "    plotCoordSystemAxis(pose_left, 1, truth_left)\n",
    "    plotCoordSystemAxis(pose_left, 2, truth_left)\n",
    "    truth_right = imgs[0,2,:,:].squeeze().numpy()\n",
    "    truth_right = np.concatenate((truth_right[:,:,None],truth_right[:,:,None],truth_right[:,:,None]), axis=2)\n",
    "    pose_right = pyrr.Matrix44(mat44)*right_eye_transform\n",
    "    plotCoordSystemAxis(pose_right, 0, truth_right)\n",
    "    plotCoordSystemAxis(pose_right, 1, truth_right)\n",
    "    plotCoordSystemAxis(pose_right, 2, truth_right)\n",
    "    \n",
    "    updateOutputWidget(truth_widget_left, truth_left, \"RGB\")\n",
    "    updateOutputWidget(truth_widget_right, truth_right, \"RGB\")\n",
    "\n",
    "    if steps == 0:\n",
    "        for i in range(len(pose_sliders)-1):\n",
    "            pose_sliders[i].max = pose[:,i]\n",
    "            pose_sliders[i].min = pose[:,i]\n",
    "    else:\n",
    "        old = []\n",
    "        for i in range(len(pose_sliders)-1):\n",
    "            old.append(pose_sliders[i].value)\n",
    "            if pose[:,i] > pose_sliders[i].max:\n",
    "                pose_sliders[i].max = pose[:,i]\n",
    "            elif pose[:,i] < pose_sliders[i].min:\n",
    "                pose_sliders[i].min = pose[:,i]\n",
    "\n",
    "        delta = pose[0,:].data.cpu().numpy() - old\n",
    "        delta /= steps\n",
    "\n",
    "        for steps in range(steps):\n",
    "            for i in range(len(pose_sliders)-1):\n",
    "                pose_sliders[i].value += delta[i]\n",
    "            on_value_change(None)\n",
    "            time.sleep(0.5)\n",
    "            \n",
    "    for i in range(len(pose_sliders)-1):\n",
    "        pose_sliders[i].value = pose[:,i]\n",
    "    on_value_change(None)\n",
    "    do_update = True\n",
    "\n",
    "train_dataset = util.MyImageFolder(root='../../../data/dumps/', transform=transforms.ToTensor(), target_transform=transforms.ToTensor())\n",
    "train_loader = torch.utils.data.DataLoader(dataset=train_dataset,batch_size=args.batch_size,num_workers=args.num_workers,shuffle=True)\n",
    "data_iter = iter(train_loader)\n",
    "\n",
    "def on_next_button_clicked(b):\n",
    "    next_data = next(data_iter)\n",
    "    showDataImage(next_data, steps=5)\n",
    "\n",
    "button_next.on_click(on_next_button_clicked)\n",
    "\n",
    "next_data = next(data_iter)\n",
    "showDataImage(next_data, steps=0)\n",
    "\n",
    "for i in range(len(pose_sliders)):\n",
    "    pose_sliders[i].observe(on_value_change)"
   ]
  },
  {
   "cell_type": "code",
   "execution_count": null,
   "metadata": {},
   "outputs": [],
   "source": []
  }
 ],
 "metadata": {
  "kernelspec": {
   "display_name": "Python 3",
   "language": "python",
   "name": "python3"
  },
  "language_info": {
   "codemirror_mode": {
    "name": "ipython",
    "version": 3
   },
   "file_extension": ".py",
   "mimetype": "text/x-python",
   "name": "python",
   "nbconvert_exporter": "python",
   "pygments_lexer": "ipython3",
   "version": "3.6.6"
  },
  "widgets": {
   "application/vnd.jupyter.widget-state+json": {
    "state": {
     "02a95245f28f48e69eda3fb3bd438d67": {
      "model_module_version": "^2.1.4",
      "state": {
       "value": "<table style=\"width:100%\">\n                <thead>\n                    <tr>\n                        <th colspan=\"2\">\n                        Could not create model:\n                        </th>\n                    </tr>\n                </thead>\n                <tbody>\n                    <tr>\n                        <td>Model name</td>\n                        <td> undefined </td>\n                    </tr>\n                    <tr>\n                        <td>Model module</td>\n                        <td> undefined </td>\n                    </tr>\n                    <tr>\n                        <td>Model module version</td>\n                        <td> undefined </td>\n                    </tr>\n                <tbody>\n                <tfoot>\n                    <tr>\n                        <th colspan=\"2\">\n                        Class undefined not found in registry \n                        </th>\n                    </tr>\n                </tfoot>\n                </table>"
      }
     },
     "086adac005c04b4190a432ca55b65c08": {
      "model_module_version": "^2.1.4",
      "state": {
       "children": [
        "IPY_MODEL_5ddce768a0cd44fcb6a02f55d97511c0",
        "IPY_MODEL_7b2a75f21e23408ba72e5f04d40c4ae0"
       ],
       "value": "<table style=\"width:100%\">\n                <thead>\n                    <tr>\n                        <th colspan=\"2\">\n                        Could not create model:\n                        </th>\n                    </tr>\n                </thead>\n                <tbody>\n                    <tr>\n                        <td>Model name</td>\n                        <td> undefined </td>\n                    </tr>\n                    <tr>\n                        <td>Model module</td>\n                        <td> undefined </td>\n                    </tr>\n                    <tr>\n                        <td>Model module version</td>\n                        <td> undefined </td>\n                    </tr>\n                <tbody>\n                <tfoot>\n                    <tr>\n                        <th colspan=\"2\">\n                        Class undefined not found in registry \n                        </th>\n                    </tr>\n                </tfoot>\n                </table>"
      }
     },
     "09a94446cf9d4aaea5de8fee2478bfe3": {
      "model_module_version": "^2.1.4",
      "state": {
       "value": "<table style=\"width:100%\">\n                <thead>\n                    <tr>\n                        <th colspan=\"2\">\n                        Could not create model:\n                        </th>\n                    </tr>\n                </thead>\n                <tbody>\n                    <tr>\n                        <td>Model name</td>\n                        <td> undefined </td>\n                    </tr>\n                    <tr>\n                        <td>Model module</td>\n                        <td> undefined </td>\n                    </tr>\n                    <tr>\n                        <td>Model module version</td>\n                        <td> undefined </td>\n                    </tr>\n                <tbody>\n                <tfoot>\n                    <tr>\n                        <th colspan=\"2\">\n                        Class undefined not found in registry \n                        </th>\n                    </tr>\n                </tfoot>\n                </table>"
      }
     },
     "0a266fd5169140bab25a3a38a8f50fb1": {
      "model_module_version": "^2.1.4",
      "state": {
       "children": [
        "IPY_MODEL_bc40a99774e645d6a95f8c5424ed326e",
        "IPY_MODEL_43698cd83e434735970d098c0c18c682"
       ],
       "value": "<table style=\"width:100%\">\n                <thead>\n                    <tr>\n                        <th colspan=\"2\">\n                        Could not create model:\n                        </th>\n                    </tr>\n                </thead>\n                <tbody>\n                    <tr>\n                        <td>Model name</td>\n                        <td> undefined </td>\n                    </tr>\n                    <tr>\n                        <td>Model module</td>\n                        <td> undefined </td>\n                    </tr>\n                    <tr>\n                        <td>Model module version</td>\n                        <td> undefined </td>\n                    </tr>\n                <tbody>\n                <tfoot>\n                    <tr>\n                        <th colspan=\"2\">\n                        Class undefined not found in registry \n                        </th>\n                    </tr>\n                </tfoot>\n                </table>"
      }
     },
     "0bb041ed3f25401da46f4d3b1b84bedd": {
      "model_module_version": "^2.1.4",
      "state": {
       "msg_id": "",
       "value": "<table style=\"width:100%\">\n                <thead>\n                    <tr>\n                        <th colspan=\"2\">\n                        Could not create model:\n                        </th>\n                    </tr>\n                </thead>\n                <tbody>\n                    <tr>\n                        <td>Model name</td>\n                        <td> undefined </td>\n                    </tr>\n                    <tr>\n                        <td>Model module</td>\n                        <td> undefined </td>\n                    </tr>\n                    <tr>\n                        <td>Model module version</td>\n                        <td> undefined </td>\n                    </tr>\n                <tbody>\n                <tfoot>\n                    <tr>\n                        <th colspan=\"2\">\n                        Class undefined not found in registry \n                        </th>\n                    </tr>\n                </tfoot>\n                </table>"
      }
     },
     "0c491954f101426f8a6d2c2c8f117c65": {
      "model_module_version": "^2.1.4",
      "state": {
       "children": [
        "IPY_MODEL_e8c41950a9d349d2a093b110f66cbb72",
        "IPY_MODEL_b74b2bb279ff49c9a7b8384e115dda91"
       ],
       "value": "<table style=\"width:100%\">\n                <thead>\n                    <tr>\n                        <th colspan=\"2\">\n                        Could not create model:\n                        </th>\n                    </tr>\n                </thead>\n                <tbody>\n                    <tr>\n                        <td>Model name</td>\n                        <td> undefined </td>\n                    </tr>\n                    <tr>\n                        <td>Model module</td>\n                        <td> undefined </td>\n                    </tr>\n                    <tr>\n                        <td>Model module version</td>\n                        <td> undefined </td>\n                    </tr>\n                <tbody>\n                <tfoot>\n                    <tr>\n                        <th colspan=\"2\">\n                        Class undefined not found in registry \n                        </th>\n                    </tr>\n                </tfoot>\n                </table>"
      }
     },
     "0d0f207a9beb4bbc8342dfdfde8abfd1": {
      "model_module_version": "^2.1.4",
      "state": {
       "msg_id": "",
       "value": "<table style=\"width:100%\">\n                <thead>\n                    <tr>\n                        <th colspan=\"2\">\n                        Could not create model:\n                        </th>\n                    </tr>\n                </thead>\n                <tbody>\n                    <tr>\n                        <td>Model name</td>\n                        <td> undefined </td>\n                    </tr>\n                    <tr>\n                        <td>Model module</td>\n                        <td> undefined </td>\n                    </tr>\n                    <tr>\n                        <td>Model module version</td>\n                        <td> undefined </td>\n                    </tr>\n                <tbody>\n                <tfoot>\n                    <tr>\n                        <th colspan=\"2\">\n                        Class undefined not found in registry \n                        </th>\n                    </tr>\n                </tfoot>\n                </table>"
      }
     },
     "17ce0b15ae7f4e07bb389acdb95723a9": {
      "model_module_version": "^2.1.4",
      "state": {
       "children": [
        "IPY_MODEL_98eb087ff1554f3983db53fa15fe205e",
        "IPY_MODEL_2cb31d41b01c41cab49231e6bbcef9a5"
       ],
       "value": "<table style=\"width:100%\">\n                <thead>\n                    <tr>\n                        <th colspan=\"2\">\n                        Could not create model:\n                        </th>\n                    </tr>\n                </thead>\n                <tbody>\n                    <tr>\n                        <td>Model name</td>\n                        <td> undefined </td>\n                    </tr>\n                    <tr>\n                        <td>Model module</td>\n                        <td> undefined </td>\n                    </tr>\n                    <tr>\n                        <td>Model module version</td>\n                        <td> undefined </td>\n                    </tr>\n                <tbody>\n                <tfoot>\n                    <tr>\n                        <th colspan=\"2\">\n                        Class undefined not found in registry \n                        </th>\n                    </tr>\n                </tfoot>\n                </table>"
      }
     },
     "18fbf107d608491b8631570d892bc11c": {
      "model_module_version": "^2.1.4",
      "state": {
       "value": "<table style=\"width:100%\">\n                <thead>\n                    <tr>\n                        <th colspan=\"2\">\n                        Could not create model:\n                        </th>\n                    </tr>\n                </thead>\n                <tbody>\n                    <tr>\n                        <td>Model name</td>\n                        <td> undefined </td>\n                    </tr>\n                    <tr>\n                        <td>Model module</td>\n                        <td> undefined </td>\n                    </tr>\n                    <tr>\n                        <td>Model module version</td>\n                        <td> undefined </td>\n                    </tr>\n                <tbody>\n                <tfoot>\n                    <tr>\n                        <th colspan=\"2\">\n                        Class undefined not found in registry \n                        </th>\n                    </tr>\n                </tfoot>\n                </table>"
      }
     },
     "1a1f8a848b0344be8b0ccf93d1d2026c": {
      "model_module_version": "^2.1.4",
      "state": {
       "value": "<table style=\"width:100%\">\n                <thead>\n                    <tr>\n                        <th colspan=\"2\">\n                        Could not create model:\n                        </th>\n                    </tr>\n                </thead>\n                <tbody>\n                    <tr>\n                        <td>Model name</td>\n                        <td> undefined </td>\n                    </tr>\n                    <tr>\n                        <td>Model module</td>\n                        <td> undefined </td>\n                    </tr>\n                    <tr>\n                        <td>Model module version</td>\n                        <td> undefined </td>\n                    </tr>\n                <tbody>\n                <tfoot>\n                    <tr>\n                        <th colspan=\"2\">\n                        Class undefined not found in registry \n                        </th>\n                    </tr>\n                </tfoot>\n                </table>"
      }
     },
     "1a3f3f985d584928bc8d0c7ab6f70f2e": {
      "model_module_version": "^2.1.4",
      "state": {
       "value": "<table style=\"width:100%\">\n                <thead>\n                    <tr>\n                        <th colspan=\"2\">\n                        Could not create model:\n                        </th>\n                    </tr>\n                </thead>\n                <tbody>\n                    <tr>\n                        <td>Model name</td>\n                        <td> undefined </td>\n                    </tr>\n                    <tr>\n                        <td>Model module</td>\n                        <td> undefined </td>\n                    </tr>\n                    <tr>\n                        <td>Model module version</td>\n                        <td> undefined </td>\n                    </tr>\n                <tbody>\n                <tfoot>\n                    <tr>\n                        <th colspan=\"2\">\n                        Class undefined not found in registry \n                        </th>\n                    </tr>\n                </tfoot>\n                </table>"
      }
     },
     "1cd36f848c6a4887b49476cedbf3d552": {
      "model_module_version": "^2.1.4",
      "state": {
       "value": "<table style=\"width:100%\">\n                <thead>\n                    <tr>\n                        <th colspan=\"2\">\n                        Could not create model:\n                        </th>\n                    </tr>\n                </thead>\n                <tbody>\n                    <tr>\n                        <td>Model name</td>\n                        <td> undefined </td>\n                    </tr>\n                    <tr>\n                        <td>Model module</td>\n                        <td> undefined </td>\n                    </tr>\n                    <tr>\n                        <td>Model module version</td>\n                        <td> undefined </td>\n                    </tr>\n                <tbody>\n                <tfoot>\n                    <tr>\n                        <th colspan=\"2\">\n                        Class undefined not found in registry \n                        </th>\n                    </tr>\n                </tfoot>\n                </table>"
      }
     },
     "1e92dc6d2e6a4746ae2cd05ab57165ec": {
      "model_module_version": "^2.1.4",
      "state": {
       "description": "x",
       "value": "<table style=\"width:100%\">\n                <thead>\n                    <tr>\n                        <th colspan=\"2\">\n                        Could not create model:\n                        </th>\n                    </tr>\n                </thead>\n                <tbody>\n                    <tr>\n                        <td>Model name</td>\n                        <td> undefined </td>\n                    </tr>\n                    <tr>\n                        <td>Model module</td>\n                        <td> undefined </td>\n                    </tr>\n                    <tr>\n                        <td>Model module version</td>\n                        <td> undefined </td>\n                    </tr>\n                <tbody>\n                <tfoot>\n                    <tr>\n                        <th colspan=\"2\">\n                        Class undefined not found in registry \n                        </th>\n                    </tr>\n                </tfoot>\n                </table>"
      }
     },
     "28fc64f255dc4af98ea2e4f433a7e659": {
      "model_module_version": "^2.1.4",
      "state": {
       "children": [
        "IPY_MODEL_d00724d28f834c4991169f92b8e447cb",
        "IPY_MODEL_b5c4b56ba9cd45e1bdca6530cc78c9e1"
       ],
       "value": "<table style=\"width:100%\">\n                <thead>\n                    <tr>\n                        <th colspan=\"2\">\n                        Could not create model:\n                        </th>\n                    </tr>\n                </thead>\n                <tbody>\n                    <tr>\n                        <td>Model name</td>\n                        <td> undefined </td>\n                    </tr>\n                    <tr>\n                        <td>Model module</td>\n                        <td> undefined </td>\n                    </tr>\n                    <tr>\n                        <td>Model module version</td>\n                        <td> undefined </td>\n                    </tr>\n                <tbody>\n                <tfoot>\n                    <tr>\n                        <th colspan=\"2\">\n                        Class undefined not found in registry \n                        </th>\n                    </tr>\n                </tfoot>\n                </table>"
      }
     },
     "2a48c6cde59541fe8760420e54905bb8": {
      "model_module_version": "^2.1.4",
      "state": {
       "value": "<table style=\"width:100%\">\n                <thead>\n                    <tr>\n                        <th colspan=\"2\">\n                        Could not create model:\n                        </th>\n                    </tr>\n                </thead>\n                <tbody>\n                    <tr>\n                        <td>Model name</td>\n                        <td> undefined </td>\n                    </tr>\n                    <tr>\n                        <td>Model module</td>\n                        <td> undefined </td>\n                    </tr>\n                    <tr>\n                        <td>Model module version</td>\n                        <td> undefined </td>\n                    </tr>\n                <tbody>\n                <tfoot>\n                    <tr>\n                        <th colspan=\"2\">\n                        Class undefined not found in registry \n                        </th>\n                    </tr>\n                </tfoot>\n                </table>"
      }
     },
     "2a9914efad9b4709b512186b35fca807": {
      "model_module_version": "^2.1.4",
      "state": {
       "value": "<table style=\"width:100%\">\n                <thead>\n                    <tr>\n                        <th colspan=\"2\">\n                        Could not create model:\n                        </th>\n                    </tr>\n                </thead>\n                <tbody>\n                    <tr>\n                        <td>Model name</td>\n                        <td> undefined </td>\n                    </tr>\n                    <tr>\n                        <td>Model module</td>\n                        <td> undefined </td>\n                    </tr>\n                    <tr>\n                        <td>Model module version</td>\n                        <td> undefined </td>\n                    </tr>\n                <tbody>\n                <tfoot>\n                    <tr>\n                        <th colspan=\"2\">\n                        Class undefined not found in registry \n                        </th>\n                    </tr>\n                </tfoot>\n                </table>"
      }
     },
     "2b61a2efed51453ba7d9b61640e3257b": {
      "model_module_version": "^2.1.4",
      "state": {
       "children": [
        "IPY_MODEL_ca7fc7414df744c1a12a80afcd929124",
        "IPY_MODEL_892d3ae0c7194bf880319e259ecc2978"
       ],
       "value": "<table style=\"width:100%\">\n                <thead>\n                    <tr>\n                        <th colspan=\"2\">\n                        Could not create model:\n                        </th>\n                    </tr>\n                </thead>\n                <tbody>\n                    <tr>\n                        <td>Model name</td>\n                        <td> undefined </td>\n                    </tr>\n                    <tr>\n                        <td>Model module</td>\n                        <td> undefined </td>\n                    </tr>\n                    <tr>\n                        <td>Model module version</td>\n                        <td> undefined </td>\n                    </tr>\n                <tbody>\n                <tfoot>\n                    <tr>\n                        <th colspan=\"2\">\n                        Class undefined not found in registry \n                        </th>\n                    </tr>\n                </tfoot>\n                </table>"
      }
     },
     "2cb31d41b01c41cab49231e6bbcef9a5": {
      "model_module_version": "^2.1.4",
      "state": {
       "msg_id": "",
       "value": "<table style=\"width:100%\">\n                <thead>\n                    <tr>\n                        <th colspan=\"2\">\n                        Could not create model:\n                        </th>\n                    </tr>\n                </thead>\n                <tbody>\n                    <tr>\n                        <td>Model name</td>\n                        <td> undefined </td>\n                    </tr>\n                    <tr>\n                        <td>Model module</td>\n                        <td> undefined </td>\n                    </tr>\n                    <tr>\n                        <td>Model module version</td>\n                        <td> undefined </td>\n                    </tr>\n                <tbody>\n                <tfoot>\n                    <tr>\n                        <th colspan=\"2\">\n                        Class undefined not found in registry \n                        </th>\n                    </tr>\n                </tfoot>\n                </table>"
      }
     },
     "2f4edba5b47e4d5590df1386c754fd88": {
      "model_module_version": "^2.1.4",
      "state": {
       "value": "<table style=\"width:100%\">\n                <thead>\n                    <tr>\n                        <th colspan=\"2\">\n                        Could not create model:\n                        </th>\n                    </tr>\n                </thead>\n                <tbody>\n                    <tr>\n                        <td>Model name</td>\n                        <td> undefined </td>\n                    </tr>\n                    <tr>\n                        <td>Model module</td>\n                        <td> undefined </td>\n                    </tr>\n                    <tr>\n                        <td>Model module version</td>\n                        <td> undefined </td>\n                    </tr>\n                <tbody>\n                <tfoot>\n                    <tr>\n                        <th colspan=\"2\">\n                        Class undefined not found in registry \n                        </th>\n                    </tr>\n                </tfoot>\n                </table>"
      }
     },
     "32e0e6999b084991bcd84438c81ff67f": {
      "model_module_version": "^2.1.4",
      "state": {
       "value": "<table style=\"width:100%\">\n                <thead>\n                    <tr>\n                        <th colspan=\"2\">\n                        Could not create model:\n                        </th>\n                    </tr>\n                </thead>\n                <tbody>\n                    <tr>\n                        <td>Model name</td>\n                        <td> undefined </td>\n                    </tr>\n                    <tr>\n                        <td>Model module</td>\n                        <td> undefined </td>\n                    </tr>\n                    <tr>\n                        <td>Model module version</td>\n                        <td> undefined </td>\n                    </tr>\n                <tbody>\n                <tfoot>\n                    <tr>\n                        <th colspan=\"2\">\n                        Class undefined not found in registry \n                        </th>\n                    </tr>\n                </tfoot>\n                </table>"
      }
     },
     "3ac7a342207a410888cc1bde2c42f286": {
      "model_module_version": "^2.1.4",
      "state": {
       "value": "<table style=\"width:100%\">\n                <thead>\n                    <tr>\n                        <th colspan=\"2\">\n                        Could not create model:\n                        </th>\n                    </tr>\n                </thead>\n                <tbody>\n                    <tr>\n                        <td>Model name</td>\n                        <td> undefined </td>\n                    </tr>\n                    <tr>\n                        <td>Model module</td>\n                        <td> undefined </td>\n                    </tr>\n                    <tr>\n                        <td>Model module version</td>\n                        <td> undefined </td>\n                    </tr>\n                <tbody>\n                <tfoot>\n                    <tr>\n                        <th colspan=\"2\">\n                        Class undefined not found in registry \n                        </th>\n                    </tr>\n                </tfoot>\n                </table>"
      }
     },
     "3c2f6371fb9d4ef8963013d7ec752f1a": {
      "model_module": "jupyter-js-widgets",
      "model_module_version": "~2.1.4",
      "model_name": "LayoutModel",
      "state": {
       "_model_module_version": "~2.1.4",
       "_view_module_version": "~2.1.4"
      }
     },
     "4085225553f745b5a56321cf316c733e": {
      "model_module": "jupyter-js-widgets",
      "model_module_version": "~2.1.4",
      "model_name": "SliderStyleModel",
      "state": {
       "_model_module_version": "~2.1.4",
       "_view_module_version": "~2.1.4"
      }
     },
     "40dd2c2fbf0d41babb963d45187381e3": {
      "model_module_version": "^2.1.4",
      "state": {
       "value": "<table style=\"width:100%\">\n                <thead>\n                    <tr>\n                        <th colspan=\"2\">\n                        Could not create model:\n                        </th>\n                    </tr>\n                </thead>\n                <tbody>\n                    <tr>\n                        <td>Model name</td>\n                        <td> undefined </td>\n                    </tr>\n                    <tr>\n                        <td>Model module</td>\n                        <td> undefined </td>\n                    </tr>\n                    <tr>\n                        <td>Model module version</td>\n                        <td> undefined </td>\n                    </tr>\n                <tbody>\n                <tfoot>\n                    <tr>\n                        <th colspan=\"2\">\n                        Class undefined not found in registry \n                        </th>\n                    </tr>\n                </tfoot>\n                </table>"
      }
     },
     "43698cd83e434735970d098c0c18c682": {
      "model_module_version": "^2.1.4",
      "state": {
       "msg_id": "",
       "value": "<table style=\"width:100%\">\n                <thead>\n                    <tr>\n                        <th colspan=\"2\">\n                        Could not create model:\n                        </th>\n                    </tr>\n                </thead>\n                <tbody>\n                    <tr>\n                        <td>Model name</td>\n                        <td> undefined </td>\n                    </tr>\n                    <tr>\n                        <td>Model module</td>\n                        <td> undefined </td>\n                    </tr>\n                    <tr>\n                        <td>Model module version</td>\n                        <td> undefined </td>\n                    </tr>\n                <tbody>\n                <tfoot>\n                    <tr>\n                        <th colspan=\"2\">\n                        Class undefined not found in registry \n                        </th>\n                    </tr>\n                </tfoot>\n                </table>"
      }
     },
     "4516a929146f4c6aba450499be5a6bae": {
      "model_module_version": "^2.1.4",
      "state": {
       "children": [
        "IPY_MODEL_1e92dc6d2e6a4746ae2cd05ab57165ec",
        "IPY_MODEL_0d0f207a9beb4bbc8342dfdfde8abfd1"
       ],
       "value": "<table style=\"width:100%\">\n                <thead>\n                    <tr>\n                        <th colspan=\"2\">\n                        Could not create model:\n                        </th>\n                    </tr>\n                </thead>\n                <tbody>\n                    <tr>\n                        <td>Model name</td>\n                        <td> undefined </td>\n                    </tr>\n                    <tr>\n                        <td>Model module</td>\n                        <td> undefined </td>\n                    </tr>\n                    <tr>\n                        <td>Model module version</td>\n                        <td> undefined </td>\n                    </tr>\n                <tbody>\n                <tfoot>\n                    <tr>\n                        <th colspan=\"2\">\n                        Class undefined not found in registry \n                        </th>\n                    </tr>\n                </tfoot>\n                </table>"
      }
     },
     "46c3f00a4866401bb7d7dd886668baeb": {
      "model_module_version": "^2.1.4",
      "state": {
       "msg_id": "",
       "value": "<table style=\"width:100%\">\n                <thead>\n                    <tr>\n                        <th colspan=\"2\">\n                        Could not create model:\n                        </th>\n                    </tr>\n                </thead>\n                <tbody>\n                    <tr>\n                        <td>Model name</td>\n                        <td> undefined </td>\n                    </tr>\n                    <tr>\n                        <td>Model module</td>\n                        <td> undefined </td>\n                    </tr>\n                    <tr>\n                        <td>Model module version</td>\n                        <td> undefined </td>\n                    </tr>\n                <tbody>\n                <tfoot>\n                    <tr>\n                        <th colspan=\"2\">\n                        Class undefined not found in registry \n                        </th>\n                    </tr>\n                </tfoot>\n                </table>"
      }
     },
     "49aa40dd11114ddabb68be1d01d1e41d": {
      "model_module_version": "^2.1.4",
      "state": {
       "value": "<table style=\"width:100%\">\n                <thead>\n                    <tr>\n                        <th colspan=\"2\">\n                        Could not create model:\n                        </th>\n                    </tr>\n                </thead>\n                <tbody>\n                    <tr>\n                        <td>Model name</td>\n                        <td> undefined </td>\n                    </tr>\n                    <tr>\n                        <td>Model module</td>\n                        <td> undefined </td>\n                    </tr>\n                    <tr>\n                        <td>Model module version</td>\n                        <td> undefined </td>\n                    </tr>\n                <tbody>\n                <tfoot>\n                    <tr>\n                        <th colspan=\"2\">\n                        Class undefined not found in registry \n                        </th>\n                    </tr>\n                </tfoot>\n                </table>"
      }
     },
     "4a96e2d67ee54a41a257d81719387929": {
      "model_module_version": "^2.1.4",
      "state": {
       "msg_id": "",
       "value": "<table style=\"width:100%\">\n                <thead>\n                    <tr>\n                        <th colspan=\"2\">\n                        Could not create model:\n                        </th>\n                    </tr>\n                </thead>\n                <tbody>\n                    <tr>\n                        <td>Model name</td>\n                        <td> undefined </td>\n                    </tr>\n                    <tr>\n                        <td>Model module</td>\n                        <td> undefined </td>\n                    </tr>\n                    <tr>\n                        <td>Model module version</td>\n                        <td> undefined </td>\n                    </tr>\n                <tbody>\n                <tfoot>\n                    <tr>\n                        <th colspan=\"2\">\n                        Class undefined not found in registry \n                        </th>\n                    </tr>\n                </tfoot>\n                </table>"
      }
     },
     "501729002a44409ba89f0ce4598c4615": {
      "model_module_version": "^2.1.4",
      "state": {
       "value": "<table style=\"width:100%\">\n                <thead>\n                    <tr>\n                        <th colspan=\"2\">\n                        Could not create model:\n                        </th>\n                    </tr>\n                </thead>\n                <tbody>\n                    <tr>\n                        <td>Model name</td>\n                        <td> undefined </td>\n                    </tr>\n                    <tr>\n                        <td>Model module</td>\n                        <td> undefined </td>\n                    </tr>\n                    <tr>\n                        <td>Model module version</td>\n                        <td> undefined </td>\n                    </tr>\n                <tbody>\n                <tfoot>\n                    <tr>\n                        <th colspan=\"2\">\n                        Class undefined not found in registry \n                        </th>\n                    </tr>\n                </tfoot>\n                </table>"
      }
     },
     "55c4545c3cf9416ca5f9b6468f70a6ea": {
      "model_module_version": "^2.1.4",
      "state": {
       "value": "<table style=\"width:100%\">\n                <thead>\n                    <tr>\n                        <th colspan=\"2\">\n                        Could not create model:\n                        </th>\n                    </tr>\n                </thead>\n                <tbody>\n                    <tr>\n                        <td>Model name</td>\n                        <td> undefined </td>\n                    </tr>\n                    <tr>\n                        <td>Model module</td>\n                        <td> undefined </td>\n                    </tr>\n                    <tr>\n                        <td>Model module version</td>\n                        <td> undefined </td>\n                    </tr>\n                <tbody>\n                <tfoot>\n                    <tr>\n                        <th colspan=\"2\">\n                        Class undefined not found in registry \n                        </th>\n                    </tr>\n                </tfoot>\n                </table>"
      }
     },
     "5754386e4c0348748bd72a39c98e3513": {
      "model_module_version": "^2.1.4",
      "state": {
       "value": "<table style=\"width:100%\">\n                <thead>\n                    <tr>\n                        <th colspan=\"2\">\n                        Could not create model:\n                        </th>\n                    </tr>\n                </thead>\n                <tbody>\n                    <tr>\n                        <td>Model name</td>\n                        <td> undefined </td>\n                    </tr>\n                    <tr>\n                        <td>Model module</td>\n                        <td> undefined </td>\n                    </tr>\n                    <tr>\n                        <td>Model module version</td>\n                        <td> undefined </td>\n                    </tr>\n                <tbody>\n                <tfoot>\n                    <tr>\n                        <th colspan=\"2\">\n                        Class undefined not found in registry \n                        </th>\n                    </tr>\n                </tfoot>\n                </table>"
      }
     },
     "5d5b28b089e242db97c0fb1fbdd63320": {
      "model_module_version": "^2.1.4",
      "state": {
       "value": "<table style=\"width:100%\">\n                <thead>\n                    <tr>\n                        <th colspan=\"2\">\n                        Could not create model:\n                        </th>\n                    </tr>\n                </thead>\n                <tbody>\n                    <tr>\n                        <td>Model name</td>\n                        <td> undefined </td>\n                    </tr>\n                    <tr>\n                        <td>Model module</td>\n                        <td> undefined </td>\n                    </tr>\n                    <tr>\n                        <td>Model module version</td>\n                        <td> undefined </td>\n                    </tr>\n                <tbody>\n                <tfoot>\n                    <tr>\n                        <th colspan=\"2\">\n                        Class undefined not found in registry \n                        </th>\n                    </tr>\n                </tfoot>\n                </table>"
      }
     },
     "5ddce768a0cd44fcb6a02f55d97511c0": {
      "model_module_version": "^2.1.4",
      "state": {
       "description": "x",
       "value": "<table style=\"width:100%\">\n                <thead>\n                    <tr>\n                        <th colspan=\"2\">\n                        Could not create model:\n                        </th>\n                    </tr>\n                </thead>\n                <tbody>\n                    <tr>\n                        <td>Model name</td>\n                        <td> undefined </td>\n                    </tr>\n                    <tr>\n                        <td>Model module</td>\n                        <td> undefined </td>\n                    </tr>\n                    <tr>\n                        <td>Model module version</td>\n                        <td> undefined </td>\n                    </tr>\n                <tbody>\n                <tfoot>\n                    <tr>\n                        <th colspan=\"2\">\n                        Class undefined not found in registry \n                        </th>\n                    </tr>\n                </tfoot>\n                </table>"
      }
     },
     "5ef172040b89471c852363eeffcd40ad": {
      "model_module": "jupyter-js-widgets",
      "model_module_version": "~2.1.4",
      "model_name": "OutputModel",
      "state": {
       "_dom_classes": [],
       "_model_module": "jupyter-js-widgets",
       "_model_module_version": "~2.1.4",
       "_view_module": "jupyter-js-widgets",
       "_view_module_version": "~2.1.4",
       "layout": "IPY_MODEL_61d17c7ab05d49ad917fe0ad9a2f5082",
       "msg_throttle": 1
      }
     },
     "61d17c7ab05d49ad917fe0ad9a2f5082": {
      "model_module": "jupyter-js-widgets",
      "model_module_version": "~2.1.4",
      "model_name": "LayoutModel",
      "state": {
       "_model_module_version": "~2.1.4",
       "_view_module_version": "~2.1.4"
      }
     },
     "621171c6d3824e1aa20b00a470355ba1": {
      "model_module_version": "^2.1.4",
      "state": {
       "value": "<table style=\"width:100%\">\n                <thead>\n                    <tr>\n                        <th colspan=\"2\">\n                        Could not create model:\n                        </th>\n                    </tr>\n                </thead>\n                <tbody>\n                    <tr>\n                        <td>Model name</td>\n                        <td> undefined </td>\n                    </tr>\n                    <tr>\n                        <td>Model module</td>\n                        <td> undefined </td>\n                    </tr>\n                    <tr>\n                        <td>Model module version</td>\n                        <td> undefined </td>\n                    </tr>\n                <tbody>\n                <tfoot>\n                    <tr>\n                        <th colspan=\"2\">\n                        Class undefined not found in registry \n                        </th>\n                    </tr>\n                </tfoot>\n                </table>"
      }
     },
     "68b9424e93a54f97b286548081d65a10": {
      "model_module_version": "^2.1.4",
      "state": {
       "value": "<table style=\"width:100%\">\n                <thead>\n                    <tr>\n                        <th colspan=\"2\">\n                        Could not create model:\n                        </th>\n                    </tr>\n                </thead>\n                <tbody>\n                    <tr>\n                        <td>Model name</td>\n                        <td> undefined </td>\n                    </tr>\n                    <tr>\n                        <td>Model module</td>\n                        <td> undefined </td>\n                    </tr>\n                    <tr>\n                        <td>Model module version</td>\n                        <td> undefined </td>\n                    </tr>\n                <tbody>\n                <tfoot>\n                    <tr>\n                        <th colspan=\"2\">\n                        Class undefined not found in registry \n                        </th>\n                    </tr>\n                </tfoot>\n                </table>"
      }
     },
     "6a248cb18c8c40658ea8cf7615f7a622": {
      "model_module_version": "^2.1.4",
      "state": {
       "value": "<table style=\"width:100%\">\n                <thead>\n                    <tr>\n                        <th colspan=\"2\">\n                        Could not create model:\n                        </th>\n                    </tr>\n                </thead>\n                <tbody>\n                    <tr>\n                        <td>Model name</td>\n                        <td> undefined </td>\n                    </tr>\n                    <tr>\n                        <td>Model module</td>\n                        <td> undefined </td>\n                    </tr>\n                    <tr>\n                        <td>Model module version</td>\n                        <td> undefined </td>\n                    </tr>\n                <tbody>\n                <tfoot>\n                    <tr>\n                        <th colspan=\"2\">\n                        Class undefined not found in registry \n                        </th>\n                    </tr>\n                </tfoot>\n                </table>"
      }
     },
     "6aaa433ab117461b889545d142a27175": {
      "model_module_version": "^2.1.4",
      "state": {
       "description": "x",
       "value": "<table style=\"width:100%\">\n                <thead>\n                    <tr>\n                        <th colspan=\"2\">\n                        Could not create model:\n                        </th>\n                    </tr>\n                </thead>\n                <tbody>\n                    <tr>\n                        <td>Model name</td>\n                        <td> undefined </td>\n                    </tr>\n                    <tr>\n                        <td>Model module</td>\n                        <td> undefined </td>\n                    </tr>\n                    <tr>\n                        <td>Model module version</td>\n                        <td> undefined </td>\n                    </tr>\n                <tbody>\n                <tfoot>\n                    <tr>\n                        <th colspan=\"2\">\n                        Class undefined not found in registry \n                        </th>\n                    </tr>\n                </tfoot>\n                </table>"
      }
     },
     "73132f70043c4a6cb2a8ceb471a8f252": {
      "model_module_version": "^2.1.4",
      "state": {
       "value": "<table style=\"width:100%\">\n                <thead>\n                    <tr>\n                        <th colspan=\"2\">\n                        Could not create model:\n                        </th>\n                    </tr>\n                </thead>\n                <tbody>\n                    <tr>\n                        <td>Model name</td>\n                        <td> undefined </td>\n                    </tr>\n                    <tr>\n                        <td>Model module</td>\n                        <td> undefined </td>\n                    </tr>\n                    <tr>\n                        <td>Model module version</td>\n                        <td> undefined </td>\n                    </tr>\n                <tbody>\n                <tfoot>\n                    <tr>\n                        <th colspan=\"2\">\n                        Class undefined not found in registry \n                        </th>\n                    </tr>\n                </tfoot>\n                </table>"
      }
     },
     "76b009679d104667af00faea672b290a": {
      "model_module_version": "^2.1.4",
      "state": {
       "value": "<table style=\"width:100%\">\n                <thead>\n                    <tr>\n                        <th colspan=\"2\">\n                        Could not create model:\n                        </th>\n                    </tr>\n                </thead>\n                <tbody>\n                    <tr>\n                        <td>Model name</td>\n                        <td> undefined </td>\n                    </tr>\n                    <tr>\n                        <td>Model module</td>\n                        <td> undefined </td>\n                    </tr>\n                    <tr>\n                        <td>Model module version</td>\n                        <td> undefined </td>\n                    </tr>\n                <tbody>\n                <tfoot>\n                    <tr>\n                        <th colspan=\"2\">\n                        Class undefined not found in registry \n                        </th>\n                    </tr>\n                </tfoot>\n                </table>"
      }
     },
     "79c73807325f49d393b6cf08bad0b9ef": {
      "model_module_version": "^2.1.4",
      "state": {
       "value": "<table style=\"width:100%\">\n                <thead>\n                    <tr>\n                        <th colspan=\"2\">\n                        Could not create model:\n                        </th>\n                    </tr>\n                </thead>\n                <tbody>\n                    <tr>\n                        <td>Model name</td>\n                        <td> undefined </td>\n                    </tr>\n                    <tr>\n                        <td>Model module</td>\n                        <td> undefined </td>\n                    </tr>\n                    <tr>\n                        <td>Model module version</td>\n                        <td> undefined </td>\n                    </tr>\n                <tbody>\n                <tfoot>\n                    <tr>\n                        <th colspan=\"2\">\n                        Class undefined not found in registry \n                        </th>\n                    </tr>\n                </tfoot>\n                </table>"
      }
     },
     "7b2a75f21e23408ba72e5f04d40c4ae0": {
      "model_module_version": "^2.1.4",
      "state": {
       "msg_id": "",
       "value": "<table style=\"width:100%\">\n                <thead>\n                    <tr>\n                        <th colspan=\"2\">\n                        Could not create model:\n                        </th>\n                    </tr>\n                </thead>\n                <tbody>\n                    <tr>\n                        <td>Model name</td>\n                        <td> undefined </td>\n                    </tr>\n                    <tr>\n                        <td>Model module</td>\n                        <td> undefined </td>\n                    </tr>\n                    <tr>\n                        <td>Model module version</td>\n                        <td> undefined </td>\n                    </tr>\n                <tbody>\n                <tfoot>\n                    <tr>\n                        <th colspan=\"2\">\n                        Class undefined not found in registry \n                        </th>\n                    </tr>\n                </tfoot>\n                </table>"
      }
     },
     "7fdb52036a2c425b968f1cb3f18880cc": {
      "model_module": "jupyter-js-widgets",
      "model_module_version": "~2.1.4",
      "model_name": "VBoxModel",
      "state": {
       "_dom_classes": [
        "widget-interact"
       ],
       "_model_module_version": "~2.1.4",
       "_view_module_version": "~2.1.4",
       "children": [
        "IPY_MODEL_acf1144a079947a3b72f448ff497b5aa",
        "IPY_MODEL_5ef172040b89471c852363eeffcd40ad"
       ],
       "layout": "IPY_MODEL_a3da27f324824245ab4548048acf08ce"
      }
     },
     "804d2f26720d4c7a80aca19ce362f6e3": {
      "model_module_version": "^2.1.4",
      "state": {
       "value": "<table style=\"width:100%\">\n                <thead>\n                    <tr>\n                        <th colspan=\"2\">\n                        Could not create model:\n                        </th>\n                    </tr>\n                </thead>\n                <tbody>\n                    <tr>\n                        <td>Model name</td>\n                        <td> undefined </td>\n                    </tr>\n                    <tr>\n                        <td>Model module</td>\n                        <td> undefined </td>\n                    </tr>\n                    <tr>\n                        <td>Model module version</td>\n                        <td> undefined </td>\n                    </tr>\n                <tbody>\n                <tfoot>\n                    <tr>\n                        <th colspan=\"2\">\n                        Class undefined not found in registry \n                        </th>\n                    </tr>\n                </tfoot>\n                </table>"
      }
     },
     "83640725b367458d874b51c6da3c0298": {
      "model_module_version": "^2.1.4",
      "state": {
       "description": "x",
       "value": "<table style=\"width:100%\">\n                <thead>\n                    <tr>\n                        <th colspan=\"2\">\n                        Could not create model:\n                        </th>\n                    </tr>\n                </thead>\n                <tbody>\n                    <tr>\n                        <td>Model name</td>\n                        <td> undefined </td>\n                    </tr>\n                    <tr>\n                        <td>Model module</td>\n                        <td> undefined </td>\n                    </tr>\n                    <tr>\n                        <td>Model module version</td>\n                        <td> undefined </td>\n                    </tr>\n                <tbody>\n                <tfoot>\n                    <tr>\n                        <th colspan=\"2\">\n                        Class undefined not found in registry \n                        </th>\n                    </tr>\n                </tfoot>\n                </table>"
      }
     },
     "842d398e0f0b49bb82816bf12e32d8ae": {
      "model_module_version": "^2.1.4",
      "state": {
       "children": [
        "IPY_MODEL_b3aaafaed364432d9f29a2334748fb51",
        "IPY_MODEL_0bb041ed3f25401da46f4d3b1b84bedd"
       ],
       "value": "<table style=\"width:100%\">\n                <thead>\n                    <tr>\n                        <th colspan=\"2\">\n                        Could not create model:\n                        </th>\n                    </tr>\n                </thead>\n                <tbody>\n                    <tr>\n                        <td>Model name</td>\n                        <td> undefined </td>\n                    </tr>\n                    <tr>\n                        <td>Model module</td>\n                        <td> undefined </td>\n                    </tr>\n                    <tr>\n                        <td>Model module version</td>\n                        <td> undefined </td>\n                    </tr>\n                <tbody>\n                <tfoot>\n                    <tr>\n                        <th colspan=\"2\">\n                        Class undefined not found in registry \n                        </th>\n                    </tr>\n                </tfoot>\n                </table>"
      }
     },
     "892d3ae0c7194bf880319e259ecc2978": {
      "model_module_version": "^2.1.4",
      "state": {
       "msg_id": "",
       "value": "<table style=\"width:100%\">\n                <thead>\n                    <tr>\n                        <th colspan=\"2\">\n                        Could not create model:\n                        </th>\n                    </tr>\n                </thead>\n                <tbody>\n                    <tr>\n                        <td>Model name</td>\n                        <td> undefined </td>\n                    </tr>\n                    <tr>\n                        <td>Model module</td>\n                        <td> undefined </td>\n                    </tr>\n                    <tr>\n                        <td>Model module version</td>\n                        <td> undefined </td>\n                    </tr>\n                <tbody>\n                <tfoot>\n                    <tr>\n                        <th colspan=\"2\">\n                        Class undefined not found in registry \n                        </th>\n                    </tr>\n                </tfoot>\n                </table>"
      }
     },
     "8c53fafbc3f84f67a956e57f3add21e6": {
      "model_module_version": "^2.1.4",
      "state": {
       "value": "<table style=\"width:100%\">\n                <thead>\n                    <tr>\n                        <th colspan=\"2\">\n                        Could not create model:\n                        </th>\n                    </tr>\n                </thead>\n                <tbody>\n                    <tr>\n                        <td>Model name</td>\n                        <td> undefined </td>\n                    </tr>\n                    <tr>\n                        <td>Model module</td>\n                        <td> undefined </td>\n                    </tr>\n                    <tr>\n                        <td>Model module version</td>\n                        <td> undefined </td>\n                    </tr>\n                <tbody>\n                <tfoot>\n                    <tr>\n                        <th colspan=\"2\">\n                        Class undefined not found in registry \n                        </th>\n                    </tr>\n                </tfoot>\n                </table>"
      }
     },
     "96847b2fae384f758634f48976d6387d": {
      "model_module_version": "^2.1.4",
      "state": {
       "value": "<table style=\"width:100%\">\n                <thead>\n                    <tr>\n                        <th colspan=\"2\">\n                        Could not create model:\n                        </th>\n                    </tr>\n                </thead>\n                <tbody>\n                    <tr>\n                        <td>Model name</td>\n                        <td> undefined </td>\n                    </tr>\n                    <tr>\n                        <td>Model module</td>\n                        <td> undefined </td>\n                    </tr>\n                    <tr>\n                        <td>Model module version</td>\n                        <td> undefined </td>\n                    </tr>\n                <tbody>\n                <tfoot>\n                    <tr>\n                        <th colspan=\"2\">\n                        Class undefined not found in registry \n                        </th>\n                    </tr>\n                </tfoot>\n                </table>"
      }
     },
     "98eb087ff1554f3983db53fa15fe205e": {
      "model_module_version": "^2.1.4",
      "state": {
       "description": "x",
       "value": "<table style=\"width:100%\">\n                <thead>\n                    <tr>\n                        <th colspan=\"2\">\n                        Could not create model:\n                        </th>\n                    </tr>\n                </thead>\n                <tbody>\n                    <tr>\n                        <td>Model name</td>\n                        <td> undefined </td>\n                    </tr>\n                    <tr>\n                        <td>Model module</td>\n                        <td> undefined </td>\n                    </tr>\n                    <tr>\n                        <td>Model module version</td>\n                        <td> undefined </td>\n                    </tr>\n                <tbody>\n                <tfoot>\n                    <tr>\n                        <th colspan=\"2\">\n                        Class undefined not found in registry \n                        </th>\n                    </tr>\n                </tfoot>\n                </table>"
      }
     },
     "a2dd2b1e1f9b4734b2e3aa1dbffdcd04": {
      "model_module_version": "^2.1.4",
      "state": {
       "value": "<table style=\"width:100%\">\n                <thead>\n                    <tr>\n                        <th colspan=\"2\">\n                        Could not create model:\n                        </th>\n                    </tr>\n                </thead>\n                <tbody>\n                    <tr>\n                        <td>Model name</td>\n                        <td> undefined </td>\n                    </tr>\n                    <tr>\n                        <td>Model module</td>\n                        <td> undefined </td>\n                    </tr>\n                    <tr>\n                        <td>Model module version</td>\n                        <td> undefined </td>\n                    </tr>\n                <tbody>\n                <tfoot>\n                    <tr>\n                        <th colspan=\"2\">\n                        Class undefined not found in registry \n                        </th>\n                    </tr>\n                </tfoot>\n                </table>"
      }
     },
     "a2f0d26a526e4befb8a931dedb6363eb": {
      "model_module_version": "^2.1.4",
      "state": {
       "value": "<table style=\"width:100%\">\n                <thead>\n                    <tr>\n                        <th colspan=\"2\">\n                        Could not create model:\n                        </th>\n                    </tr>\n                </thead>\n                <tbody>\n                    <tr>\n                        <td>Model name</td>\n                        <td> undefined </td>\n                    </tr>\n                    <tr>\n                        <td>Model module</td>\n                        <td> undefined </td>\n                    </tr>\n                    <tr>\n                        <td>Model module version</td>\n                        <td> undefined </td>\n                    </tr>\n                <tbody>\n                <tfoot>\n                    <tr>\n                        <th colspan=\"2\">\n                        Class undefined not found in registry \n                        </th>\n                    </tr>\n                </tfoot>\n                </table>"
      }
     },
     "a3da27f324824245ab4548048acf08ce": {
      "model_module": "jupyter-js-widgets",
      "model_module_version": "~2.1.4",
      "model_name": "LayoutModel",
      "state": {
       "_model_module_version": "~2.1.4",
       "_view_module_version": "~2.1.4"
      }
     },
     "a5e1aa2fc5f641d098f2cfa6420a592b": {
      "model_module_version": "^2.1.4",
      "state": {
       "value": "<table style=\"width:100%\">\n                <thead>\n                    <tr>\n                        <th colspan=\"2\">\n                        Could not create model:\n                        </th>\n                    </tr>\n                </thead>\n                <tbody>\n                    <tr>\n                        <td>Model name</td>\n                        <td> undefined </td>\n                    </tr>\n                    <tr>\n                        <td>Model module</td>\n                        <td> undefined </td>\n                    </tr>\n                    <tr>\n                        <td>Model module version</td>\n                        <td> undefined </td>\n                    </tr>\n                <tbody>\n                <tfoot>\n                    <tr>\n                        <th colspan=\"2\">\n                        Class undefined not found in registry \n                        </th>\n                    </tr>\n                </tfoot>\n                </table>"
      }
     },
     "acf1144a079947a3b72f448ff497b5aa": {
      "model_module": "jupyter-js-widgets",
      "model_module_version": "~2.1.4",
      "model_name": "IntSliderModel",
      "state": {
       "_model_module_version": "~2.1.4",
       "_view_module_version": "~2.1.4",
       "description": "x",
       "layout": "IPY_MODEL_3c2f6371fb9d4ef8963013d7ec752f1a",
       "max": 30,
       "min": -10,
       "style": "IPY_MODEL_4085225553f745b5a56321cf316c733e",
       "value": 10
      }
     },
     "ae4e57c864524cccb1f82071a8cd1230": {
      "model_module_version": "^2.1.4",
      "state": {
       "children": [
        "IPY_MODEL_83640725b367458d874b51c6da3c0298",
        "IPY_MODEL_46c3f00a4866401bb7d7dd886668baeb"
       ],
       "value": "<table style=\"width:100%\">\n                <thead>\n                    <tr>\n                        <th colspan=\"2\">\n                        Could not create model:\n                        </th>\n                    </tr>\n                </thead>\n                <tbody>\n                    <tr>\n                        <td>Model name</td>\n                        <td> undefined </td>\n                    </tr>\n                    <tr>\n                        <td>Model module</td>\n                        <td> undefined </td>\n                    </tr>\n                    <tr>\n                        <td>Model module version</td>\n                        <td> undefined </td>\n                    </tr>\n                <tbody>\n                <tfoot>\n                    <tr>\n                        <th colspan=\"2\">\n                        Class undefined not found in registry \n                        </th>\n                    </tr>\n                </tfoot>\n                </table>"
      }
     },
     "b3aaafaed364432d9f29a2334748fb51": {
      "model_module_version": "^2.1.4",
      "state": {
       "description": "x",
       "value": "<table style=\"width:100%\">\n                <thead>\n                    <tr>\n                        <th colspan=\"2\">\n                        Could not create model:\n                        </th>\n                    </tr>\n                </thead>\n                <tbody>\n                    <tr>\n                        <td>Model name</td>\n                        <td> undefined </td>\n                    </tr>\n                    <tr>\n                        <td>Model module</td>\n                        <td> undefined </td>\n                    </tr>\n                    <tr>\n                        <td>Model module version</td>\n                        <td> undefined </td>\n                    </tr>\n                <tbody>\n                <tfoot>\n                    <tr>\n                        <th colspan=\"2\">\n                        Class undefined not found in registry \n                        </th>\n                    </tr>\n                </tfoot>\n                </table>"
      }
     },
     "b5c4b56ba9cd45e1bdca6530cc78c9e1": {
      "model_module_version": "^2.1.4",
      "state": {
       "msg_id": "",
       "value": "<table style=\"width:100%\">\n                <thead>\n                    <tr>\n                        <th colspan=\"2\">\n                        Could not create model:\n                        </th>\n                    </tr>\n                </thead>\n                <tbody>\n                    <tr>\n                        <td>Model name</td>\n                        <td> undefined </td>\n                    </tr>\n                    <tr>\n                        <td>Model module</td>\n                        <td> undefined </td>\n                    </tr>\n                    <tr>\n                        <td>Model module version</td>\n                        <td> undefined </td>\n                    </tr>\n                <tbody>\n                <tfoot>\n                    <tr>\n                        <th colspan=\"2\">\n                        Class undefined not found in registry \n                        </th>\n                    </tr>\n                </tfoot>\n                </table>"
      }
     },
     "b74b2bb279ff49c9a7b8384e115dda91": {
      "model_module_version": "^2.1.4",
      "state": {
       "msg_id": "",
       "value": "<table style=\"width:100%\">\n                <thead>\n                    <tr>\n                        <th colspan=\"2\">\n                        Could not create model:\n                        </th>\n                    </tr>\n                </thead>\n                <tbody>\n                    <tr>\n                        <td>Model name</td>\n                        <td> undefined </td>\n                    </tr>\n                    <tr>\n                        <td>Model module</td>\n                        <td> undefined </td>\n                    </tr>\n                    <tr>\n                        <td>Model module version</td>\n                        <td> undefined </td>\n                    </tr>\n                <tbody>\n                <tfoot>\n                    <tr>\n                        <th colspan=\"2\">\n                        Class undefined not found in registry \n                        </th>\n                    </tr>\n                </tfoot>\n                </table>"
      }
     },
     "bc40a99774e645d6a95f8c5424ed326e": {
      "model_module_version": "^2.1.4",
      "state": {
       "description": "x",
       "value": "<table style=\"width:100%\">\n                <thead>\n                    <tr>\n                        <th colspan=\"2\">\n                        Could not create model:\n                        </th>\n                    </tr>\n                </thead>\n                <tbody>\n                    <tr>\n                        <td>Model name</td>\n                        <td> undefined </td>\n                    </tr>\n                    <tr>\n                        <td>Model module</td>\n                        <td> undefined </td>\n                    </tr>\n                    <tr>\n                        <td>Model module version</td>\n                        <td> undefined </td>\n                    </tr>\n                <tbody>\n                <tfoot>\n                    <tr>\n                        <th colspan=\"2\">\n                        Class undefined not found in registry \n                        </th>\n                    </tr>\n                </tfoot>\n                </table>"
      }
     },
     "c40e39ab08b34613bb2767f4b2e60411": {
      "model_module_version": "^2.1.4",
      "state": {
       "value": "<table style=\"width:100%\">\n                <thead>\n                    <tr>\n                        <th colspan=\"2\">\n                        Could not create model:\n                        </th>\n                    </tr>\n                </thead>\n                <tbody>\n                    <tr>\n                        <td>Model name</td>\n                        <td> undefined </td>\n                    </tr>\n                    <tr>\n                        <td>Model module</td>\n                        <td> undefined </td>\n                    </tr>\n                    <tr>\n                        <td>Model module version</td>\n                        <td> undefined </td>\n                    </tr>\n                <tbody>\n                <tfoot>\n                    <tr>\n                        <th colspan=\"2\">\n                        Class undefined not found in registry \n                        </th>\n                    </tr>\n                </tfoot>\n                </table>"
      }
     },
     "ca7fc7414df744c1a12a80afcd929124": {
      "model_module_version": "^2.1.4",
      "state": {
       "description": "x",
       "value": "<table style=\"width:100%\">\n                <thead>\n                    <tr>\n                        <th colspan=\"2\">\n                        Could not create model:\n                        </th>\n                    </tr>\n                </thead>\n                <tbody>\n                    <tr>\n                        <td>Model name</td>\n                        <td> undefined </td>\n                    </tr>\n                    <tr>\n                        <td>Model module</td>\n                        <td> undefined </td>\n                    </tr>\n                    <tr>\n                        <td>Model module version</td>\n                        <td> undefined </td>\n                    </tr>\n                <tbody>\n                <tfoot>\n                    <tr>\n                        <th colspan=\"2\">\n                        Class undefined not found in registry \n                        </th>\n                    </tr>\n                </tfoot>\n                </table>"
      }
     },
     "d00724d28f834c4991169f92b8e447cb": {
      "model_module_version": "^2.1.4",
      "state": {
       "description": "x",
       "value": "<table style=\"width:100%\">\n                <thead>\n                    <tr>\n                        <th colspan=\"2\">\n                        Could not create model:\n                        </th>\n                    </tr>\n                </thead>\n                <tbody>\n                    <tr>\n                        <td>Model name</td>\n                        <td> undefined </td>\n                    </tr>\n                    <tr>\n                        <td>Model module</td>\n                        <td> undefined </td>\n                    </tr>\n                    <tr>\n                        <td>Model module version</td>\n                        <td> undefined </td>\n                    </tr>\n                <tbody>\n                <tfoot>\n                    <tr>\n                        <th colspan=\"2\">\n                        Class undefined not found in registry \n                        </th>\n                    </tr>\n                </tfoot>\n                </table>"
      }
     },
     "d11595e8990749f7a5f58f9502758e2d": {
      "model_module_version": "^2.1.4",
      "state": {
       "value": "<table style=\"width:100%\">\n                <thead>\n                    <tr>\n                        <th colspan=\"2\">\n                        Could not create model:\n                        </th>\n                    </tr>\n                </thead>\n                <tbody>\n                    <tr>\n                        <td>Model name</td>\n                        <td> undefined </td>\n                    </tr>\n                    <tr>\n                        <td>Model module</td>\n                        <td> undefined </td>\n                    </tr>\n                    <tr>\n                        <td>Model module version</td>\n                        <td> undefined </td>\n                    </tr>\n                <tbody>\n                <tfoot>\n                    <tr>\n                        <th colspan=\"2\">\n                        Class undefined not found in registry \n                        </th>\n                    </tr>\n                </tfoot>\n                </table>"
      }
     },
     "d37973aee6ad4ad3afc2983cc4640538": {
      "model_module_version": "^2.1.4",
      "state": {
       "value": "<table style=\"width:100%\">\n                <thead>\n                    <tr>\n                        <th colspan=\"2\">\n                        Could not create model:\n                        </th>\n                    </tr>\n                </thead>\n                <tbody>\n                    <tr>\n                        <td>Model name</td>\n                        <td> undefined </td>\n                    </tr>\n                    <tr>\n                        <td>Model module</td>\n                        <td> undefined </td>\n                    </tr>\n                    <tr>\n                        <td>Model module version</td>\n                        <td> undefined </td>\n                    </tr>\n                <tbody>\n                <tfoot>\n                    <tr>\n                        <th colspan=\"2\">\n                        Class undefined not found in registry \n                        </th>\n                    </tr>\n                </tfoot>\n                </table>"
      }
     },
     "d8e4be7cd0c144abb637254495935400": {
      "model_module_version": "^2.1.4",
      "state": {
       "value": "<table style=\"width:100%\">\n                <thead>\n                    <tr>\n                        <th colspan=\"2\">\n                        Could not create model:\n                        </th>\n                    </tr>\n                </thead>\n                <tbody>\n                    <tr>\n                        <td>Model name</td>\n                        <td> undefined </td>\n                    </tr>\n                    <tr>\n                        <td>Model module</td>\n                        <td> undefined </td>\n                    </tr>\n                    <tr>\n                        <td>Model module version</td>\n                        <td> undefined </td>\n                    </tr>\n                <tbody>\n                <tfoot>\n                    <tr>\n                        <th colspan=\"2\">\n                        Class undefined not found in registry \n                        </th>\n                    </tr>\n                </tfoot>\n                </table>"
      }
     },
     "d929f758e3d743e4bad5ee4b0e0e2971": {
      "model_module_version": "^2.1.4",
      "state": {
       "value": "<table style=\"width:100%\">\n                <thead>\n                    <tr>\n                        <th colspan=\"2\">\n                        Could not create model:\n                        </th>\n                    </tr>\n                </thead>\n                <tbody>\n                    <tr>\n                        <td>Model name</td>\n                        <td> undefined </td>\n                    </tr>\n                    <tr>\n                        <td>Model module</td>\n                        <td> undefined </td>\n                    </tr>\n                    <tr>\n                        <td>Model module version</td>\n                        <td> undefined </td>\n                    </tr>\n                <tbody>\n                <tfoot>\n                    <tr>\n                        <th colspan=\"2\">\n                        Class undefined not found in registry \n                        </th>\n                    </tr>\n                </tfoot>\n                </table>"
      }
     },
     "db0ea3166b744eb3914ca4a329e1f134": {
      "model_module_version": "^2.1.4",
      "state": {
       "value": "<table style=\"width:100%\">\n                <thead>\n                    <tr>\n                        <th colspan=\"2\">\n                        Could not create model:\n                        </th>\n                    </tr>\n                </thead>\n                <tbody>\n                    <tr>\n                        <td>Model name</td>\n                        <td> undefined </td>\n                    </tr>\n                    <tr>\n                        <td>Model module</td>\n                        <td> undefined </td>\n                    </tr>\n                    <tr>\n                        <td>Model module version</td>\n                        <td> undefined </td>\n                    </tr>\n                <tbody>\n                <tfoot>\n                    <tr>\n                        <th colspan=\"2\">\n                        Class undefined not found in registry \n                        </th>\n                    </tr>\n                </tfoot>\n                </table>"
      }
     },
     "de03135fc545466a891c5c7f1191cb4b": {
      "model_module_version": "^2.1.4",
      "state": {
       "children": [
        "IPY_MODEL_6aaa433ab117461b889545d142a27175",
        "IPY_MODEL_4a96e2d67ee54a41a257d81719387929"
       ],
       "value": "<table style=\"width:100%\">\n                <thead>\n                    <tr>\n                        <th colspan=\"2\">\n                        Could not create model:\n                        </th>\n                    </tr>\n                </thead>\n                <tbody>\n                    <tr>\n                        <td>Model name</td>\n                        <td> undefined </td>\n                    </tr>\n                    <tr>\n                        <td>Model module</td>\n                        <td> undefined </td>\n                    </tr>\n                    <tr>\n                        <td>Model module version</td>\n                        <td> undefined </td>\n                    </tr>\n                <tbody>\n                <tfoot>\n                    <tr>\n                        <th colspan=\"2\">\n                        Class undefined not found in registry \n                        </th>\n                    </tr>\n                </tfoot>\n                </table>"
      }
     },
     "e2d7a38ef7dc48099cc27bfcc2a6a4c9": {
      "model_module_version": "^2.1.4",
      "state": {
       "value": "<table style=\"width:100%\">\n                <thead>\n                    <tr>\n                        <th colspan=\"2\">\n                        Could not create model:\n                        </th>\n                    </tr>\n                </thead>\n                <tbody>\n                    <tr>\n                        <td>Model name</td>\n                        <td> undefined </td>\n                    </tr>\n                    <tr>\n                        <td>Model module</td>\n                        <td> undefined </td>\n                    </tr>\n                    <tr>\n                        <td>Model module version</td>\n                        <td> undefined </td>\n                    </tr>\n                <tbody>\n                <tfoot>\n                    <tr>\n                        <th colspan=\"2\">\n                        Class undefined not found in registry \n                        </th>\n                    </tr>\n                </tfoot>\n                </table>"
      }
     },
     "e2eabeb5e95644c6994f2f3be516a507": {
      "model_module_version": "^2.1.4",
      "state": {
       "value": "<table style=\"width:100%\">\n                <thead>\n                    <tr>\n                        <th colspan=\"2\">\n                        Could not create model:\n                        </th>\n                    </tr>\n                </thead>\n                <tbody>\n                    <tr>\n                        <td>Model name</td>\n                        <td> undefined </td>\n                    </tr>\n                    <tr>\n                        <td>Model module</td>\n                        <td> undefined </td>\n                    </tr>\n                    <tr>\n                        <td>Model module version</td>\n                        <td> undefined </td>\n                    </tr>\n                <tbody>\n                <tfoot>\n                    <tr>\n                        <th colspan=\"2\">\n                        Class undefined not found in registry \n                        </th>\n                    </tr>\n                </tfoot>\n                </table>"
      }
     },
     "e8c41950a9d349d2a093b110f66cbb72": {
      "model_module_version": "^2.1.4",
      "state": {
       "description": "x",
       "value": "<table style=\"width:100%\">\n                <thead>\n                    <tr>\n                        <th colspan=\"2\">\n                        Could not create model:\n                        </th>\n                    </tr>\n                </thead>\n                <tbody>\n                    <tr>\n                        <td>Model name</td>\n                        <td> undefined </td>\n                    </tr>\n                    <tr>\n                        <td>Model module</td>\n                        <td> undefined </td>\n                    </tr>\n                    <tr>\n                        <td>Model module version</td>\n                        <td> undefined </td>\n                    </tr>\n                <tbody>\n                <tfoot>\n                    <tr>\n                        <th colspan=\"2\">\n                        Class undefined not found in registry \n                        </th>\n                    </tr>\n                </tfoot>\n                </table>"
      }
     },
     "eef3d499980c484890b8c35cc146b9ed": {
      "model_module_version": "^2.1.4",
      "state": {
       "value": "<table style=\"width:100%\">\n                <thead>\n                    <tr>\n                        <th colspan=\"2\">\n                        Could not create model:\n                        </th>\n                    </tr>\n                </thead>\n                <tbody>\n                    <tr>\n                        <td>Model name</td>\n                        <td> undefined </td>\n                    </tr>\n                    <tr>\n                        <td>Model module</td>\n                        <td> undefined </td>\n                    </tr>\n                    <tr>\n                        <td>Model module version</td>\n                        <td> undefined </td>\n                    </tr>\n                <tbody>\n                <tfoot>\n                    <tr>\n                        <th colspan=\"2\">\n                        Class undefined not found in registry \n                        </th>\n                    </tr>\n                </tfoot>\n                </table>"
      }
     },
     "f43621a7182443dbaba6a026a3ea8c76": {
      "model_module_version": "^2.1.4",
      "state": {
       "value": "<table style=\"width:100%\">\n                <thead>\n                    <tr>\n                        <th colspan=\"2\">\n                        Could not create model:\n                        </th>\n                    </tr>\n                </thead>\n                <tbody>\n                    <tr>\n                        <td>Model name</td>\n                        <td> undefined </td>\n                    </tr>\n                    <tr>\n                        <td>Model module</td>\n                        <td> undefined </td>\n                    </tr>\n                    <tr>\n                        <td>Model module version</td>\n                        <td> undefined </td>\n                    </tr>\n                <tbody>\n                <tfoot>\n                    <tr>\n                        <th colspan=\"2\">\n                        Class undefined not found in registry \n                        </th>\n                    </tr>\n                </tfoot>\n                </table>"
      }
     },
     "f5d70fc558214794b4dd91314f8746c8": {
      "model_module_version": "^2.1.4",
      "state": {
       "value": "<table style=\"width:100%\">\n                <thead>\n                    <tr>\n                        <th colspan=\"2\">\n                        Could not create model:\n                        </th>\n                    </tr>\n                </thead>\n                <tbody>\n                    <tr>\n                        <td>Model name</td>\n                        <td> undefined </td>\n                    </tr>\n                    <tr>\n                        <td>Model module</td>\n                        <td> undefined </td>\n                    </tr>\n                    <tr>\n                        <td>Model module version</td>\n                        <td> undefined </td>\n                    </tr>\n                <tbody>\n                <tfoot>\n                    <tr>\n                        <th colspan=\"2\">\n                        Class undefined not found in registry \n                        </th>\n                    </tr>\n                </tfoot>\n                </table>"
      }
     }
    },
    "version_major": 1,
    "version_minor": 0
   }
  }
 },
 "nbformat": 4,
 "nbformat_minor": 2
}
