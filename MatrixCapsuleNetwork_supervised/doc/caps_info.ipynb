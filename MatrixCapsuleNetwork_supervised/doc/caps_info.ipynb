{
 "cells": [
  {
   "cell_type": "markdown",
   "metadata": {},
   "source": [
    "# CAPSNET Monitor"
   ]
  },
  {
   "cell_type": "code",
   "execution_count": 1,
   "metadata": {},
   "outputs": [
    {
     "data": {
      "text/html": [
       "<script>\n",
       "code_show=true; \n",
       "function code_toggle() {\n",
       " if (code_show){\n",
       " $('div.input').hide();\n",
       " } else {\n",
       " $('div.input').show();\n",
       " }\n",
       " code_show = !code_show\n",
       "} \n",
       "$( document ).ready(code_toggle);\n",
       "</script>\n",
       "<form action=\"javascript:code_toggle()\"><input type=\"submit\" value=\"Click here to toggle on/off the raw code.\"></form>"
      ],
      "text/plain": [
       "<IPython.core.display.HTML object>"
      ]
     },
     "execution_count": 1,
     "metadata": {},
     "output_type": "execute_result"
    }
   ],
   "source": [
    "from IPython.display import HTML\n",
    "\n",
    "HTML('''<script>\n",
    "code_show=true; \n",
    "function code_toggle() {\n",
    " if (code_show){\n",
    " $('div.input').hide();\n",
    " } else {\n",
    " $('div.input').show();\n",
    " }\n",
    " code_show = !code_show\n",
    "} \n",
    "$( document ).ready(code_toggle);\n",
    "</script>\n",
    "<form action=\"javascript:code_toggle()\"><input type=\"submit\" value=\"Click here to toggle on/off the raw code.\"></form>''')\n"
   ]
  },
  {
   "cell_type": "code",
   "execution_count": 2,
   "metadata": {
    "scrolled": true
   },
   "outputs": [
    {
     "data": {
      "text/html": [
       "<style>\n",
       ".output_wrapper button.btn.btn-default,\n",
       ".output_wrapper .ui-dialog-titlebar {\n",
       "  display: none;\n",
       "}\n",
       "</style>"
      ],
      "text/plain": [
       "<IPython.core.display.HTML object>"
      ]
     },
     "execution_count": 2,
     "metadata": {},
     "output_type": "execute_result"
    }
   ],
   "source": [
    "HTML(\n",
    "'''<style>\n",
    ".output_wrapper button.btn.btn-default,\n",
    ".output_wrapper .ui-dialog-titlebar {\n",
    "  display: none;\n",
    "}\n",
    "</style>''')\n"
   ]
  },
  {
   "cell_type": "code",
   "execution_count": 3,
   "metadata": {
    "scrolled": false
   },
   "outputs": [],
   "source": [
    "%matplotlib notebook\n",
    "\n",
    "import os\n",
    "#os.chdir('/home/jens/eclipse-workspace/MatrixCaps/Matrix-Capsule-Network/')\n",
    "\n",
    "import sys\n",
    "import pyrr\n",
    "#sys.path.append('../model')\n",
    "sys.path.append('..')\n",
    "import torch\n",
    "from torch.autograd import Variable\n",
    "from torchvision import datasets\n",
    "from torchvision import transforms\n",
    "from torchvision import utils\n",
    "import torch.nn.functional as F\n",
    "import model.capsules as mcaps\n",
    "import model.util as util\n",
    "import matplotlib\n",
    "import matplotlib.pyplot as plt\n",
    "import numpy as np\n",
    "import time\n",
    "import pyrr\n",
    "\n",
    "import ipywidgets as widgets\n",
    "from ipywidgets import FloatSlider, HBox, VBox, Layout\n",
    "matplotlib.pyplot.ioff()\n",
    "\n",
    "import glob\n",
    "from IPython.display import display, Markdown, Image\n",
    "\n",
    "import PIL.Image\n",
    "from io import BytesIO\n"
   ]
  },
  {
   "cell_type": "markdown",
   "metadata": {},
   "source": [
    "## Matrix Capsules LOSS plot"
   ]
  },
  {
   "cell_type": "code",
   "execution_count": 4,
   "metadata": {},
   "outputs": [
    {
     "data": {
      "application/javascript": [
       "/* Put everything inside the global mpl namespace */\n",
       "window.mpl = {};\n",
       "\n",
       "\n",
       "mpl.get_websocket_type = function() {\n",
       "    if (typeof(WebSocket) !== 'undefined') {\n",
       "        return WebSocket;\n",
       "    } else if (typeof(MozWebSocket) !== 'undefined') {\n",
       "        return MozWebSocket;\n",
       "    } else {\n",
       "        alert('Your browser does not have WebSocket support.' +\n",
       "              'Please try Chrome, Safari or Firefox ≥ 6. ' +\n",
       "              'Firefox 4 and 5 are also supported but you ' +\n",
       "              'have to enable WebSockets in about:config.');\n",
       "    };\n",
       "}\n",
       "\n",
       "mpl.figure = function(figure_id, websocket, ondownload, parent_element) {\n",
       "    this.id = figure_id;\n",
       "\n",
       "    this.ws = websocket;\n",
       "\n",
       "    this.supports_binary = (this.ws.binaryType != undefined);\n",
       "\n",
       "    if (!this.supports_binary) {\n",
       "        var warnings = document.getElementById(\"mpl-warnings\");\n",
       "        if (warnings) {\n",
       "            warnings.style.display = 'block';\n",
       "            warnings.textContent = (\n",
       "                \"This browser does not support binary websocket messages. \" +\n",
       "                    \"Performance may be slow.\");\n",
       "        }\n",
       "    }\n",
       "\n",
       "    this.imageObj = new Image();\n",
       "\n",
       "    this.context = undefined;\n",
       "    this.message = undefined;\n",
       "    this.canvas = undefined;\n",
       "    this.rubberband_canvas = undefined;\n",
       "    this.rubberband_context = undefined;\n",
       "    this.format_dropdown = undefined;\n",
       "\n",
       "    this.image_mode = 'full';\n",
       "\n",
       "    this.root = $('<div/>');\n",
       "    this._root_extra_style(this.root)\n",
       "    this.root.attr('style', 'display: inline-block');\n",
       "\n",
       "    $(parent_element).append(this.root);\n",
       "\n",
       "    this._init_header(this);\n",
       "    this._init_canvas(this);\n",
       "    this._init_toolbar(this);\n",
       "\n",
       "    var fig = this;\n",
       "\n",
       "    this.waiting = false;\n",
       "\n",
       "    this.ws.onopen =  function () {\n",
       "            fig.send_message(\"supports_binary\", {value: fig.supports_binary});\n",
       "            fig.send_message(\"send_image_mode\", {});\n",
       "            if (mpl.ratio != 1) {\n",
       "                fig.send_message(\"set_dpi_ratio\", {'dpi_ratio': mpl.ratio});\n",
       "            }\n",
       "            fig.send_message(\"refresh\", {});\n",
       "        }\n",
       "\n",
       "    this.imageObj.onload = function() {\n",
       "            if (fig.image_mode == 'full') {\n",
       "                // Full images could contain transparency (where diff images\n",
       "                // almost always do), so we need to clear the canvas so that\n",
       "                // there is no ghosting.\n",
       "                fig.context.clearRect(0, 0, fig.canvas.width, fig.canvas.height);\n",
       "            }\n",
       "            fig.context.drawImage(fig.imageObj, 0, 0);\n",
       "        };\n",
       "\n",
       "    this.imageObj.onunload = function() {\n",
       "        fig.ws.close();\n",
       "    }\n",
       "\n",
       "    this.ws.onmessage = this._make_on_message_function(this);\n",
       "\n",
       "    this.ondownload = ondownload;\n",
       "}\n",
       "\n",
       "mpl.figure.prototype._init_header = function() {\n",
       "    var titlebar = $(\n",
       "        '<div class=\"ui-dialog-titlebar ui-widget-header ui-corner-all ' +\n",
       "        'ui-helper-clearfix\"/>');\n",
       "    var titletext = $(\n",
       "        '<div class=\"ui-dialog-title\" style=\"width: 100%; ' +\n",
       "        'text-align: center; padding: 3px;\"/>');\n",
       "    titlebar.append(titletext)\n",
       "    this.root.append(titlebar);\n",
       "    this.header = titletext[0];\n",
       "}\n",
       "\n",
       "\n",
       "\n",
       "mpl.figure.prototype._canvas_extra_style = function(canvas_div) {\n",
       "\n",
       "}\n",
       "\n",
       "\n",
       "mpl.figure.prototype._root_extra_style = function(canvas_div) {\n",
       "\n",
       "}\n",
       "\n",
       "mpl.figure.prototype._init_canvas = function() {\n",
       "    var fig = this;\n",
       "\n",
       "    var canvas_div = $('<div/>');\n",
       "\n",
       "    canvas_div.attr('style', 'position: relative; clear: both; outline: 0');\n",
       "\n",
       "    function canvas_keyboard_event(event) {\n",
       "        return fig.key_event(event, event['data']);\n",
       "    }\n",
       "\n",
       "    canvas_div.keydown('key_press', canvas_keyboard_event);\n",
       "    canvas_div.keyup('key_release', canvas_keyboard_event);\n",
       "    this.canvas_div = canvas_div\n",
       "    this._canvas_extra_style(canvas_div)\n",
       "    this.root.append(canvas_div);\n",
       "\n",
       "    var canvas = $('<canvas/>');\n",
       "    canvas.addClass('mpl-canvas');\n",
       "    canvas.attr('style', \"left: 0; top: 0; z-index: 0; outline: 0\")\n",
       "\n",
       "    this.canvas = canvas[0];\n",
       "    this.context = canvas[0].getContext(\"2d\");\n",
       "\n",
       "    var backingStore = this.context.backingStorePixelRatio ||\n",
       "\tthis.context.webkitBackingStorePixelRatio ||\n",
       "\tthis.context.mozBackingStorePixelRatio ||\n",
       "\tthis.context.msBackingStorePixelRatio ||\n",
       "\tthis.context.oBackingStorePixelRatio ||\n",
       "\tthis.context.backingStorePixelRatio || 1;\n",
       "\n",
       "    mpl.ratio = (window.devicePixelRatio || 1) / backingStore;\n",
       "\n",
       "    var rubberband = $('<canvas/>');\n",
       "    rubberband.attr('style', \"position: absolute; left: 0; top: 0; z-index: 1;\")\n",
       "\n",
       "    var pass_mouse_events = true;\n",
       "\n",
       "    canvas_div.resizable({\n",
       "        start: function(event, ui) {\n",
       "            pass_mouse_events = false;\n",
       "        },\n",
       "        resize: function(event, ui) {\n",
       "            fig.request_resize(ui.size.width, ui.size.height);\n",
       "        },\n",
       "        stop: function(event, ui) {\n",
       "            pass_mouse_events = true;\n",
       "            fig.request_resize(ui.size.width, ui.size.height);\n",
       "        },\n",
       "    });\n",
       "\n",
       "    function mouse_event_fn(event) {\n",
       "        if (pass_mouse_events)\n",
       "            return fig.mouse_event(event, event['data']);\n",
       "    }\n",
       "\n",
       "    rubberband.mousedown('button_press', mouse_event_fn);\n",
       "    rubberband.mouseup('button_release', mouse_event_fn);\n",
       "    // Throttle sequential mouse events to 1 every 20ms.\n",
       "    rubberband.mousemove('motion_notify', mouse_event_fn);\n",
       "\n",
       "    rubberband.mouseenter('figure_enter', mouse_event_fn);\n",
       "    rubberband.mouseleave('figure_leave', mouse_event_fn);\n",
       "\n",
       "    canvas_div.on(\"wheel\", function (event) {\n",
       "        event = event.originalEvent;\n",
       "        event['data'] = 'scroll'\n",
       "        if (event.deltaY < 0) {\n",
       "            event.step = 1;\n",
       "        } else {\n",
       "            event.step = -1;\n",
       "        }\n",
       "        mouse_event_fn(event);\n",
       "    });\n",
       "\n",
       "    canvas_div.append(canvas);\n",
       "    canvas_div.append(rubberband);\n",
       "\n",
       "    this.rubberband = rubberband;\n",
       "    this.rubberband_canvas = rubberband[0];\n",
       "    this.rubberband_context = rubberband[0].getContext(\"2d\");\n",
       "    this.rubberband_context.strokeStyle = \"#000000\";\n",
       "\n",
       "    this._resize_canvas = function(width, height) {\n",
       "        // Keep the size of the canvas, canvas container, and rubber band\n",
       "        // canvas in synch.\n",
       "        canvas_div.css('width', width)\n",
       "        canvas_div.css('height', height)\n",
       "\n",
       "        canvas.attr('width', width * mpl.ratio);\n",
       "        canvas.attr('height', height * mpl.ratio);\n",
       "        canvas.attr('style', 'width: ' + width + 'px; height: ' + height + 'px;');\n",
       "\n",
       "        rubberband.attr('width', width);\n",
       "        rubberband.attr('height', height);\n",
       "    }\n",
       "\n",
       "    // Set the figure to an initial 600x600px, this will subsequently be updated\n",
       "    // upon first draw.\n",
       "    this._resize_canvas(600, 600);\n",
       "\n",
       "    // Disable right mouse context menu.\n",
       "    $(this.rubberband_canvas).bind(\"contextmenu\",function(e){\n",
       "        return false;\n",
       "    });\n",
       "\n",
       "    function set_focus () {\n",
       "        canvas.focus();\n",
       "        canvas_div.focus();\n",
       "    }\n",
       "\n",
       "    window.setTimeout(set_focus, 100);\n",
       "}\n",
       "\n",
       "mpl.figure.prototype._init_toolbar = function() {\n",
       "    var fig = this;\n",
       "\n",
       "    var nav_element = $('<div/>')\n",
       "    nav_element.attr('style', 'width: 100%');\n",
       "    this.root.append(nav_element);\n",
       "\n",
       "    // Define a callback function for later on.\n",
       "    function toolbar_event(event) {\n",
       "        return fig.toolbar_button_onclick(event['data']);\n",
       "    }\n",
       "    function toolbar_mouse_event(event) {\n",
       "        return fig.toolbar_button_onmouseover(event['data']);\n",
       "    }\n",
       "\n",
       "    for(var toolbar_ind in mpl.toolbar_items) {\n",
       "        var name = mpl.toolbar_items[toolbar_ind][0];\n",
       "        var tooltip = mpl.toolbar_items[toolbar_ind][1];\n",
       "        var image = mpl.toolbar_items[toolbar_ind][2];\n",
       "        var method_name = mpl.toolbar_items[toolbar_ind][3];\n",
       "\n",
       "        if (!name) {\n",
       "            // put a spacer in here.\n",
       "            continue;\n",
       "        }\n",
       "        var button = $('<button/>');\n",
       "        button.addClass('ui-button ui-widget ui-state-default ui-corner-all ' +\n",
       "                        'ui-button-icon-only');\n",
       "        button.attr('role', 'button');\n",
       "        button.attr('aria-disabled', 'false');\n",
       "        button.click(method_name, toolbar_event);\n",
       "        button.mouseover(tooltip, toolbar_mouse_event);\n",
       "\n",
       "        var icon_img = $('<span/>');\n",
       "        icon_img.addClass('ui-button-icon-primary ui-icon');\n",
       "        icon_img.addClass(image);\n",
       "        icon_img.addClass('ui-corner-all');\n",
       "\n",
       "        var tooltip_span = $('<span/>');\n",
       "        tooltip_span.addClass('ui-button-text');\n",
       "        tooltip_span.html(tooltip);\n",
       "\n",
       "        button.append(icon_img);\n",
       "        button.append(tooltip_span);\n",
       "\n",
       "        nav_element.append(button);\n",
       "    }\n",
       "\n",
       "    var fmt_picker_span = $('<span/>');\n",
       "\n",
       "    var fmt_picker = $('<select/>');\n",
       "    fmt_picker.addClass('mpl-toolbar-option ui-widget ui-widget-content');\n",
       "    fmt_picker_span.append(fmt_picker);\n",
       "    nav_element.append(fmt_picker_span);\n",
       "    this.format_dropdown = fmt_picker[0];\n",
       "\n",
       "    for (var ind in mpl.extensions) {\n",
       "        var fmt = mpl.extensions[ind];\n",
       "        var option = $(\n",
       "            '<option/>', {selected: fmt === mpl.default_extension}).html(fmt);\n",
       "        fmt_picker.append(option)\n",
       "    }\n",
       "\n",
       "    // Add hover states to the ui-buttons\n",
       "    $( \".ui-button\" ).hover(\n",
       "        function() { $(this).addClass(\"ui-state-hover\");},\n",
       "        function() { $(this).removeClass(\"ui-state-hover\");}\n",
       "    );\n",
       "\n",
       "    var status_bar = $('<span class=\"mpl-message\"/>');\n",
       "    nav_element.append(status_bar);\n",
       "    this.message = status_bar[0];\n",
       "}\n",
       "\n",
       "mpl.figure.prototype.request_resize = function(x_pixels, y_pixels) {\n",
       "    // Request matplotlib to resize the figure. Matplotlib will then trigger a resize in the client,\n",
       "    // which will in turn request a refresh of the image.\n",
       "    this.send_message('resize', {'width': x_pixels, 'height': y_pixels});\n",
       "}\n",
       "\n",
       "mpl.figure.prototype.send_message = function(type, properties) {\n",
       "    properties['type'] = type;\n",
       "    properties['figure_id'] = this.id;\n",
       "    this.ws.send(JSON.stringify(properties));\n",
       "}\n",
       "\n",
       "mpl.figure.prototype.send_draw_message = function() {\n",
       "    if (!this.waiting) {\n",
       "        this.waiting = true;\n",
       "        this.ws.send(JSON.stringify({type: \"draw\", figure_id: this.id}));\n",
       "    }\n",
       "}\n",
       "\n",
       "\n",
       "mpl.figure.prototype.handle_save = function(fig, msg) {\n",
       "    var format_dropdown = fig.format_dropdown;\n",
       "    var format = format_dropdown.options[format_dropdown.selectedIndex].value;\n",
       "    fig.ondownload(fig, format);\n",
       "}\n",
       "\n",
       "\n",
       "mpl.figure.prototype.handle_resize = function(fig, msg) {\n",
       "    var size = msg['size'];\n",
       "    if (size[0] != fig.canvas.width || size[1] != fig.canvas.height) {\n",
       "        fig._resize_canvas(size[0], size[1]);\n",
       "        fig.send_message(\"refresh\", {});\n",
       "    };\n",
       "}\n",
       "\n",
       "mpl.figure.prototype.handle_rubberband = function(fig, msg) {\n",
       "    var x0 = msg['x0'] / mpl.ratio;\n",
       "    var y0 = (fig.canvas.height - msg['y0']) / mpl.ratio;\n",
       "    var x1 = msg['x1'] / mpl.ratio;\n",
       "    var y1 = (fig.canvas.height - msg['y1']) / mpl.ratio;\n",
       "    x0 = Math.floor(x0) + 0.5;\n",
       "    y0 = Math.floor(y0) + 0.5;\n",
       "    x1 = Math.floor(x1) + 0.5;\n",
       "    y1 = Math.floor(y1) + 0.5;\n",
       "    var min_x = Math.min(x0, x1);\n",
       "    var min_y = Math.min(y0, y1);\n",
       "    var width = Math.abs(x1 - x0);\n",
       "    var height = Math.abs(y1 - y0);\n",
       "\n",
       "    fig.rubberband_context.clearRect(\n",
       "        0, 0, fig.canvas.width, fig.canvas.height);\n",
       "\n",
       "    fig.rubberband_context.strokeRect(min_x, min_y, width, height);\n",
       "}\n",
       "\n",
       "mpl.figure.prototype.handle_figure_label = function(fig, msg) {\n",
       "    // Updates the figure title.\n",
       "    fig.header.textContent = msg['label'];\n",
       "}\n",
       "\n",
       "mpl.figure.prototype.handle_cursor = function(fig, msg) {\n",
       "    var cursor = msg['cursor'];\n",
       "    switch(cursor)\n",
       "    {\n",
       "    case 0:\n",
       "        cursor = 'pointer';\n",
       "        break;\n",
       "    case 1:\n",
       "        cursor = 'default';\n",
       "        break;\n",
       "    case 2:\n",
       "        cursor = 'crosshair';\n",
       "        break;\n",
       "    case 3:\n",
       "        cursor = 'move';\n",
       "        break;\n",
       "    }\n",
       "    fig.rubberband_canvas.style.cursor = cursor;\n",
       "}\n",
       "\n",
       "mpl.figure.prototype.handle_message = function(fig, msg) {\n",
       "    fig.message.textContent = msg['message'];\n",
       "}\n",
       "\n",
       "mpl.figure.prototype.handle_draw = function(fig, msg) {\n",
       "    // Request the server to send over a new figure.\n",
       "    fig.send_draw_message();\n",
       "}\n",
       "\n",
       "mpl.figure.prototype.handle_image_mode = function(fig, msg) {\n",
       "    fig.image_mode = msg['mode'];\n",
       "}\n",
       "\n",
       "mpl.figure.prototype.updated_canvas_event = function() {\n",
       "    // Called whenever the canvas gets updated.\n",
       "    this.send_message(\"ack\", {});\n",
       "}\n",
       "\n",
       "// A function to construct a web socket function for onmessage handling.\n",
       "// Called in the figure constructor.\n",
       "mpl.figure.prototype._make_on_message_function = function(fig) {\n",
       "    return function socket_on_message(evt) {\n",
       "        if (evt.data instanceof Blob) {\n",
       "            /* FIXME: We get \"Resource interpreted as Image but\n",
       "             * transferred with MIME type text/plain:\" errors on\n",
       "             * Chrome.  But how to set the MIME type?  It doesn't seem\n",
       "             * to be part of the websocket stream */\n",
       "            evt.data.type = \"image/png\";\n",
       "\n",
       "            /* Free the memory for the previous frames */\n",
       "            if (fig.imageObj.src) {\n",
       "                (window.URL || window.webkitURL).revokeObjectURL(\n",
       "                    fig.imageObj.src);\n",
       "            }\n",
       "\n",
       "            fig.imageObj.src = (window.URL || window.webkitURL).createObjectURL(\n",
       "                evt.data);\n",
       "            fig.updated_canvas_event();\n",
       "            fig.waiting = false;\n",
       "            return;\n",
       "        }\n",
       "        else if (typeof evt.data === 'string' && evt.data.slice(0, 21) == \"data:image/png;base64\") {\n",
       "            fig.imageObj.src = evt.data;\n",
       "            fig.updated_canvas_event();\n",
       "            fig.waiting = false;\n",
       "            return;\n",
       "        }\n",
       "\n",
       "        var msg = JSON.parse(evt.data);\n",
       "        var msg_type = msg['type'];\n",
       "\n",
       "        // Call the  \"handle_{type}\" callback, which takes\n",
       "        // the figure and JSON message as its only arguments.\n",
       "        try {\n",
       "            var callback = fig[\"handle_\" + msg_type];\n",
       "        } catch (e) {\n",
       "            console.log(\"No handler for the '\" + msg_type + \"' message type: \", msg);\n",
       "            return;\n",
       "        }\n",
       "\n",
       "        if (callback) {\n",
       "            try {\n",
       "                // console.log(\"Handling '\" + msg_type + \"' message: \", msg);\n",
       "                callback(fig, msg);\n",
       "            } catch (e) {\n",
       "                console.log(\"Exception inside the 'handler_\" + msg_type + \"' callback:\", e, e.stack, msg);\n",
       "            }\n",
       "        }\n",
       "    };\n",
       "}\n",
       "\n",
       "// from http://stackoverflow.com/questions/1114465/getting-mouse-location-in-canvas\n",
       "mpl.findpos = function(e) {\n",
       "    //this section is from http://www.quirksmode.org/js/events_properties.html\n",
       "    var targ;\n",
       "    if (!e)\n",
       "        e = window.event;\n",
       "    if (e.target)\n",
       "        targ = e.target;\n",
       "    else if (e.srcElement)\n",
       "        targ = e.srcElement;\n",
       "    if (targ.nodeType == 3) // defeat Safari bug\n",
       "        targ = targ.parentNode;\n",
       "\n",
       "    // jQuery normalizes the pageX and pageY\n",
       "    // pageX,Y are the mouse positions relative to the document\n",
       "    // offset() returns the position of the element relative to the document\n",
       "    var x = e.pageX - $(targ).offset().left;\n",
       "    var y = e.pageY - $(targ).offset().top;\n",
       "\n",
       "    return {\"x\": x, \"y\": y};\n",
       "};\n",
       "\n",
       "/*\n",
       " * return a copy of an object with only non-object keys\n",
       " * we need this to avoid circular references\n",
       " * http://stackoverflow.com/a/24161582/3208463\n",
       " */\n",
       "function simpleKeys (original) {\n",
       "  return Object.keys(original).reduce(function (obj, key) {\n",
       "    if (typeof original[key] !== 'object')\n",
       "        obj[key] = original[key]\n",
       "    return obj;\n",
       "  }, {});\n",
       "}\n",
       "\n",
       "mpl.figure.prototype.mouse_event = function(event, name) {\n",
       "    var canvas_pos = mpl.findpos(event)\n",
       "\n",
       "    if (name === 'button_press')\n",
       "    {\n",
       "        this.canvas.focus();\n",
       "        this.canvas_div.focus();\n",
       "    }\n",
       "\n",
       "    var x = canvas_pos.x * mpl.ratio;\n",
       "    var y = canvas_pos.y * mpl.ratio;\n",
       "\n",
       "    this.send_message(name, {x: x, y: y, button: event.button,\n",
       "                             step: event.step,\n",
       "                             guiEvent: simpleKeys(event)});\n",
       "\n",
       "    /* This prevents the web browser from automatically changing to\n",
       "     * the text insertion cursor when the button is pressed.  We want\n",
       "     * to control all of the cursor setting manually through the\n",
       "     * 'cursor' event from matplotlib */\n",
       "    event.preventDefault();\n",
       "    return false;\n",
       "}\n",
       "\n",
       "mpl.figure.prototype._key_event_extra = function(event, name) {\n",
       "    // Handle any extra behaviour associated with a key event\n",
       "}\n",
       "\n",
       "mpl.figure.prototype.key_event = function(event, name) {\n",
       "\n",
       "    // Prevent repeat events\n",
       "    if (name == 'key_press')\n",
       "    {\n",
       "        if (event.which === this._key)\n",
       "            return;\n",
       "        else\n",
       "            this._key = event.which;\n",
       "    }\n",
       "    if (name == 'key_release')\n",
       "        this._key = null;\n",
       "\n",
       "    var value = '';\n",
       "    if (event.ctrlKey && event.which != 17)\n",
       "        value += \"ctrl+\";\n",
       "    if (event.altKey && event.which != 18)\n",
       "        value += \"alt+\";\n",
       "    if (event.shiftKey && event.which != 16)\n",
       "        value += \"shift+\";\n",
       "\n",
       "    value += 'k';\n",
       "    value += event.which.toString();\n",
       "\n",
       "    this._key_event_extra(event, name);\n",
       "\n",
       "    this.send_message(name, {key: value,\n",
       "                             guiEvent: simpleKeys(event)});\n",
       "    return false;\n",
       "}\n",
       "\n",
       "mpl.figure.prototype.toolbar_button_onclick = function(name) {\n",
       "    if (name == 'download') {\n",
       "        this.handle_save(this, null);\n",
       "    } else {\n",
       "        this.send_message(\"toolbar_button\", {name: name});\n",
       "    }\n",
       "};\n",
       "\n",
       "mpl.figure.prototype.toolbar_button_onmouseover = function(tooltip) {\n",
       "    this.message.textContent = tooltip;\n",
       "};\n",
       "mpl.toolbar_items = [[\"Home\", \"Reset original view\", \"fa fa-home icon-home\", \"home\"], [\"Back\", \"Back to  previous view\", \"fa fa-arrow-left icon-arrow-left\", \"back\"], [\"Forward\", \"Forward to next view\", \"fa fa-arrow-right icon-arrow-right\", \"forward\"], [\"\", \"\", \"\", \"\"], [\"Pan\", \"Pan axes with left mouse, zoom with right\", \"fa fa-arrows icon-move\", \"pan\"], [\"Zoom\", \"Zoom to rectangle\", \"fa fa-square-o icon-check-empty\", \"zoom\"], [\"\", \"\", \"\", \"\"], [\"Download\", \"Download plot\", \"fa fa-floppy-o icon-save\", \"download\"]];\n",
       "\n",
       "mpl.extensions = [\"eps\", \"jpeg\", \"pdf\", \"png\", \"ps\", \"raw\", \"svg\", \"tif\"];\n",
       "\n",
       "mpl.default_extension = \"png\";var comm_websocket_adapter = function(comm) {\n",
       "    // Create a \"websocket\"-like object which calls the given IPython comm\n",
       "    // object with the appropriate methods. Currently this is a non binary\n",
       "    // socket, so there is still some room for performance tuning.\n",
       "    var ws = {};\n",
       "\n",
       "    ws.close = function() {\n",
       "        comm.close()\n",
       "    };\n",
       "    ws.send = function(m) {\n",
       "        //console.log('sending', m);\n",
       "        comm.send(m);\n",
       "    };\n",
       "    // Register the callback with on_msg.\n",
       "    comm.on_msg(function(msg) {\n",
       "        //console.log('receiving', msg['content']['data'], msg);\n",
       "        // Pass the mpl event to the overridden (by mpl) onmessage function.\n",
       "        ws.onmessage(msg['content']['data'])\n",
       "    });\n",
       "    return ws;\n",
       "}\n",
       "\n",
       "mpl.mpl_figure_comm = function(comm, msg) {\n",
       "    // This is the function which gets called when the mpl process\n",
       "    // starts-up an IPython Comm through the \"matplotlib\" channel.\n",
       "\n",
       "    var id = msg.content.data.id;\n",
       "    // Get hold of the div created by the display call when the Comm\n",
       "    // socket was opened in Python.\n",
       "    var element = $(\"#\" + id);\n",
       "    var ws_proxy = comm_websocket_adapter(comm)\n",
       "\n",
       "    function ondownload(figure, format) {\n",
       "        window.open(figure.imageObj.src);\n",
       "    }\n",
       "\n",
       "    var fig = new mpl.figure(id, ws_proxy,\n",
       "                           ondownload,\n",
       "                           element.get(0));\n",
       "\n",
       "    // Call onopen now - mpl needs it, as it is assuming we've passed it a real\n",
       "    // web socket which is closed, not our websocket->open comm proxy.\n",
       "    ws_proxy.onopen();\n",
       "\n",
       "    fig.parent_element = element.get(0);\n",
       "    fig.cell_info = mpl.find_output_cell(\"<div id='\" + id + \"'></div>\");\n",
       "    if (!fig.cell_info) {\n",
       "        console.error(\"Failed to find cell for figure\", id, fig);\n",
       "        return;\n",
       "    }\n",
       "\n",
       "    var output_index = fig.cell_info[2]\n",
       "    var cell = fig.cell_info[0];\n",
       "\n",
       "};\n",
       "\n",
       "mpl.figure.prototype.handle_close = function(fig, msg) {\n",
       "    var width = fig.canvas.width/mpl.ratio\n",
       "    fig.root.unbind('remove')\n",
       "\n",
       "    // Update the output cell to use the data from the current canvas.\n",
       "    fig.push_to_output();\n",
       "    var dataURL = fig.canvas.toDataURL();\n",
       "    // Re-enable the keyboard manager in IPython - without this line, in FF,\n",
       "    // the notebook keyboard shortcuts fail.\n",
       "    IPython.keyboard_manager.enable()\n",
       "    $(fig.parent_element).html('<img src=\"' + dataURL + '\" width=\"' + width + '\">');\n",
       "    fig.close_ws(fig, msg);\n",
       "}\n",
       "\n",
       "mpl.figure.prototype.close_ws = function(fig, msg){\n",
       "    fig.send_message('closing', msg);\n",
       "    // fig.ws.close()\n",
       "}\n",
       "\n",
       "mpl.figure.prototype.push_to_output = function(remove_interactive) {\n",
       "    // Turn the data on the canvas into data in the output cell.\n",
       "    var width = this.canvas.width/mpl.ratio\n",
       "    var dataURL = this.canvas.toDataURL();\n",
       "    this.cell_info[1]['text/html'] = '<img src=\"' + dataURL + '\" width=\"' + width + '\">';\n",
       "}\n",
       "\n",
       "mpl.figure.prototype.updated_canvas_event = function() {\n",
       "    // Tell IPython that the notebook contents must change.\n",
       "    IPython.notebook.set_dirty(true);\n",
       "    this.send_message(\"ack\", {});\n",
       "    var fig = this;\n",
       "    // Wait a second, then push the new image to the DOM so\n",
       "    // that it is saved nicely (might be nice to debounce this).\n",
       "    setTimeout(function () { fig.push_to_output() }, 1000);\n",
       "}\n",
       "\n",
       "mpl.figure.prototype._init_toolbar = function() {\n",
       "    var fig = this;\n",
       "\n",
       "    var nav_element = $('<div/>')\n",
       "    nav_element.attr('style', 'width: 100%');\n",
       "    this.root.append(nav_element);\n",
       "\n",
       "    // Define a callback function for later on.\n",
       "    function toolbar_event(event) {\n",
       "        return fig.toolbar_button_onclick(event['data']);\n",
       "    }\n",
       "    function toolbar_mouse_event(event) {\n",
       "        return fig.toolbar_button_onmouseover(event['data']);\n",
       "    }\n",
       "\n",
       "    for(var toolbar_ind in mpl.toolbar_items){\n",
       "        var name = mpl.toolbar_items[toolbar_ind][0];\n",
       "        var tooltip = mpl.toolbar_items[toolbar_ind][1];\n",
       "        var image = mpl.toolbar_items[toolbar_ind][2];\n",
       "        var method_name = mpl.toolbar_items[toolbar_ind][3];\n",
       "\n",
       "        if (!name) { continue; };\n",
       "\n",
       "        var button = $('<button class=\"btn btn-default\" href=\"#\" title=\"' + name + '\"><i class=\"fa ' + image + ' fa-lg\"></i></button>');\n",
       "        button.click(method_name, toolbar_event);\n",
       "        button.mouseover(tooltip, toolbar_mouse_event);\n",
       "        nav_element.append(button);\n",
       "    }\n",
       "\n",
       "    // Add the status bar.\n",
       "    var status_bar = $('<span class=\"mpl-message\" style=\"text-align:right; float: right;\"/>');\n",
       "    nav_element.append(status_bar);\n",
       "    this.message = status_bar[0];\n",
       "\n",
       "    // Add the close button to the window.\n",
       "    var buttongrp = $('<div class=\"btn-group inline pull-right\"></div>');\n",
       "    var button = $('<button class=\"btn btn-mini btn-primary\" href=\"#\" title=\"Stop Interaction\"><i class=\"fa fa-power-off icon-remove icon-large\"></i></button>');\n",
       "    button.click(function (evt) { fig.handle_close(fig, {}); } );\n",
       "    button.mouseover('Stop Interaction', toolbar_mouse_event);\n",
       "    buttongrp.append(button);\n",
       "    var titlebar = this.root.find($('.ui-dialog-titlebar'));\n",
       "    titlebar.prepend(buttongrp);\n",
       "}\n",
       "\n",
       "mpl.figure.prototype._root_extra_style = function(el){\n",
       "    var fig = this\n",
       "    el.on(\"remove\", function(){\n",
       "\tfig.close_ws(fig, {});\n",
       "    });\n",
       "}\n",
       "\n",
       "mpl.figure.prototype._canvas_extra_style = function(el){\n",
       "    // this is important to make the div 'focusable\n",
       "    el.attr('tabindex', 0)\n",
       "    // reach out to IPython and tell the keyboard manager to turn it's self\n",
       "    // off when our div gets focus\n",
       "\n",
       "    // location in version 3\n",
       "    if (IPython.notebook.keyboard_manager) {\n",
       "        IPython.notebook.keyboard_manager.register_events(el);\n",
       "    }\n",
       "    else {\n",
       "        // location in version 2\n",
       "        IPython.keyboard_manager.register_events(el);\n",
       "    }\n",
       "\n",
       "}\n",
       "\n",
       "mpl.figure.prototype._key_event_extra = function(event, name) {\n",
       "    var manager = IPython.notebook.keyboard_manager;\n",
       "    if (!manager)\n",
       "        manager = IPython.keyboard_manager;\n",
       "\n",
       "    // Check for shift+enter\n",
       "    if (event.shiftKey && event.which == 13) {\n",
       "        this.canvas_div.blur();\n",
       "        event.shiftKey = false;\n",
       "        // Send a \"J\" for go to next cell\n",
       "        event.which = 74;\n",
       "        event.keyCode = 74;\n",
       "        manager.command_mode();\n",
       "        manager.handle_keydown(event);\n",
       "    }\n",
       "}\n",
       "\n",
       "mpl.figure.prototype.handle_save = function(fig, msg) {\n",
       "    fig.ondownload(fig, null);\n",
       "}\n",
       "\n",
       "\n",
       "mpl.find_output_cell = function(html_output) {\n",
       "    // Return the cell and output element which can be found *uniquely* in the notebook.\n",
       "    // Note - this is a bit hacky, but it is done because the \"notebook_saving.Notebook\"\n",
       "    // IPython event is triggered only after the cells have been serialised, which for\n",
       "    // our purposes (turning an active figure into a static one), is too late.\n",
       "    var cells = IPython.notebook.get_cells();\n",
       "    var ncells = cells.length;\n",
       "    for (var i=0; i<ncells; i++) {\n",
       "        var cell = cells[i];\n",
       "        if (cell.cell_type === 'code'){\n",
       "            for (var j=0; j<cell.output_area.outputs.length; j++) {\n",
       "                var data = cell.output_area.outputs[j];\n",
       "                if (data.data) {\n",
       "                    // IPython >= 3 moved mimebundle to data attribute of output\n",
       "                    data = data.data;\n",
       "                }\n",
       "                if (data['text/html'] == html_output) {\n",
       "                    return [cell, data, j];\n",
       "                }\n",
       "            }\n",
       "        }\n",
       "    }\n",
       "}\n",
       "\n",
       "// Register the function which deals with the matplotlib target/channel.\n",
       "// The kernel may be null if the page has been refreshed.\n",
       "if (IPython.notebook.kernel != null) {\n",
       "    IPython.notebook.kernel.comm_manager.register_target('matplotlib', mpl.mpl_figure_comm);\n",
       "}\n"
      ],
      "text/plain": [
       "<IPython.core.display.Javascript object>"
      ]
     },
     "metadata": {},
     "output_type": "display_data"
    },
    {
     "data": {
      "text/html": [
       "<img src=\"data:image/png;base64,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\" width=\"900\">"
      ],
      "text/plain": [
       "<IPython.core.display.HTML object>"
      ]
     },
     "metadata": {},
     "output_type": "display_data"
    },
    {
     "data": {
      "application/vnd.jupyter.widget-view+json": {
       "model_id": "4161c4c84b9840cca28eb5103a7c76b8",
       "version_major": 2,
       "version_minor": 0
      },
      "text/plain": [
       "Button(description='Update', style=ButtonStyle())"
      ]
     },
     "metadata": {},
     "output_type": "display_data"
    },
    {
     "data": {
      "application/vnd.jupyter.widget-view+json": {
       "model_id": "5f37fb0bae564f0293d85f21dea6355a",
       "version_major": 2,
       "version_minor": 0
      },
      "text/plain": [
       "IntText(value=30, description='Epoch history')"
      ]
     },
     "metadata": {},
     "output_type": "display_data"
    }
   ],
   "source": [
    "matplotlib.rcParams.update({'font.size': 22})\n",
    "fig3 = plt.figure(figsize = (9,6))\n",
    "ax3 = fig3.subplots()\n",
    "#matplotlib.pyplot.ion()\n",
    "\n",
    "\n",
    "button = widgets.Button(description=\"Update\")\n",
    "show_epochs = widgets.IntText(description='Epoch history',disabled=False)\n",
    "show_epochs.value = 30\n",
    "\n",
    "def on_button_clicked(b):\n",
    "    with open('../loss.log') as f:\n",
    "        content = f.readlines()\n",
    "    content = [float(x.strip()) for x in content]\n",
    "    xmin = 0\n",
    "    xmax = len(content)\n",
    "    if xmax > show_epochs.value:\n",
    "        xmin = xmax-show_epochs.value\n",
    "        content = content[xmin:xmax]\n",
    "    ymin = np.min(content)\n",
    "    ymax = np.max(content)\n",
    "    x_axis = np.linspace(xmin, xmax-1, num=xmax-xmin)\n",
    "\n",
    "    #matplotlib.pyplot.gcf().clear()\n",
    "    ax3.clear()\n",
    "    ax3.set_xlim(xmin, xmax)\n",
    "    yaxismin = ymin - (ymax-ymin)/3\n",
    "    if yaxismin < 0:\n",
    "        yaxismin = 0\n",
    "    ax3.set_ylim(ymin - (ymax-ymin)/3, ymax)\n",
    "    ax3.plot(x_axis, content, linewidth=5.0)\n",
    "    ax3.xaxis.set_major_locator(matplotlib.ticker.MaxNLocator(integer=True))\n",
    "    ax3.grid(linestyle='-', linewidth='0.5', color='red')\n",
    "    fig3.canvas.draw()\n",
    "\n",
    "    \n",
    "on_button_clicked(None)\n",
    "fig3.show()\n",
    "\n",
    "display(button)\n",
    "display(show_epochs)\n",
    "\n",
    "button.on_click(on_button_clicked)\n",
    "show_epochs.observe(on_button_clicked)"
   ]
  },
  {
   "cell_type": "code",
   "execution_count": 5,
   "metadata": {},
   "outputs": [
    {
     "data": {
      "text/markdown": [
       "## Latest model is: ../weights/em_capsules/model_53.pth"
      ],
      "text/plain": [
       "<IPython.core.display.Markdown object>"
      ]
     },
     "metadata": {},
     "output_type": "display_data"
    }
   ],
   "source": [
    "class args():\n",
    "    num_classes = 1\n",
    "    batch_size = 1\n",
    "    routing = 'EM_routing'\n",
    "    loss = 'spread_loss̈́'\n",
    "    use_recon = 0.001\n",
    "    r = 3\n",
    "    num_workers = 1\n",
    "    disable_encoder = False\n",
    "    disable_recon = False\n",
    "\n",
    "A, AA, B, C, D, E, r = 32, 64, 16, 16, 16, args.num_classes, args.r # a small CapsNet\n",
    "\n",
    "model = mcaps.CapsNet(args, A, AA, B, C, D, E, r, h=4)\n",
    "\n",
    "LatestFile = max(glob.iglob(\"../weights/em_capsules/model*.pth\"),key=os.path.getctime)\n",
    "\n",
    "display(Markdown('## Latest model is: '+LatestFile))\n",
    "\n",
    "model.load_state_dict(torch.load(LatestFile))\n",
    "model.cpu()\n",
    "\n",
    "self = model"
   ]
  },
  {
   "cell_type": "markdown",
   "metadata": {},
   "source": [
    "## Ground Truth"
   ]
  },
  {
   "cell_type": "code",
   "execution_count": 6,
   "metadata": {
    "scrolled": false
   },
   "outputs": [
    {
     "data": {
      "application/vnd.jupyter.widget-view+json": {
       "model_id": "709129561bb844f5a12c8b3ec925bf65",
       "version_major": 2,
       "version_minor": 0
      },
      "text/plain": [
       "HBox(children=(Output(layout=Layout(border='1px solid black', width='100%')), Output(layout=Layout(border='1px…"
      ]
     },
     "metadata": {},
     "output_type": "display_data"
    },
    {
     "data": {
      "application/vnd.jupyter.widget-view+json": {
       "model_id": "0733298c69ad47daa1b230244e9e0ca0",
       "version_major": 2,
       "version_minor": 0
      },
      "text/plain": [
       "VBox(children=(HBox(children=(FloatText(value=1.0, description='Contrast', layout=Layout(width='100%'), step=0…"
      ]
     },
     "metadata": {},
     "output_type": "display_data"
    }
   ],
   "source": [
    "def updateOutputWidget(widget, array, color=\"L\"):\n",
    "    f = BytesIO()\n",
    "    PIL.Image.fromarray(np.uint8(array*255), mode=color).convert(color).save(f, 'png')\n",
    "    widget.clear_output()\n",
    "    with widget:\n",
    "        display(Image(data=f.getvalue(), width='100%'))\n",
    "\n",
    "ground_truth_widget_left = widgets.Output(layout=Layout(border='1px solid black', width='100%'))\n",
    "ground_truth_widget_right = widgets.Output(layout=Layout(border='1px solid black', width='100%'))\n",
    "ground_truth_widget = HBox([ground_truth_widget_left, ground_truth_widget_right], layout=Layout(width='100%'))\n",
    "\n",
    "contrast_left = widgets.FloatText(layout={'width': '100%'},description='Contrast',disabled=False, value=1, step=0.01)\n",
    "contrast_right = widgets.FloatText(layout={'width': '100%'},description='Contrast',disabled=False, value=1, step=0.01)\n",
    "brightness_left = widgets.FloatText(layout={'width': '100%'},description='Brightness',disabled=False, value=0, step=0.01)\n",
    "brightness_right = widgets.FloatText(layout={'width': '100%'},description='Brightness',disabled=False, value=0, step=0.01)\n",
    "brightness_contrast_widget = VBox([  HBox([contrast_left, contrast_right],layout=Layout(width='100%')) ,  HBox([brightness_left, brightness_right],layout=Layout(width='100%')) ] )\n",
    "\n",
    "display(ground_truth_widget)\n",
    "display(brightness_contrast_widget)"
   ]
  },
  {
   "cell_type": "markdown",
   "metadata": {},
   "source": [
    "## Activations of convolutional layers and primary capsules layer"
   ]
  },
  {
   "cell_type": "code",
   "execution_count": 7,
   "metadata": {
    "scrolled": false
   },
   "outputs": [
    {
     "data": {
      "application/vnd.jupyter.widget-view+json": {
       "model_id": "ac239f9315e24372a25d8d35ca543a3b",
       "version_major": 2,
       "version_minor": 0
      },
      "text/plain": [
       "VBox(children=(Output(layout=Layout(width='100%')), Output(layout=Layout(width='100%')), Output(layout=Layout(…"
      ]
     },
     "metadata": {},
     "output_type": "display_data"
    }
   ],
   "source": [
    "layer1_widget = widgets.Output(layout=Layout(width='100%'))\n",
    "layer2_widget = widgets.Output(layout=Layout(width='100%'))\n",
    "layer3_widget = widgets.Output(layout=Layout(width='100%'))\n",
    "layer4_widget = widgets.Output(layout=Layout(width='100%'))\n",
    "#layer12_widget = HBox([layer1_widget, layer2_widget], layout=Layout(width='100%'))\n",
    "layer_widget = VBox([layer1_widget, layer2_widget, layer3_widget, layer4_widget], layout=Layout(width='100%'))\n",
    "display(layer_widget)\n",
    "\n",
    "\n",
    "\n",
    "def makeCombinedImage(img):\n",
    "    img = img.squeeze().unsqueeze(1)\n",
    "    return utils.make_grid(img.data, nrow=int(img.shape[0] ** 0.5), normalize=True,range=(0, 1)).cpu().numpy()\n",
    "    \n",
    "def forward(self, x, lambda_, labels=None, draw=True):\n",
    "    if x is not None:\n",
    "        x = F.relu(self.bn1(self.conv1(x)))\n",
    "\n",
    "        if draw is True:\n",
    "            grid_picture = makeCombinedImage(x)\n",
    "            updateOutputWidget(layer1_widget, grid_picture.transpose(1,2,0), \"RGB\")\n",
    "\n",
    "        x = F.max_pool2d(x, 2, 2, 1)\n",
    "        x = F.relu(self.bn2(self.conv2(x)))\n",
    "        \n",
    "        if draw is True:\n",
    "            grid_picture = makeCombinedImage(x)\n",
    "            updateOutputWidget(layer2_widget, grid_picture.transpose(1,2,0), \"RGB\")\n",
    "        \n",
    "        #x = F.relu(self.bn3(self.conv3(x)))\n",
    "        #if draw is True:\n",
    "        #    grid_picture = makeCombinedImage(x)\n",
    "        #    updateOutputWidget(layer3_widget, grid_picture.transpose(1,2,0), \"RGB\")\n",
    "        \n",
    "        x = self.primary_caps(x)  # b,32*(4*4+1),12,12\n",
    "\n",
    "        if draw is True:\n",
    "            grid_picture = makeCombinedImage(x[0])\n",
    "            updateOutputWidget(layer4_widget, grid_picture.transpose(1,2,0), \"RGB\")\n",
    "            \n",
    "        x = self.convcaps1(x, lambda_)  # b,32*(4*4+1),5,5\n",
    "        x = self.convcaps2(x, lambda_)  # b,32*(4*4+1),3,3\n",
    "        p, a = self.classcaps(x, lambda_)  # b,10*16+10\n",
    "\n",
    "        p = p.squeeze()\n",
    "\n",
    "        # Temporary when batch size = 1\n",
    "        if len(p.shape) == 1:\n",
    "            p = p.unsqueeze(0)\n",
    "    else:\n",
    "        p = labels\n",
    "\n",
    "    if not self.args.disable_recon:\n",
    "        reconstructions = self.decoder(p)\n",
    "    else:\n",
    "        reconstructions = 0\n",
    "\n",
    "    return p, reconstructions"
   ]
  },
  {
   "cell_type": "markdown",
   "metadata": {},
   "source": [
    "## 4x4 pose output"
   ]
  },
  {
   "cell_type": "code",
   "execution_count": 9,
   "metadata": {
    "scrolled": false
   },
   "outputs": [
    {
     "data": {
      "application/vnd.jupyter.widget-view+json": {
       "model_id": "e074989348f5497c97b6994ac49a769c",
       "version_major": 2,
       "version_minor": 0
      },
      "text/plain": [
       "HBox(children=(VBox(children=(HBox(children=(Output(layout=Layout(width='100%')), Output(layout=Layout(width='…"
      ]
     },
     "metadata": {},
     "output_type": "display_data"
    },
    {
     "data": {
      "application/vnd.jupyter.widget-view+json": {
       "model_id": "b7cb6970df784b8cb5b1083402c0ff56",
       "version_major": 2,
       "version_minor": 0
      },
      "text/plain": [
       "HBox(children=(Label(value='Output', layout=Layout(width='100%')), Label(value='Label', layout=Layout(width='1…"
      ]
     },
     "metadata": {},
     "output_type": "display_data"
    },
    {
     "data": {
      "application/vnd.jupyter.widget-view+json": {
       "model_id": "2ff348acdb6b4799a2aa38d2f2c80995",
       "version_major": 2,
       "version_minor": 0
      },
      "text/plain": [
       "HBox(children=(Textarea(value='', layout=Layout(height='90px', width='100%')), Textarea(value='', layout=Layou…"
      ]
     },
     "metadata": {},
     "output_type": "display_data"
    }
   ],
   "source": [
    "truth_widget_left = widgets.Output(layout=Layout(width='100%'))\n",
    "truth_widget_right = widgets.Output(layout=Layout(width='100%'))\n",
    "recon_widget_left = widgets.Output(layout=Layout(width='100%'))\n",
    "recon_widget_right = widgets.Output(layout=Layout(width='100%'))\n",
    "truth_widget = HBox([truth_widget_left, truth_widget_right], layout=Layout(width='100%'))\n",
    "recon_widget = HBox([recon_widget_left, recon_widget_right], layout=Layout(width='100%'))\n",
    "step_widget = VBox([truth_widget, recon_widget], layout=Layout(width='100%'))\n",
    "names = ['p0', 'p1', 'p2', 'p3', 'p4', 'p5', 'p6', 'p7', 'p8', 'p9', 'p10', 'p11', 'p12', 'p13', 'p14', 'p15']\n",
    "pose_sliders = [FloatSlider(min=-100, max=100, layout={'height': '50%'}, step=0.00001, description=i, orientation='horizontal') for i in names]\n",
    "button_next = widgets.Button(description=\"Next\", layout={'height': '50%'})\n",
    "pose_sliders.append(button_next)\n",
    "sliders_widget = VBox(pose_sliders, layout=Layout(width='60%'))\n",
    "step_slider_widget = HBox([step_widget, sliders_widget],layout=Layout(width='100%'))\n",
    "pose_output = widgets.Textarea(layout={'width': '100%','height': '90px'},disabled=False)\n",
    "pose_label = widgets.Textarea(layout={'width': '100%','height': '90px'},disabled=False)\n",
    "pose_error = widgets.Textarea(layout={'width': '100%','height': '90px'},disabled=False)\n",
    "\n",
    "\n",
    "label_widget = HBox([widgets.Label(layout={'width': '100%'},value=\"Output\"), widgets.Label(layout={'width': '100%'},value=\"Label\"), widgets.Label(layout={'width': '100%'},value=\"Error\")])\n",
    "pose_widget = HBox([pose_output, pose_label, pose_error])\n",
    "\n",
    "the_time = time.time()\n",
    "do_update = True\n",
    "\n",
    "display(step_slider_widget)\n",
    "display(label_widget)\n",
    "display(pose_widget)\n",
    "#display(pose_output)\n",
    "#display(pose_label)\n",
    "#display(pose_error)\n",
    "\n",
    "# Initialize Transform Network (from Pose to Quaternion)\n",
    "\"\"\"\n",
    "import sys\n",
    "import pyrr\n",
    "sys.path.append('../PoseToQuaternionNetwork/model')\n",
    "from transform import PoseToQuatNet\n",
    "transform = PoseToQuatNet()\n",
    "transform.load_state_dict(torch.load('../PoseToQuaternionNetwork/weights/model.pth'))\n",
    "transform.cpu()\n",
    "\"\"\"\n",
    "\n",
    "# Initialize view and projection for coord system rendering\n",
    "w_width, w_height = 800, 800\n",
    "focus_distance = 1.9\n",
    "view = pyrr.matrix44.create_from_translation(pyrr.Vector3([0.0, 0.0, -focus_distance])).transpose()\n",
    "projection = pyrr.matrix44.create_perspective_projection_matrix(65.0, w_width / w_height, 0.1, 100.0).transpose()\n",
    "\"\"\"\n",
    "def plotPoint(pnt, color_idx, img_left, img_right):\n",
    "    model_view = pyrr.matrix44.multiply(view, pnt)\n",
    "    model_projection = pyrr.matrix44.multiply(projection, model_view)\n",
    "    scaling = model_projection[3]\n",
    "    pix_x = img_left.shape[0]/2 + (model_projection[0]/scaling) * img_left.shape[0]/2\n",
    "    if pix_x >= img_left.shape[0]: pix_x = img_left.shape[0]-1\n",
    "    if pix_x < 0: pix_x = 0\n",
    "    pix_y = img_left.shape[1]/2 - (model_projection[1]/scaling) * img_left.shape[1]/2\n",
    "    if pix_y >= img_left.shape[1]: pix_y = img_left.shape[1]-1\n",
    "    if pix_y < 0: pix_y = 0\n",
    "    img_left[int(pix_y),int(pix_x),color_idx] = 1.0\n",
    "    img_right[int(pix_y),int(pix_x),color_idx] = 1.0\n",
    "\"\"\"\n",
    "def plotPoint(pnt, color_idx, img):\n",
    "    model_view = pyrr.matrix44.multiply(view, pnt)\n",
    "    model_projection = pyrr.matrix44.multiply(projection, model_view)\n",
    "    scaling = model_projection[3]\n",
    "    pix_x = img.shape[0]/2 + (model_projection[0]/scaling) * img.shape[0]/2\n",
    "    if pix_x >= img.shape[0]: pix_x = img.shape[0]-1\n",
    "    if pix_x < 0: pix_x = 0\n",
    "    pix_y = img.shape[1]/2 - (model_projection[1]/scaling) * img.shape[1]/2\n",
    "    if pix_y >= img.shape[1]: pix_y = img.shape[1]-1\n",
    "    if pix_y < 0: pix_y = 0\n",
    "    img[int(pix_y),int(pix_x),color_idx] = 1.0\n",
    "    \n",
    "eye_distance = 0.5\n",
    "focus_distance = 1.9\n",
    "eye_angle = eye_distance/focus_distance\n",
    "right_eye_transform = pyrr.Matrix44.from_y_rotation(eye_angle/2)\n",
    "left_eye_transform = pyrr.Matrix44.from_y_rotation(-eye_angle/2)\n",
    "    \n",
    "def plotCoordSystemAxis(pose44, axis_idx, img):\n",
    "    pnt = pyrr.vector4.create(0.0, 0.0, 0.0, 1.0)\n",
    "    for i in range(50):\n",
    "        pnt[axis_idx] = i*0.01\n",
    "        point = pyrr.matrix44.multiply(pyrr.Matrix44(pose44), pnt) #.transpose()\n",
    "        plotPoint(point, axis_idx, img)\n",
    "\n",
    "pose = 0\n",
    "lambda_ = 1.0\n",
    "\n",
    "def on_value_change(change):\n",
    "    global the_time\n",
    "    global do_update\n",
    "    global pose\n",
    "    global ground_truth_labels\n",
    "    global imgs\n",
    "\n",
    "    if not do_update and change is not None:\n",
    "        return\n",
    "\n",
    "    if (time.time()-the_time) < 0.2:\n",
    "        return\n",
    "    the_time = time.time()\n",
    "    \n",
    "    for i in range(len(pose_sliders)-1):\n",
    "        pose[:,i] = pose_sliders[i].value\n",
    "    \n",
    "    p, reconstruction = forward(self, None, None, labels=pose)\n",
    "\n",
    "    imgs_sliced = imgs[:,[0,3],...]\n",
    "    reconstruction = reconstruction.view_as(imgs_sliced)\n",
    "\n",
    "    recon_left = reconstruction.data[:,0,:,:].squeeze().cpu().numpy()\n",
    "    recon_right = reconstruction.data[:,1,:,:].squeeze().cpu().numpy()\n",
    "\n",
    "    #vec7 = transform.forward(pose)\n",
    "    #quat = reff[0,3:]\n",
    "    #mat44 = pyrr.Matrix44.from_quaternion(quat)\n",
    "    #mat44[3,:][0:3] = reff[0,:3]\n",
    "    #print(mat44)\n",
    "    #kaj = mat44.reshape(-1)\n",
    "    #print(kaj)\n",
    "    #print(kaj.shape)\n",
    "    \n",
    "    mat44 = util.matAffine_from_matMinRep(pose.data)\n",
    "\n",
    "    recon_left = np.concatenate((recon_left[:,:,None],recon_left[:,:,None],recon_left[:,:,None]), axis=2)\n",
    "    recon_right = np.concatenate((recon_right[:,:,None],recon_right[:,:,None],recon_right[:,:,None]), axis=2)\n",
    "\n",
    "    pose_left = left_eye_transform*pyrr.Matrix44(mat44)\n",
    "    plotCoordSystemAxis(pose_left, 0, recon_left)\n",
    "    plotCoordSystemAxis(pose_left, 1, recon_left)\n",
    "    plotCoordSystemAxis(pose_left, 2, recon_left)\n",
    "\n",
    "    pose_right = right_eye_transform*pyrr.Matrix44(mat44)\n",
    "    plotCoordSystemAxis(pose_right, 0, recon_right)\n",
    "    plotCoordSystemAxis(pose_right, 1, recon_right)\n",
    "    plotCoordSystemAxis(pose_right, 2, recon_right)\n",
    "    \n",
    "    updateOutputWidget(recon_widget_left, recon_left, \"RGB\")\n",
    "    updateOutputWidget(recon_widget_right, recon_right, \"RGB\")\n",
    "\n",
    "def showDataImage(next_data, steps=0):\n",
    "    global ground_truth_labels\n",
    "    global imgs\n",
    "    global do_update\n",
    "    global ground_truth_widget\n",
    "    global pose\n",
    "    do_update = False\n",
    "    \n",
    "    image = util.split_in_channels(next_data[0])\n",
    "    \n",
    "    ground_truth_labels = next_data[1]\n",
    "    imgs = Variable(torch.from_numpy(image)).cpu()\n",
    "    pose, reco = forward(self, imgs, lambda_, draw=True)\n",
    "\n",
    "    # Print matrices in textareas\n",
    "    m_l = util.matMinRep_from_qvec(ground_truth_labels.float())\n",
    "    m_l = util.matAffine_from_matMinRep(m_l)\n",
    "    m_o = util.matAffine_from_matMinRep(pose.data.cpu())\n",
    "    pose_label.value = util.matrixString_from_matAffine(m_l)\n",
    "    pose_output.value = util.matrixString_from_matAffine(m_o)\n",
    "    pose_error.value = util.matrixString_from_matAffine(m_o - m_l)\n",
    "\n",
    "    #pose_transformed = transform.forward(pose)\n",
    "    #pose_label.value = str(ground_truth_labels.float().numpy()[0,:])\n",
    "    #pose_output.value = str(transform.forward(p).data.cpu().numpy()[0,:])\n",
    "\n",
    "    img_conv_left = util.applyBrightnessAndContrast(imgs[0,0,:,:].squeeze().numpy(), brightness_left.value, contrast_left.value)\n",
    "    img_conv_right = util.applyBrightnessAndContrast(imgs[0,2,:,:].squeeze().numpy(), brightness_right.value, contrast_right.value)\n",
    "        \n",
    "    updateOutputWidget(ground_truth_widget_left, img_conv_left)\n",
    "    updateOutputWidget(ground_truth_widget_right, img_conv_right)\n",
    "    \n",
    "    updateOutputWidget(truth_widget_left, imgs[0,0,:,:].squeeze().numpy())\n",
    "    updateOutputWidget(truth_widget_right, imgs[0,2,:,:].squeeze().numpy())\n",
    "\n",
    "    if steps == 0:\n",
    "        for i in range(len(pose_sliders)-1):\n",
    "            pose_sliders[i].max = pose[:,i]\n",
    "            pose_sliders[i].min = pose[:,i]\n",
    "    else:\n",
    "        old = []\n",
    "        for i in range(len(pose_sliders)-1):\n",
    "            old.append(pose_sliders[i].value)\n",
    "            if pose[:,i] > pose_sliders[i].max:\n",
    "                pose_sliders[i].max = pose[:,i]\n",
    "            elif pose[:,i] < pose_sliders[i].min:\n",
    "                pose_sliders[i].min = pose[:,i]\n",
    "\n",
    "        delta = pose[0,:].data.cpu().numpy() - old\n",
    "        delta /= steps\n",
    "\n",
    "        for steps in range(steps):\n",
    "            for i in range(len(pose_sliders)-1):\n",
    "                pose_sliders[i].value += delta[i]\n",
    "            on_value_change(None)\n",
    "            time.sleep(0.5)\n",
    "            \n",
    "    for i in range(len(pose_sliders)-1):\n",
    "        pose_sliders[i].value = pose[:,i]\n",
    "    on_value_change(None)\n",
    "    do_update = True\n",
    "\n",
    "train_dataset = util.MyImageFolder(root='../../../data/dumps/', transform=transforms.ToTensor(), target_transform=transforms.ToTensor())\n",
    "train_loader = torch.utils.data.DataLoader(dataset=train_dataset,batch_size=args.batch_size,num_workers=args.num_workers,shuffle=False)\n",
    "data_iter = iter(train_loader)\n",
    "\n",
    "def on_next_button_clicked(b):\n",
    "    next_data = next(data_iter)\n",
    "    showDataImage(next_data, steps=5)\n",
    "\n",
    "button_next.on_click(on_next_button_clicked)\n",
    "\n",
    "next_data = next(data_iter)\n",
    "showDataImage(next_data, steps=0)\n",
    "\n",
    "for i in range(len(pose_sliders)):\n",
    "    pose_sliders[i].observe(on_value_change)"
   ]
  },
  {
   "cell_type": "code",
   "execution_count": null,
   "metadata": {},
   "outputs": [],
   "source": []
  }
 ],
 "metadata": {
  "kernelspec": {
   "display_name": "Python 3",
   "language": "python",
   "name": "python3"
  },
  "language_info": {
   "codemirror_mode": {
    "name": "ipython",
    "version": 3
   },
   "file_extension": ".py",
   "mimetype": "text/x-python",
   "name": "python",
   "nbconvert_exporter": "python",
   "pygments_lexer": "ipython3",
   "version": "3.6.5"
  },
  "widgets": {
   "application/vnd.jupyter.widget-state+json": {
    "state": {
     "02a95245f28f48e69eda3fb3bd438d67": {
      "model_module_version": "^2.1.4",
      "state": {
       "value": "<table style=\"width:100%\">\n                <thead>\n                    <tr>\n                        <th colspan=\"2\">\n                        Could not create model:\n                        </th>\n                    </tr>\n                </thead>\n                <tbody>\n                    <tr>\n                        <td>Model name</td>\n                        <td> undefined </td>\n                    </tr>\n                    <tr>\n                        <td>Model module</td>\n                        <td> undefined </td>\n                    </tr>\n                    <tr>\n                        <td>Model module version</td>\n                        <td> undefined </td>\n                    </tr>\n                <tbody>\n                <tfoot>\n                    <tr>\n                        <th colspan=\"2\">\n                        Class undefined not found in registry \n                        </th>\n                    </tr>\n                </tfoot>\n                </table>"
      }
     },
     "086adac005c04b4190a432ca55b65c08": {
      "model_module_version": "^2.1.4",
      "state": {
       "children": [
        "IPY_MODEL_5ddce768a0cd44fcb6a02f55d97511c0",
        "IPY_MODEL_7b2a75f21e23408ba72e5f04d40c4ae0"
       ],
       "value": "<table style=\"width:100%\">\n                <thead>\n                    <tr>\n                        <th colspan=\"2\">\n                        Could not create model:\n                        </th>\n                    </tr>\n                </thead>\n                <tbody>\n                    <tr>\n                        <td>Model name</td>\n                        <td> undefined </td>\n                    </tr>\n                    <tr>\n                        <td>Model module</td>\n                        <td> undefined </td>\n                    </tr>\n                    <tr>\n                        <td>Model module version</td>\n                        <td> undefined </td>\n                    </tr>\n                <tbody>\n                <tfoot>\n                    <tr>\n                        <th colspan=\"2\">\n                        Class undefined not found in registry \n                        </th>\n                    </tr>\n                </tfoot>\n                </table>"
      }
     },
     "09a94446cf9d4aaea5de8fee2478bfe3": {
      "model_module_version": "^2.1.4",
      "state": {
       "value": "<table style=\"width:100%\">\n                <thead>\n                    <tr>\n                        <th colspan=\"2\">\n                        Could not create model:\n                        </th>\n                    </tr>\n                </thead>\n                <tbody>\n                    <tr>\n                        <td>Model name</td>\n                        <td> undefined </td>\n                    </tr>\n                    <tr>\n                        <td>Model module</td>\n                        <td> undefined </td>\n                    </tr>\n                    <tr>\n                        <td>Model module version</td>\n                        <td> undefined </td>\n                    </tr>\n                <tbody>\n                <tfoot>\n                    <tr>\n                        <th colspan=\"2\">\n                        Class undefined not found in registry \n                        </th>\n                    </tr>\n                </tfoot>\n                </table>"
      }
     },
     "0a266fd5169140bab25a3a38a8f50fb1": {
      "model_module_version": "^2.1.4",
      "state": {
       "children": [
        "IPY_MODEL_bc40a99774e645d6a95f8c5424ed326e",
        "IPY_MODEL_43698cd83e434735970d098c0c18c682"
       ],
       "value": "<table style=\"width:100%\">\n                <thead>\n                    <tr>\n                        <th colspan=\"2\">\n                        Could not create model:\n                        </th>\n                    </tr>\n                </thead>\n                <tbody>\n                    <tr>\n                        <td>Model name</td>\n                        <td> undefined </td>\n                    </tr>\n                    <tr>\n                        <td>Model module</td>\n                        <td> undefined </td>\n                    </tr>\n                    <tr>\n                        <td>Model module version</td>\n                        <td> undefined </td>\n                    </tr>\n                <tbody>\n                <tfoot>\n                    <tr>\n                        <th colspan=\"2\">\n                        Class undefined not found in registry \n                        </th>\n                    </tr>\n                </tfoot>\n                </table>"
      }
     },
     "0bb041ed3f25401da46f4d3b1b84bedd": {
      "model_module_version": "^2.1.4",
      "state": {
       "msg_id": "",
       "value": "<table style=\"width:100%\">\n                <thead>\n                    <tr>\n                        <th colspan=\"2\">\n                        Could not create model:\n                        </th>\n                    </tr>\n                </thead>\n                <tbody>\n                    <tr>\n                        <td>Model name</td>\n                        <td> undefined </td>\n                    </tr>\n                    <tr>\n                        <td>Model module</td>\n                        <td> undefined </td>\n                    </tr>\n                    <tr>\n                        <td>Model module version</td>\n                        <td> undefined </td>\n                    </tr>\n                <tbody>\n                <tfoot>\n                    <tr>\n                        <th colspan=\"2\">\n                        Class undefined not found in registry \n                        </th>\n                    </tr>\n                </tfoot>\n                </table>"
      }
     },
     "0c491954f101426f8a6d2c2c8f117c65": {
      "model_module_version": "^2.1.4",
      "state": {
       "children": [
        "IPY_MODEL_e8c41950a9d349d2a093b110f66cbb72",
        "IPY_MODEL_b74b2bb279ff49c9a7b8384e115dda91"
       ],
       "value": "<table style=\"width:100%\">\n                <thead>\n                    <tr>\n                        <th colspan=\"2\">\n                        Could not create model:\n                        </th>\n                    </tr>\n                </thead>\n                <tbody>\n                    <tr>\n                        <td>Model name</td>\n                        <td> undefined </td>\n                    </tr>\n                    <tr>\n                        <td>Model module</td>\n                        <td> undefined </td>\n                    </tr>\n                    <tr>\n                        <td>Model module version</td>\n                        <td> undefined </td>\n                    </tr>\n                <tbody>\n                <tfoot>\n                    <tr>\n                        <th colspan=\"2\">\n                        Class undefined not found in registry \n                        </th>\n                    </tr>\n                </tfoot>\n                </table>"
      }
     },
     "0d0f207a9beb4bbc8342dfdfde8abfd1": {
      "model_module_version": "^2.1.4",
      "state": {
       "msg_id": "",
       "value": "<table style=\"width:100%\">\n                <thead>\n                    <tr>\n                        <th colspan=\"2\">\n                        Could not create model:\n                        </th>\n                    </tr>\n                </thead>\n                <tbody>\n                    <tr>\n                        <td>Model name</td>\n                        <td> undefined </td>\n                    </tr>\n                    <tr>\n                        <td>Model module</td>\n                        <td> undefined </td>\n                    </tr>\n                    <tr>\n                        <td>Model module version</td>\n                        <td> undefined </td>\n                    </tr>\n                <tbody>\n                <tfoot>\n                    <tr>\n                        <th colspan=\"2\">\n                        Class undefined not found in registry \n                        </th>\n                    </tr>\n                </tfoot>\n                </table>"
      }
     },
     "17ce0b15ae7f4e07bb389acdb95723a9": {
      "model_module_version": "^2.1.4",
      "state": {
       "children": [
        "IPY_MODEL_98eb087ff1554f3983db53fa15fe205e",
        "IPY_MODEL_2cb31d41b01c41cab49231e6bbcef9a5"
       ],
       "value": "<table style=\"width:100%\">\n                <thead>\n                    <tr>\n                        <th colspan=\"2\">\n                        Could not create model:\n                        </th>\n                    </tr>\n                </thead>\n                <tbody>\n                    <tr>\n                        <td>Model name</td>\n                        <td> undefined </td>\n                    </tr>\n                    <tr>\n                        <td>Model module</td>\n                        <td> undefined </td>\n                    </tr>\n                    <tr>\n                        <td>Model module version</td>\n                        <td> undefined </td>\n                    </tr>\n                <tbody>\n                <tfoot>\n                    <tr>\n                        <th colspan=\"2\">\n                        Class undefined not found in registry \n                        </th>\n                    </tr>\n                </tfoot>\n                </table>"
      }
     },
     "18fbf107d608491b8631570d892bc11c": {
      "model_module_version": "^2.1.4",
      "state": {
       "value": "<table style=\"width:100%\">\n                <thead>\n                    <tr>\n                        <th colspan=\"2\">\n                        Could not create model:\n                        </th>\n                    </tr>\n                </thead>\n                <tbody>\n                    <tr>\n                        <td>Model name</td>\n                        <td> undefined </td>\n                    </tr>\n                    <tr>\n                        <td>Model module</td>\n                        <td> undefined </td>\n                    </tr>\n                    <tr>\n                        <td>Model module version</td>\n                        <td> undefined </td>\n                    </tr>\n                <tbody>\n                <tfoot>\n                    <tr>\n                        <th colspan=\"2\">\n                        Class undefined not found in registry \n                        </th>\n                    </tr>\n                </tfoot>\n                </table>"
      }
     },
     "1a1f8a848b0344be8b0ccf93d1d2026c": {
      "model_module_version": "^2.1.4",
      "state": {
       "value": "<table style=\"width:100%\">\n                <thead>\n                    <tr>\n                        <th colspan=\"2\">\n                        Could not create model:\n                        </th>\n                    </tr>\n                </thead>\n                <tbody>\n                    <tr>\n                        <td>Model name</td>\n                        <td> undefined </td>\n                    </tr>\n                    <tr>\n                        <td>Model module</td>\n                        <td> undefined </td>\n                    </tr>\n                    <tr>\n                        <td>Model module version</td>\n                        <td> undefined </td>\n                    </tr>\n                <tbody>\n                <tfoot>\n                    <tr>\n                        <th colspan=\"2\">\n                        Class undefined not found in registry \n                        </th>\n                    </tr>\n                </tfoot>\n                </table>"
      }
     },
     "1a3f3f985d584928bc8d0c7ab6f70f2e": {
      "model_module_version": "^2.1.4",
      "state": {
       "value": "<table style=\"width:100%\">\n                <thead>\n                    <tr>\n                        <th colspan=\"2\">\n                        Could not create model:\n                        </th>\n                    </tr>\n                </thead>\n                <tbody>\n                    <tr>\n                        <td>Model name</td>\n                        <td> undefined </td>\n                    </tr>\n                    <tr>\n                        <td>Model module</td>\n                        <td> undefined </td>\n                    </tr>\n                    <tr>\n                        <td>Model module version</td>\n                        <td> undefined </td>\n                    </tr>\n                <tbody>\n                <tfoot>\n                    <tr>\n                        <th colspan=\"2\">\n                        Class undefined not found in registry \n                        </th>\n                    </tr>\n                </tfoot>\n                </table>"
      }
     },
     "1cd36f848c6a4887b49476cedbf3d552": {
      "model_module_version": "^2.1.4",
      "state": {
       "value": "<table style=\"width:100%\">\n                <thead>\n                    <tr>\n                        <th colspan=\"2\">\n                        Could not create model:\n                        </th>\n                    </tr>\n                </thead>\n                <tbody>\n                    <tr>\n                        <td>Model name</td>\n                        <td> undefined </td>\n                    </tr>\n                    <tr>\n                        <td>Model module</td>\n                        <td> undefined </td>\n                    </tr>\n                    <tr>\n                        <td>Model module version</td>\n                        <td> undefined </td>\n                    </tr>\n                <tbody>\n                <tfoot>\n                    <tr>\n                        <th colspan=\"2\">\n                        Class undefined not found in registry \n                        </th>\n                    </tr>\n                </tfoot>\n                </table>"
      }
     },
     "1e92dc6d2e6a4746ae2cd05ab57165ec": {
      "model_module_version": "^2.1.4",
      "state": {
       "description": "x",
       "value": "<table style=\"width:100%\">\n                <thead>\n                    <tr>\n                        <th colspan=\"2\">\n                        Could not create model:\n                        </th>\n                    </tr>\n                </thead>\n                <tbody>\n                    <tr>\n                        <td>Model name</td>\n                        <td> undefined </td>\n                    </tr>\n                    <tr>\n                        <td>Model module</td>\n                        <td> undefined </td>\n                    </tr>\n                    <tr>\n                        <td>Model module version</td>\n                        <td> undefined </td>\n                    </tr>\n                <tbody>\n                <tfoot>\n                    <tr>\n                        <th colspan=\"2\">\n                        Class undefined not found in registry \n                        </th>\n                    </tr>\n                </tfoot>\n                </table>"
      }
     },
     "28fc64f255dc4af98ea2e4f433a7e659": {
      "model_module_version": "^2.1.4",
      "state": {
       "children": [
        "IPY_MODEL_d00724d28f834c4991169f92b8e447cb",
        "IPY_MODEL_b5c4b56ba9cd45e1bdca6530cc78c9e1"
       ],
       "value": "<table style=\"width:100%\">\n                <thead>\n                    <tr>\n                        <th colspan=\"2\">\n                        Could not create model:\n                        </th>\n                    </tr>\n                </thead>\n                <tbody>\n                    <tr>\n                        <td>Model name</td>\n                        <td> undefined </td>\n                    </tr>\n                    <tr>\n                        <td>Model module</td>\n                        <td> undefined </td>\n                    </tr>\n                    <tr>\n                        <td>Model module version</td>\n                        <td> undefined </td>\n                    </tr>\n                <tbody>\n                <tfoot>\n                    <tr>\n                        <th colspan=\"2\">\n                        Class undefined not found in registry \n                        </th>\n                    </tr>\n                </tfoot>\n                </table>"
      }
     },
     "2a48c6cde59541fe8760420e54905bb8": {
      "model_module_version": "^2.1.4",
      "state": {
       "value": "<table style=\"width:100%\">\n                <thead>\n                    <tr>\n                        <th colspan=\"2\">\n                        Could not create model:\n                        </th>\n                    </tr>\n                </thead>\n                <tbody>\n                    <tr>\n                        <td>Model name</td>\n                        <td> undefined </td>\n                    </tr>\n                    <tr>\n                        <td>Model module</td>\n                        <td> undefined </td>\n                    </tr>\n                    <tr>\n                        <td>Model module version</td>\n                        <td> undefined </td>\n                    </tr>\n                <tbody>\n                <tfoot>\n                    <tr>\n                        <th colspan=\"2\">\n                        Class undefined not found in registry \n                        </th>\n                    </tr>\n                </tfoot>\n                </table>"
      }
     },
     "2a9914efad9b4709b512186b35fca807": {
      "model_module_version": "^2.1.4",
      "state": {
       "value": "<table style=\"width:100%\">\n                <thead>\n                    <tr>\n                        <th colspan=\"2\">\n                        Could not create model:\n                        </th>\n                    </tr>\n                </thead>\n                <tbody>\n                    <tr>\n                        <td>Model name</td>\n                        <td> undefined </td>\n                    </tr>\n                    <tr>\n                        <td>Model module</td>\n                        <td> undefined </td>\n                    </tr>\n                    <tr>\n                        <td>Model module version</td>\n                        <td> undefined </td>\n                    </tr>\n                <tbody>\n                <tfoot>\n                    <tr>\n                        <th colspan=\"2\">\n                        Class undefined not found in registry \n                        </th>\n                    </tr>\n                </tfoot>\n                </table>"
      }
     },
     "2b61a2efed51453ba7d9b61640e3257b": {
      "model_module_version": "^2.1.4",
      "state": {
       "children": [
        "IPY_MODEL_ca7fc7414df744c1a12a80afcd929124",
        "IPY_MODEL_892d3ae0c7194bf880319e259ecc2978"
       ],
       "value": "<table style=\"width:100%\">\n                <thead>\n                    <tr>\n                        <th colspan=\"2\">\n                        Could not create model:\n                        </th>\n                    </tr>\n                </thead>\n                <tbody>\n                    <tr>\n                        <td>Model name</td>\n                        <td> undefined </td>\n                    </tr>\n                    <tr>\n                        <td>Model module</td>\n                        <td> undefined </td>\n                    </tr>\n                    <tr>\n                        <td>Model module version</td>\n                        <td> undefined </td>\n                    </tr>\n                <tbody>\n                <tfoot>\n                    <tr>\n                        <th colspan=\"2\">\n                        Class undefined not found in registry \n                        </th>\n                    </tr>\n                </tfoot>\n                </table>"
      }
     },
     "2cb31d41b01c41cab49231e6bbcef9a5": {
      "model_module_version": "^2.1.4",
      "state": {
       "msg_id": "",
       "value": "<table style=\"width:100%\">\n                <thead>\n                    <tr>\n                        <th colspan=\"2\">\n                        Could not create model:\n                        </th>\n                    </tr>\n                </thead>\n                <tbody>\n                    <tr>\n                        <td>Model name</td>\n                        <td> undefined </td>\n                    </tr>\n                    <tr>\n                        <td>Model module</td>\n                        <td> undefined </td>\n                    </tr>\n                    <tr>\n                        <td>Model module version</td>\n                        <td> undefined </td>\n                    </tr>\n                <tbody>\n                <tfoot>\n                    <tr>\n                        <th colspan=\"2\">\n                        Class undefined not found in registry \n                        </th>\n                    </tr>\n                </tfoot>\n                </table>"
      }
     },
     "2f4edba5b47e4d5590df1386c754fd88": {
      "model_module_version": "^2.1.4",
      "state": {
       "value": "<table style=\"width:100%\">\n                <thead>\n                    <tr>\n                        <th colspan=\"2\">\n                        Could not create model:\n                        </th>\n                    </tr>\n                </thead>\n                <tbody>\n                    <tr>\n                        <td>Model name</td>\n                        <td> undefined </td>\n                    </tr>\n                    <tr>\n                        <td>Model module</td>\n                        <td> undefined </td>\n                    </tr>\n                    <tr>\n                        <td>Model module version</td>\n                        <td> undefined </td>\n                    </tr>\n                <tbody>\n                <tfoot>\n                    <tr>\n                        <th colspan=\"2\">\n                        Class undefined not found in registry \n                        </th>\n                    </tr>\n                </tfoot>\n                </table>"
      }
     },
     "32e0e6999b084991bcd84438c81ff67f": {
      "model_module_version": "^2.1.4",
      "state": {
       "value": "<table style=\"width:100%\">\n                <thead>\n                    <tr>\n                        <th colspan=\"2\">\n                        Could not create model:\n                        </th>\n                    </tr>\n                </thead>\n                <tbody>\n                    <tr>\n                        <td>Model name</td>\n                        <td> undefined </td>\n                    </tr>\n                    <tr>\n                        <td>Model module</td>\n                        <td> undefined </td>\n                    </tr>\n                    <tr>\n                        <td>Model module version</td>\n                        <td> undefined </td>\n                    </tr>\n                <tbody>\n                <tfoot>\n                    <tr>\n                        <th colspan=\"2\">\n                        Class undefined not found in registry \n                        </th>\n                    </tr>\n                </tfoot>\n                </table>"
      }
     },
     "3ac7a342207a410888cc1bde2c42f286": {
      "model_module_version": "^2.1.4",
      "state": {
       "value": "<table style=\"width:100%\">\n                <thead>\n                    <tr>\n                        <th colspan=\"2\">\n                        Could not create model:\n                        </th>\n                    </tr>\n                </thead>\n                <tbody>\n                    <tr>\n                        <td>Model name</td>\n                        <td> undefined </td>\n                    </tr>\n                    <tr>\n                        <td>Model module</td>\n                        <td> undefined </td>\n                    </tr>\n                    <tr>\n                        <td>Model module version</td>\n                        <td> undefined </td>\n                    </tr>\n                <tbody>\n                <tfoot>\n                    <tr>\n                        <th colspan=\"2\">\n                        Class undefined not found in registry \n                        </th>\n                    </tr>\n                </tfoot>\n                </table>"
      }
     },
     "3c2f6371fb9d4ef8963013d7ec752f1a": {
      "model_module": "jupyter-js-widgets",
      "model_module_version": "~2.1.4",
      "model_name": "LayoutModel",
      "state": {
       "_model_module_version": "~2.1.4",
       "_view_module_version": "~2.1.4"
      }
     },
     "4085225553f745b5a56321cf316c733e": {
      "model_module": "jupyter-js-widgets",
      "model_module_version": "~2.1.4",
      "model_name": "SliderStyleModel",
      "state": {
       "_model_module_version": "~2.1.4",
       "_view_module_version": "~2.1.4"
      }
     },
     "40dd2c2fbf0d41babb963d45187381e3": {
      "model_module_version": "^2.1.4",
      "state": {
       "value": "<table style=\"width:100%\">\n                <thead>\n                    <tr>\n                        <th colspan=\"2\">\n                        Could not create model:\n                        </th>\n                    </tr>\n                </thead>\n                <tbody>\n                    <tr>\n                        <td>Model name</td>\n                        <td> undefined </td>\n                    </tr>\n                    <tr>\n                        <td>Model module</td>\n                        <td> undefined </td>\n                    </tr>\n                    <tr>\n                        <td>Model module version</td>\n                        <td> undefined </td>\n                    </tr>\n                <tbody>\n                <tfoot>\n                    <tr>\n                        <th colspan=\"2\">\n                        Class undefined not found in registry \n                        </th>\n                    </tr>\n                </tfoot>\n                </table>"
      }
     },
     "43698cd83e434735970d098c0c18c682": {
      "model_module_version": "^2.1.4",
      "state": {
       "msg_id": "",
       "value": "<table style=\"width:100%\">\n                <thead>\n                    <tr>\n                        <th colspan=\"2\">\n                        Could not create model:\n                        </th>\n                    </tr>\n                </thead>\n                <tbody>\n                    <tr>\n                        <td>Model name</td>\n                        <td> undefined </td>\n                    </tr>\n                    <tr>\n                        <td>Model module</td>\n                        <td> undefined </td>\n                    </tr>\n                    <tr>\n                        <td>Model module version</td>\n                        <td> undefined </td>\n                    </tr>\n                <tbody>\n                <tfoot>\n                    <tr>\n                        <th colspan=\"2\">\n                        Class undefined not found in registry \n                        </th>\n                    </tr>\n                </tfoot>\n                </table>"
      }
     },
     "4516a929146f4c6aba450499be5a6bae": {
      "model_module_version": "^2.1.4",
      "state": {
       "children": [
        "IPY_MODEL_1e92dc6d2e6a4746ae2cd05ab57165ec",
        "IPY_MODEL_0d0f207a9beb4bbc8342dfdfde8abfd1"
       ],
       "value": "<table style=\"width:100%\">\n                <thead>\n                    <tr>\n                        <th colspan=\"2\">\n                        Could not create model:\n                        </th>\n                    </tr>\n                </thead>\n                <tbody>\n                    <tr>\n                        <td>Model name</td>\n                        <td> undefined </td>\n                    </tr>\n                    <tr>\n                        <td>Model module</td>\n                        <td> undefined </td>\n                    </tr>\n                    <tr>\n                        <td>Model module version</td>\n                        <td> undefined </td>\n                    </tr>\n                <tbody>\n                <tfoot>\n                    <tr>\n                        <th colspan=\"2\">\n                        Class undefined not found in registry \n                        </th>\n                    </tr>\n                </tfoot>\n                </table>"
      }
     },
     "46c3f00a4866401bb7d7dd886668baeb": {
      "model_module_version": "^2.1.4",
      "state": {
       "msg_id": "",
       "value": "<table style=\"width:100%\">\n                <thead>\n                    <tr>\n                        <th colspan=\"2\">\n                        Could not create model:\n                        </th>\n                    </tr>\n                </thead>\n                <tbody>\n                    <tr>\n                        <td>Model name</td>\n                        <td> undefined </td>\n                    </tr>\n                    <tr>\n                        <td>Model module</td>\n                        <td> undefined </td>\n                    </tr>\n                    <tr>\n                        <td>Model module version</td>\n                        <td> undefined </td>\n                    </tr>\n                <tbody>\n                <tfoot>\n                    <tr>\n                        <th colspan=\"2\">\n                        Class undefined not found in registry \n                        </th>\n                    </tr>\n                </tfoot>\n                </table>"
      }
     },
     "49aa40dd11114ddabb68be1d01d1e41d": {
      "model_module_version": "^2.1.4",
      "state": {
       "value": "<table style=\"width:100%\">\n                <thead>\n                    <tr>\n                        <th colspan=\"2\">\n                        Could not create model:\n                        </th>\n                    </tr>\n                </thead>\n                <tbody>\n                    <tr>\n                        <td>Model name</td>\n                        <td> undefined </td>\n                    </tr>\n                    <tr>\n                        <td>Model module</td>\n                        <td> undefined </td>\n                    </tr>\n                    <tr>\n                        <td>Model module version</td>\n                        <td> undefined </td>\n                    </tr>\n                <tbody>\n                <tfoot>\n                    <tr>\n                        <th colspan=\"2\">\n                        Class undefined not found in registry \n                        </th>\n                    </tr>\n                </tfoot>\n                </table>"
      }
     },
     "4a96e2d67ee54a41a257d81719387929": {
      "model_module_version": "^2.1.4",
      "state": {
       "msg_id": "",
       "value": "<table style=\"width:100%\">\n                <thead>\n                    <tr>\n                        <th colspan=\"2\">\n                        Could not create model:\n                        </th>\n                    </tr>\n                </thead>\n                <tbody>\n                    <tr>\n                        <td>Model name</td>\n                        <td> undefined </td>\n                    </tr>\n                    <tr>\n                        <td>Model module</td>\n                        <td> undefined </td>\n                    </tr>\n                    <tr>\n                        <td>Model module version</td>\n                        <td> undefined </td>\n                    </tr>\n                <tbody>\n                <tfoot>\n                    <tr>\n                        <th colspan=\"2\">\n                        Class undefined not found in registry \n                        </th>\n                    </tr>\n                </tfoot>\n                </table>"
      }
     },
     "501729002a44409ba89f0ce4598c4615": {
      "model_module_version": "^2.1.4",
      "state": {
       "value": "<table style=\"width:100%\">\n                <thead>\n                    <tr>\n                        <th colspan=\"2\">\n                        Could not create model:\n                        </th>\n                    </tr>\n                </thead>\n                <tbody>\n                    <tr>\n                        <td>Model name</td>\n                        <td> undefined </td>\n                    </tr>\n                    <tr>\n                        <td>Model module</td>\n                        <td> undefined </td>\n                    </tr>\n                    <tr>\n                        <td>Model module version</td>\n                        <td> undefined </td>\n                    </tr>\n                <tbody>\n                <tfoot>\n                    <tr>\n                        <th colspan=\"2\">\n                        Class undefined not found in registry \n                        </th>\n                    </tr>\n                </tfoot>\n                </table>"
      }
     },
     "55c4545c3cf9416ca5f9b6468f70a6ea": {
      "model_module_version": "^2.1.4",
      "state": {
       "value": "<table style=\"width:100%\">\n                <thead>\n                    <tr>\n                        <th colspan=\"2\">\n                        Could not create model:\n                        </th>\n                    </tr>\n                </thead>\n                <tbody>\n                    <tr>\n                        <td>Model name</td>\n                        <td> undefined </td>\n                    </tr>\n                    <tr>\n                        <td>Model module</td>\n                        <td> undefined </td>\n                    </tr>\n                    <tr>\n                        <td>Model module version</td>\n                        <td> undefined </td>\n                    </tr>\n                <tbody>\n                <tfoot>\n                    <tr>\n                        <th colspan=\"2\">\n                        Class undefined not found in registry \n                        </th>\n                    </tr>\n                </tfoot>\n                </table>"
      }
     },
     "5754386e4c0348748bd72a39c98e3513": {
      "model_module_version": "^2.1.4",
      "state": {
       "value": "<table style=\"width:100%\">\n                <thead>\n                    <tr>\n                        <th colspan=\"2\">\n                        Could not create model:\n                        </th>\n                    </tr>\n                </thead>\n                <tbody>\n                    <tr>\n                        <td>Model name</td>\n                        <td> undefined </td>\n                    </tr>\n                    <tr>\n                        <td>Model module</td>\n                        <td> undefined </td>\n                    </tr>\n                    <tr>\n                        <td>Model module version</td>\n                        <td> undefined </td>\n                    </tr>\n                <tbody>\n                <tfoot>\n                    <tr>\n                        <th colspan=\"2\">\n                        Class undefined not found in registry \n                        </th>\n                    </tr>\n                </tfoot>\n                </table>"
      }
     },
     "5d5b28b089e242db97c0fb1fbdd63320": {
      "model_module_version": "^2.1.4",
      "state": {
       "value": "<table style=\"width:100%\">\n                <thead>\n                    <tr>\n                        <th colspan=\"2\">\n                        Could not create model:\n                        </th>\n                    </tr>\n                </thead>\n                <tbody>\n                    <tr>\n                        <td>Model name</td>\n                        <td> undefined </td>\n                    </tr>\n                    <tr>\n                        <td>Model module</td>\n                        <td> undefined </td>\n                    </tr>\n                    <tr>\n                        <td>Model module version</td>\n                        <td> undefined </td>\n                    </tr>\n                <tbody>\n                <tfoot>\n                    <tr>\n                        <th colspan=\"2\">\n                        Class undefined not found in registry \n                        </th>\n                    </tr>\n                </tfoot>\n                </table>"
      }
     },
     "5ddce768a0cd44fcb6a02f55d97511c0": {
      "model_module_version": "^2.1.4",
      "state": {
       "description": "x",
       "value": "<table style=\"width:100%\">\n                <thead>\n                    <tr>\n                        <th colspan=\"2\">\n                        Could not create model:\n                        </th>\n                    </tr>\n                </thead>\n                <tbody>\n                    <tr>\n                        <td>Model name</td>\n                        <td> undefined </td>\n                    </tr>\n                    <tr>\n                        <td>Model module</td>\n                        <td> undefined </td>\n                    </tr>\n                    <tr>\n                        <td>Model module version</td>\n                        <td> undefined </td>\n                    </tr>\n                <tbody>\n                <tfoot>\n                    <tr>\n                        <th colspan=\"2\">\n                        Class undefined not found in registry \n                        </th>\n                    </tr>\n                </tfoot>\n                </table>"
      }
     },
     "5ef172040b89471c852363eeffcd40ad": {
      "model_module": "jupyter-js-widgets",
      "model_module_version": "~2.1.4",
      "model_name": "OutputModel",
      "state": {
       "_dom_classes": [],
       "_model_module": "jupyter-js-widgets",
       "_model_module_version": "~2.1.4",
       "_view_module": "jupyter-js-widgets",
       "_view_module_version": "~2.1.4",
       "layout": "IPY_MODEL_61d17c7ab05d49ad917fe0ad9a2f5082",
       "msg_throttle": 1
      }
     },
     "61d17c7ab05d49ad917fe0ad9a2f5082": {
      "model_module": "jupyter-js-widgets",
      "model_module_version": "~2.1.4",
      "model_name": "LayoutModel",
      "state": {
       "_model_module_version": "~2.1.4",
       "_view_module_version": "~2.1.4"
      }
     },
     "621171c6d3824e1aa20b00a470355ba1": {
      "model_module_version": "^2.1.4",
      "state": {
       "value": "<table style=\"width:100%\">\n                <thead>\n                    <tr>\n                        <th colspan=\"2\">\n                        Could not create model:\n                        </th>\n                    </tr>\n                </thead>\n                <tbody>\n                    <tr>\n                        <td>Model name</td>\n                        <td> undefined </td>\n                    </tr>\n                    <tr>\n                        <td>Model module</td>\n                        <td> undefined </td>\n                    </tr>\n                    <tr>\n                        <td>Model module version</td>\n                        <td> undefined </td>\n                    </tr>\n                <tbody>\n                <tfoot>\n                    <tr>\n                        <th colspan=\"2\">\n                        Class undefined not found in registry \n                        </th>\n                    </tr>\n                </tfoot>\n                </table>"
      }
     },
     "68b9424e93a54f97b286548081d65a10": {
      "model_module_version": "^2.1.4",
      "state": {
       "value": "<table style=\"width:100%\">\n                <thead>\n                    <tr>\n                        <th colspan=\"2\">\n                        Could not create model:\n                        </th>\n                    </tr>\n                </thead>\n                <tbody>\n                    <tr>\n                        <td>Model name</td>\n                        <td> undefined </td>\n                    </tr>\n                    <tr>\n                        <td>Model module</td>\n                        <td> undefined </td>\n                    </tr>\n                    <tr>\n                        <td>Model module version</td>\n                        <td> undefined </td>\n                    </tr>\n                <tbody>\n                <tfoot>\n                    <tr>\n                        <th colspan=\"2\">\n                        Class undefined not found in registry \n                        </th>\n                    </tr>\n                </tfoot>\n                </table>"
      }
     },
     "6a248cb18c8c40658ea8cf7615f7a622": {
      "model_module_version": "^2.1.4",
      "state": {
       "value": "<table style=\"width:100%\">\n                <thead>\n                    <tr>\n                        <th colspan=\"2\">\n                        Could not create model:\n                        </th>\n                    </tr>\n                </thead>\n                <tbody>\n                    <tr>\n                        <td>Model name</td>\n                        <td> undefined </td>\n                    </tr>\n                    <tr>\n                        <td>Model module</td>\n                        <td> undefined </td>\n                    </tr>\n                    <tr>\n                        <td>Model module version</td>\n                        <td> undefined </td>\n                    </tr>\n                <tbody>\n                <tfoot>\n                    <tr>\n                        <th colspan=\"2\">\n                        Class undefined not found in registry \n                        </th>\n                    </tr>\n                </tfoot>\n                </table>"
      }
     },
     "6aaa433ab117461b889545d142a27175": {
      "model_module_version": "^2.1.4",
      "state": {
       "description": "x",
       "value": "<table style=\"width:100%\">\n                <thead>\n                    <tr>\n                        <th colspan=\"2\">\n                        Could not create model:\n                        </th>\n                    </tr>\n                </thead>\n                <tbody>\n                    <tr>\n                        <td>Model name</td>\n                        <td> undefined </td>\n                    </tr>\n                    <tr>\n                        <td>Model module</td>\n                        <td> undefined </td>\n                    </tr>\n                    <tr>\n                        <td>Model module version</td>\n                        <td> undefined </td>\n                    </tr>\n                <tbody>\n                <tfoot>\n                    <tr>\n                        <th colspan=\"2\">\n                        Class undefined not found in registry \n                        </th>\n                    </tr>\n                </tfoot>\n                </table>"
      }
     },
     "73132f70043c4a6cb2a8ceb471a8f252": {
      "model_module_version": "^2.1.4",
      "state": {
       "value": "<table style=\"width:100%\">\n                <thead>\n                    <tr>\n                        <th colspan=\"2\">\n                        Could not create model:\n                        </th>\n                    </tr>\n                </thead>\n                <tbody>\n                    <tr>\n                        <td>Model name</td>\n                        <td> undefined </td>\n                    </tr>\n                    <tr>\n                        <td>Model module</td>\n                        <td> undefined </td>\n                    </tr>\n                    <tr>\n                        <td>Model module version</td>\n                        <td> undefined </td>\n                    </tr>\n                <tbody>\n                <tfoot>\n                    <tr>\n                        <th colspan=\"2\">\n                        Class undefined not found in registry \n                        </th>\n                    </tr>\n                </tfoot>\n                </table>"
      }
     },
     "76b009679d104667af00faea672b290a": {
      "model_module_version": "^2.1.4",
      "state": {
       "value": "<table style=\"width:100%\">\n                <thead>\n                    <tr>\n                        <th colspan=\"2\">\n                        Could not create model:\n                        </th>\n                    </tr>\n                </thead>\n                <tbody>\n                    <tr>\n                        <td>Model name</td>\n                        <td> undefined </td>\n                    </tr>\n                    <tr>\n                        <td>Model module</td>\n                        <td> undefined </td>\n                    </tr>\n                    <tr>\n                        <td>Model module version</td>\n                        <td> undefined </td>\n                    </tr>\n                <tbody>\n                <tfoot>\n                    <tr>\n                        <th colspan=\"2\">\n                        Class undefined not found in registry \n                        </th>\n                    </tr>\n                </tfoot>\n                </table>"
      }
     },
     "79c73807325f49d393b6cf08bad0b9ef": {
      "model_module_version": "^2.1.4",
      "state": {
       "value": "<table style=\"width:100%\">\n                <thead>\n                    <tr>\n                        <th colspan=\"2\">\n                        Could not create model:\n                        </th>\n                    </tr>\n                </thead>\n                <tbody>\n                    <tr>\n                        <td>Model name</td>\n                        <td> undefined </td>\n                    </tr>\n                    <tr>\n                        <td>Model module</td>\n                        <td> undefined </td>\n                    </tr>\n                    <tr>\n                        <td>Model module version</td>\n                        <td> undefined </td>\n                    </tr>\n                <tbody>\n                <tfoot>\n                    <tr>\n                        <th colspan=\"2\">\n                        Class undefined not found in registry \n                        </th>\n                    </tr>\n                </tfoot>\n                </table>"
      }
     },
     "7b2a75f21e23408ba72e5f04d40c4ae0": {
      "model_module_version": "^2.1.4",
      "state": {
       "msg_id": "",
       "value": "<table style=\"width:100%\">\n                <thead>\n                    <tr>\n                        <th colspan=\"2\">\n                        Could not create model:\n                        </th>\n                    </tr>\n                </thead>\n                <tbody>\n                    <tr>\n                        <td>Model name</td>\n                        <td> undefined </td>\n                    </tr>\n                    <tr>\n                        <td>Model module</td>\n                        <td> undefined </td>\n                    </tr>\n                    <tr>\n                        <td>Model module version</td>\n                        <td> undefined </td>\n                    </tr>\n                <tbody>\n                <tfoot>\n                    <tr>\n                        <th colspan=\"2\">\n                        Class undefined not found in registry \n                        </th>\n                    </tr>\n                </tfoot>\n                </table>"
      }
     },
     "7fdb52036a2c425b968f1cb3f18880cc": {
      "model_module": "jupyter-js-widgets",
      "model_module_version": "~2.1.4",
      "model_name": "VBoxModel",
      "state": {
       "_dom_classes": [
        "widget-interact"
       ],
       "_model_module_version": "~2.1.4",
       "_view_module_version": "~2.1.4",
       "children": [
        "IPY_MODEL_acf1144a079947a3b72f448ff497b5aa",
        "IPY_MODEL_5ef172040b89471c852363eeffcd40ad"
       ],
       "layout": "IPY_MODEL_a3da27f324824245ab4548048acf08ce"
      }
     },
     "804d2f26720d4c7a80aca19ce362f6e3": {
      "model_module_version": "^2.1.4",
      "state": {
       "value": "<table style=\"width:100%\">\n                <thead>\n                    <tr>\n                        <th colspan=\"2\">\n                        Could not create model:\n                        </th>\n                    </tr>\n                </thead>\n                <tbody>\n                    <tr>\n                        <td>Model name</td>\n                        <td> undefined </td>\n                    </tr>\n                    <tr>\n                        <td>Model module</td>\n                        <td> undefined </td>\n                    </tr>\n                    <tr>\n                        <td>Model module version</td>\n                        <td> undefined </td>\n                    </tr>\n                <tbody>\n                <tfoot>\n                    <tr>\n                        <th colspan=\"2\">\n                        Class undefined not found in registry \n                        </th>\n                    </tr>\n                </tfoot>\n                </table>"
      }
     },
     "83640725b367458d874b51c6da3c0298": {
      "model_module_version": "^2.1.4",
      "state": {
       "description": "x",
       "value": "<table style=\"width:100%\">\n                <thead>\n                    <tr>\n                        <th colspan=\"2\">\n                        Could not create model:\n                        </th>\n                    </tr>\n                </thead>\n                <tbody>\n                    <tr>\n                        <td>Model name</td>\n                        <td> undefined </td>\n                    </tr>\n                    <tr>\n                        <td>Model module</td>\n                        <td> undefined </td>\n                    </tr>\n                    <tr>\n                        <td>Model module version</td>\n                        <td> undefined </td>\n                    </tr>\n                <tbody>\n                <tfoot>\n                    <tr>\n                        <th colspan=\"2\">\n                        Class undefined not found in registry \n                        </th>\n                    </tr>\n                </tfoot>\n                </table>"
      }
     },
     "842d398e0f0b49bb82816bf12e32d8ae": {
      "model_module_version": "^2.1.4",
      "state": {
       "children": [
        "IPY_MODEL_b3aaafaed364432d9f29a2334748fb51",
        "IPY_MODEL_0bb041ed3f25401da46f4d3b1b84bedd"
       ],
       "value": "<table style=\"width:100%\">\n                <thead>\n                    <tr>\n                        <th colspan=\"2\">\n                        Could not create model:\n                        </th>\n                    </tr>\n                </thead>\n                <tbody>\n                    <tr>\n                        <td>Model name</td>\n                        <td> undefined </td>\n                    </tr>\n                    <tr>\n                        <td>Model module</td>\n                        <td> undefined </td>\n                    </tr>\n                    <tr>\n                        <td>Model module version</td>\n                        <td> undefined </td>\n                    </tr>\n                <tbody>\n                <tfoot>\n                    <tr>\n                        <th colspan=\"2\">\n                        Class undefined not found in registry \n                        </th>\n                    </tr>\n                </tfoot>\n                </table>"
      }
     },
     "892d3ae0c7194bf880319e259ecc2978": {
      "model_module_version": "^2.1.4",
      "state": {
       "msg_id": "",
       "value": "<table style=\"width:100%\">\n                <thead>\n                    <tr>\n                        <th colspan=\"2\">\n                        Could not create model:\n                        </th>\n                    </tr>\n                </thead>\n                <tbody>\n                    <tr>\n                        <td>Model name</td>\n                        <td> undefined </td>\n                    </tr>\n                    <tr>\n                        <td>Model module</td>\n                        <td> undefined </td>\n                    </tr>\n                    <tr>\n                        <td>Model module version</td>\n                        <td> undefined </td>\n                    </tr>\n                <tbody>\n                <tfoot>\n                    <tr>\n                        <th colspan=\"2\">\n                        Class undefined not found in registry \n                        </th>\n                    </tr>\n                </tfoot>\n                </table>"
      }
     },
     "8c53fafbc3f84f67a956e57f3add21e6": {
      "model_module_version": "^2.1.4",
      "state": {
       "value": "<table style=\"width:100%\">\n                <thead>\n                    <tr>\n                        <th colspan=\"2\">\n                        Could not create model:\n                        </th>\n                    </tr>\n                </thead>\n                <tbody>\n                    <tr>\n                        <td>Model name</td>\n                        <td> undefined </td>\n                    </tr>\n                    <tr>\n                        <td>Model module</td>\n                        <td> undefined </td>\n                    </tr>\n                    <tr>\n                        <td>Model module version</td>\n                        <td> undefined </td>\n                    </tr>\n                <tbody>\n                <tfoot>\n                    <tr>\n                        <th colspan=\"2\">\n                        Class undefined not found in registry \n                        </th>\n                    </tr>\n                </tfoot>\n                </table>"
      }
     },
     "96847b2fae384f758634f48976d6387d": {
      "model_module_version": "^2.1.4",
      "state": {
       "value": "<table style=\"width:100%\">\n                <thead>\n                    <tr>\n                        <th colspan=\"2\">\n                        Could not create model:\n                        </th>\n                    </tr>\n                </thead>\n                <tbody>\n                    <tr>\n                        <td>Model name</td>\n                        <td> undefined </td>\n                    </tr>\n                    <tr>\n                        <td>Model module</td>\n                        <td> undefined </td>\n                    </tr>\n                    <tr>\n                        <td>Model module version</td>\n                        <td> undefined </td>\n                    </tr>\n                <tbody>\n                <tfoot>\n                    <tr>\n                        <th colspan=\"2\">\n                        Class undefined not found in registry \n                        </th>\n                    </tr>\n                </tfoot>\n                </table>"
      }
     },
     "98eb087ff1554f3983db53fa15fe205e": {
      "model_module_version": "^2.1.4",
      "state": {
       "description": "x",
       "value": "<table style=\"width:100%\">\n                <thead>\n                    <tr>\n                        <th colspan=\"2\">\n                        Could not create model:\n                        </th>\n                    </tr>\n                </thead>\n                <tbody>\n                    <tr>\n                        <td>Model name</td>\n                        <td> undefined </td>\n                    </tr>\n                    <tr>\n                        <td>Model module</td>\n                        <td> undefined </td>\n                    </tr>\n                    <tr>\n                        <td>Model module version</td>\n                        <td> undefined </td>\n                    </tr>\n                <tbody>\n                <tfoot>\n                    <tr>\n                        <th colspan=\"2\">\n                        Class undefined not found in registry \n                        </th>\n                    </tr>\n                </tfoot>\n                </table>"
      }
     },
     "a2dd2b1e1f9b4734b2e3aa1dbffdcd04": {
      "model_module_version": "^2.1.4",
      "state": {
       "value": "<table style=\"width:100%\">\n                <thead>\n                    <tr>\n                        <th colspan=\"2\">\n                        Could not create model:\n                        </th>\n                    </tr>\n                </thead>\n                <tbody>\n                    <tr>\n                        <td>Model name</td>\n                        <td> undefined </td>\n                    </tr>\n                    <tr>\n                        <td>Model module</td>\n                        <td> undefined </td>\n                    </tr>\n                    <tr>\n                        <td>Model module version</td>\n                        <td> undefined </td>\n                    </tr>\n                <tbody>\n                <tfoot>\n                    <tr>\n                        <th colspan=\"2\">\n                        Class undefined not found in registry \n                        </th>\n                    </tr>\n                </tfoot>\n                </table>"
      }
     },
     "a2f0d26a526e4befb8a931dedb6363eb": {
      "model_module_version": "^2.1.4",
      "state": {
       "value": "<table style=\"width:100%\">\n                <thead>\n                    <tr>\n                        <th colspan=\"2\">\n                        Could not create model:\n                        </th>\n                    </tr>\n                </thead>\n                <tbody>\n                    <tr>\n                        <td>Model name</td>\n                        <td> undefined </td>\n                    </tr>\n                    <tr>\n                        <td>Model module</td>\n                        <td> undefined </td>\n                    </tr>\n                    <tr>\n                        <td>Model module version</td>\n                        <td> undefined </td>\n                    </tr>\n                <tbody>\n                <tfoot>\n                    <tr>\n                        <th colspan=\"2\">\n                        Class undefined not found in registry \n                        </th>\n                    </tr>\n                </tfoot>\n                </table>"
      }
     },
     "a3da27f324824245ab4548048acf08ce": {
      "model_module": "jupyter-js-widgets",
      "model_module_version": "~2.1.4",
      "model_name": "LayoutModel",
      "state": {
       "_model_module_version": "~2.1.4",
       "_view_module_version": "~2.1.4"
      }
     },
     "a5e1aa2fc5f641d098f2cfa6420a592b": {
      "model_module_version": "^2.1.4",
      "state": {
       "value": "<table style=\"width:100%\">\n                <thead>\n                    <tr>\n                        <th colspan=\"2\">\n                        Could not create model:\n                        </th>\n                    </tr>\n                </thead>\n                <tbody>\n                    <tr>\n                        <td>Model name</td>\n                        <td> undefined </td>\n                    </tr>\n                    <tr>\n                        <td>Model module</td>\n                        <td> undefined </td>\n                    </tr>\n                    <tr>\n                        <td>Model module version</td>\n                        <td> undefined </td>\n                    </tr>\n                <tbody>\n                <tfoot>\n                    <tr>\n                        <th colspan=\"2\">\n                        Class undefined not found in registry \n                        </th>\n                    </tr>\n                </tfoot>\n                </table>"
      }
     },
     "acf1144a079947a3b72f448ff497b5aa": {
      "model_module": "jupyter-js-widgets",
      "model_module_version": "~2.1.4",
      "model_name": "IntSliderModel",
      "state": {
       "_model_module_version": "~2.1.4",
       "_view_module_version": "~2.1.4",
       "description": "x",
       "layout": "IPY_MODEL_3c2f6371fb9d4ef8963013d7ec752f1a",
       "max": 30,
       "min": -10,
       "style": "IPY_MODEL_4085225553f745b5a56321cf316c733e",
       "value": 10
      }
     },
     "ae4e57c864524cccb1f82071a8cd1230": {
      "model_module_version": "^2.1.4",
      "state": {
       "children": [
        "IPY_MODEL_83640725b367458d874b51c6da3c0298",
        "IPY_MODEL_46c3f00a4866401bb7d7dd886668baeb"
       ],
       "value": "<table style=\"width:100%\">\n                <thead>\n                    <tr>\n                        <th colspan=\"2\">\n                        Could not create model:\n                        </th>\n                    </tr>\n                </thead>\n                <tbody>\n                    <tr>\n                        <td>Model name</td>\n                        <td> undefined </td>\n                    </tr>\n                    <tr>\n                        <td>Model module</td>\n                        <td> undefined </td>\n                    </tr>\n                    <tr>\n                        <td>Model module version</td>\n                        <td> undefined </td>\n                    </tr>\n                <tbody>\n                <tfoot>\n                    <tr>\n                        <th colspan=\"2\">\n                        Class undefined not found in registry \n                        </th>\n                    </tr>\n                </tfoot>\n                </table>"
      }
     },
     "b3aaafaed364432d9f29a2334748fb51": {
      "model_module_version": "^2.1.4",
      "state": {
       "description": "x",
       "value": "<table style=\"width:100%\">\n                <thead>\n                    <tr>\n                        <th colspan=\"2\">\n                        Could not create model:\n                        </th>\n                    </tr>\n                </thead>\n                <tbody>\n                    <tr>\n                        <td>Model name</td>\n                        <td> undefined </td>\n                    </tr>\n                    <tr>\n                        <td>Model module</td>\n                        <td> undefined </td>\n                    </tr>\n                    <tr>\n                        <td>Model module version</td>\n                        <td> undefined </td>\n                    </tr>\n                <tbody>\n                <tfoot>\n                    <tr>\n                        <th colspan=\"2\">\n                        Class undefined not found in registry \n                        </th>\n                    </tr>\n                </tfoot>\n                </table>"
      }
     },
     "b5c4b56ba9cd45e1bdca6530cc78c9e1": {
      "model_module_version": "^2.1.4",
      "state": {
       "msg_id": "",
       "value": "<table style=\"width:100%\">\n                <thead>\n                    <tr>\n                        <th colspan=\"2\">\n                        Could not create model:\n                        </th>\n                    </tr>\n                </thead>\n                <tbody>\n                    <tr>\n                        <td>Model name</td>\n                        <td> undefined </td>\n                    </tr>\n                    <tr>\n                        <td>Model module</td>\n                        <td> undefined </td>\n                    </tr>\n                    <tr>\n                        <td>Model module version</td>\n                        <td> undefined </td>\n                    </tr>\n                <tbody>\n                <tfoot>\n                    <tr>\n                        <th colspan=\"2\">\n                        Class undefined not found in registry \n                        </th>\n                    </tr>\n                </tfoot>\n                </table>"
      }
     },
     "b74b2bb279ff49c9a7b8384e115dda91": {
      "model_module_version": "^2.1.4",
      "state": {
       "msg_id": "",
       "value": "<table style=\"width:100%\">\n                <thead>\n                    <tr>\n                        <th colspan=\"2\">\n                        Could not create model:\n                        </th>\n                    </tr>\n                </thead>\n                <tbody>\n                    <tr>\n                        <td>Model name</td>\n                        <td> undefined </td>\n                    </tr>\n                    <tr>\n                        <td>Model module</td>\n                        <td> undefined </td>\n                    </tr>\n                    <tr>\n                        <td>Model module version</td>\n                        <td> undefined </td>\n                    </tr>\n                <tbody>\n                <tfoot>\n                    <tr>\n                        <th colspan=\"2\">\n                        Class undefined not found in registry \n                        </th>\n                    </tr>\n                </tfoot>\n                </table>"
      }
     },
     "bc40a99774e645d6a95f8c5424ed326e": {
      "model_module_version": "^2.1.4",
      "state": {
       "description": "x",
       "value": "<table style=\"width:100%\">\n                <thead>\n                    <tr>\n                        <th colspan=\"2\">\n                        Could not create model:\n                        </th>\n                    </tr>\n                </thead>\n                <tbody>\n                    <tr>\n                        <td>Model name</td>\n                        <td> undefined </td>\n                    </tr>\n                    <tr>\n                        <td>Model module</td>\n                        <td> undefined </td>\n                    </tr>\n                    <tr>\n                        <td>Model module version</td>\n                        <td> undefined </td>\n                    </tr>\n                <tbody>\n                <tfoot>\n                    <tr>\n                        <th colspan=\"2\">\n                        Class undefined not found in registry \n                        </th>\n                    </tr>\n                </tfoot>\n                </table>"
      }
     },
     "c40e39ab08b34613bb2767f4b2e60411": {
      "model_module_version": "^2.1.4",
      "state": {
       "value": "<table style=\"width:100%\">\n                <thead>\n                    <tr>\n                        <th colspan=\"2\">\n                        Could not create model:\n                        </th>\n                    </tr>\n                </thead>\n                <tbody>\n                    <tr>\n                        <td>Model name</td>\n                        <td> undefined </td>\n                    </tr>\n                    <tr>\n                        <td>Model module</td>\n                        <td> undefined </td>\n                    </tr>\n                    <tr>\n                        <td>Model module version</td>\n                        <td> undefined </td>\n                    </tr>\n                <tbody>\n                <tfoot>\n                    <tr>\n                        <th colspan=\"2\">\n                        Class undefined not found in registry \n                        </th>\n                    </tr>\n                </tfoot>\n                </table>"
      }
     },
     "ca7fc7414df744c1a12a80afcd929124": {
      "model_module_version": "^2.1.4",
      "state": {
       "description": "x",
       "value": "<table style=\"width:100%\">\n                <thead>\n                    <tr>\n                        <th colspan=\"2\">\n                        Could not create model:\n                        </th>\n                    </tr>\n                </thead>\n                <tbody>\n                    <tr>\n                        <td>Model name</td>\n                        <td> undefined </td>\n                    </tr>\n                    <tr>\n                        <td>Model module</td>\n                        <td> undefined </td>\n                    </tr>\n                    <tr>\n                        <td>Model module version</td>\n                        <td> undefined </td>\n                    </tr>\n                <tbody>\n                <tfoot>\n                    <tr>\n                        <th colspan=\"2\">\n                        Class undefined not found in registry \n                        </th>\n                    </tr>\n                </tfoot>\n                </table>"
      }
     },
     "d00724d28f834c4991169f92b8e447cb": {
      "model_module_version": "^2.1.4",
      "state": {
       "description": "x",
       "value": "<table style=\"width:100%\">\n                <thead>\n                    <tr>\n                        <th colspan=\"2\">\n                        Could not create model:\n                        </th>\n                    </tr>\n                </thead>\n                <tbody>\n                    <tr>\n                        <td>Model name</td>\n                        <td> undefined </td>\n                    </tr>\n                    <tr>\n                        <td>Model module</td>\n                        <td> undefined </td>\n                    </tr>\n                    <tr>\n                        <td>Model module version</td>\n                        <td> undefined </td>\n                    </tr>\n                <tbody>\n                <tfoot>\n                    <tr>\n                        <th colspan=\"2\">\n                        Class undefined not found in registry \n                        </th>\n                    </tr>\n                </tfoot>\n                </table>"
      }
     },
     "d11595e8990749f7a5f58f9502758e2d": {
      "model_module_version": "^2.1.4",
      "state": {
       "value": "<table style=\"width:100%\">\n                <thead>\n                    <tr>\n                        <th colspan=\"2\">\n                        Could not create model:\n                        </th>\n                    </tr>\n                </thead>\n                <tbody>\n                    <tr>\n                        <td>Model name</td>\n                        <td> undefined </td>\n                    </tr>\n                    <tr>\n                        <td>Model module</td>\n                        <td> undefined </td>\n                    </tr>\n                    <tr>\n                        <td>Model module version</td>\n                        <td> undefined </td>\n                    </tr>\n                <tbody>\n                <tfoot>\n                    <tr>\n                        <th colspan=\"2\">\n                        Class undefined not found in registry \n                        </th>\n                    </tr>\n                </tfoot>\n                </table>"
      }
     },
     "d37973aee6ad4ad3afc2983cc4640538": {
      "model_module_version": "^2.1.4",
      "state": {
       "value": "<table style=\"width:100%\">\n                <thead>\n                    <tr>\n                        <th colspan=\"2\">\n                        Could not create model:\n                        </th>\n                    </tr>\n                </thead>\n                <tbody>\n                    <tr>\n                        <td>Model name</td>\n                        <td> undefined </td>\n                    </tr>\n                    <tr>\n                        <td>Model module</td>\n                        <td> undefined </td>\n                    </tr>\n                    <tr>\n                        <td>Model module version</td>\n                        <td> undefined </td>\n                    </tr>\n                <tbody>\n                <tfoot>\n                    <tr>\n                        <th colspan=\"2\">\n                        Class undefined not found in registry \n                        </th>\n                    </tr>\n                </tfoot>\n                </table>"
      }
     },
     "d8e4be7cd0c144abb637254495935400": {
      "model_module_version": "^2.1.4",
      "state": {
       "value": "<table style=\"width:100%\">\n                <thead>\n                    <tr>\n                        <th colspan=\"2\">\n                        Could not create model:\n                        </th>\n                    </tr>\n                </thead>\n                <tbody>\n                    <tr>\n                        <td>Model name</td>\n                        <td> undefined </td>\n                    </tr>\n                    <tr>\n                        <td>Model module</td>\n                        <td> undefined </td>\n                    </tr>\n                    <tr>\n                        <td>Model module version</td>\n                        <td> undefined </td>\n                    </tr>\n                <tbody>\n                <tfoot>\n                    <tr>\n                        <th colspan=\"2\">\n                        Class undefined not found in registry \n                        </th>\n                    </tr>\n                </tfoot>\n                </table>"
      }
     },
     "d929f758e3d743e4bad5ee4b0e0e2971": {
      "model_module_version": "^2.1.4",
      "state": {
       "value": "<table style=\"width:100%\">\n                <thead>\n                    <tr>\n                        <th colspan=\"2\">\n                        Could not create model:\n                        </th>\n                    </tr>\n                </thead>\n                <tbody>\n                    <tr>\n                        <td>Model name</td>\n                        <td> undefined </td>\n                    </tr>\n                    <tr>\n                        <td>Model module</td>\n                        <td> undefined </td>\n                    </tr>\n                    <tr>\n                        <td>Model module version</td>\n                        <td> undefined </td>\n                    </tr>\n                <tbody>\n                <tfoot>\n                    <tr>\n                        <th colspan=\"2\">\n                        Class undefined not found in registry \n                        </th>\n                    </tr>\n                </tfoot>\n                </table>"
      }
     },
     "db0ea3166b744eb3914ca4a329e1f134": {
      "model_module_version": "^2.1.4",
      "state": {
       "value": "<table style=\"width:100%\">\n                <thead>\n                    <tr>\n                        <th colspan=\"2\">\n                        Could not create model:\n                        </th>\n                    </tr>\n                </thead>\n                <tbody>\n                    <tr>\n                        <td>Model name</td>\n                        <td> undefined </td>\n                    </tr>\n                    <tr>\n                        <td>Model module</td>\n                        <td> undefined </td>\n                    </tr>\n                    <tr>\n                        <td>Model module version</td>\n                        <td> undefined </td>\n                    </tr>\n                <tbody>\n                <tfoot>\n                    <tr>\n                        <th colspan=\"2\">\n                        Class undefined not found in registry \n                        </th>\n                    </tr>\n                </tfoot>\n                </table>"
      }
     },
     "de03135fc545466a891c5c7f1191cb4b": {
      "model_module_version": "^2.1.4",
      "state": {
       "children": [
        "IPY_MODEL_6aaa433ab117461b889545d142a27175",
        "IPY_MODEL_4a96e2d67ee54a41a257d81719387929"
       ],
       "value": "<table style=\"width:100%\">\n                <thead>\n                    <tr>\n                        <th colspan=\"2\">\n                        Could not create model:\n                        </th>\n                    </tr>\n                </thead>\n                <tbody>\n                    <tr>\n                        <td>Model name</td>\n                        <td> undefined </td>\n                    </tr>\n                    <tr>\n                        <td>Model module</td>\n                        <td> undefined </td>\n                    </tr>\n                    <tr>\n                        <td>Model module version</td>\n                        <td> undefined </td>\n                    </tr>\n                <tbody>\n                <tfoot>\n                    <tr>\n                        <th colspan=\"2\">\n                        Class undefined not found in registry \n                        </th>\n                    </tr>\n                </tfoot>\n                </table>"
      }
     },
     "e2d7a38ef7dc48099cc27bfcc2a6a4c9": {
      "model_module_version": "^2.1.4",
      "state": {
       "value": "<table style=\"width:100%\">\n                <thead>\n                    <tr>\n                        <th colspan=\"2\">\n                        Could not create model:\n                        </th>\n                    </tr>\n                </thead>\n                <tbody>\n                    <tr>\n                        <td>Model name</td>\n                        <td> undefined </td>\n                    </tr>\n                    <tr>\n                        <td>Model module</td>\n                        <td> undefined </td>\n                    </tr>\n                    <tr>\n                        <td>Model module version</td>\n                        <td> undefined </td>\n                    </tr>\n                <tbody>\n                <tfoot>\n                    <tr>\n                        <th colspan=\"2\">\n                        Class undefined not found in registry \n                        </th>\n                    </tr>\n                </tfoot>\n                </table>"
      }
     },
     "e2eabeb5e95644c6994f2f3be516a507": {
      "model_module_version": "^2.1.4",
      "state": {
       "value": "<table style=\"width:100%\">\n                <thead>\n                    <tr>\n                        <th colspan=\"2\">\n                        Could not create model:\n                        </th>\n                    </tr>\n                </thead>\n                <tbody>\n                    <tr>\n                        <td>Model name</td>\n                        <td> undefined </td>\n                    </tr>\n                    <tr>\n                        <td>Model module</td>\n                        <td> undefined </td>\n                    </tr>\n                    <tr>\n                        <td>Model module version</td>\n                        <td> undefined </td>\n                    </tr>\n                <tbody>\n                <tfoot>\n                    <tr>\n                        <th colspan=\"2\">\n                        Class undefined not found in registry \n                        </th>\n                    </tr>\n                </tfoot>\n                </table>"
      }
     },
     "e8c41950a9d349d2a093b110f66cbb72": {
      "model_module_version": "^2.1.4",
      "state": {
       "description": "x",
       "value": "<table style=\"width:100%\">\n                <thead>\n                    <tr>\n                        <th colspan=\"2\">\n                        Could not create model:\n                        </th>\n                    </tr>\n                </thead>\n                <tbody>\n                    <tr>\n                        <td>Model name</td>\n                        <td> undefined </td>\n                    </tr>\n                    <tr>\n                        <td>Model module</td>\n                        <td> undefined </td>\n                    </tr>\n                    <tr>\n                        <td>Model module version</td>\n                        <td> undefined </td>\n                    </tr>\n                <tbody>\n                <tfoot>\n                    <tr>\n                        <th colspan=\"2\">\n                        Class undefined not found in registry \n                        </th>\n                    </tr>\n                </tfoot>\n                </table>"
      }
     },
     "eef3d499980c484890b8c35cc146b9ed": {
      "model_module_version": "^2.1.4",
      "state": {
       "value": "<table style=\"width:100%\">\n                <thead>\n                    <tr>\n                        <th colspan=\"2\">\n                        Could not create model:\n                        </th>\n                    </tr>\n                </thead>\n                <tbody>\n                    <tr>\n                        <td>Model name</td>\n                        <td> undefined </td>\n                    </tr>\n                    <tr>\n                        <td>Model module</td>\n                        <td> undefined </td>\n                    </tr>\n                    <tr>\n                        <td>Model module version</td>\n                        <td> undefined </td>\n                    </tr>\n                <tbody>\n                <tfoot>\n                    <tr>\n                        <th colspan=\"2\">\n                        Class undefined not found in registry \n                        </th>\n                    </tr>\n                </tfoot>\n                </table>"
      }
     },
     "f43621a7182443dbaba6a026a3ea8c76": {
      "model_module_version": "^2.1.4",
      "state": {
       "value": "<table style=\"width:100%\">\n                <thead>\n                    <tr>\n                        <th colspan=\"2\">\n                        Could not create model:\n                        </th>\n                    </tr>\n                </thead>\n                <tbody>\n                    <tr>\n                        <td>Model name</td>\n                        <td> undefined </td>\n                    </tr>\n                    <tr>\n                        <td>Model module</td>\n                        <td> undefined </td>\n                    </tr>\n                    <tr>\n                        <td>Model module version</td>\n                        <td> undefined </td>\n                    </tr>\n                <tbody>\n                <tfoot>\n                    <tr>\n                        <th colspan=\"2\">\n                        Class undefined not found in registry \n                        </th>\n                    </tr>\n                </tfoot>\n                </table>"
      }
     },
     "f5d70fc558214794b4dd91314f8746c8": {
      "model_module_version": "^2.1.4",
      "state": {
       "value": "<table style=\"width:100%\">\n                <thead>\n                    <tr>\n                        <th colspan=\"2\">\n                        Could not create model:\n                        </th>\n                    </tr>\n                </thead>\n                <tbody>\n                    <tr>\n                        <td>Model name</td>\n                        <td> undefined </td>\n                    </tr>\n                    <tr>\n                        <td>Model module</td>\n                        <td> undefined </td>\n                    </tr>\n                    <tr>\n                        <td>Model module version</td>\n                        <td> undefined </td>\n                    </tr>\n                <tbody>\n                <tfoot>\n                    <tr>\n                        <th colspan=\"2\">\n                        Class undefined not found in registry \n                        </th>\n                    </tr>\n                </tfoot>\n                </table>"
      }
     }
    },
    "version_major": 1,
    "version_minor": 0
   }
  }
 },
 "nbformat": 4,
 "nbformat_minor": 2
}
