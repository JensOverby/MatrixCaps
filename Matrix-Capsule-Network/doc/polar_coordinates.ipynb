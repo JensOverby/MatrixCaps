{
 "cells": [
  {
   "cell_type": "code",
   "execution_count": 51,
   "metadata": {},
   "outputs": [],
   "source": [
    "import numpy as np\n",
    "\n",
    "def cart2pol(x, y):\n",
    "    rho = np.sqrt(x**2 + y**2)\n",
    "    phi = np.arctan2(y, x)\n",
    "    return(rho, phi)\n",
    "\n",
    "def pol2cart(rho, phi):\n",
    "    x = rho * np.cos(phi)\n",
    "    y = rho * np.sin(phi)\n",
    "    return(x, y)\n",
    "\n",
    "def makePolar(image):\n",
    "    polar = []\n",
    "    for i in range(image.shape[0]):\n",
    "        for j in range(image.shape[1]):\n",
    "            pol = cart2pol(i,j)\n",
    "            polar.append([pol[0],pol[1],image[i,j]])\n",
    "\n",
    "    polar = np.array(polar)\n",
    "    print(polar.max(0)[0],polar.max(1)[1])\n",
    "    scale_x = (image.shape[0]-1)/polar.max(0)[0]\n",
    "    scale_y = (image.shape[1]-1)/polar.max(1)[1]\n",
    "    #print(polar.shape)\n",
    "    print (scale_x,scale_y)\n",
    "    \n",
    "    out = np.array(np.zeros(image.shape[0]*image.shape[1])).reshape(image.shape[0],image.shape[1])\n",
    "    for pol in polar:\n",
    "        x = int(pol[0]*scale_x)\n",
    "        y = int(pol[1]*scale_y)\n",
    "        #print(x,y)\n",
    "        out[x,y] = pol[2]\n",
    "    return out\n",
    "        \n",
    "\n"
   ]
  },
  {
   "cell_type": "code",
   "execution_count": 53,
   "metadata": {
    "scrolled": false
   },
   "outputs": [
    {
     "name": "stdout",
     "output_type": "stream",
     "text": [
      "89.09545442950498 1.5707963267948966\n",
      "0.7071067811865476 40.10704565915763\n",
      "(64, 64)\n"
     ]
    },
    {
     "data": {
      "image/png": "[encoded data removed]",
      "text/plain": [
       "<Figure size 1080x1080 with 2 Axes>"
      ]
     },
     "metadata": {},
     "output_type": "display_data"
    }
   ],
   "source": [
    "%matplotlib inline\n",
    "\n",
    "import matplotlib.pyplot as plt\n",
    "import matplotlib.image as mpimg\n",
    "image=mpimg.imread('./test3.png')[:,:,3]\n",
    "#print(image.shape)\n",
    "#print(image)\n",
    "polar = makePolar(image)\n",
    "print(polar.shape)\n",
    "\n",
    "\n",
    "figCar = plt.figure(figsize = (15,15))\n",
    "axCar = figCar.add_subplot(1,2,1)\n",
    "axCar.imshow(image)\n",
    "\n",
    "plt.gca().invert_yaxis()\n",
    "\n",
    "#figPol = plt.figure(figsize = (8,8))\n",
    "axPol = figCar.add_subplot(1,2,2)\n",
    "axPol.imshow(polar)\n",
    "\n",
    "plt.gca().invert_yaxis()\n",
    "plt.show()\n"
   ]
  },
  {
   "cell_type": "code",
   "execution_count": null,
   "metadata": {},
   "outputs": [],
   "source": []
  }
 ],
 "metadata": {
  "kernelspec": {
   "display_name": "Python 3",
   "language": "python",
   "name": "python3"
  },
  "language_info": {
   "codemirror_mode": {
    "name": "ipython",
    "version": 3
   },
   "file_extension": ".py",
   "mimetype": "text/x-python",
   "name": "python",
   "nbconvert_exporter": "python",
   "pygments_lexer": "ipython3",
   "version": "3.6.5"
  }
 },
 "nbformat": 4,
 "nbformat_minor": 2
}
