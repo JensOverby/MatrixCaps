{
 "cells": [
  {
   "cell_type": "code",
   "execution_count": 5,
   "metadata": {},
   "outputs": [
    {
     "ename": "SyntaxError",
     "evalue": "EOF while scanning triple-quoted string literal (<ipython-input-5-1d60ffa348cc>, line 80)",
     "output_type": "error",
     "traceback": [
      "\u001b[0;36m  File \u001b[0;32m\"<ipython-input-5-1d60ffa348cc>\"\u001b[0;36m, line \u001b[0;32m80\u001b[0m\n\u001b[0;31m    plot(x.data)\u001b[0m\n\u001b[0m                \n^\u001b[0m\n\u001b[0;31mSyntaxError\u001b[0m\u001b[0;31m:\u001b[0m EOF while scanning triple-quoted string literal\n"
     ]
    }
   ],
   "source": [
    "import torch\n",
    "from torch import nn\n",
    "import torch.nn.functional as F\n",
    "from matplotlib import pyplot as plt\n",
    "\n",
    "def plot(x):\n",
    "    img = x.squeeze().cpu().numpy()\n",
    "    print(img.shape)\n",
    "    fig = plt.figure(figsize = (8,8))\n",
    "    ax1 = fig.add_subplot(1,1,1)\n",
    "    ax1.imshow(img)\n",
    "\n",
    "class autoencoder(nn.Module):\n",
    "    def __init__(self):\n",
    "        super(autoencoder, self).__init__()\n",
    "\n",
    "        #self.conv1 = nn.Conv2d(1, 1, 3, stride=3)  # b, 16, 10, 10\n",
    "        #nn.ReLU(True),\n",
    "        #nn.MaxPool2d(2, stride=2),  # b, 16, 5, 5\n",
    "        #self.conv2 = nn.Conv2d(1, 1, 3, stride=2)  # b, 8, 3, 3\n",
    "        #nn.ReLU(True),\n",
    "        #nn.MaxPool2d(2, stride=1)  # b, 8, 2, 2\n",
    "\n",
    "        \"\"\"\n",
    "        nn.ConvTranspose2d(8, 16, 3, stride=2),  # b, 16, 5, 5\n",
    "        nn.ReLU(True),\n",
    "        nn.ConvTranspose2d(16, 8, 5, stride=3, padding=1),  # b, 8, 15, 15\n",
    "        nn.ReLU(True),\n",
    "        nn.ConvTranspose2d(8, 1, 2, stride=2, padding=1),  # b, 1, 28, 28\n",
    "        nn.Tanh()\n",
    "        \"\"\"\n",
    "\n",
    "    def forward(self, x):\n",
    "        print('X original')\n",
    "        print(x.shape)\n",
    "        plot(x)\n",
    "        \n",
    "        x, id1 = F.max_pool2d(x, 2, 2, return_indices=True)\n",
    "        print('max pool k2 s2')\n",
    "        print(x.shape)\n",
    "        print(id1)\n",
    "        plot(x.data)\n",
    "        \n",
    "        x, id2 = F.max_pool2d(x, 2, 2, return_indices=True)\n",
    "        print('max pool k2 s2')\n",
    "        print(x.shape)\n",
    "        print(id2)\n",
    "        plot(x.data)\n",
    "\n",
    "        x, id3 = F.max_pool2d(x, 2, 2, return_indices=True)\n",
    "        print('max pool k2 s2')\n",
    "        print(x.shape)\n",
    "        print(id3)\n",
    "        plot(x.data)\n",
    "        \"\"\"\n",
    "        x, id4 = F.max_pool2d(x, 2, 2, return_indices=True)\n",
    "        print('max pool k2 s2')\n",
    "        print(x.shape)\n",
    "        print(id4)\n",
    "        plot(x.data)\n",
    "        \n",
    "        x = F.max_unpool2d(x, id4, 2, 2)\n",
    "        print('max unpool k2 s2')\n",
    "        print(x.shape)\n",
    "        plot(x.data)\n",
    "        \"\"\"\n",
    "        x = F.max_unpool2d(x, id3, 2, 2)\n",
    "        print('max unpool k2 s2')\n",
    "        print(x.shape)\n",
    "        plot(x.data)\n",
    "\n",
    "        x = F.max_unpool2d(x, id2, 2, 2)\n",
    "        print('max unpool k2 s2')\n",
    "        print(x.shape)\n",
    "        plot(x.data)\n",
    "        \"\"\"\n",
    "        x = F.max_unpool2d(x, id1, 2, 2)\n",
    "        print('max unpool k2 s2')\n",
    "        print(x.shape)\n",
    "        plot(x.data)\n"
   ]
  },
  {
   "cell_type": "code",
   "execution_count": 6,
   "metadata": {
    "scrolled": false
   },
   "outputs": [
    {
     "name": "stdout",
     "output_type": "stream",
     "text": [
      "X original\n",
      "torch.Size([1, 1, 32, 32])\n",
      "(32, 32)\n",
      "max pool k2 s2\n",
      "torch.Size([1, 1, 16, 16])\n",
      "tensor([[[[   33,    35,    37,    39,    41,    43,    45,    47,\n",
      "              49,    51,    53,    55,    57,    59,    61,    63],\n",
      "          [   97,    99,   101,   103,   105,   107,   109,   111,\n",
      "             113,   115,   117,   119,   121,   123,   125,   127],\n",
      "          [  161,   163,   165,   167,   169,   171,   173,   175,\n",
      "             177,   179,   181,   183,   185,   187,   189,   191],\n",
      "          [  225,   227,   229,   231,   233,   235,   237,   239,\n",
      "             241,   243,   245,   247,   249,   251,   253,   255],\n",
      "          [  289,   291,   293,   295,   297,   299,   301,   303,\n",
      "             305,   307,   309,   311,   313,   315,   317,   319],\n",
      "          [  353,   355,   357,   359,   361,   363,   365,   367,\n",
      "             369,   371,   373,   375,   377,   379,   381,   383],\n",
      "          [  417,   419,   421,   423,   425,   427,   429,   431,\n",
      "             433,   435,   437,   439,   441,   443,   445,   447],\n",
      "          [  481,   483,   485,   487,   489,   491,   493,   495,\n",
      "             497,   499,   501,   503,   505,   507,   509,   511],\n",
      "          [  545,   547,   549,   551,   553,   555,   557,   559,\n",
      "             561,   563,   565,   567,   569,   571,   573,   575],\n",
      "          [  609,   611,   613,   615,   617,   619,   621,   623,\n",
      "             625,   627,   629,   631,   633,   635,   637,   639],\n",
      "          [  673,   675,   677,   679,   681,   683,   685,   687,\n",
      "             689,   691,   693,   695,   697,   699,   701,   703],\n",
      "          [  737,   739,   741,   743,   745,   747,   749,   751,\n",
      "             753,   755,   757,   759,   761,   763,   765,   767],\n",
      "          [  801,   803,   805,   807,   809,   811,   813,   815,\n",
      "             817,   819,   821,   823,   825,   827,   829,   831],\n",
      "          [  865,   867,   869,   871,   873,   875,   877,   879,\n",
      "             881,   883,   885,   887,   889,   891,   893,   895],\n",
      "          [  929,   931,   933,   935,   937,   939,   941,   943,\n",
      "             945,   947,   949,   951,   953,   955,   957,   959],\n",
      "          [  993,   995,   997,   999,  1001,  1003,  1005,  1007,\n",
      "            1009,  1011,  1013,  1015,  1017,  1019,  1021,  1023]]]])\n",
      "(16, 16)\n",
      "max unpool k2 s2\n",
      "torch.Size([1, 1, 32, 32])\n",
      "(32, 32)\n"
     ]
    },
    {
     "data": {
      "image/png": "[encoded data removed]",
      "text/plain": [
       "<Figure size 576x576 with 1 Axes>"
      ]
     },
     "metadata": {},
     "output_type": "display_data"
    },
    {
     "data": {
      "image/png": "[encoded data removed]",
      "text/plain": [
       "<Figure size 576x576 with 1 Axes>"
      ]
     },
     "metadata": {},
     "output_type": "display_data"
    },
    {
     "data": {
      "image/png": "[encoded data removed]",
      "text/plain": [
       "<Figure size 576x576 with 1 Axes>"
      ]
     },
     "metadata": {},
     "output_type": "display_data"
    }
   ],
   "source": [
    "model = autoencoder()\n",
    "\n",
    "image = torch.tensor(torch.arange(32*32)).reshape(1,1,32,32)\n",
    "model.forward(image)"
   ]
  },
  {
   "cell_type": "code",
   "execution_count": null,
   "metadata": {},
   "outputs": [],
   "source": []
  }
 ],
 "metadata": {
  "kernelspec": {
   "display_name": "Python 3",
   "language": "python",
   "name": "python3"
  },
  "language_info": {
   "codemirror_mode": {
    "name": "ipython",
    "version": 3
   },
   "file_extension": ".py",
   "mimetype": "text/x-python",
   "name": "python",
   "nbconvert_exporter": "python",
   "pygments_lexer": "ipython3",
   "version": "3.6.5"
  }
 },
 "nbformat": 4,
 "nbformat_minor": 2
}
