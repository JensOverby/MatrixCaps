{
 "cells": [
  {
   "cell_type": "markdown",
   "metadata": {},
   "source": [
    "# CAPSNET Monitor"
   ]
  },
  {
   "cell_type": "code",
   "execution_count": 1,
   "metadata": {},
   "outputs": [
    {
     "data": {
      "text/html": [
       "<script>\n",
       "code_show=true; \n",
       "function code_toggle() {\n",
       " if (code_show){\n",
       " $('div.input').hide();\n",
       " } else {\n",
       " $('div.input').show();\n",
       " }\n",
       " code_show = !code_show\n",
       "} \n",
       "$( document ).ready(code_toggle);\n",
       "</script>\n",
       "<form action=\"javascript:code_toggle()\"><input type=\"submit\" value=\"Click here to toggle on/off the raw code.\"></form>"
      ],
      "text/plain": [
       "<IPython.core.display.HTML object>"
      ]
     },
     "execution_count": 1,
     "metadata": {},
     "output_type": "execute_result"
    }
   ],
   "source": [
    "from IPython.display import HTML\n",
    "\n",
    "HTML('''<script>\n",
    "code_show=true; \n",
    "function code_toggle() {\n",
    " if (code_show){\n",
    " $('div.input').hide();\n",
    " } else {\n",
    " $('div.input').show();\n",
    " }\n",
    " code_show = !code_show\n",
    "} \n",
    "$( document ).ready(code_toggle);\n",
    "</script>\n",
    "<form action=\"javascript:code_toggle()\"><input type=\"submit\" value=\"Click here to toggle on/off the raw code.\"></form>''')\n"
   ]
  },
  {
   "cell_type": "code",
   "execution_count": 2,
   "metadata": {
    "scrolled": true
   },
   "outputs": [
    {
     "data": {
      "text/html": [
       "<style>\n",
       ".output_wrapper button.btn.btn-default,\n",
       ".output_wrapper .ui-dialog-titlebar {\n",
       "  display: none;\n",
       "}\n",
       "</style>"
      ],
      "text/plain": [
       "<IPython.core.display.HTML object>"
      ]
     },
     "execution_count": 2,
     "metadata": {},
     "output_type": "execute_result"
    }
   ],
   "source": [
    "HTML(\n",
    "'''<style>\n",
    ".output_wrapper button.btn.btn-default,\n",
    ".output_wrapper .ui-dialog-titlebar {\n",
    "  display: none;\n",
    "}\n",
    "</style>''')\n"
   ]
  },
  {
   "cell_type": "code",
   "execution_count": 3,
   "metadata": {
    "scrolled": false
   },
   "outputs": [],
   "source": [
    "%matplotlib notebook\n",
    "\n",
    "import os\n",
    "os.chdir('/home/jens/eclipse-workspace/MatrixCaps/Matrix-Capsule-Network/')\n",
    "\n",
    "import torch\n",
    "from torch.autograd import Variable\n",
    "from torchvision import datasets\n",
    "from torchvision import transforms\n",
    "from torchvision import utils\n",
    "import torch.nn.functional as F\n",
    "from model import capsules as mcaps\n",
    "import matplotlib\n",
    "import matplotlib.pyplot as plt\n",
    "import numpy as np\n",
    "import time\n",
    "\n",
    "import ipywidgets as widgets\n",
    "from ipywidgets import FloatSlider, HBox, VBox, Layout\n",
    "matplotlib.pyplot.ioff()\n",
    "\n",
    "import glob\n",
    "from IPython.display import display, Markdown, Image\n",
    "\n",
    "import PIL.Image\n",
    "from io import BytesIO\n"
   ]
  },
  {
   "cell_type": "markdown",
   "metadata": {},
   "source": [
    "## Matrix Capsules LOSS plot"
   ]
  },
  {
   "cell_type": "code",
   "execution_count": 4,
   "metadata": {},
   "outputs": [
    {
     "data": {
      "application/javascript": [
       "/* Put everything inside the global mpl namespace */\n",
       "window.mpl = {};\n",
       "\n",
       "\n",
       "mpl.get_websocket_type = function() {\n",
       "    if (typeof(WebSocket) !== 'undefined') {\n",
       "        return WebSocket;\n",
       "    } else if (typeof(MozWebSocket) !== 'undefined') {\n",
       "        return MozWebSocket;\n",
       "    } else {\n",
       "        alert('Your browser does not have WebSocket support.' +\n",
       "              'Please try Chrome, Safari or Firefox ≥ 6. ' +\n",
       "              'Firefox 4 and 5 are also supported but you ' +\n",
       "              'have to enable WebSockets in about:config.');\n",
       "    };\n",
       "}\n",
       "\n",
       "mpl.figure = function(figure_id, websocket, ondownload, parent_element) {\n",
       "    this.id = figure_id;\n",
       "\n",
       "    this.ws = websocket;\n",
       "\n",
       "    this.supports_binary = (this.ws.binaryType != undefined);\n",
       "\n",
       "    if (!this.supports_binary) {\n",
       "        var warnings = document.getElementById(\"mpl-warnings\");\n",
       "        if (warnings) {\n",
       "            warnings.style.display = 'block';\n",
       "            warnings.textContent = (\n",
       "                \"This browser does not support binary websocket messages. \" +\n",
       "                    \"Performance may be slow.\");\n",
       "        }\n",
       "    }\n",
       "\n",
       "    this.imageObj = new Image();\n",
       "\n",
       "    this.context = undefined;\n",
       "    this.message = undefined;\n",
       "    this.canvas = undefined;\n",
       "    this.rubberband_canvas = undefined;\n",
       "    this.rubberband_context = undefined;\n",
       "    this.format_dropdown = undefined;\n",
       "\n",
       "    this.image_mode = 'full';\n",
       "\n",
       "    this.root = $('<div/>');\n",
       "    this._root_extra_style(this.root)\n",
       "    this.root.attr('style', 'display: inline-block');\n",
       "\n",
       "    $(parent_element).append(this.root);\n",
       "\n",
       "    this._init_header(this);\n",
       "    this._init_canvas(this);\n",
       "    this._init_toolbar(this);\n",
       "\n",
       "    var fig = this;\n",
       "\n",
       "    this.waiting = false;\n",
       "\n",
       "    this.ws.onopen =  function () {\n",
       "            fig.send_message(\"supports_binary\", {value: fig.supports_binary});\n",
       "            fig.send_message(\"send_image_mode\", {});\n",
       "            if (mpl.ratio != 1) {\n",
       "                fig.send_message(\"set_dpi_ratio\", {'dpi_ratio': mpl.ratio});\n",
       "            }\n",
       "            fig.send_message(\"refresh\", {});\n",
       "        }\n",
       "\n",
       "    this.imageObj.onload = function() {\n",
       "            if (fig.image_mode == 'full') {\n",
       "                // Full images could contain transparency (where diff images\n",
       "                // almost always do), so we need to clear the canvas so that\n",
       "                // there is no ghosting.\n",
       "                fig.context.clearRect(0, 0, fig.canvas.width, fig.canvas.height);\n",
       "            }\n",
       "            fig.context.drawImage(fig.imageObj, 0, 0);\n",
       "        };\n",
       "\n",
       "    this.imageObj.onunload = function() {\n",
       "        fig.ws.close();\n",
       "    }\n",
       "\n",
       "    this.ws.onmessage = this._make_on_message_function(this);\n",
       "\n",
       "    this.ondownload = ondownload;\n",
       "}\n",
       "\n",
       "mpl.figure.prototype._init_header = function() {\n",
       "    var titlebar = $(\n",
       "        '<div class=\"ui-dialog-titlebar ui-widget-header ui-corner-all ' +\n",
       "        'ui-helper-clearfix\"/>');\n",
       "    var titletext = $(\n",
       "        '<div class=\"ui-dialog-title\" style=\"width: 100%; ' +\n",
       "        'text-align: center; padding: 3px;\"/>');\n",
       "    titlebar.append(titletext)\n",
       "    this.root.append(titlebar);\n",
       "    this.header = titletext[0];\n",
       "}\n",
       "\n",
       "\n",
       "\n",
       "mpl.figure.prototype._canvas_extra_style = function(canvas_div) {\n",
       "\n",
       "}\n",
       "\n",
       "\n",
       "mpl.figure.prototype._root_extra_style = function(canvas_div) {\n",
       "\n",
       "}\n",
       "\n",
       "mpl.figure.prototype._init_canvas = function() {\n",
       "    var fig = this;\n",
       "\n",
       "    var canvas_div = $('<div/>');\n",
       "\n",
       "    canvas_div.attr('style', 'position: relative; clear: both; outline: 0');\n",
       "\n",
       "    function canvas_keyboard_event(event) {\n",
       "        return fig.key_event(event, event['data']);\n",
       "    }\n",
       "\n",
       "    canvas_div.keydown('key_press', canvas_keyboard_event);\n",
       "    canvas_div.keyup('key_release', canvas_keyboard_event);\n",
       "    this.canvas_div = canvas_div\n",
       "    this._canvas_extra_style(canvas_div)\n",
       "    this.root.append(canvas_div);\n",
       "\n",
       "    var canvas = $('<canvas/>');\n",
       "    canvas.addClass('mpl-canvas');\n",
       "    canvas.attr('style', \"left: 0; top: 0; z-index: 0; outline: 0\")\n",
       "\n",
       "    this.canvas = canvas[0];\n",
       "    this.context = canvas[0].getContext(\"2d\");\n",
       "\n",
       "    var backingStore = this.context.backingStorePixelRatio ||\n",
       "\tthis.context.webkitBackingStorePixelRatio ||\n",
       "\tthis.context.mozBackingStorePixelRatio ||\n",
       "\tthis.context.msBackingStorePixelRatio ||\n",
       "\tthis.context.oBackingStorePixelRatio ||\n",
       "\tthis.context.backingStorePixelRatio || 1;\n",
       "\n",
       "    mpl.ratio = (window.devicePixelRatio || 1) / backingStore;\n",
       "\n",
       "    var rubberband = $('<canvas/>');\n",
       "    rubberband.attr('style', \"position: absolute; left: 0; top: 0; z-index: 1;\")\n",
       "\n",
       "    var pass_mouse_events = true;\n",
       "\n",
       "    canvas_div.resizable({\n",
       "        start: function(event, ui) {\n",
       "            pass_mouse_events = false;\n",
       "        },\n",
       "        resize: function(event, ui) {\n",
       "            fig.request_resize(ui.size.width, ui.size.height);\n",
       "        },\n",
       "        stop: function(event, ui) {\n",
       "            pass_mouse_events = true;\n",
       "            fig.request_resize(ui.size.width, ui.size.height);\n",
       "        },\n",
       "    });\n",
       "\n",
       "    function mouse_event_fn(event) {\n",
       "        if (pass_mouse_events)\n",
       "            return fig.mouse_event(event, event['data']);\n",
       "    }\n",
       "\n",
       "    rubberband.mousedown('button_press', mouse_event_fn);\n",
       "    rubberband.mouseup('button_release', mouse_event_fn);\n",
       "    // Throttle sequential mouse events to 1 every 20ms.\n",
       "    rubberband.mousemove('motion_notify', mouse_event_fn);\n",
       "\n",
       "    rubberband.mouseenter('figure_enter', mouse_event_fn);\n",
       "    rubberband.mouseleave('figure_leave', mouse_event_fn);\n",
       "\n",
       "    canvas_div.on(\"wheel\", function (event) {\n",
       "        event = event.originalEvent;\n",
       "        event['data'] = 'scroll'\n",
       "        if (event.deltaY < 0) {\n",
       "            event.step = 1;\n",
       "        } else {\n",
       "            event.step = -1;\n",
       "        }\n",
       "        mouse_event_fn(event);\n",
       "    });\n",
       "\n",
       "    canvas_div.append(canvas);\n",
       "    canvas_div.append(rubberband);\n",
       "\n",
       "    this.rubberband = rubberband;\n",
       "    this.rubberband_canvas = rubberband[0];\n",
       "    this.rubberband_context = rubberband[0].getContext(\"2d\");\n",
       "    this.rubberband_context.strokeStyle = \"#000000\";\n",
       "\n",
       "    this._resize_canvas = function(width, height) {\n",
       "        // Keep the size of the canvas, canvas container, and rubber band\n",
       "        // canvas in synch.\n",
       "        canvas_div.css('width', width)\n",
       "        canvas_div.css('height', height)\n",
       "\n",
       "        canvas.attr('width', width * mpl.ratio);\n",
       "        canvas.attr('height', height * mpl.ratio);\n",
       "        canvas.attr('style', 'width: ' + width + 'px; height: ' + height + 'px;');\n",
       "\n",
       "        rubberband.attr('width', width);\n",
       "        rubberband.attr('height', height);\n",
       "    }\n",
       "\n",
       "    // Set the figure to an initial 600x600px, this will subsequently be updated\n",
       "    // upon first draw.\n",
       "    this._resize_canvas(600, 600);\n",
       "\n",
       "    // Disable right mouse context menu.\n",
       "    $(this.rubberband_canvas).bind(\"contextmenu\",function(e){\n",
       "        return false;\n",
       "    });\n",
       "\n",
       "    function set_focus () {\n",
       "        canvas.focus();\n",
       "        canvas_div.focus();\n",
       "    }\n",
       "\n",
       "    window.setTimeout(set_focus, 100);\n",
       "}\n",
       "\n",
       "mpl.figure.prototype._init_toolbar = function() {\n",
       "    var fig = this;\n",
       "\n",
       "    var nav_element = $('<div/>')\n",
       "    nav_element.attr('style', 'width: 100%');\n",
       "    this.root.append(nav_element);\n",
       "\n",
       "    // Define a callback function for later on.\n",
       "    function toolbar_event(event) {\n",
       "        return fig.toolbar_button_onclick(event['data']);\n",
       "    }\n",
       "    function toolbar_mouse_event(event) {\n",
       "        return fig.toolbar_button_onmouseover(event['data']);\n",
       "    }\n",
       "\n",
       "    for(var toolbar_ind in mpl.toolbar_items) {\n",
       "        var name = mpl.toolbar_items[toolbar_ind][0];\n",
       "        var tooltip = mpl.toolbar_items[toolbar_ind][1];\n",
       "        var image = mpl.toolbar_items[toolbar_ind][2];\n",
       "        var method_name = mpl.toolbar_items[toolbar_ind][3];\n",
       "\n",
       "        if (!name) {\n",
       "            // put a spacer in here.\n",
       "            continue;\n",
       "        }\n",
       "        var button = $('<button/>');\n",
       "        button.addClass('ui-button ui-widget ui-state-default ui-corner-all ' +\n",
       "                        'ui-button-icon-only');\n",
       "        button.attr('role', 'button');\n",
       "        button.attr('aria-disabled', 'false');\n",
       "        button.click(method_name, toolbar_event);\n",
       "        button.mouseover(tooltip, toolbar_mouse_event);\n",
       "\n",
       "        var icon_img = $('<span/>');\n",
       "        icon_img.addClass('ui-button-icon-primary ui-icon');\n",
       "        icon_img.addClass(image);\n",
       "        icon_img.addClass('ui-corner-all');\n",
       "\n",
       "        var tooltip_span = $('<span/>');\n",
       "        tooltip_span.addClass('ui-button-text');\n",
       "        tooltip_span.html(tooltip);\n",
       "\n",
       "        button.append(icon_img);\n",
       "        button.append(tooltip_span);\n",
       "\n",
       "        nav_element.append(button);\n",
       "    }\n",
       "\n",
       "    var fmt_picker_span = $('<span/>');\n",
       "\n",
       "    var fmt_picker = $('<select/>');\n",
       "    fmt_picker.addClass('mpl-toolbar-option ui-widget ui-widget-content');\n",
       "    fmt_picker_span.append(fmt_picker);\n",
       "    nav_element.append(fmt_picker_span);\n",
       "    this.format_dropdown = fmt_picker[0];\n",
       "\n",
       "    for (var ind in mpl.extensions) {\n",
       "        var fmt = mpl.extensions[ind];\n",
       "        var option = $(\n",
       "            '<option/>', {selected: fmt === mpl.default_extension}).html(fmt);\n",
       "        fmt_picker.append(option)\n",
       "    }\n",
       "\n",
       "    // Add hover states to the ui-buttons\n",
       "    $( \".ui-button\" ).hover(\n",
       "        function() { $(this).addClass(\"ui-state-hover\");},\n",
       "        function() { $(this).removeClass(\"ui-state-hover\");}\n",
       "    );\n",
       "\n",
       "    var status_bar = $('<span class=\"mpl-message\"/>');\n",
       "    nav_element.append(status_bar);\n",
       "    this.message = status_bar[0];\n",
       "}\n",
       "\n",
       "mpl.figure.prototype.request_resize = function(x_pixels, y_pixels) {\n",
       "    // Request matplotlib to resize the figure. Matplotlib will then trigger a resize in the client,\n",
       "    // which will in turn request a refresh of the image.\n",
       "    this.send_message('resize', {'width': x_pixels, 'height': y_pixels});\n",
       "}\n",
       "\n",
       "mpl.figure.prototype.send_message = function(type, properties) {\n",
       "    properties['type'] = type;\n",
       "    properties['figure_id'] = this.id;\n",
       "    this.ws.send(JSON.stringify(properties));\n",
       "}\n",
       "\n",
       "mpl.figure.prototype.send_draw_message = function() {\n",
       "    if (!this.waiting) {\n",
       "        this.waiting = true;\n",
       "        this.ws.send(JSON.stringify({type: \"draw\", figure_id: this.id}));\n",
       "    }\n",
       "}\n",
       "\n",
       "\n",
       "mpl.figure.prototype.handle_save = function(fig, msg) {\n",
       "    var format_dropdown = fig.format_dropdown;\n",
       "    var format = format_dropdown.options[format_dropdown.selectedIndex].value;\n",
       "    fig.ondownload(fig, format);\n",
       "}\n",
       "\n",
       "\n",
       "mpl.figure.prototype.handle_resize = function(fig, msg) {\n",
       "    var size = msg['size'];\n",
       "    if (size[0] != fig.canvas.width || size[1] != fig.canvas.height) {\n",
       "        fig._resize_canvas(size[0], size[1]);\n",
       "        fig.send_message(\"refresh\", {});\n",
       "    };\n",
       "}\n",
       "\n",
       "mpl.figure.prototype.handle_rubberband = function(fig, msg) {\n",
       "    var x0 = msg['x0'] / mpl.ratio;\n",
       "    var y0 = (fig.canvas.height - msg['y0']) / mpl.ratio;\n",
       "    var x1 = msg['x1'] / mpl.ratio;\n",
       "    var y1 = (fig.canvas.height - msg['y1']) / mpl.ratio;\n",
       "    x0 = Math.floor(x0) + 0.5;\n",
       "    y0 = Math.floor(y0) + 0.5;\n",
       "    x1 = Math.floor(x1) + 0.5;\n",
       "    y1 = Math.floor(y1) + 0.5;\n",
       "    var min_x = Math.min(x0, x1);\n",
       "    var min_y = Math.min(y0, y1);\n",
       "    var width = Math.abs(x1 - x0);\n",
       "    var height = Math.abs(y1 - y0);\n",
       "\n",
       "    fig.rubberband_context.clearRect(\n",
       "        0, 0, fig.canvas.width, fig.canvas.height);\n",
       "\n",
       "    fig.rubberband_context.strokeRect(min_x, min_y, width, height);\n",
       "}\n",
       "\n",
       "mpl.figure.prototype.handle_figure_label = function(fig, msg) {\n",
       "    // Updates the figure title.\n",
       "    fig.header.textContent = msg['label'];\n",
       "}\n",
       "\n",
       "mpl.figure.prototype.handle_cursor = function(fig, msg) {\n",
       "    var cursor = msg['cursor'];\n",
       "    switch(cursor)\n",
       "    {\n",
       "    case 0:\n",
       "        cursor = 'pointer';\n",
       "        break;\n",
       "    case 1:\n",
       "        cursor = 'default';\n",
       "        break;\n",
       "    case 2:\n",
       "        cursor = 'crosshair';\n",
       "        break;\n",
       "    case 3:\n",
       "        cursor = 'move';\n",
       "        break;\n",
       "    }\n",
       "    fig.rubberband_canvas.style.cursor = cursor;\n",
       "}\n",
       "\n",
       "mpl.figure.prototype.handle_message = function(fig, msg) {\n",
       "    fig.message.textContent = msg['message'];\n",
       "}\n",
       "\n",
       "mpl.figure.prototype.handle_draw = function(fig, msg) {\n",
       "    // Request the server to send over a new figure.\n",
       "    fig.send_draw_message();\n",
       "}\n",
       "\n",
       "mpl.figure.prototype.handle_image_mode = function(fig, msg) {\n",
       "    fig.image_mode = msg['mode'];\n",
       "}\n",
       "\n",
       "mpl.figure.prototype.updated_canvas_event = function() {\n",
       "    // Called whenever the canvas gets updated.\n",
       "    this.send_message(\"ack\", {});\n",
       "}\n",
       "\n",
       "// A function to construct a web socket function for onmessage handling.\n",
       "// Called in the figure constructor.\n",
       "mpl.figure.prototype._make_on_message_function = function(fig) {\n",
       "    return function socket_on_message(evt) {\n",
       "        if (evt.data instanceof Blob) {\n",
       "            /* FIXME: We get \"Resource interpreted as Image but\n",
       "             * transferred with MIME type text/plain:\" errors on\n",
       "             * Chrome.  But how to set the MIME type?  It doesn't seem\n",
       "             * to be part of the websocket stream */\n",
       "            evt.data.type = \"image/png\";\n",
       "\n",
       "            /* Free the memory for the previous frames */\n",
       "            if (fig.imageObj.src) {\n",
       "                (window.URL || window.webkitURL).revokeObjectURL(\n",
       "                    fig.imageObj.src);\n",
       "            }\n",
       "\n",
       "            fig.imageObj.src = (window.URL || window.webkitURL).createObjectURL(\n",
       "                evt.data);\n",
       "            fig.updated_canvas_event();\n",
       "            fig.waiting = false;\n",
       "            return;\n",
       "        }\n",
       "        else if (typeof evt.data === 'string' && evt.data.slice(0, 21) == \"data:image/png;base64\") {\n",
       "            fig.imageObj.src = evt.data;\n",
       "            fig.updated_canvas_event();\n",
       "            fig.waiting = false;\n",
       "            return;\n",
       "        }\n",
       "\n",
       "        var msg = JSON.parse(evt.data);\n",
       "        var msg_type = msg['type'];\n",
       "\n",
       "        // Call the  \"handle_{type}\" callback, which takes\n",
       "        // the figure and JSON message as its only arguments.\n",
       "        try {\n",
       "            var callback = fig[\"handle_\" + msg_type];\n",
       "        } catch (e) {\n",
       "            console.log(\"No handler for the '\" + msg_type + \"' message type: \", msg);\n",
       "            return;\n",
       "        }\n",
       "\n",
       "        if (callback) {\n",
       "            try {\n",
       "                // console.log(\"Handling '\" + msg_type + \"' message: \", msg);\n",
       "                callback(fig, msg);\n",
       "            } catch (e) {\n",
       "                console.log(\"Exception inside the 'handler_\" + msg_type + \"' callback:\", e, e.stack, msg);\n",
       "            }\n",
       "        }\n",
       "    };\n",
       "}\n",
       "\n",
       "// from http://stackoverflow.com/questions/1114465/getting-mouse-location-in-canvas\n",
       "mpl.findpos = function(e) {\n",
       "    //this section is from http://www.quirksmode.org/js/events_properties.html\n",
       "    var targ;\n",
       "    if (!e)\n",
       "        e = window.event;\n",
       "    if (e.target)\n",
       "        targ = e.target;\n",
       "    else if (e.srcElement)\n",
       "        targ = e.srcElement;\n",
       "    if (targ.nodeType == 3) // defeat Safari bug\n",
       "        targ = targ.parentNode;\n",
       "\n",
       "    // jQuery normalizes the pageX and pageY\n",
       "    // pageX,Y are the mouse positions relative to the document\n",
       "    // offset() returns the position of the element relative to the document\n",
       "    var x = e.pageX - $(targ).offset().left;\n",
       "    var y = e.pageY - $(targ).offset().top;\n",
       "\n",
       "    return {\"x\": x, \"y\": y};\n",
       "};\n",
       "\n",
       "/*\n",
       " * return a copy of an object with only non-object keys\n",
       " * we need this to avoid circular references\n",
       " * http://stackoverflow.com/a/24161582/3208463\n",
       " */\n",
       "function simpleKeys (original) {\n",
       "  return Object.keys(original).reduce(function (obj, key) {\n",
       "    if (typeof original[key] !== 'object')\n",
       "        obj[key] = original[key]\n",
       "    return obj;\n",
       "  }, {});\n",
       "}\n",
       "\n",
       "mpl.figure.prototype.mouse_event = function(event, name) {\n",
       "    var canvas_pos = mpl.findpos(event)\n",
       "\n",
       "    if (name === 'button_press')\n",
       "    {\n",
       "        this.canvas.focus();\n",
       "        this.canvas_div.focus();\n",
       "    }\n",
       "\n",
       "    var x = canvas_pos.x * mpl.ratio;\n",
       "    var y = canvas_pos.y * mpl.ratio;\n",
       "\n",
       "    this.send_message(name, {x: x, y: y, button: event.button,\n",
       "                             step: event.step,\n",
       "                             guiEvent: simpleKeys(event)});\n",
       "\n",
       "    /* This prevents the web browser from automatically changing to\n",
       "     * the text insertion cursor when the button is pressed.  We want\n",
       "     * to control all of the cursor setting manually through the\n",
       "     * 'cursor' event from matplotlib */\n",
       "    event.preventDefault();\n",
       "    return false;\n",
       "}\n",
       "\n",
       "mpl.figure.prototype._key_event_extra = function(event, name) {\n",
       "    // Handle any extra behaviour associated with a key event\n",
       "}\n",
       "\n",
       "mpl.figure.prototype.key_event = function(event, name) {\n",
       "\n",
       "    // Prevent repeat events\n",
       "    if (name == 'key_press')\n",
       "    {\n",
       "        if (event.which === this._key)\n",
       "            return;\n",
       "        else\n",
       "            this._key = event.which;\n",
       "    }\n",
       "    if (name == 'key_release')\n",
       "        this._key = null;\n",
       "\n",
       "    var value = '';\n",
       "    if (event.ctrlKey && event.which != 17)\n",
       "        value += \"ctrl+\";\n",
       "    if (event.altKey && event.which != 18)\n",
       "        value += \"alt+\";\n",
       "    if (event.shiftKey && event.which != 16)\n",
       "        value += \"shift+\";\n",
       "\n",
       "    value += 'k';\n",
       "    value += event.which.toString();\n",
       "\n",
       "    this._key_event_extra(event, name);\n",
       "\n",
       "    this.send_message(name, {key: value,\n",
       "                             guiEvent: simpleKeys(event)});\n",
       "    return false;\n",
       "}\n",
       "\n",
       "mpl.figure.prototype.toolbar_button_onclick = function(name) {\n",
       "    if (name == 'download') {\n",
       "        this.handle_save(this, null);\n",
       "    } else {\n",
       "        this.send_message(\"toolbar_button\", {name: name});\n",
       "    }\n",
       "};\n",
       "\n",
       "mpl.figure.prototype.toolbar_button_onmouseover = function(tooltip) {\n",
       "    this.message.textContent = tooltip;\n",
       "};\n",
       "mpl.toolbar_items = [[\"Home\", \"Reset original view\", \"fa fa-home icon-home\", \"home\"], [\"Back\", \"Back to  previous view\", \"fa fa-arrow-left icon-arrow-left\", \"back\"], [\"Forward\", \"Forward to next view\", \"fa fa-arrow-right icon-arrow-right\", \"forward\"], [\"\", \"\", \"\", \"\"], [\"Pan\", \"Pan axes with left mouse, zoom with right\", \"fa fa-arrows icon-move\", \"pan\"], [\"Zoom\", \"Zoom to rectangle\", \"fa fa-square-o icon-check-empty\", \"zoom\"], [\"\", \"\", \"\", \"\"], [\"Download\", \"Download plot\", \"fa fa-floppy-o icon-save\", \"download\"]];\n",
       "\n",
       "mpl.extensions = [\"eps\", \"jpeg\", \"pdf\", \"png\", \"ps\", \"raw\", \"svg\", \"tif\"];\n",
       "\n",
       "mpl.default_extension = \"png\";var comm_websocket_adapter = function(comm) {\n",
       "    // Create a \"websocket\"-like object which calls the given IPython comm\n",
       "    // object with the appropriate methods. Currently this is a non binary\n",
       "    // socket, so there is still some room for performance tuning.\n",
       "    var ws = {};\n",
       "\n",
       "    ws.close = function() {\n",
       "        comm.close()\n",
       "    };\n",
       "    ws.send = function(m) {\n",
       "        //console.log('sending', m);\n",
       "        comm.send(m);\n",
       "    };\n",
       "    // Register the callback with on_msg.\n",
       "    comm.on_msg(function(msg) {\n",
       "        //console.log('receiving', msg['content']['data'], msg);\n",
       "        // Pass the mpl event to the overridden (by mpl) onmessage function.\n",
       "        ws.onmessage(msg['content']['data'])\n",
       "    });\n",
       "    return ws;\n",
       "}\n",
       "\n",
       "mpl.mpl_figure_comm = function(comm, msg) {\n",
       "    // This is the function which gets called when the mpl process\n",
       "    // starts-up an IPython Comm through the \"matplotlib\" channel.\n",
       "\n",
       "    var id = msg.content.data.id;\n",
       "    // Get hold of the div created by the display call when the Comm\n",
       "    // socket was opened in Python.\n",
       "    var element = $(\"#\" + id);\n",
       "    var ws_proxy = comm_websocket_adapter(comm)\n",
       "\n",
       "    function ondownload(figure, format) {\n",
       "        window.open(figure.imageObj.src);\n",
       "    }\n",
       "\n",
       "    var fig = new mpl.figure(id, ws_proxy,\n",
       "                           ondownload,\n",
       "                           element.get(0));\n",
       "\n",
       "    // Call onopen now - mpl needs it, as it is assuming we've passed it a real\n",
       "    // web socket which is closed, not our websocket->open comm proxy.\n",
       "    ws_proxy.onopen();\n",
       "\n",
       "    fig.parent_element = element.get(0);\n",
       "    fig.cell_info = mpl.find_output_cell(\"<div id='\" + id + \"'></div>\");\n",
       "    if (!fig.cell_info) {\n",
       "        console.error(\"Failed to find cell for figure\", id, fig);\n",
       "        return;\n",
       "    }\n",
       "\n",
       "    var output_index = fig.cell_info[2]\n",
       "    var cell = fig.cell_info[0];\n",
       "\n",
       "};\n",
       "\n",
       "mpl.figure.prototype.handle_close = function(fig, msg) {\n",
       "    var width = fig.canvas.width/mpl.ratio\n",
       "    fig.root.unbind('remove')\n",
       "\n",
       "    // Update the output cell to use the data from the current canvas.\n",
       "    fig.push_to_output();\n",
       "    var dataURL = fig.canvas.toDataURL();\n",
       "    // Re-enable the keyboard manager in IPython - without this line, in FF,\n",
       "    // the notebook keyboard shortcuts fail.\n",
       "    IPython.keyboard_manager.enable()\n",
       "    $(fig.parent_element).html('<img src=\"' + dataURL + '\" width=\"' + width + '\">');\n",
       "    fig.close_ws(fig, msg);\n",
       "}\n",
       "\n",
       "mpl.figure.prototype.close_ws = function(fig, msg){\n",
       "    fig.send_message('closing', msg);\n",
       "    // fig.ws.close()\n",
       "}\n",
       "\n",
       "mpl.figure.prototype.push_to_output = function(remove_interactive) {\n",
       "    // Turn the data on the canvas into data in the output cell.\n",
       "    var width = this.canvas.width/mpl.ratio\n",
       "    var dataURL = this.canvas.toDataURL();\n",
       "    this.cell_info[1]['text/html'] = '<img src=\"' + dataURL + '\" width=\"' + width + '\">';\n",
       "}\n",
       "\n",
       "mpl.figure.prototype.updated_canvas_event = function() {\n",
       "    // Tell IPython that the notebook contents must change.\n",
       "    IPython.notebook.set_dirty(true);\n",
       "    this.send_message(\"ack\", {});\n",
       "    var fig = this;\n",
       "    // Wait a second, then push the new image to the DOM so\n",
       "    // that it is saved nicely (might be nice to debounce this).\n",
       "    setTimeout(function () { fig.push_to_output() }, 1000);\n",
       "}\n",
       "\n",
       "mpl.figure.prototype._init_toolbar = function() {\n",
       "    var fig = this;\n",
       "\n",
       "    var nav_element = $('<div/>')\n",
       "    nav_element.attr('style', 'width: 100%');\n",
       "    this.root.append(nav_element);\n",
       "\n",
       "    // Define a callback function for later on.\n",
       "    function toolbar_event(event) {\n",
       "        return fig.toolbar_button_onclick(event['data']);\n",
       "    }\n",
       "    function toolbar_mouse_event(event) {\n",
       "        return fig.toolbar_button_onmouseover(event['data']);\n",
       "    }\n",
       "\n",
       "    for(var toolbar_ind in mpl.toolbar_items){\n",
       "        var name = mpl.toolbar_items[toolbar_ind][0];\n",
       "        var tooltip = mpl.toolbar_items[toolbar_ind][1];\n",
       "        var image = mpl.toolbar_items[toolbar_ind][2];\n",
       "        var method_name = mpl.toolbar_items[toolbar_ind][3];\n",
       "\n",
       "        if (!name) { continue; };\n",
       "\n",
       "        var button = $('<button class=\"btn btn-default\" href=\"#\" title=\"' + name + '\"><i class=\"fa ' + image + ' fa-lg\"></i></button>');\n",
       "        button.click(method_name, toolbar_event);\n",
       "        button.mouseover(tooltip, toolbar_mouse_event);\n",
       "        nav_element.append(button);\n",
       "    }\n",
       "\n",
       "    // Add the status bar.\n",
       "    var status_bar = $('<span class=\"mpl-message\" style=\"text-align:right; float: right;\"/>');\n",
       "    nav_element.append(status_bar);\n",
       "    this.message = status_bar[0];\n",
       "\n",
       "    // Add the close button to the window.\n",
       "    var buttongrp = $('<div class=\"btn-group inline pull-right\"></div>');\n",
       "    var button = $('<button class=\"btn btn-mini btn-primary\" href=\"#\" title=\"Stop Interaction\"><i class=\"fa fa-power-off icon-remove icon-large\"></i></button>');\n",
       "    button.click(function (evt) { fig.handle_close(fig, {}); } );\n",
       "    button.mouseover('Stop Interaction', toolbar_mouse_event);\n",
       "    buttongrp.append(button);\n",
       "    var titlebar = this.root.find($('.ui-dialog-titlebar'));\n",
       "    titlebar.prepend(buttongrp);\n",
       "}\n",
       "\n",
       "mpl.figure.prototype._root_extra_style = function(el){\n",
       "    var fig = this\n",
       "    el.on(\"remove\", function(){\n",
       "\tfig.close_ws(fig, {});\n",
       "    });\n",
       "}\n",
       "\n",
       "mpl.figure.prototype._canvas_extra_style = function(el){\n",
       "    // this is important to make the div 'focusable\n",
       "    el.attr('tabindex', 0)\n",
       "    // reach out to IPython and tell the keyboard manager to turn it's self\n",
       "    // off when our div gets focus\n",
       "\n",
       "    // location in version 3\n",
       "    if (IPython.notebook.keyboard_manager) {\n",
       "        IPython.notebook.keyboard_manager.register_events(el);\n",
       "    }\n",
       "    else {\n",
       "        // location in version 2\n",
       "        IPython.keyboard_manager.register_events(el);\n",
       "    }\n",
       "\n",
       "}\n",
       "\n",
       "mpl.figure.prototype._key_event_extra = function(event, name) {\n",
       "    var manager = IPython.notebook.keyboard_manager;\n",
       "    if (!manager)\n",
       "        manager = IPython.keyboard_manager;\n",
       "\n",
       "    // Check for shift+enter\n",
       "    if (event.shiftKey && event.which == 13) {\n",
       "        this.canvas_div.blur();\n",
       "        event.shiftKey = false;\n",
       "        // Send a \"J\" for go to next cell\n",
       "        event.which = 74;\n",
       "        event.keyCode = 74;\n",
       "        manager.command_mode();\n",
       "        manager.handle_keydown(event);\n",
       "    }\n",
       "}\n",
       "\n",
       "mpl.figure.prototype.handle_save = function(fig, msg) {\n",
       "    fig.ondownload(fig, null);\n",
       "}\n",
       "\n",
       "\n",
       "mpl.find_output_cell = function(html_output) {\n",
       "    // Return the cell and output element which can be found *uniquely* in the notebook.\n",
       "    // Note - this is a bit hacky, but it is done because the \"notebook_saving.Notebook\"\n",
       "    // IPython event is triggered only after the cells have been serialised, which for\n",
       "    // our purposes (turning an active figure into a static one), is too late.\n",
       "    var cells = IPython.notebook.get_cells();\n",
       "    var ncells = cells.length;\n",
       "    for (var i=0; i<ncells; i++) {\n",
       "        var cell = cells[i];\n",
       "        if (cell.cell_type === 'code'){\n",
       "            for (var j=0; j<cell.output_area.outputs.length; j++) {\n",
       "                var data = cell.output_area.outputs[j];\n",
       "                if (data.data) {\n",
       "                    // IPython >= 3 moved mimebundle to data attribute of output\n",
       "                    data = data.data;\n",
       "                }\n",
       "                if (data['text/html'] == html_output) {\n",
       "                    return [cell, data, j];\n",
       "                }\n",
       "            }\n",
       "        }\n",
       "    }\n",
       "}\n",
       "\n",
       "// Register the function which deals with the matplotlib target/channel.\n",
       "// The kernel may be null if the page has been refreshed.\n",
       "if (IPython.notebook.kernel != null) {\n",
       "    IPython.notebook.kernel.comm_manager.register_target('matplotlib', mpl.mpl_figure_comm);\n",
       "}\n"
      ],
      "text/plain": [
       "<IPython.core.display.Javascript object>"
      ]
     },
     "metadata": {},
     "output_type": "display_data"
    },
    {
     "data": {
      "text/html": [
       "<img src=\"data:image/png;base64,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\" width=\"900\">"
      ],
      "text/plain": [
       "<IPython.core.display.HTML object>"
      ]
     },
     "metadata": {},
     "output_type": "display_data"
    },
    {
     "data": {
      "application/vnd.jupyter.widget-view+json": {
       "model_id": "5a77fa42bae74dcea7d538ac6a069d90",
       "version_major": 2,
       "version_minor": 0
      },
      "text/plain": [
       "Button(description='Update', style=ButtonStyle())"
      ]
     },
     "metadata": {},
     "output_type": "display_data"
    },
    {
     "data": {
      "application/vnd.jupyter.widget-view+json": {
       "model_id": "892fc61813c145638f116feb32fd04bd",
       "version_major": 2,
       "version_minor": 0
      },
      "text/plain": [
       "IntText(value=30, description='Epoch history')"
      ]
     },
     "metadata": {},
     "output_type": "display_data"
    }
   ],
   "source": [
    "matplotlib.rcParams.update({'font.size': 22})\n",
    "fig3 = plt.figure(figsize = (9,6))\n",
    "ax3 = fig3.subplots()\n",
    "#matplotlib.pyplot.ion()\n",
    "\n",
    "\n",
    "button = widgets.Button(description=\"Update\")\n",
    "show_epochs = widgets.IntText(description='Epoch history',disabled=False)\n",
    "show_epochs.value = 30\n",
    "\n",
    "def on_button_clicked(b):\n",
    "    with open('loss.log') as f:\n",
    "        content = f.readlines()\n",
    "    content = [float(x.strip()) for x in content]\n",
    "    xmin = 0\n",
    "    xmax = len(content)\n",
    "    if xmax > show_epochs.value:\n",
    "        xmin = xmax-show_epochs.value\n",
    "        content = content[xmin:xmax]\n",
    "    ymin = np.min(content)\n",
    "    ymax = np.max(content)\n",
    "    x_axis = np.linspace(xmin, xmax-1, num=xmax-xmin)\n",
    "\n",
    "    #matplotlib.pyplot.gcf().clear()\n",
    "    ax3.clear()\n",
    "    ax3.set_xlim(xmin, xmax)\n",
    "    yaxismin = ymin - (ymax-ymin)/3\n",
    "    if yaxismin < 0:\n",
    "        yaxismin = 0\n",
    "    ax3.set_ylim(ymin - (ymax-ymin)/3, ymax)\n",
    "    ax3.plot(x_axis, content, linewidth=5.0)\n",
    "    ax3.xaxis.set_major_locator(matplotlib.ticker.MaxNLocator(integer=True))\n",
    "    ax3.grid(linestyle='-', linewidth='0.5', color='red')\n",
    "    fig3.canvas.draw()\n",
    "\n",
    "    \n",
    "on_button_clicked(None)\n",
    "fig3.show()\n",
    "\n",
    "display(button)\n",
    "display(show_epochs)\n",
    "\n",
    "button.on_click(on_button_clicked)\n",
    "show_epochs.observe(on_button_clicked)"
   ]
  },
  {
   "cell_type": "code",
   "execution_count": 5,
   "metadata": {},
   "outputs": [
    {
     "data": {
      "text/markdown": [
       "## Latest model is: ./weights/em_capsules/model_6.pth"
      ],
      "text/plain": [
       "<IPython.core.display.Markdown object>"
      ]
     },
     "metadata": {},
     "output_type": "display_data"
    }
   ],
   "source": [
    "class args():\n",
    "    num_classes = 1\n",
    "    batch_size = 1\n",
    "    routing = 'EM_routing'\n",
    "    loss = 'spread_loss̈́'\n",
    "    use_recon = 0.001\n",
    "    r = 3\n",
    "    num_workers = 1\n",
    "    disable_encoder = False\n",
    "    disable_recon = False\n",
    "\n",
    "A, AA, B, C, D, E, r = 32, 64, 16, 16, 16, args.num_classes, args.r # a small CapsNet\n",
    "\n",
    "model = mcaps.CapsNet(args, A, AA, B, C, D, E, r, h=4)\n",
    "\n",
    "LatestFile = max(glob.iglob(\"./weights/em_capsules/model*.pth\"),key=os.path.getctime)\n",
    "\n",
    "display(Markdown('## Latest model is: '+LatestFile))\n",
    "\n",
    "model.load_state_dict(torch.load(LatestFile))\n",
    "model.cpu()\n",
    "\n",
    "self = model"
   ]
  },
  {
   "cell_type": "markdown",
   "metadata": {},
   "source": [
    "## Ground Truth"
   ]
  },
  {
   "cell_type": "code",
   "execution_count": 6,
   "metadata": {
    "scrolled": false
   },
   "outputs": [
    {
     "data": {
      "application/vnd.jupyter.widget-view+json": {
       "model_id": "40cb7ed7cbca49e198a432e508a3061c",
       "version_major": 2,
       "version_minor": 0
      },
      "text/plain": [
       "Output(layout=Layout(border='1px solid black', width='80%'))"
      ]
     },
     "metadata": {},
     "output_type": "display_data"
    }
   ],
   "source": [
    "def updateOutputWidget(widget, array, color=\"L\"):\n",
    "    f = BytesIO()\n",
    "    PIL.Image.fromarray(np.uint8(array*255), mode=color).convert(color).save(f, 'png')\n",
    "    widget.clear_output()\n",
    "    with widget:\n",
    "        display(Image(data=f.getvalue(), width='100%'))\n",
    "\n",
    "def gaussian(ins, is_training, mean, stddev):\n",
    "    if is_training:\n",
    "        noise = Variable(ins.data.new(ins.size()).normal_(mean, stddev))\n",
    "        return ins + noise\n",
    "    return ins\n",
    "\n",
    "lambda_ = 1.0\n",
    "\n",
    "def getImage(img_data):\n",
    "    imgs = img_data\n",
    "    imgs = imgs[:,0,:,:].unsqueeze(1) # use only red channel\n",
    "    left = imgs[:,:,:,:int(imgs.shape[-1]/2)]\n",
    "    right = imgs[:,:,:,int(imgs.shape[-1]/2):]\n",
    "    imgs_two_channel_red = np.stack([left[:,0,:,:],right[:,0,:,:]], axis=1)\n",
    "    return imgs_two_channel_red\n",
    "\n",
    "ground_truth_widget = widgets.Output(layout=Layout(border='1px solid black', width='80%'))\n",
    "display(ground_truth_widget)"
   ]
  },
  {
   "cell_type": "markdown",
   "metadata": {},
   "source": [
    "## Activations of convolutional layers and primary capsules layer"
   ]
  },
  {
   "cell_type": "code",
   "execution_count": 7,
   "metadata": {},
   "outputs": [
    {
     "data": {
      "application/vnd.jupyter.widget-view+json": {
       "model_id": "1007b7d26f9043428b634c0d1f985c3a",
       "version_major": 2,
       "version_minor": 0
      },
      "text/plain": [
       "VBox(children=(HBox(children=(Output(layout=Layout(width='100%')), Output(layout=Layout(width='100%'))), layou…"
      ]
     },
     "metadata": {},
     "output_type": "display_data"
    }
   ],
   "source": [
    "layer1_widget = widgets.Output(layout=Layout(width='100%'))\n",
    "layer2_widget = widgets.Output(layout=Layout(width='100%'))\n",
    "layer3_widget = widgets.Output(layout=Layout(width='100%'))\n",
    "layer12_widget = HBox([layer1_widget, layer2_widget], layout=Layout(width='100%'))\n",
    "layer123_widget = VBox([layer12_widget, layer3_widget], layout=Layout(width='100%'))\n",
    "display(layer123_widget)\n",
    "\n",
    "\n",
    "\n",
    "def makeCombinedImage(img):\n",
    "    img = img.squeeze().unsqueeze(1)\n",
    "    return utils.make_grid(img.data, nrow=int(img.shape[0] ** 0.5), normalize=True,range=(0, 1)).cpu().numpy()\n",
    "    \n",
    "def forward(self, x, lambda_, labels=None, draw=True):\n",
    "    if x is not None:\n",
    "        x = F.relu(self.conv1(x))  # b,32,12,12\n",
    "\n",
    "        if draw is True:\n",
    "            grid_picture = makeCombinedImage(x)\n",
    "            updateOutputWidget(layer1_widget, grid_picture.transpose(1,2,0), \"RGB\")\n",
    "\n",
    "        x = F.max_pool2d(x, 2, 2, 1)\n",
    "        x = F.relu(self.conv2(x))\n",
    "        \n",
    "        if draw is True:\n",
    "            grid_picture = makeCombinedImage(x)\n",
    "            updateOutputWidget(layer2_widget, grid_picture.transpose(1,2,0), \"RGB\")\n",
    "        \n",
    "        x = self.primary_caps(x)  # b,32*(4*4+1),12,12\n",
    "\n",
    "        if draw is True:\n",
    "            grid_picture = makeCombinedImage(x[0])\n",
    "            updateOutputWidget(layer3_widget, grid_picture.transpose(1,2,0), \"RGB\")\n",
    "            \n",
    "        x = self.convcaps1(x, lambda_)  # b,32*(4*4+1),5,5\n",
    "        x = self.convcaps2(x, lambda_)  # b,32*(4*4+1),3,3\n",
    "        p, a = self.classcaps(x, lambda_)  # b,10*16+10\n",
    "\n",
    "        p = p.squeeze()\n",
    "\n",
    "        # Temporary when batch size = 1\n",
    "        if len(p.shape) == 1:\n",
    "            p = p.unsqueeze(0)\n",
    "    else:\n",
    "        p = labels\n",
    "\n",
    "    if not self.args.disable_recon:\n",
    "        reconstructions = self.decoder(p)\n",
    "    else:\n",
    "        reconstructions = 0\n",
    "\n",
    "    return p, reconstructions"
   ]
  },
  {
   "cell_type": "markdown",
   "metadata": {},
   "source": [
    "## 4x4 pose output"
   ]
  },
  {
   "cell_type": "code",
   "execution_count": 8,
   "metadata": {
    "scrolled": false
   },
   "outputs": [
    {
     "data": {
      "application/vnd.jupyter.widget-view+json": {
       "model_id": "c7cdb5dac4544d358182d2f2ff23f106",
       "version_major": 2,
       "version_minor": 0
      },
      "text/plain": [
       "HBox(children=(VBox(children=(HBox(children=(Output(layout=Layout(width='100%')), Output(layout=Layout(width='…"
      ]
     },
     "metadata": {},
     "output_type": "display_data"
    },
    {
     "data": {
      "application/vnd.jupyter.widget-view+json": {
       "model_id": "df4f4bce7bcc4bb8b744dbb7a100341e",
       "version_major": 2,
       "version_minor": 0
      },
      "text/plain": [
       "Text(value='', description='Pose output', layout=Layout(width='100%'))"
      ]
     },
     "metadata": {},
     "output_type": "display_data"
    },
    {
     "data": {
      "application/vnd.jupyter.widget-view+json": {
       "model_id": "30af7f0eb60e46f3b680d965619528da",
       "version_major": 2,
       "version_minor": 0
      },
      "text/plain": [
       "Text(value='', description='Pose label', layout=Layout(width='100%'))"
      ]
     },
     "metadata": {},
     "output_type": "display_data"
    }
   ],
   "source": [
    "truth_widget_left = widgets.Output(layout=Layout(width='100%'))\n",
    "truth_widget_right = widgets.Output(layout=Layout(width='100%'))\n",
    "recon_widget_left = widgets.Output(layout=Layout(width='100%'))\n",
    "recon_widget_right = widgets.Output(layout=Layout(width='100%'))\n",
    "truth_widget = HBox([truth_widget_left, truth_widget_right], layout=Layout(width='100%'))\n",
    "recon_widget = HBox([recon_widget_left, recon_widget_right], layout=Layout(width='100%'))\n",
    "step_widget = VBox([truth_widget, recon_widget], layout=Layout(width='100%'))\n",
    "names = ['p0', 'p1', 'p2', 'p3', 'p4', 'p5', 'p6', 'p7', 'p8', 'p9', 'p10', 'p11', 'p12', 'p13', 'p14', 'p15']\n",
    "pose_sliders = [FloatSlider(min=-1, max=1, layout={'height': '50%'}, step=0.00001, description=i, orientation='horizontal') for i in names]\n",
    "button_next = widgets.Button(description=\"Next\", layout={'height': '50%'})\n",
    "pose_sliders.append(button_next)\n",
    "sliders_widget = VBox(pose_sliders, layout=Layout(width='60%'))\n",
    "step_slider_widget = HBox([step_widget, sliders_widget],layout=Layout(width='100%'))\n",
    "pose_output = widgets.Text(layout={'width': '100%'},description='Pose output',disabled=False)\n",
    "pose_label = widgets.Text(layout={'width': '100%'},description='Pose label',disabled=False)\n",
    "the_time = time.time()\n",
    "do_update = True\n",
    "\n",
    "display(step_slider_widget)\n",
    "display(pose_output)\n",
    "display(pose_label)\n",
    "\n",
    "\n",
    "# Initialize Transform Network (from Pose to Quaternion)\n",
    "import sys\n",
    "import pyrr\n",
    "sys.path.append('../PoseToQuaternionNetwork/model')\n",
    "from transform import PoseToQuatNet\n",
    "transform = PoseToQuatNet()\n",
    "transform.load_state_dict(torch.load('../PoseToQuaternionNetwork/weights/model.pth'))\n",
    "transform.cpu()\n",
    "\n",
    "# Initialize view and projection for coord system rendering\n",
    "w_width, w_height = 800, 800\n",
    "focus_distance = 1.9\n",
    "view = pyrr.matrix44.create_from_translation(pyrr.Vector3([0.0, 0.0, -focus_distance])).transpose()\n",
    "projection = pyrr.matrix44.create_perspective_projection_matrix(65.0, w_width / w_height, 0.1, 100.0).transpose()\n",
    "\n",
    "\n",
    "def plotPoint(pnt, color_idx, img_left, img_right):\n",
    "    model_view = pyrr.matrix44.multiply(view, pnt)\n",
    "    model_projection = pyrr.matrix44.multiply(projection, model_view)\n",
    "    scaling = model_projection[3]\n",
    "    pix_x = img_left.shape[0]/2 + (model_projection[0]/scaling) * img_left.shape[0]/2\n",
    "    if pix_x >= img_left.shape[0]: pix_x = img_left.shape[0]-1\n",
    "    if pix_x < 0: pix_x = 0\n",
    "    pix_y = img_left.shape[1]/2 - (model_projection[1]/scaling) * img_left.shape[1]/2\n",
    "    if pix_y >= img_left.shape[1]: pix_y = img_left.shape[1]-1\n",
    "    if pix_y < 0: pix_y = 0\n",
    "    img_left[int(pix_y),int(pix_x),color_idx] = 1.0\n",
    "    img_right[int(pix_y),int(pix_x),color_idx] = 1.0\n",
    "\n",
    "def plotCoordSystemAxis(pose44, axis_idx, img_left, img_right):\n",
    "    pnt = pyrr.vector4.create(0.0, 0.0, 0.0, 1.0)\n",
    "    for i in range(50):\n",
    "        pnt[axis_idx] = i*0.01\n",
    "        point = pyrr.matrix44.multiply(pose44.transpose(), pnt)\n",
    "        plotPoint(point, axis_idx, img_left, img_right)\n",
    "\n",
    "pose = 0\n",
    "\n",
    "def on_value_change(change):\n",
    "    global the_time\n",
    "    global do_update\n",
    "    global pose\n",
    "\n",
    "    if not do_update and change is not None:\n",
    "        return\n",
    "\n",
    "    if (time.time()-the_time) < 0.2:\n",
    "        return\n",
    "    the_time = time.time()\n",
    "    \n",
    "    for i in range(len(pose_sliders)-1):\n",
    "        pose[:,i] = pose_sliders[i].value\n",
    "    p, reconstruction = forward(self, None, None, labels=pose)\n",
    "    reconstruction = reconstruction.view_as(imgs)\n",
    "\n",
    "    recon_left = reconstruction.data[:,0,:,:].squeeze().cpu().numpy()\n",
    "    recon_right = reconstruction.data[:,1,:,:].squeeze().cpu().numpy()\n",
    "\n",
    "    vec7 = transform.forward(pose)\n",
    "    quat = vec7.data[0,3:].cpu().numpy()\n",
    "    mat44 = pyrr.Matrix44.from_quaternion(quat)\n",
    "    mat44[3,:][0:3] = vec7.data[0,:3]\n",
    "\n",
    "    recon_left = np.concatenate((recon_left[:,:,None],recon_left[:,:,None],recon_left[:,:,None]), axis=2)\n",
    "    recon_right = np.concatenate((recon_right[:,:,None],recon_right[:,:,None],recon_right[:,:,None]), axis=2)\n",
    "\n",
    "    plotCoordSystemAxis(mat44, 0, recon_left, recon_right)\n",
    "    plotCoordSystemAxis(mat44, 1, recon_left, recon_right)\n",
    "    plotCoordSystemAxis(mat44, 2, recon_left, recon_right)\n",
    "\n",
    "    updateOutputWidget(recon_widget_left, recon_left, \"RGB\")\n",
    "    updateOutputWidget(recon_widget_right, recon_right, \"RGB\")\n",
    "        \n",
    "def showDataImage(next_data, steps=0):\n",
    "    global ground_truth_labels\n",
    "    global imgs\n",
    "    global do_update\n",
    "    global ground_truth_widget\n",
    "    global pose\n",
    "    do_update = False\n",
    "    \n",
    "    updateOutputWidget(ground_truth_widget, next_data[0][:,0,:,:].squeeze().numpy())\n",
    "    \n",
    "    image = getImage(next_data[0])\n",
    "    \n",
    "    ground_truth_labels = next_data[1]\n",
    "    imgs = Variable(torch.from_numpy(image)).cpu()\n",
    "    pose, reco = forward(self, imgs, lambda_, draw=True)\n",
    "    \n",
    "    pose_label.value = \"\"\n",
    "    for i in range(ground_truth_labels.shape[1]):\n",
    "        pose_label.value += str(ground_truth_labels.float().numpy()[0,i]) + \", \"\n",
    "\n",
    "    pose_transformed = transform.forward(pose)\n",
    "    pose_output.value = \"\"\n",
    "    for i in range(pose_transformed.shape[1]):\n",
    "        pose_output.value += str(pose_transformed.data.cpu().numpy()[0,i]) + \", \"\n",
    "    \n",
    "    #pose_label.value = str(ground_truth_labels.float().numpy()[0,:])\n",
    "    #pose_output.value = str(transform.forward(p).data.cpu().numpy()[0,:])\n",
    "    \n",
    "    updateOutputWidget(truth_widget_left, imgs[0,0,:,:].squeeze().numpy())\n",
    "    updateOutputWidget(truth_widget_right, imgs[0,1,:,:].squeeze().numpy())\n",
    "\n",
    "    if steps == 0:\n",
    "        for i in range(len(pose_sliders)-1):\n",
    "            pose_sliders[i].max = pose[:,i]\n",
    "            pose_sliders[i].min = pose[:,i]\n",
    "    else:\n",
    "        old = []\n",
    "        for i in range(len(pose_sliders)-1):\n",
    "            old.append(pose_sliders[i].value)\n",
    "            if pose[:,i] > pose_sliders[i].max:\n",
    "                pose_sliders[i].max = pose[:,i]\n",
    "            elif pose[:,i] < pose_sliders[i].min:\n",
    "                pose_sliders[i].min = pose[:,i]\n",
    "\n",
    "        delta = pose[0,:].data.cpu().numpy() - old\n",
    "        delta /= steps\n",
    "\n",
    "        for steps in range(steps):\n",
    "            for i in range(len(pose_sliders)-1):\n",
    "                pose_sliders[i].value += delta[i]\n",
    "            on_value_change(None)\n",
    "            time.sleep(0.5)\n",
    "            \n",
    "    for i in range(len(pose_sliders)-1):\n",
    "        pose_sliders[i].value = pose[:,i]\n",
    "    on_value_change(None)\n",
    "    do_update = True\n",
    "\n",
    "\n",
    "from main import MyImageFolder\n",
    "train_dataset = MyImageFolder(root='../../data/dumps/', transform=transforms.ToTensor(), target_transform=transforms.ToTensor())\n",
    "train_loader = torch.utils.data.DataLoader(dataset=train_dataset,batch_size=args.batch_size,num_workers=args.num_workers,shuffle=False)\n",
    "data_iter = iter(train_loader)\n",
    "\n",
    "def on_next_button_clicked(b):\n",
    "    next_data = next(data_iter)\n",
    "    showDataImage(next_data, steps=10)\n",
    "\n",
    "button_next.on_click(on_next_button_clicked)\n",
    "\n",
    "next_data = next(data_iter)\n",
    "showDataImage(next_data, steps=0)\n",
    "\n",
    "for i in range(len(pose_sliders)):\n",
    "    pose_sliders[i].observe(on_value_change)"
   ]
  },
  {
   "cell_type": "code",
   "execution_count": null,
   "metadata": {},
   "outputs": [],
   "source": []
  }
 ],
 "metadata": {
  "kernelspec": {
   "display_name": "Python 3",
   "language": "python",
   "name": "python3"
  },
  "language_info": {
   "codemirror_mode": {
    "name": "ipython",
    "version": 3
   },
   "file_extension": ".py",
   "mimetype": "text/x-python",
   "name": "python",
   "nbconvert_exporter": "python",
   "pygments_lexer": "ipython3",
   "version": "3.6.5"
  },
  "widgets": {
   "application/vnd.jupyter.widget-state+json": {
    "state": {
     "02a95245f28f48e69eda3fb3bd438d67": {
      "model_module_version": "^2.1.4",
      "state": {
       "value": "<table style=\"width:100%\">\n                <thead>\n                    <tr>\n                        <th colspan=\"2\">\n                        Could not create model:\n                        </th>\n                    </tr>\n                </thead>\n                <tbody>\n                    <tr>\n                        <td>Model name</td>\n                        <td> undefined </td>\n                    </tr>\n                    <tr>\n                        <td>Model module</td>\n                        <td> undefined </td>\n                    </tr>\n                    <tr>\n                        <td>Model module version</td>\n                        <td> undefined </td>\n                    </tr>\n                <tbody>\n                <tfoot>\n                    <tr>\n                        <th colspan=\"2\">\n                        Class undefined not found in registry \n                        </th>\n                    </tr>\n                </tfoot>\n                </table>"
      }
     },
     "086adac005c04b4190a432ca55b65c08": {
      "model_module_version": "^2.1.4",
      "state": {
       "children": [
        "IPY_MODEL_5ddce768a0cd44fcb6a02f55d97511c0",
        "IPY_MODEL_7b2a75f21e23408ba72e5f04d40c4ae0"
       ],
       "value": "<table style=\"width:100%\">\n                <thead>\n                    <tr>\n                        <th colspan=\"2\">\n                        Could not create model:\n                        </th>\n                    </tr>\n                </thead>\n                <tbody>\n                    <tr>\n                        <td>Model name</td>\n                        <td> undefined </td>\n                    </tr>\n                    <tr>\n                        <td>Model module</td>\n                        <td> undefined </td>\n                    </tr>\n                    <tr>\n                        <td>Model module version</td>\n                        <td> undefined </td>\n                    </tr>\n                <tbody>\n                <tfoot>\n                    <tr>\n                        <th colspan=\"2\">\n                        Class undefined not found in registry \n                        </th>\n                    </tr>\n                </tfoot>\n                </table>"
      }
     },
     "09a94446cf9d4aaea5de8fee2478bfe3": {
      "model_module_version": "^2.1.4",
      "state": {
       "value": "<table style=\"width:100%\">\n                <thead>\n                    <tr>\n                        <th colspan=\"2\">\n                        Could not create model:\n                        </th>\n                    </tr>\n                </thead>\n                <tbody>\n                    <tr>\n                        <td>Model name</td>\n                        <td> undefined </td>\n                    </tr>\n                    <tr>\n                        <td>Model module</td>\n                        <td> undefined </td>\n                    </tr>\n                    <tr>\n                        <td>Model module version</td>\n                        <td> undefined </td>\n                    </tr>\n                <tbody>\n                <tfoot>\n                    <tr>\n                        <th colspan=\"2\">\n                        Class undefined not found in registry \n                        </th>\n                    </tr>\n                </tfoot>\n                </table>"
      }
     },
     "0a266fd5169140bab25a3a38a8f50fb1": {
      "model_module_version": "^2.1.4",
      "state": {
       "children": [
        "IPY_MODEL_bc40a99774e645d6a95f8c5424ed326e",
        "IPY_MODEL_43698cd83e434735970d098c0c18c682"
       ],
       "value": "<table style=\"width:100%\">\n                <thead>\n                    <tr>\n                        <th colspan=\"2\">\n                        Could not create model:\n                        </th>\n                    </tr>\n                </thead>\n                <tbody>\n                    <tr>\n                        <td>Model name</td>\n                        <td> undefined </td>\n                    </tr>\n                    <tr>\n                        <td>Model module</td>\n                        <td> undefined </td>\n                    </tr>\n                    <tr>\n                        <td>Model module version</td>\n                        <td> undefined </td>\n                    </tr>\n                <tbody>\n                <tfoot>\n                    <tr>\n                        <th colspan=\"2\">\n                        Class undefined not found in registry \n                        </th>\n                    </tr>\n                </tfoot>\n                </table>"
      }
     },
     "0bb041ed3f25401da46f4d3b1b84bedd": {
      "model_module_version": "^2.1.4",
      "state": {
       "msg_id": "",
       "value": "<table style=\"width:100%\">\n                <thead>\n                    <tr>\n                        <th colspan=\"2\">\n                        Could not create model:\n                        </th>\n                    </tr>\n                </thead>\n                <tbody>\n                    <tr>\n                        <td>Model name</td>\n                        <td> undefined </td>\n                    </tr>\n                    <tr>\n                        <td>Model module</td>\n                        <td> undefined </td>\n                    </tr>\n                    <tr>\n                        <td>Model module version</td>\n                        <td> undefined </td>\n                    </tr>\n                <tbody>\n                <tfoot>\n                    <tr>\n                        <th colspan=\"2\">\n                        Class undefined not found in registry \n                        </th>\n                    </tr>\n                </tfoot>\n                </table>"
      }
     },
     "0c491954f101426f8a6d2c2c8f117c65": {
      "model_module_version": "^2.1.4",
      "state": {
       "children": [
        "IPY_MODEL_e8c41950a9d349d2a093b110f66cbb72",
        "IPY_MODEL_b74b2bb279ff49c9a7b8384e115dda91"
       ],
       "value": "<table style=\"width:100%\">\n                <thead>\n                    <tr>\n                        <th colspan=\"2\">\n                        Could not create model:\n                        </th>\n                    </tr>\n                </thead>\n                <tbody>\n                    <tr>\n                        <td>Model name</td>\n                        <td> undefined </td>\n                    </tr>\n                    <tr>\n                        <td>Model module</td>\n                        <td> undefined </td>\n                    </tr>\n                    <tr>\n                        <td>Model module version</td>\n                        <td> undefined </td>\n                    </tr>\n                <tbody>\n                <tfoot>\n                    <tr>\n                        <th colspan=\"2\">\n                        Class undefined not found in registry \n                        </th>\n                    </tr>\n                </tfoot>\n                </table>"
      }
     },
     "0d0f207a9beb4bbc8342dfdfde8abfd1": {
      "model_module_version": "^2.1.4",
      "state": {
       "msg_id": "",
       "value": "<table style=\"width:100%\">\n                <thead>\n                    <tr>\n                        <th colspan=\"2\">\n                        Could not create model:\n                        </th>\n                    </tr>\n                </thead>\n                <tbody>\n                    <tr>\n                        <td>Model name</td>\n                        <td> undefined </td>\n                    </tr>\n                    <tr>\n                        <td>Model module</td>\n                        <td> undefined </td>\n                    </tr>\n                    <tr>\n                        <td>Model module version</td>\n                        <td> undefined </td>\n                    </tr>\n                <tbody>\n                <tfoot>\n                    <tr>\n                        <th colspan=\"2\">\n                        Class undefined not found in registry \n                        </th>\n                    </tr>\n                </tfoot>\n                </table>"
      }
     },
     "17ce0b15ae7f4e07bb389acdb95723a9": {
      "model_module_version": "^2.1.4",
      "state": {
       "children": [
        "IPY_MODEL_98eb087ff1554f3983db53fa15fe205e",
        "IPY_MODEL_2cb31d41b01c41cab49231e6bbcef9a5"
       ],
       "value": "<table style=\"width:100%\">\n                <thead>\n                    <tr>\n                        <th colspan=\"2\">\n                        Could not create model:\n                        </th>\n                    </tr>\n                </thead>\n                <tbody>\n                    <tr>\n                        <td>Model name</td>\n                        <td> undefined </td>\n                    </tr>\n                    <tr>\n                        <td>Model module</td>\n                        <td> undefined </td>\n                    </tr>\n                    <tr>\n                        <td>Model module version</td>\n                        <td> undefined </td>\n                    </tr>\n                <tbody>\n                <tfoot>\n                    <tr>\n                        <th colspan=\"2\">\n                        Class undefined not found in registry \n                        </th>\n                    </tr>\n                </tfoot>\n                </table>"
      }
     },
     "18fbf107d608491b8631570d892bc11c": {
      "model_module_version": "^2.1.4",
      "state": {
       "value": "<table style=\"width:100%\">\n                <thead>\n                    <tr>\n                        <th colspan=\"2\">\n                        Could not create model:\n                        </th>\n                    </tr>\n                </thead>\n                <tbody>\n                    <tr>\n                        <td>Model name</td>\n                        <td> undefined </td>\n                    </tr>\n                    <tr>\n                        <td>Model module</td>\n                        <td> undefined </td>\n                    </tr>\n                    <tr>\n                        <td>Model module version</td>\n                        <td> undefined </td>\n                    </tr>\n                <tbody>\n                <tfoot>\n                    <tr>\n                        <th colspan=\"2\">\n                        Class undefined not found in registry \n                        </th>\n                    </tr>\n                </tfoot>\n                </table>"
      }
     },
     "1a1f8a848b0344be8b0ccf93d1d2026c": {
      "model_module_version": "^2.1.4",
      "state": {
       "value": "<table style=\"width:100%\">\n                <thead>\n                    <tr>\n                        <th colspan=\"2\">\n                        Could not create model:\n                        </th>\n                    </tr>\n                </thead>\n                <tbody>\n                    <tr>\n                        <td>Model name</td>\n                        <td> undefined </td>\n                    </tr>\n                    <tr>\n                        <td>Model module</td>\n                        <td> undefined </td>\n                    </tr>\n                    <tr>\n                        <td>Model module version</td>\n                        <td> undefined </td>\n                    </tr>\n                <tbody>\n                <tfoot>\n                    <tr>\n                        <th colspan=\"2\">\n                        Class undefined not found in registry \n                        </th>\n                    </tr>\n                </tfoot>\n                </table>"
      }
     },
     "1a3f3f985d584928bc8d0c7ab6f70f2e": {
      "model_module_version": "^2.1.4",
      "state": {
       "value": "<table style=\"width:100%\">\n                <thead>\n                    <tr>\n                        <th colspan=\"2\">\n                        Could not create model:\n                        </th>\n                    </tr>\n                </thead>\n                <tbody>\n                    <tr>\n                        <td>Model name</td>\n                        <td> undefined </td>\n                    </tr>\n                    <tr>\n                        <td>Model module</td>\n                        <td> undefined </td>\n                    </tr>\n                    <tr>\n                        <td>Model module version</td>\n                        <td> undefined </td>\n                    </tr>\n                <tbody>\n                <tfoot>\n                    <tr>\n                        <th colspan=\"2\">\n                        Class undefined not found in registry \n                        </th>\n                    </tr>\n                </tfoot>\n                </table>"
      }
     },
     "1cd36f848c6a4887b49476cedbf3d552": {
      "model_module_version": "^2.1.4",
      "state": {
       "value": "<table style=\"width:100%\">\n                <thead>\n                    <tr>\n                        <th colspan=\"2\">\n                        Could not create model:\n                        </th>\n                    </tr>\n                </thead>\n                <tbody>\n                    <tr>\n                        <td>Model name</td>\n                        <td> undefined </td>\n                    </tr>\n                    <tr>\n                        <td>Model module</td>\n                        <td> undefined </td>\n                    </tr>\n                    <tr>\n                        <td>Model module version</td>\n                        <td> undefined </td>\n                    </tr>\n                <tbody>\n                <tfoot>\n                    <tr>\n                        <th colspan=\"2\">\n                        Class undefined not found in registry \n                        </th>\n                    </tr>\n                </tfoot>\n                </table>"
      }
     },
     "1e92dc6d2e6a4746ae2cd05ab57165ec": {
      "model_module_version": "^2.1.4",
      "state": {
       "description": "x",
       "value": "<table style=\"width:100%\">\n                <thead>\n                    <tr>\n                        <th colspan=\"2\">\n                        Could not create model:\n                        </th>\n                    </tr>\n                </thead>\n                <tbody>\n                    <tr>\n                        <td>Model name</td>\n                        <td> undefined </td>\n                    </tr>\n                    <tr>\n                        <td>Model module</td>\n                        <td> undefined </td>\n                    </tr>\n                    <tr>\n                        <td>Model module version</td>\n                        <td> undefined </td>\n                    </tr>\n                <tbody>\n                <tfoot>\n                    <tr>\n                        <th colspan=\"2\">\n                        Class undefined not found in registry \n                        </th>\n                    </tr>\n                </tfoot>\n                </table>"
      }
     },
     "28fc64f255dc4af98ea2e4f433a7e659": {
      "model_module_version": "^2.1.4",
      "state": {
       "children": [
        "IPY_MODEL_d00724d28f834c4991169f92b8e447cb",
        "IPY_MODEL_b5c4b56ba9cd45e1bdca6530cc78c9e1"
       ],
       "value": "<table style=\"width:100%\">\n                <thead>\n                    <tr>\n                        <th colspan=\"2\">\n                        Could not create model:\n                        </th>\n                    </tr>\n                </thead>\n                <tbody>\n                    <tr>\n                        <td>Model name</td>\n                        <td> undefined </td>\n                    </tr>\n                    <tr>\n                        <td>Model module</td>\n                        <td> undefined </td>\n                    </tr>\n                    <tr>\n                        <td>Model module version</td>\n                        <td> undefined </td>\n                    </tr>\n                <tbody>\n                <tfoot>\n                    <tr>\n                        <th colspan=\"2\">\n                        Class undefined not found in registry \n                        </th>\n                    </tr>\n                </tfoot>\n                </table>"
      }
     },
     "2a48c6cde59541fe8760420e54905bb8": {
      "model_module_version": "^2.1.4",
      "state": {
       "value": "<table style=\"width:100%\">\n                <thead>\n                    <tr>\n                        <th colspan=\"2\">\n                        Could not create model:\n                        </th>\n                    </tr>\n                </thead>\n                <tbody>\n                    <tr>\n                        <td>Model name</td>\n                        <td> undefined </td>\n                    </tr>\n                    <tr>\n                        <td>Model module</td>\n                        <td> undefined </td>\n                    </tr>\n                    <tr>\n                        <td>Model module version</td>\n                        <td> undefined </td>\n                    </tr>\n                <tbody>\n                <tfoot>\n                    <tr>\n                        <th colspan=\"2\">\n                        Class undefined not found in registry \n                        </th>\n                    </tr>\n                </tfoot>\n                </table>"
      }
     },
     "2a9914efad9b4709b512186b35fca807": {
      "model_module_version": "^2.1.4",
      "state": {
       "value": "<table style=\"width:100%\">\n                <thead>\n                    <tr>\n                        <th colspan=\"2\">\n                        Could not create model:\n                        </th>\n                    </tr>\n                </thead>\n                <tbody>\n                    <tr>\n                        <td>Model name</td>\n                        <td> undefined </td>\n                    </tr>\n                    <tr>\n                        <td>Model module</td>\n                        <td> undefined </td>\n                    </tr>\n                    <tr>\n                        <td>Model module version</td>\n                        <td> undefined </td>\n                    </tr>\n                <tbody>\n                <tfoot>\n                    <tr>\n                        <th colspan=\"2\">\n                        Class undefined not found in registry \n                        </th>\n                    </tr>\n                </tfoot>\n                </table>"
      }
     },
     "2b61a2efed51453ba7d9b61640e3257b": {
      "model_module_version": "^2.1.4",
      "state": {
       "children": [
        "IPY_MODEL_ca7fc7414df744c1a12a80afcd929124",
        "IPY_MODEL_892d3ae0c7194bf880319e259ecc2978"
       ],
       "value": "<table style=\"width:100%\">\n                <thead>\n                    <tr>\n                        <th colspan=\"2\">\n                        Could not create model:\n                        </th>\n                    </tr>\n                </thead>\n                <tbody>\n                    <tr>\n                        <td>Model name</td>\n                        <td> undefined </td>\n                    </tr>\n                    <tr>\n                        <td>Model module</td>\n                        <td> undefined </td>\n                    </tr>\n                    <tr>\n                        <td>Model module version</td>\n                        <td> undefined </td>\n                    </tr>\n                <tbody>\n                <tfoot>\n                    <tr>\n                        <th colspan=\"2\">\n                        Class undefined not found in registry \n                        </th>\n                    </tr>\n                </tfoot>\n                </table>"
      }
     },
     "2cb31d41b01c41cab49231e6bbcef9a5": {
      "model_module_version": "^2.1.4",
      "state": {
       "msg_id": "",
       "value": "<table style=\"width:100%\">\n                <thead>\n                    <tr>\n                        <th colspan=\"2\">\n                        Could not create model:\n                        </th>\n                    </tr>\n                </thead>\n                <tbody>\n                    <tr>\n                        <td>Model name</td>\n                        <td> undefined </td>\n                    </tr>\n                    <tr>\n                        <td>Model module</td>\n                        <td> undefined </td>\n                    </tr>\n                    <tr>\n                        <td>Model module version</td>\n                        <td> undefined </td>\n                    </tr>\n                <tbody>\n                <tfoot>\n                    <tr>\n                        <th colspan=\"2\">\n                        Class undefined not found in registry \n                        </th>\n                    </tr>\n                </tfoot>\n                </table>"
      }
     },
     "2f4edba5b47e4d5590df1386c754fd88": {
      "model_module_version": "^2.1.4",
      "state": {
       "value": "<table style=\"width:100%\">\n                <thead>\n                    <tr>\n                        <th colspan=\"2\">\n                        Could not create model:\n                        </th>\n                    </tr>\n                </thead>\n                <tbody>\n                    <tr>\n                        <td>Model name</td>\n                        <td> undefined </td>\n                    </tr>\n                    <tr>\n                        <td>Model module</td>\n                        <td> undefined </td>\n                    </tr>\n                    <tr>\n                        <td>Model module version</td>\n                        <td> undefined </td>\n                    </tr>\n                <tbody>\n                <tfoot>\n                    <tr>\n                        <th colspan=\"2\">\n                        Class undefined not found in registry \n                        </th>\n                    </tr>\n                </tfoot>\n                </table>"
      }
     },
     "32e0e6999b084991bcd84438c81ff67f": {
      "model_module_version": "^2.1.4",
      "state": {
       "value": "<table style=\"width:100%\">\n                <thead>\n                    <tr>\n                        <th colspan=\"2\">\n                        Could not create model:\n                        </th>\n                    </tr>\n                </thead>\n                <tbody>\n                    <tr>\n                        <td>Model name</td>\n                        <td> undefined </td>\n                    </tr>\n                    <tr>\n                        <td>Model module</td>\n                        <td> undefined </td>\n                    </tr>\n                    <tr>\n                        <td>Model module version</td>\n                        <td> undefined </td>\n                    </tr>\n                <tbody>\n                <tfoot>\n                    <tr>\n                        <th colspan=\"2\">\n                        Class undefined not found in registry \n                        </th>\n                    </tr>\n                </tfoot>\n                </table>"
      }
     },
     "3ac7a342207a410888cc1bde2c42f286": {
      "model_module_version": "^2.1.4",
      "state": {
       "value": "<table style=\"width:100%\">\n                <thead>\n                    <tr>\n                        <th colspan=\"2\">\n                        Could not create model:\n                        </th>\n                    </tr>\n                </thead>\n                <tbody>\n                    <tr>\n                        <td>Model name</td>\n                        <td> undefined </td>\n                    </tr>\n                    <tr>\n                        <td>Model module</td>\n                        <td> undefined </td>\n                    </tr>\n                    <tr>\n                        <td>Model module version</td>\n                        <td> undefined </td>\n                    </tr>\n                <tbody>\n                <tfoot>\n                    <tr>\n                        <th colspan=\"2\">\n                        Class undefined not found in registry \n                        </th>\n                    </tr>\n                </tfoot>\n                </table>"
      }
     },
     "3c2f6371fb9d4ef8963013d7ec752f1a": {
      "model_module": "jupyter-js-widgets",
      "model_module_version": "~2.1.4",
      "model_name": "LayoutModel",
      "state": {
       "_model_module_version": "~2.1.4",
       "_view_module_version": "~2.1.4"
      }
     },
     "4085225553f745b5a56321cf316c733e": {
      "model_module": "jupyter-js-widgets",
      "model_module_version": "~2.1.4",
      "model_name": "SliderStyleModel",
      "state": {
       "_model_module_version": "~2.1.4",
       "_view_module_version": "~2.1.4"
      }
     },
     "40dd2c2fbf0d41babb963d45187381e3": {
      "model_module_version": "^2.1.4",
      "state": {
       "value": "<table style=\"width:100%\">\n                <thead>\n                    <tr>\n                        <th colspan=\"2\">\n                        Could not create model:\n                        </th>\n                    </tr>\n                </thead>\n                <tbody>\n                    <tr>\n                        <td>Model name</td>\n                        <td> undefined </td>\n                    </tr>\n                    <tr>\n                        <td>Model module</td>\n                        <td> undefined </td>\n                    </tr>\n                    <tr>\n                        <td>Model module version</td>\n                        <td> undefined </td>\n                    </tr>\n                <tbody>\n                <tfoot>\n                    <tr>\n                        <th colspan=\"2\">\n                        Class undefined not found in registry \n                        </th>\n                    </tr>\n                </tfoot>\n                </table>"
      }
     },
     "43698cd83e434735970d098c0c18c682": {
      "model_module_version": "^2.1.4",
      "state": {
       "msg_id": "",
       "value": "<table style=\"width:100%\">\n                <thead>\n                    <tr>\n                        <th colspan=\"2\">\n                        Could not create model:\n                        </th>\n                    </tr>\n                </thead>\n                <tbody>\n                    <tr>\n                        <td>Model name</td>\n                        <td> undefined </td>\n                    </tr>\n                    <tr>\n                        <td>Model module</td>\n                        <td> undefined </td>\n                    </tr>\n                    <tr>\n                        <td>Model module version</td>\n                        <td> undefined </td>\n                    </tr>\n                <tbody>\n                <tfoot>\n                    <tr>\n                        <th colspan=\"2\">\n                        Class undefined not found in registry \n                        </th>\n                    </tr>\n                </tfoot>\n                </table>"
      }
     },
     "4516a929146f4c6aba450499be5a6bae": {
      "model_module_version": "^2.1.4",
      "state": {
       "children": [
        "IPY_MODEL_1e92dc6d2e6a4746ae2cd05ab57165ec",
        "IPY_MODEL_0d0f207a9beb4bbc8342dfdfde8abfd1"
       ],
       "value": "<table style=\"width:100%\">\n                <thead>\n                    <tr>\n                        <th colspan=\"2\">\n                        Could not create model:\n                        </th>\n                    </tr>\n                </thead>\n                <tbody>\n                    <tr>\n                        <td>Model name</td>\n                        <td> undefined </td>\n                    </tr>\n                    <tr>\n                        <td>Model module</td>\n                        <td> undefined </td>\n                    </tr>\n                    <tr>\n                        <td>Model module version</td>\n                        <td> undefined </td>\n                    </tr>\n                <tbody>\n                <tfoot>\n                    <tr>\n                        <th colspan=\"2\">\n                        Class undefined not found in registry \n                        </th>\n                    </tr>\n                </tfoot>\n                </table>"
      }
     },
     "46c3f00a4866401bb7d7dd886668baeb": {
      "model_module_version": "^2.1.4",
      "state": {
       "msg_id": "",
       "value": "<table style=\"width:100%\">\n                <thead>\n                    <tr>\n                        <th colspan=\"2\">\n                        Could not create model:\n                        </th>\n                    </tr>\n                </thead>\n                <tbody>\n                    <tr>\n                        <td>Model name</td>\n                        <td> undefined </td>\n                    </tr>\n                    <tr>\n                        <td>Model module</td>\n                        <td> undefined </td>\n                    </tr>\n                    <tr>\n                        <td>Model module version</td>\n                        <td> undefined </td>\n                    </tr>\n                <tbody>\n                <tfoot>\n                    <tr>\n                        <th colspan=\"2\">\n                        Class undefined not found in registry \n                        </th>\n                    </tr>\n                </tfoot>\n                </table>"
      }
     },
     "49aa40dd11114ddabb68be1d01d1e41d": {
      "model_module_version": "^2.1.4",
      "state": {
       "value": "<table style=\"width:100%\">\n                <thead>\n                    <tr>\n                        <th colspan=\"2\">\n                        Could not create model:\n                        </th>\n                    </tr>\n                </thead>\n                <tbody>\n                    <tr>\n                        <td>Model name</td>\n                        <td> undefined </td>\n                    </tr>\n                    <tr>\n                        <td>Model module</td>\n                        <td> undefined </td>\n                    </tr>\n                    <tr>\n                        <td>Model module version</td>\n                        <td> undefined </td>\n                    </tr>\n                <tbody>\n                <tfoot>\n                    <tr>\n                        <th colspan=\"2\">\n                        Class undefined not found in registry \n                        </th>\n                    </tr>\n                </tfoot>\n                </table>"
      }
     },
     "4a96e2d67ee54a41a257d81719387929": {
      "model_module_version": "^2.1.4",
      "state": {
       "msg_id": "",
       "value": "<table style=\"width:100%\">\n                <thead>\n                    <tr>\n                        <th colspan=\"2\">\n                        Could not create model:\n                        </th>\n                    </tr>\n                </thead>\n                <tbody>\n                    <tr>\n                        <td>Model name</td>\n                        <td> undefined </td>\n                    </tr>\n                    <tr>\n                        <td>Model module</td>\n                        <td> undefined </td>\n                    </tr>\n                    <tr>\n                        <td>Model module version</td>\n                        <td> undefined </td>\n                    </tr>\n                <tbody>\n                <tfoot>\n                    <tr>\n                        <th colspan=\"2\">\n                        Class undefined not found in registry \n                        </th>\n                    </tr>\n                </tfoot>\n                </table>"
      }
     },
     "501729002a44409ba89f0ce4598c4615": {
      "model_module_version": "^2.1.4",
      "state": {
       "value": "<table style=\"width:100%\">\n                <thead>\n                    <tr>\n                        <th colspan=\"2\">\n                        Could not create model:\n                        </th>\n                    </tr>\n                </thead>\n                <tbody>\n                    <tr>\n                        <td>Model name</td>\n                        <td> undefined </td>\n                    </tr>\n                    <tr>\n                        <td>Model module</td>\n                        <td> undefined </td>\n                    </tr>\n                    <tr>\n                        <td>Model module version</td>\n                        <td> undefined </td>\n                    </tr>\n                <tbody>\n                <tfoot>\n                    <tr>\n                        <th colspan=\"2\">\n                        Class undefined not found in registry \n                        </th>\n                    </tr>\n                </tfoot>\n                </table>"
      }
     },
     "55c4545c3cf9416ca5f9b6468f70a6ea": {
      "model_module_version": "^2.1.4",
      "state": {
       "value": "<table style=\"width:100%\">\n                <thead>\n                    <tr>\n                        <th colspan=\"2\">\n                        Could not create model:\n                        </th>\n                    </tr>\n                </thead>\n                <tbody>\n                    <tr>\n                        <td>Model name</td>\n                        <td> undefined </td>\n                    </tr>\n                    <tr>\n                        <td>Model module</td>\n                        <td> undefined </td>\n                    </tr>\n                    <tr>\n                        <td>Model module version</td>\n                        <td> undefined </td>\n                    </tr>\n                <tbody>\n                <tfoot>\n                    <tr>\n                        <th colspan=\"2\">\n                        Class undefined not found in registry \n                        </th>\n                    </tr>\n                </tfoot>\n                </table>"
      }
     },
     "5754386e4c0348748bd72a39c98e3513": {
      "model_module_version": "^2.1.4",
      "state": {
       "value": "<table style=\"width:100%\">\n                <thead>\n                    <tr>\n                        <th colspan=\"2\">\n                        Could not create model:\n                        </th>\n                    </tr>\n                </thead>\n                <tbody>\n                    <tr>\n                        <td>Model name</td>\n                        <td> undefined </td>\n                    </tr>\n                    <tr>\n                        <td>Model module</td>\n                        <td> undefined </td>\n                    </tr>\n                    <tr>\n                        <td>Model module version</td>\n                        <td> undefined </td>\n                    </tr>\n                <tbody>\n                <tfoot>\n                    <tr>\n                        <th colspan=\"2\">\n                        Class undefined not found in registry \n                        </th>\n                    </tr>\n                </tfoot>\n                </table>"
      }
     },
     "5d5b28b089e242db97c0fb1fbdd63320": {
      "model_module_version": "^2.1.4",
      "state": {
       "value": "<table style=\"width:100%\">\n                <thead>\n                    <tr>\n                        <th colspan=\"2\">\n                        Could not create model:\n                        </th>\n                    </tr>\n                </thead>\n                <tbody>\n                    <tr>\n                        <td>Model name</td>\n                        <td> undefined </td>\n                    </tr>\n                    <tr>\n                        <td>Model module</td>\n                        <td> undefined </td>\n                    </tr>\n                    <tr>\n                        <td>Model module version</td>\n                        <td> undefined </td>\n                    </tr>\n                <tbody>\n                <tfoot>\n                    <tr>\n                        <th colspan=\"2\">\n                        Class undefined not found in registry \n                        </th>\n                    </tr>\n                </tfoot>\n                </table>"
      }
     },
     "5ddce768a0cd44fcb6a02f55d97511c0": {
      "model_module_version": "^2.1.4",
      "state": {
       "description": "x",
       "value": "<table style=\"width:100%\">\n                <thead>\n                    <tr>\n                        <th colspan=\"2\">\n                        Could not create model:\n                        </th>\n                    </tr>\n                </thead>\n                <tbody>\n                    <tr>\n                        <td>Model name</td>\n                        <td> undefined </td>\n                    </tr>\n                    <tr>\n                        <td>Model module</td>\n                        <td> undefined </td>\n                    </tr>\n                    <tr>\n                        <td>Model module version</td>\n                        <td> undefined </td>\n                    </tr>\n                <tbody>\n                <tfoot>\n                    <tr>\n                        <th colspan=\"2\">\n                        Class undefined not found in registry \n                        </th>\n                    </tr>\n                </tfoot>\n                </table>"
      }
     },
     "5ef172040b89471c852363eeffcd40ad": {
      "model_module": "jupyter-js-widgets",
      "model_module_version": "~2.1.4",
      "model_name": "OutputModel",
      "state": {
       "_dom_classes": [],
       "_model_module": "jupyter-js-widgets",
       "_model_module_version": "~2.1.4",
       "_view_module": "jupyter-js-widgets",
       "_view_module_version": "~2.1.4",
       "layout": "IPY_MODEL_61d17c7ab05d49ad917fe0ad9a2f5082",
       "msg_throttle": 1
      }
     },
     "61d17c7ab05d49ad917fe0ad9a2f5082": {
      "model_module": "jupyter-js-widgets",
      "model_module_version": "~2.1.4",
      "model_name": "LayoutModel",
      "state": {
       "_model_module_version": "~2.1.4",
       "_view_module_version": "~2.1.4"
      }
     },
     "621171c6d3824e1aa20b00a470355ba1": {
      "model_module_version": "^2.1.4",
      "state": {
       "value": "<table style=\"width:100%\">\n                <thead>\n                    <tr>\n                        <th colspan=\"2\">\n                        Could not create model:\n                        </th>\n                    </tr>\n                </thead>\n                <tbody>\n                    <tr>\n                        <td>Model name</td>\n                        <td> undefined </td>\n                    </tr>\n                    <tr>\n                        <td>Model module</td>\n                        <td> undefined </td>\n                    </tr>\n                    <tr>\n                        <td>Model module version</td>\n                        <td> undefined </td>\n                    </tr>\n                <tbody>\n                <tfoot>\n                    <tr>\n                        <th colspan=\"2\">\n                        Class undefined not found in registry \n                        </th>\n                    </tr>\n                </tfoot>\n                </table>"
      }
     },
     "68b9424e93a54f97b286548081d65a10": {
      "model_module_version": "^2.1.4",
      "state": {
       "value": "<table style=\"width:100%\">\n                <thead>\n                    <tr>\n                        <th colspan=\"2\">\n                        Could not create model:\n                        </th>\n                    </tr>\n                </thead>\n                <tbody>\n                    <tr>\n                        <td>Model name</td>\n                        <td> undefined </td>\n                    </tr>\n                    <tr>\n                        <td>Model module</td>\n                        <td> undefined </td>\n                    </tr>\n                    <tr>\n                        <td>Model module version</td>\n                        <td> undefined </td>\n                    </tr>\n                <tbody>\n                <tfoot>\n                    <tr>\n                        <th colspan=\"2\">\n                        Class undefined not found in registry \n                        </th>\n                    </tr>\n                </tfoot>\n                </table>"
      }
     },
     "6a248cb18c8c40658ea8cf7615f7a622": {
      "model_module_version": "^2.1.4",
      "state": {
       "value": "<table style=\"width:100%\">\n                <thead>\n                    <tr>\n                        <th colspan=\"2\">\n                        Could not create model:\n                        </th>\n                    </tr>\n                </thead>\n                <tbody>\n                    <tr>\n                        <td>Model name</td>\n                        <td> undefined </td>\n                    </tr>\n                    <tr>\n                        <td>Model module</td>\n                        <td> undefined </td>\n                    </tr>\n                    <tr>\n                        <td>Model module version</td>\n                        <td> undefined </td>\n                    </tr>\n                <tbody>\n                <tfoot>\n                    <tr>\n                        <th colspan=\"2\">\n                        Class undefined not found in registry \n                        </th>\n                    </tr>\n                </tfoot>\n                </table>"
      }
     },
     "6aaa433ab117461b889545d142a27175": {
      "model_module_version": "^2.1.4",
      "state": {
       "description": "x",
       "value": "<table style=\"width:100%\">\n                <thead>\n                    <tr>\n                        <th colspan=\"2\">\n                        Could not create model:\n                        </th>\n                    </tr>\n                </thead>\n                <tbody>\n                    <tr>\n                        <td>Model name</td>\n                        <td> undefined </td>\n                    </tr>\n                    <tr>\n                        <td>Model module</td>\n                        <td> undefined </td>\n                    </tr>\n                    <tr>\n                        <td>Model module version</td>\n                        <td> undefined </td>\n                    </tr>\n                <tbody>\n                <tfoot>\n                    <tr>\n                        <th colspan=\"2\">\n                        Class undefined not found in registry \n                        </th>\n                    </tr>\n                </tfoot>\n                </table>"
      }
     },
     "73132f70043c4a6cb2a8ceb471a8f252": {
      "model_module_version": "^2.1.4",
      "state": {
       "value": "<table style=\"width:100%\">\n                <thead>\n                    <tr>\n                        <th colspan=\"2\">\n                        Could not create model:\n                        </th>\n                    </tr>\n                </thead>\n                <tbody>\n                    <tr>\n                        <td>Model name</td>\n                        <td> undefined </td>\n                    </tr>\n                    <tr>\n                        <td>Model module</td>\n                        <td> undefined </td>\n                    </tr>\n                    <tr>\n                        <td>Model module version</td>\n                        <td> undefined </td>\n                    </tr>\n                <tbody>\n                <tfoot>\n                    <tr>\n                        <th colspan=\"2\">\n                        Class undefined not found in registry \n                        </th>\n                    </tr>\n                </tfoot>\n                </table>"
      }
     },
     "76b009679d104667af00faea672b290a": {
      "model_module_version": "^2.1.4",
      "state": {
       "value": "<table style=\"width:100%\">\n                <thead>\n                    <tr>\n                        <th colspan=\"2\">\n                        Could not create model:\n                        </th>\n                    </tr>\n                </thead>\n                <tbody>\n                    <tr>\n                        <td>Model name</td>\n                        <td> undefined </td>\n                    </tr>\n                    <tr>\n                        <td>Model module</td>\n                        <td> undefined </td>\n                    </tr>\n                    <tr>\n                        <td>Model module version</td>\n                        <td> undefined </td>\n                    </tr>\n                <tbody>\n                <tfoot>\n                    <tr>\n                        <th colspan=\"2\">\n                        Class undefined not found in registry \n                        </th>\n                    </tr>\n                </tfoot>\n                </table>"
      }
     },
     "79c73807325f49d393b6cf08bad0b9ef": {
      "model_module_version": "^2.1.4",
      "state": {
       "value": "<table style=\"width:100%\">\n                <thead>\n                    <tr>\n                        <th colspan=\"2\">\n                        Could not create model:\n                        </th>\n                    </tr>\n                </thead>\n                <tbody>\n                    <tr>\n                        <td>Model name</td>\n                        <td> undefined </td>\n                    </tr>\n                    <tr>\n                        <td>Model module</td>\n                        <td> undefined </td>\n                    </tr>\n                    <tr>\n                        <td>Model module version</td>\n                        <td> undefined </td>\n                    </tr>\n                <tbody>\n                <tfoot>\n                    <tr>\n                        <th colspan=\"2\">\n                        Class undefined not found in registry \n                        </th>\n                    </tr>\n                </tfoot>\n                </table>"
      }
     },
     "7b2a75f21e23408ba72e5f04d40c4ae0": {
      "model_module_version": "^2.1.4",
      "state": {
       "msg_id": "",
       "value": "<table style=\"width:100%\">\n                <thead>\n                    <tr>\n                        <th colspan=\"2\">\n                        Could not create model:\n                        </th>\n                    </tr>\n                </thead>\n                <tbody>\n                    <tr>\n                        <td>Model name</td>\n                        <td> undefined </td>\n                    </tr>\n                    <tr>\n                        <td>Model module</td>\n                        <td> undefined </td>\n                    </tr>\n                    <tr>\n                        <td>Model module version</td>\n                        <td> undefined </td>\n                    </tr>\n                <tbody>\n                <tfoot>\n                    <tr>\n                        <th colspan=\"2\">\n                        Class undefined not found in registry \n                        </th>\n                    </tr>\n                </tfoot>\n                </table>"
      }
     },
     "7fdb52036a2c425b968f1cb3f18880cc": {
      "model_module": "jupyter-js-widgets",
      "model_module_version": "~2.1.4",
      "model_name": "VBoxModel",
      "state": {
       "_dom_classes": [
        "widget-interact"
       ],
       "_model_module_version": "~2.1.4",
       "_view_module_version": "~2.1.4",
       "children": [
        "IPY_MODEL_acf1144a079947a3b72f448ff497b5aa",
        "IPY_MODEL_5ef172040b89471c852363eeffcd40ad"
       ],
       "layout": "IPY_MODEL_a3da27f324824245ab4548048acf08ce"
      }
     },
     "804d2f26720d4c7a80aca19ce362f6e3": {
      "model_module_version": "^2.1.4",
      "state": {
       "value": "<table style=\"width:100%\">\n                <thead>\n                    <tr>\n                        <th colspan=\"2\">\n                        Could not create model:\n                        </th>\n                    </tr>\n                </thead>\n                <tbody>\n                    <tr>\n                        <td>Model name</td>\n                        <td> undefined </td>\n                    </tr>\n                    <tr>\n                        <td>Model module</td>\n                        <td> undefined </td>\n                    </tr>\n                    <tr>\n                        <td>Model module version</td>\n                        <td> undefined </td>\n                    </tr>\n                <tbody>\n                <tfoot>\n                    <tr>\n                        <th colspan=\"2\">\n                        Class undefined not found in registry \n                        </th>\n                    </tr>\n                </tfoot>\n                </table>"
      }
     },
     "83640725b367458d874b51c6da3c0298": {
      "model_module_version": "^2.1.4",
      "state": {
       "description": "x",
       "value": "<table style=\"width:100%\">\n                <thead>\n                    <tr>\n                        <th colspan=\"2\">\n                        Could not create model:\n                        </th>\n                    </tr>\n                </thead>\n                <tbody>\n                    <tr>\n                        <td>Model name</td>\n                        <td> undefined </td>\n                    </tr>\n                    <tr>\n                        <td>Model module</td>\n                        <td> undefined </td>\n                    </tr>\n                    <tr>\n                        <td>Model module version</td>\n                        <td> undefined </td>\n                    </tr>\n                <tbody>\n                <tfoot>\n                    <tr>\n                        <th colspan=\"2\">\n                        Class undefined not found in registry \n                        </th>\n                    </tr>\n                </tfoot>\n                </table>"
      }
     },
     "842d398e0f0b49bb82816bf12e32d8ae": {
      "model_module_version": "^2.1.4",
      "state": {
       "children": [
        "IPY_MODEL_b3aaafaed364432d9f29a2334748fb51",
        "IPY_MODEL_0bb041ed3f25401da46f4d3b1b84bedd"
       ],
       "value": "<table style=\"width:100%\">\n                <thead>\n                    <tr>\n                        <th colspan=\"2\">\n                        Could not create model:\n                        </th>\n                    </tr>\n                </thead>\n                <tbody>\n                    <tr>\n                        <td>Model name</td>\n                        <td> undefined </td>\n                    </tr>\n                    <tr>\n                        <td>Model module</td>\n                        <td> undefined </td>\n                    </tr>\n                    <tr>\n                        <td>Model module version</td>\n                        <td> undefined </td>\n                    </tr>\n                <tbody>\n                <tfoot>\n                    <tr>\n                        <th colspan=\"2\">\n                        Class undefined not found in registry \n                        </th>\n                    </tr>\n                </tfoot>\n                </table>"
      }
     },
     "892d3ae0c7194bf880319e259ecc2978": {
      "model_module_version": "^2.1.4",
      "state": {
       "msg_id": "",
       "value": "<table style=\"width:100%\">\n                <thead>\n                    <tr>\n                        <th colspan=\"2\">\n                        Could not create model:\n                        </th>\n                    </tr>\n                </thead>\n                <tbody>\n                    <tr>\n                        <td>Model name</td>\n                        <td> undefined </td>\n                    </tr>\n                    <tr>\n                        <td>Model module</td>\n                        <td> undefined </td>\n                    </tr>\n                    <tr>\n                        <td>Model module version</td>\n                        <td> undefined </td>\n                    </tr>\n                <tbody>\n                <tfoot>\n                    <tr>\n                        <th colspan=\"2\">\n                        Class undefined not found in registry \n                        </th>\n                    </tr>\n                </tfoot>\n                </table>"
      }
     },
     "8c53fafbc3f84f67a956e57f3add21e6": {
      "model_module_version": "^2.1.4",
      "state": {
       "value": "<table style=\"width:100%\">\n                <thead>\n                    <tr>\n                        <th colspan=\"2\">\n                        Could not create model:\n                        </th>\n                    </tr>\n                </thead>\n                <tbody>\n                    <tr>\n                        <td>Model name</td>\n                        <td> undefined </td>\n                    </tr>\n                    <tr>\n                        <td>Model module</td>\n                        <td> undefined </td>\n                    </tr>\n                    <tr>\n                        <td>Model module version</td>\n                        <td> undefined </td>\n                    </tr>\n                <tbody>\n                <tfoot>\n                    <tr>\n                        <th colspan=\"2\">\n                        Class undefined not found in registry \n                        </th>\n                    </tr>\n                </tfoot>\n                </table>"
      }
     },
     "96847b2fae384f758634f48976d6387d": {
      "model_module_version": "^2.1.4",
      "state": {
       "value": "<table style=\"width:100%\">\n                <thead>\n                    <tr>\n                        <th colspan=\"2\">\n                        Could not create model:\n                        </th>\n                    </tr>\n                </thead>\n                <tbody>\n                    <tr>\n                        <td>Model name</td>\n                        <td> undefined </td>\n                    </tr>\n                    <tr>\n                        <td>Model module</td>\n                        <td> undefined </td>\n                    </tr>\n                    <tr>\n                        <td>Model module version</td>\n                        <td> undefined </td>\n                    </tr>\n                <tbody>\n                <tfoot>\n                    <tr>\n                        <th colspan=\"2\">\n                        Class undefined not found in registry \n                        </th>\n                    </tr>\n                </tfoot>\n                </table>"
      }
     },
     "98eb087ff1554f3983db53fa15fe205e": {
      "model_module_version": "^2.1.4",
      "state": {
       "description": "x",
       "value": "<table style=\"width:100%\">\n                <thead>\n                    <tr>\n                        <th colspan=\"2\">\n                        Could not create model:\n                        </th>\n                    </tr>\n                </thead>\n                <tbody>\n                    <tr>\n                        <td>Model name</td>\n                        <td> undefined </td>\n                    </tr>\n                    <tr>\n                        <td>Model module</td>\n                        <td> undefined </td>\n                    </tr>\n                    <tr>\n                        <td>Model module version</td>\n                        <td> undefined </td>\n                    </tr>\n                <tbody>\n                <tfoot>\n                    <tr>\n                        <th colspan=\"2\">\n                        Class undefined not found in registry \n                        </th>\n                    </tr>\n                </tfoot>\n                </table>"
      }
     },
     "a2dd2b1e1f9b4734b2e3aa1dbffdcd04": {
      "model_module_version": "^2.1.4",
      "state": {
       "value": "<table style=\"width:100%\">\n                <thead>\n                    <tr>\n                        <th colspan=\"2\">\n                        Could not create model:\n                        </th>\n                    </tr>\n                </thead>\n                <tbody>\n                    <tr>\n                        <td>Model name</td>\n                        <td> undefined </td>\n                    </tr>\n                    <tr>\n                        <td>Model module</td>\n                        <td> undefined </td>\n                    </tr>\n                    <tr>\n                        <td>Model module version</td>\n                        <td> undefined </td>\n                    </tr>\n                <tbody>\n                <tfoot>\n                    <tr>\n                        <th colspan=\"2\">\n                        Class undefined not found in registry \n                        </th>\n                    </tr>\n                </tfoot>\n                </table>"
      }
     },
     "a2f0d26a526e4befb8a931dedb6363eb": {
      "model_module_version": "^2.1.4",
      "state": {
       "value": "<table style=\"width:100%\">\n                <thead>\n                    <tr>\n                        <th colspan=\"2\">\n                        Could not create model:\n                        </th>\n                    </tr>\n                </thead>\n                <tbody>\n                    <tr>\n                        <td>Model name</td>\n                        <td> undefined </td>\n                    </tr>\n                    <tr>\n                        <td>Model module</td>\n                        <td> undefined </td>\n                    </tr>\n                    <tr>\n                        <td>Model module version</td>\n                        <td> undefined </td>\n                    </tr>\n                <tbody>\n                <tfoot>\n                    <tr>\n                        <th colspan=\"2\">\n                        Class undefined not found in registry \n                        </th>\n                    </tr>\n                </tfoot>\n                </table>"
      }
     },
     "a3da27f324824245ab4548048acf08ce": {
      "model_module": "jupyter-js-widgets",
      "model_module_version": "~2.1.4",
      "model_name": "LayoutModel",
      "state": {
       "_model_module_version": "~2.1.4",
       "_view_module_version": "~2.1.4"
      }
     },
     "a5e1aa2fc5f641d098f2cfa6420a592b": {
      "model_module_version": "^2.1.4",
      "state": {
       "value": "<table style=\"width:100%\">\n                <thead>\n                    <tr>\n                        <th colspan=\"2\">\n                        Could not create model:\n                        </th>\n                    </tr>\n                </thead>\n                <tbody>\n                    <tr>\n                        <td>Model name</td>\n                        <td> undefined </td>\n                    </tr>\n                    <tr>\n                        <td>Model module</td>\n                        <td> undefined </td>\n                    </tr>\n                    <tr>\n                        <td>Model module version</td>\n                        <td> undefined </td>\n                    </tr>\n                <tbody>\n                <tfoot>\n                    <tr>\n                        <th colspan=\"2\">\n                        Class undefined not found in registry \n                        </th>\n                    </tr>\n                </tfoot>\n                </table>"
      }
     },
     "acf1144a079947a3b72f448ff497b5aa": {
      "model_module": "jupyter-js-widgets",
      "model_module_version": "~2.1.4",
      "model_name": "IntSliderModel",
      "state": {
       "_model_module_version": "~2.1.4",
       "_view_module_version": "~2.1.4",
       "description": "x",
       "layout": "IPY_MODEL_3c2f6371fb9d4ef8963013d7ec752f1a",
       "max": 30,
       "min": -10,
       "style": "IPY_MODEL_4085225553f745b5a56321cf316c733e",
       "value": 10
      }
     },
     "ae4e57c864524cccb1f82071a8cd1230": {
      "model_module_version": "^2.1.4",
      "state": {
       "children": [
        "IPY_MODEL_83640725b367458d874b51c6da3c0298",
        "IPY_MODEL_46c3f00a4866401bb7d7dd886668baeb"
       ],
       "value": "<table style=\"width:100%\">\n                <thead>\n                    <tr>\n                        <th colspan=\"2\">\n                        Could not create model:\n                        </th>\n                    </tr>\n                </thead>\n                <tbody>\n                    <tr>\n                        <td>Model name</td>\n                        <td> undefined </td>\n                    </tr>\n                    <tr>\n                        <td>Model module</td>\n                        <td> undefined </td>\n                    </tr>\n                    <tr>\n                        <td>Model module version</td>\n                        <td> undefined </td>\n                    </tr>\n                <tbody>\n                <tfoot>\n                    <tr>\n                        <th colspan=\"2\">\n                        Class undefined not found in registry \n                        </th>\n                    </tr>\n                </tfoot>\n                </table>"
      }
     },
     "b3aaafaed364432d9f29a2334748fb51": {
      "model_module_version": "^2.1.4",
      "state": {
       "description": "x",
       "value": "<table style=\"width:100%\">\n                <thead>\n                    <tr>\n                        <th colspan=\"2\">\n                        Could not create model:\n                        </th>\n                    </tr>\n                </thead>\n                <tbody>\n                    <tr>\n                        <td>Model name</td>\n                        <td> undefined </td>\n                    </tr>\n                    <tr>\n                        <td>Model module</td>\n                        <td> undefined </td>\n                    </tr>\n                    <tr>\n                        <td>Model module version</td>\n                        <td> undefined </td>\n                    </tr>\n                <tbody>\n                <tfoot>\n                    <tr>\n                        <th colspan=\"2\">\n                        Class undefined not found in registry \n                        </th>\n                    </tr>\n                </tfoot>\n                </table>"
      }
     },
     "b5c4b56ba9cd45e1bdca6530cc78c9e1": {
      "model_module_version": "^2.1.4",
      "state": {
       "msg_id": "",
       "value": "<table style=\"width:100%\">\n                <thead>\n                    <tr>\n                        <th colspan=\"2\">\n                        Could not create model:\n                        </th>\n                    </tr>\n                </thead>\n                <tbody>\n                    <tr>\n                        <td>Model name</td>\n                        <td> undefined </td>\n                    </tr>\n                    <tr>\n                        <td>Model module</td>\n                        <td> undefined </td>\n                    </tr>\n                    <tr>\n                        <td>Model module version</td>\n                        <td> undefined </td>\n                    </tr>\n                <tbody>\n                <tfoot>\n                    <tr>\n                        <th colspan=\"2\">\n                        Class undefined not found in registry \n                        </th>\n                    </tr>\n                </tfoot>\n                </table>"
      }
     },
     "b74b2bb279ff49c9a7b8384e115dda91": {
      "model_module_version": "^2.1.4",
      "state": {
       "msg_id": "",
       "value": "<table style=\"width:100%\">\n                <thead>\n                    <tr>\n                        <th colspan=\"2\">\n                        Could not create model:\n                        </th>\n                    </tr>\n                </thead>\n                <tbody>\n                    <tr>\n                        <td>Model name</td>\n                        <td> undefined </td>\n                    </tr>\n                    <tr>\n                        <td>Model module</td>\n                        <td> undefined </td>\n                    </tr>\n                    <tr>\n                        <td>Model module version</td>\n                        <td> undefined </td>\n                    </tr>\n                <tbody>\n                <tfoot>\n                    <tr>\n                        <th colspan=\"2\">\n                        Class undefined not found in registry \n                        </th>\n                    </tr>\n                </tfoot>\n                </table>"
      }
     },
     "bc40a99774e645d6a95f8c5424ed326e": {
      "model_module_version": "^2.1.4",
      "state": {
       "description": "x",
       "value": "<table style=\"width:100%\">\n                <thead>\n                    <tr>\n                        <th colspan=\"2\">\n                        Could not create model:\n                        </th>\n                    </tr>\n                </thead>\n                <tbody>\n                    <tr>\n                        <td>Model name</td>\n                        <td> undefined </td>\n                    </tr>\n                    <tr>\n                        <td>Model module</td>\n                        <td> undefined </td>\n                    </tr>\n                    <tr>\n                        <td>Model module version</td>\n                        <td> undefined </td>\n                    </tr>\n                <tbody>\n                <tfoot>\n                    <tr>\n                        <th colspan=\"2\">\n                        Class undefined not found in registry \n                        </th>\n                    </tr>\n                </tfoot>\n                </table>"
      }
     },
     "c40e39ab08b34613bb2767f4b2e60411": {
      "model_module_version": "^2.1.4",
      "state": {
       "value": "<table style=\"width:100%\">\n                <thead>\n                    <tr>\n                        <th colspan=\"2\">\n                        Could not create model:\n                        </th>\n                    </tr>\n                </thead>\n                <tbody>\n                    <tr>\n                        <td>Model name</td>\n                        <td> undefined </td>\n                    </tr>\n                    <tr>\n                        <td>Model module</td>\n                        <td> undefined </td>\n                    </tr>\n                    <tr>\n                        <td>Model module version</td>\n                        <td> undefined </td>\n                    </tr>\n                <tbody>\n                <tfoot>\n                    <tr>\n                        <th colspan=\"2\">\n                        Class undefined not found in registry \n                        </th>\n                    </tr>\n                </tfoot>\n                </table>"
      }
     },
     "ca7fc7414df744c1a12a80afcd929124": {
      "model_module_version": "^2.1.4",
      "state": {
       "description": "x",
       "value": "<table style=\"width:100%\">\n                <thead>\n                    <tr>\n                        <th colspan=\"2\">\n                        Could not create model:\n                        </th>\n                    </tr>\n                </thead>\n                <tbody>\n                    <tr>\n                        <td>Model name</td>\n                        <td> undefined </td>\n                    </tr>\n                    <tr>\n                        <td>Model module</td>\n                        <td> undefined </td>\n                    </tr>\n                    <tr>\n                        <td>Model module version</td>\n                        <td> undefined </td>\n                    </tr>\n                <tbody>\n                <tfoot>\n                    <tr>\n                        <th colspan=\"2\">\n                        Class undefined not found in registry \n                        </th>\n                    </tr>\n                </tfoot>\n                </table>"
      }
     },
     "d00724d28f834c4991169f92b8e447cb": {
      "model_module_version": "^2.1.4",
      "state": {
       "description": "x",
       "value": "<table style=\"width:100%\">\n                <thead>\n                    <tr>\n                        <th colspan=\"2\">\n                        Could not create model:\n                        </th>\n                    </tr>\n                </thead>\n                <tbody>\n                    <tr>\n                        <td>Model name</td>\n                        <td> undefined </td>\n                    </tr>\n                    <tr>\n                        <td>Model module</td>\n                        <td> undefined </td>\n                    </tr>\n                    <tr>\n                        <td>Model module version</td>\n                        <td> undefined </td>\n                    </tr>\n                <tbody>\n                <tfoot>\n                    <tr>\n                        <th colspan=\"2\">\n                        Class undefined not found in registry \n                        </th>\n                    </tr>\n                </tfoot>\n                </table>"
      }
     },
     "d11595e8990749f7a5f58f9502758e2d": {
      "model_module_version": "^2.1.4",
      "state": {
       "value": "<table style=\"width:100%\">\n                <thead>\n                    <tr>\n                        <th colspan=\"2\">\n                        Could not create model:\n                        </th>\n                    </tr>\n                </thead>\n                <tbody>\n                    <tr>\n                        <td>Model name</td>\n                        <td> undefined </td>\n                    </tr>\n                    <tr>\n                        <td>Model module</td>\n                        <td> undefined </td>\n                    </tr>\n                    <tr>\n                        <td>Model module version</td>\n                        <td> undefined </td>\n                    </tr>\n                <tbody>\n                <tfoot>\n                    <tr>\n                        <th colspan=\"2\">\n                        Class undefined not found in registry \n                        </th>\n                    </tr>\n                </tfoot>\n                </table>"
      }
     },
     "d37973aee6ad4ad3afc2983cc4640538": {
      "model_module_version": "^2.1.4",
      "state": {
       "value": "<table style=\"width:100%\">\n                <thead>\n                    <tr>\n                        <th colspan=\"2\">\n                        Could not create model:\n                        </th>\n                    </tr>\n                </thead>\n                <tbody>\n                    <tr>\n                        <td>Model name</td>\n                        <td> undefined </td>\n                    </tr>\n                    <tr>\n                        <td>Model module</td>\n                        <td> undefined </td>\n                    </tr>\n                    <tr>\n                        <td>Model module version</td>\n                        <td> undefined </td>\n                    </tr>\n                <tbody>\n                <tfoot>\n                    <tr>\n                        <th colspan=\"2\">\n                        Class undefined not found in registry \n                        </th>\n                    </tr>\n                </tfoot>\n                </table>"
      }
     },
     "d8e4be7cd0c144abb637254495935400": {
      "model_module_version": "^2.1.4",
      "state": {
       "value": "<table style=\"width:100%\">\n                <thead>\n                    <tr>\n                        <th colspan=\"2\">\n                        Could not create model:\n                        </th>\n                    </tr>\n                </thead>\n                <tbody>\n                    <tr>\n                        <td>Model name</td>\n                        <td> undefined </td>\n                    </tr>\n                    <tr>\n                        <td>Model module</td>\n                        <td> undefined </td>\n                    </tr>\n                    <tr>\n                        <td>Model module version</td>\n                        <td> undefined </td>\n                    </tr>\n                <tbody>\n                <tfoot>\n                    <tr>\n                        <th colspan=\"2\">\n                        Class undefined not found in registry \n                        </th>\n                    </tr>\n                </tfoot>\n                </table>"
      }
     },
     "d929f758e3d743e4bad5ee4b0e0e2971": {
      "model_module_version": "^2.1.4",
      "state": {
       "value": "<table style=\"width:100%\">\n                <thead>\n                    <tr>\n                        <th colspan=\"2\">\n                        Could not create model:\n                        </th>\n                    </tr>\n                </thead>\n                <tbody>\n                    <tr>\n                        <td>Model name</td>\n                        <td> undefined </td>\n                    </tr>\n                    <tr>\n                        <td>Model module</td>\n                        <td> undefined </td>\n                    </tr>\n                    <tr>\n                        <td>Model module version</td>\n                        <td> undefined </td>\n                    </tr>\n                <tbody>\n                <tfoot>\n                    <tr>\n                        <th colspan=\"2\">\n                        Class undefined not found in registry \n                        </th>\n                    </tr>\n                </tfoot>\n                </table>"
      }
     },
     "db0ea3166b744eb3914ca4a329e1f134": {
      "model_module_version": "^2.1.4",
      "state": {
       "value": "<table style=\"width:100%\">\n                <thead>\n                    <tr>\n                        <th colspan=\"2\">\n                        Could not create model:\n                        </th>\n                    </tr>\n                </thead>\n                <tbody>\n                    <tr>\n                        <td>Model name</td>\n                        <td> undefined </td>\n                    </tr>\n                    <tr>\n                        <td>Model module</td>\n                        <td> undefined </td>\n                    </tr>\n                    <tr>\n                        <td>Model module version</td>\n                        <td> undefined </td>\n                    </tr>\n                <tbody>\n                <tfoot>\n                    <tr>\n                        <th colspan=\"2\">\n                        Class undefined not found in registry \n                        </th>\n                    </tr>\n                </tfoot>\n                </table>"
      }
     },
     "de03135fc545466a891c5c7f1191cb4b": {
      "model_module_version": "^2.1.4",
      "state": {
       "children": [
        "IPY_MODEL_6aaa433ab117461b889545d142a27175",
        "IPY_MODEL_4a96e2d67ee54a41a257d81719387929"
       ],
       "value": "<table style=\"width:100%\">\n                <thead>\n                    <tr>\n                        <th colspan=\"2\">\n                        Could not create model:\n                        </th>\n                    </tr>\n                </thead>\n                <tbody>\n                    <tr>\n                        <td>Model name</td>\n                        <td> undefined </td>\n                    </tr>\n                    <tr>\n                        <td>Model module</td>\n                        <td> undefined </td>\n                    </tr>\n                    <tr>\n                        <td>Model module version</td>\n                        <td> undefined </td>\n                    </tr>\n                <tbody>\n                <tfoot>\n                    <tr>\n                        <th colspan=\"2\">\n                        Class undefined not found in registry \n                        </th>\n                    </tr>\n                </tfoot>\n                </table>"
      }
     },
     "e2d7a38ef7dc48099cc27bfcc2a6a4c9": {
      "model_module_version": "^2.1.4",
      "state": {
       "value": "<table style=\"width:100%\">\n                <thead>\n                    <tr>\n                        <th colspan=\"2\">\n                        Could not create model:\n                        </th>\n                    </tr>\n                </thead>\n                <tbody>\n                    <tr>\n                        <td>Model name</td>\n                        <td> undefined </td>\n                    </tr>\n                    <tr>\n                        <td>Model module</td>\n                        <td> undefined </td>\n                    </tr>\n                    <tr>\n                        <td>Model module version</td>\n                        <td> undefined </td>\n                    </tr>\n                <tbody>\n                <tfoot>\n                    <tr>\n                        <th colspan=\"2\">\n                        Class undefined not found in registry \n                        </th>\n                    </tr>\n                </tfoot>\n                </table>"
      }
     },
     "e2eabeb5e95644c6994f2f3be516a507": {
      "model_module_version": "^2.1.4",
      "state": {
       "value": "<table style=\"width:100%\">\n                <thead>\n                    <tr>\n                        <th colspan=\"2\">\n                        Could not create model:\n                        </th>\n                    </tr>\n                </thead>\n                <tbody>\n                    <tr>\n                        <td>Model name</td>\n                        <td> undefined </td>\n                    </tr>\n                    <tr>\n                        <td>Model module</td>\n                        <td> undefined </td>\n                    </tr>\n                    <tr>\n                        <td>Model module version</td>\n                        <td> undefined </td>\n                    </tr>\n                <tbody>\n                <tfoot>\n                    <tr>\n                        <th colspan=\"2\">\n                        Class undefined not found in registry \n                        </th>\n                    </tr>\n                </tfoot>\n                </table>"
      }
     },
     "e8c41950a9d349d2a093b110f66cbb72": {
      "model_module_version": "^2.1.4",
      "state": {
       "description": "x",
       "value": "<table style=\"width:100%\">\n                <thead>\n                    <tr>\n                        <th colspan=\"2\">\n                        Could not create model:\n                        </th>\n                    </tr>\n                </thead>\n                <tbody>\n                    <tr>\n                        <td>Model name</td>\n                        <td> undefined </td>\n                    </tr>\n                    <tr>\n                        <td>Model module</td>\n                        <td> undefined </td>\n                    </tr>\n                    <tr>\n                        <td>Model module version</td>\n                        <td> undefined </td>\n                    </tr>\n                <tbody>\n                <tfoot>\n                    <tr>\n                        <th colspan=\"2\">\n                        Class undefined not found in registry \n                        </th>\n                    </tr>\n                </tfoot>\n                </table>"
      }
     },
     "eef3d499980c484890b8c35cc146b9ed": {
      "model_module_version": "^2.1.4",
      "state": {
       "value": "<table style=\"width:100%\">\n                <thead>\n                    <tr>\n                        <th colspan=\"2\">\n                        Could not create model:\n                        </th>\n                    </tr>\n                </thead>\n                <tbody>\n                    <tr>\n                        <td>Model name</td>\n                        <td> undefined </td>\n                    </tr>\n                    <tr>\n                        <td>Model module</td>\n                        <td> undefined </td>\n                    </tr>\n                    <tr>\n                        <td>Model module version</td>\n                        <td> undefined </td>\n                    </tr>\n                <tbody>\n                <tfoot>\n                    <tr>\n                        <th colspan=\"2\">\n                        Class undefined not found in registry \n                        </th>\n                    </tr>\n                </tfoot>\n                </table>"
      }
     },
     "f43621a7182443dbaba6a026a3ea8c76": {
      "model_module_version": "^2.1.4",
      "state": {
       "value": "<table style=\"width:100%\">\n                <thead>\n                    <tr>\n                        <th colspan=\"2\">\n                        Could not create model:\n                        </th>\n                    </tr>\n                </thead>\n                <tbody>\n                    <tr>\n                        <td>Model name</td>\n                        <td> undefined </td>\n                    </tr>\n                    <tr>\n                        <td>Model module</td>\n                        <td> undefined </td>\n                    </tr>\n                    <tr>\n                        <td>Model module version</td>\n                        <td> undefined </td>\n                    </tr>\n                <tbody>\n                <tfoot>\n                    <tr>\n                        <th colspan=\"2\">\n                        Class undefined not found in registry \n                        </th>\n                    </tr>\n                </tfoot>\n                </table>"
      }
     },
     "f5d70fc558214794b4dd91314f8746c8": {
      "model_module_version": "^2.1.4",
      "state": {
       "value": "<table style=\"width:100%\">\n                <thead>\n                    <tr>\n                        <th colspan=\"2\">\n                        Could not create model:\n                        </th>\n                    </tr>\n                </thead>\n                <tbody>\n                    <tr>\n                        <td>Model name</td>\n                        <td> undefined </td>\n                    </tr>\n                    <tr>\n                        <td>Model module</td>\n                        <td> undefined </td>\n                    </tr>\n                    <tr>\n                        <td>Model module version</td>\n                        <td> undefined </td>\n                    </tr>\n                <tbody>\n                <tfoot>\n                    <tr>\n                        <th colspan=\"2\">\n                        Class undefined not found in registry \n                        </th>\n                    </tr>\n                </tfoot>\n                </table>"
      }
     }
    },
    "version_major": 1,
    "version_minor": 0
   }
  }
 },
 "nbformat": 4,
 "nbformat_minor": 2
}
