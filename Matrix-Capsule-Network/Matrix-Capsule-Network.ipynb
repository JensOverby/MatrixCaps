{
 "cells": [
  {
   "cell_type": "markdown",
   "metadata": {},
   "source": [
    "# Forward pass of Pytorch ConvCaps\n",
    "\n",
    "## Learned parameters:\n",
    "1. W : weights\n",
    "2. beta_v\n",
    "3. beta_a\n",
    "\n",
    "**Imports, and set linewidth to 120 characters:**"
   ]
  },
  {
   "cell_type": "code",
   "execution_count": 1,
   "metadata": {
    "scrolled": true
   },
   "outputs": [],
   "source": [
    "import torch\n",
    "torch.set_printoptions(linewidth=120, threshold=20000)\n",
    "from torch.autograd import Variable\n",
    "from torch.distributions import Normal\n",
    "import torch.nn as nn\n",
    "\n",
    "import matplotlib.pyplot as plt\n",
    "import numpy as np\n",
    "import scipy.stats as stats\n",
    "import pylab as pl"
   ]
  },
  {
   "cell_type": "markdown",
   "metadata": {},
   "source": [
    "## Capsule Setup"
   ]
  },
  {
   "cell_type": "code",
   "execution_count": 2,
   "metadata": {},
   "outputs": [],
   "source": [
    "lambda_ = 2e-2\n",
    "width_in = 12\n",
    "stride = 2\n",
    "K = 3\n",
    "b = 1 #batch size\n",
    "B = 8 #number of inputs (number of capsules)\n",
    "C = 16 #number of outputs (number of capsules)\n",
    "b = 32 #batch size\n",
    "\n",
    "#W = torch.tensor(torch.arange(B*K*K*C*4*4))"
   ]
  },
  {
   "cell_type": "markdown",
   "metadata": {},
   "source": [
    "## Load learned parameters"
   ]
  },
  {
   "cell_type": "markdown",
   "metadata": {},
   "source": [
    "**Load weight matrix W (4x4):**"
   ]
  },
  {
   "cell_type": "code",
   "execution_count": 3,
   "metadata": {},
   "outputs": [
    {
     "name": "stdout",
     "output_type": "stream",
     "text": [
      "torch.Size([8, 3, 3, 16, 4, 4])\n",
      "tensor([[ 0.0462,  1.3891, -0.2580, -0.4054],\n",
      "        [ 0.0739,  1.0803,  0.0058,  1.0203],\n",
      "        [-0.2579, -0.3192, -1.2782, -0.1011],\n",
      "        [-0.1803, -0.2472, -1.2817, -0.4443]], device='cuda:0')\n"
     ]
    }
   ],
   "source": [
    "W = torch.load('weights.pt')\n",
    "#W = W.view(B,K,K,C,4,4)\n",
    "print (W.shape)\n",
    "print (W[0,0,0,0,:,:])"
   ]
  },
  {
   "cell_type": "markdown",
   "metadata": {},
   "source": [
    "**Load beta v and a:**"
   ]
  },
  {
   "cell_type": "code",
   "execution_count": 4,
   "metadata": {},
   "outputs": [],
   "source": [
    "beta_v = torch.load('beta_v.pt')\n",
    "beta_a = torch.load('beta_a.pt')\n",
    "#beta_v = nn.Parameter(torch.randn(1, Cww, 1)).cuda()\n",
    "#beta_a = nn.Parameter(torch.randn(1, Cww)).cuda()"
   ]
  },
  {
   "cell_type": "markdown",
   "metadata": {},
   "source": [
    "## Load capsule input (x)"
   ]
  },
  {
   "cell_type": "code",
   "execution_count": 5,
   "metadata": {},
   "outputs": [
    {
     "name": "stdout",
     "output_type": "stream",
     "text": [
      "torch.Size([32, 128, 12, 12])\n",
      "tensor([[-2.4307, -2.4307, -2.4307, -2.4307, -2.4307, -2.4307, -2.4307, -2.4307, -2.4307, -2.4307, -2.4307,\n",
      "         -2.4307],\n",
      "        [-2.4307, -2.4307, -2.4307, -2.4307, -2.4307, -2.4307, -1.5179,  0.7271,  1.6408, -0.8460, -2.4307,\n",
      "         -2.4307],\n",
      "        [-2.4307, -2.3650, -1.1412, -1.0328, -1.5271, -2.4307, -2.1349, -3.1364, -2.4452, -2.2020, -2.4307,\n",
      "         -2.4307],\n",
      "        [-2.4307, -1.6412, -0.6165,  1.8674, -0.7036, -2.4307, -2.4176, -3.2067, -2.9016, -2.8602, -2.4307,\n",
      "         -2.4307],\n",
      "        [-2.4307, -2.1625, -3.7159, -3.7494, -2.9456, -2.4307, -1.8804, -2.4672, -2.0514, -2.2552, -2.4307,\n",
      "         -2.4307],\n",
      "        [-2.4307, -1.9712, -2.5628, -0.2451,  3.1609,  4.8064,  3.1315, -2.1522, -1.5872, -2.4454, -2.4307,\n",
      "         -2.4307],\n",
      "        [-2.4307, -2.1518, -3.4467,  0.5041,  1.5535,  2.4582,  1.3669, -0.3141, -2.0152, -3.2061, -2.4307,\n",
      "         -2.4307],\n",
      "        [-2.4307, -2.6833, -3.5742, -0.2471,  0.2784,  6.2811,  5.2847,  1.5969, -2.3602, -2.6016, -2.4307,\n",
      "         -2.4307],\n",
      "        [-2.4307, -0.9205,  2.1429,  3.3544, -1.3225, -0.8288,  0.4760, -1.3136, -1.6022, -2.2676, -2.4307,\n",
      "         -2.4307],\n",
      "        [-2.4307, -1.3202,  1.0621,  0.3136, -1.2063, -2.4307, -2.3706, -3.8726, -2.6949, -2.7713, -2.4307,\n",
      "         -2.4307],\n",
      "        [-2.4307, -2.4307, -2.4307, -2.4307, -2.4307, -2.4307, -2.7071, -3.9489, -2.2029, -3.0678, -2.4307,\n",
      "         -2.4307],\n",
      "        [-2.4307, -2.4307, -2.4307, -2.4307, -2.4307, -2.4307, -0.9847,  1.2079,  1.5283, -1.7696, -2.4307,\n",
      "         -2.4307]], device='cuda:0')\n"
     ]
    }
   ],
   "source": [
    "x = torch.load('poses.pt')\n",
    "#x = torch.tensor(torch.arange(b*B*4*4*width_in*width_in)).view(b, 4*4*B, width_in, width_in)\n",
    "print (x.shape)\n",
    "print(x[0,0,:,:])"
   ]
  },
  {
   "cell_type": "markdown",
   "metadata": {},
   "source": [
    "## Calculate output width"
   ]
  },
  {
   "cell_type": "code",
   "execution_count": 6,
   "metadata": {},
   "outputs": [
    {
     "name": "stdout",
     "output_type": "stream",
     "text": [
      "w = 5\n"
     ]
    }
   ],
   "source": [
    "w = int((width_in - K) / stride + 1) if K else 1\n",
    "print (\"w =\", w)"
   ]
  },
  {
   "cell_type": "markdown",
   "metadata": {},
   "source": [
    "## Pose matrix"
   ]
  },
  {
   "cell_type": "code",
   "execution_count": 7,
   "metadata": {},
   "outputs": [],
   "source": [
    "poses = x.contiguous()\n",
    "pose = poses.view(b, 16, B, width_in, width_in).permute(0, 2, 3, 4, 1).contiguous()"
   ]
  },
  {
   "cell_type": "markdown",
   "metadata": {},
   "source": [
    "**Print pose as 12x12 input:**"
   ]
  },
  {
   "cell_type": "code",
   "execution_count": 8,
   "metadata": {},
   "outputs": [
    {
     "name": "stdout",
     "output_type": "stream",
     "text": [
      "torch.Size([32, 8, 12, 12, 16])\n",
      "tensor([[-2.4307, -2.4307, -2.4307, -2.4307, -2.4307, -2.4307, -2.4307, -2.4307, -2.4307, -2.4307, -2.4307,\n",
      "         -2.4307],\n",
      "        [-2.4307, -2.4307, -2.4307, -2.4307, -2.4307, -2.4307, -1.5179,  0.7271,  1.6408, -0.8460, -2.4307,\n",
      "         -2.4307],\n",
      "        [-2.4307, -2.3650, -1.1412, -1.0328, -1.5271, -2.4307, -2.1349, -3.1364, -2.4452, -2.2020, -2.4307,\n",
      "         -2.4307],\n",
      "        [-2.4307, -1.6412, -0.6165,  1.8674, -0.7036, -2.4307, -2.4176, -3.2067, -2.9016, -2.8602, -2.4307,\n",
      "         -2.4307],\n",
      "        [-2.4307, -2.1625, -3.7159, -3.7494, -2.9456, -2.4307, -1.8804, -2.4672, -2.0514, -2.2552, -2.4307,\n",
      "         -2.4307],\n",
      "        [-2.4307, -1.9712, -2.5628, -0.2451,  3.1609,  4.8064,  3.1315, -2.1522, -1.5872, -2.4454, -2.4307,\n",
      "         -2.4307],\n",
      "        [-2.4307, -2.1518, -3.4467,  0.5041,  1.5535,  2.4582,  1.3669, -0.3141, -2.0152, -3.2061, -2.4307,\n",
      "         -2.4307],\n",
      "        [-2.4307, -2.6833, -3.5742, -0.2471,  0.2784,  6.2811,  5.2847,  1.5969, -2.3602, -2.6016, -2.4307,\n",
      "         -2.4307],\n",
      "        [-2.4307, -0.9205,  2.1429,  3.3544, -1.3225, -0.8288,  0.4760, -1.3136, -1.6022, -2.2676, -2.4307,\n",
      "         -2.4307],\n",
      "        [-2.4307, -1.3202,  1.0621,  0.3136, -1.2063, -2.4307, -2.3706, -3.8726, -2.6949, -2.7713, -2.4307,\n",
      "         -2.4307],\n",
      "        [-2.4307, -2.4307, -2.4307, -2.4307, -2.4307, -2.4307, -2.7071, -3.9489, -2.2029, -3.0678, -2.4307,\n",
      "         -2.4307],\n",
      "        [-2.4307, -2.4307, -2.4307, -2.4307, -2.4307, -2.4307, -0.9847,  1.2079,  1.5283, -1.7696, -2.4307,\n",
      "         -2.4307]], device='cuda:0')\n"
     ]
    }
   ],
   "source": [
    "print (pose.shape)\n",
    "print (pose[0,0,:,:,0])"
   ]
  },
  {
   "cell_type": "markdown",
   "metadata": {},
   "source": [
    "**Store every capsule i's poses in each capsule c's receptive field:**\n",
    "\n",
    "First show some temporary data"
   ]
  },
  {
   "cell_type": "code",
   "execution_count": 9,
   "metadata": {},
   "outputs": [
    {
     "name": "stdout",
     "output_type": "stream",
     "text": [
      "torch.Size([25, 32, 8, 3, 3, 16])\n",
      "tensor([[-2.4307, -2.4307, -2.4307],\n",
      "        [-2.4307, -2.4307, -2.4307],\n",
      "        [-2.4307, -2.3650, -1.1412]], device='cuda:0')\n",
      "tensor([[-2.4307, -2.4307, -2.4307],\n",
      "        [-2.4307, -2.4307, -2.4307],\n",
      "        [-1.1412, -1.0328, -1.5271]], device='cuda:0')\n",
      "tensor([[-2.4307, -2.3650, -1.1412],\n",
      "        [-2.4307, -1.6412, -0.6165],\n",
      "        [-2.4307, -2.1625, -3.7159]], device='cuda:0')\n"
     ]
    }
   ],
   "source": [
    "tmp = torch.stack([pose[:, :, stride*i:stride*i+K, stride*j:stride*j+K, :] for i in range(w) for j in range(w)])\n",
    "print (tmp.shape)\n",
    "print (tmp[0,0,0,:,:,0])\n",
    "print (tmp[1,0,0,:,:,0])\n",
    "print (tmp[5,0,0,:,:,0])"
   ]
  },
  {
   "cell_type": "code",
   "execution_count": 10,
   "metadata": {},
   "outputs": [
    {
     "name": "stdout",
     "output_type": "stream",
     "text": [
      "torch.Size([32, 8, 3, 3, 16, 25])\n",
      "tensor([[-2.4307, -2.4307, -2.4307],\n",
      "        [-2.4307, -2.4307, -2.4307],\n",
      "        [-2.4307, -2.3650, -1.1412]], device='cuda:0')\n",
      "tensor([[-2.4307, -2.4307, -2.4307],\n",
      "        [-2.4307, -2.4307, -2.4307],\n",
      "        [-1.1412, -1.0328, -1.5271]], device='cuda:0')\n"
     ]
    }
   ],
   "source": [
    "tmp = torch.stack([pose[:, :, stride*i:stride*i+K, stride*j:stride*j+K, :] for i in range(w) for j in range(w)], dim=-1)\n",
    "print (tmp.shape)\n",
    "print (tmp[0,0,:,:,0,0])\n",
    "print (tmp[0,0,:,:,0,1])"
   ]
  },
  {
   "cell_type": "markdown",
   "metadata": {},
   "source": [
    "**Create outputs from convolutions:**"
   ]
  },
  {
   "cell_type": "code",
   "execution_count": 11,
   "metadata": {},
   "outputs": [
    {
     "name": "stdout",
     "output_type": "stream",
     "text": [
      "torch.Size([32, 8, 3, 3, 1, 5, 5, 4, 4])\n"
     ]
    }
   ],
   "source": [
    "poses = torch.stack([pose[:, :, stride*i:stride*i+K, stride*j:stride*j+K, :] for i in range(w) for j in range(w)], dim=-1)\n",
    "poses = poses.view(b, B, K, K, 1, w, w, 4, 4)\n",
    "print (poses.shape)"
   ]
  },
  {
   "cell_type": "markdown",
   "metadata": {},
   "source": [
    "**5x5 matrix:**"
   ]
  },
  {
   "cell_type": "code",
   "execution_count": 12,
   "metadata": {},
   "outputs": [
    {
     "name": "stdout",
     "output_type": "stream",
     "text": [
      "torch.Size([32, 8, 3, 3, 1, 5, 5, 4, 4])\n",
      "tensor([[ -2.4307,  -3.4467,   1.8532,   2.2353,  -0.4550],\n",
      "        [  0.7569, -11.8599,  11.4100,   7.4763,   2.4035],\n",
      "        [ -1.1081, -13.5137, -26.6428,  -7.6495,  -6.2416],\n",
      "        [  7.7765,  -5.5065,  -3.1483,   7.6253,   8.3766],\n",
      "        [  8.3766,   6.4167,   9.7901,   3.1641,  -5.5266]], device='cuda:0')\n"
     ]
    }
   ],
   "source": [
    "print (poses.shape)\n",
    "print (poses[0,0,0,0,0,:,:,0,0])"
   ]
  },
  {
   "cell_type": "markdown",
   "metadata": {},
   "source": [
    "**One pose (4x4) matrix:**"
   ]
  },
  {
   "cell_type": "code",
   "execution_count": 13,
   "metadata": {},
   "outputs": [
    {
     "name": "stdout",
     "output_type": "stream",
     "text": [
      "torch.Size([32, 8, 3, 3, 1, 5, 5, 4, 4])\n",
      "tensor([[-2.4307, -2.4307, -2.4307, -2.4307],\n",
      "        [-2.4307, -2.4307, -1.1412, -1.5271],\n",
      "        [-2.1349, -2.4452, -2.4307, -3.7159],\n",
      "        [-2.9456, -1.8804, -2.0514, -2.4307]], device='cuda:0')\n"
     ]
    }
   ],
   "source": [
    "print (poses.shape)\n",
    "print (poses[0,0,0,0,0,0,0,:,:])"
   ]
  },
  {
   "cell_type": "markdown",
   "metadata": {},
   "source": [
    "**W_hat:**"
   ]
  },
  {
   "cell_type": "code",
   "execution_count": 14,
   "metadata": {},
   "outputs": [
    {
     "name": "stdout",
     "output_type": "stream",
     "text": [
      "torch.Size([1, 8, 3, 3, 16, 1, 1, 4, 4])\n"
     ]
    }
   ],
   "source": [
    "W_hat = W[None, :, :, :, :, None, None, :, :]\n",
    "print (W_hat.shape)"
   ]
  },
  {
   "cell_type": "markdown",
   "metadata": {},
   "source": [
    "**Calculate votes:**"
   ]
  },
  {
   "cell_type": "code",
   "execution_count": 15,
   "metadata": {},
   "outputs": [],
   "source": [
    "votes = W_hat @ poses"
   ]
  },
  {
   "cell_type": "code",
   "execution_count": 16,
   "metadata": {},
   "outputs": [
    {
     "name": "stdout",
     "output_type": "stream",
     "text": [
      "torch.Size([32, 8, 3, 3, 16, 5, 5, 4, 4])\n",
      "tensor([[-1.7438, -2.0956, -0.2388, -0.2893],\n",
      "        [-5.8234, -4.7383, -3.5196, -4.3310],\n",
      "        [ 4.4296,  4.7184,  4.3056,  6.1099],\n",
      "        [ 5.0840,  5.0083,  4.7470,  6.6581]], device='cuda:0')\n"
     ]
    }
   ],
   "source": [
    "print (votes.shape)\n",
    "print (votes[0,0,0,0,0,0,0,:,:])"
   ]
  },
  {
   "cell_type": "markdown",
   "metadata": {},
   "source": [
    "## Activation Matrix"
   ]
  },
  {
   "cell_type": "code",
   "execution_count": 17,
   "metadata": {
    "scrolled": true
   },
   "outputs": [
    {
     "name": "stdout",
     "output_type": "stream",
     "text": [
      "Cww = 400\n"
     ]
    }
   ],
   "source": [
    "def down_w(w_):\n",
    "    return range(w_ * stride, w_ * stride + K)\n",
    "\n",
    "Cww = w * w * C\n",
    "print (\"Cww =\", Cww)"
   ]
  },
  {
   "cell_type": "markdown",
   "metadata": {},
   "source": [
    "**Create some data:**"
   ]
  },
  {
   "cell_type": "code",
   "execution_count": 18,
   "metadata": {},
   "outputs": [
    {
     "name": "stdout",
     "output_type": "stream",
     "text": [
      "torch.Size([32, 8, 12, 12])\n"
     ]
    }
   ],
   "source": [
    "activations = torch.load('activations.pt')\n",
    "#activations = torch.tensor(torch.arange(b*B*width_in*width_in)).view(1,B,width_in,width_in)\n",
    "print (activations.shape)"
   ]
  },
  {
   "cell_type": "code",
   "execution_count": 19,
   "metadata": {},
   "outputs": [
    {
     "name": "stdout",
     "output_type": "stream",
     "text": [
      "range(0, 3)\n",
      "range(2, 5)\n",
      "range(4, 7)\n"
     ]
    }
   ],
   "source": [
    "print (down_w(w_=0))\n",
    "print (down_w(w_=1))\n",
    "print (down_w(w_=2))"
   ]
  },
  {
   "cell_type": "markdown",
   "metadata": {},
   "source": [
    "**Stack activations to match output size:**"
   ]
  },
  {
   "cell_type": "code",
   "execution_count": 20,
   "metadata": {},
   "outputs": [
    {
     "name": "stdout",
     "output_type": "stream",
     "text": [
      "25\n",
      "torch.Size([32, 8, 3, 3])\n"
     ]
    }
   ],
   "source": [
    "activations_ = [activations[:, :, down_w(x), :][:, :, :, down_w(y)] for x in range(w) for y in range(w)]\n",
    "print (len(activations_))\n",
    "print (activations_[0].shape)"
   ]
  },
  {
   "cell_type": "code",
   "execution_count": 21,
   "metadata": {},
   "outputs": [
    {
     "name": "stdout",
     "output_type": "stream",
     "text": [
      "torch.Size([32, 72, 1, 25])\n",
      "tensor([[ 0.9890,  0.9890,  0.9890,  0.9890,  0.9890,  0.9890,  0.9477,  0.9753,  0.6383,  0.0203,  0.9890,\n",
      "          0.0082,  0.3308,  0.5097,  0.0078,  0.9890,  0.0114,  0.0002,  0.0012,  0.0019,  0.9890,  0.4261,\n",
      "          0.6970,  0.5072,  0.0049]], device='cuda:0')\n"
     ]
    }
   ],
   "source": [
    "activation = torch.stack(activations_, dim=4).view(b, B*K*K, 1, -1)\n",
    "print (activation.shape)\n",
    "print (activation[0,0,:,:])"
   ]
  },
  {
   "cell_type": "markdown",
   "metadata": {},
   "source": [
    "**Again stack activations to match number of capsules:**"
   ]
  },
  {
   "cell_type": "code",
   "execution_count": 22,
   "metadata": {},
   "outputs": [
    {
     "name": "stdout",
     "output_type": "stream",
     "text": [
      "torch.Size([32, 72, 16, 25])\n",
      "torch.Size([32, 72, 400])\n"
     ]
    }
   ],
   "source": [
    "activation = activation.repeat(1, 1, C, 1)\n",
    "print (activation.shape)\n",
    "activation = activation.view(b, B*K*K, Cww)\n",
    "print (activation.shape)"
   ]
  },
  {
   "cell_type": "markdown",
   "metadata": {},
   "source": [
    "**Format votes:**"
   ]
  },
  {
   "cell_type": "code",
   "execution_count": 23,
   "metadata": {},
   "outputs": [
    {
     "name": "stdout",
     "output_type": "stream",
     "text": [
      "torch.Size([32, 72, 400, 16])\n"
     ]
    }
   ],
   "source": [
    "votes = votes.view(b, B*K*K, Cww, 16)\n",
    "print (votes.shape)"
   ]
  },
  {
   "cell_type": "markdown",
   "metadata": {},
   "source": [
    "# EM routing\n",
    "\n",
    "*The pose matrix and the activation of the output capsules are computed iteratively using the EM routing. The EM method fits datapoints into a a mixture of Gaussian models with alternative calls between an E-step and an M-step.*"
   ]
  },
  {
   "cell_type": "markdown",
   "metadata": {},
   "source": [
    "We initialize the assignment probability **$r_{ij}$** to be uniformly distributed. i.e. we start with the children capsules equally related with any parents"
   ]
  },
  {
   "cell_type": "code",
   "execution_count": 24,
   "metadata": {},
   "outputs": [
    {
     "name": "stdout",
     "output_type": "stream",
     "text": [
      "torch.Size([32, 72, 400])\n"
     ]
    }
   ],
   "source": [
    "R = Variable(torch.ones([b, B*K*K, Cww]), requires_grad=False).cuda() / Cww\n",
    "\n",
    "print (R.shape)"
   ]
  },
  {
   "cell_type": "code",
   "execution_count": 25,
   "metadata": {},
   "outputs": [
    {
     "name": "stdout",
     "output_type": "stream",
     "text": [
      "Activation: torch.Size([32, 72, 400])\n",
      "Votes: torch.Size([32, 72, 400, 16])\n"
     ]
    }
   ],
   "source": [
    "print (\"Activation:\",activation.shape)\n",
    "print (\"Votes:\",votes.shape)"
   ]
  },
  {
   "cell_type": "markdown",
   "metadata": {},
   "source": [
    "### START Iteration\n",
    "\n",
    "We call **M-step** to compute an updated Gaussian model (μ, σ) and the parent activation **$a_{j}$** from a, V and current **$r_{ij}$**.\n",
    "\n",
    "**M-step**"
   ]
  },
  {
   "cell_type": "code",
   "execution_count": 70,
   "metadata": {},
   "outputs": [
    {
     "name": "stdout",
     "output_type": "stream",
     "text": [
      "torch.Size([32, 72, 400, 1])\n"
     ]
    }
   ],
   "source": [
    "R = (R * activation)[..., None]\n",
    "\n",
    "print (R.shape)"
   ]
  },
  {
   "cell_type": "code",
   "execution_count": 71,
   "metadata": {},
   "outputs": [
    {
     "name": "stdout",
     "output_type": "stream",
     "text": [
      "torch.Size([32, 400, 1])\n"
     ]
    }
   ],
   "source": [
    "sum_R = R.sum(1)\n",
    "\n",
    "print (sum_R.shape)"
   ]
  },
  {
   "cell_type": "code",
   "execution_count": 72,
   "metadata": {},
   "outputs": [
    {
     "name": "stdout",
     "output_type": "stream",
     "text": [
      "torch.Size([32, 72, 400, 16, 1])\n",
      "torch.Size([32, 400, 16, 1])\n"
     ]
    }
   ],
   "source": [
    "tmp1 = (R * votes)[..., None]\n",
    "tmp2 = tmp1.sum(1)\n",
    "print (tmp1.shape)\n",
    "print (tmp2.shape)"
   ]
  },
  {
   "cell_type": "code",
   "execution_count": 73,
   "metadata": {},
   "outputs": [
    {
     "name": "stdout",
     "output_type": "stream",
     "text": [
      "torch.Size([32, 1, 400, 16])\n"
     ]
    }
   ],
   "source": [
    "mu = ((R * votes).sum(1) / sum_R)[:, None, :, :]\n",
    "\n",
    "print (mu.shape)"
   ]
  },
  {
   "cell_type": "code",
   "execution_count": 74,
   "metadata": {},
   "outputs": [
    {
     "name": "stdout",
     "output_type": "stream",
     "text": [
      "tensor([ 0.1856,  1.8402,  2.2893, -2.4960,  0.1592,  0.9056,  1.3096,  0.8317, -1.2183, -1.0540,  0.0735,\n",
      "         0.5097, -1.8513, -2.2078, -0.5685,  0.1039], device='cuda:0')\n"
     ]
    }
   ],
   "source": [
    "print (mu[0,0,0,:])"
   ]
  },
  {
   "cell_type": "code",
   "execution_count": 75,
   "metadata": {},
   "outputs": [
    {
     "data": {
      "image/png": "[encoded data removed]",
      "text/plain": [
       "<Figure size 432x288 with 1 Axes>"
      ]
     },
     "metadata": {},
     "output_type": "display_data"
    }
   ],
   "source": [
    "plt.style.use('seaborn-whitegrid')\n",
    "x = [mu[0, 0, i, 2].item() for i in range(mu.size(2))]\n",
    "y = [mu[0, 0, i, 3].item() for i in range(mu.size(2))]\n",
    "plt.plot(x, y, 'o', color='black');\n"
   ]
  },
  {
   "cell_type": "code",
   "execution_count": 32,
   "metadata": {},
   "outputs": [
    {
     "data": {
      "image/png": "[encoded data removed]",
      "text/plain": [
       "<Figure size 432x288 with 1 Axes>"
      ]
     },
     "metadata": {},
     "output_type": "display_data"
    }
   ],
   "source": [
    "plt.style.use('seaborn-whitegrid')\n",
    "x = [mu[0, 0, i, 2].item() for i in range(mu.size(2))]\n",
    "y = [mu[0, 0, i, 3].item() for i in range(mu.size(2))]\n",
    "plt.plot(x, y, 'o', color='black');"
   ]
  },
  {
   "cell_type": "code",
   "execution_count": 64,
   "metadata": {
    "scrolled": true
   },
   "outputs": [
    {
     "name": "stdout",
     "output_type": "stream",
     "text": [
      "torch.Size([32, 400, 16])\n"
     ]
    }
   ],
   "source": [
    "sigma_square = (R * (votes - mu) ** 2).sum(1) / sum_R\n",
    "\n",
    "print (sigma_square.shape)"
   ]
  },
  {
   "cell_type": "markdown",
   "metadata": {},
   "source": [
    "**E-step (not last time)**\n",
    "\n",
    "Then we call **E-step** to recompute the assignment probabilities **$r_{ij}$** based on the new Gaussian model and the new **$a_{j}$**."
   ]
  },
  {
   "cell_type": "code",
   "execution_count": 65,
   "metadata": {},
   "outputs": [],
   "source": [
    "mu, sigma_square, V_, a__ = mu.data, sigma_square.data, votes.data, activation.data"
   ]
  },
  {
   "cell_type": "code",
   "execution_count": 66,
   "metadata": {},
   "outputs": [],
   "source": [
    "normal = Normal(mu, sigma_square[:, None, :, :] ** (1 / 2))"
   ]
  },
  {
   "cell_type": "code",
   "execution_count": 67,
   "metadata": {},
   "outputs": [],
   "source": [
    "p = torch.exp(normal.log_prob(V_))"
   ]
  },
  {
   "cell_type": "code",
   "execution_count": 68,
   "metadata": {},
   "outputs": [],
   "source": [
    "ap = a__ * p.sum(-1)"
   ]
  },
  {
   "cell_type": "code",
   "execution_count": 69,
   "metadata": {},
   "outputs": [],
   "source": [
    "R = Variable(ap / torch.sum(ap, -1)[..., None], requires_grad=False)"
   ]
  },
  {
   "cell_type": "markdown",
   "metadata": {},
   "source": [
    "**Last time**"
   ]
  },
  {
   "cell_type": "code",
   "execution_count": 40,
   "metadata": {},
   "outputs": [],
   "source": [
    "const = (beta_v.expand_as(sigma_square) + torch.log(sigma_square)) * sum_R"
   ]
  },
  {
   "cell_type": "code",
   "execution_count": 41,
   "metadata": {},
   "outputs": [
    {
     "name": "stdout",
     "output_type": "stream",
     "text": [
      "torch.Size([32, 400])\n"
     ]
    }
   ],
   "source": [
    "a = torch.sigmoid(lambda_ * (beta_a.repeat(b, 1) - const.sum(2)))\n",
    "print (a.shape)"
   ]
  },
  {
   "cell_type": "markdown",
   "metadata": {},
   "source": [
    "### END Iteration"
   ]
  },
  {
   "cell_type": "code",
   "execution_count": 42,
   "metadata": {},
   "outputs": [
    {
     "data": {
      "image/png": "[encoded data removed]",
      "text/plain": [
       "<Figure size 432x288 with 1 Axes>"
      ]
     },
     "metadata": {},
     "output_type": "display_data"
    }
   ],
   "source": [
    "h = [a[0, i].item() for i in range(a.size(1))]\n",
    "fit = stats.norm.pdf(h, np.mean(h), np.std(h))  #this is a fitting indeed\n",
    "pl.hist(h,density=True,bins=50)      #use this to draw histogram of your data\n",
    "pl.show()                   #use may also need add this "
   ]
  },
  {
   "cell_type": "code",
   "execution_count": 43,
   "metadata": {},
   "outputs": [
    {
     "name": "stdout",
     "output_type": "stream",
     "text": [
      "torch.Size([32, 72, 400])\n"
     ]
    },
    {
     "data": {
      "image/png": "[encoded data removed]",
      "text/plain": [
       "<Figure size 432x288 with 1 Axes>"
      ]
     },
     "metadata": {},
     "output_type": "display_data"
    }
   ],
   "source": [
    "print (activation.shape)\n",
    "h = [activation[0, 0, i].item() for i in range(activation.size(2))]\n",
    "fit = stats.norm.pdf(h, np.mean(h), np.std(h))  #this is a fitting indeed\n",
    "pl.hist(h,density=True,bins=50)      #use this to draw histogram of your data\n",
    "pl.show()                   #use may also need add this "
   ]
  },
  {
   "cell_type": "code",
   "execution_count": null,
   "metadata": {},
   "outputs": [],
   "source": []
  }
 ],
 "metadata": {
  "kernelspec": {
   "display_name": "Python 3",
   "language": "python",
   "name": "python3"
  },
  "language_info": {
   "codemirror_mode": {
    "name": "ipython",
    "version": 3
   },
   "file_extension": ".py",
   "mimetype": "text/x-python",
   "name": "python",
   "nbconvert_exporter": "python",
   "pygments_lexer": "ipython3",
   "version": "3.6.5"
  }
 },
 "nbformat": 4,
 "nbformat_minor": 2
}
