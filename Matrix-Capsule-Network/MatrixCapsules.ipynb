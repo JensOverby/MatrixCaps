{
 "cells": [
  {
   "cell_type": "markdown",
   "metadata": {},
   "source": [
    "# Forward pass of Pytorch ConvCaps\n",
    "\n",
    "## Learned parameters:\n",
    "1. W : weights\n",
    "2. beta_v\n",
    "3. beta_a\n",
    "\n",
    "**Imports, and set linewidth to 120 characters:**"
   ]
  },
  {
   "cell_type": "code",
   "execution_count": 1,
   "metadata": {
    "scrolled": true
   },
   "outputs": [
    {
     "name": "stdout",
     "output_type": "stream",
     "text": [
      "2018-06-01T15:25:20+02:00\n",
      "\n",
      "CPython 3.6.5\n",
      "IPython 6.4.0\n",
      "\n",
      "compiler   : GCC 7.3.0\n",
      "system     : Linux\n",
      "release    : 4.15.0-22-generic\n",
      "machine    : x86_64\n",
      "processor  : x86_64\n",
      "CPU cores  : 8\n",
      "interpreter: 64bit\n"
     ]
    }
   ],
   "source": [
    "%load_ext watermark\n",
    "import torch\n",
    "torch.set_printoptions(linewidth=120, threshold=20000)\n",
    "from torch.autograd import Variable\n",
    "from torch.distributions import Normal\n",
    "import torch.nn as nn\n",
    "\n",
    "import matplotlib.pyplot as plt\n",
    "import numpy as np\n",
    "import pylab as pl\n",
    "\n",
    "import scipy.stats as scs\n",
    "import seaborn as sns\n",
    "import matplotlib.patches as patches\n",
    "import matplotlib.path as path\n",
    "%matplotlib inline\n",
    "\n",
    "%watermark\n",
    "\n",
    "def down_w(self, w):\n",
    "    return range(w * self.stride, w * self.stride + self.K)"
   ]
  },
  {
   "cell_type": "markdown",
   "metadata": {},
   "source": [
    "## Capsule Setup"
   ]
  },
  {
   "cell_type": "code",
   "execution_count": 2,
   "metadata": {},
   "outputs": [],
   "source": [
    "\"\"\"class self():\n",
    "    stride = 2\n",
    "    K = 3\n",
    "    C = 16 #number of outputs (number of capsules)\n",
    "    beta_v = None\n",
    "    beta_a = None\n",
    "    W = None #weights\n",
    "    transform_share = False\n",
    "    coordinate_add = False\n",
    "    Bkk = None\n",
    "    B = 8 #number of inputs (number of capsules)\n",
    "    b = None #batch size\n",
    "    iteration = 3\n",
    "\"\"\"\n",
    "class self():\n",
    "    stride = 1\n",
    "    K = 1\n",
    "    C = 1 #number of outputs (number of capsules)\n",
    "    beta_v = None\n",
    "    beta_a = None\n",
    "    W = None #weights\n",
    "    transform_share = False\n",
    "    coordinate_add = False\n",
    "    Bkk = None\n",
    "    B = 14 #number of inputs (number of capsules)\n",
    "    b = None #batch size\n",
    "    iteration = 3\n",
    "    \n",
    "lambda_ = 2e-2"
   ]
  },
  {
   "cell_type": "markdown",
   "metadata": {},
   "source": [
    "## Load learned parameters"
   ]
  },
  {
   "cell_type": "markdown",
   "metadata": {},
   "source": [
    "**Load weight matrix W (4x4):**"
   ]
  },
  {
   "cell_type": "code",
   "execution_count": 3,
   "metadata": {},
   "outputs": [
    {
     "name": "stdout",
     "output_type": "stream",
     "text": [
      "torch.Size([14, 1, 1, 1, 4, 4])\n",
      "tensor([[-0.9127,  1.3840, -1.2734,  0.1582],\n",
      "        [ 0.0125, -0.6621, -0.1002,  1.1276],\n",
      "        [-1.0142,  0.8510,  0.9095, -0.8480],\n",
      "        [ 1.7157,  0.7491, -0.7825, -0.0374]], device='cuda:0')\n"
     ]
    }
   ],
   "source": [
    "self.W = torch.load('weights_kernel2_14->1caps.pt')\n",
    "#W = W.view(B,K,K,C,4,4)\n",
    "print (self.W.shape)\n",
    "print (self.W[0,0,0,0,:,:])"
   ]
  },
  {
   "cell_type": "markdown",
   "metadata": {},
   "source": [
    "**Load beta v and a:**"
   ]
  },
  {
   "cell_type": "code",
   "execution_count": 4,
   "metadata": {},
   "outputs": [],
   "source": [
    "self.beta_v = torch.load('beta_v_kernel2_14->1caps.pt')\n",
    "self.beta_a = torch.load('beta_a_kernel2_14->1caps.pt')\n",
    "#beta_v = nn.Parameter(torch.randn(1, Cww, 1)).cuda()\n",
    "#beta_a = nn.Parameter(torch.randn(1, Cww)).cuda()"
   ]
  },
  {
   "cell_type": "markdown",
   "metadata": {},
   "source": [
    "## Load capsule input (x)"
   ]
  },
  {
   "cell_type": "code",
   "execution_count": 5,
   "metadata": {},
   "outputs": [
    {
     "name": "stdout",
     "output_type": "stream",
     "text": [
      "torch.Size([1, 224, 2, 2])\n",
      "tensor([[-0.5450, -0.5450],\n",
      "        [-0.5450, -0.5450]], device='cuda:0')\n"
     ]
    }
   ],
   "source": [
    "poses = torch.load('poses_kernel2_14->1caps.pt')\n",
    "#x = torch.tensor(torch.arange(b*B*4*4*width_in*width_in)).view(b, 4*4*B, width_in, width_in)\n",
    "print (poses.shape)\n",
    "print(poses[0,0,:,:])"
   ]
  },
  {
   "cell_type": "markdown",
   "metadata": {},
   "source": [
    "## Load capsule input (activations)"
   ]
  },
  {
   "cell_type": "code",
   "execution_count": 6,
   "metadata": {},
   "outputs": [
    {
     "name": "stdout",
     "output_type": "stream",
     "text": [
      "activations = torch.Size([1, 14, 2, 2])\n"
     ]
    }
   ],
   "source": [
    "activations = torch.load('activations_kernel2_14->1caps.pt')     ; print (\"activations =\", activations.shape)"
   ]
  },
  {
   "cell_type": "markdown",
   "metadata": {},
   "source": [
    "## Calculate output width"
   ]
  },
  {
   "cell_type": "code",
   "execution_count": 7,
   "metadata": {},
   "outputs": [
    {
     "name": "stdout",
     "output_type": "stream",
     "text": [
      "w = 2\n",
      "Cww = 4\n",
      "batch_size = 1\n"
     ]
    }
   ],
   "source": [
    "width_in = poses.size(2)\n",
    "w = int((width_in - self.K) / self.stride + 1) if self.K else 1  ; print (\"w =\", w)\n",
    "self.Cww = w * w * self.C                                        ; print (\"Cww =\", self.Cww)\n",
    "self.b = poses.size(0)                                           ; print (\"batch_size =\", self.b)"
   ]
  },
  {
   "cell_type": "code",
   "execution_count": 8,
   "metadata": {},
   "outputs": [
    {
     "name": "stdout",
     "output_type": "stream",
     "text": [
      "W = torch.Size([14, 1, 1, 1, 4, 4])\n",
      "Bkk = 14\n"
     ]
    }
   ],
   "source": [
    "if self.beta_v is None:\n",
    "    self.beta_v = nn.Parameter(torch.randn(1, self.Cww, 1)).cuda()\n",
    "    self.beta_a = nn.Parameter(torch.randn(1, self.Cww)).cuda()\n",
    "\n",
    "if self.transform_share:\n",
    "    if self.K == 0:\n",
    "        self.K = width_in  # class Capsules' kernel = width_in\n",
    "    W = self.W.view(self.B, 1, 1, self.C, 4, 4).expand(self.B, self.K, self.K, self.C, 4, 4).contiguous()\n",
    "else:\n",
    "    W = self.W                                                   ; print (\"W =\", W.shape) # B,K,K,C,4,4\n",
    "\n",
    "self.Bkk = self.K * self.K * self.B                              ; print (\"Bkk =\", self.Bkk)"
   ]
  },
  {
   "cell_type": "markdown",
   "metadata": {},
   "source": [
    "## Pose matrix"
   ]
  },
  {
   "cell_type": "code",
   "execution_count": 9,
   "metadata": {},
   "outputs": [],
   "source": [
    "pose = poses.contiguous()  # b,16*32,12,12\n",
    "pose = pose.view(self.b, 16, self.B, width_in, width_in).permute(0, 2, 3, 4, 1).contiguous()  # b,B,12,12,16"
   ]
  },
  {
   "cell_type": "markdown",
   "metadata": {},
   "source": [
    "**Print pose as 12x12 input:**"
   ]
  },
  {
   "cell_type": "code",
   "execution_count": 10,
   "metadata": {},
   "outputs": [
    {
     "name": "stdout",
     "output_type": "stream",
     "text": [
      "torch.Size([1, 14, 2, 2, 16])\n",
      "tensor([[-0.5450, -0.5450],\n",
      "        [-0.5450, -0.5450]], device='cuda:0')\n"
     ]
    }
   ],
   "source": [
    "print (pose.shape)\n",
    "print (pose[0,0,:,:,0])"
   ]
  },
  {
   "cell_type": "markdown",
   "metadata": {},
   "source": [
    "**Store every capsule i's poses in each capsule c's receptive field:**\n",
    "\n",
    "First show some temporary data"
   ]
  },
  {
   "cell_type": "code",
   "execution_count": 11,
   "metadata": {},
   "outputs": [
    {
     "name": "stdout",
     "output_type": "stream",
     "text": [
      "torch.Size([4, 1, 14, 1, 1, 16])\n",
      "tensor([[-0.5450]], device='cuda:0')\n",
      "tensor([[-0.5450]], device='cuda:0')\n"
     ]
    }
   ],
   "source": [
    "tmp = torch.stack([pose[:, :, self.stride*i:self.stride*i+self.K, self.stride*j:self.stride*j+self.K, :]\n",
    "                   for i in range(w) for j in range(w)])\n",
    "print (tmp.shape)\n",
    "print (tmp[0,0,0,:,:,0])\n",
    "print (tmp[1,0,0,:,:,0])"
   ]
  },
  {
   "cell_type": "code",
   "execution_count": 12,
   "metadata": {},
   "outputs": [
    {
     "name": "stdout",
     "output_type": "stream",
     "text": [
      "torch.Size([1, 14, 1, 1, 16, 4])\n",
      "tensor([[-0.5450]], device='cuda:0')\n",
      "tensor([[-0.5450]], device='cuda:0')\n"
     ]
    }
   ],
   "source": [
    "tmp = torch.stack([pose[:, :, self.stride*i:self.stride*i+self.K, self.stride*j:self.stride*j+self.K, :]\n",
    "                   for i in range(w) for j in range(w)], dim=-1)\n",
    "print (tmp.shape)\n",
    "print (tmp[0,0,:,:,0,0])\n",
    "print (tmp[0,0,:,:,0,1])"
   ]
  },
  {
   "cell_type": "markdown",
   "metadata": {},
   "source": [
    "**Create outputs from convolutions:**"
   ]
  },
  {
   "cell_type": "code",
   "execution_count": 13,
   "metadata": {},
   "outputs": [
    {
     "name": "stdout",
     "output_type": "stream",
     "text": [
      "poses = torch.Size([1, 14, 1, 1, 1, 2, 2, 4, 4])\n"
     ]
    }
   ],
   "source": [
    "poses = torch.stack([pose[:, :, self.stride * i:self.stride * i + self.K,\n",
    "                     self.stride * j:self.stride * j + self.K, :] for i in range(w) for j in range(w)],\n",
    "                    dim=-1)  # b,B,K,K,w*w,16\n",
    "poses = poses.view(self.b, self.B, self.K, self.K, 1, w, w, 4, 4)  # b,B,K,K,1,w,w,4,4\n",
    "        \n",
    "print (\"poses =\", poses.shape)"
   ]
  },
  {
   "cell_type": "markdown",
   "metadata": {},
   "source": [
    "**5x5 matrix:**"
   ]
  },
  {
   "cell_type": "code",
   "execution_count": 14,
   "metadata": {},
   "outputs": [
    {
     "name": "stdout",
     "output_type": "stream",
     "text": [
      "torch.Size([1, 14, 1, 1, 1, 2, 2, 4, 4])\n",
      "tensor([[-0.5450, -0.5450, -0.5450, -0.5450],\n",
      "        [ 0.0993,  0.0993,  0.0993,  0.0993],\n",
      "        [ 0.2873,  0.2873,  0.2873,  0.2873],\n",
      "        [-0.2228, -0.2228, -0.2228, -0.2228]], device='cuda:0')\n"
     ]
    }
   ],
   "source": [
    "print (poses.shape)\n",
    "print (poses[0,0,0,0,0,0,0,:,:])"
   ]
  },
  {
   "cell_type": "markdown",
   "metadata": {},
   "source": [
    "**W_hat:**"
   ]
  },
  {
   "cell_type": "code",
   "execution_count": 15,
   "metadata": {},
   "outputs": [],
   "source": [
    "W_hat = W[None, :, :, :, :, None, None, :, :]  # 1,B,K,K,C,1,1,4,4"
   ]
  },
  {
   "cell_type": "markdown",
   "metadata": {},
   "source": [
    "**Calculate votes:**"
   ]
  },
  {
   "cell_type": "code",
   "execution_count": 16,
   "metadata": {},
   "outputs": [],
   "source": [
    "votes = W_hat @ poses  # b,B,K,K,C,w,w,4,4"
   ]
  },
  {
   "cell_type": "code",
   "execution_count": 17,
   "metadata": {},
   "outputs": [
    {
     "name": "stdout",
     "output_type": "stream",
     "text": [
      "Votes = torch.Size([1, 14, 1, 1, 1, 2, 2, 4, 4])\n",
      "tensor([[ 0.2338,  0.2338,  0.2338,  0.2338],\n",
      "        [-0.3526, -0.3526, -0.3526, -0.3526],\n",
      "        [ 1.0875,  1.0875,  1.0875,  1.0875],\n",
      "        [-1.0772, -1.0772, -1.0772, -1.0772]], device='cuda:0')\n"
     ]
    }
   ],
   "source": [
    "print (\"Votes =\", votes.shape)\n",
    "print (votes[0,0,0,0,0,0,0,:,:])"
   ]
  },
  {
   "cell_type": "markdown",
   "metadata": {},
   "source": [
    "## Activation Matrix"
   ]
  },
  {
   "cell_type": "code",
   "execution_count": 18,
   "metadata": {},
   "outputs": [
    {
     "name": "stdout",
     "output_type": "stream",
     "text": [
      "range(0, 1)\n",
      "range(1, 2)\n",
      "range(2, 3)\n"
     ]
    }
   ],
   "source": [
    "print (down_w(self, w=0))\n",
    "print (down_w(self, w=1))\n",
    "print (down_w(self, w=2))"
   ]
  },
  {
   "cell_type": "markdown",
   "metadata": {},
   "source": [
    "**Stack activations to match output size:**"
   ]
  },
  {
   "cell_type": "code",
   "execution_count": 19,
   "metadata": {},
   "outputs": [
    {
     "name": "stdout",
     "output_type": "stream",
     "text": [
      "4\n",
      "torch.Size([1, 14, 1, 1])\n"
     ]
    }
   ],
   "source": [
    "activations_ = [activations[:, :, down_w(self, x), :][:, :, :, down_w(self, y)]\n",
    "                for x in range(w) for y in range(w)]\n",
    "\n",
    "print (len(activations_))\n",
    "print (activations_[0].shape)"
   ]
  },
  {
   "cell_type": "code",
   "execution_count": 20,
   "metadata": {},
   "outputs": [
    {
     "name": "stdout",
     "output_type": "stream",
     "text": [
      "torch.Size([1, 14, 1, 4])\n",
      "tensor([[ 0.4660,  0.4660,  0.4660,  0.4660]], device='cuda:0')\n"
     ]
    }
   ],
   "source": [
    "activation = torch.stack(activations_, dim=4).view(self.b, self.Bkk, 1, -1)\n",
    "print (activation.shape)\n",
    "print (activation[0,0,:,:])"
   ]
  },
  {
   "cell_type": "markdown",
   "metadata": {},
   "source": [
    "**Again stack activations to match number of capsules:**"
   ]
  },
  {
   "cell_type": "code",
   "execution_count": 21,
   "metadata": {},
   "outputs": [
    {
     "name": "stdout",
     "output_type": "stream",
     "text": [
      "torch.Size([1, 14, 1, 4])\n",
      "torch.Size([1, 14, 4])\n"
     ]
    }
   ],
   "source": [
    "activation = activation.repeat(1, 1, self.C, 1)\n",
    "print (activation.shape)\n",
    "activation = activation.view(self.b, self.Bkk, self.Cww)\n",
    "print (activation.shape)"
   ]
  },
  {
   "cell_type": "markdown",
   "metadata": {},
   "source": [
    "**Format votes:**"
   ]
  },
  {
   "cell_type": "code",
   "execution_count": 22,
   "metadata": {},
   "outputs": [
    {
     "name": "stdout",
     "output_type": "stream",
     "text": [
      "Votes = torch.Size([1, 14, 4, 16])\n",
      "tensor([-6.0000, -5.9000, -1.0000, -1.0200, -1.0400, -1.0600, -1.0800, -1.1000, -1.1200, -1.1400, -1.1600,\n",
      "        -1.1800,  2.0000,  2.1000], device='cuda:0')\n"
     ]
    }
   ],
   "source": [
    "votes = votes.view(self.b, self.Bkk, self.Cww, 16)\n",
    "print (\"Votes =\", votes.shape)\n",
    "\n",
    "votes[0,:,0,0] = torch.tensor([-6,-5.9,-1,-1.02,-1.04,-1.06,-1.08,-1.1,-1.12,-1.14,-1.16,-1.18,2,2.1])\n",
    "\n",
    "print (votes[0,:,0,0])"
   ]
  },
  {
   "cell_type": "markdown",
   "metadata": {},
   "source": [
    "# EM routing\n",
    "\n",
    "First we need a function to show graphics:"
   ]
  },
  {
   "cell_type": "code",
   "execution_count": 23,
   "metadata": {},
   "outputs": [],
   "source": [
    "def graphics(V, mu, sigma_square, R):\n",
    "    data = [V[i].item() for i in range(len(V))]\n",
    "        \n",
    "    new_mus = mu.item()\n",
    "    new_sigs = sigma_square.item()\n",
    "\n",
    "    dataX = np.array([R[i].item()*4 for i in range(len(R))])\n",
    "    \n",
    "    mind = np.min(data)\n",
    "    maxd = np.max(data)\n",
    "\n",
    "    xx = np.linspace(mind-(maxd-mind), maxd+(maxd-mind), 100)\n",
    "    yy = scs.multivariate_normal.pdf(xx, mean=new_mus, cov=new_sigs)\n",
    "\n",
    "    colors = sns.color_palette('Dark2', 3)\n",
    "    fig, ax = plt.subplots(figsize=(9, 7))\n",
    "    ax.set_ylim(-0.001, np.max(yy))\n",
    "    ax.plot(xx, yy, color=colors[1])\n",
    "    ax.axvline(new_mus, ymin=0., color=colors[1])\n",
    "    ax.fill_between(xx, 0, yy, alpha=0.5, color=colors[1])\n",
    "    lo, hi = ax.get_ylim()\n",
    "    \n",
    "    ax.annotate(f'$\\mu_1$: {new_mus:3.2f}',\n",
    "                fontsize=12, fontweight='demi',\n",
    "                xy=(new_mus, (hi-lo) / 2), \n",
    "                xycoords='data', xytext=((maxd+(maxd-mind))*0.75, (hi-lo) / 2),\n",
    "                arrowprops=dict(facecolor='black', connectionstyle=\"arc3,rad=0.2\",shrink=0.05))\n",
    "    \n",
    "    ax.fill_between(xx, 0, yy, alpha=0.5, color=colors[2])\n",
    "\n",
    "    scale = (np.max(yy) / np.max(dataX)) / 2\n",
    "    dataX = scale * dataX\n",
    "    \n",
    "    dot_kwds = dict(markerfacecolor='white', markeredgecolor='black', markeredgewidth=1, markersize=10)\n",
    "    ax.plot(data, dataX, 'o', **dot_kwds)\n",
    "    #ax.plot(data, len(data)*[0], 'o', **dot_kwds)\n",
    "    plt.show()\n",
    "\n",
    "def histogram(a):\n",
    "    fig, ax = plt.subplots()\n",
    "\n",
    "    # histogram our data with numpy\n",
    "\n",
    "    data = [a[i].item() for i in range(a.size(0))]\n",
    "    n, bins = np.histogram(data, 50)\n",
    "\n",
    "    # get the corners of the rectangles for the histogram\n",
    "    left = np.array(bins[:-1])\n",
    "    right = np.array(bins[1:])\n",
    "    bottom = np.zeros(len(left))\n",
    "    top = bottom + n\n",
    "\n",
    "\n",
    "    # we need a (numrects x numsides x 2) numpy array for the path helper\n",
    "    # function to build a compound path\n",
    "    XY = np.array([[left, left, right, right], [bottom, top, top, bottom]]).T\n",
    "\n",
    "    # get the Path object\n",
    "    barpath = path.Path.make_compound_path_from_polys(XY)\n",
    "\n",
    "    # make a patch out of it\n",
    "    patch = patches.PathPatch(barpath)\n",
    "    ax.add_patch(patch)\n",
    "\n",
    "    # update the view limits\n",
    "    ax.set_xlim(left[0], right[-1])\n",
    "    ax.set_ylim(bottom.min(), top.max())\n",
    "\n",
    "    plt.show()"
   ]
  },
  {
   "cell_type": "markdown",
   "metadata": {},
   "source": [
    "*The pose matrix and the activation of the output capsules are computed iteratively using the EM routing. The EM method fits datapoints into a a mixture of Gaussian models with alternative calls between an E-step and an M-step.*\n",
    "\n",
    "3 Initialize the assignment probability **$r_{ij}$** to be uniformly distributed. i.e. we start with the children capsules equally related with any parents\n",
    "\n",
    "12 M-step to compute an updated Gaussian model (μ, σ) and the parent activation **$a_{j}$** from a, V and current **$r_{ij}$**\n",
    "\n",
    "18 Plot mu,sigma^2 distribution, and plot votes (x-axis) and their routing strength (y-axis).\n",
    "\n",
    "20 E-step to recompute the assignment probabilities **$r_{ij}$** based on the new Gaussian model and the new **$a_{j}$**.\n",
    "\n",
    "31 Finally, plot histogram of activation a."
   ]
  },
  {
   "cell_type": "code",
   "execution_count": 44,
   "metadata": {},
   "outputs": [],
   "source": [
    "def EM_routing(self, lambda_, a_, V):\n",
    "    # routing coefficient\n",
    "    R = Variable(torch.ones([self.b, self.Bkk, self.Cww]), requires_grad=False).cuda() / self.Cww\n",
    "\n",
    "    print (\"Activation:\",a_.shape)\n",
    "    print (\"Votes     :\",V.shape)\n",
    "    print (\"R         :\",R.shape)\n",
    "    \n",
    "    for i in range(self.iteration):\n",
    "        print ()\n",
    "        print (\"iteration\",i,\":\")\n",
    "        # M-step\n",
    "        R = (R * a_)[..., None]\n",
    "        sum_R = R.sum(1)\n",
    "        mu = ((R * V).sum(1) / sum_R)[:, None, :, :]; print (\"mu:\",mu[0,:,0,0].item(),mu.shape)\n",
    "        sigma_square = (R * (V - mu) ** 2).sum(1) / sum_R; print (\"sigma^2:\",sigma_square[0,0,0].item(),sigma_square.shape)\n",
    "\n",
    "        print(\"V     =\",V.shape)\n",
    "        print(\"mu    =\",mu.shape)\n",
    "        print(\"sig²2 =\",sigma_square.shape)\n",
    "        print(\"R     =\",R.shape)\n",
    "        graphics(V[0,:,0,0], mu[0,:,0,0], sigma_square[0,0,0], R[0,:,0,0])\n",
    "\n",
    "        # E-step\n",
    "        if i != self.iteration - 1:\n",
    "            mu, sigma_square, V_, a__ = mu.data, sigma_square.data, V.data, a_.data\n",
    "            normal = Normal(mu, sigma_square[:, None, :, :] ** (1 / 2))\n",
    "            p = torch.exp(normal.log_prob(V_))\n",
    "            print(\"V=\",V_[0,:,0,0])\n",
    "            print(\"p=\",p[0,:,0,0])\n",
    "            print(\"p=\",p[0,0,0,:])\n",
    "            print(\"p.shape=\",p.shape)\n",
    "            print(\"p.sum.shape=\",p.sum(-1).shape)\n",
    "            print(\"p.sum000=\",p.sum(-1)[0,0,0])\n",
    "            ap = a__ * p.sum(-1)\n",
    "            print(\"ap.shape=\",ap.shape)\n",
    "            R = Variable(ap / torch.sum(ap, -1)[..., None], requires_grad=False)\n",
    "        else:\n",
    "            const = (self.beta_v.expand_as(sigma_square) + torch.log(sigma_square)) * sum_R\n",
    "            a = torch.sigmoid(lambda_ * (self.beta_a.repeat(self.b, 1) - const.sum(2)))\n",
    "\n",
    "    print ()\n",
    "    print (\"a:\", a.shape)\n",
    "    histogram(a[0,:])\n",
    "            \n",
    "    return a, mu\n"
   ]
  },
  {
   "cell_type": "code",
   "execution_count": 45,
   "metadata": {
    "scrolled": false
   },
   "outputs": [
    {
     "name": "stdout",
     "output_type": "stream",
     "text": [
      "Activation: torch.Size([1, 14, 4])\n",
      "Votes     : torch.Size([1, 14, 4, 16])\n",
      "R         : torch.Size([1, 14, 4])\n",
      "\n",
      "iteration 0 :\n",
      "mu: -1.3906699419021606 torch.Size([1, 1, 4, 16])\n",
      "sigma^2: 4.760664463043213 torch.Size([1, 4, 16])\n",
      "V     = torch.Size([1, 14, 4, 16])\n",
      "mu    = torch.Size([1, 1, 4, 16])\n",
      "sig²2 = torch.Size([1, 4, 16])\n",
      "R     = torch.Size([1, 14, 4, 1])\n"
     ]
    },
    {
     "data": {
      "image/png": "[encoded data removed]",
      "text/plain": [
       "<Figure size 648x504 with 1 Axes>"
      ]
     },
     "metadata": {},
     "output_type": "display_data"
    },
    {
     "name": "stdout",
     "output_type": "stream",
     "text": [
      "V= tensor([-6.0000, -5.9000, -1.0000, -1.0200, -1.0400, -1.0600, -1.0800, -1.1000, -1.1200, -1.1400, -1.1600,\n",
      "        -1.1800,  2.0000,  2.1000], device='cuda:0')\n",
      "p= tensor([ 0.0196,  0.0216,  0.1799,  0.1802,  0.1805,  0.1808,  0.1810,  0.1812,  0.1814,  0.1816,  0.1818,\n",
      "         0.1820,  0.0547,  0.0509], device='cuda:0')\n",
      "p= tensor([ 0.0196,  0.2436,  0.2436,  0.2436,  0.3129,  0.3129,  0.3129,  0.3129,  0.2934,  0.2934,  0.2934,\n",
      "         0.2934,  0.2367,  0.2367,  0.2367,  0.2367], device='cuda:0')\n",
      "p.shape= torch.Size([1, 14, 4, 16])\n",
      "p.sum.shape= torch.Size([1, 14, 4])\n",
      "p.sum000= tensor(4.1223, device='cuda:0')\n",
      "ap.shape= torch.Size([1, 14, 4])\n",
      "\n",
      "iteration 1 :\n",
      "mu: -1.4185725450515747 torch.Size([1, 1, 4, 16])\n",
      "sigma^2: 4.592257022857666 torch.Size([1, 4, 16])\n",
      "V     = torch.Size([1, 14, 4, 16])\n",
      "mu    = torch.Size([1, 1, 4, 16])\n",
      "sig²2 = torch.Size([1, 4, 16])\n",
      "R     = torch.Size([1, 14, 4, 1])\n"
     ]
    },
    {
     "data": {
      "image/png": "[encoded data removed]",
      "text/plain": [
       "<Figure size 648x504 with 1 Axes>"
      ]
     },
     "metadata": {},
     "output_type": "display_data"
    },
    {
     "name": "stdout",
     "output_type": "stream",
     "text": [
      "V= tensor([-6.0000, -5.9000, -1.0000, -1.0200, -1.0400, -1.0600, -1.0800, -1.1000, -1.1200, -1.1400, -1.1600,\n",
      "        -1.1800,  2.0000,  2.1000], device='cuda:0')\n",
      "p= tensor([ 0.0189,  0.0209,  0.1826,  0.1830,  0.1833,  0.1836,  0.1839,  0.1841,  0.1844,  0.1846,  0.1848,\n",
      "         0.1850,  0.0522,  0.0484], device='cuda:0')\n",
      "p= tensor([ 0.0189,  0.2467,  0.2467,  0.2467,  0.3249,  0.3249,  0.3249,  0.3249,  0.2993,  0.2993,  0.2993,\n",
      "         0.2993,  0.2517,  0.2517,  0.2517,  0.2517], device='cuda:0')\n",
      "p.shape= torch.Size([1, 14, 4, 16])\n",
      "p.sum.shape= torch.Size([1, 14, 4])\n",
      "p.sum000= tensor(4.2626, device='cuda:0')\n",
      "ap.shape= torch.Size([1, 14, 4])\n",
      "\n",
      "iteration 2 :\n",
      "mu: -1.4312485456466675 torch.Size([1, 1, 4, 16])\n",
      "sigma^2: 4.524186611175537 torch.Size([1, 4, 16])\n",
      "V     = torch.Size([1, 14, 4, 16])\n",
      "mu    = torch.Size([1, 1, 4, 16])\n",
      "sig²2 = torch.Size([1, 4, 16])\n",
      "R     = torch.Size([1, 14, 4, 1])\n"
     ]
    },
    {
     "data": {
      "image/png": "[encoded data removed]",
      "text/plain": [
       "<Figure size 648x504 with 1 Axes>"
      ]
     },
     "metadata": {},
     "output_type": "display_data"
    },
    {
     "name": "stdout",
     "output_type": "stream",
     "text": [
      "\n",
      "a: torch.Size([1, 4])\n"
     ]
    },
    {
     "data": {
      "image/png": "[encoded data removed]",
      "text/plain": [
       "<Figure size 432x288 with 1 Axes>"
      ]
     },
     "metadata": {},
     "output_type": "display_data"
    }
   ],
   "source": [
    "activations, poses = EM_routing(self, lambda_, activation, votes)"
   ]
  },
  {
   "cell_type": "markdown",
   "metadata": {},
   "source": [
    "$$\\mu^h_j = \\dfrac{\\sum_i r_{ij} V^h_{ij}}{\\sum_i r_{ij}}$$\n",
    "$$(\\sigma^h_j)^2 = \\dfrac{\\sum_i r_{ij} (V^h_{ij} - mu^h_j)^2}{\\sum_i r_{ij}}$$\n",
    "$$cost_h = (\\beta_u + log \\sigma^h_j) * \\sum_i r_{ij}$$\n",
    "$$a_j = logistic(\\lambda * (\\beta_a - \\sum_h cost_h))$$"
   ]
  },
  {
   "cell_type": "code",
   "execution_count": null,
   "metadata": {},
   "outputs": [],
   "source": []
  }
 ],
 "metadata": {
  "kernelspec": {
   "display_name": "Python 3",
   "language": "python",
   "name": "python3"
  },
  "language_info": {
   "codemirror_mode": {
    "name": "ipython",
    "version": 3
   },
   "file_extension": ".py",
   "mimetype": "text/x-python",
   "name": "python",
   "nbconvert_exporter": "python",
   "pygments_lexer": "ipython3",
   "version": "3.6.5"
  }
 },
 "nbformat": 4,
 "nbformat_minor": 2
}
