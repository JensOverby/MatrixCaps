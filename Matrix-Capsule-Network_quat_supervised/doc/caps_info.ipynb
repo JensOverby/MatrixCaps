{
 "cells": [
  {
   "cell_type": "markdown",
   "metadata": {},
   "source": [
    "# CAPSNET Monitor"
   ]
  },
  {
   "cell_type": "code",
   "execution_count": 1,
   "metadata": {},
   "outputs": [
    {
     "data": {
      "text/html": [
       "<script>\n",
       "code_show=true; \n",
       "function code_toggle() {\n",
       " if (code_show){\n",
       " $('div.input').hide();\n",
       " } else {\n",
       " $('div.input').show();\n",
       " }\n",
       " code_show = !code_show\n",
       "} \n",
       "$( document ).ready(code_toggle);\n",
       "</script>\n",
       "<form action=\"javascript:code_toggle()\"><input type=\"submit\" value=\"Click here to toggle on/off the raw code.\"></form>"
      ],
      "text/plain": [
       "<IPython.core.display.HTML object>"
      ]
     },
     "execution_count": 1,
     "metadata": {},
     "output_type": "execute_result"
    }
   ],
   "source": [
    "from IPython.display import HTML\n",
    "\n",
    "HTML('''<script>\n",
    "code_show=true; \n",
    "function code_toggle() {\n",
    " if (code_show){\n",
    " $('div.input').hide();\n",
    " } else {\n",
    " $('div.input').show();\n",
    " }\n",
    " code_show = !code_show\n",
    "} \n",
    "$( document ).ready(code_toggle);\n",
    "</script>\n",
    "<form action=\"javascript:code_toggle()\"><input type=\"submit\" value=\"Click here to toggle on/off the raw code.\"></form>''')\n"
   ]
  },
  {
   "cell_type": "code",
   "execution_count": 2,
   "metadata": {
    "scrolled": true
   },
   "outputs": [
    {
     "data": {
      "text/html": [
       "<style>\n",
       ".output_wrapper button.btn.btn-default,\n",
       ".output_wrapper .ui-dialog-titlebar {\n",
       "  display: none;\n",
       "}\n",
       "</style>"
      ],
      "text/plain": [
       "<IPython.core.display.HTML object>"
      ]
     },
     "execution_count": 2,
     "metadata": {},
     "output_type": "execute_result"
    }
   ],
   "source": [
    "HTML(\n",
    "'''<style>\n",
    ".output_wrapper button.btn.btn-default,\n",
    ".output_wrapper .ui-dialog-titlebar {\n",
    "  display: none;\n",
    "}\n",
    "</style>''')\n"
   ]
  },
  {
   "cell_type": "code",
   "execution_count": 3,
   "metadata": {
    "scrolled": false
   },
   "outputs": [],
   "source": [
    "%matplotlib notebook\n",
    "\n",
    "import os\n",
    "#os.chdir('/home/jens/eclipse-workspace/MatrixCaps/Matrix-Capsule-Network/')\n",
    "\n",
    "import sys\n",
    "import pyrr\n",
    "sys.path.append('../model')\n",
    "sys.path.append('..')\n",
    "\n",
    "import torch\n",
    "from torch.autograd import Variable\n",
    "from torchvision import datasets\n",
    "from torchvision import transforms\n",
    "from torchvision import utils\n",
    "import torch.nn.functional as F\n",
    "import capsules as mcaps\n",
    "import util\n",
    "import matplotlib\n",
    "import matplotlib.pyplot as plt\n",
    "import numpy as np\n",
    "import time\n",
    "import pyrr\n",
    "\n",
    "import ipywidgets as widgets\n",
    "from ipywidgets import FloatSlider, HBox, VBox, Layout\n",
    "matplotlib.pyplot.ioff()\n",
    "\n",
    "import glob\n",
    "from IPython.display import display, Markdown, Image\n",
    "\n",
    "import PIL.Image\n",
    "from io import BytesIO\n"
   ]
  },
  {
   "cell_type": "markdown",
   "metadata": {},
   "source": [
    "## Matrix Capsules LOSS plot"
   ]
  },
  {
   "cell_type": "code",
   "execution_count": 4,
   "metadata": {},
   "outputs": [
    {
     "data": {
      "application/javascript": [
       "/* Put everything inside the global mpl namespace */\n",
       "window.mpl = {};\n",
       "\n",
       "\n",
       "mpl.get_websocket_type = function() {\n",
       "    if (typeof(WebSocket) !== 'undefined') {\n",
       "        return WebSocket;\n",
       "    } else if (typeof(MozWebSocket) !== 'undefined') {\n",
       "        return MozWebSocket;\n",
       "    } else {\n",
       "        alert('Your browser does not have WebSocket support.' +\n",
       "              'Please try Chrome, Safari or Firefox ≥ 6. ' +\n",
       "              'Firefox 4 and 5 are also supported but you ' +\n",
       "              'have to enable WebSockets in about:config.');\n",
       "    };\n",
       "}\n",
       "\n",
       "mpl.figure = function(figure_id, websocket, ondownload, parent_element) {\n",
       "    this.id = figure_id;\n",
       "\n",
       "    this.ws = websocket;\n",
       "\n",
       "    this.supports_binary = (this.ws.binaryType != undefined);\n",
       "\n",
       "    if (!this.supports_binary) {\n",
       "        var warnings = document.getElementById(\"mpl-warnings\");\n",
       "        if (warnings) {\n",
       "            warnings.style.display = 'block';\n",
       "            warnings.textContent = (\n",
       "                \"This browser does not support binary websocket messages. \" +\n",
       "                    \"Performance may be slow.\");\n",
       "        }\n",
       "    }\n",
       "\n",
       "    this.imageObj = new Image();\n",
       "\n",
       "    this.context = undefined;\n",
       "    this.message = undefined;\n",
       "    this.canvas = undefined;\n",
       "    this.rubberband_canvas = undefined;\n",
       "    this.rubberband_context = undefined;\n",
       "    this.format_dropdown = undefined;\n",
       "\n",
       "    this.image_mode = 'full';\n",
       "\n",
       "    this.root = $('<div/>');\n",
       "    this._root_extra_style(this.root)\n",
       "    this.root.attr('style', 'display: inline-block');\n",
       "\n",
       "    $(parent_element).append(this.root);\n",
       "\n",
       "    this._init_header(this);\n",
       "    this._init_canvas(this);\n",
       "    this._init_toolbar(this);\n",
       "\n",
       "    var fig = this;\n",
       "\n",
       "    this.waiting = false;\n",
       "\n",
       "    this.ws.onopen =  function () {\n",
       "            fig.send_message(\"supports_binary\", {value: fig.supports_binary});\n",
       "            fig.send_message(\"send_image_mode\", {});\n",
       "            if (mpl.ratio != 1) {\n",
       "                fig.send_message(\"set_dpi_ratio\", {'dpi_ratio': mpl.ratio});\n",
       "            }\n",
       "            fig.send_message(\"refresh\", {});\n",
       "        }\n",
       "\n",
       "    this.imageObj.onload = function() {\n",
       "            if (fig.image_mode == 'full') {\n",
       "                // Full images could contain transparency (where diff images\n",
       "                // almost always do), so we need to clear the canvas so that\n",
       "                // there is no ghosting.\n",
       "                fig.context.clearRect(0, 0, fig.canvas.width, fig.canvas.height);\n",
       "            }\n",
       "            fig.context.drawImage(fig.imageObj, 0, 0);\n",
       "        };\n",
       "\n",
       "    this.imageObj.onunload = function() {\n",
       "        fig.ws.close();\n",
       "    }\n",
       "\n",
       "    this.ws.onmessage = this._make_on_message_function(this);\n",
       "\n",
       "    this.ondownload = ondownload;\n",
       "}\n",
       "\n",
       "mpl.figure.prototype._init_header = function() {\n",
       "    var titlebar = $(\n",
       "        '<div class=\"ui-dialog-titlebar ui-widget-header ui-corner-all ' +\n",
       "        'ui-helper-clearfix\"/>');\n",
       "    var titletext = $(\n",
       "        '<div class=\"ui-dialog-title\" style=\"width: 100%; ' +\n",
       "        'text-align: center; padding: 3px;\"/>');\n",
       "    titlebar.append(titletext)\n",
       "    this.root.append(titlebar);\n",
       "    this.header = titletext[0];\n",
       "}\n",
       "\n",
       "\n",
       "\n",
       "mpl.figure.prototype._canvas_extra_style = function(canvas_div) {\n",
       "\n",
       "}\n",
       "\n",
       "\n",
       "mpl.figure.prototype._root_extra_style = function(canvas_div) {\n",
       "\n",
       "}\n",
       "\n",
       "mpl.figure.prototype._init_canvas = function() {\n",
       "    var fig = this;\n",
       "\n",
       "    var canvas_div = $('<div/>');\n",
       "\n",
       "    canvas_div.attr('style', 'position: relative; clear: both; outline: 0');\n",
       "\n",
       "    function canvas_keyboard_event(event) {\n",
       "        return fig.key_event(event, event['data']);\n",
       "    }\n",
       "\n",
       "    canvas_div.keydown('key_press', canvas_keyboard_event);\n",
       "    canvas_div.keyup('key_release', canvas_keyboard_event);\n",
       "    this.canvas_div = canvas_div\n",
       "    this._canvas_extra_style(canvas_div)\n",
       "    this.root.append(canvas_div);\n",
       "\n",
       "    var canvas = $('<canvas/>');\n",
       "    canvas.addClass('mpl-canvas');\n",
       "    canvas.attr('style', \"left: 0; top: 0; z-index: 0; outline: 0\")\n",
       "\n",
       "    this.canvas = canvas[0];\n",
       "    this.context = canvas[0].getContext(\"2d\");\n",
       "\n",
       "    var backingStore = this.context.backingStorePixelRatio ||\n",
       "\tthis.context.webkitBackingStorePixelRatio ||\n",
       "\tthis.context.mozBackingStorePixelRatio ||\n",
       "\tthis.context.msBackingStorePixelRatio ||\n",
       "\tthis.context.oBackingStorePixelRatio ||\n",
       "\tthis.context.backingStorePixelRatio || 1;\n",
       "\n",
       "    mpl.ratio = (window.devicePixelRatio || 1) / backingStore;\n",
       "\n",
       "    var rubberband = $('<canvas/>');\n",
       "    rubberband.attr('style', \"position: absolute; left: 0; top: 0; z-index: 1;\")\n",
       "\n",
       "    var pass_mouse_events = true;\n",
       "\n",
       "    canvas_div.resizable({\n",
       "        start: function(event, ui) {\n",
       "            pass_mouse_events = false;\n",
       "        },\n",
       "        resize: function(event, ui) {\n",
       "            fig.request_resize(ui.size.width, ui.size.height);\n",
       "        },\n",
       "        stop: function(event, ui) {\n",
       "            pass_mouse_events = true;\n",
       "            fig.request_resize(ui.size.width, ui.size.height);\n",
       "        },\n",
       "    });\n",
       "\n",
       "    function mouse_event_fn(event) {\n",
       "        if (pass_mouse_events)\n",
       "            return fig.mouse_event(event, event['data']);\n",
       "    }\n",
       "\n",
       "    rubberband.mousedown('button_press', mouse_event_fn);\n",
       "    rubberband.mouseup('button_release', mouse_event_fn);\n",
       "    // Throttle sequential mouse events to 1 every 20ms.\n",
       "    rubberband.mousemove('motion_notify', mouse_event_fn);\n",
       "\n",
       "    rubberband.mouseenter('figure_enter', mouse_event_fn);\n",
       "    rubberband.mouseleave('figure_leave', mouse_event_fn);\n",
       "\n",
       "    canvas_div.on(\"wheel\", function (event) {\n",
       "        event = event.originalEvent;\n",
       "        event['data'] = 'scroll'\n",
       "        if (event.deltaY < 0) {\n",
       "            event.step = 1;\n",
       "        } else {\n",
       "            event.step = -1;\n",
       "        }\n",
       "        mouse_event_fn(event);\n",
       "    });\n",
       "\n",
       "    canvas_div.append(canvas);\n",
       "    canvas_div.append(rubberband);\n",
       "\n",
       "    this.rubberband = rubberband;\n",
       "    this.rubberband_canvas = rubberband[0];\n",
       "    this.rubberband_context = rubberband[0].getContext(\"2d\");\n",
       "    this.rubberband_context.strokeStyle = \"#000000\";\n",
       "\n",
       "    this._resize_canvas = function(width, height) {\n",
       "        // Keep the size of the canvas, canvas container, and rubber band\n",
       "        // canvas in synch.\n",
       "        canvas_div.css('width', width)\n",
       "        canvas_div.css('height', height)\n",
       "\n",
       "        canvas.attr('width', width * mpl.ratio);\n",
       "        canvas.attr('height', height * mpl.ratio);\n",
       "        canvas.attr('style', 'width: ' + width + 'px; height: ' + height + 'px;');\n",
       "\n",
       "        rubberband.attr('width', width);\n",
       "        rubberband.attr('height', height);\n",
       "    }\n",
       "\n",
       "    // Set the figure to an initial 600x600px, this will subsequently be updated\n",
       "    // upon first draw.\n",
       "    this._resize_canvas(600, 600);\n",
       "\n",
       "    // Disable right mouse context menu.\n",
       "    $(this.rubberband_canvas).bind(\"contextmenu\",function(e){\n",
       "        return false;\n",
       "    });\n",
       "\n",
       "    function set_focus () {\n",
       "        canvas.focus();\n",
       "        canvas_div.focus();\n",
       "    }\n",
       "\n",
       "    window.setTimeout(set_focus, 100);\n",
       "}\n",
       "\n",
       "mpl.figure.prototype._init_toolbar = function() {\n",
       "    var fig = this;\n",
       "\n",
       "    var nav_element = $('<div/>')\n",
       "    nav_element.attr('style', 'width: 100%');\n",
       "    this.root.append(nav_element);\n",
       "\n",
       "    // Define a callback function for later on.\n",
       "    function toolbar_event(event) {\n",
       "        return fig.toolbar_button_onclick(event['data']);\n",
       "    }\n",
       "    function toolbar_mouse_event(event) {\n",
       "        return fig.toolbar_button_onmouseover(event['data']);\n",
       "    }\n",
       "\n",
       "    for(var toolbar_ind in mpl.toolbar_items) {\n",
       "        var name = mpl.toolbar_items[toolbar_ind][0];\n",
       "        var tooltip = mpl.toolbar_items[toolbar_ind][1];\n",
       "        var image = mpl.toolbar_items[toolbar_ind][2];\n",
       "        var method_name = mpl.toolbar_items[toolbar_ind][3];\n",
       "\n",
       "        if (!name) {\n",
       "            // put a spacer in here.\n",
       "            continue;\n",
       "        }\n",
       "        var button = $('<button/>');\n",
       "        button.addClass('ui-button ui-widget ui-state-default ui-corner-all ' +\n",
       "                        'ui-button-icon-only');\n",
       "        button.attr('role', 'button');\n",
       "        button.attr('aria-disabled', 'false');\n",
       "        button.click(method_name, toolbar_event);\n",
       "        button.mouseover(tooltip, toolbar_mouse_event);\n",
       "\n",
       "        var icon_img = $('<span/>');\n",
       "        icon_img.addClass('ui-button-icon-primary ui-icon');\n",
       "        icon_img.addClass(image);\n",
       "        icon_img.addClass('ui-corner-all');\n",
       "\n",
       "        var tooltip_span = $('<span/>');\n",
       "        tooltip_span.addClass('ui-button-text');\n",
       "        tooltip_span.html(tooltip);\n",
       "\n",
       "        button.append(icon_img);\n",
       "        button.append(tooltip_span);\n",
       "\n",
       "        nav_element.append(button);\n",
       "    }\n",
       "\n",
       "    var fmt_picker_span = $('<span/>');\n",
       "\n",
       "    var fmt_picker = $('<select/>');\n",
       "    fmt_picker.addClass('mpl-toolbar-option ui-widget ui-widget-content');\n",
       "    fmt_picker_span.append(fmt_picker);\n",
       "    nav_element.append(fmt_picker_span);\n",
       "    this.format_dropdown = fmt_picker[0];\n",
       "\n",
       "    for (var ind in mpl.extensions) {\n",
       "        var fmt = mpl.extensions[ind];\n",
       "        var option = $(\n",
       "            '<option/>', {selected: fmt === mpl.default_extension}).html(fmt);\n",
       "        fmt_picker.append(option)\n",
       "    }\n",
       "\n",
       "    // Add hover states to the ui-buttons\n",
       "    $( \".ui-button\" ).hover(\n",
       "        function() { $(this).addClass(\"ui-state-hover\");},\n",
       "        function() { $(this).removeClass(\"ui-state-hover\");}\n",
       "    );\n",
       "\n",
       "    var status_bar = $('<span class=\"mpl-message\"/>');\n",
       "    nav_element.append(status_bar);\n",
       "    this.message = status_bar[0];\n",
       "}\n",
       "\n",
       "mpl.figure.prototype.request_resize = function(x_pixels, y_pixels) {\n",
       "    // Request matplotlib to resize the figure. Matplotlib will then trigger a resize in the client,\n",
       "    // which will in turn request a refresh of the image.\n",
       "    this.send_message('resize', {'width': x_pixels, 'height': y_pixels});\n",
       "}\n",
       "\n",
       "mpl.figure.prototype.send_message = function(type, properties) {\n",
       "    properties['type'] = type;\n",
       "    properties['figure_id'] = this.id;\n",
       "    this.ws.send(JSON.stringify(properties));\n",
       "}\n",
       "\n",
       "mpl.figure.prototype.send_draw_message = function() {\n",
       "    if (!this.waiting) {\n",
       "        this.waiting = true;\n",
       "        this.ws.send(JSON.stringify({type: \"draw\", figure_id: this.id}));\n",
       "    }\n",
       "}\n",
       "\n",
       "\n",
       "mpl.figure.prototype.handle_save = function(fig, msg) {\n",
       "    var format_dropdown = fig.format_dropdown;\n",
       "    var format = format_dropdown.options[format_dropdown.selectedIndex].value;\n",
       "    fig.ondownload(fig, format);\n",
       "}\n",
       "\n",
       "\n",
       "mpl.figure.prototype.handle_resize = function(fig, msg) {\n",
       "    var size = msg['size'];\n",
       "    if (size[0] != fig.canvas.width || size[1] != fig.canvas.height) {\n",
       "        fig._resize_canvas(size[0], size[1]);\n",
       "        fig.send_message(\"refresh\", {});\n",
       "    };\n",
       "}\n",
       "\n",
       "mpl.figure.prototype.handle_rubberband = function(fig, msg) {\n",
       "    var x0 = msg['x0'] / mpl.ratio;\n",
       "    var y0 = (fig.canvas.height - msg['y0']) / mpl.ratio;\n",
       "    var x1 = msg['x1'] / mpl.ratio;\n",
       "    var y1 = (fig.canvas.height - msg['y1']) / mpl.ratio;\n",
       "    x0 = Math.floor(x0) + 0.5;\n",
       "    y0 = Math.floor(y0) + 0.5;\n",
       "    x1 = Math.floor(x1) + 0.5;\n",
       "    y1 = Math.floor(y1) + 0.5;\n",
       "    var min_x = Math.min(x0, x1);\n",
       "    var min_y = Math.min(y0, y1);\n",
       "    var width = Math.abs(x1 - x0);\n",
       "    var height = Math.abs(y1 - y0);\n",
       "\n",
       "    fig.rubberband_context.clearRect(\n",
       "        0, 0, fig.canvas.width, fig.canvas.height);\n",
       "\n",
       "    fig.rubberband_context.strokeRect(min_x, min_y, width, height);\n",
       "}\n",
       "\n",
       "mpl.figure.prototype.handle_figure_label = function(fig, msg) {\n",
       "    // Updates the figure title.\n",
       "    fig.header.textContent = msg['label'];\n",
       "}\n",
       "\n",
       "mpl.figure.prototype.handle_cursor = function(fig, msg) {\n",
       "    var cursor = msg['cursor'];\n",
       "    switch(cursor)\n",
       "    {\n",
       "    case 0:\n",
       "        cursor = 'pointer';\n",
       "        break;\n",
       "    case 1:\n",
       "        cursor = 'default';\n",
       "        break;\n",
       "    case 2:\n",
       "        cursor = 'crosshair';\n",
       "        break;\n",
       "    case 3:\n",
       "        cursor = 'move';\n",
       "        break;\n",
       "    }\n",
       "    fig.rubberband_canvas.style.cursor = cursor;\n",
       "}\n",
       "\n",
       "mpl.figure.prototype.handle_message = function(fig, msg) {\n",
       "    fig.message.textContent = msg['message'];\n",
       "}\n",
       "\n",
       "mpl.figure.prototype.handle_draw = function(fig, msg) {\n",
       "    // Request the server to send over a new figure.\n",
       "    fig.send_draw_message();\n",
       "}\n",
       "\n",
       "mpl.figure.prototype.handle_image_mode = function(fig, msg) {\n",
       "    fig.image_mode = msg['mode'];\n",
       "}\n",
       "\n",
       "mpl.figure.prototype.updated_canvas_event = function() {\n",
       "    // Called whenever the canvas gets updated.\n",
       "    this.send_message(\"ack\", {});\n",
       "}\n",
       "\n",
       "// A function to construct a web socket function for onmessage handling.\n",
       "// Called in the figure constructor.\n",
       "mpl.figure.prototype._make_on_message_function = function(fig) {\n",
       "    return function socket_on_message(evt) {\n",
       "        if (evt.data instanceof Blob) {\n",
       "            /* FIXME: We get \"Resource interpreted as Image but\n",
       "             * transferred with MIME type text/plain:\" errors on\n",
       "             * Chrome.  But how to set the MIME type?  It doesn't seem\n",
       "             * to be part of the websocket stream */\n",
       "            evt.data.type = \"image/png\";\n",
       "\n",
       "            /* Free the memory for the previous frames */\n",
       "            if (fig.imageObj.src) {\n",
       "                (window.URL || window.webkitURL).revokeObjectURL(\n",
       "                    fig.imageObj.src);\n",
       "            }\n",
       "\n",
       "            fig.imageObj.src = (window.URL || window.webkitURL).createObjectURL(\n",
       "                evt.data);\n",
       "            fig.updated_canvas_event();\n",
       "            fig.waiting = false;\n",
       "            return;\n",
       "        }\n",
       "        else if (typeof evt.data === 'string' && evt.data.slice(0, 21) == \"data:image/png;base64\") {\n",
       "            fig.imageObj.src = evt.data;\n",
       "            fig.updated_canvas_event();\n",
       "            fig.waiting = false;\n",
       "            return;\n",
       "        }\n",
       "\n",
       "        var msg = JSON.parse(evt.data);\n",
       "        var msg_type = msg['type'];\n",
       "\n",
       "        // Call the  \"handle_{type}\" callback, which takes\n",
       "        // the figure and JSON message as its only arguments.\n",
       "        try {\n",
       "            var callback = fig[\"handle_\" + msg_type];\n",
       "        } catch (e) {\n",
       "            console.log(\"No handler for the '\" + msg_type + \"' message type: \", msg);\n",
       "            return;\n",
       "        }\n",
       "\n",
       "        if (callback) {\n",
       "            try {\n",
       "                // console.log(\"Handling '\" + msg_type + \"' message: \", msg);\n",
       "                callback(fig, msg);\n",
       "            } catch (e) {\n",
       "                console.log(\"Exception inside the 'handler_\" + msg_type + \"' callback:\", e, e.stack, msg);\n",
       "            }\n",
       "        }\n",
       "    };\n",
       "}\n",
       "\n",
       "// from http://stackoverflow.com/questions/1114465/getting-mouse-location-in-canvas\n",
       "mpl.findpos = function(e) {\n",
       "    //this section is from http://www.quirksmode.org/js/events_properties.html\n",
       "    var targ;\n",
       "    if (!e)\n",
       "        e = window.event;\n",
       "    if (e.target)\n",
       "        targ = e.target;\n",
       "    else if (e.srcElement)\n",
       "        targ = e.srcElement;\n",
       "    if (targ.nodeType == 3) // defeat Safari bug\n",
       "        targ = targ.parentNode;\n",
       "\n",
       "    // jQuery normalizes the pageX and pageY\n",
       "    // pageX,Y are the mouse positions relative to the document\n",
       "    // offset() returns the position of the element relative to the document\n",
       "    var x = e.pageX - $(targ).offset().left;\n",
       "    var y = e.pageY - $(targ).offset().top;\n",
       "\n",
       "    return {\"x\": x, \"y\": y};\n",
       "};\n",
       "\n",
       "/*\n",
       " * return a copy of an object with only non-object keys\n",
       " * we need this to avoid circular references\n",
       " * http://stackoverflow.com/a/24161582/3208463\n",
       " */\n",
       "function simpleKeys (original) {\n",
       "  return Object.keys(original).reduce(function (obj, key) {\n",
       "    if (typeof original[key] !== 'object')\n",
       "        obj[key] = original[key]\n",
       "    return obj;\n",
       "  }, {});\n",
       "}\n",
       "\n",
       "mpl.figure.prototype.mouse_event = function(event, name) {\n",
       "    var canvas_pos = mpl.findpos(event)\n",
       "\n",
       "    if (name === 'button_press')\n",
       "    {\n",
       "        this.canvas.focus();\n",
       "        this.canvas_div.focus();\n",
       "    }\n",
       "\n",
       "    var x = canvas_pos.x * mpl.ratio;\n",
       "    var y = canvas_pos.y * mpl.ratio;\n",
       "\n",
       "    this.send_message(name, {x: x, y: y, button: event.button,\n",
       "                             step: event.step,\n",
       "                             guiEvent: simpleKeys(event)});\n",
       "\n",
       "    /* This prevents the web browser from automatically changing to\n",
       "     * the text insertion cursor when the button is pressed.  We want\n",
       "     * to control all of the cursor setting manually through the\n",
       "     * 'cursor' event from matplotlib */\n",
       "    event.preventDefault();\n",
       "    return false;\n",
       "}\n",
       "\n",
       "mpl.figure.prototype._key_event_extra = function(event, name) {\n",
       "    // Handle any extra behaviour associated with a key event\n",
       "}\n",
       "\n",
       "mpl.figure.prototype.key_event = function(event, name) {\n",
       "\n",
       "    // Prevent repeat events\n",
       "    if (name == 'key_press')\n",
       "    {\n",
       "        if (event.which === this._key)\n",
       "            return;\n",
       "        else\n",
       "            this._key = event.which;\n",
       "    }\n",
       "    if (name == 'key_release')\n",
       "        this._key = null;\n",
       "\n",
       "    var value = '';\n",
       "    if (event.ctrlKey && event.which != 17)\n",
       "        value += \"ctrl+\";\n",
       "    if (event.altKey && event.which != 18)\n",
       "        value += \"alt+\";\n",
       "    if (event.shiftKey && event.which != 16)\n",
       "        value += \"shift+\";\n",
       "\n",
       "    value += 'k';\n",
       "    value += event.which.toString();\n",
       "\n",
       "    this._key_event_extra(event, name);\n",
       "\n",
       "    this.send_message(name, {key: value,\n",
       "                             guiEvent: simpleKeys(event)});\n",
       "    return false;\n",
       "}\n",
       "\n",
       "mpl.figure.prototype.toolbar_button_onclick = function(name) {\n",
       "    if (name == 'download') {\n",
       "        this.handle_save(this, null);\n",
       "    } else {\n",
       "        this.send_message(\"toolbar_button\", {name: name});\n",
       "    }\n",
       "};\n",
       "\n",
       "mpl.figure.prototype.toolbar_button_onmouseover = function(tooltip) {\n",
       "    this.message.textContent = tooltip;\n",
       "};\n",
       "mpl.toolbar_items = [[\"Home\", \"Reset original view\", \"fa fa-home icon-home\", \"home\"], [\"Back\", \"Back to  previous view\", \"fa fa-arrow-left icon-arrow-left\", \"back\"], [\"Forward\", \"Forward to next view\", \"fa fa-arrow-right icon-arrow-right\", \"forward\"], [\"\", \"\", \"\", \"\"], [\"Pan\", \"Pan axes with left mouse, zoom with right\", \"fa fa-arrows icon-move\", \"pan\"], [\"Zoom\", \"Zoom to rectangle\", \"fa fa-square-o icon-check-empty\", \"zoom\"], [\"\", \"\", \"\", \"\"], [\"Download\", \"Download plot\", \"fa fa-floppy-o icon-save\", \"download\"]];\n",
       "\n",
       "mpl.extensions = [\"eps\", \"jpeg\", \"pdf\", \"png\", \"ps\", \"raw\", \"svg\", \"tif\"];\n",
       "\n",
       "mpl.default_extension = \"png\";var comm_websocket_adapter = function(comm) {\n",
       "    // Create a \"websocket\"-like object which calls the given IPython comm\n",
       "    // object with the appropriate methods. Currently this is a non binary\n",
       "    // socket, so there is still some room for performance tuning.\n",
       "    var ws = {};\n",
       "\n",
       "    ws.close = function() {\n",
       "        comm.close()\n",
       "    };\n",
       "    ws.send = function(m) {\n",
       "        //console.log('sending', m);\n",
       "        comm.send(m);\n",
       "    };\n",
       "    // Register the callback with on_msg.\n",
       "    comm.on_msg(function(msg) {\n",
       "        //console.log('receiving', msg['content']['data'], msg);\n",
       "        // Pass the mpl event to the overridden (by mpl) onmessage function.\n",
       "        ws.onmessage(msg['content']['data'])\n",
       "    });\n",
       "    return ws;\n",
       "}\n",
       "\n",
       "mpl.mpl_figure_comm = function(comm, msg) {\n",
       "    // This is the function which gets called when the mpl process\n",
       "    // starts-up an IPython Comm through the \"matplotlib\" channel.\n",
       "\n",
       "    var id = msg.content.data.id;\n",
       "    // Get hold of the div created by the display call when the Comm\n",
       "    // socket was opened in Python.\n",
       "    var element = $(\"#\" + id);\n",
       "    var ws_proxy = comm_websocket_adapter(comm)\n",
       "\n",
       "    function ondownload(figure, format) {\n",
       "        window.open(figure.imageObj.src);\n",
       "    }\n",
       "\n",
       "    var fig = new mpl.figure(id, ws_proxy,\n",
       "                           ondownload,\n",
       "                           element.get(0));\n",
       "\n",
       "    // Call onopen now - mpl needs it, as it is assuming we've passed it a real\n",
       "    // web socket which is closed, not our websocket->open comm proxy.\n",
       "    ws_proxy.onopen();\n",
       "\n",
       "    fig.parent_element = element.get(0);\n",
       "    fig.cell_info = mpl.find_output_cell(\"<div id='\" + id + \"'></div>\");\n",
       "    if (!fig.cell_info) {\n",
       "        console.error(\"Failed to find cell for figure\", id, fig);\n",
       "        return;\n",
       "    }\n",
       "\n",
       "    var output_index = fig.cell_info[2]\n",
       "    var cell = fig.cell_info[0];\n",
       "\n",
       "};\n",
       "\n",
       "mpl.figure.prototype.handle_close = function(fig, msg) {\n",
       "    var width = fig.canvas.width/mpl.ratio\n",
       "    fig.root.unbind('remove')\n",
       "\n",
       "    // Update the output cell to use the data from the current canvas.\n",
       "    fig.push_to_output();\n",
       "    var dataURL = fig.canvas.toDataURL();\n",
       "    // Re-enable the keyboard manager in IPython - without this line, in FF,\n",
       "    // the notebook keyboard shortcuts fail.\n",
       "    IPython.keyboard_manager.enable()\n",
       "    $(fig.parent_element).html('<img src=\"' + dataURL + '\" width=\"' + width + '\">');\n",
       "    fig.close_ws(fig, msg);\n",
       "}\n",
       "\n",
       "mpl.figure.prototype.close_ws = function(fig, msg){\n",
       "    fig.send_message('closing', msg);\n",
       "    // fig.ws.close()\n",
       "}\n",
       "\n",
       "mpl.figure.prototype.push_to_output = function(remove_interactive) {\n",
       "    // Turn the data on the canvas into data in the output cell.\n",
       "    var width = this.canvas.width/mpl.ratio\n",
       "    var dataURL = this.canvas.toDataURL();\n",
       "    this.cell_info[1]['text/html'] = '<img src=\"' + dataURL + '\" width=\"' + width + '\">';\n",
       "}\n",
       "\n",
       "mpl.figure.prototype.updated_canvas_event = function() {\n",
       "    // Tell IPython that the notebook contents must change.\n",
       "    IPython.notebook.set_dirty(true);\n",
       "    this.send_message(\"ack\", {});\n",
       "    var fig = this;\n",
       "    // Wait a second, then push the new image to the DOM so\n",
       "    // that it is saved nicely (might be nice to debounce this).\n",
       "    setTimeout(function () { fig.push_to_output() }, 1000);\n",
       "}\n",
       "\n",
       "mpl.figure.prototype._init_toolbar = function() {\n",
       "    var fig = this;\n",
       "\n",
       "    var nav_element = $('<div/>')\n",
       "    nav_element.attr('style', 'width: 100%');\n",
       "    this.root.append(nav_element);\n",
       "\n",
       "    // Define a callback function for later on.\n",
       "    function toolbar_event(event) {\n",
       "        return fig.toolbar_button_onclick(event['data']);\n",
       "    }\n",
       "    function toolbar_mouse_event(event) {\n",
       "        return fig.toolbar_button_onmouseover(event['data']);\n",
       "    }\n",
       "\n",
       "    for(var toolbar_ind in mpl.toolbar_items){\n",
       "        var name = mpl.toolbar_items[toolbar_ind][0];\n",
       "        var tooltip = mpl.toolbar_items[toolbar_ind][1];\n",
       "        var image = mpl.toolbar_items[toolbar_ind][2];\n",
       "        var method_name = mpl.toolbar_items[toolbar_ind][3];\n",
       "\n",
       "        if (!name) { continue; };\n",
       "\n",
       "        var button = $('<button class=\"btn btn-default\" href=\"#\" title=\"' + name + '\"><i class=\"fa ' + image + ' fa-lg\"></i></button>');\n",
       "        button.click(method_name, toolbar_event);\n",
       "        button.mouseover(tooltip, toolbar_mouse_event);\n",
       "        nav_element.append(button);\n",
       "    }\n",
       "\n",
       "    // Add the status bar.\n",
       "    var status_bar = $('<span class=\"mpl-message\" style=\"text-align:right; float: right;\"/>');\n",
       "    nav_element.append(status_bar);\n",
       "    this.message = status_bar[0];\n",
       "\n",
       "    // Add the close button to the window.\n",
       "    var buttongrp = $('<div class=\"btn-group inline pull-right\"></div>');\n",
       "    var button = $('<button class=\"btn btn-mini btn-primary\" href=\"#\" title=\"Stop Interaction\"><i class=\"fa fa-power-off icon-remove icon-large\"></i></button>');\n",
       "    button.click(function (evt) { fig.handle_close(fig, {}); } );\n",
       "    button.mouseover('Stop Interaction', toolbar_mouse_event);\n",
       "    buttongrp.append(button);\n",
       "    var titlebar = this.root.find($('.ui-dialog-titlebar'));\n",
       "    titlebar.prepend(buttongrp);\n",
       "}\n",
       "\n",
       "mpl.figure.prototype._root_extra_style = function(el){\n",
       "    var fig = this\n",
       "    el.on(\"remove\", function(){\n",
       "\tfig.close_ws(fig, {});\n",
       "    });\n",
       "}\n",
       "\n",
       "mpl.figure.prototype._canvas_extra_style = function(el){\n",
       "    // this is important to make the div 'focusable\n",
       "    el.attr('tabindex', 0)\n",
       "    // reach out to IPython and tell the keyboard manager to turn it's self\n",
       "    // off when our div gets focus\n",
       "\n",
       "    // location in version 3\n",
       "    if (IPython.notebook.keyboard_manager) {\n",
       "        IPython.notebook.keyboard_manager.register_events(el);\n",
       "    }\n",
       "    else {\n",
       "        // location in version 2\n",
       "        IPython.keyboard_manager.register_events(el);\n",
       "    }\n",
       "\n",
       "}\n",
       "\n",
       "mpl.figure.prototype._key_event_extra = function(event, name) {\n",
       "    var manager = IPython.notebook.keyboard_manager;\n",
       "    if (!manager)\n",
       "        manager = IPython.keyboard_manager;\n",
       "\n",
       "    // Check for shift+enter\n",
       "    if (event.shiftKey && event.which == 13) {\n",
       "        this.canvas_div.blur();\n",
       "        event.shiftKey = false;\n",
       "        // Send a \"J\" for go to next cell\n",
       "        event.which = 74;\n",
       "        event.keyCode = 74;\n",
       "        manager.command_mode();\n",
       "        manager.handle_keydown(event);\n",
       "    }\n",
       "}\n",
       "\n",
       "mpl.figure.prototype.handle_save = function(fig, msg) {\n",
       "    fig.ondownload(fig, null);\n",
       "}\n",
       "\n",
       "\n",
       "mpl.find_output_cell = function(html_output) {\n",
       "    // Return the cell and output element which can be found *uniquely* in the notebook.\n",
       "    // Note - this is a bit hacky, but it is done because the \"notebook_saving.Notebook\"\n",
       "    // IPython event is triggered only after the cells have been serialised, which for\n",
       "    // our purposes (turning an active figure into a static one), is too late.\n",
       "    var cells = IPython.notebook.get_cells();\n",
       "    var ncells = cells.length;\n",
       "    for (var i=0; i<ncells; i++) {\n",
       "        var cell = cells[i];\n",
       "        if (cell.cell_type === 'code'){\n",
       "            for (var j=0; j<cell.output_area.outputs.length; j++) {\n",
       "                var data = cell.output_area.outputs[j];\n",
       "                if (data.data) {\n",
       "                    // IPython >= 3 moved mimebundle to data attribute of output\n",
       "                    data = data.data;\n",
       "                }\n",
       "                if (data['text/html'] == html_output) {\n",
       "                    return [cell, data, j];\n",
       "                }\n",
       "            }\n",
       "        }\n",
       "    }\n",
       "}\n",
       "\n",
       "// Register the function which deals with the matplotlib target/channel.\n",
       "// The kernel may be null if the page has been refreshed.\n",
       "if (IPython.notebook.kernel != null) {\n",
       "    IPython.notebook.kernel.comm_manager.register_target('matplotlib', mpl.mpl_figure_comm);\n",
       "}\n"
      ],
      "text/plain": [
       "<IPython.core.display.Javascript object>"
      ]
     },
     "metadata": {},
     "output_type": "display_data"
    },
    {
     "data": {
      "text/html": [
       "<img src=\"data:image/png;base64,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\" width=\"900\">"
      ],
      "text/plain": [
       "<IPython.core.display.HTML object>"
      ]
     },
     "metadata": {},
     "output_type": "display_data"
    },
    {
     "data": {
      "application/vnd.jupyter.widget-view+json": {
       "model_id": "fa14bdc93a89486b9f4300ff23e2a2bd",
       "version_major": 2,
       "version_minor": 0
      },
      "text/plain": [
       "Button(description='Update', style=ButtonStyle())"
      ]
     },
     "metadata": {},
     "output_type": "display_data"
    },
    {
     "data": {
      "application/vnd.jupyter.widget-view+json": {
       "model_id": "d0b770f6d42b4ee3944fa888b3597e0a",
       "version_major": 2,
       "version_minor": 0
      },
      "text/plain": [
       "IntText(value=30, description='Epoch history')"
      ]
     },
     "metadata": {},
     "output_type": "display_data"
    }
   ],
   "source": [
    "matplotlib.rcParams.update({'font.size': 22})\n",
    "fig3 = plt.figure(figsize = (9,6))\n",
    "ax3 = fig3.subplots()\n",
    "#matplotlib.pyplot.ion()\n",
    "\n",
    "\n",
    "button = widgets.Button(description=\"Update\")\n",
    "show_epochs = widgets.IntText(description='Epoch history',disabled=False)\n",
    "show_epochs.value = 30\n",
    "\n",
    "def on_button_clicked(b):\n",
    "    with open('../loss.log') as f:\n",
    "        content = f.readlines()\n",
    "    content = [float(x.strip()) for x in content]\n",
    "    xmin = 0\n",
    "    xmax = len(content)\n",
    "    if xmax > show_epochs.value:\n",
    "        xmin = xmax-show_epochs.value\n",
    "        content = content[xmin:xmax]\n",
    "    ymin = np.min(content)\n",
    "    ymax = np.max(content)\n",
    "    x_axis = np.linspace(xmin, xmax-1, num=xmax-xmin)\n",
    "\n",
    "    #matplotlib.pyplot.gcf().clear()\n",
    "    ax3.clear()\n",
    "    ax3.set_xlim(xmin, xmax)\n",
    "    yaxismin = ymin - (ymax-ymin)/3\n",
    "    if yaxismin < 0:\n",
    "        yaxismin = 0\n",
    "    ax3.set_ylim(ymin - (ymax-ymin)/3, ymax)\n",
    "    ax3.plot(x_axis, content, linewidth=5.0)\n",
    "    ax3.xaxis.set_major_locator(matplotlib.ticker.MaxNLocator(integer=True))\n",
    "    ax3.grid(linestyle='-', linewidth='0.5', color='red')\n",
    "    fig3.canvas.draw()\n",
    "\n",
    "    \n",
    "on_button_clicked(None)\n",
    "fig3.show()\n",
    "\n",
    "display(button)\n",
    "display(show_epochs)\n",
    "\n",
    "button.on_click(on_button_clicked)\n",
    "show_epochs.observe(on_button_clicked)"
   ]
  },
  {
   "cell_type": "code",
   "execution_count": 5,
   "metadata": {},
   "outputs": [
    {
     "data": {
      "text/markdown": [
       "## Latest model is: ../weights/em_capsules/model_0.pth"
      ],
      "text/plain": [
       "<IPython.core.display.Markdown object>"
      ]
     },
     "metadata": {},
     "output_type": "display_data"
    }
   ],
   "source": [
    "class args():\n",
    "    num_classes = 1\n",
    "    batch_size = 1\n",
    "    routing = 'EM_routing'\n",
    "    loss = 'spread_loss̈́'\n",
    "    use_recon = 0.001\n",
    "    r = 3\n",
    "    num_workers = 1\n",
    "    disable_encoder = False\n",
    "    disable_recon = False\n",
    "\n",
    "A, AA, B, C, D, E, r = 32, 64, 16, 16, 16, args.num_classes, args.r # a small CapsNet\n",
    "\n",
    "model = mcaps.CapsNet(args, A, AA, B, C, D, E, r, h=4)\n",
    "\n",
    "LatestFile = max(glob.iglob(\"../weights/em_capsules/model*.pth\"),key=os.path.getctime)\n",
    "\n",
    "display(Markdown('## Latest model is: '+LatestFile))\n",
    "\n",
    "model.load_state_dict(torch.load(LatestFile))\n",
    "model.cpu()\n",
    "\n",
    "self = model"
   ]
  },
  {
   "cell_type": "markdown",
   "metadata": {},
   "source": [
    "## Ground Truth"
   ]
  },
  {
   "cell_type": "code",
   "execution_count": 6,
   "metadata": {
    "scrolled": false
   },
   "outputs": [
    {
     "data": {
      "application/vnd.jupyter.widget-view+json": {
       "model_id": "830c546fd2c5429fb1df1d48524acd0b",
       "version_major": 2,
       "version_minor": 0
      },
      "text/plain": [
       "HBox(children=(Output(layout=Layout(border='1px solid black', width='100%')), Output(layout=Layout(border='1px…"
      ]
     },
     "metadata": {},
     "output_type": "display_data"
    },
    {
     "data": {
      "application/vnd.jupyter.widget-view+json": {
       "model_id": "7827603614c04d29a321506cde2ebe5e",
       "version_major": 2,
       "version_minor": 0
      },
      "text/plain": [
       "VBox(children=(HBox(children=(FloatText(value=1.0, description='Contrast', layout=Layout(width='100%'), step=0…"
      ]
     },
     "metadata": {},
     "output_type": "display_data"
    }
   ],
   "source": [
    "def updateOutputWidget(widget, array, color=\"L\"):\n",
    "    f = BytesIO()\n",
    "    PIL.Image.fromarray(np.uint8(array*255), mode=color).convert(color).save(f, 'png')\n",
    "    widget.clear_output()\n",
    "    with widget:\n",
    "        display(Image(data=f.getvalue(), width='100%'))\n",
    "\n",
    "ground_truth_widget_left = widgets.Output(layout=Layout(border='1px solid black', width='100%'))\n",
    "ground_truth_widget_right = widgets.Output(layout=Layout(border='1px solid black', width='100%'))\n",
    "ground_truth_widget = HBox([ground_truth_widget_left, ground_truth_widget_right], layout=Layout(width='100%'))\n",
    "\n",
    "contrast_left = widgets.FloatText(layout={'width': '100%'},description='Contrast',disabled=False, value=1, step=0.01)\n",
    "contrast_right = widgets.FloatText(layout={'width': '100%'},description='Contrast',disabled=False, value=1, step=0.01)\n",
    "brightness_left = widgets.FloatText(layout={'width': '100%'},description='Brightness',disabled=False, value=0, step=0.01)\n",
    "brightness_right = widgets.FloatText(layout={'width': '100%'},description='Brightness',disabled=False, value=0, step=0.01)\n",
    "brightness_contrast_widget = VBox([  HBox([contrast_left, contrast_right],layout=Layout(width='100%')) ,  HBox([brightness_left, brightness_right],layout=Layout(width='100%')) ] )\n",
    "\n",
    "display(ground_truth_widget)\n",
    "display(brightness_contrast_widget)"
   ]
  },
  {
   "cell_type": "markdown",
   "metadata": {},
   "source": [
    "## Activations of convolutional layers and primary capsules layer"
   ]
  },
  {
   "cell_type": "code",
   "execution_count": 7,
   "metadata": {
    "scrolled": false
   },
   "outputs": [
    {
     "data": {
      "application/vnd.jupyter.widget-view+json": {
       "model_id": "d5ec2ad9fbe44d68bb53c578ce979cd2",
       "version_major": 2,
       "version_minor": 0
      },
      "text/plain": [
       "VBox(children=(Output(layout=Layout(width='100%')), Output(layout=Layout(width='100%')), Output(layout=Layout(…"
      ]
     },
     "metadata": {},
     "output_type": "display_data"
    }
   ],
   "source": [
    "layer1_widget = widgets.Output(layout=Layout(width='100%'))\n",
    "layer2_widget = widgets.Output(layout=Layout(width='100%'))\n",
    "layer3_widget = widgets.Output(layout=Layout(width='100%'))\n",
    "layer4_widget = widgets.Output(layout=Layout(width='100%'))\n",
    "#layer12_widget = HBox([layer1_widget, layer2_widget], layout=Layout(width='100%'))\n",
    "layer_widget = VBox([layer1_widget, layer2_widget, layer3_widget, layer4_widget], layout=Layout(width='100%'))\n",
    "display(layer_widget)\n",
    "\n",
    "\n",
    "\n",
    "def makeCombinedImage(img):\n",
    "    img = img.squeeze().unsqueeze(1)\n",
    "    return utils.make_grid(img.data, nrow=int(img.shape[0] ** 0.5), normalize=True,range=(0, 1)).cpu().numpy()\n",
    "    \n",
    "def forward(self, x, lambda_, labels=None, draw=True):\n",
    "    if x is not None:\n",
    "        x = F.relu(self.bn1(self.conv1(x)))\n",
    "\n",
    "        if draw is True:\n",
    "            grid_picture = makeCombinedImage(x)\n",
    "            updateOutputWidget(layer1_widget, grid_picture.transpose(1,2,0), \"RGB\")\n",
    "\n",
    "        #x = F.max_pool2d(x, 2, 2, 1)\n",
    "        x = F.relu(self.bn2(self.conv2(x)))\n",
    "        \n",
    "        if draw is True:\n",
    "            grid_picture = makeCombinedImage(x)\n",
    "            updateOutputWidget(layer2_widget, grid_picture.transpose(1,2,0), \"RGB\")\n",
    "        \n",
    "        x = F.relu(self.bn3(self.conv3(x)))\n",
    "        if draw is True:\n",
    "            grid_picture = makeCombinedImage(x)\n",
    "            updateOutputWidget(layer3_widget, grid_picture.transpose(1,2,0), \"RGB\")\n",
    "        \n",
    "        x = self.primary_caps(x)  # b,32*(4*4+1),12,12\n",
    "\n",
    "        if draw is True:\n",
    "            grid_picture = makeCombinedImage(x[0])\n",
    "            updateOutputWidget(layer4_widget, grid_picture.transpose(1,2,0), \"RGB\")\n",
    "            \n",
    "        x = self.convcaps1(x, lambda_)  # b,32*(4*4+1),5,5\n",
    "        x = self.convcaps2(x, lambda_)  # b,32*(4*4+1),3,3\n",
    "        p, a = self.classcaps(x, lambda_)  # b,10*16+10\n",
    "\n",
    "        p = p.squeeze()\n",
    "\n",
    "        # Temporary when batch size = 1\n",
    "        if len(p.shape) == 1:\n",
    "            p = p.unsqueeze(0)\n",
    "    else:\n",
    "        p = labels\n",
    "\n",
    "    if not self.args.disable_recon:\n",
    "        reconstructions = self.decoder(p)\n",
    "    else:\n",
    "        reconstructions = 0\n",
    "\n",
    "    return p, reconstructions"
   ]
  },
  {
   "cell_type": "markdown",
   "metadata": {},
   "source": [
    "## 4x4 pose output"
   ]
  },
  {
   "cell_type": "code",
   "execution_count": 8,
   "metadata": {
    "scrolled": false
   },
   "outputs": [
    {
     "data": {
      "application/vnd.jupyter.widget-view+json": {
       "model_id": "7770967e465044a980b8920268efab46",
       "version_major": 2,
       "version_minor": 0
      },
      "text/plain": [
       "HBox(children=(VBox(children=(HBox(children=(Output(layout=Layout(width='100%')), Output(layout=Layout(width='…"
      ]
     },
     "metadata": {},
     "output_type": "display_data"
    },
    {
     "data": {
      "application/vnd.jupyter.widget-view+json": {
       "model_id": "85d0a117598f4f649edccd271b8c154c",
       "version_major": 2,
       "version_minor": 0
      },
      "text/plain": [
       "Text(value='', description='Pose output', layout=Layout(width='100%'))"
      ]
     },
     "metadata": {},
     "output_type": "display_data"
    },
    {
     "data": {
      "application/vnd.jupyter.widget-view+json": {
       "model_id": "96e81a0c826748c2a44f7a1ab038aba5",
       "version_major": 2,
       "version_minor": 0
      },
      "text/plain": [
       "Text(value='', description='Pose label', layout=Layout(width='100%'))"
      ]
     },
     "metadata": {},
     "output_type": "display_data"
    }
   ],
   "source": [
    "truth_widget_left = widgets.Output(layout=Layout(width='100%'))\n",
    "truth_widget_right = widgets.Output(layout=Layout(width='100%'))\n",
    "recon_widget_left = widgets.Output(layout=Layout(width='100%'))\n",
    "recon_widget_right = widgets.Output(layout=Layout(width='100%'))\n",
    "truth_widget = HBox([truth_widget_left, truth_widget_right], layout=Layout(width='100%'))\n",
    "recon_widget = HBox([recon_widget_left, recon_widget_right], layout=Layout(width='100%'))\n",
    "step_widget = VBox([truth_widget, recon_widget], layout=Layout(width='100%'))\n",
    "names = ['p0', 'p1', 'p2', 'p3', 'p4', 'p5', 'p6', 'p7', 'p8', 'p9', 'p10', 'p11', 'p12', 'p13', 'p14', 'p15']\n",
    "pose_sliders = [FloatSlider(min=-100, max=100, layout={'height': '50%'}, step=0.00001, description=i, orientation='horizontal') for i in names]\n",
    "button_next = widgets.Button(description=\"Next\", layout={'height': '50%'})\n",
    "pose_sliders.append(button_next)\n",
    "sliders_widget = VBox(pose_sliders, layout=Layout(width='60%'))\n",
    "step_slider_widget = HBox([step_widget, sliders_widget],layout=Layout(width='100%'))\n",
    "pose_output = widgets.Text(layout={'width': '100%'},description='Pose output',disabled=False)\n",
    "pose_label = widgets.Text(layout={'width': '100%'},description='Pose label',disabled=False)\n",
    "the_time = time.time()\n",
    "do_update = True\n",
    "\n",
    "display(step_slider_widget)\n",
    "display(pose_output)\n",
    "display(pose_label)\n",
    "\n",
    "# Initialize Transform Network (from Pose to Quaternion)\n",
    "\"\"\"\n",
    "import sys\n",
    "import pyrr\n",
    "sys.path.append('../PoseToQuaternionNetwork/model')\n",
    "from transform import PoseToQuatNet\n",
    "transform = PoseToQuatNet()\n",
    "transform.load_state_dict(torch.load('../PoseToQuaternionNetwork/weights/model.pth'))\n",
    "transform.cpu()\n",
    "\"\"\"\n",
    "\n",
    "# Initialize view and projection for coord system rendering\n",
    "w_width, w_height = 800, 800\n",
    "focus_distance = 1.9\n",
    "view = pyrr.matrix44.create_from_translation(pyrr.Vector3([0.0, 0.0, -focus_distance])).transpose()\n",
    "projection = pyrr.matrix44.create_perspective_projection_matrix(65.0, w_width / w_height, 0.1, 100.0).transpose()\n",
    "\n",
    "def plotPoint(pnt, color_idx, img_left, img_right):\n",
    "    model_view = pyrr.matrix44.multiply(view, pnt)\n",
    "    model_projection = pyrr.matrix44.multiply(projection, model_view)\n",
    "    scaling = model_projection[3]\n",
    "    pix_x = img_left.shape[0]/2 + (model_projection[0]/scaling) * img_left.shape[0]/2\n",
    "    if pix_x >= img_left.shape[0]: pix_x = img_left.shape[0]-1\n",
    "    if pix_x < 0: pix_x = 0\n",
    "    pix_y = img_left.shape[1]/2 - (model_projection[1]/scaling) * img_left.shape[1]/2\n",
    "    if pix_y >= img_left.shape[1]: pix_y = img_left.shape[1]-1\n",
    "    if pix_y < 0: pix_y = 0\n",
    "    img_left[int(pix_y),int(pix_x),color_idx] = 1.0\n",
    "    img_right[int(pix_y),int(pix_x),color_idx] = 1.0\n",
    "\n",
    "def plotCoordSystemAxis(pose44, axis_idx, img_left, img_right):\n",
    "    pnt = pyrr.vector4.create(0.0, 0.0, 0.0, 1.0)\n",
    "    for i in range(50):\n",
    "        pnt[axis_idx] = i*0.01\n",
    "        point = pyrr.matrix44.multiply(pyrr.Matrix44(pose44), pnt) #.transpose()\n",
    "        plotPoint(point, axis_idx, img_left, img_right)\n",
    "\n",
    "pose = 0\n",
    "lambda_ = 1.0\n",
    "\n",
    "def on_value_change(change):\n",
    "    global the_time\n",
    "    global do_update\n",
    "    global pose\n",
    "    global ground_truth_labels\n",
    "    global imgs\n",
    "\n",
    "    if not do_update and change is not None:\n",
    "        return\n",
    "\n",
    "    if (time.time()-the_time) < 0.2:\n",
    "        return\n",
    "    the_time = time.time()\n",
    "    \n",
    "    for i in range(len(pose_sliders)-1):\n",
    "        pose[:,i] = pose_sliders[i].value\n",
    "    \n",
    "    p, reconstruction = forward(self, None, None, labels=pose)\n",
    "\n",
    "    imgs_sliced = imgs[:,[0,3],...]\n",
    "    reconstruction = reconstruction.view_as(imgs_sliced)\n",
    "\n",
    "    recon_left = reconstruction.data[:,0,:,:].squeeze().cpu().numpy()\n",
    "    recon_right = reconstruction.data[:,1,:,:].squeeze().cpu().numpy()\n",
    "\n",
    "    #vec7 = transform.forward(pose)\n",
    "    #quat = reff[0,3:]\n",
    "    #mat44 = pyrr.Matrix44.from_quaternion(quat)\n",
    "    #mat44[3,:][0:3] = reff[0,:3]\n",
    "    #print(mat44)\n",
    "    #kaj = mat44.reshape(-1)\n",
    "    #print(kaj)\n",
    "    #print(kaj.shape)\n",
    "    \n",
    "    mat44 = util.matAffine_from_matMinRep(pose.data)\n",
    "\n",
    "    recon_left = np.concatenate((recon_left[:,:,None],recon_left[:,:,None],recon_left[:,:,None]), axis=2)\n",
    "    recon_right = np.concatenate((recon_right[:,:,None],recon_right[:,:,None],recon_right[:,:,None]), axis=2)\n",
    "\n",
    "    plotCoordSystemAxis(mat44, 0, recon_left, recon_right)\n",
    "    plotCoordSystemAxis(mat44, 1, recon_left, recon_right)\n",
    "    plotCoordSystemAxis(mat44, 2, recon_left, recon_right)\n",
    "\n",
    "    updateOutputWidget(recon_widget_left, recon_left, \"RGB\")\n",
    "    updateOutputWidget(recon_widget_right, recon_right, \"RGB\")\n",
    "        \n",
    "def showDataImage(next_data, steps=0):\n",
    "    global ground_truth_labels\n",
    "    global imgs\n",
    "    global do_update\n",
    "    global ground_truth_widget\n",
    "    global pose\n",
    "    do_update = False\n",
    "    \n",
    "    image = util.split_in_channels(next_data[0])\n",
    "    \n",
    "    ground_truth_labels = next_data[1]\n",
    "    imgs = Variable(torch.from_numpy(image)).cpu()\n",
    "    pose, reco = forward(self, imgs, lambda_, draw=True)\n",
    "    \n",
    "    pose_label.value = \"\"\n",
    "    for i in range(7):\n",
    "        pose_label.value += str(ground_truth_labels.float().numpy()[0,i]) + \", \"\n",
    "\n",
    "    #pose_transformed = transform.forward(pose)\n",
    "    pose_output.value = \"\"\n",
    "    for i in range(9):\n",
    "        pose_output.value += str(pose.data.cpu().numpy()[0,i]) + \", \"\n",
    "    \n",
    "    #pose_label.value = str(ground_truth_labels.float().numpy()[0,:])\n",
    "    #pose_output.value = str(transform.forward(p).data.cpu().numpy()[0,:])\n",
    "\n",
    "    img_conv_left = util.applyBrightnessAndContrast(imgs[0,0,:,:].squeeze().numpy(), brightness_left.value, contrast_left.value)\n",
    "    img_conv_right = util.applyBrightnessAndContrast(imgs[0,1,:,:].squeeze().numpy(), brightness_right.value, contrast_right.value)\n",
    "        \n",
    "    updateOutputWidget(ground_truth_widget_left, img_conv_left)\n",
    "    updateOutputWidget(ground_truth_widget_right, img_conv_right)\n",
    "    \n",
    "    updateOutputWidget(truth_widget_left, imgs[0,0,:,:].squeeze().numpy())\n",
    "    updateOutputWidget(truth_widget_right, imgs[0,1,:,:].squeeze().numpy())\n",
    "\n",
    "    if steps == 0:\n",
    "        for i in range(len(pose_sliders)-1):\n",
    "            pose_sliders[i].max = pose[:,i]\n",
    "            pose_sliders[i].min = pose[:,i]\n",
    "    else:\n",
    "        old = []\n",
    "        for i in range(len(pose_sliders)-1):\n",
    "            old.append(pose_sliders[i].value)\n",
    "            if pose[:,i] > pose_sliders[i].max:\n",
    "                pose_sliders[i].max = pose[:,i]\n",
    "            elif pose[:,i] < pose_sliders[i].min:\n",
    "                pose_sliders[i].min = pose[:,i]\n",
    "\n",
    "        delta = pose[0,:].data.cpu().numpy() - old\n",
    "        delta /= steps\n",
    "\n",
    "        for steps in range(steps):\n",
    "            for i in range(len(pose_sliders)-1):\n",
    "                pose_sliders[i].value += delta[i]\n",
    "            on_value_change(None)\n",
    "            time.sleep(0.5)\n",
    "            \n",
    "    for i in range(len(pose_sliders)-1):\n",
    "        pose_sliders[i].value = pose[:,i]\n",
    "    on_value_change(None)\n",
    "    do_update = True\n",
    "\n",
    "train_dataset = util.MyImageFolder(root='../../../data/dumps/', transform=transforms.ToTensor(), target_transform=transforms.ToTensor())\n",
    "train_loader = torch.utils.data.DataLoader(dataset=train_dataset,batch_size=args.batch_size,num_workers=args.num_workers,shuffle=False)\n",
    "data_iter = iter(train_loader)\n",
    "\n",
    "def on_next_button_clicked(b):\n",
    "    next_data = next(data_iter)\n",
    "    showDataImage(next_data, steps=5)\n",
    "\n",
    "button_next.on_click(on_next_button_clicked)\n",
    "\n",
    "next_data = next(data_iter)\n",
    "showDataImage(next_data, steps=0)\n",
    "\n",
    "for i in range(len(pose_sliders)):\n",
    "    pose_sliders[i].observe(on_value_change)"
   ]
  },
  {
   "cell_type": "code",
   "execution_count": null,
   "metadata": {},
   "outputs": [],
   "source": []
  }
 ],
 "metadata": {
  "kernelspec": {
   "display_name": "Python 3",
   "language": "python",
   "name": "python3"
  },
  "language_info": {
   "codemirror_mode": {
    "name": "ipython",
    "version": 3
   },
   "file_extension": ".py",
   "mimetype": "text/x-python",
   "name": "python",
   "nbconvert_exporter": "python",
   "pygments_lexer": "ipython3",
   "version": "3.6.5"
  },
  "widgets": {
   "application/vnd.jupyter.widget-state+json": {
    "state": {
     "02a95245f28f48e69eda3fb3bd438d67": {
      "model_module_version": "^2.1.4",
      "state": {
       "value": "<table style=\"width:100%\">\n                <thead>\n                    <tr>\n                        <th colspan=\"2\">\n                        Could not create model:\n                        </th>\n                    </tr>\n                </thead>\n                <tbody>\n                    <tr>\n                        <td>Model name</td>\n                        <td> undefined </td>\n                    </tr>\n                    <tr>\n                        <td>Model module</td>\n                        <td> undefined </td>\n                    </tr>\n                    <tr>\n                        <td>Model module version</td>\n                        <td> undefined </td>\n                    </tr>\n                <tbody>\n                <tfoot>\n                    <tr>\n                        <th colspan=\"2\">\n                        Class undefined not found in registry \n                        </th>\n                    </tr>\n                </tfoot>\n                </table>"
      }
     },
     "086adac005c04b4190a432ca55b65c08": {
      "model_module_version": "^2.1.4",
      "state": {
       "children": [
        "IPY_MODEL_5ddce768a0cd44fcb6a02f55d97511c0",
        "IPY_MODEL_7b2a75f21e23408ba72e5f04d40c4ae0"
       ],
       "value": "<table style=\"width:100%\">\n                <thead>\n                    <tr>\n                        <th colspan=\"2\">\n                        Could not create model:\n                        </th>\n                    </tr>\n                </thead>\n                <tbody>\n                    <tr>\n                        <td>Model name</td>\n                        <td> undefined </td>\n                    </tr>\n                    <tr>\n                        <td>Model module</td>\n                        <td> undefined </td>\n                    </tr>\n                    <tr>\n                        <td>Model module version</td>\n                        <td> undefined </td>\n                    </tr>\n                <tbody>\n                <tfoot>\n                    <tr>\n                        <th colspan=\"2\">\n                        Class undefined not found in registry \n                        </th>\n                    </tr>\n                </tfoot>\n                </table>"
      }
     },
     "09a94446cf9d4aaea5de8fee2478bfe3": {
      "model_module_version": "^2.1.4",
      "state": {
       "value": "<table style=\"width:100%\">\n                <thead>\n                    <tr>\n                        <th colspan=\"2\">\n                        Could not create model:\n                        </th>\n                    </tr>\n                </thead>\n                <tbody>\n                    <tr>\n                        <td>Model name</td>\n                        <td> undefined </td>\n                    </tr>\n                    <tr>\n                        <td>Model module</td>\n                        <td> undefined </td>\n                    </tr>\n                    <tr>\n                        <td>Model module version</td>\n                        <td> undefined </td>\n                    </tr>\n                <tbody>\n                <tfoot>\n                    <tr>\n                        <th colspan=\"2\">\n                        Class undefined not found in registry \n                        </th>\n                    </tr>\n                </tfoot>\n                </table>"
      }
     },
     "0a266fd5169140bab25a3a38a8f50fb1": {
      "model_module_version": "^2.1.4",
      "state": {
       "children": [
        "IPY_MODEL_bc40a99774e645d6a95f8c5424ed326e",
        "IPY_MODEL_43698cd83e434735970d098c0c18c682"
       ],
       "value": "<table style=\"width:100%\">\n                <thead>\n                    <tr>\n                        <th colspan=\"2\">\n                        Could not create model:\n                        </th>\n                    </tr>\n                </thead>\n                <tbody>\n                    <tr>\n                        <td>Model name</td>\n                        <td> undefined </td>\n                    </tr>\n                    <tr>\n                        <td>Model module</td>\n                        <td> undefined </td>\n                    </tr>\n                    <tr>\n                        <td>Model module version</td>\n                        <td> undefined </td>\n                    </tr>\n                <tbody>\n                <tfoot>\n                    <tr>\n                        <th colspan=\"2\">\n                        Class undefined not found in registry \n                        </th>\n                    </tr>\n                </tfoot>\n                </table>"
      }
     },
     "0bb041ed3f25401da46f4d3b1b84bedd": {
      "model_module_version": "^2.1.4",
      "state": {
       "msg_id": "",
       "value": "<table style=\"width:100%\">\n                <thead>\n                    <tr>\n                        <th colspan=\"2\">\n                        Could not create model:\n                        </th>\n                    </tr>\n                </thead>\n                <tbody>\n                    <tr>\n                        <td>Model name</td>\n                        <td> undefined </td>\n                    </tr>\n                    <tr>\n                        <td>Model module</td>\n                        <td> undefined </td>\n                    </tr>\n                    <tr>\n                        <td>Model module version</td>\n                        <td> undefined </td>\n                    </tr>\n                <tbody>\n                <tfoot>\n                    <tr>\n                        <th colspan=\"2\">\n                        Class undefined not found in registry \n                        </th>\n                    </tr>\n                </tfoot>\n                </table>"
      }
     },
     "0c491954f101426f8a6d2c2c8f117c65": {
      "model_module_version": "^2.1.4",
      "state": {
       "children": [
        "IPY_MODEL_e8c41950a9d349d2a093b110f66cbb72",
        "IPY_MODEL_b74b2bb279ff49c9a7b8384e115dda91"
       ],
       "value": "<table style=\"width:100%\">\n                <thead>\n                    <tr>\n                        <th colspan=\"2\">\n                        Could not create model:\n                        </th>\n                    </tr>\n                </thead>\n                <tbody>\n                    <tr>\n                        <td>Model name</td>\n                        <td> undefined </td>\n                    </tr>\n                    <tr>\n                        <td>Model module</td>\n                        <td> undefined </td>\n                    </tr>\n                    <tr>\n                        <td>Model module version</td>\n                        <td> undefined </td>\n                    </tr>\n                <tbody>\n                <tfoot>\n                    <tr>\n                        <th colspan=\"2\">\n                        Class undefined not found in registry \n                        </th>\n                    </tr>\n                </tfoot>\n                </table>"
      }
     },
     "0d0f207a9beb4bbc8342dfdfde8abfd1": {
      "model_module_version": "^2.1.4",
      "state": {
       "msg_id": "",
       "value": "<table style=\"width:100%\">\n                <thead>\n                    <tr>\n                        <th colspan=\"2\">\n                        Could not create model:\n                        </th>\n                    </tr>\n                </thead>\n                <tbody>\n                    <tr>\n                        <td>Model name</td>\n                        <td> undefined </td>\n                    </tr>\n                    <tr>\n                        <td>Model module</td>\n                        <td> undefined </td>\n                    </tr>\n                    <tr>\n                        <td>Model module version</td>\n                        <td> undefined </td>\n                    </tr>\n                <tbody>\n                <tfoot>\n                    <tr>\n                        <th colspan=\"2\">\n                        Class undefined not found in registry \n                        </th>\n                    </tr>\n                </tfoot>\n                </table>"
      }
     },
     "17ce0b15ae7f4e07bb389acdb95723a9": {
      "model_module_version": "^2.1.4",
      "state": {
       "children": [
        "IPY_MODEL_98eb087ff1554f3983db53fa15fe205e",
        "IPY_MODEL_2cb31d41b01c41cab49231e6bbcef9a5"
       ],
       "value": "<table style=\"width:100%\">\n                <thead>\n                    <tr>\n                        <th colspan=\"2\">\n                        Could not create model:\n                        </th>\n                    </tr>\n                </thead>\n                <tbody>\n                    <tr>\n                        <td>Model name</td>\n                        <td> undefined </td>\n                    </tr>\n                    <tr>\n                        <td>Model module</td>\n                        <td> undefined </td>\n                    </tr>\n                    <tr>\n                        <td>Model module version</td>\n                        <td> undefined </td>\n                    </tr>\n                <tbody>\n                <tfoot>\n                    <tr>\n                        <th colspan=\"2\">\n                        Class undefined not found in registry \n                        </th>\n                    </tr>\n                </tfoot>\n                </table>"
      }
     },
     "18fbf107d608491b8631570d892bc11c": {
      "model_module_version": "^2.1.4",
      "state": {
       "value": "<table style=\"width:100%\">\n                <thead>\n                    <tr>\n                        <th colspan=\"2\">\n                        Could not create model:\n                        </th>\n                    </tr>\n                </thead>\n                <tbody>\n                    <tr>\n                        <td>Model name</td>\n                        <td> undefined </td>\n                    </tr>\n                    <tr>\n                        <td>Model module</td>\n                        <td> undefined </td>\n                    </tr>\n                    <tr>\n                        <td>Model module version</td>\n                        <td> undefined </td>\n                    </tr>\n                <tbody>\n                <tfoot>\n                    <tr>\n                        <th colspan=\"2\">\n                        Class undefined not found in registry \n                        </th>\n                    </tr>\n                </tfoot>\n                </table>"
      }
     },
     "1a1f8a848b0344be8b0ccf93d1d2026c": {
      "model_module_version": "^2.1.4",
      "state": {
       "value": "<table style=\"width:100%\">\n                <thead>\n                    <tr>\n                        <th colspan=\"2\">\n                        Could not create model:\n                        </th>\n                    </tr>\n                </thead>\n                <tbody>\n                    <tr>\n                        <td>Model name</td>\n                        <td> undefined </td>\n                    </tr>\n                    <tr>\n                        <td>Model module</td>\n                        <td> undefined </td>\n                    </tr>\n                    <tr>\n                        <td>Model module version</td>\n                        <td> undefined </td>\n                    </tr>\n                <tbody>\n                <tfoot>\n                    <tr>\n                        <th colspan=\"2\">\n                        Class undefined not found in registry \n                        </th>\n                    </tr>\n                </tfoot>\n                </table>"
      }
     },
     "1a3f3f985d584928bc8d0c7ab6f70f2e": {
      "model_module_version": "^2.1.4",
      "state": {
       "value": "<table style=\"width:100%\">\n                <thead>\n                    <tr>\n                        <th colspan=\"2\">\n                        Could not create model:\n                        </th>\n                    </tr>\n                </thead>\n                <tbody>\n                    <tr>\n                        <td>Model name</td>\n                        <td> undefined </td>\n                    </tr>\n                    <tr>\n                        <td>Model module</td>\n                        <td> undefined </td>\n                    </tr>\n                    <tr>\n                        <td>Model module version</td>\n                        <td> undefined </td>\n                    </tr>\n                <tbody>\n                <tfoot>\n                    <tr>\n                        <th colspan=\"2\">\n                        Class undefined not found in registry \n                        </th>\n                    </tr>\n                </tfoot>\n                </table>"
      }
     },
     "1cd36f848c6a4887b49476cedbf3d552": {
      "model_module_version": "^2.1.4",
      "state": {
       "value": "<table style=\"width:100%\">\n                <thead>\n                    <tr>\n                        <th colspan=\"2\">\n                        Could not create model:\n                        </th>\n                    </tr>\n                </thead>\n                <tbody>\n                    <tr>\n                        <td>Model name</td>\n                        <td> undefined </td>\n                    </tr>\n                    <tr>\n                        <td>Model module</td>\n                        <td> undefined </td>\n                    </tr>\n                    <tr>\n                        <td>Model module version</td>\n                        <td> undefined </td>\n                    </tr>\n                <tbody>\n                <tfoot>\n                    <tr>\n                        <th colspan=\"2\">\n                        Class undefined not found in registry \n                        </th>\n                    </tr>\n                </tfoot>\n                </table>"
      }
     },
     "1e92dc6d2e6a4746ae2cd05ab57165ec": {
      "model_module_version": "^2.1.4",
      "state": {
       "description": "x",
       "value": "<table style=\"width:100%\">\n                <thead>\n                    <tr>\n                        <th colspan=\"2\">\n                        Could not create model:\n                        </th>\n                    </tr>\n                </thead>\n                <tbody>\n                    <tr>\n                        <td>Model name</td>\n                        <td> undefined </td>\n                    </tr>\n                    <tr>\n                        <td>Model module</td>\n                        <td> undefined </td>\n                    </tr>\n                    <tr>\n                        <td>Model module version</td>\n                        <td> undefined </td>\n                    </tr>\n                <tbody>\n                <tfoot>\n                    <tr>\n                        <th colspan=\"2\">\n                        Class undefined not found in registry \n                        </th>\n                    </tr>\n                </tfoot>\n                </table>"
      }
     },
     "28fc64f255dc4af98ea2e4f433a7e659": {
      "model_module_version": "^2.1.4",
      "state": {
       "children": [
        "IPY_MODEL_d00724d28f834c4991169f92b8e447cb",
        "IPY_MODEL_b5c4b56ba9cd45e1bdca6530cc78c9e1"
       ],
       "value": "<table style=\"width:100%\">\n                <thead>\n                    <tr>\n                        <th colspan=\"2\">\n                        Could not create model:\n                        </th>\n                    </tr>\n                </thead>\n                <tbody>\n                    <tr>\n                        <td>Model name</td>\n                        <td> undefined </td>\n                    </tr>\n                    <tr>\n                        <td>Model module</td>\n                        <td> undefined </td>\n                    </tr>\n                    <tr>\n                        <td>Model module version</td>\n                        <td> undefined </td>\n                    </tr>\n                <tbody>\n                <tfoot>\n                    <tr>\n                        <th colspan=\"2\">\n                        Class undefined not found in registry \n                        </th>\n                    </tr>\n                </tfoot>\n                </table>"
      }
     },
     "2a48c6cde59541fe8760420e54905bb8": {
      "model_module_version": "^2.1.4",
      "state": {
       "value": "<table style=\"width:100%\">\n                <thead>\n                    <tr>\n                        <th colspan=\"2\">\n                        Could not create model:\n                        </th>\n                    </tr>\n                </thead>\n                <tbody>\n                    <tr>\n                        <td>Model name</td>\n                        <td> undefined </td>\n                    </tr>\n                    <tr>\n                        <td>Model module</td>\n                        <td> undefined </td>\n                    </tr>\n                    <tr>\n                        <td>Model module version</td>\n                        <td> undefined </td>\n                    </tr>\n                <tbody>\n                <tfoot>\n                    <tr>\n                        <th colspan=\"2\">\n                        Class undefined not found in registry \n                        </th>\n                    </tr>\n                </tfoot>\n                </table>"
      }
     },
     "2a9914efad9b4709b512186b35fca807": {
      "model_module_version": "^2.1.4",
      "state": {
       "value": "<table style=\"width:100%\">\n                <thead>\n                    <tr>\n                        <th colspan=\"2\">\n                        Could not create model:\n                        </th>\n                    </tr>\n                </thead>\n                <tbody>\n                    <tr>\n                        <td>Model name</td>\n                        <td> undefined </td>\n                    </tr>\n                    <tr>\n                        <td>Model module</td>\n                        <td> undefined </td>\n                    </tr>\n                    <tr>\n                        <td>Model module version</td>\n                        <td> undefined </td>\n                    </tr>\n                <tbody>\n                <tfoot>\n                    <tr>\n                        <th colspan=\"2\">\n                        Class undefined not found in registry \n                        </th>\n                    </tr>\n                </tfoot>\n                </table>"
      }
     },
     "2b61a2efed51453ba7d9b61640e3257b": {
      "model_module_version": "^2.1.4",
      "state": {
       "children": [
        "IPY_MODEL_ca7fc7414df744c1a12a80afcd929124",
        "IPY_MODEL_892d3ae0c7194bf880319e259ecc2978"
       ],
       "value": "<table style=\"width:100%\">\n                <thead>\n                    <tr>\n                        <th colspan=\"2\">\n                        Could not create model:\n                        </th>\n                    </tr>\n                </thead>\n                <tbody>\n                    <tr>\n                        <td>Model name</td>\n                        <td> undefined </td>\n                    </tr>\n                    <tr>\n                        <td>Model module</td>\n                        <td> undefined </td>\n                    </tr>\n                    <tr>\n                        <td>Model module version</td>\n                        <td> undefined </td>\n                    </tr>\n                <tbody>\n                <tfoot>\n                    <tr>\n                        <th colspan=\"2\">\n                        Class undefined not found in registry \n                        </th>\n                    </tr>\n                </tfoot>\n                </table>"
      }
     },
     "2cb31d41b01c41cab49231e6bbcef9a5": {
      "model_module_version": "^2.1.4",
      "state": {
       "msg_id": "",
       "value": "<table style=\"width:100%\">\n                <thead>\n                    <tr>\n                        <th colspan=\"2\">\n                        Could not create model:\n                        </th>\n                    </tr>\n                </thead>\n                <tbody>\n                    <tr>\n                        <td>Model name</td>\n                        <td> undefined </td>\n                    </tr>\n                    <tr>\n                        <td>Model module</td>\n                        <td> undefined </td>\n                    </tr>\n                    <tr>\n                        <td>Model module version</td>\n                        <td> undefined </td>\n                    </tr>\n                <tbody>\n                <tfoot>\n                    <tr>\n                        <th colspan=\"2\">\n                        Class undefined not found in registry \n                        </th>\n                    </tr>\n                </tfoot>\n                </table>"
      }
     },
     "2f4edba5b47e4d5590df1386c754fd88": {
      "model_module_version": "^2.1.4",
      "state": {
       "value": "<table style=\"width:100%\">\n                <thead>\n                    <tr>\n                        <th colspan=\"2\">\n                        Could not create model:\n                        </th>\n                    </tr>\n                </thead>\n                <tbody>\n                    <tr>\n                        <td>Model name</td>\n                        <td> undefined </td>\n                    </tr>\n                    <tr>\n                        <td>Model module</td>\n                        <td> undefined </td>\n                    </tr>\n                    <tr>\n                        <td>Model module version</td>\n                        <td> undefined </td>\n                    </tr>\n                <tbody>\n                <tfoot>\n                    <tr>\n                        <th colspan=\"2\">\n                        Class undefined not found in registry \n                        </th>\n                    </tr>\n                </tfoot>\n                </table>"
      }
     },
     "32e0e6999b084991bcd84438c81ff67f": {
      "model_module_version": "^2.1.4",
      "state": {
       "value": "<table style=\"width:100%\">\n                <thead>\n                    <tr>\n                        <th colspan=\"2\">\n                        Could not create model:\n                        </th>\n                    </tr>\n                </thead>\n                <tbody>\n                    <tr>\n                        <td>Model name</td>\n                        <td> undefined </td>\n                    </tr>\n                    <tr>\n                        <td>Model module</td>\n                        <td> undefined </td>\n                    </tr>\n                    <tr>\n                        <td>Model module version</td>\n                        <td> undefined </td>\n                    </tr>\n                <tbody>\n                <tfoot>\n                    <tr>\n                        <th colspan=\"2\">\n                        Class undefined not found in registry \n                        </th>\n                    </tr>\n                </tfoot>\n                </table>"
      }
     },
     "3ac7a342207a410888cc1bde2c42f286": {
      "model_module_version": "^2.1.4",
      "state": {
       "value": "<table style=\"width:100%\">\n                <thead>\n                    <tr>\n                        <th colspan=\"2\">\n                        Could not create model:\n                        </th>\n                    </tr>\n                </thead>\n                <tbody>\n                    <tr>\n                        <td>Model name</td>\n                        <td> undefined </td>\n                    </tr>\n                    <tr>\n                        <td>Model module</td>\n                        <td> undefined </td>\n                    </tr>\n                    <tr>\n                        <td>Model module version</td>\n                        <td> undefined </td>\n                    </tr>\n                <tbody>\n                <tfoot>\n                    <tr>\n                        <th colspan=\"2\">\n                        Class undefined not found in registry \n                        </th>\n                    </tr>\n                </tfoot>\n                </table>"
      }
     },
     "3c2f6371fb9d4ef8963013d7ec752f1a": {
      "model_module": "jupyter-js-widgets",
      "model_module_version": "~2.1.4",
      "model_name": "LayoutModel",
      "state": {
       "_model_module_version": "~2.1.4",
       "_view_module_version": "~2.1.4"
      }
     },
     "4085225553f745b5a56321cf316c733e": {
      "model_module": "jupyter-js-widgets",
      "model_module_version": "~2.1.4",
      "model_name": "SliderStyleModel",
      "state": {
       "_model_module_version": "~2.1.4",
       "_view_module_version": "~2.1.4"
      }
     },
     "40dd2c2fbf0d41babb963d45187381e3": {
      "model_module_version": "^2.1.4",
      "state": {
       "value": "<table style=\"width:100%\">\n                <thead>\n                    <tr>\n                        <th colspan=\"2\">\n                        Could not create model:\n                        </th>\n                    </tr>\n                </thead>\n                <tbody>\n                    <tr>\n                        <td>Model name</td>\n                        <td> undefined </td>\n                    </tr>\n                    <tr>\n                        <td>Model module</td>\n                        <td> undefined </td>\n                    </tr>\n                    <tr>\n                        <td>Model module version</td>\n                        <td> undefined </td>\n                    </tr>\n                <tbody>\n                <tfoot>\n                    <tr>\n                        <th colspan=\"2\">\n                        Class undefined not found in registry \n                        </th>\n                    </tr>\n                </tfoot>\n                </table>"
      }
     },
     "43698cd83e434735970d098c0c18c682": {
      "model_module_version": "^2.1.4",
      "state": {
       "msg_id": "",
       "value": "<table style=\"width:100%\">\n                <thead>\n                    <tr>\n                        <th colspan=\"2\">\n                        Could not create model:\n                        </th>\n                    </tr>\n                </thead>\n                <tbody>\n                    <tr>\n                        <td>Model name</td>\n                        <td> undefined </td>\n                    </tr>\n                    <tr>\n                        <td>Model module</td>\n                        <td> undefined </td>\n                    </tr>\n                    <tr>\n                        <td>Model module version</td>\n                        <td> undefined </td>\n                    </tr>\n                <tbody>\n                <tfoot>\n                    <tr>\n                        <th colspan=\"2\">\n                        Class undefined not found in registry \n                        </th>\n                    </tr>\n                </tfoot>\n                </table>"
      }
     },
     "4516a929146f4c6aba450499be5a6bae": {
      "model_module_version": "^2.1.4",
      "state": {
       "children": [
        "IPY_MODEL_1e92dc6d2e6a4746ae2cd05ab57165ec",
        "IPY_MODEL_0d0f207a9beb4bbc8342dfdfde8abfd1"
       ],
       "value": "<table style=\"width:100%\">\n                <thead>\n                    <tr>\n                        <th colspan=\"2\">\n                        Could not create model:\n                        </th>\n                    </tr>\n                </thead>\n                <tbody>\n                    <tr>\n                        <td>Model name</td>\n                        <td> undefined </td>\n                    </tr>\n                    <tr>\n                        <td>Model module</td>\n                        <td> undefined </td>\n                    </tr>\n                    <tr>\n                        <td>Model module version</td>\n                        <td> undefined </td>\n                    </tr>\n                <tbody>\n                <tfoot>\n                    <tr>\n                        <th colspan=\"2\">\n                        Class undefined not found in registry \n                        </th>\n                    </tr>\n                </tfoot>\n                </table>"
      }
     },
     "46c3f00a4866401bb7d7dd886668baeb": {
      "model_module_version": "^2.1.4",
      "state": {
       "msg_id": "",
       "value": "<table style=\"width:100%\">\n                <thead>\n                    <tr>\n                        <th colspan=\"2\">\n                        Could not create model:\n                        </th>\n                    </tr>\n                </thead>\n                <tbody>\n                    <tr>\n                        <td>Model name</td>\n                        <td> undefined </td>\n                    </tr>\n                    <tr>\n                        <td>Model module</td>\n                        <td> undefined </td>\n                    </tr>\n                    <tr>\n                        <td>Model module version</td>\n                        <td> undefined </td>\n                    </tr>\n                <tbody>\n                <tfoot>\n                    <tr>\n                        <th colspan=\"2\">\n                        Class undefined not found in registry \n                        </th>\n                    </tr>\n                </tfoot>\n                </table>"
      }
     },
     "49aa40dd11114ddabb68be1d01d1e41d": {
      "model_module_version": "^2.1.4",
      "state": {
       "value": "<table style=\"width:100%\">\n                <thead>\n                    <tr>\n                        <th colspan=\"2\">\n                        Could not create model:\n                        </th>\n                    </tr>\n                </thead>\n                <tbody>\n                    <tr>\n                        <td>Model name</td>\n                        <td> undefined </td>\n                    </tr>\n                    <tr>\n                        <td>Model module</td>\n                        <td> undefined </td>\n                    </tr>\n                    <tr>\n                        <td>Model module version</td>\n                        <td> undefined </td>\n                    </tr>\n                <tbody>\n                <tfoot>\n                    <tr>\n                        <th colspan=\"2\">\n                        Class undefined not found in registry \n                        </th>\n                    </tr>\n                </tfoot>\n                </table>"
      }
     },
     "4a96e2d67ee54a41a257d81719387929": {
      "model_module_version": "^2.1.4",
      "state": {
       "msg_id": "",
       "value": "<table style=\"width:100%\">\n                <thead>\n                    <tr>\n                        <th colspan=\"2\">\n                        Could not create model:\n                        </th>\n                    </tr>\n                </thead>\n                <tbody>\n                    <tr>\n                        <td>Model name</td>\n                        <td> undefined </td>\n                    </tr>\n                    <tr>\n                        <td>Model module</td>\n                        <td> undefined </td>\n                    </tr>\n                    <tr>\n                        <td>Model module version</td>\n                        <td> undefined </td>\n                    </tr>\n                <tbody>\n                <tfoot>\n                    <tr>\n                        <th colspan=\"2\">\n                        Class undefined not found in registry \n                        </th>\n                    </tr>\n                </tfoot>\n                </table>"
      }
     },
     "501729002a44409ba89f0ce4598c4615": {
      "model_module_version": "^2.1.4",
      "state": {
       "value": "<table style=\"width:100%\">\n                <thead>\n                    <tr>\n                        <th colspan=\"2\">\n                        Could not create model:\n                        </th>\n                    </tr>\n                </thead>\n                <tbody>\n                    <tr>\n                        <td>Model name</td>\n                        <td> undefined </td>\n                    </tr>\n                    <tr>\n                        <td>Model module</td>\n                        <td> undefined </td>\n                    </tr>\n                    <tr>\n                        <td>Model module version</td>\n                        <td> undefined </td>\n                    </tr>\n                <tbody>\n                <tfoot>\n                    <tr>\n                        <th colspan=\"2\">\n                        Class undefined not found in registry \n                        </th>\n                    </tr>\n                </tfoot>\n                </table>"
      }
     },
     "55c4545c3cf9416ca5f9b6468f70a6ea": {
      "model_module_version": "^2.1.4",
      "state": {
       "value": "<table style=\"width:100%\">\n                <thead>\n                    <tr>\n                        <th colspan=\"2\">\n                        Could not create model:\n                        </th>\n                    </tr>\n                </thead>\n                <tbody>\n                    <tr>\n                        <td>Model name</td>\n                        <td> undefined </td>\n                    </tr>\n                    <tr>\n                        <td>Model module</td>\n                        <td> undefined </td>\n                    </tr>\n                    <tr>\n                        <td>Model module version</td>\n                        <td> undefined </td>\n                    </tr>\n                <tbody>\n                <tfoot>\n                    <tr>\n                        <th colspan=\"2\">\n                        Class undefined not found in registry \n                        </th>\n                    </tr>\n                </tfoot>\n                </table>"
      }
     },
     "5754386e4c0348748bd72a39c98e3513": {
      "model_module_version": "^2.1.4",
      "state": {
       "value": "<table style=\"width:100%\">\n                <thead>\n                    <tr>\n                        <th colspan=\"2\">\n                        Could not create model:\n                        </th>\n                    </tr>\n                </thead>\n                <tbody>\n                    <tr>\n                        <td>Model name</td>\n                        <td> undefined </td>\n                    </tr>\n                    <tr>\n                        <td>Model module</td>\n                        <td> undefined </td>\n                    </tr>\n                    <tr>\n                        <td>Model module version</td>\n                        <td> undefined </td>\n                    </tr>\n                <tbody>\n                <tfoot>\n                    <tr>\n                        <th colspan=\"2\">\n                        Class undefined not found in registry \n                        </th>\n                    </tr>\n                </tfoot>\n                </table>"
      }
     },
     "5d5b28b089e242db97c0fb1fbdd63320": {
      "model_module_version": "^2.1.4",
      "state": {
       "value": "<table style=\"width:100%\">\n                <thead>\n                    <tr>\n                        <th colspan=\"2\">\n                        Could not create model:\n                        </th>\n                    </tr>\n                </thead>\n                <tbody>\n                    <tr>\n                        <td>Model name</td>\n                        <td> undefined </td>\n                    </tr>\n                    <tr>\n                        <td>Model module</td>\n                        <td> undefined </td>\n                    </tr>\n                    <tr>\n                        <td>Model module version</td>\n                        <td> undefined </td>\n                    </tr>\n                <tbody>\n                <tfoot>\n                    <tr>\n                        <th colspan=\"2\">\n                        Class undefined not found in registry \n                        </th>\n                    </tr>\n                </tfoot>\n                </table>"
      }
     },
     "5ddce768a0cd44fcb6a02f55d97511c0": {
      "model_module_version": "^2.1.4",
      "state": {
       "description": "x",
       "value": "<table style=\"width:100%\">\n                <thead>\n                    <tr>\n                        <th colspan=\"2\">\n                        Could not create model:\n                        </th>\n                    </tr>\n                </thead>\n                <tbody>\n                    <tr>\n                        <td>Model name</td>\n                        <td> undefined </td>\n                    </tr>\n                    <tr>\n                        <td>Model module</td>\n                        <td> undefined </td>\n                    </tr>\n                    <tr>\n                        <td>Model module version</td>\n                        <td> undefined </td>\n                    </tr>\n                <tbody>\n                <tfoot>\n                    <tr>\n                        <th colspan=\"2\">\n                        Class undefined not found in registry \n                        </th>\n                    </tr>\n                </tfoot>\n                </table>"
      }
     },
     "5ef172040b89471c852363eeffcd40ad": {
      "model_module": "jupyter-js-widgets",
      "model_module_version": "~2.1.4",
      "model_name": "OutputModel",
      "state": {
       "_dom_classes": [],
       "_model_module": "jupyter-js-widgets",
       "_model_module_version": "~2.1.4",
       "_view_module": "jupyter-js-widgets",
       "_view_module_version": "~2.1.4",
       "layout": "IPY_MODEL_61d17c7ab05d49ad917fe0ad9a2f5082",
       "msg_throttle": 1
      }
     },
     "61d17c7ab05d49ad917fe0ad9a2f5082": {
      "model_module": "jupyter-js-widgets",
      "model_module_version": "~2.1.4",
      "model_name": "LayoutModel",
      "state": {
       "_model_module_version": "~2.1.4",
       "_view_module_version": "~2.1.4"
      }
     },
     "621171c6d3824e1aa20b00a470355ba1": {
      "model_module_version": "^2.1.4",
      "state": {
       "value": "<table style=\"width:100%\">\n                <thead>\n                    <tr>\n                        <th colspan=\"2\">\n                        Could not create model:\n                        </th>\n                    </tr>\n                </thead>\n                <tbody>\n                    <tr>\n                        <td>Model name</td>\n                        <td> undefined </td>\n                    </tr>\n                    <tr>\n                        <td>Model module</td>\n                        <td> undefined </td>\n                    </tr>\n                    <tr>\n                        <td>Model module version</td>\n                        <td> undefined </td>\n                    </tr>\n                <tbody>\n                <tfoot>\n                    <tr>\n                        <th colspan=\"2\">\n                        Class undefined not found in registry \n                        </th>\n                    </tr>\n                </tfoot>\n                </table>"
      }
     },
     "68b9424e93a54f97b286548081d65a10": {
      "model_module_version": "^2.1.4",
      "state": {
       "value": "<table style=\"width:100%\">\n                <thead>\n                    <tr>\n                        <th colspan=\"2\">\n                        Could not create model:\n                        </th>\n                    </tr>\n                </thead>\n                <tbody>\n                    <tr>\n                        <td>Model name</td>\n                        <td> undefined </td>\n                    </tr>\n                    <tr>\n                        <td>Model module</td>\n                        <td> undefined </td>\n                    </tr>\n                    <tr>\n                        <td>Model module version</td>\n                        <td> undefined </td>\n                    </tr>\n                <tbody>\n                <tfoot>\n                    <tr>\n                        <th colspan=\"2\">\n                        Class undefined not found in registry \n                        </th>\n                    </tr>\n                </tfoot>\n                </table>"
      }
     },
     "6a248cb18c8c40658ea8cf7615f7a622": {
      "model_module_version": "^2.1.4",
      "state": {
       "value": "<table style=\"width:100%\">\n                <thead>\n                    <tr>\n                        <th colspan=\"2\">\n                        Could not create model:\n                        </th>\n                    </tr>\n                </thead>\n                <tbody>\n                    <tr>\n                        <td>Model name</td>\n                        <td> undefined </td>\n                    </tr>\n                    <tr>\n                        <td>Model module</td>\n                        <td> undefined </td>\n                    </tr>\n                    <tr>\n                        <td>Model module version</td>\n                        <td> undefined </td>\n                    </tr>\n                <tbody>\n                <tfoot>\n                    <tr>\n                        <th colspan=\"2\">\n                        Class undefined not found in registry \n                        </th>\n                    </tr>\n                </tfoot>\n                </table>"
      }
     },
     "6aaa433ab117461b889545d142a27175": {
      "model_module_version": "^2.1.4",
      "state": {
       "description": "x",
       "value": "<table style=\"width:100%\">\n                <thead>\n                    <tr>\n                        <th colspan=\"2\">\n                        Could not create model:\n                        </th>\n                    </tr>\n                </thead>\n                <tbody>\n                    <tr>\n                        <td>Model name</td>\n                        <td> undefined </td>\n                    </tr>\n                    <tr>\n                        <td>Model module</td>\n                        <td> undefined </td>\n                    </tr>\n                    <tr>\n                        <td>Model module version</td>\n                        <td> undefined </td>\n                    </tr>\n                <tbody>\n                <tfoot>\n                    <tr>\n                        <th colspan=\"2\">\n                        Class undefined not found in registry \n                        </th>\n                    </tr>\n                </tfoot>\n                </table>"
      }
     },
     "73132f70043c4a6cb2a8ceb471a8f252": {
      "model_module_version": "^2.1.4",
      "state": {
       "value": "<table style=\"width:100%\">\n                <thead>\n                    <tr>\n                        <th colspan=\"2\">\n                        Could not create model:\n                        </th>\n                    </tr>\n                </thead>\n                <tbody>\n                    <tr>\n                        <td>Model name</td>\n                        <td> undefined </td>\n                    </tr>\n                    <tr>\n                        <td>Model module</td>\n                        <td> undefined </td>\n                    </tr>\n                    <tr>\n                        <td>Model module version</td>\n                        <td> undefined </td>\n                    </tr>\n                <tbody>\n                <tfoot>\n                    <tr>\n                        <th colspan=\"2\">\n                        Class undefined not found in registry \n                        </th>\n                    </tr>\n                </tfoot>\n                </table>"
      }
     },
     "76b009679d104667af00faea672b290a": {
      "model_module_version": "^2.1.4",
      "state": {
       "value": "<table style=\"width:100%\">\n                <thead>\n                    <tr>\n                        <th colspan=\"2\">\n                        Could not create model:\n                        </th>\n                    </tr>\n                </thead>\n                <tbody>\n                    <tr>\n                        <td>Model name</td>\n                        <td> undefined </td>\n                    </tr>\n                    <tr>\n                        <td>Model module</td>\n                        <td> undefined </td>\n                    </tr>\n                    <tr>\n                        <td>Model module version</td>\n                        <td> undefined </td>\n                    </tr>\n                <tbody>\n                <tfoot>\n                    <tr>\n                        <th colspan=\"2\">\n                        Class undefined not found in registry \n                        </th>\n                    </tr>\n                </tfoot>\n                </table>"
      }
     },
     "79c73807325f49d393b6cf08bad0b9ef": {
      "model_module_version": "^2.1.4",
      "state": {
       "value": "<table style=\"width:100%\">\n                <thead>\n                    <tr>\n                        <th colspan=\"2\">\n                        Could not create model:\n                        </th>\n                    </tr>\n                </thead>\n                <tbody>\n                    <tr>\n                        <td>Model name</td>\n                        <td> undefined </td>\n                    </tr>\n                    <tr>\n                        <td>Model module</td>\n                        <td> undefined </td>\n                    </tr>\n                    <tr>\n                        <td>Model module version</td>\n                        <td> undefined </td>\n                    </tr>\n                <tbody>\n                <tfoot>\n                    <tr>\n                        <th colspan=\"2\">\n                        Class undefined not found in registry \n                        </th>\n                    </tr>\n                </tfoot>\n                </table>"
      }
     },
     "7b2a75f21e23408ba72e5f04d40c4ae0": {
      "model_module_version": "^2.1.4",
      "state": {
       "msg_id": "",
       "value": "<table style=\"width:100%\">\n                <thead>\n                    <tr>\n                        <th colspan=\"2\">\n                        Could not create model:\n                        </th>\n                    </tr>\n                </thead>\n                <tbody>\n                    <tr>\n                        <td>Model name</td>\n                        <td> undefined </td>\n                    </tr>\n                    <tr>\n                        <td>Model module</td>\n                        <td> undefined </td>\n                    </tr>\n                    <tr>\n                        <td>Model module version</td>\n                        <td> undefined </td>\n                    </tr>\n                <tbody>\n                <tfoot>\n                    <tr>\n                        <th colspan=\"2\">\n                        Class undefined not found in registry \n                        </th>\n                    </tr>\n                </tfoot>\n                </table>"
      }
     },
     "7fdb52036a2c425b968f1cb3f18880cc": {
      "model_module": "jupyter-js-widgets",
      "model_module_version": "~2.1.4",
      "model_name": "VBoxModel",
      "state": {
       "_dom_classes": [
        "widget-interact"
       ],
       "_model_module_version": "~2.1.4",
       "_view_module_version": "~2.1.4",
       "children": [
        "IPY_MODEL_acf1144a079947a3b72f448ff497b5aa",
        "IPY_MODEL_5ef172040b89471c852363eeffcd40ad"
       ],
       "layout": "IPY_MODEL_a3da27f324824245ab4548048acf08ce"
      }
     },
     "804d2f26720d4c7a80aca19ce362f6e3": {
      "model_module_version": "^2.1.4",
      "state": {
       "value": "<table style=\"width:100%\">\n                <thead>\n                    <tr>\n                        <th colspan=\"2\">\n                        Could not create model:\n                        </th>\n                    </tr>\n                </thead>\n                <tbody>\n                    <tr>\n                        <td>Model name</td>\n                        <td> undefined </td>\n                    </tr>\n                    <tr>\n                        <td>Model module</td>\n                        <td> undefined </td>\n                    </tr>\n                    <tr>\n                        <td>Model module version</td>\n                        <td> undefined </td>\n                    </tr>\n                <tbody>\n                <tfoot>\n                    <tr>\n                        <th colspan=\"2\">\n                        Class undefined not found in registry \n                        </th>\n                    </tr>\n                </tfoot>\n                </table>"
      }
     },
     "83640725b367458d874b51c6da3c0298": {
      "model_module_version": "^2.1.4",
      "state": {
       "description": "x",
       "value": "<table style=\"width:100%\">\n                <thead>\n                    <tr>\n                        <th colspan=\"2\">\n                        Could not create model:\n                        </th>\n                    </tr>\n                </thead>\n                <tbody>\n                    <tr>\n                        <td>Model name</td>\n                        <td> undefined </td>\n                    </tr>\n                    <tr>\n                        <td>Model module</td>\n                        <td> undefined </td>\n                    </tr>\n                    <tr>\n                        <td>Model module version</td>\n                        <td> undefined </td>\n                    </tr>\n                <tbody>\n                <tfoot>\n                    <tr>\n                        <th colspan=\"2\">\n                        Class undefined not found in registry \n                        </th>\n                    </tr>\n                </tfoot>\n                </table>"
      }
     },
     "842d398e0f0b49bb82816bf12e32d8ae": {
      "model_module_version": "^2.1.4",
      "state": {
       "children": [
        "IPY_MODEL_b3aaafaed364432d9f29a2334748fb51",
        "IPY_MODEL_0bb041ed3f25401da46f4d3b1b84bedd"
       ],
       "value": "<table style=\"width:100%\">\n                <thead>\n                    <tr>\n                        <th colspan=\"2\">\n                        Could not create model:\n                        </th>\n                    </tr>\n                </thead>\n                <tbody>\n                    <tr>\n                        <td>Model name</td>\n                        <td> undefined </td>\n                    </tr>\n                    <tr>\n                        <td>Model module</td>\n                        <td> undefined </td>\n                    </tr>\n                    <tr>\n                        <td>Model module version</td>\n                        <td> undefined </td>\n                    </tr>\n                <tbody>\n                <tfoot>\n                    <tr>\n                        <th colspan=\"2\">\n                        Class undefined not found in registry \n                        </th>\n                    </tr>\n                </tfoot>\n                </table>"
      }
     },
     "892d3ae0c7194bf880319e259ecc2978": {
      "model_module_version": "^2.1.4",
      "state": {
       "msg_id": "",
       "value": "<table style=\"width:100%\">\n                <thead>\n                    <tr>\n                        <th colspan=\"2\">\n                        Could not create model:\n                        </th>\n                    </tr>\n                </thead>\n                <tbody>\n                    <tr>\n                        <td>Model name</td>\n                        <td> undefined </td>\n                    </tr>\n                    <tr>\n                        <td>Model module</td>\n                        <td> undefined </td>\n                    </tr>\n                    <tr>\n                        <td>Model module version</td>\n                        <td> undefined </td>\n                    </tr>\n                <tbody>\n                <tfoot>\n                    <tr>\n                        <th colspan=\"2\">\n                        Class undefined not found in registry \n                        </th>\n                    </tr>\n                </tfoot>\n                </table>"
      }
     },
     "8c53fafbc3f84f67a956e57f3add21e6": {
      "model_module_version": "^2.1.4",
      "state": {
       "value": "<table style=\"width:100%\">\n                <thead>\n                    <tr>\n                        <th colspan=\"2\">\n                        Could not create model:\n                        </th>\n                    </tr>\n                </thead>\n                <tbody>\n                    <tr>\n                        <td>Model name</td>\n                        <td> undefined </td>\n                    </tr>\n                    <tr>\n                        <td>Model module</td>\n                        <td> undefined </td>\n                    </tr>\n                    <tr>\n                        <td>Model module version</td>\n                        <td> undefined </td>\n                    </tr>\n                <tbody>\n                <tfoot>\n                    <tr>\n                        <th colspan=\"2\">\n                        Class undefined not found in registry \n                        </th>\n                    </tr>\n                </tfoot>\n                </table>"
      }
     },
     "96847b2fae384f758634f48976d6387d": {
      "model_module_version": "^2.1.4",
      "state": {
       "value": "<table style=\"width:100%\">\n                <thead>\n                    <tr>\n                        <th colspan=\"2\">\n                        Could not create model:\n                        </th>\n                    </tr>\n                </thead>\n                <tbody>\n                    <tr>\n                        <td>Model name</td>\n                        <td> undefined </td>\n                    </tr>\n                    <tr>\n                        <td>Model module</td>\n                        <td> undefined </td>\n                    </tr>\n                    <tr>\n                        <td>Model module version</td>\n                        <td> undefined </td>\n                    </tr>\n                <tbody>\n                <tfoot>\n                    <tr>\n                        <th colspan=\"2\">\n                        Class undefined not found in registry \n                        </th>\n                    </tr>\n                </tfoot>\n                </table>"
      }
     },
     "98eb087ff1554f3983db53fa15fe205e": {
      "model_module_version": "^2.1.4",
      "state": {
       "description": "x",
       "value": "<table style=\"width:100%\">\n                <thead>\n                    <tr>\n                        <th colspan=\"2\">\n                        Could not create model:\n                        </th>\n                    </tr>\n                </thead>\n                <tbody>\n                    <tr>\n                        <td>Model name</td>\n                        <td> undefined </td>\n                    </tr>\n                    <tr>\n                        <td>Model module</td>\n                        <td> undefined </td>\n                    </tr>\n                    <tr>\n                        <td>Model module version</td>\n                        <td> undefined </td>\n                    </tr>\n                <tbody>\n                <tfoot>\n                    <tr>\n                        <th colspan=\"2\">\n                        Class undefined not found in registry \n                        </th>\n                    </tr>\n                </tfoot>\n                </table>"
      }
     },
     "a2dd2b1e1f9b4734b2e3aa1dbffdcd04": {
      "model_module_version": "^2.1.4",
      "state": {
       "value": "<table style=\"width:100%\">\n                <thead>\n                    <tr>\n                        <th colspan=\"2\">\n                        Could not create model:\n                        </th>\n                    </tr>\n                </thead>\n                <tbody>\n                    <tr>\n                        <td>Model name</td>\n                        <td> undefined </td>\n                    </tr>\n                    <tr>\n                        <td>Model module</td>\n                        <td> undefined </td>\n                    </tr>\n                    <tr>\n                        <td>Model module version</td>\n                        <td> undefined </td>\n                    </tr>\n                <tbody>\n                <tfoot>\n                    <tr>\n                        <th colspan=\"2\">\n                        Class undefined not found in registry \n                        </th>\n                    </tr>\n                </tfoot>\n                </table>"
      }
     },
     "a2f0d26a526e4befb8a931dedb6363eb": {
      "model_module_version": "^2.1.4",
      "state": {
       "value": "<table style=\"width:100%\">\n                <thead>\n                    <tr>\n                        <th colspan=\"2\">\n                        Could not create model:\n                        </th>\n                    </tr>\n                </thead>\n                <tbody>\n                    <tr>\n                        <td>Model name</td>\n                        <td> undefined </td>\n                    </tr>\n                    <tr>\n                        <td>Model module</td>\n                        <td> undefined </td>\n                    </tr>\n                    <tr>\n                        <td>Model module version</td>\n                        <td> undefined </td>\n                    </tr>\n                <tbody>\n                <tfoot>\n                    <tr>\n                        <th colspan=\"2\">\n                        Class undefined not found in registry \n                        </th>\n                    </tr>\n                </tfoot>\n                </table>"
      }
     },
     "a3da27f324824245ab4548048acf08ce": {
      "model_module": "jupyter-js-widgets",
      "model_module_version": "~2.1.4",
      "model_name": "LayoutModel",
      "state": {
       "_model_module_version": "~2.1.4",
       "_view_module_version": "~2.1.4"
      }
     },
     "a5e1aa2fc5f641d098f2cfa6420a592b": {
      "model_module_version": "^2.1.4",
      "state": {
       "value": "<table style=\"width:100%\">\n                <thead>\n                    <tr>\n                        <th colspan=\"2\">\n                        Could not create model:\n                        </th>\n                    </tr>\n                </thead>\n                <tbody>\n                    <tr>\n                        <td>Model name</td>\n                        <td> undefined </td>\n                    </tr>\n                    <tr>\n                        <td>Model module</td>\n                        <td> undefined </td>\n                    </tr>\n                    <tr>\n                        <td>Model module version</td>\n                        <td> undefined </td>\n                    </tr>\n                <tbody>\n                <tfoot>\n                    <tr>\n                        <th colspan=\"2\">\n                        Class undefined not found in registry \n                        </th>\n                    </tr>\n                </tfoot>\n                </table>"
      }
     },
     "acf1144a079947a3b72f448ff497b5aa": {
      "model_module": "jupyter-js-widgets",
      "model_module_version": "~2.1.4",
      "model_name": "IntSliderModel",
      "state": {
       "_model_module_version": "~2.1.4",
       "_view_module_version": "~2.1.4",
       "description": "x",
       "layout": "IPY_MODEL_3c2f6371fb9d4ef8963013d7ec752f1a",
       "max": 30,
       "min": -10,
       "style": "IPY_MODEL_4085225553f745b5a56321cf316c733e",
       "value": 10
      }
     },
     "ae4e57c864524cccb1f82071a8cd1230": {
      "model_module_version": "^2.1.4",
      "state": {
       "children": [
        "IPY_MODEL_83640725b367458d874b51c6da3c0298",
        "IPY_MODEL_46c3f00a4866401bb7d7dd886668baeb"
       ],
       "value": "<table style=\"width:100%\">\n                <thead>\n                    <tr>\n                        <th colspan=\"2\">\n                        Could not create model:\n                        </th>\n                    </tr>\n                </thead>\n                <tbody>\n                    <tr>\n                        <td>Model name</td>\n                        <td> undefined </td>\n                    </tr>\n                    <tr>\n                        <td>Model module</td>\n                        <td> undefined </td>\n                    </tr>\n                    <tr>\n                        <td>Model module version</td>\n                        <td> undefined </td>\n                    </tr>\n                <tbody>\n                <tfoot>\n                    <tr>\n                        <th colspan=\"2\">\n                        Class undefined not found in registry \n                        </th>\n                    </tr>\n                </tfoot>\n                </table>"
      }
     },
     "b3aaafaed364432d9f29a2334748fb51": {
      "model_module_version": "^2.1.4",
      "state": {
       "description": "x",
       "value": "<table style=\"width:100%\">\n                <thead>\n                    <tr>\n                        <th colspan=\"2\">\n                        Could not create model:\n                        </th>\n                    </tr>\n                </thead>\n                <tbody>\n                    <tr>\n                        <td>Model name</td>\n                        <td> undefined </td>\n                    </tr>\n                    <tr>\n                        <td>Model module</td>\n                        <td> undefined </td>\n                    </tr>\n                    <tr>\n                        <td>Model module version</td>\n                        <td> undefined </td>\n                    </tr>\n                <tbody>\n                <tfoot>\n                    <tr>\n                        <th colspan=\"2\">\n                        Class undefined not found in registry \n                        </th>\n                    </tr>\n                </tfoot>\n                </table>"
      }
     },
     "b5c4b56ba9cd45e1bdca6530cc78c9e1": {
      "model_module_version": "^2.1.4",
      "state": {
       "msg_id": "",
       "value": "<table style=\"width:100%\">\n                <thead>\n                    <tr>\n                        <th colspan=\"2\">\n                        Could not create model:\n                        </th>\n                    </tr>\n                </thead>\n                <tbody>\n                    <tr>\n                        <td>Model name</td>\n                        <td> undefined </td>\n                    </tr>\n                    <tr>\n                        <td>Model module</td>\n                        <td> undefined </td>\n                    </tr>\n                    <tr>\n                        <td>Model module version</td>\n                        <td> undefined </td>\n                    </tr>\n                <tbody>\n                <tfoot>\n                    <tr>\n                        <th colspan=\"2\">\n                        Class undefined not found in registry \n                        </th>\n                    </tr>\n                </tfoot>\n                </table>"
      }
     },
     "b74b2bb279ff49c9a7b8384e115dda91": {
      "model_module_version": "^2.1.4",
      "state": {
       "msg_id": "",
       "value": "<table style=\"width:100%\">\n                <thead>\n                    <tr>\n                        <th colspan=\"2\">\n                        Could not create model:\n                        </th>\n                    </tr>\n                </thead>\n                <tbody>\n                    <tr>\n                        <td>Model name</td>\n                        <td> undefined </td>\n                    </tr>\n                    <tr>\n                        <td>Model module</td>\n                        <td> undefined </td>\n                    </tr>\n                    <tr>\n                        <td>Model module version</td>\n                        <td> undefined </td>\n                    </tr>\n                <tbody>\n                <tfoot>\n                    <tr>\n                        <th colspan=\"2\">\n                        Class undefined not found in registry \n                        </th>\n                    </tr>\n                </tfoot>\n                </table>"
      }
     },
     "bc40a99774e645d6a95f8c5424ed326e": {
      "model_module_version": "^2.1.4",
      "state": {
       "description": "x",
       "value": "<table style=\"width:100%\">\n                <thead>\n                    <tr>\n                        <th colspan=\"2\">\n                        Could not create model:\n                        </th>\n                    </tr>\n                </thead>\n                <tbody>\n                    <tr>\n                        <td>Model name</td>\n                        <td> undefined </td>\n                    </tr>\n                    <tr>\n                        <td>Model module</td>\n                        <td> undefined </td>\n                    </tr>\n                    <tr>\n                        <td>Model module version</td>\n                        <td> undefined </td>\n                    </tr>\n                <tbody>\n                <tfoot>\n                    <tr>\n                        <th colspan=\"2\">\n                        Class undefined not found in registry \n                        </th>\n                    </tr>\n                </tfoot>\n                </table>"
      }
     },
     "c40e39ab08b34613bb2767f4b2e60411": {
      "model_module_version": "^2.1.4",
      "state": {
       "value": "<table style=\"width:100%\">\n                <thead>\n                    <tr>\n                        <th colspan=\"2\">\n                        Could not create model:\n                        </th>\n                    </tr>\n                </thead>\n                <tbody>\n                    <tr>\n                        <td>Model name</td>\n                        <td> undefined </td>\n                    </tr>\n                    <tr>\n                        <td>Model module</td>\n                        <td> undefined </td>\n                    </tr>\n                    <tr>\n                        <td>Model module version</td>\n                        <td> undefined </td>\n                    </tr>\n                <tbody>\n                <tfoot>\n                    <tr>\n                        <th colspan=\"2\">\n                        Class undefined not found in registry \n                        </th>\n                    </tr>\n                </tfoot>\n                </table>"
      }
     },
     "ca7fc7414df744c1a12a80afcd929124": {
      "model_module_version": "^2.1.4",
      "state": {
       "description": "x",
       "value": "<table style=\"width:100%\">\n                <thead>\n                    <tr>\n                        <th colspan=\"2\">\n                        Could not create model:\n                        </th>\n                    </tr>\n                </thead>\n                <tbody>\n                    <tr>\n                        <td>Model name</td>\n                        <td> undefined </td>\n                    </tr>\n                    <tr>\n                        <td>Model module</td>\n                        <td> undefined </td>\n                    </tr>\n                    <tr>\n                        <td>Model module version</td>\n                        <td> undefined </td>\n                    </tr>\n                <tbody>\n                <tfoot>\n                    <tr>\n                        <th colspan=\"2\">\n                        Class undefined not found in registry \n                        </th>\n                    </tr>\n                </tfoot>\n                </table>"
      }
     },
     "d00724d28f834c4991169f92b8e447cb": {
      "model_module_version": "^2.1.4",
      "state": {
       "description": "x",
       "value": "<table style=\"width:100%\">\n                <thead>\n                    <tr>\n                        <th colspan=\"2\">\n                        Could not create model:\n                        </th>\n                    </tr>\n                </thead>\n                <tbody>\n                    <tr>\n                        <td>Model name</td>\n                        <td> undefined </td>\n                    </tr>\n                    <tr>\n                        <td>Model module</td>\n                        <td> undefined </td>\n                    </tr>\n                    <tr>\n                        <td>Model module version</td>\n                        <td> undefined </td>\n                    </tr>\n                <tbody>\n                <tfoot>\n                    <tr>\n                        <th colspan=\"2\">\n                        Class undefined not found in registry \n                        </th>\n                    </tr>\n                </tfoot>\n                </table>"
      }
     },
     "d11595e8990749f7a5f58f9502758e2d": {
      "model_module_version": "^2.1.4",
      "state": {
       "value": "<table style=\"width:100%\">\n                <thead>\n                    <tr>\n                        <th colspan=\"2\">\n                        Could not create model:\n                        </th>\n                    </tr>\n                </thead>\n                <tbody>\n                    <tr>\n                        <td>Model name</td>\n                        <td> undefined </td>\n                    </tr>\n                    <tr>\n                        <td>Model module</td>\n                        <td> undefined </td>\n                    </tr>\n                    <tr>\n                        <td>Model module version</td>\n                        <td> undefined </td>\n                    </tr>\n                <tbody>\n                <tfoot>\n                    <tr>\n                        <th colspan=\"2\">\n                        Class undefined not found in registry \n                        </th>\n                    </tr>\n                </tfoot>\n                </table>"
      }
     },
     "d37973aee6ad4ad3afc2983cc4640538": {
      "model_module_version": "^2.1.4",
      "state": {
       "value": "<table style=\"width:100%\">\n                <thead>\n                    <tr>\n                        <th colspan=\"2\">\n                        Could not create model:\n                        </th>\n                    </tr>\n                </thead>\n                <tbody>\n                    <tr>\n                        <td>Model name</td>\n                        <td> undefined </td>\n                    </tr>\n                    <tr>\n                        <td>Model module</td>\n                        <td> undefined </td>\n                    </tr>\n                    <tr>\n                        <td>Model module version</td>\n                        <td> undefined </td>\n                    </tr>\n                <tbody>\n                <tfoot>\n                    <tr>\n                        <th colspan=\"2\">\n                        Class undefined not found in registry \n                        </th>\n                    </tr>\n                </tfoot>\n                </table>"
      }
     },
     "d8e4be7cd0c144abb637254495935400": {
      "model_module_version": "^2.1.4",
      "state": {
       "value": "<table style=\"width:100%\">\n                <thead>\n                    <tr>\n                        <th colspan=\"2\">\n                        Could not create model:\n                        </th>\n                    </tr>\n                </thead>\n                <tbody>\n                    <tr>\n                        <td>Model name</td>\n                        <td> undefined </td>\n                    </tr>\n                    <tr>\n                        <td>Model module</td>\n                        <td> undefined </td>\n                    </tr>\n                    <tr>\n                        <td>Model module version</td>\n                        <td> undefined </td>\n                    </tr>\n                <tbody>\n                <tfoot>\n                    <tr>\n                        <th colspan=\"2\">\n                        Class undefined not found in registry \n                        </th>\n                    </tr>\n                </tfoot>\n                </table>"
      }
     },
     "d929f758e3d743e4bad5ee4b0e0e2971": {
      "model_module_version": "^2.1.4",
      "state": {
       "value": "<table style=\"width:100%\">\n                <thead>\n                    <tr>\n                        <th colspan=\"2\">\n                        Could not create model:\n                        </th>\n                    </tr>\n                </thead>\n                <tbody>\n                    <tr>\n                        <td>Model name</td>\n                        <td> undefined </td>\n                    </tr>\n                    <tr>\n                        <td>Model module</td>\n                        <td> undefined </td>\n                    </tr>\n                    <tr>\n                        <td>Model module version</td>\n                        <td> undefined </td>\n                    </tr>\n                <tbody>\n                <tfoot>\n                    <tr>\n                        <th colspan=\"2\">\n                        Class undefined not found in registry \n                        </th>\n                    </tr>\n                </tfoot>\n                </table>"
      }
     },
     "db0ea3166b744eb3914ca4a329e1f134": {
      "model_module_version": "^2.1.4",
      "state": {
       "value": "<table style=\"width:100%\">\n                <thead>\n                    <tr>\n                        <th colspan=\"2\">\n                        Could not create model:\n                        </th>\n                    </tr>\n                </thead>\n                <tbody>\n                    <tr>\n                        <td>Model name</td>\n                        <td> undefined </td>\n                    </tr>\n                    <tr>\n                        <td>Model module</td>\n                        <td> undefined </td>\n                    </tr>\n                    <tr>\n                        <td>Model module version</td>\n                        <td> undefined </td>\n                    </tr>\n                <tbody>\n                <tfoot>\n                    <tr>\n                        <th colspan=\"2\">\n                        Class undefined not found in registry \n                        </th>\n                    </tr>\n                </tfoot>\n                </table>"
      }
     },
     "de03135fc545466a891c5c7f1191cb4b": {
      "model_module_version": "^2.1.4",
      "state": {
       "children": [
        "IPY_MODEL_6aaa433ab117461b889545d142a27175",
        "IPY_MODEL_4a96e2d67ee54a41a257d81719387929"
       ],
       "value": "<table style=\"width:100%\">\n                <thead>\n                    <tr>\n                        <th colspan=\"2\">\n                        Could not create model:\n                        </th>\n                    </tr>\n                </thead>\n                <tbody>\n                    <tr>\n                        <td>Model name</td>\n                        <td> undefined </td>\n                    </tr>\n                    <tr>\n                        <td>Model module</td>\n                        <td> undefined </td>\n                    </tr>\n                    <tr>\n                        <td>Model module version</td>\n                        <td> undefined </td>\n                    </tr>\n                <tbody>\n                <tfoot>\n                    <tr>\n                        <th colspan=\"2\">\n                        Class undefined not found in registry \n                        </th>\n                    </tr>\n                </tfoot>\n                </table>"
      }
     },
     "e2d7a38ef7dc48099cc27bfcc2a6a4c9": {
      "model_module_version": "^2.1.4",
      "state": {
       "value": "<table style=\"width:100%\">\n                <thead>\n                    <tr>\n                        <th colspan=\"2\">\n                        Could not create model:\n                        </th>\n                    </tr>\n                </thead>\n                <tbody>\n                    <tr>\n                        <td>Model name</td>\n                        <td> undefined </td>\n                    </tr>\n                    <tr>\n                        <td>Model module</td>\n                        <td> undefined </td>\n                    </tr>\n                    <tr>\n                        <td>Model module version</td>\n                        <td> undefined </td>\n                    </tr>\n                <tbody>\n                <tfoot>\n                    <tr>\n                        <th colspan=\"2\">\n                        Class undefined not found in registry \n                        </th>\n                    </tr>\n                </tfoot>\n                </table>"
      }
     },
     "e2eabeb5e95644c6994f2f3be516a507": {
      "model_module_version": "^2.1.4",
      "state": {
       "value": "<table style=\"width:100%\">\n                <thead>\n                    <tr>\n                        <th colspan=\"2\">\n                        Could not create model:\n                        </th>\n                    </tr>\n                </thead>\n                <tbody>\n                    <tr>\n                        <td>Model name</td>\n                        <td> undefined </td>\n                    </tr>\n                    <tr>\n                        <td>Model module</td>\n                        <td> undefined </td>\n                    </tr>\n                    <tr>\n                        <td>Model module version</td>\n                        <td> undefined </td>\n                    </tr>\n                <tbody>\n                <tfoot>\n                    <tr>\n                        <th colspan=\"2\">\n                        Class undefined not found in registry \n                        </th>\n                    </tr>\n                </tfoot>\n                </table>"
      }
     },
     "e8c41950a9d349d2a093b110f66cbb72": {
      "model_module_version": "^2.1.4",
      "state": {
       "description": "x",
       "value": "<table style=\"width:100%\">\n                <thead>\n                    <tr>\n                        <th colspan=\"2\">\n                        Could not create model:\n                        </th>\n                    </tr>\n                </thead>\n                <tbody>\n                    <tr>\n                        <td>Model name</td>\n                        <td> undefined </td>\n                    </tr>\n                    <tr>\n                        <td>Model module</td>\n                        <td> undefined </td>\n                    </tr>\n                    <tr>\n                        <td>Model module version</td>\n                        <td> undefined </td>\n                    </tr>\n                <tbody>\n                <tfoot>\n                    <tr>\n                        <th colspan=\"2\">\n                        Class undefined not found in registry \n                        </th>\n                    </tr>\n                </tfoot>\n                </table>"
      }
     },
     "eef3d499980c484890b8c35cc146b9ed": {
      "model_module_version": "^2.1.4",
      "state": {
       "value": "<table style=\"width:100%\">\n                <thead>\n                    <tr>\n                        <th colspan=\"2\">\n                        Could not create model:\n                        </th>\n                    </tr>\n                </thead>\n                <tbody>\n                    <tr>\n                        <td>Model name</td>\n                        <td> undefined </td>\n                    </tr>\n                    <tr>\n                        <td>Model module</td>\n                        <td> undefined </td>\n                    </tr>\n                    <tr>\n                        <td>Model module version</td>\n                        <td> undefined </td>\n                    </tr>\n                <tbody>\n                <tfoot>\n                    <tr>\n                        <th colspan=\"2\">\n                        Class undefined not found in registry \n                        </th>\n                    </tr>\n                </tfoot>\n                </table>"
      }
     },
     "f43621a7182443dbaba6a026a3ea8c76": {
      "model_module_version": "^2.1.4",
      "state": {
       "value": "<table style=\"width:100%\">\n                <thead>\n                    <tr>\n                        <th colspan=\"2\">\n                        Could not create model:\n                        </th>\n                    </tr>\n                </thead>\n                <tbody>\n                    <tr>\n                        <td>Model name</td>\n                        <td> undefined </td>\n                    </tr>\n                    <tr>\n                        <td>Model module</td>\n                        <td> undefined </td>\n                    </tr>\n                    <tr>\n                        <td>Model module version</td>\n                        <td> undefined </td>\n                    </tr>\n                <tbody>\n                <tfoot>\n                    <tr>\n                        <th colspan=\"2\">\n                        Class undefined not found in registry \n                        </th>\n                    </tr>\n                </tfoot>\n                </table>"
      }
     },
     "f5d70fc558214794b4dd91314f8746c8": {
      "model_module_version": "^2.1.4",
      "state": {
       "value": "<table style=\"width:100%\">\n                <thead>\n                    <tr>\n                        <th colspan=\"2\">\n                        Could not create model:\n                        </th>\n                    </tr>\n                </thead>\n                <tbody>\n                    <tr>\n                        <td>Model name</td>\n                        <td> undefined </td>\n                    </tr>\n                    <tr>\n                        <td>Model module</td>\n                        <td> undefined </td>\n                    </tr>\n                    <tr>\n                        <td>Model module version</td>\n                        <td> undefined </td>\n                    </tr>\n                <tbody>\n                <tfoot>\n                    <tr>\n                        <th colspan=\"2\">\n                        Class undefined not found in registry \n                        </th>\n                    </tr>\n                </tfoot>\n                </table>"
      }
     }
    },
    "version_major": 1,
    "version_minor": 0
   }
  }
 },
 "nbformat": 4,
 "nbformat_minor": 2
}
