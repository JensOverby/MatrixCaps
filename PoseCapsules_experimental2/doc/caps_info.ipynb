{
 "cells": [
  {
   "cell_type": "markdown",
   "metadata": {},
   "source": [
    "# CAPSNET Monitor"
   ]
  },
  {
   "cell_type": "code",
   "execution_count": 1,
   "metadata": {},
   "outputs": [
    {
     "data": {
      "text/html": [
       "<script>\n",
       "code_show=true; \n",
       "function code_toggle() {\n",
       " if (code_show){\n",
       " $('div.input').hide();\n",
       " } else {\n",
       " $('div.input').show();\n",
       " }\n",
       " code_show = !code_show\n",
       "} \n",
       "$( document ).ready(code_toggle);\n",
       "</script>\n",
       "<form action=\"javascript:code_toggle()\"><input type=\"submit\" value=\"Click here to toggle on/off the raw code.\"></form>"
      ],
      "text/plain": [
       "<IPython.core.display.HTML object>"
      ]
     },
     "execution_count": 1,
     "metadata": {},
     "output_type": "execute_result"
    }
   ],
   "source": [
    "from IPython.display import HTML\n",
    "\n",
    "HTML('''<script>\n",
    "code_show=true; \n",
    "function code_toggle() {\n",
    " if (code_show){\n",
    " $('div.input').hide();\n",
    " } else {\n",
    " $('div.input').show();\n",
    " }\n",
    " code_show = !code_show\n",
    "} \n",
    "$( document ).ready(code_toggle);\n",
    "</script>\n",
    "<form action=\"javascript:code_toggle()\"><input type=\"submit\" value=\"Click here to toggle on/off the raw code.\"></form>''')\n"
   ]
  },
  {
   "cell_type": "code",
   "execution_count": 2,
   "metadata": {
    "scrolled": true
   },
   "outputs": [
    {
     "data": {
      "text/html": [
       "<style>\n",
       ".output_wrapper button.btn.btn-default,\n",
       ".output_wrapper .ui-dialog-titlebar {\n",
       "  display: none;\n",
       "}\n",
       "</style>"
      ],
      "text/plain": [
       "<IPython.core.display.HTML object>"
      ]
     },
     "execution_count": 2,
     "metadata": {},
     "output_type": "execute_result"
    }
   ],
   "source": [
    "HTML(\n",
    "'''<style>\n",
    ".output_wrapper button.btn.btn-default,\n",
    ".output_wrapper .ui-dialog-titlebar {\n",
    "  display: none;\n",
    "}\n",
    "</style>''')"
   ]
  },
  {
   "cell_type": "code",
   "execution_count": 3,
   "metadata": {
    "scrolled": false
   },
   "outputs": [],
   "source": [
    "%matplotlib notebook\n",
    "\n",
    "import os\n",
    "#os.chdir('/home/jens/eclipse-workspace/MatrixCaps/Matrix-Capsule-Network/')\n",
    "\n",
    "import sys\n",
    "import pyrr\n",
    "#sys.path.append('../model')\n",
    "sys.path.append('..')\n",
    "import torch\n",
    "from torch.autograd import Variable\n",
    "from torchvision import datasets\n",
    "from torchvision import transforms\n",
    "from torchvision import utils\n",
    "import torch.nn.functional as F\n",
    "from capsnet import CapsNet\n",
    "import util\n",
    "#import model.util as util\n",
    "import matplotlib\n",
    "import matplotlib.pyplot as plt\n",
    "import numpy as np\n",
    "import time\n",
    "import pyrr\n",
    "\n",
    "import ipywidgets as widgets\n",
    "from ipywidgets import FloatSlider, HBox, VBox, Layout\n",
    "matplotlib.pyplot.ioff()\n",
    "\n",
    "import glob\n",
    "from IPython.display import display, Markdown, Image\n",
    "\n",
    "import PIL.Image\n",
    "from io import BytesIO\n"
   ]
  },
  {
   "cell_type": "markdown",
   "metadata": {},
   "source": [
    "## Matrix Capsules LOSS plot"
   ]
  },
  {
   "cell_type": "code",
   "execution_count": 4,
   "metadata": {},
   "outputs": [
    {
     "data": {
      "application/javascript": [
       "/* Put everything inside the global mpl namespace */\n",
       "window.mpl = {};\n",
       "\n",
       "\n",
       "mpl.get_websocket_type = function() {\n",
       "    if (typeof(WebSocket) !== 'undefined') {\n",
       "        return WebSocket;\n",
       "    } else if (typeof(MozWebSocket) !== 'undefined') {\n",
       "        return MozWebSocket;\n",
       "    } else {\n",
       "        alert('Your browser does not have WebSocket support.' +\n",
       "              'Please try Chrome, Safari or Firefox ≥ 6. ' +\n",
       "              'Firefox 4 and 5 are also supported but you ' +\n",
       "              'have to enable WebSockets in about:config.');\n",
       "    };\n",
       "}\n",
       "\n",
       "mpl.figure = function(figure_id, websocket, ondownload, parent_element) {\n",
       "    this.id = figure_id;\n",
       "\n",
       "    this.ws = websocket;\n",
       "\n",
       "    this.supports_binary = (this.ws.binaryType != undefined);\n",
       "\n",
       "    if (!this.supports_binary) {\n",
       "        var warnings = document.getElementById(\"mpl-warnings\");\n",
       "        if (warnings) {\n",
       "            warnings.style.display = 'block';\n",
       "            warnings.textContent = (\n",
       "                \"This browser does not support binary websocket messages. \" +\n",
       "                    \"Performance may be slow.\");\n",
       "        }\n",
       "    }\n",
       "\n",
       "    this.imageObj = new Image();\n",
       "\n",
       "    this.context = undefined;\n",
       "    this.message = undefined;\n",
       "    this.canvas = undefined;\n",
       "    this.rubberband_canvas = undefined;\n",
       "    this.rubberband_context = undefined;\n",
       "    this.format_dropdown = undefined;\n",
       "\n",
       "    this.image_mode = 'full';\n",
       "\n",
       "    this.root = $('<div/>');\n",
       "    this._root_extra_style(this.root)\n",
       "    this.root.attr('style', 'display: inline-block');\n",
       "\n",
       "    $(parent_element).append(this.root);\n",
       "\n",
       "    this._init_header(this);\n",
       "    this._init_canvas(this);\n",
       "    this._init_toolbar(this);\n",
       "\n",
       "    var fig = this;\n",
       "\n",
       "    this.waiting = false;\n",
       "\n",
       "    this.ws.onopen =  function () {\n",
       "            fig.send_message(\"supports_binary\", {value: fig.supports_binary});\n",
       "            fig.send_message(\"send_image_mode\", {});\n",
       "            if (mpl.ratio != 1) {\n",
       "                fig.send_message(\"set_dpi_ratio\", {'dpi_ratio': mpl.ratio});\n",
       "            }\n",
       "            fig.send_message(\"refresh\", {});\n",
       "        }\n",
       "\n",
       "    this.imageObj.onload = function() {\n",
       "            if (fig.image_mode == 'full') {\n",
       "                // Full images could contain transparency (where diff images\n",
       "                // almost always do), so we need to clear the canvas so that\n",
       "                // there is no ghosting.\n",
       "                fig.context.clearRect(0, 0, fig.canvas.width, fig.canvas.height);\n",
       "            }\n",
       "            fig.context.drawImage(fig.imageObj, 0, 0);\n",
       "        };\n",
       "\n",
       "    this.imageObj.onunload = function() {\n",
       "        fig.ws.close();\n",
       "    }\n",
       "\n",
       "    this.ws.onmessage = this._make_on_message_function(this);\n",
       "\n",
       "    this.ondownload = ondownload;\n",
       "}\n",
       "\n",
       "mpl.figure.prototype._init_header = function() {\n",
       "    var titlebar = $(\n",
       "        '<div class=\"ui-dialog-titlebar ui-widget-header ui-corner-all ' +\n",
       "        'ui-helper-clearfix\"/>');\n",
       "    var titletext = $(\n",
       "        '<div class=\"ui-dialog-title\" style=\"width: 100%; ' +\n",
       "        'text-align: center; padding: 3px;\"/>');\n",
       "    titlebar.append(titletext)\n",
       "    this.root.append(titlebar);\n",
       "    this.header = titletext[0];\n",
       "}\n",
       "\n",
       "\n",
       "\n",
       "mpl.figure.prototype._canvas_extra_style = function(canvas_div) {\n",
       "\n",
       "}\n",
       "\n",
       "\n",
       "mpl.figure.prototype._root_extra_style = function(canvas_div) {\n",
       "\n",
       "}\n",
       "\n",
       "mpl.figure.prototype._init_canvas = function() {\n",
       "    var fig = this;\n",
       "\n",
       "    var canvas_div = $('<div/>');\n",
       "\n",
       "    canvas_div.attr('style', 'position: relative; clear: both; outline: 0');\n",
       "\n",
       "    function canvas_keyboard_event(event) {\n",
       "        return fig.key_event(event, event['data']);\n",
       "    }\n",
       "\n",
       "    canvas_div.keydown('key_press', canvas_keyboard_event);\n",
       "    canvas_div.keyup('key_release', canvas_keyboard_event);\n",
       "    this.canvas_div = canvas_div\n",
       "    this._canvas_extra_style(canvas_div)\n",
       "    this.root.append(canvas_div);\n",
       "\n",
       "    var canvas = $('<canvas/>');\n",
       "    canvas.addClass('mpl-canvas');\n",
       "    canvas.attr('style', \"left: 0; top: 0; z-index: 0; outline: 0\")\n",
       "\n",
       "    this.canvas = canvas[0];\n",
       "    this.context = canvas[0].getContext(\"2d\");\n",
       "\n",
       "    var backingStore = this.context.backingStorePixelRatio ||\n",
       "\tthis.context.webkitBackingStorePixelRatio ||\n",
       "\tthis.context.mozBackingStorePixelRatio ||\n",
       "\tthis.context.msBackingStorePixelRatio ||\n",
       "\tthis.context.oBackingStorePixelRatio ||\n",
       "\tthis.context.backingStorePixelRatio || 1;\n",
       "\n",
       "    mpl.ratio = (window.devicePixelRatio || 1) / backingStore;\n",
       "\n",
       "    var rubberband = $('<canvas/>');\n",
       "    rubberband.attr('style', \"position: absolute; left: 0; top: 0; z-index: 1;\")\n",
       "\n",
       "    var pass_mouse_events = true;\n",
       "\n",
       "    canvas_div.resizable({\n",
       "        start: function(event, ui) {\n",
       "            pass_mouse_events = false;\n",
       "        },\n",
       "        resize: function(event, ui) {\n",
       "            fig.request_resize(ui.size.width, ui.size.height);\n",
       "        },\n",
       "        stop: function(event, ui) {\n",
       "            pass_mouse_events = true;\n",
       "            fig.request_resize(ui.size.width, ui.size.height);\n",
       "        },\n",
       "    });\n",
       "\n",
       "    function mouse_event_fn(event) {\n",
       "        if (pass_mouse_events)\n",
       "            return fig.mouse_event(event, event['data']);\n",
       "    }\n",
       "\n",
       "    rubberband.mousedown('button_press', mouse_event_fn);\n",
       "    rubberband.mouseup('button_release', mouse_event_fn);\n",
       "    // Throttle sequential mouse events to 1 every 20ms.\n",
       "    rubberband.mousemove('motion_notify', mouse_event_fn);\n",
       "\n",
       "    rubberband.mouseenter('figure_enter', mouse_event_fn);\n",
       "    rubberband.mouseleave('figure_leave', mouse_event_fn);\n",
       "\n",
       "    canvas_div.on(\"wheel\", function (event) {\n",
       "        event = event.originalEvent;\n",
       "        event['data'] = 'scroll'\n",
       "        if (event.deltaY < 0) {\n",
       "            event.step = 1;\n",
       "        } else {\n",
       "            event.step = -1;\n",
       "        }\n",
       "        mouse_event_fn(event);\n",
       "    });\n",
       "\n",
       "    canvas_div.append(canvas);\n",
       "    canvas_div.append(rubberband);\n",
       "\n",
       "    this.rubberband = rubberband;\n",
       "    this.rubberband_canvas = rubberband[0];\n",
       "    this.rubberband_context = rubberband[0].getContext(\"2d\");\n",
       "    this.rubberband_context.strokeStyle = \"#000000\";\n",
       "\n",
       "    this._resize_canvas = function(width, height) {\n",
       "        // Keep the size of the canvas, canvas container, and rubber band\n",
       "        // canvas in synch.\n",
       "        canvas_div.css('width', width)\n",
       "        canvas_div.css('height', height)\n",
       "\n",
       "        canvas.attr('width', width * mpl.ratio);\n",
       "        canvas.attr('height', height * mpl.ratio);\n",
       "        canvas.attr('style', 'width: ' + width + 'px; height: ' + height + 'px;');\n",
       "\n",
       "        rubberband.attr('width', width);\n",
       "        rubberband.attr('height', height);\n",
       "    }\n",
       "\n",
       "    // Set the figure to an initial 600x600px, this will subsequently be updated\n",
       "    // upon first draw.\n",
       "    this._resize_canvas(600, 600);\n",
       "\n",
       "    // Disable right mouse context menu.\n",
       "    $(this.rubberband_canvas).bind(\"contextmenu\",function(e){\n",
       "        return false;\n",
       "    });\n",
       "\n",
       "    function set_focus () {\n",
       "        canvas.focus();\n",
       "        canvas_div.focus();\n",
       "    }\n",
       "\n",
       "    window.setTimeout(set_focus, 100);\n",
       "}\n",
       "\n",
       "mpl.figure.prototype._init_toolbar = function() {\n",
       "    var fig = this;\n",
       "\n",
       "    var nav_element = $('<div/>')\n",
       "    nav_element.attr('style', 'width: 100%');\n",
       "    this.root.append(nav_element);\n",
       "\n",
       "    // Define a callback function for later on.\n",
       "    function toolbar_event(event) {\n",
       "        return fig.toolbar_button_onclick(event['data']);\n",
       "    }\n",
       "    function toolbar_mouse_event(event) {\n",
       "        return fig.toolbar_button_onmouseover(event['data']);\n",
       "    }\n",
       "\n",
       "    for(var toolbar_ind in mpl.toolbar_items) {\n",
       "        var name = mpl.toolbar_items[toolbar_ind][0];\n",
       "        var tooltip = mpl.toolbar_items[toolbar_ind][1];\n",
       "        var image = mpl.toolbar_items[toolbar_ind][2];\n",
       "        var method_name = mpl.toolbar_items[toolbar_ind][3];\n",
       "\n",
       "        if (!name) {\n",
       "            // put a spacer in here.\n",
       "            continue;\n",
       "        }\n",
       "        var button = $('<button/>');\n",
       "        button.addClass('ui-button ui-widget ui-state-default ui-corner-all ' +\n",
       "                        'ui-button-icon-only');\n",
       "        button.attr('role', 'button');\n",
       "        button.attr('aria-disabled', 'false');\n",
       "        button.click(method_name, toolbar_event);\n",
       "        button.mouseover(tooltip, toolbar_mouse_event);\n",
       "\n",
       "        var icon_img = $('<span/>');\n",
       "        icon_img.addClass('ui-button-icon-primary ui-icon');\n",
       "        icon_img.addClass(image);\n",
       "        icon_img.addClass('ui-corner-all');\n",
       "\n",
       "        var tooltip_span = $('<span/>');\n",
       "        tooltip_span.addClass('ui-button-text');\n",
       "        tooltip_span.html(tooltip);\n",
       "\n",
       "        button.append(icon_img);\n",
       "        button.append(tooltip_span);\n",
       "\n",
       "        nav_element.append(button);\n",
       "    }\n",
       "\n",
       "    var fmt_picker_span = $('<span/>');\n",
       "\n",
       "    var fmt_picker = $('<select/>');\n",
       "    fmt_picker.addClass('mpl-toolbar-option ui-widget ui-widget-content');\n",
       "    fmt_picker_span.append(fmt_picker);\n",
       "    nav_element.append(fmt_picker_span);\n",
       "    this.format_dropdown = fmt_picker[0];\n",
       "\n",
       "    for (var ind in mpl.extensions) {\n",
       "        var fmt = mpl.extensions[ind];\n",
       "        var option = $(\n",
       "            '<option/>', {selected: fmt === mpl.default_extension}).html(fmt);\n",
       "        fmt_picker.append(option)\n",
       "    }\n",
       "\n",
       "    // Add hover states to the ui-buttons\n",
       "    $( \".ui-button\" ).hover(\n",
       "        function() { $(this).addClass(\"ui-state-hover\");},\n",
       "        function() { $(this).removeClass(\"ui-state-hover\");}\n",
       "    );\n",
       "\n",
       "    var status_bar = $('<span class=\"mpl-message\"/>');\n",
       "    nav_element.append(status_bar);\n",
       "    this.message = status_bar[0];\n",
       "}\n",
       "\n",
       "mpl.figure.prototype.request_resize = function(x_pixels, y_pixels) {\n",
       "    // Request matplotlib to resize the figure. Matplotlib will then trigger a resize in the client,\n",
       "    // which will in turn request a refresh of the image.\n",
       "    this.send_message('resize', {'width': x_pixels, 'height': y_pixels});\n",
       "}\n",
       "\n",
       "mpl.figure.prototype.send_message = function(type, properties) {\n",
       "    properties['type'] = type;\n",
       "    properties['figure_id'] = this.id;\n",
       "    this.ws.send(JSON.stringify(properties));\n",
       "}\n",
       "\n",
       "mpl.figure.prototype.send_draw_message = function() {\n",
       "    if (!this.waiting) {\n",
       "        this.waiting = true;\n",
       "        this.ws.send(JSON.stringify({type: \"draw\", figure_id: this.id}));\n",
       "    }\n",
       "}\n",
       "\n",
       "\n",
       "mpl.figure.prototype.handle_save = function(fig, msg) {\n",
       "    var format_dropdown = fig.format_dropdown;\n",
       "    var format = format_dropdown.options[format_dropdown.selectedIndex].value;\n",
       "    fig.ondownload(fig, format);\n",
       "}\n",
       "\n",
       "\n",
       "mpl.figure.prototype.handle_resize = function(fig, msg) {\n",
       "    var size = msg['size'];\n",
       "    if (size[0] != fig.canvas.width || size[1] != fig.canvas.height) {\n",
       "        fig._resize_canvas(size[0], size[1]);\n",
       "        fig.send_message(\"refresh\", {});\n",
       "    };\n",
       "}\n",
       "\n",
       "mpl.figure.prototype.handle_rubberband = function(fig, msg) {\n",
       "    var x0 = msg['x0'] / mpl.ratio;\n",
       "    var y0 = (fig.canvas.height - msg['y0']) / mpl.ratio;\n",
       "    var x1 = msg['x1'] / mpl.ratio;\n",
       "    var y1 = (fig.canvas.height - msg['y1']) / mpl.ratio;\n",
       "    x0 = Math.floor(x0) + 0.5;\n",
       "    y0 = Math.floor(y0) + 0.5;\n",
       "    x1 = Math.floor(x1) + 0.5;\n",
       "    y1 = Math.floor(y1) + 0.5;\n",
       "    var min_x = Math.min(x0, x1);\n",
       "    var min_y = Math.min(y0, y1);\n",
       "    var width = Math.abs(x1 - x0);\n",
       "    var height = Math.abs(y1 - y0);\n",
       "\n",
       "    fig.rubberband_context.clearRect(\n",
       "        0, 0, fig.canvas.width, fig.canvas.height);\n",
       "\n",
       "    fig.rubberband_context.strokeRect(min_x, min_y, width, height);\n",
       "}\n",
       "\n",
       "mpl.figure.prototype.handle_figure_label = function(fig, msg) {\n",
       "    // Updates the figure title.\n",
       "    fig.header.textContent = msg['label'];\n",
       "}\n",
       "\n",
       "mpl.figure.prototype.handle_cursor = function(fig, msg) {\n",
       "    var cursor = msg['cursor'];\n",
       "    switch(cursor)\n",
       "    {\n",
       "    case 0:\n",
       "        cursor = 'pointer';\n",
       "        break;\n",
       "    case 1:\n",
       "        cursor = 'default';\n",
       "        break;\n",
       "    case 2:\n",
       "        cursor = 'crosshair';\n",
       "        break;\n",
       "    case 3:\n",
       "        cursor = 'move';\n",
       "        break;\n",
       "    }\n",
       "    fig.rubberband_canvas.style.cursor = cursor;\n",
       "}\n",
       "\n",
       "mpl.figure.prototype.handle_message = function(fig, msg) {\n",
       "    fig.message.textContent = msg['message'];\n",
       "}\n",
       "\n",
       "mpl.figure.prototype.handle_draw = function(fig, msg) {\n",
       "    // Request the server to send over a new figure.\n",
       "    fig.send_draw_message();\n",
       "}\n",
       "\n",
       "mpl.figure.prototype.handle_image_mode = function(fig, msg) {\n",
       "    fig.image_mode = msg['mode'];\n",
       "}\n",
       "\n",
       "mpl.figure.prototype.updated_canvas_event = function() {\n",
       "    // Called whenever the canvas gets updated.\n",
       "    this.send_message(\"ack\", {});\n",
       "}\n",
       "\n",
       "// A function to construct a web socket function for onmessage handling.\n",
       "// Called in the figure constructor.\n",
       "mpl.figure.prototype._make_on_message_function = function(fig) {\n",
       "    return function socket_on_message(evt) {\n",
       "        if (evt.data instanceof Blob) {\n",
       "            /* FIXME: We get \"Resource interpreted as Image but\n",
       "             * transferred with MIME type text/plain:\" errors on\n",
       "             * Chrome.  But how to set the MIME type?  It doesn't seem\n",
       "             * to be part of the websocket stream */\n",
       "            evt.data.type = \"image/png\";\n",
       "\n",
       "            /* Free the memory for the previous frames */\n",
       "            if (fig.imageObj.src) {\n",
       "                (window.URL || window.webkitURL).revokeObjectURL(\n",
       "                    fig.imageObj.src);\n",
       "            }\n",
       "\n",
       "            fig.imageObj.src = (window.URL || window.webkitURL).createObjectURL(\n",
       "                evt.data);\n",
       "            fig.updated_canvas_event();\n",
       "            fig.waiting = false;\n",
       "            return;\n",
       "        }\n",
       "        else if (typeof evt.data === 'string' && evt.data.slice(0, 21) == \"data:image/png;base64\") {\n",
       "            fig.imageObj.src = evt.data;\n",
       "            fig.updated_canvas_event();\n",
       "            fig.waiting = false;\n",
       "            return;\n",
       "        }\n",
       "\n",
       "        var msg = JSON.parse(evt.data);\n",
       "        var msg_type = msg['type'];\n",
       "\n",
       "        // Call the  \"handle_{type}\" callback, which takes\n",
       "        // the figure and JSON message as its only arguments.\n",
       "        try {\n",
       "            var callback = fig[\"handle_\" + msg_type];\n",
       "        } catch (e) {\n",
       "            console.log(\"No handler for the '\" + msg_type + \"' message type: \", msg);\n",
       "            return;\n",
       "        }\n",
       "\n",
       "        if (callback) {\n",
       "            try {\n",
       "                // console.log(\"Handling '\" + msg_type + \"' message: \", msg);\n",
       "                callback(fig, msg);\n",
       "            } catch (e) {\n",
       "                console.log(\"Exception inside the 'handler_\" + msg_type + \"' callback:\", e, e.stack, msg);\n",
       "            }\n",
       "        }\n",
       "    };\n",
       "}\n",
       "\n",
       "// from http://stackoverflow.com/questions/1114465/getting-mouse-location-in-canvas\n",
       "mpl.findpos = function(e) {\n",
       "    //this section is from http://www.quirksmode.org/js/events_properties.html\n",
       "    var targ;\n",
       "    if (!e)\n",
       "        e = window.event;\n",
       "    if (e.target)\n",
       "        targ = e.target;\n",
       "    else if (e.srcElement)\n",
       "        targ = e.srcElement;\n",
       "    if (targ.nodeType == 3) // defeat Safari bug\n",
       "        targ = targ.parentNode;\n",
       "\n",
       "    // jQuery normalizes the pageX and pageY\n",
       "    // pageX,Y are the mouse positions relative to the document\n",
       "    // offset() returns the position of the element relative to the document\n",
       "    var x = e.pageX - $(targ).offset().left;\n",
       "    var y = e.pageY - $(targ).offset().top;\n",
       "\n",
       "    return {\"x\": x, \"y\": y};\n",
       "};\n",
       "\n",
       "/*\n",
       " * return a copy of an object with only non-object keys\n",
       " * we need this to avoid circular references\n",
       " * http://stackoverflow.com/a/24161582/3208463\n",
       " */\n",
       "function simpleKeys (original) {\n",
       "  return Object.keys(original).reduce(function (obj, key) {\n",
       "    if (typeof original[key] !== 'object')\n",
       "        obj[key] = original[key]\n",
       "    return obj;\n",
       "  }, {});\n",
       "}\n",
       "\n",
       "mpl.figure.prototype.mouse_event = function(event, name) {\n",
       "    var canvas_pos = mpl.findpos(event)\n",
       "\n",
       "    if (name === 'button_press')\n",
       "    {\n",
       "        this.canvas.focus();\n",
       "        this.canvas_div.focus();\n",
       "    }\n",
       "\n",
       "    var x = canvas_pos.x * mpl.ratio;\n",
       "    var y = canvas_pos.y * mpl.ratio;\n",
       "\n",
       "    this.send_message(name, {x: x, y: y, button: event.button,\n",
       "                             step: event.step,\n",
       "                             guiEvent: simpleKeys(event)});\n",
       "\n",
       "    /* This prevents the web browser from automatically changing to\n",
       "     * the text insertion cursor when the button is pressed.  We want\n",
       "     * to control all of the cursor setting manually through the\n",
       "     * 'cursor' event from matplotlib */\n",
       "    event.preventDefault();\n",
       "    return false;\n",
       "}\n",
       "\n",
       "mpl.figure.prototype._key_event_extra = function(event, name) {\n",
       "    // Handle any extra behaviour associated with a key event\n",
       "}\n",
       "\n",
       "mpl.figure.prototype.key_event = function(event, name) {\n",
       "\n",
       "    // Prevent repeat events\n",
       "    if (name == 'key_press')\n",
       "    {\n",
       "        if (event.which === this._key)\n",
       "            return;\n",
       "        else\n",
       "            this._key = event.which;\n",
       "    }\n",
       "    if (name == 'key_release')\n",
       "        this._key = null;\n",
       "\n",
       "    var value = '';\n",
       "    if (event.ctrlKey && event.which != 17)\n",
       "        value += \"ctrl+\";\n",
       "    if (event.altKey && event.which != 18)\n",
       "        value += \"alt+\";\n",
       "    if (event.shiftKey && event.which != 16)\n",
       "        value += \"shift+\";\n",
       "\n",
       "    value += 'k';\n",
       "    value += event.which.toString();\n",
       "\n",
       "    this._key_event_extra(event, name);\n",
       "\n",
       "    this.send_message(name, {key: value,\n",
       "                             guiEvent: simpleKeys(event)});\n",
       "    return false;\n",
       "}\n",
       "\n",
       "mpl.figure.prototype.toolbar_button_onclick = function(name) {\n",
       "    if (name == 'download') {\n",
       "        this.handle_save(this, null);\n",
       "    } else {\n",
       "        this.send_message(\"toolbar_button\", {name: name});\n",
       "    }\n",
       "};\n",
       "\n",
       "mpl.figure.prototype.toolbar_button_onmouseover = function(tooltip) {\n",
       "    this.message.textContent = tooltip;\n",
       "};\n",
       "mpl.toolbar_items = [[\"Home\", \"Reset original view\", \"fa fa-home icon-home\", \"home\"], [\"Back\", \"Back to previous view\", \"fa fa-arrow-left icon-arrow-left\", \"back\"], [\"Forward\", \"Forward to next view\", \"fa fa-arrow-right icon-arrow-right\", \"forward\"], [\"\", \"\", \"\", \"\"], [\"Pan\", \"Pan axes with left mouse, zoom with right\", \"fa fa-arrows icon-move\", \"pan\"], [\"Zoom\", \"Zoom to rectangle\", \"fa fa-square-o icon-check-empty\", \"zoom\"], [\"\", \"\", \"\", \"\"], [\"Download\", \"Download plot\", \"fa fa-floppy-o icon-save\", \"download\"]];\n",
       "\n",
       "mpl.extensions = [\"eps\", \"jpeg\", \"pdf\", \"png\", \"ps\", \"raw\", \"svg\", \"tif\"];\n",
       "\n",
       "mpl.default_extension = \"png\";var comm_websocket_adapter = function(comm) {\n",
       "    // Create a \"websocket\"-like object which calls the given IPython comm\n",
       "    // object with the appropriate methods. Currently this is a non binary\n",
       "    // socket, so there is still some room for performance tuning.\n",
       "    var ws = {};\n",
       "\n",
       "    ws.close = function() {\n",
       "        comm.close()\n",
       "    };\n",
       "    ws.send = function(m) {\n",
       "        //console.log('sending', m);\n",
       "        comm.send(m);\n",
       "    };\n",
       "    // Register the callback with on_msg.\n",
       "    comm.on_msg(function(msg) {\n",
       "        //console.log('receiving', msg['content']['data'], msg);\n",
       "        // Pass the mpl event to the overridden (by mpl) onmessage function.\n",
       "        ws.onmessage(msg['content']['data'])\n",
       "    });\n",
       "    return ws;\n",
       "}\n",
       "\n",
       "mpl.mpl_figure_comm = function(comm, msg) {\n",
       "    // This is the function which gets called when the mpl process\n",
       "    // starts-up an IPython Comm through the \"matplotlib\" channel.\n",
       "\n",
       "    var id = msg.content.data.id;\n",
       "    // Get hold of the div created by the display call when the Comm\n",
       "    // socket was opened in Python.\n",
       "    var element = $(\"#\" + id);\n",
       "    var ws_proxy = comm_websocket_adapter(comm)\n",
       "\n",
       "    function ondownload(figure, format) {\n",
       "        window.open(figure.imageObj.src);\n",
       "    }\n",
       "\n",
       "    var fig = new mpl.figure(id, ws_proxy,\n",
       "                           ondownload,\n",
       "                           element.get(0));\n",
       "\n",
       "    // Call onopen now - mpl needs it, as it is assuming we've passed it a real\n",
       "    // web socket which is closed, not our websocket->open comm proxy.\n",
       "    ws_proxy.onopen();\n",
       "\n",
       "    fig.parent_element = element.get(0);\n",
       "    fig.cell_info = mpl.find_output_cell(\"<div id='\" + id + \"'></div>\");\n",
       "    if (!fig.cell_info) {\n",
       "        console.error(\"Failed to find cell for figure\", id, fig);\n",
       "        return;\n",
       "    }\n",
       "\n",
       "    var output_index = fig.cell_info[2]\n",
       "    var cell = fig.cell_info[0];\n",
       "\n",
       "};\n",
       "\n",
       "mpl.figure.prototype.handle_close = function(fig, msg) {\n",
       "    var width = fig.canvas.width/mpl.ratio\n",
       "    fig.root.unbind('remove')\n",
       "\n",
       "    // Update the output cell to use the data from the current canvas.\n",
       "    fig.push_to_output();\n",
       "    var dataURL = fig.canvas.toDataURL();\n",
       "    // Re-enable the keyboard manager in IPython - without this line, in FF,\n",
       "    // the notebook keyboard shortcuts fail.\n",
       "    IPython.keyboard_manager.enable()\n",
       "    $(fig.parent_element).html('<img src=\"' + dataURL + '\" width=\"' + width + '\">');\n",
       "    fig.close_ws(fig, msg);\n",
       "}\n",
       "\n",
       "mpl.figure.prototype.close_ws = function(fig, msg){\n",
       "    fig.send_message('closing', msg);\n",
       "    // fig.ws.close()\n",
       "}\n",
       "\n",
       "mpl.figure.prototype.push_to_output = function(remove_interactive) {\n",
       "    // Turn the data on the canvas into data in the output cell.\n",
       "    var width = this.canvas.width/mpl.ratio\n",
       "    var dataURL = this.canvas.toDataURL();\n",
       "    this.cell_info[1]['text/html'] = '<img src=\"' + dataURL + '\" width=\"' + width + '\">';\n",
       "}\n",
       "\n",
       "mpl.figure.prototype.updated_canvas_event = function() {\n",
       "    // Tell IPython that the notebook contents must change.\n",
       "    IPython.notebook.set_dirty(true);\n",
       "    this.send_message(\"ack\", {});\n",
       "    var fig = this;\n",
       "    // Wait a second, then push the new image to the DOM so\n",
       "    // that it is saved nicely (might be nice to debounce this).\n",
       "    setTimeout(function () { fig.push_to_output() }, 1000);\n",
       "}\n",
       "\n",
       "mpl.figure.prototype._init_toolbar = function() {\n",
       "    var fig = this;\n",
       "\n",
       "    var nav_element = $('<div/>')\n",
       "    nav_element.attr('style', 'width: 100%');\n",
       "    this.root.append(nav_element);\n",
       "\n",
       "    // Define a callback function for later on.\n",
       "    function toolbar_event(event) {\n",
       "        return fig.toolbar_button_onclick(event['data']);\n",
       "    }\n",
       "    function toolbar_mouse_event(event) {\n",
       "        return fig.toolbar_button_onmouseover(event['data']);\n",
       "    }\n",
       "\n",
       "    for(var toolbar_ind in mpl.toolbar_items){\n",
       "        var name = mpl.toolbar_items[toolbar_ind][0];\n",
       "        var tooltip = mpl.toolbar_items[toolbar_ind][1];\n",
       "        var image = mpl.toolbar_items[toolbar_ind][2];\n",
       "        var method_name = mpl.toolbar_items[toolbar_ind][3];\n",
       "\n",
       "        if (!name) { continue; };\n",
       "\n",
       "        var button = $('<button class=\"btn btn-default\" href=\"#\" title=\"' + name + '\"><i class=\"fa ' + image + ' fa-lg\"></i></button>');\n",
       "        button.click(method_name, toolbar_event);\n",
       "        button.mouseover(tooltip, toolbar_mouse_event);\n",
       "        nav_element.append(button);\n",
       "    }\n",
       "\n",
       "    // Add the status bar.\n",
       "    var status_bar = $('<span class=\"mpl-message\" style=\"text-align:right; float: right;\"/>');\n",
       "    nav_element.append(status_bar);\n",
       "    this.message = status_bar[0];\n",
       "\n",
       "    // Add the close button to the window.\n",
       "    var buttongrp = $('<div class=\"btn-group inline pull-right\"></div>');\n",
       "    var button = $('<button class=\"btn btn-mini btn-primary\" href=\"#\" title=\"Stop Interaction\"><i class=\"fa fa-power-off icon-remove icon-large\"></i></button>');\n",
       "    button.click(function (evt) { fig.handle_close(fig, {}); } );\n",
       "    button.mouseover('Stop Interaction', toolbar_mouse_event);\n",
       "    buttongrp.append(button);\n",
       "    var titlebar = this.root.find($('.ui-dialog-titlebar'));\n",
       "    titlebar.prepend(buttongrp);\n",
       "}\n",
       "\n",
       "mpl.figure.prototype._root_extra_style = function(el){\n",
       "    var fig = this\n",
       "    el.on(\"remove\", function(){\n",
       "\tfig.close_ws(fig, {});\n",
       "    });\n",
       "}\n",
       "\n",
       "mpl.figure.prototype._canvas_extra_style = function(el){\n",
       "    // this is important to make the div 'focusable\n",
       "    el.attr('tabindex', 0)\n",
       "    // reach out to IPython and tell the keyboard manager to turn it's self\n",
       "    // off when our div gets focus\n",
       "\n",
       "    // location in version 3\n",
       "    if (IPython.notebook.keyboard_manager) {\n",
       "        IPython.notebook.keyboard_manager.register_events(el);\n",
       "    }\n",
       "    else {\n",
       "        // location in version 2\n",
       "        IPython.keyboard_manager.register_events(el);\n",
       "    }\n",
       "\n",
       "}\n",
       "\n",
       "mpl.figure.prototype._key_event_extra = function(event, name) {\n",
       "    var manager = IPython.notebook.keyboard_manager;\n",
       "    if (!manager)\n",
       "        manager = IPython.keyboard_manager;\n",
       "\n",
       "    // Check for shift+enter\n",
       "    if (event.shiftKey && event.which == 13) {\n",
       "        this.canvas_div.blur();\n",
       "        event.shiftKey = false;\n",
       "        // Send a \"J\" for go to next cell\n",
       "        event.which = 74;\n",
       "        event.keyCode = 74;\n",
       "        manager.command_mode();\n",
       "        manager.handle_keydown(event);\n",
       "    }\n",
       "}\n",
       "\n",
       "mpl.figure.prototype.handle_save = function(fig, msg) {\n",
       "    fig.ondownload(fig, null);\n",
       "}\n",
       "\n",
       "\n",
       "mpl.find_output_cell = function(html_output) {\n",
       "    // Return the cell and output element which can be found *uniquely* in the notebook.\n",
       "    // Note - this is a bit hacky, but it is done because the \"notebook_saving.Notebook\"\n",
       "    // IPython event is triggered only after the cells have been serialised, which for\n",
       "    // our purposes (turning an active figure into a static one), is too late.\n",
       "    var cells = IPython.notebook.get_cells();\n",
       "    var ncells = cells.length;\n",
       "    for (var i=0; i<ncells; i++) {\n",
       "        var cell = cells[i];\n",
       "        if (cell.cell_type === 'code'){\n",
       "            for (var j=0; j<cell.output_area.outputs.length; j++) {\n",
       "                var data = cell.output_area.outputs[j];\n",
       "                if (data.data) {\n",
       "                    // IPython >= 3 moved mimebundle to data attribute of output\n",
       "                    data = data.data;\n",
       "                }\n",
       "                if (data['text/html'] == html_output) {\n",
       "                    return [cell, data, j];\n",
       "                }\n",
       "            }\n",
       "        }\n",
       "    }\n",
       "}\n",
       "\n",
       "// Register the function which deals with the matplotlib target/channel.\n",
       "// The kernel may be null if the page has been refreshed.\n",
       "if (IPython.notebook.kernel != null) {\n",
       "    IPython.notebook.kernel.comm_manager.register_target('matplotlib', mpl.mpl_figure_comm);\n",
       "}\n"
      ],
      "text/plain": [
       "<IPython.core.display.Javascript object>"
      ]
     },
     "metadata": {},
     "output_type": "display_data"
    },
    {
     "data": {
      "text/html": [
       "<div id='9cf6e65e-1807-4d4a-a941-c1834c62f8c9'></div>"
      ],
      "text/plain": [
       "<IPython.core.display.HTML object>"
      ]
     },
     "metadata": {},
     "output_type": "display_data"
    },
    {
     "data": {
      "application/vnd.jupyter.widget-view+json": {
       "model_id": "b11aa0c0a08b494f890c1fee782debac",
       "version_major": 2,
       "version_minor": 0
      },
      "text/plain": [
       "Button(description='Update', style=ButtonStyle())"
      ]
     },
     "metadata": {},
     "output_type": "display_data"
    },
    {
     "data": {
      "application/vnd.jupyter.widget-view+json": {
       "model_id": "d9854f14e78d4d8a892b68af8b6e257b",
       "version_major": 2,
       "version_minor": 0
      },
      "text/plain": [
       "IntText(value=30, description='Epoch history')"
      ]
     },
     "metadata": {},
     "output_type": "display_data"
    }
   ],
   "source": [
    "matplotlib.rcParams.update({'font.size': 22})\n",
    "fig3 = plt.figure(figsize = (9,6))\n",
    "ax3 = fig3.subplots()\n",
    "#matplotlib.pyplot.ion()\n",
    "\n",
    "\n",
    "button = widgets.Button(description=\"Update\")\n",
    "show_epochs = widgets.IntText(description='Epoch history',disabled=False)\n",
    "show_epochs.value = 30\n",
    "\n",
    "def on_button_clicked(b):\n",
    "    with open('../loss.log') as f:\n",
    "        content = f.readlines()\n",
    "    content = [float(x.strip()) for x in content]\n",
    "    xmin = 0\n",
    "    xmax = len(content)\n",
    "    if xmax > show_epochs.value:\n",
    "        xmin = xmax-show_epochs.value\n",
    "        content = content[xmin:xmax]\n",
    "    ymin = np.min(content)\n",
    "    ymax = np.max(content)\n",
    "    x_axis = np.linspace(xmin, xmax-1, num=xmax-xmin)\n",
    "\n",
    "    #matplotlib.pyplot.gcf().clear()\n",
    "    ax3.clear()\n",
    "    ax3.set_xlim(xmin, xmax)\n",
    "    yaxismin = ymin - (ymax-ymin)/3\n",
    "    if yaxismin < 0:\n",
    "        yaxismin = 0\n",
    "    ax3.set_ylim(ymin - (ymax-ymin)/3, ymax)\n",
    "    ax3.plot(x_axis, content, linewidth=5.0)\n",
    "    ax3.xaxis.set_major_locator(matplotlib.ticker.MaxNLocator(integer=True))\n",
    "    ax3.grid(linestyle='-', linewidth='0.5', color='red')\n",
    "    fig3.canvas.draw()\n",
    "\n",
    "    \n",
    "on_button_clicked(None)\n",
    "fig3.show()\n",
    "\n",
    "display(button)\n",
    "display(show_epochs)\n",
    "\n",
    "button.on_click(on_button_clicked)\n",
    "show_epochs.observe(on_button_clicked)"
   ]
  },
  {
   "cell_type": "code",
   "execution_count": 5,
   "metadata": {},
   "outputs": [],
   "source": [
    "class args():\n",
    "    batch_size = 1\n",
    "    loss = 'MSE'\n",
    "    use_recon = 0.001\n",
    "    num_workers = 1\n",
    "    disable_recon = False\n",
    "    dataset = 'rabbit100x100'\n",
    "    normalize = 0\n",
    "    stereo = False\n",
    "\n",
    "    "
   ]
  },
  {
   "cell_type": "markdown",
   "metadata": {},
   "source": [
    "## Ground Truth"
   ]
  },
  {
   "cell_type": "code",
   "execution_count": 6,
   "metadata": {
    "scrolled": false
   },
   "outputs": [],
   "source": [
    "def updateOutputWidget(widget, array, color=\"L\"):\n",
    "    f = BytesIO()\n",
    "    PIL.Image.fromarray(np.uint8(array*255), mode=color).convert(color).save(f, 'png')\n",
    "    widget.clear_output()\n",
    "    with widget:\n",
    "        display(Image(data=f.getvalue(), width='100%'))\n"
   ]
  },
  {
   "cell_type": "markdown",
   "metadata": {},
   "source": [
    "## Activations of convolutional layers and primary capsules layer"
   ]
  },
  {
   "cell_type": "code",
   "execution_count": 7,
   "metadata": {
    "scrolled": false
   },
   "outputs": [
    {
     "data": {
      "application/vnd.jupyter.widget-view+json": {
       "model_id": "612e148004ff4312a8ff5152e0f4c3bc",
       "version_major": 2,
       "version_minor": 0
      },
      "text/plain": [
       "VBox(children=(Output(layout=Layout(width='100%')), Output(layout=Layout(width='100%')), HBox(children=(Output…"
      ]
     },
     "metadata": {},
     "output_type": "display_data"
    }
   ],
   "source": [
    "layer1_widget = widgets.Output(layout=Layout(width='100%'))\n",
    "layer2_widget = widgets.Output(layout=Layout(width='100%'))\n",
    "layer3_widget = widgets.Output(layout=Layout(width='100%'))\n",
    "layer4_widget = widgets.Output(layout=Layout(width='100%'))\n",
    "layer5_widget = widgets.Output(layout=Layout(width='100%'))\n",
    "layer6_widget = widgets.Output(layout=Layout(width='100%'))\n",
    "#layer12_widget = HBox([layer1_widget, layer2_widget], layout=Layout(width='100%'))\n",
    "l345_widget = HBox([layer3_widget, layer4_widget, layer5_widget, layer6_widget])\n",
    "layer_widget = VBox([layer1_widget, layer2_widget, l345_widget], layout=Layout(width='100%'))\n",
    "display(layer_widget)\n",
    "\n",
    "\n",
    "\n",
    "def makeCombinedImage(img, scale=1):\n",
    "    if scale != 1:\n",
    "        img = torch.nn.functional.interpolate(img, scale_factor=scale, mode='nearest')\n",
    "    img = img.squeeze().unsqueeze(1)\n",
    "    return utils.make_grid(img.data, nrow=int(img.shape[0] ** 0.5), normalize=True,range=(0, 1)).cpu().numpy()\n",
    "    \n",
    "def forward(self, x, lambda_, labels=None, draw=True):\n",
    "    if x is not None:\n",
    "        x = F.relu(self.bn1(self.conv1(x)))\n",
    "\n",
    "        if draw is True:\n",
    "            grid_picture = makeCombinedImage(x, scale=4)\n",
    "            updateOutputWidget(layer1_widget, grid_picture.transpose(1,2,0), \"RGB\")\n",
    "\n",
    "        x = F.max_pool2d(x, 2, 2)\n",
    "        x = F.relu(self.bn2(self.conv2(x)))\n",
    "        \n",
    "        if draw is True:\n",
    "            grid_picture = makeCombinedImage(x, scale=8)\n",
    "            updateOutputWidget(layer2_widget, grid_picture.transpose(1,2,0), \"RGB\")\n",
    "        \n",
    "        \n",
    "        # Combine left and right\n",
    "        left = x[:,:,:,:int(x.shape[-1]/2)]\n",
    "        right = x[:,:,:,int(x.shape[-1]/2):]\n",
    "        x = torch.stack([left,right], dim=1).view(x.shape[0],-1,x.shape[2],x.shape[2])\n",
    "        \n",
    "        \n",
    "        #x = F.relu(self.bn3(self.conv3(x)))\n",
    "        #if draw is True:\n",
    "        #    grid_picture = makeCombinedImage(x)\n",
    "        #    updateOutputWidget(layer3_widget, grid_picture.transpose(1,2,0), \"RGB\")\n",
    "        \n",
    "        p, a = self.primary_caps(x)  # b,32*(4*4+1),12,12\n",
    "\n",
    "        if draw is True:\n",
    "            grid_picture = makeCombinedImage(a, scale=16)\n",
    "            updateOutputWidget(layer3_widget, grid_picture.transpose(1,2,0), \"RGB\")\n",
    "            \n",
    "        p, a = self.convcaps1(lambda_, p, a)  # b,32*(4*4+1),5,5\n",
    "\n",
    "        if draw is True:\n",
    "            grid_picture = makeCombinedImage(a, scale=16)\n",
    "            updateOutputWidget(layer4_widget, grid_picture.transpose(1,2,0), \"RGB\")\n",
    "\n",
    "        p, a = self.convcaps2(lambda_, p, a)  # b,32*(4*4+1),3,3\n",
    "\n",
    "        if draw is True:\n",
    "            grid_picture = makeCombinedImage(a, scale=16)\n",
    "            updateOutputWidget(layer5_widget, grid_picture.transpose(1,2,0), \"RGB\")\n",
    "\n",
    "        p, a = self.convcaps3(lambda_, p, a)  # b,32*(4*4+1),3,3\n",
    "\n",
    "        if draw is True:\n",
    "            grid_picture = makeCombinedImage(a, scale=16)\n",
    "            updateOutputWidget(layer6_widget, grid_picture.transpose(1,2,0), \"RGB\")\n",
    "            \n",
    "        p, a = self.classcaps(lambda_, p, a)  # b,10*16+10\n",
    "\n",
    "        \n",
    "        \"\"\" Find pose with largest activation \"\"\"\n",
    "        \"\"\"\n",
    "        dist = torch.arange(float(3)) / 3\n",
    "        a_tmp = a.view(a.shape[0],-1)\n",
    "        p_tmp = p.view(p.shape[0],-1,p.shape[-1])\n",
    "        _, i = torch.max(a_tmp, 1)\n",
    "        new_a = []\n",
    "        new_p = []\n",
    "        coords = []\n",
    "        for counter, j in enumerate(i):\n",
    "            new_a.append(a_tmp[counter, j])\n",
    "            new_p.append(p_tmp[counter, j, :])\n",
    "\n",
    "            w_x=j%3\n",
    "            w_y=j/3\n",
    "            xyz = p_tmp[counter, j, :][(3,7,11),]\n",
    "            xyz[0] += dist[w_x]\n",
    "            xyz[1] += dist[w_y]\n",
    "            xyz = torch.cat([xyz, torch.FloatTensor([w_x, w_y])], dim=0)\n",
    "            coords.append(xyz)\n",
    "            #p[:, (3,7,11)] = xyz * 1.0\n",
    "\n",
    "        a = torch.stack(new_a, dim=0)\n",
    "        p = torch.stack(new_p, dim=0)\n",
    "\n",
    "        coords = torch.stack(coords, dim=0)\n",
    "        coords = self.coord_add_encoder(coords)\n",
    "        \"\"\"\n",
    "        \n",
    "        p = p.squeeze()\n",
    "        \n",
    "        # Temporary when batch size = 1\n",
    "        if len(p.shape) == 1:\n",
    "            p = p.unsqueeze(0)\n",
    "       \n",
    "        xyz = p[:, (3,7,11)]\n",
    "        xyz = self.coord_add_encoder(xyz)\n",
    "        p[:, (3,7,11)] = xyz * 1.0\n",
    "    else:\n",
    "        p = labels\n",
    "\n",
    "    if not self.args.disable_recon:\n",
    "        reconstructions = self.decoder(p)\n",
    "    else:\n",
    "        reconstructions = 0\n",
    "\n",
    "    return p, reconstructions"
   ]
  },
  {
   "cell_type": "markdown",
   "metadata": {},
   "source": [
    "## 4x4 pose output"
   ]
  },
  {
   "cell_type": "code",
   "execution_count": 8,
   "metadata": {
    "scrolled": false
   },
   "outputs": [
    {
     "data": {
      "application/vnd.jupyter.widget-view+json": {
       "model_id": "127d5f2171b047e3baa89554b976ebbf",
       "version_major": 2,
       "version_minor": 0
      },
      "text/plain": [
       "HBox(children=(VBox(children=(HBox(children=(Output(layout=Layout(width='100%')), Output(layout=Layout(width='…"
      ]
     },
     "metadata": {},
     "output_type": "display_data"
    },
    {
     "data": {
      "application/vnd.jupyter.widget-view+json": {
       "model_id": "9a62c9c0093b4180bc04dab293362eea",
       "version_major": 2,
       "version_minor": 0
      },
      "text/plain": [
       "HBox(children=(Label(value='Output', layout=Layout(width='100%')), Label(value='Label', layout=Layout(width='1…"
      ]
     },
     "metadata": {},
     "output_type": "display_data"
    },
    {
     "data": {
      "application/vnd.jupyter.widget-view+json": {
       "model_id": "197803f38f8144f8a398035e0bfba9b1",
       "version_major": 2,
       "version_minor": 0
      },
      "text/plain": [
       "HBox(children=(Textarea(value='', layout=Layout(height='90px', width='100%')), Textarea(value='', layout=Layou…"
      ]
     },
     "metadata": {},
     "output_type": "display_data"
    },
    {
     "data": {
      "text/markdown": [
       "## Latest model is: ../weights/model_1000.pth"
      ],
      "text/plain": [
       "<IPython.core.display.Markdown object>"
      ]
     },
     "metadata": {},
     "output_type": "display_data"
    },
    {
     "ename": "RuntimeError",
     "evalue": "Attempting to deserialize object on a CUDA device but torch.cuda.is_available() is False. If you are running on a CPU-only machine, please use torch.load with map_location='cpu' to map your storages to the CPU.",
     "output_type": "error",
     "traceback": [
      "\u001b[0;31m---------------------------------------------------------------------------\u001b[0m",
      "\u001b[0;31mRuntimeError\u001b[0m                              Traceback (most recent call last)",
      "\u001b[0;32m<ipython-input-8-2b5726f0452e>\u001b[0m in \u001b[0;36m<module>\u001b[0;34m\u001b[0m\n\u001b[1;32m    190\u001b[0m \u001b[0mmodel_name\u001b[0m \u001b[0;34m=\u001b[0m \u001b[0mmax\u001b[0m\u001b[0;34m(\u001b[0m\u001b[0mglob\u001b[0m\u001b[0;34m.\u001b[0m\u001b[0miglob\u001b[0m\u001b[0;34m(\u001b[0m\u001b[0;34m\"{}model*.pth\"\u001b[0m\u001b[0;34m.\u001b[0m\u001b[0mformat\u001b[0m\u001b[0;34m(\u001b[0m\u001b[0mpath\u001b[0m\u001b[0;34m)\u001b[0m\u001b[0;34m)\u001b[0m\u001b[0;34m,\u001b[0m\u001b[0mkey\u001b[0m\u001b[0;34m=\u001b[0m\u001b[0mos\u001b[0m\u001b[0;34m.\u001b[0m\u001b[0mpath\u001b[0m\u001b[0;34m.\u001b[0m\u001b[0mgetctime\u001b[0m\u001b[0;34m)\u001b[0m\u001b[0;34m\u001b[0m\u001b[0;34m\u001b[0m\u001b[0m\n\u001b[1;32m    191\u001b[0m \u001b[0mdisplay\u001b[0m\u001b[0;34m(\u001b[0m\u001b[0mMarkdown\u001b[0m\u001b[0;34m(\u001b[0m\u001b[0;34m'## Latest model is: '\u001b[0m\u001b[0;34m+\u001b[0m\u001b[0mmodel_name\u001b[0m\u001b[0;34m)\u001b[0m\u001b[0;34m)\u001b[0m\u001b[0;34m\u001b[0m\u001b[0;34m\u001b[0m\u001b[0m\n\u001b[0;32m--> 192\u001b[0;31m \u001b[0mmodel\u001b[0m\u001b[0;34m.\u001b[0m\u001b[0mload_state_dict\u001b[0m\u001b[0;34m(\u001b[0m \u001b[0mtorch\u001b[0m\u001b[0;34m.\u001b[0m\u001b[0mload\u001b[0m\u001b[0;34m(\u001b[0m\u001b[0mmodel_name\u001b[0m\u001b[0;34m)\u001b[0m \u001b[0;34m)\u001b[0m\u001b[0;34m\u001b[0m\u001b[0;34m\u001b[0m\u001b[0m\n\u001b[0m\u001b[1;32m    193\u001b[0m \u001b[0mmodel\u001b[0m\u001b[0;34m.\u001b[0m\u001b[0mcpu\u001b[0m\u001b[0;34m(\u001b[0m\u001b[0;34m)\u001b[0m\u001b[0;34m\u001b[0m\u001b[0;34m\u001b[0m\u001b[0m\n\u001b[1;32m    194\u001b[0m \u001b[0mmodel\u001b[0m\u001b[0;34m.\u001b[0m\u001b[0meval\u001b[0m\u001b[0;34m(\u001b[0m\u001b[0;34m)\u001b[0m\u001b[0;34m\u001b[0m\u001b[0;34m\u001b[0m\u001b[0m\n",
      "\u001b[0;32m~/.local/lib/python3.6/site-packages/torch/serialization.py\u001b[0m in \u001b[0;36mload\u001b[0;34m(f, map_location, pickle_module)\u001b[0m\n\u001b[1;32m    366\u001b[0m         \u001b[0mf\u001b[0m \u001b[0;34m=\u001b[0m \u001b[0mopen\u001b[0m\u001b[0;34m(\u001b[0m\u001b[0mf\u001b[0m\u001b[0;34m,\u001b[0m \u001b[0;34m'rb'\u001b[0m\u001b[0;34m)\u001b[0m\u001b[0;34m\u001b[0m\u001b[0;34m\u001b[0m\u001b[0m\n\u001b[1;32m    367\u001b[0m     \u001b[0;32mtry\u001b[0m\u001b[0;34m:\u001b[0m\u001b[0;34m\u001b[0m\u001b[0;34m\u001b[0m\u001b[0m\n\u001b[0;32m--> 368\u001b[0;31m         \u001b[0;32mreturn\u001b[0m \u001b[0m_load\u001b[0m\u001b[0;34m(\u001b[0m\u001b[0mf\u001b[0m\u001b[0;34m,\u001b[0m \u001b[0mmap_location\u001b[0m\u001b[0;34m,\u001b[0m \u001b[0mpickle_module\u001b[0m\u001b[0;34m)\u001b[0m\u001b[0;34m\u001b[0m\u001b[0;34m\u001b[0m\u001b[0m\n\u001b[0m\u001b[1;32m    369\u001b[0m     \u001b[0;32mfinally\u001b[0m\u001b[0;34m:\u001b[0m\u001b[0;34m\u001b[0m\u001b[0;34m\u001b[0m\u001b[0m\n\u001b[1;32m    370\u001b[0m         \u001b[0;32mif\u001b[0m \u001b[0mnew_fd\u001b[0m\u001b[0;34m:\u001b[0m\u001b[0;34m\u001b[0m\u001b[0;34m\u001b[0m\u001b[0m\n",
      "\u001b[0;32m~/.local/lib/python3.6/site-packages/torch/serialization.py\u001b[0m in \u001b[0;36m_load\u001b[0;34m(f, map_location, pickle_module)\u001b[0m\n\u001b[1;32m    540\u001b[0m     \u001b[0munpickler\u001b[0m \u001b[0;34m=\u001b[0m \u001b[0mpickle_module\u001b[0m\u001b[0;34m.\u001b[0m\u001b[0mUnpickler\u001b[0m\u001b[0;34m(\u001b[0m\u001b[0mf\u001b[0m\u001b[0;34m)\u001b[0m\u001b[0;34m\u001b[0m\u001b[0;34m\u001b[0m\u001b[0m\n\u001b[1;32m    541\u001b[0m     \u001b[0munpickler\u001b[0m\u001b[0;34m.\u001b[0m\u001b[0mpersistent_load\u001b[0m \u001b[0;34m=\u001b[0m \u001b[0mpersistent_load\u001b[0m\u001b[0;34m\u001b[0m\u001b[0;34m\u001b[0m\u001b[0m\n\u001b[0;32m--> 542\u001b[0;31m     \u001b[0mresult\u001b[0m \u001b[0;34m=\u001b[0m \u001b[0munpickler\u001b[0m\u001b[0;34m.\u001b[0m\u001b[0mload\u001b[0m\u001b[0;34m(\u001b[0m\u001b[0;34m)\u001b[0m\u001b[0;34m\u001b[0m\u001b[0;34m\u001b[0m\u001b[0m\n\u001b[0m\u001b[1;32m    543\u001b[0m \u001b[0;34m\u001b[0m\u001b[0m\n\u001b[1;32m    544\u001b[0m     \u001b[0mdeserialized_storage_keys\u001b[0m \u001b[0;34m=\u001b[0m \u001b[0mpickle_module\u001b[0m\u001b[0;34m.\u001b[0m\u001b[0mload\u001b[0m\u001b[0;34m(\u001b[0m\u001b[0mf\u001b[0m\u001b[0;34m)\u001b[0m\u001b[0;34m\u001b[0m\u001b[0;34m\u001b[0m\u001b[0m\n",
      "\u001b[0;32m~/.local/lib/python3.6/site-packages/torch/serialization.py\u001b[0m in \u001b[0;36mpersistent_load\u001b[0;34m(saved_id)\u001b[0m\n\u001b[1;32m    503\u001b[0m             \u001b[0;32mif\u001b[0m \u001b[0mroot_key\u001b[0m \u001b[0;32mnot\u001b[0m \u001b[0;32min\u001b[0m \u001b[0mdeserialized_objects\u001b[0m\u001b[0;34m:\u001b[0m\u001b[0;34m\u001b[0m\u001b[0;34m\u001b[0m\u001b[0m\n\u001b[1;32m    504\u001b[0m                 deserialized_objects[root_key] = restore_location(\n\u001b[0;32m--> 505\u001b[0;31m                     data_type(size), location)\n\u001b[0m\u001b[1;32m    506\u001b[0m             \u001b[0mstorage\u001b[0m \u001b[0;34m=\u001b[0m \u001b[0mdeserialized_objects\u001b[0m\u001b[0;34m[\u001b[0m\u001b[0mroot_key\u001b[0m\u001b[0;34m]\u001b[0m\u001b[0;34m\u001b[0m\u001b[0;34m\u001b[0m\u001b[0m\n\u001b[1;32m    507\u001b[0m             \u001b[0;32mif\u001b[0m \u001b[0mview_metadata\u001b[0m \u001b[0;32mis\u001b[0m \u001b[0;32mnot\u001b[0m \u001b[0;32mNone\u001b[0m\u001b[0;34m:\u001b[0m\u001b[0;34m\u001b[0m\u001b[0;34m\u001b[0m\u001b[0m\n",
      "\u001b[0;32m~/.local/lib/python3.6/site-packages/torch/serialization.py\u001b[0m in \u001b[0;36mdefault_restore_location\u001b[0;34m(storage, location)\u001b[0m\n\u001b[1;32m    112\u001b[0m \u001b[0;32mdef\u001b[0m \u001b[0mdefault_restore_location\u001b[0m\u001b[0;34m(\u001b[0m\u001b[0mstorage\u001b[0m\u001b[0;34m,\u001b[0m \u001b[0mlocation\u001b[0m\u001b[0;34m)\u001b[0m\u001b[0;34m:\u001b[0m\u001b[0;34m\u001b[0m\u001b[0;34m\u001b[0m\u001b[0m\n\u001b[1;32m    113\u001b[0m     \u001b[0;32mfor\u001b[0m \u001b[0m_\u001b[0m\u001b[0;34m,\u001b[0m \u001b[0m_\u001b[0m\u001b[0;34m,\u001b[0m \u001b[0mfn\u001b[0m \u001b[0;32min\u001b[0m \u001b[0m_package_registry\u001b[0m\u001b[0;34m:\u001b[0m\u001b[0;34m\u001b[0m\u001b[0;34m\u001b[0m\u001b[0m\n\u001b[0;32m--> 114\u001b[0;31m         \u001b[0mresult\u001b[0m \u001b[0;34m=\u001b[0m \u001b[0mfn\u001b[0m\u001b[0;34m(\u001b[0m\u001b[0mstorage\u001b[0m\u001b[0;34m,\u001b[0m \u001b[0mlocation\u001b[0m\u001b[0;34m)\u001b[0m\u001b[0;34m\u001b[0m\u001b[0;34m\u001b[0m\u001b[0m\n\u001b[0m\u001b[1;32m    115\u001b[0m         \u001b[0;32mif\u001b[0m \u001b[0mresult\u001b[0m \u001b[0;32mis\u001b[0m \u001b[0;32mnot\u001b[0m \u001b[0;32mNone\u001b[0m\u001b[0;34m:\u001b[0m\u001b[0;34m\u001b[0m\u001b[0;34m\u001b[0m\u001b[0m\n\u001b[1;32m    116\u001b[0m             \u001b[0;32mreturn\u001b[0m \u001b[0mresult\u001b[0m\u001b[0;34m\u001b[0m\u001b[0;34m\u001b[0m\u001b[0m\n",
      "\u001b[0;32m~/.local/lib/python3.6/site-packages/torch/serialization.py\u001b[0m in \u001b[0;36m_cuda_deserialize\u001b[0;34m(obj, location)\u001b[0m\n\u001b[1;32m     93\u001b[0m \u001b[0;32mdef\u001b[0m \u001b[0m_cuda_deserialize\u001b[0m\u001b[0;34m(\u001b[0m\u001b[0mobj\u001b[0m\u001b[0;34m,\u001b[0m \u001b[0mlocation\u001b[0m\u001b[0;34m)\u001b[0m\u001b[0;34m:\u001b[0m\u001b[0;34m\u001b[0m\u001b[0;34m\u001b[0m\u001b[0m\n\u001b[1;32m     94\u001b[0m     \u001b[0;32mif\u001b[0m \u001b[0mlocation\u001b[0m\u001b[0;34m.\u001b[0m\u001b[0mstartswith\u001b[0m\u001b[0;34m(\u001b[0m\u001b[0;34m'cuda'\u001b[0m\u001b[0;34m)\u001b[0m\u001b[0;34m:\u001b[0m\u001b[0;34m\u001b[0m\u001b[0;34m\u001b[0m\u001b[0m\n\u001b[0;32m---> 95\u001b[0;31m         \u001b[0mdevice\u001b[0m \u001b[0;34m=\u001b[0m \u001b[0mvalidate_cuda_device\u001b[0m\u001b[0;34m(\u001b[0m\u001b[0mlocation\u001b[0m\u001b[0;34m)\u001b[0m\u001b[0;34m\u001b[0m\u001b[0;34m\u001b[0m\u001b[0m\n\u001b[0m\u001b[1;32m     96\u001b[0m         \u001b[0;32mreturn\u001b[0m \u001b[0mobj\u001b[0m\u001b[0;34m.\u001b[0m\u001b[0mcuda\u001b[0m\u001b[0;34m(\u001b[0m\u001b[0mdevice\u001b[0m\u001b[0;34m)\u001b[0m\u001b[0;34m\u001b[0m\u001b[0;34m\u001b[0m\u001b[0m\n\u001b[1;32m     97\u001b[0m \u001b[0;34m\u001b[0m\u001b[0m\n",
      "\u001b[0;32m~/.local/lib/python3.6/site-packages/torch/serialization.py\u001b[0m in \u001b[0;36mvalidate_cuda_device\u001b[0;34m(location)\u001b[0m\n\u001b[1;32m     77\u001b[0m \u001b[0;34m\u001b[0m\u001b[0m\n\u001b[1;32m     78\u001b[0m     \u001b[0;32mif\u001b[0m \u001b[0;32mnot\u001b[0m \u001b[0mtorch\u001b[0m\u001b[0;34m.\u001b[0m\u001b[0mcuda\u001b[0m\u001b[0;34m.\u001b[0m\u001b[0mis_available\u001b[0m\u001b[0;34m(\u001b[0m\u001b[0;34m)\u001b[0m\u001b[0;34m:\u001b[0m\u001b[0;34m\u001b[0m\u001b[0;34m\u001b[0m\u001b[0m\n\u001b[0;32m---> 79\u001b[0;31m         raise RuntimeError('Attempting to deserialize object on a CUDA '\n\u001b[0m\u001b[1;32m     80\u001b[0m                            \u001b[0;34m'device but torch.cuda.is_available() is False. '\u001b[0m\u001b[0;34m\u001b[0m\u001b[0;34m\u001b[0m\u001b[0m\n\u001b[1;32m     81\u001b[0m                            \u001b[0;34m'If you are running on a CPU-only machine, '\u001b[0m\u001b[0;34m\u001b[0m\u001b[0;34m\u001b[0m\u001b[0m\n",
      "\u001b[0;31mRuntimeError\u001b[0m: Attempting to deserialize object on a CUDA device but torch.cuda.is_available() is False. If you are running on a CPU-only machine, please use torch.load with map_location='cpu' to map your storages to the CPU."
     ]
    }
   ],
   "source": [
    "truth_widget_left = widgets.Output(layout=Layout(width='100%'))\n",
    "truth_widget_right = widgets.Output(layout=Layout(width='100%'))\n",
    "recon_widget_left = widgets.Output(layout=Layout(width='100%'))\n",
    "recon_widget_right = widgets.Output(layout=Layout(width='100%'))\n",
    "truth_widget = HBox([truth_widget_left, truth_widget_right], layout=Layout(width='100%'))\n",
    "recon_widget = HBox([recon_widget_left, recon_widget_right], layout=Layout(width='100%'))\n",
    "step_widget = VBox([truth_widget, recon_widget], layout=Layout(width='100%'))\n",
    "names = ['p0', 'p1', 'p2', 'p3', 'p4', 'p5', 'p6', 'p7', 'p8', 'p9', 'activ']\n",
    "pose_sliders = [FloatSlider(min=-100, max=100, layout={'height': '50%'}, step=0.00001, description=i, orientation='horizontal') for i in names]\n",
    "button_next = widgets.Button(description=\"Next\", layout={'height': '50%'})\n",
    "pose_sliders.append(button_next)\n",
    "sliders_widget = VBox(pose_sliders, layout=Layout(width='60%'))\n",
    "step_slider_widget = HBox([step_widget, sliders_widget],layout=Layout(width='100%'))\n",
    "pose_output = widgets.Textarea(layout={'width': '100%','height': '90px'},disabled=False)\n",
    "pose_label = widgets.Textarea(layout={'width': '100%','height': '90px'},disabled=False)\n",
    "pose_error = widgets.Textarea(layout={'width': '100%','height': '90px'},disabled=False)\n",
    "\n",
    "\n",
    "label_widget = HBox([widgets.Label(layout={'width': '100%'},value=\"Output\"), widgets.Label(layout={'width': '100%'},value=\"Label\"), widgets.Label(layout={'width': '100%'},value=\"Error\")])\n",
    "pose_widget = HBox([pose_output, pose_label, pose_error])\n",
    "\n",
    "the_time = time.time()\n",
    "do_update = True\n",
    "\n",
    "display(step_slider_widget)\n",
    "display(label_widget)\n",
    "display(pose_widget)\n",
    "\n",
    "# Initialize view and projection for coord system rendering\n",
    "w_width, w_height = 800, 800\n",
    "focus_distance = 1.9\n",
    "view = pyrr.matrix44.create_from_translation(pyrr.Vector3([0.0, 0.0, -focus_distance])).transpose()\n",
    "projection = pyrr.matrix44.create_perspective_projection_matrix(65.0, w_width / w_height, 0.1, 100.0).transpose()\n",
    "\n",
    "def plotPoint(pnt, color_idx, img):\n",
    "    model_view = pyrr.matrix44.multiply(view, pnt)\n",
    "    model_projection = pyrr.matrix44.multiply(projection, model_view)\n",
    "    scaling = model_projection[3]\n",
    "    pix_x = img.shape[1]/2 + (model_projection[0]/scaling) * img.shape[1]/2\n",
    "    if pix_x >= img.shape[1]: pix_x = img.shape[1]-1\n",
    "    if pix_x < 0: pix_x = 0\n",
    "    pix_y = img.shape[0]/2 - (model_projection[1]/scaling) * img.shape[0]/2\n",
    "    if pix_y >= img.shape[0]: pix_y = img.shape[0]-1\n",
    "    if pix_y < 0: pix_y = 0\n",
    "    img[int(pix_y),int(pix_x),color_idx] = 1.0\n",
    "    \n",
    "eye_distance = 0.5\n",
    "focus_distance = 1.9\n",
    "eye_angle = eye_distance/focus_distance\n",
    "right_eye_transform = pyrr.Matrix44.from_y_rotation(-eye_angle/2)\n",
    "left_eye_transform = pyrr.Matrix44.from_y_rotation(eye_angle/2)\n",
    "    \n",
    "def plotCoordSystemAxis(pose44, axis_idx, img):\n",
    "    pnt = pyrr.vector4.create(0.0, 0.0, 0.0, 1.0)\n",
    "    for i in range(50):\n",
    "        pnt[axis_idx] = i*0.01\n",
    "        point = pyrr.matrix44.multiply(pyrr.Matrix44(pose44), pnt) #.transpose()\n",
    "        plotPoint(point, axis_idx, img)\n",
    "\n",
    "pose = 0\n",
    "\n",
    "def on_value_change(change):\n",
    "    global the_time\n",
    "    global do_update\n",
    "    global pose\n",
    "    global ground_truth_labels\n",
    "    global imgs_ref\n",
    "    global right_eye_transform\n",
    "    global left_eye_transform\n",
    "\n",
    "    if not do_update and change is not None:\n",
    "        return\n",
    "\n",
    "    if (time.time()-the_time) < 0.2:\n",
    "        return\n",
    "    the_time = time.time()\n",
    "    \n",
    "    for i in range(len(pose_sliders)-1):\n",
    "        pose[:,i] = pose_sliders[i].value\n",
    "    mat44 = util.matAffine_from_matMinRep(pose.data[:,:-1])\n",
    "\n",
    "    reconstruction = model.image_decoder(pose.view(pose.shape[0], 1, 1, 1, -1))\n",
    "    #imgs_sliced = imgs[:,[0,3],...]\n",
    "    reconstruction = reconstruction.view_as(imgs_ref) #.shape[0], 1, imgs_ref.shape[2], imgs_ref.shape[3])\n",
    "\n",
    "    recon_left = reconstruction.data.squeeze().permute(1,2,0).cpu().numpy() \n",
    "    #recon_left = reconstruction.data[:,0,:,:].squeeze().cpu().numpy()\n",
    "    #recon_left = np.concatenate((recon_left[:,:,None],recon_left[:,:,None],recon_left[:,:,None]), axis=2)\n",
    "    print (recon_left.shape)\n",
    "    if args.stereo:\n",
    "        pose_left = pyrr.Matrix44(mat44)*left_eye_transform\n",
    "    else:\n",
    "        pose_left = pyrr.Matrix44(mat44)\n",
    "    plotCoordSystemAxis(pose_left, 0, recon_left)\n",
    "    plotCoordSystemAxis(pose_left, 1, recon_left)\n",
    "    plotCoordSystemAxis(pose_left, 2, recon_left)\n",
    "    updateOutputWidget(recon_widget_left, recon_left, \"RGB\")\n",
    "\n",
    "    if args.stereo:\n",
    "        recon_right = reconstruction.data[:,1,:,:].squeeze().cpu().numpy()\n",
    "        recon_right = np.concatenate((recon_right[:,:,None],recon_right[:,:,None],recon_right[:,:,None]), axis=2)\n",
    "        pose_right = pyrr.Matrix44(mat44)*right_eye_transform\n",
    "        plotCoordSystemAxis(pose_right, 0, recon_right)\n",
    "        plotCoordSystemAxis(pose_right, 1, recon_right)\n",
    "        plotCoordSystemAxis(pose_right, 2, recon_right)\n",
    "        updateOutputWidget(recon_widget_right, recon_right, \"RGB\")\n",
    "\n",
    "        \n",
    "def showDataImage(next_data):\n",
    "    global ground_truth_labels\n",
    "    global imgs_ref\n",
    "    global do_update\n",
    "    #global ground_truth_widget\n",
    "    global pose\n",
    "    do_update = False\n",
    "    \n",
    "    \"\"\"\n",
    "    Prepare input\n",
    "    \"\"\"\n",
    "    imgs_ref = next_data[0]\n",
    "\n",
    "    ground_truth_labels = next_data[1]\n",
    "    imgs_ref = Variable(imgs_ref).cpu()\n",
    "    pose, reco = model(imgs_ref, disable_recon=args.disable_recon)\n",
    "    pose = pose.view(pose.shape[0], -1)\n",
    "    \n",
    "    # Print matrices in textareas\n",
    "    m_l = util.matAffine_from_matMinRep(ground_truth_labels)\n",
    "    mat44 = util.matAffine_from_matMinRep(pose.data[:,:-1].cpu())\n",
    "    pose_label.value = util.matrixString_from_matAffine(m_l)\n",
    "    pose_output.value = util.matrixString_from_matAffine(mat44)\n",
    "    pose_error.value = util.matrixString_from_matAffine(mat44 - m_l)\n",
    "\n",
    "    # Plot coordinate systems on \"truth\" images\n",
    "    #mat44 = util.matAffine_from_matMinRep(pose.data)\n",
    "    if args.stereo:\n",
    "        truth_left = imgs_ref[0,0,:,:].squeeze().numpy()\n",
    "        truth_left = np.concatenate((truth_left[:,:,None],truth_left[:,:,None],truth_left[:,:,None]), axis=2)\n",
    "        truth_right = imgs_ref[0,1,:,:].squeeze().numpy()\n",
    "        truth_right = np.concatenate((truth_right[:,:,None],truth_right[:,:,None],truth_right[:,:,None]), axis=2)\n",
    "        truth_right = imgs_ref.squeeze().permute(1,2,0) #np.concatenate((next_data[1][0,0,:,102:197,None],next_data[1][0,1,:,102:197,None],next_data[1][0,2,:,102:197,None]), axis=2)\n",
    "        pose_right = pyrr.Matrix44(mat44)*right_eye_transform\n",
    "        plotCoordSystemAxis(pose_right, 0, truth_right)\n",
    "        plotCoordSystemAxis(pose_right, 1, truth_right)\n",
    "        plotCoordSystemAxis(pose_right, 2, truth_right)\n",
    "        updateOutputWidget(truth_widget_right, truth_right, \"RGB\")\n",
    "    else:\n",
    "        truth_left = imgs_ref.squeeze().permute(1,2,0) #np.concatenate((next_data[1][0,0,:,2:97,None],next_data[1][0,1,:,2:97,None],next_data[1][0,2,:,2:97,None]), axis=2)\n",
    "\n",
    "    if args.stereo:\n",
    "        pose_left = pyrr.Matrix44(mat44)*left_eye_transform\n",
    "    else:\n",
    "        pose_left = pyrr.Matrix44(mat44)\n",
    "    plotCoordSystemAxis(pose_left, 0, truth_left)\n",
    "    plotCoordSystemAxis(pose_left, 1, truth_left)\n",
    "    plotCoordSystemAxis(pose_left, 2, truth_left)\n",
    "    updateOutputWidget(truth_widget_left, truth_left, \"RGB\")\n",
    "\n",
    "    for i in range(len(pose_sliders)-1):\n",
    "        if pose[:,i] > pose_sliders[i].max:\n",
    "            pose_sliders[i].max = pose[:,i]\n",
    "        if pose[:,i] < pose_sliders[i].min:\n",
    "            pose_sliders[i].min = pose[:,i]\n",
    "            \n",
    "    for i in range(len(pose_sliders)-1):\n",
    "        pose_sliders[i].value = pose[:,i]\n",
    "    on_value_change(None)\n",
    "    do_update = True\n",
    "\n",
    "\n",
    "test_dataset = util.MyImageFolder(root='../../../data/{}/test/'.format(args.dataset), transform=transforms.ToTensor(), target_transform=transforms.ToTensor(), data_rep=args.loss)\n",
    "\n",
    "test_loader = torch.utils.data.DataLoader(dataset=test_dataset, batch_size=args.batch_size, num_workers=1, shuffle=True, drop_last=False)\n",
    "\n",
    "test_iterator = test_loader.__iter__()\n",
    "imgs, labels = test_iterator.next()\n",
    "test_iterator = test_loader.__iter__()\n",
    "\n",
    "\"\"\"\n",
    "Setup model, load it to CUDA and make JIT compilation\n",
    "\"\"\"\n",
    "imgs = imgs[:2]\n",
    "model = CapsNet(dataset=args.dataset) #labels.shape[1], img_shape=imgs[0].shape, dataset=args.dataset, data_rep=args.loss, normalize=args.normalize)\n",
    "model(imgs, args.disable_recon)\n",
    "\n",
    "\"\"\"\n",
    "Loading weights of previously saved states and optimizer state\n",
    "\"\"\"\n",
    "path=\"../weights/\"\n",
    "model_name = max(glob.iglob(\"{}model*.pth\".format(path)),key=os.path.getctime)\n",
    "display(Markdown('## Latest model is: '+model_name))\n",
    "model.load_state_dict( torch.load(model_name) )\n",
    "model.cpu()\n",
    "model.eval()\n",
    "#self = model\n",
    "\n",
    "\n",
    "\n",
    "def on_next_button_clicked(b):\n",
    "    next_data = test_iterator.next()\n",
    "    showDataImage(next_data)\n",
    "\n",
    "button_next.on_click(on_next_button_clicked)\n",
    "\n",
    "next_data = test_iterator.next()\n",
    "showDataImage(next_data)\n",
    "\n",
    "for i in range(len(pose_sliders)):\n",
    "    pose_sliders[i].observe(on_value_change)"
   ]
  },
  {
   "cell_type": "code",
   "execution_count": null,
   "metadata": {},
   "outputs": [],
   "source": []
  }
 ],
 "metadata": {
  "kernelspec": {
   "display_name": "Python 3",
   "language": "python",
   "name": "python3"
  },
  "language_info": {
   "codemirror_mode": {
    "name": "ipython",
    "version": 3
   },
   "file_extension": ".py",
   "mimetype": "text/x-python",
   "name": "python",
   "nbconvert_exporter": "python",
   "pygments_lexer": "ipython3",
   "version": "3.6.7"
  },
  "widgets": {
   "application/vnd.jupyter.widget-state+json": {
    "state": {
     "02a95245f28f48e69eda3fb3bd438d67": {
      "model_module_version": "^2.1.4",
      "state": {
       "value": "<table style=\"width:100%\">\n                <thead>\n                    <tr>\n                        <th colspan=\"2\">\n                        Could not create model:\n                        </th>\n                    </tr>\n                </thead>\n                <tbody>\n                    <tr>\n                        <td>Model name</td>\n                        <td> undefined </td>\n                    </tr>\n                    <tr>\n                        <td>Model module</td>\n                        <td> undefined </td>\n                    </tr>\n                    <tr>\n                        <td>Model module version</td>\n                        <td> undefined </td>\n                    </tr>\n                <tbody>\n                <tfoot>\n                    <tr>\n                        <th colspan=\"2\">\n                        Class undefined not found in registry \n                        </th>\n                    </tr>\n                </tfoot>\n                </table>"
      }
     },
     "086adac005c04b4190a432ca55b65c08": {
      "model_module_version": "^2.1.4",
      "state": {
       "children": [
        "IPY_MODEL_5ddce768a0cd44fcb6a02f55d97511c0",
        "IPY_MODEL_7b2a75f21e23408ba72e5f04d40c4ae0"
       ],
       "value": "<table style=\"width:100%\">\n                <thead>\n                    <tr>\n                        <th colspan=\"2\">\n                        Could not create model:\n                        </th>\n                    </tr>\n                </thead>\n                <tbody>\n                    <tr>\n                        <td>Model name</td>\n                        <td> undefined </td>\n                    </tr>\n                    <tr>\n                        <td>Model module</td>\n                        <td> undefined </td>\n                    </tr>\n                    <tr>\n                        <td>Model module version</td>\n                        <td> undefined </td>\n                    </tr>\n                <tbody>\n                <tfoot>\n                    <tr>\n                        <th colspan=\"2\">\n                        Class undefined not found in registry \n                        </th>\n                    </tr>\n                </tfoot>\n                </table>"
      }
     },
     "09a94446cf9d4aaea5de8fee2478bfe3": {
      "model_module_version": "^2.1.4",
      "state": {
       "value": "<table style=\"width:100%\">\n                <thead>\n                    <tr>\n                        <th colspan=\"2\">\n                        Could not create model:\n                        </th>\n                    </tr>\n                </thead>\n                <tbody>\n                    <tr>\n                        <td>Model name</td>\n                        <td> undefined </td>\n                    </tr>\n                    <tr>\n                        <td>Model module</td>\n                        <td> undefined </td>\n                    </tr>\n                    <tr>\n                        <td>Model module version</td>\n                        <td> undefined </td>\n                    </tr>\n                <tbody>\n                <tfoot>\n                    <tr>\n                        <th colspan=\"2\">\n                        Class undefined not found in registry \n                        </th>\n                    </tr>\n                </tfoot>\n                </table>"
      }
     },
     "0a266fd5169140bab25a3a38a8f50fb1": {
      "model_module_version": "^2.1.4",
      "state": {
       "children": [
        "IPY_MODEL_bc40a99774e645d6a95f8c5424ed326e",
        "IPY_MODEL_43698cd83e434735970d098c0c18c682"
       ],
       "value": "<table style=\"width:100%\">\n                <thead>\n                    <tr>\n                        <th colspan=\"2\">\n                        Could not create model:\n                        </th>\n                    </tr>\n                </thead>\n                <tbody>\n                    <tr>\n                        <td>Model name</td>\n                        <td> undefined </td>\n                    </tr>\n                    <tr>\n                        <td>Model module</td>\n                        <td> undefined </td>\n                    </tr>\n                    <tr>\n                        <td>Model module version</td>\n                        <td> undefined </td>\n                    </tr>\n                <tbody>\n                <tfoot>\n                    <tr>\n                        <th colspan=\"2\">\n                        Class undefined not found in registry \n                        </th>\n                    </tr>\n                </tfoot>\n                </table>"
      }
     },
     "0bb041ed3f25401da46f4d3b1b84bedd": {
      "model_module_version": "^2.1.4",
      "state": {
       "msg_id": "",
       "value": "<table style=\"width:100%\">\n                <thead>\n                    <tr>\n                        <th colspan=\"2\">\n                        Could not create model:\n                        </th>\n                    </tr>\n                </thead>\n                <tbody>\n                    <tr>\n                        <td>Model name</td>\n                        <td> undefined </td>\n                    </tr>\n                    <tr>\n                        <td>Model module</td>\n                        <td> undefined </td>\n                    </tr>\n                    <tr>\n                        <td>Model module version</td>\n                        <td> undefined </td>\n                    </tr>\n                <tbody>\n                <tfoot>\n                    <tr>\n                        <th colspan=\"2\">\n                        Class undefined not found in registry \n                        </th>\n                    </tr>\n                </tfoot>\n                </table>"
      }
     },
     "0c491954f101426f8a6d2c2c8f117c65": {
      "model_module_version": "^2.1.4",
      "state": {
       "children": [
        "IPY_MODEL_e8c41950a9d349d2a093b110f66cbb72",
        "IPY_MODEL_b74b2bb279ff49c9a7b8384e115dda91"
       ],
       "value": "<table style=\"width:100%\">\n                <thead>\n                    <tr>\n                        <th colspan=\"2\">\n                        Could not create model:\n                        </th>\n                    </tr>\n                </thead>\n                <tbody>\n                    <tr>\n                        <td>Model name</td>\n                        <td> undefined </td>\n                    </tr>\n                    <tr>\n                        <td>Model module</td>\n                        <td> undefined </td>\n                    </tr>\n                    <tr>\n                        <td>Model module version</td>\n                        <td> undefined </td>\n                    </tr>\n                <tbody>\n                <tfoot>\n                    <tr>\n                        <th colspan=\"2\">\n                        Class undefined not found in registry \n                        </th>\n                    </tr>\n                </tfoot>\n                </table>"
      }
     },
     "0d0f207a9beb4bbc8342dfdfde8abfd1": {
      "model_module_version": "^2.1.4",
      "state": {
       "msg_id": "",
       "value": "<table style=\"width:100%\">\n                <thead>\n                    <tr>\n                        <th colspan=\"2\">\n                        Could not create model:\n                        </th>\n                    </tr>\n                </thead>\n                <tbody>\n                    <tr>\n                        <td>Model name</td>\n                        <td> undefined </td>\n                    </tr>\n                    <tr>\n                        <td>Model module</td>\n                        <td> undefined </td>\n                    </tr>\n                    <tr>\n                        <td>Model module version</td>\n                        <td> undefined </td>\n                    </tr>\n                <tbody>\n                <tfoot>\n                    <tr>\n                        <th colspan=\"2\">\n                        Class undefined not found in registry \n                        </th>\n                    </tr>\n                </tfoot>\n                </table>"
      }
     },
     "17ce0b15ae7f4e07bb389acdb95723a9": {
      "model_module_version": "^2.1.4",
      "state": {
       "children": [
        "IPY_MODEL_98eb087ff1554f3983db53fa15fe205e",
        "IPY_MODEL_2cb31d41b01c41cab49231e6bbcef9a5"
       ],
       "value": "<table style=\"width:100%\">\n                <thead>\n                    <tr>\n                        <th colspan=\"2\">\n                        Could not create model:\n                        </th>\n                    </tr>\n                </thead>\n                <tbody>\n                    <tr>\n                        <td>Model name</td>\n                        <td> undefined </td>\n                    </tr>\n                    <tr>\n                        <td>Model module</td>\n                        <td> undefined </td>\n                    </tr>\n                    <tr>\n                        <td>Model module version</td>\n                        <td> undefined </td>\n                    </tr>\n                <tbody>\n                <tfoot>\n                    <tr>\n                        <th colspan=\"2\">\n                        Class undefined not found in registry \n                        </th>\n                    </tr>\n                </tfoot>\n                </table>"
      }
     },
     "18fbf107d608491b8631570d892bc11c": {
      "model_module_version": "^2.1.4",
      "state": {
       "value": "<table style=\"width:100%\">\n                <thead>\n                    <tr>\n                        <th colspan=\"2\">\n                        Could not create model:\n                        </th>\n                    </tr>\n                </thead>\n                <tbody>\n                    <tr>\n                        <td>Model name</td>\n                        <td> undefined </td>\n                    </tr>\n                    <tr>\n                        <td>Model module</td>\n                        <td> undefined </td>\n                    </tr>\n                    <tr>\n                        <td>Model module version</td>\n                        <td> undefined </td>\n                    </tr>\n                <tbody>\n                <tfoot>\n                    <tr>\n                        <th colspan=\"2\">\n                        Class undefined not found in registry \n                        </th>\n                    </tr>\n                </tfoot>\n                </table>"
      }
     },
     "1a1f8a848b0344be8b0ccf93d1d2026c": {
      "model_module_version": "^2.1.4",
      "state": {
       "value": "<table style=\"width:100%\">\n                <thead>\n                    <tr>\n                        <th colspan=\"2\">\n                        Could not create model:\n                        </th>\n                    </tr>\n                </thead>\n                <tbody>\n                    <tr>\n                        <td>Model name</td>\n                        <td> undefined </td>\n                    </tr>\n                    <tr>\n                        <td>Model module</td>\n                        <td> undefined </td>\n                    </tr>\n                    <tr>\n                        <td>Model module version</td>\n                        <td> undefined </td>\n                    </tr>\n                <tbody>\n                <tfoot>\n                    <tr>\n                        <th colspan=\"2\">\n                        Class undefined not found in registry \n                        </th>\n                    </tr>\n                </tfoot>\n                </table>"
      }
     },
     "1a3f3f985d584928bc8d0c7ab6f70f2e": {
      "model_module_version": "^2.1.4",
      "state": {
       "value": "<table style=\"width:100%\">\n                <thead>\n                    <tr>\n                        <th colspan=\"2\">\n                        Could not create model:\n                        </th>\n                    </tr>\n                </thead>\n                <tbody>\n                    <tr>\n                        <td>Model name</td>\n                        <td> undefined </td>\n                    </tr>\n                    <tr>\n                        <td>Model module</td>\n                        <td> undefined </td>\n                    </tr>\n                    <tr>\n                        <td>Model module version</td>\n                        <td> undefined </td>\n                    </tr>\n                <tbody>\n                <tfoot>\n                    <tr>\n                        <th colspan=\"2\">\n                        Class undefined not found in registry \n                        </th>\n                    </tr>\n                </tfoot>\n                </table>"
      }
     },
     "1cd36f848c6a4887b49476cedbf3d552": {
      "model_module_version": "^2.1.4",
      "state": {
       "value": "<table style=\"width:100%\">\n                <thead>\n                    <tr>\n                        <th colspan=\"2\">\n                        Could not create model:\n                        </th>\n                    </tr>\n                </thead>\n                <tbody>\n                    <tr>\n                        <td>Model name</td>\n                        <td> undefined </td>\n                    </tr>\n                    <tr>\n                        <td>Model module</td>\n                        <td> undefined </td>\n                    </tr>\n                    <tr>\n                        <td>Model module version</td>\n                        <td> undefined </td>\n                    </tr>\n                <tbody>\n                <tfoot>\n                    <tr>\n                        <th colspan=\"2\">\n                        Class undefined not found in registry \n                        </th>\n                    </tr>\n                </tfoot>\n                </table>"
      }
     },
     "1e92dc6d2e6a4746ae2cd05ab57165ec": {
      "model_module_version": "^2.1.4",
      "state": {
       "description": "x",
       "value": "<table style=\"width:100%\">\n                <thead>\n                    <tr>\n                        <th colspan=\"2\">\n                        Could not create model:\n                        </th>\n                    </tr>\n                </thead>\n                <tbody>\n                    <tr>\n                        <td>Model name</td>\n                        <td> undefined </td>\n                    </tr>\n                    <tr>\n                        <td>Model module</td>\n                        <td> undefined </td>\n                    </tr>\n                    <tr>\n                        <td>Model module version</td>\n                        <td> undefined </td>\n                    </tr>\n                <tbody>\n                <tfoot>\n                    <tr>\n                        <th colspan=\"2\">\n                        Class undefined not found in registry \n                        </th>\n                    </tr>\n                </tfoot>\n                </table>"
      }
     },
     "28fc64f255dc4af98ea2e4f433a7e659": {
      "model_module_version": "^2.1.4",
      "state": {
       "children": [
        "IPY_MODEL_d00724d28f834c4991169f92b8e447cb",
        "IPY_MODEL_b5c4b56ba9cd45e1bdca6530cc78c9e1"
       ],
       "value": "<table style=\"width:100%\">\n                <thead>\n                    <tr>\n                        <th colspan=\"2\">\n                        Could not create model:\n                        </th>\n                    </tr>\n                </thead>\n                <tbody>\n                    <tr>\n                        <td>Model name</td>\n                        <td> undefined </td>\n                    </tr>\n                    <tr>\n                        <td>Model module</td>\n                        <td> undefined </td>\n                    </tr>\n                    <tr>\n                        <td>Model module version</td>\n                        <td> undefined </td>\n                    </tr>\n                <tbody>\n                <tfoot>\n                    <tr>\n                        <th colspan=\"2\">\n                        Class undefined not found in registry \n                        </th>\n                    </tr>\n                </tfoot>\n                </table>"
      }
     },
     "2a48c6cde59541fe8760420e54905bb8": {
      "model_module_version": "^2.1.4",
      "state": {
       "value": "<table style=\"width:100%\">\n                <thead>\n                    <tr>\n                        <th colspan=\"2\">\n                        Could not create model:\n                        </th>\n                    </tr>\n                </thead>\n                <tbody>\n                    <tr>\n                        <td>Model name</td>\n                        <td> undefined </td>\n                    </tr>\n                    <tr>\n                        <td>Model module</td>\n                        <td> undefined </td>\n                    </tr>\n                    <tr>\n                        <td>Model module version</td>\n                        <td> undefined </td>\n                    </tr>\n                <tbody>\n                <tfoot>\n                    <tr>\n                        <th colspan=\"2\">\n                        Class undefined not found in registry \n                        </th>\n                    </tr>\n                </tfoot>\n                </table>"
      }
     },
     "2a9914efad9b4709b512186b35fca807": {
      "model_module_version": "^2.1.4",
      "state": {
       "value": "<table style=\"width:100%\">\n                <thead>\n                    <tr>\n                        <th colspan=\"2\">\n                        Could not create model:\n                        </th>\n                    </tr>\n                </thead>\n                <tbody>\n                    <tr>\n                        <td>Model name</td>\n                        <td> undefined </td>\n                    </tr>\n                    <tr>\n                        <td>Model module</td>\n                        <td> undefined </td>\n                    </tr>\n                    <tr>\n                        <td>Model module version</td>\n                        <td> undefined </td>\n                    </tr>\n                <tbody>\n                <tfoot>\n                    <tr>\n                        <th colspan=\"2\">\n                        Class undefined not found in registry \n                        </th>\n                    </tr>\n                </tfoot>\n                </table>"
      }
     },
     "2b61a2efed51453ba7d9b61640e3257b": {
      "model_module_version": "^2.1.4",
      "state": {
       "children": [
        "IPY_MODEL_ca7fc7414df744c1a12a80afcd929124",
        "IPY_MODEL_892d3ae0c7194bf880319e259ecc2978"
       ],
       "value": "<table style=\"width:100%\">\n                <thead>\n                    <tr>\n                        <th colspan=\"2\">\n                        Could not create model:\n                        </th>\n                    </tr>\n                </thead>\n                <tbody>\n                    <tr>\n                        <td>Model name</td>\n                        <td> undefined </td>\n                    </tr>\n                    <tr>\n                        <td>Model module</td>\n                        <td> undefined </td>\n                    </tr>\n                    <tr>\n                        <td>Model module version</td>\n                        <td> undefined </td>\n                    </tr>\n                <tbody>\n                <tfoot>\n                    <tr>\n                        <th colspan=\"2\">\n                        Class undefined not found in registry \n                        </th>\n                    </tr>\n                </tfoot>\n                </table>"
      }
     },
     "2cb31d41b01c41cab49231e6bbcef9a5": {
      "model_module_version": "^2.1.4",
      "state": {
       "msg_id": "",
       "value": "<table style=\"width:100%\">\n                <thead>\n                    <tr>\n                        <th colspan=\"2\">\n                        Could not create model:\n                        </th>\n                    </tr>\n                </thead>\n                <tbody>\n                    <tr>\n                        <td>Model name</td>\n                        <td> undefined </td>\n                    </tr>\n                    <tr>\n                        <td>Model module</td>\n                        <td> undefined </td>\n                    </tr>\n                    <tr>\n                        <td>Model module version</td>\n                        <td> undefined </td>\n                    </tr>\n                <tbody>\n                <tfoot>\n                    <tr>\n                        <th colspan=\"2\">\n                        Class undefined not found in registry \n                        </th>\n                    </tr>\n                </tfoot>\n                </table>"
      }
     },
     "2f4edba5b47e4d5590df1386c754fd88": {
      "model_module_version": "^2.1.4",
      "state": {
       "value": "<table style=\"width:100%\">\n                <thead>\n                    <tr>\n                        <th colspan=\"2\">\n                        Could not create model:\n                        </th>\n                    </tr>\n                </thead>\n                <tbody>\n                    <tr>\n                        <td>Model name</td>\n                        <td> undefined </td>\n                    </tr>\n                    <tr>\n                        <td>Model module</td>\n                        <td> undefined </td>\n                    </tr>\n                    <tr>\n                        <td>Model module version</td>\n                        <td> undefined </td>\n                    </tr>\n                <tbody>\n                <tfoot>\n                    <tr>\n                        <th colspan=\"2\">\n                        Class undefined not found in registry \n                        </th>\n                    </tr>\n                </tfoot>\n                </table>"
      }
     },
     "32e0e6999b084991bcd84438c81ff67f": {
      "model_module_version": "^2.1.4",
      "state": {
       "value": "<table style=\"width:100%\">\n                <thead>\n                    <tr>\n                        <th colspan=\"2\">\n                        Could not create model:\n                        </th>\n                    </tr>\n                </thead>\n                <tbody>\n                    <tr>\n                        <td>Model name</td>\n                        <td> undefined </td>\n                    </tr>\n                    <tr>\n                        <td>Model module</td>\n                        <td> undefined </td>\n                    </tr>\n                    <tr>\n                        <td>Model module version</td>\n                        <td> undefined </td>\n                    </tr>\n                <tbody>\n                <tfoot>\n                    <tr>\n                        <th colspan=\"2\">\n                        Class undefined not found in registry \n                        </th>\n                    </tr>\n                </tfoot>\n                </table>"
      }
     },
     "3ac7a342207a410888cc1bde2c42f286": {
      "model_module_version": "^2.1.4",
      "state": {
       "value": "<table style=\"width:100%\">\n                <thead>\n                    <tr>\n                        <th colspan=\"2\">\n                        Could not create model:\n                        </th>\n                    </tr>\n                </thead>\n                <tbody>\n                    <tr>\n                        <td>Model name</td>\n                        <td> undefined </td>\n                    </tr>\n                    <tr>\n                        <td>Model module</td>\n                        <td> undefined </td>\n                    </tr>\n                    <tr>\n                        <td>Model module version</td>\n                        <td> undefined </td>\n                    </tr>\n                <tbody>\n                <tfoot>\n                    <tr>\n                        <th colspan=\"2\">\n                        Class undefined not found in registry \n                        </th>\n                    </tr>\n                </tfoot>\n                </table>"
      }
     },
     "3c2f6371fb9d4ef8963013d7ec752f1a": {
      "model_module": "jupyter-js-widgets",
      "model_module_version": "~2.1.4",
      "model_name": "LayoutModel",
      "state": {
       "_model_module_version": "~2.1.4",
       "_view_module_version": "~2.1.4"
      }
     },
     "4085225553f745b5a56321cf316c733e": {
      "model_module": "jupyter-js-widgets",
      "model_module_version": "~2.1.4",
      "model_name": "SliderStyleModel",
      "state": {
       "_model_module_version": "~2.1.4",
       "_view_module_version": "~2.1.4"
      }
     },
     "40dd2c2fbf0d41babb963d45187381e3": {
      "model_module_version": "^2.1.4",
      "state": {
       "value": "<table style=\"width:100%\">\n                <thead>\n                    <tr>\n                        <th colspan=\"2\">\n                        Could not create model:\n                        </th>\n                    </tr>\n                </thead>\n                <tbody>\n                    <tr>\n                        <td>Model name</td>\n                        <td> undefined </td>\n                    </tr>\n                    <tr>\n                        <td>Model module</td>\n                        <td> undefined </td>\n                    </tr>\n                    <tr>\n                        <td>Model module version</td>\n                        <td> undefined </td>\n                    </tr>\n                <tbody>\n                <tfoot>\n                    <tr>\n                        <th colspan=\"2\">\n                        Class undefined not found in registry \n                        </th>\n                    </tr>\n                </tfoot>\n                </table>"
      }
     },
     "43698cd83e434735970d098c0c18c682": {
      "model_module_version": "^2.1.4",
      "state": {
       "msg_id": "",
       "value": "<table style=\"width:100%\">\n                <thead>\n                    <tr>\n                        <th colspan=\"2\">\n                        Could not create model:\n                        </th>\n                    </tr>\n                </thead>\n                <tbody>\n                    <tr>\n                        <td>Model name</td>\n                        <td> undefined </td>\n                    </tr>\n                    <tr>\n                        <td>Model module</td>\n                        <td> undefined </td>\n                    </tr>\n                    <tr>\n                        <td>Model module version</td>\n                        <td> undefined </td>\n                    </tr>\n                <tbody>\n                <tfoot>\n                    <tr>\n                        <th colspan=\"2\">\n                        Class undefined not found in registry \n                        </th>\n                    </tr>\n                </tfoot>\n                </table>"
      }
     },
     "4516a929146f4c6aba450499be5a6bae": {
      "model_module_version": "^2.1.4",
      "state": {
       "children": [
        "IPY_MODEL_1e92dc6d2e6a4746ae2cd05ab57165ec",
        "IPY_MODEL_0d0f207a9beb4bbc8342dfdfde8abfd1"
       ],
       "value": "<table style=\"width:100%\">\n                <thead>\n                    <tr>\n                        <th colspan=\"2\">\n                        Could not create model:\n                        </th>\n                    </tr>\n                </thead>\n                <tbody>\n                    <tr>\n                        <td>Model name</td>\n                        <td> undefined </td>\n                    </tr>\n                    <tr>\n                        <td>Model module</td>\n                        <td> undefined </td>\n                    </tr>\n                    <tr>\n                        <td>Model module version</td>\n                        <td> undefined </td>\n                    </tr>\n                <tbody>\n                <tfoot>\n                    <tr>\n                        <th colspan=\"2\">\n                        Class undefined not found in registry \n                        </th>\n                    </tr>\n                </tfoot>\n                </table>"
      }
     },
     "46c3f00a4866401bb7d7dd886668baeb": {
      "model_module_version": "^2.1.4",
      "state": {
       "msg_id": "",
       "value": "<table style=\"width:100%\">\n                <thead>\n                    <tr>\n                        <th colspan=\"2\">\n                        Could not create model:\n                        </th>\n                    </tr>\n                </thead>\n                <tbody>\n                    <tr>\n                        <td>Model name</td>\n                        <td> undefined </td>\n                    </tr>\n                    <tr>\n                        <td>Model module</td>\n                        <td> undefined </td>\n                    </tr>\n                    <tr>\n                        <td>Model module version</td>\n                        <td> undefined </td>\n                    </tr>\n                <tbody>\n                <tfoot>\n                    <tr>\n                        <th colspan=\"2\">\n                        Class undefined not found in registry \n                        </th>\n                    </tr>\n                </tfoot>\n                </table>"
      }
     },
     "49aa40dd11114ddabb68be1d01d1e41d": {
      "model_module_version": "^2.1.4",
      "state": {
       "value": "<table style=\"width:100%\">\n                <thead>\n                    <tr>\n                        <th colspan=\"2\">\n                        Could not create model:\n                        </th>\n                    </tr>\n                </thead>\n                <tbody>\n                    <tr>\n                        <td>Model name</td>\n                        <td> undefined </td>\n                    </tr>\n                    <tr>\n                        <td>Model module</td>\n                        <td> undefined </td>\n                    </tr>\n                    <tr>\n                        <td>Model module version</td>\n                        <td> undefined </td>\n                    </tr>\n                <tbody>\n                <tfoot>\n                    <tr>\n                        <th colspan=\"2\">\n                        Class undefined not found in registry \n                        </th>\n                    </tr>\n                </tfoot>\n                </table>"
      }
     },
     "4a96e2d67ee54a41a257d81719387929": {
      "model_module_version": "^2.1.4",
      "state": {
       "msg_id": "",
       "value": "<table style=\"width:100%\">\n                <thead>\n                    <tr>\n                        <th colspan=\"2\">\n                        Could not create model:\n                        </th>\n                    </tr>\n                </thead>\n                <tbody>\n                    <tr>\n                        <td>Model name</td>\n                        <td> undefined </td>\n                    </tr>\n                    <tr>\n                        <td>Model module</td>\n                        <td> undefined </td>\n                    </tr>\n                    <tr>\n                        <td>Model module version</td>\n                        <td> undefined </td>\n                    </tr>\n                <tbody>\n                <tfoot>\n                    <tr>\n                        <th colspan=\"2\">\n                        Class undefined not found in registry \n                        </th>\n                    </tr>\n                </tfoot>\n                </table>"
      }
     },
     "501729002a44409ba89f0ce4598c4615": {
      "model_module_version": "^2.1.4",
      "state": {
       "value": "<table style=\"width:100%\">\n                <thead>\n                    <tr>\n                        <th colspan=\"2\">\n                        Could not create model:\n                        </th>\n                    </tr>\n                </thead>\n                <tbody>\n                    <tr>\n                        <td>Model name</td>\n                        <td> undefined </td>\n                    </tr>\n                    <tr>\n                        <td>Model module</td>\n                        <td> undefined </td>\n                    </tr>\n                    <tr>\n                        <td>Model module version</td>\n                        <td> undefined </td>\n                    </tr>\n                <tbody>\n                <tfoot>\n                    <tr>\n                        <th colspan=\"2\">\n                        Class undefined not found in registry \n                        </th>\n                    </tr>\n                </tfoot>\n                </table>"
      }
     },
     "55c4545c3cf9416ca5f9b6468f70a6ea": {
      "model_module_version": "^2.1.4",
      "state": {
       "value": "<table style=\"width:100%\">\n                <thead>\n                    <tr>\n                        <th colspan=\"2\">\n                        Could not create model:\n                        </th>\n                    </tr>\n                </thead>\n                <tbody>\n                    <tr>\n                        <td>Model name</td>\n                        <td> undefined </td>\n                    </tr>\n                    <tr>\n                        <td>Model module</td>\n                        <td> undefined </td>\n                    </tr>\n                    <tr>\n                        <td>Model module version</td>\n                        <td> undefined </td>\n                    </tr>\n                <tbody>\n                <tfoot>\n                    <tr>\n                        <th colspan=\"2\">\n                        Class undefined not found in registry \n                        </th>\n                    </tr>\n                </tfoot>\n                </table>"
      }
     },
     "5754386e4c0348748bd72a39c98e3513": {
      "model_module_version": "^2.1.4",
      "state": {
       "value": "<table style=\"width:100%\">\n                <thead>\n                    <tr>\n                        <th colspan=\"2\">\n                        Could not create model:\n                        </th>\n                    </tr>\n                </thead>\n                <tbody>\n                    <tr>\n                        <td>Model name</td>\n                        <td> undefined </td>\n                    </tr>\n                    <tr>\n                        <td>Model module</td>\n                        <td> undefined </td>\n                    </tr>\n                    <tr>\n                        <td>Model module version</td>\n                        <td> undefined </td>\n                    </tr>\n                <tbody>\n                <tfoot>\n                    <tr>\n                        <th colspan=\"2\">\n                        Class undefined not found in registry \n                        </th>\n                    </tr>\n                </tfoot>\n                </table>"
      }
     },
     "5d5b28b089e242db97c0fb1fbdd63320": {
      "model_module_version": "^2.1.4",
      "state": {
       "value": "<table style=\"width:100%\">\n                <thead>\n                    <tr>\n                        <th colspan=\"2\">\n                        Could not create model:\n                        </th>\n                    </tr>\n                </thead>\n                <tbody>\n                    <tr>\n                        <td>Model name</td>\n                        <td> undefined </td>\n                    </tr>\n                    <tr>\n                        <td>Model module</td>\n                        <td> undefined </td>\n                    </tr>\n                    <tr>\n                        <td>Model module version</td>\n                        <td> undefined </td>\n                    </tr>\n                <tbody>\n                <tfoot>\n                    <tr>\n                        <th colspan=\"2\">\n                        Class undefined not found in registry \n                        </th>\n                    </tr>\n                </tfoot>\n                </table>"
      }
     },
     "5ddce768a0cd44fcb6a02f55d97511c0": {
      "model_module_version": "^2.1.4",
      "state": {
       "description": "x",
       "value": "<table style=\"width:100%\">\n                <thead>\n                    <tr>\n                        <th colspan=\"2\">\n                        Could not create model:\n                        </th>\n                    </tr>\n                </thead>\n                <tbody>\n                    <tr>\n                        <td>Model name</td>\n                        <td> undefined </td>\n                    </tr>\n                    <tr>\n                        <td>Model module</td>\n                        <td> undefined </td>\n                    </tr>\n                    <tr>\n                        <td>Model module version</td>\n                        <td> undefined </td>\n                    </tr>\n                <tbody>\n                <tfoot>\n                    <tr>\n                        <th colspan=\"2\">\n                        Class undefined not found in registry \n                        </th>\n                    </tr>\n                </tfoot>\n                </table>"
      }
     },
     "5ef172040b89471c852363eeffcd40ad": {
      "model_module": "jupyter-js-widgets",
      "model_module_version": "~2.1.4",
      "model_name": "OutputModel",
      "state": {
       "_dom_classes": [],
       "_model_module": "jupyter-js-widgets",
       "_model_module_version": "~2.1.4",
       "_view_module": "jupyter-js-widgets",
       "_view_module_version": "~2.1.4",
       "layout": "IPY_MODEL_61d17c7ab05d49ad917fe0ad9a2f5082",
       "msg_throttle": 1
      }
     },
     "61d17c7ab05d49ad917fe0ad9a2f5082": {
      "model_module": "jupyter-js-widgets",
      "model_module_version": "~2.1.4",
      "model_name": "LayoutModel",
      "state": {
       "_model_module_version": "~2.1.4",
       "_view_module_version": "~2.1.4"
      }
     },
     "621171c6d3824e1aa20b00a470355ba1": {
      "model_module_version": "^2.1.4",
      "state": {
       "value": "<table style=\"width:100%\">\n                <thead>\n                    <tr>\n                        <th colspan=\"2\">\n                        Could not create model:\n                        </th>\n                    </tr>\n                </thead>\n                <tbody>\n                    <tr>\n                        <td>Model name</td>\n                        <td> undefined </td>\n                    </tr>\n                    <tr>\n                        <td>Model module</td>\n                        <td> undefined </td>\n                    </tr>\n                    <tr>\n                        <td>Model module version</td>\n                        <td> undefined </td>\n                    </tr>\n                <tbody>\n                <tfoot>\n                    <tr>\n                        <th colspan=\"2\">\n                        Class undefined not found in registry \n                        </th>\n                    </tr>\n                </tfoot>\n                </table>"
      }
     },
     "68b9424e93a54f97b286548081d65a10": {
      "model_module_version": "^2.1.4",
      "state": {
       "value": "<table style=\"width:100%\">\n                <thead>\n                    <tr>\n                        <th colspan=\"2\">\n                        Could not create model:\n                        </th>\n                    </tr>\n                </thead>\n                <tbody>\n                    <tr>\n                        <td>Model name</td>\n                        <td> undefined </td>\n                    </tr>\n                    <tr>\n                        <td>Model module</td>\n                        <td> undefined </td>\n                    </tr>\n                    <tr>\n                        <td>Model module version</td>\n                        <td> undefined </td>\n                    </tr>\n                <tbody>\n                <tfoot>\n                    <tr>\n                        <th colspan=\"2\">\n                        Class undefined not found in registry \n                        </th>\n                    </tr>\n                </tfoot>\n                </table>"
      }
     },
     "6a248cb18c8c40658ea8cf7615f7a622": {
      "model_module_version": "^2.1.4",
      "state": {
       "value": "<table style=\"width:100%\">\n                <thead>\n                    <tr>\n                        <th colspan=\"2\">\n                        Could not create model:\n                        </th>\n                    </tr>\n                </thead>\n                <tbody>\n                    <tr>\n                        <td>Model name</td>\n                        <td> undefined </td>\n                    </tr>\n                    <tr>\n                        <td>Model module</td>\n                        <td> undefined </td>\n                    </tr>\n                    <tr>\n                        <td>Model module version</td>\n                        <td> undefined </td>\n                    </tr>\n                <tbody>\n                <tfoot>\n                    <tr>\n                        <th colspan=\"2\">\n                        Class undefined not found in registry \n                        </th>\n                    </tr>\n                </tfoot>\n                </table>"
      }
     },
     "6aaa433ab117461b889545d142a27175": {
      "model_module_version": "^2.1.4",
      "state": {
       "description": "x",
       "value": "<table style=\"width:100%\">\n                <thead>\n                    <tr>\n                        <th colspan=\"2\">\n                        Could not create model:\n                        </th>\n                    </tr>\n                </thead>\n                <tbody>\n                    <tr>\n                        <td>Model name</td>\n                        <td> undefined </td>\n                    </tr>\n                    <tr>\n                        <td>Model module</td>\n                        <td> undefined </td>\n                    </tr>\n                    <tr>\n                        <td>Model module version</td>\n                        <td> undefined </td>\n                    </tr>\n                <tbody>\n                <tfoot>\n                    <tr>\n                        <th colspan=\"2\">\n                        Class undefined not found in registry \n                        </th>\n                    </tr>\n                </tfoot>\n                </table>"
      }
     },
     "73132f70043c4a6cb2a8ceb471a8f252": {
      "model_module_version": "^2.1.4",
      "state": {
       "value": "<table style=\"width:100%\">\n                <thead>\n                    <tr>\n                        <th colspan=\"2\">\n                        Could not create model:\n                        </th>\n                    </tr>\n                </thead>\n                <tbody>\n                    <tr>\n                        <td>Model name</td>\n                        <td> undefined </td>\n                    </tr>\n                    <tr>\n                        <td>Model module</td>\n                        <td> undefined </td>\n                    </tr>\n                    <tr>\n                        <td>Model module version</td>\n                        <td> undefined </td>\n                    </tr>\n                <tbody>\n                <tfoot>\n                    <tr>\n                        <th colspan=\"2\">\n                        Class undefined not found in registry \n                        </th>\n                    </tr>\n                </tfoot>\n                </table>"
      }
     },
     "76b009679d104667af00faea672b290a": {
      "model_module_version": "^2.1.4",
      "state": {
       "value": "<table style=\"width:100%\">\n                <thead>\n                    <tr>\n                        <th colspan=\"2\">\n                        Could not create model:\n                        </th>\n                    </tr>\n                </thead>\n                <tbody>\n                    <tr>\n                        <td>Model name</td>\n                        <td> undefined </td>\n                    </tr>\n                    <tr>\n                        <td>Model module</td>\n                        <td> undefined </td>\n                    </tr>\n                    <tr>\n                        <td>Model module version</td>\n                        <td> undefined </td>\n                    </tr>\n                <tbody>\n                <tfoot>\n                    <tr>\n                        <th colspan=\"2\">\n                        Class undefined not found in registry \n                        </th>\n                    </tr>\n                </tfoot>\n                </table>"
      }
     },
     "79c73807325f49d393b6cf08bad0b9ef": {
      "model_module_version": "^2.1.4",
      "state": {
       "value": "<table style=\"width:100%\">\n                <thead>\n                    <tr>\n                        <th colspan=\"2\">\n                        Could not create model:\n                        </th>\n                    </tr>\n                </thead>\n                <tbody>\n                    <tr>\n                        <td>Model name</td>\n                        <td> undefined </td>\n                    </tr>\n                    <tr>\n                        <td>Model module</td>\n                        <td> undefined </td>\n                    </tr>\n                    <tr>\n                        <td>Model module version</td>\n                        <td> undefined </td>\n                    </tr>\n                <tbody>\n                <tfoot>\n                    <tr>\n                        <th colspan=\"2\">\n                        Class undefined not found in registry \n                        </th>\n                    </tr>\n                </tfoot>\n                </table>"
      }
     },
     "7b2a75f21e23408ba72e5f04d40c4ae0": {
      "model_module_version": "^2.1.4",
      "state": {
       "msg_id": "",
       "value": "<table style=\"width:100%\">\n                <thead>\n                    <tr>\n                        <th colspan=\"2\">\n                        Could not create model:\n                        </th>\n                    </tr>\n                </thead>\n                <tbody>\n                    <tr>\n                        <td>Model name</td>\n                        <td> undefined </td>\n                    </tr>\n                    <tr>\n                        <td>Model module</td>\n                        <td> undefined </td>\n                    </tr>\n                    <tr>\n                        <td>Model module version</td>\n                        <td> undefined </td>\n                    </tr>\n                <tbody>\n                <tfoot>\n                    <tr>\n                        <th colspan=\"2\">\n                        Class undefined not found in registry \n                        </th>\n                    </tr>\n                </tfoot>\n                </table>"
      }
     },
     "7fdb52036a2c425b968f1cb3f18880cc": {
      "model_module": "jupyter-js-widgets",
      "model_module_version": "~2.1.4",
      "model_name": "VBoxModel",
      "state": {
       "_dom_classes": [
        "widget-interact"
       ],
       "_model_module_version": "~2.1.4",
       "_view_module_version": "~2.1.4",
       "children": [
        "IPY_MODEL_acf1144a079947a3b72f448ff497b5aa",
        "IPY_MODEL_5ef172040b89471c852363eeffcd40ad"
       ],
       "layout": "IPY_MODEL_a3da27f324824245ab4548048acf08ce"
      }
     },
     "804d2f26720d4c7a80aca19ce362f6e3": {
      "model_module_version": "^2.1.4",
      "state": {
       "value": "<table style=\"width:100%\">\n                <thead>\n                    <tr>\n                        <th colspan=\"2\">\n                        Could not create model:\n                        </th>\n                    </tr>\n                </thead>\n                <tbody>\n                    <tr>\n                        <td>Model name</td>\n                        <td> undefined </td>\n                    </tr>\n                    <tr>\n                        <td>Model module</td>\n                        <td> undefined </td>\n                    </tr>\n                    <tr>\n                        <td>Model module version</td>\n                        <td> undefined </td>\n                    </tr>\n                <tbody>\n                <tfoot>\n                    <tr>\n                        <th colspan=\"2\">\n                        Class undefined not found in registry \n                        </th>\n                    </tr>\n                </tfoot>\n                </table>"
      }
     },
     "83640725b367458d874b51c6da3c0298": {
      "model_module_version": "^2.1.4",
      "state": {
       "description": "x",
       "value": "<table style=\"width:100%\">\n                <thead>\n                    <tr>\n                        <th colspan=\"2\">\n                        Could not create model:\n                        </th>\n                    </tr>\n                </thead>\n                <tbody>\n                    <tr>\n                        <td>Model name</td>\n                        <td> undefined </td>\n                    </tr>\n                    <tr>\n                        <td>Model module</td>\n                        <td> undefined </td>\n                    </tr>\n                    <tr>\n                        <td>Model module version</td>\n                        <td> undefined </td>\n                    </tr>\n                <tbody>\n                <tfoot>\n                    <tr>\n                        <th colspan=\"2\">\n                        Class undefined not found in registry \n                        </th>\n                    </tr>\n                </tfoot>\n                </table>"
      }
     },
     "842d398e0f0b49bb82816bf12e32d8ae": {
      "model_module_version": "^2.1.4",
      "state": {
       "children": [
        "IPY_MODEL_b3aaafaed364432d9f29a2334748fb51",
        "IPY_MODEL_0bb041ed3f25401da46f4d3b1b84bedd"
       ],
       "value": "<table style=\"width:100%\">\n                <thead>\n                    <tr>\n                        <th colspan=\"2\">\n                        Could not create model:\n                        </th>\n                    </tr>\n                </thead>\n                <tbody>\n                    <tr>\n                        <td>Model name</td>\n                        <td> undefined </td>\n                    </tr>\n                    <tr>\n                        <td>Model module</td>\n                        <td> undefined </td>\n                    </tr>\n                    <tr>\n                        <td>Model module version</td>\n                        <td> undefined </td>\n                    </tr>\n                <tbody>\n                <tfoot>\n                    <tr>\n                        <th colspan=\"2\">\n                        Class undefined not found in registry \n                        </th>\n                    </tr>\n                </tfoot>\n                </table>"
      }
     },
     "892d3ae0c7194bf880319e259ecc2978": {
      "model_module_version": "^2.1.4",
      "state": {
       "msg_id": "",
       "value": "<table style=\"width:100%\">\n                <thead>\n                    <tr>\n                        <th colspan=\"2\">\n                        Could not create model:\n                        </th>\n                    </tr>\n                </thead>\n                <tbody>\n                    <tr>\n                        <td>Model name</td>\n                        <td> undefined </td>\n                    </tr>\n                    <tr>\n                        <td>Model module</td>\n                        <td> undefined </td>\n                    </tr>\n                    <tr>\n                        <td>Model module version</td>\n                        <td> undefined </td>\n                    </tr>\n                <tbody>\n                <tfoot>\n                    <tr>\n                        <th colspan=\"2\">\n                        Class undefined not found in registry \n                        </th>\n                    </tr>\n                </tfoot>\n                </table>"
      }
     },
     "8c53fafbc3f84f67a956e57f3add21e6": {
      "model_module_version": "^2.1.4",
      "state": {
       "value": "<table style=\"width:100%\">\n                <thead>\n                    <tr>\n                        <th colspan=\"2\">\n                        Could not create model:\n                        </th>\n                    </tr>\n                </thead>\n                <tbody>\n                    <tr>\n                        <td>Model name</td>\n                        <td> undefined </td>\n                    </tr>\n                    <tr>\n                        <td>Model module</td>\n                        <td> undefined </td>\n                    </tr>\n                    <tr>\n                        <td>Model module version</td>\n                        <td> undefined </td>\n                    </tr>\n                <tbody>\n                <tfoot>\n                    <tr>\n                        <th colspan=\"2\">\n                        Class undefined not found in registry \n                        </th>\n                    </tr>\n                </tfoot>\n                </table>"
      }
     },
     "96847b2fae384f758634f48976d6387d": {
      "model_module_version": "^2.1.4",
      "state": {
       "value": "<table style=\"width:100%\">\n                <thead>\n                    <tr>\n                        <th colspan=\"2\">\n                        Could not create model:\n                        </th>\n                    </tr>\n                </thead>\n                <tbody>\n                    <tr>\n                        <td>Model name</td>\n                        <td> undefined </td>\n                    </tr>\n                    <tr>\n                        <td>Model module</td>\n                        <td> undefined </td>\n                    </tr>\n                    <tr>\n                        <td>Model module version</td>\n                        <td> undefined </td>\n                    </tr>\n                <tbody>\n                <tfoot>\n                    <tr>\n                        <th colspan=\"2\">\n                        Class undefined not found in registry \n                        </th>\n                    </tr>\n                </tfoot>\n                </table>"
      }
     },
     "98eb087ff1554f3983db53fa15fe205e": {
      "model_module_version": "^2.1.4",
      "state": {
       "description": "x",
       "value": "<table style=\"width:100%\">\n                <thead>\n                    <tr>\n                        <th colspan=\"2\">\n                        Could not create model:\n                        </th>\n                    </tr>\n                </thead>\n                <tbody>\n                    <tr>\n                        <td>Model name</td>\n                        <td> undefined </td>\n                    </tr>\n                    <tr>\n                        <td>Model module</td>\n                        <td> undefined </td>\n                    </tr>\n                    <tr>\n                        <td>Model module version</td>\n                        <td> undefined </td>\n                    </tr>\n                <tbody>\n                <tfoot>\n                    <tr>\n                        <th colspan=\"2\">\n                        Class undefined not found in registry \n                        </th>\n                    </tr>\n                </tfoot>\n                </table>"
      }
     },
     "a2dd2b1e1f9b4734b2e3aa1dbffdcd04": {
      "model_module_version": "^2.1.4",
      "state": {
       "value": "<table style=\"width:100%\">\n                <thead>\n                    <tr>\n                        <th colspan=\"2\">\n                        Could not create model:\n                        </th>\n                    </tr>\n                </thead>\n                <tbody>\n                    <tr>\n                        <td>Model name</td>\n                        <td> undefined </td>\n                    </tr>\n                    <tr>\n                        <td>Model module</td>\n                        <td> undefined </td>\n                    </tr>\n                    <tr>\n                        <td>Model module version</td>\n                        <td> undefined </td>\n                    </tr>\n                <tbody>\n                <tfoot>\n                    <tr>\n                        <th colspan=\"2\">\n                        Class undefined not found in registry \n                        </th>\n                    </tr>\n                </tfoot>\n                </table>"
      }
     },
     "a2f0d26a526e4befb8a931dedb6363eb": {
      "model_module_version": "^2.1.4",
      "state": {
       "value": "<table style=\"width:100%\">\n                <thead>\n                    <tr>\n                        <th colspan=\"2\">\n                        Could not create model:\n                        </th>\n                    </tr>\n                </thead>\n                <tbody>\n                    <tr>\n                        <td>Model name</td>\n                        <td> undefined </td>\n                    </tr>\n                    <tr>\n                        <td>Model module</td>\n                        <td> undefined </td>\n                    </tr>\n                    <tr>\n                        <td>Model module version</td>\n                        <td> undefined </td>\n                    </tr>\n                <tbody>\n                <tfoot>\n                    <tr>\n                        <th colspan=\"2\">\n                        Class undefined not found in registry \n                        </th>\n                    </tr>\n                </tfoot>\n                </table>"
      }
     },
     "a3da27f324824245ab4548048acf08ce": {
      "model_module": "jupyter-js-widgets",
      "model_module_version": "~2.1.4",
      "model_name": "LayoutModel",
      "state": {
       "_model_module_version": "~2.1.4",
       "_view_module_version": "~2.1.4"
      }
     },
     "a5e1aa2fc5f641d098f2cfa6420a592b": {
      "model_module_version": "^2.1.4",
      "state": {
       "value": "<table style=\"width:100%\">\n                <thead>\n                    <tr>\n                        <th colspan=\"2\">\n                        Could not create model:\n                        </th>\n                    </tr>\n                </thead>\n                <tbody>\n                    <tr>\n                        <td>Model name</td>\n                        <td> undefined </td>\n                    </tr>\n                    <tr>\n                        <td>Model module</td>\n                        <td> undefined </td>\n                    </tr>\n                    <tr>\n                        <td>Model module version</td>\n                        <td> undefined </td>\n                    </tr>\n                <tbody>\n                <tfoot>\n                    <tr>\n                        <th colspan=\"2\">\n                        Class undefined not found in registry \n                        </th>\n                    </tr>\n                </tfoot>\n                </table>"
      }
     },
     "acf1144a079947a3b72f448ff497b5aa": {
      "model_module": "jupyter-js-widgets",
      "model_module_version": "~2.1.4",
      "model_name": "IntSliderModel",
      "state": {
       "_model_module_version": "~2.1.4",
       "_view_module_version": "~2.1.4",
       "description": "x",
       "layout": "IPY_MODEL_3c2f6371fb9d4ef8963013d7ec752f1a",
       "max": 30,
       "min": -10,
       "style": "IPY_MODEL_4085225553f745b5a56321cf316c733e",
       "value": 10
      }
     },
     "ae4e57c864524cccb1f82071a8cd1230": {
      "model_module_version": "^2.1.4",
      "state": {
       "children": [
        "IPY_MODEL_83640725b367458d874b51c6da3c0298",
        "IPY_MODEL_46c3f00a4866401bb7d7dd886668baeb"
       ],
       "value": "<table style=\"width:100%\">\n                <thead>\n                    <tr>\n                        <th colspan=\"2\">\n                        Could not create model:\n                        </th>\n                    </tr>\n                </thead>\n                <tbody>\n                    <tr>\n                        <td>Model name</td>\n                        <td> undefined </td>\n                    </tr>\n                    <tr>\n                        <td>Model module</td>\n                        <td> undefined </td>\n                    </tr>\n                    <tr>\n                        <td>Model module version</td>\n                        <td> undefined </td>\n                    </tr>\n                <tbody>\n                <tfoot>\n                    <tr>\n                        <th colspan=\"2\">\n                        Class undefined not found in registry \n                        </th>\n                    </tr>\n                </tfoot>\n                </table>"
      }
     },
     "b3aaafaed364432d9f29a2334748fb51": {
      "model_module_version": "^2.1.4",
      "state": {
       "description": "x",
       "value": "<table style=\"width:100%\">\n                <thead>\n                    <tr>\n                        <th colspan=\"2\">\n                        Could not create model:\n                        </th>\n                    </tr>\n                </thead>\n                <tbody>\n                    <tr>\n                        <td>Model name</td>\n                        <td> undefined </td>\n                    </tr>\n                    <tr>\n                        <td>Model module</td>\n                        <td> undefined </td>\n                    </tr>\n                    <tr>\n                        <td>Model module version</td>\n                        <td> undefined </td>\n                    </tr>\n                <tbody>\n                <tfoot>\n                    <tr>\n                        <th colspan=\"2\">\n                        Class undefined not found in registry \n                        </th>\n                    </tr>\n                </tfoot>\n                </table>"
      }
     },
     "b5c4b56ba9cd45e1bdca6530cc78c9e1": {
      "model_module_version": "^2.1.4",
      "state": {
       "msg_id": "",
       "value": "<table style=\"width:100%\">\n                <thead>\n                    <tr>\n                        <th colspan=\"2\">\n                        Could not create model:\n                        </th>\n                    </tr>\n                </thead>\n                <tbody>\n                    <tr>\n                        <td>Model name</td>\n                        <td> undefined </td>\n                    </tr>\n                    <tr>\n                        <td>Model module</td>\n                        <td> undefined </td>\n                    </tr>\n                    <tr>\n                        <td>Model module version</td>\n                        <td> undefined </td>\n                    </tr>\n                <tbody>\n                <tfoot>\n                    <tr>\n                        <th colspan=\"2\">\n                        Class undefined not found in registry \n                        </th>\n                    </tr>\n                </tfoot>\n                </table>"
      }
     },
     "b74b2bb279ff49c9a7b8384e115dda91": {
      "model_module_version": "^2.1.4",
      "state": {
       "msg_id": "",
       "value": "<table style=\"width:100%\">\n                <thead>\n                    <tr>\n                        <th colspan=\"2\">\n                        Could not create model:\n                        </th>\n                    </tr>\n                </thead>\n                <tbody>\n                    <tr>\n                        <td>Model name</td>\n                        <td> undefined </td>\n                    </tr>\n                    <tr>\n                        <td>Model module</td>\n                        <td> undefined </td>\n                    </tr>\n                    <tr>\n                        <td>Model module version</td>\n                        <td> undefined </td>\n                    </tr>\n                <tbody>\n                <tfoot>\n                    <tr>\n                        <th colspan=\"2\">\n                        Class undefined not found in registry \n                        </th>\n                    </tr>\n                </tfoot>\n                </table>"
      }
     },
     "bc40a99774e645d6a95f8c5424ed326e": {
      "model_module_version": "^2.1.4",
      "state": {
       "description": "x",
       "value": "<table style=\"width:100%\">\n                <thead>\n                    <tr>\n                        <th colspan=\"2\">\n                        Could not create model:\n                        </th>\n                    </tr>\n                </thead>\n                <tbody>\n                    <tr>\n                        <td>Model name</td>\n                        <td> undefined </td>\n                    </tr>\n                    <tr>\n                        <td>Model module</td>\n                        <td> undefined </td>\n                    </tr>\n                    <tr>\n                        <td>Model module version</td>\n                        <td> undefined </td>\n                    </tr>\n                <tbody>\n                <tfoot>\n                    <tr>\n                        <th colspan=\"2\">\n                        Class undefined not found in registry \n                        </th>\n                    </tr>\n                </tfoot>\n                </table>"
      }
     },
     "c40e39ab08b34613bb2767f4b2e60411": {
      "model_module_version": "^2.1.4",
      "state": {
       "value": "<table style=\"width:100%\">\n                <thead>\n                    <tr>\n                        <th colspan=\"2\">\n                        Could not create model:\n                        </th>\n                    </tr>\n                </thead>\n                <tbody>\n                    <tr>\n                        <td>Model name</td>\n                        <td> undefined </td>\n                    </tr>\n                    <tr>\n                        <td>Model module</td>\n                        <td> undefined </td>\n                    </tr>\n                    <tr>\n                        <td>Model module version</td>\n                        <td> undefined </td>\n                    </tr>\n                <tbody>\n                <tfoot>\n                    <tr>\n                        <th colspan=\"2\">\n                        Class undefined not found in registry \n                        </th>\n                    </tr>\n                </tfoot>\n                </table>"
      }
     },
     "ca7fc7414df744c1a12a80afcd929124": {
      "model_module_version": "^2.1.4",
      "state": {
       "description": "x",
       "value": "<table style=\"width:100%\">\n                <thead>\n                    <tr>\n                        <th colspan=\"2\">\n                        Could not create model:\n                        </th>\n                    </tr>\n                </thead>\n                <tbody>\n                    <tr>\n                        <td>Model name</td>\n                        <td> undefined </td>\n                    </tr>\n                    <tr>\n                        <td>Model module</td>\n                        <td> undefined </td>\n                    </tr>\n                    <tr>\n                        <td>Model module version</td>\n                        <td> undefined </td>\n                    </tr>\n                <tbody>\n                <tfoot>\n                    <tr>\n                        <th colspan=\"2\">\n                        Class undefined not found in registry \n                        </th>\n                    </tr>\n                </tfoot>\n                </table>"
      }
     },
     "d00724d28f834c4991169f92b8e447cb": {
      "model_module_version": "^2.1.4",
      "state": {
       "description": "x",
       "value": "<table style=\"width:100%\">\n                <thead>\n                    <tr>\n                        <th colspan=\"2\">\n                        Could not create model:\n                        </th>\n                    </tr>\n                </thead>\n                <tbody>\n                    <tr>\n                        <td>Model name</td>\n                        <td> undefined </td>\n                    </tr>\n                    <tr>\n                        <td>Model module</td>\n                        <td> undefined </td>\n                    </tr>\n                    <tr>\n                        <td>Model module version</td>\n                        <td> undefined </td>\n                    </tr>\n                <tbody>\n                <tfoot>\n                    <tr>\n                        <th colspan=\"2\">\n                        Class undefined not found in registry \n                        </th>\n                    </tr>\n                </tfoot>\n                </table>"
      }
     },
     "d11595e8990749f7a5f58f9502758e2d": {
      "model_module_version": "^2.1.4",
      "state": {
       "value": "<table style=\"width:100%\">\n                <thead>\n                    <tr>\n                        <th colspan=\"2\">\n                        Could not create model:\n                        </th>\n                    </tr>\n                </thead>\n                <tbody>\n                    <tr>\n                        <td>Model name</td>\n                        <td> undefined </td>\n                    </tr>\n                    <tr>\n                        <td>Model module</td>\n                        <td> undefined </td>\n                    </tr>\n                    <tr>\n                        <td>Model module version</td>\n                        <td> undefined </td>\n                    </tr>\n                <tbody>\n                <tfoot>\n                    <tr>\n                        <th colspan=\"2\">\n                        Class undefined not found in registry \n                        </th>\n                    </tr>\n                </tfoot>\n                </table>"
      }
     },
     "d37973aee6ad4ad3afc2983cc4640538": {
      "model_module_version": "^2.1.4",
      "state": {
       "value": "<table style=\"width:100%\">\n                <thead>\n                    <tr>\n                        <th colspan=\"2\">\n                        Could not create model:\n                        </th>\n                    </tr>\n                </thead>\n                <tbody>\n                    <tr>\n                        <td>Model name</td>\n                        <td> undefined </td>\n                    </tr>\n                    <tr>\n                        <td>Model module</td>\n                        <td> undefined </td>\n                    </tr>\n                    <tr>\n                        <td>Model module version</td>\n                        <td> undefined </td>\n                    </tr>\n                <tbody>\n                <tfoot>\n                    <tr>\n                        <th colspan=\"2\">\n                        Class undefined not found in registry \n                        </th>\n                    </tr>\n                </tfoot>\n                </table>"
      }
     },
     "d8e4be7cd0c144abb637254495935400": {
      "model_module_version": "^2.1.4",
      "state": {
       "value": "<table style=\"width:100%\">\n                <thead>\n                    <tr>\n                        <th colspan=\"2\">\n                        Could not create model:\n                        </th>\n                    </tr>\n                </thead>\n                <tbody>\n                    <tr>\n                        <td>Model name</td>\n                        <td> undefined </td>\n                    </tr>\n                    <tr>\n                        <td>Model module</td>\n                        <td> undefined </td>\n                    </tr>\n                    <tr>\n                        <td>Model module version</td>\n                        <td> undefined </td>\n                    </tr>\n                <tbody>\n                <tfoot>\n                    <tr>\n                        <th colspan=\"2\">\n                        Class undefined not found in registry \n                        </th>\n                    </tr>\n                </tfoot>\n                </table>"
      }
     },
     "d929f758e3d743e4bad5ee4b0e0e2971": {
      "model_module_version": "^2.1.4",
      "state": {
       "value": "<table style=\"width:100%\">\n                <thead>\n                    <tr>\n                        <th colspan=\"2\">\n                        Could not create model:\n                        </th>\n                    </tr>\n                </thead>\n                <tbody>\n                    <tr>\n                        <td>Model name</td>\n                        <td> undefined </td>\n                    </tr>\n                    <tr>\n                        <td>Model module</td>\n                        <td> undefined </td>\n                    </tr>\n                    <tr>\n                        <td>Model module version</td>\n                        <td> undefined </td>\n                    </tr>\n                <tbody>\n                <tfoot>\n                    <tr>\n                        <th colspan=\"2\">\n                        Class undefined not found in registry \n                        </th>\n                    </tr>\n                </tfoot>\n                </table>"
      }
     },
     "db0ea3166b744eb3914ca4a329e1f134": {
      "model_module_version": "^2.1.4",
      "state": {
       "value": "<table style=\"width:100%\">\n                <thead>\n                    <tr>\n                        <th colspan=\"2\">\n                        Could not create model:\n                        </th>\n                    </tr>\n                </thead>\n                <tbody>\n                    <tr>\n                        <td>Model name</td>\n                        <td> undefined </td>\n                    </tr>\n                    <tr>\n                        <td>Model module</td>\n                        <td> undefined </td>\n                    </tr>\n                    <tr>\n                        <td>Model module version</td>\n                        <td> undefined </td>\n                    </tr>\n                <tbody>\n                <tfoot>\n                    <tr>\n                        <th colspan=\"2\">\n                        Class undefined not found in registry \n                        </th>\n                    </tr>\n                </tfoot>\n                </table>"
      }
     },
     "de03135fc545466a891c5c7f1191cb4b": {
      "model_module_version": "^2.1.4",
      "state": {
       "children": [
        "IPY_MODEL_6aaa433ab117461b889545d142a27175",
        "IPY_MODEL_4a96e2d67ee54a41a257d81719387929"
       ],
       "value": "<table style=\"width:100%\">\n                <thead>\n                    <tr>\n                        <th colspan=\"2\">\n                        Could not create model:\n                        </th>\n                    </tr>\n                </thead>\n                <tbody>\n                    <tr>\n                        <td>Model name</td>\n                        <td> undefined </td>\n                    </tr>\n                    <tr>\n                        <td>Model module</td>\n                        <td> undefined </td>\n                    </tr>\n                    <tr>\n                        <td>Model module version</td>\n                        <td> undefined </td>\n                    </tr>\n                <tbody>\n                <tfoot>\n                    <tr>\n                        <th colspan=\"2\">\n                        Class undefined not found in registry \n                        </th>\n                    </tr>\n                </tfoot>\n                </table>"
      }
     },
     "e2d7a38ef7dc48099cc27bfcc2a6a4c9": {
      "model_module_version": "^2.1.4",
      "state": {
       "value": "<table style=\"width:100%\">\n                <thead>\n                    <tr>\n                        <th colspan=\"2\">\n                        Could not create model:\n                        </th>\n                    </tr>\n                </thead>\n                <tbody>\n                    <tr>\n                        <td>Model name</td>\n                        <td> undefined </td>\n                    </tr>\n                    <tr>\n                        <td>Model module</td>\n                        <td> undefined </td>\n                    </tr>\n                    <tr>\n                        <td>Model module version</td>\n                        <td> undefined </td>\n                    </tr>\n                <tbody>\n                <tfoot>\n                    <tr>\n                        <th colspan=\"2\">\n                        Class undefined not found in registry \n                        </th>\n                    </tr>\n                </tfoot>\n                </table>"
      }
     },
     "e2eabeb5e95644c6994f2f3be516a507": {
      "model_module_version": "^2.1.4",
      "state": {
       "value": "<table style=\"width:100%\">\n                <thead>\n                    <tr>\n                        <th colspan=\"2\">\n                        Could not create model:\n                        </th>\n                    </tr>\n                </thead>\n                <tbody>\n                    <tr>\n                        <td>Model name</td>\n                        <td> undefined </td>\n                    </tr>\n                    <tr>\n                        <td>Model module</td>\n                        <td> undefined </td>\n                    </tr>\n                    <tr>\n                        <td>Model module version</td>\n                        <td> undefined </td>\n                    </tr>\n                <tbody>\n                <tfoot>\n                    <tr>\n                        <th colspan=\"2\">\n                        Class undefined not found in registry \n                        </th>\n                    </tr>\n                </tfoot>\n                </table>"
      }
     },
     "e8c41950a9d349d2a093b110f66cbb72": {
      "model_module_version": "^2.1.4",
      "state": {
       "description": "x",
       "value": "<table style=\"width:100%\">\n                <thead>\n                    <tr>\n                        <th colspan=\"2\">\n                        Could not create model:\n                        </th>\n                    </tr>\n                </thead>\n                <tbody>\n                    <tr>\n                        <td>Model name</td>\n                        <td> undefined </td>\n                    </tr>\n                    <tr>\n                        <td>Model module</td>\n                        <td> undefined </td>\n                    </tr>\n                    <tr>\n                        <td>Model module version</td>\n                        <td> undefined </td>\n                    </tr>\n                <tbody>\n                <tfoot>\n                    <tr>\n                        <th colspan=\"2\">\n                        Class undefined not found in registry \n                        </th>\n                    </tr>\n                </tfoot>\n                </table>"
      }
     },
     "eef3d499980c484890b8c35cc146b9ed": {
      "model_module_version": "^2.1.4",
      "state": {
       "value": "<table style=\"width:100%\">\n                <thead>\n                    <tr>\n                        <th colspan=\"2\">\n                        Could not create model:\n                        </th>\n                    </tr>\n                </thead>\n                <tbody>\n                    <tr>\n                        <td>Model name</td>\n                        <td> undefined </td>\n                    </tr>\n                    <tr>\n                        <td>Model module</td>\n                        <td> undefined </td>\n                    </tr>\n                    <tr>\n                        <td>Model module version</td>\n                        <td> undefined </td>\n                    </tr>\n                <tbody>\n                <tfoot>\n                    <tr>\n                        <th colspan=\"2\">\n                        Class undefined not found in registry \n                        </th>\n                    </tr>\n                </tfoot>\n                </table>"
      }
     },
     "f43621a7182443dbaba6a026a3ea8c76": {
      "model_module_version": "^2.1.4",
      "state": {
       "value": "<table style=\"width:100%\">\n                <thead>\n                    <tr>\n                        <th colspan=\"2\">\n                        Could not create model:\n                        </th>\n                    </tr>\n                </thead>\n                <tbody>\n                    <tr>\n                        <td>Model name</td>\n                        <td> undefined </td>\n                    </tr>\n                    <tr>\n                        <td>Model module</td>\n                        <td> undefined </td>\n                    </tr>\n                    <tr>\n                        <td>Model module version</td>\n                        <td> undefined </td>\n                    </tr>\n                <tbody>\n                <tfoot>\n                    <tr>\n                        <th colspan=\"2\">\n                        Class undefined not found in registry \n                        </th>\n                    </tr>\n                </tfoot>\n                </table>"
      }
     },
     "f5d70fc558214794b4dd91314f8746c8": {
      "model_module_version": "^2.1.4",
      "state": {
       "value": "<table style=\"width:100%\">\n                <thead>\n                    <tr>\n                        <th colspan=\"2\">\n                        Could not create model:\n                        </th>\n                    </tr>\n                </thead>\n                <tbody>\n                    <tr>\n                        <td>Model name</td>\n                        <td> undefined </td>\n                    </tr>\n                    <tr>\n                        <td>Model module</td>\n                        <td> undefined </td>\n                    </tr>\n                    <tr>\n                        <td>Model module version</td>\n                        <td> undefined </td>\n                    </tr>\n                <tbody>\n                <tfoot>\n                    <tr>\n                        <th colspan=\"2\">\n                        Class undefined not found in registry \n                        </th>\n                    </tr>\n                </tfoot>\n                </table>"
      }
     }
    },
    "version_major": 1,
    "version_minor": 0
   }
  }
 },
 "nbformat": 4,
 "nbformat_minor": 2
}
