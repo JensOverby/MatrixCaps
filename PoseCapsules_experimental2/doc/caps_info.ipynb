{
 "cells": [
  {
   "cell_type": "markdown",
   "metadata": {},
   "source": [
    "# CAPSNET Monitor"
   ]
  },
  {
   "cell_type": "code",
   "execution_count": 1,
   "metadata": {},
   "outputs": [
    {
     "data": {
      "text/html": [
       "<script>\n",
       "code_show=true; \n",
       "function code_toggle() {\n",
       " if (code_show){\n",
       " $('div.input').hide();\n",
       " } else {\n",
       " $('div.input').show();\n",
       " }\n",
       " code_show = !code_show\n",
       "} \n",
       "$( document ).ready(code_toggle);\n",
       "</script>\n",
       "<form action=\"javascript:code_toggle()\"><input type=\"submit\" value=\"Click here to toggle on/off the raw code.\"></form>"
      ],
      "text/plain": [
       "<IPython.core.display.HTML object>"
      ]
     },
     "execution_count": 1,
     "metadata": {},
     "output_type": "execute_result"
    }
   ],
   "source": [
    "from IPython.display import HTML\n",
    "\n",
    "HTML('''<script>\n",
    "code_show=true; \n",
    "function code_toggle() {\n",
    " if (code_show){\n",
    " $('div.input').hide();\n",
    " } else {\n",
    " $('div.input').show();\n",
    " }\n",
    " code_show = !code_show\n",
    "} \n",
    "$( document ).ready(code_toggle);\n",
    "</script>\n",
    "<form action=\"javascript:code_toggle()\"><input type=\"submit\" value=\"Click here to toggle on/off the raw code.\"></form>''')\n"
   ]
  },
  {
   "cell_type": "code",
   "execution_count": 2,
   "metadata": {
    "scrolled": true
   },
   "outputs": [
    {
     "data": {
      "text/html": [
       "<style>\n",
       ".output_wrapper button.btn.btn-default,\n",
       ".output_wrapper .ui-dialog-titlebar {\n",
       "  display: none;\n",
       "}\n",
       "</style>"
      ],
      "text/plain": [
       "<IPython.core.display.HTML object>"
      ]
     },
     "execution_count": 2,
     "metadata": {},
     "output_type": "execute_result"
    }
   ],
   "source": [
    "HTML(\n",
    "'''<style>\n",
    ".output_wrapper button.btn.btn-default,\n",
    ".output_wrapper .ui-dialog-titlebar {\n",
    "  display: none;\n",
    "}\n",
    "</style>''')"
   ]
  },
  {
   "cell_type": "code",
   "execution_count": 3,
   "metadata": {
    "scrolled": false
   },
   "outputs": [],
   "source": [
    "%matplotlib notebook\n",
    "\n",
    "import os\n",
    "#os.chdir('/home/jens/eclipse-workspace/MatrixCaps/Matrix-Capsule-Network/')\n",
    "\n",
    "import sys\n",
    "import pyrr\n",
    "#sys.path.append('../model')\n",
    "sys.path.append('..')\n",
    "import torch\n",
    "from torch.autograd import Variable\n",
    "from torchvision import datasets\n",
    "from torchvision import transforms\n",
    "from torchvision import utils\n",
    "import torch.nn.functional as F\n",
    "from capsnet import CapsNet\n",
    "import util\n",
    "#import model.util as util\n",
    "import matplotlib\n",
    "import matplotlib.pyplot as plt\n",
    "import numpy as np\n",
    "import time\n",
    "import pyrr\n",
    "\n",
    "import ipywidgets as widgets\n",
    "from ipywidgets import FloatSlider, HBox, VBox, Layout\n",
    "matplotlib.pyplot.ioff()\n",
    "\n",
    "import glob\n",
    "from IPython.display import display, Markdown, Image\n",
    "\n",
    "import PIL.Image\n",
    "from io import BytesIO\n"
   ]
  },
  {
   "cell_type": "markdown",
   "metadata": {},
   "source": [
    "## Matrix Capsules LOSS plot"
   ]
  },
  {
   "cell_type": "code",
   "execution_count": 4,
   "metadata": {},
   "outputs": [
    {
     "data": {
      "application/javascript": [
       "/* Put everything inside the global mpl namespace */\n",
       "window.mpl = {};\n",
       "\n",
       "\n",
       "mpl.get_websocket_type = function() {\n",
       "    if (typeof(WebSocket) !== 'undefined') {\n",
       "        return WebSocket;\n",
       "    } else if (typeof(MozWebSocket) !== 'undefined') {\n",
       "        return MozWebSocket;\n",
       "    } else {\n",
       "        alert('Your browser does not have WebSocket support.' +\n",
       "              'Please try Chrome, Safari or Firefox ≥ 6. ' +\n",
       "              'Firefox 4 and 5 are also supported but you ' +\n",
       "              'have to enable WebSockets in about:config.');\n",
       "    };\n",
       "}\n",
       "\n",
       "mpl.figure = function(figure_id, websocket, ondownload, parent_element) {\n",
       "    this.id = figure_id;\n",
       "\n",
       "    this.ws = websocket;\n",
       "\n",
       "    this.supports_binary = (this.ws.binaryType != undefined);\n",
       "\n",
       "    if (!this.supports_binary) {\n",
       "        var warnings = document.getElementById(\"mpl-warnings\");\n",
       "        if (warnings) {\n",
       "            warnings.style.display = 'block';\n",
       "            warnings.textContent = (\n",
       "                \"This browser does not support binary websocket messages. \" +\n",
       "                    \"Performance may be slow.\");\n",
       "        }\n",
       "    }\n",
       "\n",
       "    this.imageObj = new Image();\n",
       "\n",
       "    this.context = undefined;\n",
       "    this.message = undefined;\n",
       "    this.canvas = undefined;\n",
       "    this.rubberband_canvas = undefined;\n",
       "    this.rubberband_context = undefined;\n",
       "    this.format_dropdown = undefined;\n",
       "\n",
       "    this.image_mode = 'full';\n",
       "\n",
       "    this.root = $('<div/>');\n",
       "    this._root_extra_style(this.root)\n",
       "    this.root.attr('style', 'display: inline-block');\n",
       "\n",
       "    $(parent_element).append(this.root);\n",
       "\n",
       "    this._init_header(this);\n",
       "    this._init_canvas(this);\n",
       "    this._init_toolbar(this);\n",
       "\n",
       "    var fig = this;\n",
       "\n",
       "    this.waiting = false;\n",
       "\n",
       "    this.ws.onopen =  function () {\n",
       "            fig.send_message(\"supports_binary\", {value: fig.supports_binary});\n",
       "            fig.send_message(\"send_image_mode\", {});\n",
       "            if (mpl.ratio != 1) {\n",
       "                fig.send_message(\"set_dpi_ratio\", {'dpi_ratio': mpl.ratio});\n",
       "            }\n",
       "            fig.send_message(\"refresh\", {});\n",
       "        }\n",
       "\n",
       "    this.imageObj.onload = function() {\n",
       "            if (fig.image_mode == 'full') {\n",
       "                // Full images could contain transparency (where diff images\n",
       "                // almost always do), so we need to clear the canvas so that\n",
       "                // there is no ghosting.\n",
       "                fig.context.clearRect(0, 0, fig.canvas.width, fig.canvas.height);\n",
       "            }\n",
       "            fig.context.drawImage(fig.imageObj, 0, 0);\n",
       "        };\n",
       "\n",
       "    this.imageObj.onunload = function() {\n",
       "        fig.ws.close();\n",
       "    }\n",
       "\n",
       "    this.ws.onmessage = this._make_on_message_function(this);\n",
       "\n",
       "    this.ondownload = ondownload;\n",
       "}\n",
       "\n",
       "mpl.figure.prototype._init_header = function() {\n",
       "    var titlebar = $(\n",
       "        '<div class=\"ui-dialog-titlebar ui-widget-header ui-corner-all ' +\n",
       "        'ui-helper-clearfix\"/>');\n",
       "    var titletext = $(\n",
       "        '<div class=\"ui-dialog-title\" style=\"width: 100%; ' +\n",
       "        'text-align: center; padding: 3px;\"/>');\n",
       "    titlebar.append(titletext)\n",
       "    this.root.append(titlebar);\n",
       "    this.header = titletext[0];\n",
       "}\n",
       "\n",
       "\n",
       "\n",
       "mpl.figure.prototype._canvas_extra_style = function(canvas_div) {\n",
       "\n",
       "}\n",
       "\n",
       "\n",
       "mpl.figure.prototype._root_extra_style = function(canvas_div) {\n",
       "\n",
       "}\n",
       "\n",
       "mpl.figure.prototype._init_canvas = function() {\n",
       "    var fig = this;\n",
       "\n",
       "    var canvas_div = $('<div/>');\n",
       "\n",
       "    canvas_div.attr('style', 'position: relative; clear: both; outline: 0');\n",
       "\n",
       "    function canvas_keyboard_event(event) {\n",
       "        return fig.key_event(event, event['data']);\n",
       "    }\n",
       "\n",
       "    canvas_div.keydown('key_press', canvas_keyboard_event);\n",
       "    canvas_div.keyup('key_release', canvas_keyboard_event);\n",
       "    this.canvas_div = canvas_div\n",
       "    this._canvas_extra_style(canvas_div)\n",
       "    this.root.append(canvas_div);\n",
       "\n",
       "    var canvas = $('<canvas/>');\n",
       "    canvas.addClass('mpl-canvas');\n",
       "    canvas.attr('style', \"left: 0; top: 0; z-index: 0; outline: 0\")\n",
       "\n",
       "    this.canvas = canvas[0];\n",
       "    this.context = canvas[0].getContext(\"2d\");\n",
       "\n",
       "    var backingStore = this.context.backingStorePixelRatio ||\n",
       "\tthis.context.webkitBackingStorePixelRatio ||\n",
       "\tthis.context.mozBackingStorePixelRatio ||\n",
       "\tthis.context.msBackingStorePixelRatio ||\n",
       "\tthis.context.oBackingStorePixelRatio ||\n",
       "\tthis.context.backingStorePixelRatio || 1;\n",
       "\n",
       "    mpl.ratio = (window.devicePixelRatio || 1) / backingStore;\n",
       "\n",
       "    var rubberband = $('<canvas/>');\n",
       "    rubberband.attr('style', \"position: absolute; left: 0; top: 0; z-index: 1;\")\n",
       "\n",
       "    var pass_mouse_events = true;\n",
       "\n",
       "    canvas_div.resizable({\n",
       "        start: function(event, ui) {\n",
       "            pass_mouse_events = false;\n",
       "        },\n",
       "        resize: function(event, ui) {\n",
       "            fig.request_resize(ui.size.width, ui.size.height);\n",
       "        },\n",
       "        stop: function(event, ui) {\n",
       "            pass_mouse_events = true;\n",
       "            fig.request_resize(ui.size.width, ui.size.height);\n",
       "        },\n",
       "    });\n",
       "\n",
       "    function mouse_event_fn(event) {\n",
       "        if (pass_mouse_events)\n",
       "            return fig.mouse_event(event, event['data']);\n",
       "    }\n",
       "\n",
       "    rubberband.mousedown('button_press', mouse_event_fn);\n",
       "    rubberband.mouseup('button_release', mouse_event_fn);\n",
       "    // Throttle sequential mouse events to 1 every 20ms.\n",
       "    rubberband.mousemove('motion_notify', mouse_event_fn);\n",
       "\n",
       "    rubberband.mouseenter('figure_enter', mouse_event_fn);\n",
       "    rubberband.mouseleave('figure_leave', mouse_event_fn);\n",
       "\n",
       "    canvas_div.on(\"wheel\", function (event) {\n",
       "        event = event.originalEvent;\n",
       "        event['data'] = 'scroll'\n",
       "        if (event.deltaY < 0) {\n",
       "            event.step = 1;\n",
       "        } else {\n",
       "            event.step = -1;\n",
       "        }\n",
       "        mouse_event_fn(event);\n",
       "    });\n",
       "\n",
       "    canvas_div.append(canvas);\n",
       "    canvas_div.append(rubberband);\n",
       "\n",
       "    this.rubberband = rubberband;\n",
       "    this.rubberband_canvas = rubberband[0];\n",
       "    this.rubberband_context = rubberband[0].getContext(\"2d\");\n",
       "    this.rubberband_context.strokeStyle = \"#000000\";\n",
       "\n",
       "    this._resize_canvas = function(width, height) {\n",
       "        // Keep the size of the canvas, canvas container, and rubber band\n",
       "        // canvas in synch.\n",
       "        canvas_div.css('width', width)\n",
       "        canvas_div.css('height', height)\n",
       "\n",
       "        canvas.attr('width', width * mpl.ratio);\n",
       "        canvas.attr('height', height * mpl.ratio);\n",
       "        canvas.attr('style', 'width: ' + width + 'px; height: ' + height + 'px;');\n",
       "\n",
       "        rubberband.attr('width', width);\n",
       "        rubberband.attr('height', height);\n",
       "    }\n",
       "\n",
       "    // Set the figure to an initial 600x600px, this will subsequently be updated\n",
       "    // upon first draw.\n",
       "    this._resize_canvas(600, 600);\n",
       "\n",
       "    // Disable right mouse context menu.\n",
       "    $(this.rubberband_canvas).bind(\"contextmenu\",function(e){\n",
       "        return false;\n",
       "    });\n",
       "\n",
       "    function set_focus () {\n",
       "        canvas.focus();\n",
       "        canvas_div.focus();\n",
       "    }\n",
       "\n",
       "    window.setTimeout(set_focus, 100);\n",
       "}\n",
       "\n",
       "mpl.figure.prototype._init_toolbar = function() {\n",
       "    var fig = this;\n",
       "\n",
       "    var nav_element = $('<div/>')\n",
       "    nav_element.attr('style', 'width: 100%');\n",
       "    this.root.append(nav_element);\n",
       "\n",
       "    // Define a callback function for later on.\n",
       "    function toolbar_event(event) {\n",
       "        return fig.toolbar_button_onclick(event['data']);\n",
       "    }\n",
       "    function toolbar_mouse_event(event) {\n",
       "        return fig.toolbar_button_onmouseover(event['data']);\n",
       "    }\n",
       "\n",
       "    for(var toolbar_ind in mpl.toolbar_items) {\n",
       "        var name = mpl.toolbar_items[toolbar_ind][0];\n",
       "        var tooltip = mpl.toolbar_items[toolbar_ind][1];\n",
       "        var image = mpl.toolbar_items[toolbar_ind][2];\n",
       "        var method_name = mpl.toolbar_items[toolbar_ind][3];\n",
       "\n",
       "        if (!name) {\n",
       "            // put a spacer in here.\n",
       "            continue;\n",
       "        }\n",
       "        var button = $('<button/>');\n",
       "        button.addClass('ui-button ui-widget ui-state-default ui-corner-all ' +\n",
       "                        'ui-button-icon-only');\n",
       "        button.attr('role', 'button');\n",
       "        button.attr('aria-disabled', 'false');\n",
       "        button.click(method_name, toolbar_event);\n",
       "        button.mouseover(tooltip, toolbar_mouse_event);\n",
       "\n",
       "        var icon_img = $('<span/>');\n",
       "        icon_img.addClass('ui-button-icon-primary ui-icon');\n",
       "        icon_img.addClass(image);\n",
       "        icon_img.addClass('ui-corner-all');\n",
       "\n",
       "        var tooltip_span = $('<span/>');\n",
       "        tooltip_span.addClass('ui-button-text');\n",
       "        tooltip_span.html(tooltip);\n",
       "\n",
       "        button.append(icon_img);\n",
       "        button.append(tooltip_span);\n",
       "\n",
       "        nav_element.append(button);\n",
       "    }\n",
       "\n",
       "    var fmt_picker_span = $('<span/>');\n",
       "\n",
       "    var fmt_picker = $('<select/>');\n",
       "    fmt_picker.addClass('mpl-toolbar-option ui-widget ui-widget-content');\n",
       "    fmt_picker_span.append(fmt_picker);\n",
       "    nav_element.append(fmt_picker_span);\n",
       "    this.format_dropdown = fmt_picker[0];\n",
       "\n",
       "    for (var ind in mpl.extensions) {\n",
       "        var fmt = mpl.extensions[ind];\n",
       "        var option = $(\n",
       "            '<option/>', {selected: fmt === mpl.default_extension}).html(fmt);\n",
       "        fmt_picker.append(option)\n",
       "    }\n",
       "\n",
       "    // Add hover states to the ui-buttons\n",
       "    $( \".ui-button\" ).hover(\n",
       "        function() { $(this).addClass(\"ui-state-hover\");},\n",
       "        function() { $(this).removeClass(\"ui-state-hover\");}\n",
       "    );\n",
       "\n",
       "    var status_bar = $('<span class=\"mpl-message\"/>');\n",
       "    nav_element.append(status_bar);\n",
       "    this.message = status_bar[0];\n",
       "}\n",
       "\n",
       "mpl.figure.prototype.request_resize = function(x_pixels, y_pixels) {\n",
       "    // Request matplotlib to resize the figure. Matplotlib will then trigger a resize in the client,\n",
       "    // which will in turn request a refresh of the image.\n",
       "    this.send_message('resize', {'width': x_pixels, 'height': y_pixels});\n",
       "}\n",
       "\n",
       "mpl.figure.prototype.send_message = function(type, properties) {\n",
       "    properties['type'] = type;\n",
       "    properties['figure_id'] = this.id;\n",
       "    this.ws.send(JSON.stringify(properties));\n",
       "}\n",
       "\n",
       "mpl.figure.prototype.send_draw_message = function() {\n",
       "    if (!this.waiting) {\n",
       "        this.waiting = true;\n",
       "        this.ws.send(JSON.stringify({type: \"draw\", figure_id: this.id}));\n",
       "    }\n",
       "}\n",
       "\n",
       "\n",
       "mpl.figure.prototype.handle_save = function(fig, msg) {\n",
       "    var format_dropdown = fig.format_dropdown;\n",
       "    var format = format_dropdown.options[format_dropdown.selectedIndex].value;\n",
       "    fig.ondownload(fig, format);\n",
       "}\n",
       "\n",
       "\n",
       "mpl.figure.prototype.handle_resize = function(fig, msg) {\n",
       "    var size = msg['size'];\n",
       "    if (size[0] != fig.canvas.width || size[1] != fig.canvas.height) {\n",
       "        fig._resize_canvas(size[0], size[1]);\n",
       "        fig.send_message(\"refresh\", {});\n",
       "    };\n",
       "}\n",
       "\n",
       "mpl.figure.prototype.handle_rubberband = function(fig, msg) {\n",
       "    var x0 = msg['x0'] / mpl.ratio;\n",
       "    var y0 = (fig.canvas.height - msg['y0']) / mpl.ratio;\n",
       "    var x1 = msg['x1'] / mpl.ratio;\n",
       "    var y1 = (fig.canvas.height - msg['y1']) / mpl.ratio;\n",
       "    x0 = Math.floor(x0) + 0.5;\n",
       "    y0 = Math.floor(y0) + 0.5;\n",
       "    x1 = Math.floor(x1) + 0.5;\n",
       "    y1 = Math.floor(y1) + 0.5;\n",
       "    var min_x = Math.min(x0, x1);\n",
       "    var min_y = Math.min(y0, y1);\n",
       "    var width = Math.abs(x1 - x0);\n",
       "    var height = Math.abs(y1 - y0);\n",
       "\n",
       "    fig.rubberband_context.clearRect(\n",
       "        0, 0, fig.canvas.width, fig.canvas.height);\n",
       "\n",
       "    fig.rubberband_context.strokeRect(min_x, min_y, width, height);\n",
       "}\n",
       "\n",
       "mpl.figure.prototype.handle_figure_label = function(fig, msg) {\n",
       "    // Updates the figure title.\n",
       "    fig.header.textContent = msg['label'];\n",
       "}\n",
       "\n",
       "mpl.figure.prototype.handle_cursor = function(fig, msg) {\n",
       "    var cursor = msg['cursor'];\n",
       "    switch(cursor)\n",
       "    {\n",
       "    case 0:\n",
       "        cursor = 'pointer';\n",
       "        break;\n",
       "    case 1:\n",
       "        cursor = 'default';\n",
       "        break;\n",
       "    case 2:\n",
       "        cursor = 'crosshair';\n",
       "        break;\n",
       "    case 3:\n",
       "        cursor = 'move';\n",
       "        break;\n",
       "    }\n",
       "    fig.rubberband_canvas.style.cursor = cursor;\n",
       "}\n",
       "\n",
       "mpl.figure.prototype.handle_message = function(fig, msg) {\n",
       "    fig.message.textContent = msg['message'];\n",
       "}\n",
       "\n",
       "mpl.figure.prototype.handle_draw = function(fig, msg) {\n",
       "    // Request the server to send over a new figure.\n",
       "    fig.send_draw_message();\n",
       "}\n",
       "\n",
       "mpl.figure.prototype.handle_image_mode = function(fig, msg) {\n",
       "    fig.image_mode = msg['mode'];\n",
       "}\n",
       "\n",
       "mpl.figure.prototype.updated_canvas_event = function() {\n",
       "    // Called whenever the canvas gets updated.\n",
       "    this.send_message(\"ack\", {});\n",
       "}\n",
       "\n",
       "// A function to construct a web socket function for onmessage handling.\n",
       "// Called in the figure constructor.\n",
       "mpl.figure.prototype._make_on_message_function = function(fig) {\n",
       "    return function socket_on_message(evt) {\n",
       "        if (evt.data instanceof Blob) {\n",
       "            /* FIXME: We get \"Resource interpreted as Image but\n",
       "             * transferred with MIME type text/plain:\" errors on\n",
       "             * Chrome.  But how to set the MIME type?  It doesn't seem\n",
       "             * to be part of the websocket stream */\n",
       "            evt.data.type = \"image/png\";\n",
       "\n",
       "            /* Free the memory for the previous frames */\n",
       "            if (fig.imageObj.src) {\n",
       "                (window.URL || window.webkitURL).revokeObjectURL(\n",
       "                    fig.imageObj.src);\n",
       "            }\n",
       "\n",
       "            fig.imageObj.src = (window.URL || window.webkitURL).createObjectURL(\n",
       "                evt.data);\n",
       "            fig.updated_canvas_event();\n",
       "            fig.waiting = false;\n",
       "            return;\n",
       "        }\n",
       "        else if (typeof evt.data === 'string' && evt.data.slice(0, 21) == \"data:image/png;base64\") {\n",
       "            fig.imageObj.src = evt.data;\n",
       "            fig.updated_canvas_event();\n",
       "            fig.waiting = false;\n",
       "            return;\n",
       "        }\n",
       "\n",
       "        var msg = JSON.parse(evt.data);\n",
       "        var msg_type = msg['type'];\n",
       "\n",
       "        // Call the  \"handle_{type}\" callback, which takes\n",
       "        // the figure and JSON message as its only arguments.\n",
       "        try {\n",
       "            var callback = fig[\"handle_\" + msg_type];\n",
       "        } catch (e) {\n",
       "            console.log(\"No handler for the '\" + msg_type + \"' message type: \", msg);\n",
       "            return;\n",
       "        }\n",
       "\n",
       "        if (callback) {\n",
       "            try {\n",
       "                // console.log(\"Handling '\" + msg_type + \"' message: \", msg);\n",
       "                callback(fig, msg);\n",
       "            } catch (e) {\n",
       "                console.log(\"Exception inside the 'handler_\" + msg_type + \"' callback:\", e, e.stack, msg);\n",
       "            }\n",
       "        }\n",
       "    };\n",
       "}\n",
       "\n",
       "// from http://stackoverflow.com/questions/1114465/getting-mouse-location-in-canvas\n",
       "mpl.findpos = function(e) {\n",
       "    //this section is from http://www.quirksmode.org/js/events_properties.html\n",
       "    var targ;\n",
       "    if (!e)\n",
       "        e = window.event;\n",
       "    if (e.target)\n",
       "        targ = e.target;\n",
       "    else if (e.srcElement)\n",
       "        targ = e.srcElement;\n",
       "    if (targ.nodeType == 3) // defeat Safari bug\n",
       "        targ = targ.parentNode;\n",
       "\n",
       "    // jQuery normalizes the pageX and pageY\n",
       "    // pageX,Y are the mouse positions relative to the document\n",
       "    // offset() returns the position of the element relative to the document\n",
       "    var x = e.pageX - $(targ).offset().left;\n",
       "    var y = e.pageY - $(targ).offset().top;\n",
       "\n",
       "    return {\"x\": x, \"y\": y};\n",
       "};\n",
       "\n",
       "/*\n",
       " * return a copy of an object with only non-object keys\n",
       " * we need this to avoid circular references\n",
       " * http://stackoverflow.com/a/24161582/3208463\n",
       " */\n",
       "function simpleKeys (original) {\n",
       "  return Object.keys(original).reduce(function (obj, key) {\n",
       "    if (typeof original[key] !== 'object')\n",
       "        obj[key] = original[key]\n",
       "    return obj;\n",
       "  }, {});\n",
       "}\n",
       "\n",
       "mpl.figure.prototype.mouse_event = function(event, name) {\n",
       "    var canvas_pos = mpl.findpos(event)\n",
       "\n",
       "    if (name === 'button_press')\n",
       "    {\n",
       "        this.canvas.focus();\n",
       "        this.canvas_div.focus();\n",
       "    }\n",
       "\n",
       "    var x = canvas_pos.x * mpl.ratio;\n",
       "    var y = canvas_pos.y * mpl.ratio;\n",
       "\n",
       "    this.send_message(name, {x: x, y: y, button: event.button,\n",
       "                             step: event.step,\n",
       "                             guiEvent: simpleKeys(event)});\n",
       "\n",
       "    /* This prevents the web browser from automatically changing to\n",
       "     * the text insertion cursor when the button is pressed.  We want\n",
       "     * to control all of the cursor setting manually through the\n",
       "     * 'cursor' event from matplotlib */\n",
       "    event.preventDefault();\n",
       "    return false;\n",
       "}\n",
       "\n",
       "mpl.figure.prototype._key_event_extra = function(event, name) {\n",
       "    // Handle any extra behaviour associated with a key event\n",
       "}\n",
       "\n",
       "mpl.figure.prototype.key_event = function(event, name) {\n",
       "\n",
       "    // Prevent repeat events\n",
       "    if (name == 'key_press')\n",
       "    {\n",
       "        if (event.which === this._key)\n",
       "            return;\n",
       "        else\n",
       "            this._key = event.which;\n",
       "    }\n",
       "    if (name == 'key_release')\n",
       "        this._key = null;\n",
       "\n",
       "    var value = '';\n",
       "    if (event.ctrlKey && event.which != 17)\n",
       "        value += \"ctrl+\";\n",
       "    if (event.altKey && event.which != 18)\n",
       "        value += \"alt+\";\n",
       "    if (event.shiftKey && event.which != 16)\n",
       "        value += \"shift+\";\n",
       "\n",
       "    value += 'k';\n",
       "    value += event.which.toString();\n",
       "\n",
       "    this._key_event_extra(event, name);\n",
       "\n",
       "    this.send_message(name, {key: value,\n",
       "                             guiEvent: simpleKeys(event)});\n",
       "    return false;\n",
       "}\n",
       "\n",
       "mpl.figure.prototype.toolbar_button_onclick = function(name) {\n",
       "    if (name == 'download') {\n",
       "        this.handle_save(this, null);\n",
       "    } else {\n",
       "        this.send_message(\"toolbar_button\", {name: name});\n",
       "    }\n",
       "};\n",
       "\n",
       "mpl.figure.prototype.toolbar_button_onmouseover = function(tooltip) {\n",
       "    this.message.textContent = tooltip;\n",
       "};\n",
       "mpl.toolbar_items = [[\"Home\", \"Reset original view\", \"fa fa-home icon-home\", \"home\"], [\"Back\", \"Back to previous view\", \"fa fa-arrow-left icon-arrow-left\", \"back\"], [\"Forward\", \"Forward to next view\", \"fa fa-arrow-right icon-arrow-right\", \"forward\"], [\"\", \"\", \"\", \"\"], [\"Pan\", \"Pan axes with left mouse, zoom with right\", \"fa fa-arrows icon-move\", \"pan\"], [\"Zoom\", \"Zoom to rectangle\", \"fa fa-square-o icon-check-empty\", \"zoom\"], [\"\", \"\", \"\", \"\"], [\"Download\", \"Download plot\", \"fa fa-floppy-o icon-save\", \"download\"]];\n",
       "\n",
       "mpl.extensions = [\"eps\", \"jpeg\", \"pdf\", \"png\", \"ps\", \"raw\", \"svg\", \"tif\"];\n",
       "\n",
       "mpl.default_extension = \"png\";var comm_websocket_adapter = function(comm) {\n",
       "    // Create a \"websocket\"-like object which calls the given IPython comm\n",
       "    // object with the appropriate methods. Currently this is a non binary\n",
       "    // socket, so there is still some room for performance tuning.\n",
       "    var ws = {};\n",
       "\n",
       "    ws.close = function() {\n",
       "        comm.close()\n",
       "    };\n",
       "    ws.send = function(m) {\n",
       "        //console.log('sending', m);\n",
       "        comm.send(m);\n",
       "    };\n",
       "    // Register the callback with on_msg.\n",
       "    comm.on_msg(function(msg) {\n",
       "        //console.log('receiving', msg['content']['data'], msg);\n",
       "        // Pass the mpl event to the overridden (by mpl) onmessage function.\n",
       "        ws.onmessage(msg['content']['data'])\n",
       "    });\n",
       "    return ws;\n",
       "}\n",
       "\n",
       "mpl.mpl_figure_comm = function(comm, msg) {\n",
       "    // This is the function which gets called when the mpl process\n",
       "    // starts-up an IPython Comm through the \"matplotlib\" channel.\n",
       "\n",
       "    var id = msg.content.data.id;\n",
       "    // Get hold of the div created by the display call when the Comm\n",
       "    // socket was opened in Python.\n",
       "    var element = $(\"#\" + id);\n",
       "    var ws_proxy = comm_websocket_adapter(comm)\n",
       "\n",
       "    function ondownload(figure, format) {\n",
       "        window.open(figure.imageObj.src);\n",
       "    }\n",
       "\n",
       "    var fig = new mpl.figure(id, ws_proxy,\n",
       "                           ondownload,\n",
       "                           element.get(0));\n",
       "\n",
       "    // Call onopen now - mpl needs it, as it is assuming we've passed it a real\n",
       "    // web socket which is closed, not our websocket->open comm proxy.\n",
       "    ws_proxy.onopen();\n",
       "\n",
       "    fig.parent_element = element.get(0);\n",
       "    fig.cell_info = mpl.find_output_cell(\"<div id='\" + id + \"'></div>\");\n",
       "    if (!fig.cell_info) {\n",
       "        console.error(\"Failed to find cell for figure\", id, fig);\n",
       "        return;\n",
       "    }\n",
       "\n",
       "    var output_index = fig.cell_info[2]\n",
       "    var cell = fig.cell_info[0];\n",
       "\n",
       "};\n",
       "\n",
       "mpl.figure.prototype.handle_close = function(fig, msg) {\n",
       "    var width = fig.canvas.width/mpl.ratio\n",
       "    fig.root.unbind('remove')\n",
       "\n",
       "    // Update the output cell to use the data from the current canvas.\n",
       "    fig.push_to_output();\n",
       "    var dataURL = fig.canvas.toDataURL();\n",
       "    // Re-enable the keyboard manager in IPython - without this line, in FF,\n",
       "    // the notebook keyboard shortcuts fail.\n",
       "    IPython.keyboard_manager.enable()\n",
       "    $(fig.parent_element).html('<img src=\"' + dataURL + '\" width=\"' + width + '\">');\n",
       "    fig.close_ws(fig, msg);\n",
       "}\n",
       "\n",
       "mpl.figure.prototype.close_ws = function(fig, msg){\n",
       "    fig.send_message('closing', msg);\n",
       "    // fig.ws.close()\n",
       "}\n",
       "\n",
       "mpl.figure.prototype.push_to_output = function(remove_interactive) {\n",
       "    // Turn the data on the canvas into data in the output cell.\n",
       "    var width = this.canvas.width/mpl.ratio\n",
       "    var dataURL = this.canvas.toDataURL();\n",
       "    this.cell_info[1]['text/html'] = '<img src=\"' + dataURL + '\" width=\"' + width + '\">';\n",
       "}\n",
       "\n",
       "mpl.figure.prototype.updated_canvas_event = function() {\n",
       "    // Tell IPython that the notebook contents must change.\n",
       "    IPython.notebook.set_dirty(true);\n",
       "    this.send_message(\"ack\", {});\n",
       "    var fig = this;\n",
       "    // Wait a second, then push the new image to the DOM so\n",
       "    // that it is saved nicely (might be nice to debounce this).\n",
       "    setTimeout(function () { fig.push_to_output() }, 1000);\n",
       "}\n",
       "\n",
       "mpl.figure.prototype._init_toolbar = function() {\n",
       "    var fig = this;\n",
       "\n",
       "    var nav_element = $('<div/>')\n",
       "    nav_element.attr('style', 'width: 100%');\n",
       "    this.root.append(nav_element);\n",
       "\n",
       "    // Define a callback function for later on.\n",
       "    function toolbar_event(event) {\n",
       "        return fig.toolbar_button_onclick(event['data']);\n",
       "    }\n",
       "    function toolbar_mouse_event(event) {\n",
       "        return fig.toolbar_button_onmouseover(event['data']);\n",
       "    }\n",
       "\n",
       "    for(var toolbar_ind in mpl.toolbar_items){\n",
       "        var name = mpl.toolbar_items[toolbar_ind][0];\n",
       "        var tooltip = mpl.toolbar_items[toolbar_ind][1];\n",
       "        var image = mpl.toolbar_items[toolbar_ind][2];\n",
       "        var method_name = mpl.toolbar_items[toolbar_ind][3];\n",
       "\n",
       "        if (!name) { continue; };\n",
       "\n",
       "        var button = $('<button class=\"btn btn-default\" href=\"#\" title=\"' + name + '\"><i class=\"fa ' + image + ' fa-lg\"></i></button>');\n",
       "        button.click(method_name, toolbar_event);\n",
       "        button.mouseover(tooltip, toolbar_mouse_event);\n",
       "        nav_element.append(button);\n",
       "    }\n",
       "\n",
       "    // Add the status bar.\n",
       "    var status_bar = $('<span class=\"mpl-message\" style=\"text-align:right; float: right;\"/>');\n",
       "    nav_element.append(status_bar);\n",
       "    this.message = status_bar[0];\n",
       "\n",
       "    // Add the close button to the window.\n",
       "    var buttongrp = $('<div class=\"btn-group inline pull-right\"></div>');\n",
       "    var button = $('<button class=\"btn btn-mini btn-primary\" href=\"#\" title=\"Stop Interaction\"><i class=\"fa fa-power-off icon-remove icon-large\"></i></button>');\n",
       "    button.click(function (evt) { fig.handle_close(fig, {}); } );\n",
       "    button.mouseover('Stop Interaction', toolbar_mouse_event);\n",
       "    buttongrp.append(button);\n",
       "    var titlebar = this.root.find($('.ui-dialog-titlebar'));\n",
       "    titlebar.prepend(buttongrp);\n",
       "}\n",
       "\n",
       "mpl.figure.prototype._root_extra_style = function(el){\n",
       "    var fig = this\n",
       "    el.on(\"remove\", function(){\n",
       "\tfig.close_ws(fig, {});\n",
       "    });\n",
       "}\n",
       "\n",
       "mpl.figure.prototype._canvas_extra_style = function(el){\n",
       "    // this is important to make the div 'focusable\n",
       "    el.attr('tabindex', 0)\n",
       "    // reach out to IPython and tell the keyboard manager to turn it's self\n",
       "    // off when our div gets focus\n",
       "\n",
       "    // location in version 3\n",
       "    if (IPython.notebook.keyboard_manager) {\n",
       "        IPython.notebook.keyboard_manager.register_events(el);\n",
       "    }\n",
       "    else {\n",
       "        // location in version 2\n",
       "        IPython.keyboard_manager.register_events(el);\n",
       "    }\n",
       "\n",
       "}\n",
       "\n",
       "mpl.figure.prototype._key_event_extra = function(event, name) {\n",
       "    var manager = IPython.notebook.keyboard_manager;\n",
       "    if (!manager)\n",
       "        manager = IPython.keyboard_manager;\n",
       "\n",
       "    // Check for shift+enter\n",
       "    if (event.shiftKey && event.which == 13) {\n",
       "        this.canvas_div.blur();\n",
       "        event.shiftKey = false;\n",
       "        // Send a \"J\" for go to next cell\n",
       "        event.which = 74;\n",
       "        event.keyCode = 74;\n",
       "        manager.command_mode();\n",
       "        manager.handle_keydown(event);\n",
       "    }\n",
       "}\n",
       "\n",
       "mpl.figure.prototype.handle_save = function(fig, msg) {\n",
       "    fig.ondownload(fig, null);\n",
       "}\n",
       "\n",
       "\n",
       "mpl.find_output_cell = function(html_output) {\n",
       "    // Return the cell and output element which can be found *uniquely* in the notebook.\n",
       "    // Note - this is a bit hacky, but it is done because the \"notebook_saving.Notebook\"\n",
       "    // IPython event is triggered only after the cells have been serialised, which for\n",
       "    // our purposes (turning an active figure into a static one), is too late.\n",
       "    var cells = IPython.notebook.get_cells();\n",
       "    var ncells = cells.length;\n",
       "    for (var i=0; i<ncells; i++) {\n",
       "        var cell = cells[i];\n",
       "        if (cell.cell_type === 'code'){\n",
       "            for (var j=0; j<cell.output_area.outputs.length; j++) {\n",
       "                var data = cell.output_area.outputs[j];\n",
       "                if (data.data) {\n",
       "                    // IPython >= 3 moved mimebundle to data attribute of output\n",
       "                    data = data.data;\n",
       "                }\n",
       "                if (data['text/html'] == html_output) {\n",
       "                    return [cell, data, j];\n",
       "                }\n",
       "            }\n",
       "        }\n",
       "    }\n",
       "}\n",
       "\n",
       "// Register the function which deals with the matplotlib target/channel.\n",
       "// The kernel may be null if the page has been refreshed.\n",
       "if (IPython.notebook.kernel != null) {\n",
       "    IPython.notebook.kernel.comm_manager.register_target('matplotlib', mpl.mpl_figure_comm);\n",
       "}\n"
      ],
      "text/plain": [
       "<IPython.core.display.Javascript object>"
      ]
     },
     "metadata": {},
     "output_type": "display_data"
    },
    {
     "data": {
      "text/html": [
       "<img src=\"data:image/png;base64,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\" width=\"900\">"
      ],
      "text/plain": [
       "<IPython.core.display.HTML object>"
      ]
     },
     "metadata": {},
     "output_type": "display_data"
    },
    {
     "data": {
      "application/vnd.jupyter.widget-view+json": {
       "model_id": "aab99e5a57534fd78f790d6d13b7bac6",
       "version_major": 2,
       "version_minor": 0
      },
      "text/plain": [
       "Button(description='Update', style=ButtonStyle())"
      ]
     },
     "metadata": {},
     "output_type": "display_data"
    },
    {
     "data": {
      "application/vnd.jupyter.widget-view+json": {
       "model_id": "38ad1e5bf97f43858bf88bcd0d517539",
       "version_major": 2,
       "version_minor": 0
      },
      "text/plain": [
       "IntText(value=30, description='Epoch history')"
      ]
     },
     "metadata": {},
     "output_type": "display_data"
    }
   ],
   "source": [
    "matplotlib.rcParams.update({'font.size': 22})\n",
    "fig3 = plt.figure(figsize = (9,6))\n",
    "ax3 = fig3.subplots()\n",
    "#matplotlib.pyplot.ion()\n",
    "\n",
    "\n",
    "button = widgets.Button(description=\"Update\")\n",
    "show_epochs = widgets.IntText(description='Epoch history',disabled=False)\n",
    "show_epochs.value = 30\n",
    "\n",
    "def on_button_clicked(b):\n",
    "    with open('../loss.log') as f:\n",
    "        content = f.readlines()\n",
    "    content = [float(x.strip()) for x in content]\n",
    "    xmin = 0\n",
    "    xmax = len(content)\n",
    "    if xmax > show_epochs.value:\n",
    "        xmin = xmax-show_epochs.value\n",
    "        content = content[xmin:xmax]\n",
    "    ymin = np.min(content)\n",
    "    ymax = np.max(content)\n",
    "    x_axis = np.linspace(xmin, xmax-1, num=xmax-xmin)\n",
    "\n",
    "    #matplotlib.pyplot.gcf().clear()\n",
    "    ax3.clear()\n",
    "    ax3.set_xlim(xmin, xmax)\n",
    "    yaxismin = ymin - (ymax-ymin)/3\n",
    "    if yaxismin < 0:\n",
    "        yaxismin = 0\n",
    "    ax3.set_ylim(ymin - (ymax-ymin)/3, ymax)\n",
    "    ax3.plot(x_axis, content, linewidth=5.0)\n",
    "    ax3.xaxis.set_major_locator(matplotlib.ticker.MaxNLocator(integer=True))\n",
    "    ax3.grid(linestyle='-', linewidth='0.5', color='red')\n",
    "    fig3.canvas.draw()\n",
    "\n",
    "    \n",
    "on_button_clicked(None)\n",
    "fig3.show()\n",
    "\n",
    "display(button)\n",
    "display(show_epochs)\n",
    "\n",
    "button.on_click(on_button_clicked)\n",
    "show_epochs.observe(on_button_clicked)"
   ]
  },
  {
   "cell_type": "code",
   "execution_count": 5,
   "metadata": {},
   "outputs": [],
   "source": [
    "class args():\n",
    "    batch_size = 1\n",
    "    loss = 'MSE'\n",
    "    use_recon = 0.001\n",
    "    num_workers = 1\n",
    "    disable_recon = False\n",
    "    dataset = 'rabbit100x100'\n",
    "    normalize = 0\n",
    "    stereo = False\n",
    "\n",
    "    "
   ]
  },
  {
   "cell_type": "markdown",
   "metadata": {},
   "source": [
    "## Ground Truth"
   ]
  },
  {
   "cell_type": "code",
   "execution_count": 6,
   "metadata": {
    "scrolled": false
   },
   "outputs": [],
   "source": [
    "def updateOutputWidget(widget, array, color=\"L\"):\n",
    "    f = BytesIO()\n",
    "    PIL.Image.fromarray(np.uint8(array*255), mode=color).convert(color).save(f, 'png')\n",
    "    widget.clear_output()\n",
    "    with widget:\n",
    "        display(Image(data=f.getvalue(), width='100%'))\n"
   ]
  },
  {
   "cell_type": "markdown",
   "metadata": {},
   "source": [
    "## Activations of convolutional layers and primary capsules layer"
   ]
  },
  {
   "cell_type": "code",
   "execution_count": 7,
   "metadata": {
    "scrolled": false
   },
   "outputs": [
    {
     "data": {
      "application/vnd.jupyter.widget-view+json": {
       "model_id": "de14a585d01b4a958a3c803e9720e041",
       "version_major": 2,
       "version_minor": 0
      },
      "text/plain": [
       "VBox(children=(Output(layout=Layout(width='100%')), Output(layout=Layout(width='100%')), HBox(children=(Output…"
      ]
     },
     "metadata": {},
     "output_type": "display_data"
    }
   ],
   "source": [
    "layer1_widget = widgets.Output(layout=Layout(width='100%'))\n",
    "layer2_widget = widgets.Output(layout=Layout(width='100%'))\n",
    "layer3_widget = widgets.Output(layout=Layout(width='100%'))\n",
    "layer4_widget = widgets.Output(layout=Layout(width='100%'))\n",
    "layer5_widget = widgets.Output(layout=Layout(width='100%'))\n",
    "layer6_widget = widgets.Output(layout=Layout(width='100%'))\n",
    "#layer12_widget = HBox([layer1_widget, layer2_widget], layout=Layout(width='100%'))\n",
    "l345_widget = HBox([layer3_widget, layer4_widget, layer5_widget, layer6_widget])\n",
    "layer_widget = VBox([layer1_widget, layer2_widget, l345_widget], layout=Layout(width='100%'))\n",
    "display(layer_widget)\n",
    "\n",
    "\n",
    "\n",
    "def makeCombinedImage(img, scale=1):\n",
    "    if scale != 1:\n",
    "        img = torch.nn.functional.interpolate(img, scale_factor=scale, mode='nearest')\n",
    "    img = img.squeeze().unsqueeze(1)\n",
    "    return utils.make_grid(img.data, nrow=int(img.shape[0] ** 0.5), normalize=True,range=(0, 1)).cpu().numpy()\n",
    "    \n",
    "def forward(self, x, lambda_, labels=None, draw=True):\n",
    "    if x is not None:\n",
    "        x = F.relu(self.bn1(self.conv1(x)))\n",
    "\n",
    "        if draw is True:\n",
    "            grid_picture = makeCombinedImage(x, scale=4)\n",
    "            updateOutputWidget(layer1_widget, grid_picture.transpose(1,2,0), \"RGB\")\n",
    "\n",
    "        x = F.max_pool2d(x, 2, 2)\n",
    "        x = F.relu(self.bn2(self.conv2(x)))\n",
    "        \n",
    "        if draw is True:\n",
    "            grid_picture = makeCombinedImage(x, scale=8)\n",
    "            updateOutputWidget(layer2_widget, grid_picture.transpose(1,2,0), \"RGB\")\n",
    "        \n",
    "        \n",
    "        # Combine left and right\n",
    "        left = x[:,:,:,:int(x.shape[-1]/2)]\n",
    "        right = x[:,:,:,int(x.shape[-1]/2):]\n",
    "        x = torch.stack([left,right], dim=1).view(x.shape[0],-1,x.shape[2],x.shape[2])\n",
    "        \n",
    "        \n",
    "        #x = F.relu(self.bn3(self.conv3(x)))\n",
    "        #if draw is True:\n",
    "        #    grid_picture = makeCombinedImage(x)\n",
    "        #    updateOutputWidget(layer3_widget, grid_picture.transpose(1,2,0), \"RGB\")\n",
    "        \n",
    "        p, a = self.primary_caps(x)  # b,32*(4*4+1),12,12\n",
    "\n",
    "        if draw is True:\n",
    "            grid_picture = makeCombinedImage(a, scale=16)\n",
    "            updateOutputWidget(layer3_widget, grid_picture.transpose(1,2,0), \"RGB\")\n",
    "            \n",
    "        p, a = self.convcaps1(lambda_, p, a)  # b,32*(4*4+1),5,5\n",
    "\n",
    "        if draw is True:\n",
    "            grid_picture = makeCombinedImage(a, scale=16)\n",
    "            updateOutputWidget(layer4_widget, grid_picture.transpose(1,2,0), \"RGB\")\n",
    "\n",
    "        p, a = self.convcaps2(lambda_, p, a)  # b,32*(4*4+1),3,3\n",
    "\n",
    "        if draw is True:\n",
    "            grid_picture = makeCombinedImage(a, scale=16)\n",
    "            updateOutputWidget(layer5_widget, grid_picture.transpose(1,2,0), \"RGB\")\n",
    "\n",
    "        p, a = self.convcaps3(lambda_, p, a)  # b,32*(4*4+1),3,3\n",
    "\n",
    "        if draw is True:\n",
    "            grid_picture = makeCombinedImage(a, scale=16)\n",
    "            updateOutputWidget(layer6_widget, grid_picture.transpose(1,2,0), \"RGB\")\n",
    "            \n",
    "        p, a = self.classcaps(lambda_, p, a)  # b,10*16+10\n",
    "\n",
    "        \n",
    "        \"\"\" Find pose with largest activation \"\"\"\n",
    "        \"\"\"\n",
    "        dist = torch.arange(float(3)) / 3\n",
    "        a_tmp = a.view(a.shape[0],-1)\n",
    "        p_tmp = p.view(p.shape[0],-1,p.shape[-1])\n",
    "        _, i = torch.max(a_tmp, 1)\n",
    "        new_a = []\n",
    "        new_p = []\n",
    "        coords = []\n",
    "        for counter, j in enumerate(i):\n",
    "            new_a.append(a_tmp[counter, j])\n",
    "            new_p.append(p_tmp[counter, j, :])\n",
    "\n",
    "            w_x=j%3\n",
    "            w_y=j/3\n",
    "            xyz = p_tmp[counter, j, :][(3,7,11),]\n",
    "            xyz[0] += dist[w_x]\n",
    "            xyz[1] += dist[w_y]\n",
    "            xyz = torch.cat([xyz, torch.FloatTensor([w_x, w_y])], dim=0)\n",
    "            coords.append(xyz)\n",
    "            #p[:, (3,7,11)] = xyz * 1.0\n",
    "\n",
    "        a = torch.stack(new_a, dim=0)\n",
    "        p = torch.stack(new_p, dim=0)\n",
    "\n",
    "        coords = torch.stack(coords, dim=0)\n",
    "        coords = self.coord_add_encoder(coords)\n",
    "        \"\"\"\n",
    "        \n",
    "        p = p.squeeze()\n",
    "        \n",
    "        # Temporary when batch size = 1\n",
    "        if len(p.shape) == 1:\n",
    "            p = p.unsqueeze(0)\n",
    "       \n",
    "        xyz = p[:, (3,7,11)]\n",
    "        xyz = self.coord_add_encoder(xyz)\n",
    "        p[:, (3,7,11)] = xyz * 1.0\n",
    "    else:\n",
    "        p = labels\n",
    "\n",
    "    if not self.args.disable_recon:\n",
    "        reconstructions = self.decoder(p)\n",
    "    else:\n",
    "        reconstructions = 0\n",
    "\n",
    "    return p, reconstructions"
   ]
  },
  {
   "cell_type": "markdown",
   "metadata": {},
   "source": [
    "## 4x4 pose output"
   ]
  },
  {
   "cell_type": "code",
   "execution_count": 8,
   "metadata": {
    "scrolled": false
   },
   "outputs": [
    {
     "data": {
      "application/vnd.jupyter.widget-view+json": {
       "model_id": "2f3284e9decb44bebcdd0d14aa8d0544",
       "version_major": 2,
       "version_minor": 0
      },
      "text/plain": [
       "HBox(children=(VBox(children=(HBox(children=(Output(layout=Layout(width='100%')), Output(layout=Layout(width='…"
      ]
     },
     "metadata": {},
     "output_type": "display_data"
    },
    {
     "data": {
      "application/vnd.jupyter.widget-view+json": {
       "model_id": "e94d749ae9ea4d3f934b4cc1369ebebf",
       "version_major": 2,
       "version_minor": 0
      },
      "text/plain": [
       "HBox(children=(Label(value='Output', layout=Layout(width='100%')), Label(value='Label', layout=Layout(width='1…"
      ]
     },
     "metadata": {},
     "output_type": "display_data"
    },
    {
     "data": {
      "application/vnd.jupyter.widget-view+json": {
       "model_id": "097941d4d570458995a1100596bc96fa",
       "version_major": 2,
       "version_minor": 0
      },
      "text/plain": [
       "HBox(children=(Textarea(value='', layout=Layout(height='90px', width='100%')), Textarea(value='', layout=Layou…"
      ]
     },
     "metadata": {},
     "output_type": "display_data"
    },
    {
     "data": {
      "text/markdown": [
       "## Latest model is: ./weights/model_35_rabbit.pth"
      ],
      "text/plain": [
       "<IPython.core.display.Markdown object>"
      ]
     },
     "metadata": {},
     "output_type": "display_data"
    },
    {
     "name": "stdout",
     "output_type": "stream",
     "text": [
      "(100, 100, 3)\n",
      "(100, 100, 3)\n",
      "(100, 100, 3)\n",
      "(100, 100, 3)\n",
      "(100, 100, 3)\n",
      "(100, 100, 3)\n",
      "(100, 100, 3)\n",
      "(100, 100, 3)\n",
      "(100, 100, 3)\n",
      "(100, 100, 3)\n",
      "(100, 100, 3)\n",
      "(100, 100, 3)\n",
      "(100, 100, 3)\n",
      "(100, 100, 3)\n",
      "(100, 100, 3)\n",
      "(100, 100, 3)\n",
      "(100, 100, 3)\n"
     ]
    }
   ],
   "source": [
    "truth_widget_left = widgets.Output(layout=Layout(width='100%'))\n",
    "truth_widget_right = widgets.Output(layout=Layout(width='100%'))\n",
    "recon_widget_left = widgets.Output(layout=Layout(width='100%'))\n",
    "recon_widget_right = widgets.Output(layout=Layout(width='100%'))\n",
    "truth_widget = HBox([truth_widget_left, truth_widget_right], layout=Layout(width='100%'))\n",
    "recon_widget = HBox([recon_widget_left, recon_widget_right], layout=Layout(width='100%'))\n",
    "step_widget = VBox([truth_widget, recon_widget], layout=Layout(width='100%'))\n",
    "names = ['p0', 'p1', 'p2', 'p3', 'p4', 'p5', 'p6', 'p7', 'p8', 'p9', 'activ']\n",
    "pose_sliders = [FloatSlider(min=-100, max=100, layout={'height': '50%'}, step=0.00001, description=i, orientation='horizontal') for i in names]\n",
    "button_next = widgets.Button(description=\"Next\", layout={'height': '50%'})\n",
    "pose_sliders.append(button_next)\n",
    "sliders_widget = VBox(pose_sliders, layout=Layout(width='60%'))\n",
    "step_slider_widget = HBox([step_widget, sliders_widget],layout=Layout(width='100%'))\n",
    "pose_output = widgets.Textarea(layout={'width': '100%','height': '90px'},disabled=False)\n",
    "pose_label = widgets.Textarea(layout={'width': '100%','height': '90px'},disabled=False)\n",
    "pose_error = widgets.Textarea(layout={'width': '100%','height': '90px'},disabled=False)\n",
    "\n",
    "\n",
    "label_widget = HBox([widgets.Label(layout={'width': '100%'},value=\"Output\"), widgets.Label(layout={'width': '100%'},value=\"Label\"), widgets.Label(layout={'width': '100%'},value=\"Error\")])\n",
    "pose_widget = HBox([pose_output, pose_label, pose_error])\n",
    "\n",
    "the_time = time.time()\n",
    "do_update = True\n",
    "\n",
    "display(step_slider_widget)\n",
    "display(label_widget)\n",
    "display(pose_widget)\n",
    "\n",
    "# Initialize view and projection for coord system rendering\n",
    "w_width, w_height = 800, 800\n",
    "focus_distance = 1.9\n",
    "view = pyrr.matrix44.create_from_translation(pyrr.Vector3([0.0, 0.0, -focus_distance])).transpose()\n",
    "projection = pyrr.matrix44.create_perspective_projection_matrix(65.0, w_width / w_height, 0.1, 100.0).transpose()\n",
    "\n",
    "def plotPoint(pnt, color_idx, img):\n",
    "    model_view = pyrr.matrix44.multiply(view, pnt)\n",
    "    model_projection = pyrr.matrix44.multiply(projection, model_view)\n",
    "    scaling = model_projection[3]\n",
    "    pix_x = img.shape[1]/2 + (model_projection[0]/scaling) * img.shape[1]/2\n",
    "    if pix_x >= img.shape[1]: pix_x = img.shape[1]-1\n",
    "    if pix_x < 0: pix_x = 0\n",
    "    pix_y = img.shape[0]/2 - (model_projection[1]/scaling) * img.shape[0]/2\n",
    "    if pix_y >= img.shape[0]: pix_y = img.shape[0]-1\n",
    "    if pix_y < 0: pix_y = 0\n",
    "    img[int(pix_y),int(pix_x),color_idx] = 1.0\n",
    "    \n",
    "eye_distance = 0.5\n",
    "focus_distance = 1.9\n",
    "eye_angle = eye_distance/focus_distance\n",
    "right_eye_transform = pyrr.Matrix44.from_y_rotation(-eye_angle/2)\n",
    "left_eye_transform = pyrr.Matrix44.from_y_rotation(eye_angle/2)\n",
    "    \n",
    "def plotCoordSystemAxis(pose44, axis_idx, img):\n",
    "    pnt = pyrr.vector4.create(0.0, 0.0, 0.0, 1.0)\n",
    "    for i in range(50):\n",
    "        pnt[axis_idx] = i*0.01\n",
    "        point = pyrr.matrix44.multiply(pyrr.Matrix44(pose44), pnt) #.transpose()\n",
    "        plotPoint(point, axis_idx, img)\n",
    "\n",
    "pose = 0\n",
    "\n",
    "def on_value_change(change):\n",
    "    global the_time\n",
    "    global do_update\n",
    "    global pose\n",
    "    global ground_truth_labels\n",
    "    global imgs_ref\n",
    "    global right_eye_transform\n",
    "    global left_eye_transform\n",
    "\n",
    "    if not do_update and change is not None:\n",
    "        return\n",
    "\n",
    "    if (time.time()-the_time) < 0.2:\n",
    "        return\n",
    "    the_time = time.time()\n",
    "    \n",
    "    for i in range(len(pose_sliders)-1):\n",
    "        pose[:,i] = pose_sliders[i].value\n",
    "    mat44 = util.matAffine_from_matMinRep(pose.data[:,:-1])\n",
    "\n",
    "    reconstruction = model.image_decoder((pose.view(pose.shape[0], 1, 1, 1, -1),None))\n",
    "    #imgs_sliced = imgs[:,[0,3],...]\n",
    "    reconstruction = reconstruction.view_as(imgs_ref) #.shape[0], 1, imgs_ref.shape[2], imgs_ref.shape[3])\n",
    "\n",
    "    recon_left = reconstruction.data.squeeze().permute(1,2,0).cpu().numpy() \n",
    "    #recon_left = reconstruction.data[:,0,:,:].squeeze().cpu().numpy()\n",
    "    #recon_left = np.concatenate((recon_left[:,:,None],recon_left[:,:,None],recon_left[:,:,None]), axis=2)\n",
    "    print (recon_left.shape)\n",
    "    if args.stereo:\n",
    "        pose_left = pyrr.Matrix44(mat44)*left_eye_transform\n",
    "    else:\n",
    "        pose_left = pyrr.Matrix44(mat44)\n",
    "    plotCoordSystemAxis(pose_left, 0, recon_left)\n",
    "    plotCoordSystemAxis(pose_left, 1, recon_left)\n",
    "    plotCoordSystemAxis(pose_left, 2, recon_left)\n",
    "    updateOutputWidget(recon_widget_left, recon_left, \"RGB\")\n",
    "\n",
    "    if args.stereo:\n",
    "        recon_right = reconstruction.data[:,1,:,:].squeeze().cpu().numpy()\n",
    "        recon_right = np.concatenate((recon_right[:,:,None],recon_right[:,:,None],recon_right[:,:,None]), axis=2)\n",
    "        pose_right = pyrr.Matrix44(mat44)*right_eye_transform\n",
    "        plotCoordSystemAxis(pose_right, 0, recon_right)\n",
    "        plotCoordSystemAxis(pose_right, 1, recon_right)\n",
    "        plotCoordSystemAxis(pose_right, 2, recon_right)\n",
    "        updateOutputWidget(recon_widget_right, recon_right, \"RGB\")\n",
    "\n",
    "        \n",
    "def showDataImage(next_data):\n",
    "    global ground_truth_labels\n",
    "    global imgs_ref\n",
    "    global do_update\n",
    "    #global ground_truth_widget\n",
    "    global pose\n",
    "    do_update = False\n",
    "    \n",
    "    \"\"\"\n",
    "    Prepare input\n",
    "    \"\"\"\n",
    "    imgs_ref = next_data[0]\n",
    "\n",
    "    ground_truth_labels = next_data[1]\n",
    "    imgs_ref = Variable(imgs_ref).cpu()\n",
    "    pose, reco = model(imgs_ref, disable_recon=args.disable_recon)\n",
    "    pose = pose[0]\n",
    "    pose = pose.view(pose.shape[0], -1)\n",
    "    \n",
    "    # Print matrices in textareas\n",
    "    m_l = util.matAffine_from_matMinRep(ground_truth_labels)\n",
    "    mat44 = util.matAffine_from_matMinRep(pose.data[:,:-1].cpu())\n",
    "    pose_label.value = util.matrixString_from_matAffine(m_l)\n",
    "    pose_output.value = util.matrixString_from_matAffine(mat44)\n",
    "    pose_error.value = util.matrixString_from_matAffine(mat44 - m_l)\n",
    "\n",
    "    # Plot coordinate systems on \"truth\" images\n",
    "    #mat44 = util.matAffine_from_matMinRep(pose.data)\n",
    "    if args.stereo:\n",
    "        truth_left = imgs_ref[0,0,:,:].squeeze().numpy()\n",
    "        truth_left = np.concatenate((truth_left[:,:,None],truth_left[:,:,None],truth_left[:,:,None]), axis=2)\n",
    "        truth_right = imgs_ref[0,1,:,:].squeeze().numpy()\n",
    "        truth_right = np.concatenate((truth_right[:,:,None],truth_right[:,:,None],truth_right[:,:,None]), axis=2)\n",
    "        truth_right = imgs_ref.squeeze().permute(1,2,0) #np.concatenate((next_data[1][0,0,:,102:197,None],next_data[1][0,1,:,102:197,None],next_data[1][0,2,:,102:197,None]), axis=2)\n",
    "        pose_right = pyrr.Matrix44(mat44)*right_eye_transform\n",
    "        plotCoordSystemAxis(pose_right, 0, truth_right)\n",
    "        plotCoordSystemAxis(pose_right, 1, truth_right)\n",
    "        plotCoordSystemAxis(pose_right, 2, truth_right)\n",
    "        updateOutputWidget(truth_widget_right, truth_right, \"RGB\")\n",
    "    else:\n",
    "        truth_left = imgs_ref.squeeze().permute(1,2,0) #np.concatenate((next_data[1][0,0,:,2:97,None],next_data[1][0,1,:,2:97,None],next_data[1][0,2,:,2:97,None]), axis=2)\n",
    "\n",
    "    if args.stereo:\n",
    "        pose_left = pyrr.Matrix44(mat44)*left_eye_transform\n",
    "    else:\n",
    "        pose_left = pyrr.Matrix44(mat44)\n",
    "    plotCoordSystemAxis(pose_left, 0, truth_left)\n",
    "    plotCoordSystemAxis(pose_left, 1, truth_left)\n",
    "    plotCoordSystemAxis(pose_left, 2, truth_left)\n",
    "    updateOutputWidget(truth_widget_left, truth_left, \"RGB\")\n",
    "\n",
    "    for i in range(len(pose_sliders)-1):\n",
    "        if pose[:,i] > pose_sliders[i].max:\n",
    "            pose_sliders[i].max = pose[:,i]\n",
    "        if pose[:,i] < pose_sliders[i].min:\n",
    "            pose_sliders[i].min = pose[:,i]\n",
    "            \n",
    "    for i in range(len(pose_sliders)-1):\n",
    "        pose_sliders[i].value = pose[:,i]\n",
    "    on_value_change(None)\n",
    "    do_update = True\n",
    "\n",
    "\n",
    "test_dataset = util.MyImageFolder(root='../../../data/{}/test/'.format(args.dataset), transform=transforms.ToTensor(), target_transform=transforms.ToTensor(), data_rep=args.loss)\n",
    "\n",
    "test_loader = torch.utils.data.DataLoader(dataset=test_dataset, batch_size=args.batch_size, num_workers=1, shuffle=True, drop_last=False)\n",
    "\n",
    "test_iterator = test_loader.__iter__()\n",
    "imgs, labels = test_iterator.next()\n",
    "test_iterator = test_loader.__iter__()\n",
    "\n",
    "\"\"\"\n",
    "Setup model, load it to CUDA and make JIT compilation\n",
    "\"\"\"\n",
    "imgs = imgs[:2]\n",
    "model = CapsNet(dataset=args.dataset) #labels.shape[1], img_shape=imgs[0].shape, dataset=args.dataset, data_rep=args.loss, normalize=args.normalize)\n",
    "model(imgs, args.disable_recon)\n",
    "\n",
    "\"\"\"\n",
    "Loading weights of previously saved states and optimizer state\n",
    "\"\"\"\n",
    "path=\"./weights/\"\n",
    "model_name = max(glob.iglob(\"{}model*.pth\".format(path)),key=os.path.getctime)\n",
    "display(Markdown('## Latest model is: '+model_name))\n",
    "model.load_state_dict( torch.load(model_name) )\n",
    "model.cpu()\n",
    "model.eval()\n",
    "#self = model\n",
    "\n",
    "\n",
    "\n",
    "def on_next_button_clicked(b):\n",
    "    next_data = test_iterator.next()\n",
    "    showDataImage(next_data)\n",
    "\n",
    "button_next.on_click(on_next_button_clicked)\n",
    "\n",
    "next_data = test_iterator.next()\n",
    "showDataImage(next_data)\n",
    "\n",
    "for i in range(len(pose_sliders)):\n",
    "    pose_sliders[i].observe(on_value_change)"
   ]
  },
  {
   "cell_type": "code",
   "execution_count": null,
   "metadata": {},
   "outputs": [],
   "source": []
  }
 ],
 "metadata": {
  "kernelspec": {
   "display_name": "Python 3",
   "language": "python",
   "name": "python3"
  },
  "language_info": {
   "codemirror_mode": {
    "name": "ipython",
    "version": 3
   },
   "file_extension": ".py",
   "mimetype": "text/x-python",
   "name": "python",
   "nbconvert_exporter": "python",
   "pygments_lexer": "ipython3",
   "version": "3.6.7"
  },
  "widgets": {
   "application/vnd.jupyter.widget-state+json": {
    "state": {
     "02a95245f28f48e69eda3fb3bd438d67": {
      "model_module_version": "^2.1.4",
      "state": {
       "value": "<table style=\"width:100%\">\n                <thead>\n                    <tr>\n                        <th colspan=\"2\">\n                        Could not create model:\n                        </th>\n                    </tr>\n                </thead>\n                <tbody>\n                    <tr>\n                        <td>Model name</td>\n                        <td> undefined </td>\n                    </tr>\n                    <tr>\n                        <td>Model module</td>\n                        <td> undefined </td>\n                    </tr>\n                    <tr>\n                        <td>Model module version</td>\n                        <td> undefined </td>\n                    </tr>\n                <tbody>\n                <tfoot>\n                    <tr>\n                        <th colspan=\"2\">\n                        Class undefined not found in registry \n                        </th>\n                    </tr>\n                </tfoot>\n                </table>"
      }
     },
     "086adac005c04b4190a432ca55b65c08": {
      "model_module_version": "^2.1.4",
      "state": {
       "children": [
        "IPY_MODEL_5ddce768a0cd44fcb6a02f55d97511c0",
        "IPY_MODEL_7b2a75f21e23408ba72e5f04d40c4ae0"
       ],
       "value": "<table style=\"width:100%\">\n                <thead>\n                    <tr>\n                        <th colspan=\"2\">\n                        Could not create model:\n                        </th>\n                    </tr>\n                </thead>\n                <tbody>\n                    <tr>\n                        <td>Model name</td>\n                        <td> undefined </td>\n                    </tr>\n                    <tr>\n                        <td>Model module</td>\n                        <td> undefined </td>\n                    </tr>\n                    <tr>\n                        <td>Model module version</td>\n                        <td> undefined </td>\n                    </tr>\n                <tbody>\n                <tfoot>\n                    <tr>\n                        <th colspan=\"2\">\n                        Class undefined not found in registry \n                        </th>\n                    </tr>\n                </tfoot>\n                </table>"
      }
     },
     "09a94446cf9d4aaea5de8fee2478bfe3": {
      "model_module_version": "^2.1.4",
      "state": {
       "value": "<table style=\"width:100%\">\n                <thead>\n                    <tr>\n                        <th colspan=\"2\">\n                        Could not create model:\n                        </th>\n                    </tr>\n                </thead>\n                <tbody>\n                    <tr>\n                        <td>Model name</td>\n                        <td> undefined </td>\n                    </tr>\n                    <tr>\n                        <td>Model module</td>\n                        <td> undefined </td>\n                    </tr>\n                    <tr>\n                        <td>Model module version</td>\n                        <td> undefined </td>\n                    </tr>\n                <tbody>\n                <tfoot>\n                    <tr>\n                        <th colspan=\"2\">\n                        Class undefined not found in registry \n                        </th>\n                    </tr>\n                </tfoot>\n                </table>"
      }
     },
     "0a266fd5169140bab25a3a38a8f50fb1": {
      "model_module_version": "^2.1.4",
      "state": {
       "children": [
        "IPY_MODEL_bc40a99774e645d6a95f8c5424ed326e",
        "IPY_MODEL_43698cd83e434735970d098c0c18c682"
       ],
       "value": "<table style=\"width:100%\">\n                <thead>\n                    <tr>\n                        <th colspan=\"2\">\n                        Could not create model:\n                        </th>\n                    </tr>\n                </thead>\n                <tbody>\n                    <tr>\n                        <td>Model name</td>\n                        <td> undefined </td>\n                    </tr>\n                    <tr>\n                        <td>Model module</td>\n                        <td> undefined </td>\n                    </tr>\n                    <tr>\n                        <td>Model module version</td>\n                        <td> undefined </td>\n                    </tr>\n                <tbody>\n                <tfoot>\n                    <tr>\n                        <th colspan=\"2\">\n                        Class undefined not found in registry \n                        </th>\n                    </tr>\n                </tfoot>\n                </table>"
      }
     },
     "0bb041ed3f25401da46f4d3b1b84bedd": {
      "model_module_version": "^2.1.4",
      "state": {
       "msg_id": "",
       "value": "<table style=\"width:100%\">\n                <thead>\n                    <tr>\n                        <th colspan=\"2\">\n                        Could not create model:\n                        </th>\n                    </tr>\n                </thead>\n                <tbody>\n                    <tr>\n                        <td>Model name</td>\n                        <td> undefined </td>\n                    </tr>\n                    <tr>\n                        <td>Model module</td>\n                        <td> undefined </td>\n                    </tr>\n                    <tr>\n                        <td>Model module version</td>\n                        <td> undefined </td>\n                    </tr>\n                <tbody>\n                <tfoot>\n                    <tr>\n                        <th colspan=\"2\">\n                        Class undefined not found in registry \n                        </th>\n                    </tr>\n                </tfoot>\n                </table>"
      }
     },
     "0c491954f101426f8a6d2c2c8f117c65": {
      "model_module_version": "^2.1.4",
      "state": {
       "children": [
        "IPY_MODEL_e8c41950a9d349d2a093b110f66cbb72",
        "IPY_MODEL_b74b2bb279ff49c9a7b8384e115dda91"
       ],
       "value": "<table style=\"width:100%\">\n                <thead>\n                    <tr>\n                        <th colspan=\"2\">\n                        Could not create model:\n                        </th>\n                    </tr>\n                </thead>\n                <tbody>\n                    <tr>\n                        <td>Model name</td>\n                        <td> undefined </td>\n                    </tr>\n                    <tr>\n                        <td>Model module</td>\n                        <td> undefined </td>\n                    </tr>\n                    <tr>\n                        <td>Model module version</td>\n                        <td> undefined </td>\n                    </tr>\n                <tbody>\n                <tfoot>\n                    <tr>\n                        <th colspan=\"2\">\n                        Class undefined not found in registry \n                        </th>\n                    </tr>\n                </tfoot>\n                </table>"
      }
     },
     "0d0f207a9beb4bbc8342dfdfde8abfd1": {
      "model_module_version": "^2.1.4",
      "state": {
       "msg_id": "",
       "value": "<table style=\"width:100%\">\n                <thead>\n                    <tr>\n                        <th colspan=\"2\">\n                        Could not create model:\n                        </th>\n                    </tr>\n                </thead>\n                <tbody>\n                    <tr>\n                        <td>Model name</td>\n                        <td> undefined </td>\n                    </tr>\n                    <tr>\n                        <td>Model module</td>\n                        <td> undefined </td>\n                    </tr>\n                    <tr>\n                        <td>Model module version</td>\n                        <td> undefined </td>\n                    </tr>\n                <tbody>\n                <tfoot>\n                    <tr>\n                        <th colspan=\"2\">\n                        Class undefined not found in registry \n                        </th>\n                    </tr>\n                </tfoot>\n                </table>"
      }
     },
     "17ce0b15ae7f4e07bb389acdb95723a9": {
      "model_module_version": "^2.1.4",
      "state": {
       "children": [
        "IPY_MODEL_98eb087ff1554f3983db53fa15fe205e",
        "IPY_MODEL_2cb31d41b01c41cab49231e6bbcef9a5"
       ],
       "value": "<table style=\"width:100%\">\n                <thead>\n                    <tr>\n                        <th colspan=\"2\">\n                        Could not create model:\n                        </th>\n                    </tr>\n                </thead>\n                <tbody>\n                    <tr>\n                        <td>Model name</td>\n                        <td> undefined </td>\n                    </tr>\n                    <tr>\n                        <td>Model module</td>\n                        <td> undefined </td>\n                    </tr>\n                    <tr>\n                        <td>Model module version</td>\n                        <td> undefined </td>\n                    </tr>\n                <tbody>\n                <tfoot>\n                    <tr>\n                        <th colspan=\"2\">\n                        Class undefined not found in registry \n                        </th>\n                    </tr>\n                </tfoot>\n                </table>"
      }
     },
     "18fbf107d608491b8631570d892bc11c": {
      "model_module_version": "^2.1.4",
      "state": {
       "value": "<table style=\"width:100%\">\n                <thead>\n                    <tr>\n                        <th colspan=\"2\">\n                        Could not create model:\n                        </th>\n                    </tr>\n                </thead>\n                <tbody>\n                    <tr>\n                        <td>Model name</td>\n                        <td> undefined </td>\n                    </tr>\n                    <tr>\n                        <td>Model module</td>\n                        <td> undefined </td>\n                    </tr>\n                    <tr>\n                        <td>Model module version</td>\n                        <td> undefined </td>\n                    </tr>\n                <tbody>\n                <tfoot>\n                    <tr>\n                        <th colspan=\"2\">\n                        Class undefined not found in registry \n                        </th>\n                    </tr>\n                </tfoot>\n                </table>"
      }
     },
     "1a1f8a848b0344be8b0ccf93d1d2026c": {
      "model_module_version": "^2.1.4",
      "state": {
       "value": "<table style=\"width:100%\">\n                <thead>\n                    <tr>\n                        <th colspan=\"2\">\n                        Could not create model:\n                        </th>\n                    </tr>\n                </thead>\n                <tbody>\n                    <tr>\n                        <td>Model name</td>\n                        <td> undefined </td>\n                    </tr>\n                    <tr>\n                        <td>Model module</td>\n                        <td> undefined </td>\n                    </tr>\n                    <tr>\n                        <td>Model module version</td>\n                        <td> undefined </td>\n                    </tr>\n                <tbody>\n                <tfoot>\n                    <tr>\n                        <th colspan=\"2\">\n                        Class undefined not found in registry \n                        </th>\n                    </tr>\n                </tfoot>\n                </table>"
      }
     },
     "1a3f3f985d584928bc8d0c7ab6f70f2e": {
      "model_module_version": "^2.1.4",
      "state": {
       "value": "<table style=\"width:100%\">\n                <thead>\n                    <tr>\n                        <th colspan=\"2\">\n                        Could not create model:\n                        </th>\n                    </tr>\n                </thead>\n                <tbody>\n                    <tr>\n                        <td>Model name</td>\n                        <td> undefined </td>\n                    </tr>\n                    <tr>\n                        <td>Model module</td>\n                        <td> undefined </td>\n                    </tr>\n                    <tr>\n                        <td>Model module version</td>\n                        <td> undefined </td>\n                    </tr>\n                <tbody>\n                <tfoot>\n                    <tr>\n                        <th colspan=\"2\">\n                        Class undefined not found in registry \n                        </th>\n                    </tr>\n                </tfoot>\n                </table>"
      }
     },
     "1cd36f848c6a4887b49476cedbf3d552": {
      "model_module_version": "^2.1.4",
      "state": {
       "value": "<table style=\"width:100%\">\n                <thead>\n                    <tr>\n                        <th colspan=\"2\">\n                        Could not create model:\n                        </th>\n                    </tr>\n                </thead>\n                <tbody>\n                    <tr>\n                        <td>Model name</td>\n                        <td> undefined </td>\n                    </tr>\n                    <tr>\n                        <td>Model module</td>\n                        <td> undefined </td>\n                    </tr>\n                    <tr>\n                        <td>Model module version</td>\n                        <td> undefined </td>\n                    </tr>\n                <tbody>\n                <tfoot>\n                    <tr>\n                        <th colspan=\"2\">\n                        Class undefined not found in registry \n                        </th>\n                    </tr>\n                </tfoot>\n                </table>"
      }
     },
     "1e92dc6d2e6a4746ae2cd05ab57165ec": {
      "model_module_version": "^2.1.4",
      "state": {
       "description": "x",
       "value": "<table style=\"width:100%\">\n                <thead>\n                    <tr>\n                        <th colspan=\"2\">\n                        Could not create model:\n                        </th>\n                    </tr>\n                </thead>\n                <tbody>\n                    <tr>\n                        <td>Model name</td>\n                        <td> undefined </td>\n                    </tr>\n                    <tr>\n                        <td>Model module</td>\n                        <td> undefined </td>\n                    </tr>\n                    <tr>\n                        <td>Model module version</td>\n                        <td> undefined </td>\n                    </tr>\n                <tbody>\n                <tfoot>\n                    <tr>\n                        <th colspan=\"2\">\n                        Class undefined not found in registry \n                        </th>\n                    </tr>\n                </tfoot>\n                </table>"
      }
     },
     "28fc64f255dc4af98ea2e4f433a7e659": {
      "model_module_version": "^2.1.4",
      "state": {
       "children": [
        "IPY_MODEL_d00724d28f834c4991169f92b8e447cb",
        "IPY_MODEL_b5c4b56ba9cd45e1bdca6530cc78c9e1"
       ],
       "value": "<table style=\"width:100%\">\n                <thead>\n                    <tr>\n                        <th colspan=\"2\">\n                        Could not create model:\n                        </th>\n                    </tr>\n                </thead>\n                <tbody>\n                    <tr>\n                        <td>Model name</td>\n                        <td> undefined </td>\n                    </tr>\n                    <tr>\n                        <td>Model module</td>\n                        <td> undefined </td>\n                    </tr>\n                    <tr>\n                        <td>Model module version</td>\n                        <td> undefined </td>\n                    </tr>\n                <tbody>\n                <tfoot>\n                    <tr>\n                        <th colspan=\"2\">\n                        Class undefined not found in registry \n                        </th>\n                    </tr>\n                </tfoot>\n                </table>"
      }
     },
     "2a48c6cde59541fe8760420e54905bb8": {
      "model_module_version": "^2.1.4",
      "state": {
       "value": "<table style=\"width:100%\">\n                <thead>\n                    <tr>\n                        <th colspan=\"2\">\n                        Could not create model:\n                        </th>\n                    </tr>\n                </thead>\n                <tbody>\n                    <tr>\n                        <td>Model name</td>\n                        <td> undefined </td>\n                    </tr>\n                    <tr>\n                        <td>Model module</td>\n                        <td> undefined </td>\n                    </tr>\n                    <tr>\n                        <td>Model module version</td>\n                        <td> undefined </td>\n                    </tr>\n                <tbody>\n                <tfoot>\n                    <tr>\n                        <th colspan=\"2\">\n                        Class undefined not found in registry \n                        </th>\n                    </tr>\n                </tfoot>\n                </table>"
      }
     },
     "2a9914efad9b4709b512186b35fca807": {
      "model_module_version": "^2.1.4",
      "state": {
       "value": "<table style=\"width:100%\">\n                <thead>\n                    <tr>\n                        <th colspan=\"2\">\n                        Could not create model:\n                        </th>\n                    </tr>\n                </thead>\n                <tbody>\n                    <tr>\n                        <td>Model name</td>\n                        <td> undefined </td>\n                    </tr>\n                    <tr>\n                        <td>Model module</td>\n                        <td> undefined </td>\n                    </tr>\n                    <tr>\n                        <td>Model module version</td>\n                        <td> undefined </td>\n                    </tr>\n                <tbody>\n                <tfoot>\n                    <tr>\n                        <th colspan=\"2\">\n                        Class undefined not found in registry \n                        </th>\n                    </tr>\n                </tfoot>\n                </table>"
      }
     },
     "2b61a2efed51453ba7d9b61640e3257b": {
      "model_module_version": "^2.1.4",
      "state": {
       "children": [
        "IPY_MODEL_ca7fc7414df744c1a12a80afcd929124",
        "IPY_MODEL_892d3ae0c7194bf880319e259ecc2978"
       ],
       "value": "<table style=\"width:100%\">\n                <thead>\n                    <tr>\n                        <th colspan=\"2\">\n                        Could not create model:\n                        </th>\n                    </tr>\n                </thead>\n                <tbody>\n                    <tr>\n                        <td>Model name</td>\n                        <td> undefined </td>\n                    </tr>\n                    <tr>\n                        <td>Model module</td>\n                        <td> undefined </td>\n                    </tr>\n                    <tr>\n                        <td>Model module version</td>\n                        <td> undefined </td>\n                    </tr>\n                <tbody>\n                <tfoot>\n                    <tr>\n                        <th colspan=\"2\">\n                        Class undefined not found in registry \n                        </th>\n                    </tr>\n                </tfoot>\n                </table>"
      }
     },
     "2cb31d41b01c41cab49231e6bbcef9a5": {
      "model_module_version": "^2.1.4",
      "state": {
       "msg_id": "",
       "value": "<table style=\"width:100%\">\n                <thead>\n                    <tr>\n                        <th colspan=\"2\">\n                        Could not create model:\n                        </th>\n                    </tr>\n                </thead>\n                <tbody>\n                    <tr>\n                        <td>Model name</td>\n                        <td> undefined </td>\n                    </tr>\n                    <tr>\n                        <td>Model module</td>\n                        <td> undefined </td>\n                    </tr>\n                    <tr>\n                        <td>Model module version</td>\n                        <td> undefined </td>\n                    </tr>\n                <tbody>\n                <tfoot>\n                    <tr>\n                        <th colspan=\"2\">\n                        Class undefined not found in registry \n                        </th>\n                    </tr>\n                </tfoot>\n                </table>"
      }
     },
     "2f4edba5b47e4d5590df1386c754fd88": {
      "model_module_version": "^2.1.4",
      "state": {
       "value": "<table style=\"width:100%\">\n                <thead>\n                    <tr>\n                        <th colspan=\"2\">\n                        Could not create model:\n                        </th>\n                    </tr>\n                </thead>\n                <tbody>\n                    <tr>\n                        <td>Model name</td>\n                        <td> undefined </td>\n                    </tr>\n                    <tr>\n                        <td>Model module</td>\n                        <td> undefined </td>\n                    </tr>\n                    <tr>\n                        <td>Model module version</td>\n                        <td> undefined </td>\n                    </tr>\n                <tbody>\n                <tfoot>\n                    <tr>\n                        <th colspan=\"2\">\n                        Class undefined not found in registry \n                        </th>\n                    </tr>\n                </tfoot>\n                </table>"
      }
     },
     "32e0e6999b084991bcd84438c81ff67f": {
      "model_module_version": "^2.1.4",
      "state": {
       "value": "<table style=\"width:100%\">\n                <thead>\n                    <tr>\n                        <th colspan=\"2\">\n                        Could not create model:\n                        </th>\n                    </tr>\n                </thead>\n                <tbody>\n                    <tr>\n                        <td>Model name</td>\n                        <td> undefined </td>\n                    </tr>\n                    <tr>\n                        <td>Model module</td>\n                        <td> undefined </td>\n                    </tr>\n                    <tr>\n                        <td>Model module version</td>\n                        <td> undefined </td>\n                    </tr>\n                <tbody>\n                <tfoot>\n                    <tr>\n                        <th colspan=\"2\">\n                        Class undefined not found in registry \n                        </th>\n                    </tr>\n                </tfoot>\n                </table>"
      }
     },
     "3ac7a342207a410888cc1bde2c42f286": {
      "model_module_version": "^2.1.4",
      "state": {
       "value": "<table style=\"width:100%\">\n                <thead>\n                    <tr>\n                        <th colspan=\"2\">\n                        Could not create model:\n                        </th>\n                    </tr>\n                </thead>\n                <tbody>\n                    <tr>\n                        <td>Model name</td>\n                        <td> undefined </td>\n                    </tr>\n                    <tr>\n                        <td>Model module</td>\n                        <td> undefined </td>\n                    </tr>\n                    <tr>\n                        <td>Model module version</td>\n                        <td> undefined </td>\n                    </tr>\n                <tbody>\n                <tfoot>\n                    <tr>\n                        <th colspan=\"2\">\n                        Class undefined not found in registry \n                        </th>\n                    </tr>\n                </tfoot>\n                </table>"
      }
     },
     "3c2f6371fb9d4ef8963013d7ec752f1a": {
      "model_module": "jupyter-js-widgets",
      "model_module_version": "~2.1.4",
      "model_name": "LayoutModel",
      "state": {
       "_model_module_version": "~2.1.4",
       "_view_module_version": "~2.1.4"
      }
     },
     "4085225553f745b5a56321cf316c733e": {
      "model_module": "jupyter-js-widgets",
      "model_module_version": "~2.1.4",
      "model_name": "SliderStyleModel",
      "state": {
       "_model_module_version": "~2.1.4",
       "_view_module_version": "~2.1.4"
      }
     },
     "40dd2c2fbf0d41babb963d45187381e3": {
      "model_module_version": "^2.1.4",
      "state": {
       "value": "<table style=\"width:100%\">\n                <thead>\n                    <tr>\n                        <th colspan=\"2\">\n                        Could not create model:\n                        </th>\n                    </tr>\n                </thead>\n                <tbody>\n                    <tr>\n                        <td>Model name</td>\n                        <td> undefined </td>\n                    </tr>\n                    <tr>\n                        <td>Model module</td>\n                        <td> undefined </td>\n                    </tr>\n                    <tr>\n                        <td>Model module version</td>\n                        <td> undefined </td>\n                    </tr>\n                <tbody>\n                <tfoot>\n                    <tr>\n                        <th colspan=\"2\">\n                        Class undefined not found in registry \n                        </th>\n                    </tr>\n                </tfoot>\n                </table>"
      }
     },
     "43698cd83e434735970d098c0c18c682": {
      "model_module_version": "^2.1.4",
      "state": {
       "msg_id": "",
       "value": "<table style=\"width:100%\">\n                <thead>\n                    <tr>\n                        <th colspan=\"2\">\n                        Could not create model:\n                        </th>\n                    </tr>\n                </thead>\n                <tbody>\n                    <tr>\n                        <td>Model name</td>\n                        <td> undefined </td>\n                    </tr>\n                    <tr>\n                        <td>Model module</td>\n                        <td> undefined </td>\n                    </tr>\n                    <tr>\n                        <td>Model module version</td>\n                        <td> undefined </td>\n                    </tr>\n                <tbody>\n                <tfoot>\n                    <tr>\n                        <th colspan=\"2\">\n                        Class undefined not found in registry \n                        </th>\n                    </tr>\n                </tfoot>\n                </table>"
      }
     },
     "4516a929146f4c6aba450499be5a6bae": {
      "model_module_version": "^2.1.4",
      "state": {
       "children": [
        "IPY_MODEL_1e92dc6d2e6a4746ae2cd05ab57165ec",
        "IPY_MODEL_0d0f207a9beb4bbc8342dfdfde8abfd1"
       ],
       "value": "<table style=\"width:100%\">\n                <thead>\n                    <tr>\n                        <th colspan=\"2\">\n                        Could not create model:\n                        </th>\n                    </tr>\n                </thead>\n                <tbody>\n                    <tr>\n                        <td>Model name</td>\n                        <td> undefined </td>\n                    </tr>\n                    <tr>\n                        <td>Model module</td>\n                        <td> undefined </td>\n                    </tr>\n                    <tr>\n                        <td>Model module version</td>\n                        <td> undefined </td>\n                    </tr>\n                <tbody>\n                <tfoot>\n                    <tr>\n                        <th colspan=\"2\">\n                        Class undefined not found in registry \n                        </th>\n                    </tr>\n                </tfoot>\n                </table>"
      }
     },
     "46c3f00a4866401bb7d7dd886668baeb": {
      "model_module_version": "^2.1.4",
      "state": {
       "msg_id": "",
       "value": "<table style=\"width:100%\">\n                <thead>\n                    <tr>\n                        <th colspan=\"2\">\n                        Could not create model:\n                        </th>\n                    </tr>\n                </thead>\n                <tbody>\n                    <tr>\n                        <td>Model name</td>\n                        <td> undefined </td>\n                    </tr>\n                    <tr>\n                        <td>Model module</td>\n                        <td> undefined </td>\n                    </tr>\n                    <tr>\n                        <td>Model module version</td>\n                        <td> undefined </td>\n                    </tr>\n                <tbody>\n                <tfoot>\n                    <tr>\n                        <th colspan=\"2\">\n                        Class undefined not found in registry \n                        </th>\n                    </tr>\n                </tfoot>\n                </table>"
      }
     },
     "49aa40dd11114ddabb68be1d01d1e41d": {
      "model_module_version": "^2.1.4",
      "state": {
       "value": "<table style=\"width:100%\">\n                <thead>\n                    <tr>\n                        <th colspan=\"2\">\n                        Could not create model:\n                        </th>\n                    </tr>\n                </thead>\n                <tbody>\n                    <tr>\n                        <td>Model name</td>\n                        <td> undefined </td>\n                    </tr>\n                    <tr>\n                        <td>Model module</td>\n                        <td> undefined </td>\n                    </tr>\n                    <tr>\n                        <td>Model module version</td>\n                        <td> undefined </td>\n                    </tr>\n                <tbody>\n                <tfoot>\n                    <tr>\n                        <th colspan=\"2\">\n                        Class undefined not found in registry \n                        </th>\n                    </tr>\n                </tfoot>\n                </table>"
      }
     },
     "4a96e2d67ee54a41a257d81719387929": {
      "model_module_version": "^2.1.4",
      "state": {
       "msg_id": "",
       "value": "<table style=\"width:100%\">\n                <thead>\n                    <tr>\n                        <th colspan=\"2\">\n                        Could not create model:\n                        </th>\n                    </tr>\n                </thead>\n                <tbody>\n                    <tr>\n                        <td>Model name</td>\n                        <td> undefined </td>\n                    </tr>\n                    <tr>\n                        <td>Model module</td>\n                        <td> undefined </td>\n                    </tr>\n                    <tr>\n                        <td>Model module version</td>\n                        <td> undefined </td>\n                    </tr>\n                <tbody>\n                <tfoot>\n                    <tr>\n                        <th colspan=\"2\">\n                        Class undefined not found in registry \n                        </th>\n                    </tr>\n                </tfoot>\n                </table>"
      }
     },
     "501729002a44409ba89f0ce4598c4615": {
      "model_module_version": "^2.1.4",
      "state": {
       "value": "<table style=\"width:100%\">\n                <thead>\n                    <tr>\n                        <th colspan=\"2\">\n                        Could not create model:\n                        </th>\n                    </tr>\n                </thead>\n                <tbody>\n                    <tr>\n                        <td>Model name</td>\n                        <td> undefined </td>\n                    </tr>\n                    <tr>\n                        <td>Model module</td>\n                        <td> undefined </td>\n                    </tr>\n                    <tr>\n                        <td>Model module version</td>\n                        <td> undefined </td>\n                    </tr>\n                <tbody>\n                <tfoot>\n                    <tr>\n                        <th colspan=\"2\">\n                        Class undefined not found in registry \n                        </th>\n                    </tr>\n                </tfoot>\n                </table>"
      }
     },
     "55c4545c3cf9416ca5f9b6468f70a6ea": {
      "model_module_version": "^2.1.4",
      "state": {
       "value": "<table style=\"width:100%\">\n                <thead>\n                    <tr>\n                        <th colspan=\"2\">\n                        Could not create model:\n                        </th>\n                    </tr>\n                </thead>\n                <tbody>\n                    <tr>\n                        <td>Model name</td>\n                        <td> undefined </td>\n                    </tr>\n                    <tr>\n                        <td>Model module</td>\n                        <td> undefined </td>\n                    </tr>\n                    <tr>\n                        <td>Model module version</td>\n                        <td> undefined </td>\n                    </tr>\n                <tbody>\n                <tfoot>\n                    <tr>\n                        <th colspan=\"2\">\n                        Class undefined not found in registry \n                        </th>\n                    </tr>\n                </tfoot>\n                </table>"
      }
     },
     "5754386e4c0348748bd72a39c98e3513": {
      "model_module_version": "^2.1.4",
      "state": {
       "value": "<table style=\"width:100%\">\n                <thead>\n                    <tr>\n                        <th colspan=\"2\">\n                        Could not create model:\n                        </th>\n                    </tr>\n                </thead>\n                <tbody>\n                    <tr>\n                        <td>Model name</td>\n                        <td> undefined </td>\n                    </tr>\n                    <tr>\n                        <td>Model module</td>\n                        <td> undefined </td>\n                    </tr>\n                    <tr>\n                        <td>Model module version</td>\n                        <td> undefined </td>\n                    </tr>\n                <tbody>\n                <tfoot>\n                    <tr>\n                        <th colspan=\"2\">\n                        Class undefined not found in registry \n                        </th>\n                    </tr>\n                </tfoot>\n                </table>"
      }
     },
     "5d5b28b089e242db97c0fb1fbdd63320": {
      "model_module_version": "^2.1.4",
      "state": {
       "value": "<table style=\"width:100%\">\n                <thead>\n                    <tr>\n                        <th colspan=\"2\">\n                        Could not create model:\n                        </th>\n                    </tr>\n                </thead>\n                <tbody>\n                    <tr>\n                        <td>Model name</td>\n                        <td> undefined </td>\n                    </tr>\n                    <tr>\n                        <td>Model module</td>\n                        <td> undefined </td>\n                    </tr>\n                    <tr>\n                        <td>Model module version</td>\n                        <td> undefined </td>\n                    </tr>\n                <tbody>\n                <tfoot>\n                    <tr>\n                        <th colspan=\"2\">\n                        Class undefined not found in registry \n                        </th>\n                    </tr>\n                </tfoot>\n                </table>"
      }
     },
     "5ddce768a0cd44fcb6a02f55d97511c0": {
      "model_module_version": "^2.1.4",
      "state": {
       "description": "x",
       "value": "<table style=\"width:100%\">\n                <thead>\n                    <tr>\n                        <th colspan=\"2\">\n                        Could not create model:\n                        </th>\n                    </tr>\n                </thead>\n                <tbody>\n                    <tr>\n                        <td>Model name</td>\n                        <td> undefined </td>\n                    </tr>\n                    <tr>\n                        <td>Model module</td>\n                        <td> undefined </td>\n                    </tr>\n                    <tr>\n                        <td>Model module version</td>\n                        <td> undefined </td>\n                    </tr>\n                <tbody>\n                <tfoot>\n                    <tr>\n                        <th colspan=\"2\">\n                        Class undefined not found in registry \n                        </th>\n                    </tr>\n                </tfoot>\n                </table>"
      }
     },
     "5ef172040b89471c852363eeffcd40ad": {
      "model_module": "jupyter-js-widgets",
      "model_module_version": "~2.1.4",
      "model_name": "OutputModel",
      "state": {
       "_dom_classes": [],
       "_model_module": "jupyter-js-widgets",
       "_model_module_version": "~2.1.4",
       "_view_module": "jupyter-js-widgets",
       "_view_module_version": "~2.1.4",
       "layout": "IPY_MODEL_61d17c7ab05d49ad917fe0ad9a2f5082",
       "msg_throttle": 1
      }
     },
     "61d17c7ab05d49ad917fe0ad9a2f5082": {
      "model_module": "jupyter-js-widgets",
      "model_module_version": "~2.1.4",
      "model_name": "LayoutModel",
      "state": {
       "_model_module_version": "~2.1.4",
       "_view_module_version": "~2.1.4"
      }
     },
     "621171c6d3824e1aa20b00a470355ba1": {
      "model_module_version": "^2.1.4",
      "state": {
       "value": "<table style=\"width:100%\">\n                <thead>\n                    <tr>\n                        <th colspan=\"2\">\n                        Could not create model:\n                        </th>\n                    </tr>\n                </thead>\n                <tbody>\n                    <tr>\n                        <td>Model name</td>\n                        <td> undefined </td>\n                    </tr>\n                    <tr>\n                        <td>Model module</td>\n                        <td> undefined </td>\n                    </tr>\n                    <tr>\n                        <td>Model module version</td>\n                        <td> undefined </td>\n                    </tr>\n                <tbody>\n                <tfoot>\n                    <tr>\n                        <th colspan=\"2\">\n                        Class undefined not found in registry \n                        </th>\n                    </tr>\n                </tfoot>\n                </table>"
      }
     },
     "68b9424e93a54f97b286548081d65a10": {
      "model_module_version": "^2.1.4",
      "state": {
       "value": "<table style=\"width:100%\">\n                <thead>\n                    <tr>\n                        <th colspan=\"2\">\n                        Could not create model:\n                        </th>\n                    </tr>\n                </thead>\n                <tbody>\n                    <tr>\n                        <td>Model name</td>\n                        <td> undefined </td>\n                    </tr>\n                    <tr>\n                        <td>Model module</td>\n                        <td> undefined </td>\n                    </tr>\n                    <tr>\n                        <td>Model module version</td>\n                        <td> undefined </td>\n                    </tr>\n                <tbody>\n                <tfoot>\n                    <tr>\n                        <th colspan=\"2\">\n                        Class undefined not found in registry \n                        </th>\n                    </tr>\n                </tfoot>\n                </table>"
      }
     },
     "6a248cb18c8c40658ea8cf7615f7a622": {
      "model_module_version": "^2.1.4",
      "state": {
       "value": "<table style=\"width:100%\">\n                <thead>\n                    <tr>\n                        <th colspan=\"2\">\n                        Could not create model:\n                        </th>\n                    </tr>\n                </thead>\n                <tbody>\n                    <tr>\n                        <td>Model name</td>\n                        <td> undefined </td>\n                    </tr>\n                    <tr>\n                        <td>Model module</td>\n                        <td> undefined </td>\n                    </tr>\n                    <tr>\n                        <td>Model module version</td>\n                        <td> undefined </td>\n                    </tr>\n                <tbody>\n                <tfoot>\n                    <tr>\n                        <th colspan=\"2\">\n                        Class undefined not found in registry \n                        </th>\n                    </tr>\n                </tfoot>\n                </table>"
      }
     },
     "6aaa433ab117461b889545d142a27175": {
      "model_module_version": "^2.1.4",
      "state": {
       "description": "x",
       "value": "<table style=\"width:100%\">\n                <thead>\n                    <tr>\n                        <th colspan=\"2\">\n                        Could not create model:\n                        </th>\n                    </tr>\n                </thead>\n                <tbody>\n                    <tr>\n                        <td>Model name</td>\n                        <td> undefined </td>\n                    </tr>\n                    <tr>\n                        <td>Model module</td>\n                        <td> undefined </td>\n                    </tr>\n                    <tr>\n                        <td>Model module version</td>\n                        <td> undefined </td>\n                    </tr>\n                <tbody>\n                <tfoot>\n                    <tr>\n                        <th colspan=\"2\">\n                        Class undefined not found in registry \n                        </th>\n                    </tr>\n                </tfoot>\n                </table>"
      }
     },
     "73132f70043c4a6cb2a8ceb471a8f252": {
      "model_module_version": "^2.1.4",
      "state": {
       "value": "<table style=\"width:100%\">\n                <thead>\n                    <tr>\n                        <th colspan=\"2\">\n                        Could not create model:\n                        </th>\n                    </tr>\n                </thead>\n                <tbody>\n                    <tr>\n                        <td>Model name</td>\n                        <td> undefined </td>\n                    </tr>\n                    <tr>\n                        <td>Model module</td>\n                        <td> undefined </td>\n                    </tr>\n                    <tr>\n                        <td>Model module version</td>\n                        <td> undefined </td>\n                    </tr>\n                <tbody>\n                <tfoot>\n                    <tr>\n                        <th colspan=\"2\">\n                        Class undefined not found in registry \n                        </th>\n                    </tr>\n                </tfoot>\n                </table>"
      }
     },
     "76b009679d104667af00faea672b290a": {
      "model_module_version": "^2.1.4",
      "state": {
       "value": "<table style=\"width:100%\">\n                <thead>\n                    <tr>\n                        <th colspan=\"2\">\n                        Could not create model:\n                        </th>\n                    </tr>\n                </thead>\n                <tbody>\n                    <tr>\n                        <td>Model name</td>\n                        <td> undefined </td>\n                    </tr>\n                    <tr>\n                        <td>Model module</td>\n                        <td> undefined </td>\n                    </tr>\n                    <tr>\n                        <td>Model module version</td>\n                        <td> undefined </td>\n                    </tr>\n                <tbody>\n                <tfoot>\n                    <tr>\n                        <th colspan=\"2\">\n                        Class undefined not found in registry \n                        </th>\n                    </tr>\n                </tfoot>\n                </table>"
      }
     },
     "79c73807325f49d393b6cf08bad0b9ef": {
      "model_module_version": "^2.1.4",
      "state": {
       "value": "<table style=\"width:100%\">\n                <thead>\n                    <tr>\n                        <th colspan=\"2\">\n                        Could not create model:\n                        </th>\n                    </tr>\n                </thead>\n                <tbody>\n                    <tr>\n                        <td>Model name</td>\n                        <td> undefined </td>\n                    </tr>\n                    <tr>\n                        <td>Model module</td>\n                        <td> undefined </td>\n                    </tr>\n                    <tr>\n                        <td>Model module version</td>\n                        <td> undefined </td>\n                    </tr>\n                <tbody>\n                <tfoot>\n                    <tr>\n                        <th colspan=\"2\">\n                        Class undefined not found in registry \n                        </th>\n                    </tr>\n                </tfoot>\n                </table>"
      }
     },
     "7b2a75f21e23408ba72e5f04d40c4ae0": {
      "model_module_version": "^2.1.4",
      "state": {
       "msg_id": "",
       "value": "<table style=\"width:100%\">\n                <thead>\n                    <tr>\n                        <th colspan=\"2\">\n                        Could not create model:\n                        </th>\n                    </tr>\n                </thead>\n                <tbody>\n                    <tr>\n                        <td>Model name</td>\n                        <td> undefined </td>\n                    </tr>\n                    <tr>\n                        <td>Model module</td>\n                        <td> undefined </td>\n                    </tr>\n                    <tr>\n                        <td>Model module version</td>\n                        <td> undefined </td>\n                    </tr>\n                <tbody>\n                <tfoot>\n                    <tr>\n                        <th colspan=\"2\">\n                        Class undefined not found in registry \n                        </th>\n                    </tr>\n                </tfoot>\n                </table>"
      }
     },
     "7fdb52036a2c425b968f1cb3f18880cc": {
      "model_module": "jupyter-js-widgets",
      "model_module_version": "~2.1.4",
      "model_name": "VBoxModel",
      "state": {
       "_dom_classes": [
        "widget-interact"
       ],
       "_model_module_version": "~2.1.4",
       "_view_module_version": "~2.1.4",
       "children": [
        "IPY_MODEL_acf1144a079947a3b72f448ff497b5aa",
        "IPY_MODEL_5ef172040b89471c852363eeffcd40ad"
       ],
       "layout": "IPY_MODEL_a3da27f324824245ab4548048acf08ce"
      }
     },
     "804d2f26720d4c7a80aca19ce362f6e3": {
      "model_module_version": "^2.1.4",
      "state": {
       "value": "<table style=\"width:100%\">\n                <thead>\n                    <tr>\n                        <th colspan=\"2\">\n                        Could not create model:\n                        </th>\n                    </tr>\n                </thead>\n                <tbody>\n                    <tr>\n                        <td>Model name</td>\n                        <td> undefined </td>\n                    </tr>\n                    <tr>\n                        <td>Model module</td>\n                        <td> undefined </td>\n                    </tr>\n                    <tr>\n                        <td>Model module version</td>\n                        <td> undefined </td>\n                    </tr>\n                <tbody>\n                <tfoot>\n                    <tr>\n                        <th colspan=\"2\">\n                        Class undefined not found in registry \n                        </th>\n                    </tr>\n                </tfoot>\n                </table>"
      }
     },
     "83640725b367458d874b51c6da3c0298": {
      "model_module_version": "^2.1.4",
      "state": {
       "description": "x",
       "value": "<table style=\"width:100%\">\n                <thead>\n                    <tr>\n                        <th colspan=\"2\">\n                        Could not create model:\n                        </th>\n                    </tr>\n                </thead>\n                <tbody>\n                    <tr>\n                        <td>Model name</td>\n                        <td> undefined </td>\n                    </tr>\n                    <tr>\n                        <td>Model module</td>\n                        <td> undefined </td>\n                    </tr>\n                    <tr>\n                        <td>Model module version</td>\n                        <td> undefined </td>\n                    </tr>\n                <tbody>\n                <tfoot>\n                    <tr>\n                        <th colspan=\"2\">\n                        Class undefined not found in registry \n                        </th>\n                    </tr>\n                </tfoot>\n                </table>"
      }
     },
     "842d398e0f0b49bb82816bf12e32d8ae": {
      "model_module_version": "^2.1.4",
      "state": {
       "children": [
        "IPY_MODEL_b3aaafaed364432d9f29a2334748fb51",
        "IPY_MODEL_0bb041ed3f25401da46f4d3b1b84bedd"
       ],
       "value": "<table style=\"width:100%\">\n                <thead>\n                    <tr>\n                        <th colspan=\"2\">\n                        Could not create model:\n                        </th>\n                    </tr>\n                </thead>\n                <tbody>\n                    <tr>\n                        <td>Model name</td>\n                        <td> undefined </td>\n                    </tr>\n                    <tr>\n                        <td>Model module</td>\n                        <td> undefined </td>\n                    </tr>\n                    <tr>\n                        <td>Model module version</td>\n                        <td> undefined </td>\n                    </tr>\n                <tbody>\n                <tfoot>\n                    <tr>\n                        <th colspan=\"2\">\n                        Class undefined not found in registry \n                        </th>\n                    </tr>\n                </tfoot>\n                </table>"
      }
     },
     "892d3ae0c7194bf880319e259ecc2978": {
      "model_module_version": "^2.1.4",
      "state": {
       "msg_id": "",
       "value": "<table style=\"width:100%\">\n                <thead>\n                    <tr>\n                        <th colspan=\"2\">\n                        Could not create model:\n                        </th>\n                    </tr>\n                </thead>\n                <tbody>\n                    <tr>\n                        <td>Model name</td>\n                        <td> undefined </td>\n                    </tr>\n                    <tr>\n                        <td>Model module</td>\n                        <td> undefined </td>\n                    </tr>\n                    <tr>\n                        <td>Model module version</td>\n                        <td> undefined </td>\n                    </tr>\n                <tbody>\n                <tfoot>\n                    <tr>\n                        <th colspan=\"2\">\n                        Class undefined not found in registry \n                        </th>\n                    </tr>\n                </tfoot>\n                </table>"
      }
     },
     "8c53fafbc3f84f67a956e57f3add21e6": {
      "model_module_version": "^2.1.4",
      "state": {
       "value": "<table style=\"width:100%\">\n                <thead>\n                    <tr>\n                        <th colspan=\"2\">\n                        Could not create model:\n                        </th>\n                    </tr>\n                </thead>\n                <tbody>\n                    <tr>\n                        <td>Model name</td>\n                        <td> undefined </td>\n                    </tr>\n                    <tr>\n                        <td>Model module</td>\n                        <td> undefined </td>\n                    </tr>\n                    <tr>\n                        <td>Model module version</td>\n                        <td> undefined </td>\n                    </tr>\n                <tbody>\n                <tfoot>\n                    <tr>\n                        <th colspan=\"2\">\n                        Class undefined not found in registry \n                        </th>\n                    </tr>\n                </tfoot>\n                </table>"
      }
     },
     "96847b2fae384f758634f48976d6387d": {
      "model_module_version": "^2.1.4",
      "state": {
       "value": "<table style=\"width:100%\">\n                <thead>\n                    <tr>\n                        <th colspan=\"2\">\n                        Could not create model:\n                        </th>\n                    </tr>\n                </thead>\n                <tbody>\n                    <tr>\n                        <td>Model name</td>\n                        <td> undefined </td>\n                    </tr>\n                    <tr>\n                        <td>Model module</td>\n                        <td> undefined </td>\n                    </tr>\n                    <tr>\n                        <td>Model module version</td>\n                        <td> undefined </td>\n                    </tr>\n                <tbody>\n                <tfoot>\n                    <tr>\n                        <th colspan=\"2\">\n                        Class undefined not found in registry \n                        </th>\n                    </tr>\n                </tfoot>\n                </table>"
      }
     },
     "98eb087ff1554f3983db53fa15fe205e": {
      "model_module_version": "^2.1.4",
      "state": {
       "description": "x",
       "value": "<table style=\"width:100%\">\n                <thead>\n                    <tr>\n                        <th colspan=\"2\">\n                        Could not create model:\n                        </th>\n                    </tr>\n                </thead>\n                <tbody>\n                    <tr>\n                        <td>Model name</td>\n                        <td> undefined </td>\n                    </tr>\n                    <tr>\n                        <td>Model module</td>\n                        <td> undefined </td>\n                    </tr>\n                    <tr>\n                        <td>Model module version</td>\n                        <td> undefined </td>\n                    </tr>\n                <tbody>\n                <tfoot>\n                    <tr>\n                        <th colspan=\"2\">\n                        Class undefined not found in registry \n                        </th>\n                    </tr>\n                </tfoot>\n                </table>"
      }
     },
     "a2dd2b1e1f9b4734b2e3aa1dbffdcd04": {
      "model_module_version": "^2.1.4",
      "state": {
       "value": "<table style=\"width:100%\">\n                <thead>\n                    <tr>\n                        <th colspan=\"2\">\n                        Could not create model:\n                        </th>\n                    </tr>\n                </thead>\n                <tbody>\n                    <tr>\n                        <td>Model name</td>\n                        <td> undefined </td>\n                    </tr>\n                    <tr>\n                        <td>Model module</td>\n                        <td> undefined </td>\n                    </tr>\n                    <tr>\n                        <td>Model module version</td>\n                        <td> undefined </td>\n                    </tr>\n                <tbody>\n                <tfoot>\n                    <tr>\n                        <th colspan=\"2\">\n                        Class undefined not found in registry \n                        </th>\n                    </tr>\n                </tfoot>\n                </table>"
      }
     },
     "a2f0d26a526e4befb8a931dedb6363eb": {
      "model_module_version": "^2.1.4",
      "state": {
       "value": "<table style=\"width:100%\">\n                <thead>\n                    <tr>\n                        <th colspan=\"2\">\n                        Could not create model:\n                        </th>\n                    </tr>\n                </thead>\n                <tbody>\n                    <tr>\n                        <td>Model name</td>\n                        <td> undefined </td>\n                    </tr>\n                    <tr>\n                        <td>Model module</td>\n                        <td> undefined </td>\n                    </tr>\n                    <tr>\n                        <td>Model module version</td>\n                        <td> undefined </td>\n                    </tr>\n                <tbody>\n                <tfoot>\n                    <tr>\n                        <th colspan=\"2\">\n                        Class undefined not found in registry \n                        </th>\n                    </tr>\n                </tfoot>\n                </table>"
      }
     },
     "a3da27f324824245ab4548048acf08ce": {
      "model_module": "jupyter-js-widgets",
      "model_module_version": "~2.1.4",
      "model_name": "LayoutModel",
      "state": {
       "_model_module_version": "~2.1.4",
       "_view_module_version": "~2.1.4"
      }
     },
     "a5e1aa2fc5f641d098f2cfa6420a592b": {
      "model_module_version": "^2.1.4",
      "state": {
       "value": "<table style=\"width:100%\">\n                <thead>\n                    <tr>\n                        <th colspan=\"2\">\n                        Could not create model:\n                        </th>\n                    </tr>\n                </thead>\n                <tbody>\n                    <tr>\n                        <td>Model name</td>\n                        <td> undefined </td>\n                    </tr>\n                    <tr>\n                        <td>Model module</td>\n                        <td> undefined </td>\n                    </tr>\n                    <tr>\n                        <td>Model module version</td>\n                        <td> undefined </td>\n                    </tr>\n                <tbody>\n                <tfoot>\n                    <tr>\n                        <th colspan=\"2\">\n                        Class undefined not found in registry \n                        </th>\n                    </tr>\n                </tfoot>\n                </table>"
      }
     },
     "acf1144a079947a3b72f448ff497b5aa": {
      "model_module": "jupyter-js-widgets",
      "model_module_version": "~2.1.4",
      "model_name": "IntSliderModel",
      "state": {
       "_model_module_version": "~2.1.4",
       "_view_module_version": "~2.1.4",
       "description": "x",
       "layout": "IPY_MODEL_3c2f6371fb9d4ef8963013d7ec752f1a",
       "max": 30,
       "min": -10,
       "style": "IPY_MODEL_4085225553f745b5a56321cf316c733e",
       "value": 10
      }
     },
     "ae4e57c864524cccb1f82071a8cd1230": {
      "model_module_version": "^2.1.4",
      "state": {
       "children": [
        "IPY_MODEL_83640725b367458d874b51c6da3c0298",
        "IPY_MODEL_46c3f00a4866401bb7d7dd886668baeb"
       ],
       "value": "<table style=\"width:100%\">\n                <thead>\n                    <tr>\n                        <th colspan=\"2\">\n                        Could not create model:\n                        </th>\n                    </tr>\n                </thead>\n                <tbody>\n                    <tr>\n                        <td>Model name</td>\n                        <td> undefined </td>\n                    </tr>\n                    <tr>\n                        <td>Model module</td>\n                        <td> undefined </td>\n                    </tr>\n                    <tr>\n                        <td>Model module version</td>\n                        <td> undefined </td>\n                    </tr>\n                <tbody>\n                <tfoot>\n                    <tr>\n                        <th colspan=\"2\">\n                        Class undefined not found in registry \n                        </th>\n                    </tr>\n                </tfoot>\n                </table>"
      }
     },
     "b3aaafaed364432d9f29a2334748fb51": {
      "model_module_version": "^2.1.4",
      "state": {
       "description": "x",
       "value": "<table style=\"width:100%\">\n                <thead>\n                    <tr>\n                        <th colspan=\"2\">\n                        Could not create model:\n                        </th>\n                    </tr>\n                </thead>\n                <tbody>\n                    <tr>\n                        <td>Model name</td>\n                        <td> undefined </td>\n                    </tr>\n                    <tr>\n                        <td>Model module</td>\n                        <td> undefined </td>\n                    </tr>\n                    <tr>\n                        <td>Model module version</td>\n                        <td> undefined </td>\n                    </tr>\n                <tbody>\n                <tfoot>\n                    <tr>\n                        <th colspan=\"2\">\n                        Class undefined not found in registry \n                        </th>\n                    </tr>\n                </tfoot>\n                </table>"
      }
     },
     "b5c4b56ba9cd45e1bdca6530cc78c9e1": {
      "model_module_version": "^2.1.4",
      "state": {
       "msg_id": "",
       "value": "<table style=\"width:100%\">\n                <thead>\n                    <tr>\n                        <th colspan=\"2\">\n                        Could not create model:\n                        </th>\n                    </tr>\n                </thead>\n                <tbody>\n                    <tr>\n                        <td>Model name</td>\n                        <td> undefined </td>\n                    </tr>\n                    <tr>\n                        <td>Model module</td>\n                        <td> undefined </td>\n                    </tr>\n                    <tr>\n                        <td>Model module version</td>\n                        <td> undefined </td>\n                    </tr>\n                <tbody>\n                <tfoot>\n                    <tr>\n                        <th colspan=\"2\">\n                        Class undefined not found in registry \n                        </th>\n                    </tr>\n                </tfoot>\n                </table>"
      }
     },
     "b74b2bb279ff49c9a7b8384e115dda91": {
      "model_module_version": "^2.1.4",
      "state": {
       "msg_id": "",
       "value": "<table style=\"width:100%\">\n                <thead>\n                    <tr>\n                        <th colspan=\"2\">\n                        Could not create model:\n                        </th>\n                    </tr>\n                </thead>\n                <tbody>\n                    <tr>\n                        <td>Model name</td>\n                        <td> undefined </td>\n                    </tr>\n                    <tr>\n                        <td>Model module</td>\n                        <td> undefined </td>\n                    </tr>\n                    <tr>\n                        <td>Model module version</td>\n                        <td> undefined </td>\n                    </tr>\n                <tbody>\n                <tfoot>\n                    <tr>\n                        <th colspan=\"2\">\n                        Class undefined not found in registry \n                        </th>\n                    </tr>\n                </tfoot>\n                </table>"
      }
     },
     "bc40a99774e645d6a95f8c5424ed326e": {
      "model_module_version": "^2.1.4",
      "state": {
       "description": "x",
       "value": "<table style=\"width:100%\">\n                <thead>\n                    <tr>\n                        <th colspan=\"2\">\n                        Could not create model:\n                        </th>\n                    </tr>\n                </thead>\n                <tbody>\n                    <tr>\n                        <td>Model name</td>\n                        <td> undefined </td>\n                    </tr>\n                    <tr>\n                        <td>Model module</td>\n                        <td> undefined </td>\n                    </tr>\n                    <tr>\n                        <td>Model module version</td>\n                        <td> undefined </td>\n                    </tr>\n                <tbody>\n                <tfoot>\n                    <tr>\n                        <th colspan=\"2\">\n                        Class undefined not found in registry \n                        </th>\n                    </tr>\n                </tfoot>\n                </table>"
      }
     },
     "c40e39ab08b34613bb2767f4b2e60411": {
      "model_module_version": "^2.1.4",
      "state": {
       "value": "<table style=\"width:100%\">\n                <thead>\n                    <tr>\n                        <th colspan=\"2\">\n                        Could not create model:\n                        </th>\n                    </tr>\n                </thead>\n                <tbody>\n                    <tr>\n                        <td>Model name</td>\n                        <td> undefined </td>\n                    </tr>\n                    <tr>\n                        <td>Model module</td>\n                        <td> undefined </td>\n                    </tr>\n                    <tr>\n                        <td>Model module version</td>\n                        <td> undefined </td>\n                    </tr>\n                <tbody>\n                <tfoot>\n                    <tr>\n                        <th colspan=\"2\">\n                        Class undefined not found in registry \n                        </th>\n                    </tr>\n                </tfoot>\n                </table>"
      }
     },
     "ca7fc7414df744c1a12a80afcd929124": {
      "model_module_version": "^2.1.4",
      "state": {
       "description": "x",
       "value": "<table style=\"width:100%\">\n                <thead>\n                    <tr>\n                        <th colspan=\"2\">\n                        Could not create model:\n                        </th>\n                    </tr>\n                </thead>\n                <tbody>\n                    <tr>\n                        <td>Model name</td>\n                        <td> undefined </td>\n                    </tr>\n                    <tr>\n                        <td>Model module</td>\n                        <td> undefined </td>\n                    </tr>\n                    <tr>\n                        <td>Model module version</td>\n                        <td> undefined </td>\n                    </tr>\n                <tbody>\n                <tfoot>\n                    <tr>\n                        <th colspan=\"2\">\n                        Class undefined not found in registry \n                        </th>\n                    </tr>\n                </tfoot>\n                </table>"
      }
     },
     "d00724d28f834c4991169f92b8e447cb": {
      "model_module_version": "^2.1.4",
      "state": {
       "description": "x",
       "value": "<table style=\"width:100%\">\n                <thead>\n                    <tr>\n                        <th colspan=\"2\">\n                        Could not create model:\n                        </th>\n                    </tr>\n                </thead>\n                <tbody>\n                    <tr>\n                        <td>Model name</td>\n                        <td> undefined </td>\n                    </tr>\n                    <tr>\n                        <td>Model module</td>\n                        <td> undefined </td>\n                    </tr>\n                    <tr>\n                        <td>Model module version</td>\n                        <td> undefined </td>\n                    </tr>\n                <tbody>\n                <tfoot>\n                    <tr>\n                        <th colspan=\"2\">\n                        Class undefined not found in registry \n                        </th>\n                    </tr>\n                </tfoot>\n                </table>"
      }
     },
     "d11595e8990749f7a5f58f9502758e2d": {
      "model_module_version": "^2.1.4",
      "state": {
       "value": "<table style=\"width:100%\">\n                <thead>\n                    <tr>\n                        <th colspan=\"2\">\n                        Could not create model:\n                        </th>\n                    </tr>\n                </thead>\n                <tbody>\n                    <tr>\n                        <td>Model name</td>\n                        <td> undefined </td>\n                    </tr>\n                    <tr>\n                        <td>Model module</td>\n                        <td> undefined </td>\n                    </tr>\n                    <tr>\n                        <td>Model module version</td>\n                        <td> undefined </td>\n                    </tr>\n                <tbody>\n                <tfoot>\n                    <tr>\n                        <th colspan=\"2\">\n                        Class undefined not found in registry \n                        </th>\n                    </tr>\n                </tfoot>\n                </table>"
      }
     },
     "d37973aee6ad4ad3afc2983cc4640538": {
      "model_module_version": "^2.1.4",
      "state": {
       "value": "<table style=\"width:100%\">\n                <thead>\n                    <tr>\n                        <th colspan=\"2\">\n                        Could not create model:\n                        </th>\n                    </tr>\n                </thead>\n                <tbody>\n                    <tr>\n                        <td>Model name</td>\n                        <td> undefined </td>\n                    </tr>\n                    <tr>\n                        <td>Model module</td>\n                        <td> undefined </td>\n                    </tr>\n                    <tr>\n                        <td>Model module version</td>\n                        <td> undefined </td>\n                    </tr>\n                <tbody>\n                <tfoot>\n                    <tr>\n                        <th colspan=\"2\">\n                        Class undefined not found in registry \n                        </th>\n                    </tr>\n                </tfoot>\n                </table>"
      }
     },
     "d8e4be7cd0c144abb637254495935400": {
      "model_module_version": "^2.1.4",
      "state": {
       "value": "<table style=\"width:100%\">\n                <thead>\n                    <tr>\n                        <th colspan=\"2\">\n                        Could not create model:\n                        </th>\n                    </tr>\n                </thead>\n                <tbody>\n                    <tr>\n                        <td>Model name</td>\n                        <td> undefined </td>\n                    </tr>\n                    <tr>\n                        <td>Model module</td>\n                        <td> undefined </td>\n                    </tr>\n                    <tr>\n                        <td>Model module version</td>\n                        <td> undefined </td>\n                    </tr>\n                <tbody>\n                <tfoot>\n                    <tr>\n                        <th colspan=\"2\">\n                        Class undefined not found in registry \n                        </th>\n                    </tr>\n                </tfoot>\n                </table>"
      }
     },
     "d929f758e3d743e4bad5ee4b0e0e2971": {
      "model_module_version": "^2.1.4",
      "state": {
       "value": "<table style=\"width:100%\">\n                <thead>\n                    <tr>\n                        <th colspan=\"2\">\n                        Could not create model:\n                        </th>\n                    </tr>\n                </thead>\n                <tbody>\n                    <tr>\n                        <td>Model name</td>\n                        <td> undefined </td>\n                    </tr>\n                    <tr>\n                        <td>Model module</td>\n                        <td> undefined </td>\n                    </tr>\n                    <tr>\n                        <td>Model module version</td>\n                        <td> undefined </td>\n                    </tr>\n                <tbody>\n                <tfoot>\n                    <tr>\n                        <th colspan=\"2\">\n                        Class undefined not found in registry \n                        </th>\n                    </tr>\n                </tfoot>\n                </table>"
      }
     },
     "db0ea3166b744eb3914ca4a329e1f134": {
      "model_module_version": "^2.1.4",
      "state": {
       "value": "<table style=\"width:100%\">\n                <thead>\n                    <tr>\n                        <th colspan=\"2\">\n                        Could not create model:\n                        </th>\n                    </tr>\n                </thead>\n                <tbody>\n                    <tr>\n                        <td>Model name</td>\n                        <td> undefined </td>\n                    </tr>\n                    <tr>\n                        <td>Model module</td>\n                        <td> undefined </td>\n                    </tr>\n                    <tr>\n                        <td>Model module version</td>\n                        <td> undefined </td>\n                    </tr>\n                <tbody>\n                <tfoot>\n                    <tr>\n                        <th colspan=\"2\">\n                        Class undefined not found in registry \n                        </th>\n                    </tr>\n                </tfoot>\n                </table>"
      }
     },
     "de03135fc545466a891c5c7f1191cb4b": {
      "model_module_version": "^2.1.4",
      "state": {
       "children": [
        "IPY_MODEL_6aaa433ab117461b889545d142a27175",
        "IPY_MODEL_4a96e2d67ee54a41a257d81719387929"
       ],
       "value": "<table style=\"width:100%\">\n                <thead>\n                    <tr>\n                        <th colspan=\"2\">\n                        Could not create model:\n                        </th>\n                    </tr>\n                </thead>\n                <tbody>\n                    <tr>\n                        <td>Model name</td>\n                        <td> undefined </td>\n                    </tr>\n                    <tr>\n                        <td>Model module</td>\n                        <td> undefined </td>\n                    </tr>\n                    <tr>\n                        <td>Model module version</td>\n                        <td> undefined </td>\n                    </tr>\n                <tbody>\n                <tfoot>\n                    <tr>\n                        <th colspan=\"2\">\n                        Class undefined not found in registry \n                        </th>\n                    </tr>\n                </tfoot>\n                </table>"
      }
     },
     "e2d7a38ef7dc48099cc27bfcc2a6a4c9": {
      "model_module_version": "^2.1.4",
      "state": {
       "value": "<table style=\"width:100%\">\n                <thead>\n                    <tr>\n                        <th colspan=\"2\">\n                        Could not create model:\n                        </th>\n                    </tr>\n                </thead>\n                <tbody>\n                    <tr>\n                        <td>Model name</td>\n                        <td> undefined </td>\n                    </tr>\n                    <tr>\n                        <td>Model module</td>\n                        <td> undefined </td>\n                    </tr>\n                    <tr>\n                        <td>Model module version</td>\n                        <td> undefined </td>\n                    </tr>\n                <tbody>\n                <tfoot>\n                    <tr>\n                        <th colspan=\"2\">\n                        Class undefined not found in registry \n                        </th>\n                    </tr>\n                </tfoot>\n                </table>"
      }
     },
     "e2eabeb5e95644c6994f2f3be516a507": {
      "model_module_version": "^2.1.4",
      "state": {
       "value": "<table style=\"width:100%\">\n                <thead>\n                    <tr>\n                        <th colspan=\"2\">\n                        Could not create model:\n                        </th>\n                    </tr>\n                </thead>\n                <tbody>\n                    <tr>\n                        <td>Model name</td>\n                        <td> undefined </td>\n                    </tr>\n                    <tr>\n                        <td>Model module</td>\n                        <td> undefined </td>\n                    </tr>\n                    <tr>\n                        <td>Model module version</td>\n                        <td> undefined </td>\n                    </tr>\n                <tbody>\n                <tfoot>\n                    <tr>\n                        <th colspan=\"2\">\n                        Class undefined not found in registry \n                        </th>\n                    </tr>\n                </tfoot>\n                </table>"
      }
     },
     "e8c41950a9d349d2a093b110f66cbb72": {
      "model_module_version": "^2.1.4",
      "state": {
       "description": "x",
       "value": "<table style=\"width:100%\">\n                <thead>\n                    <tr>\n                        <th colspan=\"2\">\n                        Could not create model:\n                        </th>\n                    </tr>\n                </thead>\n                <tbody>\n                    <tr>\n                        <td>Model name</td>\n                        <td> undefined </td>\n                    </tr>\n                    <tr>\n                        <td>Model module</td>\n                        <td> undefined </td>\n                    </tr>\n                    <tr>\n                        <td>Model module version</td>\n                        <td> undefined </td>\n                    </tr>\n                <tbody>\n                <tfoot>\n                    <tr>\n                        <th colspan=\"2\">\n                        Class undefined not found in registry \n                        </th>\n                    </tr>\n                </tfoot>\n                </table>"
      }
     },
     "eef3d499980c484890b8c35cc146b9ed": {
      "model_module_version": "^2.1.4",
      "state": {
       "value": "<table style=\"width:100%\">\n                <thead>\n                    <tr>\n                        <th colspan=\"2\">\n                        Could not create model:\n                        </th>\n                    </tr>\n                </thead>\n                <tbody>\n                    <tr>\n                        <td>Model name</td>\n                        <td> undefined </td>\n                    </tr>\n                    <tr>\n                        <td>Model module</td>\n                        <td> undefined </td>\n                    </tr>\n                    <tr>\n                        <td>Model module version</td>\n                        <td> undefined </td>\n                    </tr>\n                <tbody>\n                <tfoot>\n                    <tr>\n                        <th colspan=\"2\">\n                        Class undefined not found in registry \n                        </th>\n                    </tr>\n                </tfoot>\n                </table>"
      }
     },
     "f43621a7182443dbaba6a026a3ea8c76": {
      "model_module_version": "^2.1.4",
      "state": {
       "value": "<table style=\"width:100%\">\n                <thead>\n                    <tr>\n                        <th colspan=\"2\">\n                        Could not create model:\n                        </th>\n                    </tr>\n                </thead>\n                <tbody>\n                    <tr>\n                        <td>Model name</td>\n                        <td> undefined </td>\n                    </tr>\n                    <tr>\n                        <td>Model module</td>\n                        <td> undefined </td>\n                    </tr>\n                    <tr>\n                        <td>Model module version</td>\n                        <td> undefined </td>\n                    </tr>\n                <tbody>\n                <tfoot>\n                    <tr>\n                        <th colspan=\"2\">\n                        Class undefined not found in registry \n                        </th>\n                    </tr>\n                </tfoot>\n                </table>"
      }
     },
     "f5d70fc558214794b4dd91314f8746c8": {
      "model_module_version": "^2.1.4",
      "state": {
       "value": "<table style=\"width:100%\">\n                <thead>\n                    <tr>\n                        <th colspan=\"2\">\n                        Could not create model:\n                        </th>\n                    </tr>\n                </thead>\n                <tbody>\n                    <tr>\n                        <td>Model name</td>\n                        <td> undefined </td>\n                    </tr>\n                    <tr>\n                        <td>Model module</td>\n                        <td> undefined </td>\n                    </tr>\n                    <tr>\n                        <td>Model module version</td>\n                        <td> undefined </td>\n                    </tr>\n                <tbody>\n                <tfoot>\n                    <tr>\n                        <th colspan=\"2\">\n                        Class undefined not found in registry \n                        </th>\n                    </tr>\n                </tfoot>\n                </table>"
      }
     }
    },
    "version_major": 1,
    "version_minor": 0
   }
  }
 },
 "nbformat": 4,
 "nbformat_minor": 2
}
